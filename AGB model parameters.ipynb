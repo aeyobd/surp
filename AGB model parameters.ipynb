{
 "cells": [
  {
   "cell_type": "code",
   "execution_count": 1,
   "id": "586c42fb",
   "metadata": {},
   "outputs": [],
   "source": [
    "import pandas as pd\n",
    "import matplotlib.pyplot as plt"
   ]
  },
  {
   "cell_type": "code",
   "execution_count": 10,
   "id": "765d1fd0",
   "metadata": {},
   "outputs": [],
   "source": [
    "c15 = pd.read_csv(\"cristallo15.csv\", sep=\"\\s+\")"
   ]
  },
  {
   "cell_type": "code",
   "execution_count": 12,
   "id": "96442d2b",
   "metadata": {},
   "outputs": [],
   "source": [
    "v13 = pd.read_csv(\"ventura13_data.txt\", sep=\"\\s+\")"
   ]
  },
  {
   "cell_type": "code",
   "execution_count": 49,
   "id": "fa62a9bb",
   "metadata": {},
   "outputs": [],
   "source": [
    "k10 = pd.read_csv(\"karakas10_data.csv\", sep=\"\\s+\", skiprows=66)[2:]"
   ]
  },
  {
   "cell_type": "code",
   "execution_count": 29,
   "id": "97f9d2c5",
   "metadata": {},
   "outputs": [
    {
     "data": {
      "text/plain": [
       "array([1.3, 1.5, 2. , 2.5, 3. , 4. , 5. , 6. ])"
      ]
     },
     "execution_count": 29,
     "metadata": {},
     "output_type": "execute_result"
    }
   ],
   "source": [
    "c15.MASS.unique()"
   ]
  },
  {
   "cell_type": "code",
   "execution_count": 31,
   "id": "239f52cb",
   "metadata": {},
   "outputs": [
    {
     "data": {
      "text/plain": [
       "array([1.5, 2. , 2.5, 3. , 3.5, 4. , 4.2, 4.5, 4.7, 5. , 5.5, 6. , 6.5,\n",
       "       7. , 7.2, 7.5, 6.3, 8. ])"
      ]
     },
     "execution_count": 31,
     "metadata": {},
     "output_type": "execute_result"
    }
   ],
   "source": [
    "v13.mass.unique()"
   ]
  },
  {
   "cell_type": "code",
   "execution_count": 34,
   "id": "a3fbfa01",
   "metadata": {},
   "outputs": [
    {
     "data": {
      "text/plain": [
       "array(['4.50', '5.50', '2.10', '1.00', '1.50', '1.90', '3.00', '3.50',\n",
       "       '4.00', '5.00', '6.00'], dtype=object)"
      ]
     },
     "execution_count": 34,
     "metadata": {},
     "output_type": "execute_result"
    }
   ],
   "source": [
    "k10.M0.unique()"
   ]
  },
  {
   "cell_type": "code",
   "execution_count": 38,
   "id": "4e580d96",
   "metadata": {},
   "outputs": [
    {
     "data": {
      "text/plain": [
       "array([2.0e-05, 5.0e-05, 1.0e-04, 3.0e-04, 1.0e-03, 2.0e-03, 3.0e-03,\n",
       "       6.0e-03, 8.0e-03, 1.0e-02, 1.4e-02, 2.0e-02])"
      ]
     },
     "execution_count": 38,
     "metadata": {},
     "output_type": "execute_result"
    }
   ],
   "source": [
    "c15.METALLICITY.unique()"
   ]
  },
  {
   "cell_type": "code",
   "execution_count": 41,
   "id": "05639896",
   "metadata": {},
   "outputs": [
    {
     "data": {
      "text/plain": [
       "array([0.0003, 0.001 , 0.008 ])"
      ]
     },
     "execution_count": 41,
     "metadata": {},
     "output_type": "execute_result"
    }
   ],
   "source": [
    "v13.Z.unique()"
   ]
  },
  {
   "cell_type": "code",
   "execution_count": 43,
   "id": "dd70b380",
   "metadata": {},
   "outputs": [
    {
     "data": {
      "text/plain": [
       "array(['0.0200', '0.0080', '0.0040', '0.0001'], dtype=object)"
      ]
     },
     "execution_count": 43,
     "metadata": {},
     "output_type": "execute_result"
    }
   ],
   "source": [
    "k10.Z0.unique()"
   ]
  },
  {
   "cell_type": "code",
   "execution_count": 44,
   "id": "73dff4bc",
   "metadata": {},
   "outputs": [
    {
     "data": {
      "text/plain": [
       "Index(['M0', 'Z0', 'Pulse', 'Mcore', 'Mcsh', 'tcsh', 'Ddredge', 'lam',\n",
       "       'lam.dup', 'T(He-sh)', 'Tbce', 'T(H-sh)', 'iPulse', 'Mtot', 'Lmax',\n",
       "       'LHe.max', 'Rmax', 'Mbol', 'Teff', 'Yields'],\n",
       "      dtype='object')"
      ]
     },
     "execution_count": 44,
     "metadata": {},
     "output_type": "execute_result"
    }
   ],
   "source": [
    "k10.columns"
   ]
  },
  {
   "cell_type": "code",
   "execution_count": 45,
   "id": "a28eb57f",
   "metadata": {},
   "outputs": [
    {
     "data": {
      "text/plain": [
       "Index(['Z', 'mass', 't_evo', 'Np', 't_i', 'Mc1PT', 'M_c', 'T_bce'], dtype='object')"
      ]
     },
     "execution_count": 45,
     "metadata": {},
     "output_type": "execute_result"
    }
   ],
   "source": [
    "v13.columns"
   ]
  },
  {
   "cell_type": "code",
   "execution_count": 64,
   "id": "32d35a48",
   "metadata": {},
   "outputs": [
    {
     "data": {
      "text/plain": [
       "2      False\n",
       "3      False\n",
       "4      False\n",
       "5      False\n",
       "6      False\n",
       "       ...  \n",
       "724    False\n",
       "725    False\n",
       "726    False\n",
       "727    False\n",
       "728    False\n",
       "Name: Z0, Length: 727, dtype: bool"
      ]
     },
     "execution_count": 64,
     "metadata": {},
     "output_type": "execute_result"
    }
   ],
   "source": [
    "k10.Z0 == \"0.008\""
   ]
  },
  {
   "cell_type": "code",
   "execution_count": 46,
   "id": "37a817cf",
   "metadata": {},
   "outputs": [
    {
     "data": {
      "text/plain": [
       "Index(['MASS', 'METALLICITY', 'IRV', '13C', 'Pocket', 'TP', 'DTIP', 'DMTDU',\n",
       "       'TMAX_CS'],\n",
       "      dtype='object')"
      ]
     },
     "execution_count": 46,
     "metadata": {},
     "output_type": "execute_result"
    }
   ],
   "source": [
    "c15.columns"
   ]
  },
  {
   "cell_type": "code",
   "execution_count": 88,
   "id": "9e3ae04f",
   "metadata": {},
   "outputs": [
    {
     "data": {
      "text/plain": [
       "Text(0, 0.5, 'T_BCE (K)')"
      ]
     },
     "execution_count": 88,
     "metadata": {},
     "output_type": "execute_result"
    },
    {
     "data": {
      "image/png": "[encoded data removed]",
      "text/plain": [
       "<Figure size 432x288 with 1 Axes>"
      ]
     },
     "metadata": {
      "needs_background": "light"
     },
     "output_type": "display_data"
    }
   ],
   "source": [
    "df = k10[k10.Z0 == '0.0001']\n",
    "plt.plot(df.M0.astype(\"float\"), df.Tbce.astype(\"float\"))\n",
    "plt.xlabel(\"ZAMS\")\n",
    "plt.ylabel(\"T_BCE (K)\")\n",
    "\n"
   ]
  },
  {
   "cell_type": "code",
   "execution_count": 86,
   "id": "ac667f72",
   "metadata": {},
   "outputs": [
    {
     "data": {
      "text/plain": [
       "array(['0.0001'], dtype=object)"
      ]
     },
     "execution_count": 86,
     "metadata": {},
     "output_type": "execute_result"
    }
   ],
   "source": [
    "k10[k10.M0 == \"4.00\"].Z0.unique()"
   ]
  },
  {
   "cell_type": "code",
   "execution_count": null,
   "id": "b726d45b",
   "metadata": {},
   "outputs": [],
   "source": []
  }
 ],
 "metadata": {
  "kernelspec": {
   "display_name": "Python 3",
   "language": "python",
   "name": "python3"
  },
  "language_info": {
   "codemirror_mode": {
    "name": "ipython",
    "version": 3
   },
   "file_extension": ".py",
   "mimetype": "text/x-python",
   "name": "python",
   "nbconvert_exporter": "python",
   "pygments_lexer": "ipython3",
   "version": "3.8.10"
  }
 },
 "nbformat": 4,
 "nbformat_minor": 5
}
