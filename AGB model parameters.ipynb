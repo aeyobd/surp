{
 "cells": [
  {
   "cell_type": "code",
   "execution_count": 2,
   "id": "ebac8735",
   "metadata": {},
   "outputs": [],
   "source": [
    "import pandas as pd\n",
    "import matplotlib.pyplot as plt\n",
    "import numpy as np\n",
    "from plotting import fig_saver"
   ]
  },
  {
   "cell_type": "code",
   "execution_count": 3,
   "id": "90b0206a",
   "metadata": {},
   "outputs": [],
   "source": [
    "sf = fig_saver(\"./figures\")"
   ]
  },
  {
   "cell_type": "code",
   "execution_count": 4,
   "id": "a99deeca",
   "metadata": {},
   "outputs": [],
   "source": [
    "c15 = pd.read_csv(\"cristallo15.csv\", sep=\"\\s+\")"
   ]
  },
  {
   "cell_type": "code",
   "execution_count": 5,
   "id": "c9b1e394",
   "metadata": {},
   "outputs": [],
   "source": [
    "v13 = pd.read_csv(\"ventura13_data.txt\", sep=\"\\s+\")"
   ]
  },
  {
   "cell_type": "code",
   "execution_count": 6,
   "id": "aca23894",
   "metadata": {},
   "outputs": [],
   "source": [
    "k10 = pd.read_csv(\"karakas10_data.csv\", sep=\"\\s+\", skiprows=68)"
   ]
  },
  {
   "cell_type": "code",
   "execution_count": 29,
   "id": "e4dea591",
   "metadata": {},
   "outputs": [
    {
     "data": {
      "text/plain": [
       "array([1.3, 1.5, 2. , 2.5, 3. , 4. , 5. , 6. ])"
      ]
     },
     "execution_count": 29,
     "metadata": {},
     "output_type": "execute_result"
    }
   ],
   "source": [
    "c15.MASS.unique()"
   ]
  },
  {
   "cell_type": "code",
   "execution_count": 31,
   "id": "c172b8d0",
   "metadata": {},
   "outputs": [
    {
     "data": {
      "text/plain": [
       "array([1.5, 2. , 2.5, 3. , 3.5, 4. , 4.2, 4.5, 4.7, 5. , 5.5, 6. , 6.5,\n",
       "       7. , 7.2, 7.5, 6.3, 8. ])"
      ]
     },
     "execution_count": 31,
     "metadata": {},
     "output_type": "execute_result"
    }
   ],
   "source": [
    "v13.mass.unique()"
   ]
  },
  {
   "cell_type": "code",
   "execution_count": 34,
   "id": "f895bdb9",
   "metadata": {},
   "outputs": [
    {
     "data": {
      "text/plain": [
       "array(['4.50', '5.50', '2.10', '1.00', '1.50', '1.90', '3.00', '3.50',\n",
       "       '4.00', '5.00', '6.00'], dtype=object)"
      ]
     },
     "execution_count": 34,
     "metadata": {},
     "output_type": "execute_result"
    }
   ],
   "source": [
    "k10.M0.unique()"
   ]
  },
  {
   "cell_type": "code",
   "execution_count": 38,
   "id": "06831843",
   "metadata": {},
   "outputs": [
    {
     "data": {
      "text/plain": [
       "array([2.0e-05, 5.0e-05, 1.0e-04, 3.0e-04, 1.0e-03, 2.0e-03, 3.0e-03,\n",
       "       6.0e-03, 8.0e-03, 1.0e-02, 1.4e-02, 2.0e-02])"
      ]
     },
     "execution_count": 38,
     "metadata": {},
     "output_type": "execute_result"
    }
   ],
   "source": [
    "c15.METALLICITY.unique()"
   ]
  },
  {
   "cell_type": "code",
   "execution_count": 41,
   "id": "6cac0060",
   "metadata": {},
   "outputs": [
    {
     "data": {
      "text/plain": [
       "array([0.0003, 0.001 , 0.008 ])"
      ]
     },
     "execution_count": 41,
     "metadata": {},
     "output_type": "execute_result"
    }
   ],
   "source": [
    "v13.Z.unique()"
   ]
  },
  {
   "cell_type": "code",
   "execution_count": 92,
   "id": "2d81bf7e",
   "metadata": {},
   "outputs": [],
   "source": [
    "pd.DataFrame.groupby?"
   ]
  },
  {
   "cell_type": "code",
   "execution_count": 145,
   "id": "fbb8f309",
   "metadata": {},
   "outputs": [
    {
     "data": {
      "text/plain": [
       "array([0.02  , 0.008 , 0.004 , 0.0001])"
      ]
     },
     "execution_count": 145,
     "metadata": {},
     "output_type": "execute_result"
    }
   ],
   "source": [
    "k10.Z0.unique()"
   ]
  },
  {
   "cell_type": "code",
   "execution_count": 44,
   "id": "ecf5030e",
   "metadata": {},
   "outputs": [
    {
     "data": {
      "text/plain": [
       "Index(['M0', 'Z0', 'Pulse', 'Mcore', 'Mcsh', 'tcsh', 'Ddredge', 'lam',\n",
       "       'lam.dup', 'T(He-sh)', 'Tbce', 'T(H-sh)', 'iPulse', 'Mtot', 'Lmax',\n",
       "       'LHe.max', 'Rmax', 'Mbol', 'Teff', 'Yields'],\n",
       "      dtype='object')"
      ]
     },
     "execution_count": 44,
     "metadata": {},
     "output_type": "execute_result"
    }
   ],
   "source": [
    "k10.columns"
   ]
  },
  {
   "cell_type": "code",
   "execution_count": 45,
   "id": "385b0489",
   "metadata": {},
   "outputs": [
    {
     "data": {
      "text/plain": [
       "Index(['Z', 'mass', 't_evo', 'Np', 't_i', 'Mc1PT', 'M_c', 'T_bce'], dtype='object')"
      ]
     },
     "execution_count": 45,
     "metadata": {},
     "output_type": "execute_result"
    }
   ],
   "source": [
    "v13.columns"
   ]
  },
  {
   "cell_type": "code",
   "execution_count": 150,
   "id": "2d9f848a",
   "metadata": {},
   "outputs": [],
   "source": [
    "M = {}\n",
    "M[\"v13\"] = v13.mass\n",
    "M[\"k10\"] = k10.M0\n",
    "M[\"c15\"] = c15.MASS\n",
    "\n",
    "Z = {}\n",
    "Z[\"v13\"] = v13.Z\n",
    "Z[\"k10\"] = k10.Z0\n",
    "Z[\"c15\"] = c15.METALLICITY\n",
    "\n",
    "Np = {}\n",
    "Np[\"v13\"] = v13.Np\n",
    "Np[\"k10\"] = k10.groupby([\"M0\", \"Z0\"]).max(\"Pulse\")\n",
    "\n",
    "Tbce = {}\n",
    "Tbce[\"k10\"] = k10.groupby([\"M0\", \"Z0\"]).max(\"Tbce\")"
   ]
  },
  {
   "cell_type": "code",
   "execution_count": 170,
   "id": "86324a44",
   "metadata": {},
   "outputs": [
    {
     "data": {
      "text/html": [
       "<div>\n",
       "<style scoped>\n",
       "    .dataframe tbody tr th:only-of-type {\n",
       "        vertical-align: middle;\n",
       "    }\n",
       "\n",
       "    .dataframe tbody tr th {\n",
       "        vertical-align: top;\n",
       "    }\n",
       "\n",
       "    .dataframe thead th {\n",
       "        text-align: right;\n",
       "    }\n",
       "</style>\n",
       "<table border=\"1\" class=\"dataframe\">\n",
       "  <thead>\n",
       "    <tr style=\"text-align: right;\">\n",
       "      <th></th>\n",
       "      <th>MASS</th>\n",
       "      <th>METALLICITY</th>\n",
       "      <th>IRV</th>\n",
       "      <th>13C</th>\n",
       "      <th>Pocket</th>\n",
       "      <th>TP</th>\n",
       "      <th>DTIP</th>\n",
       "      <th>DMTDU</th>\n",
       "      <th>TMAX_CS</th>\n",
       "    </tr>\n",
       "  </thead>\n",
       "  <tbody>\n",
       "    <tr>\n",
       "      <th>0</th>\n",
       "      <td>1.3</td>\n",
       "      <td>0.00002</td>\n",
       "      <td>0</td>\n",
       "      <td>STANDARD</td>\n",
       "      <td>9</td>\n",
       "      <td>102400.0</td>\n",
       "      <td>0.000000</td>\n",
       "      <td>276300000.0</td>\n",
       "      <td>NaN</td>\n",
       "    </tr>\n",
       "    <tr>\n",
       "      <th>1</th>\n",
       "      <td>1.3</td>\n",
       "      <td>0.00005</td>\n",
       "      <td>0</td>\n",
       "      <td>STANDARD</td>\n",
       "      <td>17</td>\n",
       "      <td>57590.0</td>\n",
       "      <td>0.000000</td>\n",
       "      <td>289100000.0</td>\n",
       "      <td>NaN</td>\n",
       "    </tr>\n",
       "    <tr>\n",
       "      <th>2</th>\n",
       "      <td>1.3</td>\n",
       "      <td>0.00010</td>\n",
       "      <td>0</td>\n",
       "      <td>STANDARD</td>\n",
       "      <td>15</td>\n",
       "      <td>60250.0</td>\n",
       "      <td>0.000000</td>\n",
       "      <td>286800000.0</td>\n",
       "      <td>NaN</td>\n",
       "    </tr>\n",
       "    <tr>\n",
       "      <th>3</th>\n",
       "      <td>1.3</td>\n",
       "      <td>0.00030</td>\n",
       "      <td>0</td>\n",
       "      <td>STANDARD</td>\n",
       "      <td>11</td>\n",
       "      <td>94230.0</td>\n",
       "      <td>0.000000</td>\n",
       "      <td>286100000.0</td>\n",
       "      <td>NaN</td>\n",
       "    </tr>\n",
       "    <tr>\n",
       "      <th>4</th>\n",
       "      <td>1.3</td>\n",
       "      <td>0.00100</td>\n",
       "      <td>0</td>\n",
       "      <td>STANDARD</td>\n",
       "      <td>10</td>\n",
       "      <td>107500.0</td>\n",
       "      <td>0.000000</td>\n",
       "      <td>194000000.0</td>\n",
       "      <td>NaN</td>\n",
       "    </tr>\n",
       "    <tr>\n",
       "      <th>...</th>\n",
       "      <td>...</td>\n",
       "      <td>...</td>\n",
       "      <td>...</td>\n",
       "      <td>...</td>\n",
       "      <td>...</td>\n",
       "      <td>...</td>\n",
       "      <td>...</td>\n",
       "      <td>...</td>\n",
       "      <td>...</td>\n",
       "    </tr>\n",
       "    <tr>\n",
       "      <th>81</th>\n",
       "      <td>6.0</td>\n",
       "      <td>0.00600</td>\n",
       "      <td>0</td>\n",
       "      <td>STANDARD</td>\n",
       "      <td>24</td>\n",
       "      <td>2998.0</td>\n",
       "      <td>0.000021</td>\n",
       "      <td>343300000.0</td>\n",
       "      <td>NaN</td>\n",
       "    </tr>\n",
       "    <tr>\n",
       "      <th>82</th>\n",
       "      <td>6.0</td>\n",
       "      <td>0.00800</td>\n",
       "      <td>0</td>\n",
       "      <td>STANDARD</td>\n",
       "      <td>20</td>\n",
       "      <td>3833.0</td>\n",
       "      <td>0.000082</td>\n",
       "      <td>339700000.0</td>\n",
       "      <td>NaN</td>\n",
       "    </tr>\n",
       "    <tr>\n",
       "      <th>83</th>\n",
       "      <td>6.0</td>\n",
       "      <td>0.01000</td>\n",
       "      <td>0</td>\n",
       "      <td>STANDARD</td>\n",
       "      <td>17</td>\n",
       "      <td>4849.0</td>\n",
       "      <td>0.000233</td>\n",
       "      <td>336300000.0</td>\n",
       "      <td>NaN</td>\n",
       "    </tr>\n",
       "    <tr>\n",
       "      <th>84</th>\n",
       "      <td>6.0</td>\n",
       "      <td>0.01400</td>\n",
       "      <td>0</td>\n",
       "      <td>STANDARD</td>\n",
       "      <td>18</td>\n",
       "      <td>4094.0</td>\n",
       "      <td>0.000003</td>\n",
       "      <td>329100000.0</td>\n",
       "      <td>NaN</td>\n",
       "    </tr>\n",
       "    <tr>\n",
       "      <th>85</th>\n",
       "      <td>6.0</td>\n",
       "      <td>0.02000</td>\n",
       "      <td>0</td>\n",
       "      <td>STANDARD</td>\n",
       "      <td>14</td>\n",
       "      <td>5068.0</td>\n",
       "      <td>0.000000</td>\n",
       "      <td>318700000.0</td>\n",
       "      <td>NaN</td>\n",
       "    </tr>\n",
       "  </tbody>\n",
       "</table>\n",
       "<p>86 rows × 9 columns</p>\n",
       "</div>"
      ],
      "text/plain": [
       "    MASS  METALLICITY  IRV       13C  Pocket        TP      DTIP        DMTDU  \\\n",
       "0    1.3      0.00002    0  STANDARD       9  102400.0  0.000000  276300000.0   \n",
       "1    1.3      0.00005    0  STANDARD      17   57590.0  0.000000  289100000.0   \n",
       "2    1.3      0.00010    0  STANDARD      15   60250.0  0.000000  286800000.0   \n",
       "3    1.3      0.00030    0  STANDARD      11   94230.0  0.000000  286100000.0   \n",
       "4    1.3      0.00100    0  STANDARD      10  107500.0  0.000000  194000000.0   \n",
       "..   ...          ...  ...       ...     ...       ...       ...          ...   \n",
       "81   6.0      0.00600    0  STANDARD      24    2998.0  0.000021  343300000.0   \n",
       "82   6.0      0.00800    0  STANDARD      20    3833.0  0.000082  339700000.0   \n",
       "83   6.0      0.01000    0  STANDARD      17    4849.0  0.000233  336300000.0   \n",
       "84   6.0      0.01400    0  STANDARD      18    4094.0  0.000003  329100000.0   \n",
       "85   6.0      0.02000    0  STANDARD      14    5068.0  0.000000  318700000.0   \n",
       "\n",
       "    TMAX_CS  \n",
       "0       NaN  \n",
       "1       NaN  \n",
       "2       NaN  \n",
       "3       NaN  \n",
       "4       NaN  \n",
       "..      ...  \n",
       "81      NaN  \n",
       "82      NaN  \n",
       "83      NaN  \n",
       "84      NaN  \n",
       "85      NaN  \n",
       "\n",
       "[86 rows x 9 columns]"
      ]
     },
     "execution_count": 170,
     "metadata": {},
     "output_type": "execute_result"
    }
   ],
   "source": [
    "c15"
   ]
  },
  {
   "cell_type": "code",
   "execution_count": 175,
   "id": "b3c10187",
   "metadata": {},
   "outputs": [
    {
     "data": {
      "text/html": [
       "<div>\n",
       "<style scoped>\n",
       "    .dataframe tbody tr th:only-of-type {\n",
       "        vertical-align: middle;\n",
       "    }\n",
       "\n",
       "    .dataframe tbody tr th {\n",
       "        vertical-align: top;\n",
       "    }\n",
       "\n",
       "    .dataframe thead th {\n",
       "        text-align: right;\n",
       "    }\n",
       "</style>\n",
       "<table border=\"1\" class=\"dataframe\">\n",
       "  <thead>\n",
       "    <tr style=\"text-align: right;\">\n",
       "      <th></th>\n",
       "      <th></th>\n",
       "      <th>Pulse</th>\n",
       "      <th>Mcore</th>\n",
       "      <th>Mcsh</th>\n",
       "      <th>tcsh</th>\n",
       "      <th>Ddredge</th>\n",
       "      <th>lam</th>\n",
       "      <th>lam.dup</th>\n",
       "      <th>T(He-sh)</th>\n",
       "      <th>Tbce</th>\n",
       "      <th>T(H-sh)</th>\n",
       "      <th>iPulse</th>\n",
       "      <th>Mtot</th>\n",
       "      <th>Lmax</th>\n",
       "      <th>LHe.max</th>\n",
       "      <th>Rmax</th>\n",
       "      <th>Mbol</th>\n",
       "      <th>Teff</th>\n",
       "    </tr>\n",
       "    <tr>\n",
       "      <th>M0</th>\n",
       "      <th>Z0</th>\n",
       "      <th></th>\n",
       "      <th></th>\n",
       "      <th></th>\n",
       "      <th></th>\n",
       "      <th></th>\n",
       "      <th></th>\n",
       "      <th></th>\n",
       "      <th></th>\n",
       "      <th></th>\n",
       "      <th></th>\n",
       "      <th></th>\n",
       "      <th></th>\n",
       "      <th></th>\n",
       "      <th></th>\n",
       "      <th></th>\n",
       "      <th></th>\n",
       "      <th></th>\n",
       "    </tr>\n",
       "  </thead>\n",
       "  <tbody>\n",
       "    <tr>\n",
       "      <th>1.0</th>\n",
       "      <th>0.0001</th>\n",
       "      <td>26</td>\n",
       "      <td>0.723</td>\n",
       "      <td>0.04470</td>\n",
       "      <td>648.1</td>\n",
       "      <td>0.00230</td>\n",
       "      <td>0.180</td>\n",
       "      <td>0.060037</td>\n",
       "      <td>298000000.0</td>\n",
       "      <td>1450000.0</td>\n",
       "      <td>74200000.0</td>\n",
       "      <td>495000.0</td>\n",
       "      <td>0.924</td>\n",
       "      <td>12200.0</td>\n",
       "      <td>7.060000e+07</td>\n",
       "      <td>260.0</td>\n",
       "      <td>-2.77</td>\n",
       "      <td>4701</td>\n",
       "    </tr>\n",
       "    <tr>\n",
       "      <th>1.5</th>\n",
       "      <th>0.0001</th>\n",
       "      <td>18</td>\n",
       "      <td>0.657</td>\n",
       "      <td>0.03820</td>\n",
       "      <td>371.0</td>\n",
       "      <td>0.00490</td>\n",
       "      <td>0.512</td>\n",
       "      <td>0.253914</td>\n",
       "      <td>282000000.0</td>\n",
       "      <td>3430000.0</td>\n",
       "      <td>67600000.0</td>\n",
       "      <td>356000.0</td>\n",
       "      <td>1.469</td>\n",
       "      <td>11000.0</td>\n",
       "      <td>5.820000e+07</td>\n",
       "      <td>418.0</td>\n",
       "      <td>-3.58</td>\n",
       "      <td>4745</td>\n",
       "    </tr>\n",
       "    <tr>\n",
       "      <th>1.9</th>\n",
       "      <th>0.0001</th>\n",
       "      <td>24</td>\n",
       "      <td>0.680</td>\n",
       "      <td>0.02530</td>\n",
       "      <td>261.3</td>\n",
       "      <td>0.00997</td>\n",
       "      <td>0.803</td>\n",
       "      <td>0.488312</td>\n",
       "      <td>300000000.0</td>\n",
       "      <td>7370000.0</td>\n",
       "      <td>70800000.0</td>\n",
       "      <td>158000.0</td>\n",
       "      <td>1.882</td>\n",
       "      <td>14200.0</td>\n",
       "      <td>2.200000e+08</td>\n",
       "      <td>496.0</td>\n",
       "      <td>-3.95</td>\n",
       "      <td>4677</td>\n",
       "    </tr>\n",
       "    <tr>\n",
       "      <th>2.1</th>\n",
       "      <th>0.0040</th>\n",
       "      <td>20</td>\n",
       "      <td>0.647</td>\n",
       "      <td>0.03410</td>\n",
       "      <td>431.4</td>\n",
       "      <td>0.00779</td>\n",
       "      <td>0.682</td>\n",
       "      <td>0.372438</td>\n",
       "      <td>290000000.0</td>\n",
       "      <td>3810000.0</td>\n",
       "      <td>64100000.0</td>\n",
       "      <td>176000.0</td>\n",
       "      <td>2.073</td>\n",
       "      <td>10300.0</td>\n",
       "      <td>1.250000e+08</td>\n",
       "      <td>449.0</td>\n",
       "      <td>-3.49</td>\n",
       "      <td>4255</td>\n",
       "    </tr>\n",
       "    <tr>\n",
       "      <th>3.0</th>\n",
       "      <th>0.0001</th>\n",
       "      <td>20</td>\n",
       "      <td>0.812</td>\n",
       "      <td>0.00898</td>\n",
       "      <td>53.2</td>\n",
       "      <td>0.00765</td>\n",
       "      <td>1.020</td>\n",
       "      <td>0.859707</td>\n",
       "      <td>354000000.0</td>\n",
       "      <td>39600000.0</td>\n",
       "      <td>84800000.0</td>\n",
       "      <td>29300.0</td>\n",
       "      <td>2.965</td>\n",
       "      <td>20400.0</td>\n",
       "      <td>1.790000e+09</td>\n",
       "      <td>507.0</td>\n",
       "      <td>-5.29</td>\n",
       "      <td>4525</td>\n",
       "    </tr>\n",
       "    <tr>\n",
       "      <th>3.5</th>\n",
       "      <th>0.0001</th>\n",
       "      <td>27</td>\n",
       "      <td>0.854</td>\n",
       "      <td>0.00663</td>\n",
       "      <td>48.9</td>\n",
       "      <td>0.00555</td>\n",
       "      <td>1.060</td>\n",
       "      <td>0.862659</td>\n",
       "      <td>370000000.0</td>\n",
       "      <td>75900000.0</td>\n",
       "      <td>89900000.0</td>\n",
       "      <td>18700.0</td>\n",
       "      <td>3.459</td>\n",
       "      <td>28400.0</td>\n",
       "      <td>1.410000e+09</td>\n",
       "      <td>503.0</td>\n",
       "      <td>-5.50</td>\n",
       "      <td>4530</td>\n",
       "    </tr>\n",
       "    <tr>\n",
       "      <th>4.0</th>\n",
       "      <th>0.0001</th>\n",
       "      <td>37</td>\n",
       "      <td>0.874</td>\n",
       "      <td>0.00510</td>\n",
       "      <td>77.1</td>\n",
       "      <td>0.00463</td>\n",
       "      <td>0.975</td>\n",
       "      <td>1.214986</td>\n",
       "      <td>353000000.0</td>\n",
       "      <td>82900000.0</td>\n",
       "      <td>92500000.0</td>\n",
       "      <td>12500.0</td>\n",
       "      <td>3.963</td>\n",
       "      <td>38300.0</td>\n",
       "      <td>7.740000e+08</td>\n",
       "      <td>401.0</td>\n",
       "      <td>-5.66</td>\n",
       "      <td>4540</td>\n",
       "    </tr>\n",
       "    <tr>\n",
       "      <th rowspan=\"4\" valign=\"top\">4.5</th>\n",
       "      <th>0.0001</th>\n",
       "      <td>41</td>\n",
       "      <td>0.897</td>\n",
       "      <td>0.00406</td>\n",
       "      <td>78.0</td>\n",
       "      <td>0.00352</td>\n",
       "      <td>0.967</td>\n",
       "      <td>1.039225</td>\n",
       "      <td>352000000.0</td>\n",
       "      <td>87200000.0</td>\n",
       "      <td>95000000.0</td>\n",
       "      <td>10400.0</td>\n",
       "      <td>4.456</td>\n",
       "      <td>44200.0</td>\n",
       "      <td>4.160000e+08</td>\n",
       "      <td>426.0</td>\n",
       "      <td>-5.73</td>\n",
       "      <td>4559</td>\n",
       "    </tr>\n",
       "    <tr>\n",
       "      <th>0.0040</th>\n",
       "      <td>50</td>\n",
       "      <td>0.874</td>\n",
       "      <td>0.00522</td>\n",
       "      <td>37.7</td>\n",
       "      <td>0.00452</td>\n",
       "      <td>0.986</td>\n",
       "      <td>0.869020</td>\n",
       "      <td>366000000.0</td>\n",
       "      <td>78700000.0</td>\n",
       "      <td>85300000.0</td>\n",
       "      <td>12200.0</td>\n",
       "      <td>4.468</td>\n",
       "      <td>34200.0</td>\n",
       "      <td>8.020000e+08</td>\n",
       "      <td>667.0</td>\n",
       "      <td>-5.91</td>\n",
       "      <td>3769</td>\n",
       "    </tr>\n",
       "    <tr>\n",
       "      <th>0.0080</th>\n",
       "      <td>38</td>\n",
       "      <td>0.861</td>\n",
       "      <td>0.00588</td>\n",
       "      <td>52.0</td>\n",
       "      <td>0.00496</td>\n",
       "      <td>0.980</td>\n",
       "      <td>0.852440</td>\n",
       "      <td>372000000.0</td>\n",
       "      <td>73800000.0</td>\n",
       "      <td>82800000.0</td>\n",
       "      <td>15500.0</td>\n",
       "      <td>4.471</td>\n",
       "      <td>29700.0</td>\n",
       "      <td>1.040000e+09</td>\n",
       "      <td>690.0</td>\n",
       "      <td>-5.80</td>\n",
       "      <td>3630</td>\n",
       "    </tr>\n",
       "    <tr>\n",
       "      <th>0.0200</th>\n",
       "      <td>21</td>\n",
       "      <td>0.853</td>\n",
       "      <td>0.00577</td>\n",
       "      <td>49.9</td>\n",
       "      <td>0.00432</td>\n",
       "      <td>0.989</td>\n",
       "      <td>0.760184</td>\n",
       "      <td>349000000.0</td>\n",
       "      <td>46700000.0</td>\n",
       "      <td>78400000.0</td>\n",
       "      <td>14000.0</td>\n",
       "      <td>4.476</td>\n",
       "      <td>24200.0</td>\n",
       "      <td>3.760000e+08</td>\n",
       "      <td>807.0</td>\n",
       "      <td>-5.86</td>\n",
       "      <td>3337</td>\n",
       "    </tr>\n",
       "    <tr>\n",
       "      <th>5.0</th>\n",
       "      <th>0.0001</th>\n",
       "      <td>56</td>\n",
       "      <td>0.929</td>\n",
       "      <td>0.00336</td>\n",
       "      <td>30.5</td>\n",
       "      <td>0.00308</td>\n",
       "      <td>0.966</td>\n",
       "      <td>0.916480</td>\n",
       "      <td>363000000.0</td>\n",
       "      <td>92500000.0</td>\n",
       "      <td>98600000.0</td>\n",
       "      <td>7520.0</td>\n",
       "      <td>4.968</td>\n",
       "      <td>53300.0</td>\n",
       "      <td>5.420000e+08</td>\n",
       "      <td>465.0</td>\n",
       "      <td>-5.91</td>\n",
       "      <td>4569</td>\n",
       "    </tr>\n",
       "    <tr>\n",
       "      <th rowspan=\"4\" valign=\"top\">5.5</th>\n",
       "      <th>0.0001</th>\n",
       "      <td>77</td>\n",
       "      <td>0.966</td>\n",
       "      <td>0.00289</td>\n",
       "      <td>30.6</td>\n",
       "      <td>0.00251</td>\n",
       "      <td>1.020</td>\n",
       "      <td>0.925049</td>\n",
       "      <td>369000000.0</td>\n",
       "      <td>98200000.0</td>\n",
       "      <td>103000000.0</td>\n",
       "      <td>6020.0</td>\n",
       "      <td>5.472</td>\n",
       "      <td>944000.0</td>\n",
       "      <td>8.580000e+08</td>\n",
       "      <td>508.0</td>\n",
       "      <td>0.00</td>\n",
       "      <td>4574</td>\n",
       "    </tr>\n",
       "    <tr>\n",
       "      <th>0.0040</th>\n",
       "      <td>71</td>\n",
       "      <td>0.932</td>\n",
       "      <td>0.00349</td>\n",
       "      <td>31.3</td>\n",
       "      <td>0.00299</td>\n",
       "      <td>0.977</td>\n",
       "      <td>0.855286</td>\n",
       "      <td>370000000.0</td>\n",
       "      <td>87500000.0</td>\n",
       "      <td>91900000.0</td>\n",
       "      <td>9770.0</td>\n",
       "      <td>5.461</td>\n",
       "      <td>47300.0</td>\n",
       "      <td>6.880000e+08</td>\n",
       "      <td>708.0</td>\n",
       "      <td>-6.14</td>\n",
       "      <td>3843</td>\n",
       "    </tr>\n",
       "    <tr>\n",
       "      <th>0.0080</th>\n",
       "      <td>56</td>\n",
       "      <td>0.907</td>\n",
       "      <td>0.00440</td>\n",
       "      <td>31.5</td>\n",
       "      <td>0.00375</td>\n",
       "      <td>1.020</td>\n",
       "      <td>0.886247</td>\n",
       "      <td>370000000.0</td>\n",
       "      <td>83300000.0</td>\n",
       "      <td>87900000.0</td>\n",
       "      <td>10200.0</td>\n",
       "      <td>5.456</td>\n",
       "      <td>40500.0</td>\n",
       "      <td>1.120000e+09</td>\n",
       "      <td>756.0</td>\n",
       "      <td>-6.01</td>\n",
       "      <td>3643</td>\n",
       "    </tr>\n",
       "    <tr>\n",
       "      <th>0.0200</th>\n",
       "      <td>36</td>\n",
       "      <td>0.900</td>\n",
       "      <td>0.00419</td>\n",
       "      <td>37.8</td>\n",
       "      <td>0.00338</td>\n",
       "      <td>0.962</td>\n",
       "      <td>0.807810</td>\n",
       "      <td>367000000.0</td>\n",
       "      <td>79300000.0</td>\n",
       "      <td>85100000.0</td>\n",
       "      <td>8790.0</td>\n",
       "      <td>5.463</td>\n",
       "      <td>36100.0</td>\n",
       "      <td>4.630000e+08</td>\n",
       "      <td>836.0</td>\n",
       "      <td>-6.12</td>\n",
       "      <td>3413</td>\n",
       "    </tr>\n",
       "    <tr>\n",
       "      <th>6.0</th>\n",
       "      <th>0.0001</th>\n",
       "      <td>109</td>\n",
       "      <td>1.008</td>\n",
       "      <td>0.00231</td>\n",
       "      <td>27.1</td>\n",
       "      <td>0.00225</td>\n",
       "      <td>1.690</td>\n",
       "      <td>0.974942</td>\n",
       "      <td>379000000.0</td>\n",
       "      <td>105000000.0</td>\n",
       "      <td>111000000.0</td>\n",
       "      <td>3790.0</td>\n",
       "      <td>5.974</td>\n",
       "      <td>282000.0</td>\n",
       "      <td>5.420000e+08</td>\n",
       "      <td>554.0</td>\n",
       "      <td>-6.28</td>\n",
       "      <td>4575</td>\n",
       "    </tr>\n",
       "  </tbody>\n",
       "</table>\n",
       "</div>"
      ],
      "text/plain": [
       "            Pulse  Mcore     Mcsh   tcsh  Ddredge    lam   lam.dup  \\\n",
       "M0  Z0                                                               \n",
       "1.0 0.0001     26  0.723  0.04470  648.1  0.00230  0.180  0.060037   \n",
       "1.5 0.0001     18  0.657  0.03820  371.0  0.00490  0.512  0.253914   \n",
       "1.9 0.0001     24  0.680  0.02530  261.3  0.00997  0.803  0.488312   \n",
       "2.1 0.0040     20  0.647  0.03410  431.4  0.00779  0.682  0.372438   \n",
       "3.0 0.0001     20  0.812  0.00898   53.2  0.00765  1.020  0.859707   \n",
       "3.5 0.0001     27  0.854  0.00663   48.9  0.00555  1.060  0.862659   \n",
       "4.0 0.0001     37  0.874  0.00510   77.1  0.00463  0.975  1.214986   \n",
       "4.5 0.0001     41  0.897  0.00406   78.0  0.00352  0.967  1.039225   \n",
       "    0.0040     50  0.874  0.00522   37.7  0.00452  0.986  0.869020   \n",
       "    0.0080     38  0.861  0.00588   52.0  0.00496  0.980  0.852440   \n",
       "    0.0200     21  0.853  0.00577   49.9  0.00432  0.989  0.760184   \n",
       "5.0 0.0001     56  0.929  0.00336   30.5  0.00308  0.966  0.916480   \n",
       "5.5 0.0001     77  0.966  0.00289   30.6  0.00251  1.020  0.925049   \n",
       "    0.0040     71  0.932  0.00349   31.3  0.00299  0.977  0.855286   \n",
       "    0.0080     56  0.907  0.00440   31.5  0.00375  1.020  0.886247   \n",
       "    0.0200     36  0.900  0.00419   37.8  0.00338  0.962  0.807810   \n",
       "6.0 0.0001    109  1.008  0.00231   27.1  0.00225  1.690  0.974942   \n",
       "\n",
       "               T(He-sh)         Tbce      T(H-sh)    iPulse   Mtot      Lmax  \\\n",
       "M0  Z0                                                                         \n",
       "1.0 0.0001  298000000.0    1450000.0   74200000.0  495000.0  0.924   12200.0   \n",
       "1.5 0.0001  282000000.0    3430000.0   67600000.0  356000.0  1.469   11000.0   \n",
       "1.9 0.0001  300000000.0    7370000.0   70800000.0  158000.0  1.882   14200.0   \n",
       "2.1 0.0040  290000000.0    3810000.0   64100000.0  176000.0  2.073   10300.0   \n",
       "3.0 0.0001  354000000.0   39600000.0   84800000.0   29300.0  2.965   20400.0   \n",
       "3.5 0.0001  370000000.0   75900000.0   89900000.0   18700.0  3.459   28400.0   \n",
       "4.0 0.0001  353000000.0   82900000.0   92500000.0   12500.0  3.963   38300.0   \n",
       "4.5 0.0001  352000000.0   87200000.0   95000000.0   10400.0  4.456   44200.0   \n",
       "    0.0040  366000000.0   78700000.0   85300000.0   12200.0  4.468   34200.0   \n",
       "    0.0080  372000000.0   73800000.0   82800000.0   15500.0  4.471   29700.0   \n",
       "    0.0200  349000000.0   46700000.0   78400000.0   14000.0  4.476   24200.0   \n",
       "5.0 0.0001  363000000.0   92500000.0   98600000.0    7520.0  4.968   53300.0   \n",
       "5.5 0.0001  369000000.0   98200000.0  103000000.0    6020.0  5.472  944000.0   \n",
       "    0.0040  370000000.0   87500000.0   91900000.0    9770.0  5.461   47300.0   \n",
       "    0.0080  370000000.0   83300000.0   87900000.0   10200.0  5.456   40500.0   \n",
       "    0.0200  367000000.0   79300000.0   85100000.0    8790.0  5.463   36100.0   \n",
       "6.0 0.0001  379000000.0  105000000.0  111000000.0    3790.0  5.974  282000.0   \n",
       "\n",
       "                 LHe.max   Rmax  Mbol  Teff  \n",
       "M0  Z0                                       \n",
       "1.0 0.0001  7.060000e+07  260.0 -2.77  4701  \n",
       "1.5 0.0001  5.820000e+07  418.0 -3.58  4745  \n",
       "1.9 0.0001  2.200000e+08  496.0 -3.95  4677  \n",
       "2.1 0.0040  1.250000e+08  449.0 -3.49  4255  \n",
       "3.0 0.0001  1.790000e+09  507.0 -5.29  4525  \n",
       "3.5 0.0001  1.410000e+09  503.0 -5.50  4530  \n",
       "4.0 0.0001  7.740000e+08  401.0 -5.66  4540  \n",
       "4.5 0.0001  4.160000e+08  426.0 -5.73  4559  \n",
       "    0.0040  8.020000e+08  667.0 -5.91  3769  \n",
       "    0.0080  1.040000e+09  690.0 -5.80  3630  \n",
       "    0.0200  3.760000e+08  807.0 -5.86  3337  \n",
       "5.0 0.0001  5.420000e+08  465.0 -5.91  4569  \n",
       "5.5 0.0001  8.580000e+08  508.0  0.00  4574  \n",
       "    0.0040  6.880000e+08  708.0 -6.14  3843  \n",
       "    0.0080  1.120000e+09  756.0 -6.01  3643  \n",
       "    0.0200  4.630000e+08  836.0 -6.12  3413  \n",
       "6.0 0.0001  5.420000e+08  554.0 -6.28  4575  "
      ]
     },
     "execution_count": 175,
     "metadata": {},
     "output_type": "execute_result"
    }
   ],
   "source": [
    "k10.groupby([\"M0\", \"Z0\"]).max(\"Tbce\")"
   ]
  },
  {
   "cell_type": "code",
   "execution_count": 205,
   "id": "b6be2b45",
   "metadata": {},
   "outputs": [
    {
     "data": {
      "text/plain": [
       "<matplotlib.legend.Legend at 0x7fa9652f2970>"
      ]
     },
     "execution_count": 205,
     "metadata": {},
     "output_type": "execute_result"
    },
    {
     "data": {
      "image/png": "[encoded data removed]",
      "text/plain": [
       "<Figure size 432x288 with 1 Axes>"
      ]
     },
     "metadata": {
      "needs_background": "light"
     },
     "output_type": "display_data"
    }
   ],
   "source": [
    "filt = k10[k10.Z0 == 0.0001]\n",
    "df = filt.groupby([\"M0\"]).max(\"Tbce\")\n",
    "plt.plot(df.index, df.Tbce/10**6, label=\"K10\")\n",
    "plt.xlabel(\"M\")\n",
    "plt.ylabel(\"T_bcemax, MK\")\n",
    "\n",
    "df = v13[v13.Z == 0.0003]\n",
    "plt.plot(df.mass, df.T_bce/1e6, label=\"V13\")\n",
    "plt.xlabel(\"M\")\n",
    "plt.ylabel(\"T_bcemax, MK\")\n",
    "\n",
    "df = c15[c15.METALLICITY == 0.0001]\n",
    "plt.plot(df.MASS, df.TMAX_CS/1e6, label=\"C15\")\n",
    "\n",
    "plt.legend()"
   ]
  },
  {
   "cell_type": "code",
   "execution_count": 214,
   "id": "aade2a80",
   "metadata": {},
   "outputs": [
    {
     "data": {
      "text/plain": [
       "<matplotlib.legend.Legend at 0x7fa966181220>"
      ]
     },
     "execution_count": 214,
     "metadata": {},
     "output_type": "execute_result"
    },
    {
     "data": {
      "image/png": "[encoded data removed]",
      "text/plain": [
       "<Figure size 432x288 with 1 Axes>"
      ]
     },
     "metadata": {
      "needs_background": "light"
     },
     "output_type": "display_data"
    }
   ],
   "source": [
    "filt = k10[k10.Z0 == 0.008]\n",
    "df = filt.groupby([\"M0\"]).max(\"Tbce\")\n",
    "plt.plot(df.index, df.Tbce/10**6, label=\"K10\")\n",
    "plt.xlabel(\"M\")\n",
    "plt.ylabel(\"T_bcemax, MK\")\n",
    "\n",
    "df = v13[v13.Z == 0.008]\n",
    "plt.plot(df.mass, df.T_bce/1e6, label=\"V13\")\n",
    "plt.xlabel(\"M\")\n",
    "plt.ylabel(\"T_bcemax, MK\")\n",
    "\n",
    "df = c15[c15.METALLICITY == 0.008]\n",
    "plt.plot(df.MASS, df.TMAX_CS/1e6, label=\"C15\")\n",
    "\n",
    "plt.legend()"
   ]
  },
  {
   "cell_type": "code",
   "execution_count": 217,
   "id": "82395edf",
   "metadata": {},
   "outputs": [
    {
     "data": {
      "image/png": "[encoded data removed]",
      "text/plain": [
       "<Figure size 432x288 with 1 Axes>"
      ]
     },
     "metadata": {
      "needs_background": "light"
     },
     "output_type": "display_data"
    }
   ],
   "source": [
    "filt = k10[k10.Z0 == 0.0001]\n",
    "df = filt.groupby([\"M0\"]).max(\"Pulse\")\n",
    "plt.plot(df.index, df.Pulse, label=\"K10\")\n",
    "plt.xlabel(\"M\")\n",
    "plt.ylabel(\"N_p\")\n",
    "\n",
    "df = v13[v13.Z == 0.0003]\n",
    "plt.plot(df.mass, df.Np, label=\"V13\")\n",
    "\n",
    "df = c15[c15.METALLICITY == 0.0001]\n",
    "plt.plot(df.MASS, df.TP, label=\"C15\")\n",
    "\n",
    "plt.legend()\n",
    "sf(\"m_np\")"
   ]
  },
  {
   "cell_type": "code",
   "execution_count": 203,
   "id": "32ef78ed",
   "metadata": {},
   "outputs": [
    {
     "data": {
      "text/plain": [
       "<matplotlib.legend.Legend at 0x7fa96536a040>"
      ]
     },
     "execution_count": 203,
     "metadata": {},
     "output_type": "execute_result"
    },
    {
     "data": {
      "image/png": "[encoded data removed]",
      "text/plain": [
       "<Figure size 432x288 with 1 Axes>"
      ]
     },
     "metadata": {
      "needs_background": "light"
     },
     "output_type": "display_data"
    }
   ],
   "source": [
    "filt = k10[k10.Z0 == 0.008]\n",
    "df = filt.groupby([\"M0\"]).max(\"Pulse\")\n",
    "plt.plot(df.index, df.Pulse, label=\"K10\")\n",
    "plt.xlabel(\"M\")\n",
    "plt.ylabel(\"N_p\")\n",
    "\n",
    "df = v13[v13.Z == 0.008]\n",
    "plt.plot(df.mass, df.Np, label=\"V13\")\n",
    "\n",
    "df = c15[c15.METALLICITY == 0.008]\n",
    "plt.plot(df.MASS, df.TP, label=\"C15\")\n",
    "\n",
    "plt.legend()"
   ]
  },
  {
   "cell_type": "code",
   "execution_count": 216,
   "id": "175b64b5",
   "metadata": {},
   "outputs": [
    {
     "data": {
      "image/png": "[encoded data removed]",
      "text/plain": [
       "<Figure size 432x288 with 1 Axes>"
      ]
     },
     "metadata": {
      "needs_background": "light"
     },
     "output_type": "display_data"
    }
   ],
   "source": [
    "filt = k10[k10.Z0 == 0.0001]\n",
    "df = filt.groupby([\"M0\"]).mean(\"iPulse\")\n",
    "plt.plot(df.index, df.iPulse/1e3, label=\"K10\")\n",
    "plt.xlabel(\"M\")\n",
    "plt.ylabel(\"T_ip/10^3 yr\")\n",
    "\n",
    "df = v13[v13.Z == 0.0003]\n",
    "plt.plot(df.mass, df.t_i/1e3, label=\"V13\")\n",
    "\n",
    "df = c15[c15.METALLICITY == 0.0001]\n",
    "plt.plot(df.MASS, df.DTIP/1e3, label=\"C15\")\n",
    "\n",
    "plt.legend()\n",
    "\n",
    "sf(\"m_tip\")"
   ]
  },
  {
   "cell_type": "code",
   "execution_count": 213,
   "id": "d34b9836",
   "metadata": {},
   "outputs": [
    {
     "data": {
      "image/png": "[encoded data removed]",
      "text/plain": [
       "<Figure size 432x288 with 1 Axes>"
      ]
     },
     "metadata": {
      "needs_background": "light"
     },
     "output_type": "display_data"
    }
   ],
   "source": [
    "filt = k10[k10.Z0 == 0.008]\n",
    "df = filt.groupby([\"M0\"]).mean(\"iPulse\")\n",
    "plt.plot(df.index, df.iPulse, label=\"K10\")\n",
    "plt.xlabel(\"M\")\n",
    "plt.ylabel(\"T_ip\")\n",
    "\n",
    "df = v13[v13.Z == 0.008]\n",
    "plt.plot(df.mass, df.t_i, label=\"V13\")\n",
    "\n",
    "df = c15[c15.METALLICITY == 0.008]\n",
    "plt.plot(df.MASS, df.DTIP, label=\"C15\")\n",
    "\n",
    "plt.legend()\n",
    "\n",
    "sf(\"m_tip\")"
   ]
  },
  {
   "cell_type": "code",
   "execution_count": null,
   "id": "5a5d3242",
   "metadata": {},
   "outputs": [],
   "source": []
  }
 ],
 "metadata": {
  "kernelspec": {
   "display_name": "Python 3",
   "language": "python",
   "name": "python3"
  },
  "language_info": {
   "codemirror_mode": {
    "name": "ipython",
    "version": 3
   },
   "file_extension": ".py",
   "mimetype": "text/x-python",
   "name": "python",
   "nbconvert_exporter": "python",
   "pygments_lexer": "ipython3",
   "version": "3.8.10"
  }
 },
 "nbformat": 4,
 "nbformat_minor": 5
}
