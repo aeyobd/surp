{
 "cells": [
  {
   "cell_type": "code",
   "execution_count": 1,
   "id": "a83270a6-4cd9-40df-8e8c-de4dfb86a2cf",
   "metadata": {},
   "outputs": [],
   "source": [
    "%load_ext autoreload\n",
    "%autoreload 2\n",
    "%config Completer.use_jedi = False"
   ]
  },
  {
   "cell_type": "code",
   "execution_count": 2,
   "id": "55f450fc-8fce-4a8f-abb9-37ef78fc3c1a",
   "metadata": {},
   "outputs": [
    {
     "name": "stderr",
     "output_type": "stream",
     "text": [
      "/home/daniel/surp/VICE/vice/__init__.py:141: UserWarning: Using un-released version of VICE\n",
      "  warnings.warn(\"Using un-released version of VICE\", UserWarning)\n"
     ]
    }
   ],
   "source": [
    "from astropy.io import fits\n",
    "import pandas as pd\n",
    "import matplotlib.pyplot as plt\n",
    "import pickle\n",
    "import numpy as np\n",
    "import pandas as pd\n",
    "import vice\n",
    "import apogee_analysis as aah\n",
    "from astropy.table import Table\n",
    "import plotting\n",
    "import astropy as ap\n",
    "import astropy.units as u"
   ]
  },
  {
   "cell_type": "code",
   "execution_count": 4,
   "id": "4bb3dedc-3276-4fbb-8423-63d515442d9a",
   "metadata": {},
   "outputs": [],
   "source": [
    "file_name = \"allStar-dr17-synspec_rev1.fits\""
   ]
  },
  {
   "cell_type": "code",
   "execution_count": 5,
   "id": "f71a8b69-4230-437d-99bf-0e1d1e3c2b7a",
   "metadata": {
    "scrolled": true,
    "tags": []
   },
   "outputs": [],
   "source": [
    "ff = fits.open(file_name, mmap=True)\n",
    "da = ff[1].data\n",
    "ff.close()"
   ]
  },
  {
   "cell_type": "code",
   "execution_count": null,
   "id": "8c922ef7-f4e1-435a-a087-a02286996489",
   "metadata": {},
   "outputs": [],
   "source": [
    "# cuts in W+19\n",
    "mask = da[\"LOGG\"] > 1\n",
    "mask &= da[\"LOGG\"] < 2\n",
    "mask &= da[\"SNR\"] > 80\n",
    "filtered = da[mask]\n",
    "# del da"
   ]
  },
  {
   "cell_type": "code",
   "execution_count": null,
   "id": "5d4362f6-7c29-4901-8e7b-63e6c518663a",
   "metadata": {},
   "outputs": [],
   "source": [
    "plotting.density_scatter(da[\"TEFF\"], da[\"LOGG\"], density=False)\n",
    "plt.gca().invert_yaxis()\n",
    "plt.gca().invert_xaxis()\n",
    "plt.xlabel(\"T_eff\")\n",
    "plt.ylabel(\"log g\")"
   ]
  },
  {
   "cell_type": "code",
   "execution_count": null,
   "id": "93bf35b0-cf54-4251-a574-3e523d14e671",
   "metadata": {},
   "outputs": [],
   "source": [
    "df = pd.DataFrame(filtered.tolist(), columns = [c.name for c in filtered.columns])\n",
    "\n",
    "del filtered\n",
    "del da"
   ]
  },
  {
   "cell_type": "code",
   "execution_count": null,
   "id": "5e429085-6bf3-4123-bc71-a815a5b084a6",
   "metadata": {},
   "outputs": [],
   "source": [
    "plt.scatter(df[\"GLON\"], df[\"GAIAEDR3_R_MED_GEO\"])"
   ]
  },
  {
   "cell_type": "code",
   "execution_count": null,
   "id": "637812b5-d4a4-41b0-a99b-b977deab2647",
   "metadata": {},
   "outputs": [],
   "source": [
    "# Calculate galactocentric coordinates\n",
    "import astropy.coordinates as coord\n",
    "c = coord.SkyCoord(ra = df[\"RA\"] * u.degree,\n",
    "                           dec = df[\"DEC\"] * u.degree,\n",
    "                           distance = df[\"GAIAEDR3_R_MED_GEO\"] * u.pc,\n",
    "                           frame=\"icrs\")\n",
    "gc_c = c.transform_to(coord.Galactocentric)\n",
    "df[\"R_gal\"] = np.array(np.sqrt(gc_c.x**2 + gc_c.y**2) / 1e3)\n",
    "df[\"th_gal\"] = np.array(np.arctan(gc_c.y/gc_c.x))\n",
    "df[\"abs_z\"] = np.array(np.abs(gc_c.z) / 1e3)\n",
    "df[\"z\"] = np.array(gc_c.z / 1e3)\n"
   ]
  },
  {
   "cell_type": "code",
   "execution_count": null,
   "id": "2a6acc2a-3db6-4c69-9363-96df3247d950",
   "metadata": {},
   "outputs": [],
   "source": [
    "plt.scatter(df.R_gal, df.z, c=df.th_gal, s=0.1, alpha=0.1, cmap=\"hsv\")\n",
    "plt.colorbar(label=\"phi\")\n",
    "plt.xlabel(\"R_gal (kpc)\")\n",
    "plt.ylabel(\"z (kpc)\")\n",
    "plt.xlim(0, 20)\n",
    "plt.ylim(-10, 10)"
   ]
  },
  {
   "cell_type": "code",
   "execution_count": null,
   "id": "61af1147-4ef0-4f20-8150-a38d64de80b2",
   "metadata": {},
   "outputs": [],
   "source": [
    "fig = plt.figure()\n",
    "\n",
    "ax = fig.add_subplot(111, projection='3d')\n",
    "\n",
    "ax.scatter(gc_c.x, gc_c.y, gc_c.z, s=0.1, alpha=0.1, c=gc_c.z)"
   ]
  },
  {
   "cell_type": "code",
   "execution_count": null,
   "id": "a3010a65-ae45-46f1-a865-e7726c1a26f2",
   "metadata": {},
   "outputs": [],
   "source": [
    "plt.scatter(df[\"GLON\"], df[\"GLAT\"], c=df.R_gal, s=0.1, alpha=0.1, vmax=20)\n",
    "plt.colorbar(label=\"R_gal (kpc)\")"
   ]
  },
  {
   "cell_type": "code",
   "execution_count": null,
   "id": "e648296f-87a1-4b20-b771-4fd235e230e8",
   "metadata": {},
   "outputs": [],
   "source": [
    "def bracket(df, ele, ele2=\"H\"):\n",
    "    if ele2 == \"H\":\n",
    "        if ele == \"FE\":\n",
    "            return df[\"FE_H\"]\n",
    "        else:\n",
    "            return df[\"%s_FE\" % ele] + df[\"FE_H\"]\n",
    "    else:\n",
    "        if ele2 == \"FE\":\n",
    "            return df[\"%s_FE\" % ele]\n",
    "        else:\n",
    "            return df[\"%s_FE\" % ele] - df[\"%s_FE\" % ele2]\n"
   ]
  },
  {
   "cell_type": "code",
   "execution_count": null,
   "id": "22115a30",
   "metadata": {},
   "outputs": [],
   "source": [
    "def bracket_to_abundance(data, ele):\n",
    "    return 10**data * vice.solar_z(ele)\n",
    "def abundance_to_bracket(data, ele):\n",
    "    return np.log10(data/vice.solar_z(ele))"
   ]
  },
  {
   "cell_type": "code",
   "execution_count": null,
   "id": "67b361ef",
   "metadata": {},
   "outputs": [],
   "source": []
  },
  {
   "cell_type": "code",
   "execution_count": null,
   "id": "af7dec73-293b-4503-866f-476e496eca52",
   "metadata": {},
   "outputs": [],
   "source": [
    "df[\"O_H\"] = bracket(df, \"O\")\n",
    "df[\"C_O\"] = bracket(df, \"C\", \"O\")\n",
    "df[\"C_N\"] = bracket(df, \"C\", \"N\")\n",
    "df[\"C_H\"] = bracket(df, \"C\", \"H\")\n",
    "df[\"N_H\"] = bracket(df, \"N\", \"H\")"
   ]
  },
  {
   "cell_type": "code",
   "execution_count": null,
   "id": "babe7471",
   "metadata": {},
   "outputs": [],
   "source": [
    "df[\"CN_H\"] = np.log10((\n",
    "    bracket_to_abundance(df[\"C_H\"], \"C\") +\n",
    "    bracket_to_abundance(df[\"N_H\"], \"N\"))\n",
    "    / (vice.solar_z(\"C\") + vice.solar_z(\"N\")))"
   ]
  },
  {
   "cell_type": "code",
   "execution_count": null,
   "id": "ebb643bf",
   "metadata": {},
   "outputs": [],
   "source": [
    "df[\"C-N_H\"] = np.log10((\n",
    "    bracket_to_abundance(df[\"C_H\"], \"C\") -\n",
    "    bracket_to_abundance(df[\"N_H\"], \"N\"))\n",
    "    / (vice.solar_z(\"C\") + vice.solar_z(\"N\")))"
   ]
  },
  {
   "cell_type": "code",
   "execution_count": null,
   "id": "aaac32f4-b7a5-4ddd-8bb8-6cc6afbdefd1",
   "metadata": {},
   "outputs": [],
   "source": [
    "plt.scatter(df[\"FE_H\"], df[\"O_FE\"], c=df.abs_z, s=0.1, alpha=0.5, vmax=20)\n",
    "plt.ylim(-1,1)\n",
    "plt.xlim(-3,2)\n",
    "plt.ylabel(\"[O/FE]\")\n",
    "plt.xlabel(\"[FE/H]\")\n",
    "plt.colorbar()"
   ]
  },
  {
   "cell_type": "code",
   "execution_count": null,
   "id": "faac2ea4-22fd-4b8e-8e10-6dd9a244709c",
   "metadata": {},
   "outputs": [],
   "source": [
    "plt.scatter(df[\"FE_H\"], df[\"C_N\"], s=0.01, c=df[\"LOGG\"], vmin=0)\n",
    "plt.xlim(-2, 1)\n",
    "plt.ylim(-2, 2)\n",
    "plt.xlabel(\"[fe/h]\")\n",
    "plt.ylabel(\"[c/n]\")\n",
    "plt.colorbar()"
   ]
  },
  {
   "cell_type": "code",
   "execution_count": null,
   "id": "f89773b4-a203-40ca-9e5e-c4f5a04214ff",
   "metadata": {},
   "outputs": [],
   "source": [
    "xlim = (-1, 0.6)\n",
    "for ele in [\"C\", \"N\", \"O\"]:\n",
    "    plotting.density_scatter(df[\"FE_H\"], df[\"%s_FE\" % ele], xlim=xlim, ylim=(-0.5, 0.5))\n",
    "    plt.xlabel(\"[Fe/H]\")\n",
    "    plt.ylabel(\"[%s/Fe]\" % ele)\n",
    "    plt.show()"
   ]
  },
  {
   "cell_type": "code",
   "execution_count": null,
   "id": "c5e2be57",
   "metadata": {},
   "outputs": [],
   "source": [
    "# [O/Mg] on y-axis and [Mg/H] on x-axis, flat in APOGEE, negative slope in GALAH"
   ]
  },
  {
   "cell_type": "code",
   "execution_count": 22,
   "id": "f61902b9-c192-4148-9c54-846115acb768",
   "metadata": {},
   "outputs": [],
   "source": [
    "from sklearn.cluster import dbscan"
   ]
  },
  {
   "cell_type": "code",
   "execution_count": null,
   "id": "f750bbe0-df85-4bb0-9978-ab27c02ffbba",
   "metadata": {},
   "outputs": [],
   "source": [
    "filt_na = ~df[[\"FE_H\", \"O_FE\"]].isna().any(axis=1)"
   ]
  },
  {
   "cell_type": "code",
   "execution_count": null,
   "id": "218da757-edbe-4903-aebc-6283608b8310",
   "metadata": {},
   "outputs": [],
   "source": [
    "core_samples, labels = dbscan(df[[\"FE_H\", \"O_FE\"]][filt_na], eps=0.01, min_samples=60)"
   ]
  },
  {
   "cell_type": "code",
   "execution_count": null,
   "id": "7a2a4d57-e088-45ef-9422-d0a4b0d3fe4c",
   "metadata": {},
   "outputs": [],
   "source": [
    "filt = (labels == 1) | (labels == 0)\n",
    "split = df[filt_na].iloc[filt]\n",
    "split[\"hi_alpha\"] = labels[filt] == 1"
   ]
  },
  {
   "cell_type": "code",
   "execution_count": null,
   "id": "18c1b1cb-b405-494e-9cda-6d634c07c05b",
   "metadata": {},
   "outputs": [],
   "source": [
    "plt.scatter(df[\"FE_H\"][filt_na], df[\"O_FE\"][filt_na], c=labels, s=1, alpha=0.1)\n",
    "plt.colorbar()"
   ]
  },
  {
   "cell_type": "markdown",
   "id": "78710218",
   "metadata": {},
   "source": [
    "Results of clusters using dbscan "
   ]
  },
  {
   "cell_type": "code",
   "execution_count": null,
   "id": "29fefac7-c537-4973-85c2-0a8aa4de45b8",
   "metadata": {},
   "outputs": [],
   "source": [
    "plt.scatter(split[\"FE_H\"], split[\"O_FE\"], c=split.hi_alpha, s=0.1)"
   ]
  },
  {
   "cell_type": "code",
   "execution_count": null,
   "id": "03f451ba-5edd-437d-ae51-cf3177ac3d28",
   "metadata": {},
   "outputs": [],
   "source": [
    "\n",
    "def o_fe_fe_h_cutoff(fe_h):\n",
    "    return 0.21 - 0.15*(fe_h + 0.3) *(fe_h < -0.3)\n",
    "\n",
    "plotting.density_scatter(df[\"FE_H\"], df[\"O_FE\"], xlim=(-1,0.7), ylim=(0, 0.4))\n",
    "plt.xlabel(\"fe/h\")\n",
    "plt.ylabel('o/fe')\n",
    "x = np.linspace(-1, 0.7)\n",
    "y = o_fe_fe_h_cutoff(x)\n",
    "\n",
    "plt.plot(x, y)"
   ]
  },
  {
   "cell_type": "markdown",
   "id": "35821602",
   "metadata": {},
   "source": [
    "Plot of the o/fe-fe/h bimodality in apogee data"
   ]
  },
  {
   "cell_type": "code",
   "execution_count": null,
   "id": "49c4620a",
   "metadata": {},
   "outputs": [],
   "source": [
    "plt.scatter(df[\"O_H\"], df[\"CN_H\"] - df[\"O_H\"], s=0.1)\n"
   ]
  },
  {
   "cell_type": "code",
   "execution_count": null,
   "id": "faff3666",
   "metadata": {},
   "outputs": [],
   "source": [
    "s = 0.001\n",
    "x_vals = split[\"O_H\"]\n",
    "y_vals = split[\"CN_H\"] - split[\"O_H\"]\n",
    "plt.scatter(x_vals[split.hi_alpha], y_vals[split.hi_alpha], label=\"low SNIa\", alpha=1, s=s)\n",
    "plt.scatter(x_vals[~split.hi_alpha], y_vals[~split.hi_alpha], label=\"high SNIa\", alpha=1, s=s)\n",
    "plt.legend(markerscale=0.1/s)\n",
    "plt.xlabel(\"[O/H]\")\n",
    "plt.ylabel(\"[C+N/O]\")\n"
   ]
  },
  {
   "cell_type": "code",
   "execution_count": null,
   "id": "0c5b815c",
   "metadata": {},
   "outputs": [],
   "source": [
    "s = 0.001\n",
    "x_vals = split[\"O_H\"]\n",
    "y_vals = split[\"C-N_H\"] - split[\"O_H\"]\n",
    "plt.scatter(x_vals[split.hi_alpha], y_vals[split.hi_alpha], label=\"low SNIa\", alpha=1, s=s)\n",
    "plt.scatter(x_vals[~split.hi_alpha], y_vals[~split.hi_alpha], label=\"high SNIa\", alpha=1, s=s)\n",
    "plt.legend(markerscale=0.1/s)\n",
    "plt.xlabel(\"[O/H]\")\n",
    "plt.ylabel(\"[C-N/O]\")"
   ]
  },
  {
   "cell_type": "code",
   "execution_count": null,
   "id": "fbf5fac6",
   "metadata": {},
   "outputs": [],
   "source": [
    "s = 0.001\n",
    "y_vals = df[\"C_N\"]\n",
    "x_vals = df[\"CN_H\"] - df[\"O_H\"]\n",
    "plt.scatter(x_vals, y_vals, c=df[\"O_H\"], alpha=1, s=s, cmap=\"magma\")\n",
    "plt.colorbar(label=\"[O/H]\")\n",
    "plt.ylabel(\"[C/N]\")\n",
    "plt.xlabel(\"[C+N/O]\")\n",
    "plt.xlim(-1, 1)\n",
    "plt.ylim(-2, 0.7)"
   ]
  },
  {
   "cell_type": "code",
   "execution_count": null,
   "id": "f41f1ebe-330b-42b1-a18b-572072270eb5",
   "metadata": {},
   "outputs": [],
   "source": [
    "def plot_abundance_alpha(x=\"O_H\", y=\"C_O\", df=split, fig=None, ax=None, s=0.001):\n",
    "    if fig is None or ax is None:\n",
    "        fig, ax = plt.subplots()\n",
    "        \n",
    "    x_vals = bracket(df, *x.split(\"_\"))\n",
    "    y_vals = bracket(df, *y.split(\"_\"))\n",
    "    ax.scatter(x_vals[df.hi_alpha], y_vals[df.hi_alpha], label=\"low SNIa\", alpha=1, s=s)\n",
    "    ax.scatter(x_vals[~df.hi_alpha], y_vals[~df.hi_alpha], label=\"high SNIa\", alpha=1, s=s)\n",
    "    ax.legend(markerscale=0.1/s)\n",
    "    ax.set_xlabel(x)\n",
    "    ax.set_ylabel(y)\n",
    "    "
   ]
  },
  {
   "cell_type": "code",
   "execution_count": null,
   "id": "71a2dba6-a908-42ce-a4bb-a9a5c13fc472",
   "metadata": {},
   "outputs": [],
   "source": [
    "plot_abundance_alpha(y=\"N_O\")"
   ]
  },
  {
   "cell_type": "code",
   "execution_count": null,
   "id": "b111291a",
   "metadata": {},
   "outputs": [],
   "source": []
  },
  {
   "cell_type": "code",
   "execution_count": null,
   "id": "1a18f171-de7d-4fc5-845e-6f338453edaf",
   "metadata": {},
   "outputs": [],
   "source": [
    "plot_abundance_alpha()\n",
    "plt.show()\n",
    "\n",
    "plot_abundance_alpha(y=\"N_O\")\n",
    "plt.show()\n",
    "\n",
    "plot_abundance_alpha(y=\"C_N\")\n",
    "plt.show()\n",
    "\n",
    "plot_abundance_alpha(y=\"MG_AL\")"
   ]
  },
  {
   "cell_type": "code",
   "execution_count": null,
   "id": "7c91f032",
   "metadata": {},
   "outputs": [],
   "source": [
    "plot_abundance_alpha(x = \"MG_H\", y = \"AL_H\")"
   ]
  },
  {
   "cell_type": "code",
   "execution_count": null,
   "id": "d52f0d87-8a51-4fae-a8e7-1fa08f219753",
   "metadata": {},
   "outputs": [],
   "source": [
    "def plot_in_gal_region(x=\"O_H\", y=\"C_O\", xlabel=None, ylabel=None):\n",
    "    fig, axs = plt.subplots(5, 3, sharex=True, sharey=True, figsize=(20,15))\n",
    "    for j in range(5):\n",
    "        R_min, R_max = [(1, 3), (3, 5), (5,7), (7,9), (9,11), (11,13)][j]\n",
    "    \n",
    "\n",
    "        for i in range(3):\n",
    "            z_min, z_max = [(0, 0.5), (0.5, 1), (1, 2)][i]\n",
    "            ax = axs[j][i]\n",
    "            mask = split.R_gal > R_min\n",
    "            mask &= split.R_gal < R_max\n",
    "            mask &= split.abs_z > z_min\n",
    "            mask &= split.abs_z < z_max\n",
    "            \n",
    "            # plotting.density_scatter(x[mask], y[mask], fig=fig, ax=ax)\n",
    "            plot_abundance_alpha(x, y, df = split[mask], fig=fig, ax=ax, s=0.01)\n",
    "            ax.set_xlabel(\"\")\n",
    "            ax.set_ylabel(\"\")\n",
    "            if j==0:\n",
    "                ax.set(title=\"z =  %1.1f - %1.1f\" % (z_min, z_max))\n",
    "            if i == 0:\n",
    "                ax.set_ylabel(\"R = %i - %i\" %(R_min, R_max))\n",
    "                \n",
    "\n",
    "                \n",
    "    fig.supxlabel(\"[%s/%s]\" % tuple(x.split(\"_\")))\n",
    "    fig.supylabel(\"[%s/%s]\" % tuple(y.split(\"_\")))\n",
    "            \n",
    "            \n"
   ]
  },
  {
   "cell_type": "code",
   "execution_count": null,
   "id": "ce944e55-700c-4ada-a199-09c50a791689",
   "metadata": {},
   "outputs": [],
   "source": [
    "plot_in_gal_region(x = \"FE_H\", y=\"O_FE\")"
   ]
  },
  {
   "cell_type": "code",
   "execution_count": null,
   "id": "81041d01-8fdd-4d13-af3e-ba65e62820bd",
   "metadata": {},
   "outputs": [],
   "source": [
    "plot_in_gal_region(y=\"C_N\")"
   ]
  },
  {
   "cell_type": "markdown",
   "id": "f55b915f",
   "metadata": {},
   "source": [
    "Plots of C/N vs O/H in different galactic regions "
   ]
  },
  {
   "cell_type": "code",
   "execution_count": null,
   "id": "e0ab20a3-5121-4891-bcea-952b785bf777",
   "metadata": {},
   "outputs": [],
   "source": [
    "plot_in_gal_region(y=\"C_O\")"
   ]
  },
  {
   "cell_type": "code",
   "execution_count": null,
   "id": "9034076b-05d5-49ba-9b04-838ed9ebc5d2",
   "metadata": {},
   "outputs": [],
   "source": [
    "plot_in_gal_region(y=\"N_O\")"
   ]
  },
  {
   "cell_type": "code",
   "execution_count": 3,
   "id": "39046908-3d3e-4ee8-9f69-27b0e19eb535",
   "metadata": {},
   "outputs": [
    {
     "name": "stderr",
     "output_type": "stream",
     "text": [
      "/home/daniel/.local/lib/python3.8/site-packages/pandas/core/arraylike.py:358: RuntimeWarning: divide by zero encountered in log10\n",
      "  result = getattr(ufunc, method)(*inputs, **kwargs)\n"
     ]
    }
   ],
   "source": [
    "v21 = aah.vincenzo2021()"
   ]
  },
  {
   "cell_type": "code",
   "execution_count": 4,
   "id": "0c2f5d5b-c452-4098-91f1-6e9725054545",
   "metadata": {},
   "outputs": [
    {
     "ename": "NameError",
     "evalue": "name 'df' is not defined",
     "output_type": "error",
     "traceback": [
      "\u001b[0;31m---------------------------------------------------------------------------\u001b[0m",
      "\u001b[0;31mNameError\u001b[0m                                 Traceback (most recent call last)",
      "\u001b[0;32m<ipython-input-4-279341c277af>\u001b[0m in \u001b[0;36m<module>\u001b[0;34m\u001b[0m\n\u001b[1;32m      2\u001b[0m \u001b[0mplt\u001b[0m\u001b[0;34m.\u001b[0m\u001b[0mxlabel\u001b[0m\u001b[0;34m(\u001b[0m\u001b[0;34m\"[o/h]\"\u001b[0m\u001b[0;34m)\u001b[0m\u001b[0;34m\u001b[0m\u001b[0;34m\u001b[0m\u001b[0m\n\u001b[1;32m      3\u001b[0m \u001b[0mplt\u001b[0m\u001b[0;34m.\u001b[0m\u001b[0mylabel\u001b[0m\u001b[0;34m(\u001b[0m\u001b[0;34m\"[c/o]\"\u001b[0m\u001b[0;34m)\u001b[0m\u001b[0;34m\u001b[0m\u001b[0;34m\u001b[0m\u001b[0m\n\u001b[0;32m----> 4\u001b[0;31m \u001b[0mplt\u001b[0m\u001b[0;34m.\u001b[0m\u001b[0mscatter\u001b[0m\u001b[0;34m(\u001b[0m\u001b[0mdf\u001b[0m\u001b[0;34m[\u001b[0m\u001b[0;34m\"O_H\"\u001b[0m\u001b[0;34m]\u001b[0m\u001b[0;34m,\u001b[0m \u001b[0mdf\u001b[0m\u001b[0;34m[\u001b[0m\u001b[0;34m\"C_O\"\u001b[0m\u001b[0;34m]\u001b[0m\u001b[0;34m,\u001b[0m \u001b[0ms\u001b[0m\u001b[0;34m=\u001b[0m\u001b[0;36m0.1\u001b[0m\u001b[0;34m,\u001b[0m \u001b[0malpha\u001b[0m\u001b[0;34m=\u001b[0m\u001b[0;36m0.1\u001b[0m\u001b[0;34m,\u001b[0m \u001b[0mlabel\u001b[0m\u001b[0;34m=\u001b[0m\u001b[0;34m\"APOGEE\"\u001b[0m\u001b[0;34m)\u001b[0m\u001b[0;34m\u001b[0m\u001b[0;34m\u001b[0m\u001b[0m\n\u001b[0m\u001b[1;32m      5\u001b[0m \u001b[0mplt\u001b[0m\u001b[0;34m.\u001b[0m\u001b[0mxlim\u001b[0m\u001b[0;34m(\u001b[0m\u001b[0;34m-\u001b[0m\u001b[0;36m1\u001b[0m\u001b[0;34m,\u001b[0m\u001b[0;36m0.7\u001b[0m\u001b[0;34m)\u001b[0m\u001b[0;34m\u001b[0m\u001b[0;34m\u001b[0m\u001b[0m\n\u001b[1;32m      6\u001b[0m \u001b[0mplt\u001b[0m\u001b[0;34m.\u001b[0m\u001b[0mylim\u001b[0m\u001b[0;34m(\u001b[0m\u001b[0;34m-\u001b[0m\u001b[0;36m0.7\u001b[0m\u001b[0;34m,\u001b[0m \u001b[0;36m0.6\u001b[0m\u001b[0;34m)\u001b[0m\u001b[0;34m\u001b[0m\u001b[0;34m\u001b[0m\u001b[0m\n",
      "\u001b[0;31mNameError\u001b[0m: name 'df' is not defined"
     ]
    },
    {
     "data": {
      "image/png": "[encoded data removed]",
      "text/plain": [
       "<Figure size 432x288 with 1 Axes>"
      ]
     },
     "metadata": {
      "needs_background": "light"
     },
     "output_type": "display_data"
    }
   ],
   "source": [
    "plt.scatter(v21[\"[o/h]\"], v21[\"[c/o]\"], s=0.1, alpha=0.2, label=\"V21\")\n",
    "plt.xlabel(\"[o/h]\")\n",
    "plt.ylabel(\"[c/o]\")\n",
    "plt.scatter(df[\"O_H\"], df[\"C_O\"], s=0.1, alpha=0.1, label=\"APOGEE\")\n",
    "plt.xlim(-1,0.7)\n",
    "plt.ylim(-0.7, 0.6)\n",
    "plt.legend(markerscale=10)"
   ]
  },
  {
   "cell_type": "code",
   "execution_count": 5,
   "id": "fbf25d7a-fdc7-459a-b72b-4f5dd53b9870",
   "metadata": {},
   "outputs": [
    {
     "ename": "NameError",
     "evalue": "name 'df' is not defined",
     "output_type": "error",
     "traceback": [
      "\u001b[0;31m---------------------------------------------------------------------------\u001b[0m",
      "\u001b[0;31mNameError\u001b[0m                                 Traceback (most recent call last)",
      "\u001b[0;32m<ipython-input-5-925887f76bc4>\u001b[0m in \u001b[0;36m<module>\u001b[0;34m\u001b[0m\n\u001b[0;32m----> 1\u001b[0;31m \u001b[0mplt\u001b[0m\u001b[0;34m.\u001b[0m\u001b[0mhist\u001b[0m\u001b[0;34m(\u001b[0m\u001b[0mdf\u001b[0m\u001b[0;34m[\u001b[0m\u001b[0;34m\"VSINI\"\u001b[0m\u001b[0;34m]\u001b[0m\u001b[0;34m[\u001b[0m\u001b[0mdf\u001b[0m\u001b[0;34m[\u001b[0m\u001b[0;34m\"VSINI\"\u001b[0m\u001b[0;34m]\u001b[0m \u001b[0;34m>\u001b[0m \u001b[0;36m0\u001b[0m\u001b[0;34m]\u001b[0m\u001b[0;34m)\u001b[0m\u001b[0;34m\u001b[0m\u001b[0;34m\u001b[0m\u001b[0m\n\u001b[0m",
      "\u001b[0;31mNameError\u001b[0m: name 'df' is not defined"
     ]
    }
   ],
   "source": [
    "plt.hist(df[\"VSINI\"][df[\"VSINI\"] > 0])"
   ]
  },
  {
   "cell_type": "code",
   "execution_count": null,
   "id": "7f102a7a-1243-4e07-a3d7-02dc02342ed7",
   "metadata": {},
   "outputs": [],
   "source": [
    "plt.scatter(v21[\"[o/h]\"], v21[\"[c/o]\"], s=1)\n",
    "plt.xlabel(\"[o/h]\")\n",
    "plt.ylabel(\"[c/o]\")"
   ]
  },
  {
   "cell_type": "code",
   "execution_count": null,
   "id": "b0b89496",
   "metadata": {},
   "outputs": [],
   "source": [
    "plt.scatter(v21[\"age\"], v21[\"[c/n]\"], s=1, c=v21[\"[o/h]\"], cmap=\"inferno\")\n",
    "plt.xlim(0, 20)\n",
    "plt.colorbar(label=\"[o/h]\")\n",
    "plt.xlabel(\"Age/Gyr\")\n",
    "plt.ylabel(\"[C/N]\")"
   ]
  },
  {
   "cell_type": "code",
   "execution_count": null,
   "id": "502ea9f1",
   "metadata": {},
   "outputs": [],
   "source": [
    "plt.hist(v21[\"[c/h]\"], 50)\n",
    "plt.xlabel(\"[c/h]\")\n",
    "plt.show()\n",
    "\n",
    "plt.hist(v21[\"[c/o]\"], 50)\n",
    "plt.xlabel(\"[c/o]\")\n",
    "plt.show()\n",
    "\n",
    "plt.hist(v21[\"[c/n]\"], 50)\n",
    "plt.xlabel(\"[c/n]\")\n"
   ]
  },
  {
   "cell_type": "code",
   "execution_count": null,
   "id": "67dceb72-ea16-4c32-bb00-43a26d30f5b6",
   "metadata": {},
   "outputs": [],
   "source": [
    "# rom skillman 2020, table 2\n",
    "# https://ui.adsabs.harvard.edu/abs/2020ApJ...894..138S/abstract\n",
    "\n",
    "aah.plot_skillman20_cnoh()\n",
    "plt.xlabel(\"[o/h]\")\n",
    "plt.ylabel(\"[c/n]\")\n",
    "plt.show()\n",
    "aah.plot_skillman20_cooh()\n",
    "plt.xlabel(\"[o/h]\")\n",
    "plt.ylabel(\"[c/o]\")"
   ]
  },
  {
   "cell_type": "code",
   "execution_count": 6,
   "id": "276e31b5-b132-4c66-b7a1-6560d6c53239",
   "metadata": {},
   "outputs": [
    {
     "data": {
      "text/plain": [
       "Text(0, 0.5, '[c/o]')"
      ]
     },
     "execution_count": 6,
     "metadata": {},
     "output_type": "execute_result"
    },
    {
     "data": {
      "image/png": "[encoded data removed]",
      "text/plain": [
       "<Figure size 432x288 with 2 Axes>"
      ]
     },
     "metadata": {
      "needs_background": "light"
     },
     "output_type": "display_data"
    }
   ],
   "source": [
    "plt.scatter(v21[\"[c/o]\"] , v21[\"[o/h]\"], c=v21[\"age\"], vmin=0, s=1)\n",
    "plt.colorbar(label=\"age/Gyr\")\n",
    "plt.xlabel(\"[o/h]\")\n",
    "plt.ylabel(\"[c/o]\")"
   ]
  },
  {
   "cell_type": "code",
   "execution_count": 7,
   "id": "f2925159",
   "metadata": {},
   "outputs": [
    {
     "ename": "KeyError",
     "evalue": "'[o/fe]'",
     "output_type": "error",
     "traceback": [
      "\u001b[0;31m---------------------------------------------------------------------------\u001b[0m",
      "\u001b[0;31mKeyError\u001b[0m                                  Traceback (most recent call last)",
      "\u001b[0;32m~/.local/lib/python3.8/site-packages/pandas/core/indexes/base.py\u001b[0m in \u001b[0;36mget_loc\u001b[0;34m(self, key, method, tolerance)\u001b[0m\n\u001b[1;32m   3079\u001b[0m             \u001b[0;32mtry\u001b[0m\u001b[0;34m:\u001b[0m\u001b[0;34m\u001b[0m\u001b[0;34m\u001b[0m\u001b[0m\n\u001b[0;32m-> 3080\u001b[0;31m                 \u001b[0;32mreturn\u001b[0m \u001b[0mself\u001b[0m\u001b[0;34m.\u001b[0m\u001b[0m_engine\u001b[0m\u001b[0;34m.\u001b[0m\u001b[0mget_loc\u001b[0m\u001b[0;34m(\u001b[0m\u001b[0mcasted_key\u001b[0m\u001b[0;34m)\u001b[0m\u001b[0;34m\u001b[0m\u001b[0;34m\u001b[0m\u001b[0m\n\u001b[0m\u001b[1;32m   3081\u001b[0m             \u001b[0;32mexcept\u001b[0m \u001b[0mKeyError\u001b[0m \u001b[0;32mas\u001b[0m \u001b[0merr\u001b[0m\u001b[0;34m:\u001b[0m\u001b[0;34m\u001b[0m\u001b[0;34m\u001b[0m\u001b[0m\n",
      "\u001b[0;32mpandas/_libs/index.pyx\u001b[0m in \u001b[0;36mpandas._libs.index.IndexEngine.get_loc\u001b[0;34m()\u001b[0m\n",
      "\u001b[0;32mpandas/_libs/index.pyx\u001b[0m in \u001b[0;36mpandas._libs.index.IndexEngine.get_loc\u001b[0;34m()\u001b[0m\n",
      "\u001b[0;32mpandas/_libs/hashtable_class_helper.pxi\u001b[0m in \u001b[0;36mpandas._libs.hashtable.PyObjectHashTable.get_item\u001b[0;34m()\u001b[0m\n",
      "\u001b[0;32mpandas/_libs/hashtable_class_helper.pxi\u001b[0m in \u001b[0;36mpandas._libs.hashtable.PyObjectHashTable.get_item\u001b[0;34m()\u001b[0m\n",
      "\u001b[0;31mKeyError\u001b[0m: '[o/fe]'",
      "\nThe above exception was the direct cause of the following exception:\n",
      "\u001b[0;31mKeyError\u001b[0m                                  Traceback (most recent call last)",
      "\u001b[0;32m<ipython-input-7-1a987fa92e0a>\u001b[0m in \u001b[0;36m<module>\u001b[0;34m\u001b[0m\n\u001b[0;32m----> 1\u001b[0;31m \u001b[0mplt\u001b[0m\u001b[0;34m.\u001b[0m\u001b[0mscatter\u001b[0m\u001b[0;34m(\u001b[0m\u001b[0mv21\u001b[0m\u001b[0;34m[\u001b[0m\u001b[0;34m\"[c/o]\"\u001b[0m\u001b[0;34m]\u001b[0m \u001b[0;34m,\u001b[0m \u001b[0mv21\u001b[0m\u001b[0;34m[\u001b[0m\u001b[0;34m\"[o/h]\"\u001b[0m\u001b[0;34m]\u001b[0m\u001b[0;34m,\u001b[0m \u001b[0mc\u001b[0m\u001b[0;34m=\u001b[0m\u001b[0mv21\u001b[0m\u001b[0;34m[\u001b[0m\u001b[0;34m\"[o/fe]\"\u001b[0m\u001b[0;34m]\u001b[0m\u001b[0;34m,\u001b[0m \u001b[0mvmin\u001b[0m\u001b[0;34m=\u001b[0m\u001b[0;36m0\u001b[0m\u001b[0;34m,\u001b[0m \u001b[0ms\u001b[0m\u001b[0;34m=\u001b[0m\u001b[0;36m1\u001b[0m\u001b[0;34m)\u001b[0m\u001b[0;34m\u001b[0m\u001b[0;34m\u001b[0m\u001b[0m\n\u001b[0m\u001b[1;32m      2\u001b[0m \u001b[0mplt\u001b[0m\u001b[0;34m.\u001b[0m\u001b[0mcolorbar\u001b[0m\u001b[0;34m(\u001b[0m\u001b[0mlabel\u001b[0m\u001b[0;34m=\u001b[0m\u001b[0;34m\"age/Gyr\"\u001b[0m\u001b[0;34m)\u001b[0m\u001b[0;34m\u001b[0m\u001b[0;34m\u001b[0m\u001b[0m\n\u001b[1;32m      3\u001b[0m \u001b[0mplt\u001b[0m\u001b[0;34m.\u001b[0m\u001b[0mxlabel\u001b[0m\u001b[0;34m(\u001b[0m\u001b[0;34m\"[o/h]\"\u001b[0m\u001b[0;34m)\u001b[0m\u001b[0;34m\u001b[0m\u001b[0;34m\u001b[0m\u001b[0m\n\u001b[1;32m      4\u001b[0m \u001b[0mplt\u001b[0m\u001b[0;34m.\u001b[0m\u001b[0mylabel\u001b[0m\u001b[0;34m(\u001b[0m\u001b[0;34m\"[c/o]\"\u001b[0m\u001b[0;34m)\u001b[0m\u001b[0;34m\u001b[0m\u001b[0;34m\u001b[0m\u001b[0m\n",
      "\u001b[0;32m~/.local/lib/python3.8/site-packages/pandas/core/frame.py\u001b[0m in \u001b[0;36m__getitem__\u001b[0;34m(self, key)\u001b[0m\n\u001b[1;32m   3022\u001b[0m             \u001b[0;32mif\u001b[0m \u001b[0mself\u001b[0m\u001b[0;34m.\u001b[0m\u001b[0mcolumns\u001b[0m\u001b[0;34m.\u001b[0m\u001b[0mnlevels\u001b[0m \u001b[0;34m>\u001b[0m \u001b[0;36m1\u001b[0m\u001b[0;34m:\u001b[0m\u001b[0;34m\u001b[0m\u001b[0;34m\u001b[0m\u001b[0m\n\u001b[1;32m   3023\u001b[0m                 \u001b[0;32mreturn\u001b[0m \u001b[0mself\u001b[0m\u001b[0;34m.\u001b[0m\u001b[0m_getitem_multilevel\u001b[0m\u001b[0;34m(\u001b[0m\u001b[0mkey\u001b[0m\u001b[0;34m)\u001b[0m\u001b[0;34m\u001b[0m\u001b[0;34m\u001b[0m\u001b[0m\n\u001b[0;32m-> 3024\u001b[0;31m             \u001b[0mindexer\u001b[0m \u001b[0;34m=\u001b[0m \u001b[0mself\u001b[0m\u001b[0;34m.\u001b[0m\u001b[0mcolumns\u001b[0m\u001b[0;34m.\u001b[0m\u001b[0mget_loc\u001b[0m\u001b[0;34m(\u001b[0m\u001b[0mkey\u001b[0m\u001b[0;34m)\u001b[0m\u001b[0;34m\u001b[0m\u001b[0;34m\u001b[0m\u001b[0m\n\u001b[0m\u001b[1;32m   3025\u001b[0m             \u001b[0;32mif\u001b[0m \u001b[0mis_integer\u001b[0m\u001b[0;34m(\u001b[0m\u001b[0mindexer\u001b[0m\u001b[0;34m)\u001b[0m\u001b[0;34m:\u001b[0m\u001b[0;34m\u001b[0m\u001b[0;34m\u001b[0m\u001b[0m\n\u001b[1;32m   3026\u001b[0m                 \u001b[0mindexer\u001b[0m \u001b[0;34m=\u001b[0m \u001b[0;34m[\u001b[0m\u001b[0mindexer\u001b[0m\u001b[0;34m]\u001b[0m\u001b[0;34m\u001b[0m\u001b[0;34m\u001b[0m\u001b[0m\n",
      "\u001b[0;32m~/.local/lib/python3.8/site-packages/pandas/core/indexes/base.py\u001b[0m in \u001b[0;36mget_loc\u001b[0;34m(self, key, method, tolerance)\u001b[0m\n\u001b[1;32m   3080\u001b[0m                 \u001b[0;32mreturn\u001b[0m \u001b[0mself\u001b[0m\u001b[0;34m.\u001b[0m\u001b[0m_engine\u001b[0m\u001b[0;34m.\u001b[0m\u001b[0mget_loc\u001b[0m\u001b[0;34m(\u001b[0m\u001b[0mcasted_key\u001b[0m\u001b[0;34m)\u001b[0m\u001b[0;34m\u001b[0m\u001b[0;34m\u001b[0m\u001b[0m\n\u001b[1;32m   3081\u001b[0m             \u001b[0;32mexcept\u001b[0m \u001b[0mKeyError\u001b[0m \u001b[0;32mas\u001b[0m \u001b[0merr\u001b[0m\u001b[0;34m:\u001b[0m\u001b[0;34m\u001b[0m\u001b[0;34m\u001b[0m\u001b[0m\n\u001b[0;32m-> 3082\u001b[0;31m                 \u001b[0;32mraise\u001b[0m \u001b[0mKeyError\u001b[0m\u001b[0;34m(\u001b[0m\u001b[0mkey\u001b[0m\u001b[0;34m)\u001b[0m \u001b[0;32mfrom\u001b[0m \u001b[0merr\u001b[0m\u001b[0;34m\u001b[0m\u001b[0;34m\u001b[0m\u001b[0m\n\u001b[0m\u001b[1;32m   3083\u001b[0m \u001b[0;34m\u001b[0m\u001b[0m\n\u001b[1;32m   3084\u001b[0m         \u001b[0;32mif\u001b[0m \u001b[0mtolerance\u001b[0m \u001b[0;32mis\u001b[0m \u001b[0;32mnot\u001b[0m \u001b[0;32mNone\u001b[0m\u001b[0;34m:\u001b[0m\u001b[0;34m\u001b[0m\u001b[0;34m\u001b[0m\u001b[0m\n",
      "\u001b[0;31mKeyError\u001b[0m: '[o/fe]'"
     ]
    }
   ],
   "source": [
    "plt.scatter(v21[\"[c/o]\"] , v21[\"[o/h]\"], c=v21[\"[o/fe]\"], vmin=0, s=1)\n",
    "plt.colorbar(label=\"age/Gyr\")\n",
    "plt.xlabel(\"[o/h]\")\n",
    "plt.ylabel(\"[c/o]\")"
   ]
  },
  {
   "cell_type": "code",
   "execution_count": 12,
   "id": "e2f180ed",
   "metadata": {},
   "outputs": [
    {
     "data": {
      "text/html": [
       "<div>\n",
       "<style scoped>\n",
       "    .dataframe tbody tr th:only-of-type {\n",
       "        vertical-align: middle;\n",
       "    }\n",
       "\n",
       "    .dataframe tbody tr th {\n",
       "        vertical-align: top;\n",
       "    }\n",
       "\n",
       "    .dataframe thead th {\n",
       "        text-align: right;\n",
       "    }\n",
       "</style>\n",
       "<table border=\"1\" class=\"dataframe\">\n",
       "  <thead>\n",
       "    <tr style=\"text-align: right;\">\n",
       "      <th></th>\n",
       "      <th>[mg/fe]</th>\n",
       "      <th>[fe/h]</th>\n",
       "      <th>[c/fe]</th>\n",
       "      <th>[n/fe]</th>\n",
       "      <th>[c/h]</th>\n",
       "      <th>[n/h]</th>\n",
       "      <th>age</th>\n",
       "      <th>[c/n]</th>\n",
       "      <th>[o/h]</th>\n",
       "      <th>[n/o]</th>\n",
       "      <th>[c/o]</th>\n",
       "      <th>[c+n/h]</th>\n",
       "      <th>[c+n/o]</th>\n",
       "    </tr>\n",
       "  </thead>\n",
       "  <tbody>\n",
       "    <tr>\n",
       "      <th>0</th>\n",
       "      <td>0.247532</td>\n",
       "      <td>-0.292042</td>\n",
       "      <td>0.158510</td>\n",
       "      <td>0.052401</td>\n",
       "      <td>-0.069385</td>\n",
       "      <td>-0.436210</td>\n",
       "      <td>10.1</td>\n",
       "      <td>0.376624</td>\n",
       "      <td>-0.079585</td>\n",
       "      <td>-0.356624</td>\n",
       "      <td>0.010201</td>\n",
       "      <td>-0.129447</td>\n",
       "      <td>-0.049862</td>\n",
       "    </tr>\n",
       "    <tr>\n",
       "      <th>1</th>\n",
       "      <td>0.042202</td>\n",
       "      <td>0.049127</td>\n",
       "      <td>-0.016018</td>\n",
       "      <td>0.197207</td>\n",
       "      <td>0.113361</td>\n",
       "      <td>0.006940</td>\n",
       "      <td>8.5</td>\n",
       "      <td>0.116219</td>\n",
       "      <td>0.073644</td>\n",
       "      <td>-0.066703</td>\n",
       "      <td>0.039717</td>\n",
       "      <td>0.091440</td>\n",
       "      <td>0.017796</td>\n",
       "    </tr>\n",
       "    <tr>\n",
       "      <th>2</th>\n",
       "      <td>0.290692</td>\n",
       "      <td>-0.351292</td>\n",
       "      <td>0.153900</td>\n",
       "      <td>0.091762</td>\n",
       "      <td>-0.122959</td>\n",
       "      <td>-0.484260</td>\n",
       "      <td>8.8</td>\n",
       "      <td>0.371100</td>\n",
       "      <td>-0.169290</td>\n",
       "      <td>-0.314970</td>\n",
       "      <td>0.046331</td>\n",
       "      <td>-0.182400</td>\n",
       "      <td>-0.013110</td>\n",
       "    </tr>\n",
       "    <tr>\n",
       "      <th>3</th>\n",
       "      <td>0.027853</td>\n",
       "      <td>-0.178222</td>\n",
       "      <td>-0.012749</td>\n",
       "      <td>0.202450</td>\n",
       "      <td>-0.069914</td>\n",
       "      <td>-0.290230</td>\n",
       "      <td>3.6</td>\n",
       "      <td>0.230115</td>\n",
       "      <td>-0.128322</td>\n",
       "      <td>-0.161908</td>\n",
       "      <td>0.058408</td>\n",
       "      <td>-0.110926</td>\n",
       "      <td>0.017395</td>\n",
       "    </tr>\n",
       "    <tr>\n",
       "      <th>4</th>\n",
       "      <td>0.257632</td>\n",
       "      <td>-0.211932</td>\n",
       "      <td>0.168140</td>\n",
       "      <td>0.196530</td>\n",
       "      <td>0.010191</td>\n",
       "      <td>-0.179516</td>\n",
       "      <td>13.7</td>\n",
       "      <td>0.199505</td>\n",
       "      <td>0.014441</td>\n",
       "      <td>-0.193956</td>\n",
       "      <td>-0.004250</td>\n",
       "      <td>-0.026094</td>\n",
       "      <td>-0.040535</td>\n",
       "    </tr>\n",
       "    <tr>\n",
       "      <th>...</th>\n",
       "      <td>...</td>\n",
       "      <td>...</td>\n",
       "      <td>...</td>\n",
       "      <td>...</td>\n",
       "      <td>...</td>\n",
       "      <td>...</td>\n",
       "      <td>...</td>\n",
       "      <td>...</td>\n",
       "      <td>...</td>\n",
       "      <td>...</td>\n",
       "      <td>...</td>\n",
       "      <td>...</td>\n",
       "      <td>...</td>\n",
       "    </tr>\n",
       "    <tr>\n",
       "      <th>5071</th>\n",
       "      <td>0.054724</td>\n",
       "      <td>-0.221732</td>\n",
       "      <td>-0.112970</td>\n",
       "      <td>0.360880</td>\n",
       "      <td>-0.153254</td>\n",
       "      <td>-0.250104</td>\n",
       "      <td>1.6</td>\n",
       "      <td>0.106649</td>\n",
       "      <td>-0.229760</td>\n",
       "      <td>-0.020344</td>\n",
       "      <td>0.076506</td>\n",
       "      <td>-0.173374</td>\n",
       "      <td>0.056385</td>\n",
       "    </tr>\n",
       "    <tr>\n",
       "      <th>5072</th>\n",
       "      <td>0.063233</td>\n",
       "      <td>0.008628</td>\n",
       "      <td>-0.007638</td>\n",
       "      <td>0.167090</td>\n",
       "      <td>0.081244</td>\n",
       "      <td>-0.063674</td>\n",
       "      <td>9.1</td>\n",
       "      <td>0.154717</td>\n",
       "      <td>0.041089</td>\n",
       "      <td>-0.104763</td>\n",
       "      <td>0.040155</td>\n",
       "      <td>0.052400</td>\n",
       "      <td>0.011311</td>\n",
       "    </tr>\n",
       "    <tr>\n",
       "      <th>5073</th>\n",
       "      <td>0.109576</td>\n",
       "      <td>0.281778</td>\n",
       "      <td>0.107047</td>\n",
       "      <td>0.196150</td>\n",
       "      <td>0.447155</td>\n",
       "      <td>0.301935</td>\n",
       "      <td>11.1</td>\n",
       "      <td>0.155018</td>\n",
       "      <td>0.364991</td>\n",
       "      <td>-0.063056</td>\n",
       "      <td>0.082164</td>\n",
       "      <td>0.418258</td>\n",
       "      <td>0.053267</td>\n",
       "    </tr>\n",
       "    <tr>\n",
       "      <th>5074</th>\n",
       "      <td>-0.041400</td>\n",
       "      <td>0.154678</td>\n",
       "      <td>-0.060001</td>\n",
       "      <td>0.448730</td>\n",
       "      <td>0.266917</td>\n",
       "      <td>0.225569</td>\n",
       "      <td>1.0</td>\n",
       "      <td>0.051146</td>\n",
       "      <td>0.167322</td>\n",
       "      <td>0.058247</td>\n",
       "      <td>0.099595</td>\n",
       "      <td>0.257891</td>\n",
       "      <td>0.090569</td>\n",
       "    </tr>\n",
       "    <tr>\n",
       "      <th>5075</th>\n",
       "      <td>0.069604</td>\n",
       "      <td>-0.034680</td>\n",
       "      <td>-0.007604</td>\n",
       "      <td>0.140335</td>\n",
       "      <td>0.069894</td>\n",
       "      <td>-0.194662</td>\n",
       "      <td>4.1</td>\n",
       "      <td>0.274354</td>\n",
       "      <td>0.026158</td>\n",
       "      <td>-0.220820</td>\n",
       "      <td>0.043736</td>\n",
       "      <td>0.022531</td>\n",
       "      <td>-0.003627</td>\n",
       "    </tr>\n",
       "  </tbody>\n",
       "</table>\n",
       "<p>4875 rows × 13 columns</p>\n",
       "</div>"
      ],
      "text/plain": [
       "       [mg/fe]    [fe/h]    [c/fe]    [n/fe]     [c/h]     [n/h]   age  \\\n",
       "0     0.247532 -0.292042  0.158510  0.052401 -0.069385 -0.436210  10.1   \n",
       "1     0.042202  0.049127 -0.016018  0.197207  0.113361  0.006940   8.5   \n",
       "2     0.290692 -0.351292  0.153900  0.091762 -0.122959 -0.484260   8.8   \n",
       "3     0.027853 -0.178222 -0.012749  0.202450 -0.069914 -0.290230   3.6   \n",
       "4     0.257632 -0.211932  0.168140  0.196530  0.010191 -0.179516  13.7   \n",
       "...        ...       ...       ...       ...       ...       ...   ...   \n",
       "5071  0.054724 -0.221732 -0.112970  0.360880 -0.153254 -0.250104   1.6   \n",
       "5072  0.063233  0.008628 -0.007638  0.167090  0.081244 -0.063674   9.1   \n",
       "5073  0.109576  0.281778  0.107047  0.196150  0.447155  0.301935  11.1   \n",
       "5074 -0.041400  0.154678 -0.060001  0.448730  0.266917  0.225569   1.0   \n",
       "5075  0.069604 -0.034680 -0.007604  0.140335  0.069894 -0.194662   4.1   \n",
       "\n",
       "         [c/n]     [o/h]     [n/o]     [c/o]   [c+n/h]   [c+n/o]  \n",
       "0     0.376624 -0.079585 -0.356624  0.010201 -0.129447 -0.049862  \n",
       "1     0.116219  0.073644 -0.066703  0.039717  0.091440  0.017796  \n",
       "2     0.371100 -0.169290 -0.314970  0.046331 -0.182400 -0.013110  \n",
       "3     0.230115 -0.128322 -0.161908  0.058408 -0.110926  0.017395  \n",
       "4     0.199505  0.014441 -0.193956 -0.004250 -0.026094 -0.040535  \n",
       "...        ...       ...       ...       ...       ...       ...  \n",
       "5071  0.106649 -0.229760 -0.020344  0.076506 -0.173374  0.056385  \n",
       "5072  0.154717  0.041089 -0.104763  0.040155  0.052400  0.011311  \n",
       "5073  0.155018  0.364991 -0.063056  0.082164  0.418258  0.053267  \n",
       "5074  0.051146  0.167322  0.058247  0.099595  0.257891  0.090569  \n",
       "5075  0.274354  0.026158 -0.220820  0.043736  0.022531 -0.003627  \n",
       "\n",
       "[4875 rows x 13 columns]"
      ]
     },
     "execution_count": 12,
     "metadata": {},
     "output_type": "execute_result"
    }
   ],
   "source": [
    "v21"
   ]
  },
  {
   "cell_type": "code",
   "execution_count": 21,
   "id": "d095b581",
   "metadata": {},
   "outputs": [
    {
     "data": {
      "text/plain": [
       "<matplotlib.collections.PathCollection at 0x7f006951d460>"
      ]
     },
     "execution_count": 21,
     "metadata": {},
     "output_type": "execute_result"
    },
    {
     "data": {
      "image/png": "[encoded data removed]",
      "text/plain": [
       "<Figure size 432x288 with 1 Axes>"
      ]
     },
     "metadata": {
      "needs_background": "light"
     },
     "output_type": "display_data"
    }
   ],
   "source": [
    "plt.scatter(v21[\"[fe/h]\"], v21[\"[mg/fe]\"], s=1)"
   ]
  },
  {
   "cell_type": "code",
   "execution_count": 34,
   "id": "3f82cd09",
   "metadata": {},
   "outputs": [
    {
     "data": {
      "text/plain": [
       "<matplotlib.colorbar.Colorbar at 0x7f0062bdc190>"
      ]
     },
     "execution_count": 34,
     "metadata": {},
     "output_type": "execute_result"
    },
    {
     "data": {
      "image/png": "[encoded data removed]",
      "text/plain": [
       "<Figure size 432x288 with 2 Axes>"
      ]
     },
     "metadata": {
      "needs_background": "light"
     },
     "output_type": "display_data"
    }
   ],
   "source": [
    "plt.scatter(v21[\"[o/h]\"], v21[\"[c/o]\"], c=v21[\"[mg/fe]\"], s=1, alpha=0.2)\n",
    "plt.xlabel(\"[o/h]\")\n",
    "plt.ylabel(\"[c/o]\")\n",
    "plt.colorbar(label=\"[mg/fe]\")"
   ]
  },
  {
   "cell_type": "code",
   "execution_count": null,
   "id": "e5224113",
   "metadata": {},
   "outputs": [],
   "source": [
    "plt.scatter(v21[\"age\"], v21[\"[cn/h]\"] - v21[\"[o/h]\"], c=v21[\"[o/h]\"], s=1, alpha=0.5)\n",
    "plt.xlabel(\"age\")\n",
    "plt.ylabel(\"[c+n/o]\")\n",
    "plt.colorbar(label=\"[o/h]\")\n",
    "plt.xlim(0, 15)"
   ]
  },
  {
   "cell_type": "code",
   "execution_count": null,
   "id": "dbbaab83",
   "metadata": {},
   "outputs": [],
   "source": [
    "plt.scatter(v21[\"[o/h]\"], v21[\"[c-n/h]\"] - v21[\"[o/h]\"], c=v21[\"age\"], vmin=0, vmax=14, s=1, alpha=0.5)\n",
    "plt.xlabel(\"[o/h]\")\n",
    "plt.ylabel(\"[c-n/o]\")\n",
    "plt.colorbar(label=\"age/Gyr\")"
   ]
  },
  {
   "cell_type": "code",
   "execution_count": null,
   "id": "af309ed3",
   "metadata": {},
   "outputs": [],
   "source": [
    "plt.scatter(v21[\"age\"], v21[\"[c-n/h]\"] - v21[\"[o/h]\"], c=v21[\"[o/h]\"], s=1, alpha=0.5)\n",
    "plt.xlabel(\"age\")\n",
    "plt.ylabel(\"[c-n/o]\")\n",
    "plt.xlim(0, 15)\n",
    "plt.colorbar(label=\"[o/h]\")"
   ]
  },
  {
   "cell_type": "markdown",
   "id": "8a9d95d1",
   "metadata": {},
   "source": [
    "# Quantifying scatter"
   ]
  },
  {
   "cell_type": "code",
   "execution_count": null,
   "id": "25809bbd",
   "metadata": {},
   "outputs": [],
   "source": [
    "plt.hist(df[\"O_FE_ERR\"], 100);"
   ]
  },
  {
   "cell_type": "code",
   "execution_count": null,
   "id": "e9fc56ca",
   "metadata": {},
   "outputs": [],
   "source": [
    "plt.hist(df[\"O_FE_ERR\"], 1000);\n",
    "plt.xlim(0, 1)"
   ]
  },
  {
   "cell_type": "code",
   "execution_count": null,
   "id": "53ea6e2b",
   "metadata": {},
   "outputs": [],
   "source": [
    "plt.hist(df[\"FE_H_ERR\"], 100);"
   ]
  },
  {
   "cell_type": "markdown",
   "id": "67b9bfc7-f9ae-488b-9234-194395f107fe",
   "metadata": {},
   "source": [
    "# MultiProcess Model\n",
    "\n",
    "Trying to apply methods from W+19 to AGB star yields. "
   ]
  },
  {
   "cell_type": "code",
   "execution_count": null,
   "id": "402c8a0e",
   "metadata": {},
   "outputs": [],
   "source": []
  }
 ],
 "metadata": {
  "kernelspec": {
   "display_name": "Python 3",
   "language": "python",
   "name": "python3"
  },
  "language_info": {
   "codemirror_mode": {
    "name": "ipython",
    "version": 3
   },
   "file_extension": ".py",
   "mimetype": "text/x-python",
   "name": "python",
   "nbconvert_exporter": "python",
   "pygments_lexer": "ipython3",
   "version": "3.8.10"
  }
 },
 "nbformat": 4,
 "nbformat_minor": 5
}
