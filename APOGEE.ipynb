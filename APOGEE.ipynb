{
 "cells": [
  {
   "cell_type": "code",
   "execution_count": 1,
   "id": "a83270a6-4cd9-40df-8e8c-de4dfb86a2cf",
   "metadata": {},
   "outputs": [],
   "source": [
    "%load_ext autoreload\n",
    "%autoreload 2\n",
    "%config Completer.use_jedi = False"
   ]
  },
  {
   "cell_type": "code",
   "execution_count": 2,
   "id": "55f450fc-8fce-4a8f-abb9-37ef78fc3c1a",
   "metadata": {},
   "outputs": [],
   "source": [
    "from astropy.io import fits\n",
    "import pandas as pd\n",
    "import matplotlib.pyplot as plt\n",
    "import pickle\n",
    "import numpy as np\n",
    "import pandas as pd\n",
    "import vice\n",
    "import apogee_analysis as aah\n",
    "from astropy.table import Table\n",
    "import plotting\n",
    "import fitsio\n",
    "import astropy as ap\n",
    "import astropy.units as u"
   ]
  },
  {
   "cell_type": "code",
   "execution_count": 3,
   "id": "4bb3dedc-3276-4fbb-8423-63d515442d9a",
   "metadata": {},
   "outputs": [],
   "source": [
    "file_name = \"allStar-dr17-synspec_rev1.fits.1\""
   ]
  },
  {
   "cell_type": "code",
   "execution_count": 4,
   "id": "f71a8b69-4230-437d-99bf-0e1d1e3c2b7a",
   "metadata": {
    "scrolled": true,
    "tags": []
   },
   "outputs": [],
   "source": [
    "ff = fits.open(file_name)\n",
    "da = ff[1].data\n",
    "ff.close()"
   ]
  },
  {
   "cell_type": "code",
   "execution_count": null,
   "id": "8c922ef7-f4e1-435a-a087-a02286996489",
   "metadata": {},
   "outputs": [],
   "source": [
    "# cuts in W+19\n",
    "mask = da[\"LOGG\"] > 1\n",
    "mask &= da[\"LOGG\"] < 2\n",
    "mask &= da[\"SNR\"] > 80\n",
    "filtered = da[mask]\n",
    "del da"
   ]
  },
  {
   "cell_type": "code",
   "execution_count": null,
   "id": "5e429085-6bf3-4123-bc71-a815a5b084a6",
   "metadata": {},
   "outputs": [],
   "source": [
    "plt.scatter(filtered[\"GLON\"], filtered[\"GAIAEDR3_R_MED_GEO\"])"
   ]
  },
  {
   "cell_type": "code",
   "execution_count": null,
   "id": "637812b5-d4a4-41b0-a99b-b977deab2647",
   "metadata": {},
   "outputs": [],
   "source": [
    "# Calculate galactocentric coordinates\n",
    "import astropy.coordinates as coord\n",
    "c = coord.SkyCoord(ra = filtered[\"RA\"] * u.degree,\n",
    "                           dec = filtered[\"DEC\"] * u.degree,\n",
    "                           distance = filtered[\"GAIAEDR3_R_MED_GEO\"] * u.pc,\n",
    "                           frame=\"icrs\")\n",
    "gc_c = c.transform_to(coord.Galactocentric)\n",
    "R_gal = np.array(np.sqrt(gc_c.x**2 + gc_c.y**2) / 1e3)\n",
    "abs_z = np.array(np.abs(gc_c.z) / 1e3)\n"
   ]
  },
  {
   "cell_type": "code",
   "execution_count": null,
   "id": "2a6acc2a-3db6-4c69-9363-96df3247d950",
   "metadata": {},
   "outputs": [],
   "source": [
    "plt.scatter(R_gal, abs_z, c=filtered[\"GLON\"], s=0.1, alpha=0.1)\n",
    "plt.colorbar(label=\"Galactic Longitude\")\n",
    "plt.xlabel(\"R_gal (kpc)\")\n",
    "plt.ylabel(\"z (kpc)\")\n",
    "plt.xlim(0, 20)\n",
    "plt.ylim(0, 20)"
   ]
  },
  {
   "cell_type": "code",
   "execution_count": null,
   "id": "a3010a65-ae45-46f1-a865-e7726c1a26f2",
   "metadata": {},
   "outputs": [],
   "source": [
    "plt.scatter(filtered[\"GLON\"], filtered[\"GLAT\"], c=R_gal, s=0.1, alpha=0.1, vmax=20)\n",
    "plt.colorbar(label=\"R_gal (kpc)\")"
   ]
  },
  {
   "cell_type": "code",
   "execution_count": null,
   "id": "1c7a97d4-54da-4f65-b115-6df6cfb58a6b",
   "metadata": {},
   "outputs": [],
   "source": [
    "o_h = filtered[\"O_Fe\"] + filtered[\"Fe_H\"]\n",
    "c_o = filtered[\"C_Fe\"] - filtered[\"O_Fe\"]\n",
    "c_n = - filtered[\"N_Fe\"] - filtered[\"C_Fe\"]\n",
    "fe_h = filtered[\"Fe_H\"]\n",
    "m_h = filtered[\"M_H\"]\n",
    "logg = filtered[\"LOGG\"]"
   ]
  },
  {
   "cell_type": "code",
   "execution_count": null,
   "id": "aaac32f4-b7a5-4ddd-8bb8-6cc6afbdefd1",
   "metadata": {},
   "outputs": [],
   "source": [
    "plt.scatter(filtered[\"Fe_H\"], filtered[\"O_Fe\"], c=abs_z, s=0.1, alpha=0.5, vmax=20)\n",
    "plt.ylim(-1,1)\n",
    "plt.xlim(-3,2)\n",
    "plt.ylabel(\"[O/Fe]\")\n",
    "plt.xlabel(\"[Fe/H]\")\n",
    "plt.colorbar()"
   ]
  },
  {
   "cell_type": "code",
   "execution_count": null,
   "id": "faac2ea4-22fd-4b8e-8e10-6dd9a244709c",
   "metadata": {},
   "outputs": [],
   "source": [
    "plt.scatter(fe_h, c_n, s=0.01, c=logg, vmin=0)\n",
    "plt.xlim(-2, 1)\n",
    "plt.ylim(-2, 2)\n",
    "plt.xlabel(\"[fe/h]\")\n",
    "plt.ylabel(\"[c/n]\")\n",
    "plt.colorbar()"
   ]
  },
  {
   "cell_type": "code",
   "execution_count": null,
   "id": "f89773b4-a203-40ca-9e5e-c4f5a04214ff",
   "metadata": {},
   "outputs": [],
   "source": [
    "xlim = (-1, 0.6)\n",
    "for ele in [\"C\", \"N\", \"O\"]:\n",
    "    plotting.density_scatter(fe_h, filtered[\"%s_FE\" % ele], xlim=xlim, ylim=(-0.5, 0.5))\n",
    "    plt.xlabel(\"[Fe/H]\")\n",
    "    plt.ylabel(\"[%s/Fe]\" % ele)\n",
    "    plt.show()"
   ]
  },
  {
   "cell_type": "code",
   "execution_count": null,
   "id": "03f451ba-5edd-437d-ae51-cf3177ac3d28",
   "metadata": {},
   "outputs": [],
   "source": [
    "plotting.density_scatter(fe_h, filtered[\"O_FE\"], xlim=(-1,0.7), ylim=(0, 0.4))\n",
    "plt.xlabel(\"fe/h\")\n",
    "plt.ylabel('o/fe')\n",
    "x = np.linspace(-1, 0.7)\n",
    "y = o_fe_fe_h_cutoff(x)\n",
    "\n",
    "plt.plot(x, y)"
   ]
  },
  {
   "cell_type": "code",
   "execution_count": null,
   "id": "9acb1c38-f824-4837-9c18-ea6e4296eec6",
   "metadata": {},
   "outputs": [],
   "source": [
    "def o_fe_fe_h_cutoff(fe_h):\n",
    "    return 0.21 - 0.15*(fe_h + 0.3) *(fe_h < -0.3)"
   ]
  },
  {
   "cell_type": "code",
   "execution_count": null,
   "id": "3d2a6ecc-ae76-413c-bd76-8f8937908e24",
   "metadata": {},
   "outputs": [],
   "source": [
    "low_fe = filtered[\"O_FE\"]  > o_fe_fe_h_cutoff(filtered[\"FE_H\"])"
   ]
  },
  {
   "cell_type": "code",
   "execution_count": null,
   "id": "e00e140c-a884-4691-afad-550e3b92abb0",
   "metadata": {},
   "outputs": [],
   "source": [
    "plt.scatter(o_h, filtered[\"C_FE\"] - filtered[\"O_FE\"], c=low_fe, alpha=0.1, s=0.1)\n",
    "plt.xlabel(\"o/h\")\n",
    "plt.ylabel(\"c/o\")"
   ]
  },
  {
   "cell_type": "code",
   "execution_count": null,
   "id": "04e06d2c-11f9-4363-81fe-8f910a0309b7",
   "metadata": {},
   "outputs": [],
   "source": [
    "plt.subplot?"
   ]
  },
  {
   "cell_type": "code",
   "execution_count": null,
   "id": "d52f0d87-8a51-4fae-a8e7-1fa08f219753",
   "metadata": {},
   "outputs": [],
   "source": [
    "def plot_in_gal_region(x, y, xlabel=None, ylabel=None):\n",
    "    fig, axs = plt.subplots(5, 3, sharex=True, sharey=True)\n",
    "    for j in range(5);\n",
    "        R_min, R_max = [(1, 3), (3, 5), (5,7), (7,9), (9,11), (11,13)][j]\n",
    "    \n",
    "        plt.figure(figsize=(20, 5))\n",
    "        for i in range(3):\n",
    "            z_min, z_max = [(0, 0.5), (0.5, 1), (1, 2)][i]\n",
    "            \n",
    "            mask = R_gal > R_min\n",
    "            mask &= R_gal < R_max\n",
    "            mask &= abs_z > z_min\n",
    "            mask &= abs_z < z_max\n",
    "            \n",
    "            plt.subplot(5, 3, j, i + 1, sharex=True, sharey = True)\n",
    "            plotting.density_scatter(x[mask], y[mask])\n",
    "            \n",
    "            plt.xlabel(xlabel)\n",
    "            plt.ylabel(ylabel)\n",
    "            plt.title(\"R = %s - %s, z = %s - %s\" %(R_min, R_max, z_min, z_max))\n",
    "        plt.show()"
   ]
  },
  {
   "cell_type": "code",
   "execution_count": null,
   "id": "9db93763-ad62-4651-8061-7efcf319d2de",
   "metadata": {},
   "outputs": [],
   "source": [
    "plot_in_gal_region(filtered[\"FE_H\"], filtered[\"O_FE\"])"
   ]
  },
  {
   "cell_type": "code",
   "execution_count": null,
   "id": "a8d37481-dbb6-4ea9-a308-eace283fc4cb",
   "metadata": {},
   "outputs": [],
   "source": [
    "plot_in_gal_region(o_h, c_o, xlabel=\"[O/H]\", ylabel=\"[C/O]\")"
   ]
  },
  {
   "cell_type": "code",
   "execution_count": null,
   "id": "bf4fbf4d-33db-4079-a1d6-f64b99b1540e",
   "metadata": {},
   "outputs": [],
   "source": [
    "plot_in_gal_region(fe_h, c_n, xlabel=\"[O/H]\", ylabel=\"[C/N]\")"
   ]
  },
  {
   "cell_type": "code",
   "execution_count": null,
   "id": "c579d46c-def9-48e1-8bfc-df14e5c9e6c4",
   "metadata": {},
   "outputs": [],
   "source": [
    "plt.scatter(T, logg)"
   ]
  },
  {
   "cell_type": "code",
   "execution_count": null,
   "id": "01337d05-de9d-44f1-bed4-1d92cf829756",
   "metadata": {},
   "outputs": [],
   "source": [
    "plotting.density_scatter(T, logg)"
   ]
  },
  {
   "cell_type": "code",
   "execution_count": null,
   "id": "39046908-3d3e-4ee8-9f69-27b0e19eb535",
   "metadata": {},
   "outputs": [],
   "source": [
    "v21 = aah.vincenzo2021()"
   ]
  },
  {
   "cell_type": "code",
   "execution_count": null,
   "id": "0c2f5d5b-c452-4098-91f1-6e9725054545",
   "metadata": {},
   "outputs": [],
   "source": [
    "plt.scatter(v21[\"[o/h]\"], v21[\"[c/o]\"], s=0.1, alpha=0.2, label=\"V21\")\n",
    "plt.xlabel(\"[o/h]\")\n",
    "plt.ylabel(\"[c/o]\")\n",
    "plt.scatter(o_h, c_o, s=0.1, alpha=0.1, label=\"APOGEE\")\n",
    "plt.xlim(-1,0.7)\n",
    "plt.ylim(-0.7, 0.6)\n",
    "plt.legend(markerscale=10)"
   ]
  },
  {
   "cell_type": "code",
   "execution_count": null,
   "id": "f866a51d-0d8e-4790-b767-385db3d20d85",
   "metadata": {},
   "outputs": [],
   "source": [
    "f = open(\"CNOdredgeup.obj\", \"rb\")\n",
    "raw = pickle.load(f, encoding = \"bytes\")\n",
    "f.close()"
   ]
  },
  {
   "cell_type": "code",
   "execution_count": null,
   "id": "76b9beee-65bb-4373-8912-c6cda753c138",
   "metadata": {},
   "outputs": [],
   "source": [
    "raw"
   ]
  },
  {
   "cell_type": "code",
   "execution_count": null,
   "id": "fbf25d7a-fdc7-459a-b72b-4f5dd53b9870",
   "metadata": {},
   "outputs": [],
   "source": [
    "plt.hist(filtered[\"VSINI\"][filtered[\"VSINI\"] > 0])"
   ]
  },
  {
   "cell_type": "code",
   "execution_count": null,
   "id": "7f102a7a-1243-4e07-a3d7-02dc02342ed7",
   "metadata": {},
   "outputs": [],
   "source": [
    "plt.scatter(v21[\"[o/h]\"], v21[\"[c/o]\"], s=1)\n",
    "plt.xlabel(\"[o/h]\")\n",
    "plt.ylabel(\"[c/o]\")"
   ]
  },
  {
   "cell_type": "code",
   "execution_count": 49,
   "id": "67dceb72-ea16-4c32-bb00-43a26d30f5b6",
   "metadata": {},
   "outputs": [
    {
     "data": {
      "image/png": "[encoded data removed]",
      "text/plain": [
       "<Figure size 432x288 with 1 Axes>"
      ]
     },
     "metadata": {
      "needs_background": "light"
     },
     "output_type": "display_data"
    },
    {
     "data": {
      "image/png": "[encoded data removed]",
      "text/plain": [
       "<Figure size 432x288 with 1 Axes>"
      ]
     },
     "metadata": {
      "needs_background": "light"
     },
     "output_type": "display_data"
    }
   ],
   "source": [
    "# rom skillman 2020, table 2\n",
    "# https://ui.adsabs.harvard.edu/abs/2020ApJ...894..138S/abstract\n",
    "\n",
    "aah.plot_skillman20_cnoh()\n",
    "plt.show()\n",
    "aah.plot_skillman20_cooh()"
   ]
  },
  {
   "cell_type": "code",
   "execution_count": 165,
   "id": "276e31b5-b132-4c66-b7a1-6560d6c53239",
   "metadata": {},
   "outputs": [
    {
     "data": {
      "text/plain": [
       "Text(0, 0.5, '[c/o]')"
      ]
     },
     "execution_count": 165,
     "metadata": {},
     "output_type": "execute_result"
    },
    {
     "data": {
      "image/png": "[encoded data removed]",
      "text/plain": [
       "<Figure size 432x288 with 2 Axes>"
      ]
     },
     "metadata": {
      "needs_background": "light"
     },
     "output_type": "display_data"
    }
   ],
   "source": [
    "plt.scatter(v21[\"[c/o]\"] , v21[\"[o/h]\"], c=v21[\"age\"], vmin=0, s=1)\n",
    "plt.colorbar(label=\"age/Gyr\")\n",
    "plt.xlabel(\"[o/h]\")\n",
    "plt.ylabel(\"[c/o]\")"
   ]
  },
  {
   "cell_type": "markdown",
   "id": "67b9bfc7-f9ae-488b-9234-194395f107fe",
   "metadata": {},
   "source": [
    "# MultiProcess Model\n",
    "\n",
    "Trying to apply methods from W+19 to AGB star yields. "
   ]
  }
 ],
 "metadata": {
  "kernelspec": {
   "display_name": "Python 3",
   "language": "python",
   "name": "python3"
  },
  "language_info": {
   "codemirror_mode": {
    "name": "ipython",
    "version": 3
   },
   "file_extension": ".py",
   "mimetype": "text/x-python",
   "name": "python",
   "nbconvert_exporter": "python",
   "pygments_lexer": "ipython3",
   "version": "3.6.8"
  }
 },
 "nbformat": 4,
 "nbformat_minor": 5
}
