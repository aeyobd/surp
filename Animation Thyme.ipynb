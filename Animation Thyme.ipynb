{
 "cells": [
  {
   "cell_type": "code",
   "execution_count": 1,
   "id": "5a48cd23-4362-4d00-99a2-630cde687f6c",
   "metadata": {},
   "outputs": [],
   "source": [
    "%load_ext autoreload\n",
    "%autoreload 2\n",
    "%config Completer.use_jedi = False"
   ]
  },
  {
   "cell_type": "code",
   "execution_count": 2,
   "id": "d8deb5dc-6972-4f08-9664-0d964493132b",
   "metadata": {},
   "outputs": [],
   "source": [
    "from model_comparer import ModelComparer\n",
    "import warnings\n",
    "from matplotlib import pyplot as plt\n",
    "import matplotlib as mpl\n",
    "mpl.rcParams[\"axes.unicode_minus\"] = False\n",
    "\n",
    "warnings.filterwarnings('ignore')\n",
    "from plotting_utils import fig_saver, legend_outside, dual_plot\n",
    "import gas_phase_data\n",
    "import numpy as np\n",
    "import apogee_analysis as aah\n",
    "from vice_utils import load_model\n",
    "from matplotlib import animation"
   ]
  },
  {
   "cell_type": "code",
   "execution_count": 3,
   "id": "a043ede4-7fc5-4378-8c16-2bd4f6c33d10",
   "metadata": {},
   "outputs": [],
   "source": [
    "import sys\n",
    "sys.path.append(\"../\")\n",
    "import surp\n",
    "\n",
    "import vice\n",
    "import pickle\n",
    "# from vice_to_pickle import vice_model, pickle_output\n",
    "import pandas as pd\n",
    "from dataclasses import dataclass\n",
    "import rc_params"
   ]
  },
  {
   "cell_type": "code",
   "execution_count": 4,
   "id": "f36abc83-6cfd-43ab-8a7e-adaa53a40606",
   "metadata": {},
   "outputs": [],
   "source": [
    "def plot_movie(df, x, y, tlabel=None, savefile=None, dpi=100, **kwargs):\n",
    "    fig = plt.figure()\n",
    "    ax = plt.axes(xlim=(-1.5, 1), ylim=(-0.5, 0.5))\n",
    "    line = ax.scatter([], [])\n",
    "    ax.set(\n",
    "        xlabel=x,\n",
    "        ylabel=y\n",
    "    )\n",
    "    plt.tight_layout()\n",
    "    \n",
    "    def init():\n",
    "        line.set_data([], [])\n",
    "        return line,\n",
    "    \n",
    "    \n",
    "    def animate(i):\n",
    "\n",
    "        t = i/10\n",
    "        \n",
    "        xt = df.loc[t][x]\n",
    "        yt = df.loc[t][y]\n",
    "        ct = df.loc[t].index\n",
    "                \n",
    "        line.set_offsets([(a, b) for a, b in zip(xt, yt)])\n",
    "        line.set_array(ct)\n",
    "        \n",
    "        ax.set_title(\"%s = %1.2f Gyr\" % (tlabel,t))\n",
    "        return line,\n",
    "\n",
    "    \n",
    "    ani = animation.FuncAnimation(fig, animate, interval=50, frames=130)\n",
    "\n",
    "    # converting to an html5 video\n",
    "    # video = ani.to_html5_video()\n",
    "\n",
    "    # embedding for the video\n",
    "    #html = display.HTML(video)\n",
    "\n",
    "    # draw the animation\n",
    "    # display.display(html)\n",
    "    \n",
    "    if savefile is not None:\n",
    "        writervideo = animation.FFMpegWriter(fps=20)\n",
    "        ani.save(savefile, writer=writervideo, dpi=dpi)\n",
    "    plt.close()"
   ]
  },
  {
   "cell_type": "code",
   "execution_count": 6,
   "id": "0fdeb3c7",
   "metadata": {},
   "outputs": [],
   "source": [
    "h = pd.read_csv(\"cristallo11_f0.2_Z0.3_eta1_v0.1_lateburst.csv\", index_col=0)\n",
    "\n",
    "filt = h[\"R\"] < 15.4\n",
    "filt &= h[\"R\"] > 2\n",
    "h = h[filt]\n",
    "h.set_index([\"time\", \"R\"], inplace=True)\n"
   ]
  },
  {
   "cell_type": "code",
   "execution_count": 49,
   "id": "7acf8de9-1c24-45b9-af01-7df08319709f",
   "metadata": {
    "scrolled": false
   },
   "outputs": [],
   "source": [
    "plot_movie(h, \"[o/h]\", \"[c/o]\", \"T\", savefile=\"lateburst.gif\")"
   ]
  },
  {
   "cell_type": "code",
   "execution_count": 109,
   "id": "c11005a1",
   "metadata": {},
   "outputs": [],
   "source": [
    "plot_movie(h, \"[o/fe]\", \"[c/o]\", \"T\", savefile=\"lateburst_fe.gif\")"
   ]
  },
  {
   "cell_type": "code",
   "execution_count": 12,
   "id": "2e9d2f80",
   "metadata": {},
   "outputs": [],
   "source": [
    "def plot_movie(savefile=None, dpi=100, dt=0.1, fps=20, **kwargs):\n",
    "    \n",
    "    fig, axs = plt.subplots(1, 3, figsize=(15, 5))\n",
    "    \n",
    "    t = 0.01\n",
    "    o_h = h.loc[t][\"[o/h]\"]\n",
    "    c_o = h.loc[t][\"[c/o]\"]\n",
    "    o_fe = h.loc[t][\"[o/fe]\"]\n",
    "    R = h.loc[t].index\n",
    "    line = axs[0].scatter(o_h, c_o, c=o_h, vmin=-1, vmax=0.5, cmap=\"jet\")\n",
    "    axs[0].set(\n",
    "        xlabel=\"[O/H]\",\n",
    "        ylabel=\"[C/O]\",\n",
    "        xlim=(-1, 1),\n",
    "        ylim=(-1, 0.6)\n",
    "    )\n",
    "    fig.colorbar(line, ax=axs[0], label=\"[O/H]\")\n",
    "    \n",
    "    line_fe = axs[1].scatter(o_fe, c_o, c=o_h, vmin=-1, vmax=0.5, cmap=\"jet\")\n",
    "    axs[1].set(\n",
    "        xlabel=\"[O/Fe]\",\n",
    "        ylabel=\"[C/O]\",\n",
    "        xlim=(-0.2, 0.6),\n",
    "        ylim=(-1, 0.6)\n",
    "    )\n",
    "    # fig.colorbar(line_fe, ax=axs[1], label=\"[O/H]\")\n",
    "    \n",
    "\n",
    "    df = h.groupby(level=0).mean()\n",
    "    axs[2].plot(df.index, df[\"sfr\"])\n",
    "    axs[2].set(\n",
    "        xlabel=\"t/Gyr\",\n",
    "        ylabel=\"SFR\"\n",
    "    )\n",
    "    \n",
    "    t = 0.01\n",
    "    y0 = df[\"sfr\"][t]\n",
    "    \n",
    "    t_lines, = axs[2].plot([t, t, 0], [0, y0, y0], ls=\"--\", color=\"k\")\n",
    "    t_marker = axs[2].scatter(t, y0, s=100, zorder=3)\n",
    "    \n",
    "    \n",
    "    plt.tight_layout()\n",
    "    \n",
    "    def init():\n",
    "        line.set_data([], [])\n",
    "        return line,\n",
    "    \n",
    "\n",
    "    def animate(i, line, line_fe, t_lines, t_marker):\n",
    "\n",
    "        t = np.round(i*dt, 2)\n",
    "        print(\"\\r\", \"t = \", t, end=\"\")\n",
    "        \n",
    "        o_h = h.loc[t][\"[o/h]\"]\n",
    "        c_o = h.loc[t][\"[c/o]\"]\n",
    "        o_fe = h.loc[t][\"[o/fe]\"]\n",
    "        R = h.loc[t].index\n",
    "        \n",
    "                \n",
    "        line.set_offsets([(a, b) for a, b in zip(o_h, c_o)])\n",
    "        line.set_array(o_h)\n",
    "        s = 3*R\n",
    "        # line.set_sizes(s)\n",
    "        line_fe.set_offsets([(a, b) for a, b in zip(o_fe, c_o)])\n",
    "        line_fe.set_array(o_h)\n",
    "        # line_fe.set_sizes(s)\n",
    "\n",
    "        y0 = df[\"sfr\"][t]\n",
    "        t_lines.set_data([t, t, 0], [0, y0, y0])\n",
    "        t_marker.set_offsets((t, y0))\n",
    "        \n",
    "        plt.suptitle(\"t = %1.2f Gyr\" % (t))\n",
    "        \n",
    "        return line,\n",
    "\n",
    "    \n",
    "    ani = animation.FuncAnimation(fig, animate, fargs=(line, line_fe, t_lines, t_marker),\n",
    "                                  interval=50, frames=int(13.2/dt))\n",
    "    print(ani)\n",
    "    # converting to an html5 video\n",
    "    # video = ani.to_html5_video()\n",
    "\n",
    "    # embedding for the video\n",
    "    #html = display.HTML(video)\n",
    "\n",
    "    # draw the animation\n",
    "    # display.display(html)\n",
    "    \n",
    "    if savefile is not None:\n",
    "        writervideo = animation.FFMpegWriter(fps=fps)\n",
    "        ani.save(savefile, writer=writervideo, dpi=dpi)\n",
    "    plt.close()"
   ]
  },
  {
   "cell_type": "code",
   "execution_count": 13,
   "id": "81b72200",
   "metadata": {
    "scrolled": true
   },
   "outputs": [
    {
     "name": "stdout",
     "output_type": "stream",
     "text": [
      "<matplotlib.animation.FuncAnimation object at 0x7fed437b4a30>\n",
      " t =  13.0"
     ]
    }
   ],
   "source": [
    "plot_movie(savefile=\"lateburst_all.gif\")"
   ]
  },
  {
   "cell_type": "code",
   "execution_count": null,
   "id": "2b881660",
   "metadata": {},
   "outputs": [
    {
     "name": "stdout",
     "output_type": "stream",
     "text": [
      "<matplotlib.animation.FuncAnimation object at 0x7fed69bd30d0>\n",
      " t =  8.74"
     ]
    }
   ],
   "source": [
    "plot_movie(savefile=\"lateburst_all2.gif\", dt=0.01, fps=100)"
   ]
  },
  {
   "cell_type": "code",
   "execution_count": null,
   "id": "2bcc2df0",
   "metadata": {},
   "outputs": [],
   "source": []
  }
 ],
 "metadata": {
  "kernelspec": {
   "display_name": "Python 3 (ipykernel)",
   "language": "python",
   "name": "python3"
  },
  "language_info": {
   "codemirror_mode": {
    "name": "ipython",
    "version": 3
   },
   "file_extension": ".py",
   "mimetype": "text/x-python",
   "name": "python",
   "nbconvert_exporter": "python",
   "pygments_lexer": "ipython3",
   "version": "3.10.7"
  }
 },
 "nbformat": 4,
 "nbformat_minor": 5
}
