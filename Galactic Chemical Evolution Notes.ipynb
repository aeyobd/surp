{
 "cells": [
  {
   "cell_type": "markdown",
   "id": "283fe786-12dc-425d-b2b5-b7789e98fca4",
   "metadata": {},
   "source": [
    "# Introduction to Galactic Chemical Evolution\n",
    "\n",
    "Galactic Chemical Evolution (GCE) studies how different mechanisms produce different elements on galactic scales. There are several importaint processes that affect chemical abundances: Core Collapse Supernovae (CCSN), Type Ia Supernovae (SNIa), Asymptotic Giant Branch Stars (AGB), and other effects not as importaint to this research such as Neutron-Neutron star mergers.\n",
    "- Core Collapse Supernovae (CCSN)\n",
    "- Type Ia Supernovae (SNIa)\n",
    "- AGB Stars\n",
    "- Neutron Neutron Star Mergers\n",
    "\n",
    "![periodic_table](./final_figures/jajohnson_periodic_table.png)"
   ]
  },
  {
   "cell_type": "markdown",
   "id": "d2c69b3a-9b7a-4de1-850f-9f118e03010d",
   "metadata": {},
   "source": [
    "## Core Collapse Supernovae\n",
    "CCSN are the explosions of massive ($M\\gtrsim 8M_\\odot$) stars when they fuse until they create a Fe core unable to create pressure by fusion, which then collapses and causes the star to explode. Because of the Mass-lifetime relationship for stars ($\\tau \\sim M^{-2.5}$), the timescales for CCSN are 50Myr and shorter. When modeling GCE, we approximate the contribution of CCSN as an instantaneous enrichment of the ISM.\n",
    "\n",
    "There is still significant uncertainty in the predicted yields from CCSN because of the many uncertainties in modeling these effects. For example, we do not know which stars explode or if some collapse straight into a black hole, and the minimum mass for a CCSN has some uncertainty. In addition, modeling the physics and nuclear reactions during a CCSN remains a significant challenge.\n",
    "\n",
    "CCSN are contributers to $\\alpha$-elements (C, O, Sr,), some Fe-peak elements like Iron, and may be a contributer to r-process elements.\n",
    "\n",
    "By comparing how other elements evolve against an element such as Oxygen (where CCSN is the only major producer), we can understand how the CCSN contribution of an element changes over time and the relative strength of this contribution. If the ratio of an element to one known to be produced only by CCSN is constant, than we can infer that the other element is likely also only produced by CCSN. An extension of this argument is used in the two-process model in Weinberg+19 where they estimate the relative contributions of SNIa and CCSN by fiting models to the dependence on oxygen and iron of various elements."
   ]
  },
  {
   "cell_type": "markdown",
   "id": "b2947299-c4ea-43d1-a2f7-e8529e560c05",
   "metadata": {},
   "source": [
    "## Type Ia Supernovae\n",
    "SNIa are thermonuclear explosions of white dwarf stars. White dwarf stars are the reminants of lower mass stars ($M \\lesssim 8 M_\\odot$), and because there is a maximum mass of a white dwarf before it is unable to support itself through degeneracy pressure, accresion of matter from a companion star or collisions with other white dwarfs can cause the star to collapse. During the collapse, densities and temperatures become high enough to cause runaway nuclear processes fusing atoms up to iron peak elements. \n",
    "\n",
    "SNIa are one of the slowest enrichment processes of the ISM because there can be a significant delay from when the white dwarf is formed and when the SNIa happens, up to 10Gyr. We model the delay time distribution of SNIa with a form like $DTD(t) \\sim t^{-1.1}$ which explodes approximantly equal numbers of stars in the range 0.1-1Gyr as 1-10Gyr. "
   ]
  },
  {
   "cell_type": "markdown",
   "id": "0559facc-e49c-4521-a638-5cf4471967b1",
   "metadata": {},
   "source": [
    "## AGB Stars\n",
    "\n",
    "AGB stars are late-stage low mass stars ($M \\lesssim 8 M_\\odot$) which have already initiated Helium burning and have built up an inert C/O core. Because both H and He are fused in shells around the core, these stars are more unstable and can go through pulsations in Thermally Pulsating AGB stars (TP-AGB). \n",
    "\n",
    "During pulsations, the convective layer can extend into the core of the AGB star and \"drege up\" material from the C/O core, increasing the carbon abundance of the star. However, the carbon can be converted into Nitrogen through the CNO cycle, which to first order converts all carbon into nitrogen via proton capture.\n",
    "\n",
    "The delay time distribution of AGB enrichment is based on the stellar lifetime relationship and is typically a shorter time-scale than for Type Ia supernovae (order 100Myr?) but is still non-negligable. \n",
    "\n",
    "AGB stars contribute both s-process elements (heavier than Fe) and some lighter isotopes, notably C and N to the ISM.\n"
   ]
  },
  {
   "cell_type": "markdown",
   "id": "e90306c8-cd4a-4948-8a28-ef1883417024",
   "metadata": {},
   "source": [
    "# Notation\n",
    "\n",
    "A short aside on notation before we dive into all the equations.\n",
    "\n",
    "- [A/H] is the log of the abundance of A, scaled to solar abundances from Asplund+09. $[A/H] = \\log_{10} (Z_A/Z_{A, \\odot})$\n",
    "- [A/B] is the log of the ratio of the abundance of A to B, scaled to solar abundances. $[A/B] = \\log_{10} (Z_A/Z_B) - \\log_{10} (Z_{A, \\odot}/Z_{B,\\odot})$\n",
    "- $\\eta$ is the outflow rate\n",
    "- $r$ is the return fraction\n",
    "- $y_X$ is the fractional net yield of some element X: given a population of stars of mass M, we expect a net yield of X to be $M y_X$. Because the differential equations above are linear, we can also seperate $y_X$ into different components such as $y_X^{cc}$, the net fractional yield of X from CCSN.\n",
    "- $Z$ is the metalicity fraction\n",
    "- $Z_X$ is the metalicity fraction of some element X\n",
    "- $\\dot{M}_\\star$ is the star formation rate"
   ]
  },
  {
   "cell_type": "markdown",
   "id": "c41cb307-dee4-4491-8356-5336d01eb7c0",
   "metadata": {},
   "source": [
    "## Stellar Feedback\n",
    "Because of Supernovae and stellar winds, we approximate that the outflow rate from the galaxy is proportional to the rate of star formation."
   ]
  },
  {
   "cell_type": "markdown",
   "id": "c6045d4f-040f-4f8c-9c0d-fbc664789508",
   "metadata": {},
   "source": [
    "# Analytic Approximations and Equilibrium \n",
    "\n",
    "Following the work of WAF17, we can use analytic approximations to form simple models of GCE processes. \n",
    "\n",
    "For an element like Oxygen which is only produced by CCSN, the rate of change of the mass of oxygen in the ISM can be described with \n",
    "\n",
    "$$\\dot{M_O} = \\dot{M}_O^{cc} - Z_O \\dot{M}_\\star - Z_O \\dot{M}_{outflow} + Z_O \\dot{M}_{recycle}\\\\\n",
    "= y_O^{cc} \\dot{M}_\\star - (\\eta + 1 - r) Z_o \\dot{M}_\\star$$\n",
    "\n",
    "Where $\\eta = \\dot{M}_\\text{outflow}/\\dot{M}_\\star$ is the outflow rate, $r$ is the fraction of a star returned to the interstellar medium, $\\dot{M}_\\star$ is the rate of star formation, and $y_O^{cc}$ is the net fraction yield of Oxygen from CCSN. From this equation, we can solve for the equilibrium abundance of Oxygen in the case of constant star formation:\n",
    "$$ Z_O^{eq} = \\frac{y_O^{cc} }{1 + \\eta - r} $$\n",
    "\n",
    "For an element such as iron with a CCSN component, we add a second more complex source term which depends on the star formation history because of the delay time distribution in iron."
   ]
  },
  {
   "cell_type": "markdown",
   "id": "d25f3654-5128-4a08-ac23-07ed2de77e82",
   "metadata": {},
   "source": [
    "## Timescale to equilibrium\n",
    "\n",
    "From WAF, we learn about the general timescales by which a population reaches equilibrium.\n"
   ]
  },
  {
   "cell_type": "markdown",
   "id": "bdd9ec66-2e2e-45d1-80ac-d2828c9c8025",
   "metadata": {},
   "source": [
    "# One Zone Models\n",
    "While far from an accurate representation of chemical evolution on galactic scales, the simplicity of one-zone models makes them a useful tool for understanding how supernovae, outflows, and star formation interact to create different chemical abundance patterns. \n",
    "\n",
    "![waf_2](./figures/waf17_figure2.jpeg)\n",
    "\n",
    "Reproduction of figure 2a from WAF17. In this figure, the analytic tracks for [O/Fe]-[Fe/H] are shown for different values of $\\eta$, outflow rate, and $\\tau_\\star$, star formation rate. While varying $\\eta$ causes the equilibrium abundance (and thus the endpoint) of the track to vary in [Fe/H], increasing $\\tau_\\star$ causes the \"knee\" of the track to occur at lower metalicity because the iron abundance has less time to increase due to CCSNe alone (where [O/Fe] is constant) before SNIa have time to explode, dropping [O/Fe].\n",
    "\n",
    "![waf_3](./figures/waf17_figure3.jpeg)\n",
    "\n",
    "This plot, a reproduction of firgure 3a from WAF17 shows the [O/Fe]-[Fe/H] tracks for different star formation histories. Notice how the details of the star formation history have little effect on the shape of the distribution. The exponentially declining SFH increases the importance of SNIa on the metalicities because SNIa explode when the ISM is further depleted. \n",
    "\n",
    "![waf_5](./figures/waf17_figure5b.jpeg)\n",
    "\n",
    "Here we show the metalicity distribution function (MDF) of the stellar evolution models. "
   ]
  },
  {
   "cell_type": "markdown",
   "id": "fea8ad7f-0822-457b-863e-706b436216b7",
   "metadata": {},
   "source": [
    "# Sudden Events\n",
    "\n",
    "Sudden changes in the inflow rate or star formation rate create characteristic shapes in the tracks stars make in [O/Fe]-[Fe/H] plots."
   ]
  },
  {
   "cell_type": "markdown",
   "id": "7d8242e5-3095-44d5-9901-a6505afc53f1",
   "metadata": {},
   "source": [
    "# Multizone Models\n",
    "\n",
    "To more accurately represent the chemical evolution of galaxies, we need to upgrade to multizone GCE models."
   ]
  },
  {
   "cell_type": "markdown",
   "id": "77e92ffd-b4f9-424d-836b-9f0cae2ae8f5",
   "metadata": {},
   "source": [
    "## Galactic Dynamics\n",
    "\n",
    "Stars move around and make things diffic"
   ]
  },
  {
   "cell_type": "code",
   "execution_count": null,
   "id": "7672a1f1-4bb3-4ba8-a37a-69a88bc0e671",
   "metadata": {},
   "outputs": [],
   "source": []
  },
  {
   "cell_type": "code",
   "execution_count": null,
   "id": "d1c6e5c4-10c1-4f83-bc99-fd7f1c5b8a5a",
   "metadata": {},
   "outputs": [],
   "source": []
  }
 ],
 "metadata": {
  "kernelspec": {
   "display_name": "Python 3",
   "language": "python",
   "name": "python3"
  },
  "language_info": {
   "codemirror_mode": {
    "name": "ipython",
    "version": 3
   },
   "file_extension": ".py",
   "mimetype": "text/x-python",
   "name": "python",
   "nbconvert_exporter": "python",
   "pygments_lexer": "ipython3",
   "version": "3.6.8"
  }
 },
 "nbformat": 4,
 "nbformat_minor": 5
}
