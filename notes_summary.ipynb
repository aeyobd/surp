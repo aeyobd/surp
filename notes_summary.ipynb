{
 "cells": [
  {
   "cell_type": "markdown",
   "id": "74a1c921",
   "metadata": {},
   "source": [
    "# AGB Carbon Yields"
   ]
  },
  {
   "cell_type": "markdown",
   "id": "50bc6477",
   "metadata": {},
   "source": [
    "\n",
    "\n",
    "Net fracional yields of carbon from AGB, $y_{C}^{agb}$, as a function of mass, $M$, and metalicity, $Z$. Each panel represents a different AGB model."
   ]
  },
  {
   "cell_type": "markdown",
   "id": "953be4c1",
   "metadata": {},
   "source": [
    "\n",
    "![cristallo11](figures/yields_C_stellar_models.jpeg)\n",
    "\n",
    "Plot of the fractional yields of carbon as a function of time for a population of stars born at the same time at solar metalicity. Normalized so yield at present day is 1."
   ]
  },
  {
   "cell_type": "markdown",
   "id": "767aae95",
   "metadata": {},
   "source": [
    "## AGB Analytic parameterization\n",
    "$$\n",
    "y_c^{agb}(M, Z) = \\frac{m_c}{C} \\left(1 + \\beta \\log \\frac{Z}{Z_\\odot}\\right) e^{-(M-M_0)^2/2\\sigma^2}\n",
    "$$\n",
    "With $m_c$ related to the net carbon yields, $\\beta$ as the strength of the metalicity dependence, $M_0$ is the peak mass, $\\sigma$ is the width of the distrabution in mass, and $C$ is a constant scale factor such that the IMF averaged AGB yield at solar metalicity is $m_C$.\n",
    "\n",
    "We find that $m_c = 0.0008$, $m_0=2.6$, $\\beta=-1.2$, $\\sigma=0.5$ gives a resonable approximation. \n",
    "\n",
    "![](figures/y_c_agb_analytic.jpeg)"
   ]
  },
  {
   "cell_type": "markdown",
   "id": "af50cfee",
   "metadata": {},
   "source": [
    "![agb_time_yields](figures/agb_dtd_0.014.jpeg)"
   ]
  },
  {
   "cell_type": "markdown",
   "id": "47f10d9a",
   "metadata": {},
   "source": [
    "![agb_Z_yields](figures/y_C_AGB_to_Z.jpeg)\n",
    "\n",
    "The net fractional yield of carbon as a function of metalicity. This includes an analytic model with $y_C(Z) =y_C^{cc} + \\alpha(1+\\beta Z)$ where $\\alpha=0.001$ and $\\beta=-20$."
   ]
  },
  {
   "cell_type": "markdown",
   "id": "2e0f675e",
   "metadata": {},
   "source": [
    "# CCSNe Carbon Yields"
   ]
  },
  {
   "cell_type": "markdown",
   "id": "66edf992",
   "metadata": {},
   "source": [
    "We parameterize the CCSNe yields with\n",
    "$$\n",
    "y_C^{cc} = 0.015 \\times 0.5 \\left(\\frac{Z}{Z_\\odot}\\right)^{0.2}\n",
    "$$"
   ]
  },
  {
   "cell_type": "markdown",
   "id": "f6451031",
   "metadata": {},
   "source": [
    "![ccns_yields](figures/CCSN_C_yields_to_Z.jpeg)\n",
    "![](figures/CCSN_O_yields_to_Z.jpeg)\n",
    "![](figures/CCSN_CO_yields_to_Z.jpeg)"
   ]
  },
  {
   "cell_type": "markdown",
   "id": "295bb185",
   "metadata": {},
   "source": [
    "IMF-averaged net fractional yields of Carbon from CCSNe as a function of metalicity for different models and rotation rates."
   ]
  },
  {
   "cell_type": "markdown",
   "id": "6b6eec1d",
   "metadata": {},
   "source": [
    "# Multizone Models"
   ]
  },
  {
   "cell_type": "markdown",
   "id": "fb3bb9dd",
   "metadata": {},
   "source": [
    "## Changing AGB Model\n",
    "![cooh1](figures/stars.jpeg)"
   ]
  },
  {
   "cell_type": "markdown",
   "id": "865fb56d",
   "metadata": {},
   "source": [
    "![ybp](figures/f_oh_agb.jpeg)\n"
   ]
  },
  {
   "cell_type": "markdown",
   "id": "efb2ba0b",
   "metadata": {},
   "source": [
    "## Outflows vs Increased CC\n",
    "\n",
    "![cooh_cc](figures/stars_eta.jpeg)"
   ]
  },
  {
   "cell_type": "markdown",
   "id": "eeba3604",
   "metadata": {},
   "source": [
    "## Alternate CCSNe Yields\n",
    "![cooh_cc](figures/stars_cc_yields.jpeg)\n"
   ]
  },
  {
   "cell_type": "markdown",
   "id": "0a16fd4c",
   "metadata": {},
   "source": [
    "![](figures/cooh_gas_cc_yields.jpeg)"
   ]
  },
  {
   "cell_type": "markdown",
   "id": "a17b4cd7",
   "metadata": {},
   "source": [
    "# Analytic"
   ]
  },
  {
   "cell_type": "markdown",
   "id": "675c2b32",
   "metadata": {},
   "source": [
    "![](figures/analytic.jpeg)\n",
    "![](figures/analytic_gas.jpeg)"
   ]
  },
  {
   "cell_type": "markdown",
   "id": "b6c2e19a",
   "metadata": {},
   "source": [
    "![](figures/cnoh_gas_analytic_alpha.jpeg)"
   ]
  },
  {
   "cell_type": "code",
   "execution_count": null,
   "id": "84807d44",
   "metadata": {},
   "outputs": [],
   "source": []
  }
 ],
 "metadata": {
  "kernelspec": {
   "display_name": "Python 3",
   "language": "python",
   "name": "python3"
  },
  "language_info": {
   "codemirror_mode": {
    "name": "ipython",
    "version": 3
   },
   "file_extension": ".py",
   "mimetype": "text/x-python",
   "name": "python",
   "nbconvert_exporter": "python",
   "pygments_lexer": "ipython3",
   "version": "3.8.10"
  }
 },
 "nbformat": 4,
 "nbformat_minor": 5
}
