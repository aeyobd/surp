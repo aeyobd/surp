{
 "cells": [
  {
   "cell_type": "markdown",
   "id": "0ed67682",
   "metadata": {},
   "source": [
    "# Analytic models"
   ]
  },
  {
   "cell_type": "markdown",
   "id": "1fb6c79d",
   "metadata": {},
   "source": [
    "$$ \n",
    "y_C^{agb} = m_c(1 + \\beta \\log \\frac{Z}{Z_\\odot} ) \n",
    "$$\n",
    "\n",
    "$$\n",
    "[C/O] = 0.5 + 0.2 [M/H]\n",
    "$$\n",
    "which equates to\n",
    "$$\n",
    "y_C^{cc}(Z) = 0.5 y_O \\left( \\frac{Z}{Z_\\odot} \\right)^{0.2} \\frac{Z_{C, \\odot}}{Z_{O, \\odot}}\n",
    "$$\n",
    "\n",
    "We find that $m_c = 0.003$  and $\\beta = -1.2$ is roughly consistant with."
   ]
  },
  {
   "cell_type": "markdown",
   "id": "b6e68170",
   "metadata": {},
   "source": [
    "# Calculating equilibrium tracks\n",
    "Below, we investigate the equilibrium trends using a simple formalism. To begin, recall that the equilibrium abundance for carbon is \n",
    "\n",
    "$$\n",
    "\\dot{M}_c = y_c^{cc} \\dot{M}_\\star + y_c^{agb} \\langle \\dot{M}_\\star \\rangle_{agb} - (1 + \\eta - r) Z_c \\dot{M}_\\star\n",
    "$$\n",
    "\n",
    "Where\n",
    "$$\n",
    "\\langle \\dot{M}_\\star \\rangle_{agb}(T) = \\int_0^T \\dot{M}_\\star(t) f_{agb}(T - t)\\ dt\n",
    "$$\n",
    "where $f_{agb}$ is the fraction of AGB stars with a lifetime $t$. $f_{agb}$ should be normalized such that $\\int_1^8 m^{-2.3} f_{agb}(m)  dm = 1$.\n",
    "\n",
    "We can solve the first equation for the equilibrium abundace under an exponentially declining SFH: $\\dot{M_g}/M_g = -1/\\tau_{sfh}$, as\n",
    "$$\n",
    "Z_c^{eq} = \\frac{y_c^{cc} + y_c^{agb} \\frac{\\langle \\dot{M}_\\star \\rangle_{agb}}{\\dot{M}_\\star} }{1 + \\eta - r - \\tau_\\star/\\tau_{sfh}}\n",
    "$$\n",
    "\n",
    "Also, make the approximation that $y_c^{agb} = \\alpha + Z \\beta$ where $\\alpha$ and $\\beta$ are arbitrary coefficients representing the limiting low metallicity carbon AGB yield and the AGB yield dependence on metalicity. To further simplify, assume an exponentially declining SFH: $\\dot{M}_\\star \\propto e^{-t/\\tau_{sfh}}$, we can write \n",
    "$$\n",
    "\\frac{\\langle \\dot{M}_\\star \\rangle_{agb}}{\\dot{M}_\\star} = e^{\\tau_{agb}/\\tau_{sfh}}\n",
    "$$\n",
    "Using these substitutions, we can write:\n",
    "$$\n",
    "Z_c^{eq}(R) = \\frac{y_c^{cc} + (\\alpha + \\beta Z(R))  e^{\\frac{\\tau_{agb}}{\\tau_{sfh}(R)}} }{1 + \\eta(R) - r - \\tau_\\star / \\tau_{sfh}}\n",
    "$$\n",
    "\n",
    "Since we also know the equilibrium abundance of oxygen:\n",
    "$$\n",
    "Z_o^{eq}(R) = \\frac{y_o^{cc}}{1 + \\eta(R) - r - \\tau_\\star / \\tau_{sfh}}\n",
    "$$\n",
    "we can make plots of \\[C/O\\]-\\[O/H\\] of the equilibrium abundance tracks, which should be an accurate approximation of the model results."
   ]
  },
  {
   "cell_type": "markdown",
   "id": "21983368",
   "metadata": {},
   "source": [
    "![](figures/analytic_model.jpeg)"
   ]
  },
  {
   "cell_type": "markdown",
   "id": "f6be379a",
   "metadata": {},
   "source": [
    "In the upper left plot, we plot the equilibrium track in \\[C/O\\]-\\[O/H\\] for our analytic yields model. The mean \\[C/O\\] is plotted for V21 with the shaded region indicating one standard deviation from the mean trend. We are able to chose parameters such that the equilibrium track reproduces V21's data.\n",
    "\n",
    "In the upper right, we plot $\\log y_C^{cc} / y_O^{cc} - \\log Z_{C, \\odot} / Z_{O, \\odot}$ (the equilibrium abundance of \\[C/O\\] if AGB contribution was zero) against metalicity for our analytic model and various CCSNe models. The analytic model agrees with Sukhbold at solar metalicity but requires a steeply sloping metalicity dependence. \n",
    "\n",
    "In the bottom left, the net fractional AGB carbon yield for the analytic model (purple) is plotted against other steller evolution models. We choose to leave the AGB metalicity dependence in rough agreement with C11. Changes to the AGB yields only have moderate effects on the total carbon yields unless the AGB yields are strongly amplified.\n",
    "\n",
    "In the bottom right, the fractional contribution of AGB stars to carbon production, $f_{agb}$ is plotted as a function of metalicity in the galaxy (which includes changing SFR and eta with radius). This analytic model has generally small AGB contributions, and $f_{agb}$ decreases as $Z$ increases because the net carbon AGB yields are negatively sloped with metalicity.\n",
    "\n"
   ]
  },
  {
   "cell_type": "markdown",
   "id": "872405a0",
   "metadata": {},
   "source": [
    "# Multizone\n",
    "![](figures/analytic.jpeg)\n",
    "![](figures/analytic_gas.jpeg)"
   ]
  },
  {
   "cell_type": "markdown",
   "id": "e2c6dd1b",
   "metadata": {},
   "source": [
    "From the plots above, the analytic model is able to reproduce the "
   ]
  }
 ],
 "metadata": {
  "kernelspec": {
   "display_name": "Python 3",
   "language": "python",
   "name": "python3"
  },
  "language_info": {
   "codemirror_mode": {
    "name": "ipython",
    "version": 3
   },
   "file_extension": ".py",
   "mimetype": "text/x-python",
   "name": "python",
   "nbconvert_exporter": "python",
   "pygments_lexer": "ipython3",
   "version": "3.8.10"
  }
 },
 "nbformat": 4,
 "nbformat_minor": 5
}
