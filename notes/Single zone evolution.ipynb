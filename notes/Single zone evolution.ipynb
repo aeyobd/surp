{
 "cells": [
  {
   "cell_type": "markdown",
   "id": "aa02e7b4",
   "metadata": {},
   "source": [
    "# Introduction to Single Zone Models\n",
    "\n",
    "Accurate models of chemical evolution requireaccounting for the changing star formation rate, gas supply, and other variables with radius and accounting for the movement of stars between different populations. These *multizone* models (each zone a different stellar population/gas supply) are more computationally expensive and complex. \n",
    "\n",
    "Single zone models are, in comparison, a great testing ground for understanding how different factors affect chemical abundance evolution. In a singlezone model, we only keep track of the total or average of each quantity. With these simpler models, we can even use analytic tools to investigate the models.\n"
   ]
  },
  {
   "cell_type": "markdown",
   "id": "720bd9da",
   "metadata": {},
   "source": [
    "# Notation\n",
    "\n",
    "A short aside on notation before we dive into all the equations.\n",
    "\n",
    "- [A/H] is the log of the abundance of A, scaled to solar abundances from Asplund+09. $[A/H] = \\log_{10} (Z_A/Z_{A, \\odot})$\n",
    "- [A/B] is the log of the ratio of the abundance of A to B, scaled to solar abundances. $[A/B] = \\log_{10} (Z_A/Z_B) - \\log_{10} (Z_{A, \\odot}/Z_{B,\\odot})$\n",
    "- $\\eta$ is the outflow rate\n",
    "- $r$ is the return fraction\n",
    "- $y_X$ is the fractional net yield of some element X: given a population of stars of mass M, we expect a net yield of X to be $M y_X$. Because the differential equations above are linear, we can also seperate $y_X$ into different components such as $y_X^{cc}$, the net fractional yield of X from CCSN.\n",
    "- $Z$ is the metalicity fraction\n",
    "- $Z_X$ is the metalicity fraction of some element X\n",
    "- $\\dot{M}_\\star$ is the star formation rate"
   ]
  },
  {
   "cell_type": "markdown",
   "id": "ea81e2cf",
   "metadata": {},
   "source": [
    "# Analytic Approximations and Equilibrium \n",
    "\n",
    "Following the work of WAF17, we can use analytic approximations to form simple models of GCE processes. \n",
    "\n",
    "### CCSNe only\n",
    "For an element like Oxygen which is only produced by CCSN, the rate of change of the mass of oxygen in the ISM can be described with \n",
    "\n",
    "$$\\dot{M_O} = \\dot{M}_O^{cc} - Z_O \\dot{M}_\\star - Z_O \\dot{M}_{outflow} + Z_O \\dot{M}_{recycle}\\\\\n",
    "= y_O^{cc} \\dot{M}_\\star - (\\eta + 1 - r) Z_o \\dot{M}_\\star$$\n",
    "\n",
    "Where $M_O$ is the mass of oxygen, $M_O^{cc}$ is the rate of oxygen added to the ISM from CCSNe, $Z_O$ is the gas fraction of oxygen in the ISM, $\\eta = \\dot{M}_\\text{outflow}/\\dot{M}_\\star$ is the outflow rate, $r$ is the recycling rate(the fractional mass an average star returns to the ISM), $\\dot{M}_\\star$ is the rate of star formation, and $y_O^{cc}$ is the net fraction yield of Oxygen from CCSN. From this equation, we can solve for the equilibrium abundance of Oxygen in the case of constant star formation:\n",
    "$$ Z_O^{eq} = \\frac{y_O^{cc} }{1 + \\eta - r} $$\n",
    "\n",
    "So the equilibrium abundance is proportional to the net yield of oxygen from CCSNe but also is aproximately proportional to $1/\\eta$. So equilibrium abundance alone cannot determine the CCSNe yields since an increase in $y_O^{cc}$ would have a similar effect as a decrease in $\\eta$. \n",
    "\n",
    "### Iron\n",
    "\n",
    "For an element such as iron with a CCSN component, we add a second more complex source term which depends on the star formation history because of the delay time distribution in iron.\n",
    "$$\\dot{M_{Fe}} = y_{Fe}^{cc} \\dot{M}_\\star + y_{Fe}^{Ia}\\langle \\dot{M}_\\star\\rangle_{Ia} - (\\eta + 1 - r) Z_{Fe} \\dot{M}_\\star$$\n",
    "\n",
    "Where we have to add a new parameter, $\\langle \\dot{M}_\\star\\rangle_{Ia}$, which is the SNIa-time-averaged star formation rate, or equivalenty the rate at which mass from SNIa is currently being ejected into the ISM. The added SNIa component results in a similar expression for the equilibrium abundance and we can show that \n",
    "\n",
    "$$ \\frac{Z_{O, eq}}{Z_{Fe}} = \\frac{y_O^{cc}}{y_{Fe}^{cc} + y_{Fe}^{Ia} \\frac{\\langle \\dot{M}_\\star\\rangle_{Ia}}{ \\dot{M}_\\star} } $$"
   ]
  },
  {
   "cell_type": "markdown",
   "id": "d5a72a53",
   "metadata": {},
   "source": [
    "# Single zone simulations\n",
    "\n",
    "![waf_2](../figures/waf17_figure2.jpeg)\n",
    "\n",
    "Reproduction of figure 2a from WAF17. In this figure, the analytic tracks for [O/Fe]-[Fe/H] are shown for different values of $\\eta$, outflow rate, and $\\tau_\\star$, star formation rate. While varying $\\eta$ causes the equilibrium abundance (and thus the endpoint) of the track to vary in [Fe/H], increasing $\\tau_\\star$ causes the \"knee\" of the track to occur at lower metalicity because the iron abundance has less time to increase due to CCSNe alone (where [O/Fe] is constant) before SNIa have time to explode, dropping [O/Fe].\n",
    "\n",
    "![waf_3](../figures/waf17_figure3.jpeg)\n",
    "\n",
    "This plot, a reproduction of firgure 3a from WAF17 shows the [O/Fe]-[Fe/H] tracks for different star formation histories. Notice how the details of the star formation history have little effect on the shape of the distribution. The exponentially declining SFH increases the importance of SNIa on the metalicities because SNIa explode when the ISM is further depleted. \n",
    "\n",
    "![waf_5](../figures/waf17_figure5b.jpeg)\n",
    "\n",
    "Here we show the metalicity distribution function (MDF) of the stellar evolution models. "
   ]
  },
  {
   "cell_type": "markdown",
   "id": "2b3d8534",
   "metadata": {},
   "source": [
    "# Sudden Events\n",
    "\n",
    "Changes in the gas supply or infall rate affect the tracks of one-zone models in \\[O/Fe\\]-\\[Fe/H\\] space. We consider both models with a sudden increase of gas supply where SFR is constant, and models with a constant infall rate with increased SFR.\n",
    "\n",
    "The models are calculated with VICE's singlezone function which solves the above differential equations.\n",
    "\n",
    "\n",
    "![eff_burst](../figures/sz_ofefeh_effburst.jpeg)\n",
    "\n",
    "## Gas Burst\n",
    "\n",
    "Before the gas burst (at about 8Gyr ? confirm), the evolution proceeds along the tracks above. At the start of the burst, a large amount of gas is added, immediatly diluting everything causing a drop in \\[Fe/H\\] while leaving \\[O/Fe\\] unchanged since both elements are diluted by the same amount. Next, the contribution from CCSNe is added to the ISM, causing an increase in \\[O/Fe\\] and a increase in metalicity. Next, stars formed during the burst begin to also explode as SNIa, resulting in a dropping \\[O/Fe\\] and further increasing \\[Fe/H\\] as the model aproaches its final chemical equilibrium. \\[Fe/H\\] is overshot slightly because more SNIa explode from the burst than gas is added resulting in a temporary Fe enrichment that reduces over time.\n",
    "\n",
    "![gas_burst](../figures/sz_ofefeh_gasburst.jpeg)\n",
    "\n",
    "So, while the gas burst creates a characteristic loopty-loop in the \\[Fe/H\\] plane, the final abundances is mostly unaffected by the SFH, and furthermore the deviations from the non-burst model are not large.\n",
    "\n",
    "## Effeciency Burst\n",
    "Another scenario that JW20 investigate is a sudden increase in SFE. "
   ]
  },
  {
   "cell_type": "markdown",
   "id": "c7033bd5",
   "metadata": {},
   "source": [
    "# Carbon\n",
    "\n",
    "In this case, we investigate three different SFH histories which are more similar to the multizone models we will run. The fiducial model uses the insideout SFH:\n",
    "$$ \\dot{M}_\\star \\propto (1 - e^{-t/\\tau_{rise}}) e^{-t/\\tau_{sfh}}\n",
    "$$\n",
    "Where $\\dot{M}_\\star$ is the star formation rate, $\\tau_{rise}$ is approximately the time where the SFR is highest, and $\\tau_{sfh}$ is the timescale by which the SFR declines.\n",
    "\n",
    "We also consider different lateburst models, which have a SFH similar to the insideout model but with an additional gaussian-like factor $g(x) = 1 + A e^{-\\frac{(t-\\tau_{burst})^2}{2 \\sigma_{burst}^2}}$. \n",
    "\n",
    "For the parameters, we adopt $\\tau_{rise} = 2$Gyr, $\\tau_sfh = 15$. \n",
    "In the lateburst model, $A=1.5$, $s_{burst}=1$, $t_{burst}=11.2$. \n",
    "The earlyburst model moves the burst to a time of 8Gyr and reduces the amplitude to $A=1$. The largeburst model uses $A=2.5$.\n",
    "\n",
    "All models are normalized as to form the same total mass of stars over 13.2Gyr.\n",
    "\n",
    "\n",
    "![sfh_comp](../figures/SFH_comparison.jpeg)"
   ]
  },
  {
   "cell_type": "markdown",
   "id": "62865eba",
   "metadata": {},
   "source": [
    "![fiducial](../figures/c_sz_fiducial.jpeg)\n",
    "\n",
    "Above is the results for our fiducial singlezone model. The evolution begins at a plateau of $[C/O]\\approx -0.5$ corresponding to the ratio of $y_{C}^{cc}$ to $y_{O}^{cc}$. Then, the delayed contribution from AGB stars helps drive up \\[C/O\\] as metalicity increases. At high enough metalicities, \\[C/O\\] begins to drop since the AGB contribution of carbon decreases with increasing metalicity.\n",
    "\n",
    "\n",
    "The \\[C/N\\] ratio is doubly affected by metalicity since N yields increase and C yields decrease with increasing metalicity. \\[C/N\\] starts at a plataeu at low metalicity (\\[Fe/H\\]). Then, the time delayed AGB yields cause a net enrichment of N and relatively less enrichment of N so \\[C/N\\] drops. \n",
    "\n",
    "Also notice how quickly the abundance ratio evolves towards equilibrium, with little change after the first 4Gyr. In comparison, elements such as Iron take a longer time to reach equilibrium, showing significant movement in the \\[O/Fe\\]-\\[Fe/H\\] plane at late times. __The shorter delay time of carbon reduces most of the impact of SFH on observable abundance patters__. We explore SFH in the next section.\n",
    "\n",
    "## Underproduction of Carbon\n",
    "\n",
    "A main issue with the onezone model above (which extends into multizones) is \\[C/O\\] reaches an equilibrium at around -0.4, which is more than a factor of 3 smaller than observed abundances (see APOGEE notebook). Some parameters that might resolve the descrepency are the yields of different elements and $\\eta$, the outflow rate. Since an increase in yields has the same effect on equilibrium abundances as a decrease in outflows, we explore both options. \n",
    "\n",
    "![fiducial](../figures/c_sz_reduced_eta.jpeg)\n",
    "Increasing $\\eta$ by a factor of 3 while leaving carbon yields unchanged results in an approximate tripling of the equilibrium abundance of carbon. To keep the equilibrium abundances of other elements the same, we reduce the yields of all other elements by a factor of 3. Since the nitrogen yields are reduced and carbon yields are the same, the C/N ratio triples.\n",
    "Another consequence of increasing $\\eta$ and reducing yields is while \\[C/O\\] reaches a reasonable equilibrium abundance, \\[O/H\\] reaches a slightly lower equilibrium abundance since reducing $\\eta$ by 3 does not exactly reduce $(1+\\eta - r)$ by 3. Besides overal shifts in the abundance tracks, the qualititative shape remains similar.\n",
    "\n",
    "\n",
    "![fiducial](../figures/c_sz_inc_cc.jpeg)\n",
    "\n",
    "In the above plot, we consider the alternate case where CCSNe rates of Carbon are increased. This results in the same overal shift to the abundances. However with only the CCNSe contrion amplified, the \\[C/O\\] ratio varies little over time (note the y-axis scale). If the observed \\[C/O\\] ratio is tight, then CCNSe likely dominate in the production of carbon.\n",
    "\n"
   ]
  },
  {
   "cell_type": "markdown",
   "id": "641a1f1b",
   "metadata": {},
   "source": [
    "# Changing the SFH\n",
    "\n",
    "Like for \\[O/Fe\\]-\\[Fe-H\\], the trajectory of a singlezone model through \\[C/O\\]-\\[O/H\\] space includes a loopty-loop during and after the burst happens. \n",
    "\n",
    "![fiducial](../figures/c_sz_lateburst.jpeg)\n",
    "\n",
    "Above is an example of our lateburst model. Since the burst is caused by an increased gas infall, at the begining of the burst at 11.2 Gyr, the \\[O/H\\] ratio begins to drop from its equilibrium value. \\[C/O\\] also begins to drop since while the burst increased star formation, the additional contributions from AGB stars are not significant yet. As the gas infall slows, the \\[O/H\\] ratio starts to increase again and the delayed contribution from AGB stars drives up the \\[C/O\\] ratio. Finally, the system evolves to a similar equilibrium as the non-starburst case.\n",
    "\n",
    "\n",
    "![fiducial](../figures/c_sz_earlyburst.jpeg)\n",
    "\n",
    "![fiducial](../figures/c_sz_bigburst.jpeg)\n",
    "\n",
    "In the early lateburst model, the starburst has a similar effect although occurs earlier in the evolution resulting in a loopty-loop when the system is still progressing towards equilibrium. The major difference is that \\[O/H\\] and especially \\[C/O\\] overshoot equilibrium more visibaly resulting in an additional loop. The overshoot happens because the increased enrichment during the starburst is deposited into a declining gas supply, resulting in super-equilibrium abundances. The equilibrium is then restored as the gas supply returns to its pre-burst exponential decline with less star formation. The carbon super-equilibrium abundances occur at a slightly later time than with oxygen because of the delayed AGB contribution, causing \\[C/O\\] to increase and then decrease.\n",
    "\n",
    "We also show a model with a larger amplitude star burst. The larger amplitude only results in a larger loopty-loop but is qualititatively very similar to the lateburst model.\n",
    "\n",
    "Especially compared to the fiducial model, the pertubation in SFH causes the abundance ratios to change much more at late times. Local variations in SFH could be a source of scatter in observed abundance relationships. However, SFH has little impact on the abundances of younger stars.  "
   ]
  },
  {
   "cell_type": "markdown",
   "id": "d36a249d",
   "metadata": {},
   "source": [
    "# Conclusions\n",
    "- We run singlezone models using an exponentially declining SFH with an initial rise to gain understanding into how different parameters affect abundances for Carbon\n",
    "- Carbon is underproduced by about a factor of 3 given our fiducial assumptions. Two possible resolutions could be increaseing the carbon yields or decreasing outlow rates and the yields of other elements. \n",
    "- Models evolve quickly to equilibrium under near-constant SFH, but equilibrium values are relatively unaffected by SFH\n",
    "- SFH could explain some scatter or superequilibrium values in stellar abundances "
   ]
  },
  {
   "cell_type": "code",
   "execution_count": null,
   "id": "4a763233",
   "metadata": {},
   "outputs": [],
   "source": []
  }
 ],
 "metadata": {
  "kernelspec": {
   "display_name": "Python 3",
   "language": "python",
   "name": "python3"
  },
  "language_info": {
   "codemirror_mode": {
    "name": "ipython",
    "version": 3
   },
   "file_extension": ".py",
   "mimetype": "text/x-python",
   "name": "python",
   "nbconvert_exporter": "python",
   "pygments_lexer": "ipython3",
   "version": "3.8.10"
  }
 },
 "nbformat": 4,
 "nbformat_minor": 5
}
