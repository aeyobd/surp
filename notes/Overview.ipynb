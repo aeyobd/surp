{
 "cells": [
  {
   "cell_type": "markdown",
   "id": "74a1c921",
   "metadata": {},
   "source": [
    "# AGB Carbon Yields"
   ]
  },
  {
   "cell_type": "markdown",
   "id": "50bc6477",
   "metadata": {},
   "source": [
    "<img src=\"../figures/yields_C_stellar_models.jpeg\" width=\"800px\">\n",
    "\n",
    "Net fracional yields of carbon from AGB, $y_{C}^{agb}$, as a function of mass, $M$, and metalicity, $Z$. Each panel represents a different AGB model."
   ]
  },
  {
   "cell_type": "markdown",
   "id": "953be4c1",
   "metadata": {},
   "source": [
    "\n",
    "<img src=\"../figures/y_C_agb_to_t.jpeg\" width=\"500px\">\n",
    "Plot of the fractional yields of carbon as a function of time for a population of stars born at the same time at solar metalicity. Normalized so yield at present day is 1."
   ]
  },
  {
   "cell_type": "markdown",
   "id": "47f10d9a",
   "metadata": {},
   "source": [
    "<img src=\"../figures/y_C_AGB_to_Z.jpeg\" width=\"500px\">\n",
    "\n",
    "The net fractional yield of carbon as a function of metalicity. This includes an analytic model with $y_C(Z) =y_C^{cc} + \\alpha(1+\\beta Z)$ where $\\alpha=0.001$ and $\\beta=-20$."
   ]
  },
  {
   "cell_type": "markdown",
   "id": "2e0f675e",
   "metadata": {},
   "source": [
    "# CCSNe Carbon Yields"
   ]
  },
  {
   "cell_type": "markdown",
   "id": "f6451031",
   "metadata": {},
   "source": [
    "<img src=\"../figures/CCSN_C_yields_to_Z.jpeg\" width=\"500px\">"
   ]
  },
  {
   "cell_type": "markdown",
   "id": "295bb185",
   "metadata": {},
   "source": [
    "IMF-averaged net fractional yields of Carbon from CCSNe as a function of metalicity for different models and rotation rates."
   ]
  },
  {
   "cell_type": "markdown",
   "id": "6b6eec1d",
   "metadata": {},
   "source": [
    "# Multizone Models"
   ]
  },
  {
   "cell_type": "markdown",
   "id": "fb3bb9dd",
   "metadata": {},
   "source": [
    "<img src=\"../figures/cooh_agb_models.jpeg\" width=\"500px\">\n",
    "<img src=\"../figures/nooh_agb_models.jpeg\" width=\"500px\">\n",
    "<img src=\"../figures/cnfeh_agb_models.jpeg\" width=\"500px\">\n",
    "<img src=\"../figures/cooh_stars_eta.jpeg\" width=\"500px\">"
   ]
  },
  {
   "cell_type": "markdown",
   "id": "56084d35",
   "metadata": {},
   "source": []
  },
  {
   "cell_type": "markdown",
   "id": "5c8ce7c7",
   "metadata": {},
   "source": [
    "<img src=\"../figures/cooh_stars_yields_cc.jpeg\" width=\"500px\">\n",
    "<img src=\"../figures/nooh_stars_yields_cc.jpeg\" width=\"500px\">\n",
    "<img src=\"../figures/cnfeh_stars_yields_cc.jpeg\" width=\"500px\">\n",
    "<img src=\"../figures/cooh_gas_cc_yields.jpeg\" width=\"500px\">"
   ]
  },
  {
   "cell_type": "code",
   "execution_count": null,
   "id": "64b78d21",
   "metadata": {},
   "outputs": [],
   "source": []
  }
 ],
 "metadata": {
  "kernelspec": {
   "display_name": "Python 3",
   "language": "python",
   "name": "python3"
  },
  "language_info": {
   "codemirror_mode": {
    "name": "ipython",
    "version": 3
   },
   "file_extension": ".py",
   "mimetype": "text/x-python",
   "name": "python",
   "nbconvert_exporter": "python",
   "pygments_lexer": "ipython3",
   "version": "3.8.10"
  }
 },
 "nbformat": 4,
 "nbformat_minor": 5
}
