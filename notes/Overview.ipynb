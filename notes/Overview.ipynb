{
 "cells": [
  {
   "cell_type": "markdown",
   "id": "74a1c921",
   "metadata": {},
   "source": [
    "# AGB Carbon Yields"
   ]
  },
  {
   "cell_type": "markdown",
   "id": "50bc6477",
   "metadata": {},
   "source": [
    "![cristallo11](../figures/yields_C_stellar_models.jpeg)"
   ]
  },
  {
   "cell_type": "markdown",
   "id": "2e0f675e",
   "metadata": {},
   "source": [
    "# CCSNe Carbon Yields"
   ]
  },
  {
   "cell_type": "markdown",
   "id": "f6451031",
   "metadata": {},
   "source": [
    "![ccns_yields](../figures/CCSN_C_yields_to_Z.jpeg)"
   ]
  },
  {
   "cell_type": "markdown",
   "id": "295bb185",
   "metadata": {},
   "source": [
    "Above, the net fractional yields of carbon"
   ]
  },
  {
   "cell_type": "markdown",
   "id": "6b6eec1d",
   "metadata": {},
   "source": [
    "# Multizone Models"
   ]
  },
  {
   "cell_type": "markdown",
   "id": "fb3bb9dd",
   "metadata": {},
   "source": [
    "![cooh1](../figures/cooh_agb_models.jpeg)"
   ]
  },
  {
   "cell_type": "markdown",
   "id": "56084d35",
   "metadata": {},
   "source": [
    "Look at Vincienzo's 2 process observations, seperate high/low alpha sequences indicate high AGB contribution?\n",
    "\n",
    "Type Ia: C/O white dwarf? would predict high Fe, Mg, O too but unlikely\n"
   ]
  },
  {
   "cell_type": "code",
   "execution_count": null,
   "id": "00e99b83",
   "metadata": {},
   "outputs": [],
   "source": []
  }
 ],
 "metadata": {
  "kernelspec": {
   "display_name": "Python 3",
   "language": "python",
   "name": "python3"
  },
  "language_info": {
   "codemirror_mode": {
    "name": "ipython",
    "version": 3
   },
   "file_extension": ".py",
   "mimetype": "text/x-python",
   "name": "python",
   "nbconvert_exporter": "python",
   "pygments_lexer": "ipython3",
   "version": "3.8.10"
  }
 },
 "nbformat": 4,
 "nbformat_minor": 5
}
