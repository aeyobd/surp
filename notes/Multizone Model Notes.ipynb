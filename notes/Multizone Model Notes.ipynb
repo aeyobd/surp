{
 "cells": [
  {
   "cell_type": "markdown",
   "id": "96a926fe",
   "metadata": {},
   "source": [
    "# Introduction to the Model\n",
    "\n",
    "In a multizone model, we treat different sections of the galaxy as seperate (but interacting) singlezone models. The galaxy with a star forming disk of 15kpc is divided into 0.1kpc rings, each ring a different model. "
   ]
  },
  {
   "cell_type": "markdown",
   "id": "1a051f26",
   "metadata": {},
   "source": [
    "# Stellar migration\n",
    "\n",
    "From our current understanding of GCE, we believe that an effect called stellar migration is required to match observations. Stellar migration is the movement of stars to orbits in different galactic radii over time. If there was no migration, each radius of the galaxy would "
   ]
  }
 ],
 "metadata": {
  "kernelspec": {
   "display_name": "Python 3",
   "language": "python",
   "name": "python3"
  },
  "language_info": {
   "codemirror_mode": {
    "name": "ipython",
    "version": 3
   },
   "file_extension": ".py",
   "mimetype": "text/x-python",
   "name": "python",
   "nbconvert_exporter": "python",
   "pygments_lexer": "ipython3",
   "version": "3.8.10"
  }
 },
 "nbformat": 4,
 "nbformat_minor": 5
}
