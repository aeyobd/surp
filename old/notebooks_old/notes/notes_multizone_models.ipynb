{
 "cells": [
  {
   "cell_type": "markdown",
   "id": "96a926fe",
   "metadata": {},
   "source": [
    "# Introduction to the Model\n",
    "\n",
    "In a multizone model, we treat different sections of the galaxy as seperate (but interacting) singlezone models. The galaxy with a star forming disk of 15kpc is divided into 0.1kpc rings, each ring a different model. "
   ]
  },
  {
   "cell_type": "markdown",
   "id": "990fd5ef",
   "metadata": {},
   "source": [
    "# Carbon Results\n",
    "\n"
   ]
  },
  {
   "cell_type": "markdown",
   "id": "9f09e1fb",
   "metadata": {},
   "source": [
    "![cooh1](figures/stars.jpeg)\n"
   ]
  },
  {
   "cell_type": "markdown",
   "id": "1ed2f96e",
   "metadata": {},
   "source": [
    "In the above plot, the abundance ratio \\[C/O\\] is plotted against \\[O/H\\]. The lines are the median abundances of each star at present day across the disk for each AGB model we consider, with the shaded region the standard deviation of the spread of stars. The points are V21's age-corrected birth abundances for RGB stars. \n",
    "\n",
    "Most noticably, all models consistantly underpredict \\[C/O\\]. The choice of model has a relatively small impact on the abundance tracks, and the models are mostly qualitatively similar, as expected from their similar shapes of AGB yields against mass and metalicity. \n",
    "\n",
    "Another potential discrepancy between the predicted tracks and the observed abundances is the observations seem to have a slight positive slope in contrast to the negative slope the models predict for $[O/H] > -0.2$. \n",
    "\n",
    "A negative slope makes sense as carbon AGB yields decline with metalicity, so the equilibrium carbon abundance should also decline with metalicity. \n",
    "\n",
    "We can still notice some of the differences in each AGB model. C11 has one of the flattest metalicity dependences, resulting in an also near-constant \\[C/O\\]. In comparison K10 and K16 demonstrate a sharper drop off at $[O/H] \\approx 0.2$ similar to how the net fractional carbon yields drop off. V13 also has a negative slope although smaller since the metalicity dependence is stronger than C11 but more gradual than K10 and K16. \n",
    "However, the differences are still small, and V13 is the only model that deviates significantly from the others.\n",
    "\n",
    "In the \\[C/N\\]-\\[Fe/H\\] plane, the differences between models are much clearer, however these differences originate from substantial differences in the N yields of each model. For example, K10 predicts decreasing N with increasing metalicity and K16 has an almost flat metalicity dependence in N, whereas V13 and C11 have strongly increasing carbon yields with metalicity. "
   ]
  },
  {
   "cell_type": "markdown",
   "id": "153c6ba6",
   "metadata": {},
   "source": [
    "![ybp](figures/f_oh_agb.jpeg)\n",
    "A plot of fractional AGB contribution to carbon production for the fiducial carbon model using $y_C^{cc}=0.002$ and C+11 AGB yields in the solar neighborhood."
   ]
  },
  {
   "cell_type": "markdown",
   "id": "8bc079a3",
   "metadata": {},
   "source": [
    "# Changing the SFH\n",
    "The models seem to be mostly independent of SFH. Likely because of smaller AGB contribution\n",
    "![cooh_cc](figures/stars_sfh.jpeg)"
   ]
  },
  {
   "cell_type": "markdown",
   "id": "64c070ee",
   "metadata": {},
   "source": [
    "# Modified CCSNe Yields"
   ]
  },
  {
   "cell_type": "markdown",
   "id": "c7233b4f",
   "metadata": {},
   "source": [
    "Since the CCSNe yields have a major effect on the equilibrium abundances and CCSNe is a more dominant source of carbon, smaller adjustments to the CCSNe rate will modify the stellar abundances. \n",
    "\n",
    "First, we investigate the CCSNe by increasing the rotation rate of the progeniters to 300m/s using yields from LC18. LC18 uses interpolated Z-dependent yields from LC18 with v=300, and amplified simply triples all sources of carbon production."
   ]
  },
  {
   "cell_type": "markdown",
   "id": "5be20987",
   "metadata": {},
   "source": [
    "![cooh_cc](figures/stars_cc_yields.jpeg)\n",
    "\n",
    "## Outflows\n",
    "![cooh_cc](figures/stars_eta.jpeg)\n",
    "The reduced eta model reduces $\\eta$ by 3 along with all yields except C and N. C and N yields are from C11. This model almost reproduces the LC18 constant increased CCSNe yields demonstrating the eta-yield degeneracy."
   ]
  },
  {
   "cell_type": "markdown",
   "id": "32672470",
   "metadata": {},
   "source": [
    "# "
   ]
  }
 ],
 "metadata": {
  "kernelspec": {
   "display_name": "Python 3",
   "language": "python",
   "name": "python3"
  },
  "language_info": {
   "codemirror_mode": {
    "name": "ipython",
    "version": 3
   },
   "file_extension": ".py",
   "mimetype": "text/x-python",
   "name": "python",
   "nbconvert_exporter": "python",
   "pygments_lexer": "ipython3",
   "version": "3.8.10"
  }
 },
 "nbformat": 4,
 "nbformat_minor": 5
}
