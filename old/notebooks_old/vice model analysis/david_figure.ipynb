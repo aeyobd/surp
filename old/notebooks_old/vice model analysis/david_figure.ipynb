{
 "cells": [
  {
   "cell_type": "code",
   "execution_count": 82,
   "id": "0f315470-a584-4e53-97a1-bf1e50f62588",
   "metadata": {},
   "outputs": [
    {
     "name": "stdout",
     "output_type": "stream",
     "text": [
      "The autoreload extension is already loaded. To reload it, use:\n",
      "  %reload_ext autoreload\n"
     ]
    }
   ],
   "source": [
    "%load_ext autoreload\n",
    "%autoreload 2\n",
    "%config Completer.use_jedi = False"
   ]
  },
  {
   "cell_type": "code",
   "execution_count": 83,
   "id": "b2b59f16-1d34-4c5e-b3d0-be9ca12b2e2b",
   "metadata": {},
   "outputs": [],
   "source": [
    "import warnings\n",
    "from matplotlib import pyplot as plt\n",
    "warnings.filterwarnings('ignore')\n",
    "\n",
    "import numpy as np\n",
    "import pandas as pd\n",
    "from dataclasses import dataclass\n",
    "\n",
    "import vice\n",
    "import pickle\n",
    "\n",
    "import sys\n",
    "sys.path.append(\"../..\")"
   ]
  },
  {
   "cell_type": "code",
   "execution_count": 84,
   "id": "24168fb9-ce28-4172-b525-f7605615269f",
   "metadata": {},
   "outputs": [],
   "source": [
    "import surp.analysis_scripts.apogee_analysis as aah\n",
    "from surp.analysis_scripts.vice_model import vice_model\n",
    "import surp.analysis_scripts.plotting_utils as pluto\n",
    "import surp.analysis_scripts.gas_phase_data\n",
    "import surp.analysis_scripts.rc_params"
   ]
  },
  {
   "cell_type": "code",
   "execution_count": 85,
   "id": "54d50487-239c-49c9-be5c-b4fb92b4cf2c",
   "metadata": {},
   "outputs": [],
   "source": [
    "sf = pluto.fig_saver(\"../figures\")"
   ]
  },
  {
   "cell_type": "code",
   "execution_count": 86,
   "id": "e3fff0a8-4320-433e-9a9b-c8732b176b5d",
   "metadata": {},
   "outputs": [],
   "source": [
    "@dataclass\n",
    "class model_id():\n",
    "    agb: str = None\n",
    "    eta: str = None\n",
    "    f_agb: str = None\n",
    "    beta: str = None\n",
    "    name: str = None\n",
    "    version: str = \"\"\n",
    "    "
   ]
  },
  {
   "cell_type": "code",
   "execution_count": 87,
   "id": "02142b75-46c4-444a-8308-4924a73e2cd9",
   "metadata": {},
   "outputs": [],
   "source": [
    "def find_model(id):\n",
    "    \"\"\"\n",
    "    Finds the pickled model with either the given name or the parameters \n",
    "    and returns the vice_model object\n",
    "    \"\"\"\n",
    "    if id.name is None:\n",
    "        name = id.agb + \"_f\" + id.f_agb + \"_Z\" + id.beta + \"_eta\" + id.eta + id.version\n",
    "    else:\n",
    "        name = id.name\n",
    "    file_name = \"../output/\" + name + \".json\"\n",
    "    return vice_model(file_name)"
   ]
  },
  {
   "cell_type": "code",
   "execution_count": 88,
   "id": "8dc7826c-7bc1-45a4-896d-1a13541a602a",
   "metadata": {},
   "outputs": [],
   "source": [
    "def compare_cooh(models, ax=None):\n",
    "    if ax is None:\n",
    "        ax = plt.gca()\n",
    "        \n",
    "    name_0 = list(models.keys())[0]\n",
    "    i = 0\n",
    "    for name, model in models.items():\n",
    "        f = model.plot_mean_stars(\"[o/h]\", \"[c/o]\", xlim=(-0.6, 0.6), label=name, plot_data=False, ax=ax)\n",
    "        i+= 1\n",
    "    # legend_outside()\n",
    "    aah.plot_cooh()\n",
    "    return f    \n",
    "\n",
    "    \n",
    "def compare_coofe_stars(models):\n",
    "    for o in [-0.2, 0, 0.2]:\n",
    "        for name, model in models.items():\n",
    "            model.plot_coofe(star_group=\"apogee\", o_h_0=o)\n",
    "            plt.xlim(-0.6, 0.4)\n",
    "            plt.title(\"%s, [o/h]=%1.1f\" % (name, o))\n",
    "            plt.show()\n",
    "            \n",
    "def compare_cooh_stars(models):\n",
    "    for name, model in models.items():\n",
    "        model.plot_stars(\"[o/h]\", \"[c/o]\", xlim=(-0.6, 0.6), label=name)\n",
    "        plt.title(name)\n",
    "        plt.show()"
   ]
  },
  {
   "cell_type": "code",
   "execution_count": 89,
   "id": "d27af6af-321b-49f2-94c3-8ccdddd2c800",
   "metadata": {},
   "outputs": [],
   "source": [
    "def compare_coofe(models):\n",
    "    name_0 = list(models.keys())[0]\n",
    "\n",
    "    for o in [-0.2, 0, 0.2]:\n",
    "        for name, model in models.items():\n",
    "            model.plot_mean_coofe(xlim=(-0.6, 0.4), label=name, plot_data=name==name_0, o_h_0=o, star_group=\"apogee\")\n",
    "        plt.title(\"[O/H] = %1.1f\" % o)\n",
    "        pluto.legend_outside()  \n",
    "        plt.show()\n",
    "\n",
    "def compare_coofe_stars(models):\n",
    "    for o in [-0.2, 0, 0.2]:\n",
    "        for name, model in models.items():\n",
    "            model.plot_coofe(star_group=\"apogee\", o_h_0=o)\n",
    "            plt.xlim(-0.6, 0.4)\n",
    "            plt.title(\"%s, [o/h]=%1.1f\" % (name, o))\n",
    "            plt.show()"
   ]
  },
  {
   "cell_type": "code",
   "execution_count": 90,
   "id": "cf16fb36-5889-4a74-9c5d-9f75cb2f88d0",
   "metadata": {},
   "outputs": [],
   "source": [
    "def plot_coofe(models, o0=-0.0, ax=None):\n",
    "    \n",
    "    if ax is None:\n",
    "        ax = plt.gca()\n",
    "    \n",
    "    name_0 = list(models.keys())[0]\n",
    "\n",
    "    for o in [o0]:\n",
    "        for name, model in models.items():\n",
    "            model.plot_mean_coofe(xlim=(-0.3, 0.3), label=name, plot_data=name==name_0, o_h_0=o, star_group=\"apogee\", ax=ax)\n",
    "        ax.set_title(\"[O/H] = %1.1f\" % o)\n",
    "        # legend_outside()  \n",
    "        # plt.show()\n"
   ]
  },
  {
   "cell_type": "code",
   "execution_count": 91,
   "id": "3ac4ad66-3d77-4049-b8b6-aa638e106500",
   "metadata": {},
   "outputs": [],
   "source": [
    "def compare_mdf(models):\n",
    "    for ratio in [\"[o/h]\", \"[fe/h]\", \"[o/fe]\", \"[c/o]\", \"[c/h]\"]:\n",
    "        for name, model in models.items():\n",
    "            model.plot_mdf(ratio, label = name, xlim=(-1.5, 1))\n",
    "        legend_outside()\n",
    "        plt.show()"
   ]
  },
  {
   "cell_type": "code",
   "execution_count": 92,
   "id": "c93c675c-a424-481b-af45-53de8a37d29d",
   "metadata": {},
   "outputs": [],
   "source": [
    "def compare_stars(model_names, labels=None):\n",
    "    if labels is None:\n",
    "        labels = model_names\n",
    "        \n",
    "    models = {label: find_model(name) for label, name in zip(labels, model_names)}\n",
    "    \n",
    "    compare_cooh_stars(models)\n",
    "    compare_coofe_stars(models)"
   ]
  },
  {
   "cell_type": "code",
   "execution_count": 93,
   "id": "3449e739-86ee-4137-bbd5-ca8e5d58328c",
   "metadata": {},
   "outputs": [],
   "source": [
    "def compare(names, labels):\n",
    "    models = {label: find_model(name) for name, label in zip(names, labels)}\n",
    "    \n",
    "    fig, axs = pluto.dual_plot()\n",
    "    \n",
    "    plt.sca(axs[0])\n",
    "    compare_cooh(models)  \n",
    "\n",
    "    axs[0].set(\n",
    "        xlabel = r\"[$\\alpha$/H]\",\n",
    "        ylabel = r\"[C/$\\alpha$]\", \n",
    "        xlim = (-0.6, 0.6), \n",
    "        ylim = (-0.5, 0.2),\n",
    "        # xticks = [-0.6, -0.4, -0.2, 0, 0.2]\n",
    "    )\n",
    "    \n",
    "    plt.sca(axs[1])\n",
    "    plot_coofe(models)\n",
    "    pluto.fancy_legend()\n",
    "    \n",
    "    axs[1].set(\n",
    "        xlabel = r\"[$\\alpha$/Fe]\",\n",
    "        ylabel = \"\",\n",
    "        title = \"\",\n",
    "        xlim = (-0.15, 0.4),\n",
    "       # xticks = [-0.1, -0.2, -0.1, 0, 0.1]\n",
    "    )\n"
   ]
  },
  {
   "cell_type": "markdown",
   "id": "a08e6808-fda2-49b7-803a-3cb9f41a1e6e",
   "metadata": {},
   "source": [
    "# Deep exploration of fiducial model"
   ]
  },
  {
   "cell_type": "code",
   "execution_count": 94,
   "id": "d1e2cb8c-03c0-4b89-b77c-310118383f5d",
   "metadata": {
    "scrolled": true,
    "tags": []
   },
   "outputs": [],
   "source": [
    "fiducial = find_model(model_id(agb=\"cristallo11\", f_agb=\"0.2\", eta=\"1.0\", beta=\"0.4\", version=\"_v0.1.4\"))"
   ]
  },
  {
   "cell_type": "code",
   "execution_count": 95,
   "id": "97a9445c-dd71-49a8-aced-d0734371c736",
   "metadata": {},
   "outputs": [],
   "source": [
    "enhanced = find_model(model_id(agb=\"cristallo11\", f_agb=\"0.4\", eta=\"1.0\", beta=\"0.4\", version=\"_v0.1.4\"))"
   ]
  },
  {
   "cell_type": "code",
   "execution_count": 97,
   "id": "5c9f03b3-a3ce-494a-9039-0397904c9a9a",
   "metadata": {},
   "outputs": [
    {
     "data": {
      "image/png": "[encoded data removed]",
      "text/plain": [
       "<Figure size 360x360 with 1 Axes>"
      ]
     },
     "metadata": {},
     "output_type": "display_data"
    }
   ],
   "source": [
    "fiducial.plot_mean_coofe(plot_data=False, lw=2, o_h_0=0, label=r\"$f_{\\rm C}^{\\rm AGB} = 0.2$\")\n",
    "enhanced.plot_mean_coofe(plot_data=False, lw=2,o_h_0=0, c=pluto.COLORS[1], label=r\"$f_{\\rm C}^{\\rm AGB} = 0.4$\")\n",
    "\n",
    "\n",
    "pluto.fancy_legend(colors=[pluto.COLORS[0], pluto.COLORS[1]])\n",
    "aah.plot_coofe(0, s=0.015, alpha=1, zorder=-2)\n",
    "plt.ylim(-0.5, 0.1)\n",
    "plt.xlim(-0.1, 0.5)\n",
    "plt.xlabel(\"[Mg/Fe]\")\n",
    "plt.ylabel(\"[C/Mg]\")\n",
    "\n",
    "sf(\"agb_f_coofe\")"
   ]
  },
  {
   "cell_type": "code",
   "execution_count": null,
   "id": "7e00a609-7139-431d-89b6-d6a02409260f",
   "metadata": {},
   "outputs": [],
   "source": []
  }
 ],
 "metadata": {
  "kernelspec": {
   "display_name": "Python 3 (ipykernel)",
   "language": "python",
   "name": "python3"
  },
  "language_info": {
   "codemirror_mode": {
    "name": "ipython",
    "version": 3
   },
   "file_extension": ".py",
   "mimetype": "text/x-python",
   "name": "python",
   "nbconvert_exporter": "python",
   "pygments_lexer": "ipython3",
   "version": "3.6.8"
  }
 },
 "nbformat": 4,
 "nbformat_minor": 5
}
