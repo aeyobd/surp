{
 "cells": [
  {
   "cell_type": "code",
   "execution_count": 1,
   "id": "dbb75df6-3b6b-4ff6-b6a5-d79d69cb46ec",
   "metadata": {},
   "outputs": [],
   "source": [
    "import vice\n",
    "import numpy as np\n",
    "import matplotlib.pyplot as plt"
   ]
  },
  {
   "cell_type": "code",
   "execution_count": 28,
   "id": "3efb21c8-8b30-4b73-aba5-48486e40f6ed",
   "metadata": {},
   "outputs": [],
   "source": [
    "tau_sfh = 5\n",
    "def sfh(t):\n",
    "    return np.exp(-t/tau_sfh)"
   ]
  },
  {
   "cell_type": "code",
   "execution_count": 39,
   "id": "13ead853-dfa6-4bff-aea2-1451261c9745",
   "metadata": {},
   "outputs": [],
   "source": [
    "eta_factor = 1\n",
    "from surp.src import yields\n",
    "\n",
    "for ele in [\"n\", \"o\", \"fe\"]:\n",
    "    vice.yields.ccsne.settings[ele] *= eta_factor\n",
    "    vice.yields.sneia.settings[ele] *= eta_factor\n",
    "    \n",
    "vice.yields.ccsne.settings[\"o\"] = 0.015\n",
    "vice.yields.agb.settings[\"c\"] = yields.amplified_yields(\"c\", prefactor=3)\n",
    "\n",
    "vice.yields.ccsne.settings[\"c\"] = lambda z: 0.002 + 0.002 * (z/0.014)\n",
    "\n",
    "\n",
    "model = vice.singlezone(func=sfh, mode=\"sfr\", dt=0.01, elements=(\"n\", \"o\", \"fe\", \"c\"), eta=1.5*eta_factor)\n",
    "out = model.run(np.linspace(0, 13.2, 1321), overwrite=True, capture=True)"
   ]
  },
  {
   "cell_type": "code",
   "execution_count": 40,
   "id": "6d2bef6a-ff31-4988-870d-71bee5f923e6",
   "metadata": {},
   "outputs": [
    {
     "data": {
      "text/plain": [
       "[<matplotlib.lines.Line2D at 0x2b7fa1cb9df0>]"
      ]
     },
     "execution_count": 40,
     "metadata": {},
     "output_type": "execute_result"
    },
    {
     "data": {
      "image/png": "[encoded data removed]",
      "text/plain": [
       "<Figure size 432x288 with 1 Axes>"
      ]
     },
     "metadata": {
      "needs_background": "light"
     },
     "output_type": "display_data"
    }
   ],
   "source": [
    "h = out.history\n",
    "plt.plot(h[\"[o/h]\"], h[\"[c/o]\"])"
   ]
  },
  {
   "cell_type": "code",
   "execution_count": null,
   "id": "1d81a265-f7ca-4ccf-87cc-a16bab7a4b58",
   "metadata": {},
   "outputs": [],
   "source": []
  }
 ],
 "metadata": {
  "kernelspec": {
   "display_name": "Python 3.9 (Conda 2022.05) [python/3.9-2022.05]",
   "language": "python",
   "name": "python39_202205"
  },
  "language_info": {
   "codemirror_mode": {
    "name": "ipython",
    "version": 3
   },
   "file_extension": ".py",
   "mimetype": "text/x-python",
   "name": "python",
   "nbconvert_exporter": "python",
   "pygments_lexer": "ipython3",
   "version": "3.9.12"
  }
 },
 "nbformat": 4,
 "nbformat_minor": 5
}
