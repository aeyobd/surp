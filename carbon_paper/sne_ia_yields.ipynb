{
 "cells": [
  {
   "cell_type": "code",
   "execution_count": 27,
   "id": "d9f7ecef-e690-42d3-b75f-cacb08818f53",
   "metadata": {},
   "outputs": [],
   "source": [
    "import vice\n",
    "import numpy as np"
   ]
  },
  {
   "cell_type": "code",
   "execution_count": 3,
   "id": "2b890927-45d3-4229-8021-3913b51c02f8",
   "metadata": {},
   "outputs": [
    {
     "data": {
      "text/plain": [
       "5.74e-06"
      ]
     },
     "execution_count": 3,
     "metadata": {},
     "output_type": "execute_result"
    }
   ],
   "source": [
    "vice.yields.sneia.settings[\"c\"]"
   ]
  },
  {
   "cell_type": "code",
   "execution_count": 11,
   "id": "59b38eb9-04e8-4743-8cc9-845c2d479e1b",
   "metadata": {},
   "outputs": [],
   "source": [
    "import matplotlib.pyplot as plt"
   ]
  },
  {
   "cell_type": "code",
   "execution_count": 23,
   "id": "7439300b-3433-4716-972e-6756ec35c6c4",
   "metadata": {},
   "outputs": [],
   "source": [
    "import surp"
   ]
  },
  {
   "cell_type": "code",
   "execution_count": 24,
   "id": "a50eaf56-fa68-4c3b-860f-94d830d2e0ac",
   "metadata": {},
   "outputs": [
    {
     "name": "stdout",
     "output_type": "stream",
     "text": [
      "yields set to Magg et al. 2022 abundances\n",
      "Yield settings\n",
      "X        Z_solar    CC                             agb                            SN Ia                          \n",
      "\n",
      "c        3.39e-03   2.28e-03 + 8.14e-01 (Z - Z0)   1.00 × cristallo11             0                              \n",
      "\n",
      "n        1.04e-03   5.00e-04                       5.02e-04 M Z/Z0                0                              \n",
      "\n",
      "o        7.33e-03   7.13e-03                       0                              0                              \n",
      "\n",
      "mg       6.71e-04   6.52e-04                       0                              0                              \n",
      "\n",
      "fe       1.37e-03   4.73e-04                       0                              7.70e-04                       \n",
      "\n",
      "\n",
      "\n"
     ]
    }
   ],
   "source": [
    "surp.set_yields()"
   ]
  },
  {
   "cell_type": "code",
   "execution_count": 25,
   "id": "2a32a672-c868-45a5-b00f-2d5898a549f0",
   "metadata": {},
   "outputs": [],
   "source": [
    "y_c_0 = 4.20 * vice.yields.ccsne.settings[\"mg\"]"
   ]
  },
  {
   "cell_type": "code",
   "execution_count": 29,
   "id": "8579a217-a32c-49b8-b7a5-735c7c6376ff",
   "metadata": {},
   "outputs": [
    {
     "data": {
      "text/plain": [
       "Text(0, 0.5, 'log y_ia / y_total')"
      ]
     },
     "execution_count": 29,
     "metadata": {},
     "output_type": "execute_result"
    },
    {
     "data": {
      "image/png": "[encoded data removed]",
      "text/plain": [
       "<Figure size 666.667x451.405 with 1 Axes>"
      ]
     },
     "metadata": {},
     "output_type": "display_data"
    }
   ],
   "source": [
    "\n",
    "ys = []\n",
    "for model in ['W7', 'W70', 'WDD1', 'WDD2', 'WDD3', 'CDD1', 'CDD2']:\n",
    "    y = vice.yields.sneia.fractional(\"c\", study=\"iwamoto99\", model=model)\n",
    "    ys.append(y)\n",
    "    plt.scatter(0, np.log10(y / y_c_0))\n",
    "    \n",
    "    \n",
    "for model in ['M08_03_001', 'M08_03_01', 'M08_03_1', 'M08_03_3', 'M08_05_001', 'M08_05_01', 'M08_05_1', 'M08_05_3', 'M08_10_001', 'M08_10_01', 'M08_10_1', 'M08_10_3', 'M09_03_001', 'M09_03_01', 'M09_03_1', 'M09_03_3', 'M09_05_001', 'M09_05_01', 'M09_05_1', 'M09_05_3', 'M09_10_001', 'M09_10_01', 'M09_10_1', 'M09_10_3', 'M10_02_001', 'M10_02_01', 'M10_02_1', 'M10_02_3', 'M10_03_001', 'M10_03_01', 'M10_03_1', 'M10_03_3', 'M10_05_001', 'M10_05_01', 'M10_05_1', 'M10_05_3', 'M10_10_001', 'M10_10_01', 'M10_10_1', 'M10_10_3', 'M11_05_001', 'M11_05_01', 'M11_05_1', 'M11_05_3']:\n",
    "    y = vice.yields.sneia.fractional(\"c\", study=\"gronow21\", model=model)\n",
    "    plt.scatter(1, np.log10(y / y_c_0))\n",
    "    ys.append(y)\n",
    "\n",
    "for model in ['N1', 'N3', 'N5', 'N10', 'N20', 'N40', 'N100H', 'N100', 'N100L', 'N150', 'N200', 'N300C', 'N1600', 'N1600C', 'N100_Z0.5', 'N100_Z0.1', 'N100_Z0.01']:\n",
    "    y = vice.yields.sneia.fractional(\"c\", study=\"seitenzahl13\", model=model)\n",
    "    plt.scatter(2, np.log10(y / y_c_0))\n",
    "    ys.append(y)\n",
    "\n",
    "\n",
    "plt.xticks([0, 1, 2], labels=[\"iwamoto99\", \"g21\", \"seitenzahl+13\"])\n",
    "\n",
    "plt.ylabel(\"log y_ia / y_total\")"
   ]
  },
  {
   "cell_type": "code",
   "execution_count": 30,
   "id": "700ee037-f875-4cd4-9031-d9861af98ab5",
   "metadata": {},
   "outputs": [
    {
     "data": {
      "text/plain": [
       "0.04081215433537832"
      ]
     },
     "execution_count": 30,
     "metadata": {},
     "output_type": "execute_result"
    }
   ],
   "source": [
    "np.max(ys) / y_c_0"
   ]
  },
  {
   "cell_type": "code",
   "execution_count": 33,
   "id": "2511a8d0-3c90-455e-97de-ed128846b0fc",
   "metadata": {},
   "outputs": [
    {
     "data": {
      "text/plain": [
       "1.1176000343199999"
      ]
     },
     "execution_count": 33,
     "metadata": {},
     "output_type": "execute_result"
    }
   ],
   "source": [
    "np.max(ys) / 1e-4"
   ]
  },
  {
   "cell_type": "code",
   "execution_count": 34,
   "id": "5c5ccfab-b034-4d23-98f5-138060c1d71a",
   "metadata": {},
   "outputs": [
    {
     "data": {
      "text/plain": [
       "array([1.51378019e-08, 1.80199911e-08, 1.83722290e-08, 1.84602073e-08,\n",
       "       1.90160324e-08, 2.13932677e-08, 2.16793115e-08, 6.02885230e-08,\n",
       "       3.74003459e-07, 3.76423733e-07, 3.81044149e-07, 3.83244171e-07,\n",
       "       1.03334196e-06, 1.04808071e-06, 1.06150068e-06, 1.06612070e-06,\n",
       "       2.54540184e-06, 2.57180037e-06, 2.61140030e-06, 2.61360031e-06,\n",
       "       4.30102627e-06, 4.38020438e-06, 4.41760240e-06, 4.42420257e-06,\n",
       "       5.74204048e-06, 6.61986978e-06, 6.68803828e-06, 6.73861164e-06,\n",
       "       6.81120628e-06, 6.82001863e-06, 6.83540670e-06, 6.93000420e-06,\n",
       "       6.95200060e-06, 7.81021570e-06, 7.96406089e-06, 8.05203751e-06,\n",
       "       8.05203971e-06, 8.47004774e-06, 8.51405016e-06, 8.58004796e-06,\n",
       "       9.74605654e-06, 1.11769152e-05, 1.19251132e-05, 1.79527430e-05,\n",
       "       1.83702240e-05, 1.85901383e-05, 1.86121454e-05, 1.94921089e-05,\n",
       "       1.97787260e-05, 1.99101111e-05, 2.02400994e-05, 2.09449600e-05,\n",
       "       2.14942693e-05, 2.17361639e-05, 2.17581719e-05, 2.17801353e-05,\n",
       "       2.18478612e-05, 2.33201225e-05, 2.66201445e-05, 3.39479936e-05,\n",
       "       3.49367731e-05, 3.52665144e-05, 3.52665364e-05, 3.65206974e-05,\n",
       "       3.69601857e-05, 3.78402200e-05, 1.06263080e-04, 1.11760003e-04])"
      ]
     },
     "execution_count": 34,
     "metadata": {},
     "output_type": "execute_result"
    }
   ],
   "source": [
    "np.sort(ys)"
   ]
  },
  {
   "cell_type": "code",
   "execution_count": null,
   "id": "8a468fba-a0a6-4955-a826-3d9657b402ec",
   "metadata": {},
   "outputs": [],
   "source": []
  }
 ],
 "metadata": {
  "kernelspec": {
   "display_name": "Python (3.10)",
   "language": "python",
   "name": "python3"
  },
  "language_info": {
   "codemirror_mode": {
    "name": "ipython",
    "version": 3
   },
   "file_extension": ".py",
   "mimetype": "text/x-python",
   "name": "python",
   "nbconvert_exporter": "python",
   "pygments_lexer": "ipython3",
   "version": "3.10.10"
  }
 },
 "nbformat": 4,
 "nbformat_minor": 5
}
