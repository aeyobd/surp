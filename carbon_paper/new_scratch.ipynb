{
 "cells": [
  {
   "cell_type": "code",
   "execution_count": 1,
   "id": "136f8c8a-39c4-4df1-a756-bf2f55d7e260",
   "metadata": {},
   "outputs": [
    {
     "name": "stderr",
     "output_type": "stream",
     "text": [
      "/astro/dboyea/.local/lib/python3.11/site-packages/vice-1.4.0.dev0-py3.11-linux-x86_64.egg/vice/__init__.py:141: UserWarning: Using un-released version of VICE\n",
      "  warnings.warn(\"Using un-released version of VICE\", UserWarning)\n"
     ]
    }
   ],
   "source": [
    "import vice\n",
    "import surp\n",
    "import arya\n",
    "import numpy as np\n",
    "import matplotlib.pyplot as plt"
   ]
  },
  {
   "cell_type": "code",
   "execution_count": 2,
   "id": "d48b7005-83af-4c49-bf3c-eeed9672997c",
   "metadata": {},
   "outputs": [],
   "source": [
    "from surp import gce_math as gcem"
   ]
  },
  {
   "cell_type": "code",
   "execution_count": 3,
   "id": "03844148-d790-4907-9ae7-6d1af9dc20c2",
   "metadata": {},
   "outputs": [],
   "source": [
    "def plot_yield(y, **kwargs):\n",
    "    x = np.linspace(-2, 1, 1000)\n",
    "    z = gcem.MH_to_Z(x)\n",
    "    plt.plot(x, np.vectorize(y)(z), **kwargs)"
   ]
  },
  {
   "cell_type": "code",
   "execution_count": 11,
   "id": "1be2a33a-829d-4ee0-a061-03cea33241e8",
   "metadata": {},
   "outputs": [],
   "source": [
    "A=0.001\n",
    "MH1 = -0.7\n",
    "Z1 = gcem.MH_to_Z(MH1)\n",
    "y0 = MH1**2 * A\n",
    "y_q_m1 = surp.yield_models.Quadratic_CC(y0=y0, zeta=-MH1*2*A, A=A, Z1=Z1)"
   ]
  },
  {
   "cell_type": "code",
   "execution_count": 12,
   "id": "ab1d94d4-144e-4c0b-8f18-c1f01540a613",
   "metadata": {},
   "outputs": [
    {
     "data": {
      "image/png": "[encoded data removed]",
      "text/plain": [
       "<Figure size 666.667x451.405 with 1 Axes>"
      ]
     },
     "metadata": {},
     "output_type": "display_data"
    }
   ],
   "source": [
    "plot_yield(y_q_m1)"
   ]
  },
  {
   "cell_type": "code",
   "execution_count": 19,
   "id": "19332cd9-d298-4e56-9d93-f2b59cb9e544",
   "metadata": {},
   "outputs": [],
   "source": [
    "yp = surp.YieldParams.from_file(\"../models/new_fiducial/run/yield_params.toml\")\n",
    "surp.set_yields(yp)\n"
   ]
  },
  {
   "cell_type": "code",
   "execution_count": 3,
   "id": "90e673e1-eb50-44e9-9a08-13388bb35a84",
   "metadata": {},
   "outputs": [],
   "source": [
    "import sys\n",
    "sys.path.append(\"..\")\n",
    "import singlezone"
   ]
  },
  {
   "cell_type": "code",
   "execution_count": 24,
   "id": "d5ce9cf7-1304-4012-9bf4-991ddad4eaaa",
   "metadata": {},
   "outputs": [],
   "source": [
    "model = surp.ViceModel.from_file(\"../models/new_fiducial/run/model.json\")"
   ]
  },
  {
   "cell_type": "code",
   "execution_count": 25,
   "id": "1d393160-ad56-4620-845b-f7b21fb58936",
   "metadata": {},
   "outputs": [
    {
     "data": {
      "text/html": [
       "<div>\n",
       "<style scoped>\n",
       "    .dataframe tbody tr th:only-of-type {\n",
       "        vertical-align: middle;\n",
       "    }\n",
       "\n",
       "    .dataframe tbody tr th {\n",
       "        vertical-align: top;\n",
       "    }\n",
       "\n",
       "    .dataframe thead th {\n",
       "        text-align: right;\n",
       "    }\n",
       "</style>\n",
       "<table border=\"1\" class=\"dataframe\">\n",
       "  <thead>\n",
       "    <tr style=\"text-align: right;\">\n",
       "      <th></th>\n",
       "      <th>time</th>\n",
       "      <th>mgas</th>\n",
       "      <th>mstar</th>\n",
       "      <th>sfr</th>\n",
       "      <th>ifr</th>\n",
       "      <th>ofr</th>\n",
       "      <th>eta_0</th>\n",
       "      <th>r_eff</th>\n",
       "      <th>z_in(fe)</th>\n",
       "      <th>z_in(o)</th>\n",
       "      <th>...</th>\n",
       "      <th>N_MG</th>\n",
       "      <th>C_FE</th>\n",
       "      <th>C_O</th>\n",
       "      <th>C_MG</th>\n",
       "      <th>C_N</th>\n",
       "      <th>z</th>\n",
       "      <th>M_H</th>\n",
       "      <th>lookback</th>\n",
       "      <th>R</th>\n",
       "      <th>zone</th>\n",
       "    </tr>\n",
       "  </thead>\n",
       "  <tbody>\n",
       "    <tr>\n",
       "      <th>0</th>\n",
       "      <td>0.00</td>\n",
       "      <td>1.000000e-12</td>\n",
       "      <td>0.000000e+00</td>\n",
       "      <td>0.000000</td>\n",
       "      <td>NaN</td>\n",
       "      <td>NaN</td>\n",
       "      <td>0.000000</td>\n",
       "      <td>NaN</td>\n",
       "      <td>0.0</td>\n",
       "      <td>0.0</td>\n",
       "      <td>...</td>\n",
       "      <td>NaN</td>\n",
       "      <td>NaN</td>\n",
       "      <td>NaN</td>\n",
       "      <td>NaN</td>\n",
       "      <td>NaN</td>\n",
       "      <td>0.000000</td>\n",
       "      <td>-inf</td>\n",
       "      <td>13.20</td>\n",
       "      <td>3.85</td>\n",
       "      <td>38</td>\n",
       "    </tr>\n",
       "    <tr>\n",
       "      <th>1</th>\n",
       "      <td>0.02</td>\n",
       "      <td>1.850845e+07</td>\n",
       "      <td>3.935121e+04</td>\n",
       "      <td>0.002300</td>\n",
       "      <td>0.927722</td>\n",
       "      <td>0.000000</td>\n",
       "      <td>0.000000</td>\n",
       "      <td>0.144431</td>\n",
       "      <td>0.0</td>\n",
       "      <td>0.0</td>\n",
       "      <td>...</td>\n",
       "      <td>-0.305588</td>\n",
       "      <td>-0.217511</td>\n",
       "      <td>-0.667356</td>\n",
       "      <td>-0.666895</td>\n",
       "      <td>-0.361307</td>\n",
       "      <td>0.000030</td>\n",
       "      <td>-2.768489</td>\n",
       "      <td>13.18</td>\n",
       "      <td>3.85</td>\n",
       "      <td>38</td>\n",
       "    </tr>\n",
       "    <tr>\n",
       "      <th>2</th>\n",
       "      <td>0.04</td>\n",
       "      <td>2.243354e+07</td>\n",
       "      <td>1.541102e+05</td>\n",
       "      <td>0.004566</td>\n",
       "      <td>0.200488</td>\n",
       "      <td>0.000000</td>\n",
       "      <td>0.000000</td>\n",
       "      <td>0.185785</td>\n",
       "      <td>0.0</td>\n",
       "      <td>0.0</td>\n",
       "      <td>...</td>\n",
       "      <td>-0.305588</td>\n",
       "      <td>-0.217511</td>\n",
       "      <td>-0.667356</td>\n",
       "      <td>-0.666895</td>\n",
       "      <td>-0.361307</td>\n",
       "      <td>0.000074</td>\n",
       "      <td>-2.377570</td>\n",
       "      <td>13.16</td>\n",
       "      <td>3.85</td>\n",
       "      <td>38</td>\n",
       "    </tr>\n",
       "    <tr>\n",
       "      <th>3</th>\n",
       "      <td>0.06</td>\n",
       "      <td>2.510216e+07</td>\n",
       "      <td>2.647068e+05</td>\n",
       "      <td>0.006798</td>\n",
       "      <td>0.139381</td>\n",
       "      <td>0.000000</td>\n",
       "      <td>0.000000</td>\n",
       "      <td>0.186560</td>\n",
       "      <td>0.0</td>\n",
       "      <td>0.0</td>\n",
       "      <td>...</td>\n",
       "      <td>-0.305588</td>\n",
       "      <td>-0.217511</td>\n",
       "      <td>-0.667356</td>\n",
       "      <td>-0.666895</td>\n",
       "      <td>-0.361307</td>\n",
       "      <td>0.000131</td>\n",
       "      <td>-2.128255</td>\n",
       "      <td>13.14</td>\n",
       "      <td>3.85</td>\n",
       "      <td>38</td>\n",
       "    </tr>\n",
       "    <tr>\n",
       "      <th>4</th>\n",
       "      <td>0.08</td>\n",
       "      <td>2.718355e+07</td>\n",
       "      <td>5.476348e+05</td>\n",
       "      <td>0.008998</td>\n",
       "      <td>0.111799</td>\n",
       "      <td>0.000000</td>\n",
       "      <td>0.000000</td>\n",
       "      <td>0.215667</td>\n",
       "      <td>0.0</td>\n",
       "      <td>0.0</td>\n",
       "      <td>...</td>\n",
       "      <td>-0.305588</td>\n",
       "      <td>-0.217510</td>\n",
       "      <td>-0.667355</td>\n",
       "      <td>-0.666895</td>\n",
       "      <td>-0.361307</td>\n",
       "      <td>0.000200</td>\n",
       "      <td>-1.944112</td>\n",
       "      <td>13.12</td>\n",
       "      <td>3.85</td>\n",
       "      <td>38</td>\n",
       "    </tr>\n",
       "    <tr>\n",
       "      <th>...</th>\n",
       "      <td>...</td>\n",
       "      <td>...</td>\n",
       "      <td>...</td>\n",
       "      <td>...</td>\n",
       "      <td>...</td>\n",
       "      <td>...</td>\n",
       "      <td>...</td>\n",
       "      <td>...</td>\n",
       "      <td>...</td>\n",
       "      <td>...</td>\n",
       "      <td>...</td>\n",
       "      <td>...</td>\n",
       "      <td>...</td>\n",
       "      <td>...</td>\n",
       "      <td>...</td>\n",
       "      <td>...</td>\n",
       "      <td>...</td>\n",
       "      <td>...</td>\n",
       "      <td>...</td>\n",
       "      <td>...</td>\n",
       "      <td>...</td>\n",
       "    </tr>\n",
       "    <tr>\n",
       "      <th>132195</th>\n",
       "      <td>13.12</td>\n",
       "      <td>7.850566e+07</td>\n",
       "      <td>3.838710e+08</td>\n",
       "      <td>0.038024</td>\n",
       "      <td>0.019867</td>\n",
       "      <td>0.000766</td>\n",
       "      <td>0.020134</td>\n",
       "      <td>0.401954</td>\n",
       "      <td>0.0</td>\n",
       "      <td>0.0</td>\n",
       "      <td>...</td>\n",
       "      <td>0.047247</td>\n",
       "      <td>0.006839</td>\n",
       "      <td>-0.029569</td>\n",
       "      <td>-0.029108</td>\n",
       "      <td>-0.076355</td>\n",
       "      <td>0.030840</td>\n",
       "      <td>0.243605</td>\n",
       "      <td>0.08</td>\n",
       "      <td>6.05</td>\n",
       "      <td>60</td>\n",
       "    </tr>\n",
       "    <tr>\n",
       "      <th>132196</th>\n",
       "      <td>13.14</td>\n",
       "      <td>7.842332e+07</td>\n",
       "      <td>3.848727e+08</td>\n",
       "      <td>0.037958</td>\n",
       "      <td>0.019321</td>\n",
       "      <td>0.000764</td>\n",
       "      <td>0.020134</td>\n",
       "      <td>0.460720</td>\n",
       "      <td>0.0</td>\n",
       "      <td>0.0</td>\n",
       "      <td>...</td>\n",
       "      <td>0.047040</td>\n",
       "      <td>0.007047</td>\n",
       "      <td>-0.029317</td>\n",
       "      <td>-0.028857</td>\n",
       "      <td>-0.075897</td>\n",
       "      <td>0.030846</td>\n",
       "      <td>0.243693</td>\n",
       "      <td>0.06</td>\n",
       "      <td>6.05</td>\n",
       "      <td>60</td>\n",
       "    </tr>\n",
       "    <tr>\n",
       "      <th>132197</th>\n",
       "      <td>13.16</td>\n",
       "      <td>7.834098e+07</td>\n",
       "      <td>3.898378e+08</td>\n",
       "      <td>0.037892</td>\n",
       "      <td>0.017050</td>\n",
       "      <td>0.000763</td>\n",
       "      <td>0.020134</td>\n",
       "      <td>0.420624</td>\n",
       "      <td>0.0</td>\n",
       "      <td>0.0</td>\n",
       "      <td>...</td>\n",
       "      <td>0.047678</td>\n",
       "      <td>0.007118</td>\n",
       "      <td>-0.029230</td>\n",
       "      <td>-0.028769</td>\n",
       "      <td>-0.076447</td>\n",
       "      <td>0.030871</td>\n",
       "      <td>0.244042</td>\n",
       "      <td>0.04</td>\n",
       "      <td>6.05</td>\n",
       "      <td>60</td>\n",
       "    </tr>\n",
       "    <tr>\n",
       "      <th>132198</th>\n",
       "      <td>13.18</td>\n",
       "      <td>7.825865e+07</td>\n",
       "      <td>3.876656e+08</td>\n",
       "      <td>0.037826</td>\n",
       "      <td>0.018533</td>\n",
       "      <td>0.000762</td>\n",
       "      <td>0.020134</td>\n",
       "      <td>0.393562</td>\n",
       "      <td>0.0</td>\n",
       "      <td>0.0</td>\n",
       "      <td>...</td>\n",
       "      <td>0.048168</td>\n",
       "      <td>0.007084</td>\n",
       "      <td>-0.029077</td>\n",
       "      <td>-0.028617</td>\n",
       "      <td>-0.076785</td>\n",
       "      <td>0.030884</td>\n",
       "      <td>0.244222</td>\n",
       "      <td>0.02</td>\n",
       "      <td>6.05</td>\n",
       "      <td>60</td>\n",
       "    </tr>\n",
       "    <tr>\n",
       "      <th>132199</th>\n",
       "      <td>13.20</td>\n",
       "      <td>7.817631e+07</td>\n",
       "      <td>3.881032e+08</td>\n",
       "      <td>0.037761</td>\n",
       "      <td>0.019518</td>\n",
       "      <td>0.000760</td>\n",
       "      <td>0.020134</td>\n",
       "      <td>0.420638</td>\n",
       "      <td>0.0</td>\n",
       "      <td>0.0</td>\n",
       "      <td>...</td>\n",
       "      <td>0.048387</td>\n",
       "      <td>0.007075</td>\n",
       "      <td>-0.028935</td>\n",
       "      <td>-0.028474</td>\n",
       "      <td>-0.076861</td>\n",
       "      <td>0.030887</td>\n",
       "      <td>0.244267</td>\n",
       "      <td>0.00</td>\n",
       "      <td>6.05</td>\n",
       "      <td>60</td>\n",
       "    </tr>\n",
       "  </tbody>\n",
       "</table>\n",
       "<p>132200 rows × 43 columns</p>\n",
       "</div>"
      ],
      "text/plain": [
       "         time          mgas         mstar       sfr       ifr       ofr  \\\n",
       "0        0.00  1.000000e-12  0.000000e+00  0.000000       NaN       NaN   \n",
       "1        0.02  1.850845e+07  3.935121e+04  0.002300  0.927722  0.000000   \n",
       "2        0.04  2.243354e+07  1.541102e+05  0.004566  0.200488  0.000000   \n",
       "3        0.06  2.510216e+07  2.647068e+05  0.006798  0.139381  0.000000   \n",
       "4        0.08  2.718355e+07  5.476348e+05  0.008998  0.111799  0.000000   \n",
       "...       ...           ...           ...       ...       ...       ...   \n",
       "132195  13.12  7.850566e+07  3.838710e+08  0.038024  0.019867  0.000766   \n",
       "132196  13.14  7.842332e+07  3.848727e+08  0.037958  0.019321  0.000764   \n",
       "132197  13.16  7.834098e+07  3.898378e+08  0.037892  0.017050  0.000763   \n",
       "132198  13.18  7.825865e+07  3.876656e+08  0.037826  0.018533  0.000762   \n",
       "132199  13.20  7.817631e+07  3.881032e+08  0.037761  0.019518  0.000760   \n",
       "\n",
       "           eta_0     r_eff  z_in(fe)  z_in(o)  ...      N_MG      C_FE  \\\n",
       "0       0.000000       NaN       0.0      0.0  ...       NaN       NaN   \n",
       "1       0.000000  0.144431       0.0      0.0  ... -0.305588 -0.217511   \n",
       "2       0.000000  0.185785       0.0      0.0  ... -0.305588 -0.217511   \n",
       "3       0.000000  0.186560       0.0      0.0  ... -0.305588 -0.217511   \n",
       "4       0.000000  0.215667       0.0      0.0  ... -0.305588 -0.217510   \n",
       "...          ...       ...       ...      ...  ...       ...       ...   \n",
       "132195  0.020134  0.401954       0.0      0.0  ...  0.047247  0.006839   \n",
       "132196  0.020134  0.460720       0.0      0.0  ...  0.047040  0.007047   \n",
       "132197  0.020134  0.420624       0.0      0.0  ...  0.047678  0.007118   \n",
       "132198  0.020134  0.393562       0.0      0.0  ...  0.048168  0.007084   \n",
       "132199  0.020134  0.420638       0.0      0.0  ...  0.048387  0.007075   \n",
       "\n",
       "             C_O      C_MG       C_N         z       M_H  lookback     R  zone  \n",
       "0            NaN       NaN       NaN  0.000000      -inf     13.20  3.85    38  \n",
       "1      -0.667356 -0.666895 -0.361307  0.000030 -2.768489     13.18  3.85    38  \n",
       "2      -0.667356 -0.666895 -0.361307  0.000074 -2.377570     13.16  3.85    38  \n",
       "3      -0.667356 -0.666895 -0.361307  0.000131 -2.128255     13.14  3.85    38  \n",
       "4      -0.667355 -0.666895 -0.361307  0.000200 -1.944112     13.12  3.85    38  \n",
       "...          ...       ...       ...       ...       ...       ...   ...   ...  \n",
       "132195 -0.029569 -0.029108 -0.076355  0.030840  0.243605      0.08  6.05    60  \n",
       "132196 -0.029317 -0.028857 -0.075897  0.030846  0.243693      0.06  6.05    60  \n",
       "132197 -0.029230 -0.028769 -0.076447  0.030871  0.244042      0.04  6.05    60  \n",
       "132198 -0.029077 -0.028617 -0.076785  0.030884  0.244222      0.02  6.05    60  \n",
       "132199 -0.028935 -0.028474 -0.076861  0.030887  0.244267      0.00  6.05    60  \n",
       "\n",
       "[132200 rows x 43 columns]"
      ]
     },
     "execution_count": 25,
     "metadata": {},
     "output_type": "execute_result"
    }
   ],
   "source": [
    "model.history"
   ]
  },
  {
   "cell_type": "code",
   "execution_count": 31,
   "id": "56fa861e-64fd-471f-b2d3-3a7af6c07475",
   "metadata": {},
   "outputs": [
    {
     "data": {
      "text/plain": [
       "<matplotlib.collections.PathCollection at 0x7f16e87ae750>"
      ]
     },
     "execution_count": 31,
     "metadata": {},
     "output_type": "execute_result"
    },
    {
     "data": {
      "image/png": "[encoded data removed]",
      "text/plain": [
       "<Figure size 666.667x451.405 with 1 Axes>"
      ]
     },
     "metadata": {},
     "output_type": "display_data"
    }
   ],
   "source": [
    "plt.scatter(model.history.O_H, model.history.C_O, c=model.history.time, s=1)"
   ]
  },
  {
   "cell_type": "code",
   "execution_count": 21,
   "id": "246d1c19-3e99-4b2e-be2b-8e93833b8a1a",
   "metadata": {},
   "outputs": [
    {
     "data": {
      "text/plain": [
       "[<matplotlib.lines.Line2D at 0x7f16ea716f50>]"
      ]
     },
     "execution_count": 21,
     "metadata": {},
     "output_type": "execute_result"
    },
    {
     "data": {
      "image/png": "[encoded data removed]",
      "text/plain": [
       "<Figure size 666.667x451.405 with 1 Axes>"
      ]
     },
     "metadata": {},
     "output_type": "display_data"
    }
   ],
   "source": [
    "plt.plot(h.MG_H, h.C_MG)"
   ]
  },
  {
   "cell_type": "code",
   "execution_count": 22,
   "id": "da4215b4-df71-4f01-bbc2-e91449e2220a",
   "metadata": {},
   "outputs": [
    {
     "name": "stderr",
     "output_type": "stream",
     "text": [
      "/astro/dboyea/.local/lib/python3.11/site-packages/vice-1.4.0.dev0-py3.11-linux-x86_64.egg/vice/core/singlezone/singlezone.py:1797: VisibleRuntimeWarning: Functions of stellar mass and metallicity for asymptotic giant branch star yields may significantly increase the required integration time, especially for fine timestepping.\n",
      "  return self.__c_version.run(output_times, capture = capture,\n",
      "/astro/dboyea/.local/lib/python3.11/site-packages/vice-1.4.0.dev0-py3.11-linux-x86_64.egg/vice/core/pickles.py:305: UserWarning: Could not pickle function. The following attribute will not be saved with this output: c\n",
      "  warnings.warn(\"\"\"\\\n",
      "/astro/dboyea/.local/lib/python3.11/site-packages/vice-1.4.0.dev0-py3.11-linux-x86_64.egg/vice/core/pickles.py:305: UserWarning: Could not pickle function. The following attribute will not be saved with this output: mg\n",
      "  warnings.warn(\"\"\"\\\n",
      "/astro/dboyea/.local/lib/python3.11/site-packages/vice-1.4.0.dev0-py3.11-linux-x86_64.egg/vice/core/pickles.py:305: UserWarning: Could not pickle function. The following attribute will not be saved with this output: fe\n",
      "  warnings.warn(\"\"\"\\\n",
      "/astro/dboyea/.local/lib/python3.11/site-packages/vice-1.4.0.dev0-py3.11-linux-x86_64.egg/vice/core/outputs/output.py:131: UserWarning: agb mg yield not encoded with output. Assuming the current yield setting, which may not reflect the yield setting at the time the simulation was ran.\n",
      "  self.__c_version = c_output(name)\n",
      "/astro/dboyea/.local/lib/python3.11/site-packages/vice-1.4.0.dev0-py3.11-linux-x86_64.egg/vice/core/outputs/output.py:131: UserWarning: agb fe yield not encoded with output. Assuming the current yield setting, which may not reflect the yield setting at the time the simulation was ran.\n",
      "  self.__c_version = c_output(name)\n",
      "/astro/dboyea/.local/lib/python3.11/site-packages/vice-1.4.0.dev0-py3.11-linux-x86_64.egg/vice/core/outputs/output.py:131: UserWarning: agb c yield not encoded with output. Assuming the current yield setting, which may not reflect the yield setting at the time the simulation was ran.\n",
      "  self.__c_version = c_output(name)\n"
     ]
    }
   ],
   "source": [
    "sz, h = singlezone.run_singlezone()"
   ]
  },
  {
   "cell_type": "code",
   "execution_count": 23,
   "id": "98d4d4b5-80b9-47b4-b158-1161b950134a",
   "metadata": {},
   "outputs": [
    {
     "data": {
      "text/plain": [
       "[<matplotlib.lines.Line2D at 0x7f16eb174190>]"
      ]
     },
     "execution_count": 23,
     "metadata": {},
     "output_type": "execute_result"
    },
    {
     "data": {
      "image/png": "[encoded data removed]",
      "text/plain": [
       "<Figure size 666.667x451.405 with 1 Axes>"
      ]
     },
     "metadata": {},
     "output_type": "display_data"
    }
   ],
   "source": [
    "plt.plot(h.MG_H, h.C_MG)"
   ]
  },
  {
   "cell_type": "code",
   "execution_count": null,
   "id": "1a18775b-d4a9-4307-a3f0-4825d702f8c6",
   "metadata": {},
   "outputs": [],
   "source": []
  }
 ],
 "metadata": {
  "kernelspec": {
   "display_name": "Python 3 (ipykernel)",
   "language": "python",
   "name": "python3"
  },
  "language_info": {
   "codemirror_mode": {
    "name": "ipython",
    "version": 3
   },
   "file_extension": ".py",
   "mimetype": "text/x-python",
   "name": "python",
   "nbconvert_exporter": "python",
   "pygments_lexer": "ipython3",
   "version": "3.11.9"
  }
 },
 "nbformat": 4,
 "nbformat_minor": 5
}
