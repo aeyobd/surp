{
 "cells": [
  {
   "cell_type": "code",
   "execution_count": 1,
   "id": "f958ac5d-c6a4-450e-87a4-c7723f91ab17",
   "metadata": {},
   "outputs": [],
   "source": [
    "%load_ext autoreload\n",
    "%autoreload 2"
   ]
  },
  {
   "cell_type": "code",
   "execution_count": 7,
   "id": "880eae06-c998-47a5-a4e8-73b876bbac61",
   "metadata": {},
   "outputs": [],
   "source": [
    "from matplotlib import pyplot as plt\n",
    "import numpy as np\n",
    "import vice"
   ]
  },
  {
   "cell_type": "code",
   "execution_count": 3,
   "id": "7ba46c3e-466e-42c0-9f41-464a4fb624a6",
   "metadata": {},
   "outputs": [
    {
     "name": "stdout",
     "output_type": "stream",
     "text": [
      "using vice version  1.4.0.dev2\n"
     ]
    },
    {
     "name": "stderr",
     "output_type": "stream",
     "text": [
      "/users/PAS2232/aeyobd/.local/lib/python3.9/site-packages/vice-1.4.0.dev2-py3.9-linux-x86_64.egg/vice/__init__.py:151: UserWarning: Using a pre-release of VICE\n",
      "  if prerelease: warnings.warn(\"Using a pre-release of VICE\",\n"
     ]
    }
   ],
   "source": [
    "from surp import yields"
   ]
  },
  {
   "cell_type": "code",
   "execution_count": 4,
   "id": "abb37456-ab44-462c-972e-a02134bb8cfd",
   "metadata": {},
   "outputs": [
    {
     "data": {
      "text/plain": [
       "\u001b[0;31mSignature:\u001b[0m\n",
       "\u001b[0myields\u001b[0m\u001b[0;34m.\u001b[0m\u001b[0mset_yields\u001b[0m\u001b[0;34m(\u001b[0m\u001b[0;34m\u001b[0m\n",
       "\u001b[0;34m\u001b[0m    \u001b[0meta\u001b[0m\u001b[0;34m=\u001b[0m\u001b[0;36m1\u001b[0m\u001b[0;34m,\u001b[0m\u001b[0;34m\u001b[0m\n",
       "\u001b[0;34m\u001b[0m    \u001b[0mzeta\u001b[0m\u001b[0;34m=\u001b[0m\u001b[0;32mNone\u001b[0m\u001b[0;34m,\u001b[0m\u001b[0;34m\u001b[0m\n",
       "\u001b[0;34m\u001b[0m    \u001b[0mfe_ia_factor\u001b[0m\u001b[0;34m=\u001b[0m\u001b[0;32mNone\u001b[0m\u001b[0;34m,\u001b[0m\u001b[0;34m\u001b[0m\n",
       "\u001b[0;34m\u001b[0m    \u001b[0magb_model\u001b[0m\u001b[0;34m=\u001b[0m\u001b[0;34m'cristallo11'\u001b[0m\u001b[0;34m,\u001b[0m\u001b[0;34m\u001b[0m\n",
       "\u001b[0;34m\u001b[0m    \u001b[0moob\u001b[0m\u001b[0;34m=\u001b[0m\u001b[0;32mFalse\u001b[0m\u001b[0;34m,\u001b[0m\u001b[0;34m\u001b[0m\n",
       "\u001b[0;34m\u001b[0m    \u001b[0mf_agb\u001b[0m\u001b[0;34m=\u001b[0m\u001b[0;36m0.2\u001b[0m\u001b[0;34m,\u001b[0m\u001b[0;34m\u001b[0m\n",
       "\u001b[0;34m\u001b[0m    \u001b[0malpha_n\u001b[0m\u001b[0;34m=\u001b[0m\u001b[0;36m0\u001b[0m\u001b[0;34m,\u001b[0m\u001b[0;34m\u001b[0m\n",
       "\u001b[0;34m\u001b[0m    \u001b[0mmass_factor\u001b[0m\u001b[0;34m=\u001b[0m\u001b[0;36m1\u001b[0m\u001b[0;34m,\u001b[0m\u001b[0;34m\u001b[0m\n",
       "\u001b[0;34m\u001b[0m    \u001b[0mzeta_agb\u001b[0m\u001b[0;34m=\u001b[0m\u001b[0;34m-\u001b[0m\u001b[0;36m0.03\u001b[0m\u001b[0;34m,\u001b[0m\u001b[0;34m\u001b[0m\n",
       "\u001b[0;34m\u001b[0m    \u001b[0;34m**\u001b[0m\u001b[0mkwargs\u001b[0m\u001b[0;34m,\u001b[0m\u001b[0;34m\u001b[0m\n",
       "\u001b[0;34m\u001b[0m\u001b[0;34m)\u001b[0m\u001b[0;34m\u001b[0m\u001b[0;34m\u001b[0m\u001b[0m\n",
       "\u001b[0;31mDocstring:\u001b[0m\n",
       "Parameters\n",
       "----------\n",
       "\n",
       "eta\n",
       "\u001b[0;31mFile:\u001b[0m      ~/surp/surp/yields.py\n",
       "\u001b[0;31mType:\u001b[0m      function"
      ]
     },
     "metadata": {},
     "output_type": "display_data"
    }
   ],
   "source": [
    "yields.set_yields?"
   ]
  },
  {
   "cell_type": "code",
   "execution_count": 5,
   "id": "f881bdbc-c697-4333-81e6-6d21aaa9a16b",
   "metadata": {},
   "outputs": [
    {
     "name": "stdout",
     "output_type": "stream",
     "text": [
      "Yield settings\n",
      "X       CC                            agb                           SN Ia\n",
      "c       4.00e-03 + 1.02e-01 (Z - Z0)  2.38 × cristallo11            0\n",
      "n       7.20e-04                      0.00e+00 M + 9.00e-04 M Z/Z0  0\n",
      "o       1.50e-02                      2.38 × cristallo11            0\n",
      "mg      1.85e-03                      2.38 × cristallo11            0\n",
      "fe      1.20e-03                      cristallo11                   1.70e-03\n",
      "\n",
      "\n"
     ]
    }
   ],
   "source": [
    "yields.set_yields()"
   ]
  },
  {
   "cell_type": "code",
   "execution_count": 9,
   "id": "716ad2e8-a5fd-426d-831d-18aaf7125057",
   "metadata": {},
   "outputs": [],
   "source": []
  },
  {
   "cell_type": "code",
   "execution_count": 26,
   "id": "00c69080-5409-4e19-a20d-5e2329133ae3",
   "metadata": {},
   "outputs": [
    {
     "name": "stdout",
     "output_type": "stream",
     "text": [
      "Yield settings\n",
      "X       CC                            agb                           SN Ia\n",
      "c       4.00e-03 + 6.00e-02 (Z - Z0)  <function a_agb.<locals>.inner at 0x2ace5e824550>0\n",
      "n       7.20e-04                      0.00e+00 M + 9.00e-04 M Z/Z0  0\n",
      "o       1.50e-02                      2.00 × cristallo11            0\n",
      "mg      1.85e-03                      2.00 × cristallo11            0\n",
      "fe      1.20e-03                      cristallo11                   1.70e-03\n",
      "\n",
      "\n"
     ]
    },
    {
     "data": {
      "image/png": "[encoded data removed]",
      "text/plain": [
       "<Figure size 666.667x451.405 with 1 Axes>"
      ]
     },
     "metadata": {},
     "output_type": "display_data"
    }
   ],
   "source": [
    "yields.set_yields(agb_model=\"A\", yh_agb=-1e-4, zeta_agb=-0.0)\n",
    "y_c_agb = vice.yields.agb.settings[\"c\"]\n",
    "\n",
    "for z in [0.0001, 0.0003, 0.001, 0.003, 0.01, 0.014, 0.02]:\n",
    "    m = np.linspace(1, 8, 100)\n",
    "    plt.plot(m, [y_c_agb(a, z) for a in m])"
   ]
  },
  {
   "cell_type": "code",
   "execution_count": null,
   "id": "a7c986a4-e309-496b-8933-267957e576d4",
   "metadata": {},
   "outputs": [],
   "source": []
  }
 ],
 "metadata": {
  "kernelspec": {
   "display_name": "Python 3.9 (Conda 2022.05) [python/3.9-2022.05]",
   "language": "python",
   "name": "python39_202205"
  },
  "language_info": {
   "codemirror_mode": {
    "name": "ipython",
    "version": 3
   },
   "file_extension": ".py",
   "mimetype": "text/x-python",
   "name": "python",
   "nbconvert_exporter": "python",
   "pygments_lexer": "ipython3",
   "version": "3.9.12"
  }
 },
 "nbformat": 4,
 "nbformat_minor": 5
}
