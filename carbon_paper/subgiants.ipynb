{
 "cells": [
  {
   "cell_type": "code",
   "execution_count": null,
   "id": "0",
   "metadata": {},
   "outputs": [],
   "source": [
    "%load_ext autoreload\n",
    "%autoreload 2"
   ]
  },
  {
   "cell_type": "code",
   "execution_count": null,
   "id": "1",
   "metadata": {},
   "outputs": [],
   "source": [
    "import matplotlib.pyplot as plt\n",
    "import matplotlib.patheffects\n",
    "import matplotlib as mpl\n",
    "import numpy as np\n",
    "import pandas as pd\n",
    "import vice\n",
    "\n",
    "from surp import subgiants\n",
    "import seaborn as sns\n",
    "import surp\n",
    "\n",
    "from surp import AGB_MODELS\n",
    "import arya\n",
    "import scipy\n",
    "from scipy.stats import binned_statistic, norm"
   ]
  },
  {
   "cell_type": "markdown",
   "id": "2",
   "metadata": {},
   "source": [
    "# Main Figure"
   ]
  },
  {
   "cell_type": "code",
   "execution_count": null,
   "id": "3",
   "metadata": {},
   "outputs": [],
   "source": [
    "fig, axs = plt.subplots(1, 2, figsize=(7, 10/3), sharey=True, gridspec_kw={\"wspace\": 0}, dpi=250)\n",
    "\n",
    "\n",
    "kwargs = dict(\n",
    "    rasterized=True, ec=\"none\", s=1\n",
    ")\n",
    "\n",
    "plt.sca(axs[0])\n",
    "sns.scatterplot(subgiants, x=\"MG_H\", y=\"C_MG\", hue=\"high_alpha\", **kwargs)\n",
    "L = arya.Legend(labels=[r\"low $\\alpha$\", r\"high $\\alpha$\"], color_only=True, loc=4)\n",
    "for text in L.mpl_leg.get_texts():\n",
    "    text.set_path_effects([mpl.patheffects.Stroke(linewidth=3, foreground='w'),\n",
    "                       mpl.patheffects.Normal()])\n",
    "    \n",
    "plt.ylabel(\"[C/Mg]\")\n",
    "plt.xlabel(\"[Mg/H]\")\n",
    "plt.xlim(-0.5, 0.5)\n",
    "plt.ylim(-0.45, 0.15)\n",
    "\n",
    "plt.sca(axs[1])\n",
    "sns.scatterplot(subgiants, x=\"MG_FE\", y=\"C_MG\", hue=\"MG_H\", hue_norm=(-0.5, 0.5), legend=False,  palette=plt.get_cmap(), **kwargs)\n",
    "plt.xlim(-0.08, 0.45)\n",
    "\n",
    "plt.xlabel(\"[Mg/Fe]\")\n",
    "\n",
    "cax = axs[1].inset_axes([1.05, 0., 0.05, 1])\n",
    "\n",
    "arya.Colorbar(clim=(-0.5, 0.5), label=\"[Mg/H]\", cax=cax)\n",
    "plt.savefig(\"figures/subgiants.pdf\")"
   ]
  },
  {
   "cell_type": "code",
   "execution_count": null,
   "id": "4",
   "metadata": {},
   "outputs": [],
   "source": [
    "print(len(subgiants))"
   ]
  },
  {
   "cell_type": "markdown",
   "id": "5",
   "metadata": {},
   "source": [
    "# Radii"
   ]
  },
  {
   "cell_type": "code",
   "execution_count": null,
   "id": "6",
   "metadata": {},
   "outputs": [],
   "source": [
    "np.nanquantile(subgiants.R_gal, [0.01, 0.16, 0.5, 0.84, 0.99])"
   ]
  },
  {
   "cell_type": "code",
   "execution_count": null,
   "id": "7",
   "metadata": {},
   "outputs": [],
   "source": [
    "plt.hist(subgiants.R_gal)"
   ]
  },
  {
   "cell_type": "code",
   "execution_count": null,
   "id": "8",
   "metadata": {},
   "outputs": [],
   "source": [
    "subgiants.age_ANN"
   ]
  },
  {
   "cell_type": "code",
   "execution_count": null,
   "id": "9",
   "metadata": {},
   "outputs": [],
   "source": [
    "subgiants.columns.values"
   ]
  },
  {
   "cell_type": "code",
   "execution_count": null,
   "id": "10",
   "metadata": {},
   "outputs": [],
   "source": [
    "plt.hist(subgiants.age_lowess_correct_ANN)\n",
    "plt.xlabel(\"ANN age\")\n",
    "plt.ylabel(\"count\")"
   ]
  },
  {
   "cell_type": "code",
   "execution_count": null,
   "id": "11",
   "metadata": {},
   "outputs": [],
   "source": [
    "plt.scatter(subgiants.age_lowess_correct_ANN, subgiants.age_total_error_ANN, s=1, alpha=0.2)\n",
    "plt.xlabel(\"ANN age\")\n",
    "plt.ylabel(\"err\")"
   ]
  },
  {
   "cell_type": "code",
   "execution_count": null,
   "id": "12",
   "metadata": {},
   "outputs": [],
   "source": [
    "plt.hist(subgiants.age_ANN, histtype=\"step\")\n",
    "plt.xlabel(\"ANN age\")\n",
    "plt.ylabel(\"count\")\n",
    "plt.xlim(0)"
   ]
  },
  {
   "cell_type": "code",
   "execution_count": null,
   "id": "13",
   "metadata": {},
   "outputs": [],
   "source": [
    "arya.medianplot(subgiants, x=\"age_ANN\", y=\"C_MG\", binsize=600)"
   ]
  },
  {
   "cell_type": "markdown",
   "id": "14",
   "metadata": {
    "tags": []
   },
   "source": [
    "# Binned visualization"
   ]
  },
  {
   "cell_type": "code",
   "execution_count": null,
   "id": "15",
   "metadata": {},
   "outputs": [],
   "source": [
    "def cooh_data(ax=None, **params):\n",
    "    \n",
    "    ha = subgiants[\"high_alpha\"]\n",
    "    df = subgiants[~ha]\n",
    "    \n",
    "    arya.binnedplot(df, x=\"MG_H\", y=\"C_MG\", binrange=(-0.5, 0.5), binwidth=0.05,\n",
    "                              cmin=1, stat=\"median\", errorbar=\"pi\",   **params)\n",
    "    \n",
    "def coofe_data(o_0=-0.1, w=0.05, ax=None, **kwargs):\n",
    "\n",
    "        \n",
    "    filt = subgiants[\"MG_H\"] > o_0 - w\n",
    "    filt &= subgiants[\"MG_H\"] < o_0 + w\n",
    "    df = subgiants[filt]\n",
    "    arya.binnedplot(df, x=\"MG_FE\", y=\"C_MG\", binrange=(-0.1, 0.5),\n",
    "                              cmin=1, stat=\"median\", errorbar=\"pi\",   **params)"
   ]
  },
  {
   "cell_type": "code",
   "execution_count": null,
   "id": "16",
   "metadata": {},
   "outputs": [],
   "source": [
    "def finite_gaussian_kde(x, y, x_err, y_err, xlims=None, ylims=None, grid_size=100, cutoff=5):\n",
    "    \"\"\"\n",
    "    Compute a 2D KDE using a finite Gaussian kernel.\n",
    "\n",
    "    Parameters:\n",
    "    - x, y: Arrays of data point coordinates.\n",
    "    - x_uncertainties, y_uncertainties: Arrays of standard deviations for the Gaussian kernels.\n",
    "    - grid_size: The number of points in each dimension for the grid.\n",
    "    - cutoff: The cutoff in standard deviations for the finite Gaussian kernel.\n",
    "    \"\"\"\n",
    "    # Define the grid\n",
    "    if xlims is None:\n",
    "        x_min, x_max = x.min() - cutoff * x_uncertainties.max(), x.max() + cutoff * x_uncertainties.max()\n",
    "    else:\n",
    "        x_min, x_max = xlims\n",
    "        \n",
    "    if ylims is None:\n",
    "        y_min, y_max = y.min() - cutoff * y_uncertainties.max(), y.max() + cutoff * y_uncertainties.max()\n",
    "    else:\n",
    "        y_min, y_max = ylims\n",
    "        \n",
    "    x_grid = np.linspace(x_min, x_max, grid_size)\n",
    "    y_grid = np.linspace(y_min, y_max, grid_size)\n",
    "    x_mesh, y_mesh = np.meshgrid(x_grid, y_grid)\n",
    "\n",
    "    # Initialize the KDE grid\n",
    "    kde = np.zeros_like(x_mesh)\n",
    "\n",
    "    # Vectorized computation of the finite Gaussian kernel\n",
    "    for xi, yi, x_ui, y_ui in zip(x, y, x_err, y_err):\n",
    "        # Determine the range affected by this point's kernel\n",
    "        x_range = np.logical_and(x_grid >= xi - cutoff * x_ui, x_grid <= xi + cutoff * x_ui)\n",
    "        y_range = np.logical_and(y_grid >= yi - cutoff * y_ui, y_grid <= yi + cutoff * y_ui)\n",
    "\n",
    "        # Compute the kernel only within the cutoff range\n",
    "        x_kernel = np.exp(-0.5 * ((x_grid[x_range] - xi) / x_ui) ** 2) / (x_ui * np.sqrt(2 * np.pi))\n",
    "        y_kernel = np.exp(-0.5 * ((y_grid[y_range] - yi) / y_ui) ** 2) / (y_ui * np.sqrt(2 * np.pi))\n",
    "\n",
    "        # Update the KDE grid\n",
    "        kde[np.ix_(y_range, x_range)] += np.outer(y_kernel, x_kernel)\n",
    "\n",
    "    return x_mesh, y_mesh, kde"
   ]
  },
  {
   "cell_type": "code",
   "execution_count": null,
   "id": "17",
   "metadata": {},
   "outputs": [],
   "source": [
    "x = subgiants.MG_H.values\n",
    "y = subgiants.C_MG.values\n",
    "x_err = subgiants.MG_H_ERR.values\n",
    "y_err = subgiants.C_MG_ERR.values\n",
    "percens = np.linspace(0, 100, 10)\n",
    "bins = np.percentile(x, percens)\n",
    "weights = 1/subgiants.C_MG_ERR**2"
   ]
  },
  {
   "cell_type": "code",
   "execution_count": null,
   "id": "18",
   "metadata": {},
   "outputs": [],
   "source": [
    "filt = np.full(x.shape, True)\n",
    "\n",
    "x_grid, y_grid, kde = finite_gaussian_kde(x[filt], y[filt], x_err[filt], y_err[filt], ylims=(-0.5, 0.1), xlims=(-0.7, 0.5), grid_size=1024)\n",
    "plt.imshow(kde, origin=\"lower\", extent=[-0.5, 0.1, -0.7, 0.5], aspect=0.2)"
   ]
  },
  {
   "cell_type": "code",
   "execution_count": null,
   "id": "19",
   "metadata": {},
   "outputs": [],
   "source": [
    "plt.hist2d(x, y, 30,  range=([-0.7, 0.5], [-0.5, 0.1]), weights=weights);"
   ]
  },
  {
   "cell_type": "code",
   "execution_count": null,
   "id": "20",
   "metadata": {},
   "outputs": [],
   "source": [
    "filt = ~subgiants.high_alpha\n",
    "\n",
    "x_grid, y_grid, kde = finite_gaussian_kde(x[filt], y[filt], x_err[filt], y_err[filt], ylims=(-0.5, 0.1), xlims=(-0.7, 0.5), grid_size=1024)\n",
    "plt.imshow(kde, origin=\"lower\", extent=[-0.5, 0.1, -0.7, 0.5], aspect=0.2)"
   ]
  },
  {
   "cell_type": "code",
   "execution_count": null,
   "id": "21",
   "metadata": {},
   "outputs": [],
   "source": [
    "import json"
   ]
  },
  {
   "cell_type": "code",
   "execution_count": null,
   "id": "22",
   "metadata": {},
   "outputs": [],
   "source": [
    "np.save(\"kde_lowa.npy\", kde)\n",
    "with open(\"kde_lowa.json\", \"w\") as f:\n",
    "    json.dump({\"N\": 1024}, f)\n",
    "    json.dump({\"extent\": [x_grid[0,0], x_grid[-1,-1], y_grid[0,0], y_grid[-1,-1]]}, f)"
   ]
  },
  {
   "cell_type": "code",
   "execution_count": null,
   "id": "23",
   "metadata": {},
   "outputs": [],
   "source": [
    "plt.plot(x_grid[0, :], np.sum(kde * y_grid, axis=0) / np.sum(kde, axis=0))\n",
    "plt.contourf(x_grid, y_grid, kde, cmap=\"Greys\")\n",
    "arya.medianplot(subgiants[~subgiants.high_alpha], \"MG_H\", \"C_MG\", binsize=1000)"
   ]
  },
  {
   "cell_type": "code",
   "execution_count": null,
   "id": "24",
   "metadata": {},
   "outputs": [],
   "source": [
    "filt = subgiants.high_alpha\n",
    "\n",
    "x_grid, y_grid, kde = finite_gaussian_kde(x[filt], y[filt], x_err[filt], y_err[filt], ylims=(-0.5, 0.1), xlims=(-0.7, 0.5), grid_size=300)\n",
    "plt.imshow(kde, origin=\"lower\", extent=[-0.5, 0.1, -0.7, 0.5], aspect=0.2)"
   ]
  },
  {
   "cell_type": "code",
   "execution_count": null,
   "id": "25",
   "metadata": {},
   "outputs": [],
   "source": [
    "\n",
    "x = subgiants.MG_FE\n",
    "x_err = subgiants.MG_FE_ERR"
   ]
  },
  {
   "cell_type": "code",
   "execution_count": null,
   "id": "26",
   "metadata": {},
   "outputs": [],
   "source": [
    "filt = surp\n",
    "\n",
    "x_grid, y_grid, kde = finite_gaussian_kde(x[filt], y[filt], x_err[filt], y_err[filt], ylims=(-0.5, 0.1), xlims=(-0.1, 0.5), grid_size=300)\n"
   ]
  },
  {
   "cell_type": "code",
   "execution_count": null,
   "id": "27",
   "metadata": {},
   "outputs": [],
   "source": [
    "plt.imshow(kde, origin=\"lower\", extent=[-0.1, 0.5, -0.5, 0.1], aspect=0.7, cmap=\"Greys\", alpha=0.5)"
   ]
  },
  {
   "cell_type": "code",
   "execution_count": null,
   "id": "28",
   "metadata": {},
   "outputs": [],
   "source": [
    "plt.hist2d(x, y,50,  range=([-0.1, 0.5], [-0.5, 0.1]));"
   ]
  },
  {
   "cell_type": "code",
   "execution_count": null,
   "id": "29",
   "metadata": {},
   "outputs": [],
   "source": [
    "plt.contourf(x_grid, y_grid, kde, levels=100, cmap=\"Greys\")\n",
    "plt.colorbar()"
   ]
  },
  {
   "cell_type": "code",
   "execution_count": null,
   "id": "30",
   "metadata": {},
   "outputs": [],
   "source": [
    "plt.imshow(kde, origin=\"lower\")"
   ]
  },
  {
   "cell_type": "code",
   "execution_count": null,
   "id": "31",
   "metadata": {},
   "outputs": [],
   "source": [
    "plt.contourf(x_grid, y_grid, kde)"
   ]
  },
  {
   "cell_type": "code",
   "execution_count": null,
   "id": "32",
   "metadata": {},
   "outputs": [],
   "source": [
    "plt.scatter(xs, ys)\n",
    "plt.scatter(xs, yl)\n",
    "plt.scatter(xs, yh)"
   ]
  },
  {
   "cell_type": "code",
   "execution_count": null,
   "id": "33",
   "metadata": {},
   "outputs": [],
   "source": [
    "plt.scatter(x, y)"
   ]
  },
  {
   "cell_type": "markdown",
   "id": "34",
   "metadata": {},
   "source": [
    "# median vs mode"
   ]
  },
  {
   "cell_type": "code",
   "execution_count": null,
   "id": "35",
   "metadata": {},
   "outputs": [],
   "source": [
    "x = subgiants.MG_H\n",
    "y = subgiants.C_MG"
   ]
  },
  {
   "cell_type": "code",
   "execution_count": null,
   "id": "36",
   "metadata": {},
   "outputs": [],
   "source": []
  },
  {
   "cell_type": "code",
   "execution_count": null,
   "id": "37",
   "metadata": {},
   "outputs": [],
   "source": [
    "def calc_mode(x):\n",
    "    kernel = scipy.stats.gaussian_kde(x)\n",
    "    x_model = np.linspace(np.nanmin(x), np.nanmax(x), 1000)\n",
    "    y_model = kernel(x_model)\n",
    "    return x_model[np.argmax(y_model)]"
   ]
  },
  {
   "cell_type": "code",
   "execution_count": null,
   "id": "38",
   "metadata": {},
   "outputs": [],
   "source": [
    "for x0 in np.arange(-0.5, 0.51, 0.1):\n",
    "    w = 0.05\n",
    "    f = x0-w < x \n",
    "    f &= x < x0 + w\n",
    "    \n",
    "    kernel = scipy.stats.gaussian_kde(y[f])\n",
    "    plt.hist(y[f], 30, density=True)\n",
    "    x_pred = np.linspace(-1, 1, 1000)\n",
    "    plt.plot(x_pred, kernel(x_pred), label=\"kde\")\n",
    "    plt.axvline(np.median(y[f]), color=arya.COLORS[3], label=\"median\")\n",
    "    plt.axvline(calc_mode(y[f]), color=arya.COLORS[4], label=\"model\")\n",
    "    \n",
    "    plt.xlim(-0.5, 0.2)\n",
    "    plt.title(f\"M/H = {x0:0.2f}\")\n",
    "    plt.xlabel(\"[C/Mg]\")\n",
    "    plt.legend()\n",
    "\n",
    "    plt.show()"
   ]
  },
  {
   "cell_type": "code",
   "execution_count": null,
   "id": "39",
   "metadata": {},
   "outputs": [],
   "source": [
    "\n",
    "arya.medianplot(subgiants[~subgiants.high_alpha], \"MG_H\", \"C_MG\", binsize=1000)\n",
    "x = subgiants.MG_H\n",
    "bins = np.arange(-0.45, 0.5, 0.08)\n",
    "x_bin = (bins[1:] + bins[:-1])/2\n",
    "y_bin = [calc_mode(y[(bins[i] < x) & (x < bins[i+1])]) for i in range(len(x_bin))]\n",
    "\n",
    "plt.plot(x_bin, y_bin, color=arya.COLORS[1])"
   ]
  },
  {
   "cell_type": "code",
   "execution_count": null,
   "id": "40",
   "metadata": {},
   "outputs": [],
   "source": [
    "\n",
    "arya.medianplot(subgiants, \"MG_FE\", \"C_MG\", binsize=1000)\n",
    "\n",
    "x = subgiants.MG_FE\n",
    "bins = np.arange(-0.1, 0.5, 0.05)\n",
    "x_bin = (bins[1:] + bins[:-1])/2\n",
    "y_bin = [calc_mode(y[(bins[i] < x) & (x < bins[i+1])]) for i in range(len(x_bin))]\n",
    "\n",
    "plt.scatter(x_bin, y_bin, color=arya.COLORS[2])"
   ]
  },
  {
   "cell_type": "markdown",
   "id": "41",
   "metadata": {},
   "source": [
    "## Median binning "
   ]
  },
  {
   "cell_type": "code",
   "execution_count": null,
   "id": "42",
   "metadata": {},
   "outputs": [],
   "source": [
    "bins = "
   ]
  },
  {
   "cell_type": "code",
   "execution_count": null,
   "id": "43",
   "metadata": {},
   "outputs": [],
   "source": [
    "fig, ax = plt.subplots(figsize=(10/3, 10/3/2**0.5))\n",
    "\n",
    "cb = arya.HueMap( clim=(-0.3, 0.3))\n",
    "\n",
    "for MH in (-0.3, -0.2,-0.1,0, 0.1, 0.2,0.3):\n",
    "    mh0 = MH - 0.05\n",
    "    mh1 = MH + 0.05\n",
    "    filt = subgiants.MG_H > mh0\n",
    "    filt &= subgiants.MG_H < mh1\n",
    "    df = subgiants[filt]\n",
    "\n",
    "    C_MG_m = np.median(df.C_MG[~df.high_alpha])\n",
    "\n",
    "    df[\"C_Cm\"] = df.C_MG - C_MG_m\n",
    "    \n",
    "    arya.medianplot(df, x=\"MG_FE\", y=\"C_Cm\", binsize=100, color=cb(MH), aes=\"line\", errorbar=None)\n",
    "\n",
    "plt.gca().invert_xaxis()\n",
    "\n",
    "plt.xlabel(\"[Mg/Fe]\")\n",
    "plt.ylabel(\"[C/Mg]\")\n",
    "\n",
    "plt.tight_layout()\n",
    "plt.savefig(\"figures/apogee_caafe_binned.pdf\")"
   ]
  },
  {
   "cell_type": "code",
   "execution_count": null,
   "id": "44",
   "metadata": {},
   "outputs": [],
   "source": [
    "fig, ax = plt.subplots(figsize=(10/3, 10/3/2**0.5))\n",
    "\n",
    "cb = arya.HueMap( clim=(-0.3, 0.3))\n",
    "\n",
    "for MH in (-0.3, -0.2,-0.1,0, 0.1, 0.2,0.3):\n",
    "    mh0 = MH - 0.05\n",
    "    mh1 = MH + 0.05\n",
    "    filt = subgiants.MG_H > mh0\n",
    "    filt &= subgiants.MG_H < mh1\n",
    "    df = subgiants[filt]\n",
    "    \n",
    "    arya.medianplot(df, x=\"MG_FE\", y=\"C_MG\", binsize=100, color=cb(MH), aes=\"line\", errorbar=None)\n",
    "\n",
    "plt.gca().invert_xaxis()\n",
    "\n",
    "plt.xlabel(\"[Mg/Fe]\")\n",
    "plt.ylabel(\"[C/Mg]\")\n",
    "\n",
    "plt.tight_layout()\n",
    "plt.savefig(\"figures/apogee_caafe_binned.pdf\")"
   ]
  },
  {
   "cell_type": "code",
   "execution_count": null,
   "id": "45",
   "metadata": {},
   "outputs": [],
   "source": [
    "plt.scatter(subgiants.age, subgiants.C_MG, s=0.3, alpha=0.1)\n",
    "plt.gca().invert_xaxis()\n",
    "plt.ylim(-0.5, 0.5)\n"
   ]
  },
  {
   "cell_type": "markdown",
   "id": "46",
   "metadata": {},
   "source": [
    "#"
   ]
  }
 ],
 "metadata": {
  "kernelspec": {
   "display_name": "Python 3 (ipykernel)",
   "language": "python",
   "name": "python3"
  },
  "language_info": {
   "codemirror_mode": {
    "name": "ipython",
    "version": 3
   },
   "file_extension": ".py",
   "mimetype": "text/x-python",
   "name": "python",
   "nbconvert_exporter": "python",
   "pygments_lexer": "ipython3",
   "version": "3.11.9"
  }
 },
 "nbformat": 4,
 "nbformat_minor": 5
}
