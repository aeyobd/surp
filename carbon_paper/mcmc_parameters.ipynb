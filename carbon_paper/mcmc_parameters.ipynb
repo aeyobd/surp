{
 "cells": [
  {
   "cell_type": "markdown",
   "id": "c5f12a84-04a0-4ada-92c4-595a2b6e5fbc",
   "metadata": {},
   "source": [
    "This notebook allows for quick reporting of median parameters with uncertainties and calculation of resulting yield parameters to input into models."
   ]
  },
  {
   "cell_type": "code",
   "execution_count": 1,
   "id": "4fe17bf5-49f1-4fb7-9f7a-684089b9de7f",
   "metadata": {},
   "outputs": [
    {
     "name": "stderr",
     "output_type": "stream",
     "text": [
      "/astro/dboyea/.local/lib/python3.11/site-packages/vice-1.4.0.dev0-py3.11-linux-x86_64.egg/vice/__init__.py:141: UserWarning: Using un-released version of VICE\n",
      "  warnings.warn(\"Using un-released version of VICE\", UserWarning)\n"
     ]
    }
   ],
   "source": [
    "import pandas as pd\n",
    "import numpy as np\n",
    "import surp\n",
    "import vice"
   ]
  },
  {
   "cell_type": "code",
   "execution_count": 2,
   "id": "7b18742c-0314-436f-b7d8-1a7c1593c45f",
   "metadata": {},
   "outputs": [],
   "source": [
    "from mc_plot_utils import MCMCResult"
   ]
  },
  {
   "cell_type": "code",
   "execution_count": null,
   "id": "f39e8c17-4b3a-432c-b328-1783af7d1122",
   "metadata": {},
   "outputs": [],
   "source": []
  },
  {
   "cell_type": "code",
   "execution_count": 3,
   "id": "cb3f81e6-41e8-44fc-9bf1-ebce2e6c73eb",
   "metadata": {},
   "outputs": [],
   "source": [
    "def get_params(filename):\n",
    "    df = pd.read_csv(\"../models/mcmc_models_2d/\" + filename + \"/mcmc_summary.csv\")\n",
    "\n",
    "    result = MCMCResult.from_file(\"../models/mcmc_models_2d/\" + filename +  \"/\")\n",
    "\n",
    "\n",
    "    for label in result.all_labels:\n",
    "        if label not in df.parameters.values:\n",
    "            print(label)\n",
    "            df = pd.concat([df, \n",
    "                    pd.DataFrame({\"parameters\": label, \"median\": result.samples[label].median(), \"err_low\": 0, \"err_high\": 0\n",
    "                                 }, index=[1])\n",
    "                ], ignore_index=True)\n",
    "\n",
    "    for (i, r) in df.iterrows():\n",
    "        print(f'{r.parameters:8}\\t{r[\"median\"]:0.3f}\\t-{r.err_low:0.3f}\\t+{r.err_high:0.3f}')\n",
    "        \n",
    "\n",
    "    return df"
   ]
  },
  {
   "cell_type": "code",
   "execution_count": 4,
   "id": "e82b64d8-71df-4f65-8f7b-626b2363e456",
   "metadata": {},
   "outputs": [],
   "source": [
    "def get_df_key(df, key):\n",
    "    try:\n",
    "        return df[df.parameters == key][\"median\"].iloc[0]\n",
    "    except Exception as e:\n",
    "        return np.nan"
   ]
  },
  {
   "cell_type": "code",
   "execution_count": 5,
   "id": "496a4ff9-a703-4c60-aefc-8865b772d52c",
   "metadata": {},
   "outputs": [],
   "source": [
    "def to_log_slope(slope):\n",
    "    return slope / surp.Z_SUN / surp.yield_models.zeta_to_slope(1)"
   ]
  },
  {
   "cell_type": "code",
   "execution_count": 6,
   "id": "823636af-ec1b-49dd-8d8c-c559f2c6941c",
   "metadata": {},
   "outputs": [],
   "source": [
    "def make_new_params(df, study=\"fruity\"):\n",
    "    y0_l = get_df_key(df, \"y0_cc\")\n",
    "    slope = get_df_key(df, \"zeta_cc\")\n",
    "    alpha = get_df_key(df, \"alpha\")\n",
    "\n",
    "    y0 = (y0_l + slope)*1e-3\n",
    "    zeta = 1e-3 * slope / surp.Z_SUN / surp.yield_models.zeta_to_slope(1)\n",
    "    \n",
    "    print(f\"alpha_c_agb = {alpha:0.2f}\" )\n",
    "    print(f\"y0_c_cc = {y0:0.2e}\" )\n",
    "    print(f\"zeta_c_cc = {zeta:0.2e}\", )\n",
    "    \n",
    "    f_agb = yagb_props[study][\"y0\"] * alpha / (yagb_props[study][\"y0\"] * alpha + y0)\n",
    "    print(f\"f = {f_agb:0.3f}\" )\n"
   ]
  },
  {
   "cell_type": "code",
   "execution_count": 7,
   "id": "6bfcf921-621d-4309-91f9-d475f7f57a52",
   "metadata": {},
   "outputs": [],
   "source": [
    "def make_f_agb(df, f_new, study=\"fruity\"):\n",
    "    y0_l = get_df_key(df, \"y0_cc\")\n",
    "    slope = get_df_key(df, \"zeta_cc\")\n",
    "    alpha = get_df_key(df, \"alpha\")\n",
    "    y0 = (y0_l + slope) * 1e-3\n",
    "    \n",
    "    ya = yagb_props[study][\"y0\"]\n",
    "    ytot = ya * alpha + y0\n",
    "    \n",
    "    f_agb = ya * alpha / ytot\n",
    "\n",
    "    alpha_new = f_new * ytot / ya\n",
    "\n",
    "    y0_new = ytot - alpha_new * ya\n",
    "    f_new_new = ya * alpha_new / ytot\n",
    "\n",
    "    print(f\"y0 = {y0_new:0.3e}\" )\n",
    "    print(f\"alpha = {alpha_new:0.3f}\" )\n",
    "\n",
    "    print(f\"f = {f_new_new:0.3f}\" )\n"
   ]
  },
  {
   "cell_type": "code",
   "execution_count": 8,
   "id": "c822c773-3fe1-4fc3-a1d3-0251f3b3f4cb",
   "metadata": {},
   "outputs": [
    {
     "data": {
      "text/html": [
       "<div>\n",
       "<style scoped>\n",
       "    .dataframe tbody tr th:only-of-type {\n",
       "        vertical-align: middle;\n",
       "    }\n",
       "\n",
       "    .dataframe tbody tr th {\n",
       "        vertical-align: top;\n",
       "    }\n",
       "\n",
       "    .dataframe thead th {\n",
       "        text-align: right;\n",
       "    }\n",
       "</style>\n",
       "<table border=\"1\" class=\"dataframe\">\n",
       "  <thead>\n",
       "    <tr style=\"text-align: right;\">\n",
       "      <th></th>\n",
       "      <th>model</th>\n",
       "      <th>y0</th>\n",
       "      <th>zeta0</th>\n",
       "      <th>zeta0_err</th>\n",
       "      <th>zeta1</th>\n",
       "      <th>zeta1_err</th>\n",
       "    </tr>\n",
       "  </thead>\n",
       "  <tbody>\n",
       "    <tr>\n",
       "      <th>0</th>\n",
       "      <td>fruity</td>\n",
       "      <td>3.110</td>\n",
       "      <td>3.7</td>\n",
       "      <td>0.3</td>\n",
       "      <td>-3.5</td>\n",
       "      <td>0.3</td>\n",
       "    </tr>\n",
       "    <tr>\n",
       "      <th>1</th>\n",
       "      <td>aton</td>\n",
       "      <td>-0.009</td>\n",
       "      <td>1.0</td>\n",
       "      <td>1.9</td>\n",
       "      <td>-10.0</td>\n",
       "      <td>3.0</td>\n",
       "    </tr>\n",
       "    <tr>\n",
       "      <th>2</th>\n",
       "      <td>monash</td>\n",
       "      <td>2.960</td>\n",
       "      <td>2.3</td>\n",
       "      <td>0.5</td>\n",
       "      <td>-11.0</td>\n",
       "      <td>1.0</td>\n",
       "    </tr>\n",
       "    <tr>\n",
       "      <th>3</th>\n",
       "      <td>nugrid</td>\n",
       "      <td>9.250</td>\n",
       "      <td>8.1</td>\n",
       "      <td>1.9</td>\n",
       "      <td>-4.6</td>\n",
       "      <td>1.7</td>\n",
       "    </tr>\n",
       "    <tr>\n",
       "      <th>4</th>\n",
       "      <td>fruity_mf0.5</td>\n",
       "      <td>2.830</td>\n",
       "      <td>3.3</td>\n",
       "      <td>0.2</td>\n",
       "      <td>-1.8</td>\n",
       "      <td>0.2</td>\n",
       "    </tr>\n",
       "    <tr>\n",
       "      <th>5</th>\n",
       "      <td>fruity_mf0.7</td>\n",
       "      <td>3.600</td>\n",
       "      <td>4.2</td>\n",
       "      <td>0.3</td>\n",
       "      <td>-3.1</td>\n",
       "      <td>0.3</td>\n",
       "    </tr>\n",
       "    <tr>\n",
       "      <th>6</th>\n",
       "      <td>fruity_mf1.5</td>\n",
       "      <td>3.110</td>\n",
       "      <td>3.4</td>\n",
       "      <td>0.2</td>\n",
       "      <td>-3.0</td>\n",
       "      <td>0.2</td>\n",
       "    </tr>\n",
       "  </tbody>\n",
       "</table>\n",
       "</div>"
      ],
      "text/plain": [
       "          model     y0  zeta0  zeta0_err  zeta1  zeta1_err\n",
       "0        fruity  3.110    3.7        0.3   -3.5        0.3\n",
       "1          aton -0.009    1.0        1.9  -10.0        3.0\n",
       "2        monash  2.960    2.3        0.5  -11.0        1.0\n",
       "3        nugrid  9.250    8.1        1.9   -4.6        1.7\n",
       "4  fruity_mf0.5  2.830    3.3        0.2   -1.8        0.2\n",
       "5  fruity_mf0.7  3.600    4.2        0.3   -3.1        0.3\n",
       "6  fruity_mf1.5  3.110    3.4        0.2   -3.0        0.2"
      ]
     },
     "execution_count": 8,
     "metadata": {},
     "output_type": "execute_result"
    }
   ],
   "source": [
    "df = pd.read_csv(\"yield_fits.tsv\", sep=r\"\\s+\", comment=\"#\")\n",
    "df"
   ]
  },
  {
   "cell_type": "code",
   "execution_count": 9,
   "id": "fa1167fe-67ba-4564-9810-6d20f36cedd0",
   "metadata": {},
   "outputs": [
    {
     "data": {
      "text/plain": [
       "0.3604729682654721"
      ]
     },
     "execution_count": 9,
     "metadata": {},
     "output_type": "execute_result"
    }
   ],
   "source": [
    "vice.yields.agb.settings[\"c\"] = surp.agb_interpolator.interpolator(\"c\", mass_factor=0.7)\n",
    "surp.yields.calc_y(surp.Z_SUN, kind=\"agb\") * 1e3"
   ]
  },
  {
   "cell_type": "code",
   "execution_count": 10,
   "id": "667e6967-8dd0-448c-b5a8-3d0330994c0e",
   "metadata": {},
   "outputs": [
    {
     "data": {
      "text/plain": [
       "{'fruity': {'y0': 0.000311, 'y_a': 0.0, 'zeta_a': -0.0},\n",
       " 'aton': {'y0': -9e-07, 'y_a': 0.0, 'zeta_a': -0.0},\n",
       " 'monash': {'y0': 0.000296, 'y_a': 0.0, 'zeta_a': -0.0},\n",
       " 'nugrid': {'y0': 0.000925, 'y_a': 0.0, 'zeta_a': -0.0},\n",
       " 'fruity_mf0.5': {'y0': 0.000283, 'y_a': 0.0, 'zeta_a': -0.0},\n",
       " 'fruity_mf0.7': {'y0': 0.00036, 'y_a': 0.0, 'zeta_a': -0.0},\n",
       " 'fruity_mf1.5': {'y0': 0.000311, 'y_a': 0.0, 'zeta_a': -0.0},\n",
       " 'analytic': {'y0': 0.001, 'y_a': 0.001, 'zeta_a': 0.001}}"
      ]
     },
     "execution_count": 10,
     "metadata": {},
     "output_type": "execute_result"
    }
   ],
   "source": [
    "yagb_props = {}\n",
    "\n",
    "for _, row in df.iterrows():\n",
    "    yagb_props[row.model] = {\n",
    "        \"y0\": row.y0 * 1e-4,\n",
    "        \"y_a\": row.zeta0 * 0e-4,\n",
    "        \"zeta_a\": row.zeta1 * 0e-4,\n",
    "    }\n",
    "\n",
    "yagb_props[\"analytic\"] = {\n",
    "    \"y0\": 1e-3,\n",
    "    \"y_a\": 1e-3,\n",
    "    \"zeta_a\": 1e-3\n",
    "}\n",
    "\n",
    "yagb_props"
   ]
  },
  {
   "cell_type": "markdown",
   "id": "d1e260eb-a64c-43d9-90a0-dd16f71e3d57",
   "metadata": {},
   "source": [
    "# simple yields"
   ]
  },
  {
   "cell_type": "markdown",
   "id": "44532db9-5360-4c1c-b348-cecfedb0dbb1",
   "metadata": {},
   "source": [
    "## Making new model parameters"
   ]
  },
  {
   "cell_type": "code",
   "execution_count": 49,
   "id": "2462ea05-c941-4b3b-8659-904deaafb564",
   "metadata": {},
   "outputs": [
    {
     "name": "stdout",
     "output_type": "stream",
     "text": [
      "y0_cc   \t0.919\t-0.009\t+0.009\n",
      "alpha   \t2.715\t-0.026\t+0.026\n",
      "zeta_cc \t0.902\t-0.008\t+0.008\n"
     ]
    },
    {
     "data": {
      "text/plain": [
       "0.0026653650000000003"
      ]
     },
     "execution_count": 49,
     "metadata": {},
     "output_type": "execute_result"
    }
   ],
   "source": [
    "df = get_params(\"fiducial_constrained\")\n",
    "0.919e-3 + 2.715 * yagb_props[\"fruity\"][\"y0\"] + 0.902e-3"
   ]
  },
  {
   "cell_type": "code",
   "execution_count": 50,
   "id": "61d2fb38-3ddd-4125-96d2-76a52ca9ee36",
   "metadata": {},
   "outputs": [
    {
     "name": "stdout",
     "output_type": "stream",
     "text": [
      "y0_cc   \t1.513\t-0.019\t+0.018\n",
      "alpha   \t1.549\t-0.040\t+0.041\n",
      "zeta_cc \t0.718\t-0.009\t+0.009\n",
      "\n",
      "alpha_c_agb = 1.55\n",
      "y0_c_cc = 2.23e-03\n",
      "zeta_c_cc = 1.65e-03\n",
      "f = 0.178\n"
     ]
    }
   ],
   "source": [
    "df = get_params(\"fiducial\")\n",
    "print()\n",
    "make_new_params(df, \"fruity\")"
   ]
  },
  {
   "cell_type": "code",
   "execution_count": 51,
   "id": "d4afb1fc-8ba3-4955-83d3-9cba6998e6a7",
   "metadata": {
    "scrolled": true
   },
   "outputs": [
    {
     "name": "stdout",
     "output_type": "stream",
     "text": [
      "y0_cc   \t1.513\t-0.019\t+0.019\n",
      "alpha   \t1.549\t-0.041\t+0.041\n",
      "zeta_cc \t0.718\t-0.009\t+0.009\n",
      "\n",
      "alpha_c_agb = 1.55\n",
      "y0_c_cc = 2.23e-03\n",
      "zeta_c_cc = 1.65e-03\n",
      "f = 0.178\n"
     ]
    }
   ],
   "source": [
    "df = get_params(\"fiducial_2\")\n",
    "print()\n",
    "make_new_params(df, \"fruity\")"
   ]
  },
  {
   "cell_type": "code",
   "execution_count": 52,
   "id": "108768b0-313b-4e14-8b03-df52cbf38f8e",
   "metadata": {},
   "outputs": [
    {
     "name": "stdout",
     "output_type": "stream",
     "text": [
      "y0_cc   \t1.649\t-0.038\t+0.038\n",
      "alpha   \t1.619\t-0.100\t+0.101\n",
      "zeta_cc \t0.543\t-0.037\t+0.036\n",
      "sigma_int\t0.021\t-0.002\t+0.002\n",
      "\n",
      "alpha_c_agb = 1.62\n",
      "y0_c_cc = 2.19e-03\n",
      "zeta_c_cc = 1.25e-03\n",
      "f = 0.187\n"
     ]
    }
   ],
   "source": [
    "df = get_params(\"fiducial_sigma\")\n",
    "print()\n",
    "make_new_params(df, \"fruity\")"
   ]
  },
  {
   "cell_type": "code",
   "execution_count": 53,
   "id": "c488373e-1b02-423e-9381-44b81aba6936",
   "metadata": {},
   "outputs": [
    {
     "name": "stdout",
     "output_type": "stream",
     "text": [
      "y0_cc   \t0.919\t-0.009\t+0.009\n",
      "alpha   \t2.715\t-0.026\t+0.026\n",
      "zeta_cc \t0.902\t-0.008\t+0.008\n",
      "\n",
      "alpha_c_agb = 2.72\n",
      "y0_c_cc = 1.82e-03\n",
      "zeta_c_cc = 2.08e-03\n",
      "f = 0.317\n"
     ]
    }
   ],
   "source": [
    "df = get_params(\"fiducial_constrained\")\n",
    "print()\n",
    "make_new_params(df, \"fruity\")"
   ]
  },
  {
   "cell_type": "code",
   "execution_count": 54,
   "id": "4f341c4b-677e-4eff-8164-9f599b0dac4b",
   "metadata": {},
   "outputs": [
    {
     "name": "stdout",
     "output_type": "stream",
     "text": [
      "y0_cc   \t1.497\t-0.020\t+0.020\n",
      "alpha   \t1.057\t-0.029\t+0.029\n",
      "zeta_cc \t1.122\t-0.017\t+0.017\n",
      "\n",
      "alpha_c_agb = 1.06\n",
      "y0_c_cc = 2.62e-03\n",
      "zeta_c_cc = 2.58e-03\n",
      "f = -0.000\n"
     ]
    }
   ],
   "source": [
    "df = get_params(\"aton\")\n",
    "print()\n",
    "make_new_params(df, \"aton\")"
   ]
  },
  {
   "cell_type": "code",
   "execution_count": 55,
   "id": "8c2a8cfc-24ac-449f-a5d7-898295f8cde1",
   "metadata": {},
   "outputs": [
    {
     "name": "stdout",
     "output_type": "stream",
     "text": [
      "y0_cc   \t0.898\t-0.009\t+0.009\n",
      "alpha   \t1.853\t-0.019\t+0.019\n",
      "zeta_cc \t1.604\t-0.009\t+0.009\n",
      "\n",
      "alpha_c_agb = 1.85\n",
      "y0_c_cc = 2.50e-03\n",
      "zeta_c_cc = 3.69e-03\n",
      "f = -0.001\n"
     ]
    }
   ],
   "source": [
    "df = get_params(\"aton_constrained\")\n",
    "print()\n",
    "make_new_params(df, \"aton\")"
   ]
  },
  {
   "cell_type": "code",
   "execution_count": 56,
   "id": "94d8de3e-b239-4915-a6ba-27ed3e9c216c",
   "metadata": {},
   "outputs": [
    {
     "name": "stdout",
     "output_type": "stream",
     "text": [
      "y0_cc   \t1.293\t-0.031\t+0.030\n",
      "alpha   \t1.115\t-0.037\t+0.039\n",
      "zeta_cc \t1.078\t-0.018\t+0.018\n",
      "\n",
      "alpha_c_agb = 1.11\n",
      "y0_c_cc = 2.37e-03\n",
      "zeta_c_cc = 2.48e-03\n",
      "f = 0.122\n"
     ]
    }
   ],
   "source": [
    "df = get_params(\"monash\")\n",
    "print()\n",
    "make_new_params(df, \"monash\")"
   ]
  },
  {
   "cell_type": "code",
   "execution_count": 62,
   "id": "02e5584e-1427-49fc-a6d0-8a2fb3544f3a",
   "metadata": {},
   "outputs": [
    {
     "name": "stdout",
     "output_type": "stream",
     "text": [
      "y0_cc\n",
      "alpha   \t1.713\t-0.012\t+0.011\n",
      "zeta_cc \t1.362\t-0.006\t+0.006\n",
      "y0_cc   \t0.790\t-0.000\t+0.000\n",
      "\n",
      "alpha_c_agb = 1.71\n",
      "y0_c_cc = 2.15e-03\n",
      "zeta_c_cc = 3.14e-03\n",
      "f = 0.191\n"
     ]
    }
   ],
   "source": [
    "df = get_params(\"monash_constrained\")\n",
    "print()\n",
    "make_new_params(df, \"monash\")"
   ]
  },
  {
   "cell_type": "code",
   "execution_count": 99,
   "id": "7071c968-b7ed-425e-ac5a-1e3aeb00ebd2",
   "metadata": {},
   "outputs": [
    {
     "name": "stdout",
     "output_type": "stream",
     "text": [
      "y0_cc   \t1.784\t-0.013\t+0.013\n",
      "alpha   \t0.592\t-0.017\t+0.017\n",
      "zeta_cc \t0.450\t-0.010\t+0.010\n",
      "\n",
      "alpha_c_agb = 0.59\n",
      "y0_c_cc = 2.23e-03\n",
      "zeta_c_cc = 1.04e-03\n",
      "f = 0.197\n"
     ]
    }
   ],
   "source": [
    "df = get_params(\"nugrid\")\n",
    "print()\n",
    "make_new_params(df, \"nugrid\")"
   ]
  },
  {
   "cell_type": "code",
   "execution_count": 63,
   "id": "0c6b483a-6320-4e27-8b64-9c061c79f20b",
   "metadata": {},
   "outputs": [
    {
     "name": "stdout",
     "output_type": "stream",
     "text": [
      "y0_cc\n",
      "alpha   \t1.635\t-0.011\t+0.011\n",
      "zeta_cc \t0.491\t-0.011\t+0.011\n",
      "y0_cc   \t0.790\t-0.000\t+0.000\n",
      "\n",
      "alpha_c_agb = 1.64\n",
      "y0_c_cc = 1.28e-03\n",
      "zeta_c_cc = 1.13e-03\n",
      "f = 0.541\n"
     ]
    }
   ],
   "source": [
    "df = get_params(\"nugrid_constrained\")\n",
    "print()\n",
    "make_new_params(df, \"nugrid\")"
   ]
  },
  {
   "cell_type": "code",
   "execution_count": 100,
   "id": "d076056a-8d77-4a5f-92e6-6d6c33a6c5e6",
   "metadata": {},
   "outputs": [
    {
     "name": "stdout",
     "output_type": "stream",
     "text": [
      "y0_cc   \t1.872\t-0.010\t+0.010\n",
      "alpha   \t1.290\t-0.029\t+0.029\n",
      "zeta_cc \t0.459\t-0.010\t+0.010\n",
      "\n",
      "alpha_c_agb = 1.29\n",
      "y0_c_cc = 2.33e-03\n",
      "zeta_c_cc = 1.06e-03\n",
      "f = 0.166\n"
     ]
    }
   ],
   "source": [
    "df = get_params(\"fruity_mf0.7\")\n",
    "print()\n",
    "make_new_params(df, \"fruity_mf0.7\")"
   ]
  },
  {
   "cell_type": "code",
   "execution_count": 64,
   "id": "d01b8f2d-8158-4e5e-9e0f-2f7e707e181b",
   "metadata": {},
   "outputs": [
    {
     "name": "stdout",
     "output_type": "stream",
     "text": [
      "y0_cc\n",
      "alpha   \t3.048\t-0.025\t+0.026\n",
      "zeta_cc \t0.978\t-0.010\t+0.010\n",
      "y0_cc   \t0.790\t-0.000\t+0.000\n",
      "\n",
      "alpha_c_agb = 3.05\n",
      "y0_c_cc = 1.77e-03\n",
      "zeta_c_cc = 2.25e-03\n",
      "f = 0.383\n"
     ]
    }
   ],
   "source": [
    "df = get_params(\"fruity_mf0.7_constrained\")\n",
    "print()\n",
    "make_new_params(df, \"fruity_mf0.7\")"
   ]
  },
  {
   "cell_type": "code",
   "execution_count": 101,
   "id": "9d64b491-35b3-4c72-980d-2a509a0ba66c",
   "metadata": {},
   "outputs": [
    {
     "name": "stdout",
     "output_type": "stream",
     "text": [
      "y0_cc   \t1.797\t-0.008\t+0.008\n",
      "zeta_cc \t0.679\t-0.009\t+0.009\n",
      "\n",
      "alpha_c_agb = nan\n",
      "y0_c_cc = 2.48e-03\n",
      "zeta_c_cc = 1.56e-03\n",
      "f = nan\n"
     ]
    }
   ],
   "source": [
    "df = get_params(\"fruity_fz0.1\")\n",
    "print()\n",
    "make_new_params(df, \"fruity\")"
   ]
  },
  {
   "cell_type": "code",
   "execution_count": 102,
   "id": "9cf104b1-4597-4044-b6f9-54eefea686fd",
   "metadata": {},
   "outputs": [
    {
     "name": "stdout",
     "output_type": "stream",
     "text": [
      "y0_cc   \t0.328\t-0.009\t+0.009\n",
      "zeta_cc \t0.934\t-0.010\t+0.010\n",
      "\n",
      "alpha_c_agb = nan\n",
      "y0_c_cc = 1.26e-03\n",
      "zeta_c_cc = 2.15e-03\n",
      "f = nan\n"
     ]
    }
   ],
   "source": [
    "df = get_params(\"fruity_fz0.5\")\n",
    "print()\n",
    "make_new_params(df, \"fruity\")"
   ]
  },
  {
   "cell_type": "code",
   "execution_count": 103,
   "id": "afcd209f-0451-4a9a-9d18-62b52ca52afc",
   "metadata": {},
   "outputs": [
    {
     "name": "stdout",
     "output_type": "stream",
     "text": [
      "y0_cc   \t2.060\t-0.009\t+0.009\n",
      "zeta_cc \t0.145\t-0.010\t+0.010\n",
      "\n",
      "alpha_c_agb = nan\n",
      "y0_c_cc = 2.20e-03\n",
      "zeta_c_cc = 3.34e-04\n",
      "f = nan\n"
     ]
    }
   ],
   "source": [
    "df = get_params(\"fruity_mf0.5_fixed\")\n",
    "print()\n",
    "make_new_params(df, \"fruity_mf0.5\")"
   ]
  },
  {
   "cell_type": "code",
   "execution_count": 104,
   "id": "1d3ac1c8-a782-4b6f-92e2-f18c3756363d",
   "metadata": {},
   "outputs": [
    {
     "name": "stdout",
     "output_type": "stream",
     "text": [
      "y0_cc   \t1.655\t-0.008\t+0.008\n",
      "zeta_cc \t0.315\t-0.009\t+0.009\n",
      "\n",
      "alpha_c_agb = nan\n",
      "y0_c_cc = 1.97e-03\n",
      "zeta_c_cc = 7.25e-04\n",
      "f = nan\n"
     ]
    }
   ],
   "source": [
    "df = get_params(\"fruity_mf0.7_fixed\")\n",
    "print()\n",
    "make_new_params(df, \"fruity\")"
   ]
  },
  {
   "cell_type": "code",
   "execution_count": 105,
   "id": "28459a22-884d-432a-9972-83d59be0c689",
   "metadata": {},
   "outputs": [
    {
     "name": "stdout",
     "output_type": "stream",
     "text": [
      "y0_cc   \t1.011\t-0.009\t+0.009\n",
      "zeta_cc \t0.846\t-0.010\t+0.010\n",
      "\n",
      "alpha_c_agb = nan\n",
      "y0_c_cc = 1.86e-03\n",
      "zeta_c_cc = 1.95e-03\n",
      "f = nan\n"
     ]
    }
   ],
   "source": [
    "df = get_params(\"fruity_mf1.5_fixed\")\n",
    "print()\n",
    "make_new_params(df, \"fruity_mf1.5\")"
   ]
  },
  {
   "cell_type": "code",
   "execution_count": 106,
   "id": "7d0121f7-767e-430e-8992-879725251daa",
   "metadata": {},
   "outputs": [
    {
     "name": "stdout",
     "output_type": "stream",
     "text": [
      "y0_cc   \t1.872\t-0.010\t+0.010\n",
      "alpha   \t1.290\t-0.029\t+0.029\n",
      "zeta_cc \t0.459\t-0.010\t+0.010\n",
      "\n",
      "alpha_c_agb = 1.29\n",
      "y0_c_cc = 2.33e-03\n",
      "zeta_c_cc = 1.06e-03\n",
      "f = 0.166\n"
     ]
    }
   ],
   "source": [
    "df = get_params(\"fruity_mf0.7\")\n",
    "print()\n",
    "make_new_params(df, \"fruity_mf0.7\")"
   ]
  },
  {
   "cell_type": "code",
   "execution_count": 107,
   "id": "4a0ca26d-a199-47e8-81cc-a40655e3caff",
   "metadata": {},
   "outputs": [
    {
     "data": {
      "text/plain": [
       "1.34"
      ]
     },
     "execution_count": 107,
     "metadata": {},
     "output_type": "execute_result"
    }
   ],
   "source": [
    "2.68 / 2"
   ]
  },
  {
   "cell_type": "markdown",
   "id": "111b0924-0242-4c4a-b075-3aeea15e54e7",
   "metadata": {},
   "source": [
    "## Scalar comparisons"
   ]
  },
  {
   "cell_type": "code",
   "execution_count": 108,
   "id": "45ba40b4-a315-4564-bba9-35b47db5bba6",
   "metadata": {},
   "outputs": [
    {
     "name": "stdout",
     "output_type": "stream",
     "text": [
      "y0_cc   \t1.513\t-0.019\t+0.018\n",
      "alpha   \t1.549\t-0.040\t+0.041\n",
      "zeta_cc \t0.718\t-0.009\t+0.009\n"
     ]
    }
   ],
   "source": [
    "get_params(\"fiducial\");"
   ]
  },
  {
   "cell_type": "code",
   "execution_count": 109,
   "id": "3565211c-a423-4919-9f27-de1a872d7438",
   "metadata": {},
   "outputs": [
    {
     "name": "stdout",
     "output_type": "stream",
     "text": [
      "y0_cc   \t1.443\t-0.020\t+0.020\n",
      "alpha   \t1.644\t-0.045\t+0.044\n",
      "zeta_cc \t0.763\t-0.010\t+0.009\n"
     ]
    }
   ],
   "source": [
    "get_params(\"fiducial_0.5bins\");"
   ]
  },
  {
   "cell_type": "code",
   "execution_count": 110,
   "id": "aa2471fd-29b0-4a54-b3db-e9f196399853",
   "metadata": {},
   "outputs": [
    {
     "name": "stdout",
     "output_type": "stream",
     "text": [
      "y0_cc   \t1.586\t-0.020\t+0.020\n",
      "alpha   \t1.489\t-0.041\t+0.042\n",
      "zeta_cc \t0.641\t-0.010\t+0.010\n"
     ]
    }
   ],
   "source": [
    "get_params(\"fiducial_1.5bins\");"
   ]
  },
  {
   "cell_type": "code",
   "execution_count": 111,
   "id": "15d24972-fda0-4dd8-9682-da9124a25e2e",
   "metadata": {},
   "outputs": [
    {
     "name": "stdout",
     "output_type": "stream",
     "text": [
      "y0_cc   \t1.743\t-0.039\t+0.039\n",
      "alpha   \t1.544\t-0.096\t+0.097\n",
      "zeta_cc \t0.433\t-0.038\t+0.039\n"
     ]
    }
   ],
   "source": [
    "get_params(\"fiducial_sigma0.02\");"
   ]
  },
  {
   "cell_type": "code",
   "execution_count": 112,
   "id": "b9073cda-a5b3-4b11-89f3-9cbf845bff5a",
   "metadata": {},
   "outputs": [
    {
     "name": "stdout",
     "output_type": "stream",
     "text": [
      "y0_cc   \t1.649\t-0.038\t+0.038\n",
      "alpha   \t1.619\t-0.100\t+0.101\n",
      "zeta_cc \t0.543\t-0.037\t+0.036\n",
      "sigma_int\t0.021\t-0.002\t+0.002\n"
     ]
    }
   ],
   "source": [
    "get_params(\"fiducial_sigma\");"
   ]
  },
  {
   "cell_type": "code",
   "execution_count": 113,
   "id": "56c5cbd2-08bb-467b-abd0-6148c702e873",
   "metadata": {},
   "outputs": [
    {
     "name": "stdout",
     "output_type": "stream",
     "text": [
      "y0_cc   \t1.623\t-0.020\t+0.020\n",
      "alpha   \t1.434\t-0.040\t+0.040\n",
      "zeta_cc \t0.630\t-0.010\t+0.010\n"
     ]
    }
   ],
   "source": [
    "get_params(\"fiducial_log\");"
   ]
  },
  {
   "cell_type": "code",
   "execution_count": 114,
   "id": "7f15a348-468e-4e9f-af3d-fe0bac32bdab",
   "metadata": {},
   "outputs": [
    {
     "name": "stdout",
     "output_type": "stream",
     "text": [
      "y0_cc   \t0.919\t-0.009\t+0.009\n",
      "alpha   \t2.715\t-0.026\t+0.026\n",
      "zeta_cc \t0.902\t-0.008\t+0.008\n"
     ]
    }
   ],
   "source": [
    "get_params(\"fiducial_constrained\");"
   ]
  },
  {
   "cell_type": "code",
   "execution_count": 115,
   "id": "3217c7cb-7429-478c-b377-65b00822b548",
   "metadata": {},
   "outputs": [
    {
     "data": {
      "text/plain": [
       "np.float64(0.838188350073276)"
      ]
     },
     "execution_count": 115,
     "metadata": {},
     "output_type": "execute_result"
    }
   ],
   "source": [
    "1.93e-3  / np.log(10) * 1e3"
   ]
  },
  {
   "cell_type": "code",
   "execution_count": 116,
   "id": "32c03fea-4eb6-43ed-b99a-22016bd65a43",
   "metadata": {},
   "outputs": [
    {
     "data": {
      "text/plain": [
       "0.9920000000000001"
      ]
     },
     "execution_count": 116,
     "metadata": {},
     "output_type": "execute_result"
    }
   ],
   "source": [
    "1.83 - 0.838"
   ]
  },
  {
   "cell_type": "markdown",
   "id": "966d139f-28f1-432c-8586-c002a96fce69",
   "metadata": {},
   "source": [
    "Current fiducial parameters\n",
    "- alpha = 2.64\n",
    "- zeta = 0.838\n",
    "- y0_cc = 0.992"
   ]
  },
  {
   "cell_type": "code",
   "execution_count": 117,
   "id": "4befef28-c3ce-42c0-8d49-90ffe47716ff",
   "metadata": {},
   "outputs": [
    {
     "name": "stdout",
     "output_type": "stream",
     "text": [
      "y0_cc   \t1.001\t-0.015\t+0.015\n",
      "alpha   \t2.620\t-0.034\t+0.035\n",
      "zeta_cc \t0.849\t-0.008\t+0.008\n"
     ]
    }
   ],
   "source": [
    "get_params(\"fiducial_recovery\");"
   ]
  },
  {
   "cell_type": "code",
   "execution_count": 118,
   "id": "ecac9c00-c679-4d48-b67b-ca6f6d8b88e7",
   "metadata": {},
   "outputs": [
    {
     "name": "stdout",
     "output_type": "stream",
     "text": [
      "y0_cc   \t1.001\t-0.015\t+0.015\n",
      "alpha   \t2.620\t-0.034\t+0.035\n",
      "zeta_cc \t0.849\t-0.008\t+0.008\n"
     ]
    }
   ],
   "source": [
    "get_params(\"fiducial_recovery\");"
   ]
  },
  {
   "cell_type": "code",
   "execution_count": 119,
   "id": "0319f2f6-a60d-48e8-a139-59baf9051e22",
   "metadata": {},
   "outputs": [
    {
     "name": "stdout",
     "output_type": "stream",
     "text": [
      "y0_cc   \t1.072\t-0.028\t+0.028\n",
      "alpha   \t2.482\t-0.077\t+0.076\n",
      "zeta_cc \t0.820\t-0.035\t+0.036\n"
     ]
    }
   ],
   "source": [
    "get_params(\"fiducial_recovery_sigma0.02\");"
   ]
  },
  {
   "cell_type": "code",
   "execution_count": 120,
   "id": "843f3d2e-8920-4842-91be-b6802d96bb7e",
   "metadata": {},
   "outputs": [
    {
     "name": "stdout",
     "output_type": "stream",
     "text": [
      "y0_cc   \t1.072\t-0.028\t+0.028\n",
      "alpha   \t2.482\t-0.077\t+0.076\n",
      "zeta_cc \t0.820\t-0.035\t+0.036\n"
     ]
    }
   ],
   "source": [
    "get_params(\"fiducial_recovery_sigma0.02\");"
   ]
  },
  {
   "cell_type": "code",
   "execution_count": 121,
   "id": "0627f855-64e2-444b-9aac-7b6af8522535",
   "metadata": {},
   "outputs": [
    {
     "name": "stdout",
     "output_type": "stream",
     "text": [
      "y0_cc   \t1.002\t-0.016\t+0.016\n",
      "alpha   \t2.617\t-0.036\t+0.037\n",
      "zeta_cc \t0.848\t-0.010\t+0.010\n",
      "sigma_int\t0.003\t-0.001\t+0.001\n"
     ]
    }
   ],
   "source": [
    "get_params(\"fiducial_recovery_sigma\");"
   ]
  },
  {
   "cell_type": "code",
   "execution_count": 11,
   "id": "71d5f3c1-2969-4f47-97fa-67949d683db9",
   "metadata": {},
   "outputs": [
    {
     "name": "stdout",
     "output_type": "stream",
     "text": [
      "spline_2\t1.962\t-0.020\t+0.020\n",
      "spline_1\t2.673\t-0.028\t+0.028\n",
      "alpha   \t1.373\t-0.048\t+0.048\n",
      "spline_0\t0.843\t-0.029\t+0.029\n",
      "spline_3\t9.174\t-0.175\t+0.178\n"
     ]
    }
   ],
   "source": [
    "get_params(\"4spline/fruity_mf0.7\");"
   ]
  },
  {
   "cell_type": "code",
   "execution_count": 122,
   "id": "6dc03927-2031-4409-b5bd-7c827222b05c",
   "metadata": {},
   "outputs": [
    {
     "name": "stdout",
     "output_type": "stream",
     "text": [
      "y0_cc   \t0.873\t-0.009\t+0.009\n",
      "alpha   \t3.287\t-0.067\t+0.068\n",
      "zeta_cc \t0.813\t-0.037\t+0.038\n"
     ]
    }
   ],
   "source": [
    "get_params(\"fiducial_constrained_sigma0.02\");"
   ]
  },
  {
   "cell_type": "markdown",
   "id": "a7409cfc-2c71-4337-8b57-bb2d6f1a3544",
   "metadata": {},
   "source": [
    "# Correlations"
   ]
  },
  {
   "cell_type": "code",
   "execution_count": 123,
   "id": "e0883e53-1193-4706-8dc1-41837506c531",
   "metadata": {},
   "outputs": [],
   "source": [
    "import matplotlib.pyplot as plt\n",
    "import arya"
   ]
  },
  {
   "cell_type": "code",
   "execution_count": 124,
   "id": "461933e0-0871-4dec-ba65-3ddc1408f681",
   "metadata": {},
   "outputs": [],
   "source": [
    "def fit_lin_trend(model, x, y):\n",
    "    xs = model.samples[x]\n",
    "    ys = model.samples[y]\n",
    "\n",
    "    mu_x = np.mean(xs)\n",
    "    mu_y = np.mean(ys)\n",
    "\n",
    "    cov = np.cov(xs, ys)\n",
    "    var_x = cov[0][0]\n",
    "    var_y = cov[1][1]\n",
    "    var_xy = cov[0][1]\n",
    "\n",
    "    return mu_x, mu_y, var_xy / var_x"
   ]
  },
  {
   "cell_type": "code",
   "execution_count": 125,
   "id": "c9eaf00e-c914-4ee5-a50f-2bce5d5f8cdb",
   "metadata": {},
   "outputs": [],
   "source": [
    "from mc_plot_utils import MCMCResult"
   ]
  },
  {
   "cell_type": "code",
   "execution_count": 126,
   "id": "42ecf7e6-e229-42ee-974b-664aa56a4bc4",
   "metadata": {},
   "outputs": [],
   "source": [
    "def load_model(filename, props, test=False, burn=0):\n",
    "    y0 = props[\"y0\"],\n",
    "    y_a = props[\"y_a\"]\n",
    "    zeta_a = props[\"zeta_a\"]\n",
    "    \n",
    "    if test:\n",
    "        result = MCMCResult.from_test_file(filename, burn=burn)\n",
    "    else:\n",
    "        result = MCMCResult.from_file(\"../models/mcmc_models_2d/\" + filename + \"/\", y0=y0, burn=burn, y_a=y_a, zeta_a=zeta_a)\n",
    "    return result"
   ]
  },
  {
   "cell_type": "code",
   "execution_count": 127,
   "id": "65607b57-9f29-4bf8-9e13-ff1aaa25a3e9",
   "metadata": {},
   "outputs": [
    {
     "name": "stdout",
     "output_type": "stream",
     "text": [
      "length of samples =  48000\n",
      "{'alpha': {'name': 'perturbations/fruity', 'prior': 'Normal', 'prior_args': [1.0, 1.0]}, 'y0_cc': {'name': 'perturbations/constant', 'prior': 'Normal', 'prior_args': [2.0, 1.0]}, 'zeta_cc': {'name': 'perturbations/linear', 'prior': 'Normal', 'prior_args': [0.0, 2.0], 'y0': 0.001}}\n"
     ]
    }
   ],
   "source": [
    "m = load_model(\"fiducial\", yagb_props[\"fruity\"])"
   ]
  },
  {
   "cell_type": "code",
   "execution_count": 128,
   "id": "6856087a-5ea2-47ea-8199-4baa49416602",
   "metadata": {},
   "outputs": [
    {
     "data": {
      "text/plain": [
       "(np.float64(1.5495472467292093),\n",
       " np.float64(1.5126665657201586),\n",
       " np.float64(-0.4156030937723989))"
      ]
     },
     "execution_count": 128,
     "metadata": {},
     "output_type": "execute_result"
    }
   ],
   "source": [
    "x0, y0, slope = fit_lin_trend(m, \"alpha\", \"y0_cc\")\n",
    "x0, y0, slope"
   ]
  },
  {
   "cell_type": "code",
   "execution_count": 129,
   "id": "b55e9882-d03c-48a8-b17d-a81b8dbb1023",
   "metadata": {},
   "outputs": [
    {
     "data": {
      "text/plain": [
       "<arya.medianplot.MedianData at 0x7f9c3ccb77d0>"
      ]
     },
     "execution_count": 129,
     "metadata": {},
     "output_type": "execute_result"
    },
    {
     "data": {
      "image/png": "[encoded data removed]",
      "text/plain": [
       "<Figure size 666.667x451.405 with 1 Axes>"
      ]
     },
     "metadata": {},
     "output_type": "display_data"
    }
   ],
   "source": [
    "plt.scatter(m.samples.alpha, m.samples.y0_cc, c=m.samples.zeta_cc)\n",
    "\n",
    "x = np.linspace(1.3, 1.8, 1000)\n",
    "y = y0 + slope*(x - x0)\n",
    "\n",
    "plt.plot(x, y)\n",
    "\n",
    "arya.medianplot(m.samples, x=\"alpha\", y=\"y0_cc\", binsize=1000, )"
   ]
  },
  {
   "cell_type": "markdown",
   "id": "b8766cd9-8b59-4045-a81e-0337a3f6d3b0",
   "metadata": {},
   "source": [
    "If total yield is conserved, then y0_cc + alpha * y_agb = y_tot\n",
    "so the d y0 / d alpha = - y_agb"
   ]
  },
  {
   "cell_type": "code",
   "execution_count": 130,
   "id": "08a738ed-66ae-407e-bbd0-1f9374c19edf",
   "metadata": {},
   "outputs": [
    {
     "data": {
      "text/plain": [
       "(np.float64(2.1566631954073205), np.float64(0.4156030937723989))"
      ]
     },
     "execution_count": 130,
     "metadata": {},
     "output_type": "execute_result"
    }
   ],
   "source": [
    "y_agb = -slope\n",
    "alpha_0 = x0\n",
    "y0 = y0\n",
    "y0 + alpha_0 * y_agb, y_agb"
   ]
  },
  {
   "cell_type": "markdown",
   "id": "28604204-d531-48b5-bf84-07fe04c6611b",
   "metadata": {},
   "source": [
    "Similarly, is the AGB trend is well-described by a linear trend, then \n",
    "\n",
    "$$\n",
    "(y_{0, cc} + \\zeta  (Z-Z0) / Z0) + \\alpha * (y_a + \\zeta * (Z-Z0)/Z0) = y_{0, tot} + \\zeta_{tot} *(Z-Z0) / Z0\n",
    "$$\n",
    "\n",
    "The zeta terms seperate out as before, so the d zeta / d alpha = - zeta_agb"
   ]
  },
  {
   "cell_type": "code",
   "execution_count": 131,
   "id": "a9d2bf57-b4e9-4486-949d-07c8900186a2",
   "metadata": {},
   "outputs": [
    {
     "data": {
      "text/plain": [
       "(np.float64(1.5495472467292093),\n",
       " np.float64(0.7176338423538292),\n",
       " np.float64(0.06050666988973752))"
      ]
     },
     "execution_count": 131,
     "metadata": {},
     "output_type": "execute_result"
    }
   ],
   "source": [
    "x0_z, y0_z, slope_z = fit_lin_trend(m, \"alpha\", \"zeta_cc\")\n",
    "x0_z, y0_z, slope_z"
   ]
  },
  {
   "cell_type": "code",
   "execution_count": 132,
   "id": "145317f0-b68d-49d7-a627-cae36ef4fbbb",
   "metadata": {},
   "outputs": [
    {
     "data": {
      "text/plain": [
       "np.float64(-0.9569614883225324)"
      ]
     },
     "execution_count": 132,
     "metadata": {},
     "output_type": "execute_result"
    }
   ],
   "source": [
    "to_log_slope(slope)"
   ]
  },
  {
   "cell_type": "code",
   "execution_count": 133,
   "id": "e6374ade-9ec2-46db-a5e8-2585f43adf48",
   "metadata": {},
   "outputs": [
    {
     "data": {
      "text/plain": [
       "<arya.medianplot.MedianData at 0x7f9c3cb1ea50>"
      ]
     },
     "execution_count": 133,
     "metadata": {},
     "output_type": "execute_result"
    },
    {
     "data": {
      "image/png": "[encoded data removed]",
      "text/plain": [
       "<Figure size 666.667x451.405 with 1 Axes>"
      ]
     },
     "metadata": {},
     "output_type": "display_data"
    }
   ],
   "source": [
    "plt.scatter(m.samples.alpha, m.samples.zeta_cc, c=m.samples.y0_cc)\n",
    "\n",
    "x = np.linspace(1.3, 1.8, 1000)\n",
    "y = y0_z + slope_z*(x - x0_z)\n",
    "\n",
    "plt.plot(x, y)\n",
    "\n",
    "arya.medianplot(m.samples, x=\"alpha\", y=\"zeta_cc\", binsize=1000, )"
   ]
  },
  {
   "cell_type": "code",
   "execution_count": 134,
   "id": "abb6bf3c-ee10-4c68-818d-152efd04ce83",
   "metadata": {},
   "outputs": [
    {
     "data": {
      "text/plain": [
       "1.6578612669557131"
      ]
     },
     "execution_count": 134,
     "metadata": {},
     "output_type": "execute_result"
    }
   ],
   "source": [
    "to_log_slope(0.72)"
   ]
  },
  {
   "cell_type": "code",
   "execution_count": 135,
   "id": "602cb825-9627-47f8-98b9-0d68484e1335",
   "metadata": {},
   "outputs": [
    {
     "name": "stdout",
     "output_type": "stream",
     "text": [
      "y0_cc   \t0.919\t-0.009\t+0.009\n",
      "alpha   \t2.715\t-0.026\t+0.026\n",
      "zeta_cc \t0.902\t-0.008\t+0.008\n",
      "\n",
      "alpha_c_agb = 2.72\n",
      "y0_c_cc = 1.82e-03\n",
      "zeta_c_cc = 2.08e-03\n",
      "f = 0.317\n"
     ]
    }
   ],
   "source": [
    "df = get_params(\"fiducial_constrained\");\n",
    "print()\n",
    "make_new_params(df, \"fruity\")\n"
   ]
  },
  {
   "cell_type": "code",
   "execution_count": 136,
   "id": "830049c0-0792-4d6f-ac1a-510d4278cfc3",
   "metadata": {},
   "outputs": [],
   "source": [
    "def make_f_agb_zeta(df, f_new, study=\"fruity\"):\n",
    "    y0_l = get_df_key(df, \"y0_cc\")\n",
    "    slope_l = get_df_key(df, \"zeta_cc\")\n",
    "    alpha = get_df_key(df, \"alpha\")\n",
    "    y0_s = (y0_l + slope_l) * 1e-3\n",
    "    \n",
    "    ya = yagb_props[study][\"y0\"]\n",
    "    ytot = ya * alpha + y0_s\n",
    "    \n",
    "    f_agb = ya * alpha / ytot\n",
    "    print(\"f_agb_old\", f_agb)\n",
    "\n",
    "    alpha_new = f_new * ytot / ya\n",
    "\n",
    "    y0_new = ytot - alpha_new * ya\n",
    "    y0_2 = y0 + slope * (alpha_new - x0)\n",
    "    zeta_new = y0_z + slope_z * (alpha_new - x0_z)\n",
    "    \n",
    "    f_new_new = ya * alpha_new / ytot\n",
    "\n",
    "    print(f\"y0 = {y0_new:0.3e}\" )\n",
    "    print(f\"y0 = {y0_2:0.3e}\" )\n",
    "    print(f\"zeta = {to_log_slope(zeta_new) * 1e-3:0.3e}\" )\n",
    "    print(f\"alpha = {alpha_new:0.3f}\" )\n",
    "\n",
    "    print(f\"f = {f_new_new:0.3f}\" )\n",
    "    \n"
   ]
  },
  {
   "cell_type": "code",
   "execution_count": 137,
   "id": "785fe8da-418e-4c8c-8d0d-47a3c8622339",
   "metadata": {},
   "outputs": [
    {
     "name": "stdout",
     "output_type": "stream",
     "text": [
      "f_agb_old 0.31685133416961486\n",
      "y0 = 2.191e-03\n",
      "y0 = 1.523e+00\n",
      "zeta = 1.649e-03\n",
      "alpha = 1.525\n",
      "f = 0.178\n"
     ]
    }
   ],
   "source": [
    "make_f_agb_zeta(df, 0.178)"
   ]
  },
  {
   "cell_type": "code",
   "execution_count": 138,
   "id": "50a00c77-22b7-4813-929a-ca245221b0c1",
   "metadata": {},
   "outputs": [
    {
     "name": "stdout",
     "output_type": "stream",
     "text": [
      "f_agb_old 0.31685133416961486\n",
      "y0 = 1.852e-03\n",
      "y0 = 1.070e+00\n",
      "zeta = 1.801e-03\n",
      "alpha = 2.613\n",
      "f = 0.305\n"
     ]
    }
   ],
   "source": [
    "make_f_agb_zeta(df, 0.305)"
   ]
  },
  {
   "cell_type": "code",
   "execution_count": 139,
   "id": "57b45d36-ef4b-4138-85fb-e02381cf8155",
   "metadata": {},
   "outputs": [
    {
     "name": "stdout",
     "output_type": "stream",
     "text": [
      "f_agb_old 0.31685133416961486\n",
      "y0 = 1.332e-03\n",
      "y0 = 3.760e-01\n",
      "zeta = 2.033e-03\n",
      "alpha = 4.284\n",
      "f = 0.500\n"
     ]
    }
   ],
   "source": [
    "make_f_agb_zeta(df, 0.5)"
   ]
  },
  {
   "cell_type": "code",
   "execution_count": 140,
   "id": "40b51bec-9053-4c37-958d-bbd322956d18",
   "metadata": {
    "scrolled": true
   },
   "outputs": [
    {
     "name": "stdout",
     "output_type": "stream",
     "text": [
      "y0_cc   \t1.513\t-0.019\t+0.018\n",
      "alpha   \t1.549\t-0.040\t+0.041\n",
      "zeta_cc \t0.718\t-0.009\t+0.009\n",
      "y0 = 2.441e-03\n",
      "alpha = 0.872\n",
      "f = 0.100\n",
      "\n",
      "y0 = 1.899e-03\n",
      "alpha = 2.616\n",
      "f = 0.300\n",
      "\n",
      "y0 = 1.356e-03\n",
      "alpha = 4.361\n",
      "f = 0.500\n",
      "\n"
     ]
    }
   ],
   "source": [
    "df = get_params(\"fiducial\")\n",
    "\n",
    "for f in [0.1, 0.3, 0.5]: \n",
    "    make_f_agb(df, f_new=f, study=\"fruity\")\n",
    "\n",
    "    print()"
   ]
  },
  {
   "cell_type": "code",
   "execution_count": 141,
   "id": "c4d85f5e-2c07-4068-a92a-37e2ac653068",
   "metadata": {},
   "outputs": [
    {
     "name": "stdout",
     "output_type": "stream",
     "text": [
      "y0_cc   \t0.919\t-0.009\t+0.009\n",
      "alpha   \t2.715\t-0.026\t+0.026\n",
      "zeta_cc \t0.902\t-0.008\t+0.008\n"
     ]
    },
    {
     "data": {
      "text/html": [
       "<div>\n",
       "<style scoped>\n",
       "    .dataframe tbody tr th:only-of-type {\n",
       "        vertical-align: middle;\n",
       "    }\n",
       "\n",
       "    .dataframe tbody tr th {\n",
       "        vertical-align: top;\n",
       "    }\n",
       "\n",
       "    .dataframe thead th {\n",
       "        text-align: right;\n",
       "    }\n",
       "</style>\n",
       "<table border=\"1\" class=\"dataframe\">\n",
       "  <thead>\n",
       "    <tr style=\"text-align: right;\">\n",
       "      <th></th>\n",
       "      <th>parameters</th>\n",
       "      <th>median</th>\n",
       "      <th>err_low</th>\n",
       "      <th>err_high</th>\n",
       "      <th>mean</th>\n",
       "      <th>std</th>\n",
       "      <th>mcse</th>\n",
       "      <th>ess_bulk</th>\n",
       "      <th>ess_tail</th>\n",
       "      <th>rhat</th>\n",
       "      <th>ess_per_sec</th>\n",
       "    </tr>\n",
       "  </thead>\n",
       "  <tbody>\n",
       "    <tr>\n",
       "      <th>0</th>\n",
       "      <td>y0_cc</td>\n",
       "      <td>0.919011</td>\n",
       "      <td>0.009036</td>\n",
       "      <td>0.009101</td>\n",
       "      <td>0.919028</td>\n",
       "      <td>0.009116</td>\n",
       "      <td>0.000059</td>\n",
       "      <td>23625.112548</td>\n",
       "      <td>23329.424964</td>\n",
       "      <td>1.000502</td>\n",
       "      <td>5.397500</td>\n",
       "    </tr>\n",
       "    <tr>\n",
       "      <th>1</th>\n",
       "      <td>alpha</td>\n",
       "      <td>2.715042</td>\n",
       "      <td>0.026255</td>\n",
       "      <td>0.026178</td>\n",
       "      <td>2.714989</td>\n",
       "      <td>0.026198</td>\n",
       "      <td>0.000174</td>\n",
       "      <td>22554.974746</td>\n",
       "      <td>23638.535033</td>\n",
       "      <td>1.000343</td>\n",
       "      <td>5.153012</td>\n",
       "    </tr>\n",
       "    <tr>\n",
       "      <th>2</th>\n",
       "      <td>zeta_cc</td>\n",
       "      <td>0.901514</td>\n",
       "      <td>0.008253</td>\n",
       "      <td>0.008254</td>\n",
       "      <td>0.901526</td>\n",
       "      <td>0.008357</td>\n",
       "      <td>0.000051</td>\n",
       "      <td>27389.879385</td>\n",
       "      <td>24781.454906</td>\n",
       "      <td>1.000394</td>\n",
       "      <td>6.257616</td>\n",
       "    </tr>\n",
       "  </tbody>\n",
       "</table>\n",
       "</div>"
      ],
      "text/plain": [
       "  parameters    median   err_low  err_high      mean       std      mcse  \\\n",
       "0      y0_cc  0.919011  0.009036  0.009101  0.919028  0.009116  0.000059   \n",
       "1      alpha  2.715042  0.026255  0.026178  2.714989  0.026198  0.000174   \n",
       "2    zeta_cc  0.901514  0.008253  0.008254  0.901526  0.008357  0.000051   \n",
       "\n",
       "       ess_bulk      ess_tail      rhat  ess_per_sec  \n",
       "0  23625.112548  23329.424964  1.000502     5.397500  \n",
       "1  22554.974746  23638.535033  1.000343     5.153012  \n",
       "2  27389.879385  24781.454906  1.000394     6.257616  "
      ]
     },
     "execution_count": 141,
     "metadata": {},
     "output_type": "execute_result"
    }
   ],
   "source": [
    "get_params(\"fiducial_constrained\")"
   ]
  },
  {
   "cell_type": "code",
   "execution_count": 142,
   "id": "73e4f3b6-24d8-4a48-a7d7-137701aa7bb2",
   "metadata": {
    "scrolled": true
   },
   "outputs": [
    {
     "name": "stdout",
     "output_type": "stream",
     "text": [
      "y0_cc   \t0.919\t-0.009\t+0.009\n",
      "alpha   \t2.715\t-0.026\t+0.026\n",
      "zeta_cc \t0.902\t-0.008\t+0.008\n",
      "y0 = 2.665e-03\n",
      "alpha = 0.000\n",
      "f = 0.000\n",
      "\n",
      "y0 = 2.398e-03\n",
      "alpha = 0.857\n",
      "f = 0.100\n",
      "\n",
      "y0 = 2.132e-03\n",
      "alpha = 1.714\n",
      "f = 0.200\n",
      "\n",
      "y0 = 1.865e-03\n",
      "alpha = 2.571\n",
      "f = 0.300\n",
      "\n",
      "y0 = 1.599e-03\n",
      "alpha = 3.428\n",
      "f = 0.400\n",
      "\n",
      "y0 = 1.332e-03\n",
      "alpha = 4.284\n",
      "f = 0.500\n",
      "\n",
      "y0 = 1.066e-03\n",
      "alpha = 5.141\n",
      "f = 0.600\n",
      "\n",
      "y0 = 5.330e-04\n",
      "alpha = 6.855\n",
      "f = 0.800\n",
      "\n"
     ]
    }
   ],
   "source": [
    "df = get_params(\"fiducial_constrained\")\n",
    "\n",
    "for f in [0.0, 0.1, 0.2, 0.3, 0.4, 0.5, 0.6, 0.8]: \n",
    "    make_f_agb(df, f_new=f, study=\"fruity\")\n",
    "\n",
    "    print()"
   ]
  },
  {
   "cell_type": "code",
   "execution_count": 143,
   "id": "527a1b48-782a-463f-876c-b627784f723f",
   "metadata": {},
   "outputs": [],
   "source": [
    "def make_mass_shift_alpha(mf=0.5, alpha=2.71):\n",
    "    ya_new = yagb_props[f\"fruity_mf{mf}\"][\"y0\"]\n",
    "    ya_old = yagb_props[f\"fruity\"][\"y0\"]\n",
    "    return alpha * ya_old / ya_new"
   ]
  },
  {
   "cell_type": "code",
   "execution_count": 144,
   "id": "db8ff9cd-b957-4f2c-92dc-7bb784381ec6",
   "metadata": {},
   "outputs": [
    {
     "data": {
      "text/plain": [
       "0.000311"
      ]
     },
     "execution_count": 144,
     "metadata": {},
     "output_type": "execute_result"
    }
   ],
   "source": [
    "yagb_props[f\"fruity\"][\"y0\"]"
   ]
  },
  {
   "cell_type": "code",
   "execution_count": 148,
   "id": "6d3a3464-3aae-4520-b9b0-8ac790d6bd19",
   "metadata": {},
   "outputs": [
    {
     "data": {
      "text/plain": [
       "2.9781272084805654"
      ]
     },
     "execution_count": 148,
     "metadata": {},
     "output_type": "execute_result"
    }
   ],
   "source": [
    "make_mass_shift_alpha(0.5)"
   ]
  },
  {
   "cell_type": "code",
   "execution_count": 145,
   "id": "014360b3-1fde-4c36-8b2e-aafc5d38e823",
   "metadata": {},
   "outputs": [
    {
     "data": {
      "text/plain": [
       "2.3411388888888887"
      ]
     },
     "execution_count": 145,
     "metadata": {},
     "output_type": "execute_result"
    }
   ],
   "source": [
    "make_mass_shift_alpha(0.7)"
   ]
  },
  {
   "cell_type": "code",
   "execution_count": 146,
   "id": "d0fdcdff-d992-4093-8849-5035867ed7b3",
   "metadata": {},
   "outputs": [
    {
     "data": {
      "text/plain": [
       "2.71"
      ]
     },
     "execution_count": 146,
     "metadata": {},
     "output_type": "execute_result"
    }
   ],
   "source": [
    "make_mass_shift_alpha(1.5)"
   ]
  },
  {
   "cell_type": "code",
   "execution_count": 147,
   "id": "9a81575a-ffc5-4dd3-8862-5d6171ca6970",
   "metadata": {},
   "outputs": [
    {
     "data": {
      "text/plain": [
       "0.000925"
      ]
     },
     "execution_count": 147,
     "metadata": {},
     "output_type": "execute_result"
    }
   ],
   "source": [
    "yagb_props[\"nugrid\"][\"y0\"]"
   ]
  },
  {
   "cell_type": "code",
   "execution_count": 149,
   "id": "7996fa70-5341-42d0-a57b-f2b825c90323",
   "metadata": {},
   "outputs": [
    {
     "data": {
      "text/plain": [
       "0.0009248417861815101"
      ]
     },
     "execution_count": 149,
     "metadata": {},
     "output_type": "execute_result"
    }
   ],
   "source": [
    "vice.yields.agb.settings[\"c\"]  = surp.agb_interpolator.interpolator(\"c\", study=\"battino19\")\n",
    "\n",
    "surp.yields.calc_y(kind=\"agb\")"
   ]
  },
  {
   "cell_type": "code",
   "execution_count": null,
   "id": "16c44a4a-795f-4831-a2e6-0f431f7c707d",
   "metadata": {},
   "outputs": [],
   "source": []
  }
 ],
 "metadata": {
  "kernelspec": {
   "display_name": "Python 3 (ipykernel)",
   "language": "python",
   "name": "python3"
  },
  "language_info": {
   "codemirror_mode": {
    "name": "ipython",
    "version": 3
   },
   "file_extension": ".py",
   "mimetype": "text/x-python",
   "name": "python",
   "nbconvert_exporter": "python",
   "pygments_lexer": "ipython3",
   "version": "3.11.9"
  }
 },
 "nbformat": 4,
 "nbformat_minor": 5
}
