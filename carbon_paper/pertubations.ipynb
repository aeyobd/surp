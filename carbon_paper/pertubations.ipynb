{
 "cells": [
  {
   "cell_type": "markdown",
   "id": "0",
   "metadata": {},
   "source": [
    "The goal of this notebook is to analyze the simulations where I only include one component of the C yield and to combine these to quickly (MCMC) explore the space of permissable yields."
   ]
  },
  {
   "cell_type": "code",
   "execution_count": null,
   "id": "1",
   "metadata": {},
   "outputs": [],
   "source": [
    "import matplotlib.pyplot as plt\n",
    "import matplotlib\n",
    "import numpy as np\n",
    "\n",
    "import pandas as pd"
   ]
  },
  {
   "cell_type": "code",
   "execution_count": null,
   "id": "2",
   "metadata": {},
   "outputs": [],
   "source": [
    "import vice\n",
    "\n",
    "import surp\n",
    "from surp import subgiants\n",
    "from surp import gce_math as gcem\n",
    "\n",
    "import arya\n",
    "arya.style.set_size((10/3, 10/3))\n",
    "from arya import COLORS\n",
    "\n",
    "from surp.yields import calc_y"
   ]
  },
  {
   "cell_type": "code",
   "execution_count": null,
   "id": "3",
   "metadata": {},
   "outputs": [],
   "source": [
    "import warnings"
   ]
  },
  {
   "cell_type": "code",
   "execution_count": null,
   "id": "4",
   "metadata": {},
   "outputs": [],
   "source": [
    "import corner"
   ]
  },
  {
   "cell_type": "code",
   "execution_count": null,
   "id": "5",
   "metadata": {},
   "outputs": [],
   "source": [
    "from scipy.optimize import minimize"
   ]
  },
  {
   "cell_type": "code",
   "execution_count": null,
   "id": "6",
   "metadata": {},
   "outputs": [],
   "source": [
    "np.seterr(divide=\"ignore\")"
   ]
  },
  {
   "cell_type": "code",
   "execution_count": null,
   "id": "7",
   "metadata": {},
   "outputs": [],
   "source": [
    "surp.set_yields()"
   ]
  },
  {
   "cell_type": "code",
   "execution_count": null,
   "id": "8",
   "metadata": {},
   "outputs": [],
   "source": [
    "def find_model(name):\n",
    "    \"\"\"\n",
    "    Finds the pickled model with either the given name or the parameters \n",
    "    and returns the csv summary\n",
    "    \"\"\"\n",
    "    \n",
    "    file_name = \"../models/perturbations/\" + name + \"/stars.csv\"\n",
    "    model =  pd.read_csv(file_name, index_col=0)\n",
    "    model[\"z_c\"] = surp.gce_math.brak_to_abund(model[\"AG_H\"], \"c\")\n",
    "    return model"
   ]
  },
  {
   "cell_type": "code",
   "execution_count": null,
   "id": "9",
   "metadata": {},
   "outputs": [],
   "source": [
    "\n",
    "def median_se(data, n_bootstrap=1000):\n",
    "    \"\"\"\n",
    "    Vectorized estimation of the standard error on the median using bootstrapping.\n",
    "\n",
    "    :param data: Input array of values.\n",
    "    :param n_bootstrap: Number of bootstrap samples to generate.\n",
    "    :return: Bootstrap estimate of the standard error of the median.\n",
    "    \"\"\"\n",
    "    # Resample the data n_bootstrap times in a single operation\n",
    "    bootstrap_samples = np.random.choice(data, size=(n_bootstrap, len(data)), replace=True)\n",
    "    \n",
    "    # Calculate the median along the bootstrap dimension\n",
    "    medians = np.median(bootstrap_samples, axis=1)\n",
    "    \n",
    "    # Calculate the standard error of the medians\n",
    "    return np.std(medians, ddof=1)\n"
   ]
  },
  {
   "cell_type": "code",
   "execution_count": null,
   "id": "10",
   "metadata": {},
   "outputs": [],
   "source": [
    "def bin_2d(df, x=\"MG_H_true\", y=\"MG_FE_true\", val=\"z_c\"):\n",
    "    mg_bins = np.arange(-1, 0.4, 0.1)\n",
    "    mg_fe_bins = np.arange(0, 0.41, 0.05)\n",
    "\n",
    "    df[\"x_bin\"] = pd.cut(df[x], bins=mg_bins, labels=False, include_lowest=True)\n",
    "    df[\"y_bin\"] = pd.cut(df[y], bins=mg_fe_bins, labels=False, include_lowest=True)\n",
    "\n",
    "    grouped = df.groupby([\"x_bin\", \"y_bin\"])\n",
    "\n",
    "    results = grouped.agg(\n",
    "        med=pd.NamedAgg(aggfunc=\"median\", column=val),\n",
    "        err=pd.NamedAgg(aggfunc=median_se, column=val),        \n",
    "        xmed=pd.NamedAgg(aggfunc=\"median\", column=x),\n",
    "        ymed=pd.NamedAgg(aggfunc=\"median\", column=y),\n",
    "        counts=pd.NamedAgg(aggfunc=\"count\", column=val),\n",
    "    ).reset_index()\n",
    "\n",
    "    # Create a full grid of all (x_bin, y_bin) combinations\n",
    "    x_bin_range = range(len(mg_bins)-1)  # Number of x bins\n",
    "    y_bin_range = range(len(mg_fe_bins)-1)  # Number of y bins\n",
    "    full_grid = pd.MultiIndex.from_product([x_bin_range, y_bin_range], names=['x_bin', 'y_bin'])\n",
    "    full_grid_df = full_grid.to_frame(index=False)\n",
    "    \n",
    "    df = pd.merge(full_grid_df, results, on=['x_bin', 'y_bin'], how='left')\n",
    "\n",
    "    x_bin_mids = (mg_bins[:-1] + mg_bins[1:])/2\n",
    "    y_bin_mids = (mg_fe_bins[:-1] + mg_fe_bins[1:])/2\n",
    "    \n",
    "    df[\"x\"] = x_bin_mids[df.x_bin]\n",
    "    df[\"y\"] = y_bin_mids[df.y_bin]\n",
    "    \n",
    "    return df\n",
    "            "
   ]
  },
  {
   "cell_type": "code",
   "execution_count": null,
   "id": "11",
   "metadata": {},
   "outputs": [],
   "source": [
    "def bin_mg_fe(df, x=\"MG_FE_true\", val=\"z_c\", n_min =3, m_h=\"MG_H_true\", m_h_0 = -0.1, d_m_h=0.05):\n",
    "    mg_bins = np.arange(0, 0.36, 0.05)\n",
    "    filt = df[m_h] < m_h_0 + d_m_h\n",
    "    filt &= df[m_h] >= m_h_0 - d_m_h\n",
    "    df = df[filt].copy()\n",
    "    df[\"x_bin\"] = pd.cut(df[x], bins=mg_bins, labels=False, include_lowest=True)\n",
    "\n",
    "    grouped = df.groupby([\"x_bin\"])\n",
    "\n",
    "    results = grouped.agg(\n",
    "        med=pd.NamedAgg(aggfunc=\"median\", column=val),\n",
    "        xmed=pd.NamedAgg(aggfunc=\"median\", column=x),\n",
    "        err=pd.NamedAgg(aggfunc=median_se, column=val),\n",
    "        counts=pd.NamedAgg(aggfunc=\"count\", column=val),\n",
    "    ).reset_index()\n",
    "\n",
    "    x_bin_range = range(len(mg_bins)-1)  # Number of x bins\n",
    "\n",
    "    full_grid_df = pd.DataFrame({\"x_bin\": x_bin_range})\n",
    "    \n",
    "    df = pd.merge(full_grid_df, results, on=['x_bin'], how='left')\n",
    "    \n",
    "    x_bin_mids = (mg_bins[:-1] + mg_bins[1:])/2\n",
    "\n",
    "    df[\"x\"] = x_bin_mids[df.x_bin]\n",
    "\n",
    "    df.loc[df.counts < n_min, \"med\"] = np.nan\n",
    "\n",
    "    return df\n",
    "            "
   ]
  },
  {
   "cell_type": "code",
   "execution_count": null,
   "id": "12",
   "metadata": {},
   "outputs": [],
   "source": [
    "def bin_mg_h(df, x=\"MG_H_true\", val=\"z_c\", n_min =3):\n",
    "    mg_bins = np.arange(-0.5, 0.4, 0.1)\n",
    "\n",
    "    df = df[~df.high_alpha].copy()\n",
    "    df[\"x_bin\"] = pd.cut(df[x], bins=mg_bins, labels=False, include_lowest=True)\n",
    "\n",
    "    grouped = df.groupby([\"x_bin\"])\n",
    "\n",
    "    results = grouped.agg(\n",
    "        med=pd.NamedAgg(aggfunc=\"median\", column=val),\n",
    "        xmed=pd.NamedAgg(aggfunc=\"median\", column=x),\n",
    "        err=pd.NamedAgg(aggfunc=median_se, column=val),\n",
    "        counts=pd.NamedAgg(aggfunc=\"count\", column=val),\n",
    "    ).reset_index()\n",
    "\n",
    "    x_bin_range = range(len(mg_bins)-1)  # Number of x bins\n",
    "\n",
    "    full_grid_df = pd.DataFrame({\"x_bin\": x_bin_range})\n",
    "    \n",
    "    df = pd.merge(full_grid_df, results, on=['x_bin'], how='left')\n",
    "    \n",
    "    x_bin_mids = (mg_bins[:-1] + mg_bins[1:])/2\n",
    "\n",
    "    df[\"x\"] = x_bin_mids[df.x_bin]\n",
    "\n",
    "    df.loc[df.counts < n_min, \"med\"] = np.nan\n",
    "\n",
    "    return df\n",
    "            "
   ]
  },
  {
   "cell_type": "code",
   "execution_count": null,
   "id": "13",
   "metadata": {},
   "outputs": [],
   "source": [
    "eq_correction = 1\n",
    "def calc_eq_caah(M_H, **kwargs):\n",
    "    Zs = gcem.MH_to_Z(M_H)\n",
    "    ys = calc_y(Zs)\n",
    "    ymg = calc_y(Zs, \"mg\")\n",
    "    print(ymg[1])\n",
    "    print(ys[1])\n",
    "    print(vice.solar_z(\"c\"))\n",
    "\n",
    "    co = gcem.abund_ratio_to_brak(ys / ymg*eq_correction, \"C\", \"MG\")\n",
    "    \n",
    "    return co\n",
    "\n",
    "def plot_eq_caah(M_H =np.linspace(-1, 0.35, 100),  **kwargs):\n",
    "    co = calc_eq_caah(M_H)\n",
    "    \n",
    "    plt.plot(M_H, co, label=\"equilibrium\", color=\"k\", lw=2, **kwargs)\n",
    "    "
   ]
  },
  {
   "cell_type": "code",
   "execution_count": null,
   "id": "14",
   "metadata": {},
   "outputs": [],
   "source": [
    "def set_yields(alpha_agb=1, y0_cc = 1, zeta_cc = 0.1):\n",
    "    vice.yields.agb.settings[\"c\"] = y_agb * alpha_agb\n",
    "\n",
    "    vice.yields.ccsne.settings[\"c\"] = lambda Z: y0_cc*y_const + zeta_cc*y_piecelin(Z)\n",
    "    "
   ]
  },
  {
   "cell_type": "code",
   "execution_count": null,
   "id": "15",
   "metadata": {},
   "outputs": [],
   "source": [
    "def add_model(total, model, factor):\n",
    "    filt = (model.counts > 0).values\n",
    "    filt &= np.isfinite(model.med)\n",
    "\n",
    "    # sanity check\n",
    "    assert all(model.x_bin == total.x_bin)\n",
    "    if \"y_bin\" in model.keys():\n",
    "        assert all(model.y_bin == total.y_bin)\n",
    "    \n",
    "    if np.sum(filt) > 0:\n",
    "        total.loc[filt, \"med\"] += factor * model.med.loc[filt]\n",
    "        total.loc[filt, \"counts\"] += model.counts.loc[filt]\n",
    "        total.loc[filt, \"err\"] += model.err.loc[filt]\n"
   ]
  },
  {
   "cell_type": "code",
   "execution_count": null,
   "id": "16",
   "metadata": {},
   "outputs": [],
   "source": [
    "def empty_total_like(models):\n",
    "    total = {}\n",
    "\n",
    "    for col, mod in models.items():\n",
    "        total[col] = mod.copy()\n",
    "        total[col][\"med\"] = 0.\n",
    "        total[col][\"counts\"] = 0\n",
    "        total[col][\"err\"] = 0.\n",
    "        \n",
    "    return total"
   ]
  },
  {
   "cell_type": "code",
   "execution_count": null,
   "id": "17",
   "metadata": {},
   "outputs": [],
   "source": [
    "def add_models(models, factors):\n",
    "    totals = empty_total_like(models[0])\n",
    "    \n",
    "    for (ms, factor) in zip(models, factors):\n",
    "        for col in totals.keys():\n",
    "            model = ms[col]\n",
    "            add_model(totals[col], model, factor)\n",
    "\n",
    "\n",
    "    df = totals[\"2d\"]\n",
    "    df.rename(columns = {\"x\": \"MG_H\", \"y\": \"MG_FE\"}, inplace=True)\n",
    "    \n",
    "    df[\"C_H\"] = surp.gce_math.abund_to_brak(df.med, \"C\")\n",
    "    df[\"C_MG\"] = df.C_H - df.MG_H\n",
    "    df.loc[~np.isfinite(df.C_MG), \"C_MG\"] = np.nan\n",
    "\n",
    "    df = totals[\"mg_h\"]\n",
    "    df.rename(columns = {\"x\": \"MG_H\"}, inplace=True)\n",
    "    \n",
    "    df[\"C_H\"] = surp.gce_math.abund_to_brak(df.med, \"C\")\n",
    "    df[\"C_MG\"] = df.C_H - df.MG_H\n",
    "    df.loc[~np.isfinite(df.C_MG), \"C_MG\"] = np.nan\n",
    "\n",
    "    df = totals[\"mg_fe\"]\n",
    "    df.rename(columns = {\"x\": \"MG_FE\"}, inplace=True)\n",
    "    \n",
    "    df[\"C_H\"] = surp.gce_math.abund_to_brak(df.med, \"C\")\n",
    "    df[\"C_MG\"] = df.C_H - (-0.1)\n",
    "    df.loc[~np.isfinite(df.C_MG), \"C_MG\"] = np.nan\n",
    "    \n",
    "    return totals"
   ]
  },
  {
   "cell_type": "code",
   "execution_count": null,
   "id": "18",
   "metadata": {},
   "outputs": [],
   "source": [
    "def calc_chi2(y1, y2, yerr1, yerr2=0):\n",
    "    yerr = np.sqrt(yerr1**2 + yerr2**2)\n",
    "    filt = np.isfinite(y1) & np.isfinite(y2) & (yerr > 0)\n",
    "\n",
    "    s2 = (y1 - y2)**2 / yerr**2\n",
    "    chi2 = np.sum(s2[filt])\n",
    "    return chi2 + 500*np.sum(~filt)"
   ]
  },
  {
   "cell_type": "code",
   "execution_count": null,
   "id": "19",
   "metadata": {},
   "outputs": [],
   "source": [
    "def log_likelihood(models, subgiants_binned):\n",
    "\n",
    "    df = models[\"mg_h\"]\n",
    "    df2 = subgiants_binned[\"mg_h\"]\n",
    "    yerr = df.err / df.med / np.log(10)\n",
    "    chi2_caah = calc_chi2(df.C_MG, df2.med, df2.err)\n",
    "\n",
    "    df = models[\"mg_fe\"]\n",
    "    df2 = subgiants_binned[\"mg_fe\"]\n",
    "    yerr = df.err / df.med / np.log(10)\n",
    "    chi2_caafe = calc_chi2(df.MG_FE, df2.med, df2.err)\n",
    "\n",
    "    return -1/2 * (chi2_caah + chi2_caafe)\n",
    "    \n",
    "    "
   ]
  },
  {
   "cell_type": "markdown",
   "id": "20",
   "metadata": {},
   "source": [
    "## Model loading"
   ]
  },
  {
   "cell_type": "code",
   "execution_count": null,
   "id": "21",
   "metadata": {},
   "outputs": [],
   "source": [
    "def bin_model(name):\n",
    "    model = find_model(name)\n",
    "    mgfe = bin_mg_fe(model)\n",
    "    mgh = bin_mg_h(model)\n",
    "    bin2d = bin_2d(model)\n",
    "\n",
    "    return {\n",
    "        \"mg_fe\": mgfe,\n",
    "        \"mg_h\": mgh,\n",
    "        \"2d\": bin2d\n",
    "    }\n",
    "    "
   ]
  },
  {
   "cell_type": "code",
   "execution_count": null,
   "id": "22",
   "metadata": {},
   "outputs": [],
   "source": [
    "y_piecelin = surp.yield_models.Quadratic_CC(y0=0.001, zeta=0.001, A=0.2, Z1=0.016)\n",
    "y_agb = surp.agb_interpolator.interpolator(\"c\")\n",
    "y_const = 0.001"
   ]
  },
  {
   "cell_type": "code",
   "execution_count": null,
   "id": "23",
   "metadata": {},
   "outputs": [],
   "source": [
    "set_yields(0, 0, 1)\n",
    "plot_eq_caah()"
   ]
  },
  {
   "cell_type": "code",
   "execution_count": null,
   "id": "24",
   "metadata": {},
   "outputs": [],
   "source": [
    "empty = bin_model(\"noextra\")"
   ]
  },
  {
   "cell_type": "code",
   "execution_count": null,
   "id": "25",
   "metadata": {},
   "outputs": [],
   "source": [
    "fruity = bin_model(\"analytic\")"
   ]
  },
  {
   "cell_type": "code",
   "execution_count": null,
   "id": "26",
   "metadata": {},
   "outputs": [],
   "source": [
    "cc_piecelin = bin_model(\"piecelin_m0.2\")"
   ]
  },
  {
   "cell_type": "code",
   "execution_count": null,
   "id": "27",
   "metadata": {},
   "outputs": [],
   "source": [
    "cc_const = bin_model(\"const_cc\")"
   ]
  },
  {
   "cell_type": "code",
   "execution_count": null,
   "id": "28",
   "metadata": {},
   "outputs": [],
   "source": [
    "subgiants_binned = {\n",
    "    \"mg_fe\": bin_mg_fe(subgiants, x=\"MG_FE\", val=\"C_MG\", m_h=\"MG_H\"),\n",
    "    \"mg_h\": bin_mg_h(subgiants, x=\"MG_H\", val=\"C_MG\"),\n",
    "    \"2d\": bin_2d(subgiants, x=\"MG_H\", y=\"MG_FE\", val=\"C_MG\"),\n",
    "}"
   ]
  },
  {
   "cell_type": "code",
   "execution_count": null,
   "id": "29",
   "metadata": {},
   "outputs": [],
   "source": [
    "y0 = 2.02\n",
    "alpha =  1.45\n",
    "zeta = 1.96\n",
    "fiducial = add_models([fruity, cc_const, cc_piecelin], [alpha, y0, zeta])"
   ]
  },
  {
   "cell_type": "code",
   "execution_count": null,
   "id": "30",
   "metadata": {},
   "outputs": [],
   "source": [
    "set_yields(alpha, y0, zeta)"
   ]
  },
  {
   "cell_type": "code",
   "execution_count": null,
   "id": "31",
   "metadata": {},
   "outputs": [],
   "source": [
    "def compare_caah(fiducial):\n",
    "    df = fiducial[\"2d\"]\n",
    "    #plt.scatter(df.MG_H, df.C_MG, c=df.MG_FE)\n",
    "    \n",
    "    df = fiducial[\"mg_h\"]\n",
    "    plt.errorbar(df.MG_H, df.C_MG, yerr=df.err / df.med * np.log(10))\n",
    "    \n",
    "    df = subgiants_binned[\"mg_h\"]\n",
    "    plt.errorbar(df.x, df.med, yerr=df.err)\n",
    "\n",
    "    plt.xlabel(\"[Mg/H]\")\n",
    "    plt.ylabel(\"[C/Mg]\")\n",
    "    #plot_eq_caah()\n",
    "    #plt.colorbar(label=\")"
   ]
  },
  {
   "cell_type": "code",
   "execution_count": null,
   "id": "32",
   "metadata": {},
   "outputs": [],
   "source": [
    "def compare_caafe(fiducial):\n",
    "    df = fiducial[\"2d\"]\n",
    "    #plt.scatter(df.MG_H, df.C_MG, c=df.MG_FE)\n",
    "    \n",
    "    df = fiducial[\"mg_fe\"]\n",
    "    yerr = df.err / df.med * np.log(10)\n",
    "    filt = np.isfinite(df.MG_FE) & np.isfinite(df.C_MG)\n",
    "    plt.errorbar(df.MG_FE[filt], df.C_MG[filt], yerr=yerr[filt])\n",
    "    \n",
    "    df = subgiants_binned[\"mg_fe\"]\n",
    "    plt.errorbar(df.x, df.med, yerr=df.err)\n",
    "\n",
    "    plt.xlabel(\"[Mg/FE]\")\n",
    "    plt.ylabel(\"[C/Mg]\")\n",
    "    #plot_eq_caah()\n",
    "    #plt.colorbar(label=\")"
   ]
  },
  {
   "cell_type": "code",
   "execution_count": null,
   "id": "33",
   "metadata": {},
   "outputs": [],
   "source": [
    "import emcee"
   ]
  },
  {
   "cell_type": "code",
   "execution_count": null,
   "id": "34",
   "metadata": {},
   "outputs": [],
   "source": [
    "components = [fruity, cc_const, cc_piecelin]\n",
    "labels = [r\"$\\alpha$\", r\"$y_0$\", r\"$\\zeta$\"]\n",
    "initial = [1.5, 2.0, 1.9]\n"
   ]
  },
  {
   "cell_type": "code",
   "execution_count": null,
   "id": "35",
   "metadata": {},
   "outputs": [],
   "source": [
    "def model_from_theta(theta, components):\n",
    "    return add_models(components, theta)"
   ]
  },
  {
   "cell_type": "code",
   "execution_count": null,
   "id": "36",
   "metadata": {},
   "outputs": [],
   "source": [
    "def log_likelihood_mc(theta, components, subgiants_binned):\n",
    "    alpha, y0, zeta = theta\n",
    "    fiducial = model_from_theta(theta, components)\n",
    "\n",
    "    ll = log_likelihood(fiducial, subgiants_binned)\n",
    "    return ll"
   ]
  },
  {
   "cell_type": "code",
   "execution_count": null,
   "id": "37",
   "metadata": {},
   "outputs": [],
   "source": [
    "soln = minimize(lambda *args: -log_likelihood_mc(*args), np.array(initial), args=(components, subgiants_binned))"
   ]
  },
  {
   "cell_type": "code",
   "execution_count": null,
   "id": "38",
   "metadata": {},
   "outputs": [],
   "source": [
    "log_likelihood_mc(initial, components, subgiants_binned)"
   ]
  },
  {
   "cell_type": "code",
   "execution_count": null,
   "id": "39",
   "metadata": {},
   "outputs": [],
   "source": [
    "log_likelihood_mc(soln.x, components, subgiants_binned)"
   ]
  },
  {
   "cell_type": "code",
   "execution_count": null,
   "id": "40",
   "metadata": {},
   "outputs": [],
   "source": [
    "soln"
   ]
  },
  {
   "cell_type": "code",
   "execution_count": null,
   "id": "41",
   "metadata": {},
   "outputs": [],
   "source": [
    "fiducial[\"mg_fe\"]"
   ]
  },
  {
   "cell_type": "code",
   "execution_count": null,
   "id": "42",
   "metadata": {},
   "outputs": [],
   "source": [
    "fiducial = model_from_theta(soln.x, components)\n",
    "compare_caah(fiducial)\n",
    "\n",
    "plt.show()\n",
    "compare_caafe(fiducial)\n"
   ]
  },
  {
   "cell_type": "code",
   "execution_count": null,
   "id": "43",
   "metadata": {},
   "outputs": [],
   "source": [
    "def log_prior(theta):\n",
    "    alpha, y0, zeta = theta\n",
    "    if (alpha < 0) or (alpha > 10):\n",
    "        return -np.inf\n",
    "    if (y0 < 0) or (y0 > 6):\n",
    "        return -np.inf\n",
    "    if (zeta < -10) or (zeta > 10):\n",
    "        return -np.inf\n",
    "    return 0"
   ]
  },
  {
   "cell_type": "code",
   "execution_count": null,
   "id": "44",
   "metadata": {},
   "outputs": [],
   "source": [
    "def log_probability(theta, components, subgiants_binned):\n",
    "    return log_prior(theta) + log_likelihood_mc(theta, components, subgiants_binned)"
   ]
  },
  {
   "cell_type": "code",
   "execution_count": null,
   "id": "45",
   "metadata": {},
   "outputs": [],
   "source": [
    "log_probability(initial, components, subgiants_binned)"
   ]
  },
  {
   "cell_type": "code",
   "execution_count": null,
   "id": "46",
   "metadata": {},
   "outputs": [],
   "source": [
    "pos = initial + 0.05 * np.random.randn(12, len(initial))\n",
    "nwalkers, ndim = pos.shape\n",
    "sampler = emcee.EnsembleSampler(\n",
    "    nwalkers, ndim, log_probability, args=(components, subgiants_binned)\n",
    ")"
   ]
  },
  {
   "cell_type": "code",
   "execution_count": null,
   "id": "47",
   "metadata": {},
   "outputs": [],
   "source": [
    "%timeit model_from_theta(initial, components);"
   ]
  },
  {
   "cell_type": "code",
   "execution_count": null,
   "id": "48",
   "metadata": {},
   "outputs": [],
   "source": [
    "0.031 * 1e3 * 12 * len(initial) / 60"
   ]
  },
  {
   "cell_type": "code",
   "execution_count": null,
   "id": "49",
   "metadata": {},
   "outputs": [],
   "source": [
    "with warnings.catch_warnings():\n",
    "    warnings.simplefilter(\"ignore\")\n",
    "    sampler.run_mcmc(pos, 1000, progress=True)"
   ]
  },
  {
   "cell_type": "code",
   "execution_count": null,
   "id": "50",
   "metadata": {},
   "outputs": [],
   "source": [
    "flat_samples = sampler.get_chain(discard=100, thin=15, flat=True)"
   ]
  },
  {
   "cell_type": "code",
   "execution_count": null,
   "id": "51",
   "metadata": {},
   "outputs": [],
   "source": [
    "corner.corner(flat_samples, labels=labels);"
   ]
  },
  {
   "cell_type": "code",
   "execution_count": null,
   "id": "52",
   "metadata": {},
   "outputs": [],
   "source": [
    "inds = np.random.randint(len(flat_samples), size=100)\n",
    "\n",
    "\n",
    "for i in inds:\n",
    "    sample = flat_samples[i]\n",
    "    model = model_from_theta(sample[:len(initial)], components)\n",
    "    df = model[\"mg_h\"]\n",
    "    plt.scatter(df.MG_H, df.C_MG, color=arya.COLORS[1], alpha=0.1)\n",
    "\n",
    "df = subgiants_binned[\"mg_h\"]\n",
    "plt.errorbar(df.x, df.med, yerr=df.err)\n",
    "plt.xlabel(\"[Mg/H]\")\n",
    "plt.ylabel(\"[C/Mg]\")"
   ]
  },
  {
   "cell_type": "code",
   "execution_count": null,
   "id": "53",
   "metadata": {},
   "outputs": [],
   "source": [
    "inds = np.random.randint(len(flat_samples), size=100)\n",
    "\n",
    "\n",
    "for i in inds:\n",
    "    sample = flat_samples[i]\n",
    "    model = model_from_theta(sample[:len(initial)], components)\n",
    "    df = model[\"mg_fe\"]\n",
    "    plt.scatter(df.MG_FE, df.C_MG, color=arya.COLORS[2], alpha=0.1)\n",
    "\n",
    "df = subgiants_binned[\"mg_fe\"]\n",
    "plt.errorbar(df.x, df.med, yerr=df.err)\n",
    "plt.xlabel(\"[Mg/H]\")\n",
    "plt.ylabel(\"[C/Mg]\")"
   ]
  },
  {
   "cell_type": "code",
   "execution_count": null,
   "id": "54",
   "metadata": {},
   "outputs": [],
   "source": [
    "plt.scatter(df_2.y, df_2.med, c=df_2.x)"
   ]
  },
  {
   "cell_type": "code",
   "execution_count": null,
   "id": "55",
   "metadata": {},
   "outputs": [],
   "source": [
    "plt.scatter(subgiants_binned.y, subgiants_binned.med, c=subgiants_binned.x)"
   ]
  },
  {
   "cell_type": "code",
   "execution_count": null,
   "id": "56",
   "metadata": {},
   "outputs": [],
   "source": [
    "plt.xlabel(\"MG/H\")\n",
    "plt.ylabel(\"Mg/Fe\")\n",
    "\n",
    "plt.scatter(fiducial.MG_H, fiducial.MG_FE, c=np.log10(fiducial.med), s=np.log(0.001/fiducial.err))\n",
    "plt.colorbar(label=\"log Z(c)\")"
   ]
  },
  {
   "cell_type": "code",
   "execution_count": null,
   "id": "57",
   "metadata": {},
   "outputs": [],
   "source": [
    "plt.xlabel(\"MG/H\")\n",
    "plt.ylabel(\"Mg/Fe\")\n",
    "\n",
    "plt.scatter(subgiants_binned.x, subgiants_binned.y, c=(subgiants_binned.med))\n",
    "plt.colorbar(label=\"log Z(c)\")"
   ]
  },
  {
   "cell_type": "code",
   "execution_count": null,
   "id": "58",
   "metadata": {},
   "outputs": [],
   "source": [
    "plt.xlabel(\"MG/H\")\n",
    "plt.ylabel(\"Mg/Fe\")\n",
    "\n",
    "plt.scatter(df_2.x, df_2.y, c=(df_2.med))\n",
    "plt.colorbar(label=\"log Z(c)\")"
   ]
  },
  {
   "cell_type": "code",
   "execution_count": null,
   "id": "59",
   "metadata": {},
   "outputs": [],
   "source": [
    "subgiants_mgh = bin_mg_h(subgiants, x=\"MG_H\", val=\"C_MG\")\n",
    "fruity_mgh = bin_mg_h(fruity)"
   ]
  },
  {
   "cell_type": "code",
   "execution_count": null,
   "id": "60",
   "metadata": {},
   "outputs": [],
   "source": [
    "plt.scatter(fruity.MG_H, fruity.AG_MG, s=1, alpha=0.3, c=fruity.high_alpha)\n",
    "plt.scatter(fruity_mgh.x, np.log10(fruity_mgh.med / vice.solar_z(\"c\")) - fruity_mgh.x)"
   ]
  },
  {
   "cell_type": "code",
   "execution_count": null,
   "id": "61",
   "metadata": {},
   "outputs": [],
   "source": [
    "plt.scatter(subgiants_mgh.x, subgiants_mgh.med)\n",
    "plt.scatter(fruity_mgh.x, np.log10(fruity_mgh.med / vice.solar_z(\"c\")) - fruity_mgh.x)"
   ]
  },
  {
   "cell_type": "code",
   "execution_count": null,
   "id": "62",
   "metadata": {},
   "outputs": [],
   "source": []
  }
 ],
 "metadata": {
  "kernelspec": {
   "display_name": "Python 3 (ipykernel)",
   "language": "python",
   "name": "python3"
  },
  "language_info": {
   "codemirror_mode": {
    "name": "ipython",
    "version": 3
   },
   "file_extension": ".py",
   "mimetype": "text/x-python",
   "name": "python",
   "nbconvert_exporter": "python",
   "pygments_lexer": "ipython3",
   "version": "3.11.9"
  }
 },
 "nbformat": 4,
 "nbformat_minor": 5
}
