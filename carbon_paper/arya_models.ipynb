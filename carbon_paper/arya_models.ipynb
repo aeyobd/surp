{
 "cells": [
  {
   "cell_type": "code",
   "execution_count": 3,
   "id": "1f20417b-aadb-4f40-8293-e4f0af09df3b",
   "metadata": {
    "tags": []
   },
   "outputs": [],
   "source": [
    "import surp\n",
    "import arya\n",
    "\n",
    "import matplotlib.pyplot as plt\n",
    "import numpy as np\n",
    "\n",
    "from dataclasses import dataclass\n",
    "\n",
    "import vice\n",
    "\n",
    "from surp.src.analysis.vice_model import vice_model\n",
    "import surp.src.analysis.apogee_analysis as aah\n"
   ]
  },
  {
   "cell_type": "code",
   "execution_count": 4,
   "id": "a3984649-1286-4e7b-908e-5b8237e7f0e0",
   "metadata": {
    "tags": []
   },
   "outputs": [
    {
     "ename": "FileNotFoundError",
     "evalue": "[Errno 2] No such file or directory: '../output/cristallo11_f0.2_Z0.4_eta1.0_v0.1.3.json'",
     "output_type": "error",
     "traceback": [
      "\u001b[0;31m---------------------------------------------------------------------------\u001b[0m",
      "\u001b[0;31mFileNotFoundError\u001b[0m                         Traceback (most recent call last)",
      "Cell \u001b[0;32mIn[4], line 24\u001b[0m\n\u001b[1;32m     20\u001b[0m     file_name \u001b[38;5;241m=\u001b[39m \u001b[38;5;124m\"\u001b[39m\u001b[38;5;124m../output/\u001b[39m\u001b[38;5;124m\"\u001b[39m \u001b[38;5;241m+\u001b[39m name \u001b[38;5;241m+\u001b[39m \u001b[38;5;124m\"\u001b[39m\u001b[38;5;124m.json\u001b[39m\u001b[38;5;124m\"\u001b[39m\n\u001b[1;32m     21\u001b[0m     \u001b[38;5;28;01mreturn\u001b[39;00m vice_model(file_name)\n\u001b[0;32m---> 24\u001b[0m fiducial \u001b[38;5;241m=\u001b[39m \u001b[43mfind_model\u001b[49m\u001b[43m(\u001b[49m\u001b[43mmodel_id\u001b[49m\u001b[43m(\u001b[49m\u001b[43magb\u001b[49m\u001b[38;5;241;43m=\u001b[39;49m\u001b[38;5;124;43m\"\u001b[39;49m\u001b[38;5;124;43mcristallo11\u001b[39;49m\u001b[38;5;124;43m\"\u001b[39;49m\u001b[43m,\u001b[49m\u001b[43m \u001b[49m\u001b[43mf_agb\u001b[49m\u001b[38;5;241;43m=\u001b[39;49m\u001b[38;5;124;43m\"\u001b[39;49m\u001b[38;5;124;43m0.2\u001b[39;49m\u001b[38;5;124;43m\"\u001b[39;49m\u001b[43m,\u001b[49m\u001b[43m \u001b[49m\u001b[43meta\u001b[49m\u001b[38;5;241;43m=\u001b[39;49m\u001b[38;5;124;43m\"\u001b[39;49m\u001b[38;5;124;43m1.0\u001b[39;49m\u001b[38;5;124;43m\"\u001b[39;49m\u001b[43m,\u001b[49m\n\u001b[1;32m     25\u001b[0m \u001b[43m    \u001b[49m\u001b[43mbeta\u001b[49m\u001b[38;5;241;43m=\u001b[39;49m\u001b[38;5;124;43m\"\u001b[39;49m\u001b[38;5;124;43m0.4\u001b[39;49m\u001b[38;5;124;43m\"\u001b[39;49m\u001b[43m,\u001b[49m\u001b[43m \u001b[49m\u001b[43mversion\u001b[49m\u001b[38;5;241;43m=\u001b[39;49m\u001b[38;5;124;43m\"\u001b[39;49m\u001b[38;5;124;43m_v0.1.3\u001b[39;49m\u001b[38;5;124;43m\"\u001b[39;49m\u001b[43m)\u001b[49m\u001b[43m)\u001b[49m\n\u001b[1;32m     27\u001b[0m fig \u001b[38;5;241m=\u001b[39m plt\u001b[38;5;241m.\u001b[39mfigure(figsize\u001b[38;5;241m=\u001b[39m(\u001b[38;5;241m6.3\u001b[39m, \u001b[38;5;241m3.15\u001b[39m))\n\u001b[1;32m     28\u001b[0m gs \u001b[38;5;241m=\u001b[39m fig\u001b[38;5;241m.\u001b[39madd_gridspec(\u001b[38;5;241m1\u001b[39m, \u001b[38;5;241m2\u001b[39m, wspace\u001b[38;5;241m=\u001b[39m\u001b[38;5;241m0\u001b[39m)\n",
      "Cell \u001b[0;32mIn[4], line 21\u001b[0m, in \u001b[0;36mfind_model\u001b[0;34m(id)\u001b[0m\n\u001b[1;32m     19\u001b[0m     name \u001b[38;5;241m=\u001b[39m \u001b[38;5;28mid\u001b[39m\u001b[38;5;241m.\u001b[39mname\n\u001b[1;32m     20\u001b[0m file_name \u001b[38;5;241m=\u001b[39m \u001b[38;5;124m\"\u001b[39m\u001b[38;5;124m../output/\u001b[39m\u001b[38;5;124m\"\u001b[39m \u001b[38;5;241m+\u001b[39m name \u001b[38;5;241m+\u001b[39m \u001b[38;5;124m\"\u001b[39m\u001b[38;5;124m.json\u001b[39m\u001b[38;5;124m\"\u001b[39m\n\u001b[0;32m---> 21\u001b[0m \u001b[38;5;28;01mreturn\u001b[39;00m \u001b[43mvice_model\u001b[49m\u001b[43m(\u001b[49m\u001b[43mfile_name\u001b[49m\u001b[43m)\u001b[49m\n",
      "File \u001b[0;32m~/python/surp/src/analysis/vice_model.py:54\u001b[0m, in \u001b[0;36mvice_model.__init__\u001b[0;34m(self, filename)\u001b[0m\n\u001b[1;32m     41\u001b[0m \u001b[38;5;28;01mdef\u001b[39;00m \u001b[38;5;21m__init__\u001b[39m(\u001b[38;5;28mself\u001b[39m, filename):\n\u001b[1;32m     42\u001b[0m \u001b[38;5;250m    \u001b[39m\u001b[38;5;124;03m\"\"\"\u001b[39;00m\n\u001b[1;32m     43\u001b[0m \u001b[38;5;124;03m    A class which holds a vice multioutput object for pickling\u001b[39;00m\n\u001b[1;32m     44\u001b[0m \n\u001b[0;32m   (...)\u001b[0m\n\u001b[1;32m     50\u001b[0m \u001b[38;5;124;03m    Currently assumes a 200 zone output\u001b[39;00m\n\u001b[1;32m     51\u001b[0m \u001b[38;5;124;03m    \"\"\"\u001b[39;00m\n\u001b[0;32m---> 54\u001b[0m     \u001b[38;5;28;01mwith\u001b[39;00m \u001b[38;5;28;43mopen\u001b[39;49m\u001b[43m(\u001b[49m\u001b[43mfilename\u001b[49m\u001b[43m,\u001b[49m\u001b[43m \u001b[49m\u001b[38;5;124;43m\"\u001b[39;49m\u001b[38;5;124;43mr\u001b[39;49m\u001b[38;5;124;43m\"\u001b[39;49m\u001b[43m)\u001b[49m \u001b[38;5;28;01mas\u001b[39;00m f:\n\u001b[1;32m     55\u001b[0m         d \u001b[38;5;241m=\u001b[39m json\u001b[38;5;241m.\u001b[39mload(f)\n\u001b[1;32m     57\u001b[0m     \u001b[38;5;28mself\u001b[39m\u001b[38;5;241m.\u001b[39mstars \u001b[38;5;241m=\u001b[39m d[\u001b[38;5;124m\"\u001b[39m\u001b[38;5;124mstars\u001b[39m\u001b[38;5;124m\"\u001b[39m]\n",
      "\u001b[0;31mFileNotFoundError\u001b[0m: [Errno 2] No such file or directory: '../output/cristallo11_f0.2_Z0.4_eta1.0_v0.1.3.json'"
     ]
    }
   ],
   "source": [
    "@dataclass\n",
    "class model_id():\n",
    "    agb: str = None\n",
    "    eta: str = None\n",
    "    f_agb: str = None\n",
    "    beta: str = None\n",
    "    name: str = None\n",
    "    version: str = \"\"\n",
    "\n",
    "\n",
    "def find_model(id):\n",
    "    \"\"\"\n",
    "    Finds the pickled model with either the given name or the parameters \n",
    "    and returns the vice_model object\n",
    "    \"\"\"\n",
    "    if id.name is None:\n",
    "        name = id.agb + \"_f\" + id.f_agb + \"_Z\" + id.beta + \"_eta\" + id.eta + id.version\n",
    "    else:\n",
    "        name = id.name\n",
    "    file_name = \"../output/\" + name + \".json\"\n",
    "    return vice_model(file_name)\n",
    "\n",
    "\n",
    "fiducial = find_model(model_id(agb=\"cristallo11\", f_agb=\"0.2\", eta=\"1.0\",\n",
    "    beta=\"0.4\", version=\"_v0.1.3\"))\n",
    "\n",
    "fig = plt.figure(figsize=(6.3, 3.15))\n",
    "gs = fig.add_gridspec(1, 2, wspace=0)\n",
    "axs = gs.subplots(sharey=True)\n",
    "\n",
    "plt.sca(axs[0])\n",
    "fiducial.plot_t_slices(\"[o/h]\", \"[c/o]\", ax=axs[0])\n",
    "axs[0].set(\n",
    "           ylim=(-0.7, 0.3),\n",
    "           xlabel=r\"[$\\alpha$/H]\",\n",
    "           ylabel=r\"[C/$\\alpha$]\"\n",
    "          )\n",
    "\n",
    "\n",
    "fiducial.plot_t_slices(\"[o/fe]\", \"[c/o]\", ax=axs[1], legend=False)\n",
    "axs[1].set(\n",
    "           ylabel=\"\",\n",
    "           xlabel=r\"[$\\alpha$/Fe]\"\n",
    "          )\n"
   ]
  },
  {
   "cell_type": "code",
   "execution_count": 2,
   "id": "7fed45a1-d535-49fd-8b7d-d32261868d7f",
   "metadata": {
    "tags": []
   },
   "outputs": [
    {
     "data": {
      "image/png": "[encoded data removed]",
      "text/plain": [
       "<Figure size 1078.64x617.057 with 2 Axes>"
      ]
     },
     "metadata": {},
     "output_type": "display_data"
    }
   ],
   "source": [
    "jp = arya.JoinPlot(1, 2)\n",
    "\n",
    "sp = jp.children[0][0]\n",
    "sp.x.ticks = [0,0.2,0.4,0.6,0.8]"
   ]
  },
  {
   "cell_type": "code",
   "execution_count": null,
   "id": "fd5dabaf-699d-4d0d-8b41-b257ca7c895d",
   "metadata": {},
   "outputs": [],
   "source": []
  }
 ],
 "metadata": {
  "kernelspec": {
   "display_name": "Python 3 (ipykernel)",
   "language": "python",
   "name": "python3"
  },
  "language_info": {
   "codemirror_mode": {
    "name": "ipython",
    "version": 3
   },
   "file_extension": ".py",
   "mimetype": "text/x-python",
   "name": "python",
   "nbconvert_exporter": "python",
   "pygments_lexer": "ipython3",
   "version": "3.10.10"
  }
 },
 "nbformat": 4,
 "nbformat_minor": 5
}
