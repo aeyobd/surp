{
 "cells": [
  {
   "cell_type": "code",
   "execution_count": null,
   "id": "0",
   "metadata": {},
   "outputs": [],
   "source": [
    "import mcmc_utils"
   ]
  },
  {
   "cell_type": "code",
   "execution_count": null,
   "id": "1",
   "metadata": {},
   "outputs": [],
   "source": [
    "import surp\n",
    "import vice\n",
    "import numpy as np\n",
    "\n",
    "import matplotlib.pyplot as plt\n",
    "\n",
    "from surp.gce_math import Z_to_MH, MH_to_Z\n",
    "from surp.yields import calc_y"
   ]
  },
  {
   "cell_type": "code",
   "execution_count": null,
   "id": "2",
   "metadata": {},
   "outputs": [],
   "source": [
    "from singlezone import run_singlezone"
   ]
  },
  {
   "cell_type": "code",
   "execution_count": null,
   "id": "3",
   "metadata": {},
   "outputs": [],
   "source": [
    "import arya"
   ]
  },
  {
   "cell_type": "code",
   "execution_count": null,
   "id": "4",
   "metadata": {},
   "outputs": [],
   "source": [
    "surp.set_yields()"
   ]
  },
  {
   "cell_type": "code",
   "execution_count": null,
   "id": "5",
   "metadata": {},
   "outputs": [],
   "source": [
    "from scipy.optimize import curve_fit"
   ]
  },
  {
   "cell_type": "code",
   "execution_count": null,
   "id": "6",
   "metadata": {},
   "outputs": [],
   "source": [
    "from surp.agb_interpolator import interpolator as agb_interpolator"
   ]
  },
  {
   "cell_type": "markdown",
   "id": "7",
   "metadata": {},
   "source": [
    "## Single zone approximation"
   ]
  },
  {
   "cell_type": "code",
   "execution_count": null,
   "id": "8",
   "metadata": {},
   "outputs": [],
   "source": [
    "def agb_interpolator(ele, study, **kwargs):\n",
    "    return surp.agb_interpolator.interpolator(ele, study=study, **kwargs)"
   ]
  },
  {
   "cell_type": "code",
   "execution_count": null,
   "id": "9",
   "metadata": {},
   "outputs": [],
   "source": [
    "import warnings"
   ]
  },
  {
   "cell_type": "markdown",
   "id": "10",
   "metadata": {},
   "source": [
    "the final carbon abundance is\n",
    "$$\n",
    "Z_{\\rm C}(t_{\\rm end}) = \\frac{y_{\\rm C}}{1+\\eta - r - \\tau_{\\star} / \\tau_{\\rm sfh}}\n",
    "$$"
   ]
  },
  {
   "cell_type": "code",
   "execution_count": null,
   "id": "11",
   "metadata": {},
   "outputs": [],
   "source": [
    "def calc_y_sz(ele=\"c\", ignore_warnings=True):\n",
    "    if ignore_warnings:\n",
    "        with warnings.catch_warnings():\n",
    "            warnings.simplefilter(\"ignore\")\n",
    "            sz, h = run_singlezone()\n",
    "    \n",
    "    Z_end = h[f\"z({ele})\"].iloc[-1]\n",
    "    tau_star = 2.5\n",
    "    η = 0.5\n",
    "    r = 0.4\n",
    "    tau_sfh = 14\n",
    "    \n",
    "    y0 = Z_end * (1 + η - r - tau_star / tau_sfh)\n",
    "    \n",
    "    return y0"
   ]
  },
  {
   "cell_type": "code",
   "execution_count": null,
   "id": "12",
   "metadata": {},
   "outputs": [],
   "source": [
    "vice.yields.ccsne.settings[\"fe\"] + vice.yields.sneia.settings[\"fe\"]"
   ]
  },
  {
   "cell_type": "code",
   "execution_count": null,
   "id": "13",
   "metadata": {},
   "outputs": [],
   "source": [
    "calc_y_sz(\"fe\")"
   ]
  },
  {
   "cell_type": "code",
   "execution_count": null,
   "id": "14",
   "metadata": {},
   "outputs": [],
   "source": [
    "vice.yields.ccsne.settings[\"c\"] = 1e-4\n",
    "vice.yields.agb.settings[\"c\"] = agb_interpolator(\"c\", study=\"cristallo11\", prefactor=0)\n",
    "\n",
    "calc_y_sz(\"c\")"
   ]
  },
  {
   "cell_type": "code",
   "execution_count": null,
   "id": "15",
   "metadata": {},
   "outputs": [],
   "source": [
    "vice.yields.ccsne.settings[\"c\"] = 0\n",
    "\n",
    "for model in surp.AGB_MODELS:\n",
    "    vice.yields.agb.settings[\"c\"] = agb_interpolator(\"c\", study=model)\n",
    "    y = calc_y_sz(\"c\")\n",
    "\n",
    "    print(model, \"\\t\", f\"{y:0.3e}\")\n"
   ]
  },
  {
   "cell_type": "code",
   "execution_count": null,
   "id": "16",
   "metadata": {},
   "outputs": [],
   "source": [
    "for m_factor in [0.5, 0.8, 1, 1.3, 2]:\n",
    "    vice.yields.agb.settings[\"c\"] = agb_interpolator(\"c\", study=\"cristallo11\", mass_factor=m_factor)\n",
    "    y = calc_y_sz(\"c\")\n",
    "\n",
    "    print(m_factor, \"\\t\", f\"{y:0.3e}\")"
   ]
  },
  {
   "cell_type": "markdown",
   "id": "17",
   "metadata": {},
   "source": [
    "# MCMC Fits"
   ]
  },
  {
   "cell_type": "markdown",
   "id": "18",
   "metadata": {
    "jp-MarkdownHeadingCollapsed": true
   },
   "source": [
    "# Prior models"
   ]
  },
  {
   "cell_type": "code",
   "execution_count": null,
   "id": "19",
   "metadata": {},
   "outputs": [],
   "source": [
    "lin_model = mcmc_utils.Linear(beta0=[3e-4, 3e-4], beta1=[0, 6e-4], log_sigma=[-20, 1])\n",
    "exp_model = mcmc_utils.Exponential(beta0=[3e-4, 3e-3], beta1=[0,2e-2], log_sigma=[-20, 1])\n",
    "quad_model = mcmc_utils.Quadratic(beta0=[3e-4, 3e-4], beta1=[0, 3e-4], beta2=[0, 3e-4], log_sigma=[-20, 1])"
   ]
  },
  {
   "cell_type": "code",
   "execution_count": null,
   "id": "20",
   "metadata": {},
   "outputs": [],
   "source": [
    "N = 3_000\n",
    "discard = 300"
   ]
  },
  {
   "cell_type": "code",
   "execution_count": null,
   "id": "21",
   "metadata": {},
   "outputs": [],
   "source": [
    "mcmc_utils.plot_prior(lin_model)"
   ]
  },
  {
   "cell_type": "code",
   "execution_count": null,
   "id": "22",
   "metadata": {},
   "outputs": [],
   "source": [
    "mcmc_utils.plot_prior(exp_model, xlims=(-2, 0.3))"
   ]
  },
  {
   "cell_type": "code",
   "execution_count": null,
   "id": "23",
   "metadata": {},
   "outputs": [],
   "source": [
    "mcmc_utils.plot_prior(quad_model)"
   ]
  },
  {
   "cell_type": "markdown",
   "id": "24",
   "metadata": {},
   "source": [
    "# Fit to the yield tables"
   ]
  },
  {
   "cell_type": "code",
   "execution_count": null,
   "id": "25",
   "metadata": {},
   "outputs": [],
   "source": [
    "def get_yield_table(study, **kwargs):\n",
    "    y1, m1, z1 = vice.yields.agb.grid(\"c\", study=study)\n",
    "    mh1 = Z_to_MH(z1)\n",
    "    vice.yields.agb.settings[\"c\"] = agb_interpolator(\"c\", study=study, **kwargs)\n",
    "    y_c_agb1 = np.array([calc_y(z, kind=\"agb\") for z in z1])\n",
    "\n",
    "    return mh1, y_c_agb1, None, None"
   ]
  },
  {
   "cell_type": "code",
   "execution_count": null,
   "id": "26",
   "metadata": {},
   "outputs": [],
   "source": [
    "obs = get_yield_table(\"cristallo11\")"
   ]
  },
  {
   "cell_type": "code",
   "execution_count": null,
   "id": "27",
   "metadata": {},
   "outputs": [],
   "source": [
    "plt.scatter(obs[0], obs[1])"
   ]
  },
  {
   "cell_type": "code",
   "execution_count": null,
   "id": "28",
   "metadata": {},
   "outputs": [],
   "source": [
    "def lin_ls(x, a, b):\n",
    "    return a + b*x\n",
    "\n",
    "def quad_ls(x, a, b, c):\n",
    "    return a + b*x + c*x**2\n",
    "\n",
    "def exp_ls(x, a, b, c):\n",
    "    return a + b*np.exp(c*x)\n"
   ]
  },
  {
   "cell_type": "code",
   "execution_count": null,
   "id": "29",
   "metadata": {},
   "outputs": [],
   "source": [
    "def fit_ls(obs, model, p0=None, color=arya.COLORS[1], **kwargs):\n",
    "    popt, covt = curve_fit(model, obs[0], obs[1], p0=None)\n",
    "\n",
    "    for i in range(len(popt)):\n",
    "        print(f\"{popt[i]:8.3e}  ±  {np.sqrt(covt[i,i]):8.3e}\")\n",
    "\n",
    "    x = np.linspace(np.min(obs[0]), np.max(obs[0]), 1000)\n",
    "    y = model(x, *popt)\n",
    "    plt.plot(x, y, color=color, **kwargs)\n",
    "\n",
    "    return popt"
   ]
  },
  {
   "cell_type": "markdown",
   "id": "30",
   "metadata": {},
   "source": [
    "### Mass factor"
   ]
  },
  {
   "cell_type": "code",
   "execution_count": null,
   "id": "31",
   "metadata": {},
   "outputs": [],
   "source": [
    "y_tot = (2.04 * 0.382 + 2.01)"
   ]
  },
  {
   "cell_type": "code",
   "execution_count": null,
   "id": "32",
   "metadata": {},
   "outputs": [],
   "source": [
    "f_agb = (2.04 * 0.382) / y_tot"
   ]
  },
  {
   "cell_type": "code",
   "execution_count": null,
   "id": "33",
   "metadata": {},
   "outputs": [],
   "source": [
    "alpha_0 = 2.04\n",
    "a_0 = 0.382 "
   ]
  },
  {
   "cell_type": "code",
   "execution_count": null,
   "id": "34",
   "metadata": {},
   "outputs": [],
   "source": [
    "2.3 / 2.04, 1.795 / 2.04"
   ]
  },
  {
   "cell_type": "code",
   "execution_count": null,
   "id": "35",
   "metadata": {},
   "outputs": [],
   "source": [
    "for mass_factor in [0.5, 0.7, 1,1.3, 2]:\n",
    "    print(\"mass factor = \", mass_factor)\n",
    "    obs = get_yield_table(\"cristallo11\", mass_factor=mass_factor)\n",
    "    a, b = fit_ls(obs, lin_ls, color=None)\n",
    "    plt.scatter(obs[0], obs[1])\n",
    "\n",
    "    alpha_exp = alpha_0 * (a) / 0.382\n",
    "    print(\"alpha = \", alpha_exp)\n",
    "    print()"
   ]
  },
  {
   "cell_type": "code",
   "execution_count": null,
   "id": "36",
   "metadata": {},
   "outputs": [],
   "source": [
    "obs = get_yield_table(\"cristallo11\")"
   ]
  },
  {
   "cell_type": "markdown",
   "id": "37",
   "metadata": {},
   "source": [
    "### Normal investivation"
   ]
  },
  {
   "cell_type": "code",
   "execution_count": null,
   "id": "38",
   "metadata": {},
   "outputs": [],
   "source": [
    "samples = mcmc_utils.run_mcmc(lin_model, obs, N=N, discard=discard)"
   ]
  },
  {
   "cell_type": "code",
   "execution_count": null,
   "id": "39",
   "metadata": {},
   "outputs": [],
   "source": [
    "mcmc_utils.plot_posterior(lin_model, obs, samples)\n",
    "fit_ls(obs, lin_ls)"
   ]
  },
  {
   "cell_type": "code",
   "execution_count": null,
   "id": "40",
   "metadata": {},
   "outputs": [],
   "source": [
    "samples = mcmc_utils.run_mcmc(quad_model, obs, N=N, discard=discard)"
   ]
  },
  {
   "cell_type": "code",
   "execution_count": null,
   "id": "41",
   "metadata": {},
   "outputs": [],
   "source": [
    "mcmc_utils.plot_posterior(quad_model, obs, samples)\n",
    "plt.ylim(-0.3e-3, 2e-3)\n",
    "fit_ls(obs, quad_ls)"
   ]
  },
  {
   "cell_type": "code",
   "execution_count": null,
   "id": "42",
   "metadata": {},
   "outputs": [],
   "source": [
    "samples = mcmc_utils.run_mcmc(exp_model, obs, N=N, discard=discard)"
   ]
  },
  {
   "cell_type": "code",
   "execution_count": null,
   "id": "43",
   "metadata": {},
   "outputs": [],
   "source": [
    "mcmc_utils.plot_posterior(exp_model, obs, samples)\n",
    "fit_ls(obs, exp_ls)\n",
    "plt.ylim(-1e-3, 2e-3)"
   ]
  },
  {
   "cell_type": "markdown",
   "id": "44",
   "metadata": {
    "tags": []
   },
   "source": [
    "# V13"
   ]
  },
  {
   "cell_type": "code",
   "execution_count": null,
   "id": "45",
   "metadata": {},
   "outputs": [],
   "source": [
    "obs = get_yield_table(\"ventura13\")\n",
    "\n",
    "plt.scatter(obs[0], obs[1])\n",
    "obs = list(obs)\n",
    "obs[0] = obs[0][1:]\n",
    "obs[1] = obs[1][1:]\n",
    "plt.scatter(obs[0], obs[1])\n"
   ]
  },
  {
   "cell_type": "code",
   "execution_count": null,
   "id": "46",
   "metadata": {},
   "outputs": [],
   "source": [
    "samples = mcmc_utils.run_mcmc(lin_model, obs, N=N, discard=discard)"
   ]
  },
  {
   "cell_type": "code",
   "execution_count": null,
   "id": "47",
   "metadata": {},
   "outputs": [],
   "source": [
    "mcmc_utils.plot_posterior(lin_model, obs, samples)\n",
    "fit_ls(obs, lin_ls)\n"
   ]
  },
  {
   "cell_type": "code",
   "execution_count": null,
   "id": "48",
   "metadata": {},
   "outputs": [],
   "source": [
    "samples = mcmc_utils.run_mcmc(quad_model, obs, N=N, discard=discard)"
   ]
  },
  {
   "cell_type": "code",
   "execution_count": null,
   "id": "49",
   "metadata": {},
   "outputs": [],
   "source": [
    "mcmc_utils.plot_posterior(quad_model, obs, samples)\n",
    "fit_ls(obs, quad_ls)\n"
   ]
  },
  {
   "cell_type": "code",
   "execution_count": null,
   "id": "50",
   "metadata": {},
   "outputs": [],
   "source": [
    "samples = mcmc_utils.run_mcmc(exp_model, obs, N=N, discard=discard)"
   ]
  },
  {
   "cell_type": "code",
   "execution_count": null,
   "id": "51",
   "metadata": {},
   "outputs": [],
   "source": [
    "mcmc_utils.plot_posterior(exp_model, obs, samples)\n",
    "fit_ls(obs, exp_ls)\n",
    "\n",
    "plt.ylim(-1e-3, 2e-3)"
   ]
  },
  {
   "cell_type": "markdown",
   "id": "52",
   "metadata": {
    "jp-MarkdownHeadingCollapsed": true
   },
   "source": [
    "# K16"
   ]
  },
  {
   "cell_type": "code",
   "execution_count": null,
   "id": "53",
   "metadata": {},
   "outputs": [],
   "source": [
    "obs = get_yield_table(\"karakas16\")"
   ]
  },
  {
   "cell_type": "code",
   "execution_count": null,
   "id": "54",
   "metadata": {},
   "outputs": [],
   "source": [
    "plt.scatter(obs[0], obs[1])"
   ]
  },
  {
   "cell_type": "code",
   "execution_count": null,
   "id": "55",
   "metadata": {},
   "outputs": [],
   "source": [
    "samples = mcmc_utils.run_mcmc(lin_model, obs, N=N, discard=discard)"
   ]
  },
  {
   "cell_type": "code",
   "execution_count": null,
   "id": "56",
   "metadata": {},
   "outputs": [],
   "source": [
    "mcmc_utils.plot_posterior(lin_model, obs, samples)\n",
    "fit_ls(obs, lin_ls)\n"
   ]
  },
  {
   "cell_type": "code",
   "execution_count": null,
   "id": "57",
   "metadata": {},
   "outputs": [],
   "source": [
    "samples = mcmc_utils.run_mcmc(quad_model, obs, N=N, discard=discard)"
   ]
  },
  {
   "cell_type": "code",
   "execution_count": null,
   "id": "58",
   "metadata": {},
   "outputs": [],
   "source": [
    "mcmc_utils.plot_posterior(quad_model, obs, samples)\n",
    "fit_ls(obs, quad_ls)\n"
   ]
  },
  {
   "cell_type": "code",
   "execution_count": null,
   "id": "59",
   "metadata": {},
   "outputs": [],
   "source": [
    "samples = mcmc_utils.run_mcmc(exp_model, obs, N=N, discard=discard)"
   ]
  },
  {
   "cell_type": "code",
   "execution_count": null,
   "id": "60",
   "metadata": {},
   "outputs": [],
   "source": [
    "mcmc_utils.plot_posterior(exp_model, obs, samples)\n",
    "fit_ls(obs, exp_ls)\n",
    "\n",
    "plt.ylim(-1e-3, 2e-3)"
   ]
  },
  {
   "cell_type": "markdown",
   "id": "61",
   "metadata": {},
   "source": [
    "# P16"
   ]
  },
  {
   "cell_type": "code",
   "execution_count": null,
   "id": "62",
   "metadata": {},
   "outputs": [],
   "source": [
    "obs = get_yield_table(\"battino19\")"
   ]
  },
  {
   "cell_type": "code",
   "execution_count": null,
   "id": "63",
   "metadata": {},
   "outputs": [],
   "source": [
    "plt.scatter(obs[0], obs[1])"
   ]
  },
  {
   "cell_type": "code",
   "execution_count": null,
   "id": "64",
   "metadata": {},
   "outputs": [],
   "source": [
    "samples = mcmc_utils.run_mcmc(lin_model, obs, N=N, discard=discard)"
   ]
  },
  {
   "cell_type": "code",
   "execution_count": null,
   "id": "65",
   "metadata": {},
   "outputs": [],
   "source": [
    "mcmc_utils.plot_posterior(lin_model, obs, samples)\n",
    "fit_ls(obs, lin_ls)\n"
   ]
  },
  {
   "cell_type": "code",
   "execution_count": null,
   "id": "66",
   "metadata": {},
   "outputs": [],
   "source": [
    "samples = mcmc_utils.run_mcmc(quad_model, obs, N=N, discard=discard)"
   ]
  },
  {
   "cell_type": "code",
   "execution_count": null,
   "id": "67",
   "metadata": {},
   "outputs": [],
   "source": [
    "mcmc_utils.plot_posterior(quad_model, obs, samples)\n",
    "fit_ls(obs, quad_ls)\n",
    "\n",
    "plt.ylim(-0.3e-3, 3e-3)"
   ]
  },
  {
   "cell_type": "code",
   "execution_count": null,
   "id": "68",
   "metadata": {},
   "outputs": [],
   "source": [
    "samples = mcmc_utils.run_mcmc(exp_model, obs, N=N, discard=1000)"
   ]
  },
  {
   "cell_type": "code",
   "execution_count": null,
   "id": "69",
   "metadata": {},
   "outputs": [],
   "source": [
    "mcmc_utils.plot_posterior(exp_model, obs, samples)\n",
    "#fit_ls(obs, exp_ls, p0=[3.5e-3, -2.6e-3, -1.79e1])\n",
    "\n",
    "plt.ylim(-0.3e-3, 3e-3)"
   ]
  },
  {
   "cell_type": "code",
   "execution_count": null,
   "id": "70",
   "metadata": {},
   "outputs": [],
   "source": [
    "obs = get_yield_table(\"pignatari16\")\n",
    "#obs = (obs[0][1:], obs[1][1:], None, None)"
   ]
  },
  {
   "cell_type": "code",
   "execution_count": null,
   "id": "71",
   "metadata": {},
   "outputs": [],
   "source": [
    "plt.scatter(obs[0], obs[1])"
   ]
  },
  {
   "cell_type": "code",
   "execution_count": null,
   "id": "72",
   "metadata": {},
   "outputs": [],
   "source": [
    "samples = mcmc_utils.run_mcmc(lin_model, obs, N=N, discard=discard)"
   ]
  },
  {
   "cell_type": "code",
   "execution_count": null,
   "id": "73",
   "metadata": {},
   "outputs": [],
   "source": [
    "mcmc_utils.plot_posterior(lin_model, obs, samples)\n",
    "fit_ls(obs, lin_ls)\n"
   ]
  },
  {
   "cell_type": "code",
   "execution_count": null,
   "id": "74",
   "metadata": {},
   "outputs": [],
   "source": []
  },
  {
   "cell_type": "markdown",
   "id": "75",
   "metadata": {},
   "source": [
    "# M factor"
   ]
  },
  {
   "cell_type": "code",
   "execution_count": null,
   "id": "76",
   "metadata": {},
   "outputs": [],
   "source": [
    "obs0 = get_yield_table(\"cristallo11\")"
   ]
  },
  {
   "cell_type": "code",
   "execution_count": null,
   "id": "77",
   "metadata": {},
   "outputs": [],
   "source": [
    "obs = get_yield_table(\"cristallo11\", mass_factor = 0.5)"
   ]
  },
  {
   "cell_type": "code",
   "execution_count": null,
   "id": "78",
   "metadata": {},
   "outputs": [],
   "source": [
    "plt.scatter(obs[0], obs[1])\n",
    "plt.scatter(obs0[0], obs0[1])"
   ]
  },
  {
   "cell_type": "code",
   "execution_count": null,
   "id": "79",
   "metadata": {},
   "outputs": [],
   "source": [
    "samples = mcmc_utils.run_mcmc(lin_model, obs, N=N, discard=discard)"
   ]
  },
  {
   "cell_type": "code",
   "execution_count": null,
   "id": "80",
   "metadata": {},
   "outputs": [],
   "source": [
    "mcmc_utils.plot_posterior(lin_model, obs, samples)"
   ]
  },
  {
   "cell_type": "code",
   "execution_count": null,
   "id": "81",
   "metadata": {},
   "outputs": [],
   "source": [
    "samples = mcmc_utils.run_mcmc(quad_model, obs, N=N, discard=discard)"
   ]
  },
  {
   "cell_type": "code",
   "execution_count": null,
   "id": "82",
   "metadata": {},
   "outputs": [],
   "source": [
    "mcmc_utils.plot_posterior(quad_model, obs, samples)"
   ]
  },
  {
   "cell_type": "code",
   "execution_count": null,
   "id": "83",
   "metadata": {},
   "outputs": [],
   "source": [
    "samples = mcmc_utils.run_mcmc(exp_model, obs, N=N, discard=discard)"
   ]
  },
  {
   "cell_type": "code",
   "execution_count": null,
   "id": "84",
   "metadata": {},
   "outputs": [],
   "source": [
    "mcmc_utils.plot_posterior(exp_model, obs, samples)\n",
    "plt.ylim(-1e-3, 2e-3)"
   ]
  },
  {
   "cell_type": "code",
   "execution_count": null,
   "id": "85",
   "metadata": {},
   "outputs": [],
   "source": [
    "get_yield_table"
   ]
  },
  {
   "cell_type": "code",
   "execution_count": null,
   "id": "86",
   "metadata": {},
   "outputs": [],
   "source": []
  }
 ],
 "metadata": {
  "kernelspec": {
   "display_name": "Python 3 (ipykernel)",
   "language": "python",
   "name": "python3"
  },
  "language_info": {
   "codemirror_mode": {
    "name": "ipython",
    "version": 3
   },
   "file_extension": ".py",
   "mimetype": "text/x-python",
   "name": "python",
   "nbconvert_exporter": "python",
   "pygments_lexer": "ipython3",
   "version": "3.11.9"
  }
 },
 "nbformat": 4,
 "nbformat_minor": 5
}
