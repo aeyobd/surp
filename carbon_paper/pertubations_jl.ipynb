{
 "cells": [
  {
   "cell_type": "code",
   "execution_count": null,
   "id": "0",
   "metadata": {},
   "outputs": [],
   "source": [
    "using CairoMakie\n",
    "using Turing\n",
    "using CSV, DataFrames"
   ]
  },
  {
   "cell_type": "code",
   "execution_count": null,
   "id": "1",
   "metadata": {},
   "outputs": [],
   "source": [
    "using PairPlots"
   ]
  },
  {
   "cell_type": "code",
   "execution_count": null,
   "id": "2",
   "metadata": {},
   "outputs": [],
   "source": [
    "subgiants = CSV.read(\"../data/subgiants.csv\", DataFrame)"
   ]
  },
  {
   "cell_type": "code",
   "execution_count": null,
   "id": "3",
   "metadata": {},
   "outputs": [],
   "source": [
    "using FillArrays"
   ]
  },
  {
   "cell_type": "code",
   "execution_count": null,
   "id": "4",
   "metadata": {},
   "outputs": [],
   "source": [
    "FillArrays.I"
   ]
  },
  {
   "cell_type": "code",
   "execution_count": null,
   "id": "5",
   "metadata": {},
   "outputs": [],
   "source": [
    "idx = subgiants.MG_H .> -1\n",
    "idx .&= .!subgiants.high_alpha\n",
    "\n",
    "x = subgiants.MG_H[idx]\n",
    "y = subgiants.C_MG[idx];\n",
    "x_e = subgiants.MG_H_ERR[idx];\n",
    "y_e = subgiants.C_MG_ERR[idx];"
   ]
  },
  {
   "cell_type": "code",
   "execution_count": null,
   "id": "6",
   "metadata": {},
   "outputs": [],
   "source": [
    "sum(idx), sum(.! idx)"
   ]
  },
  {
   "cell_type": "code",
   "execution_count": null,
   "id": "7",
   "metadata": {},
   "outputs": [],
   "source": [
    "scatter(x, y)"
   ]
  },
  {
   "cell_type": "markdown",
   "id": "8",
   "metadata": {},
   "source": [
    "# Linear Model"
   ]
  },
  {
   "cell_type": "code",
   "execution_count": null,
   "id": "9",
   "metadata": {},
   "outputs": [],
   "source": [
    "@model function linear_regression(x, y, x_e, y_e)\n",
    "    log_σ ~ Normal(-2, 0.8)\n",
    "    a ~ Normal(0, 0.4)\n",
    "    b ~ Normal(0, 0.5)\n",
    "\n",
    "    mu = a .+ x*b\n",
    "\n",
    "    s_int = exp(2log_σ)\n",
    "    s_x = b .* x_e\n",
    "    s_y = y_e\n",
    "\n",
    "    σ = @. sqrt(s_int^2 + s_x^2 + s_y^2)\n",
    "    return y ~ MvNormal(mu, σ)\n",
    "\n",
    "end"
   ]
  },
  {
   "cell_type": "code",
   "execution_count": null,
   "id": "10",
   "metadata": {},
   "outputs": [],
   "source": [
    "function plot_samples!(samples, x;\n",
    "        thin=10, color=:black, alpha=nothing, kwargs...)\n",
    "\n",
    "    alpha = 1/size(samples, 1)^(1/3)\n",
    "\n",
    "    for sample in eachrow(samples)[1:thin:end]\n",
    "        y = @. sample.a + sample.b * x\n",
    "        lines!(x, y, color=color, alpha=alpha)\n",
    "    end\n",
    "end"
   ]
  },
  {
   "cell_type": "code",
   "execution_count": null,
   "id": "11",
   "metadata": {},
   "outputs": [],
   "source": [
    "model = linear_regression(x, y, x_e, y_e)"
   ]
  },
  {
   "cell_type": "code",
   "execution_count": null,
   "id": "12",
   "metadata": {},
   "outputs": [],
   "source": [
    "chain = sample(model, NUTS(), 5_000)"
   ]
  },
  {
   "cell_type": "code",
   "execution_count": null,
   "id": "13",
   "metadata": {},
   "outputs": [],
   "source": [
    "samples = DataFrame(chain)"
   ]
  },
  {
   "cell_type": "code",
   "execution_count": null,
   "id": "14",
   "metadata": {},
   "outputs": [],
   "source": [
    "pairplot(chain)"
   ]
  },
  {
   "cell_type": "code",
   "execution_count": null,
   "id": "15",
   "metadata": {},
   "outputs": [],
   "source": [
    "fig = Figure()\n",
    "ax = Axis(fig[1, 1],\n",
    "    limits=(-0.5, 0.5, -0.6, 0.2)\n",
    ")\n",
    "scatter!(x, y, markersize=3, alpha=0.3)\n",
    "\n",
    "plot_samples!(samples, LinRange(-0.5, 0.5, 100))\n",
    "\n",
    "fig"
   ]
  },
  {
   "cell_type": "code",
   "execution_count": null,
   "id": "16",
   "metadata": {},
   "outputs": [],
   "source": []
  }
 ],
 "metadata": {
  "kernelspec": {
   "display_name": "Julia 1.11.0",
   "language": "julia",
   "name": "julia-1.11"
  },
  "language_info": {
   "file_extension": ".jl",
   "mimetype": "application/julia",
   "name": "julia",
   "version": "1.11.0"
  }
 },
 "nbformat": 4,
 "nbformat_minor": 5
}
