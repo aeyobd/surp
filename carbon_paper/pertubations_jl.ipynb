{
 "cells": [
  {
   "cell_type": "markdown",
   "id": "0",
   "metadata": {},
   "source": [
    "# MCMC yield pertubation analysis"
   ]
  },
  {
   "cell_type": "markdown",
   "id": "1",
   "metadata": {},
   "source": [
    "The goal of this investigation is to fit for the combination of yields which best represents APOGEE trends using our multizone model results.\n",
    "Because the abundance evolution of each element is *linear in yields*, we can predict the present-day properties for new combinations of yields. This notebook focuses on the MCMC methods (likelihoods, binning, etc) to understand what works well and the model sensativity. The scientific comparisons and models are instead in the notebook `perturb_results` and in the models `pertubations/mcmc_analysis`.  \n",
    "\n"
   ]
  },
  {
   "cell_type": "markdown",
   "id": "2",
   "metadata": {},
   "source": [
    "## Background"
   ]
  },
  {
   "cell_type": "markdown",
   "id": "3",
   "metadata": {},
   "source": [
    "**Abundance Linearity lemma:**\n",
    "Assume we know the yields for several different processes $y^{i}$ and we know (or calculate) the resulting evolution for each process $Z^{i}(t)$. For any linear combination of $p$ processes $\\{\\alpha_i\\}_{i \\in 1...p} \\in \\mathbb{R}$, if the total yield of the process we are interested in is \n",
    "\n",
    "$$\n",
    "y = \\sum_i \\alpha_i y^i\n",
    "$$\n",
    "Then the resulting abundance evolution is\n",
    "$$\n",
    "Z_X(t) = \\sum_{i} \\alpha_i Z_X^i(t)\n",
    "$$\n",
    "\n",
    "Note that if the metallicity evolution changes and the yields depend on metallicity, than this does not hold. However, to first order, we can use the above property of chemical evolution to understand the space of yields which best reproduces the present day APOGEE measurements.\n"
   ]
  },
  {
   "cell_type": "markdown",
   "id": "4",
   "metadata": {},
   "source": [
    "### Modeling linear combinations.\n",
    "\n",
    "To most approprietly model each linear combination, I take our fiducial model and use Ag as a dummy element. Each model has the same seed so reproduces exactly the same pattern of stars. \n",
    "\n",
    "Additionally, to minimize the impacts on the metallicity evolution, I scale each process down by a factor of $10^6$ and the solar metallicity for each process down by the corresponding amount. Therefore, for a 1x amount of each process, the reported ratios of \\[X/H\\] accurately correspond to $Z_{\\rm C}^{\\rm proc}$. For best practice, each combination of models is best ran on the same vice run, so adding more components is as simple as extending the yield correspondance table above."
   ]
  },
  {
   "cell_type": "code",
   "execution_count": null,
   "id": "5",
   "metadata": {},
   "outputs": [],
   "source": [
    "using CairoMakie\n",
    "using Arya"
   ]
  },
  {
   "cell_type": "code",
   "execution_count": null,
   "id": "6",
   "metadata": {},
   "outputs": [],
   "source": [
    "using CSV, DataFrames\n",
    "import CategoricalArrays: cut\n",
    "using StatsBase\n",
    "using OrderedCollections"
   ]
  },
  {
   "cell_type": "code",
   "execution_count": null,
   "id": "7",
   "metadata": {},
   "outputs": [],
   "source": [
    "using Turing\n",
    "import NaNMath as nm\n",
    "using LinearAlgebra: diagm\n",
    "using PairPlots"
   ]
  },
  {
   "cell_type": "code",
   "execution_count": null,
   "id": "8",
   "metadata": {},
   "outputs": [],
   "source": [
    "using AdvancedMH"
   ]
  },
  {
   "cell_type": "code",
   "execution_count": null,
   "id": "9",
   "metadata": {},
   "outputs": [],
   "source": [
    "import FillArrays: I"
   ]
  },
  {
   "cell_type": "code",
   "execution_count": null,
   "id": "10",
   "metadata": {},
   "outputs": [],
   "source": [
    "solar_z = (;\n",
    "    c = 3.39e-03,\n",
    "    mg = 6.71e-04\n",
    "    )"
   ]
  },
  {
   "cell_type": "code",
   "execution_count": null,
   "id": "11",
   "metadata": {},
   "outputs": [],
   "source": [
    "function C_Mg_to_Z(ag_mg)\n",
    "    return solar_z.c / solar_z.mg * 10 .^ ag_mg\n",
    "end"
   ]
  },
  {
   "cell_type": "code",
   "execution_count": null,
   "id": "12",
   "metadata": {},
   "outputs": [],
   "source": [
    "function C_Mg_to_Z_relerr(ag_mg_err)\n",
    "    return ag_mg_err * log(10)\n",
    "end"
   ]
  },
  {
   "cell_type": "code",
   "execution_count": null,
   "id": "13",
   "metadata": {},
   "outputs": [],
   "source": [
    "using Measurements"
   ]
  },
  {
   "cell_type": "code",
   "execution_count": null,
   "id": "14",
   "metadata": {},
   "outputs": [],
   "source": [
    "function Mg_H_to_Zc(mg_h)\n",
    "    return solar_z.mg * 10 .^ mg_h\n",
    "end"
   ]
  },
  {
   "cell_type": "code",
   "execution_count": null,
   "id": "15",
   "metadata": {},
   "outputs": [],
   "source": [
    "function Zc_to_C_Mg(z_c_mg)\n",
    "    return @. nm.log10(z_c_mg / solar_z.c * solar_z.mg)\n",
    "end"
   ]
  },
  {
   "cell_type": "code",
   "execution_count": null,
   "id": "16",
   "metadata": {},
   "outputs": [],
   "source": [
    "\"\"\"\n",
    "Finds the pickled model with either the given name or the parameters \n",
    "and returns the csv summary\n",
    "\"\"\"\n",
    "function find_model(name)\n",
    "    file_name = \"../models/perturbations/$name/stars.csv\"\n",
    "    model =  CSV.read(file_name, DataFrame)\n",
    "\n",
    "    model[!, \"z_c\"] = C_Mg_to_Z(model[:, \"AG_MG\"])\n",
    "\n",
    "    return model\n",
    "end"
   ]
  },
  {
   "cell_type": "code",
   "execution_count": null,
   "id": "17",
   "metadata": {},
   "outputs": [],
   "source": [
    "function plot_mcmc_results(chain::Chains; bins::Int = 30)\n",
    "    # Extract parameter names\n",
    "    params = chain.name_map.parameters\n",
    "    nparams = length(params)\n",
    "    \n",
    "    # Determine grid layout\n",
    "    nrows = ceil(Int, nparams)\n",
    "    \n",
    "    # Initialize the figure\n",
    "    fig = Figure(size = (600, 200 * nrows), \n",
    "                backgroundcolor = :white)\n",
    "    \n",
    "    # Determine number of chains\n",
    "    nchains = size(chain, 3)\n",
    "        \n",
    "    # Iterate over each parameter\n",
    "    for (i, param) in enumerate(params)\n",
    "\n",
    "        acc_rate = length(unique(chain[:, i, :])) / length(chain[:, i, :])\n",
    "        @info \"Param $param, acc rate $acc_rate\"\n",
    "        # Trace Plot\n",
    "        ax_trace = Axis(fig[i, 1],\n",
    "            xlabel = \"Iteration\",\n",
    "            ylabel = \"$param\",\n",
    "            xgridvisible=false,\n",
    "            ygridvisible=false\n",
    "            )\n",
    "        \n",
    "        # Plot each chain's trace\n",
    "        for c in 1:nchains\n",
    "            samples = chain[:, i, c]\n",
    "            lines!(ax_trace, collect(1:length(samples)), samples, color = c, colorrange=(0, nchains), label = \"Chain $c\")\n",
    "        end\n",
    "        \n",
    "        # Add legend only once\n",
    "        if i == 1 && nchains > 1\n",
    "            axislegend(ax_trace, position = :rt)\n",
    "        end\n",
    "        \n",
    "        # Histogram Plot\n",
    "        ax_hist = Axis(fig[i, 2],\n",
    "            limits=(0, nothing, nothing, nothing),\n",
    "            xgridvisible=false,\n",
    "            ygridvisible=false\n",
    "        )\n",
    "        hidedecorations!(ax_hist)\n",
    "        linkyaxes!(ax_trace, ax_hist)\n",
    "\n",
    "        \n",
    "        # Combine samples from all chains for histogram\n",
    "        combined_samples = vec(chain[:, i, :])\n",
    "        hist!(ax_hist, direction=:x, combined_samples, bins = bins)\n",
    "        \n",
    "        if i < nparams\n",
    "            hidexdecorations!(ax_trace, ticks=false)\n",
    "        end\n",
    "    end\n",
    "\n",
    "    colgap!(fig.layout, 1, 0)\n",
    "    rowgap!(fig.layout, 0)\n",
    "\n",
    "    colsize!(fig.layout, 2, Relative(0.25))\n",
    "\n",
    "    return fig\n",
    "end"
   ]
  },
  {
   "cell_type": "markdown",
   "id": "18",
   "metadata": {
    "jp-MarkdownHeadingCollapsed": true
   },
   "source": [
    "# Data loading"
   ]
  },
  {
   "cell_type": "code",
   "execution_count": null,
   "id": "19",
   "metadata": {},
   "outputs": [],
   "source": [
    "subgiants = CSV.read(\"../data/subgiants.csv\", DataFrame)"
   ]
  },
  {
   "cell_type": "code",
   "execution_count": null,
   "id": "20",
   "metadata": {},
   "outputs": [],
   "source": [
    "subgiants[!, :z_c] = C_Mg_to_Z(subgiants.C_MG)\n",
    "subgiants[!, :z_c_err] =  C_Mg_to_Z_relerr(subgiants.C_MG_ERR) .* subgiants.z_c"
   ]
  },
  {
   "cell_type": "code",
   "execution_count": null,
   "id": "21",
   "metadata": {},
   "outputs": [],
   "source": [
    "fig = Figure()\n",
    "ax = Axis(fig[1, 1], \n",
    "    xlabel=\"[Mg/H]\",\n",
    "    ylabel=\"[Mg/Fe]\",\n",
    "    limits=(-0.6, 0.6, -0.1, 0.5)\n",
    "    )\n",
    "\n",
    "\n",
    "p = scatter!(subgiants.MG_H, subgiants.MG_FE, color=subgiants.C_MG, markersize = 2., colorrange=(-0.5, 0.2))\n",
    "\n",
    "Colorbar(fig[1, 2], p, label=\"[C/Mg]\")\n",
    "\n",
    "fig"
   ]
  },
  {
   "cell_type": "markdown",
   "id": "22",
   "metadata": {},
   "source": [
    "The above scatter plot visualizes the space which subgiant observations occupy. The low alpha sequence (low \\[Mg/Fe\\]) occupies a region between metallicities of -0.4 and 0.4. Almost all stars have \\[Mg/Fe\\] between 0 and 0.4. The vertical slice we use for the bins in \\[Mg/Fe\\] is at -0.1 which spans this entire range as well."
   ]
  },
  {
   "cell_type": "code",
   "execution_count": null,
   "id": "23",
   "metadata": {},
   "outputs": [],
   "source": [
    "model_y0_cc = find_model(\"const_cc\")\n",
    "model_A_cc = find_model(\"quadratic\")\n",
    "model_zeta = find_model(\"piecelin_m2\")\n",
    "model_alpha = find_model(\"analytic\")\n",
    "model_zeta.z_c .-= model_y0_cc.z_c .* 2 # corrects offset\n",
    "\n",
    "model_y0_cc"
   ]
  },
  {
   "cell_type": "code",
   "execution_count": null,
   "id": "24",
   "metadata": {},
   "outputs": [],
   "source": [
    "mg_h_bins = -0.5:0.1:0.35\n",
    "mg_fe_bins = 0.0:0.05:0.30\n",
    "mg_h_0 = -0.1\n",
    "d_mg_h = 0.05"
   ]
  },
  {
   "cell_type": "code",
   "execution_count": null,
   "id": "25",
   "metadata": {},
   "outputs": [],
   "source": [
    "models = Dict(\n",
    "    :alpha => model_alpha,\n",
    "    :zeta0 => model_y0_cc,\n",
    "    :zeta1 => model_zeta,\n",
    "    :zeta2 => model_A_cc,\n",
    "    )"
   ]
  },
  {
   "cell_type": "code",
   "execution_count": null,
   "id": "26",
   "metadata": {},
   "outputs": [],
   "source": [
    "fig = Figure()\n",
    "ax = Axis(fig[1, 1], \n",
    "    xlabel=\"[Mg/H]\",\n",
    "    ylabel=\"[Mg/Fe]\",\n",
    "    limits=(-0.6, 0.6, -0.1, 0.5)\n",
    "    )\n",
    "\n",
    "\n",
    "p = scatter!(model_alpha.MG_H, model_alpha.MG_FE, color=model_alpha.C_MG, markersize = 2., colorrange=(-0.5, 0.2))\n",
    "\n",
    "Colorbar(fig[1, 2], p, label=\"[C/Mg]\")\n",
    "\n",
    "fig"
   ]
  },
  {
   "cell_type": "code",
   "execution_count": null,
   "id": "27",
   "metadata": {},
   "outputs": [],
   "source": [
    "hist(model_y0_cc.MG_H_true[.!model_y0_cc.high_alpha])"
   ]
  },
  {
   "cell_type": "code",
   "execution_count": null,
   "id": "28",
   "metadata": {},
   "outputs": [],
   "source": [
    "hist(model_y0_cc.MG_FE_true[ mg_h_0 - d_mg_h .< model_y0_cc.MG_H_true .< mg_h_0 + d_mg_h])"
   ]
  },
  {
   "cell_type": "markdown",
   "id": "29",
   "metadata": {
    "jp-MarkdownHeadingCollapsed": true
   },
   "source": [
    "# Binning utils"
   ]
  },
  {
   "cell_type": "code",
   "execution_count": null,
   "id": "30",
   "metadata": {},
   "outputs": [],
   "source": [
    "function bin_means(df::DataFrame; x::Symbol=:MG_H_true, bins = mg_h_bins, val::Symbol=:z_c, n_min::Int=3)\n",
    "    Nb = length(bins) - 1\n",
    "\n",
    "    x_bin = cut(df[!, x], bins, extend=missing, labels=1:Nb)\n",
    "\n",
    "    filt = .!ismissing.(x_bin)\n",
    "    df_filtered = copy(df[filt, :])\n",
    "    df_filtered[!, :x_bin] = x_bin[filt]\n",
    "    grouped = groupby(df_filtered, :x_bin)\n",
    "\n",
    "    results = combine(grouped,\n",
    "        val => mean => :med,\n",
    "        x => mean => :xmed,\n",
    "        val => std => :err,\n",
    "        val => length => :counts\n",
    "    )\n",
    "\n",
    "    full_grid = DataFrame(x_bin = 1:Nb)\n",
    "\n",
    "    df_result = leftjoin(full_grid, results, on=:x_bin)\n",
    "\n",
    "    x_bin_mids = midpoints(bins)\n",
    "    df_result.x = getindex.(Ref(x_bin_mids), df_result.x_bin)\n",
    "\n",
    "    filt_missing = ismissing.(df_result.counts)\n",
    "    df_result[filt_missing, :counts] .= 0\n",
    "    df_result[filt_missing, :med] .= 0\n",
    "    df_result[filt_missing, :err] .= 0\n",
    "    #DataFrames.transform!(df_result, :counts => ByRow(count -> count < n_min ? NaN : count) => :counts)\n",
    "    disallowmissing!(df_result)\n",
    "    return df_result\n",
    "end"
   ]
  },
  {
   "cell_type": "code",
   "execution_count": null,
   "id": "31",
   "metadata": {},
   "outputs": [],
   "source": [
    "function bin_caah(df::DataFrame; bins=mg_h_bins, val=:C_MG, x=:MG_H, kwargs...)\n",
    "    filt = .!df.high_alpha\n",
    "    return bin_means(df[filt, :]; x=x, val=val, bins=bins, kwargs...)\n",
    "end"
   ]
  },
  {
   "cell_type": "code",
   "execution_count": null,
   "id": "32",
   "metadata": {},
   "outputs": [],
   "source": [
    "function bin_caafe(df::DataFrame; m_h=:MG_H, m_h_0=mg_h_0, d_m_h=d_mg_h, x=:MG_FE, val=:C_MG, bins=mg_fe_bins, kwargs...)\n",
    "    filt = df[:, m_h] .>= m_h_0 - d_m_h\n",
    "    filt .&= df[:, m_h] .< m_h_0 + d_m_h\n",
    "    return bin_means(df[filt, :]; bins=bins, x=x, val=val, kwargs...)\n",
    "end"
   ]
  },
  {
   "cell_type": "code",
   "execution_count": null,
   "id": "33",
   "metadata": {},
   "outputs": [],
   "source": [
    "function bin_zc_afe(df::DataFrame; m_h=:MG_H_true, m_h_0=mg_h_0, d_m_h=d_mg_h, x=:MG_FE_true, val=:z_c, bins=mg_fe_bins, kwargs...)\n",
    "    filt = df[:, m_h] .>= m_h_0 - d_m_h\n",
    "    filt .&= df[:, m_h] .< m_h_0 + d_m_h\n",
    "    return bin_means(df[filt, :]; bins=bins, x=x, val=val, kwargs...)\n",
    "end"
   ]
  },
  {
   "cell_type": "code",
   "execution_count": null,
   "id": "34",
   "metadata": {},
   "outputs": [],
   "source": [
    "function bin_zc_ah(df::DataFrame;x=:MG_H_true, val=:z_c, bins=mg_h_bins, kwargs...)\n",
    "    filt = .!df.high_alpha\n",
    "    return bin_means(df[filt, :]; bins=bins, x=x, val=val, kwargs...)\n",
    "end"
   ]
  },
  {
   "cell_type": "code",
   "execution_count": null,
   "id": "35",
   "metadata": {},
   "outputs": [],
   "source": [
    "function bin_all(models, observations=subgiants;\n",
    "        mg_h_bins=mg_h_bins, mg_fe_bins=mg_fe_bins, \n",
    "        mg_h_0=mg_h_0, d_mg_h=d_mg_h\n",
    "    )\n",
    "\n",
    "    labels = keys(models)\n",
    "\n",
    "    ah_dfs = Dict(label => bin_zc_ah(model, bins=mg_h_bins) \n",
    "        for (label, model) in models)\n",
    "    \n",
    "    afe_dfs = Dict(label => bin_zc_afe(model, bins=mg_fe_bins, \n",
    "            m_h_0=mg_h_0, d_m_h=d_mg_h) \n",
    "        for (label, model) in models)\n",
    "\n",
    "    ah_obs = bin_zc_ah(observations, bins=mg_h_bins, x=:MG_H, val=:z_c)\n",
    "    afe_obs = bin_zc_afe(observations, bins=mg_fe_bins, \n",
    "        val=:z_c, x=:MG_FE, m_h=:MG_H,\n",
    "            m_h_0=mg_h_0, d_m_h=d_mg_h)\n",
    "\n",
    "    \n",
    "\n",
    "    ah_binned = DataFrame([label => df.med for (label, df) in ah_dfs]...)\n",
    "    afe_binned = DataFrame([label => df.med for (label, df) in afe_dfs]...)\n",
    "\n",
    "    for label in labels\n",
    "        ah_binned[:, (\"$(label)_err\")] = ah_dfs[label].err\n",
    "        afe_binned[:, (\"$(label)_err\")] = afe_dfs[label].err\n",
    "        ah_binned[:, (\"$(label)_counts\")] = ah_dfs[label].counts\n",
    "        afe_binned[:, (\"$(label)_counts\")] = afe_dfs[label].counts\n",
    "    end\n",
    "\n",
    "    ah_binned[!, :obs] = ah_obs.med\n",
    "    ah_binned[!, :obs_err] = ah_obs.err\n",
    "    ah_binned[!, :obs_counts] = ah_obs.counts\n",
    "    ah_binned[!, :x] = midpoints(mg_h_bins)\n",
    "    \n",
    "    afe_binned[!, :obs] = afe_obs.med\n",
    "    afe_binned[!, :obs_err] = afe_obs.err\n",
    "    afe_binned[!, :obs_counts] = afe_obs.counts\n",
    "    afe_binned[!, :x] = midpoints(mg_fe_bins)\n",
    "\n",
    "\n",
    "    return ah_binned, afe_binned, labels\n",
    "end"
   ]
  },
  {
   "cell_type": "code",
   "execution_count": null,
   "id": "36",
   "metadata": {},
   "outputs": [],
   "source": [
    "function plot_ah_models(ah, labels)\n",
    "    fig, ax = FigAxis(\n",
    "        xlabel=\"[Mg/H]\",\n",
    "        ylabel=\"Zc / Zmg / Zmg(sun) (for process)\",\n",
    "    )\n",
    "    \n",
    "    for label in labels\n",
    "        lines!(mg_h_m, ah[:, label] .* solar_z[:mg], label=string(label))\n",
    "    end\n",
    "    \n",
    "    \n",
    "    errscatter!(mg_h_m, ah.obs .* solar_z[:mg], yerr=ah.obs_err .* solar_z[:mg])\n",
    "    axislegend()\n",
    "    fig\n",
    "\n",
    "end"
   ]
  },
  {
   "cell_type": "code",
   "execution_count": null,
   "id": "37",
   "metadata": {},
   "outputs": [],
   "source": [
    "function plot_afe_models(afe, labels)\n",
    "    fig, ax = FigAxis(\n",
    "        xlabel=\"[Mg/Fe]\",\n",
    "        ylabel=\"Zc / Zmg /Zmg(sun) (for process)\",\n",
    "    )\n",
    "    \n",
    "    for label in labels\n",
    "        lines!(afe.x, afe[:, label] .* solar_z[:mg], label=string(label))\n",
    "    end\n",
    "    \n",
    "    errscatter!(afe.x, afe.obs .* solar_z[:mg], yerr=afe.obs_err .* solar_z[:mg])\n",
    "    \n",
    "    axislegend()\n",
    "    fig\n",
    "\n",
    "end"
   ]
  },
  {
   "cell_type": "code",
   "execution_count": null,
   "id": "38",
   "metadata": {},
   "outputs": [],
   "source": [
    "function plot_samples_ah!(afe, samples, labels;\n",
    "        thin=10, color=:black, alpha=nothing, kwargs...)\n",
    "    \n",
    "    if alpha === nothing\n",
    "        alpha = 1/size(samples, 1)^(1/3)\n",
    "    end\n",
    "\n",
    "    for sample in eachrow(samples)[1:thin:end]\n",
    "        y = sum(sample[\"params[$i]\"] * afe[:, label]  for (i, label) in enumerate(labels))\n",
    "        \n",
    "        lines!(afe.x, y, color=color, alpha=alpha)\n",
    "    end\n",
    "\n",
    "    errscatter!(afe.x, afe.obs, yerr=afe.obs_err, color=COLORS[2])\n",
    "end"
   ]
  },
  {
   "cell_type": "code",
   "execution_count": null,
   "id": "39",
   "metadata": {},
   "outputs": [],
   "source": [
    "function plot_samples_caah!(afe, samples, labels;\n",
    "        thin=10, color=:black, alpha=nothing, kwargs...)\n",
    "    \n",
    "    if alpha === nothing\n",
    "        alpha = 1/size(samples, 1)^(1/3)\n",
    "    end\n",
    "\n",
    "    for sample in eachrow(samples)[1:thin:end]\n",
    "        y = sum(sample[\"params[$i]\"] * afe[:, label]  for (i, label) in enumerate(labels))\n",
    "        \n",
    "        lines!(afe.x, Zc_to_C_Mg.(y), color=color, alpha=alpha)\n",
    "    end\n",
    "\n",
    "    errscatter!(afe.x, Zc_to_C_Mg.(afe.obs), yerr=afe.obs_err ./ afe.obs ./ sqrt.(afe.obs_counts) ./ log(10), color=COLORS[2])\n",
    "end"
   ]
  },
  {
   "cell_type": "code",
   "execution_count": null,
   "id": "40",
   "metadata": {},
   "outputs": [],
   "source": [
    "function plot_samples_afe!(afe, samples, labels;\n",
    "        thin=10, color=:black, alpha=nothing, kwargs...)\n",
    "    \n",
    "    if alpha === nothing\n",
    "        alpha = 1/size(samples, 1)^(1/3)\n",
    "    end\n",
    "    \n",
    "    for sample in eachrow(samples)[1:thin:end]\n",
    "        y = sum(sample[\"params[$i]\"] * afe[:, label]  for (i, label) in enumerate(labels))\n",
    "        \n",
    "        lines!(afe.x, y, color=color, alpha=alpha)\n",
    "    end\n",
    "\n",
    "    errscatter!(afe.x, afe.obs, yerr=afe.obs_err, color=COLORS[2])\n",
    "end"
   ]
  },
  {
   "cell_type": "code",
   "execution_count": null,
   "id": "41",
   "metadata": {},
   "outputs": [],
   "source": [
    "ah, afe, labels = bin_all(models, mg_h_bins=mg_h_bins, mg_fe_bins=mg_fe_bins)"
   ]
  },
  {
   "cell_type": "code",
   "execution_count": null,
   "id": "42",
   "metadata": {},
   "outputs": [],
   "source": [
    "plot_ah_models(ah, labels)"
   ]
  },
  {
   "cell_type": "code",
   "execution_count": null,
   "id": "43",
   "metadata": {},
   "outputs": [],
   "source": [
    "plot_afe_models(afe, labels)"
   ]
  },
  {
   "cell_type": "markdown",
   "id": "44",
   "metadata": {
    "jp-MarkdownHeadingCollapsed": true
   },
   "source": [
    "# N component model"
   ]
  },
  {
   "cell_type": "code",
   "execution_count": null,
   "id": "45",
   "metadata": {},
   "outputs": [],
   "source": [
    "\n",
    "# Helper function to compute model contribution\n",
    "function compute_model_contribution(params, model)\n",
    "    return sum(p * model[key] for (p, key) in zip(params, keys(model)))\n",
    "end\n",
    "\n",
    "@model function n_component_model(data1, data2, models, priors)\n",
    "    # Check if priors are provided, and set defaults if not\n",
    "    if isempty(priors)\n",
    "        n_params = length(keys(models))\n",
    "        priors = [Normal(0, 1) for _ in 1:n_params]  # Default priors if none are specified\n",
    "    end\n",
    "    \n",
    "    # Create parameters based on the specified priors\n",
    "    params ~ arraydist(priors)\n",
    "    \n",
    "    # Compute model contributions for each dataset\n",
    "    mu1 = compute_model_contribution(params, models)\n",
    "    mu2 = compute_model_contribution(params, models)  # This could be adjusted if different model terms are needed\n",
    "    \n",
    "    # Data likelihoods\n",
    "    y ~ MvNormal(mu1, diagm(data1[:errors] .^ 2))\n",
    "    y2 ~ MvNormal(mu2, diagm(data2[:errors] .^ 2))\n",
    "end"
   ]
  },
  {
   "cell_type": "code",
   "execution_count": null,
   "id": "46",
   "metadata": {},
   "outputs": [],
   "source": [
    "@model function fit_3_comp_model(x, y, y_e, x2, y2, y_e2, models, models2; m_h_0=mg_h_0)\n",
    "    y0_cc ~ Normal(2, 1)\n",
    "    α ~ Normal(2, 1)\n",
    "    ζ ~ Normal(0, 1)\n",
    "\n",
    "    Zc = y0_cc * models[:y0_cc] .+ α * models[:alpha] .+ ζ * models[:zeta_cc]\n",
    "\n",
    "    mu = Zc_to_C_H.(Zc) .- x\n",
    "    y1_pred = mu\n",
    "\n",
    "    Zc2 = y0_cc * models2[:y0_cc] .+ α * models2[:alpha] .+ ζ * models2[:zeta_cc]\n",
    "    mu2 = Zc_to_C_H.(Zc2) .- mg_h_0\n",
    "\n",
    "    \n",
    "    y ~ MvNormal(mu, diagm(y_e .^ 2))\n",
    "    y2 ~ MvNormal(mu2,  diagm(y_e2 .^ 2))\n",
    "end"
   ]
  },
  {
   "cell_type": "code",
   "execution_count": null,
   "id": "47",
   "metadata": {},
   "outputs": [],
   "source": [
    "function plot_samples!(samples, x, models;\n",
    "        thin=10, color=:black, alpha=nothing, kwargs...)\n",
    "\n",
    "    if alpha === nothing\n",
    "        alpha = 1/size(samples, 1)^(1/3)\n",
    "    end\n",
    "    \n",
    "    for sample in eachrow(samples)[1:thin:end]\n",
    "        y = @. sample.α * models[:alpha] + sample.y0_cc * models[:y0_cc] + sample.ζ * models[:zeta_cc]\n",
    "        lines!(x, Zc_to_C_H(y) .- x, color=color, alpha=alpha)\n",
    "    end\n",
    "end"
   ]
  },
  {
   "cell_type": "code",
   "execution_count": null,
   "id": "48",
   "metadata": {},
   "outputs": [],
   "source": [
    "function plot_samples_afe!(samples, x, models;\n",
    "        thin=10, color=:black, alpha=nothing, kwargs...)\n",
    "\n",
    "    if alpha === nothing\n",
    "        alpha = 1/size(samples, 1)^(1/3)\n",
    "    end\n",
    "    \n",
    "    for sample in eachrow(samples)[1:thin:end]\n",
    "        y = @. sample.α * models[:alpha] + sample.y0_cc * models[:y0_cc] + sample.ζ * models[:zeta_cc]\n",
    "        lines!(x, Zc_to_C_H(y) .- mg_h_0, color=color, alpha=alpha)\n",
    "    end\n",
    "end"
   ]
  },
  {
   "cell_type": "code",
   "execution_count": null,
   "id": "49",
   "metadata": {},
   "outputs": [],
   "source": [
    "y = disallowmissing(subgiants_binned_ah.med)\n",
    "yerr = disallowmissing(subgiants_binned_ah.err)# ./ sqrt.(subgiants_binned.counts)\n",
    "x = disallowmissing(subgiants_binned_ah.x)\n",
    "\n",
    "y2 = disallowmissing(subgiants_binned_afe.med)\n",
    "yerr2 = disallowmissing(subgiants_binned_afe.err)# ./ sqrt.(subgiants_binned2.counts)\n",
    "x2 = disallowmissing(subgiants_binned_afe.x)"
   ]
  },
  {
   "cell_type": "code",
   "execution_count": null,
   "id": "50",
   "metadata": {},
   "outputs": [],
   "source": [
    "yerr"
   ]
  },
  {
   "cell_type": "code",
   "execution_count": null,
   "id": "51",
   "metadata": {},
   "outputs": [],
   "source": [
    "model_med_ah = Dict(label => disallowmissing(model.med) for (label, model) in models_zc_ah)\n",
    "model_med_afe = Dict(label => disallowmissing(model.med) for (label, model) in models_zc_afe)"
   ]
  },
  {
   "cell_type": "code",
   "execution_count": null,
   "id": "52",
   "metadata": {},
   "outputs": [],
   "source": [
    "model = fit_3_comp_model(x, y, yerr, x2, y2, yerr2, model_med_ah, model_med_afe)"
   ]
  },
  {
   "cell_type": "code",
   "execution_count": null,
   "id": "53",
   "metadata": {},
   "outputs": [],
   "source": [
    "chain = sample(model, NUTS(0.65), 5_000)"
   ]
  },
  {
   "cell_type": "code",
   "execution_count": null,
   "id": "54",
   "metadata": {},
   "outputs": [],
   "source": [
    "samples = DataFrame(chain)"
   ]
  },
  {
   "cell_type": "code",
   "execution_count": null,
   "id": "55",
   "metadata": {},
   "outputs": [],
   "source": [
    "pairplot(chain)"
   ]
  },
  {
   "cell_type": "code",
   "execution_count": null,
   "id": "56",
   "metadata": {},
   "outputs": [],
   "source": [
    "fig = Figure()\n",
    "ax = Axis(fig[1, 1],\n",
    "    #limits=(-0.5, 0.3, -0.2, 0.0),\n",
    "    xgridvisible=false,\n",
    "    ygridvisible=false,\n",
    "    xlabel=\"[Mg/H]\",\n",
    "    ylabel=\"[C/Mg] (low alpha)\",\n",
    ")\n",
    "\n",
    "\n",
    "plot_samples!(samples, x, model_med_ah, alpha=0.008)\n",
    "errscatter!(x, y, yerr=yerr)\n",
    "\n",
    "fig"
   ]
  },
  {
   "cell_type": "code",
   "execution_count": null,
   "id": "57",
   "metadata": {},
   "outputs": [],
   "source": [
    "fig = Figure()\n",
    "ax = Axis(fig[1, 1],\n",
    "    xlabel=\"[Mg/Fe]\",\n",
    "    ylabel=L\"\\textrm{mean([C/Mg]) | [Mg/H] }\\in [%$(round(mg_h_0-d_mg_h, digits=2)), %$(round(mg_h_0+d_mg_h, digits=2))]\",\n",
    "    xgridvisible=false,\n",
    "    ygridvisible=false,\n",
    ")\n",
    "\n",
    "\n",
    "plot_samples_afe!(samples, x2, model_med_afe, alpha=0.008, label=\"mean subgiants\")\n",
    "errscatter!(x2, y2, yerr=yerr2, label=\"mean samples\")\n",
    "\n",
    "axislegend()\n",
    "fig"
   ]
  },
  {
   "cell_type": "code",
   "execution_count": null,
   "id": "58",
   "metadata": {},
   "outputs": [],
   "source": [
    "@model function fit_4_comp_model(x, y, y_e, x2, y2, y_e2, models, models2; m_h_0=mg_h_0)\n",
    "    y0_cc ~ Normal(2, 1)\n",
    "    α ~ Normal(2, 1)\n",
    "    ζ ~ Normal(0, 1)\n",
    "    A ~ Normal(0, 1)\n",
    "\n",
    "    Zc = y0_cc * models[:y0_cc] .+ α * models[:alpha] .+ ζ * models[:zeta_cc] .+ A * models[:A_cc]\n",
    "\n",
    "    mu = Zc_to_C_H.(Zc) .- x\n",
    "    y1_pred = mu\n",
    "\n",
    "    Zc2 = y0_cc * models2[:y0_cc] .+ α * models2[:alpha] .+ ζ * models2[:zeta_cc] .+ A * models2[:A_cc]\n",
    "    mu2 = Zc_to_C_H.(Zc2) .- mg_h_0\n",
    "\n",
    "    \n",
    "    y ~ MvNormal(mu, diagm(y_e .^ 2))\n",
    "    y2 ~ MvNormal(mu2,  diagm(y_e2 .^ 2))\n",
    "end"
   ]
  },
  {
   "cell_type": "code",
   "execution_count": null,
   "id": "59",
   "metadata": {},
   "outputs": [],
   "source": [
    "function plot_samples!(samples, x, models;\n",
    "        thin=10, color=:black, alpha=nothing, kwargs...)\n",
    "\n",
    "    if alpha === nothing\n",
    "        alpha = 1/size(samples, 1)^(1/3)\n",
    "    end\n",
    "    \n",
    "    for sample in eachrow(samples)[1:thin:end]\n",
    "        y = @. sample.α * models[:alpha] + sample.y0_cc * models[:y0_cc] + sample.ζ * models[:zeta_cc] + sample.A * models[:A_cc]\n",
    "        lines!(x, Zc_to_C_H(y) .- x, color=color, alpha=alpha)\n",
    "    end\n",
    "end"
   ]
  },
  {
   "cell_type": "code",
   "execution_count": null,
   "id": "60",
   "metadata": {},
   "outputs": [],
   "source": [
    "scatter(subgiants.MG_H, subgiants.MG_H_ERR)"
   ]
  },
  {
   "cell_type": "code",
   "execution_count": null,
   "id": "61",
   "metadata": {},
   "outputs": [],
   "source": [
    "function plot_samples_afe!(samples, x, models;\n",
    "        thin=10, color=:black, alpha=nothing, kwargs...)\n",
    "\n",
    "    if alpha === nothing\n",
    "        alpha = 1/size(samples, 1)^(1/3)\n",
    "    end\n",
    "    \n",
    "    for sample in eachrow(samples)[1:thin:end]\n",
    "        y = @. sample.α * models[:alpha] + sample.y0_cc * models[:y0_cc] + sample.ζ * models[:zeta_cc] + sample.A * models[:A_cc]\n",
    "        lines!(x, Zc_to_C_H(y) .- mg_h_0, color=color, alpha=alpha)\n",
    "    end\n",
    "end"
   ]
  },
  {
   "cell_type": "code",
   "execution_count": null,
   "id": "62",
   "metadata": {},
   "outputs": [],
   "source": [
    "y = disallowmissing(subgiants_binned_ah.med)\n",
    "yerr = disallowmissing(subgiants_binned_ah.err)# ./ sqrt.(subgiants_binned.counts)\n",
    "x = disallowmissing(subgiants_binned_ah.x)\n",
    "\n",
    "y2 = disallowmissing(subgiants_binned_afe.med)\n",
    "yerr2 = disallowmissing(subgiants_binned_afe.err)# ./ sqrt.(subgiants_binned2.counts)\n",
    "x2 = disallowmissing(subgiants_binned_afe.x)"
   ]
  },
  {
   "cell_type": "code",
   "execution_count": null,
   "id": "63",
   "metadata": {},
   "outputs": [],
   "source": [
    "yerr"
   ]
  },
  {
   "cell_type": "code",
   "execution_count": null,
   "id": "64",
   "metadata": {},
   "outputs": [],
   "source": [
    "model = fit_4_comp_model(x, y, yerr, x2, y2, yerr2, model_med_ah, model_med_afe)"
   ]
  },
  {
   "cell_type": "code",
   "execution_count": null,
   "id": "65",
   "metadata": {},
   "outputs": [],
   "source": [
    "chain = sample(model, NUTS(0.65), 50_000)"
   ]
  },
  {
   "cell_type": "code",
   "execution_count": null,
   "id": "66",
   "metadata": {},
   "outputs": [],
   "source": [
    "samples = DataFrame(chain)"
   ]
  },
  {
   "cell_type": "code",
   "execution_count": null,
   "id": "67",
   "metadata": {},
   "outputs": [],
   "source": [
    "CSV.write(\"mcmc_samples/samples_analytic.csv\", samples)"
   ]
  },
  {
   "cell_type": "code",
   "execution_count": null,
   "id": "68",
   "metadata": {},
   "outputs": [],
   "source": [
    "fig = pairplot(chain, labels=Dict(\n",
    "        :y0_cc=>L\"y_0^\\textrm{CC}\",\n",
    "        :α => L\"\\alpha_\\textrm{C}^\\textrm{AGB}\",\n",
    "        :ζ => L\"\\zeta_\\textrm{C}^\\textrm{CC}\",\n",
    "        :A => L\"A_\\textrm{C}^\\textrm{CC}\",\n",
    "    )\n",
    ")\n",
    "\n",
    "save(\"figures/mcmc_multizone_corner.pdf\", fig)\n",
    "\n",
    "fig"
   ]
  },
  {
   "cell_type": "code",
   "execution_count": null,
   "id": "69",
   "metadata": {},
   "outputs": [],
   "source": [
    "fig = Figure(size=(600, 300))\n",
    "ax = Axis(fig[1, 1],\n",
    "    #limits=(-0.5, 0.3, -0.2, 0.0),\n",
    "    xgridvisible=false,\n",
    "    ygridvisible=false,\n",
    "    xlabel=\"[Mg/H]\",\n",
    "    ylabel=\"[C/Mg]\",\n",
    ")\n",
    "\n",
    "\n",
    "plot_samples!(samples[1:10:end, :], x, model_med_ah, alpha=0.008)\n",
    "errscatter!(x, y, yerr=yerr, color=COLORS[2])\n",
    "\n",
    "\n",
    "ax = Axis(fig[1, 2],\n",
    "    xlabel=\"[Mg/Fe]\",\n",
    "    ylabel=L\"\\textrm{[C/Mg]}\",\n",
    "    xgridvisible=false,\n",
    "    ygridvisible=false,\n",
    ")\n",
    "\n",
    "\n",
    "plot_samples_afe!(samples[1:10:end, :], x2, model_med_afe, alpha=0.008)\n",
    "errscatter!(x2, y2, yerr=yerr2, color=COLORS[2])\n",
    "\n",
    "\n",
    "fig"
   ]
  },
  {
   "cell_type": "markdown",
   "id": "70",
   "metadata": {},
   "source": [
    "# Chi2 model"
   ]
  },
  {
   "cell_type": "code",
   "execution_count": null,
   "id": "71",
   "metadata": {},
   "outputs": [],
   "source": [
    "@code_warntype @model function n_component_model(models_ah, models_afe, labels, priors)\n",
    "    # Create parameters based on the specified priors\n",
    "    params ~ arraydist(priors)\n",
    "    \n",
    "    # Compute model contributions for each dataset\n",
    "    mu_ah = sum(p * models_ah[:, key] for (p, key) in zip(params, labels))\n",
    "    mu_afe = sum(p * models_afe[:, key] for (p, key) in zip(params, labels))\n",
    "    \n",
    "    # Data likelihoods\n",
    "\n",
    "    sigma_ah = models_ah.obs_err ./ sqrt.(models_ah.obs_counts)\n",
    "    sigma_afe = models_afe.obs_err ./ sqrt.(models_afe.obs_counts)\n",
    "    \n",
    "    models_ah.obs ~ MvNormal(mu_ah, diagm(sigma_ah .^ 2))\n",
    "    models_afe.obs ~ MvNormal(mu_afe, diagm(sigma_afe .^ 2))\n",
    "end"
   ]
  },
  {
   "cell_type": "code",
   "execution_count": null,
   "id": "72",
   "metadata": {},
   "outputs": [],
   "source": [
    "function plot_samples_ah!(afe, samples, labels;\n",
    "        thin=10, color=:black, alpha=nothing, kwargs...)\n",
    "    \n",
    "    if alpha === nothing\n",
    "        alpha = 1/size(samples, 1)^(1/3)\n",
    "    end\n",
    "\n",
    "    for sample in eachrow(samples)[1:thin:end]\n",
    "        y = sum(sample[\"params[$i]\"] * afe[:, label]  for (i, label) in enumerate(labels))\n",
    "        \n",
    "        lines!(afe.x, y, color=color, alpha=alpha)\n",
    "    end\n",
    "\n",
    "    errscatter!(afe.x, afe.obs, yerr=afe.obs_err, color=COLORS[2])\n",
    "end"
   ]
  },
  {
   "cell_type": "code",
   "execution_count": null,
   "id": "73",
   "metadata": {},
   "outputs": [],
   "source": [
    "function plot_samples_caah!(afe, samples, labels;\n",
    "        thin=10, color=:black, alpha=nothing, kwargs...)\n",
    "    \n",
    "    if alpha === nothing\n",
    "        alpha = 1/size(samples, 1)^(1/3)\n",
    "    end\n",
    "\n",
    "    for sample in eachrow(samples)[1:thin:end]\n",
    "        y = sum(sample[\"params[$i]\"] * afe[:, label]  for (i, label) in enumerate(labels))\n",
    "        \n",
    "        lines!(afe.x, Zc_to_C_Mg.(y), color=color, alpha=alpha)\n",
    "    end\n",
    "\n",
    "    errscatter!(afe.x, Zc_to_C_Mg.(afe.obs), yerr=afe.obs_err ./ afe.obs ./ sqrt.(afe.obs_counts) ./ log(10), color=COLORS[2])\n",
    "end"
   ]
  },
  {
   "cell_type": "code",
   "execution_count": null,
   "id": "74",
   "metadata": {},
   "outputs": [],
   "source": [
    "function plot_samples_afe!(afe, samples, labels;\n",
    "        thin=10, color=:black, alpha=nothing, kwargs...)\n",
    "    \n",
    "    if alpha === nothing\n",
    "        alpha = 1/size(samples, 1)^(1/3)\n",
    "    end\n",
    "    \n",
    "    for sample in eachrow(samples)[1:thin:end]\n",
    "        y = sum(sample[\"params[$i]\"] * afe[:, label]  for (i, label) in enumerate(labels))\n",
    "        \n",
    "        lines!(afe.x, y, color=color, alpha=alpha)\n",
    "    end\n",
    "\n",
    "    errscatter!(afe.x, afe.obs, yerr=afe.obs_err, color=COLORS[2])\n",
    "end"
   ]
  },
  {
   "cell_type": "code",
   "execution_count": null,
   "id": "75",
   "metadata": {},
   "outputs": [],
   "source": [
    "priors = Dict(\n",
    "    :alpha => Normal(1, 6),\n",
    "    :zeta0 => Normal(2, 6),\n",
    "    :zeta1 => Normal(0, 6),\n",
    "    :zeta2 => Normal(0, 6)\n",
    "    )"
   ]
  },
  {
   "cell_type": "code",
   "execution_count": null,
   "id": "76",
   "metadata": {},
   "outputs": [],
   "source": [
    "priors = [priors[label] for label in labels]"
   ]
  },
  {
   "cell_type": "code",
   "execution_count": null,
   "id": "77",
   "metadata": {},
   "outputs": [],
   "source": [
    "model = n_component_model(ah, afe, labels, priors\n",
    ")"
   ]
  },
  {
   "cell_type": "code",
   "execution_count": null,
   "id": "78",
   "metadata": {},
   "outputs": [],
   "source": [
    "s = externalsampler(AdvancedMH.RWMH(4))"
   ]
  },
  {
   "cell_type": "code",
   "execution_count": null,
   "id": "79",
   "metadata": {},
   "outputs": [],
   "source": [
    "chain = sample(model, s, 30_000)"
   ]
  },
  {
   "cell_type": "code",
   "execution_count": null,
   "id": "80",
   "metadata": {},
   "outputs": [],
   "source": [
    "samples = DataFrame(chain)"
   ]
  },
  {
   "cell_type": "code",
   "execution_count": null,
   "id": "81",
   "metadata": {},
   "outputs": [],
   "source": [
    "fig = pairplot(chain[2000:end], labels=Dict(\n",
    "        Symbol(\"params[$i]\") => string(label) for (i, label) in enumerate(labels)\n",
    "    )\n",
    ")"
   ]
  },
  {
   "cell_type": "code",
   "execution_count": null,
   "id": "82",
   "metadata": {},
   "outputs": [],
   "source": [
    "model = n_component_model(ah, afe, labels, priors\n",
    ")"
   ]
  },
  {
   "cell_type": "code",
   "execution_count": null,
   "id": "83",
   "metadata": {},
   "outputs": [],
   "source": [
    "chain = sample(model, NUTS(0.65), 10_000)"
   ]
  },
  {
   "cell_type": "code",
   "execution_count": null,
   "id": "84",
   "metadata": {},
   "outputs": [],
   "source": [
    "samples = DataFrame(chain)"
   ]
  },
  {
   "cell_type": "code",
   "execution_count": null,
   "id": "85",
   "metadata": {},
   "outputs": [],
   "source": [
    "fig = pairplot(chain, labels=Dict(\n",
    "        Symbol(\"params[$i]\") => string(label) for (i, label) in enumerate(labels)\n",
    "    )\n",
    ")"
   ]
  },
  {
   "cell_type": "code",
   "execution_count": null,
   "id": "86",
   "metadata": {},
   "outputs": [],
   "source": [
    "model = n_component_model(ah, afe, labels, priors\n",
    ")"
   ]
  },
  {
   "cell_type": "code",
   "execution_count": null,
   "id": "87",
   "metadata": {},
   "outputs": [],
   "source": [
    "chain = sample(model, NUTS(0.65), 10_000)"
   ]
  },
  {
   "cell_type": "code",
   "execution_count": null,
   "id": "88",
   "metadata": {},
   "outputs": [],
   "source": [
    "samples = DataFrame(chain)"
   ]
  },
  {
   "cell_type": "code",
   "execution_count": null,
   "id": "89",
   "metadata": {},
   "outputs": [],
   "source": [
    "fig = pairplot(chain, labels=Dict(\n",
    "        Symbol(\"params[$i]\") => string(label) for (i, label) in enumerate(labels)\n",
    "    )\n",
    ")"
   ]
  },
  {
   "cell_type": "code",
   "execution_count": null,
   "id": "90",
   "metadata": {},
   "outputs": [],
   "source": [
    "fig = Figure()\n",
    "ax = Axis(fig[1, 1],\n",
    "    xlabel=\"[Mg/H]\",\n",
    "    ylabel=\"mean Z_C / Zmg\",\n",
    ")\n",
    "\n",
    "\n",
    "plot_samples_ah!(ah, samples, labels, thin=100)\n",
    "\n",
    "fig"
   ]
  },
  {
   "cell_type": "code",
   "execution_count": null,
   "id": "91",
   "metadata": {},
   "outputs": [],
   "source": [
    "fig = Figure()\n",
    "ax = Axis(fig[1, 1],\n",
    "    xlabel=\"[Mg/H]\",\n",
    "    ylabel=\"mean Z_C / Zmg\",\n",
    ")\n",
    "\n",
    "\n",
    "plot_samples_caah!(ah, samples, labels, thin=100)\n",
    "\n",
    "fig"
   ]
  },
  {
   "cell_type": "code",
   "execution_count": null,
   "id": "92",
   "metadata": {},
   "outputs": [],
   "source": [
    "fig = Figure()\n",
    "ax = Axis(fig[1, 1],\n",
    "    xlabel=\"[Mg/Fe]\",\n",
    "    ylabel=\"mean Z_C\",\n",
    ")\n",
    "\n",
    "\n",
    "plot_samples_afe!(afe, samples, labels, thin=100)\n",
    "\n",
    "fig"
   ]
  },
  {
   "cell_type": "markdown",
   "id": "93",
   "metadata": {},
   "source": [
    "## Binning choices"
   ]
  },
  {
   "cell_type": "markdown",
   "id": "94",
   "metadata": {},
   "source": [
    "## Both uncertanties"
   ]
  },
  {
   "cell_type": "code",
   "execution_count": null,
   "id": "95",
   "metadata": {},
   "outputs": [],
   "source": [
    "@model function n_component_model_both(models_ah, models_afe, labels, priors)\n",
    "    # Create parameters based on the specified priors\n",
    "    params ~ arraydist(priors)\n",
    "    \n",
    "    # Compute model contributions for each dataset\n",
    "    mu_ah = sum(p * models_ah[:, key] for (p, key) in zip(params, labels))\n",
    "    mu_afe = sum(p * models_afe[:, key] for (p, key) in zip(params, labels))\n",
    "    sem_ah = sum(p * models_ah[:, Symbol(\"$(key)_err\")] ./ sqrt.(models_ah[:, Symbol(\"$(key)_counts\")])  for (p, key) in zip(params, labels))\n",
    "    sem_afe = sum(p * models_afe[:, Symbol(\"$(key)_err\")] ./ sqrt.(models_afe[:, Symbol(\"$(key)_counts\")]) for (p, key) in zip(params, labels))\n",
    "    \n",
    "    # Data likelihoods\n",
    "\n",
    "    sigma_ah = models_ah.obs_err ./ sqrt.(models_ah.obs_counts)\n",
    "    sigma_afe = models_afe.obs_err ./ sqrt.(models_afe.obs_counts)\n",
    "\n",
    "    sigma2_ah = @. sigma_ah^2 + sem_ah^2 \n",
    "    sigma2_afe = @. sigma_afe^2 + sem_afe^2 \n",
    "    \n",
    "    models_ah.obs ~ MvNormal(mu_ah, diagm(sigma2_ah))\n",
    "    models_afe.obs ~ MvNormal(mu_afe, diagm(sigma2_afe))\n",
    "end"
   ]
  },
  {
   "cell_type": "code",
   "execution_count": null,
   "id": "96",
   "metadata": {},
   "outputs": [],
   "source": [
    "priors = Dict(\n",
    "    :alpha => Normal(1, 1),\n",
    "    :zeta0 => Normal(2, 1),\n",
    "    :zeta1 => Normal(0, 1),\n",
    "    :zeta2 => Normal(0, 2)\n",
    "    )"
   ]
  },
  {
   "cell_type": "code",
   "execution_count": null,
   "id": "97",
   "metadata": {},
   "outputs": [],
   "source": [
    "priors = [priors[label] for label in labels]"
   ]
  },
  {
   "cell_type": "code",
   "execution_count": null,
   "id": "98",
   "metadata": {},
   "outputs": [],
   "source": [
    "model = n_component_model_both(ah, afe, labels, priors\n",
    ")"
   ]
  },
  {
   "cell_type": "code",
   "execution_count": null,
   "id": "99",
   "metadata": {},
   "outputs": [],
   "source": [
    "chain = sample(model, NUTS(0.65), 10_000)"
   ]
  },
  {
   "cell_type": "code",
   "execution_count": null,
   "id": "100",
   "metadata": {},
   "outputs": [],
   "source": [
    "samples = DataFrame(chain)"
   ]
  },
  {
   "cell_type": "code",
   "execution_count": null,
   "id": "101",
   "metadata": {},
   "outputs": [],
   "source": [
    "fig = pairplot(chain, labels=Dict(\n",
    "        Symbol(\"params[$i]\") => string(label) for (i, label) in enumerate(labels)\n",
    "    )\n",
    ")"
   ]
  },
  {
   "cell_type": "code",
   "execution_count": null,
   "id": "102",
   "metadata": {},
   "outputs": [],
   "source": [
    "fig = Figure()\n",
    "ax = Axis(fig[1, 1],\n",
    "    xlabel=\"[Mg/H]\",\n",
    "    ylabel=\"mean Z_C / Zmg\",\n",
    ")\n",
    "\n",
    "\n",
    "plot_samples_ah!(ah, samples, labels, thin=100)\n",
    "\n",
    "fig"
   ]
  },
  {
   "cell_type": "code",
   "execution_count": null,
   "id": "103",
   "metadata": {},
   "outputs": [],
   "source": [
    "fig = Figure()\n",
    "ax = Axis(fig[1, 1],\n",
    "    xlabel=\"[Mg/H]\",\n",
    "    ylabel=\"mean Z_C / Zmg\",\n",
    ")\n",
    "\n",
    "\n",
    "plot_samples_caah!(ah, samples, labels, thin=100)\n",
    "\n",
    "fig"
   ]
  },
  {
   "cell_type": "code",
   "execution_count": null,
   "id": "104",
   "metadata": {},
   "outputs": [],
   "source": [
    "fig = Figure()\n",
    "ax = Axis(fig[1, 1],\n",
    "    xlabel=\"[Mg/Fe]\",\n",
    "    ylabel=\"mean Z_C\",\n",
    ")\n",
    "\n",
    "\n",
    "plot_samples_afe!(afe, samples, labels, thin=100)\n",
    "\n",
    "fig"
   ]
  },
  {
   "cell_type": "markdown",
   "id": "105",
   "metadata": {},
   "source": [
    "# Divergence methods"
   ]
  },
  {
   "cell_type": "markdown",
   "id": "106",
   "metadata": {},
   "source": [
    "This section explores some much more computationally heavier but more sophisticated models using likelihoods of statistical divergences between probability distributions."
   ]
  },
  {
   "cell_type": "markdown",
   "id": "107",
   "metadata": {},
   "source": [
    "## Utilities & friends"
   ]
  },
  {
   "cell_type": "code",
   "execution_count": null,
   "id": "108",
   "metadata": {},
   "outputs": [],
   "source": [
    "using PythonCall\n",
    "emcee = pyimport(\"emcee\")"
   ]
  },
  {
   "cell_type": "code",
   "execution_count": null,
   "id": "109",
   "metadata": {},
   "outputs": [],
   "source": [
    "function get_simple_variables(model)\n",
    "    model_labels = bijector(model, Val(true))[2]\n",
    "\n",
    "    labels = Vector{Symbol, undef}()\n",
    "    for label in keys(model_labels)\n",
    "        idx = model_labels[key]\n",
    "        @assert length(idx) == 1\n",
    "        @assert length(idx[1]) == 1\n",
    "\n",
    "        labels[idx[1][1]] = label\n",
    "    end\n",
    "\n",
    "    return labels\n",
    "end\n",
    "        \n"
   ]
  },
  {
   "cell_type": "code",
   "execution_count": null,
   "id": "110",
   "metadata": {},
   "outputs": [],
   "source": [
    "function sample_emcee(model, steps; nwalkers=nothing, progress=true, kwargs...)\n",
    "    model_labels = bijector(model, Val(true))[2]\n",
    "\n",
    "    # these are a named tuple\n",
    "    variables = keys(model_labels) |> collect\n",
    "    # add up number of indicies in bijection for dimensionality\n",
    "    ndim = sum(length(vcat(idxs...)) for idxs in model_labels)\n",
    "    \n",
    "    if nwalkers === nothing\n",
    "        nwalkers = 2*ndim\n",
    "    end\n",
    "    \n",
    "    function py_log_prob(theta)\n",
    "        vars = (; [k => theta[model_labels[k]...] for k in variables]...)\n",
    "        lp = logprior(model, vars)\n",
    "        if isfinite(lp)\n",
    "            lp += loglikelihood(model, vars)\n",
    "        end\n",
    "            \n",
    "        return lp\n",
    "    end\n",
    "\n",
    "    # sample from prior for initial conditions\n",
    "    samples_prior = sample(model, Prior(), nwalkers)\n",
    "    p0 = samples_prior.value[:, 1:ndim, 1].data\n",
    "\n",
    "    # python run\n",
    "    sammy = emcee.EnsembleSampler(nwalkers, ndim, py_log_prob)\n",
    "    sammy.run_mcmc(p0, steps; progress=progress, kwargs...)\n",
    "\n",
    "    #convert back to julia object\n",
    "    chain = pyconvert(Array{Float64}, sammy.get_chain())\n",
    "    chain = permutedims(chain, (1, 3, 2)) # emcee orderes differently\n",
    "    varnames = samples_prior.name_map.parameters\n",
    "    chain = Chains(chain, varnames)\n",
    "\n",
    "    return chain\n",
    "end"
   ]
  },
  {
   "cell_type": "code",
   "execution_count": null,
   "id": "111",
   "metadata": {},
   "outputs": [],
   "source": [
    "function bin_values_to_list(df::DataFrame; x::Symbol=:MG_H_true, bins = mg_h_bins, val::Symbol=:z_c)\n",
    "    Nb = length(bins) - 1\n",
    "\n",
    "    # Create bin identifiers for the x dimension\n",
    "    x_bin = cut(df[!, x], bins, extend=missing, labels=1:Nb)\n",
    "\n",
    "    # Filter out any rows with missing bin assignments\n",
    "    filt = .!ismissing.(x_bin)\n",
    "    df_filtered = copy(df[filt, :])\n",
    "    df_filtered[!, :x_bin] = x_bin[filt]\n",
    "\n",
    "    # Initialize a dictionary to store values for each bin\n",
    "    bin_dict = Dict{Int, Vector{eltype(df[!, val])}}()\n",
    "    for i in 1:Nb\n",
    "        bin_dict[i] = Vector{eltype(df[!, val])}()\n",
    "    end\n",
    "\n",
    "    # Group the DataFrame by bins and populate the dictionary\n",
    "    grouped = groupby(df_filtered, :x_bin)\n",
    "\n",
    "    for group in grouped\n",
    "        bin_number = first(group.x_bin)\n",
    "        bin_dict[bin_number] = group[!, val] |> collect\n",
    "    end\n",
    "\n",
    "    return [bin_dict[i] for i in 1:Nb]\n",
    "end"
   ]
  },
  {
   "cell_type": "code",
   "execution_count": null,
   "id": "112",
   "metadata": {},
   "outputs": [],
   "source": [
    "function bin_zc_afe_list(df::DataFrame; m_h=:MG_H_true, m_h_0=mg_h_0, d_m_h=d_mg_h, x=:MG_FE_true, val=:z_c, bins=mg_fe_bins, kwargs...)\n",
    "    filt = df[:, m_h] .>= m_h_0 - d_m_h\n",
    "    filt .&= df[:, m_h] .< m_h_0 + d_m_h\n",
    "    return bin_values_to_list(df[filt, :]; bins=bins, x=x, val=val, kwargs...)\n",
    "end"
   ]
  },
  {
   "cell_type": "code",
   "execution_count": null,
   "id": "113",
   "metadata": {},
   "outputs": [],
   "source": [
    "function bin_zc_ah_list(df::DataFrame;x=:MG_H_true, val=:z_c, bins=mg_h_bins, kwargs...)\n",
    "    filt = .!df.high_alpha\n",
    "    return bin_values_to_list(df[filt, :]; bins=bins, x=x, val=val, kwargs...)\n",
    "end"
   ]
  },
  {
   "cell_type": "code",
   "execution_count": null,
   "id": "114",
   "metadata": {},
   "outputs": [],
   "source": [
    "function bin_all_to_list(models, observations=subgiants;\n",
    "        mg_h_bins=mg_h_bins, mg_fe_bins=mg_fe_bins, \n",
    "        mg_h_0=mg_h_0, d_mg_h=d_mg_h\n",
    "    )\n",
    "\n",
    "    labels = keys(models) |> collect\n",
    "\n",
    "    ah_dfs = Dict(label => bin_zc_ah_list(model, bins=mg_h_bins) \n",
    "        for (label, model) in models)\n",
    "    \n",
    "    afe_dfs = Dict(label => bin_zc_afe_list(model, bins=mg_fe_bins, \n",
    "            m_h_0=mg_h_0, d_m_h=d_mg_h) \n",
    "        for (label, model) in models)\n",
    "\n",
    "    ah_dfs[:obs] = bin_zc_ah_list(observations, bins=mg_h_bins, x=:MG_H, val=:z_c) .|> sort\n",
    "    afe_dfs[:obs] = bin_zc_afe_list(observations, bins=mg_fe_bins, \n",
    "        val=:z_c, x=:MG_FE, m_h=:MG_H,\n",
    "            m_h_0=mg_h_0, d_m_h=d_mg_h) .|> sort\n",
    "\n",
    "    \n",
    "\n",
    "    idx_ah = [sortperm(df) for df in ah_dfs[labels[1]]]\n",
    "    idx_afe = [sortperm(df) for df in afe_dfs[labels[1]]]\n",
    "\n",
    "    for label in labels\n",
    "        ah_dfs[label] = [df[idx] for (df, idx) in zip(ah_dfs[label], idx_ah)]\n",
    "        afe_dfs[label] = [df[idx] for (df, idx) in zip(afe_dfs[label], idx_afe)]\n",
    "\n",
    "    end\n",
    "\n",
    "    \n",
    "    return ah_dfs, afe_dfs\n",
    "end"
   ]
  },
  {
   "cell_type": "code",
   "execution_count": null,
   "id": "115",
   "metadata": {},
   "outputs": [],
   "source": [
    "ah_list, afe_list = bin_all_to_list(models);"
   ]
  },
  {
   "cell_type": "code",
   "execution_count": null,
   "id": "116",
   "metadata": {},
   "outputs": [],
   "source": [
    "fig = Figure()\n",
    "ax = Axis(fig[1,1])\n",
    "\n",
    "for label in [labels; :obs]\n",
    "    ys = []\n",
    "    N = length(ah_list[label])\n",
    "    \n",
    "    for i in 1:N\n",
    "        push!(ys, mean(ah_list[label][i]))\n",
    "    end\n",
    "\n",
    "    scatter!(1:N, ys, label=string(label))\n",
    "        \n",
    "end\n",
    "\n",
    "axislegend()\n",
    "fig"
   ]
  },
  {
   "cell_type": "code",
   "execution_count": null,
   "id": "117",
   "metadata": {},
   "outputs": [],
   "source": [
    "fig = Figure()\n",
    "ax = Axis(fig[1,1])\n",
    "\n",
    "i = 3\n",
    "for label in labels\n",
    "    stephist!(ah_list[label][i], label=string(label))\n",
    "end\n",
    "\n",
    "axislegend()\n",
    "fig"
   ]
  },
  {
   "cell_type": "code",
   "execution_count": null,
   "id": "118",
   "metadata": {},
   "outputs": [],
   "source": [
    "fig = Figure()\n",
    "ax = Axis(fig[1,1])\n",
    "\n",
    "i = 6\n",
    "for label in labels\n",
    "    stephist!(afe_list[label][i], label=string(label))\n",
    "end\n",
    "\n",
    "axislegend()\n",
    "fig"
   ]
  },
  {
   "cell_type": "code",
   "execution_count": null,
   "id": "119",
   "metadata": {},
   "outputs": [],
   "source": [
    "using HypothesisTests"
   ]
  },
  {
   "cell_type": "code",
   "execution_count": null,
   "id": "120",
   "metadata": {},
   "outputs": [],
   "source": [
    "@model function  divergence_model(models_ah, models_afe, labels, priors, p_func)\n",
    "    # Create parameters based on the specified priors\n",
    "    params ~ arraydist(priors)\n",
    "    \n",
    "    ah_obs = models_ah[:obs]\n",
    "    afe_obs = models_afe[:obs]\n",
    "\n",
    "    Nb_ah = length(ah_obs)\n",
    "\n",
    "    LLtot = 0\n",
    "    for i in 1:Nb_ah\n",
    "        ah_pred = sum(p * models_ah[key][i] for (p, key) in zip(params, labels)) \n",
    "        obs = ah_obs[i]\n",
    "        L = p_func(obs, ah_pred)\n",
    "        @Turing.addlogprob!(L)\n",
    "\n",
    "        LLtot += (L)\n",
    "    end\n",
    "\n",
    "    Nb_afe = length(afe_obs)\n",
    "\n",
    "    for i in 1:Nb_afe\n",
    "        afe_pred = sum(p * models_afe[key][i] for (p, key) in zip(params, labels))\n",
    "        obs = afe_obs[i]\n",
    "\n",
    "        L = p_func(obs, afe_pred)\n",
    "        @Turing.addlogprob!(L)\n",
    "        \n",
    "        LLtot += (L)\n",
    "    end\n",
    "\n",
    "    \n",
    "end"
   ]
  },
  {
   "cell_type": "code",
   "execution_count": null,
   "id": "121",
   "metadata": {},
   "outputs": [],
   "source": [
    "priors = Dict(\n",
    "    :alpha => Normal(1, 1),\n",
    "    :zeta0 => Normal(2, 1),\n",
    "    :zeta1 => Normal(1, 0.5),\n",
    "    :zeta2 => Normal(2, 0.5)\n",
    "    )"
   ]
  },
  {
   "cell_type": "code",
   "execution_count": null,
   "id": "122",
   "metadata": {},
   "outputs": [],
   "source": [
    "labels = keys(models) |> collect"
   ]
  },
  {
   "cell_type": "code",
   "execution_count": null,
   "id": "123",
   "metadata": {},
   "outputs": [],
   "source": [
    "priors = [priors[label] for label in labels]"
   ]
  },
  {
   "cell_type": "markdown",
   "id": "124",
   "metadata": {
    "jp-MarkdownHeadingCollapsed": true
   },
   "source": [
    "### Mean"
   ]
  },
  {
   "cell_type": "code",
   "execution_count": null,
   "id": "125",
   "metadata": {},
   "outputs": [],
   "source": [
    "metric(x, y) = -(mean(x) - mean(y))^2 / (sem(y))^2"
   ]
  },
  {
   "cell_type": "code",
   "execution_count": null,
   "id": "126",
   "metadata": {},
   "outputs": [],
   "source": [
    "priors = Dict(\n",
    "    :alpha => Normal(0.5, 0.25),\n",
    "    :zeta0 => Normal(2, 0.25),\n",
    "    :zeta1 => Normal(2, 0.5),\n",
    "    :zeta2 => Normal(2, 0.5)\n",
    "    )\n",
    "\n",
    "priors = [priors[label] for label in labels]"
   ]
  },
  {
   "cell_type": "code",
   "execution_count": null,
   "id": "127",
   "metadata": {},
   "outputs": [],
   "source": [
    "model = divergence_model(ah_list, afe_list, labels, priors,  metric);"
   ]
  },
  {
   "cell_type": "code",
   "execution_count": null,
   "id": "128",
   "metadata": {},
   "outputs": [],
   "source": [
    "chain = sample_emcee(model, 1_000, nwalkers=16)"
   ]
  },
  {
   "cell_type": "code",
   "execution_count": null,
   "id": "129",
   "metadata": {},
   "outputs": [],
   "source": [
    "burn = 300"
   ]
  },
  {
   "cell_type": "code",
   "execution_count": null,
   "id": "130",
   "metadata": {},
   "outputs": [],
   "source": [
    "plot_mcmc_results(chain[burn:end])"
   ]
  },
  {
   "cell_type": "code",
   "execution_count": null,
   "id": "131",
   "metadata": {},
   "outputs": [],
   "source": [
    "fig = pairplot(chain[burn:end], labels=Dict(\n",
    "        Symbol(\"params[$i]\") => string(label) for (i, label) in enumerate(labels)\n",
    "    )\n",
    ")"
   ]
  },
  {
   "cell_type": "code",
   "execution_count": null,
   "id": "132",
   "metadata": {},
   "outputs": [],
   "source": [
    "samples = DataFrame(chain[burn:end])"
   ]
  },
  {
   "cell_type": "code",
   "execution_count": null,
   "id": "133",
   "metadata": {},
   "outputs": [],
   "source": [
    "fig = Figure()\n",
    "ax = Axis(fig[1, 1],\n",
    "    xlabel=\"[Mg/H]\",\n",
    "    ylabel=\"mean Z_C / Zmg\",\n",
    ")\n",
    "\n",
    "\n",
    "plot_samples_ah!(ah, samples, labels, thin=10)\n",
    "\n",
    "fig"
   ]
  },
  {
   "cell_type": "code",
   "execution_count": null,
   "id": "134",
   "metadata": {},
   "outputs": [],
   "source": [
    "fig = Figure()\n",
    "ax = Axis(fig[1, 1],\n",
    "    xlabel=\"[Mg/Fe]\",\n",
    "    ylabel=\"mean Z_C\",\n",
    ")\n",
    "\n",
    "\n",
    "plot_samples_afe!(afe, samples, labels, thin=10)\n",
    "\n",
    "fig"
   ]
  },
  {
   "cell_type": "markdown",
   "id": "135",
   "metadata": {
    "jp-MarkdownHeadingCollapsed": true
   },
   "source": [
    "### T test"
   ]
  },
  {
   "cell_type": "code",
   "execution_count": null,
   "id": "136",
   "metadata": {},
   "outputs": [],
   "source": [
    "metric(x, y) = log(pvalue(OneSampleTTest(x, median(y))))\n"
   ]
  },
  {
   "cell_type": "code",
   "execution_count": null,
   "id": "137",
   "metadata": {},
   "outputs": [],
   "source": [
    "model = divergence_model(ah_list, afe_list, labels, priors,  metric);"
   ]
  },
  {
   "cell_type": "markdown",
   "id": "138",
   "metadata": {},
   "source": [
    "Gradient-based samplers (at least NUTS) struggle in performace with this model, likely because of vector sorting / etc. I believe the only non-gradient models are PG and MH (and Gibbs of those two), so lets just use PG for now."
   ]
  },
  {
   "cell_type": "code",
   "execution_count": null,
   "id": "139",
   "metadata": {},
   "outputs": [],
   "source": [
    "chain = sample_emcee(model, 3_000, nwalkers=16)"
   ]
  },
  {
   "cell_type": "code",
   "execution_count": null,
   "id": "140",
   "metadata": {},
   "outputs": [],
   "source": [
    "burn = 500"
   ]
  },
  {
   "cell_type": "code",
   "execution_count": null,
   "id": "141",
   "metadata": {},
   "outputs": [],
   "source": [
    "chain_filt = dropdims(mean(chain[:, 1, :], dims=1) .> 0, dims=1)"
   ]
  },
  {
   "cell_type": "code",
   "execution_count": null,
   "id": "142",
   "metadata": {},
   "outputs": [],
   "source": [
    "samples = DataFrame(chain[burn:end, :, chain_filt])"
   ]
  },
  {
   "cell_type": "code",
   "execution_count": null,
   "id": "143",
   "metadata": {},
   "outputs": [],
   "source": [
    "fig = pairplot(chain[burn:end, :, chain_filt], labels=Dict(\n",
    "        Symbol(\"params[$i]\") => string(label) for (i, label) in enumerate(labels)\n",
    "    )\n",
    ")"
   ]
  },
  {
   "cell_type": "code",
   "execution_count": null,
   "id": "144",
   "metadata": {},
   "outputs": [],
   "source": [
    "plot_mcmc_results(chain[burn:end, :, chain_filt])"
   ]
  },
  {
   "cell_type": "code",
   "execution_count": null,
   "id": "145",
   "metadata": {},
   "outputs": [],
   "source": [
    "fig = Figure()\n",
    "ax = Axis(fig[1, 1],\n",
    "    xlabel=\"[Mg/H]\",\n",
    "    ylabel=\"mean Z_C / Zmg\",\n",
    ")\n",
    "\n",
    "\n",
    "plot_samples_ah!(ah, samples, labels, thin=100)\n",
    "\n",
    "fig"
   ]
  },
  {
   "cell_type": "code",
   "execution_count": null,
   "id": "146",
   "metadata": {},
   "outputs": [],
   "source": [
    "fig = Figure()\n",
    "ax = Axis(fig[1, 1],\n",
    "    xlabel=\"[Mg/Fe]\",\n",
    "    ylabel=\"mean Z_C\",\n",
    ")\n",
    "\n",
    "\n",
    "plot_samples_afe!(afe, samples, labels, thin=10)\n",
    "\n",
    "fig"
   ]
  },
  {
   "cell_type": "markdown",
   "id": "147",
   "metadata": {
    "jp-MarkdownHeadingCollapsed": true
   },
   "source": [
    "### U model"
   ]
  },
  {
   "cell_type": "code",
   "execution_count": null,
   "id": "148",
   "metadata": {},
   "outputs": [],
   "source": [
    "metric(x, y) = log(pvalue(MannWhitneyUTest(x, y)))\n"
   ]
  },
  {
   "cell_type": "code",
   "execution_count": null,
   "id": "149",
   "metadata": {},
   "outputs": [],
   "source": [
    "ah_list"
   ]
  },
  {
   "cell_type": "code",
   "execution_count": null,
   "id": "150",
   "metadata": {},
   "outputs": [],
   "source": [
    "@time metric(ah_list[:alpha][1], ah_list[:zeta1][1])"
   ]
  },
  {
   "cell_type": "code",
   "execution_count": null,
   "id": "151",
   "metadata": {},
   "outputs": [],
   "source": [
    "model = divergence_model(ah_list, afe_list, labels, priors,  metric);"
   ]
  },
  {
   "cell_type": "markdown",
   "id": "152",
   "metadata": {},
   "source": [
    "Gradient-based samplers (at least NUTS) struggle in performace with this model, likely because of vector sorting / etc. I believe the only non-gradient models are PG and MH (and Gibbs of those two), so lets just use PG for now."
   ]
  },
  {
   "cell_type": "code",
   "execution_count": null,
   "id": "153",
   "metadata": {},
   "outputs": [],
   "source": [
    "chain = sample_emcee(model, 1000, nwalkers=8)"
   ]
  },
  {
   "cell_type": "code",
   "execution_count": null,
   "id": "154",
   "metadata": {},
   "outputs": [],
   "source": [
    "burn = 300"
   ]
  },
  {
   "cell_type": "code",
   "execution_count": null,
   "id": "155",
   "metadata": {},
   "outputs": [],
   "source": [
    "chain_filt = dropdims(mean(chain[:, 1, :], dims=1).data .< 1, dims=1)"
   ]
  },
  {
   "cell_type": "code",
   "execution_count": null,
   "id": "156",
   "metadata": {},
   "outputs": [],
   "source": [
    "samples = DataFrame(chain[burn:end, :, chain_filt])"
   ]
  },
  {
   "cell_type": "code",
   "execution_count": null,
   "id": "157",
   "metadata": {},
   "outputs": [],
   "source": [
    "plot_mcmc_results(chain[burn:end, :, :])"
   ]
  },
  {
   "cell_type": "code",
   "execution_count": null,
   "id": "158",
   "metadata": {},
   "outputs": [],
   "source": [
    "plot_mcmc_results(chain[burn:end, :, chain_filt])"
   ]
  },
  {
   "cell_type": "code",
   "execution_count": null,
   "id": "159",
   "metadata": {},
   "outputs": [],
   "source": [
    "fig = pairplot(chain[burn:end, :, chain_filt], labels=Dict(\n",
    "        Symbol(\"params[$i]\") => string(label) for (i, label) in enumerate(labels)\n",
    "    )\n",
    ")"
   ]
  },
  {
   "cell_type": "code",
   "execution_count": null,
   "id": "160",
   "metadata": {},
   "outputs": [],
   "source": [
    "fig = Figure()\n",
    "ax = Axis(fig[1, 1],\n",
    "    xlabel=\"[Mg/H]\",\n",
    "    ylabel=\"mean Z_C / Zmg\",\n",
    ")\n",
    "\n",
    "\n",
    "plot_samples_ah!(ah, samples, labels, thin=100)\n",
    "\n",
    "fig"
   ]
  },
  {
   "cell_type": "code",
   "execution_count": null,
   "id": "161",
   "metadata": {},
   "outputs": [],
   "source": [
    "fig = Figure()\n",
    "ax = Axis(fig[1, 1],\n",
    "    xlabel=\"[Mg/Fe]\",\n",
    "    ylabel=\"mean Z_C\",\n",
    ")\n",
    "\n",
    "\n",
    "plot_samples_afe!(afe, samples, labels, thin=10)\n",
    "\n",
    "fig"
   ]
  },
  {
   "cell_type": "markdown",
   "id": "162",
   "metadata": {},
   "source": [
    "### KS test (hypothesistest)"
   ]
  },
  {
   "cell_type": "code",
   "execution_count": null,
   "id": "163",
   "metadata": {},
   "outputs": [],
   "source": [
    "metric(x, y) = log(pvalue(HypothesisTests.ApproximateTwoSampleKSTest(x, y)))\n"
   ]
  },
  {
   "cell_type": "code",
   "execution_count": null,
   "id": "164",
   "metadata": {},
   "outputs": [],
   "source": [
    "model = divergence_model(ah_list, afe_list, labels, priors,  metric);"
   ]
  },
  {
   "cell_type": "markdown",
   "id": "165",
   "metadata": {},
   "source": [
    "Gradient-based samplers (at least NUTS) struggle in performace with this model, likely because of vector sorting / etc. I believe the only non-gradient models are PG and MH (and Gibbs of those two), so lets just use PG for now."
   ]
  },
  {
   "cell_type": "code",
   "execution_count": null,
   "id": "166",
   "metadata": {},
   "outputs": [],
   "source": [
    "chain = sample_emcee(model, 10_000, nwalkers=8)"
   ]
  },
  {
   "cell_type": "code",
   "execution_count": null,
   "id": "167",
   "metadata": {},
   "outputs": [],
   "source": [
    "chain_filt = dropdims(mean(chain[:, 1, :], dims=1).data .> 0, dims=1)"
   ]
  },
  {
   "cell_type": "code",
   "execution_count": null,
   "id": "168",
   "metadata": {},
   "outputs": [],
   "source": [
    "samples = DataFrame(chain[burn:end, :, chain_filt])"
   ]
  },
  {
   "cell_type": "code",
   "execution_count": null,
   "id": "169",
   "metadata": {},
   "outputs": [],
   "source": [
    "samples_all = DataFrame(chain)\n",
    "rename!(samples_all, collect(\"params[$i]\" => labels[i] for i in eachindex(labels))...)\n"
   ]
  },
  {
   "cell_type": "code",
   "execution_count": null,
   "id": "170",
   "metadata": {},
   "outputs": [],
   "source": [
    "CSV.write(\"mcmc_samples/kstest_samples.csv\", samples_all)"
   ]
  },
  {
   "cell_type": "code",
   "execution_count": null,
   "id": "171",
   "metadata": {},
   "outputs": [],
   "source": [
    "plot_mcmc_results(chain[burn:end, :, chain_filt])"
   ]
  },
  {
   "cell_type": "code",
   "execution_count": null,
   "id": "172",
   "metadata": {},
   "outputs": [],
   "source": [
    "fig = pairplot(chain[burn:end, :, chain_filt], labels=Dict(\n",
    "        Symbol(\"params[$i]\") => string(label) for (i, label) in enumerate(labels)\n",
    "    )\n",
    ")"
   ]
  },
  {
   "cell_type": "code",
   "execution_count": null,
   "id": "173",
   "metadata": {},
   "outputs": [],
   "source": [
    "fig = Figure()\n",
    "ax = Axis(fig[1, 1],\n",
    "    xlabel=\"[Mg/H]\",\n",
    "    ylabel=\"mean Z_C / Zmg\",\n",
    ")\n",
    "\n",
    "\n",
    "plot_samples_ah!(ah, samples, labels, thin=100)\n",
    "\n",
    "fig"
   ]
  },
  {
   "cell_type": "code",
   "execution_count": null,
   "id": "174",
   "metadata": {},
   "outputs": [],
   "source": [
    "fig = Figure()\n",
    "ax = Axis(fig[1, 1],\n",
    "    xlabel=\"[Mg/Fe]\",\n",
    "    ylabel=\"mean Z_C\",\n",
    ")\n",
    "\n",
    "\n",
    "plot_samples_afe!(afe, samples, labels, thin=10)\n",
    "\n",
    "fig"
   ]
  },
  {
   "cell_type": "markdown",
   "id": "175",
   "metadata": {
    "jp-MarkdownHeadingCollapsed": true
   },
   "source": [
    "# 2D methods (binned"
   ]
  },
  {
   "cell_type": "code",
   "execution_count": null,
   "id": "176",
   "metadata": {},
   "outputs": [],
   "source": [
    "function bin_means_2d(df::DataFrame; x::Symbol=:MG_H_true, y::Symbol=:MG_FE_true, x_bins = mg_h_bins, y_bins = mg_fe_bins, val::Symbol=:z_c, n_min::Int=3)\n",
    "    # Determine the number of bins in each dimension\n",
    "    Nb_x = length(x_bins) - 1\n",
    "    Nb_y = length(y_bins) - 1\n",
    "\n",
    "    # Create bin identifiers for x and y dimensions\n",
    "    x_bin = cut(df[!, x], x_bins, extend=missing, labels=1:Nb_x)\n",
    "    y_bin = cut(df[!, y], y_bins, extend=missing, labels=1:Nb_y)\n",
    "\n",
    "    # Filter out any rows with missing bin assignments\n",
    "    filt = .!ismissing.(x_bin) .&& .!ismissing.(y_bin)\n",
    "    df_filtered = copy(df[filt, :])\n",
    "    df_filtered[!, :x_bin] = x_bin[filt]\n",
    "    df_filtered[!, :y_bin] = y_bin[filt]\n",
    "\n",
    "    # Group by the 2D bins\n",
    "    grouped = groupby(df_filtered, [:x_bin, :y_bin])\n",
    "\n",
    "    # Calculate the statistics within each 2D bin\n",
    "    results = combine(grouped,\n",
    "        val => mean => :med,\n",
    "        x => mean => :xmed,\n",
    "        y => mean => :ymed,\n",
    "        val => std => :err,\n",
    "        val => length => :counts\n",
    "    )\n",
    "\n",
    "    # Create the full 2D grid of bins\n",
    "    full_grid = DataFrame(x_bin = repeat(1:Nb_x, Nb_y), y_bin = repeat(1:Nb_y, inner=Nb_x))\n",
    "\n",
    "    # Join results with the full grid to fill missing bins with NaNs\n",
    "    df_result = leftjoin(full_grid, results, on=[:x_bin, :y_bin], order=:left)\n",
    "    \n",
    "    # Fill in the midpoints for the bin centers\n",
    "    x_bin_mids = midpoints(x_bins)\n",
    "    y_bin_mids = midpoints(y_bins)\n",
    "    df_result.x = getindex.(Ref(x_bin_mids), df_result.x_bin)\n",
    "    df_result.y = getindex.(Ref(y_bin_mids), df_result.y_bin)\n",
    "\n",
    "    \n",
    "    # Handle missing values and replace with defaults where necessary\n",
    "    filt_missing = ismissing.(df_result.counts) .|| df_result.counts .< n_min\n",
    "    df_result[filt_missing, :counts] .= 0\n",
    "    df_result[filt_missing, :med] .= 0\n",
    "    df_result[filt_missing, :err] .= 0\n",
    "    df_result[filt_missing, :xmed] .= NaN\n",
    "    df_result[filt_missing, :ymed] .= NaN\n",
    "\n",
    "    # Ensure there are no missing values\n",
    "    disallowmissing!(df_result)\n",
    "\n",
    "    return df_result\n",
    "end"
   ]
  },
  {
   "cell_type": "code",
   "execution_count": null,
   "id": "177",
   "metadata": {},
   "outputs": [],
   "source": [
    "df = bin_means_2d(model_alpha, x=:MG_H, y=:MG_FE)"
   ]
  },
  {
   "cell_type": "code",
   "execution_count": null,
   "id": "178",
   "metadata": {},
   "outputs": [],
   "source": [
    "df = bin_means_2d(subgiants, x=:MG_H, y=:MG_FE)"
   ]
  },
  {
   "cell_type": "code",
   "execution_count": null,
   "id": "179",
   "metadata": {},
   "outputs": [],
   "source": [
    "function bin_all_2d(models, observations=subgiants;\n",
    "        mg_h_bins=mg_h_bins, mg_fe_bins=mg_fe_bins, n_min=3\n",
    "    )\n",
    "\n",
    "    labels = keys(models) |> collect\n",
    "\n",
    "    ahfe_dfs = Dict(label => bin_means_2d(model, x_bins=mg_h_bins, y_bins=mg_fe_bins) \n",
    "        for (label, model) in models)\n",
    "    \n",
    "\n",
    "    ahfe_obs = bin_means_2d(observations,  x_bins=mg_h_bins, y_bins=mg_fe_bins, x=:MG_H, y=:MG_FE, val=:z_c)\n",
    "    \n",
    "\n",
    "    ahfe_binned = DataFrame([label => df.med for (label, df) in ahfe_dfs]...)\n",
    "\n",
    "    for label in labels\n",
    "        ahfe_binned[:, (\"$(label)_err\")] = ahfe_dfs[label].err\n",
    "        ahfe_binned[:, (\"$(label)_counts\")] = ahfe_dfs[label].counts\n",
    "\n",
    "        @assert ahfe_obs.x_bin == ahfe_dfs[label].x_bin\n",
    "    end\n",
    "\n",
    "    ahfe_binned[!, :obs] = ahfe_obs.med\n",
    "    ahfe_binned[!, :obs_err] = ahfe_obs.err\n",
    "    ahfe_binned[!, :obs_counts] = ahfe_obs.counts\n",
    "    ahfe_binned[!, :x] = ahfe_obs.x\n",
    "    ahfe_binned[!, :y] = ahfe_obs.y\n",
    "\n",
    "\n",
    "    filt = ahfe_binned.obs_counts .>= n_min\n",
    "    filt = ahfe_binned[:, \"$(labels[1])_counts\"] .>= n_min\n",
    "    \n",
    "    return ahfe_binned[filt, :], labels\n",
    "end"
   ]
  },
  {
   "cell_type": "code",
   "execution_count": null,
   "id": "180",
   "metadata": {},
   "outputs": [],
   "source": [
    "fig = Figure()\n",
    "ax = Axis(fig[1, 1], \n",
    "    xlabel=\"[Mg/H]\",\n",
    "    ylabel=\"[Mg/Fe]\",\n",
    "    limits=(-0.6, 0.6, -0.1, 0.5)\n",
    "    )\n",
    "\n",
    "\n",
    "p = scatter!(subgiants.MG_H, subgiants.MG_FE, color=subgiants.C_MG, markersize = 2., colorrange=(-0.5, 0.2))\n",
    "\n",
    "Colorbar(fig[1, 2], p, label=\"[C/Mg]\")\n",
    "\n",
    "fig"
   ]
  },
  {
   "cell_type": "code",
   "execution_count": null,
   "id": "181",
   "metadata": {},
   "outputs": [],
   "source": [
    "ahfe, labels = bin_all_2d(models)"
   ]
  },
  {
   "cell_type": "code",
   "execution_count": null,
   "id": "182",
   "metadata": {},
   "outputs": [],
   "source": [
    "scatter(df.x, df.y, color=df.med, markersize=df.counts ./ 10)"
   ]
  },
  {
   "cell_type": "code",
   "execution_count": null,
   "id": "183",
   "metadata": {},
   "outputs": [],
   "source": [
    "minimum(ahfe.obs_counts), minimum(ahfe.alpha_counts)"
   ]
  },
  {
   "cell_type": "code",
   "execution_count": null,
   "id": "184",
   "metadata": {},
   "outputs": [],
   "source": [
    "scatter(ahfe.x, ahfe.y, color=ahfe.alpha, markersize=ahfe.alpha_counts ./ 20 .+ 3)"
   ]
  },
  {
   "cell_type": "code",
   "execution_count": null,
   "id": "185",
   "metadata": {},
   "outputs": [],
   "source": [
    "fig = Figure()\n",
    "ax = Axis(fig[1, 1], \n",
    "    xlabel=\"[Mg/H]\",\n",
    "    ylabel=\"[Mg/Fe]\",\n",
    "    limits=(-0.4, 0.25, -0.0, 0.3),\n",
    "    )\n",
    "\n",
    "\n",
    "p = scatter!(model_alpha.MG_H, model_alpha.MG_FE, color=model_alpha.C_MG, markersize = 2., colorrange=(-0.5, 0.2))\n",
    "\n",
    "Colorbar(fig[1, 2], p, label=\"[C/Mg]\")\n",
    "\n",
    "fig"
   ]
  },
  {
   "cell_type": "code",
   "execution_count": null,
   "id": "186",
   "metadata": {},
   "outputs": [],
   "source": [
    "@model function model_bin2d(models_2d, labels, priors)\n",
    "    # Create parameters based on the specified priors\n",
    "    params ~ arraydist(priors)\n",
    "    \n",
    "    # Compute model contributions for each dataset\n",
    "    mu = sum(p * models_2d[:, key] for (p, key) in zip(params, labels))\n",
    "    \n",
    "\n",
    "\n",
    "    sigma_model = sum(p * models_2d[:, \"$(key)_err\"] ./ sqrt.(models_2d[:, \"$(key)_counts\"]) for (p, key) in zip(params, labels))\n",
    "    sigma2 = @. models_2d.obs_err^2 ./ models_2d.obs_counts .+ sigma_model .^ 2\n",
    "\n",
    "    models_2d.obs ~ MvNormal(mu, diagm(sigma2))\n",
    "end"
   ]
  },
  {
   "cell_type": "code",
   "execution_count": null,
   "id": "187",
   "metadata": {},
   "outputs": [],
   "source": [
    "function plot_mean_ahfe(afe, samples, labels; mode=:mean, kwargs...)\n",
    "    fig = Figure()\n",
    "    ax = Axis(fig[1,1],\n",
    "        xlabel=\"[Mg/H]\",\n",
    "        ylabel=\"[C/Mg]\",\n",
    "        )\n",
    "\n",
    "\n",
    "    p = plot_mean_ahfe!(afe, samples, labels; mode=mode, kwargs...)\n",
    "\n",
    "    if mode == :residual\n",
    "        label  = \"Δ [C/Mg]\"\n",
    "    elseif mode == :zscore\n",
    "        label = \"z score\"\n",
    "    else\n",
    "        label = \"[C/Mg]\"\n",
    "    end\n",
    "    \n",
    "    Colorbar(fig[1,2], p, label=label)\n",
    "\n",
    "    fig\n",
    "end"
   ]
  },
  {
   "cell_type": "code",
   "execution_count": null,
   "id": "188",
   "metadata": {},
   "outputs": [],
   "source": [
    "function plot_mean_ahfe!(afeh, samples, labels;\n",
    "        thin=10, color=:black, alpha=nothing, colorrange=nothing, mode = :mean,\n",
    "        kwargs...)\n",
    "    \n",
    "    alpha_mean = [mean(samples[:, \"params[$i]\"]) for (i, label) in enumerate(labels)]\n",
    "\n",
    "    y = sum(alpha_mean[i] * afeh[:, label]  for (i, label) in enumerate(labels))\n",
    "\n",
    " \n",
    "\n",
    "    if colorrange === nothing\n",
    "        cmin = min(minimum(y), minimum(afeh.obs))\n",
    "        cmax = max(maximum(y), maximum(afeh.obs))\n",
    "        colorrange = (cmin, cmax)\n",
    "    end\n",
    "\n",
    "    if mode == :residual\n",
    "        res = afeh.obs .- y\n",
    "        resmax = maximum(abs.(res))\n",
    "        \n",
    "        p = scatter!(afeh.x, afeh.y, markersize=20, color=res, colorrange=(-resmax, resmax), colormap=:RdBu)\n",
    "\n",
    "    elseif mode == :zscore\n",
    "        sy = afeh.obs_err ./ sqrt.(afeh.obs_counts)\n",
    "        sy_model = sum(alpha_mean[i] * afeh[:, \"$(key)_err\"] ./ sqrt.(afeh[:, \"$(key)_counts\"]) for (i, key) in enumerate(labels))\n",
    "\n",
    "        sy = @. sqrt(sy^2 + sy_model^2)\n",
    "        res = (afeh.obs .- y) ./ sy\n",
    "        resmax = maximum(abs.(res))\n",
    "        \n",
    "        p = scatter!(afeh.x, afeh.y, markersize=20, color=res, colorrange=(-resmax, resmax), colormap=:RdBu)\n",
    "\n",
    "    elseif mode == :mean\n",
    "    \n",
    "        scatter!(afeh.x, afeh.y, color=afeh.obs, markersize=20, colorrange=colorrange)\n",
    "        scatter!(afeh.x, afeh.y, color=:white, markersize=12)\n",
    "    \n",
    "        p = scatter!(afeh.x, afeh.y, color=y, markersize=10, colorrange=colorrange)\n",
    "\n",
    "    else\n",
    "        @error \"hi\"\n",
    "    end\n",
    "    \n",
    "    return p\n",
    "end"
   ]
  },
  {
   "cell_type": "code",
   "execution_count": null,
   "id": "189",
   "metadata": {},
   "outputs": [],
   "source": [
    "function plot_samples_ahfe!(afe, samples, labels;\n",
    "        thin=10, color=:black, alpha=nothing, kwargs...)\n",
    "    \n",
    "    if alpha === nothing\n",
    "        alpha = 1/size(samples, 1)^(1/3)\n",
    "    end\n",
    "\n",
    "    xs = afe.x |> unique |> sort\n",
    "    dx = xs[2] - xs[1]\n",
    "    \n",
    "    ys = afe.y |> unique |> sort\n",
    "    dy = ys[2] - ys[1]\n",
    "    \n",
    "    for sample in eachrow(samples)[1:thin:end]\n",
    "        z = sum(sample[\"params[$i]\"] * afe[:, label]  for (i, label) in enumerate(labels))\n",
    "\n",
    "        Np = length(afe.x)\n",
    "        x = afe.x .+ (0.5 .- 1rand(Np)) * dx\n",
    "        y = afe.y .+ (0.5 .- 1rand(Np)) * dy\n",
    "        scatter!(x, y, color=z)\n",
    "    end\n",
    "\n",
    "end"
   ]
  },
  {
   "cell_type": "code",
   "execution_count": null,
   "id": "190",
   "metadata": {},
   "outputs": [],
   "source": [
    "priors = Dict(\n",
    "    :alpha => Normal(1, 1),\n",
    "    :zeta0 => Normal(2, 1),\n",
    "    :zeta1 => Normal(0, 1),\n",
    "    :zeta2 => Normal(0, 2)\n",
    "    )"
   ]
  },
  {
   "cell_type": "code",
   "execution_count": null,
   "id": "191",
   "metadata": {},
   "outputs": [],
   "source": [
    "priors = [priors[label] for label in labels]"
   ]
  },
  {
   "cell_type": "code",
   "execution_count": null,
   "id": "192",
   "metadata": {},
   "outputs": [],
   "source": [
    "model = model_bin2d(ahfe, labels, priors\n",
    ")"
   ]
  },
  {
   "cell_type": "code",
   "execution_count": null,
   "id": "193",
   "metadata": {},
   "outputs": [],
   "source": [
    "chain = sample(model, NUTS(0.65), 10_000)"
   ]
  },
  {
   "cell_type": "code",
   "execution_count": null,
   "id": "194",
   "metadata": {},
   "outputs": [],
   "source": [
    "samples = DataFrame(chain)"
   ]
  },
  {
   "cell_type": "code",
   "execution_count": null,
   "id": "195",
   "metadata": {},
   "outputs": [],
   "source": [
    "fig = pairplot(chain, labels=Dict(\n",
    "        Symbol(\"params[$i]\") => string(label) for (i, label) in enumerate(labels)\n",
    "    )\n",
    ")"
   ]
  },
  {
   "cell_type": "code",
   "execution_count": null,
   "id": "196",
   "metadata": {},
   "outputs": [],
   "source": [
    "fig = Figure()\n",
    "ax = Axis(fig[1, 1],\n",
    "    xlabel=\"[Mg/H]\",\n",
    "    ylabel=\"mean Z_C / Zmg\",\n",
    ")\n",
    "\n",
    "\n",
    "plot_samples_ah!(ah, samples, labels, thin=100)\n",
    "\n",
    "fig"
   ]
  },
  {
   "cell_type": "code",
   "execution_count": null,
   "id": "197",
   "metadata": {},
   "outputs": [],
   "source": [
    "fig = Figure()\n",
    "ax = Axis(fig[1, 1],\n",
    "    xlabel=\"[Mg/H]\",\n",
    "    ylabel=\"mean Z_C / Zmg\",\n",
    ")\n",
    "\n",
    "\n",
    "plot_samples_caah!(ah, samples, labels, thin=100)\n",
    "\n",
    "fig"
   ]
  },
  {
   "cell_type": "code",
   "execution_count": null,
   "id": "198",
   "metadata": {},
   "outputs": [],
   "source": [
    "fig = Figure()\n",
    "ax = Axis(fig[1, 1],\n",
    "    xlabel=\"[Mg/Fe]\",\n",
    "    ylabel=\"mean Z_C\",\n",
    ")\n",
    "\n",
    "\n",
    "plot_samples_afe!(afe, samples, labels, thin=100)\n",
    "\n",
    "fig"
   ]
  },
  {
   "cell_type": "code",
   "execution_count": null,
   "id": "199",
   "metadata": {},
   "outputs": [],
   "source": [
    "plot_mean_ahfe(ahfe, samples, labels)"
   ]
  },
  {
   "cell_type": "code",
   "execution_count": null,
   "id": "200",
   "metadata": {},
   "outputs": [],
   "source": [
    "plot_mean_ahfe(ahfe, samples, labels, mode=:residual)"
   ]
  },
  {
   "cell_type": "code",
   "execution_count": null,
   "id": "201",
   "metadata": {},
   "outputs": [],
   "source": [
    "plot_mean_ahfe(ahfe, samples, labels, mode=:zscore)"
   ]
  },
  {
   "cell_type": "code",
   "execution_count": null,
   "id": "202",
   "metadata": {},
   "outputs": [],
   "source": []
  }
 ],
 "metadata": {
  "kernelspec": {
   "display_name": "Julia 1.11.1",
   "language": "julia",
   "name": "julia-1.11"
  },
  "language_info": {
   "file_extension": ".jl",
   "mimetype": "application/julia",
   "name": "julia",
   "version": "1.11.1"
  }
 },
 "nbformat": 4,
 "nbformat_minor": 5
}
