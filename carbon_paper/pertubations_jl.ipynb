{
 "cells": [
  {
   "cell_type": "markdown",
   "id": "0",
   "metadata": {},
   "source": [
    "# MCMC yield pertubation analysis"
   ]
  },
  {
   "cell_type": "markdown",
   "id": "1",
   "metadata": {},
   "source": [
    "The goal of this investigation is to fit for the combination of yields which best represents APOGEE trends using our multizone model results.\n",
    "Because the abundance evolution of each element is *linear in yields*, we can predict the present-day properties for new combinations of yields.\n",
    "\n",
    "**Abundance Linearity lemma:**\n",
    "Assume we know the yields for several different processes $y^{i}$ and we know (or calculate) the resulting evolution for each process $Z^{i}(t)$. For any linear combination of $p$ processes $\\{\\alpha_i\\}_{i \\in 1...p} \\in \\mathbb{R}$, if the total yield of the process we are interested in is \n",
    "\n",
    "$$\n",
    "y = \\sum_i \\alpha_i y^i\n",
    "$$\n",
    "Then the resulting abundance evolution is\n",
    "$$\n",
    "Z_X(t) = \\sum_{i} \\alpha_i Z_X^i(t)\n",
    "$$\n",
    "\n",
    "Note that if the metallicity evolution changes and the yields depend on metallicity, than this does not hold. However, to first order, we can use the above property of chemical evolution to understand the space of yields which best reproduces the present day APOGEE measurements.\n"
   ]
  },
  {
   "cell_type": "markdown",
   "id": "2",
   "metadata": {},
   "source": [
    "### Modeling linear combinations.\n",
    "\n",
    "To most approprietly model each linear combination, I take our fiducial model and use Ag as a dummy element. Each model has the same seed so reproduces exactly the same pattern of stars. \n",
    "\n",
    "Additionally, to minimize the impacts on the metallicity evolution, I scale each process down by a factor of $10^6$ and the solar metallicity for each process down by the corresponding amount. Therefore, for a 1x amount of each process, the reported ratios of \\[X/H\\] accurately correspond to $Z_{\\rm C}^{\\rm proc}$. For best practice, each combination of models is best ran on the same vice run, so adding more components is as simple as extending the yield correspondance table above."
   ]
  },
  {
   "cell_type": "code",
   "execution_count": null,
   "id": "3",
   "metadata": {},
   "outputs": [],
   "source": [
    "using CairoMakie\n",
    "using Arya"
   ]
  },
  {
   "cell_type": "code",
   "execution_count": null,
   "id": "4",
   "metadata": {},
   "outputs": [],
   "source": [
    "using CSV, DataFrames\n",
    "import CategoricalArrays: cut\n",
    "using StatsBase\n",
    "using OrderedCollections"
   ]
  },
  {
   "cell_type": "code",
   "execution_count": null,
   "id": "5",
   "metadata": {},
   "outputs": [],
   "source": [
    "using Turing\n",
    "import NaNMath as nm\n",
    "using LinearAlgebra: diagm\n",
    "using PairPlots"
   ]
  },
  {
   "cell_type": "code",
   "execution_count": null,
   "id": "6",
   "metadata": {},
   "outputs": [],
   "source": [
    "subgiants = CSV.read(\"../data/subgiants.csv\", DataFrame)"
   ]
  },
  {
   "cell_type": "code",
   "execution_count": null,
   "id": "7",
   "metadata": {},
   "outputs": [],
   "source": [
    "solar_z = (;\n",
    "    c = 3.39e-03\n",
    "    )"
   ]
  },
  {
   "cell_type": "code",
   "execution_count": null,
   "id": "8",
   "metadata": {},
   "outputs": [],
   "source": [
    "function C_H_to_Zc(ag_h)\n",
    "    return solar_z.c * 10 .^ ag_h\n",
    "end"
   ]
  },
  {
   "cell_type": "code",
   "execution_count": null,
   "id": "9",
   "metadata": {},
   "outputs": [],
   "source": [
    "function Zc_to_C_H(z_c)\n",
    "    return @. nm.log10(z_c / solar_z.c)\n",
    "end"
   ]
  },
  {
   "cell_type": "code",
   "execution_count": null,
   "id": "10",
   "metadata": {},
   "outputs": [],
   "source": [
    "\"\"\"\n",
    "Finds the pickled model with either the given name or the parameters \n",
    "and returns the csv summary\n",
    "\"\"\"\n",
    "function find_model(name)\n",
    "    file_name = \"../models/perturbations/$name/stars.csv\"\n",
    "    model =  CSV.read(file_name, DataFrame)\n",
    "\n",
    "    model[!, \"z_c\"] = C_H_to_Zc(model[:, \"AG_H\"])\n",
    "\n",
    "    return model\n",
    "end"
   ]
  },
  {
   "cell_type": "markdown",
   "id": "11",
   "metadata": {},
   "source": [
    "## Parameters"
   ]
  },
  {
   "cell_type": "code",
   "execution_count": null,
   "id": "12",
   "metadata": {},
   "outputs": [],
   "source": [
    "mg_h_bins = -0.5:0.1:0.35\n",
    "mg_fe_bins = 0.0:0.05:0.30\n",
    "mg_h_0 = -0.1\n",
    "d_mg_h = 0.05"
   ]
  },
  {
   "cell_type": "code",
   "execution_count": null,
   "id": "13",
   "metadata": {},
   "outputs": [],
   "source": [
    "fig = Figure()\n",
    "ax = Axis(fig[1, 1], \n",
    "    xlabel=\"Mg/H\",\n",
    "    ylabel=\"[C/Mg]\",\n",
    "    limits=(-0.6, 0.6, -0.1, 0.5)\n",
    "    )\n",
    "\n",
    "\n",
    "p = scatter!(subgiants.MG_H, subgiants.MG_FE, color=subgiants.C_MG, markersize = 2., colorrange=(-0.5, 0.2))\n",
    "\n",
    "Colorbar(fig[1, 2], p, label=\"[Mg/Fe]\")\n",
    "\n",
    "fig"
   ]
  },
  {
   "cell_type": "code",
   "execution_count": null,
   "id": "14",
   "metadata": {},
   "outputs": [],
   "source": [
    "function bin_means(df::DataFrame; x::Symbol=:MG_H_true, bins = mg_h_bins, val::Symbol=:z_c, n_min::Int=3)\n",
    "    Nb = length(bins) - 1\n",
    "\n",
    "    x_bin = cut(df[!, x], bins, extend=missing, labels=1:Nb)\n",
    "\n",
    "    filt = .!ismissing.(x_bin)\n",
    "    df_filtered = copy(df[filt, :])\n",
    "    df_filtered[!, :x_bin] = x_bin[filt]\n",
    "    grouped = groupby(df_filtered, :x_bin)\n",
    "\n",
    "    results = combine(grouped,\n",
    "        val => mean => :med,\n",
    "        x => mean => :xmed,\n",
    "        val => sem => :err,\n",
    "        val => length => :counts\n",
    "    )\n",
    "\n",
    "    full_grid = DataFrame(x_bin = 1:Nb)\n",
    "\n",
    "    df_result = leftjoin(full_grid, results, on=:x_bin)\n",
    "\n",
    "    x_bin_mids = midpoints(bins)\n",
    "    df_result.x = getindex.(Ref(x_bin_mids), df_result.x_bin)\n",
    "\n",
    "    filt_missing = ismissing.(df_result.counts)\n",
    "    df_result[filt_missing, :counts] .= 0\n",
    "    df_result[filt_missing, :med] .= 0\n",
    "    df_result[filt_missing, :err] .= 0\n",
    "    #DataFrames.transform!(df_result, :counts => ByRow(count -> count < n_min ? NaN : count) => :counts)\n",
    "\n",
    "    return df_result\n",
    "end"
   ]
  },
  {
   "cell_type": "code",
   "execution_count": null,
   "id": "15",
   "metadata": {},
   "outputs": [],
   "source": [
    "function bin_caah(df::DataFrame; bins=mg_h_bins, kwargs...)\n",
    "    filt = .!df.high_alpha\n",
    "    return bin_means(df[filt, :]; bins=bins, kwargs...)\n",
    "end"
   ]
  },
  {
   "cell_type": "code",
   "execution_count": null,
   "id": "16",
   "metadata": {},
   "outputs": [],
   "source": [
    "function bin_caafe(df::DataFrame; m_h=:MG_H, m_h_0=mg_h_0, d_m_h=d_mg_h, x=:MG_FE, val=:C_MG, bins=mg_fe_bins, kwargs...)\n",
    "    filt = df[:, m_h] .>= m_h_0 - d_m_h\n",
    "    filt .&= df[:, m_h] .< m_h_0 + d_m_h\n",
    "    return bin_means(df[filt, :]; bins=bins, x=x, val=val, kwargs...)\n",
    "end"
   ]
  },
  {
   "cell_type": "code",
   "execution_count": null,
   "id": "17",
   "metadata": {},
   "outputs": [],
   "source": [
    "function bin_zc_afe(df::DataFrame; m_h=:MG_H_true, m_h_0=mg_h_0, d_m_h=d_mg_h, x=:MG_FE_true, val=:z_c, bins=mg_fe_bins, kwargs...)\n",
    "    filt = df[:, m_h] .>= m_h_0 - d_m_h\n",
    "    filt .&= df[:, m_h] .< m_h_0 + d_m_h\n",
    "    return bin_means(df[filt, :]; bins=bins, x=x, val=val, kwargs...)\n",
    "end"
   ]
  },
  {
   "cell_type": "code",
   "execution_count": null,
   "id": "18",
   "metadata": {},
   "outputs": [],
   "source": [
    "function bin_zc_ah(df::DataFrame;x=:MG_H_true, val=:z_c, bins=mg_h_bins, kwargs...)\n",
    "    filt = .!df.high_alpha\n",
    "    return bin_means(df[filt, :]; bins=bins, x=x, val=val, kwargs...)\n",
    "end"
   ]
  },
  {
   "cell_type": "code",
   "execution_count": null,
   "id": "19",
   "metadata": {},
   "outputs": [],
   "source": [
    "mkpath(\"mcmc_samples\")"
   ]
  },
  {
   "cell_type": "markdown",
   "id": "20",
   "metadata": {
    "jp-MarkdownHeadingCollapsed": true
   },
   "source": [
    "# Data loading"
   ]
  },
  {
   "cell_type": "code",
   "execution_count": null,
   "id": "21",
   "metadata": {},
   "outputs": [],
   "source": [
    "subgiants_binned_afe = bin_caafe(subgiants, x=:MG_FE, m_h=:MG_H, val=:C_MG)"
   ]
  },
  {
   "cell_type": "code",
   "execution_count": null,
   "id": "22",
   "metadata": {},
   "outputs": [],
   "source": [
    "subgiants_binned_ah = bin_caah(subgiants, x=:MG_H, val=:C_MG)"
   ]
  },
  {
   "cell_type": "code",
   "execution_count": null,
   "id": "23",
   "metadata": {},
   "outputs": [],
   "source": [
    "model_alpha"
   ]
  },
  {
   "cell_type": "code",
   "execution_count": null,
   "id": "24",
   "metadata": {},
   "outputs": [],
   "source": [
    "model_y0_cc = find_model(\"const_cc\")\n",
    "model_A_cc = find_model(\"quadratic\")\n",
    "model_zeta = find_model(\"piecelin_m2\")\n",
    "model_alpha = find_model(\"analytic\")\n",
    "\n",
    "model_y0_cc"
   ]
  },
  {
   "cell_type": "code",
   "execution_count": null,
   "id": "25",
   "metadata": {},
   "outputs": [],
   "source": [
    "models = Dict(\n",
    "    :alpha => model_alpha,\n",
    "    :y0_cc => model_y0_cc,\n",
    "    :A_cc => model_A_cc,\n",
    "    :zeta_cc => model_zeta\n",
    "    )"
   ]
  },
  {
   "cell_type": "code",
   "execution_count": null,
   "id": "26",
   "metadata": {},
   "outputs": [],
   "source": [
    "model_y0_cc"
   ]
  },
  {
   "cell_type": "code",
   "execution_count": null,
   "id": "27",
   "metadata": {},
   "outputs": [],
   "source": [
    "models_caah = Dict(component => bin_caah(model) for (component, model) in models)"
   ]
  },
  {
   "cell_type": "code",
   "execution_count": null,
   "id": "28",
   "metadata": {},
   "outputs": [],
   "source": [
    "models_caah[:alpha]"
   ]
  },
  {
   "cell_type": "code",
   "execution_count": null,
   "id": "29",
   "metadata": {},
   "outputs": [],
   "source": [
    "models_caafe = Dict(component => bin_caafe(model) for (component, model) in models)"
   ]
  },
  {
   "cell_type": "code",
   "execution_count": null,
   "id": "30",
   "metadata": {},
   "outputs": [],
   "source": [
    "models_zc_ah = Dict(component => bin_zc_ah(model) for (component, model) in models)"
   ]
  },
  {
   "cell_type": "code",
   "execution_count": null,
   "id": "31",
   "metadata": {},
   "outputs": [],
   "source": [
    "models_zc_afe = Dict(component => bin_zc_afe(model) for (component, model) in models)"
   ]
  },
  {
   "cell_type": "code",
   "execution_count": null,
   "id": "32",
   "metadata": {},
   "outputs": [],
   "source": [
    "models_zc_afe[:alpha]"
   ]
  },
  {
   "cell_type": "code",
   "execution_count": null,
   "id": "33",
   "metadata": {},
   "outputs": [],
   "source": [
    "models_zc_ah[:alpha]"
   ]
  },
  {
   "cell_type": "code",
   "execution_count": null,
   "id": "34",
   "metadata": {},
   "outputs": [],
   "source": [
    "hist(model_y0_cc.MG_H_true[.!model_y0_cc.high_alpha])"
   ]
  },
  {
   "cell_type": "code",
   "execution_count": null,
   "id": "35",
   "metadata": {},
   "outputs": [],
   "source": [
    "hist(model_y0_cc.MG_FE_true[ mg_h_0 - d_mg_h .< model_y0_cc.MG_H_true .< mg_h_0 + d_mg_h])"
   ]
  },
  {
   "cell_type": "code",
   "execution_count": null,
   "id": "36",
   "metadata": {},
   "outputs": [],
   "source": [
    "fig, ax = FigAxis(\n",
    "    xlabel=\"[Mg/H]\",\n",
    "    ylabel=\"Zc  (for process)\",\n",
    ")\n",
    "\n",
    "for (label, model) in models_zc_ah\n",
    "    lines!(model.x, model.med ./ 10 .^ model.x, label=string(label))\n",
    "end\n",
    "\n",
    "axislegend()\n",
    "fig"
   ]
  },
  {
   "cell_type": "code",
   "execution_count": null,
   "id": "37",
   "metadata": {},
   "outputs": [],
   "source": [
    "fig, ax = FigAxis(\n",
    "    xlabel=\"[Mg/H]\",\n",
    "    ylabel=\"[C/Mg] (for process)\",\n",
    ")\n",
    "\n",
    "for (label, model) in models_zc_ah\n",
    "    scatter!(model.x, Zc_to_C_H(model.med) - model.x, label=string(label))\n",
    "end\n",
    "\n",
    "axislegend()\n",
    "fig"
   ]
  },
  {
   "cell_type": "code",
   "execution_count": null,
   "id": "38",
   "metadata": {},
   "outputs": [],
   "source": [
    "fig, ax = FigAxis(\n",
    "    xlabel = \"[Mg/Fe]\",\n",
    "    ylabel = \"[C/Mg] (for process)\"\n",
    ")\n",
    "\n",
    "for (label, model) in models_zc_afe\n",
    "    scatter!(model.x, Zc_to_C_H(model.med) .- mg_h_0, label=string(label))\n",
    "end\n",
    "\n",
    "axislegend()\n",
    "fig"
   ]
  },
  {
   "cell_type": "code",
   "execution_count": null,
   "id": "39",
   "metadata": {},
   "outputs": [],
   "source": [
    "errscatter(subgiants_binned_ah.x, subgiants_binned_ah.med, yerr=subgiants_binned_ah.err,\n",
    "    axis=(;xlabel=\"[Mg/H]\", ylabel=\"[C/Mg]\", title=\"binned subgiants\")\n",
    ")"
   ]
  },
  {
   "cell_type": "code",
   "execution_count": null,
   "id": "40",
   "metadata": {},
   "outputs": [],
   "source": [
    "errscatter(subgiants_binned_afe.x, subgiants_binned_afe.med, yerr=subgiants_binned_afe.err,\n",
    "    axis=(;xlabel=\"[Mg/Fe]\", ylabel=\"[C/Mg]\", title=\"binned subgiants (with [M/H] in $(mg_h_0 - d_mg_h), $(mg_h_0 + d_mg_h))\")\n",
    ")"
   ]
  },
  {
   "cell_type": "markdown",
   "id": "41",
   "metadata": {},
   "source": [
    "# Linear Model"
   ]
  },
  {
   "cell_type": "code",
   "execution_count": null,
   "id": "42",
   "metadata": {},
   "outputs": [],
   "source": [
    "\n",
    "# Helper function to compute model contribution\n",
    "function compute_model_contribution(params, model)\n",
    "    return sum(p * model[key] for (p, key) in zip(params, keys(model)))\n",
    "end\n",
    "\n",
    "@model function n_component_model(data1, data2, models, priors)\n",
    "    # Check if priors are provided, and set defaults if not\n",
    "    if isempty(priors)\n",
    "        n_params = length(keys(models))\n",
    "        priors = [Normal(0, 1) for _ in 1:n_params]  # Default priors if none are specified\n",
    "    end\n",
    "    \n",
    "    # Create parameters based on the specified priors\n",
    "    params ~ arraydist(priors)\n",
    "    \n",
    "    # Compute model contributions for each dataset\n",
    "    mu1 = compute_model_contribution(params, models)\n",
    "    mu2 = compute_model_contribution(params, models)  # This could be adjusted if different model terms are needed\n",
    "    \n",
    "    # Data likelihoods\n",
    "    y ~ MvNormal(mu1, diagm(data1[:errors] .^ 2))\n",
    "    y2 ~ MvNormal(mu2, diagm(data2[:errors] .^ 2))\n",
    "end"
   ]
  },
  {
   "cell_type": "code",
   "execution_count": null,
   "id": "43",
   "metadata": {},
   "outputs": [],
   "source": [
    "@model function fit_3_comp_model(x, y, y_e, x2, y2, y_e2, models, models2; m_h_0=mg_h_0)\n",
    "    y0_cc ~ Normal(2, 1)\n",
    "    α ~ Normal(2, 1)\n",
    "    ζ ~ Normal(0, 1)\n",
    "\n",
    "    Zc = y0_cc * models[:y0_cc] .+ α * models[:alpha] .+ ζ * models[:zeta_cc]\n",
    "\n",
    "    mu = Zc_to_C_H.(Zc) .- x\n",
    "    y1_pred = mu\n",
    "\n",
    "    Zc2 = y0_cc * models2[:y0_cc] .+ α * models2[:alpha] .+ ζ * models2[:zeta_cc]\n",
    "    mu2 = Zc_to_C_H.(Zc2) .- mg_h_0\n",
    "\n",
    "    \n",
    "    y ~ MvNormal(mu, diagm(y_e .^ 2))\n",
    "    y2 ~ MvNormal(mu2,  diagm(y_e2 .^ 2))\n",
    "end"
   ]
  },
  {
   "cell_type": "code",
   "execution_count": null,
   "id": "44",
   "metadata": {},
   "outputs": [],
   "source": [
    "function plot_samples!(samples, x, models;\n",
    "        thin=10, color=:black, alpha=nothing, kwargs...)\n",
    "\n",
    "    if alpha === nothing\n",
    "        alpha = 1/size(samples, 1)^(1/3)\n",
    "    end\n",
    "    \n",
    "    for sample in eachrow(samples)[1:thin:end]\n",
    "        y = @. sample.α * models[:alpha] + sample.y0_cc * models[:y0_cc] + sample.ζ * models[:zeta_cc]\n",
    "        lines!(x, Zc_to_C_H(y) .- x, color=color, alpha=alpha)\n",
    "    end\n",
    "end"
   ]
  },
  {
   "cell_type": "code",
   "execution_count": null,
   "id": "45",
   "metadata": {},
   "outputs": [],
   "source": [
    "function plot_samples_afe!(samples, x, models;\n",
    "        thin=10, color=:black, alpha=nothing, kwargs...)\n",
    "\n",
    "    if alpha === nothing\n",
    "        alpha = 1/size(samples, 1)^(1/3)\n",
    "    end\n",
    "    \n",
    "    for sample in eachrow(samples)[1:thin:end]\n",
    "        y = @. sample.α * models[:alpha] + sample.y0_cc * models[:y0_cc] + sample.ζ * models[:zeta_cc]\n",
    "        lines!(x, Zc_to_C_H(y) .- mg_h_0, color=color, alpha=alpha)\n",
    "    end\n",
    "end"
   ]
  },
  {
   "cell_type": "code",
   "execution_count": null,
   "id": "46",
   "metadata": {},
   "outputs": [],
   "source": [
    "y = disallowmissing(subgiants_binned_ah.med)\n",
    "yerr = disallowmissing(subgiants_binned_ah.err)# ./ sqrt.(subgiants_binned.counts)\n",
    "x = disallowmissing(subgiants_binned_ah.x)\n",
    "\n",
    "y2 = disallowmissing(subgiants_binned_afe.med)\n",
    "yerr2 = disallowmissing(subgiants_binned_afe.err)# ./ sqrt.(subgiants_binned2.counts)\n",
    "x2 = disallowmissing(subgiants_binned_afe.x)"
   ]
  },
  {
   "cell_type": "code",
   "execution_count": null,
   "id": "47",
   "metadata": {},
   "outputs": [],
   "source": [
    "yerr"
   ]
  },
  {
   "cell_type": "code",
   "execution_count": null,
   "id": "48",
   "metadata": {},
   "outputs": [],
   "source": [
    "model_med_ah = Dict(label => disallowmissing(model.med) for (label, model) in models_zc_ah)\n",
    "model_med_afe = Dict(label => disallowmissing(model.med) for (label, model) in models_zc_afe)"
   ]
  },
  {
   "cell_type": "code",
   "execution_count": null,
   "id": "49",
   "metadata": {},
   "outputs": [],
   "source": [
    "model = fit_3_comp_model(x, y, yerr, x2, y2, yerr2, model_med_ah, model_med_afe)"
   ]
  },
  {
   "cell_type": "code",
   "execution_count": null,
   "id": "50",
   "metadata": {},
   "outputs": [],
   "source": [
    "chain = sample(model, NUTS(0.65), 5_000)"
   ]
  },
  {
   "cell_type": "code",
   "execution_count": null,
   "id": "51",
   "metadata": {},
   "outputs": [],
   "source": [
    "samples = DataFrame(chain)"
   ]
  },
  {
   "cell_type": "code",
   "execution_count": null,
   "id": "52",
   "metadata": {},
   "outputs": [],
   "source": [
    "pairplot(chain)"
   ]
  },
  {
   "cell_type": "code",
   "execution_count": null,
   "id": "53",
   "metadata": {},
   "outputs": [],
   "source": [
    "fig = Figure()\n",
    "ax = Axis(fig[1, 1],\n",
    "    #limits=(-0.5, 0.3, -0.2, 0.0),\n",
    "    xgridvisible=false,\n",
    "    ygridvisible=false,\n",
    "    xlabel=\"[Mg/H]\",\n",
    "    ylabel=\"[C/Mg] (low alpha)\",\n",
    ")\n",
    "\n",
    "\n",
    "plot_samples!(samples, x, model_med_ah, alpha=0.008)\n",
    "errscatter!(x, y, yerr=yerr)\n",
    "\n",
    "fig"
   ]
  },
  {
   "cell_type": "code",
   "execution_count": null,
   "id": "54",
   "metadata": {},
   "outputs": [],
   "source": [
    "fig = Figure()\n",
    "ax = Axis(fig[1, 1],\n",
    "    xlabel=\"[Mg/Fe]\",\n",
    "    ylabel=L\"\\textrm{mean([C/Mg]) | [Mg/H] }\\in [%$(round(mg_h_0-d_mg_h, digits=2)), %$(round(mg_h_0+d_mg_h, digits=2))]\",\n",
    "    xgridvisible=false,\n",
    "    ygridvisible=false,\n",
    ")\n",
    "\n",
    "\n",
    "plot_samples_afe!(samples, x2, model_med_afe, alpha=0.008, label=\"mean subgiants\")\n",
    "errscatter!(x2, y2, yerr=yerr2, label=\"mean samples\")\n",
    "\n",
    "axislegend()\n",
    "fig"
   ]
  },
  {
   "cell_type": "markdown",
   "id": "55",
   "metadata": {},
   "source": [
    "# 4-component (quadratic) model"
   ]
  },
  {
   "cell_type": "code",
   "execution_count": null,
   "id": "56",
   "metadata": {},
   "outputs": [],
   "source": [
    "@model function fit_4_comp_model(x, y, y_e, x2, y2, y_e2, models, models2; m_h_0=mg_h_0)\n",
    "    y0_cc ~ Normal(2, 1)\n",
    "    α ~ Normal(2, 1)\n",
    "    ζ ~ Normal(0, 1)\n",
    "    A ~ Normal(0, 1)\n",
    "\n",
    "    Zc = y0_cc * models[:y0_cc] .+ α * models[:alpha] .+ ζ * models[:zeta_cc] .+ A * models[:A_cc]\n",
    "\n",
    "    mu = Zc_to_C_H.(Zc) .- x\n",
    "    y1_pred = mu\n",
    "\n",
    "    Zc2 = y0_cc * models2[:y0_cc] .+ α * models2[:alpha] .+ ζ * models2[:zeta_cc] .+ A * models2[:A_cc]\n",
    "    mu2 = Zc_to_C_H.(Zc2) .- mg_h_0\n",
    "\n",
    "    \n",
    "    y ~ MvNormal(mu, diagm(y_e .^ 2))\n",
    "    y2 ~ MvNormal(mu2,  diagm(y_e2 .^ 2))\n",
    "end"
   ]
  },
  {
   "cell_type": "code",
   "execution_count": null,
   "id": "57",
   "metadata": {},
   "outputs": [],
   "source": [
    "function plot_samples!(samples, x, models;\n",
    "        thin=10, color=:black, alpha=nothing, kwargs...)\n",
    "\n",
    "    if alpha === nothing\n",
    "        alpha = 1/size(samples, 1)^(1/3)\n",
    "    end\n",
    "    \n",
    "    for sample in eachrow(samples)[1:thin:end]\n",
    "        y = @. sample.α * models[:alpha] + sample.y0_cc * models[:y0_cc] + sample.ζ * models[:zeta_cc] + sample.A * models[:A_cc]\n",
    "        lines!(x, Zc_to_C_H(y) .- x, color=color, alpha=alpha)\n",
    "    end\n",
    "end"
   ]
  },
  {
   "cell_type": "code",
   "execution_count": null,
   "id": "58",
   "metadata": {},
   "outputs": [],
   "source": [
    "scatter(subgiants.MG_H, subgiants.MG_H_ERR)"
   ]
  },
  {
   "cell_type": "code",
   "execution_count": null,
   "id": "59",
   "metadata": {},
   "outputs": [],
   "source": [
    "function plot_samples_afe!(samples, x, models;\n",
    "        thin=10, color=:black, alpha=nothing, kwargs...)\n",
    "\n",
    "    if alpha === nothing\n",
    "        alpha = 1/size(samples, 1)^(1/3)\n",
    "    end\n",
    "    \n",
    "    for sample in eachrow(samples)[1:thin:end]\n",
    "        y = @. sample.α * models[:alpha] + sample.y0_cc * models[:y0_cc] + sample.ζ * models[:zeta_cc] + sample.A * models[:A_cc]\n",
    "        lines!(x, Zc_to_C_H(y) .- mg_h_0, color=color, alpha=alpha)\n",
    "    end\n",
    "end"
   ]
  },
  {
   "cell_type": "code",
   "execution_count": null,
   "id": "60",
   "metadata": {},
   "outputs": [],
   "source": [
    "y = disallowmissing(subgiants_binned_ah.med)\n",
    "yerr = disallowmissing(subgiants_binned_ah.err)# ./ sqrt.(subgiants_binned.counts)\n",
    "x = disallowmissing(subgiants_binned_ah.x)\n",
    "\n",
    "y2 = disallowmissing(subgiants_binned_afe.med)\n",
    "yerr2 = disallowmissing(subgiants_binned_afe.err)# ./ sqrt.(subgiants_binned2.counts)\n",
    "x2 = disallowmissing(subgiants_binned_afe.x)"
   ]
  },
  {
   "cell_type": "code",
   "execution_count": null,
   "id": "61",
   "metadata": {},
   "outputs": [],
   "source": [
    "yerr"
   ]
  },
  {
   "cell_type": "code",
   "execution_count": null,
   "id": "62",
   "metadata": {},
   "outputs": [],
   "source": [
    "model = fit_4_comp_model(x, y, yerr, x2, y2, yerr2, model_med_ah, model_med_afe)"
   ]
  },
  {
   "cell_type": "code",
   "execution_count": null,
   "id": "63",
   "metadata": {},
   "outputs": [],
   "source": [
    "chain = sample(model, NUTS(0.65), 50_000)"
   ]
  },
  {
   "cell_type": "code",
   "execution_count": null,
   "id": "64",
   "metadata": {},
   "outputs": [],
   "source": [
    "samples = DataFrame(chain)"
   ]
  },
  {
   "cell_type": "code",
   "execution_count": null,
   "id": "65",
   "metadata": {},
   "outputs": [],
   "source": [
    "CSV.write(\"mcmc_samples/samples_analytic.csv\", samples)"
   ]
  },
  {
   "cell_type": "code",
   "execution_count": null,
   "id": "66",
   "metadata": {},
   "outputs": [],
   "source": [
    "fig = pairplot(chain, labels=Dict(\n",
    "        :y0_cc=>L\"y_0^\\textrm{CC}\",\n",
    "        :α => L\"\\alpha_\\textrm{C}^\\textrm{AGB}\",\n",
    "        :ζ => L\"\\zeta_\\textrm{C}^\\textrm{CC}\",\n",
    "        :A => L\"A_\\textrm{C}^\\textrm{CC}\",\n",
    "    )\n",
    ")\n",
    "\n",
    "save(\"figures/mcmc_multizone_corner.pdf\", fig)\n",
    "\n",
    "fig"
   ]
  },
  {
   "cell_type": "code",
   "execution_count": null,
   "id": "67",
   "metadata": {},
   "outputs": [],
   "source": [
    "fig = Figure(size=(600, 300))\n",
    "ax = Axis(fig[1, 1],\n",
    "    #limits=(-0.5, 0.3, -0.2, 0.0),\n",
    "    xgridvisible=false,\n",
    "    ygridvisible=false,\n",
    "    xlabel=\"[Mg/H]\",\n",
    "    ylabel=\"[C/Mg]\",\n",
    ")\n",
    "\n",
    "\n",
    "plot_samples!(samples[1:10:end, :], x, model_med_ah, alpha=0.008)\n",
    "errscatter!(x, y, yerr=yerr, color=COLORS[2])\n",
    "\n",
    "\n",
    "ax = Axis(fig[1, 2],\n",
    "    xlabel=\"[Mg/Fe]\",\n",
    "    ylabel=L\"\\textrm{[C/Mg]}\",\n",
    "    xgridvisible=false,\n",
    "    ygridvisible=false,\n",
    ")\n",
    "\n",
    "\n",
    "plot_samples_afe!(samples[1:10:end, :], x2, model_med_afe, alpha=0.008)\n",
    "errscatter!(x2, y2, yerr=yerr2, color=COLORS[2])\n",
    "\n",
    "\n",
    "fig"
   ]
  },
  {
   "cell_type": "markdown",
   "id": "68",
   "metadata": {},
   "source": [
    "# N component fit"
   ]
  },
  {
   "cell_type": "code",
   "execution_count": null,
   "id": "69",
   "metadata": {},
   "outputs": [],
   "source": []
  },
  {
   "cell_type": "code",
   "execution_count": null,
   "id": "70",
   "metadata": {},
   "outputs": [],
   "source": [
    "function load_binned_models(modelname)\n",
    "    dir = \"../models/perturbations/mc_analysis/$modelname\"\n",
    "\n",
    "    afe = CSV.read(dir * \"/mg_fe_binned.csv\", DataFrame)\n",
    "    ah = CSV.read(dir * \"/mg_h_binned.csv\", DataFrame)\n",
    "\n",
    "    return ah, afe\n",
    "end"
   ]
  },
  {
   "cell_type": "code",
   "execution_count": null,
   "id": "71",
   "metadata": {},
   "outputs": [],
   "source": [
    "\n",
    "# Helper function to compute model contribution\n",
    "function compute_model_contribution(params, model)\n",
    "    return sum(p * model[key] for (p, key) in zip(params, keys(model)))\n",
    "end\n",
    "\n",
    "@model function n_component_model(models_ah, models_afe, labels, priors)\n",
    "    # Create parameters based on the specified priors\n",
    "    params ~ arraydist(priors)\n",
    "    \n",
    "    # Compute model contributions for each dataset\n",
    "    mu_ah = sum(p * models_ah[:, key] for (p, key) in zip(params, labels))\n",
    "    mu_afe = sum(p * models_afe[:, key] for (p, key) in zip(params, labels))\n",
    "    \n",
    "    # Data likelihoods\n",
    "    models_ah.obs ~ MvNormal(mu_ah, diagm(models_ah.obs_err .^ 2))\n",
    "    models_afe.obs ~ MvNormal(mu_afe, diagm(models_afe.obs_err .^ 2))\n",
    "end"
   ]
  },
  {
   "cell_type": "code",
   "execution_count": null,
   "id": "72",
   "metadata": {},
   "outputs": [],
   "source": [
    "ah, afe = load_binned_models(\"analytic_quad\")"
   ]
  },
  {
   "cell_type": "code",
   "execution_count": null,
   "id": "73",
   "metadata": {},
   "outputs": [],
   "source": [
    "labels = [\"alpha\", \"y0_cc\", \"zeta_cc\", \"A_cc\"]\n",
    "model = n_component_model(ah, afe, labels, [\n",
    "        Normal(1, 1), Normal(2, 1), Normal(0, 1), Normal(0, 1)]\n",
    ")"
   ]
  },
  {
   "cell_type": "code",
   "execution_count": null,
   "id": "74",
   "metadata": {},
   "outputs": [],
   "source": [
    "chain = sample(model, NUTS(0.65), 10_000)"
   ]
  },
  {
   "cell_type": "code",
   "execution_count": null,
   "id": "75",
   "metadata": {},
   "outputs": [],
   "source": [
    "samples = DataFrame(chain)"
   ]
  },
  {
   "cell_type": "code",
   "execution_count": null,
   "id": "76",
   "metadata": {},
   "outputs": [],
   "source": [
    "fig = pairplot(chain, labels=Dict(\n",
    "        Symbol(\"params[$i]\") => label for (i, label) in enumerate(labels)\n",
    "    )\n",
    ")\n"
   ]
  },
  {
   "cell_type": "code",
   "execution_count": null,
   "id": "77",
   "metadata": {},
   "outputs": [],
   "source": [
    "function plot_samples_ah!(afe, samples, labels;\n",
    "        thin=10, color=:black, alpha=nothing, kwargs...)\n",
    "    \n",
    "    if alpha === nothing\n",
    "        alpha = 1/size(samples, 1)^(1/3)\n",
    "    end\n",
    "\n",
    "    Zmg = 6.71e-04 * 10 .^ afe._x \n",
    "    for sample in eachrow(samples)[1:thin:end]\n",
    "        y = sum(sample[\"params[$i]\"] * afe[:, label]  for (i, label) in enumerate(labels))\n",
    "        \n",
    "        lines!(afe._x, y ./ Zmg, color=color, alpha=alpha)\n",
    "    end\n",
    "\n",
    "    errscatter!(afe._x, afe.obs ./ Zmg, yerr=afe.obs_err ./ Zmg, color=COLORS[2])\n",
    "end"
   ]
  },
  {
   "cell_type": "code",
   "execution_count": null,
   "id": "78",
   "metadata": {},
   "outputs": [],
   "source": [
    "function plot_samples_afe!(afe, samples, labels;\n",
    "        thin=10, color=:black, alpha=nothing, kwargs...)\n",
    "    \n",
    "    if alpha === nothing\n",
    "        alpha = 1/size(samples, 1)^(1/3)\n",
    "    end\n",
    "    \n",
    "    for sample in eachrow(samples)[1:thin:end]\n",
    "        y = sum(sample[\"params[$i]\"] * afe[:, label]  for (i, label) in enumerate(labels))\n",
    "        \n",
    "        lines!(afe._x, y, color=color, alpha=alpha)\n",
    "    end\n",
    "\n",
    "    errscatter!(afe._x, afe.obs, yerr=afe.obs_err, color=COLORS[2])\n",
    "end"
   ]
  },
  {
   "cell_type": "code",
   "execution_count": null,
   "id": "79",
   "metadata": {},
   "outputs": [],
   "source": [
    "fig = Figure()\n",
    "ax = Axis(fig[1, 1],\n",
    "    xlabel=\"[Mg/H]\",\n",
    "    ylabel=\"mean Z_C / Zmg\",\n",
    ")\n",
    "\n",
    "\n",
    "plot_samples_ah!(ah, samples, labels, thin=100)\n",
    "\n",
    "fig"
   ]
  },
  {
   "cell_type": "code",
   "execution_count": null,
   "id": "80",
   "metadata": {},
   "outputs": [],
   "source": [
    "fig = Figure()\n",
    "ax = Axis(fig[1, 1],\n",
    "    xlabel=\"[Mg/Fe]\",\n",
    "    ylabel=\"mean Z_C\",\n",
    ")\n",
    "\n",
    "\n",
    "plot_samples_afe!(afe, samples, labels, thin=100)\n",
    "\n",
    "fig"
   ]
  },
  {
   "cell_type": "code",
   "execution_count": null,
   "id": "81",
   "metadata": {},
   "outputs": [],
   "source": []
  },
  {
   "cell_type": "code",
   "execution_count": null,
   "id": "82",
   "metadata": {},
   "outputs": [],
   "source": []
  }
 ],
 "metadata": {
  "kernelspec": {
   "display_name": "Julia 1.11.1",
   "language": "julia",
   "name": "julia-1.11"
  },
  "language_info": {
   "file_extension": ".jl",
   "mimetype": "application/julia",
   "name": "julia",
   "version": "1.11.1"
  }
 },
 "nbformat": 4,
 "nbformat_minor": 5
}
