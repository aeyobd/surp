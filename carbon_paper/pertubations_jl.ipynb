{
 "cells": [
  {
   "cell_type": "code",
   "execution_count": null,
   "id": "0",
   "metadata": {},
   "outputs": [],
   "source": [
    "using CairoMakie\n",
    "using Turing\n",
    "using CSV, DataFrames"
   ]
  },
  {
   "cell_type": "code",
   "execution_count": null,
   "id": "1",
   "metadata": {},
   "outputs": [],
   "source": [
    "using OrderedCollections"
   ]
  },
  {
   "cell_type": "code",
   "execution_count": null,
   "id": "2",
   "metadata": {},
   "outputs": [],
   "source": [
    "using StatsBase"
   ]
  },
  {
   "cell_type": "code",
   "execution_count": null,
   "id": "3",
   "metadata": {},
   "outputs": [],
   "source": [
    "using PairPlots"
   ]
  },
  {
   "cell_type": "code",
   "execution_count": null,
   "id": "4",
   "metadata": {},
   "outputs": [],
   "source": [
    "import CategoricalArrays: cut"
   ]
  },
  {
   "cell_type": "code",
   "execution_count": null,
   "id": "5",
   "metadata": {},
   "outputs": [],
   "source": [
    "using FillArrays"
   ]
  },
  {
   "cell_type": "code",
   "execution_count": null,
   "id": "6",
   "metadata": {},
   "outputs": [],
   "source": [
    "import NaNMath as nm"
   ]
  },
  {
   "cell_type": "code",
   "execution_count": null,
   "id": "7",
   "metadata": {},
   "outputs": [],
   "source": [
    "using Arya"
   ]
  },
  {
   "cell_type": "code",
   "execution_count": null,
   "id": "8",
   "metadata": {},
   "outputs": [],
   "source": [
    "subgiants = CSV.read(\"../data/subgiants.csv\", DataFrame)"
   ]
  },
  {
   "cell_type": "code",
   "execution_count": null,
   "id": "9",
   "metadata": {},
   "outputs": [],
   "source": [
    "solar_z = (;\n",
    "    c = 3.39e-03\n",
    "    )"
   ]
  },
  {
   "cell_type": "code",
   "execution_count": null,
   "id": "10",
   "metadata": {},
   "outputs": [],
   "source": [
    "function C_H_to_Zc(ag_h)\n",
    "    return solar_z.c * 10 .^ ag_h\n",
    "end"
   ]
  },
  {
   "cell_type": "code",
   "execution_count": null,
   "id": "11",
   "metadata": {},
   "outputs": [],
   "source": [
    "function Zc_to_C_H(z_c)\n",
    "    return @. nm.log10(z_c / solar_z.c)\n",
    "end"
   ]
  },
  {
   "cell_type": "code",
   "execution_count": null,
   "id": "12",
   "metadata": {},
   "outputs": [],
   "source": [
    "\"\"\"\n",
    "Finds the pickled model with either the given name or the parameters \n",
    "and returns the csv summary\n",
    "\"\"\"\n",
    "function find_model(name)\n",
    "\n",
    "    \n",
    "    file_name = \"../models/perturbations/$name/stars.csv\"\n",
    "    model =  CSV.read(file_name, DataFrame)\n",
    "    model[!, \"z_c\"] = C_H_to_Zc(model.AG_H)\n",
    "    return model\n",
    "end"
   ]
  },
  {
   "cell_type": "code",
   "execution_count": null,
   "id": "13",
   "metadata": {},
   "outputs": [],
   "source": [
    "rand([1,2,3], 10)"
   ]
  },
  {
   "cell_type": "code",
   "execution_count": null,
   "id": "14",
   "metadata": {},
   "outputs": [],
   "source": [
    "function median_se(values::AbstractVector; N=1000)\n",
    "    samples = [median(rand(values, length(values))) for _ in 1:N]\n",
    "    \n",
    "    return std(samples)\n",
    "end"
   ]
  },
  {
   "cell_type": "code",
   "execution_count": null,
   "id": "15",
   "metadata": {},
   "outputs": [],
   "source": [
    "function bin_medians(df::DataFrame; x::Symbol=:MG_H_true, bins = 0:0.05:0.35, val::Symbol=:z_c, n_min::Int=3)\n",
    "    Nb = length(bins) - 1\n",
    "\n",
    "    x_bin = cut(df[!, x], bins, extend=missing, labels=1:Nb)\n",
    "\n",
    "    filt = .!ismissing.(x_bin)\n",
    "    df_filtered = copy(df[filt, :])\n",
    "    df_filtered[!, :x_bin] = x_bin[filt]\n",
    "    grouped = groupby(df_filtered, :x_bin)\n",
    "\n",
    "    results = combine(grouped,\n",
    "        val => median => :med,\n",
    "        x => median => :xmed,\n",
    "        val => median_se => :err,\n",
    "        val => length => :counts\n",
    "    )\n",
    "\n",
    "    full_grid = DataFrame(x_bin = 1:Nb)\n",
    "\n",
    "    df_result = leftjoin(full_grid, results, on=:x_bin)\n",
    "\n",
    "    x_bin_mids = midpoints(bins)\n",
    "    df_result.x = getindex.(Ref(x_bin_mids), df_result.x_bin)\n",
    "\n",
    "    filt_missing = ismissing.(df_result.counts)\n",
    "    df_result[filt_missing, :counts] .= 0\n",
    "    df_result[filt_missing, :med] .= 0\n",
    "    df_result[filt_missing, :err] .= 0\n",
    "    #DataFrames.transform!(df_result, :counts => ByRow(count -> count < n_min ? NaN : count) => :counts)\n",
    "\n",
    "    return df_result\n",
    "end"
   ]
  },
  {
   "cell_type": "code",
   "execution_count": null,
   "id": "16",
   "metadata": {},
   "outputs": [],
   "source": [
    "o_h_0 = -0.10"
   ]
  },
  {
   "cell_type": "code",
   "execution_count": null,
   "id": "17",
   "metadata": {},
   "outputs": [],
   "source": [
    "function bin_caah(df::DataFrame; bins=-0.5:0.1:0.35, kwargs...)\n",
    "    filt = .!df.high_alpha\n",
    "    return bin_medians(df[filt, :]; bins=bins, kwargs...)\n",
    "end"
   ]
  },
  {
   "cell_type": "code",
   "execution_count": null,
   "id": "18",
   "metadata": {},
   "outputs": [],
   "source": [
    "function bin_caafe(df::DataFrame; m_h=:MG_H_true, m_h_0=o_h_0, d_m_h=0.05, x=:MG_FE_true, val=:z_c, bins=0.0:0.05:0.30, kwargs...)\n",
    "    filt = df[:, m_h] .> m_h_0 - d_m_h\n",
    "    filt .&= df[:, m_h] .< m_h_0 + d_m_h\n",
    "    return bin_medians(df[filt, :]; bins=bins, x=x, val=val, kwargs...)\n",
    "end"
   ]
  },
  {
   "cell_type": "code",
   "execution_count": null,
   "id": "19",
   "metadata": {},
   "outputs": [],
   "source": [
    "struct mz_result\n",
    "    zcaah::DataFrame\n",
    "    zcaafe::DataFrame\n",
    "end"
   ]
  },
  {
   "cell_type": "code",
   "execution_count": null,
   "id": "20",
   "metadata": {},
   "outputs": [],
   "source": [
    "struct binned_trends\n",
    "    caah::DataFrame\n",
    "    caafe::DataFrame\n",
    "end"
   ]
  },
  {
   "cell_type": "code",
   "execution_count": null,
   "id": "21",
   "metadata": {},
   "outputs": [],
   "source": [
    "struct BinnedZc\n",
    "    x::Vector{Float64}\n",
    "    y::Vector{Float64}\n",
    "end"
   ]
  },
  {
   "cell_type": "code",
   "execution_count": null,
   "id": "22",
   "metadata": {},
   "outputs": [],
   "source": [
    "function bin_model(name)\n",
    "    model = find_model(name)\n",
    "\n",
    "    return mz_result(bin_caah(model), bin_caafe(model))\n",
    "end"
   ]
  },
  {
   "cell_type": "code",
   "execution_count": null,
   "id": "23",
   "metadata": {},
   "outputs": [],
   "source": [
    "import Base: +, *"
   ]
  },
  {
   "cell_type": "code",
   "execution_count": null,
   "id": "24",
   "metadata": {},
   "outputs": [],
   "source": [
    "function (+)(a::mz_result, b::mz_result)\n",
    "    c = deepcopy(a)\n",
    "    c.zcaah.med .+= b.zcaah.med\n",
    "    c.zcaah.counts .+= b.zcaah.counts\n",
    "    c.zcaah.err .+= b.zcaah.err\n",
    "    return c\n",
    "end"
   ]
  },
  {
   "cell_type": "code",
   "execution_count": null,
   "id": "25",
   "metadata": {},
   "outputs": [],
   "source": [
    "function (*)(a::Real, b::mz_result)\n",
    "    c = deepcopy(b)\n",
    "    c.zcaah.med .*= a\n",
    "    c.zcaah.err .*= a\n",
    "    return c\n",
    "end"
   ]
  },
  {
   "cell_type": "code",
   "execution_count": null,
   "id": "26",
   "metadata": {},
   "outputs": [],
   "source": [
    "function add_models(models, coeffs)\n",
    "    total = 0 * models[1].second \n",
    "    total.zcaah.med[ismissing.(total.zcaah.med)] .= 0\n",
    "    \n",
    "    for (name, model) in models\n",
    "        coef = coeffs[name]\n",
    "        total = total + coef * model\n",
    "    end\n",
    "\n",
    "    return total\n",
    "end"
   ]
  },
  {
   "cell_type": "markdown",
   "id": "27",
   "metadata": {},
   "source": [
    "# Data loading"
   ]
  },
  {
   "cell_type": "code",
   "execution_count": null,
   "id": "28",
   "metadata": {},
   "outputs": [],
   "source": [
    "subgiants_binned_afe = bin_caafe(subgiants, x=:MG_FE, m_h=:MG_H, val=:C_MG)"
   ]
  },
  {
   "cell_type": "code",
   "execution_count": null,
   "id": "29",
   "metadata": {},
   "outputs": [],
   "source": [
    "subgiants_binned_ah = bin_caah(subgiants, x=:MG_H, val=:C_MG)"
   ]
  },
  {
   "cell_type": "code",
   "execution_count": null,
   "id": "30",
   "metadata": {},
   "outputs": [],
   "source": [
    "models = Dict(\n",
    "    :α =>  bin_model(\"analytic\"),\n",
    "    :y0_cc => bin_model(\"const_cc\"),\n",
    "    :ζ => bin_model(\"piecelin_m0.2\")\n",
    "    )"
   ]
  },
  {
   "cell_type": "code",
   "execution_count": null,
   "id": "31",
   "metadata": {},
   "outputs": [],
   "source": [
    "fig, ax = FigAxis()\n",
    "\n",
    "for (label, model) in models\n",
    "    scatter!(model.zcaah.x, model.zcaah.med, label=string(label))\n",
    "end\n",
    "\n",
    "axislegend()\n",
    "fig"
   ]
  },
  {
   "cell_type": "code",
   "execution_count": null,
   "id": "32",
   "metadata": {},
   "outputs": [],
   "source": [
    "fig, ax = FigAxis()\n",
    "\n",
    "for (label, model) in models\n",
    "    scatter!(model.zcaafe.x, model.zcaafe.med, label=string(label))\n",
    "end\n",
    "\n",
    "axislegend()\n",
    "fig"
   ]
  },
  {
   "cell_type": "code",
   "execution_count": null,
   "id": "33",
   "metadata": {},
   "outputs": [],
   "source": [
    "models_zc_ah = Dict(name => disallowmissing(model.zcaah.med) for (name, model) in models)"
   ]
  },
  {
   "cell_type": "code",
   "execution_count": null,
   "id": "34",
   "metadata": {},
   "outputs": [],
   "source": [
    "models_zc_afe = Dict(name => disallowmissing(model.zcaafe.med) for (name, model) in models)"
   ]
  },
  {
   "cell_type": "code",
   "execution_count": null,
   "id": "35",
   "metadata": {},
   "outputs": [],
   "source": [
    "models_zc_afe[:α]"
   ]
  },
  {
   "cell_type": "code",
   "execution_count": null,
   "id": "36",
   "metadata": {},
   "outputs": [],
   "source": [
    "errscatter(subgiants_binned_ah.x, subgiants_binned_ah.med, yerr=subgiants_binned_ah.err,\n",
    "    axis=(;xlabel=\"[Mg/H]\", ylabel=\"[C/Mg]\", title=\"binned subgiants\")\n",
    ")"
   ]
  },
  {
   "cell_type": "code",
   "execution_count": null,
   "id": "37",
   "metadata": {},
   "outputs": [],
   "source": [
    "errscatter(subgiants_binned_afe.x, subgiants_binned_afe.med, yerr=subgiants_binned_afe.err,\n",
    "    axis=(;xlabel=\"[Mg/Fe]\", ylabel=\"[C/Mg]\", title=\"binned subgiants (with [M/H] in ...)\")\n",
    ")"
   ]
  },
  {
   "cell_type": "markdown",
   "id": "38",
   "metadata": {},
   "source": [
    "# Linear Model"
   ]
  },
  {
   "cell_type": "code",
   "execution_count": null,
   "id": "39",
   "metadata": {},
   "outputs": [],
   "source": [
    "using LinearAlgebra: diagm"
   ]
  },
  {
   "cell_type": "code",
   "execution_count": null,
   "id": "40",
   "metadata": {},
   "outputs": [],
   "source": [
    "@model function fit_3_comp_model(x, y, y_e, x2, y2, y_e2, models, models2; m_h_0=o_h_0)\n",
    "    y0_cc ~ Normal(2, 1)\n",
    "    α ~ Normal(2, 1)\n",
    "    ζ ~ Normal(0, 1)\n",
    "\n",
    "    Zc = y0_cc * models[:y0_cc] .+ α * models[:α] .+ ζ * models[:ζ]\n",
    "\n",
    "    mu = Zc_to_C_H.(Zc) .- x\n",
    "    y1_pred = mu\n",
    "\n",
    "    Zc2 = y0_cc * models2[:y0_cc] .+ α * models2[:α] .+ ζ * models2[:ζ]\n",
    "    mu2 = Zc_to_C_H.(Zc2) .- m_h_0\n",
    "\n",
    "    \n",
    "    y ~ MvNormal(mu, diagm(y_e .^ 2))\n",
    "    y2 ~ MvNormal(mu2,  diagm(y_e2 .^ 2))\n",
    "end"
   ]
  },
  {
   "cell_type": "code",
   "execution_count": null,
   "id": "41",
   "metadata": {},
   "outputs": [],
   "source": [
    "function plot_samples!(samples, x, models;\n",
    "        thin=10, color=:black, alpha=nothing, kwargs...)\n",
    "\n",
    "    if alpha === nothing\n",
    "        alpha = 1/size(samples, 1)^(1/3)\n",
    "    end\n",
    "    \n",
    "    for sample in eachrow(samples)[1:thin:end]\n",
    "        y = @. sample.α * models[:α] + sample.y0_cc * models[:y0_cc] + sample.ζ * models[:ζ]\n",
    "        lines!(x, Zc_to_C_H(y) .- x, color=color, alpha=alpha)\n",
    "    end\n",
    "end"
   ]
  },
  {
   "cell_type": "code",
   "execution_count": null,
   "id": "42",
   "metadata": {},
   "outputs": [],
   "source": [
    "function plot_samples_afe!(samples, x, models;\n",
    "        thin=10, color=:black, alpha=nothing, kwargs...)\n",
    "\n",
    "    if alpha === nothing\n",
    "        alpha = 1/size(samples, 1)^(1/3)\n",
    "    end\n",
    "    \n",
    "    for sample in eachrow(samples)[1:thin:end]\n",
    "        y = @. sample.α * models[:α] + sample.y0_cc * models[:y0_cc] + sample.ζ * models[:ζ]\n",
    "        lines!(x, Zc_to_C_H(y) .- o_h_0, color=color, alpha=alpha)\n",
    "    end\n",
    "end"
   ]
  },
  {
   "cell_type": "code",
   "execution_count": null,
   "id": "43",
   "metadata": {},
   "outputs": [],
   "source": [
    "y = disallowmissing(subgiants_binned_ah.med)\n",
    "yerr = disallowmissing(subgiants_binned_ah.err)# ./ sqrt.(subgiants_binned.counts)\n",
    "x = disallowmissing(subgiants_binned_ah.x)\n",
    "\n",
    "y2 = disallowmissing(subgiants_binned_afe.med)\n",
    "yerr2 = disallowmissing(subgiants_binned_afe.err)# ./ sqrt.(subgiants_binned2.counts)\n",
    "x2 = disallowmissing(subgiants_binned_afe.x)"
   ]
  },
  {
   "cell_type": "code",
   "execution_count": null,
   "id": "44",
   "metadata": {},
   "outputs": [],
   "source": [
    "yerr"
   ]
  },
  {
   "cell_type": "code",
   "execution_count": null,
   "id": "45",
   "metadata": {},
   "outputs": [],
   "source": [
    "models_zc_afe[:α]"
   ]
  },
  {
   "cell_type": "code",
   "execution_count": null,
   "id": "46",
   "metadata": {},
   "outputs": [],
   "source": [
    "model = fit_3_comp_model(x, y, yerr, x2, y2, yerr2, models_zc_ah, models_zc_afe)"
   ]
  },
  {
   "cell_type": "code",
   "execution_count": null,
   "id": "47",
   "metadata": {},
   "outputs": [],
   "source": [
    "chain = sample(model, NUTS(0.65), 5_000)"
   ]
  },
  {
   "cell_type": "code",
   "execution_count": null,
   "id": "48",
   "metadata": {},
   "outputs": [],
   "source": [
    "samples = DataFrame(chain)"
   ]
  },
  {
   "cell_type": "code",
   "execution_count": null,
   "id": "49",
   "metadata": {},
   "outputs": [],
   "source": [
    "pairplot(chain)"
   ]
  },
  {
   "cell_type": "code",
   "execution_count": null,
   "id": "50",
   "metadata": {},
   "outputs": [],
   "source": [
    "fig = Figure()\n",
    "ax = Axis(fig[1, 1],\n",
    "    #limits=(-0.5, 0.3, -0.2, 0.0),\n",
    "    xgridvisible=false,\n",
    "    ygridvisible=false,\n",
    "    xlabel=\"[Mg/H]\",\n",
    "    ylabel=\"[C/Mg]\",\n",
    ")\n",
    "\n",
    "\n",
    "plot_samples!(samples, x, models_zc_ah, alpha=0.008)\n",
    "errscatter!(x, y, yerr=yerr)\n",
    "\n",
    "fig"
   ]
  },
  {
   "cell_type": "code",
   "execution_count": null,
   "id": "51",
   "metadata": {},
   "outputs": [],
   "source": [
    "fig = Figure()\n",
    "ax = Axis(fig[1, 1],\n",
    "    xlabel=\"[Mg/Fe]\",\n",
    "    ylabel=L\"\\textrm{mean([C/Mg]) | [Mg/H] }\\in [-0.15, -0.05]\",\n",
    "    xgridvisible=false,\n",
    "    ygridvisible=false,\n",
    ")\n",
    "\n",
    "\n",
    "plot_samples_afe!(samples, x2, models_zc_afe, alpha=0.008)\n",
    "errscatter!(x2, y2, yerr=yerr2)\n",
    "\n",
    "fig"
   ]
  },
  {
   "cell_type": "code",
   "execution_count": null,
   "id": "52",
   "metadata": {},
   "outputs": [],
   "source": []
  }
 ],
 "metadata": {
  "kernelspec": {
   "display_name": "Julia 1.11.1",
   "language": "julia",
   "name": "julia-1.11"
  },
  "language_info": {
   "file_extension": ".jl",
   "mimetype": "application/julia",
   "name": "julia",
   "version": "1.11.1"
  }
 },
 "nbformat": 4,
 "nbformat_minor": 5
}
