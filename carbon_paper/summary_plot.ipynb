{
 "cells": [
  {
   "cell_type": "markdown",
   "id": "0",
   "metadata": {},
   "source": [
    "Data from many different sources. This notebook makes the last plot of\n",
    "the paper."
   ]
  },
  {
   "cell_type": "markdown",
   "id": "1",
   "metadata": {},
   "source": [
    "TODO: need to drop duplicates between RL & CEL regions, note that RL and CEL not consistent as labeled \n",
    "also would be nice to seperate RL by galaxy? and high z as well"
   ]
  },
  {
   "cell_type": "markdown",
   "id": "2",
   "metadata": {
    "tags": []
   },
   "source": [
    "# Introduction"
   ]
  },
  {
   "cell_type": "code",
   "execution_count": 2,
   "id": "3",
   "metadata": {},
   "outputs": [],
   "source": [
    "import pandas as pd\n",
    "import matplotlib as mpl\n",
    "import matplotlib.pyplot as plt\n",
    "import numpy as np\n",
    "import vice\n"
   ]
  },
  {
   "cell_type": "code",
   "execution_count": 3,
   "id": "4",
   "metadata": {},
   "outputs": [],
   "source": [
    "from surp import ViceModel, yields, subgiants, DATA_DIR\n",
    "from surp import gce_math as gcem\n",
    "\n",
    "import surp\n",
    "import arya\n",
    "from arya import COLORS"
   ]
  },
  {
   "cell_type": "code",
   "execution_count": 4,
   "id": "5",
   "metadata": {},
   "outputs": [],
   "source": [
    "from singlezone import run_singlezone, exp_sfh"
   ]
  },
  {
   "cell_type": "code",
   "execution_count": 5,
   "id": "6",
   "metadata": {},
   "outputs": [],
   "source": [
    "def to_nice(apogee_name):\n",
    "    return \"[\" + apogee_name.title().replace(\"_\", \"/\") + \"]\""
   ]
  },
  {
   "cell_type": "code",
   "execution_count": 6,
   "id": "7",
   "metadata": {},
   "outputs": [],
   "source": [
    "def plot_abund_errs(df, x=\"O_H\", y=\"C_O\", **kwargs):\n",
    "    xs = df[x].values\n",
    "    ys =  df[y].values\n",
    "    xerr = df[f\"{x}_err\"].values\n",
    "    yerr = df[f\"{y}_err\"].values\n",
    "    filt = ~np.isnan(xerr) \n",
    "    filt &= ~np.isnan(yerr)\n",
    "    filt &= xerr > 0\n",
    "    filt &= yerr > 0\n",
    "    \n",
    "    plt.errorbar(xs[filt], ys[filt], xerr=xerr[filt], yerr=yerr[filt], fmt=\"o\", capsize=0, **kwargs)\n",
    "    plt.xlabel(to_nice(x))\n",
    "    plt.ylabel(to_nice(y))"
   ]
  },
  {
   "cell_type": "code",
   "execution_count": 7,
   "id": "8",
   "metadata": {},
   "outputs": [],
   "source": [
    "def plot_sample(df, **kwargs):    \n",
    "    plot_abund_errs(df, x=\"FE_H\", y=\"O_FE\", **kwargs)\n",
    "    plt.show()\n",
    "    \n",
    "    plot_abund_errs(df, **kwargs)\n",
    "    plt.show()\n",
    "    \n",
    "    plot_abund_errs(df, x=\"O_FE\", **kwargs)\n",
    "    plt.show()\n",
    "    \n",
    "    if \"MG_FE\" in df.columns:\n",
    "        plot_abund_errs(df, x=\"O_H\", y=\"O_MG\", **kwargs)\n",
    "        plot_abund_errs(df, x=\"MG_H\", y=\"C_MG\", **kwargs)\n",
    "        plot_abund_errs(df, x=\"MG_FE\", y=\"C_MG\", **kwargs)\n",
    "        plt.show()\n",
    "                    "
   ]
  },
  {
   "cell_type": "code",
   "execution_count": 8,
   "id": "9",
   "metadata": {},
   "outputs": [],
   "source": [
    "def calc_errs(df, idx=None):\n",
    "    series = pd.Series()\n",
    "    series[\"O_H_err\"] = np.nanmean(df[\"O_H_err\"])\n",
    "    series[\"C_O_err\"] = np.nanmean(df[\"C_O_err\"])\n",
    "    \n",
    "    if idx is None:\n",
    "        O_H = np.mean(df.O_H)\n",
    "        C_O = np.mean(df.C_O)\n",
    "        \n",
    "        idx = np.argmin((df.O_H - O_H)**2 )#+ (df.C_O - C_O)**2)\n",
    "        series[\"O_H\"] = df.O_H.iloc[idx]\n",
    "        series[\"C_O\"] = df.C_O.iloc[idx]\n",
    "    \n",
    "    return series.to_frame().T"
   ]
  },
  {
   "cell_type": "code",
   "execution_count": 9,
   "id": "10",
   "metadata": {},
   "outputs": [],
   "source": [
    "def plot_sample_err(df, df_err=None, color=COLORS[0], edgecolors=None, marker=\"*\", label=\"\", **kwargs):\n",
    "    if edgecolors is None:\n",
    "        edgecolors = color\n",
    "        \n",
    "    if df_err is None:\n",
    "        df_err = calc_errs(df)\n",
    "        \n",
    "    plt.scatter(df[\"O_H\"], df[\"C_O\"], marker=marker, color=color, edgecolors=edgecolors, label=label, **kwargs)\n",
    "    \n",
    "\n",
    "    plt.errorbar(df_err[\"O_H\"], df_err[\"C_O\"],  xerr=df_err.O_H_err, yerr=df_err.C_O_err,\n",
    "             marker=\"none\", ls=\"none\", color=color, capsize=0, **kwargs)\n",
    "    \n",
    "    plt.xlabel(\"[O/H]\")\n",
    "    plt.ylabel(\"[C/O]\")"
   ]
  },
  {
   "cell_type": "code",
   "execution_count": 10,
   "id": "11",
   "metadata": {},
   "outputs": [],
   "source": [
    "surp.set_yields(verbose=False)"
   ]
  },
  {
   "cell_type": "code",
   "execution_count": 11,
   "id": "12",
   "metadata": {},
   "outputs": [],
   "source": [
    "all_stars = pd.read_csv(\"data_analysis/amarsi19_cleaned.csv\")"
   ]
  },
  {
   "cell_type": "code",
   "execution_count": 12,
   "id": "13",
   "metadata": {},
   "outputs": [
    {
     "data": {
      "text/html": [
       "<div>\n",
       "<style scoped>\n",
       "    .dataframe tbody tr th:only-of-type {\n",
       "        vertical-align: middle;\n",
       "    }\n",
       "\n",
       "    .dataframe tbody tr th {\n",
       "        vertical-align: top;\n",
       "    }\n",
       "\n",
       "    .dataframe thead th {\n",
       "        text-align: right;\n",
       "    }\n",
       "</style>\n",
       "<table border=\"1\" class=\"dataframe\">\n",
       "  <thead>\n",
       "    <tr style=\"text-align: right;\">\n",
       "      <th></th>\n",
       "      <th>O_H_err</th>\n",
       "      <th>C_O_err</th>\n",
       "      <th>O_H</th>\n",
       "      <th>C_O</th>\n",
       "    </tr>\n",
       "  </thead>\n",
       "  <tbody>\n",
       "    <tr>\n",
       "      <th>0</th>\n",
       "      <td>0.023074</td>\n",
       "      <td>0.060948</td>\n",
       "      <td>-1.0091</td>\n",
       "      <td>-0.5907</td>\n",
       "    </tr>\n",
       "    <tr>\n",
       "      <th>1</th>\n",
       "      <td>0.018365</td>\n",
       "      <td>0.031701</td>\n",
       "      <td>0.0018</td>\n",
       "      <td>-0.0034</td>\n",
       "    </tr>\n",
       "  </tbody>\n",
       "</table>\n",
       "</div>"
      ],
      "text/plain": [
       "    O_H_err   C_O_err     O_H     C_O\n",
       "0  0.023074  0.060948 -1.0091 -0.5907\n",
       "1  0.018365  0.031701  0.0018 -0.0034"
      ]
     },
     "execution_count": 12,
     "metadata": {},
     "output_type": "execute_result"
    }
   ],
   "source": [
    "all_star_err = pd.DataFrame()\n",
    "\n",
    "\n",
    "# split into two regemes and plot error bars\n",
    "mh_cut = -0.3\n",
    "\n",
    "low_z = all_stars[all_stars[\"O_H\"] < mh_cut]\n",
    "high_z = all_stars[all_stars[\"O_H\"] >= mh_cut]\n",
    "all_star_err = pd.concat([calc_errs(low_z), calc_errs(high_z)], ignore_index=True)\n",
    "all_star_err"
   ]
  },
  {
   "cell_type": "code",
   "execution_count": 13,
   "id": "14",
   "metadata": {},
   "outputs": [
    {
     "data": {
      "image/png": "[encoded data removed]",
      "text/plain": [
       "<Figure size 666.667x451.405 with 1 Axes>"
      ]
     },
     "metadata": {},
     "output_type": "display_data"
    }
   ],
   "source": [
    "plot_sample_err(all_stars, all_star_err)"
   ]
  },
  {
   "cell_type": "code",
   "execution_count": 14,
   "id": "15",
   "metadata": {},
   "outputs": [],
   "source": [
    "RL = pd.read_csv(\"data_analysis/RL_combined.csv\")\n",
    "RL = RL[~np.isnan(RL.C_O_err)]\n",
    "RL_err = calc_errs(RL)"
   ]
  },
  {
   "cell_type": "code",
   "execution_count": 15,
   "id": "16",
   "metadata": {},
   "outputs": [],
   "source": [
    "RL_mw = RL[RL.galaxy == \"MW\"]\n",
    "RL_mw_err = calc_errs(RL_mw)\n",
    "\n",
    "RL = RL[RL.galaxy != \"MW\"]\n",
    "RL_err = calc_errs(RL)"
   ]
  },
  {
   "cell_type": "code",
   "execution_count": 16,
   "id": "17",
   "metadata": {},
   "outputs": [
    {
     "data": {
      "text/plain": [
       "array(['LMC', 'M101', 'M31', 'M33', 'NGC 2366', 'NGC 2403', 'NGC 300',\n",
       "       'NGC 5408', 'NGC 6822', 'SMC'], dtype=object)"
      ]
     },
     "execution_count": 16,
     "metadata": {},
     "output_type": "execute_result"
    }
   ],
   "source": [
    "np.sort(RL.galaxy.unique())"
   ]
  },
  {
   "cell_type": "code",
   "execution_count": 17,
   "id": "18",
   "metadata": {},
   "outputs": [
    {
     "data": {
      "image/png": "[encoded data removed]",
      "text/plain": [
       "<Figure size 666.667x451.405 with 1 Axes>"
      ]
     },
     "metadata": {},
     "output_type": "display_data"
    }
   ],
   "source": [
    "plot_sample_err(RL, RL_err)"
   ]
  },
  {
   "cell_type": "code",
   "execution_count": 18,
   "id": "19",
   "metadata": {},
   "outputs": [
    {
     "data": {
      "image/png": "[encoded data removed]",
      "text/plain": [
       "<Figure size 666.667x451.405 with 1 Axes>"
      ]
     },
     "metadata": {},
     "output_type": "display_data"
    }
   ],
   "source": [
    "plot_sample_err(RL_mw, RL_mw_err)"
   ]
  },
  {
   "cell_type": "code",
   "execution_count": 19,
   "id": "20",
   "metadata": {},
   "outputs": [],
   "source": [
    "DLA = pd.read_csv(\"data_analysis/DLA_combined.csv\")\n",
    "DLA = DLA[~np.isnan(DLA.C_O_err)]\n",
    "\n",
    "DLA_err = calc_errs(DLA)"
   ]
  },
  {
   "cell_type": "code",
   "execution_count": 20,
   "id": "21",
   "metadata": {},
   "outputs": [
    {
     "data": {
      "text/plain": [
       "np.float64(12.06)"
      ]
     },
     "execution_count": 20,
     "metadata": {},
     "output_type": "execute_result"
    }
   ],
   "source": [
    "DLA.loc[6].log_OI"
   ]
  },
  {
   "cell_type": "code",
   "execution_count": 21,
   "id": "22",
   "metadata": {},
   "outputs": [
    {
     "data": {
      "text/html": [
       "<div>\n",
       "<style scoped>\n",
       "    .dataframe tbody tr th:only-of-type {\n",
       "        vertical-align: middle;\n",
       "    }\n",
       "\n",
       "    .dataframe tbody tr th {\n",
       "        vertical-align: top;\n",
       "    }\n",
       "\n",
       "    .dataframe thead th {\n",
       "        text-align: right;\n",
       "    }\n",
       "</style>\n",
       "<table border=\"1\" class=\"dataframe\">\n",
       "  <thead>\n",
       "    <tr style=\"text-align: right;\">\n",
       "      <th></th>\n",
       "      <th>galaxy</th>\n",
       "      <th>study</th>\n",
       "      <th>C_O</th>\n",
       "      <th>O_H</th>\n",
       "    </tr>\n",
       "  </thead>\n",
       "  <tbody>\n",
       "    <tr>\n",
       "      <th>13</th>\n",
       "      <td>J0953-0504</td>\n",
       "      <td>dutta+14</td>\n",
       "      <td>-0.54963</td>\n",
       "      <td>-2.673177</td>\n",
       "    </tr>\n",
       "    <tr>\n",
       "      <th>2</th>\n",
       "      <td>J0955+4116</td>\n",
       "      <td>welsh+2022</td>\n",
       "      <td>-0.50963</td>\n",
       "      <td>-2.573177</td>\n",
       "    </tr>\n",
       "    <tr>\n",
       "      <th>11</th>\n",
       "      <td>J0311-1722</td>\n",
       "      <td>cooke+11</td>\n",
       "      <td>-0.46963</td>\n",
       "      <td>-2.413177</td>\n",
       "    </tr>\n",
       "    <tr>\n",
       "      <th>12</th>\n",
       "      <td>J1001+0343</td>\n",
       "      <td>cooke+11</td>\n",
       "      <td>-0.45963</td>\n",
       "      <td>-2.773177</td>\n",
       "    </tr>\n",
       "    <tr>\n",
       "      <th>8</th>\n",
       "      <td>Q2059-360</td>\n",
       "      <td>dessauges-zavadsky+03</td>\n",
       "      <td>-0.45963</td>\n",
       "      <td>-1.483177</td>\n",
       "    </tr>\n",
       "    <tr>\n",
       "      <th>16</th>\n",
       "      <td>Q0913+072</td>\n",
       "      <td>pettini+08</td>\n",
       "      <td>-0.43963</td>\n",
       "      <td>-2.523177</td>\n",
       "    </tr>\n",
       "    <tr>\n",
       "      <th>19</th>\n",
       "      <td>Q2206-199</td>\n",
       "      <td>pettini+08</td>\n",
       "      <td>-0.42963</td>\n",
       "      <td>-2.193177</td>\n",
       "    </tr>\n",
       "    <tr>\n",
       "      <th>10</th>\n",
       "      <td>J0903+2628</td>\n",
       "      <td>cooke+17</td>\n",
       "      <td>-0.42963</td>\n",
       "      <td>-3.173177</td>\n",
       "    </tr>\n",
       "    <tr>\n",
       "      <th>3</th>\n",
       "      <td>J0140-0839</td>\n",
       "      <td>ellison+10</td>\n",
       "      <td>-0.34963</td>\n",
       "      <td>-2.873177</td>\n",
       "    </tr>\n",
       "    <tr>\n",
       "      <th>9</th>\n",
       "      <td>J2155+1358</td>\n",
       "      <td>dessauges-zavadsky+03</td>\n",
       "      <td>-0.33963</td>\n",
       "      <td>-1.923177</td>\n",
       "    </tr>\n",
       "    <tr>\n",
       "      <th>1</th>\n",
       "      <td>J1358+6522</td>\n",
       "      <td>cooke+14</td>\n",
       "      <td>-0.31963</td>\n",
       "      <td>-2.443177</td>\n",
       "    </tr>\n",
       "    <tr>\n",
       "      <th>17</th>\n",
       "      <td>J1016+4040</td>\n",
       "      <td>pettini+08</td>\n",
       "      <td>-0.25963</td>\n",
       "      <td>-2.583177</td>\n",
       "    </tr>\n",
       "    <tr>\n",
       "      <th>15</th>\n",
       "      <td>J1337+3152</td>\n",
       "      <td>srianand+10</td>\n",
       "      <td>-0.23963</td>\n",
       "      <td>-2.793177</td>\n",
       "    </tr>\n",
       "    <tr>\n",
       "      <th>21</th>\n",
       "      <td>J1111+1332</td>\n",
       "      <td>cooke+15</td>\n",
       "      <td>-0.22963</td>\n",
       "      <td>-2.043177</td>\n",
       "    </tr>\n",
       "    <tr>\n",
       "      <th>4</th>\n",
       "      <td>J0035-0918</td>\n",
       "      <td>welsh+20</td>\n",
       "      <td>-0.16963</td>\n",
       "      <td>-2.573177</td>\n",
       "    </tr>\n",
       "    <tr>\n",
       "      <th>18</th>\n",
       "      <td>J1558+4053</td>\n",
       "      <td>pettini+08</td>\n",
       "      <td>-0.10963</td>\n",
       "      <td>-2.573177</td>\n",
       "    </tr>\n",
       "    <tr>\n",
       "      <th>20</th>\n",
       "      <td>J1332+0052</td>\n",
       "      <td>kislitsyn+24</td>\n",
       "      <td>-0.07663</td>\n",
       "      <td>-1.827177</td>\n",
       "    </tr>\n",
       "    <tr>\n",
       "      <th>14</th>\n",
       "      <td>Q1202+3235</td>\n",
       "      <td>morrison+16</td>\n",
       "      <td>0.15037</td>\n",
       "      <td>-2.103177</td>\n",
       "    </tr>\n",
       "    <tr>\n",
       "      <th>0</th>\n",
       "      <td>HS 0105+1619</td>\n",
       "      <td>omera+01</td>\n",
       "      <td>0.18137</td>\n",
       "      <td>-1.857177</td>\n",
       "    </tr>\n",
       "    <tr>\n",
       "      <th>5</th>\n",
       "      <td>Q1243+307</td>\n",
       "      <td>cooke+18</td>\n",
       "      <td>0.19237</td>\n",
       "      <td>-2.893177</td>\n",
       "    </tr>\n",
       "    <tr>\n",
       "      <th>7</th>\n",
       "      <td>Q1101-264</td>\n",
       "      <td>dessauges-zavadsky+03</td>\n",
       "      <td>0.72037</td>\n",
       "      <td>-1.763177</td>\n",
       "    </tr>\n",
       "    <tr>\n",
       "      <th>6</th>\n",
       "      <td>PKS1937-101</td>\n",
       "      <td>riemer-sorensen+17</td>\n",
       "      <td>1.50737</td>\n",
       "      <td>-2.678177</td>\n",
       "    </tr>\n",
       "  </tbody>\n",
       "</table>\n",
       "</div>"
      ],
      "text/plain": [
       "          galaxy                  study      C_O       O_H\n",
       "13    J0953-0504               dutta+14 -0.54963 -2.673177\n",
       "2     J0955+4116             welsh+2022 -0.50963 -2.573177\n",
       "11    J0311-1722               cooke+11 -0.46963 -2.413177\n",
       "12    J1001+0343               cooke+11 -0.45963 -2.773177\n",
       "8      Q2059-360  dessauges-zavadsky+03 -0.45963 -1.483177\n",
       "16     Q0913+072             pettini+08 -0.43963 -2.523177\n",
       "19     Q2206-199             pettini+08 -0.42963 -2.193177\n",
       "10    J0903+2628               cooke+17 -0.42963 -3.173177\n",
       "3     J0140-0839             ellison+10 -0.34963 -2.873177\n",
       "9     J2155+1358  dessauges-zavadsky+03 -0.33963 -1.923177\n",
       "1     J1358+6522               cooke+14 -0.31963 -2.443177\n",
       "17    J1016+4040             pettini+08 -0.25963 -2.583177\n",
       "15    J1337+3152            srianand+10 -0.23963 -2.793177\n",
       "21    J1111+1332               cooke+15 -0.22963 -2.043177\n",
       "4     J0035-0918               welsh+20 -0.16963 -2.573177\n",
       "18    J1558+4053             pettini+08 -0.10963 -2.573177\n",
       "20    J1332+0052           kislitsyn+24 -0.07663 -1.827177\n",
       "14    Q1202+3235            morrison+16  0.15037 -2.103177\n",
       "0   HS 0105+1619               omera+01  0.18137 -1.857177\n",
       "5      Q1243+307               cooke+18  0.19237 -2.893177\n",
       "7      Q1101-264  dessauges-zavadsky+03  0.72037 -1.763177\n",
       "6    PKS1937-101     riemer-sorensen+17  1.50737 -2.678177"
      ]
     },
     "execution_count": 21,
     "metadata": {},
     "output_type": "execute_result"
    }
   ],
   "source": [
    "DLA.sort_values(\"C_O\")[[\"galaxy\", \"study\", \"C_O\", \"O_H\"]]"
   ]
  },
  {
   "cell_type": "code",
   "execution_count": 22,
   "id": "23",
   "metadata": {},
   "outputs": [
    {
     "data": {
      "image/png": "[encoded data removed]",
      "text/plain": [
       "<Figure size 666.667x451.405 with 1 Axes>"
      ]
     },
     "metadata": {},
     "output_type": "display_data"
    }
   ],
   "source": [
    "plot_sample_err(DLA, DLA_err)"
   ]
  },
  {
   "cell_type": "code",
   "execution_count": 23,
   "id": "24",
   "metadata": {},
   "outputs": [
    {
     "ename": "FileNotFoundError",
     "evalue": "[Errno 2] No such file or directory: 'data_analysis/CEL_combined.csv'",
     "output_type": "error",
     "traceback": [
      "\u001b[0;31m---------------------------------------------------------------------------\u001b[0m",
      "\u001b[0;31mFileNotFoundError\u001b[0m                         Traceback (most recent call last)",
      "Cell \u001b[0;32mIn[23], line 1\u001b[0m\n\u001b[0;32m----> 1\u001b[0m CEL \u001b[38;5;241m=\u001b[39m \u001b[43mpd\u001b[49m\u001b[38;5;241;43m.\u001b[39;49m\u001b[43mread_csv\u001b[49m\u001b[43m(\u001b[49m\u001b[38;5;124;43m\"\u001b[39;49m\u001b[38;5;124;43mdata_analysis/CEL_combined.csv\u001b[39;49m\u001b[38;5;124;43m\"\u001b[39;49m\u001b[43m)\u001b[49m\n\u001b[1;32m      2\u001b[0m CEL_filt \u001b[38;5;241m=\u001b[39m \u001b[38;5;241m~\u001b[39mnp\u001b[38;5;241m.\u001b[39misin(CEL\u001b[38;5;241m.\u001b[39mgalaxy, RL\u001b[38;5;241m.\u001b[39mgalaxy\u001b[38;5;241m.\u001b[39munique())\n\u001b[1;32m      3\u001b[0m CEL_filt \u001b[38;5;241m&\u001b[39m\u001b[38;5;241m=\u001b[39m \u001b[38;5;241m~\u001b[39mnp\u001b[38;5;241m.\u001b[39misnan(CEL\u001b[38;5;241m.\u001b[39mC_O_err)\n",
      "File \u001b[0;32m~/.local/lib/python3.11/site-packages/pandas/io/parsers/readers.py:1026\u001b[0m, in \u001b[0;36mread_csv\u001b[0;34m(filepath_or_buffer, sep, delimiter, header, names, index_col, usecols, dtype, engine, converters, true_values, false_values, skipinitialspace, skiprows, skipfooter, nrows, na_values, keep_default_na, na_filter, verbose, skip_blank_lines, parse_dates, infer_datetime_format, keep_date_col, date_parser, date_format, dayfirst, cache_dates, iterator, chunksize, compression, thousands, decimal, lineterminator, quotechar, quoting, doublequote, escapechar, comment, encoding, encoding_errors, dialect, on_bad_lines, delim_whitespace, low_memory, memory_map, float_precision, storage_options, dtype_backend)\u001b[0m\n\u001b[1;32m   1013\u001b[0m kwds_defaults \u001b[38;5;241m=\u001b[39m _refine_defaults_read(\n\u001b[1;32m   1014\u001b[0m     dialect,\n\u001b[1;32m   1015\u001b[0m     delimiter,\n\u001b[0;32m   (...)\u001b[0m\n\u001b[1;32m   1022\u001b[0m     dtype_backend\u001b[38;5;241m=\u001b[39mdtype_backend,\n\u001b[1;32m   1023\u001b[0m )\n\u001b[1;32m   1024\u001b[0m kwds\u001b[38;5;241m.\u001b[39mupdate(kwds_defaults)\n\u001b[0;32m-> 1026\u001b[0m \u001b[38;5;28;01mreturn\u001b[39;00m \u001b[43m_read\u001b[49m\u001b[43m(\u001b[49m\u001b[43mfilepath_or_buffer\u001b[49m\u001b[43m,\u001b[49m\u001b[43m \u001b[49m\u001b[43mkwds\u001b[49m\u001b[43m)\u001b[49m\n",
      "File \u001b[0;32m~/.local/lib/python3.11/site-packages/pandas/io/parsers/readers.py:620\u001b[0m, in \u001b[0;36m_read\u001b[0;34m(filepath_or_buffer, kwds)\u001b[0m\n\u001b[1;32m    617\u001b[0m _validate_names(kwds\u001b[38;5;241m.\u001b[39mget(\u001b[38;5;124m\"\u001b[39m\u001b[38;5;124mnames\u001b[39m\u001b[38;5;124m\"\u001b[39m, \u001b[38;5;28;01mNone\u001b[39;00m))\n\u001b[1;32m    619\u001b[0m \u001b[38;5;66;03m# Create the parser.\u001b[39;00m\n\u001b[0;32m--> 620\u001b[0m parser \u001b[38;5;241m=\u001b[39m \u001b[43mTextFileReader\u001b[49m\u001b[43m(\u001b[49m\u001b[43mfilepath_or_buffer\u001b[49m\u001b[43m,\u001b[49m\u001b[43m \u001b[49m\u001b[38;5;241;43m*\u001b[39;49m\u001b[38;5;241;43m*\u001b[39;49m\u001b[43mkwds\u001b[49m\u001b[43m)\u001b[49m\n\u001b[1;32m    622\u001b[0m \u001b[38;5;28;01mif\u001b[39;00m chunksize \u001b[38;5;129;01mor\u001b[39;00m iterator:\n\u001b[1;32m    623\u001b[0m     \u001b[38;5;28;01mreturn\u001b[39;00m parser\n",
      "File \u001b[0;32m~/.local/lib/python3.11/site-packages/pandas/io/parsers/readers.py:1620\u001b[0m, in \u001b[0;36mTextFileReader.__init__\u001b[0;34m(self, f, engine, **kwds)\u001b[0m\n\u001b[1;32m   1617\u001b[0m     \u001b[38;5;28mself\u001b[39m\u001b[38;5;241m.\u001b[39moptions[\u001b[38;5;124m\"\u001b[39m\u001b[38;5;124mhas_index_names\u001b[39m\u001b[38;5;124m\"\u001b[39m] \u001b[38;5;241m=\u001b[39m kwds[\u001b[38;5;124m\"\u001b[39m\u001b[38;5;124mhas_index_names\u001b[39m\u001b[38;5;124m\"\u001b[39m]\n\u001b[1;32m   1619\u001b[0m \u001b[38;5;28mself\u001b[39m\u001b[38;5;241m.\u001b[39mhandles: IOHandles \u001b[38;5;241m|\u001b[39m \u001b[38;5;28;01mNone\u001b[39;00m \u001b[38;5;241m=\u001b[39m \u001b[38;5;28;01mNone\u001b[39;00m\n\u001b[0;32m-> 1620\u001b[0m \u001b[38;5;28mself\u001b[39m\u001b[38;5;241m.\u001b[39m_engine \u001b[38;5;241m=\u001b[39m \u001b[38;5;28;43mself\u001b[39;49m\u001b[38;5;241;43m.\u001b[39;49m\u001b[43m_make_engine\u001b[49m\u001b[43m(\u001b[49m\u001b[43mf\u001b[49m\u001b[43m,\u001b[49m\u001b[43m \u001b[49m\u001b[38;5;28;43mself\u001b[39;49m\u001b[38;5;241;43m.\u001b[39;49m\u001b[43mengine\u001b[49m\u001b[43m)\u001b[49m\n",
      "File \u001b[0;32m~/.local/lib/python3.11/site-packages/pandas/io/parsers/readers.py:1880\u001b[0m, in \u001b[0;36mTextFileReader._make_engine\u001b[0;34m(self, f, engine)\u001b[0m\n\u001b[1;32m   1878\u001b[0m     \u001b[38;5;28;01mif\u001b[39;00m \u001b[38;5;124m\"\u001b[39m\u001b[38;5;124mb\u001b[39m\u001b[38;5;124m\"\u001b[39m \u001b[38;5;129;01mnot\u001b[39;00m \u001b[38;5;129;01min\u001b[39;00m mode:\n\u001b[1;32m   1879\u001b[0m         mode \u001b[38;5;241m+\u001b[39m\u001b[38;5;241m=\u001b[39m \u001b[38;5;124m\"\u001b[39m\u001b[38;5;124mb\u001b[39m\u001b[38;5;124m\"\u001b[39m\n\u001b[0;32m-> 1880\u001b[0m \u001b[38;5;28mself\u001b[39m\u001b[38;5;241m.\u001b[39mhandles \u001b[38;5;241m=\u001b[39m \u001b[43mget_handle\u001b[49m\u001b[43m(\u001b[49m\n\u001b[1;32m   1881\u001b[0m \u001b[43m    \u001b[49m\u001b[43mf\u001b[49m\u001b[43m,\u001b[49m\n\u001b[1;32m   1882\u001b[0m \u001b[43m    \u001b[49m\u001b[43mmode\u001b[49m\u001b[43m,\u001b[49m\n\u001b[1;32m   1883\u001b[0m \u001b[43m    \u001b[49m\u001b[43mencoding\u001b[49m\u001b[38;5;241;43m=\u001b[39;49m\u001b[38;5;28;43mself\u001b[39;49m\u001b[38;5;241;43m.\u001b[39;49m\u001b[43moptions\u001b[49m\u001b[38;5;241;43m.\u001b[39;49m\u001b[43mget\u001b[49m\u001b[43m(\u001b[49m\u001b[38;5;124;43m\"\u001b[39;49m\u001b[38;5;124;43mencoding\u001b[39;49m\u001b[38;5;124;43m\"\u001b[39;49m\u001b[43m,\u001b[49m\u001b[43m \u001b[49m\u001b[38;5;28;43;01mNone\u001b[39;49;00m\u001b[43m)\u001b[49m\u001b[43m,\u001b[49m\n\u001b[1;32m   1884\u001b[0m \u001b[43m    \u001b[49m\u001b[43mcompression\u001b[49m\u001b[38;5;241;43m=\u001b[39;49m\u001b[38;5;28;43mself\u001b[39;49m\u001b[38;5;241;43m.\u001b[39;49m\u001b[43moptions\u001b[49m\u001b[38;5;241;43m.\u001b[39;49m\u001b[43mget\u001b[49m\u001b[43m(\u001b[49m\u001b[38;5;124;43m\"\u001b[39;49m\u001b[38;5;124;43mcompression\u001b[39;49m\u001b[38;5;124;43m\"\u001b[39;49m\u001b[43m,\u001b[49m\u001b[43m \u001b[49m\u001b[38;5;28;43;01mNone\u001b[39;49;00m\u001b[43m)\u001b[49m\u001b[43m,\u001b[49m\n\u001b[1;32m   1885\u001b[0m \u001b[43m    \u001b[49m\u001b[43mmemory_map\u001b[49m\u001b[38;5;241;43m=\u001b[39;49m\u001b[38;5;28;43mself\u001b[39;49m\u001b[38;5;241;43m.\u001b[39;49m\u001b[43moptions\u001b[49m\u001b[38;5;241;43m.\u001b[39;49m\u001b[43mget\u001b[49m\u001b[43m(\u001b[49m\u001b[38;5;124;43m\"\u001b[39;49m\u001b[38;5;124;43mmemory_map\u001b[39;49m\u001b[38;5;124;43m\"\u001b[39;49m\u001b[43m,\u001b[49m\u001b[43m \u001b[49m\u001b[38;5;28;43;01mFalse\u001b[39;49;00m\u001b[43m)\u001b[49m\u001b[43m,\u001b[49m\n\u001b[1;32m   1886\u001b[0m \u001b[43m    \u001b[49m\u001b[43mis_text\u001b[49m\u001b[38;5;241;43m=\u001b[39;49m\u001b[43mis_text\u001b[49m\u001b[43m,\u001b[49m\n\u001b[1;32m   1887\u001b[0m \u001b[43m    \u001b[49m\u001b[43merrors\u001b[49m\u001b[38;5;241;43m=\u001b[39;49m\u001b[38;5;28;43mself\u001b[39;49m\u001b[38;5;241;43m.\u001b[39;49m\u001b[43moptions\u001b[49m\u001b[38;5;241;43m.\u001b[39;49m\u001b[43mget\u001b[49m\u001b[43m(\u001b[49m\u001b[38;5;124;43m\"\u001b[39;49m\u001b[38;5;124;43mencoding_errors\u001b[39;49m\u001b[38;5;124;43m\"\u001b[39;49m\u001b[43m,\u001b[49m\u001b[43m \u001b[49m\u001b[38;5;124;43m\"\u001b[39;49m\u001b[38;5;124;43mstrict\u001b[39;49m\u001b[38;5;124;43m\"\u001b[39;49m\u001b[43m)\u001b[49m\u001b[43m,\u001b[49m\n\u001b[1;32m   1888\u001b[0m \u001b[43m    \u001b[49m\u001b[43mstorage_options\u001b[49m\u001b[38;5;241;43m=\u001b[39;49m\u001b[38;5;28;43mself\u001b[39;49m\u001b[38;5;241;43m.\u001b[39;49m\u001b[43moptions\u001b[49m\u001b[38;5;241;43m.\u001b[39;49m\u001b[43mget\u001b[49m\u001b[43m(\u001b[49m\u001b[38;5;124;43m\"\u001b[39;49m\u001b[38;5;124;43mstorage_options\u001b[39;49m\u001b[38;5;124;43m\"\u001b[39;49m\u001b[43m,\u001b[49m\u001b[43m \u001b[49m\u001b[38;5;28;43;01mNone\u001b[39;49;00m\u001b[43m)\u001b[49m\u001b[43m,\u001b[49m\n\u001b[1;32m   1889\u001b[0m \u001b[43m\u001b[49m\u001b[43m)\u001b[49m\n\u001b[1;32m   1890\u001b[0m \u001b[38;5;28;01massert\u001b[39;00m \u001b[38;5;28mself\u001b[39m\u001b[38;5;241m.\u001b[39mhandles \u001b[38;5;129;01mis\u001b[39;00m \u001b[38;5;129;01mnot\u001b[39;00m \u001b[38;5;28;01mNone\u001b[39;00m\n\u001b[1;32m   1891\u001b[0m f \u001b[38;5;241m=\u001b[39m \u001b[38;5;28mself\u001b[39m\u001b[38;5;241m.\u001b[39mhandles\u001b[38;5;241m.\u001b[39mhandle\n",
      "File \u001b[0;32m~/.local/lib/python3.11/site-packages/pandas/io/common.py:873\u001b[0m, in \u001b[0;36mget_handle\u001b[0;34m(path_or_buf, mode, encoding, compression, memory_map, is_text, errors, storage_options)\u001b[0m\n\u001b[1;32m    868\u001b[0m \u001b[38;5;28;01melif\u001b[39;00m \u001b[38;5;28misinstance\u001b[39m(handle, \u001b[38;5;28mstr\u001b[39m):\n\u001b[1;32m    869\u001b[0m     \u001b[38;5;66;03m# Check whether the filename is to be opened in binary mode.\u001b[39;00m\n\u001b[1;32m    870\u001b[0m     \u001b[38;5;66;03m# Binary mode does not support 'encoding' and 'newline'.\u001b[39;00m\n\u001b[1;32m    871\u001b[0m     \u001b[38;5;28;01mif\u001b[39;00m ioargs\u001b[38;5;241m.\u001b[39mencoding \u001b[38;5;129;01mand\u001b[39;00m \u001b[38;5;124m\"\u001b[39m\u001b[38;5;124mb\u001b[39m\u001b[38;5;124m\"\u001b[39m \u001b[38;5;129;01mnot\u001b[39;00m \u001b[38;5;129;01min\u001b[39;00m ioargs\u001b[38;5;241m.\u001b[39mmode:\n\u001b[1;32m    872\u001b[0m         \u001b[38;5;66;03m# Encoding\u001b[39;00m\n\u001b[0;32m--> 873\u001b[0m         handle \u001b[38;5;241m=\u001b[39m \u001b[38;5;28;43mopen\u001b[39;49m\u001b[43m(\u001b[49m\n\u001b[1;32m    874\u001b[0m \u001b[43m            \u001b[49m\u001b[43mhandle\u001b[49m\u001b[43m,\u001b[49m\n\u001b[1;32m    875\u001b[0m \u001b[43m            \u001b[49m\u001b[43mioargs\u001b[49m\u001b[38;5;241;43m.\u001b[39;49m\u001b[43mmode\u001b[49m\u001b[43m,\u001b[49m\n\u001b[1;32m    876\u001b[0m \u001b[43m            \u001b[49m\u001b[43mencoding\u001b[49m\u001b[38;5;241;43m=\u001b[39;49m\u001b[43mioargs\u001b[49m\u001b[38;5;241;43m.\u001b[39;49m\u001b[43mencoding\u001b[49m\u001b[43m,\u001b[49m\n\u001b[1;32m    877\u001b[0m \u001b[43m            \u001b[49m\u001b[43merrors\u001b[49m\u001b[38;5;241;43m=\u001b[39;49m\u001b[43merrors\u001b[49m\u001b[43m,\u001b[49m\n\u001b[1;32m    878\u001b[0m \u001b[43m            \u001b[49m\u001b[43mnewline\u001b[49m\u001b[38;5;241;43m=\u001b[39;49m\u001b[38;5;124;43m\"\u001b[39;49m\u001b[38;5;124;43m\"\u001b[39;49m\u001b[43m,\u001b[49m\n\u001b[1;32m    879\u001b[0m \u001b[43m        \u001b[49m\u001b[43m)\u001b[49m\n\u001b[1;32m    880\u001b[0m     \u001b[38;5;28;01melse\u001b[39;00m:\n\u001b[1;32m    881\u001b[0m         \u001b[38;5;66;03m# Binary mode\u001b[39;00m\n\u001b[1;32m    882\u001b[0m         handle \u001b[38;5;241m=\u001b[39m \u001b[38;5;28mopen\u001b[39m(handle, ioargs\u001b[38;5;241m.\u001b[39mmode)\n",
      "\u001b[0;31mFileNotFoundError\u001b[0m: [Errno 2] No such file or directory: 'data_analysis/CEL_combined.csv'"
     ]
    }
   ],
   "source": [
    "CEL = pd.read_csv(\"data_analysis/CEL_combined.csv\")\n",
    "CEL_filt = ~np.isin(CEL.galaxy, RL.galaxy.unique())\n",
    "CEL_filt &= ~np.isnan(CEL.C_O_err)\n",
    "CEL = CEL[CEL_filt]\n",
    "CEL_err = calc_errs(CEL)"
   ]
  },
  {
   "cell_type": "code",
   "execution_count": null,
   "id": "25",
   "metadata": {},
   "outputs": [],
   "source": [
    "CEL.galaxy.unique()"
   ]
  },
  {
   "cell_type": "code",
   "execution_count": null,
   "id": "26",
   "metadata": {},
   "outputs": [],
   "source": [
    "plot_sample_err(CEL, CEL_err)"
   ]
  },
  {
   "cell_type": "code",
   "execution_count": null,
   "id": "27",
   "metadata": {},
   "outputs": [],
   "source": [
    "plot_sample_err(CEL[CEL.study != \"pena-guerreno+17\"], CEL_err)\n",
    "plot_sample_err(CEL[CEL.study == \"pena-guerreno+17\"], CEL_err, color=\"green\")"
   ]
  },
  {
   "cell_type": "code",
   "execution_count": 24,
   "id": "28",
   "metadata": {},
   "outputs": [
    {
     "ename": "NameError",
     "evalue": "name 'CEL' is not defined",
     "output_type": "error",
     "traceback": [
      "\u001b[0;31m---------------------------------------------------------------------------\u001b[0m",
      "\u001b[0;31mNameError\u001b[0m                                 Traceback (most recent call last)",
      "Cell \u001b[0;32mIn[24], line 1\u001b[0m\n\u001b[0;32m----> 1\u001b[0m \u001b[43mCEL\u001b[49m\u001b[38;5;241m.\u001b[39msort_values(\u001b[38;5;124m\"\u001b[39m\u001b[38;5;124mC_O\u001b[39m\u001b[38;5;124m\"\u001b[39m)[[\u001b[38;5;124m\"\u001b[39m\u001b[38;5;124mregion\u001b[39m\u001b[38;5;124m\"\u001b[39m, \u001b[38;5;124m\"\u001b[39m\u001b[38;5;124mgalaxy\u001b[39m\u001b[38;5;124m\"\u001b[39m, \u001b[38;5;124m\"\u001b[39m\u001b[38;5;124mO_H\u001b[39m\u001b[38;5;124m\"\u001b[39m, \u001b[38;5;124m\"\u001b[39m\u001b[38;5;124mC_O\u001b[39m\u001b[38;5;124m\"\u001b[39m, \u001b[38;5;124m\"\u001b[39m\u001b[38;5;124mstudy\u001b[39m\u001b[38;5;124m\"\u001b[39m]]\n",
      "\u001b[0;31mNameError\u001b[0m: name 'CEL' is not defined"
     ]
    }
   ],
   "source": [
    "CEL.sort_values(\"C_O\")[[\"region\", \"galaxy\", \"O_H\", \"C_O\", \"study\"]]"
   ]
  },
  {
   "cell_type": "code",
   "execution_count": 25,
   "id": "29",
   "metadata": {},
   "outputs": [],
   "source": [
    "high_z = pd.read_csv(\"data_analysis/high_z_cleaned.csv\")\n",
    "high_z = high_z[~np.isnan(high_z.C_O_err)]\n",
    "\n",
    "high_z_err = calc_errs(high_z)"
   ]
  },
  {
   "cell_type": "code",
   "execution_count": null,
   "id": "30",
   "metadata": {},
   "outputs": [],
   "source": [
    "plot_sample_err(high_z, high_z_err)"
   ]
  },
  {
   "cell_type": "markdown",
   "id": "31",
   "metadata": {
    "tags": []
   },
   "source": [
    "# Fiducial model"
   ]
  },
  {
   "cell_type": "code",
   "execution_count": null,
   "id": "32",
   "metadata": {},
   "outputs": [],
   "source": [
    "subgiants_ha = subgiants[subgiants.high_alpha]\n",
    "\n",
    "fiducial = ViceModel.from_file(\"../models/fiducial/run/model.json\")"
   ]
  },
  {
   "cell_type": "code",
   "execution_count": null,
   "id": "33",
   "metadata": {},
   "outputs": [],
   "source": [
    "h_today = fiducial.history[fiducial.history.time == np.max(fiducial.history.time)]\n",
    "h_today = h_today[(h_today.R > 1) & (h_today.R < 15.5)].sort_values(\"R\")\n",
    "h_today"
   ]
  },
  {
   "cell_type": "code",
   "execution_count": null,
   "id": "34",
   "metadata": {},
   "outputs": [],
   "source": [
    "def plot_fiducial():\n",
    "    plt.plot(h_today.MG_H, h_today.C_MG, label=\"Model (present day)\", zorder=9, lw=1.5, color=arya.style.COLORS[0])\n",
    "    \n",
    "plot_fiducial()"
   ]
  },
  {
   "cell_type": "markdown",
   "id": "35",
   "metadata": {},
   "source": [
    "Parameters from james et al. dwarf paper:\n",
    "\n",
    "- $\\tau_{\\rm in} = 1.01 \\pm 0.13\\,$Gyr\n",
    "- $\\eta = 8.8 \\pm 0.9$\n",
    "- $\\tau_{\\star} = 16.1 \\pm 1.3\\,$Gyr\n",
    "- $\\tau_{\\rm end} = 5.4\\pm0.3\\,$Gyr\n",
    "- $y_{\\rm Fe}^{\\rm cc} = 7.8\\pm0.4 \\times 10^{-4}$\n",
    "- $y_{\\rm Fe}^{\\rm Ia} = 1.2\\pm0.1\\times 10^{-3}$\n",
    "\n",
    "As we assume different O yields, we adjust $\\eta$ accordingly. Our total O yields are 0.712e-3, so\n",
    "$$\n",
    "\\frac{\\eta}{\n",
    "\\eta_{\\rm J+22}\n",
    "} = \n",
    "\\frac{y_O}{y_{\\rm O, J+22}} = \\frac{0.712}{1}\n",
    "$$\n",
    "in agrement with the difference in alpha-abundance assumptions. \n",
    "$$\n",
    "\\eta = 6.2 \\pm 0.7\n",
    "$$"
   ]
  },
  {
   "cell_type": "markdown",
   "id": "36",
   "metadata": {
    "tags": []
   },
   "source": [
    "# Singlezone models"
   ]
  },
  {
   "cell_type": "markdown",
   "id": "37",
   "metadata": {},
   "source": [
    "## TODO: pull these somehow from the singlezone notebook"
   ]
  },
  {
   "cell_type": "code",
   "execution_count": null,
   "id": "38",
   "metadata": {
    "tags": []
   },
   "outputs": [],
   "source": [
    "yp = surp.YieldParams.from_file(\"../models/analytic/mc_best/yield_params.toml\")\n",
    "surp.set_yields(yp)\n",
    "\n",
    "sz_fiducial = run_singlezone()[1]"
   ]
  },
  {
   "cell_type": "markdown",
   "id": "39",
   "metadata": {},
   "source": [
    "change dwarf parameters to\n",
    "match Wukong from James’ dwarf paper. 𝜂 = 47.99 ± 5, 𝑡end = 3.36 ± 0.5,\n",
    "𝜏★ = 44.97 ± 7, 𝜏sfh = 3.08 ± 1"
   ]
  },
  {
   "cell_type": "code",
   "execution_count": null,
   "id": "40",
   "metadata": {},
   "outputs": [],
   "source": [
    "48 * 0.6"
   ]
  },
  {
   "cell_type": "code",
   "execution_count": null,
   "id": "41",
   "metadata": {
    "tags": []
   },
   "outputs": [],
   "source": [
    "yp_lowz = surp.YieldParams.from_file(\"../models/analytic/linear/yield_params.toml\")\n",
    "\n",
    "surp.set_yields(yp_lowz)\n",
    "\n",
    "y_scale = 0.6# 0.712\n",
    "\n",
    "sz_models = [\n",
    "    run_singlezone(verbose=True)[1],\n",
    "    run_singlezone(eta=y_scale * 9.56, t_end=10.73, tau_star=26.60, tau_sfh=2.18, sfh=exp_sfh(None), mode=\"ifr\", verbose=True)[1], # GSE\n",
    "    run_singlezone(eta=y_scale * 48, t_end=3.4, tau_star=45, tau_sfh=3.08, sfh=exp_sfh(None), mode=\"ifr\", verbose=True)[1], # wukong\n",
    "]"
   ]
  },
  {
   "cell_type": "code",
   "execution_count": null,
   "id": "42",
   "metadata": {},
   "outputs": [],
   "source": [
    "from surp.yields import calc_y"
   ]
  },
  {
   "cell_type": "code",
   "execution_count": null,
   "id": "43",
   "metadata": {},
   "outputs": [],
   "source": [
    "MoverH = np.linspace(-5, 0.5)\n",
    "Z = gcem.MH_to_Z(MoverH)\n",
    "\n",
    "y_total = calc_y(Z)\n",
    "y_agb = calc_y(Z, kind=\"agb\")\n",
    "y_cc = calc_y(Z, kind=\"cc\")\n",
    "y_ia = calc_y(Z, kind=\"ia\")\n",
    "\n",
    "yo = calc_y(ele=\"o\")"
   ]
  },
  {
   "cell_type": "code",
   "execution_count": null,
   "id": "44",
   "metadata": {},
   "outputs": [],
   "source": [
    "def plot_sz(zorder=10):\n",
    "    #singlezone\n",
    "    for i in range(len(sz_models)):\n",
    "        out = sz_models[i]\n",
    "        if i == 0:\n",
    "            label=\"singlezone\"\n",
    "        else:\n",
    "            label=\"\"\n",
    "        plt.plot(out.MG_H, out.C_MG, label=label, color=\"k\", \n",
    "                 lw=1, zorder=zorder, ls=[\":\", \"--\", \"-.\"][i])\n",
    "\n",
    "    plt.plot(sz_fiducial.MG_H, sz_fiducial.C_MG, label=label, color=\"k\", \n",
    "             lw=1, zorder=zorder)\n",
    "    \n",
    "    plt.xlabel(\"[O/H]\")\n",
    "    plt.ylabel(\"[C/O]\")"
   ]
  },
  {
   "cell_type": "code",
   "execution_count": null,
   "id": "45",
   "metadata": {},
   "outputs": [],
   "source": [
    "sz_models[1]"
   ]
  },
  {
   "cell_type": "code",
   "execution_count": null,
   "id": "46",
   "metadata": {},
   "outputs": [],
   "source": [
    "for model in sz_models:\n",
    "    plt.plot(model.time, model.sfr / model.sfr.iloc[-1])\n",
    "plt.xlabel(\"time\")\n",
    "plt.ylabel(\"sfr\")"
   ]
  },
  {
   "cell_type": "code",
   "execution_count": null,
   "id": "47",
   "metadata": {},
   "outputs": [],
   "source": [
    "for model in sz_models:\n",
    "    plt.plot(model.time, model.ifr / model.ifr.iloc[1], alpha=0.5)\n",
    "plt.xlabel(\"time\")\n",
    "plt.ylabel(\"ifr\")"
   ]
  },
  {
   "cell_type": "code",
   "execution_count": null,
   "id": "48",
   "metadata": {},
   "outputs": [],
   "source": [
    "for model in sz_models:\n",
    "    plt.plot(model.time, model.MG_H,  alpha=0.5)\n",
    "plt.xlabel(\"time\")\n",
    "plt.xscale(\"log\")\n",
    "plt.ylabel(\"[Mg/H]\")"
   ]
  },
  {
   "cell_type": "code",
   "execution_count": null,
   "id": "49",
   "metadata": {},
   "outputs": [],
   "source": [
    "plot_sz(zorder=0)\n",
    "\n",
    "\n",
    "plt.plot(MoverH, gcem.abund_ratio_to_brak(y_cc/yo, \"c\", \"o\"), lw=1, label=\"CC\")\n",
    "plt.plot(MoverH, gcem.abund_ratio_to_brak(y_total/yo, \"c\", \"o\"), lw=1, label=\"total\")\n",
    "\n",
    "\n",
    "plt.xlabel(\"[Mg/H]\")\n",
    "plt.ylabel(\"[C/Mg]\")\n",
    "plt.xlim(-4)\n",
    "arya.Legend(-1)"
   ]
  },
  {
   "cell_type": "code",
   "execution_count": null,
   "id": "50",
   "metadata": {},
   "outputs": [],
   "source": [
    "data_kwargs = dict(\n",
    "    stat=\"median\",\n",
    "    label = r\"low $\\alpha$ subgiants\",\n",
    "    color=COLORS[4],\n",
    "    err_kwargs=dict(facecolor=COLORS[4], alpha=0.0)\n",
    ")\n",
    "\n",
    "def cooh_subgiants(x=\"O_H\", y=\"C_O\", filt_ha=True, **kwargs):\n",
    "    kwargs = dict(numbins=20, **kwargs)\n",
    "    \n",
    "    if filt_ha:\n",
    "        df = surp.filter_high_alpha(subgiants)\n",
    "    else:\n",
    "        df = subgiants\n",
    "        \n",
    "    arya.medianplot(df, x=x, y=y, zorder=-2, **data_kwargs, **kwargs)"
   ]
  },
  {
   "cell_type": "code",
   "execution_count": null,
   "id": "51",
   "metadata": {},
   "outputs": [],
   "source": [
    "cooh_subgiants()"
   ]
  },
  {
   "cell_type": "markdown",
   "id": "52",
   "metadata": {
    "tags": []
   },
   "source": [
    "# La Finale"
   ]
  },
  {
   "cell_type": "code",
   "execution_count": null,
   "id": "53",
   "metadata": {},
   "outputs": [],
   "source": [
    "def lower_legend_label(fig):\n",
    "    plt.ylabel(r\"[C/O]\")\n",
    "\n",
    "    lab = plt.xlabel(r\"[O/H]\")\n",
    "    \n",
    "    leg = fig.legend(loc='upper center', bbox_to_anchor=(0.5, -0.05), ncols=4, markerscale=2)\n",
    "    box1 = leg.get_tightbbox()\n",
    "    box2 = lab.get_tightbbox() \n",
    "\n",
    "    t1 = box1.transformed(fig.transFigure.inverted())\n",
    "    t2 = box2.transformed(fig.transFigure.inverted())\n",
    "    ym = (t2.y0 + t1.y1)/2\n",
    "\n",
    "\n",
    "    fig.add_artist(mpl.lines.Line2D([t1.x0, t1.x1], [ym, ym], color=\"k\", lw=0.5))\n"
   ]
  },
  {
   "cell_type": "code",
   "execution_count": null,
   "id": "54",
   "metadata": {},
   "outputs": [],
   "source": [
    "def plot_all_data():\n",
    "    plot_sample_err(all_stars, all_star_err, marker=\"*\", color=COLORS[8], label=\"MW stars\")\n",
    "    plot_sample_err(RL_mw, marker=\"p\", color=COLORS[1], label=\"MW HII Regions\")\n",
    "    df = RL_mw.sort_values(\"O_H\")\n",
    "    plt.plot(df.O_H, df.C_O, color=COLORS[1])\n",
    "    \n",
    "    plot_sample_err(RL, marker=\"d\", edgecolors=COLORS[2], color=\"none\", lw=0.5, label=\"HII Regions (RL)\")\n",
    "    plot_sample_err(CEL, CEL_err, marker=\"d\", color=COLORS[2], label=\"HII regions (CEL)\")\n",
    "\n",
    "    for galaxy in RL.galaxy.unique():\n",
    "        df = RL[RL.galaxy == galaxy].sort_values(\"O_H\")\n",
    "        if len(df) > 2:\n",
    "            print(galaxy)\n",
    "            #plt.plot(df.O_H, df.C_O, color=COLORS[2])\n",
    "\n",
    "    plot_sample_err(high_z, high_z_err, marker=\"s\", color=COLORS[6], label=r\"high-$z$ galaxies\")\n",
    "    \n",
    "    \n",
    "    plot_sample_err(DLA, DLA_err, marker=\"^\", color=COLORS[3], label=r\"damped Lyman$\\alpha$ systems\")\n",
    "\n",
    "\n",
    "    cooh_subgiants()"
   ]
  },
  {
   "cell_type": "code",
   "execution_count": null,
   "id": "55",
   "metadata": {},
   "outputs": [],
   "source": [
    "fig = plt.figure(figsize=(7, 4))\n",
    "plot_all_data()\n",
    "\n",
    "lower_legend_label(fig)\n"
   ]
  },
  {
   "cell_type": "code",
   "execution_count": null,
   "id": "56",
   "metadata": {
    "tags": []
   },
   "outputs": [],
   "source": [
    "fig = plt.figure(figsize=(7, 4))\n",
    "\n",
    "plot_all_data()\n",
    "plot_fiducial()\n",
    "plot_sz()\n",
    "\n",
    "lower_legend_label(fig)\n",
    "plt.xlim(-3.25, 0.5)\n",
    "plt.ylim(-1.2, 0.4)\n",
    "plt.tight_layout()\n",
    "\n",
    "\n",
    "plt.savefig(\"figures/summary.pdf\")"
   ]
  },
  {
   "cell_type": "markdown",
   "id": "57",
   "metadata": {},
   "source": [
    "# Low z mean"
   ]
  },
  {
   "cell_type": "code",
   "execution_count": null,
   "id": "58",
   "metadata": {},
   "outputs": [],
   "source": [
    "all_data = pd.concat([\n",
    "    RL_mw,\n",
    "    RL,\n",
    "    DLA, \n",
    "    all_stars,\n",
    "    high_z,\n",
    "    CEL,\n",
    "])"
   ]
  },
  {
   "cell_type": "code",
   "execution_count": null,
   "id": "59",
   "metadata": {},
   "outputs": [],
   "source": [
    "w = 1 / all_data.C_O_err**2\n",
    "\n",
    "filt = all_data.O_H < -1\n",
    "filt &= all_data.O_H > -1.8\n",
    "\n",
    "w  = w[filt]\n",
    "x = all_data.C_O[filt]"
   ]
  },
  {
   "cell_type": "code",
   "execution_count": null,
   "id": "60",
   "metadata": {},
   "outputs": [],
   "source": [
    "μ = np.sum(x*w) / np.sum(w)\n",
    "σ = 1/np.sqrt(np.sum(w))\n",
    "\n",
    "μ, σ"
   ]
  },
  {
   "cell_type": "code",
   "execution_count": null,
   "id": "61",
   "metadata": {},
   "outputs": [],
   "source": [
    "surp.gce_math.brak_to_abund_ratio(-0.62, \"c\", \"mg\") * vice.yields.ccsne.settings[\"mg\"] / 1e-4"
   ]
  },
  {
   "cell_type": "code",
   "execution_count": null,
   "id": "62",
   "metadata": {},
   "outputs": [],
   "source": [
    "surp.gce_math.brak_to_abund_ratio(-0.62, \"c\", \"mg\") * vice.yields.ccsne.settings[\"mg\"] * σ*np.log(10)/ 1e-4"
   ]
  },
  {
   "cell_type": "code",
   "execution_count": null,
   "id": "63",
   "metadata": {},
   "outputs": [],
   "source": [
    "vice.yields.ccsne.settings[\"mg\"] * 10**-0.62 "
   ]
  },
  {
   "cell_type": "code",
   "execution_count": null,
   "id": "64",
   "metadata": {},
   "outputs": [],
   "source": [
    "import weighted"
   ]
  },
  {
   "cell_type": "code",
   "execution_count": null,
   "id": "65",
   "metadata": {},
   "outputs": [],
   "source": [
    "weighted.quantile(x, w, 0.16)"
   ]
  },
  {
   "cell_type": "code",
   "execution_count": null,
   "id": "66",
   "metadata": {},
   "outputs": [],
   "source": [
    "plt.errorbar(all_data.O_H[filt], all_data.C_O[filt], yerr = 1/w**0.5, fmt=\"o\")\n",
    "plt.axhline(-0.62)"
   ]
  },
  {
   "cell_type": "code",
   "execution_count": null,
   "id": "67",
   "metadata": {},
   "outputs": [],
   "source": []
  }
 ],
 "metadata": {
  "kernelspec": {
   "display_name": "Python 3 (ipykernel)",
   "language": "python",
   "name": "python3"
  },
  "language_info": {
   "codemirror_mode": {
    "name": "ipython",
    "version": 3
   },
   "file_extension": ".py",
   "mimetype": "text/x-python",
   "name": "python",
   "nbconvert_exporter": "python",
   "pygments_lexer": "ipython3",
   "version": "3.11.9"
  }
 },
 "nbformat": 4,
 "nbformat_minor": 5
}
