{
 "cells": [
  {
   "cell_type": "markdown",
   "id": "0",
   "metadata": {},
   "source": [
    "Data from many different sources. This notebook makes the last plot of\n",
    "the paper."
   ]
  },
  {
   "cell_type": "markdown",
   "id": "1",
   "metadata": {},
   "source": [
    "TODO: need to drop duplicates between RL & CEL regions, note that RL and CEL not consistent as labeled \n",
    "also would be nice to seperate RL by galaxy? and high z as well"
   ]
  },
  {
   "cell_type": "markdown",
   "id": "2",
   "metadata": {
    "tags": []
   },
   "source": [
    "# Introduction"
   ]
  },
  {
   "cell_type": "code",
   "execution_count": null,
   "id": "3",
   "metadata": {},
   "outputs": [],
   "source": [
    "import pandas as pd\n",
    "import matplotlib as mpl\n",
    "import matplotlib.pyplot as plt\n",
    "import numpy as np\n",
    "import vice\n"
   ]
  },
  {
   "cell_type": "code",
   "execution_count": null,
   "id": "4",
   "metadata": {},
   "outputs": [],
   "source": [
    "from surp import ViceModel, yields, subgiants, DATA_DIR\n",
    "from surp import gce_math as gcem\n",
    "\n",
    "import surp\n",
    "import arya\n",
    "from arya import COLORS"
   ]
  },
  {
   "cell_type": "code",
   "execution_count": null,
   "id": "5",
   "metadata": {},
   "outputs": [],
   "source": [
    "from singlezone import run_singlezone, exp_sfh"
   ]
  },
  {
   "cell_type": "code",
   "execution_count": null,
   "id": "6",
   "metadata": {},
   "outputs": [],
   "source": [
    "def to_nice(apogee_name):\n",
    "    return \"[\" + apogee_name.title().replace(\"_\", \"/\") + \"]\""
   ]
  },
  {
   "cell_type": "code",
   "execution_count": null,
   "id": "7",
   "metadata": {},
   "outputs": [],
   "source": [
    "def plot_abund_errs(df, x=\"O_H\", y=\"C_O\", **kwargs):\n",
    "    xs = df[x].values\n",
    "    ys =  df[y].values\n",
    "    xerr = df[f\"{x}_err\"].values\n",
    "    yerr = df[f\"{y}_err\"].values\n",
    "    filt = ~np.isnan(xerr) \n",
    "    filt &= ~np.isnan(yerr)\n",
    "    filt &= xerr > 0\n",
    "    filt &= yerr > 0\n",
    "    \n",
    "    plt.errorbar(xs[filt], ys[filt], xerr=xerr[filt], yerr=yerr[filt], fmt=\"o\", capsize=0, **kwargs)\n",
    "    plt.xlabel(to_nice(x))\n",
    "    plt.ylabel(to_nice(y))"
   ]
  },
  {
   "cell_type": "code",
   "execution_count": null,
   "id": "8",
   "metadata": {},
   "outputs": [],
   "source": [
    "def plot_sample(df, **kwargs):    \n",
    "    plot_abund_errs(df, x=\"FE_H\", y=\"O_FE\", **kwargs)\n",
    "    plt.show()\n",
    "    \n",
    "    plot_abund_errs(df, **kwargs)\n",
    "    plt.show()\n",
    "    \n",
    "    plot_abund_errs(df, x=\"O_FE\", **kwargs)\n",
    "    plt.show()\n",
    "    \n",
    "    if \"MG_FE\" in df.columns:\n",
    "        plot_abund_errs(df, x=\"O_H\", y=\"O_MG\", **kwargs)\n",
    "        plot_abund_errs(df, x=\"MG_H\", y=\"C_MG\", **kwargs)\n",
    "        plot_abund_errs(df, x=\"MG_FE\", y=\"C_MG\", **kwargs)\n",
    "        plt.show()\n",
    "                    "
   ]
  },
  {
   "cell_type": "code",
   "execution_count": null,
   "id": "9",
   "metadata": {},
   "outputs": [],
   "source": [
    "def calc_errs(df, idx=None):\n",
    "    series = pd.Series()\n",
    "    series[\"O_H_err\"] = np.nanmean(df[\"O_H_err\"])\n",
    "    series[\"C_O_err\"] = np.nanmean(df[\"C_O_err\"])\n",
    "    \n",
    "    if idx is None:\n",
    "        O_H = np.mean(df.O_H)\n",
    "        C_O = np.mean(df.C_O)\n",
    "        \n",
    "        idx = np.argmin((df.O_H - O_H)**2 )#+ (df.C_O - C_O)**2)\n",
    "        series[\"O_H\"] = df.O_H.iloc[idx]\n",
    "        series[\"C_O\"] = df.C_O.iloc[idx]\n",
    "    \n",
    "    return series.to_frame().T"
   ]
  },
  {
   "cell_type": "code",
   "execution_count": null,
   "id": "10",
   "metadata": {},
   "outputs": [],
   "source": [
    "def plot_sample_err(df, df_err=None, color=COLORS[0], marker=\"*\", label=\"\", **kwargs):\n",
    "    if df_err is None:\n",
    "        df_err = calc_errs(df)\n",
    "        \n",
    "    plt.scatter(df[\"O_H\"], df[\"C_O\"], marker=marker, color=color, label=label, **kwargs)\n",
    "    \n",
    "\n",
    "    plt.errorbar(df_err[\"O_H\"], df_err[\"C_O\"],  xerr=df_err.O_H_err, yerr=df_err.C_O_err,\n",
    "             marker=\"none\", ls=\"none\", color=color, capsize=0, **kwargs)\n",
    "    \n",
    "    plt.xlabel(\"[O/H]\")\n",
    "    plt.ylabel(\"[C/O]\")"
   ]
  },
  {
   "cell_type": "code",
   "execution_count": null,
   "id": "11",
   "metadata": {},
   "outputs": [],
   "source": [
    "surp.set_yields(verbose=False)"
   ]
  },
  {
   "cell_type": "code",
   "execution_count": null,
   "id": "12",
   "metadata": {},
   "outputs": [],
   "source": [
    "all_stars = pd.read_csv(\"data_analysis/amarsi19_cleaned.csv\")"
   ]
  },
  {
   "cell_type": "code",
   "execution_count": null,
   "id": "13",
   "metadata": {},
   "outputs": [],
   "source": [
    "all_star_err = pd.DataFrame()\n",
    "\n",
    "\n",
    "# split into two regemes and plot error bars\n",
    "mh_cut = -0.3\n",
    "\n",
    "low_z = all_stars[all_stars[\"O_H\"] < mh_cut]\n",
    "high_z = all_stars[all_stars[\"O_H\"] >= mh_cut]\n",
    "all_star_err = pd.concat([calc_errs(low_z), calc_errs(high_z)], ignore_index=True)\n",
    "all_star_err"
   ]
  },
  {
   "cell_type": "code",
   "execution_count": null,
   "id": "14",
   "metadata": {},
   "outputs": [],
   "source": [
    "plot_sample_err(all_stars, all_star_err)"
   ]
  },
  {
   "cell_type": "code",
   "execution_count": null,
   "id": "15",
   "metadata": {},
   "outputs": [],
   "source": [
    "RL = pd.read_csv(\"data_analysis/RL_combined.csv\")\n",
    "RL_err = calc_errs(RL)"
   ]
  },
  {
   "cell_type": "code",
   "execution_count": null,
   "id": "16",
   "metadata": {},
   "outputs": [],
   "source": [
    "DLA = pd.read_csv(\"data_analysis/DLA_combined.csv\")\n",
    "DLA_err = calc_errs(DLA)"
   ]
  },
  {
   "cell_type": "code",
   "execution_count": null,
   "id": "17",
   "metadata": {},
   "outputs": [],
   "source": [
    "dwarfs = pd.read_csv(\"data_analysis/dwarfs_combined.csv\")\n",
    "dwarf_err = calc_errs(dwarfs)"
   ]
  },
  {
   "cell_type": "code",
   "execution_count": null,
   "id": "18",
   "metadata": {},
   "outputs": [],
   "source": [
    "high_z = pd.read_csv(\"data_analysis/high_z_cleaned.csv\")\n",
    "high_z_err = calc_errs(high_z)"
   ]
  },
  {
   "cell_type": "markdown",
   "id": "19",
   "metadata": {
    "tags": []
   },
   "source": [
    "# Fiducial model"
   ]
  },
  {
   "cell_type": "code",
   "execution_count": null,
   "id": "20",
   "metadata": {},
   "outputs": [],
   "source": [
    "subgiants_ha = subgiants[subgiants.high_alpha]\n",
    "\n",
    "fiducial = ViceModel.from_file(\"../models/fiducial/run/model.json\")"
   ]
  },
  {
   "cell_type": "code",
   "execution_count": null,
   "id": "21",
   "metadata": {},
   "outputs": [],
   "source": [
    "h_today = fiducial.history[fiducial.history.time == np.max(fiducial.history.time)]\n",
    "h_today = h_today[(h_today.R > 1) & (h_today.R < 15.5)].sort_values(\"R\")\n",
    "h_today"
   ]
  },
  {
   "cell_type": "code",
   "execution_count": null,
   "id": "22",
   "metadata": {},
   "outputs": [],
   "source": [
    "def plot_fiducial():\n",
    "    plt.plot(h_today.MG_H, h_today.C_MG, label=\"Model (present day)\", zorder=9, lw=1.5, color=arya.style.COLORS[0])\n",
    "    \n",
    "plot_fiducial()"
   ]
  },
  {
   "cell_type": "markdown",
   "id": "23",
   "metadata": {},
   "source": [
    "Parameters from james et al. dwarf paper:\n",
    "\n",
    "- $\\tau_{\\rm in} = 1.01 \\pm 0.13\\,$Gyr\n",
    "- $\\eta = 8.8 \\pm 0.9$\n",
    "- $\\tau_{\\star} = 16.1 \\pm 1.3\\,$Gyr\n",
    "- $\\tau_{\\rm end} = 5.4\\pm0.3\\,$Gyr\n",
    "- $y_{\\rm Fe}^{\\rm cc} = 7.8\\pm0.4 \\times 10^{-4}$\n",
    "- $y_{\\rm Fe}^{\\rm Ia} = 1.2\\pm0.1\\times 10^{-3}$\n",
    "\n",
    "As we assume different O yields, we adjust $\\eta$ accordingly. Our total O yields are 0.712e-3, so\n",
    "$$\n",
    "\\frac{\\eta}{\n",
    "\\eta_{\\rm J+22}\n",
    "} = \n",
    "\\frac{y_O}{y_{\\rm O, J+22}} = \\frac{0.712}{1}\n",
    "$$\n",
    "in agrement with the difference in alpha-abundance assumptions. \n",
    "$$\n",
    "\\eta = 6.2 \\pm 0.7\n",
    "$$"
   ]
  },
  {
   "cell_type": "markdown",
   "id": "24",
   "metadata": {
    "tags": []
   },
   "source": [
    "# Singlezone models"
   ]
  },
  {
   "cell_type": "markdown",
   "id": "25",
   "metadata": {},
   "source": [
    "## TODO: pull these somehow from the singlezone notebook"
   ]
  },
  {
   "cell_type": "code",
   "execution_count": null,
   "id": "26",
   "metadata": {
    "tags": []
   },
   "outputs": [],
   "source": [
    "yp = surp.YieldParams.from_file(\"../models/fiducial/yield_params.toml\")\n",
    "surp.set_yields(yp)\n",
    "\n",
    "sz_fiducial = run_singlezone()[1]"
   ]
  },
  {
   "cell_type": "markdown",
   "id": "27",
   "metadata": {},
   "source": [
    "change dwarf parameters to\n",
    "match Wukong from James’ dwarf paper. 𝜂 = 47.99 ± 5, 𝑡end = 3.36 ± 0.5,\n",
    "𝜏★ = 44.97 ± 7, 𝜏sfh = 3.08 ± 1"
   ]
  },
  {
   "cell_type": "code",
   "execution_count": null,
   "id": "28",
   "metadata": {
    "tags": []
   },
   "outputs": [],
   "source": [
    "yp_lowz = surp.YieldParams.from_file(\"../models/fruity/cc_BiLogLin/yield_params.toml\")\n",
    "\n",
    "surp.set_yields(yp_lowz)\n",
    "\n",
    "y_scale = 0.6# 0.712\n",
    "\n",
    "sz_models = [\n",
    "    run_singlezone()[1],\n",
    "    run_singlezone(eta=y_scale * 9.56, t_end=10.73, tau_star=26.60, tau_sfh=2.18, sfh=exp_sfh(None), mode=\"ifr\")[1], # GSE\n",
    "    run_singlezone(eta=y_scale * 48, t_end=3.4, tau_star=45, tau_sfh=3.08, sfh=exp_sfh(None), mode=\"ifr\")[1], # wukong\n",
    "]"
   ]
  },
  {
   "cell_type": "code",
   "execution_count": null,
   "id": "29",
   "metadata": {},
   "outputs": [],
   "source": [
    "from surp.yields import calc_y"
   ]
  },
  {
   "cell_type": "code",
   "execution_count": null,
   "id": "30",
   "metadata": {},
   "outputs": [],
   "source": [
    "MoverH = np.linspace(-5, 0.5)\n",
    "Z = gcem.MH_to_Z(MoverH)\n",
    "\n",
    "y_total = calc_y(Z)\n",
    "y_agb = calc_y(Z, kind=\"agb\")\n",
    "y_cc = calc_y(Z, kind=\"cc\")\n",
    "y_ia = calc_y(Z, kind=\"ia\")\n",
    "\n",
    "yo = calc_y(ele=\"o\")"
   ]
  },
  {
   "cell_type": "code",
   "execution_count": null,
   "id": "31",
   "metadata": {},
   "outputs": [],
   "source": [
    "def plot_sz(zorder=10):\n",
    "    #singlezone\n",
    "    for i in range(len(sz_models)):\n",
    "        out = sz_models[i]\n",
    "        if i == 0:\n",
    "            label=\"singlezone\"\n",
    "        else:\n",
    "            label=\"\"\n",
    "        plt.plot(out.MG_H, out.C_MG, label=label, color=\"k\", \n",
    "                 lw=1, zorder=zorder, ls=[\":\", \"--\", \"-.\"][i])\n",
    "\n",
    "    plt.plot(sz_fiducial.MG_H, sz_fiducial.C_MG, label=label, color=\"k\", \n",
    "             lw=1, zorder=zorder)\n",
    "    \n",
    "    plt.xlabel(\"[O/H]\")\n",
    "    plt.ylabel(\"[C/O]\")"
   ]
  },
  {
   "cell_type": "code",
   "execution_count": null,
   "id": "32",
   "metadata": {},
   "outputs": [],
   "source": [
    "sz_models[1]"
   ]
  },
  {
   "cell_type": "code",
   "execution_count": null,
   "id": "33",
   "metadata": {},
   "outputs": [],
   "source": [
    "for model in sz_models:\n",
    "    plt.plot(model.time, model.sfr / model.sfr.iloc[-1])\n",
    "plt.xlabel(\"time\")\n",
    "plt.ylabel(\"sfr\")"
   ]
  },
  {
   "cell_type": "code",
   "execution_count": null,
   "id": "34",
   "metadata": {},
   "outputs": [],
   "source": [
    "for model in sz_models:\n",
    "    plt.plot(model.time, model.ifr / model.ifr.iloc[1], alpha=0.5)\n",
    "plt.xlabel(\"time\")\n",
    "plt.ylabel(\"ifr\")"
   ]
  },
  {
   "cell_type": "code",
   "execution_count": null,
   "id": "35",
   "metadata": {},
   "outputs": [],
   "source": [
    "plot_sz(zorder=0)\n",
    "\n",
    "\n",
    "plt.plot(MoverH, gcem.abund_ratio_to_brak(y_cc/yo, \"c\", \"o\"), lw=1, label=\"CC\")\n",
    "plt.plot(MoverH, gcem.abund_ratio_to_brak(y_total/yo, \"c\", \"o\"), lw=1, label=\"total\")\n",
    "\n",
    "\n",
    "plt.xlabel(\"[Mg/H]\")\n",
    "plt.ylabel(\"[C/Mg]\")\n",
    "plt.xlim(-4)\n",
    "arya.Legend(-1)"
   ]
  },
  {
   "cell_type": "markdown",
   "id": "36",
   "metadata": {
    "tags": []
   },
   "source": [
    "# La Finale"
   ]
  },
  {
   "cell_type": "code",
   "execution_count": null,
   "id": "37",
   "metadata": {},
   "outputs": [],
   "source": [
    "def lower_legend_label(fig):\n",
    "    plt.ylabel(r\"[C/O]\")\n",
    "\n",
    "    lab = plt.xlabel(r\"[O/H]\")\n",
    "    \n",
    "    leg = fig.legend(loc='upper center', bbox_to_anchor=(0.5, -0.05), ncols=4, markerscale=2)\n",
    "    box1 = leg.get_tightbbox()\n",
    "    box2 = lab.get_tightbbox() \n",
    "\n",
    "    t1 = box1.transformed(fig.transFigure.inverted())\n",
    "    t2 = box2.transformed(fig.transFigure.inverted())\n",
    "    ym = (t2.y0 + t1.y1)/2\n",
    "\n",
    "\n",
    "    fig.add_artist(mpl.lines.Line2D([t1.x0, t1.x1], [ym, ym], color=\"k\", lw=0.5))\n"
   ]
  },
  {
   "cell_type": "code",
   "execution_count": null,
   "id": "38",
   "metadata": {},
   "outputs": [],
   "source": [
    "def plot_all_data():\n",
    "    plot_sample_err(all_stars, all_star_err, marker=\"*\", color=COLORS[8], label=\"MW stars\")\n",
    "    plot_sample_err(RL, marker=\"o\", color=COLORS[1], label=\"MW/M101 HII Regions\")\n",
    "    plot_sample_err(dwarfs, dwarf_err, marker=\"d\", color=COLORS[2], label=\"dwarf galaxies\")\n",
    "    plot_sample_err(high_z, high_z_err, marker=\"s\", color=COLORS[6], label=r\"high-$z$ galaxies\")\n",
    "    \n",
    "    \n",
    "    plot_sample_err(DLA, DLA_err, marker=\"^\", color=COLORS[3], label=r\"damped Lyman$\\alpha$ systems\")\n"
   ]
  },
  {
   "cell_type": "code",
   "execution_count": null,
   "id": "39",
   "metadata": {},
   "outputs": [],
   "source": [
    "fig = plt.figure(figsize=(7, 4))\n",
    "plot_all_data()\n",
    "\n",
    "lower_legend_label(fig)\n"
   ]
  },
  {
   "cell_type": "code",
   "execution_count": null,
   "id": "40",
   "metadata": {
    "tags": []
   },
   "outputs": [],
   "source": [
    "fig = plt.figure(figsize=(7, 4))\n",
    "\n",
    "plot_all_data()\n",
    "plot_fiducial()\n",
    "plot_sz()\n",
    "\n",
    "lower_legend_label(fig)\n",
    "plt.xlim(-3.25, 0.5)\n",
    "plt.ylim(-1.2, 0.4)\n",
    "plt.tight_layout()\n",
    "\n",
    "\n",
    "plt.savefig(\"figures/summary.pdf\")"
   ]
  },
  {
   "cell_type": "code",
   "execution_count": null,
   "id": "41",
   "metadata": {},
   "outputs": [],
   "source": []
  }
 ],
 "metadata": {
  "kernelspec": {
   "display_name": "Python 3 (ipykernel)",
   "language": "python",
   "name": "python3"
  },
  "language_info": {
   "codemirror_mode": {
    "name": "ipython",
    "version": 3
   },
   "file_extension": ".py",
   "mimetype": "text/x-python",
   "name": "python",
   "nbconvert_exporter": "python",
   "pygments_lexer": "ipython3",
   "version": "3.11.9"
  }
 },
 "nbformat": 4,
 "nbformat_minor": 5
}
