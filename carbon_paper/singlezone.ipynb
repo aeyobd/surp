{
 "cells": [
  {
   "cell_type": "code",
   "execution_count": null,
   "id": "0",
   "metadata": {},
   "outputs": [],
   "source": [
    "import numpy as np\n",
    "import pandas as pd\n",
    "import matplotlib.pyplot as plt"
   ]
  },
  {
   "cell_type": "code",
   "execution_count": null,
   "id": "1",
   "metadata": {},
   "outputs": [],
   "source": [
    "from surp import subgiants\n",
    "import surp\n",
    "import vice\n",
    "from surp import gce_math as gcem\n",
    "import arya\n",
    "\n",
    "import sys"
   ]
  },
  {
   "cell_type": "code",
   "execution_count": null,
   "id": "2",
   "metadata": {},
   "outputs": [],
   "source": [
    "import warnings;\n",
    "warnings.filterwarnings(\"ignore\")"
   ]
  },
  {
   "cell_type": "code",
   "execution_count": null,
   "id": "3",
   "metadata": {},
   "outputs": [],
   "source": [
    "from singlezone import run_singlezone, exp_sfh"
   ]
  },
  {
   "cell_type": "code",
   "execution_count": null,
   "id": "4",
   "metadata": {},
   "outputs": [],
   "source": [
    "y_scale = 0.6# 0.712\n",
    "\n",
    "mw = {}\n",
    "gse = dict(eta=y_scale * 9.56, t_end=10.73, tau_star=26.60, tau_sfh=2.18, sfh=exp_sfh(None), mode=\"ifr\")\n",
    "wukong = dict(eta=y_scale * 48, t_end=3.4, tau_star=45, tau_sfh=3.08, sfh=exp_sfh(None), mode=\"ifr\")"
   ]
  },
  {
   "cell_type": "code",
   "execution_count": null,
   "id": "5",
   "metadata": {},
   "outputs": [],
   "source": [
    "def calc_model(**params):\n",
    "    sz, h = run_singlezone(**params)\n",
    "    \n",
    "    return h.MG_H, h.C_MG, h.sfr"
   ]
  },
  {
   "cell_type": "code",
   "execution_count": null,
   "id": "6",
   "metadata": {},
   "outputs": [],
   "source": [
    "def plot_sz(label=\"\", **kwargs,):\n",
    "    x, y, w = calc_model(**kwargs)\n",
    "    plt.scatter(x, y, s=w, label=label)\n",
    "    plt.xlabel(\"[Mg/Fe]\")\n",
    "    plt.ylabel(\"[C/Mg]\")\n",
    "    arya.Legend(loc=-1, color_only=True)"
   ]
  },
  {
   "cell_type": "code",
   "execution_count": null,
   "id": "7",
   "metadata": {},
   "outputs": [],
   "source": [
    "amarsi19 = pd.read_csv(surp.DATA_DIR + \"stellar_catalogues/amarsi_19.tsv\", delimiter=\"\\t *\", comment=\"#\", skiprows=[62, 63],)\n",
    "\n",
    "amarsi19[\"FE_H\"] = amarsi19[\"[Fe/H]3L\"]\n",
    "amarsi19[\"FE_H_err\"] = amarsi19[\"e_[Fe/H]3L\"]\n",
    "\n",
    "amarsi19[\"O_H\"] = amarsi19[\"[O/H]3N\"]\n",
    "amarsi19[\"O_H_err\"] = amarsi19[\"e_[O/H]3N\"]\n",
    "\n",
    "amarsi19[\"C_H\"] = amarsi19[\"[C/H]3N\"]\n",
    "amarsi19[\"C_H_err\"] = amarsi19[\"e_[C/H]3N\"]\n",
    "\n",
    "amarsi19[\"C_O\"] = amarsi19[\"C_H\"] - amarsi19[\"O_H\"] \n",
    "amarsi19[\"C_O_err\"] = amarsi19[\"O_H_err\"] + amarsi19[\"C_H_err\"] \n",
    "\n",
    "amarsi19[\"O_FE\"] = amarsi19[\"O_H\"] - amarsi19[\"[Fe/H]3L\"]\n",
    "amarsi19[\"O_FE_err\"] = amarsi19[\"e_[Fe/H]3L\"] + amarsi19[\"O_H_err\"]\n",
    "\n",
    "amarsi19_sun = amarsi19.iloc[151]\n",
    "amarsi19.drop(index=151, inplace=True)"
   ]
  },
  {
   "cell_type": "code",
   "execution_count": null,
   "id": "8",
   "metadata": {},
   "outputs": [],
   "source": [
    "def plot_obs(**kwargs):\n",
    "    plt.scatter(amarsi19.O_H, amarsi19.C_O, zorder=-1, s=0.1, label=\"amarsi+19\")\n",
    "    "
   ]
  },
  {
   "cell_type": "code",
   "execution_count": null,
   "id": "9",
   "metadata": {},
   "outputs": [],
   "source": [
    "def plot_all():\n",
    "    plot_sz(label=\"solar\")\n",
    "    plot_sz(**gse, label=\"gse\")\n",
    "    plot_sz(**wukong, label=\"wukong\")\n",
    "    plot_obs()\n",
    "    arya.Legend(color_only=True)\n",
    "    plt.xlim(-4)"
   ]
  },
  {
   "cell_type": "code",
   "execution_count": null,
   "id": "10",
   "metadata": {},
   "outputs": [],
   "source": [
    "models = \"../models/\""
   ]
  },
  {
   "cell_type": "code",
   "execution_count": null,
   "id": "11",
   "metadata": {},
   "outputs": [],
   "source": [
    "def get_y_params(name):\n",
    "    return surp.YieldParams.from_file(\"../models/\" + name + \"/yield_params.toml\")"
   ]
  },
  {
   "cell_type": "code",
   "execution_count": null,
   "id": "12",
   "metadata": {},
   "outputs": [],
   "source": [
    "y_fiducial = get_y_params('fiducial')"
   ]
  },
  {
   "cell_type": "code",
   "execution_count": null,
   "id": "13",
   "metadata": {},
   "outputs": [],
   "source": [
    "y_lin = get_y_params('fruity/cc_BiLogLin')"
   ]
  },
  {
   "cell_type": "code",
   "execution_count": null,
   "id": "14",
   "metadata": {},
   "outputs": [],
   "source": [
    "y_fiducial_a = get_y_params('analytic/mc_best')"
   ]
  },
  {
   "cell_type": "code",
   "execution_count": null,
   "id": "15",
   "metadata": {},
   "outputs": [],
   "source": [
    "y_lin_a = get_y_params('analytic/linear')"
   ]
  },
  {
   "cell_type": "code",
   "execution_count": null,
   "id": "16",
   "metadata": {},
   "outputs": [],
   "source": [
    "surp.set_yields(y_fiducial, verbose=False)\n",
    "plot_all()\n",
    "\n",
    "surp.set_yields(y_fiducial_a)\n",
    "plot_sz(label=\"solar (ana)\")\n",
    "plot_sz(**gse, label=\"gse (ana)\")\n",
    "plot_sz(**wukong, label=\"wukong (ana)\")"
   ]
  },
  {
   "cell_type": "code",
   "execution_count": null,
   "id": "17",
   "metadata": {},
   "outputs": [],
   "source": [
    "surp.set_yields(y_lin, verbose=False)\n",
    "plot_all()\n",
    "\n",
    "surp.set_yields(y_lin_a)\n",
    "plot_sz(label=\"solar (ana)\")\n",
    "plot_sz(**gse, label=\"gse (ana)\")\n",
    "plot_sz(**wukong, label=\"wukong (ana)\")"
   ]
  },
  {
   "cell_type": "markdown",
   "id": "18",
   "metadata": {},
   "source": [
    "## piecewise chaos "
   ]
  },
  {
   "cell_type": "code",
   "execution_count": null,
   "id": "19",
   "metadata": {},
   "outputs": [],
   "source": [
    "print(vice.yields.ccsne.settings[\"c\"])"
   ]
  },
  {
   "cell_type": "code",
   "execution_count": null,
   "id": "20",
   "metadata": {},
   "outputs": [],
   "source": [
    "m_h_0 = (0.867 - 2.30) / 1.62"
   ]
  },
  {
   "cell_type": "code",
   "execution_count": null,
   "id": "21",
   "metadata": {},
   "outputs": [],
   "source": [
    "gcem.MH_to_Z(m_h_0)"
   ]
  },
  {
   "cell_type": "code",
   "execution_count": null,
   "id": "22",
   "metadata": {},
   "outputs": [],
   "source": [
    "y_piecewise = surp.yield_models.Piecewise_CC(\n",
    "    [2e-3, 8.67e-4, 2.30e-3],\n",
    "    [0, 0, 1.62e-3],\n",
    "    [1.6e-5, 0.0021])\n"
   ]
  },
  {
   "cell_type": "code",
   "execution_count": null,
   "id": "23",
   "metadata": {},
   "outputs": [],
   "source": [
    "vice.yields.ccsne.settings[\"c\"] = y_piecewise"
   ]
  },
  {
   "cell_type": "code",
   "execution_count": null,
   "id": "24",
   "metadata": {},
   "outputs": [],
   "source": [
    "plot_all()"
   ]
  },
  {
   "cell_type": "code",
   "execution_count": null,
   "id": "25",
   "metadata": {},
   "outputs": [],
   "source": [
    "y_mg = vice.yields.ccsne.settings[\"mg\"]"
   ]
  },
  {
   "cell_type": "code",
   "execution_count": null,
   "id": "26",
   "metadata": {},
   "outputs": [],
   "source": [
    "y_spw = surp.yield_models.Piecewise_CC(\n",
    "    [3*y_mg, 1*y_mg, 4*y_mg, 4*y_mg],\n",
    "    [0, 0, 0, 2.5*y_mg],\n",
    "    [1.6e-5, 0.006, 0.016])"
   ]
  },
  {
   "cell_type": "code",
   "execution_count": null,
   "id": "27",
   "metadata": {},
   "outputs": [],
   "source": [
    "vice.yields.ccsne.settings[\"c\"] = y_spw"
   ]
  },
  {
   "cell_type": "code",
   "execution_count": null,
   "id": "28",
   "metadata": {},
   "outputs": [],
   "source": [
    "surp.set_yields(get_y_params(\"C11_alpha_agb1.0_m_factor0.5\"), verbose=False)\n",
    "vice.yields.ccsne.settings[\"c\"] = y_spw"
   ]
  },
  {
   "cell_type": "code",
   "execution_count": null,
   "id": "29",
   "metadata": {},
   "outputs": [],
   "source": [
    "plot_all()"
   ]
  },
  {
   "cell_type": "code",
   "execution_count": null,
   "id": "30",
   "metadata": {},
   "outputs": [],
   "source": [
    "\n",
    "x = np.linspace(-5, 1, 1000)\n",
    "z = gcem.MH_to_Z(x)\n",
    "y = [y_piecewise(zz) for zz in z]\n",
    "\n",
    "plt.plot(x, y)\n",
    "\n",
    "y = [y_spw(zz) for zz in z]\n",
    "\n",
    "plt.plot(x, y)\n",
    "\n",
    "plt.xlabel(\"[M/H]\")\n",
    "plt.ylabel(r\"$y_{\\rm C}^{\\rm CC}$\")"
   ]
  },
  {
   "cell_type": "code",
   "execution_count": null,
   "id": "31",
   "metadata": {},
   "outputs": [],
   "source": [
    "surp.set_yields(get_y_params(\"C11_f0.2_m_factor1.5\"), verbose=False)\n",
    "plot_all()"
   ]
  },
  {
   "cell_type": "code",
   "execution_count": null,
   "id": "32",
   "metadata": {},
   "outputs": [],
   "source": [
    "print(vice.yields.ccsne.settings[\"c\"])"
   ]
  },
  {
   "cell_type": "code",
   "execution_count": null,
   "id": "33",
   "metadata": {},
   "outputs": [],
   "source": [
    "surp.set_yields(get_y_params(\"C11_alpha_agb1.0_m_factor0.5\"), verbose=False)\n",
    "plot_all()"
   ]
  },
  {
   "cell_type": "code",
   "execution_count": null,
   "id": "34",
   "metadata": {},
   "outputs": [],
   "source": []
  }
 ],
 "metadata": {
  "kernelspec": {
   "display_name": "Python 3 (ipykernel)",
   "language": "python",
   "name": "python3"
  },
  "language_info": {
   "codemirror_mode": {
    "name": "ipython",
    "version": 3
   },
   "file_extension": ".py",
   "mimetype": "text/x-python",
   "name": "python",
   "nbconvert_exporter": "python",
   "pygments_lexer": "ipython3",
   "version": "3.11.9"
  }
 },
 "nbformat": 4,
 "nbformat_minor": 5
}
