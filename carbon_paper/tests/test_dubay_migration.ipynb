{
 "cells": [
  {
   "cell_type": "code",
   "execution_count": null,
   "id": "0",
   "metadata": {},
   "outputs": [],
   "source": [
    "import pandas as pd\n",
    "import numpy as np\n",
    "import matplotlib.pyplot as plt\n",
    "import surp\n",
    "import arya"
   ]
  },
  {
   "cell_type": "code",
   "execution_count": null,
   "id": "1",
   "metadata": {},
   "outputs": [],
   "source": [
    "modelname = \"perturbations/const_cc\""
   ]
  },
  {
   "cell_type": "code",
   "execution_count": null,
   "id": "2",
   "metadata": {},
   "outputs": [],
   "source": [
    "walks_raw = pd.read_csv(f\"../../models/{modelname}/migration_initial_final.dat\")"
   ]
  },
  {
   "cell_type": "code",
   "execution_count": null,
   "id": "3",
   "metadata": {},
   "outputs": [],
   "source": [
    "dt = 0.02"
   ]
  },
  {
   "cell_type": "code",
   "execution_count": null,
   "id": "4",
   "metadata": {},
   "outputs": [],
   "source": [
    "walks = walks_raw.set_index([\"zone\", \"i\"])"
   ]
  },
  {
   "cell_type": "code",
   "execution_count": null,
   "id": "5",
   "metadata": {},
   "outputs": [],
   "source": [
    "walks.z_final"
   ]
  },
  {
   "cell_type": "code",
   "execution_count": null,
   "id": "6",
   "metadata": {},
   "outputs": [],
   "source": [
    "stars = surp.ViceModel.from_file(f\"../../models/{modelname}/model.json\").stars_unsampled"
   ]
  },
  {
   "cell_type": "code",
   "execution_count": null,
   "id": "7",
   "metadata": {},
   "outputs": [],
   "source": [
    "stars[\"t_int\"] = np.int64(np.round(stars.formation_time / dt))\n",
    "stars\n"
   ]
  },
  {
   "cell_type": "code",
   "execution_count": null,
   "id": "8",
   "metadata": {},
   "outputs": [],
   "source": [
    "stars[\"z_final\"] = walks.z_final.loc[np.int64(stars.zone_origin), stars.t_int].values"
   ]
  },
  {
   "cell_type": "code",
   "execution_count": null,
   "id": "9",
   "metadata": {},
   "outputs": [],
   "source": [
    "stars"
   ]
  },
  {
   "cell_type": "code",
   "execution_count": null,
   "id": "10",
   "metadata": {},
   "outputs": [],
   "source": [
    "np.sum(~np.isnan(stars.z_final))"
   ]
  },
  {
   "cell_type": "code",
   "execution_count": null,
   "id": "11",
   "metadata": {},
   "outputs": [],
   "source": [
    "walks.z_final.loc[np.array([1,2,3]), np.array([3,4,56])]"
   ]
  },
  {
   "cell_type": "markdown",
   "id": "12",
   "metadata": {},
   "source": [
    "## Reproduce figures"
   ]
  },
  {
   "cell_type": "code",
   "execution_count": null,
   "id": "13",
   "metadata": {},
   "outputs": [],
   "source": [
    "R_bins = [3,5,7,9,11,13]\n",
    "age_bins = [0,2,4,6,8,10,12]"
   ]
  },
  {
   "cell_type": "code",
   "execution_count": null,
   "id": "14",
   "metadata": {},
   "outputs": [],
   "source": [
    "stars[\"R_bin\"] = pd.cut(stars.r_origin, R_bins, labels=False)\n",
    "stars[\"R_bin_final\"] = pd.cut(stars.r_final, R_bins, labels=False)\n",
    "\n",
    "stars[\"age_bin\"] = pd.cut(stars.formation_time, age_bins, labels=False)"
   ]
  },
  {
   "cell_type": "code",
   "execution_count": null,
   "id": "15",
   "metadata": {},
   "outputs": [],
   "source": [
    "age_labels = [f\"{age_bins[i]} - {age_bins[i+1]}\" for i in range(len(age_bins) - 1)]\n",
    "R_labels = [f\"$R_{{\\\\rm birth}} \\\\in [{R_bins[i]},\\ {R_bins[i+1]})$ kpc\" for i in range(len(R_bins) - 1)]\n",
    "R_labels_final = [f\"$R_{{\\\\rm final}} \\\\in [{R_bins[i]},\\ {R_bins[i+1]})$ kpc\" for i in range(len(R_bins) - 1)]"
   ]
  },
  {
   "cell_type": "code",
   "execution_count": null,
   "id": "16",
   "metadata": {},
   "outputs": [],
   "source": [
    "fig, axs = plt.subplots(1, len(R_bins)-1, figsize=(8, 2), sharey=True)\n",
    "\n",
    "for i in range(len(R_bins)-1):\n",
    "    plt.sca(axs[i])\n",
    "    filt = stars.R_bin == i\n",
    "    df = stars[filt]\n",
    "    \n",
    "    hm = arya.HueMap((0, len(age_labels)))\n",
    "    for ii in range(len(age_labels) - 1):\n",
    "        g = df[df.age_bin == ii]\n",
    "    \n",
    "        plt.hist(g.r_final, histtype=\"step\", weights=g.mass, density=True, label=age_labels[ii], color=hm(ii), bins=np.linspace(0, 20, 30))\n",
    "\n",
    "    \n",
    "    plt.xlabel(r\"$R_{\\rm final}$ / kpc\")\n",
    "    plt.title(R_labels[i])\n",
    "    if i == 0:\n",
    "        plt.ylabel(\"PDF\")\n",
    "    if i == len(R_bins) - 2:\n",
    "        arya.Legend(-1, title=\"Age / Gyr\")        \n",
    "\n"
   ]
  },
  {
   "cell_type": "code",
   "execution_count": null,
   "id": "17",
   "metadata": {},
   "outputs": [],
   "source": [
    "fig, axs = plt.subplots(1, len(R_bins)-1, figsize=(8, 2), sharey=True)\n",
    "\n",
    "for i in range(len(R_bins)-1):\n",
    "    plt.sca(axs[i])\n",
    "    filt = stars.R_bin_final == i\n",
    "    df = stars[filt]\n",
    "    \n",
    "    hm = arya.HueMap((0, len(age_labels)))\n",
    "    for ii in range(len(age_labels) - 1):\n",
    "        g = df[df.age_bin == ii]\n",
    "    \n",
    "        plt.hist(g.z_final, histtype=\"step\", weights=g.mass, density=True, label=age_labels[ii], color=hm(ii), bins=np.linspace(-2, 2, 30))\n",
    "\n",
    "    \n",
    "    plt.xlabel(r\"$z_{\\rm final}$ / kpc\")\n",
    "    plt.title(R_labels_final[i])\n",
    "\n",
    "    if i == 0:\n",
    "        plt.ylabel(\"PDF\")\n",
    "        \n",
    "    if i == len(R_bins) - 2:\n",
    "        arya.Legend(-1, title=\"Age\")  "
   ]
  },
  {
   "cell_type": "code",
   "execution_count": null,
   "id": "18",
   "metadata": {},
   "outputs": [],
   "source": []
  }
 ],
 "metadata": {
  "kernelspec": {
   "display_name": "Python 3 (ipykernel)",
   "language": "python",
   "name": "python3"
  },
  "language_info": {
   "codemirror_mode": {
    "name": "ipython",
    "version": 3
   },
   "file_extension": ".py",
   "mimetype": "text/x-python",
   "name": "python",
   "nbconvert_exporter": "python",
   "pygments_lexer": "ipython3",
   "version": "3.11.9"
  }
 },
 "nbformat": 4,
 "nbformat_minor": 5
}
