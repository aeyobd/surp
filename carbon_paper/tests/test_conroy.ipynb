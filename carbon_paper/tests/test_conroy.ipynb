{
 "cells": [
  {
   "cell_type": "code",
   "execution_count": null,
   "id": "0",
   "metadata": {},
   "outputs": [],
   "source": [
    "%load_ext autoreload\n",
    "%autoreload 2"
   ]
  },
  {
   "cell_type": "code",
   "execution_count": null,
   "id": "1",
   "metadata": {},
   "outputs": [],
   "source": [
    "import matplotlib.pyplot as plt\n",
    "\n",
    "import numpy as np"
   ]
  },
  {
   "cell_type": "code",
   "execution_count": null,
   "id": "2",
   "metadata": {},
   "outputs": [],
   "source": [
    "import surp\n",
    "import arya"
   ]
  },
  {
   "cell_type": "code",
   "execution_count": null,
   "id": "3",
   "metadata": {},
   "outputs": [],
   "source": [
    "from scipy.integrate import quad"
   ]
  },
  {
   "cell_type": "markdown",
   "id": "4",
   "metadata": {
    "tags": []
   },
   "source": [
    "# loading model"
   ]
  },
  {
   "cell_type": "code",
   "execution_count": null,
   "id": "5",
   "metadata": {},
   "outputs": [],
   "source": [
    "model_name = \"conroy22\""
   ]
  },
  {
   "cell_type": "code",
   "execution_count": null,
   "id": "6",
   "metadata": {},
   "outputs": [],
   "source": [
    "fiducial = surp.ViceModel.from_file(f\"../../models/fiducial/{model_name}/model.json\")"
   ]
  },
  {
   "cell_type": "code",
   "execution_count": null,
   "id": "7",
   "metadata": {},
   "outputs": [],
   "source": [
    "params = surp.simulation.parameters.MWParams.from_file(f\"../../models/fiducial/{model_name}/params.toml\")"
   ]
  },
  {
   "cell_type": "code",
   "execution_count": null,
   "id": "8",
   "metadata": {
    "tags": []
   },
   "outputs": [],
   "source": [
    "model  = surp.simulation.create_model(params)"
   ]
  },
  {
   "cell_type": "code",
   "execution_count": null,
   "id": "9",
   "metadata": {},
   "outputs": [],
   "source": [
    "R_MAX = 15.5\n",
    "h = fiducial.history[fiducial.history.R < R_MAX]"
   ]
  },
  {
   "cell_type": "code",
   "execution_count": null,
   "id": "10",
   "metadata": {},
   "outputs": [],
   "source": [
    "t_end = np.max(h.time)"
   ]
  },
  {
   "cell_type": "code",
   "execution_count": null,
   "id": "11",
   "metadata": {},
   "outputs": [],
   "source": [
    "filt = h.time == t_end\n",
    "h_end = h[filt]"
   ]
  },
  {
   "cell_type": "markdown",
   "id": "12",
   "metadata": {},
   "source": [
    "# Star Formation History\n",
    "Should go as the two part power law"
   ]
  },
  {
   "cell_type": "code",
   "execution_count": null,
   "id": "13",
   "metadata": {},
   "outputs": [],
   "source": [
    "plt.scatter(h.time, h.sfr, c=h.R, s=0.01)\n",
    "plt.xlabel(\"time\")\n",
    "plt.ylabel(\"sfr\")\n",
    "plt.colorbar(label=\"radius\")"
   ]
  },
  {
   "cell_type": "code",
   "execution_count": null,
   "id": "14",
   "metadata": {},
   "outputs": [],
   "source": [
    "Rs = 0.05 + np.arange(4, 13, 2)\n",
    "\n",
    "hm = arya.HueMap((3, 15))\n",
    "for R in Rs:\n",
    "    tau_rise = 2\n",
    "    filt = np.isclose(h.R, R)\n",
    "    h1 = h[filt]\n",
    "    plt.plot(h1.time, np.log10(h1.sfr ), color=hm(R), label=R)\n",
    "    \n",
    "plt.xlabel(\"time / Gyr\")\n",
    "plt.ylabel(\"log sfr rate\")\n",
    "arya.Legend(-1)\n",
    "plt.ylim(-4, -0.5)"
   ]
  },
  {
   "cell_type": "code",
   "execution_count": null,
   "id": "15",
   "metadata": {},
   "outputs": [],
   "source": [
    "for R, tau_sfh in [(3.05, 7.5), (7.05, 14), (14.05, 35)]:\n",
    "    tau_rise = 2\n",
    "    filt = np.isclose(h.R, R)\n",
    "    h1 = h[filt]\n",
    "    plt.plot(h1.time, h1.ifr / np.max(h1.ifr), label=R)\n",
    "plt.xlabel(\"time / Gyr\")\n",
    "plt.ylabel(\"peak-normalized infall rate\")\n",
    "plt.legend(title=\"radius\")"
   ]
  },
  {
   "cell_type": "code",
   "execution_count": null,
   "id": "16",
   "metadata": {},
   "outputs": [],
   "source": [
    "plt.scatter(h_end.R, h_end.sfr)\n",
    "plt.ylabel(\"star formation rate \")\n",
    "plt.xlabel(\"radius / kpc\")"
   ]
  },
  {
   "cell_type": "code",
   "execution_count": null,
   "id": "17",
   "metadata": {},
   "outputs": [],
   "source": [
    "dR = np.diff(np.sort(h_end.R))[1]"
   ]
  },
  {
   "cell_type": "code",
   "execution_count": null,
   "id": "18",
   "metadata": {},
   "outputs": [],
   "source": [
    "A = (2*np.pi * h_end.R * dR).values\n",
    "plt.scatter(h_end.R, h_end.mstar / A)\n",
    "#plt.plot(h_end.R, h_end.mgas / A)\n",
    "\n",
    "plt.yscale(\"log\")\n",
    "#plt.xscale(\"log\")\n",
    "plt.scatter(h_end.R, 1e9*(np.exp(-h_end.R / 2.5) + 0.27*np.exp(-h_end.R / 2.0)))\n",
    "plt.ylabel(r\"$\\Sigma_\\star$\")\n",
    "plt.xlabel(\"R\")\n"
   ]
  },
  {
   "cell_type": "markdown",
   "id": "19",
   "metadata": {},
   "source": [
    "star formation densities are okay. divergence at centre is likely a result of migration but may not even be that unphysical."
   ]
  },
  {
   "cell_type": "code",
   "execution_count": null,
   "id": "20",
   "metadata": {},
   "outputs": [],
   "source": [
    "print(\"%0.2e\" % np.sum(h_end.mstar)) # total mass should be 5.17 x 10^10 solar masses"
   ]
  },
  {
   "cell_type": "markdown",
   "id": "21",
   "metadata": {},
   "source": [
    "# SFR Law"
   ]
  },
  {
   "cell_type": "code",
   "execution_count": null,
   "id": "22",
   "metadata": {},
   "outputs": [],
   "source": [
    "Σgas = h_end.mgas/A\n",
    "\n",
    "1/(h_end.sfr / A / Σgas * 1e9)[np.isclose(h_end.R, 7.05)]"
   ]
  },
  {
   "cell_type": "code",
   "execution_count": null,
   "id": "23",
   "metadata": {},
   "outputs": [],
   "source": [
    "Σgas = h_end.mgas/A\n",
    "yr_per_Gyr = 1e9\n",
    "tau_star = h_end.mgas /(h_end.sfr * yr_per_Gyr)\n",
    "plt.scatter(h_end.R, tau_star)\n",
    "\n",
    "plt.xlabel(r\"R / kpc\")\n",
    "plt.ylabel(r\"$\\tau_\\star\\,$/Gyr\")\n",
    "plt.title(\"z = 0\")\n"
   ]
  },
  {
   "cell_type": "code",
   "execution_count": null,
   "id": "24",
   "metadata": {},
   "outputs": [],
   "source": [
    "h_solar = h[h.R == 8.05]"
   ]
  },
  {
   "cell_type": "code",
   "execution_count": null,
   "id": "25",
   "metadata": {},
   "outputs": [],
   "source": [
    "tau_star = h_solar.mgas /(h_solar.sfr * yr_per_Gyr)\n",
    "\n",
    "plt.plot(h_solar.time, tau_star)\n",
    "plt.ylim(0, 60)\n",
    "plt.xlabel(\"time\")\n",
    "plt.ylabel(\"tau star / Gyr\")"
   ]
  },
  {
   "cell_type": "markdown",
   "id": "26",
   "metadata": {},
   "source": [
    "# Outflows and yields"
   ]
  },
  {
   "cell_type": "code",
   "execution_count": null,
   "id": "27",
   "metadata": {},
   "outputs": [],
   "source": [
    "plt.scatter(h_end.R, h_end.eta_0)\n",
    "plt.xlabel(\"R\")\n",
    "plt.ylabel(r\"$\\eta$\")\n",
    "plt.yscale(\"log\")"
   ]
  },
  {
   "cell_type": "code",
   "execution_count": null,
   "id": "28",
   "metadata": {},
   "outputs": [],
   "source": [
    "from surp.simulation.properties import MH_grad"
   ]
  },
  {
   "cell_type": "code",
   "execution_count": null,
   "id": "29",
   "metadata": {},
   "outputs": [],
   "source": [
    "plt.scatter(h_end.R, h_end.M_H)\n",
    "y = MH_grad(params)(h_end.R)\n",
    "plt.scatter(h_end.R, y)\n",
    "\n",
    "plt.xlim(0, 15)\n",
    "plt.ylim(-0.7, 0.7)\n",
    "plt.xlabel(\"R\")\n",
    "plt.ylabel(r\"[M/H]\")"
   ]
  },
  {
   "cell_type": "code",
   "execution_count": null,
   "id": "30",
   "metadata": {},
   "outputs": [],
   "source": [
    "filt = h.R < 5\n",
    "df = h[filt]\n",
    "plt.scatter(df.time, df.MG_H, s=0.3, alpha=0.1, c=df.R)\n",
    "plt.xlim(0, 15)\n",
    "plt.ylim(-0.5, 0.7)\n",
    "plt.xlabel(\"time\")\n",
    "plt.ylabel(\"[Mg/H]\")\n",
    "plt.colorbar()"
   ]
  },
  {
   "cell_type": "code",
   "execution_count": null,
   "id": "31",
   "metadata": {},
   "outputs": [],
   "source": [
    "filt = h.R < 10\n",
    "df = h[filt]\n",
    "plt.scatter(df.FE_H, df.MG_FE, s=0.3, alpha=0.1, c=df.R)\n",
    "plt.xlim(-4, 2)\n",
    "plt.ylim(-0.5, 0.7)\n",
    "plt.xlabel(\"[Fe/H]\")\n",
    "plt.ylabel(\"[Mg/Fe]\")\n",
    "plt.colorbar(label=\"radius\")"
   ]
  },
  {
   "cell_type": "code",
   "execution_count": null,
   "id": "32",
   "metadata": {},
   "outputs": [],
   "source": []
  },
  {
   "cell_type": "code",
   "execution_count": null,
   "id": "33",
   "metadata": {},
   "outputs": [],
   "source": []
  },
  {
   "cell_type": "code",
   "execution_count": null,
   "id": "34",
   "metadata": {},
   "outputs": [],
   "source": []
  }
 ],
 "metadata": {
  "kernelspec": {
   "display_name": "Python 3 (ipykernel)",
   "language": "python",
   "name": "python3"
  },
  "language_info": {
   "codemirror_mode": {
    "name": "ipython",
    "version": 3
   },
   "file_extension": ".py",
   "mimetype": "text/x-python",
   "name": "python",
   "nbconvert_exporter": "python",
   "pygments_lexer": "ipython3",
   "version": "3.11.9"
  }
 },
 "nbformat": 4,
 "nbformat_minor": 5
}
