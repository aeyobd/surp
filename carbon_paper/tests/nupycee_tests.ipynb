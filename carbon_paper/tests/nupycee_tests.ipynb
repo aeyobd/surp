{
 "cells": [
  {
   "cell_type": "markdown",
   "id": "0",
   "metadata": {},
   "source": [
    "This notebook contains some tests and comparisons to ensure that I have implemented the NuGrid yields correctly."
   ]
  },
  {
   "cell_type": "code",
   "execution_count": null,
   "id": "1",
   "metadata": {},
   "outputs": [],
   "source": [
    "import sys\n",
    "sys.path.append(\"/astro/dboyea/source/\")"
   ]
  },
  {
   "cell_type": "code",
   "execution_count": null,
   "id": "2",
   "metadata": {},
   "outputs": [],
   "source": [
    "from NuPyCEE import omega\n",
    "from NuPyCEE import sygma\n",
    "import NuPyCEE\n",
    "sygma = NuPyCEE.sygma"
   ]
  },
  {
   "cell_type": "code",
   "execution_count": null,
   "id": "3",
   "metadata": {},
   "outputs": [],
   "source": [
    "import numpy as np\n",
    "import pandas as pd\n",
    "import arya\n",
    "import matplotlib.pyplot as plt\n",
    "\n",
    "import surp\n",
    "import vice"
   ]
  },
  {
   "cell_type": "code",
   "execution_count": null,
   "id": "4",
   "metadata": {},
   "outputs": [],
   "source": [
    "from VICE.vice.yields.agb.pignatari16.raw import process_safe"
   ]
  },
  {
   "cell_type": "code",
   "execution_count": null,
   "id": "5",
   "metadata": {},
   "outputs": [],
   "source": [
    "s = sygma.sygma(iniZ=0.01)"
   ]
  },
  {
   "cell_type": "code",
   "execution_count": null,
   "id": "6",
   "metadata": {},
   "outputs": [],
   "source": [
    "fryer = process_safe.read_element_yields(\"/astro/dboyea/source/VICE/vice/yields/agb/pignatari16/raw/element_yield_table_MESAonly_fryer12_delay_total.txt\", process_safe.elements)\n",
    "\n",
    "fryer = {\n",
    "    ele: pd.DataFrame(fryer[ele], columns=[\"M\", \"Mrem\", \"Z\", \"y\", \"Z0\"])\n",
    "    for ele in fryer.keys()\n",
    "}"
   ]
  },
  {
   "cell_type": "code",
   "execution_count": null,
   "id": "7",
   "metadata": {},
   "outputs": [],
   "source": [
    "def plot_vice_table(ele=\"C\", Z=0.02, color=\"none\"):\n",
    "    y, m, z = vice.yields.agb.grid(ele, study=\"pignatari16\")\n",
    "\n",
    "    i = next((i for i, zz in enumerate(z) if zz == Z), None)\n",
    "\n",
    "    m = np.array(m)\n",
    "    y = np.array([yy[i] for yy in y])\n",
    "    Zini = vice.solar_z(ele) * Z / 0.016 \n",
    "    m_ret = z_ini(ele, Z) * (m - m_rem(m))\n",
    "    m_ej = y * m\n",
    "    y_tot = m_ej + m_ret \n",
    "\n",
    "    plt.scatter(m, y_tot, s=15, facecolors='none', ec=color, marker=\"s\")\n",
    "\n",
    "    plt.yscale(\"log\")\n"
   ]
  },
  {
   "cell_type": "code",
   "execution_count": null,
   "id": "8",
   "metadata": {},
   "outputs": [],
   "source": [
    "y, m, z = vice.yields.agb.grid(\"c\", study=\"pignatari16\")"
   ]
  },
  {
   "cell_type": "code",
   "execution_count": null,
   "id": "9",
   "metadata": {},
   "outputs": [],
   "source": [
    "def plot_fryer_table(ele, Z, **kwargs):\n",
    "    df = fryer[ele.title()]\n",
    "    filt = np.isclose(df.Z, Z)\n",
    "    if sum(filt) == 0:\n",
    "        print(\"filt failed for\",ele, Z)\n",
    "        return\n",
    "\n",
    "    plt.scatter(df[filt].M, df[filt].y, **kwargs)"
   ]
  },
  {
   "cell_type": "code",
   "execution_count": null,
   "id": "10",
   "metadata": {},
   "outputs": [],
   "source": [
    "def plot_all_yields(ele):\n",
    "    for i, Z in enumerate([0.0001, 0.001, 0.006, 0.01, 0.02]):\n",
    "        s.plot_table_yield([ele.title()], \"mini\", Z=Z)\n",
    "        plt.xlim(0.5, 7.5)\n",
    "        plot_vice_table(Z=Z, color=arya.COLORS[i], ele=ele)\n",
    "        plot_fryer_table(ele, Z, color=\"red\", zorder=100, s=1)\n",
    "        \n",
    "    arya.Legend(-1)"
   ]
  },
  {
   "cell_type": "code",
   "execution_count": null,
   "id": "11",
   "metadata": {},
   "outputs": [],
   "source": [
    "def m_rem(m):\n",
    "    return np.where(m >= 8, 1.44, 0.394 + 0.109 * m)"
   ]
  },
  {
   "cell_type": "code",
   "execution_count": null,
   "id": "12",
   "metadata": {},
   "outputs": [],
   "source": [
    "def z_ini(ele, Z):\n",
    "    filt = np.isclose(df.Z, Z)\n",
    "\n",
    "    Z0 = fryer[ele.title()].Z0[filt].iloc[1]\n",
    "    return  Z0"
   ]
  },
  {
   "cell_type": "code",
   "execution_count": null,
   "id": "13",
   "metadata": {},
   "outputs": [],
   "source": [
    "def A(ele):\n",
    "    return surp.gce_math.molmass.ELEMENTS[ele.title()].number"
   ]
  },
  {
   "cell_type": "code",
   "execution_count": null,
   "id": "14",
   "metadata": {},
   "outputs": [],
   "source": [
    "\n",
    "\n",
    "for (i, Z) in enumerate([0.0001, 0.001,0.006, 0.01, 0.02]):\n",
    "    xs = []\n",
    "    ys = []\n",
    "\n",
    "    for ele in process_safe.elements[4:]:\n",
    "        x = A(ele)\n",
    "        y = z_ini(ele,Z) * 0.016/Z / vice.solar_z(ele)\n",
    "    \n",
    "        xs.append(x)\n",
    "        ys.append(y)\n",
    "        \n",
    "    plt.scatter(xs, ys, label=f\"Z={Z}\", marker=[\"o\", \"s\", \"*\", \"d\", \"+\"][i], s=2*[5, 3, 1, 5, 3][i])\n",
    "\n",
    "\n",
    "\n",
    "plt.xlabel(\"atomic number\")\n",
    "plt.ylabel(r\" $Z_{\\rm 0, NuGrid} (Z_\\odot/Z)$ / $Z_{\\odot, \\rm VICE}$ \")\n",
    "plt.title(\"ratio of solar scaled initial abundances\")\n",
    "arya.Legend(-1)\n"
   ]
  },
  {
   "cell_type": "code",
   "execution_count": null,
   "id": "15",
   "metadata": {},
   "outputs": [],
   "source": [
    "plot_all_yields(\"c\")\n",
    "plt.ylim(1e-4, 0.1)\n"
   ]
  },
  {
   "cell_type": "code",
   "execution_count": null,
   "id": "16",
   "metadata": {},
   "outputs": [],
   "source": [
    "plot_all_yields(\"n\")\n",
    "plt.ylim(1e-5, 0.1)\n"
   ]
  },
  {
   "cell_type": "code",
   "execution_count": null,
   "id": "17",
   "metadata": {},
   "outputs": [],
   "source": [
    "plot_all_yields(\"o\")\n",
    "plt.ylim(1e-5, 0.1)\n"
   ]
  },
  {
   "cell_type": "code",
   "execution_count": null,
   "id": "18",
   "metadata": {},
   "outputs": [],
   "source": [
    "plot_all_yields(\"F\")\n",
    "plt.ylim(1e-10, 1e-4)"
   ]
  },
  {
   "cell_type": "code",
   "execution_count": null,
   "id": "19",
   "metadata": {},
   "outputs": [],
   "source": [
    "plot_all_yields(\"Ne\")\n",
    "plt.ylim(1e-5, 3e-2)"
   ]
  },
  {
   "cell_type": "code",
   "execution_count": null,
   "id": "20",
   "metadata": {},
   "outputs": [],
   "source": [
    "plot_all_yields(\"Mg\")"
   ]
  },
  {
   "cell_type": "code",
   "execution_count": null,
   "id": "21",
   "metadata": {},
   "outputs": [],
   "source": [
    "plot_all_yields(\"Pb\")"
   ]
  },
  {
   "cell_type": "markdown",
   "id": "22",
   "metadata": {},
   "source": [
    "# unecessary"
   ]
  },
  {
   "cell_type": "code",
   "execution_count": null,
   "id": "23",
   "metadata": {},
   "outputs": [],
   "source": [
    "def sygma_to_pd(s):\n",
    "    dt = s.history.timesteps\n",
    "    times = np.cumsum(dt)\n",
    "    times = np.insert(times, 0, 0.)\n",
    "    df = pd.DataFrame(s.history.ism_elem_yield, columns=s.history.elements)\n",
    "    df[\"time\"] = times\n",
    "\n",
    "    return df"
   ]
  },
  {
   "cell_type": "code",
   "execution_count": null,
   "id": "24",
   "metadata": {},
   "outputs": [],
   "source": [
    "def run_sygma(ele=\"C\", Z=0.01, table=\"pignatari16\"):\n",
    "    if table == \"pignatari16\":\n",
    "        table = \"yield_tables/agb_and_massive_stars_nugrid_MESAonly_fryer12rapid.txt\"\n",
    "    elif table == \"pignatari16b\":\n",
    "        table = \"yield_tables/agb_and_massive_stars_nugrid_N13.txt\"\n",
    "    elif table == \"karakas10\":\n",
    "        table = \"yield_tables/agb_and_massive_stars_K10_LC18_R000.txt\"\n",
    "    elif table == \"cristallo11\":\n",
    "        table = \"yield_tables/agb_and_massive_stars_C15_LC18_R_mix.txt\"\n",
    "    elif table == \"karakas10b\":\n",
    "        table = \"yield_tables/agb_and_massive_stars_K10_LC18_R300.txt\"\n",
    "    else:\n",
    "        raise Exception(\"unknown table\", table)\n",
    "        \n",
    "    s = sygma.sygma(iniZ=Z,\n",
    "                table=table,\n",
    "                    \n",
    "                tend=10e9, mgal=1, ns_merger_on=False,\n",
    "                sn1a_on=False,\n",
    "                scale_cor = [[1.0, 8], [0., 100]]\n",
    "               )\n",
    "\n",
    "    return s"
   ]
  },
  {
   "cell_type": "code",
   "execution_count": null,
   "id": "25",
   "metadata": {},
   "outputs": [],
   "source": [
    "from vice.yields.agb import pignatari16"
   ]
  },
  {
   "cell_type": "code",
   "execution_count": null,
   "id": "26",
   "metadata": {},
   "outputs": [],
   "source": [
    "vice.yields.ccsne.settings[\"C\"] = 0"
   ]
  },
  {
   "cell_type": "code",
   "execution_count": null,
   "id": "27",
   "metadata": {},
   "outputs": [],
   "source": [
    "def plot_vice(ele=\"C\", Z=0.014, **kwargs):\n",
    "    yields, times = vice.single_stellar_population(ele, Z=Z, time=10, mstar=1)\n",
    "\n",
    "    times = [t*1e9 for t in times]\n",
    "    plt.plot(times, yields, **kwargs)"
   ]
  },
  {
   "cell_type": "code",
   "execution_count": null,
   "id": "28",
   "metadata": {},
   "outputs": [],
   "source": [
    "def run_sygma(ele=\"C\", Z=0.014, table=\"pignatari16\"):\n",
    "    if table == \"pignatari16\":\n",
    "        table = \"yield_tables/agb_and_massive_stars_nugrid_MESAonly_fryer12rapid.txt\"\n",
    "    elif table == \"pignatari16b\":\n",
    "        table = \"yield_tables/agb_and_massive_stars_nugrid_N13.txt\"\n",
    "    elif table == \"karakas10\":\n",
    "        table = \"yield_tables/agb_and_massive_stars_K10_LC18_R000.txt\"\n",
    "    elif table == \"cristallo11\":\n",
    "        table = \"yield_tables/agb_and_massive_stars_C15_LC18_R_mix.txt\"\n",
    "    elif table == \"karakas10b\":\n",
    "        table = \"yield_tables/agb_and_massive_stars_K10_LC18_R300.txt\"\n",
    "    else:\n",
    "        raise Exception(\"unknown table\", table)\n",
    "        \n",
    "    s = sygma.sygma(iniZ=Z,\n",
    "                table=table,\n",
    "                    \n",
    "                tend=10e9, mgal=1, ns_merger_on=False,\n",
    "                sn1a_on=False,\n",
    "                scale_cor = [[1.0, 8], [0., 100]]\n",
    "               )\n",
    "\n",
    "    return s"
   ]
  },
  {
   "cell_type": "code",
   "execution_count": null,
   "id": "29",
   "metadata": {},
   "outputs": [],
   "source": [
    "def plot_sygma(ele=\"C\", Z=0.014, table=\"pignatari16\", **kwargs):\n",
    "\n",
    "    s = run_sygma(ele, Z=Z, table=table)\n",
    "    \n",
    "    df = sygma_to_pd(s)\n",
    "\n",
    "    t0 = 1e8\n",
    "    idx0 = np.argmin(np.abs(df.time - t0))\n",
    "    y = df[ele.title()]\n",
    "    y -= y[idx0]\n",
    "    plt.plot(df.time, df[ele.title()], **kwargs)\n"
   ]
  },
  {
   "cell_type": "code",
   "execution_count": null,
   "id": "30",
   "metadata": {},
   "outputs": [],
   "source": [
    "vice.yields.agb.grid(\"c\", \"pignatari16\")[2]"
   ]
  },
  {
   "cell_type": "code",
   "execution_count": null,
   "id": "31",
   "metadata": {},
   "outputs": [],
   "source": [
    "vice.yields.ccsne.settings[\"C\"] = 0"
   ]
  },
  {
   "cell_type": "code",
   "execution_count": null,
   "id": "32",
   "metadata": {},
   "outputs": [],
   "source": [
    "kwargs_interp = dict(\n",
    "    interp_kind=\"linear\",\n",
    "    min_mass=1,\n",
    "    no_negative=False, \n",
    ")"
   ]
  },
  {
   "cell_type": "code",
   "execution_count": null,
   "id": "33",
   "metadata": {},
   "outputs": [],
   "source": [
    "for Z in (0.0001, 0.001, 0.006, 0.01, 0.02):\n",
    "    plot_sygma(Z=Z, label=\"SYGMA\")\n",
    "    plot_vice(Z=Z, label=\"VICE\")\n",
    "    plt.xscale(\"log\")\n",
    "    plt.yscale(\"log\")\n",
    "    plt.xlabel(\"time\")\n",
    "    plt.ylabel(\"M(C)(t) / Mstar\")\n",
    "    plt.xlim(1e6, 1e10)\n",
    "    plt.legend()\n",
    "    plt.show()"
   ]
  },
  {
   "cell_type": "code",
   "execution_count": null,
   "id": "34",
   "metadata": {},
   "outputs": [],
   "source": [
    "from vice.yields.agb import karakas10\n",
    "\n",
    "for Z in (0.0001, 0.004, 0.008, 0.02):\n",
    "    plot_sygma(Z=Z, table=\"karakas10\")\n",
    "    plot_sygma(Z=Z, table=\"karakas10b\")\n",
    "\n",
    "    plot_vice(Z=Z)\n",
    "    plt.xscale(\"log\")\n",
    "    plt.yscale(\"log\")\n",
    "    plt.xlabel(\"time\")\n",
    "    plt.ylabel(\"M(C)(t) / Mstar\")\n",
    "    plt.xlim(1e6, 1e10)\n",
    "    plt.show()"
   ]
  },
  {
   "cell_type": "code",
   "execution_count": null,
   "id": "35",
   "metadata": {},
   "outputs": [],
   "source": [
    "from vice.yields.agb import cristallo11\n",
    "\n",
    "vice.yields.agb.settings[\"c\"] = surp.agb_interpolator.interpolator(\"c\", study = \"cristallo11\", **kwargs_interp\n",
    "        )\n",
    "\n",
    "for Z in (0.0001, 0.001, 0.006, 0.01, 0.02):\n",
    "    plot_sygma(Z=Z, table=\"cristallo11\")\n",
    "    plot_vice(Z=Z)\n",
    "    plt.xscale(\"log\")\n",
    "    plt.yscale(\"log\")\n",
    "    plt.xlabel(\"time\")\n",
    "    plt.ylabel(\"M(C)(t) / Mstar\")\n",
    "    plt.xlim(1e6, 1e10)\n",
    "    plt.show()"
   ]
  },
  {
   "cell_type": "code",
   "execution_count": null,
   "id": "36",
   "metadata": {},
   "outputs": [],
   "source": [
    "s = run_sygma(Z=0.01)"
   ]
  },
  {
   "cell_type": "code",
   "execution_count": null,
   "id": "37",
   "metadata": {},
   "outputs": [],
   "source": [
    "s.plot_table_param(quantity=\"Ekin_wind\")"
   ]
  },
  {
   "cell_type": "code",
   "execution_count": null,
   "id": "38",
   "metadata": {},
   "outputs": [],
   "source": [
    "from NuPyCEE import read_yields"
   ]
  },
  {
   "cell_type": "code",
   "execution_count": null,
   "id": "39",
   "metadata": {},
   "outputs": [],
   "source": [
    "s.plot_table_remnant(iniZ=0.02)"
   ]
  },
  {
   "cell_type": "code",
   "execution_count": null,
   "id": "40",
   "metadata": {},
   "outputs": [],
   "source": [
    "s.plot_table_yield(\"mini\", \"C-12\", 0.001)"
   ]
  },
  {
   "cell_type": "code",
   "execution_count": null,
   "id": "41",
   "metadata": {},
   "outputs": [],
   "source": [
    "s.plot_mass_range_contributions(\"C\")"
   ]
  },
  {
   "cell_type": "code",
   "execution_count": null,
   "id": "42",
   "metadata": {},
   "outputs": [],
   "source": []
  }
 ],
 "metadata": {
  "kernelspec": {
   "display_name": "Python 3 (ipykernel)",
   "language": "python",
   "name": "python3"
  },
  "language_info": {
   "codemirror_mode": {
    "name": "ipython",
    "version": 3
   },
   "file_extension": ".py",
   "mimetype": "text/x-python",
   "name": "python",
   "nbconvert_exporter": "python",
   "pygments_lexer": "ipython3",
   "version": "3.11.9"
  }
 },
 "nbformat": 4,
 "nbformat_minor": 5
}
