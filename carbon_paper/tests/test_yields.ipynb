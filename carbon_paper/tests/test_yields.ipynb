{
 "cells": [
  {
   "cell_type": "code",
   "execution_count": null,
   "id": "0",
   "metadata": {},
   "outputs": [],
   "source": [
    "%load_ext autoreload\n",
    "%autoreload 2"
   ]
  },
  {
   "cell_type": "code",
   "execution_count": null,
   "id": "1",
   "metadata": {},
   "outputs": [],
   "source": [
    "import surp\n",
    "import matplotlib.pyplot as plt\n",
    "import vice\n",
    "import numpy as np\n",
    "from surp.gce_math import Z_to_MH, MH_to_Z, Z_SUN, calc_y\n",
    "import arya\n",
    "\n",
    "from surp.agb_interpolator import interpolator\n"
   ]
  },
  {
   "cell_type": "code",
   "execution_count": null,
   "id": "2",
   "metadata": {},
   "outputs": [],
   "source": [
    "import sys\n",
    "sys.path.append(\"../../models/\")\n",
    "import make_yields\n",
    "from make_yields import make_yield_params, y_c_exp, y_c_lin, y_c_quad\n",
    "\n",
    "\n",
    "sys.path.append(\"../\")\n",
    "\n",
    "from singlezone import run_singlezone"
   ]
  },
  {
   "cell_type": "code",
   "execution_count": null,
   "id": "3",
   "metadata": {},
   "outputs": [],
   "source": [
    "y_cc = vice.yields.ccsne.settings\n",
    "y_agb = vice.yields.agb.settings\n"
   ]
  },
  {
   "cell_type": "code",
   "execution_count": null,
   "id": "4",
   "metadata": {},
   "outputs": [],
   "source": [
    "def plot_y_z(Zs=Z_SUN * np.logspace(-1, 0.5, 100), ele=\"c\", yields=\"all\", kind=\"line\", factor = 1, **kwargs):        \n",
    "    y_c_agb = calc_y(Zs, ele=ele, kind=yields)\n",
    "    plt.xlabel(r\"$\\log Z / Z_\\odot$\")\n",
    "    plt.ylabel(r\"yield\")\n",
    "    if kind == \"line\":\n",
    "        p = plt.plot(Z_to_MH(Zs), y_c_agb, **kwargs)\n",
    "    elif kind == \"scatter\":\n",
    "        p = plt.scatter(Z_to_MH(Zs), y_c_agb, **kwargs)\n",
    "    return p\n"
   ]
  },
  {
   "cell_type": "markdown",
   "id": "5",
   "metadata": {},
   "source": [
    "# Parameters"
   ]
  },
  {
   "cell_type": "code",
   "execution_count": null,
   "id": "6",
   "metadata": {},
   "outputs": [],
   "source": [
    "MH = np.linspace(-1, 0.5)\n",
    "Zs = MH_to_Z(MH)"
   ]
  },
  {
   "cell_type": "code",
   "execution_count": null,
   "id": "7",
   "metadata": {},
   "outputs": [],
   "source": [
    "params = make_yield_params()"
   ]
  },
  {
   "cell_type": "code",
   "execution_count": null,
   "id": "8",
   "metadata": {},
   "outputs": [],
   "source": [
    "AGB_LABELS = [\"C11\", \"V13\", \"K16\",  \"P16\"]\n"
   ]
  },
  {
   "cell_type": "code",
   "execution_count": null,
   "id": "9",
   "metadata": {},
   "outputs": [],
   "source": [
    "for i in range(4):\n",
    "    model = AGB_LABELS[i]\n",
    "    yname = f\"../../models/{model}_oob/yield_params.json\"\n",
    "    surp.set_yields(surp.YieldParams.from_file(yname), verbose=False)\n",
    "    \n",
    "    plot_y_z(Zs, label=model)\n",
    "    \n",
    "plt.plot(MH, y_c_lin(MH) * 10**0.0, label=\"expected\", color=\"k\")\n",
    "arya.Legend(-1)"
   ]
  },
  {
   "cell_type": "code",
   "execution_count": null,
   "id": "10",
   "metadata": {},
   "outputs": [],
   "source": [
    "for agb_model in surp.AGB_MODELS:\n",
    "    plt.plot(MH, y_c_lin(MH), label=\"expected\", color=\"k\")\n",
    "    plt.plot(MH, make_yields.Y_C_0 + make_yields.ZETA_C_0 * MH, label=\"expected\", color=\"k\", ls=\"--\")\n",
    "\n",
    "    for f in [0.05, 0.1, 0.2, 0.5]:\n",
    "        params = make_yield_params(f_agb=f, agb_model=agb_model, cc_model=\"LogLin\")\n",
    "        surp.yields.set_yields(params, verbose=False)\n",
    "        plot_y_z(Zs, label=f)\n",
    "\n",
    "    arya.Legend(-1)\n",
    "    plt.title(agb_model)\n",
    "    plt.show()"
   ]
  },
  {
   "cell_type": "code",
   "execution_count": null,
   "id": "11",
   "metadata": {},
   "outputs": [],
   "source": [
    "for agb_model in surp.AGB_MODELS:\n",
    "    plt.plot(MH, y_c_exp(MH), label=\"expected\", color=\"k\")\n",
    "\n",
    "    for f in [0.05, 0.1, 0.2, 0.5]:\n",
    "        params = make_yield_params(f_agb=f, agb_model=agb_model, interp_kind=\"linear\", cc_model=\"Lin\", y1=0.002)\n",
    "        surp.yields.set_yields(params)\n",
    "        plot_y_z(Zs, label=f)\n",
    "\n",
    "    arya.Legend(-1)\n",
    "    plt.title(agb_model)\n",
    "    plt.show()"
   ]
  },
  {
   "cell_type": "code",
   "execution_count": null,
   "id": "12",
   "metadata": {},
   "outputs": [],
   "source": [
    "for model in surp._globals.AGB_MODELS:\n",
    "    surp.yields.set_yields(make_yield_params(alpha_agb=1.2,  agb_model=model))\n",
    "    vice.yields.ccsne.settings[\"c\"] = 0\n",
    "    plot_y_z(Zs)"
   ]
  },
  {
   "cell_type": "code",
   "execution_count": null,
   "id": "13",
   "metadata": {},
   "outputs": [],
   "source": [
    "MH = np.linspace(-2, 0.5, 200)\n",
    "Zs = MH_to_Z(MH)\n",
    "\n",
    "\n",
    "for z_cc in [0, 0.03, 0.05, 0.07]:\n",
    "    surp.yields.set_yields(make_yield_params(f_agb=0.2, zeta_cc=z_cc,  agb_model=\"cristallo11\"))\n",
    "    plot_y_z(Zs, label=z_cc)\n",
    "\n",
    "plt.xlim(-0.6)\n",
    "plt.ylim(0)\n",
    "plt.legend()"
   ]
  },
  {
   "cell_type": "code",
   "execution_count": null,
   "id": "14",
   "metadata": {},
   "outputs": [],
   "source": [
    "MH = np.linspace(-2, 0.5, 200)\n",
    "Zs = MH_to_Z(MH)\n",
    "plt.plot(MH,y_c_total(Zs), label=\"expected\", color=\"k\")\n",
    "\n",
    "for agb_model in surp.AGB_MODELS:\n",
    "\n",
    "    \n",
    "    params = make_yield_params(agb_model=agb_model)\n",
    "    surp.yields.set_yields(params)\n",
    "    plot_y_z(Zs, label=agb_model)\n",
    "\n",
    "arya.Legend(-1)\n"
   ]
  },
  {
   "cell_type": "code",
   "execution_count": null,
   "id": "15",
   "metadata": {},
   "outputs": [],
   "source": [
    "for model in surp.AGB_MODELS:\n",
    "    vice.yields.agb.settings[\"c\"]  = model\n",
    "    plt.plot(Zs, [y_agb(Z) for Z in Zs], label=\"default\")\n",
    "\n",
    "    vice.yields.agb.settings[\"c\"] = interpolator(\"c\", study=model, no_negative=False)\n",
    "\n",
    "    plt.plot(Zs, [y_agb(Z)  for Z in Zs], label=\"interpolator\", ls=\"--\")\n",
    "    plt.xlabel(\"Z\")\n",
    "    plt.ylabel(\"y c\")"
   ]
  },
  {
   "cell_type": "code",
   "execution_count": null,
   "id": "16",
   "metadata": {},
   "outputs": [],
   "source": []
  }
 ],
 "metadata": {
  "kernelspec": {
   "display_name": "Python 3 (ipykernel)",
   "language": "python",
   "name": "python3"
  },
  "language_info": {
   "codemirror_mode": {
    "name": "ipython",
    "version": 3
   },
   "file_extension": ".py",
   "mimetype": "text/x-python",
   "name": "python",
   "nbconvert_exporter": "python",
   "pygments_lexer": "ipython3",
   "version": "3.11.9"
  }
 },
 "nbformat": 4,
 "nbformat_minor": 5
}
