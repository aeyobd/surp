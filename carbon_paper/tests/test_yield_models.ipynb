{
 "cells": [
  {
   "cell_type": "code",
   "execution_count": null,
   "id": "0",
   "metadata": {},
   "outputs": [],
   "source": [
    "%load_ext autoreload\n",
    "%autoreload 2"
   ]
  },
  {
   "cell_type": "code",
   "execution_count": null,
   "id": "1",
   "metadata": {},
   "outputs": [],
   "source": [
    "import surp\n",
    "import matplotlib.pyplot as plt\n",
    "import vice\n",
    "import numpy as np\n",
    "from surp.gce_math import Z_to_MH, MH_to_Z, Z_SUN\n",
    "from surp.yields import calc_y\n",
    "import arya\n",
    "\n",
    "from surp.agb_interpolator import interpolator\n"
   ]
  },
  {
   "cell_type": "code",
   "execution_count": null,
   "id": "2",
   "metadata": {},
   "outputs": [],
   "source": [
    "y_cc = vice.yields.ccsne.settings\n",
    "y_agb = vice.yields.agb.settings"
   ]
  },
  {
   "cell_type": "code",
   "execution_count": null,
   "id": "3",
   "metadata": {},
   "outputs": [],
   "source": [
    "def plot_y_z(Zs=Z_SUN * np.logspace(-1, 0.5, 100), ele=\"c\", yields=\"all\", kind=\"line\", factor = 1, **kwargs):        \n",
    "    y_c_agb = calc_y(Zs, ele=ele, kind=yields)\n",
    "    plt.xlabel(r\"$\\log Z / Z_\\odot$\")\n",
    "    plt.ylabel(r\"yield\")\n",
    "    if kind == \"line\":\n",
    "        p = plt.plot(Z_to_MH(Zs), y_c_agb, **kwargs)\n",
    "    elif kind == \"scatter\":\n",
    "        p = plt.scatter(Z_to_MH(Zs), y_c_agb, **kwargs)\n",
    "    return p\n"
   ]
  },
  {
   "cell_type": "markdown",
   "id": "4",
   "metadata": {
    "tags": []
   },
   "source": [
    "# CCSNe Model"
   ]
  },
  {
   "cell_type": "code",
   "execution_count": null,
   "id": "5",
   "metadata": {},
   "outputs": [],
   "source": [
    "from surp.yield_models import Lin_CC, LogLin_CC, BiLin_CC, BiLogLin_CC, C_AGB_Model, ZeroAGB, Quadratic_CC, Piecewise_CC"
   ]
  },
  {
   "cell_type": "code",
   "execution_count": null,
   "id": "6",
   "metadata": {},
   "outputs": [],
   "source": [
    "y_mg = y_cc[\"mg\"]\n",
    "noneq_factor = 1.025\n",
    "noneq_zeta = 1.8\n",
    "noneq_A = 1.8\n",
    "\n",
    "Y_C_0 = 4.12 * y_mg * noneq_factor\n",
    "ZETA_C_0 = 1.21 * y_mg * noneq_factor * noneq_zeta\n",
    "A_C_0 = 3.07 * y_mg * noneq_factor * noneq_A"
   ]
  },
  {
   "cell_type": "code",
   "execution_count": null,
   "id": "7",
   "metadata": {},
   "outputs": [],
   "source": [
    "BiLin_CC(zeta=0.1, y0=2)(2)"
   ]
  },
  {
   "cell_type": "code",
   "execution_count": null,
   "id": "8",
   "metadata": {},
   "outputs": [],
   "source": [
    "LogLin_CC(zeta=ZETA_C_0, y0=Y_C_0)(1)"
   ]
  },
  {
   "cell_type": "code",
   "execution_count": null,
   "id": "9",
   "metadata": {},
   "outputs": [],
   "source": [
    "vice.yields.agb.settings[\"c\"] = ZeroAGB()"
   ]
  },
  {
   "cell_type": "code",
   "execution_count": null,
   "id": "10",
   "metadata": {},
   "outputs": [],
   "source": [
    "y0 = Y_C_0"
   ]
  },
  {
   "cell_type": "code",
   "execution_count": null,
   "id": "11",
   "metadata": {},
   "outputs": [],
   "source": [
    "y_cc[\"c\"] = Lin_CC(zeta=ZETA_C_0, y0=y0 )\n",
    "plot_y_z(label=\"linear\", ls=\"--\")\n",
    "\n",
    "y_cc[\"c\"] = BiLin_CC(zeta=ZETA_C_0, y0=y0, Z1=0.008, y1=0.0001)\n",
    "plot_y_z(label=\"BiLin\", ls=\"--\")\n",
    "\n",
    "\n",
    "y_cc[\"c\"] = LogLin_CC(zeta=ZETA_C_0, y0=Y_C_0)\n",
    "plot_y_z(label=\"loglin\")\n",
    "\n",
    "y_cc[\"c\"] = BiLogLin_CC(zeta=ZETA_C_0, y0=Y_C_0, y1=0.001)\n",
    "plot_y_z(label=\"BiLogLin\",  ls=\":\")\n",
    "\n",
    "\n",
    "y_cc[\"c\"] = Quadratic_CC(A=A_C_0, zeta=ZETA_C_0,  y0=Y_C_0)\n",
    "plot_y_z(label=\"quadratic\")\n",
    "\n",
    "\n",
    "arya.Legend(-1)"
   ]
  },
  {
   "cell_type": "code",
   "execution_count": null,
   "id": "12",
   "metadata": {},
   "outputs": [],
   "source": [
    "y_cc[\"c\"] = Quadratic_CC(A=0, zeta=ZETA_C_0,  y0=Y_C_0)\n",
    "plot_y_z(label=\"quadratic\")"
   ]
  },
  {
   "cell_type": "code",
   "execution_count": null,
   "id": "13",
   "metadata": {},
   "outputs": [],
   "source": [
    "y0s = [4e-4, 2e-4, 2.5e-4]\n",
    "Zs = [1e-4, 0.008]\n",
    "zetas = [0, 1e-4, 2.5e-4]\n",
    "y_cc[\"c\"] = Piecewise_CC(y0s, zetas, Zs)\n",
    "\n",
    "MH = np.linspace(-5, 0.5, 1000)\n",
    "Z = MH_to_Z(MH)\n",
    "plot_y_z(Zs=Z, label=\"quadratic\")\n",
    "\n",
    "\n"
   ]
  },
  {
   "cell_type": "code",
   "execution_count": null,
   "id": "14",
   "metadata": {},
   "outputs": [],
   "source": [
    "y_cc[\"c\"] = LogLin_CC(zeta=0.001)\n",
    "\n",
    "plot_y_z()\n",
    "\n",
    "y_cc[\"c\"] = LogLin_CC(y0 = 0.005, zeta=0.001)\n",
    "plot_y_z()\n",
    "\n",
    "y_cc[\"c\"] = lambda Z: LogLin_CC(y0 = 0.005, zeta=0.001)(Z) - LogLin_CC(y0 = 0.004, zeta=0.001)(Z)\n",
    "plot_y_z(label=\"difference\")\n",
    "arya.Legend(loc=-1)"
   ]
  },
  {
   "cell_type": "code",
   "execution_count": null,
   "id": "15",
   "metadata": {
    "tags": []
   },
   "outputs": [],
   "source": [
    "y_cc[\"c\"] = LogLin_CC(y0=0, zeta=0.01)\n",
    "\n",
    "plot_y_z()\n",
    "\n",
    "y_cc[\"c\"] = LogLin_CC(y0=0, zeta = 0.02)\n",
    "plot_y_z()\n",
    "\n",
    "arya.Legend(loc=-1)"
   ]
  },
  {
   "cell_type": "code",
   "execution_count": null,
   "id": "16",
   "metadata": {},
   "outputs": [],
   "source": [
    "plot_y_z()"
   ]
  },
  {
   "cell_type": "code",
   "execution_count": null,
   "id": "17",
   "metadata": {},
   "outputs": [],
   "source": [
    "y_cc[\"c\"] = Lin_CC()\n",
    "Zs = MH_to_Z(np.linspace(-4, 1, 100))\n",
    "plot_y_z(Zs)\n",
    "\n",
    "y_cc[\"c\"] = BiLin_CC(Z1=0.001, y1=2e-3)\n",
    "\n",
    "plot_y_z(Zs,)\n",
    "arya.Legend(loc=-1)\n",
    "plt.axhline(2e-3)\n",
    "plt.axvline(Z_to_MH(1e-3))\n",
    "plt.ylim(0, 3e-3)"
   ]
  },
  {
   "cell_type": "markdown",
   "id": "18",
   "metadata": {},
   "source": [
    "# AGB Interpolator"
   ]
  },
  {
   "cell_type": "code",
   "execution_count": null,
   "id": "19",
   "metadata": {},
   "outputs": [],
   "source": [
    "y_cc[\"c\"] = 0\n",
    "y_agb = vice.yields.agb.settings"
   ]
  },
  {
   "cell_type": "code",
   "execution_count": null,
   "id": "20",
   "metadata": {},
   "outputs": [],
   "source": [
    "for study in surp.AGB_MODELS:\n",
    "    \n",
    "    y_agb[\"c\"] = interpolator(\"c\", study=study, interp_kind=\"log\", low_z_flat=True)\n",
    "    plot_y_z( label=study)\n",
    "\n",
    "arya.Legend(loc=-1)"
   ]
  },
  {
   "cell_type": "code",
   "execution_count": null,
   "id": "21",
   "metadata": {},
   "outputs": [],
   "source": [
    "for alpha in [0.5, 1, 2]:\n",
    "    y_agb[\"c\"] = interpolator(\"c\", prefactor=alpha)\n",
    "    plot_y_z( label=alpha)\n",
    "    y_agb[\"c\"] = interpolator(\"c\")\n",
    "    y_agb[\"c\"] = y_agb[\"c\"]*alpha\n",
    "    plot_y_z(ls=\"--\")\n",
    "\n",
    "arya.Legend(loc=-1)"
   ]
  },
  {
   "cell_type": "code",
   "execution_count": null,
   "id": "22",
   "metadata": {},
   "outputs": [],
   "source": [
    "ms = np.linspace(0, 10, 1000)\n",
    "Z = 0.1*Z_SUN\n",
    "for alpha in [0.5, 1, 2]:\n",
    "    y_agb[\"c\"] = interpolator(\"c\", mass_factor=alpha, pinch_mass=1)\n",
    "    plt.plot(ms, [y_agb[\"c\"](m, Z) for m in ms], label=alpha)\n",
    "\n",
    "arya.Legend(loc=-1)\n",
    "plt.xlabel(\"mass\")\n",
    "plt.ylabel(\"Y\")"
   ]
  },
  {
   "cell_type": "code",
   "execution_count": null,
   "id": "23",
   "metadata": {},
   "outputs": [],
   "source": [
    "for alpha in [0.5, 1, 2]:\n",
    "    y_agb[\"c\"] = interpolator(\"c\", mass_factor=alpha, no_negative=True)\n",
    "    plt.plot(ms, [y_agb[\"c\"](m, Z) for m in ms], label=alpha)\n",
    "\n",
    "arya.Legend(loc=-1)\n",
    "plt.xlabel(\"mass\")\n",
    "plt.ylabel(\"Y\")"
   ]
  },
  {
   "cell_type": "code",
   "execution_count": null,
   "id": "24",
   "metadata": {},
   "outputs": [],
   "source": [
    "interpolator(\"c\")(7.999999999999999, 0.014)"
   ]
  },
  {
   "cell_type": "code",
   "execution_count": null,
   "id": "25",
   "metadata": {},
   "outputs": [],
   "source": [
    "8 * 1.3"
   ]
  },
  {
   "cell_type": "code",
   "execution_count": null,
   "id": "26",
   "metadata": {},
   "outputs": [],
   "source": [
    "print(_ / 1.3)"
   ]
  },
  {
   "cell_type": "code",
   "execution_count": null,
   "id": "27",
   "metadata": {},
   "outputs": [],
   "source": [
    "Zs = 0.016*10**np.linspace(-3, 0.5)\n",
    "y_agb[\"c\"] = interpolator(\"c\")\n",
    "plot_y_z(Zs)\n",
    "\n",
    "y_agb[\"c\"] = interpolator(\"c\", interp_kind=\"log\")\n",
    "plot_y_z(Zs)\n",
    "\n",
    "y_agb[\"c\"] = interpolator(\"c\", interp_kind=\"log\", low_z_flat=True)\n",
    "plot_y_z(Zs)\n",
    "\n",
    "\n",
    "y_agb[\"c\"] = interpolator(\"c\", low_z_flat=True)\n",
    "plot_y_z(Zs)"
   ]
  }
 ],
 "metadata": {
  "kernelspec": {
   "display_name": "Python 3 (ipykernel)",
   "language": "python",
   "name": "python3"
  },
  "language_info": {
   "codemirror_mode": {
    "name": "ipython",
    "version": 3
   },
   "file_extension": ".py",
   "mimetype": "text/x-python",
   "name": "python",
   "nbconvert_exporter": "python",
   "pygments_lexer": "ipython3",
   "version": "3.11.9"
  }
 },
 "nbformat": 4,
 "nbformat_minor": 5
}
