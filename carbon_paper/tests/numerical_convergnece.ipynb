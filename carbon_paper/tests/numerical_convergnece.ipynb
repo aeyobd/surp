{
 "cells": [
  {
   "cell_type": "code",
   "execution_count": null,
   "id": "0",
   "metadata": {},
   "outputs": [],
   "source": [
    "import surp\n",
    "import arya\n",
    "import matplotlib.pyplot as plt\n",
    "import numpy as np"
   ]
  },
  {
   "cell_type": "markdown",
   "id": "1",
   "metadata": {},
   "source": [
    "# Timestep convergence"
   ]
  },
  {
   "cell_type": "code",
   "execution_count": null,
   "id": "2",
   "metadata": {},
   "outputs": [],
   "source": [
    "mid = surp.ViceModel.from_file(\"../../models/C11_f0.2/model.json\")"
   ]
  },
  {
   "cell_type": "code",
   "execution_count": null,
   "id": "3",
   "metadata": {},
   "outputs": [],
   "source": [
    "low = surp.ViceModel.from_file(\"../../models/fiducial/dt0.05/model.json\")\n",
    "high = surp.ViceModel.from_file(\"../../models/fiducial/dt0.01/model.json\")\n"
   ]
  },
  {
   "cell_type": "code",
   "execution_count": null,
   "id": "4",
   "metadata": {},
   "outputs": [],
   "source": [
    "models = [low, mid, high]\n",
    "labels = [\"dt=0.05\", \"dt=0.02\", \"dt=0.01\"]"
   ]
  },
  {
   "cell_type": "code",
   "execution_count": null,
   "id": "5",
   "metadata": {},
   "outputs": [],
   "source": [
    "print(\"timestep \\t dt \\t dt_err \\t \\t n steps\")\n",
    "\n",
    "for i in range(len(models)):\n",
    "    model = models[i]\n",
    "    ts = np.unique(model.history.time)\n",
    "    dts = np.diff(ts)\n",
    "    print(labels[i], \"\\t\", np.mean(dts), \"\\t\", np.std(dts), \"\\t\", len(ts))"
   ]
  },
  {
   "cell_type": "code",
   "execution_count": null,
   "id": "6",
   "metadata": {},
   "outputs": [],
   "source": [
    "plt.figure()\n",
    "for i in range(len(models)):\n",
    "    model = models[i]\n",
    "    label = labels[i]\n",
    "    t_end = np.max(model.history.time)\n",
    "    h_end = model.history[model.history.time == t_end]\n",
    "    plt.scatter(h_end.R, h_end.MG_H, s=1, label=label)\n",
    "\n",
    "plt.xlabel(\"R\")\n",
    "plt.ylabel(\"[Mg/H]\")\n",
    "arya.Legend(loc=-1, color_only=True)\n",
    "plt.title(\"final gas phase trends\")\n",
    "plt.xlim(0, 15.5)\n",
    "plt.ylim(-1, 1)"
   ]
  },
  {
   "cell_type": "code",
   "execution_count": null,
   "id": "7",
   "metadata": {},
   "outputs": [],
   "source": [
    "plt.figure()\n",
    "for i in range(len(models)):\n",
    "    model = models[i]\n",
    "    label = labels[i]\n",
    "    t_end = np.max(model.history.time)\n",
    "    h_end = model.history[model.history.time == t_end]\n",
    "    plt.scatter(h_end.R, h_end.C_MG, s=1, label=label)\n",
    "\n",
    "plt.xlabel(\"R\")\n",
    "plt.ylabel(\"[C/Mg]\")\n",
    "arya.Legend(loc=-1, color_only=True)\n",
    "plt.title(\"final gas phase trends\")"
   ]
  },
  {
   "cell_type": "code",
   "execution_count": null,
   "id": "8",
   "metadata": {},
   "outputs": [],
   "source": [
    "plt.figure()\n",
    "for i in range(len(models)):\n",
    "    model = models[i]\n",
    "    label = labels[i]\n",
    "    t_end = np.max(model.history.time)\n",
    "    h_end = model.history[model.history.time == t_end]\n",
    "    plt.scatter(h_end.MG_H, h_end.C_MG, s=1, label=label)\n",
    "\n",
    "plt.xlim(-0.8, 0.5)\n",
    "plt.xlabel(\"[Mg/H]\")\n",
    "plt.ylabel(\"[C/Mg]\")\n",
    "arya.Legend(loc=-1, color_only=True)\n",
    "plt.title(\"final gas phase trends\")"
   ]
  },
  {
   "cell_type": "code",
   "execution_count": null,
   "id": "9",
   "metadata": {},
   "outputs": [],
   "source": [
    "plt.figure()\n",
    "for i in range(len(models)):\n",
    "    model = models[i]\n",
    "    label = labels[i]\n",
    "    t_end = np.max(model.history.time)\n",
    "    h_end = model.history[model.history.time == t_end]\n",
    "    plt.scatter(h_end.MG_H, h_end.MG_FE, s=1, label=label)\n",
    "\n",
    "plt.xlim(-0.8, 0.5)\n",
    "plt.ylim(-0.05, 0.10)\n",
    "plt.xlabel(\"[Mg/H]\")\n",
    "plt.ylabel(\"[Mg/Fe]\")\n",
    "arya.Legend(loc=-1, color_only=True)\n",
    "plt.title(\"final gas phase trends\")"
   ]
  },
  {
   "cell_type": "code",
   "execution_count": null,
   "id": "10",
   "metadata": {},
   "outputs": [],
   "source": [
    "plt.figure()\n",
    "R0 = 7.05\n",
    "for i in range(len(models)):\n",
    "    model = models[i]\n",
    "    label = labels[i]\n",
    "    h = model.history[np.isclose(model.history.R, R0)]\n",
    "    plt.plot(h.time, h.C_MG, label=label)\n",
    "    \n",
    "plt.xlabel(\"time\")\n",
    "plt.ylabel(\"[C/Mg]\")\n",
    "arya.Legend(loc=-1, color_only=True)\n"
   ]
  },
  {
   "cell_type": "code",
   "execution_count": null,
   "id": "11",
   "metadata": {},
   "outputs": [],
   "source": [
    "for i in range(len(models)):\n",
    "    model = models[i]\n",
    "    label = labels[i]\n",
    "    c = arya.COLORS[i]\n",
    "    df = model.stars[~model.stars.high_alpha]\n",
    "    arya.medianplot(df, \"MG_H\", \"C_MG\", binsize=500, color=c)\n",
    "plt.xlabel(\"[Mg/H]\")\n",
    "plt.ylabel(\"[C/Mg]\")\n",
    "arya.Legend(loc=-1, color_only=True)\n",
    "plt.title(\"stars\")"
   ]
  },
  {
   "cell_type": "code",
   "execution_count": null,
   "id": "12",
   "metadata": {},
   "outputs": [],
   "source": [
    "for i in range(len(models)):\n",
    "    model = models[i]\n",
    "    label = labels[i]\n",
    "    s = model.stars\n",
    "    plt.hist(s.r_origin, 20, histtype=\"step\", density=True)\n",
    "    \n",
    "plt.xlabel(\"R origin (sample)\")"
   ]
  },
  {
   "cell_type": "markdown",
   "id": "13",
   "metadata": {},
   "source": [
    "Everything converges (yay!)"
   ]
  },
  {
   "cell_type": "markdown",
   "id": "14",
   "metadata": {},
   "source": [
    "# Zone width"
   ]
  },
  {
   "cell_type": "code",
   "execution_count": null,
   "id": "15",
   "metadata": {},
   "outputs": [],
   "source": [
    "mid = surp.ViceModel.from_file(\"../../models/fruity/C11_f0.2/model.json\")"
   ]
  },
  {
   "cell_type": "code",
   "execution_count": null,
   "id": "16",
   "metadata": {},
   "outputs": [],
   "source": [
    "low = surp.ViceModel.from_file(\"../../models/fiducial/zone_width0.2/model.json\")\n",
    "high = surp.ViceModel.from_file(\"../../models/fiducial/zone_width0.05/model.json\")\n"
   ]
  },
  {
   "cell_type": "code",
   "execution_count": null,
   "id": "17",
   "metadata": {},
   "outputs": [],
   "source": [
    "models = [high, mid, low]\n",
    "labels = [\"zw=0.05\", \"zw=0.1\", \"zw=0.2\"]\n",
    "zw = [0.05, 0.1, 0.2]"
   ]
  },
  {
   "cell_type": "code",
   "execution_count": null,
   "id": "18",
   "metadata": {},
   "outputs": [],
   "source": [
    "print(\"zw\\t nzones\\t zone_max\")\n",
    "for i in range(3):\n",
    "    model = models[i]\n",
    "    print(zw[i], \"\\t\", len(model.history.R.unique()), \"\\t\", np.max(model.stars.zone_final), \"\\t\", np.max(model.stars_unsampled.zone_origin))"
   ]
  },
  {
   "cell_type": "code",
   "execution_count": null,
   "id": "19",
   "metadata": {},
   "outputs": [],
   "source": [
    "plt.figure()\n",
    "for i in range(3):\n",
    "    model = models[i]\n",
    "    label = labels[i]\n",
    "    t_end = np.max(model.history.time)\n",
    "    h_end = model.history[model.history.time == t_end]\n",
    "    plt.scatter(h_end.R, h_end.MG_H, s=1, label=label)\n",
    "\n",
    "plt.xlabel(\"R\")\n",
    "plt.ylabel(\"[Mg/H]\")\n",
    "arya.Legend(loc=-1, color_only=True)\n",
    "plt.title(\"final gas phase trends\")\n",
    "plt.xlim(0, 15.5)\n",
    "plt.ylim(-1, 1)"
   ]
  },
  {
   "cell_type": "code",
   "execution_count": null,
   "id": "20",
   "metadata": {},
   "outputs": [],
   "source": [
    "plt.figure()\n",
    "for i in range(3):\n",
    "    model = models[i]\n",
    "    label = labels[i]\n",
    "    t_end = np.max(model.history.time)\n",
    "    h_end = model.history[model.history.time == t_end]\n",
    "    plt.scatter(h_end.R, h_end.C_MG, s=1, label=label)\n",
    "\n",
    "plt.xlabel(\"R\")\n",
    "plt.ylabel(\"[C/Mg]\")\n",
    "arya.Legend(loc=-1, color_only=True)\n",
    "plt.title(\"final gas phase trends\")"
   ]
  },
  {
   "cell_type": "code",
   "execution_count": null,
   "id": "21",
   "metadata": {},
   "outputs": [],
   "source": [
    "plt.figure()\n",
    "R0 = [7.1, 7.05, 7.075]\n",
    "for i in range(3):\n",
    "    model = models[i]\n",
    "    label = labels[i]\n",
    "    h = model.history[np.isclose(model.history.R, R0[i])]\n",
    "    plt.plot(h.time, h.C_MG, label=label)\n",
    "    \n",
    "plt.xlabel(\"time\")\n",
    "plt.ylabel(\"[C/Mg]\")\n",
    "arya.Legend(loc=-1, color_only=True)\n"
   ]
  },
  {
   "cell_type": "code",
   "execution_count": null,
   "id": "22",
   "metadata": {},
   "outputs": [],
   "source": [
    "plt.figure()\n",
    "\n",
    "for i in range(3):\n",
    "    plt.hist(models[i].stars.r_origin, bins=np.arange(0, 15.5, 5*zw[i]), histtype=\"step\", label=labels[i], density=True)\n",
    "    \n",
    "arya.Legend(loc=-1)\n",
    "plt.xlabel(\"R origin / kpc\")\n",
    "plt.ylabel(\"density\")"
   ]
  },
  {
   "cell_type": "code",
   "execution_count": null,
   "id": "23",
   "metadata": {},
   "outputs": [],
   "source": []
  },
  {
   "cell_type": "code",
   "execution_count": null,
   "id": "24",
   "metadata": {},
   "outputs": [],
   "source": [
    "np.max(mid.stars.zone_origin)"
   ]
  },
  {
   "cell_type": "code",
   "execution_count": null,
   "id": "25",
   "metadata": {},
   "outputs": [],
   "source": [
    "np.max(low.stars.zone_origin)"
   ]
  },
  {
   "cell_type": "code",
   "execution_count": null,
   "id": "26",
   "metadata": {},
   "outputs": [],
   "source": []
  }
 ],
 "metadata": {
  "kernelspec": {
   "display_name": "Python (3.10)",
   "language": "python",
   "name": "python3"
  },
  "language_info": {
   "codemirror_mode": {
    "name": "ipython",
    "version": 3
   },
   "file_extension": ".py",
   "mimetype": "text/x-python",
   "name": "python",
   "nbconvert_exporter": "python",
   "pygments_lexer": "ipython3",
   "version": "3.10.10"
  }
 },
 "nbformat": 4,
 "nbformat_minor": 5
}
