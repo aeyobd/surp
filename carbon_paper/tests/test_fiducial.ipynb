{
 "cells": [
  {
   "cell_type": "code",
   "execution_count": null,
   "id": "0",
   "metadata": {},
   "outputs": [],
   "source": [
    "import matplotlib.pyplot as plt\n",
    "\n",
    "import numpy as np"
   ]
  },
  {
   "cell_type": "code",
   "execution_count": null,
   "id": "1",
   "metadata": {},
   "outputs": [],
   "source": [
    "import surp\n",
    "import arya"
   ]
  },
  {
   "cell_type": "code",
   "execution_count": null,
   "id": "2",
   "metadata": {},
   "outputs": [],
   "source": [
    "fiducial = surp.ViceModel.from_file(\"../../models/fiducial/run/model.json\")"
   ]
  },
  {
   "cell_type": "code",
   "execution_count": null,
   "id": "3",
   "metadata": {},
   "outputs": [],
   "source": [
    "params = surp.MWParams.from_file(\"../../models/fiducial/run/params.toml\")"
   ]
  },
  {
   "cell_type": "code",
   "execution_count": null,
   "id": "4",
   "metadata": {},
   "outputs": [],
   "source": [
    "h = fiducial.history"
   ]
  },
  {
   "cell_type": "code",
   "execution_count": null,
   "id": "5",
   "metadata": {},
   "outputs": [],
   "source": [
    "t_end = np.max(h.time)"
   ]
  },
  {
   "cell_type": "code",
   "execution_count": null,
   "id": "6",
   "metadata": {},
   "outputs": [],
   "source": [
    "h_end = h[h.time == t_end]"
   ]
  },
  {
   "cell_type": "code",
   "execution_count": null,
   "id": "7",
   "metadata": {},
   "outputs": [],
   "source": [
    "plt.xlabel(\"zone\")\n",
    "plt.ylabel(\"radius / kpc\")\n",
    "plt.scatter(h.zone, h.R, s=1)"
   ]
  },
  {
   "cell_type": "markdown",
   "id": "8",
   "metadata": {},
   "source": [
    "sanity check that radius correctly corresponds to zone number and the ranges of both make sens"
   ]
  },
  {
   "cell_type": "markdown",
   "id": "9",
   "metadata": {},
   "source": [
    "# Star Formation History\n",
    "Should go as the two part power law"
   ]
  },
  {
   "cell_type": "code",
   "execution_count": null,
   "id": "10",
   "metadata": {},
   "outputs": [],
   "source": [
    "def sfh_model(t, tau_sfh, tau_rise):\n",
    "    return np.exp(-t/tau_sfh) * (1 - np.exp(-t/tau_rise))"
   ]
  },
  {
   "cell_type": "code",
   "execution_count": null,
   "id": "11",
   "metadata": {},
   "outputs": [],
   "source": [
    "tau_sfh_exp = np.vectorize(surp.simulation.star_formation_history.get_sfh_timescale)"
   ]
  },
  {
   "cell_type": "code",
   "execution_count": null,
   "id": "12",
   "metadata": {},
   "outputs": [],
   "source": [
    "plt.scatter(h.time, h.sfr, c=h.R, s=0.01)\n",
    "plt.xlabel(\"time\")\n",
    "plt.ylabel(\"sfr\")\n",
    "plt.colorbar(label=\"radius\")"
   ]
  },
  {
   "cell_type": "code",
   "execution_count": null,
   "id": "13",
   "metadata": {},
   "outputs": [],
   "source": [
    "tau_sfh_exp(15.05)"
   ]
  },
  {
   "cell_type": "code",
   "execution_count": null,
   "id": "14",
   "metadata": {},
   "outputs": [],
   "source": [
    "for R, tau_sfh in [(3.05, 7.5), (7.05, 14), (15.05, 35)]:\n",
    "    tau_rise = 2\n",
    "    filt = np.isclose(h.R, R)\n",
    "    h1 = h[filt]\n",
    "    plt.plot(h1.time, h1.sfr / np.max(h1.sfr), label=\"model\")\n",
    "    y = sfh_model(h1.time, tau_sfh, tau_rise)\n",
    "    plt.plot(h1.time, y/np.max(y), label=\"expected\")\n",
    "    \n",
    "    plt.title(f\"R = {R} kpc\")\n",
    "    plt.xlabel(\"time / Gyr\")\n",
    "    plt.ylabel(\"peak normalized SFR\")\n",
    "    plt.legend()\n",
    "    \n",
    "    plt.show()"
   ]
  },
  {
   "cell_type": "code",
   "execution_count": null,
   "id": "15",
   "metadata": {},
   "outputs": [],
   "source": [
    "plt.scatter(h_end.R, h_end.sfr)\n",
    "plt.xlabel(\"R / kpc\")\n",
    "plt.ylabel(\"SFR\")"
   ]
  },
  {
   "cell_type": "code",
   "execution_count": null,
   "id": "16",
   "metadata": {},
   "outputs": [],
   "source": [
    "dR = np.sort(h_end.R)[1] - np.sort(h_end.R)[0]"
   ]
  },
  {
   "cell_type": "code",
   "execution_count": null,
   "id": "17",
   "metadata": {},
   "outputs": [],
   "source": [
    "A = (2*np.pi * h_end.R * dR).values\n",
    "plt.scatter(h_end.R, h_end.mstar / A)\n",
    "#plt.plot(h_end.R, h_end.mgas / A)\n",
    "\n",
    "plt.yscale(\"log\")\n",
    "#plt.xscale(\"log\")\n",
    "plt.scatter(h_end.R, 1e9*(np.exp(-h_end.R / 2.5) + 0.27*np.exp(-h_end.R / 2.0)),s=1)\n",
    "plt.ylabel(r\"$\\Sigma_\\star$\")\n",
    "plt.xlabel(\"R\")\n"
   ]
  },
  {
   "cell_type": "markdown",
   "id": "18",
   "metadata": {},
   "source": [
    "star formation densities are okay. divergence at centre is likely a result of migration but may not even be that unphysical.\n",
    "Note that the orange line is arbitrarily normalized, correct normlization is validated by total mass below..."
   ]
  },
  {
   "cell_type": "code",
   "execution_count": null,
   "id": "19",
   "metadata": {},
   "outputs": [],
   "source": [
    "print(\"%0.2e\" % np.sum(h_end.mstar)) # total mass should be 5.17 x 10^10 solar masses"
   ]
  },
  {
   "cell_type": "markdown",
   "id": "20",
   "metadata": {},
   "source": [
    "# SFR Law"
   ]
  },
  {
   "cell_type": "code",
   "execution_count": null,
   "id": "21",
   "metadata": {},
   "outputs": [],
   "source": [
    "def KS_law(Σg):\n",
    "    # sfr density as a function of gas mass\n",
    "    Σ1 = 2e7\n",
    "    Σ2 = 5e6\n",
    "    γ1 = 1\n",
    "    γ2 = 3.6\n",
    "    γ3 = 1.7\n",
    "    \n",
    "    C1 = Σ2**(γ3 - γ2) * Σ1**(γ2 - γ1)\n",
    "    C2 = Σ2**(γ3 - γ2)\n",
    "    norm = 1/2.1 / C1\n",
    "\n",
    "    s = 0\n",
    "    s += np.where(Σ1 < Σgas , C1 * Σgas ** γ1, 0)\n",
    "    s += np.where((Σ2 < Σgas) & (Σgas <= Σ1), C2 * Σgas ** γ2, 0)\n",
    "    s += np.where(Σgas <= Σ2, Σgas**γ3, 0)\n",
    "    return norm*s"
   ]
  },
  {
   "cell_type": "code",
   "execution_count": null,
   "id": "22",
   "metadata": {},
   "outputs": [],
   "source": [
    "Σgas = h_end.mgas/A\n",
    "\n",
    "1/(h_end.sfr / A / Σgas * 1e9)[np.isclose(h_end.R, 7.05)]"
   ]
  },
  {
   "cell_type": "code",
   "execution_count": null,
   "id": "23",
   "metadata": {},
   "outputs": [],
   "source": [
    "Σgas = h_end.mgas/A\n",
    "yr_per_Gyr = 1e9\n",
    "tau_star = h_end.mgas /(h_end.sfr * yr_per_Gyr)\n",
    "plt.scatter(h_end.R, tau_star)\n",
    "plt.colorbar()\n",
    "Σgas = np.linspace(1e6, 1e9, 1000)\n",
    "plt.xlabel(r\"R / kpc\")\n",
    "plt.ylabel(r\"$\\tau_\\star\\,$/Gyr\")\n",
    "plt.title(\"z = 0\")\n",
    "plt.ylim(1)\n"
   ]
  },
  {
   "cell_type": "code",
   "execution_count": null,
   "id": "24",
   "metadata": {},
   "outputs": [],
   "source": [
    "from scipy.optimize import curve_fit\n",
    "tau_sfh = tau_sfh_exp(h_end.R)\n",
    "\n",
    "def lin(x, a, b):\n",
    "    return a*x + b\n",
    "\n",
    "filt = h_end.R < 12\n",
    "\n",
    "tau_star_0 = 2\n",
    "popt, covt = curve_fit(lin, h_end.R[filt], tau_star_0 / tau_sfh[filt])"
   ]
  },
  {
   "cell_type": "code",
   "execution_count": null,
   "id": "25",
   "metadata": {},
   "outputs": [],
   "source": [
    "tau_star[np.argmin(np.abs(h_end.R - 8.12))]"
   ]
  },
  {
   "cell_type": "code",
   "execution_count": null,
   "id": "26",
   "metadata": {},
   "outputs": [],
   "source": [
    "min(tau_star)"
   ]
  },
  {
   "cell_type": "code",
   "execution_count": null,
   "id": "27",
   "metadata": {},
   "outputs": [],
   "source": [
    "dR"
   ]
  },
  {
   "cell_type": "code",
   "execution_count": null,
   "id": "28",
   "metadata": {},
   "outputs": [],
   "source": [
    "\n",
    "plt.scatter(h_end.R, tau_sfh)\n",
    "\n",
    "plt.xlabel(r\"R / kpc\")\n",
    "plt.ylabel(r\"$\\tau_{\\rm sfh}\\,/\\,\\rm Gyr$\")\n",
    "\n",
    "plt.scatter(h_end.R, 2/lin(h_end.R, *popt))\n",
    "plt.ylim(0, 70)"
   ]
  },
  {
   "cell_type": "code",
   "execution_count": null,
   "id": "29",
   "metadata": {},
   "outputs": [],
   "source": [
    "tau_sfh = tau_sfh_exp(h_end.R)\n",
    "plt.scatter(h_end.R, np.array(tau_star) /tau_sfh)\n",
    "\n",
    "plt.xlabel(r\"R / kpc\")\n",
    "plt.ylabel(r\"$\\tau_\\star / \\tau_{\\rm sfh}$\")\n",
    "\n",
    "plt.plot(h_end.R, lin(h_end.R, *popt))"
   ]
  },
  {
   "cell_type": "code",
   "execution_count": null,
   "id": "30",
   "metadata": {},
   "outputs": [],
   "source": [
    "Σgas = h_end.mgas/A\n",
    "plt.scatter(Σgas, 1/(h_end.sfr / A / Σgas * 1e9), c=h_end.R, zorder=5)\n",
    "plt.colorbar()\n",
    "Σgas = np.linspace(1e6, 1e9, 1000)\n",
    "plt.scatter(Σgas, Σgas / KS_law(Σgas))\n",
    "plt.xlabel(r\"$\\Sigma_{\\rm gas}$\")\n",
    "plt.ylabel(r\"$\\tau_\\star$\")\n",
    "plt.yscale(\"log\")\n",
    "plt.xscale('log')\n",
    "plt.xlim(1e2)\n",
    "plt.title(\"z = 0\")\n",
    "plt.ylim(1)\n"
   ]
  },
  {
   "cell_type": "code",
   "execution_count": null,
   "id": "31",
   "metadata": {},
   "outputs": [],
   "source": [
    "np.log10(2)"
   ]
  },
  {
   "cell_type": "code",
   "execution_count": null,
   "id": "32",
   "metadata": {},
   "outputs": [],
   "source": [
    "def log_t_dep(log_z):\n",
    "    At = 0.089\n",
    "    Bt = -0.62\n",
    "    return  Bt*log_z # ignoring offset\n",
    "\n",
    "def t_dep_factor(z):\n",
    "    return 10**log_t_dep(np.log10(1+z))"
   ]
  },
  {
   "cell_type": "code",
   "execution_count": null,
   "id": "33",
   "metadata": {},
   "outputs": [],
   "source": [
    "z = np.linspace(0, 3, 100)\n",
    "plt.plot(z, t_dep_factor(z) * 2)\n",
    "plt.xlabel(\"redshift\")\n",
    "plt.ylabel(r\"$\\tau_0$\")"
   ]
  },
  {
   "cell_type": "code",
   "execution_count": null,
   "id": "34",
   "metadata": {},
   "outputs": [],
   "source": [
    "filt = np.isclose(h.time, 13.2 - 7.8)\n",
    "h1 = h[filt]\n",
    "\n",
    "Σgas = h1.mgas/A\n",
    "plt.scatter(Σgas, h1.sfr / A / Σgas * 1e9)\n",
    "Σgas = np.linspace(1e6, 1e9, 1000)\n",
    "\n",
    "plt.scatter(Σgas, KS_law(Σgas)/ Σgas / t_dep_factor(1))\n",
    "plt.xlabel(r\"$\\Sigma_{\\rm gas}$\")\n",
    "plt.ylabel(r\"$\\dot{\\Sigma}_\\star$\")\n",
    "plt.yscale(\"log\")\n",
    "plt.xscale('log')\n",
    "plt.title(\"z = 1\")\n",
    "plt.xlim(1e5)"
   ]
  },
  {
   "cell_type": "code",
   "execution_count": null,
   "id": "35",
   "metadata": {},
   "outputs": [],
   "source": [
    "filt = np.isclose(h.time, 13.2 - 10.4)\n",
    "h1 = h[filt]\n",
    "\n",
    "Σgas = h1.mgas/A\n",
    "plt.scatter(Σgas, h1.sfr / A / Σgas * 1e9)\n",
    "Σgas = np.linspace(1e6, 1e9, 1000)\n",
    "\n",
    "plt.plot(Σgas, KS_law(Σgas)/ Σgas /  t_dep_factor(2))\n",
    "plt.xlabel(r\"$\\Sigma_{\\rm gas}$\")\n",
    "plt.ylabel(r\"$\\dot{\\Sigma}_\\star$\")\n",
    "plt.yscale(\"log\")\n",
    "plt.xscale('log')\n",
    "plt.title(\"z = 2\")\n",
    "plt.xlim(1)"
   ]
  },
  {
   "cell_type": "markdown",
   "id": "36",
   "metadata": {},
   "source": [
    "ks law verified !!!"
   ]
  },
  {
   "cell_type": "code",
   "execution_count": null,
   "id": "37",
   "metadata": {},
   "outputs": [],
   "source": [
    "h.R.unique()"
   ]
  },
  {
   "cell_type": "code",
   "execution_count": null,
   "id": "38",
   "metadata": {},
   "outputs": [],
   "source": [
    "h_solar = h[np.isclose(h.R, 8.15)]"
   ]
  },
  {
   "cell_type": "code",
   "execution_count": null,
   "id": "39",
   "metadata": {},
   "outputs": [],
   "source": [
    "tau_star = h_solar.mgas /(h_solar.sfr * yr_per_Gyr)\n",
    "\n",
    "plt.plot(h_solar.time, tau_star)\n",
    "plt.ylim(0, 20)\n",
    "plt.xlabel(\"time\")\n",
    "plt.ylabel(\"tau star / Gyr\")\n",
    "plt.axhline(2)"
   ]
  },
  {
   "cell_type": "markdown",
   "id": "40",
   "metadata": {},
   "source": [
    "# Outflows and yields"
   ]
  },
  {
   "cell_type": "code",
   "execution_count": null,
   "id": "41",
   "metadata": {},
   "outputs": [],
   "source": [
    "plt.scatter(h_end.R, h_end.eta_0)\n",
    "plt.xlabel(\"R\")\n",
    "plt.ylabel(r\"$\\eta$\")\n",
    "plt.yscale(\"log\")"
   ]
  },
  {
   "cell_type": "code",
   "execution_count": null,
   "id": "42",
   "metadata": {},
   "outputs": [],
   "source": [
    "from surp.simulation.properties import MH_grad"
   ]
  },
  {
   "cell_type": "code",
   "execution_count": null,
   "id": "43",
   "metadata": {},
   "outputs": [],
   "source": [
    "plt.scatter(h_end.R, h_end.M_H)\n",
    "y = MH_grad(params)(h_end.R)\n",
    "plt.scatter(h_end.R, y)\n",
    "\n",
    "plt.xlim(0, 15)\n",
    "plt.ylim(-0.7, 0.7)\n",
    "plt.xlabel(\"R\")\n",
    "plt.ylabel(r\"[M/H]\")"
   ]
  },
  {
   "cell_type": "code",
   "execution_count": null,
   "id": "44",
   "metadata": {},
   "outputs": [],
   "source": [
    "filt = h.R < 5\n",
    "df = h[filt]\n",
    "plt.scatter(df.time, df.MG_H, s=0.3, alpha=0.1, c=df.R)\n",
    "plt.xlim(0, 15)\n",
    "plt.ylim(-0.5, 0.5)\n",
    "plt.colorbar()"
   ]
  },
  {
   "cell_type": "markdown",
   "id": "45",
   "metadata": {},
   "source": [
    "# Migration"
   ]
  },
  {
   "cell_type": "code",
   "execution_count": null,
   "id": "46",
   "metadata": {},
   "outputs": [],
   "source": [
    "s = fiducial.stars_unsampled"
   ]
  },
  {
   "cell_type": "code",
   "execution_count": null,
   "id": "47",
   "metadata": {},
   "outputs": [],
   "source": [
    "r_bins = [1, 3, 5, 7, 9, 13]\n",
    "Nbins = len(r_bins) - 1\n",
    "for i in range(Nbins):\n",
    "    filt = s.r_origin >= r_bins[i]\n",
    "    filt &= s.r_origin < r_bins[i+1]\n",
    "    plt.hist(s[filt].r_final, 30, histtype=\"step\", density=True, label=f\"$R_i \\in {r_bins[i]}, {r_bins[i+1]}$\")\n",
    "\n",
    "plt.xlabel(r\"$R_f$ / kpc\")\n",
    "plt.ylabel(\"density\")\n",
    "\n",
    "arya.Legend(-1)"
   ]
  },
  {
   "cell_type": "code",
   "execution_count": null,
   "id": "48",
   "metadata": {},
   "outputs": [],
   "source": [
    "r_bins = [0, 0.1, 0.6, 1]\n",
    "Nbins = len(r_bins) - 1\n",
    "for i in range(Nbins):\n",
    "    filt = s.r_origin >= r_bins[i]\n",
    "    filt &= s.r_origin < r_bins[i+1]\n",
    "    plt.hist(s[filt].r_final, 30, histtype=\"step\", density=True, label=f\"$R_i \\in {r_bins[i]}, {r_bins[i+1]}$\")\n",
    "\n",
    "plt.xlabel(r\"$R_f$ / kpc\")\n",
    "plt.ylabel(\"density\")\n",
    "\n",
    "arya.Legend(-1)"
   ]
  },
  {
   "cell_type": "code",
   "execution_count": null,
   "id": "49",
   "metadata": {},
   "outputs": [],
   "source": [
    "plt.hist(s.r_final, 200, ec=\"none\");"
   ]
  },
  {
   "cell_type": "code",
   "execution_count": null,
   "id": "50",
   "metadata": {},
   "outputs": [],
   "source": []
  }
 ],
 "metadata": {
  "kernelspec": {
   "display_name": "Python 3 (ipykernel)",
   "language": "python",
   "name": "python3"
  },
  "language_info": {
   "codemirror_mode": {
    "name": "ipython",
    "version": 3
   },
   "file_extension": ".py",
   "mimetype": "text/x-python",
   "name": "python",
   "nbconvert_exporter": "python",
   "pygments_lexer": "ipython3",
   "version": "3.11.9"
  }
 },
 "nbformat": 4,
 "nbformat_minor": 5
}
