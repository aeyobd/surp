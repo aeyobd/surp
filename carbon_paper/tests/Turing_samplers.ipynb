{
 "cells": [
  {
   "cell_type": "code",
   "execution_count": null,
   "id": "0",
   "metadata": {},
   "outputs": [],
   "source": [
    "using Turing\n",
    "using StatsBase\n",
    "using LinearAlgebra: diagm\n",
    "using CairoMakie\n",
    "using Arya"
   ]
  },
  {
   "cell_type": "code",
   "execution_count": null,
   "id": "1",
   "metadata": {},
   "outputs": [],
   "source": [
    "using DataFrames, PairPlots"
   ]
  },
  {
   "cell_type": "code",
   "execution_count": null,
   "id": "2",
   "metadata": {},
   "outputs": [],
   "source": [
    "using FillArrays\n"
   ]
  },
  {
   "cell_type": "code",
   "execution_count": null,
   "id": "3",
   "metadata": {},
   "outputs": [],
   "source": [
    "import FillArrays: I"
   ]
  },
  {
   "cell_type": "code",
   "execution_count": null,
   "id": "4",
   "metadata": {},
   "outputs": [],
   "source": [
    "true_params = (;z1=0.25, z2=0.4, z3=-0.3, sx=0.05, sy=0.5)"
   ]
  },
  {
   "cell_type": "code",
   "execution_count": null,
   "id": "5",
   "metadata": {},
   "outputs": [],
   "source": [
    "function make_observations(N=1000, z1=0.25, z2=0.4, z3=-0.3, sx=0.05, sy=0.5, s_int_x=1, x0=0)\n",
    "\n",
    "    x = x0 .+ randn(N) * s_int_x\n",
    "    y = @. z1 + z2*x + z3*x^2\n",
    "\n",
    "    xo = x .+ sx .* randn(N)\n",
    "    yo = y .+ sy .* randn(N)\n",
    "\n",
    "    return xo, yo\n",
    "    \n",
    "end"
   ]
  },
  {
   "cell_type": "code",
   "execution_count": null,
   "id": "6",
   "metadata": {},
   "outputs": [],
   "source": [
    "function plot_mcmc_results(chain::Chains; bins::Int = 30)\n",
    "    # Extract parameter names\n",
    "    params = chain.name_map.parameters\n",
    "    nparams = length(params)\n",
    "    \n",
    "    # Determine grid layout\n",
    "    nrows = ceil(Int, nparams)\n",
    "    \n",
    "    # Initialize the figure\n",
    "    fig = Figure(size = (600, 200 * nrows), \n",
    "                backgroundcolor = :white)\n",
    "    \n",
    "    # Determine number of chains\n",
    "    nchains = size(chain, 3)\n",
    "        \n",
    "    # Iterate over each parameter\n",
    "    for (i, param) in enumerate(params)\n",
    "\n",
    "        # Trace Plot\n",
    "        ax_trace = Axis(fig[i, 1],\n",
    "            xlabel = \"Iteration\",\n",
    "            ylabel = \"$param\",\n",
    "            xgridvisible=false,\n",
    "            ygridvisible=false\n",
    "            )\n",
    "        \n",
    "        # Plot each chain's trace\n",
    "        for c in 1:nchains\n",
    "            samples = chain[:, i, c]\n",
    "            lines!(ax_trace, collect(1:length(samples)), samples, color = c, colorrange=(0, nchains), label = \"Chain $c\")\n",
    "        end\n",
    "        \n",
    "        # Add legend only once\n",
    "        if i == 1 && nchains > 1\n",
    "            axislegend(ax_trace, position = :rt)\n",
    "        end\n",
    "        \n",
    "        # Histogram Plot\n",
    "        ax_hist = Axis(fig[i, 2],\n",
    "            limits=(0, nothing, nothing, nothing),\n",
    "            xgridvisible=false,\n",
    "            ygridvisible=false\n",
    "        )\n",
    "        hidedecorations!(ax_hist)\n",
    "        linkyaxes!(ax_trace, ax_hist)\n",
    "\n",
    "        \n",
    "        # Combine samples from all chains for histogram\n",
    "        combined_samples = vec(chain[:, i, :])\n",
    "        hist!(ax_hist, direction=:x, combined_samples, bins = bins)\n",
    "        \n",
    "        if i < nparams\n",
    "            hidexdecorations!(ax_trace, ticks=false)\n",
    "        end\n",
    "    end\n",
    "\n",
    "    colgap!(fig.layout, 1, 0)\n",
    "    rowgap!(fig.layout, 0)\n",
    "\n",
    "    colsize!(fig.layout, 2, Relative(0.25))\n",
    "\n",
    "    return fig\n",
    "end"
   ]
  },
  {
   "cell_type": "code",
   "execution_count": null,
   "id": "7",
   "metadata": {},
   "outputs": [],
   "source": [
    "obs_x, obs_y = make_observations()"
   ]
  },
  {
   "cell_type": "code",
   "execution_count": null,
   "id": "8",
   "metadata": {},
   "outputs": [],
   "source": [
    "scatter(obs_x, obs_y)"
   ]
  },
  {
   "cell_type": "code",
   "execution_count": null,
   "id": "9",
   "metadata": {},
   "outputs": [],
   "source": [
    "@model function analytic_model(obs_x, obs_y)\n",
    "    z1 ~ Normal(0, 1)\n",
    "    z2 ~ Normal(0, 1)\n",
    "    z3 ~ Normal(0, 1)\n",
    "\n",
    "    sigma2 ~ truncated(Normal(0, 1); lower=0)\n",
    "    \n",
    "    y_pred =  z1 .+ z2 * obs_x  .+ z3 * obs_x .^2\n",
    "\n",
    "    obs_y ~ MvNormal(y_pred, sigma2 * I )\n",
    "\n",
    "    return\n",
    "end"
   ]
  },
  {
   "cell_type": "markdown",
   "id": "10",
   "metadata": {
    "jp-MarkdownHeadingCollapsed": true
   },
   "source": [
    "## MH\n",
    "The metropolis-hastings algorithm is fairly straightforward. In each step, a random sample is drawn from the prior. If the sample has a higher likelihood, then it is accepted, otherwise not."
   ]
  },
  {
   "cell_type": "code",
   "execution_count": null,
   "id": "11",
   "metadata": {},
   "outputs": [],
   "source": [
    "model = analytic_model(obs_x, obs_y)"
   ]
  },
  {
   "cell_type": "code",
   "execution_count": null,
   "id": "12",
   "metadata": {},
   "outputs": [],
   "source": [
    "chain = sample(model, MH(), 100_000)"
   ]
  },
  {
   "cell_type": "code",
   "execution_count": null,
   "id": "13",
   "metadata": {},
   "outputs": [],
   "source": [
    "plot_mcmc_results(chain)"
   ]
  },
  {
   "cell_type": "code",
   "execution_count": null,
   "id": "14",
   "metadata": {},
   "outputs": [],
   "source": [
    "pairplot(chain)"
   ]
  },
  {
   "cell_type": "markdown",
   "id": "15",
   "metadata": {
    "jp-MarkdownHeadingCollapsed": true
   },
   "source": [
    "## IS()\n",
    "Importance sampling samples from the prior and calculates the log likelihood. Much harder to make nice plots to visualize :://."
   ]
  },
  {
   "cell_type": "code",
   "execution_count": null,
   "id": "16",
   "metadata": {},
   "outputs": [],
   "source": [
    "model = analytic_model(obs_x, obs_y)"
   ]
  },
  {
   "cell_type": "code",
   "execution_count": null,
   "id": "17",
   "metadata": {},
   "outputs": [],
   "source": [
    "samples[argmax(lp), :]"
   ]
  },
  {
   "cell_type": "code",
   "execution_count": null,
   "id": "18",
   "metadata": {},
   "outputs": [],
   "source": [
    "chain = sample(model, IS(), 100_000)"
   ]
  },
  {
   "cell_type": "code",
   "execution_count": null,
   "id": "19",
   "metadata": {},
   "outputs": [],
   "source": [
    "samples = DataFrame(chain)"
   ]
  },
  {
   "cell_type": "code",
   "execution_count": null,
   "id": "20",
   "metadata": {},
   "outputs": [],
   "source": [
    "pairplot(chain)"
   ]
  },
  {
   "cell_type": "code",
   "execution_count": null,
   "id": "21",
   "metadata": {},
   "outputs": [],
   "source": [
    "@model function gdemo(x)\n",
    "    s² ~ InverseGamma(2,3)\n",
    "    m ~ Normal(0,sqrt.(s²))\n",
    "    x[1] ~ Normal(m, sqrt.(s²))\n",
    "    x[2] ~ Normal(m, sqrt.(s²))\n",
    "    return s², m\n",
    "end\n",
    "\n",
    "chain = sample(gdemo([-10, -2]), IS(), 1000)"
   ]
  },
  {
   "cell_type": "code",
   "execution_count": null,
   "id": "22",
   "metadata": {},
   "outputs": [],
   "source": [
    "plot_mcmc_results(chain)"
   ]
  },
  {
   "cell_type": "code",
   "execution_count": null,
   "id": "23",
   "metadata": {},
   "outputs": [],
   "source": []
  },
  {
   "cell_type": "code",
   "execution_count": null,
   "id": "24",
   "metadata": {},
   "outputs": [],
   "source": [
    "pairplot(chain, weights=chain.logevidence)"
   ]
  },
  {
   "cell_type": "markdown",
   "id": "25",
   "metadata": {
    "jp-MarkdownHeadingCollapsed": true
   },
   "source": [
    "## SMC"
   ]
  },
  {
   "cell_type": "code",
   "execution_count": null,
   "id": "26",
   "metadata": {},
   "outputs": [],
   "source": [
    "import AdvancedPS"
   ]
  },
  {
   "cell_type": "code",
   "execution_count": null,
   "id": "27",
   "metadata": {},
   "outputs": [],
   "source": [
    "?AdvancedPS.ResampleWithESSThreshold"
   ]
  },
  {
   "cell_type": "code",
   "execution_count": null,
   "id": "28",
   "metadata": {},
   "outputs": [],
   "source": [
    "model = analytic_model(obs_x, obs_y)"
   ]
  },
  {
   "cell_type": "code",
   "execution_count": null,
   "id": "29",
   "metadata": {},
   "outputs": [],
   "source": [
    "sam = SMC(AdvancedPS.ResampleWithESSThreshold(\n",
    "        AdvancedPS.resample_multinomial, \n",
    "        1\n",
    "        ))\n"
   ]
  },
  {
   "cell_type": "code",
   "execution_count": null,
   "id": "30",
   "metadata": {},
   "outputs": [],
   "source": [
    "\n",
    "chain = sample(model, sam, 1000)"
   ]
  },
  {
   "cell_type": "code",
   "execution_count": null,
   "id": "31",
   "metadata": {},
   "outputs": [],
   "source": [
    "unique(chain[:, 2, :]), length(chain[:, 2, :])"
   ]
  },
  {
   "cell_type": "code",
   "execution_count": null,
   "id": "32",
   "metadata": {},
   "outputs": [],
   "source": [
    "plot_mcmc_results(chain)"
   ]
  },
  {
   "cell_type": "code",
   "execution_count": null,
   "id": "33",
   "metadata": {},
   "outputs": [],
   "source": [
    "pairplot(chain)"
   ]
  },
  {
   "cell_type": "markdown",
   "id": "34",
   "metadata": {
    "jp-MarkdownHeadingCollapsed": true
   },
   "source": [
    "## PG"
   ]
  },
  {
   "cell_type": "code",
   "execution_count": null,
   "id": "35",
   "metadata": {},
   "outputs": [],
   "source": [
    "import AdvancedPS"
   ]
  },
  {
   "cell_type": "code",
   "execution_count": null,
   "id": "36",
   "metadata": {},
   "outputs": [],
   "source": [
    "model = analytic_model(obs_x, obs_y)"
   ]
  },
  {
   "cell_type": "code",
   "execution_count": null,
   "id": "37",
   "metadata": {},
   "outputs": [],
   "source": [
    "sam  = AdvancedPS.PG(14, 1.0) |> externalsampler"
   ]
  },
  {
   "cell_type": "code",
   "execution_count": null,
   "id": "38",
   "metadata": {},
   "outputs": [],
   "source": [
    "model = analytic_model(obs_x, obs_y)"
   ]
  },
  {
   "cell_type": "code",
   "execution_count": null,
   "id": "39",
   "metadata": {},
   "outputs": [],
   "source": [
    "chain = sample(model, PG(30), 1000)"
   ]
  },
  {
   "cell_type": "code",
   "execution_count": null,
   "id": "40",
   "metadata": {},
   "outputs": [],
   "source": [
    "DataFrame(chain)"
   ]
  },
  {
   "cell_type": "code",
   "execution_count": null,
   "id": "41",
   "metadata": {},
   "outputs": [],
   "source": [
    "pairplot(chain)"
   ]
  },
  {
   "cell_type": "code",
   "execution_count": null,
   "id": "42",
   "metadata": {},
   "outputs": [],
   "source": [
    "plot_mcmc_results(chain)"
   ]
  },
  {
   "cell_type": "markdown",
   "id": "43",
   "metadata": {
    "jp-MarkdownHeadingCollapsed": true
   },
   "source": [
    "## SG models"
   ]
  },
  {
   "cell_type": "code",
   "execution_count": null,
   "id": "44",
   "metadata": {},
   "outputs": [],
   "source": [
    "model = analytic_model(obs_x, obs_y)"
   ]
  },
  {
   "cell_type": "code",
   "execution_count": null,
   "id": "45",
   "metadata": {},
   "outputs": [],
   "source": [
    "?Variation"
   ]
  },
  {
   "cell_type": "code",
   "execution_count": null,
   "id": "46",
   "metadata": {},
   "outputs": [],
   "source": [
    "chain = sample(model, vi, 1000)"
   ]
  },
  {
   "cell_type": "code",
   "execution_count": null,
   "id": "47",
   "metadata": {},
   "outputs": [],
   "source": [
    "DataFrame(chain)"
   ]
  },
  {
   "cell_type": "code",
   "execution_count": null,
   "id": "48",
   "metadata": {},
   "outputs": [],
   "source": [
    "pairplot(chain)"
   ]
  },
  {
   "cell_type": "code",
   "execution_count": null,
   "id": "49",
   "metadata": {},
   "outputs": [],
   "source": [
    "plot_mcmc_results(chain)"
   ]
  },
  {
   "cell_type": "markdown",
   "id": "50",
   "metadata": {
    "jp-MarkdownHeadingCollapsed": true
   },
   "source": [
    "## HMC"
   ]
  },
  {
   "cell_type": "code",
   "execution_count": null,
   "id": "51",
   "metadata": {},
   "outputs": [],
   "source": [
    "model = analytic_model(obs_x, obs_y)"
   ]
  },
  {
   "cell_type": "code",
   "execution_count": null,
   "id": "52",
   "metadata": {},
   "outputs": [],
   "source": [
    "chain = sample(model, HMC(0.01, 3), 10_000)"
   ]
  },
  {
   "cell_type": "code",
   "execution_count": null,
   "id": "53",
   "metadata": {},
   "outputs": [],
   "source": [
    "plot_mcmc_results(chain[100:end])"
   ]
  },
  {
   "cell_type": "code",
   "execution_count": null,
   "id": "54",
   "metadata": {},
   "outputs": [],
   "source": [
    "pairplot(chain[100:end])"
   ]
  },
  {
   "cell_type": "markdown",
   "id": "55",
   "metadata": {
    "jp-MarkdownHeadingCollapsed": true
   },
   "source": [
    "## NUTS"
   ]
  },
  {
   "cell_type": "code",
   "execution_count": null,
   "id": "56",
   "metadata": {},
   "outputs": [],
   "source": [
    "model = analytic_model(obs_x, obs_y)"
   ]
  },
  {
   "cell_type": "code",
   "execution_count": null,
   "id": "57",
   "metadata": {},
   "outputs": [],
   "source": [
    "chain = sample(model, NUTS(0.65), 10_000)"
   ]
  },
  {
   "cell_type": "code",
   "execution_count": null,
   "id": "58",
   "metadata": {},
   "outputs": [],
   "source": [
    "pairplot(chain)"
   ]
  },
  {
   "cell_type": "markdown",
   "id": "59",
   "metadata": {},
   "source": [
    "## RMH"
   ]
  },
  {
   "cell_type": "code",
   "execution_count": null,
   "id": "60",
   "metadata": {},
   "outputs": [],
   "source": [
    "using AdvancedMH: RWMH\n",
    "using AdvancedMH"
   ]
  },
  {
   "cell_type": "code",
   "execution_count": null,
   "id": "61",
   "metadata": {},
   "outputs": [],
   "source": [
    "s_walk = 0.003\n",
    "rw_prop = RandomWalkProposal(MvNormal([0,0,0,0], s_walk * I))\n"
   ]
  },
  {
   "cell_type": "code",
   "execution_count": null,
   "id": "62",
   "metadata": {},
   "outputs": [],
   "source": [
    "chain = sample(model, MH(rw_prop), MCMCThreads(), 10_000, 8)"
   ]
  },
  {
   "cell_type": "code",
   "execution_count": null,
   "id": "63",
   "metadata": {},
   "outputs": [],
   "source": [
    "pairplot(chain[1000:end])"
   ]
  },
  {
   "cell_type": "code",
   "execution_count": null,
   "id": "64",
   "metadata": {},
   "outputs": [],
   "source": [
    "plot_mcmc_results(chain[1000:1200])"
   ]
  },
  {
   "cell_type": "markdown",
   "id": "65",
   "metadata": {
    "jp-MarkdownHeadingCollapsed": true
   },
   "source": [
    "# VI"
   ]
  },
  {
   "cell_type": "code",
   "execution_count": null,
   "id": "66",
   "metadata": {},
   "outputs": [],
   "source": []
  },
  {
   "cell_type": "code",
   "execution_count": null,
   "id": "67",
   "metadata": {},
   "outputs": [],
   "source": [
    "model = analytic_model(obs_x, obs_y)"
   ]
  },
  {
   "cell_type": "code",
   "execution_count": null,
   "id": "68",
   "metadata": {},
   "outputs": [],
   "source": [
    "using Turing: Variational\n"
   ]
  },
  {
   "cell_type": "code",
   "execution_count": null,
   "id": "69",
   "metadata": {},
   "outputs": [],
   "source": [
    "?Variational.ADVI"
   ]
  },
  {
   "cell_type": "code",
   "execution_count": null,
   "id": "70",
   "metadata": {},
   "outputs": [],
   "source": [
    "?Variational.DecayedADAGrad"
   ]
  },
  {
   "cell_type": "code",
   "execution_count": null,
   "id": "71",
   "metadata": {},
   "outputs": [],
   "source": [
    "?ADVI"
   ]
  },
  {
   "cell_type": "code",
   "execution_count": null,
   "id": "72",
   "metadata": {},
   "outputs": [],
   "source": [
    "vi_type =  ADVI(100, 1000)\n",
    "\n",
    "vi_result = vi(model, vi_type) "
   ]
  },
  {
   "cell_type": "code",
   "execution_count": null,
   "id": "73",
   "metadata": {},
   "outputs": [],
   "source": [
    "z = rand(vi_result, 100_000)"
   ]
  },
  {
   "cell_type": "code",
   "execution_count": null,
   "id": "74",
   "metadata": {},
   "outputs": [],
   "source": [
    "df = DataFrame()\n",
    "model_labels = bijector(model, Val(true))[2]\n",
    "\n",
    "for label in keys(model_labels)\n",
    "    idx = getproperty(model_labels, label)\n",
    "\n",
    "    if length(idx) == 1\n",
    "        df[!, label] = z[idx[1][1], :]\n",
    "    end\n",
    "end\n",
    "df"
   ]
  },
  {
   "cell_type": "code",
   "execution_count": null,
   "id": "75",
   "metadata": {},
   "outputs": [],
   "source": [
    "true_params"
   ]
  },
  {
   "cell_type": "code",
   "execution_count": null,
   "id": "76",
   "metadata": {},
   "outputs": [],
   "source": [
    "pairplot(df)"
   ]
  },
  {
   "cell_type": "code",
   "execution_count": null,
   "id": "77",
   "metadata": {},
   "outputs": [],
   "source": []
  },
  {
   "cell_type": "markdown",
   "id": "78",
   "metadata": {},
   "source": [
    "# Emcee"
   ]
  },
  {
   "cell_type": "code",
   "execution_count": null,
   "id": "79",
   "metadata": {},
   "outputs": [],
   "source": [
    "using PythonCall\n",
    "emcee = pyimport(\"emcee\")"
   ]
  },
  {
   "cell_type": "code",
   "execution_count": null,
   "id": "80",
   "metadata": {},
   "outputs": [],
   "source": [
    "?bijector"
   ]
  },
  {
   "cell_type": "code",
   "execution_count": null,
   "id": "81",
   "metadata": {},
   "outputs": [],
   "source": [
    "model_labels = bijector(model, Val(true))[2]\n"
   ]
  },
  {
   "cell_type": "code",
   "execution_count": null,
   "id": "82",
   "metadata": {},
   "outputs": [],
   "source": [
    "[3:3][1]"
   ]
  },
  {
   "cell_type": "code",
   "execution_count": null,
   "id": "83",
   "metadata": {},
   "outputs": [],
   "source": [
    "variables = (:z1, :z2, :z3, :sigma2)"
   ]
  },
  {
   "cell_type": "code",
   "execution_count": null,
   "id": "84",
   "metadata": {},
   "outputs": [],
   "source": [
    "model = analytic_model(obs_x, obs_y)"
   ]
  },
  {
   "cell_type": "code",
   "execution_count": null,
   "id": "85",
   "metadata": {},
   "outputs": [],
   "source": [
    "using OrderedCollections"
   ]
  },
  {
   "cell_type": "code",
   "execution_count": null,
   "id": "86",
   "metadata": {},
   "outputs": [],
   "source": [
    "function py_log_prob(theta)\n",
    "    vars = (z1=theta[1], z2=theta[2], z3=theta[3], sigma2=theta[4])\n",
    "    if vars.sigma2 < 0\n",
    "        return -Inf\n",
    "    end\n",
    "        \n",
    "    return logjoint(model, vars)\n",
    "end"
   ]
  },
  {
   "cell_type": "code",
   "execution_count": null,
   "id": "87",
   "metadata": {},
   "outputs": [],
   "source": [
    "ndim = length(variables)\n",
    "nwalkers = 16\n",
    "\n",
    "priors = sample(model, Prior(),  nwalkers)\n",
    "p0 = priors.value[:, 1:ndim, 1].data"
   ]
  },
  {
   "cell_type": "code",
   "execution_count": null,
   "id": "88",
   "metadata": {},
   "outputs": [],
   "source": [
    "sammy = emcee.EnsembleSampler(nwalkers, ndim, py_log_prob)"
   ]
  },
  {
   "cell_type": "code",
   "execution_count": null,
   "id": "89",
   "metadata": {},
   "outputs": [],
   "source": [
    "sammy.run_mcmc(p0, 1000, progress=true)"
   ]
  },
  {
   "cell_type": "code",
   "execution_count": null,
   "id": "90",
   "metadata": {},
   "outputs": [],
   "source": [
    "chain = pyconvert(Array{Float64}, sammy.get_chain())\n",
    "chain = permutedims(chain, (1, 3,2))"
   ]
  },
  {
   "cell_type": "code",
   "execution_count": null,
   "id": "91",
   "metadata": {},
   "outputs": [],
   "source": [
    "chain = Chains(chain, [variables...])"
   ]
  },
  {
   "cell_type": "code",
   "execution_count": null,
   "id": "92",
   "metadata": {},
   "outputs": [],
   "source": [
    "burn = 200"
   ]
  },
  {
   "cell_type": "code",
   "execution_count": null,
   "id": "93",
   "metadata": {},
   "outputs": [],
   "source": [
    "plot_mcmc_results(chain[burn:end])"
   ]
  },
  {
   "cell_type": "code",
   "execution_count": null,
   "id": "94",
   "metadata": {},
   "outputs": [],
   "source": [
    "pairplot(chain[burn:end])"
   ]
  },
  {
   "cell_type": "code",
   "execution_count": null,
   "id": "95",
   "metadata": {},
   "outputs": [],
   "source": []
  }
 ],
 "metadata": {
  "kernelspec": {
   "display_name": "Julia 1.11.1",
   "language": "julia",
   "name": "julia-1.11"
  },
  "language_info": {
   "file_extension": ".jl",
   "mimetype": "application/julia",
   "name": "julia",
   "version": "1.11.1"
  }
 },
 "nbformat": 4,
 "nbformat_minor": 5
}
