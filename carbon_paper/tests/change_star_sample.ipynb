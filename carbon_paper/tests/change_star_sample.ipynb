{
 "cells": [
  {
   "cell_type": "markdown",
   "id": "0",
   "metadata": {},
   "source": [
    "# alternate star sampling\n",
    "\n",
    "Does changing where we pull stars from affect our conclusions?"
   ]
  },
  {
   "cell_type": "code",
   "execution_count": null,
   "id": "1",
   "metadata": {},
   "outputs": [],
   "source": [
    "import surp\n",
    "\n",
    "import arya\n",
    "import matplotlib.pyplot as plt"
   ]
  },
  {
   "cell_type": "code",
   "execution_count": null,
   "id": "2",
   "metadata": {},
   "outputs": [],
   "source": [
    "from arya import COLORS\n",
    "from surp import subgiants"
   ]
  },
  {
   "cell_type": "code",
   "execution_count": null,
   "id": "3",
   "metadata": {
    "jupyter": {
     "source_hidden": true
    }
   },
   "outputs": [],
   "source": [
    "data_kwargs = dict(\n",
    "    color=\"k\", \n",
    "    stat=\"median\",\n",
    "    err_kwargs=dict(facecolor=\"k\", alpha=0.3)\n",
    ")\n",
    "\n",
    "model_kwargs = dict(\n",
    "    stat=\"median\", errorbar=None,\n",
    "    aes=\"line\"\n",
    ")\n",
    "\n",
    "\n",
    "def zooh_models(models, labels,x=\"MG_H\", y=\"C_MG\", use_true=True, sequential=False, filt_ha=True, **kwargs):\n",
    "    kwargs = dict(numbins=20, **kwargs)\n",
    "    \n",
    "    N = len(models)\n",
    "    \n",
    "    if sequential:\n",
    "        hm = arya.HueMap(clim=(0, N))\n",
    "    else:\n",
    "        hm = lambda i: COLORS[i]\n",
    "    # end\n",
    "        \n",
    "    if use_true:\n",
    "        xm=x + \"_true\"\n",
    "        ym=y+ \"_true\"\n",
    "    else:\n",
    "        xm = x\n",
    "        ym = y\n",
    "    for i in range(N):\n",
    "        name = labels[i]\n",
    "        model = models[i]\n",
    "        if filt_ha:\n",
    "            df = surp.plots.filter_high_alpha(model)\n",
    "        else:\n",
    "            df = model\n",
    "        color = hm(i)\n",
    "            \n",
    "        arya.medianplot(df, xm, ym, label=name, color=color, **model_kwargs, **kwargs)\n",
    "    # end\n",
    "\n",
    "    if filt_ha:\n",
    "        df = surp.plots.filter_high_alpha(subgiants)\n",
    "    else:\n",
    "        df = subgiants\n",
    "        \n",
    "    arya.medianplot(df, x=x, y=y, zorder=-2, **data_kwargs, **kwargs)\n",
    "    plt.xlabel(to_nice_name(x))\n",
    "    plt.ylabel(to_nice_name(y))\n",
    "    \n",
    "\n",
    "# end\n",
    "\n",
    "\n",
    "    \n",
    "def zofeo_models(models, labels, x=\"MG_FE\", y=\"C_MG\", use_true=True, sequential=False, mg_0=-0.0, w=0.025, **kwargs):\n",
    "    kwargs = dict(numbins=12, x=x, y=y, **kwargs)\n",
    "    df = surp.plots.filter_metallicity(subgiants, c=mg_0, w=w)\n",
    "\n",
    "    arya.medianplot(df, **data_kwargs, **kwargs)\n",
    "    \n",
    "    N = len(models)\n",
    "    if use_true:\n",
    "        kwargs[\"x\"] = x + \"_true\"\n",
    "        kwargs[\"y\"] = y+ \"_true\"\n",
    "\n",
    "    if sequential:\n",
    "        hm = arya.HueMap(clim=(0, N))\n",
    "    else:\n",
    "        hm = lambda i: COLORS[i]\n",
    "    # end    \n",
    "    \n",
    "    for i in range(N):\n",
    "        model = models[i]\n",
    "        df = surp.plots.filter_metallicity(model, c=mg_0, w=w)\n",
    "        color = hm(i)\n",
    "\n",
    "        arya.medianplot(df, label=labels[i], color=color, **model_kwargs, **kwargs)\n",
    "    plt.xlabel(to_nice_name(x))\n",
    "    plt.ylabel(to_nice_name(y))\n",
    "    \n",
    "\n",
    "#"
   ]
  },
  {
   "cell_type": "code",
   "execution_count": null,
   "id": "4",
   "metadata": {},
   "outputs": [],
   "source": [
    "def to_nice_name(apogee_name):\n",
    "    name = apogee_name.replace(\"_\", \"/\").title()\n",
    "    name = f\"[{name}]\"\n",
    "    return name"
   ]
  },
  {
   "cell_type": "markdown",
   "id": "5",
   "metadata": {},
   "source": [
    "## Sampling"
   ]
  },
  {
   "cell_type": "code",
   "execution_count": null,
   "id": "6",
   "metadata": {},
   "outputs": [],
   "source": [
    "fiducial = surp.ViceModel.from_file(\"../../models/fiducial/run/model.json\")"
   ]
  },
  {
   "cell_type": "code",
   "execution_count": null,
   "id": "7",
   "metadata": {},
   "outputs": [],
   "source": [
    "stars_unsampled = fiducial.stars_unsampled"
   ]
  },
  {
   "cell_type": "code",
   "execution_count": null,
   "id": "8",
   "metadata": {},
   "outputs": [],
   "source": [
    "stars_unsampled"
   ]
  },
  {
   "cell_type": "code",
   "execution_count": null,
   "id": "9",
   "metadata": {},
   "outputs": [],
   "source": [
    "create_sample = surp.vice_utils.create_star_sample"
   ]
  },
  {
   "cell_type": "code",
   "execution_count": null,
   "id": "10",
   "metadata": {},
   "outputs": [],
   "source": [
    "cdf = surp.vice_utils.load_cdf()\n",
    "cdf"
   ]
  },
  {
   "cell_type": "code",
   "execution_count": null,
   "id": "11",
   "metadata": {},
   "outputs": [],
   "source": [
    "cdf_low = cdf.copy()\n",
    "cdf_low.R /= 1.5"
   ]
  },
  {
   "cell_type": "code",
   "execution_count": null,
   "id": "12",
   "metadata": {},
   "outputs": [],
   "source": [
    "cdf_high = cdf.copy()\n",
    "cdf_high.R *= 1.5"
   ]
  },
  {
   "cell_type": "code",
   "execution_count": null,
   "id": "13",
   "metadata": {},
   "outputs": [],
   "source": [
    "plt.plot(cdf_low.R, cdf_low.cdf)\n",
    "plt.plot(cdf_high.R, cdf_high.cdf)\n",
    "plt.plot(cdf.R, cdf.cdf)"
   ]
  },
  {
   "cell_type": "code",
   "execution_count": null,
   "id": "14",
   "metadata": {},
   "outputs": [],
   "source": [
    "samples = {}\n",
    "samples[\"low\"] = create_sample(stars_unsampled, cdf=cdf_low)\n",
    "samples[\"fiducial\"] = fiducial.stars\n",
    "\n",
    "samples[\"high\"] = create_sample(stars_unsampled, cdf=cdf_high)\n"
   ]
  },
  {
   "cell_type": "code",
   "execution_count": null,
   "id": "15",
   "metadata": {},
   "outputs": [],
   "source": [
    "for name, sample in samples.items():\n",
    "    plt.hist(sample.r_final, histtype=\"step\")"
   ]
  },
  {
   "cell_type": "code",
   "execution_count": null,
   "id": "16",
   "metadata": {},
   "outputs": [],
   "source": [
    "samples.keys()"
   ]
  },
  {
   "cell_type": "code",
   "execution_count": null,
   "id": "17",
   "metadata": {},
   "outputs": [],
   "source": [
    "models = [v for k, v in samples.items()]\n",
    "labels = [k for k, v in samples.items()]"
   ]
  },
  {
   "cell_type": "code",
   "execution_count": null,
   "id": "18",
   "metadata": {},
   "outputs": [],
   "source": [
    "zooh_models(models, labels)"
   ]
  },
  {
   "cell_type": "code",
   "execution_count": null,
   "id": "19",
   "metadata": {},
   "outputs": [],
   "source": [
    "zofeo_models(models, labels)"
   ]
  },
  {
   "cell_type": "code",
   "execution_count": null,
   "id": "20",
   "metadata": {},
   "outputs": [],
   "source": [
    "cdf"
   ]
  },
  {
   "cell_type": "code",
   "execution_count": null,
   "id": "21",
   "metadata": {},
   "outputs": [],
   "source": [
    "import numpy as np\n",
    "import pandas as pd"
   ]
  },
  {
   "cell_type": "code",
   "execution_count": null,
   "id": "22",
   "metadata": {},
   "outputs": [],
   "source": [
    "def make_uniform_cdf(low, high):\n",
    "    def f(r):\n",
    "        return np.where(r < low, 0, \n",
    "            np.where(r > high, 1,\n",
    "            1 - (high - r) / (high - low) \n",
    "                    ))\n",
    "\n",
    "\n",
    "    R = np.arange(0, 15.5, 0.01)\n",
    "    cdf = f(R)\n",
    "\n",
    "    return pd.DataFrame(dict(R=R, cdf=cdf))"
   ]
  },
  {
   "cell_type": "code",
   "execution_count": null,
   "id": "23",
   "metadata": {},
   "outputs": [],
   "source": [
    "samples = {}\n",
    "samples[\"low\"] = create_sample(stars_unsampled, cdf=make_uniform_cdf(3, 5))\n",
    "samples[\"mid\"] = create_sample(stars_unsampled, cdf=make_uniform_cdf(7, 9))\n",
    "samples[\"high\"] = create_sample(stars_unsampled, cdf=make_uniform_cdf(11, 13))\n"
   ]
  },
  {
   "cell_type": "code",
   "execution_count": null,
   "id": "24",
   "metadata": {},
   "outputs": [],
   "source": [
    "samples[\"wide\"] = create_sample(stars_unsampled, cdf=make_uniform_cdf(4, 12))\n"
   ]
  },
  {
   "cell_type": "code",
   "execution_count": null,
   "id": "25",
   "metadata": {},
   "outputs": [],
   "source": [
    "for low, high in [(3,5), (7,9), (11, 13), (4, 12)]:\n",
    "    cdf = make_uniform_cdf(low, high)\n",
    "    plt.plot(cdf.R, cdf.cdf)"
   ]
  },
  {
   "cell_type": "code",
   "execution_count": null,
   "id": "26",
   "metadata": {},
   "outputs": [],
   "source": [
    "models = [v for k, v in samples.items()]\n",
    "labels = [k for k, v in samples.items()]"
   ]
  },
  {
   "cell_type": "code",
   "execution_count": null,
   "id": "27",
   "metadata": {},
   "outputs": [],
   "source": [
    "zooh_models(models, labels)"
   ]
  },
  {
   "cell_type": "code",
   "execution_count": null,
   "id": "28",
   "metadata": {},
   "outputs": [],
   "source": [
    "zofeo_models(models, labels)"
   ]
  },
  {
   "cell_type": "code",
   "execution_count": null,
   "id": "29",
   "metadata": {},
   "outputs": [],
   "source": [
    "for name, sample in samples.items():\n",
    "    plt.hist(sample.r_final, histtype=\"step\")"
   ]
  },
  {
   "cell_type": "markdown",
   "id": "30",
   "metadata": {},
   "source": [
    "# Conclusions\n",
    "\n",
    "caafe is entirely unaffected by the samples. \n",
    "caah only differs in the metallicity range sampled and the low-metallicity area divergies."
   ]
  },
  {
   "cell_type": "code",
   "execution_count": null,
   "id": "31",
   "metadata": {},
   "outputs": [],
   "source": []
  }
 ],
 "metadata": {
  "kernelspec": {
   "display_name": "Python 3 (ipykernel)",
   "language": "python",
   "name": "python3"
  },
  "language_info": {
   "codemirror_mode": {
    "name": "ipython",
    "version": 3
   },
   "file_extension": ".py",
   "mimetype": "text/x-python",
   "name": "python",
   "nbconvert_exporter": "python",
   "pygments_lexer": "ipython3",
   "version": "3.11.9"
  }
 },
 "nbformat": 4,
 "nbformat_minor": 5
}
