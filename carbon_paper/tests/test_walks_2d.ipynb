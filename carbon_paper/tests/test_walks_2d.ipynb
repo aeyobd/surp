{
 "cells": [
  {
   "cell_type": "code",
   "execution_count": null,
   "id": "0",
   "metadata": {},
   "outputs": [],
   "source": [
    "import vice\n",
    "import arya\n",
    "import matplotlib.pyplot as plt\n",
    "import pandas as pd\n",
    "from surp import ViceModel\n",
    "import numpy as np"
   ]
  },
  {
   "cell_type": "markdown",
   "id": "1",
   "metadata": {},
   "source": [
    "## Initial versus final properties"
   ]
  },
  {
   "cell_type": "code",
   "execution_count": null,
   "id": "2",
   "metadata": {},
   "outputs": [],
   "source": [
    "walks_raw = pd.read_csv(\"../../models/fiducial/run/milkyway_star_migration.dat\")"
   ]
  },
  {
   "cell_type": "code",
   "execution_count": null,
   "id": "3",
   "metadata": {},
   "outputs": [],
   "source": [
    "walks_if = pd.read_csv(\"../../models/fiducial/run/migration_initial_final.dat\") # requires a bit of memory\n",
    "walks_if"
   ]
  },
  {
   "cell_type": "code",
   "execution_count": null,
   "id": "4",
   "metadata": {},
   "outputs": [],
   "source": [
    "t_end = np.max(walks_if.t)"
   ]
  },
  {
   "cell_type": "code",
   "execution_count": null,
   "id": "5",
   "metadata": {},
   "outputs": [],
   "source": [
    "walks_if[\"dR\"] = walks_if.R_final - walks_if.R_birth\n",
    "walks_if[\"dt\"] = t_end - walks_if.t"
   ]
  },
  {
   "cell_type": "code",
   "execution_count": null,
   "id": "6",
   "metadata": {},
   "outputs": [],
   "source": [
    "\n",
    "plt.hist(walks_if.dR / walks_if.dt ** 0.3, \n",
    "         density=True,\n",
    "         range=(-10, 10),\n",
    "        )\n",
    "\n",
    "plt.xlabel(\"delta R\")\n",
    "plt.ylabel(\"density\")"
   ]
  },
  {
   "cell_type": "code",
   "execution_count": null,
   "id": "7",
   "metadata": {},
   "outputs": [],
   "source": [
    "\n",
    "plt.hist(walks_if.z_final / walks_if.dt ** 0.3, \n",
    "         density=True,\n",
    "         range=(-3, 3),\n",
    "        )\n",
    "\n",
    "plt.xlabel(\"delta z\")\n",
    "plt.ylabel(\"density\")"
   ]
  },
  {
   "cell_type": "code",
   "execution_count": null,
   "id": "8",
   "metadata": {},
   "outputs": [],
   "source": [
    "t_end = np.max(walks_if.t)"
   ]
  },
  {
   "cell_type": "code",
   "execution_count": null,
   "id": "9",
   "metadata": {},
   "outputs": [],
   "source": [
    "t_end"
   ]
  },
  {
   "cell_type": "markdown",
   "id": "10",
   "metadata": {},
   "source": [
    "## Checking agains full migration"
   ]
  },
  {
   "cell_type": "code",
   "execution_count": null,
   "id": "11",
   "metadata": {},
   "outputs": [],
   "source": [
    "walks_raw"
   ]
  },
  {
   "cell_type": "code",
   "execution_count": null,
   "id": "12",
   "metadata": {},
   "outputs": [],
   "source": [
    "walks = walks_raw.set_index([\"zone\", \"time_int\"]) # multiindex makes this much easier...\n",
    "walks.sort_index(inplace=True)"
   ]
  },
  {
   "cell_type": "code",
   "execution_count": null,
   "id": "13",
   "metadata": {},
   "outputs": [],
   "source": [
    "df_end = walks[walks.time == np.max(walks.time)]"
   ]
  },
  {
   "cell_type": "code",
   "execution_count": null,
   "id": "14",
   "metadata": {},
   "outputs": [],
   "source": [
    "df_end"
   ]
  },
  {
   "cell_type": "code",
   "execution_count": null,
   "id": "15",
   "metadata": {},
   "outputs": [],
   "source": [
    "Ns = df_end.index.values # last slice contains every value"
   ]
  },
  {
   "cell_type": "code",
   "execution_count": null,
   "id": "16",
   "metadata": {},
   "outputs": [],
   "source": [
    "t_int_end = np.max(walks_raw.time_int)"
   ]
  },
  {
   "cell_type": "code",
   "execution_count": null,
   "id": "17",
   "metadata": {},
   "outputs": [],
   "source": [
    "walks.loc[(1, 250)]"
   ]
  },
  {
   "cell_type": "code",
   "execution_count": null,
   "id": "18",
   "metadata": {},
   "outputs": [],
   "source": [
    "walks_raw"
   ]
  },
  {
   "cell_type": "code",
   "execution_count": null,
   "id": "19",
   "metadata": {},
   "outputs": [],
   "source": [
    "t_end = np.max(walks.time)"
   ]
  },
  {
   "cell_type": "code",
   "execution_count": null,
   "id": "20",
   "metadata": {},
   "outputs": [],
   "source": [
    "Np = len(Ns)\n",
    "t_birth = np.empty(Np)\n",
    "Ri = np.zeros(Np)\n",
    "Rf = np.zeros(Np)\n",
    "zf = np.zeros(Np)\n",
    "\n",
    "\n",
    "for n, idx in enumerate(Ns):\n",
    "    print(f\"{n} / {Np}\", end=\"\\r\")\n",
    "    ws = walks.loc[idx[0], idx[1]]\n",
    "    t_birth[n] = ws.time.iloc[0]\n",
    "    assert ws.time.iloc[-1] == t_end\n",
    "    Ri[n] = ws.R.iloc[0]\n",
    "    Rf[n] = ws.R.iloc[-1]\n",
    "    zf[n] = ws.z.iloc[-1]\n",
    "    \n",
    "dR = Rf - Ri"
   ]
  },
  {
   "cell_type": "code",
   "execution_count": null,
   "id": "21",
   "metadata": {},
   "outputs": [],
   "source": [
    "σ8 = 2.68"
   ]
  },
  {
   "cell_type": "code",
   "execution_count": null,
   "id": "22",
   "metadata": {},
   "outputs": [],
   "source": [
    "for t in np.arange(0, 13.0):\n",
    "    dt = 0.5\n",
    "    filt = t_birth > t - dt\n",
    "    filt &= t_birth < t + dt\n",
    "    filt &= Ri > 7\n",
    "    filt &= Ri < 9\n",
    "    plt.hist(dR[filt]/np.sqrt(13.2 - t_birth[filt]), 30, histtype=\"step\", density=True, alpha=0.3)\n",
    "    \n",
    "x = np.linspace(-4, 4, 1000)\n",
    "σ = σ8 / np.cbrt(8)\n",
    "y = 1/np.sqrt(2*np.pi) * 1/σ * np.exp(-x**2 / (2*σ**2))\n",
    "plt.plot(x, y)\n",
    "plt.xlabel(r\"$dR / \\sqrt[3]{t_{\\rm  end} - t}$\")\n",
    "plt.ylabel(\"density\")"
   ]
  },
  {
   "cell_type": "code",
   "execution_count": null,
   "id": "23",
   "metadata": {},
   "outputs": [],
   "source": [
    "dz = np.abs(zf)"
   ]
  },
  {
   "cell_type": "code",
   "execution_count": null,
   "id": "24",
   "metadata": {},
   "outputs": [],
   "source": [
    "for t in np.arange(0, 13.0):\n",
    "    dt = 0.5\n",
    "    filt = t_birth > t - dt\n",
    "    filt &= t_birth < t + dt\n",
    "    filt &= Rf > 7\n",
    "    filt &= Rf < 9\n",
    "    delta_t = 13.2 - t\n",
    "    plt.hist(zf[filt] /delta_t**0.33, 30, range=(-2, 2), histtype=\"step\", density=True, alpha=0.3)\n",
    "\n",
    "x_m = np.linspace(-2, 2, 1000)\n",
    "hz = 0.5\n",
    "plt.plot(x_m, 1 /hz / np.cosh(x/hz)**2)\n",
    "plt.ylabel(\"density\")\n",
    "plt.xlim(-2, 2)"
   ]
  },
  {
   "cell_type": "markdown",
   "id": "25",
   "metadata": {},
   "source": [
    "all time bins appear to be well approximated by the gaussian (yay). The overabundance at 0 is likely due to boundry conditions (r=0 and r=20)."
   ]
  },
  {
   "cell_type": "code",
   "execution_count": null,
   "id": "26",
   "metadata": {},
   "outputs": [],
   "source": [
    "plt.scatter(13.2 - t_birth, np.abs(dR), s=0.05, alpha=0.1)\n",
    "plt.xlabel(\"tend - t birth\")\n",
    "plt.ylabel('dr')"
   ]
  },
  {
   "cell_type": "code",
   "execution_count": null,
   "id": "27",
   "metadata": {},
   "outputs": [],
   "source": [
    "z0 = 2\n",
    "dz = 0.1\n",
    "filt = Ri > z0 - dz\n",
    "filt &= Ri <= z0 + dz"
   ]
  },
  {
   "cell_type": "code",
   "execution_count": null,
   "id": "28",
   "metadata": {},
   "outputs": [],
   "source": [
    "idx = Ns[filt]"
   ]
  },
  {
   "cell_type": "code",
   "execution_count": null,
   "id": "29",
   "metadata": {},
   "outputs": [],
   "source": [
    "for N in idx:\n",
    "    w = walks.loc[N[0], N[1]]\n",
    "    plt.plot(w.time, w.R, lw=0.2, alpha=0.1, color=\"k\")\n",
    "    \n"
   ]
  },
  {
   "cell_type": "code",
   "execution_count": null,
   "id": "30",
   "metadata": {},
   "outputs": [],
   "source": [
    "for N in idx:\n",
    "    w = walks.loc[N[0], N[1]]\n",
    "    plt.plot(w.time, w.z, lw=0.2, alpha=0.1, color=\"k\")\n",
    "\n",
    "plt.xlabel(\"time / Gyr\")\n",
    "plt.ylabel(\"z / kpc\")\n"
   ]
  },
  {
   "cell_type": "code",
   "execution_count": null,
   "id": "31",
   "metadata": {},
   "outputs": [],
   "source": []
  }
 ],
 "metadata": {
  "kernelspec": {
   "display_name": "Python 3 (ipykernel)",
   "language": "python",
   "name": "python3"
  },
  "language_info": {
   "codemirror_mode": {
    "name": "ipython",
    "version": 3
   },
   "file_extension": ".py",
   "mimetype": "text/x-python",
   "name": "python",
   "nbconvert_exporter": "python",
   "pygments_lexer": "ipython3",
   "version": "3.11.9"
  }
 },
 "nbformat": 4,
 "nbformat_minor": 5
}
