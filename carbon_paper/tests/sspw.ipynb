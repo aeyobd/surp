{
 "cells": [
  {
   "cell_type": "code",
   "execution_count": null,
   "id": "0",
   "metadata": {},
   "outputs": [],
   "source": [
    "import surp\n",
    "import matplotlib.pyplot as plt\n",
    "import arya \n",
    "import numpy as np\n",
    "import pandas as pd"
   ]
  },
  {
   "cell_type": "code",
   "execution_count": null,
   "id": "1",
   "metadata": {},
   "outputs": [],
   "source": [
    "def find_model(name):\n",
    "    \"\"\"\n",
    "    Finds the pickled model with either the given name or the parameters \n",
    "    and returns the csv summary\n",
    "    \"\"\"\n",
    "    \n",
    "    file_name = \"../../models/\" + name + \"/stars.csv\"\n",
    "    model =  pd.read_csv(file_name, index_col=0)\n",
    "    return model"
   ]
  },
  {
   "cell_type": "code",
   "execution_count": null,
   "id": "2",
   "metadata": {},
   "outputs": [],
   "source": [
    "models = {\n",
    "    \"fiducial\": find_model(\"fiducial/run\"),\n",
    "    \"lin\": find_model(\"fiducial/sspw_lin\"),\n",
    "    \"const\": find_model(\"fiducial/sspw_const\"),\n",
    "    \"peaked\": find_model(\"fiducial/sspw_peaked\"),\n",
    "}"
   ]
  },
  {
   "cell_type": "code",
   "execution_count": null,
   "id": "3",
   "metadata": {},
   "outputs": [],
   "source": [
    "for label, model in models.items():\n",
    "    x, y = np.histogram(model.age, density=True, bins=20)\n",
    "    plt.plot((y[1:] + y[:-1])/2, x, label=label)\n",
    "\n",
    "plt.hist(surp.subgiants.age_ANN, histtype=\"step\", label=\"subgiants\", density=True)\n",
    "arya.Legend(-1)\n",
    "plt.xlabel(\"age / Gyr\")\n",
    "plt.ylabel(\"subgiant density\")"
   ]
  },
  {
   "cell_type": "code",
   "execution_count": null,
   "id": "4",
   "metadata": {},
   "outputs": [],
   "source": [
    "for label, model in models.items():\n",
    "    plt.hist(model.MG_H, histtype=\"step\", label=label, density=True)\n",
    "\n",
    "plt.hist(surp.subgiants.MG_H, histtype=\"step\", label=\"subgiants\", density=True)\n",
    "arya.Legend(-1)\n",
    "plt.xlabel(\"[Mg/H]\")\n",
    "plt.ylabel(\"density\")\n",
    "plt.xlim(-1, 0.5)"
   ]
  },
  {
   "cell_type": "code",
   "execution_count": null,
   "id": "5",
   "metadata": {},
   "outputs": [],
   "source": [
    "import seaborn as sns"
   ]
  },
  {
   "cell_type": "code",
   "execution_count": null,
   "id": "6",
   "metadata": {},
   "outputs": [],
   "source": [
    "for label, model in models.items():\n",
    "    sns.kdeplot(model, x=\"MG_H\", y=\"C_MG\")\n",
    "    plt.xlim(-1, 0.5)\n",
    "    plt.show()\n",
    "    "
   ]
  },
  {
   "cell_type": "code",
   "execution_count": null,
   "id": "7",
   "metadata": {},
   "outputs": [],
   "source": []
  }
 ],
 "metadata": {
  "kernelspec": {
   "display_name": "Python 3 (ipykernel)",
   "language": "python",
   "name": "python3"
  },
  "language_info": {
   "codemirror_mode": {
    "name": "ipython",
    "version": 3
   },
   "file_extension": ".py",
   "mimetype": "text/x-python",
   "name": "python",
   "nbconvert_exporter": "python",
   "pygments_lexer": "ipython3",
   "version": "3.11.9"
  }
 },
 "nbformat": 4,
 "nbformat_minor": 5
}
