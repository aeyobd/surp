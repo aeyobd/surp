{
 "cells": [
  {
   "cell_type": "markdown",
   "id": "0",
   "metadata": {},
   "source": [
    "# Other Yields\n",
    "A short comparison of non-carbon AGB & not CCSNe yields"
   ]
  },
  {
   "cell_type": "code",
   "execution_count": null,
   "id": "1",
   "metadata": {},
   "outputs": [],
   "source": [
    "import vice\n",
    "import numpy as np"
   ]
  },
  {
   "cell_type": "code",
   "execution_count": null,
   "id": "2",
   "metadata": {},
   "outputs": [],
   "source": [
    "vice.yields.sneia.settings[\"c\"]"
   ]
  },
  {
   "cell_type": "code",
   "execution_count": null,
   "id": "3",
   "metadata": {},
   "outputs": [],
   "source": [
    "import matplotlib.pyplot as plt"
   ]
  },
  {
   "cell_type": "code",
   "execution_count": null,
   "id": "4",
   "metadata": {},
   "outputs": [],
   "source": [
    "import surp"
   ]
  },
  {
   "cell_type": "code",
   "execution_count": null,
   "id": "5",
   "metadata": {},
   "outputs": [],
   "source": [
    "surp.set_yields()"
   ]
  },
  {
   "cell_type": "code",
   "execution_count": null,
   "id": "6",
   "metadata": {},
   "outputs": [],
   "source": [
    "y_c_0 = 2.75e-3\n",
    "y_c_0"
   ]
  },
  {
   "cell_type": "code",
   "execution_count": null,
   "id": "7",
   "metadata": {},
   "outputs": [],
   "source": [
    "?vice.yields.sneia"
   ]
  },
  {
   "cell_type": "code",
   "execution_count": null,
   "id": "8",
   "metadata": {},
   "outputs": [],
   "source": [
    "?vice.yields.sneia.fractional"
   ]
  },
  {
   "cell_type": "code",
   "execution_count": null,
   "id": "9",
   "metadata": {},
   "outputs": [],
   "source": [
    "\n",
    "ys = []\n",
    "labels = []\n",
    "for model in ['W7', 'W70', 'WDD1', 'WDD2', 'WDD3', 'CDD1', 'CDD2']:\n",
    "    y = vice.yields.sneia.fractional(\"c\", study=\"iwamoto99\", model=model)\n",
    "    ys.append(y)\n",
    "    labels.append(\"i99.\" +  model)\n",
    "    plt.scatter(0, np.log10(y / y_c_0))\n",
    "    \n",
    "    \n",
    "for model in ['M08_03_001', 'M08_03_01', 'M08_03_1', 'M08_03_3', 'M08_05_001', 'M08_05_01', 'M08_05_1', 'M08_05_3', 'M08_10_001', 'M08_10_01', 'M08_10_1', 'M08_10_3', 'M09_03_001', 'M09_03_01', 'M09_03_1', 'M09_03_3', 'M09_05_001', 'M09_05_01', 'M09_05_1', 'M09_05_3', 'M09_10_001', 'M09_10_01', 'M09_10_1', 'M09_10_3', 'M10_02_001', 'M10_02_01', 'M10_02_1', 'M10_02_3', 'M10_03_001', 'M10_03_01', 'M10_03_1', 'M10_03_3', 'M10_05_001', 'M10_05_01', 'M10_05_1', 'M10_05_3', 'M10_10_001', 'M10_10_01', 'M10_10_1', 'M10_10_3', 'M11_05_001', 'M11_05_01', 'M11_05_1', 'M11_05_3']:\n",
    "    y = vice.yields.sneia.fractional(\"c\", study=\"gronow21\", model=model)\n",
    "    plt.scatter(1, np.log10(y / y_c_0))\n",
    "    ys.append(y)\n",
    "    labels.append(\"g21.\" +  model)\n",
    "\n",
    "\n",
    "for model in ['N1', 'N3', 'N5', 'N10', 'N20', 'N40', 'N100H', 'N100', 'N100L', 'N150', 'N200', 'N300C', 'N1600', 'N1600C', 'N100_Z0.5', 'N100_Z0.1', 'N100_Z0.01']:\n",
    "    y = vice.yields.sneia.fractional(\"c\", study=\"seitenzahl13\", model=model)\n",
    "    plt.scatter(2, np.log10(y / y_c_0))\n",
    "    ys.append(y)\n",
    "    labels.append(\"s13.\" +model)\n",
    "\n",
    "\n",
    "\n",
    "plt.xticks([0, 1, 2], labels=[\"iwamoto99\", \"g21\", \"seitenzahl+13\"])\n",
    "\n",
    "plt.ylabel(\"log y_ia / y_total\")"
   ]
  },
  {
   "cell_type": "code",
   "execution_count": null,
   "id": "10",
   "metadata": {},
   "outputs": [],
   "source": [
    "np.max(ys) / y_c_0"
   ]
  },
  {
   "cell_type": "code",
   "execution_count": null,
   "id": "11",
   "metadata": {},
   "outputs": [],
   "source": [
    "np.max(ys) / 1e-4"
   ]
  },
  {
   "cell_type": "code",
   "execution_count": null,
   "id": "12",
   "metadata": {},
   "outputs": [],
   "source": [
    "labels[np.argmax(ys)]"
   ]
  },
  {
   "cell_type": "code",
   "execution_count": null,
   "id": "13",
   "metadata": {},
   "outputs": [],
   "source": [
    "np.array(labels)[np.argsort(ys)]"
   ]
  },
  {
   "cell_type": "code",
   "execution_count": null,
   "id": "14",
   "metadata": {},
   "outputs": [],
   "source": [
    "np.sort(ys) / y_c_0"
   ]
  },
  {
   "cell_type": "code",
   "execution_count": null,
   "id": "15",
   "metadata": {},
   "outputs": [],
   "source": [
    "np.sort(ys) / 1e-4"
   ]
  },
  {
   "cell_type": "code",
   "execution_count": null,
   "id": "16",
   "metadata": {},
   "outputs": [],
   "source": [
    "np.sort(ys)"
   ]
  },
  {
   "cell_type": "markdown",
   "id": "17",
   "metadata": {},
   "source": [
    "# Nitrogen AGB"
   ]
  },
  {
   "cell_type": "code",
   "execution_count": null,
   "id": "18",
   "metadata": {},
   "outputs": [],
   "source": [
    "\n",
    "def plot_n_table(study = \"cristallo11\", ax=None, fig=None, factor=1e2, **kwargs):\n",
    "    if ax is None:\n",
    "        fig, ax = plt.subplots()\n",
    "\n",
    "    y1, m1, z1 = vice.yields.agb.grid('n', study=study)\n",
    "    N = len(z1)\n",
    "\n",
    "    for i in range(N):\n",
    "        y = np.array(y1)[:,i] * factor\n",
    "        z = z1[i] \n",
    "        c = hmap(np.log10(z/0.014))\n",
    "        f = ax.plot(m1, y, \"o\", label=f\"Z = {z}\", c=(c), **kwargs)\n",
    "        f = ax.plot(m1, y, label=f\"Z = {z}\", c=(c), **kwargs)\n",
    "        # ax.set_xticks(np.arange(1, 8))\n",
    "    \n",
    "    ax.axhline(0, color=\"k\", ls=\":\", zorder=-1)\n",
    "\n",
    "    return f"
   ]
  },
  {
   "cell_type": "code",
   "execution_count": null,
   "id": "19",
   "metadata": {},
   "outputs": [],
   "source": [
    "plot_n_table(\"pignatari16\")\n",
    "arya.Colorbar(huemap=hmap, ax=plt.gca(), label=r\"Metallicity ($\\log Z/Z_\\odot$)\")\n",
    "plt.xlabel(\"M/Msun\")\n",
    "plt.ylabel(r\"$y_{\\rm N}$ --- R18\")"
   ]
  },
  {
   "cell_type": "code",
   "execution_count": null,
   "id": "20",
   "metadata": {},
   "outputs": [],
   "source": [
    "yields.set_yields()\n",
    "Z = MH_to_Z(np.linspace(-2, 1))\n",
    "\n",
    "plot_y_z(Z, ele=\"n\", label=\"linear\");\n",
    "\n",
    "y_agb[\"n\"] = \"pignatari16\"\n",
    "\n",
    "plot_y_z(Z, ele=\"n\", label=\"P16\");\n",
    "plt.xlabel(\"[M/H]\")\n",
    "plt.ylabel(\"y_N\")\n",
    "\n",
    "plt.legend()\n",
    "plt.savefig(\"figures/_y_n_z.pdf\")"
   ]
  },
  {
   "cell_type": "code",
   "execution_count": null,
   "id": "21",
   "metadata": {},
   "outputs": [],
   "source": [
    "plot_yield_table(\"pignatari16\", ele=\"n\", fmt=\"o-\")\n"
   ]
  }
 ],
 "metadata": {
  "kernelspec": {
   "display_name": "Python 3 (ipykernel)",
   "language": "python",
   "name": "python3"
  },
  "language_info": {
   "codemirror_mode": {
    "name": "ipython",
    "version": 3
   },
   "file_extension": ".py",
   "mimetype": "text/x-python",
   "name": "python",
   "nbconvert_exporter": "python",
   "pygments_lexer": "ipython3",
   "version": "3.11.9"
  }
 },
 "nbformat": 4,
 "nbformat_minor": 5
}
