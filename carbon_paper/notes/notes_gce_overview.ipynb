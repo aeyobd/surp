{
 "cells": [
  {
   "cell_type": "markdown",
   "id": "283fe786-12dc-425d-b2b5-b7789e98fca4",
   "metadata": {},
   "source": [
    "# Introduction to Galactic Chemical Evolution\n",
    "\n",
    "Galactic Chemical Evolution (GCE) studies how different mechanisms produce different elements on galactic scales. There are several importaint processes that affect chemical abundances: Core Collapse Supernovae (CCSN), Type Ia Supernovae (SNIa), Asymptotic Giant Branch Stars (AGB). Other effects such as neutron-neutron star mergers (for r-process elements) are critical to understanding heavy element producetion, but since we focus on elements ligher than Fe, we can ignore these effects for now.\n",
    "\n",
    "\n",
    "![periodic_table](../figures/jajohnson_periodic_table.png)"
   ]
  },
  {
   "cell_type": "markdown",
   "id": "d2c69b3a-9b7a-4de1-850f-9f118e03010d",
   "metadata": {},
   "source": [
    "## Core Collapse Supernovae\n",
    "CCSN are the explosions of massive ($M\\gtrsim 8M_\\odot$) stars when they fuse until they create a Fe core unable to create pressure by fusion, which then collapses and causes the star to explode. Because of the Mass-lifetime relationship for stars ($\\tau \\sim M^{-2.5}$), the timescales for CCSN are 50Myr and shorter. When modeling GCE, we approximate the contribution of CCSN as an instantaneous enrichment of the ISM.\n",
    "\n",
    "There is still significant uncertainty in the predicted yields from CCSN because of the many uncertainties in modeling these effects. For example, we do not know which stars explode or if some collapse straight into a black hole, and the minimum mass for a CCSN has some uncertainty. In addition, modeling the physics and nuclear reactions during a CCSN remains a significant challenge.\n",
    "\n",
    "CCSN are contributers to $\\alpha$-elements (C, O, Sr,), some Fe-peak elements like Iron, and may be a contributer to r-process elements.\n",
    "\n",
    "By comparing how other elements evolve against an element such as Oxygen (where CCSN is the only major producer), we can understand how the CCSN contribution of an element changes over time and the relative strength of this contribution. If the ratio of an element to one known to be produced only by CCSN is constant, than we can infer that the other element is likely also only produced by CCSN. An extension of this argument is used in the two-process model in Weinberg+19 where they estimate the relative contributions of SNIa and CCSN by fiting models to the dependence on oxygen and iron of various elements."
   ]
  },
  {
   "cell_type": "markdown",
   "id": "b2947299-c4ea-43d1-a2f7-e8529e560c05",
   "metadata": {},
   "source": [
    "## Type Ia Supernovae\n",
    "SNIa are thermonuclear explosions of white dwarf stars. White dwarf stars are the reminants of lower mass stars ($M \\lesssim 8 M_\\odot$), and because there is a maximum mass of a white dwarf before it is unable to support itself through degeneracy pressure, accresion of matter from a companion star or collisions with other white dwarfs can cause the star to collapse. During the collapse, densities and temperatures become high enough to cause runaway nuclear processes fusing atoms up to iron peak elements. \n",
    "\n",
    "SNIa are one of the slowest enrichment processes of the ISM because there can be a significant delay from when the white dwarf is formed and when the SNIa happens, up to 10Gyr. We model the delay time distribution of SNIa with a form like $DTD(t) \\sim t^{-1.1}$ which explodes approximantly equal numbers of stars in the range 0.1-1Gyr as 1-10Gyr. "
   ]
  },
  {
   "cell_type": "markdown",
   "id": "0559facc-e49c-4521-a638-5cf4471967b1",
   "metadata": {},
   "source": [
    "## AGB Stars\n",
    "\n",
    "AGB stars are late-stage low mass stars ($M \\lesssim 8 M_\\odot$) which have already initiated Helium burning and have built up an inert C/O core. Because both H and He are fused in shells around the core, these stars are more unstable and can go through pulsations in Thermally Pulsating AGB stars (TP-AGB). \n",
    "\n",
    "During pulsations, the convective layer can extend into the core of the AGB star and \"drege up\" material from the C/O core, increasing the carbon abundance of the star. However, the carbon can be converted into Nitrogen through the CNO cycle, which to first order converts all carbon into nitrogen via proton capture.\n",
    "\n",
    "The delay time distribution of AGB enrichment is based on the stellar lifetime relationship and is typically a shorter time-scale than for Type Ia supernovae (order 100Myr?) but is still non-negligable. \n",
    "\n",
    "AGB stars contribute both s-process elements (heavier than Fe) and some lighter isotopes, notably C and N to the ISM.\n"
   ]
  },
  {
   "cell_type": "markdown",
   "id": "c41cb307-dee4-4491-8356-5336d01eb7c0",
   "metadata": {},
   "source": [
    "## Stellar Feedback\n",
    "In these models, feedback is modeled as a constant"
   ]
  },
  {
   "cell_type": "markdown",
   "id": "19c315f5",
   "metadata": {},
   "source": [
    "## Radial Migration"
   ]
  },
  {
   "cell_type": "markdown",
   "id": "8ea95173-f6d2-4c2b-8125-aec782b3afcc",
   "metadata": {},
   "source": [
    "# Observational Constraints\n",
    "\n",
    "## Stars\n",
    "A variety of surveys enable us to test our models against the results of chemical abundance trends in stars in the milkyway. A complecation with using stars is that the chemical abundances change over time, especially for element pairs such as \\[C/N\\], commonly used as an age indicator in RGB stars as the CNO cycle converts C into N. \n",
    "\n",
    "### APOGEE\n",
    "APOGEE (Apache Point Observtory Galaxy Evolution Experiment ?) is a part of SDSS (Sloan Digital Sky Survey) which has H-band (near-IR) spectra for ___ stars. Using ASPCAP (a data pipline), we can recover the chemical abundances of a variety of elements from the APOGEE survey, including C, O ,Fe, N. APOGEE Dr17 also includes paralaxes from Gaia EDR3 enableing us to isolate trends at different galactic radii.\n",
    "\n",
    "### GALAH\n",
    "\n",
    "GALAH includes spectra in the optical band. Notably there is a major descrepancy in \\[Mg/O\\] vs metalicity between APOGEE and GALAH.\n",
    "\n",
    "### CHAOS"
   ]
  },
  {
   "cell_type": "markdown",
   "id": "dd4ab991-354e-4a21-a456-7130a65fff78",
   "metadata": {},
   "source": [
    "## Two Process Model\n",
    "\n",
    "Following David and Emily's work, we can create estimates of the relative contributions from SNia and CCSNe of an element by fitting a two-process model to chemical abundance trends. "
   ]
  },
  {
   "cell_type": "code",
   "execution_count": null,
   "id": "94b02e9a-f1ce-41a2-b699-82b4f8c05ee4",
   "metadata": {},
   "outputs": [],
   "source": []
  }
 ],
 "metadata": {
  "kernelspec": {
   "display_name": "Python 3",
   "language": "python",
   "name": "python3"
  },
  "language_info": {
   "codemirror_mode": {
    "name": "ipython",
    "version": 3
   },
   "file_extension": ".py",
   "mimetype": "text/x-python",
   "name": "python",
   "nbconvert_exporter": "python",
   "pygments_lexer": "ipython3",
   "version": "3.6.8"
  }
 },
 "nbformat": 4,
 "nbformat_minor": 5
}
