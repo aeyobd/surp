{
 "cells": [
  {
   "cell_type": "markdown",
   "id": "0",
   "metadata": {},
   "source": [
    "# CCSNe"
   ]
  },
  {
   "cell_type": "markdown",
   "id": "1",
   "metadata": {},
   "source": [
    "There is significant disagreement in CC yields for C. Different models of the explosion landscape modify the yields. We choose to adopt a fiducial value of $y_C^{ccsn}=0.002$ which is roughly consistant with the values for non-rotating stars. Note that some earlier studies predict a large net destruction of carbon in CCSN especially at high Z (e.g. CL04), but most more recent models predict positive net yields. The rotating models of LC18 have increasing carbon yields with metalicity.\n",
    "\n",
    "![ccns_yields](figures/CCSN_C_yields_to_Z.jpeg)\n"
   ]
  },
  {
   "cell_type": "markdown",
   "id": "2",
   "metadata": {},
   "source": [
    "![ccns_yields](figures/CCSN_CO_yields_to_Z.jpeg)\n",
    "Above, we plot $\\log \\frac{y_C^{cc}}{y_O^{cc}} - \\log \\frac{Z_{C,\\odot}}{Z_{O,\\odot}}$ which corresponds to the equilibrium yield ratio if C had no AGB contribution."
   ]
  },
  {
   "cell_type": "markdown",
   "id": "3",
   "metadata": {},
   "source": [
    "# AGB \n",
    "\n",
    "## Overview of AGB Evolution\n",
    "An Asymptotic Giant Branch (AGB) star is a type of low mass star (about 0.8-8$M_\\odot$) towards the end of its lifetime. \n",
    "Low and intermediate mass stars (less than 8-10 $M_\\odot$), begin on the main sequence fusing hydrogen into helium in their cores. An inert helium core builds up, and the stars begin to ascend the red giant branch (RGB) as they shift to shell hydrogen burning. During the RGB phase, the convective envelope may reach into the core bringing up H burning products during the first dredge up. Lower stars will ignite helium burning in a degenerate core, with core mass roughly independent of initial mass, but larger stars will ignite helium in the center. These stars procede to the core Helium burning phase (with the high intermediate mass stars $8<M<10$ also proceeding to burn C) until they build up an inert core of carbon and oxygen.\n",
    "\n",
    "First dredge up happens during the Red Giant Branch, which is a major carbon sink and nitrogen enrichment. FDU happens when material from the CNO processed core is brought to the surface.\n",
    "\n",
    "The AGB phase happens after core helium burning ends. The envalope expands again and the surface cools. Inside the star, there is a inert C/O core of Helium burning products, a Helium burning shell outside the core, a H burning shell, and a convective envelope.\n",
    "\n",
    "The thin He-burning shell in an AGB star is unstable, leading to thermal pulsations (TP) in the Thermally Pulsating AGB phase (TP-AGB).\n",
    "1. He-flash\n",
    "2. Powerdown: The flash ends, but drives convection in the intershell region homogonizing that region. \n",
    "3. As the star expands and cools, H burning ceases and the convective layer may reach into the intershell region during Third Dredge Up (TDU). \n",
    "4. The Interpulse phase: The star resets, burning H and He in seperate shells and is relatively quiscent for about 1000 years. \n",
    "(lattanzio and karakas) \n",
    "\n",
    "\n",
    "The shock from each thermal pulsation drives significant mass loss. The TP-AGB phase ends when the envelope has been ejected, enriching the ISM. \n",
    "\n",
    "The size of a pulse depends on both the mass and metalicity of the star. The hydrogen and helium burning shells are closer together in more massive stars since these stars need a larger temperature gradient to support the star. When these layers are closer together, the time inbetween pulses is shorter. Furthermore, the size of each pulse is smaller since the helium flash is not as strong. (explain more).\n",
    "\n",
    "Lower metalicities stars also experience stronger pulsations since the hydrogen burning shell does not generate as much energy due to the reduced CNO cycle efficiency, so the He-shell has less time to become hotter before the star begins to expand as a result of the increased luminosity. \n",
    "\n",
    "for M>= 3, shell is more compresed so He shell is hotter, causing shorter interpulse periods and reduced TDU effeciency. (C11).\n",
    "\n",
    "The time inbetween pulses is relatively well constrained, since the timescale is similar to how long it takes for the hydrogen and hellium shells to come together, which depends on the relative reaction rates and stellar structure. The major uncertainties of AGB evolution are due to our poor understanding of mass loss and convection. \n",
    "\n"
   ]
  },
  {
   "cell_type": "markdown",
   "id": "4",
   "metadata": {},
   "source": [
    "## TDU\n",
    "\n",
    "TDU may happen during pusations of a TPAGB star, the convective layer does not contract as quickly as the rest of the layer and reaches into the C/O core of the star, bringing up C to the outer convective layers. \n",
    "Accurately modeling TDU depends on the details of convection. \n",
    "\n",
    "TDU is strongly dependent on both mass and metalicity. Higher mass stars have thinner He-burning shells leading to larger instabilities and deeper TDU.\n",
    "However, the larger convective envelope of larger stars reduces the abundance impact of TDU. \n",
    "\n",
    "Lower metalicity stars have a weaker CNO cycle because of the reduced CNO concentration, so the H burning shell is not as powerful leading to stronger pulsations and deeper TDU (C11). \n",
    "\n",
    "Increased luminosity from HBB (or PIEs) helps increase mass loss reducing the number of TP and M_drege (V13).\n",
    "\n",
    "However, super-AGB stars have even lower TDU effeciencies because...\n",
    "\n",
    "Larger mass stars have more TPs leading to increased dredge up mass up until the reduced efficiency overtakes the increased dredge. \n",
    "\n",
    "\n",
    "## HBB\n",
    "\n",
    "During the interpulse period, the base of the convective envelope may exceed 50MK, leading to Hot Bottom Burning (HBB). At this temperature, the CNO cycle initiates causing a moderate increase in luminosity and a conversion of C12 into N. HBB requires an envelope mass of $\\gtrsim 1M_\\odot$, so HBB occurs in more massive stars and most vigorously at very high mass stars. \n",
    "\n",
    "The presence and amount of HBB and TDU are critical for determining the production of Carbon and Nitrogen since these are the main processes which either add or remove Carbon. TDU primarily increases the total amount of CNO in the star, whereas HBB changes the ratios of CNO but without significantly changing to total abundance.\n",
    "\n",
    "Even though HBB is stronger at low metalicity, the increased amount of material dredged up results in an increase in carbon yields with decreasing metalicity (V13).\n",
    "\n",
    "stronger mass loss rate increases effect of HBB on yields. (K18)\n",
    "\n",
    "## Rotation and extra mixing\n",
    "\n",
    "Rotation can introduce extra mixing during the RGB phase. The extra mixing will bring up CNO processed material from the core while replinishing the core with hydrogen from the envelope, causing a effect similar to HBB (C11).\n",
    "\n",
    "However, we investigated rotating models in the FRUITTY database, and the effects of rotation on carbon yields appear to be negligable, so we choose to ignore this for this study.\n",
    "\n",
    "Thermohaline mixing can happen at low metalicities in addition to other effects. Because of a modelcular weight inversion, instabilitie./...\n",
    "\n",
    "## Low Metalicity \n",
    "At very low metalicities, we have poor constraints on stellar evolution since the small magellanic cloud is about the lowest metalicity large population of stars. Our poor understanding of opacities, proton ingestion episondes (PIEs) and other details further complicates the results.\n",
    "\n",
    "## Mass loss\n",
    "\n",
    "Mass loss is poorly constrained, leaing to further uncertainty in AGB evolution. Higher rates of mass loss lead to a reduced number of TPs since the star looses its envelope faster. High mass loss also reduces the impact of HBB since material in the envelope hass less time to be affected by the CNO cycle. \n",
    "\n",
    "Low temperature opacities are importaint for determining correct mass losses (C11), especially for stars that becom carbon rich. The increased opacitiy from carbon leads to a more expanded and cooler envelope increaseing mass loss.\n",
    "\n",
    "\n",
    "\n",
    "Surface carbon enhancement through TDU leads to increased opacity as C/O grows larger than 1. (C11)"
   ]
  },
  {
   "cell_type": "markdown",
   "id": "5",
   "metadata": {},
   "source": [
    "![adf](figures/m_tip.jpeg)\n",
    "The interpulse time in kyr for several AGB models. Each model shows good agreement for this quantity. Larger mass stars already evolve faster, but due to their thinner shells because of the mass, they are even more unstable, causing more rapid pulsations during the late AGB phase.\n",
    "\n",
    "![mnp](figures/m_np.jpeg)\n",
    "The number of thermal pulsations, $N_p$ versus the ZAMS mass of the star (in solar masses) for three different AGB models. V13 diverges from K10 and C11 where high mass stars experience less TP than intermediate masses. This effect is likely due to V13's higher mass-loss rate causing a shorter AGB lifetime. "
   ]
  },
  {
   "cell_type": "markdown",
   "id": "6",
   "metadata": {},
   "source": [
    "## Model Comparison\n",
    "\n",
    "We consider four different models of carbon yields: C11, K10, V13, K16. We adpot C11 as the fiductial choice of models, and compare other to this model. \n",
    "\n",
    "K10 chose the mass loss rate so that N_p was approximately constant, however there is likely a metalicity dependence. Maybe overprediction of mass loss in low mass stars leading to underestimating HBB effects. K10 has a low T_BCE reducing HBB which could explain their high production of C at low metalicity in comparison to other models.\n",
    "\n",
    "V13. extra mixing -> increased yields. \n",
    "\n",
    "Ignoring peculiarities in the ill-constrained low mass regieme, V13 also has the same qualitative shape as the other models. K10 has slightly higher C yields especially at low metalicity, likely because V13 has more efficient convection and higher T_bce leading to more HBB reducing their C yields. K10 also has more TP because they have a slower mass loss than V13. \n",
    "\n",
    "K16: Notably #TPs is monotonically increasing with mass in this study, compared to others.\n",
    "\n",
    "In comparison to Cristallo11/15, used different mass loss prescriptions and significant differences in convective treatment.\n",
    "Also dredge up more material because of higher effeciency and more depp TDU. But Cristallo has higher C abundances in the intershell due to higher 3-$\\alpha$ reaction rates. \n",
    "\n",
    "At lower mass, dredge ups about the same amount of material. \n",
    "Karakas model has higher HBB in intermediate mass range (6Msun), leading to the more negative carbon net yields. Cristallo looses much more mass and has far less TPs and thus lower C for HBB. Cristallo11 has lower T_BCE than other models reducing HBB. K16 pulsation period is much lower, and C11 enters the TP-AGB with a lower mass star. This would have the effect of reducing the K16 yields beyond that of others. \n"
   ]
  },
  {
   "cell_type": "markdown",
   "id": "7",
   "metadata": {},
   "source": [
    " \n",
    "![cristallo11](figures/yields_CNO_stellar_models.jpeg)\n",
    "![cristallo11](figures/yields_N_stellar_models.jpeg)"
   ]
  },
  {
   "cell_type": "markdown",
   "id": "8",
   "metadata": {},
   "source": [
    "Above is plotted the yields of C+N+O and N for each model. We choose these variables since they roughly corespond to the effectiveness of TDU and HBB in each model. HBB and other CNO cycle processes leave total CNO unchanged, so looking at CNO provides an approximate measure of how much material in each model was dreged up (subtracting initial abundance). The Karakas models show generally higher CNO especially at low metalicity and high mass. Their higher TDU at high mass is due to how their high mass models do not \n",
    "\n",
    "The relatively low production of N in C11 is due to the reduced temperatures at the BCE in their models in addition "
   ]
  },
  {
   "cell_type": "markdown",
   "id": "9",
   "metadata": {},
   "source": [
    "![cristallo11](figures/yields_C_stellar_models.jpeg)\n"
   ]
  },
  {
   "cell_type": "markdown",
   "id": "10",
   "metadata": {},
   "source": [
    "\n"
   ]
  },
  {
   "cell_type": "markdown",
   "id": "11",
   "metadata": {},
   "source": [
    "# AGB Models as related to Chemical Evolution\n",
    "\n",
    "Using VICE's single stellar population funcion, we can model how the net yield of carbon changes with metallicity and over time for a group of stars born at the same time. \n",
    "\n",
    "For the net mass yield over time, each model has the same qualitative shape, where the initial plateu is definied by what fraction CCSNE provide of the total carbon yield, since different models vary most remarkably on the amount of carbon they produce for each star. Next, the most massive AGB stars eject their envalopes, and all the models predict a negative net yield from 7$M_\\odot$ to about 4-5$M_\\odot$. Next, the lower mass AGB stars which produce most of the carbon yield die causing the increase in carbon yield which slows down as very low mass AGB stars produce less net carbon yield."
   ]
  },
  {
   "cell_type": "markdown",
   "id": "12",
   "metadata": {},
   "source": [
    "The final $y_C^{agb}$ against $Z$ demonstrates the differences in metalicity dependence for each model, with Cristallo11 with the softest $Z$ dependence, dropping off closer to $\\log Z \\approx 0$ compared with Karakas10 with the steepest $Z$ dependence dropping at the much lower $\\log Z \\approx -1$. Otherwise, each model again agrees qualitatively."
   ]
  },
  {
   "cell_type": "markdown",
   "id": "13",
   "metadata": {},
   "source": [
    "![agb_time_yields](figures/y_C_agb_to_t.jpeg)"
   ]
  },
  {
   "cell_type": "markdown",
   "id": "14",
   "metadata": {},
   "source": [
    "![agb_Z_yields](figures/y_C_AGB_to_Z.jpeg)"
   ]
  },
  {
   "cell_type": "markdown",
   "id": "15",
   "metadata": {},
   "source": [
    "# Power-Exponential  Approximation\n",
    "An approximate parameterization of $y_C^{agb}$, the net fractional yield of C from AGB stars is:\n",
    "$$\n",
    "y_C^{agb}(M, Z) \\approx m_C^{agb} (1 - \\beta Z) \\left(\\frac{e k}{\\gamma}\\right)^\\gamma \\left(M + \\frac{\\gamma}{k} - M_0 - \\alpha Z\\right)^\\gamma e^{-\\left(M + \\frac{\\gamma}{k} - M_0 - \\alpha Z\\right)}\\\\\n",
    "\\sim M^\\gamma e^{-M}\n",
    "$$\n",
    "\n",
    "where $\\alpha$ is the metalicity dependence and $M_0$ is the center of the gaussian of the AGB yields for $Z=0$.\n",
    "\n",
    "If we use the mass-lifetime relationship $t_{to} = 10\\text{Gyr} \\left({M}/{M_\\odot}\\right)^{-2.5}$, we can find an equation for the net fractional yield over time:\n",
    "$$\n",
    "y_C^{agb}(t, Z) \\approx m_C^{agb} (1 - \\beta Z) e^{-( (t/10\\text{Gyr})^{-2.5} - M_0 - \\alpha Z)^2}\n",
    "$$"
   ]
  },
  {
   "cell_type": "markdown",
   "id": "16",
   "metadata": {},
   "source": [
    "# Gaussian Approximation\n",
    "\n",
    "An alternate (and easier to understand) approximation is to model the mass dependence of $y_C^{agb}$ as a gaussian.\n",
    "\n",
    "$$\n",
    "y_C^{agb} (M, Z) = m_C^{agb} (1 - \\beta Z) \\frac{1}{\\sqrt{2 \\pi \\sigma}}e^{-(M - M_0)^2/2\\sigma^2}\n",
    "$$\n",
    "\n",
    "Where $\\beta$ is the metalicity dependence, $M_0$ is the mass with peak $y_C^{agb}$, $\\sigma$ is the width of the distribution in $M$, and $m_C^{agb}$ is the overall normilization/yield of the distribution.\n",
    "\n",
    "This is the analytic model shown in the above plots."
   ]
  },
  {
   "cell_type": "code",
   "execution_count": null,
   "id": "17",
   "metadata": {},
   "outputs": [],
   "source": []
  }
 ],
 "metadata": {
  "kernelspec": {
   "display_name": "Python 3",
   "language": "python",
   "name": "python3"
  },
  "language_info": {
   "codemirror_mode": {
    "name": "ipython",
    "version": 3
   },
   "file_extension": ".py",
   "mimetype": "text/x-python",
   "name": "python",
   "nbconvert_exporter": "python",
   "pygments_lexer": "ipython3",
   "version": "3.6.8"
  }
 },
 "nbformat": 4,
 "nbformat_minor": 5
}
