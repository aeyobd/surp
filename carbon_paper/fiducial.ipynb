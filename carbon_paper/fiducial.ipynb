{
 "cells": [
  {
   "cell_type": "code",
   "execution_count": null,
   "id": "0",
   "metadata": {},
   "outputs": [],
   "source": [
    "%load_ext autoreload\n",
    "%autoreload 2"
   ]
  },
  {
   "cell_type": "code",
   "execution_count": null,
   "id": "1",
   "metadata": {
    "tags": []
   },
   "outputs": [],
   "source": [
    "import matplotlib.pyplot as plt\n",
    "import matplotlib as mpl\n",
    "import matplotlib.patheffects\n",
    "import numpy as np\n",
    "import pandas as pd\n",
    "import vice\n",
    "import seaborn as sns"
   ]
  },
  {
   "cell_type": "code",
   "execution_count": null,
   "id": "2",
   "metadata": {},
   "outputs": [],
   "source": [
    "import surp\n",
    "from surp import gce_math as gcem\n",
    "from surp.yields import calc_y\n",
    "import arya"
   ]
  },
  {
   "cell_type": "code",
   "execution_count": null,
   "id": "3",
   "metadata": {},
   "outputs": [],
   "source": [
    "#model_dir = \"../models/C11_piecelin/\"\n",
    "model_dir = \"../models/fiducial/run\""
   ]
  },
  {
   "cell_type": "code",
   "execution_count": null,
   "id": "4",
   "metadata": {},
   "outputs": [],
   "source": [
    "fiducial = surp.ViceModel.from_file(model_dir + \"/model.json\")"
   ]
  },
  {
   "cell_type": "code",
   "execution_count": null,
   "id": "5",
   "metadata": {},
   "outputs": [],
   "source": [
    "yp = surp.yields.YieldParams.from_file(model_dir + \"/yield_params.toml\")\n",
    "surp.yields.set_yields(yp)"
   ]
  },
  {
   "cell_type": "code",
   "execution_count": null,
   "id": "6",
   "metadata": {},
   "outputs": [],
   "source": [
    "MH = np.linspace(-2, 1, 1000)\n",
    "Z = gcem.MH_to_Z(MH)\n",
    "y = calc_y(Z, kind=\"all\")\n",
    "plt.plot(MH, y, label=\"total\")\n",
    "y = calc_y(Z, kind=\"cc\")\n",
    "plt.plot(MH, y, label=\"CC\")\n",
    "\n",
    "y = calc_y(Z, kind=\"agb\")\n",
    "plt.plot(MH, y, label=\"AGB\")\n",
    "plt.xlabel(\"[M/H]\")\n",
    "plt.ylabel(\"yield of C\")\n",
    "arya.Legend(-1)"
   ]
  },
  {
   "cell_type": "code",
   "execution_count": null,
   "id": "7",
   "metadata": {},
   "outputs": [],
   "source": [
    "fig, axs = plt.subplots(1, 2, sharey=True, gridspec_kw={\"wspace\": 0}, figsize=(7, 10/3), dpi=350)\n",
    "\n",
    "plt.sca(axs[0])\n",
    "h = fiducial.history\n",
    "\n",
    "coords = []\n",
    "\n",
    "for R in [4,8, 12]:\n",
    "    df = h[np.isclose(h.R, R - 0.05)]\n",
    "    plt.plot(df.MG_H, df.C_MG, color=\"k\")\n",
    "    coords.append((\n",
    "            df.MG_H.iloc[-1], \n",
    "            df.C_MG.iloc[-1]\n",
    "        ))\n",
    "\n",
    "\n",
    "texts = [\n",
    "    \"4\",\n",
    "    #\"6\",\n",
    "    \"8\",\n",
    "    #\"10\",\n",
    "    r\"12\\,kpc\"\n",
    "]\n",
    "\n",
    "for i in range(len(coords)):\n",
    "    if i >= 2:\n",
    "        offset = (-6, 12)\n",
    "    else:\n",
    "        offset = (-3, 6)\n",
    "    text = plt.annotate(texts[i], xy=coords[i],  zorder=20, ha=\"center\", va=\"bottom\",  \n",
    "                        xycoords='data', textcoords='offset points', xytext=offset)\n",
    "\n",
    "sns.scatterplot(h[(h.R > 2) & (h.R < 15.5)], x=\"MG_H\", y=\"C_MG\", hue=\"time\", s=0.3, alpha=1, legend=False, edgecolor=\"none\", palette=\"arya_r\", rasterized=True)\n",
    "plt.xlim(-2.5, 0.5)\n",
    "#plt.ylim(-0.45, 0.05)\n",
    "#surp.plots.plot_annulus_at_t(fiducial, \"MG_H\", \"C_MG\", t=2, zorder=-2)\n",
    "\n",
    "\n",
    "\n",
    "plt.xlabel(\"[Mg/H]\")\n",
    "plt.ylabel(\"[C/Mg]\")\n",
    "\n",
    "plt.sca(axs[1])\n",
    "\n",
    "\n",
    "\n",
    "filt = fiducial.history[\"MG_H\"] > -0.15\n",
    "filt &= fiducial.history[\"MG_H\"] < -0.05\n",
    "h = fiducial.history\n",
    "\n",
    "cax = axs[1].inset_axes([1.05, 0., 0.05, 1])\n",
    "\n",
    "cb = arya.Colorbar(clim=(0, 13.2), label=r\"time (Gyr)\", cmap=\"arya_r\", cax=cax)\n",
    "\n",
    "\n",
    "label_Rs = [4,8,12]\n",
    "coords = []\n",
    "\n",
    "for R in np.sort(h.R.unique()[19:155]):\n",
    "    dfa = h[h.R == R]\n",
    "    s = 1# 0*(0.05 - np.abs(dfa[\"[o/h]\"] + 0.10))\n",
    "    plt.scatter(dfa.O_FE, dfa.C_O, c=cb(dfa.time), s=0.3, ec=\"none\", rasterized=True, zorder=1)\n",
    "    if any(np.isclose(R+0.05, label_Rs)):\n",
    "        coords.append((\n",
    "            dfa[\"MG_FE\"].iloc[-1], \n",
    "            dfa[\"C_MG\"].iloc[-1]\n",
    "        ))\n",
    "\n",
    "        plt.plot(dfa[\"MG_FE\"], dfa[\"C_MG\"], color=\"k\", zorder=2, lw=1)\n",
    "    \n",
    "\n",
    "texts = [\n",
    "    \"4\\\\,kpc\",\n",
    "   #\"6\",\n",
    "    \"8\",\n",
    "    #\"10\",\n",
    "    r\"12\"\n",
    "]\n",
    "\n",
    "\n",
    "for i in range(len(coords)):\n",
    "    text = plt.annotate(texts[i], xy=coords[i],  zorder=20, ha=\"right\",  va=\"center\",\n",
    "                        xycoords='data', textcoords='offset points', xytext=(-3, 0))\n",
    "#     text.set_path_effects([mpl.patheffects.Stroke(linewidth=5, foreground='w'),\n",
    "#                    mpl.patheffects.Normal()])\n",
    "    \n",
    "plt.xlim(-0.06, 0.48)\n",
    "#plt.ylim(-0.6, 0.05)\n",
    "plt.xlabel(\"[Mg/Fe]\")\n",
    "\n",
    "\n",
    "\n",
    "plt.savefig(\"figures/all_the_tracks.pdf\")"
   ]
  },
  {
   "cell_type": "markdown",
   "id": "8",
   "metadata": {},
   "source": [
    "# TODO:  C/Mg star plots as a function of radii "
   ]
  },
  {
   "cell_type": "markdown",
   "id": "9",
   "metadata": {},
   "source": [
    "## Quick checks"
   ]
  },
  {
   "cell_type": "code",
   "execution_count": null,
   "id": "10",
   "metadata": {},
   "outputs": [],
   "source": [
    "for R in np.sort(h.R.unique()[19:155]):\n",
    "    dfa = h[h.R == R]\n",
    "    s = 1# 0*(0.05 - np.abs(dfa[\"[o/h]\"] + 0.10))\n",
    "    if any(np.isclose(R+0.05, label_Rs)):\n",
    "        coords.append((\n",
    "            dfa[\"MG_FE\"].iloc[-1], \n",
    "            dfa[\"C_MG\"].iloc[-1]\n",
    "        ))\n",
    "\n",
    "        plt.plot(dfa[\"MG_FE\"], dfa[\"C_MG\"], label=R, zorder=2, lw=1)\n",
    "plt.legend()"
   ]
  },
  {
   "cell_type": "code",
   "execution_count": null,
   "id": "11",
   "metadata": {},
   "outputs": [],
   "source": [
    "filt = fiducial.history.time == 13.2\n",
    "filt &= fiducial.history.R > 7\n",
    "filt &= fiducial.history.R <= 9\n"
   ]
  },
  {
   "cell_type": "code",
   "execution_count": null,
   "id": "12",
   "metadata": {},
   "outputs": [],
   "source": [
    "sum(fiducial.history.mstar[filt])"
   ]
  },
  {
   "cell_type": "code",
   "execution_count": null,
   "id": "13",
   "metadata": {},
   "outputs": [],
   "source": [
    "plt.scatter(fiducial.stars.MG_H, fiducial.stars.C_MG, s=0.1, c=fiducial.stars.MG_FE, vmin=-0.2, vmax=0.6)\n",
    "plt.xlim(-1, 1)\n",
    "#plt.ylim(-1, 1)\n",
    "plt.colorbar(label=\"[Mg/Fe]\")\n",
    "plt.xlabel(\"[Mg/H]\")\n",
    "plt.ylabel(\"[C/Mg]\")"
   ]
  },
  {
   "cell_type": "code",
   "execution_count": null,
   "id": "14",
   "metadata": {},
   "outputs": [],
   "source": [
    "plt.scatter(fiducial.stars.MG_FE, fiducial.stars.C_MG, s=1, alpha=0.01)\n",
    "plt.xlim(-0.1, 0.5)\n",
    "plt.ylim(-0.6, 0.1)"
   ]
  },
  {
   "cell_type": "code",
   "execution_count": null,
   "id": "15",
   "metadata": {},
   "outputs": [],
   "source": [
    "# create the new map\n",
    "cmap = mpl.colors.LinearSegmentedColormap.from_list(\n",
    "    'Custom cmap', arya.COLORS, len(arya.COLORS))"
   ]
  },
  {
   "cell_type": "code",
   "execution_count": null,
   "id": "16",
   "metadata": {},
   "outputs": [],
   "source": [
    "# define the bins and normalize\n",
    "bounds = np.arange(0, len(arya.COLORS))\n",
    "norm = mpl.colors.BoundaryNorm(bounds, cmap.N)\n",
    "\n",
    "plt.scatter(fiducial.stars.FE_H, fiducial.stars.MG_FE, s=0.3, alpha=0.05, c=fiducial.stars.high_alpha, cmap=cmap, norm=norm)\n",
    "\n",
    "\n",
    "\n",
    "\n",
    "plt.xlim(-1, 0.3)\n",
    "plt.ylim(-0.1, 0.6)\n",
    "plt.xlabel(\"[Fe/H]\")\n",
    "plt.ylabel(\"[Mg/Fe]\")\n",
    "\n",
    "x = np.linspace(-1, 0.3, 1000)\n",
    "y = surp.gce_math.mg_fe_cutoff(x)\n",
    "#plt.plot(x, y, color=\"k\")\n",
    "\n",
    "sns.kdeplot(surp.subgiants, x=\"FE_H\", y=\"MG_FE\", zorder=-1, color=arya.COLORS[2]);\n",
    "\n"
   ]
  },
  {
   "cell_type": "markdown",
   "id": "17",
   "metadata": {},
   "source": [
    "# Other properties\n",
    "Here, I want to make plots of the AGB Fraction across the galaxy."
   ]
  },
  {
   "cell_type": "code",
   "execution_count": null,
   "id": "18",
   "metadata": {},
   "outputs": [],
   "source": [
    "plt.hist(fiducial.stars.r_final, bins=np.arange(4, 10, 0.1),);\n",
    "plt.xlim(5, 10)\n",
    "plt.xlabel(\"R final\")\n",
    "plt.ylabel(\"count\")"
   ]
  },
  {
   "cell_type": "code",
   "execution_count": null,
   "id": "19",
   "metadata": {},
   "outputs": [],
   "source": [
    "plt.scatter(fiducial.stars.r_origin, fiducial.stars.M_H, s=0.1, alpha=0.1)\n",
    "plt.ylim(-2)\n",
    "plt.xlabel(\"R birth\")\n",
    "plt.ylabel(\"[M/H]\")"
   ]
  },
  {
   "cell_type": "markdown",
   "id": "20",
   "metadata": {},
   "source": [
    "# Todo-> deal with sorting here"
   ]
  },
  {
   "cell_type": "code",
   "execution_count": null,
   "id": "21",
   "metadata": {},
   "outputs": [],
   "source": [
    "R_max = 15.5\n",
    "\n",
    "h = fiducial.history[fiducial.history.R < R_max]\n",
    "\n",
    "R = np.sort(np.unique(h.R))\n",
    "t = np.sort(np.unique(h.time))\n",
    "\n",
    "m_star = h[\"sfr\"]*1e9 # Msun/yr (default)\n",
    "denom = 1 + h[\"eta_0\"] - h[\"r_eff\"]\n",
    "Mc = h[\"mass(c)\"] # Msun\n",
    "\n",
    "Zc = Mc / h[\"mgas\"]\n",
    "dt = np.mean(np.diff(t)) # Gyr\n",
    "\n",
    "smooth = 10\n",
    "Mc_dot = np.concatenate([np.zeros(smooth), \n",
    "                         Mc[smooth:] - np.array(Mc[:-smooth]),\n",
    "                        ]\n",
    "                       )/(smooth*dt)\n",
    "Z = h[\"z\"]\n",
    "\n",
    "y_cc = vice.yields.ccsne.settings[\"c\"]\n",
    "yc_cc = np.vectorize(y_cc)(Z)\n",
    "y_c = (Mc_dot + denom*Zc*m_star)/m_star\n",
    "y_c_agb = y_c - yc_cc\n",
    "f_agb = np.array(y_c_agb/y_c)\n",
    "\n",
    "X = np.reshape(f_agb, (len(R), len(t)))"
   ]
  },
  {
   "cell_type": "code",
   "execution_count": null,
   "id": "22",
   "metadata": {},
   "outputs": [],
   "source": [
    "max(f_agb[f_agb < 0.5])"
   ]
  },
  {
   "cell_type": "code",
   "execution_count": null,
   "id": "23",
   "metadata": {},
   "outputs": [],
   "source": [
    "plt.plot(R, np.transpose(X)[-1,:])\n",
    "plt.ylim(-0.5, 1)\n",
    "plt.xlim(0.5)\n",
    "plt.xlabel(\"zone\")\n",
    "plt.ylabel(\"f agb\")"
   ]
  },
  {
   "cell_type": "code",
   "execution_count": null,
   "id": "24",
   "metadata": {},
   "outputs": [],
   "source": [
    "plt.figure(figsize=(10/3, 10/3/np.sqrt(2)))\n",
    "plt.imshow(np.transpose(X)[::-1], clim=(0, 0.6), extent=(np.min(R), np.max(R), np.min(t), np.max(t)), aspect=\"auto\")\n",
    "plt.xlim(1, 15)\n",
    "plt.ylim(smooth*dt)\n",
    "\n",
    "plt.colorbar(label=r\"$f_{\\rm agb}(R, t) = y^{\\rm AGB} / y^{\\rm tot} (t)$\")\n",
    "plt.xlabel(\"radius (kpc)\")\n",
    "plt.ylabel(\"time (Gyr)\")\n",
    "\n",
    "plt.savefig(\"figures/f_agb_rt.pdf\")"
   ]
  },
  {
   "cell_type": "code",
   "execution_count": null,
   "id": "25",
   "metadata": {
    "tags": []
   },
   "outputs": [],
   "source": [
    "s = fiducial.stars\n",
    "\n",
    "sns.kdeplot(surp.subgiants[~np.isnan(surp.subgiants.N_MG)], x=\"MG_H\", y=\"N_MG\")\n",
    "plt.scatter(s[\"MG_H\"], s[\"N_MG\"], \n",
    "             c = s[\"r_origin\"], s=0.2, zorder=2)\n",
    "plt.xlim(-0.6, 0.5)\n",
    "plt.ylim(-0.5, 0.5)\n",
    "plt.xlabel(\"[Mg/H]\")\n",
    "plt.ylabel(\"[N/Mg]\")\n"
   ]
  },
  {
   "cell_type": "code",
   "execution_count": null,
   "id": "26",
   "metadata": {},
   "outputs": [],
   "source": [
    "#model_dir = \"../models/C11_piecelin/\"\n",
    "model_dir = \"../models/fruity/f_0/\""
   ]
  },
  {
   "cell_type": "code",
   "execution_count": null,
   "id": "27",
   "metadata": {},
   "outputs": [],
   "source": [
    "fiducial = surp.ViceModel.from_file(model_dir + \"/model.json\")"
   ]
  },
  {
   "cell_type": "code",
   "execution_count": null,
   "id": "28",
   "metadata": {},
   "outputs": [],
   "source": [
    "s = fiducial.stars"
   ]
  },
  {
   "cell_type": "code",
   "execution_count": null,
   "id": "29",
   "metadata": {},
   "outputs": [],
   "source": []
  },
  {
   "cell_type": "code",
   "execution_count": null,
   "id": "30",
   "metadata": {},
   "outputs": [],
   "source": [
    "plt.figure(figsize=(10/3, 10/3/2**0.5))\n",
    "\n",
    "cb = arya.Colorbar(clim=(-0.3, 0.3), ax=plt.gca(), label=\"[Mg/H]\")\n",
    "\n",
    "s = fiducial.stars\n",
    "for MH in (-0.3, -0.2,-0.1,0, 0.1, 0.2,0.3):\n",
    "    df = surp.plots.filter_metallicity(s, c=MH, w=0.05)\n",
    "\n",
    "    Cm = np.median(df.C_MG[~df.high_alpha])\n",
    "\n",
    "    df[\"C_Cm\"] = df.C_MG - Cm\n",
    "\n",
    "    #plt.scatter(0, Cm, color=cb(MH))\n",
    "    N = len(df)\n",
    "    Npb = 10 * round(N**(2/5))\n",
    "    print(Npb)\n",
    "    \n",
    "    arya.medianplot(df, x=\"MG_FE\", y=\"C_Cm\", binsize=Npb, color=cb(MH), aes=\"scatter\", errorbar=None)\n",
    "\n",
    "plt.gca().invert_xaxis()\n",
    "\n",
    "plt.xlabel(\"[Mg/Fe]\")\n",
    "plt.ylabel(\"[C/median C]\")\n"
   ]
  },
  {
   "cell_type": "code",
   "execution_count": null,
   "id": "31",
   "metadata": {},
   "outputs": [],
   "source": [
    "plt.figure(figsize=(10/3, 10/3/2**0.5))\n",
    "\n",
    "cb = arya.Colorbar(clim=(-0.3, 0.3), ax=plt.gca(), label=\"[Mg/H]\")\n",
    "\n",
    "s = fiducial.stars\n",
    "for MH in (-0.3, -0.2,-0.1,0, 0.1, 0.2,0.3):\n",
    "    df = surp.plots.filter_metallicity(s, c=MH)\n",
    "    N = len(df)\n",
    "    Npb = 10 * round(N**(2/5))\n",
    "    print(Npb)\n",
    "    \n",
    "    arya.medianplot(df, x=\"MG_FE\", y=\"C_MG\", binsize=Npb, color=cb(MH), aes=\"scatter\", errorbar=None)\n",
    "\n",
    "plt.gca().invert_xaxis()\n",
    "\n",
    "plt.xlabel(\"[Mg/Fe]\")\n",
    "plt.ylabel(\"[C/Mg]\")\n",
    "\n",
    "plt.tight_layout()\n",
    "plt.savefig(\"figures/fiducial_caafe_binned.pdf\")"
   ]
  },
  {
   "cell_type": "code",
   "execution_count": null,
   "id": "32",
   "metadata": {},
   "outputs": [],
   "source": [
    "plt.figure(figsize=(10/3, 10/3/2**0.5))\n",
    "\n",
    "cb = arya.Colorbar(clim=(-0.3, 0.3), ax=plt.gca(), label=\"[Mg/H]\")\n",
    "\n",
    "s = fiducial.stars\n",
    "for MH in (-0.3, -0.2,-0.1,0, 0.1, 0.2,0.3):\n",
    "    df = surp.plots.filter_metallicity(s, c=MH, w=0.05)\n",
    "\n",
    "    Cm = np.median(df.C_MG[~df.high_alpha])\n",
    "\n",
    "    df[\"C_Cm\"] = df.C_MG - Cm\n",
    "\n",
    "    #plt.scatter(0, Cm, color=cb(MH))\n",
    "    N = len(df)\n",
    "    Npb = 10 * round(N**(2/5))\n",
    "    print(Npb)\n",
    "    \n",
    "    arya.medianplot(df, x=\"MG_FE\", y=\"C_Cm\", binsize=Npb, color=cb(MH), aes=\"scatter\", errorbar=None)\n",
    "\n",
    "plt.gca().invert_xaxis()\n",
    "\n",
    "plt.xlabel(\"[Mg/Fe]\")\n",
    "plt.ylabel(\"[C/median C]\")\n"
   ]
  },
  {
   "cell_type": "code",
   "execution_count": null,
   "id": "33",
   "metadata": {},
   "outputs": [],
   "source": [
    "plt.figure(figsize=(10/3, 10/3/2**0.5))\n",
    "\n",
    "cb = arya.Colorbar(clim=(-0.3, 0.3), ax=plt.gca(), label=\"[Mg/H]\")\n",
    "\n",
    "s = fiducial.stars\n",
    "for MH in (-0.3, -0.2,-0.1,0, 0.1, 0.2,0.3):\n",
    "    df = surp.plots.filter_metallicity(s, c=MH)\n",
    "    N = len(df)\n",
    "    Npb = 10 * round(N**(2/5))\n",
    "    print(Npb)\n",
    "    \n",
    "    arya.medianplot(df, x=\"MG_FE\", y=\"C_MG\", binsize=Npb, color=cb(MH), aes=\"scatter\", errorbar=None)\n",
    "\n",
    "plt.gca().invert_xaxis()\n",
    "\n",
    "plt.xlabel(\"[Mg/Fe]\")\n",
    "plt.ylabel(\"[C/Mg]\")\n",
    "\n",
    "plt.tight_layout()\n",
    "plt.savefig(\"figures/fiducial_caafe_binned.pdf\")"
   ]
  },
  {
   "cell_type": "code",
   "execution_count": null,
   "id": "34",
   "metadata": {},
   "outputs": [],
   "source": [
    "sns.kdeplot(s, x=\"MG_FE\", y=\"C_MG\");\n",
    "plt.xlim(-0.1, 0.5)\n",
    "plt.ylim(-0.6, 0.1)"
   ]
  },
  {
   "cell_type": "code",
   "execution_count": null,
   "id": "35",
   "metadata": {},
   "outputs": [],
   "source": [
    "plt.hist2d(fiducial.stars.FE_H, fiducial.stars.MG_FE, range=((-1, 1),( -1, 1)), bins=100 )\n",
    "plt.xlabel(\"[Fe/H]\")\n",
    "plt.ylabel(\"[Mg/Fe]\")\n",
    "x = np.linspace(-0.4, 0.4)\n",
    "y = gcem.mg_fe_cutoff(x)\n",
    "plt.plot(x, y)\n",
    "plt.xlim(-0.8, 0.5)\n",
    "plt.ylim(-0.1, 0.5)"
   ]
  },
  {
   "cell_type": "code",
   "execution_count": null,
   "id": "36",
   "metadata": {},
   "outputs": [],
   "source": [
    "plt.scatter(surp.subgiants.FE_H, surp.subgiants.MG_FE, s=1, alpha=0.1)\n",
    "plt.xlabel(\"[Fe/H]\")\n",
    "plt.ylabel(\"[Mg/Fe]\")\n",
    "x = np.linspace(-0.4, 0.5)\n",
    "y = gcem.mg_fe_cutoff(x)\n",
    "plt.plot(x, y)\n",
    "plt.xlim(-0.6, 0.5)\n",
    "plt.ylim(-0.1, 0.5)\n",
    "plt.title(\"subgiants\")"
   ]
  },
  {
   "cell_type": "code",
   "execution_count": null,
   "id": "37",
   "metadata": {},
   "outputs": [],
   "source": [
    "sns.kdeplot(fiducial.stars, x=\"FE_H\", y=\"MG_FE\", clip=((-1, 1), (-1, 1)));"
   ]
  },
  {
   "cell_type": "code",
   "execution_count": null,
   "id": "38",
   "metadata": {},
   "outputs": [],
   "source": [
    "sns.kdeplot(surp.plots.filter_metallicity(s), x=\"FE_H\", y=\"MG_FE\");"
   ]
  },
  {
   "cell_type": "code",
   "execution_count": null,
   "id": "39",
   "metadata": {},
   "outputs": [],
   "source": [
    "sns.kdeplot(surp.plots.filter_metallicity(surp.subgiants), x=\"FE_H\", y=\"MG_FE\");"
   ]
  },
  {
   "cell_type": "code",
   "execution_count": null,
   "id": "40",
   "metadata": {},
   "outputs": [],
   "source": [
    "sns.kdeplot(surp.plots.filter_metallicity(s), x=\"MG_FE\", y=\"C_MG\");"
   ]
  },
  {
   "cell_type": "code",
   "execution_count": null,
   "id": "41",
   "metadata": {},
   "outputs": [],
   "source": [
    "sns.scatterplot(surp.plots.filter_metallicity(s), x=\"MG_FE_true\", y=\"C_MG_true\", alpha=0.2);"
   ]
  },
  {
   "cell_type": "code",
   "execution_count": null,
   "id": "42",
   "metadata": {},
   "outputs": [],
   "source": [
    "sns.scatterplot(surp.plots.filter_metallicity(s), x=\"MG_FE\", y=\"C_MG\", alpha=0.2);"
   ]
  },
  {
   "cell_type": "code",
   "execution_count": null,
   "id": "43",
   "metadata": {},
   "outputs": [],
   "source": [
    "#sns.scatterplot(surp.plots.filter_metallicity(s), x=\"MG_FE\", y=\"C_MG\", alpha=0.2);\n",
    "sns.kdeplot(surp.plots.filter_metallicity(surp.subgiants), x=\"MG_FE\", y=\"C_MG\",)"
   ]
  },
  {
   "cell_type": "code",
   "execution_count": null,
   "id": "44",
   "metadata": {},
   "outputs": [],
   "source": [
    "surp.subgiants.index.drop_duplicates()"
   ]
  },
  {
   "cell_type": "code",
   "execution_count": null,
   "id": "45",
   "metadata": {},
   "outputs": [],
   "source": [
    "surp.subgiants.index.unique()"
   ]
  },
  {
   "cell_type": "code",
   "execution_count": null,
   "id": "46",
   "metadata": {},
   "outputs": [],
   "source": [
    "sns.kdeplot(surp.subgiants.drop_duplicates(), x=\"age_ANN\", y=\"C_MG\")"
   ]
  },
  {
   "cell_type": "code",
   "execution_count": null,
   "id": "47",
   "metadata": {},
   "outputs": [],
   "source": [
    "h = fiducial.history\n",
    "\n",
    "\n",
    "sns.scatterplot(h[(h.R > 2) & (h.R < 15.5)], x=\"MG_H\", y=\"MG_FE\", hue=\"time\", s=0.3, alpha=1, legend=False, edgecolor=\"none\", palette=\"arya_r\", rasterized=True)\n",
    "plt.xlim(-2.5, 0.5)\n",
    "#plt.ylim(-0.45, 0.05)\n",
    "#surp.plots.plot_annulus_at_t(fiducial, \"MG_H\", \"C_MG\", t=2, zorder=-2)\n",
    "plt.axvline(-0.1)\n"
   ]
  },
  {
   "cell_type": "code",
   "execution_count": null,
   "id": "48",
   "metadata": {},
   "outputs": [],
   "source": [
    "filt = (h.R > 2) & (h.R < 15.5)\n",
    "filt &= h.MG_H > -0.15\n",
    "filt &= h.MG_H < -0.05\n",
    "\n",
    "sns.scatterplot(h[filt], x=\"R\", y=\"MG_FE\", hue=\"time\", s=0.3, alpha=1, legend=False, edgecolor=\"none\", palette=\"arya_r\", rasterized=True)\n"
   ]
  },
  {
   "cell_type": "code",
   "execution_count": null,
   "id": "49",
   "metadata": {},
   "outputs": [],
   "source": []
  },
  {
   "cell_type": "code",
   "execution_count": null,
   "id": "50",
   "metadata": {},
   "outputs": [],
   "source": []
  }
 ],
 "metadata": {
  "kernelspec": {
   "display_name": "Python 3 (ipykernel)",
   "language": "python",
   "name": "python3"
  },
  "language_info": {
   "codemirror_mode": {
    "name": "ipython",
    "version": 3
   },
   "file_extension": ".py",
   "mimetype": "text/x-python",
   "name": "python",
   "nbconvert_exporter": "python",
   "pygments_lexer": "ipython3",
   "version": "3.11.9"
  }
 },
 "nbformat": 4,
 "nbformat_minor": 5
}
