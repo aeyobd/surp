{
 "cells": [
  {
   "cell_type": "code",
   "execution_count": 1,
   "id": "af63bb2a-c9e5-4104-9857-507f91c90807",
   "metadata": {},
   "outputs": [],
   "source": [
    "import pandas as pd"
   ]
  },
  {
   "cell_type": "code",
   "execution_count": 2,
   "id": "94b7b0cb-8974-43e6-87e1-bbeec6680840",
   "metadata": {},
   "outputs": [],
   "source": [
    "b19 = pd.read_csv(\"../data/nugrid_B19.txt\", sep=\"\\s+\", skiprows=2, index_col=0)\n",
    "b21 = pd.read_csv(\"../data/nugrid_B21.txt\", sep=\"\\s+\", skiprows=2, index_col=0)"
   ]
  },
  {
   "cell_type": "code",
   "execution_count": 3,
   "id": "6bedb1b2-ed35-4b14-a348-02c5de3e2266",
   "metadata": {},
   "outputs": [],
   "source": [
    "b19_ele = pd.DataFrame(columns=b19.columns)\n",
    "for idx, row in b19.iterrows():\n",
    "    ele, _ = idx.split(\"-\")\n",
    "    if ele in b19_ele.index:\n",
    "        b19_ele.loc[ele] += row\n",
    "    else:\n",
    "        b19_ele = pd.concat([b19_ele, pd.DataFrame(row.to_dict(), index=[ele])])"
   ]
  },
  {
   "cell_type": "code",
   "execution_count": 4,
   "id": "a5892b56-ccf6-4ad4-8661-6c590d1896a6",
   "metadata": {},
   "outputs": [],
   "source": [
    "b21_ele = pd.DataFrame(columns=b21.columns)\n",
    "for idx, row in b21.iterrows():\n",
    "    ele, _ = idx.split(\"-\")\n",
    "    if ele in b21_ele.index:\n",
    "        b21_ele.loc[ele] += row\n",
    "    else:\n",
    "        b21_ele = pd.concat([b21_ele, pd.DataFrame(row.to_dict(), index=[ele])])"
   ]
  },
  {
   "cell_type": "code",
   "execution_count": 5,
   "id": "c4f484f6-ce5f-4866-8a53-33bb448958ac",
   "metadata": {},
   "outputs": [],
   "source": [
    "elements = \"H, He, Li, B, C, N, O, F, Ne, Na, Mg, Al, Si, P, Pb, S, Cl, Ar, K, Ca, Sc, Ti, V, Cr, Mn, Fe, Co, Ni, Cu, Zn, Ga, Ge, As, Se, Br, Kr, Rb, Sr, Y, Zr, Nb, Mo, Ru, Rh, Pd, Ag, Cd, In, Sn, Sb, Te, I, Xe, Cs, Ba, La, Ce, Pr, Nd, Sm, Eu, Gd, Tb, Dy, Ho, Er, Tm, Yb, Lu, Hf, Ta, W, Re, Os, Ir, Pt, Au, Hg, Tl, Bi\".split(\", \")"
   ]
  },
  {
   "cell_type": "code",
   "execution_count": 6,
   "id": "4d61016d-b80a-41a0-9c8b-7ddd4602a5b0",
   "metadata": {},
   "outputs": [],
   "source": [
    "raw = {}\n",
    "yields = {}\n",
    "\n",
    "for ele in elements:\n",
    "    raw[ele] = pd.DataFrame()\n",
    "    yields[ele] = pd.DataFrame()\n",
    "\n",
    "with open(\"../data/element_yield_table_MESAonly_fryer12_delay_total.txt\") as file:\n",
    "    skip = 6\n",
    "    M = None\n",
    "    M_ej = None\n",
    "    for line in file:\n",
    "        if skip > 0:\n",
    "            skip -= 1\n",
    "            continue\n",
    "            \n",
    "        if line[:7] == \"H Table\":\n",
    "            s1, s2 = line[10:].split(\",\")\n",
    "            M = float(s1[2:])\n",
    "            Z = float(s2[2:-2])\n",
    "            skip = 1\n",
    "            continue\n",
    "            \n",
    "        if line[:8] == \"H Mfinal\":\n",
    "            M_rem = float(line[10:])\n",
    "            M_ej = M - M_rem\n",
    "            skip = 1\n",
    "            continue\n",
    "            \n",
    "        if M_ej is None:\n",
    "            continue\n",
    "        \n",
    "        _, ele, y, x0, _ = line.split(\"&\")\n",
    "\n",
    "        y = float(y)\n",
    "        x0 = float(x0)\n",
    "        xf = y/M_ej\n",
    "        y_net_fractional = (xf - x0) * M_ej/M\n",
    "        ele = ele.strip()\n",
    "        \n",
    "        row = pd.DataFrame({\"mass\":M, \"M_rem\":M_rem, \"Z\":Z, \"y\":y, \"x0\": x0}, index=[0])\n",
    "        raw[ele] = pd.concat([raw[ele], row], ignore_index=True)\n",
    "        \n",
    "        row = pd.DataFrame({\"mass\":M, \"Z\":Z, \"y\":y_net_fractional}, index=[0])\n",
    "        yields[ele] = pd.concat([yields[ele], row], ignore_index=True)"
   ]
  },
  {
   "cell_type": "code",
   "execution_count": 7,
   "id": "60ccf605-9ee0-4fea-b307-ddb4c8710654",
   "metadata": {},
   "outputs": [],
   "source": [
    "for ele in elements:\n",
    "    raw[ele].set_index([\"mass\", \"Z\"], inplace=True)"
   ]
  },
  {
   "cell_type": "code",
   "execution_count": 8,
   "id": "90de01a3-d8ee-4906-9a28-8d28029106c7",
   "metadata": {},
   "outputs": [],
   "source": [
    "# update the relevant models with B19 and B21\n",
    "for ele in elements:\n",
    "    b19r = b19_ele.loc[ele]\n",
    "    b21r = b21_ele.loc[ele]\n",
    "    for M, Z, b, key in [\n",
    "        (2, 0.01, b19r, \"m2z1m2\"),\n",
    "        (3, 0.01, b19r, \"m3z1m2\"),\n",
    "        (2, 0.02, b19r, \"m2z2m2\"),\n",
    "        (3, 0.02, b19r, \"m3z2m2\"),\n",
    "        (2, 0.001, b21r, \"m2z1m3-bigpoc\"),\n",
    "        (3, 0.001, b21r, \"m3z1m3-bigpoc\")\n",
    "    ]:\n",
    "        df = raw[ele]\n",
    "        y = b[key]\n",
    "        raw[ele].loc[(M, Z), :][\"y\"] = y"
   ]
  },
  {
   "cell_type": "code",
   "execution_count": 9,
   "id": "fe071b45-d2f7-4ba5-bf37-7614ac05a0c1",
   "metadata": {},
   "outputs": [],
   "source": [
    "yields_old = {ele: df.copy() for ele, df in yields.items()}"
   ]
  },
  {
   "cell_type": "code",
   "execution_count": 10,
   "id": "6338fe70-8aa5-4431-9fec-3185a215a402",
   "metadata": {
    "tags": []
   },
   "outputs": [],
   "source": [
    "for ele in elements:\n",
    "    df = raw[ele]\n",
    "    df[\"M\"] = [a[0] for a in df.index]\n",
    "    df[\"Z\"] = [a[1] for a in df.index]\n",
    "    M_ej = df.M - df.M_rem\n",
    "    x_ej = df.y/M_ej\n",
    "    y_net_frac = (x_ej - df.x0) * M_ej/df.M\n",
    "    yields[ele][\"y\"] = y_net_frac.values"
   ]
  },
  {
   "cell_type": "code",
   "execution_count": 11,
   "id": "6d5912cd-461c-40dd-a9bb-37b8f14eeeca",
   "metadata": {},
   "outputs": [
    {
     "name": "stdout",
     "output_type": "stream",
     "text": [
      "/users/PAS2232/aeyobd/VICE/vice/yields/agb/pignatari16\n"
     ]
    }
   ],
   "source": [
    "cd ../../VICE/vice/yields/agb/pignatari16/"
   ]
  },
  {
   "cell_type": "code",
   "execution_count": 12,
   "id": "81f469b1-9a64-42d8-b9c2-d8cdf3e59d5d",
   "metadata": {},
   "outputs": [],
   "source": [
    "for ele, table in yields.items():\n",
    "    filename = \"%s.dat\" % (ele.lower())\n",
    "    df = table[table.mass < 8].sort_values(by=[\"mass\", \"Z\"])\n",
    "    df.to_csv(filename, sep=\"\\t\", index=False, header=False)"
   ]
  },
  {
   "cell_type": "code",
   "execution_count": null,
   "id": "6753772b-4827-48ad-aac0-a59ee71cd6ee",
   "metadata": {},
   "outputs": [],
   "source": []
  }
 ],
 "metadata": {
  "kernelspec": {
   "display_name": "Python 3.9 (Conda 2022.05) [python/3.9-2022.05]",
   "language": "python",
   "name": "python39_202205"
  },
  "language_info": {
   "codemirror_mode": {
    "name": "ipython",
    "version": 3
   },
   "file_extension": ".py",
   "mimetype": "text/x-python",
   "name": "python",
   "nbconvert_exporter": "python",
   "pygments_lexer": "ipython3",
   "version": "3.9.12"
  }
 },
 "nbformat": 4,
 "nbformat_minor": 5
}
