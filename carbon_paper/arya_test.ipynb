{
 "cells": [
  {
   "cell_type": "code",
   "execution_count": 2,
   "id": "d071b2cc-cb90-4674-ba7c-d7854e18014d",
   "metadata": {
    "tags": []
   },
   "outputs": [],
   "source": [
    "%load_ext autoreload\n",
    "%autoreload 2"
   ]
  },
  {
   "cell_type": "code",
   "execution_count": 3,
   "id": "a0c5b5af-8bb4-4972-9070-ff1ab9c3d6ed",
   "metadata": {
    "tags": []
   },
   "outputs": [],
   "source": [
    "import matplotlib.pyplot as plt\n",
    "\n",
    "import sys\n",
    "sys.path.append(\"..\")\n",
    "\n",
    "import src.analysis.plotting_utils as pluto\n",
    "from src.analysis.apogee_analysis import subgiants\n"
   ]
  },
  {
   "cell_type": "code",
   "execution_count": 4,
   "id": "05eeb3f8-e8f9-4974-8dfe-a68084c9ddfe",
   "metadata": {
    "tags": []
   },
   "outputs": [],
   "source": [
    "sys.path.append(\"/home/daniel/\")"
   ]
  },
  {
   "cell_type": "code",
   "execution_count": 5,
   "id": "2747f7e6-3c24-47c6-a3b3-51f4f2cd01e6",
   "metadata": {
    "tags": []
   },
   "outputs": [],
   "source": [
    "import arya"
   ]
  },
  {
   "cell_type": "code",
   "execution_count": 9,
   "id": "8ae8c943-0973-40ac-b409-a8f7dec2f98b",
   "metadata": {
    "tags": []
   },
   "outputs": [
    {
     "ename": "AttributeError",
     "evalue": "'Scatter' object has no attribute 'data'",
     "output_type": "error",
     "traceback": [
      "\u001b[0;31m---------------------------------------------------------------------------\u001b[0m",
      "\u001b[0;31mAttributeError\u001b[0m                            Traceback (most recent call last)",
      "Cell \u001b[0;32mIn[9], line 5\u001b[0m\n\u001b[1;32m      1\u001b[0m ha \u001b[38;5;241m=\u001b[39m subgiants[\u001b[38;5;124m\"\u001b[39m\u001b[38;5;124mhigh_alpha\u001b[39m\u001b[38;5;124m\"\u001b[39m]\n\u001b[1;32m      3\u001b[0m df \u001b[38;5;241m=\u001b[39m subgiants[\u001b[38;5;241m~\u001b[39mha]\n\u001b[0;32m----> 5\u001b[0m s \u001b[38;5;241m=\u001b[39m \u001b[43marya\u001b[49m\u001b[38;5;241;43m.\u001b[39;49m\u001b[43mScatter\u001b[49m\u001b[43m(\u001b[49m\u001b[43mdf\u001b[49m\u001b[43m[\u001b[49m\u001b[38;5;124;43m\"\u001b[39;49m\u001b[38;5;124;43mMG_H\u001b[39;49m\u001b[38;5;124;43m\"\u001b[39;49m\u001b[43m]\u001b[49m\u001b[43m,\u001b[49m\u001b[43m \u001b[49m\u001b[43mdf\u001b[49m\u001b[43m[\u001b[49m\u001b[38;5;124;43m\"\u001b[39;49m\u001b[38;5;124;43mC_MG\u001b[39;49m\u001b[38;5;124;43m\"\u001b[39;49m\u001b[43m]\u001b[49m\u001b[43m,\u001b[49m\u001b[43m \u001b[49m\u001b[43msize\u001b[49m\u001b[38;5;241;43m=\u001b[39;49m\u001b[38;5;241;43m0.05\u001b[39;49m\u001b[43m)\u001b[49m\n\u001b[1;32m      6\u001b[0m s\u001b[38;5;241m.\u001b[39mlabel \u001b[38;5;241m=\u001b[39m \u001b[38;5;124m\"\u001b[39m\u001b[38;5;124mhigh $\u001b[39m\u001b[38;5;130;01m\\\\\u001b[39;00m\u001b[38;5;124malpha$\u001b[39m\u001b[38;5;124m\"\u001b[39m\n\u001b[1;32m      8\u001b[0m sp \u001b[38;5;241m=\u001b[39m s\u001b[38;5;241m.\u001b[39msubplot\n",
      "File \u001b[0;32m~/arya/plotting/scatter.py:16\u001b[0m, in \u001b[0;36mScatter.__init__\u001b[0;34m(self, x, y, c, s, marker, subplot, size, **kwargs)\u001b[0m\n\u001b[1;32m     14\u001b[0m \u001b[38;5;28;01mdef\u001b[39;00m \u001b[38;5;21m__init__\u001b[39m(\u001b[38;5;28mself\u001b[39m, x, y, c\u001b[38;5;241m=\u001b[39m\u001b[38;5;28;01mNone\u001b[39;00m, s\u001b[38;5;241m=\u001b[39m\u001b[38;5;28;01mNone\u001b[39;00m, marker\u001b[38;5;241m=\u001b[39m\u001b[38;5;124m\"\u001b[39m\u001b[38;5;124mo\u001b[39m\u001b[38;5;124m\"\u001b[39m, subplot\u001b[38;5;241m=\u001b[39m\u001b[38;5;28;01mNone\u001b[39;00m,\n\u001b[1;32m     15\u001b[0m              size\u001b[38;5;241m=\u001b[39m\u001b[38;5;28;01mNone\u001b[39;00m, \u001b[38;5;241m*\u001b[39m\u001b[38;5;241m*\u001b[39mkwargs):\n\u001b[0;32m---> 16\u001b[0m     \u001b[38;5;28;43msuper\u001b[39;49m\u001b[43m(\u001b[49m\u001b[43m)\u001b[49m\u001b[38;5;241;43m.\u001b[39;49m\u001b[38;5;21;43m__init__\u001b[39;49m\u001b[43m(\u001b[49m\u001b[43msubplot\u001b[49m\u001b[43m)\u001b[49m\n\u001b[1;32m     18\u001b[0m     \u001b[38;5;28mself\u001b[39m\u001b[38;5;241m.\u001b[39mmarker \u001b[38;5;241m=\u001b[39m marker\n\u001b[1;32m     20\u001b[0m     \u001b[38;5;28;01mif\u001b[39;00m \u001b[38;5;28misinstance\u001b[39m(s, (\u001b[38;5;28mint\u001b[39m, \u001b[38;5;28mfloat\u001b[39m)):\n",
      "File \u001b[0;32m~/arya/plotting/layer.py:16\u001b[0m, in \u001b[0;36mLayer.__init__\u001b[0;34m(self, subplot)\u001b[0m\n\u001b[1;32m     13\u001b[0m \u001b[38;5;28mself\u001b[39m\u001b[38;5;241m.\u001b[39msubplot\u001b[38;5;241m.\u001b[39madd_layer(\u001b[38;5;28mself\u001b[39m)\n\u001b[1;32m     15\u001b[0m \u001b[38;5;28mself\u001b[39m\u001b[38;5;241m.\u001b[39mmpl_ax \u001b[38;5;241m=\u001b[39m \u001b[38;5;28mself\u001b[39m\u001b[38;5;241m.\u001b[39msubplot\u001b[38;5;241m.\u001b[39mmpl_ax\n\u001b[0;32m---> 16\u001b[0m \u001b[38;5;28;43mself\u001b[39;49m\u001b[38;5;241;43m.\u001b[39;49m\u001b[43mlabel\u001b[49m \u001b[38;5;241m=\u001b[39m \u001b[38;5;124m\"\u001b[39m\u001b[38;5;124m\"\u001b[39m\n\u001b[1;32m     17\u001b[0m \u001b[38;5;28mself\u001b[39m\u001b[38;5;241m.\u001b[39mhandle \u001b[38;5;241m=\u001b[39m \u001b[38;5;28;01mNone\u001b[39;00m\n",
      "File \u001b[0;32m~/arya/plotting/scatter.py:93\u001b[0m, in \u001b[0;36mScatter.label\u001b[0;34m(self, label)\u001b[0m\n\u001b[1;32m     87\u001b[0m \u001b[38;5;129m@label\u001b[39m\u001b[38;5;241m.\u001b[39msetter\n\u001b[1;32m     88\u001b[0m \u001b[38;5;28;01mdef\u001b[39;00m \u001b[38;5;21mlabel\u001b[39m(\u001b[38;5;28mself\u001b[39m, label):\n\u001b[1;32m     89\u001b[0m     \u001b[38;5;28mself\u001b[39m\u001b[38;5;241m.\u001b[39m_label \u001b[38;5;241m=\u001b[39m label\n\u001b[1;32m     92\u001b[0m     \u001b[38;5;28mself\u001b[39m\u001b[38;5;241m.\u001b[39m_handle \u001b[38;5;241m=\u001b[39m Line2D([], [], linewidth\u001b[38;5;241m=\u001b[39m\u001b[38;5;241m0\u001b[39m, marker\u001b[38;5;241m=\u001b[39m\u001b[38;5;28mself\u001b[39m\u001b[38;5;241m.\u001b[39mmarker, \n\u001b[0;32m---> 93\u001b[0m                           markersize\u001b[38;5;241m=\u001b[39m\u001b[38;5;28mself\u001b[39m\u001b[38;5;241m.\u001b[39msize, facecolor\u001b[38;5;241m=\u001b[39m\u001b[38;5;28;43mself\u001b[39;49m\u001b[38;5;241;43m.\u001b[39;49m\u001b[43mcolor\u001b[49m, edgecolor\u001b[38;5;241m=\u001b[39m\u001b[38;5;28mself\u001b[39m\u001b[38;5;241m.\u001b[39mcolor, label \u001b[38;5;241m=\u001b[39m label)\n",
      "File \u001b[0;32m~/arya/plotting/scatter.py:40\u001b[0m, in \u001b[0;36mScatter.color\u001b[0;34m(self)\u001b[0m\n\u001b[1;32m     38\u001b[0m \u001b[38;5;129m@property\u001b[39m\n\u001b[1;32m     39\u001b[0m \u001b[38;5;28;01mdef\u001b[39;00m \u001b[38;5;21mcolor\u001b[39m(\u001b[38;5;28mself\u001b[39m):\n\u001b[0;32m---> 40\u001b[0m     \u001b[38;5;28;01mif\u001b[39;00m \u001b[38;5;28;43mself\u001b[39;49m\u001b[38;5;241;43m.\u001b[39;49m\u001b[43mdata\u001b[49m\u001b[38;5;241m.\u001b[39mc \u001b[38;5;129;01mis\u001b[39;00m \u001b[38;5;28;01mNone\u001b[39;00m:\n\u001b[1;32m     41\u001b[0m         \u001b[38;5;28;01mreturn\u001b[39;00m \u001b[38;5;28mself\u001b[39m\u001b[38;5;241m.\u001b[39mmpl_ax\u001b[38;5;241m.\u001b[39mget_edgecolor()\n",
      "\u001b[0;31mAttributeError\u001b[0m: 'Scatter' object has no attribute 'data'"
     ]
    },
    {
     "data": {
      "image/png": "[encoded data removed]",
      "text/plain": [
       "<Figure size 674.593x664.657 with 1 Axes>"
      ]
     },
     "metadata": {},
     "output_type": "display_data"
    }
   ],
   "source": [
    "ha = subgiants[\"high_alpha\"]\n",
    "\n",
    "df = subgiants[~ha]\n",
    "\n",
    "s = arya.Scatter(df[\"MG_H\"], df[\"C_MG\"], size=0.05)\n",
    "s.label = \"high $\\\\alpha$\"\n",
    "\n",
    "sp = s.subplot\n",
    "\n",
    "df = subgiants[ha]\n",
    "s1 = arya.Scatter(df[\"MG_H\"], df[\"C_MG\"], size=0.05, subplot=sp)\n",
    "s1.label = \"low $\\\\alpha$\"\n",
    "\n",
    "\n",
    "arya.Legend(sp)\n",
    "sp.legend.ms = 2\n",
    "sp.legend.color_labels  = True\n",
    "#sp.legend.show_handles = False\n",
    "\n",
    "sp.x.lim = (-0.6, 0.6)\n",
    "sp.y.lim = (-0.5, 0.2)\n",
    "sp.x.label = \"[Mg/H]\"\n",
    "sp.y.label = \"[C/Mg]\"\n"
   ]
  },
  {
   "cell_type": "code",
   "execution_count": 8,
   "id": "6eb0fe85-09b0-47ec-b652-7d4f0d1103f2",
   "metadata": {},
   "outputs": [
    {
     "data": {
      "text/plain": [
       "array([[0.00392157, 0.45098039, 0.69803922, 1.        ]])"
      ]
     },
     "execution_count": 8,
     "metadata": {},
     "output_type": "execute_result"
    }
   ],
   "source": [
    "s.mpl_scat.get_facecolor()"
   ]
  },
  {
   "cell_type": "code",
   "execution_count": null,
   "id": "7dbd8417-2d3d-4284-8d8a-c396121eb206",
   "metadata": {},
   "outputs": [],
   "source": []
  }
 ],
 "metadata": {
  "kernelspec": {
   "display_name": "Python 3 (ipykernel)",
   "language": "python",
   "name": "python3"
  },
  "language_info": {
   "codemirror_mode": {
    "name": "ipython",
    "version": 3
   },
   "file_extension": ".py",
   "mimetype": "text/x-python",
   "name": "python",
   "nbconvert_exporter": "python",
   "pygments_lexer": "ipython3",
   "version": "3.10.9"
  }
 },
 "nbformat": 4,
 "nbformat_minor": 5
}
