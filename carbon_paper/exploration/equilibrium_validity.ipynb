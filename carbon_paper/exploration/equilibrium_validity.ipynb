{
 "cells": [
  {
   "cell_type": "code",
   "execution_count": null,
   "id": "0",
   "metadata": {},
   "outputs": [],
   "source": [
    "%load_ext autoreload \n",
    "%autoreload 2"
   ]
  },
  {
   "cell_type": "code",
   "execution_count": null,
   "id": "1",
   "metadata": {},
   "outputs": [],
   "source": [
    "import matplotlib.pyplot as plt\n",
    "import numpy as np\n",
    "import pandas as pd\n",
    "\n",
    "import surp\n",
    "import surp.gce_math as gcem\n",
    "import arya\n",
    "import vice"
   ]
  },
  {
   "cell_type": "code",
   "execution_count": null,
   "id": "2",
   "metadata": {},
   "outputs": [],
   "source": [
    "import seaborn as sns\n",
    "import matplotlib as mpl\n",
    "import matplotlib.patheffects"
   ]
  },
  {
   "cell_type": "code",
   "execution_count": null,
   "id": "3",
   "metadata": {},
   "outputs": [],
   "source": [
    "calc_y = np.vectorize(surp.yields.calc_y)"
   ]
  },
  {
   "cell_type": "code",
   "execution_count": null,
   "id": "4",
   "metadata": {},
   "outputs": [],
   "source": [
    "from singlezone import run_singlezone, insideout"
   ]
  },
  {
   "cell_type": "code",
   "execution_count": null,
   "id": "5",
   "metadata": {},
   "outputs": [],
   "source": [
    "surp.set_yields()"
   ]
  },
  {
   "cell_type": "markdown",
   "id": "6",
   "metadata": {
    "tags": []
   },
   "source": [
    "## Loading and plotting a model"
   ]
  },
  {
   "cell_type": "code",
   "execution_count": null,
   "id": "7",
   "metadata": {},
   "outputs": [],
   "source": [
    "def load_model(name):\n",
    "    \"\"\"\n",
    "    Finds the pickled model with either the given name or the parameters \n",
    "    and returns the csv summary\n",
    "    \"\"\"\n",
    "    yield_params = surp.YieldParams.from_file(\"../models/\" + name + \"/yield_params.toml\")\n",
    "    surp.set_yields(yield_params, verbose=False)\n",
    "    \n",
    "    file_name = \"../models/\" + name + \"/stars.csv\"\n",
    "    model =  pd.read_csv(file_name, index_col=0)\n",
    "\n",
    "    return model"
   ]
  },
  {
   "cell_type": "code",
   "execution_count": null,
   "id": "8",
   "metadata": {},
   "outputs": [],
   "source": [
    "def load_gas_model(name):\n",
    "    \"\"\"\n",
    "    Finds the pickled model with either the given name or the parameters \n",
    "    and returns the csv summary\n",
    "    \"\"\"\n",
    "    \n",
    "    file_name = \"../models/\" + name + \"/model.json\"\n",
    "    model =   surp.ViceModel.from_file(file_name)\n",
    "\n",
    "    return model.history"
   ]
  },
  {
   "cell_type": "code",
   "execution_count": null,
   "id": "9",
   "metadata": {},
   "outputs": [],
   "source": [
    "gh = load_gas_model(\"fiducial/run\")"
   ]
  },
  {
   "cell_type": "code",
   "execution_count": null,
   "id": "10",
   "metadata": {},
   "outputs": [],
   "source": [
    "model = load_model(\"fiducial/run\")"
   ]
  },
  {
   "cell_type": "code",
   "execution_count": null,
   "id": "11",
   "metadata": {},
   "outputs": [],
   "source": [
    "def scatter_caah(model):\n",
    "    \"\"\"\n",
    "    makes a scatter plot of [C/Mg] versus [Mg/H] for a given model (dataframe)\n",
    "    \"\"\"\n",
    "    kwargs = dict(\n",
    "        rasterized=True, ec=\"none\", s=1, \n",
    "    )\n",
    "\n",
    "\n",
    "    sns.scatterplot(model, x=\"MG_H\", y=\"C_MG\", hue=\"high_alpha\", **kwargs)\n",
    "\n",
    "    L = arya.Legend(labels=[r\"low $\\alpha$\", r\"high $\\alpha$\"], color_only=True, loc=4)\n",
    "    for text in L.mpl_leg.get_texts():\n",
    "        text.set_path_effects([mpl.patheffects.Stroke(linewidth=3, foreground='w'),\n",
    "                           mpl.patheffects.Normal()])\n",
    "\n",
    "\n",
    "\n",
    "    plt.xlim(-0.5, 0.5)\n",
    "    plt.ylim(-0.45, 0.15)\n",
    "    plt.ylabel(\"[C/Mg]\")\n",
    "    plt.xlabel(\"[Mg/H]\")"
   ]
  },
  {
   "cell_type": "code",
   "execution_count": null,
   "id": "12",
   "metadata": {},
   "outputs": [],
   "source": [
    "\n",
    "def scatter_caafe(model):\n",
    "    kwargs = dict(\n",
    "        rasterized=True, ec=\"none\", s=1\n",
    "    )\n",
    "    \n",
    "    sns.scatterplot(model, x=\"MG_FE\", y=\"C_MG\", hue=\"MG_H\", hue_norm=(-0.5, 0.5), legend=False,  palette=plt.get_cmap(), **kwargs)\n",
    "    plt.xlim(-0.08, 0.45)\n",
    "    \n",
    "    cax = plt.gca().inset_axes([1.05, 0., 0.05, 1])\n",
    "\n",
    "    arya.Colorbar(clim=(-0.5, 0.5), label=\"[Mg/H]\", cax=cax)\n",
    "\n",
    "    plt.xlabel(\"[Mg/Fe]\")"
   ]
  },
  {
   "cell_type": "code",
   "execution_count": null,
   "id": "13",
   "metadata": {},
   "outputs": [],
   "source": [
    "scatter_caah(model)"
   ]
  },
  {
   "cell_type": "code",
   "execution_count": null,
   "id": "14",
   "metadata": {},
   "outputs": [],
   "source": [
    "scatter_caafe(model)"
   ]
  },
  {
   "cell_type": "code",
   "execution_count": null,
   "id": "15",
   "metadata": {},
   "outputs": [],
   "source": [
    "def binned_caah(model):\n",
    "    arya.medianplot(model[~model.high_alpha], \"MG_H\", \"C_MG\", \n",
    "                    numbins=20, color=\"k\", stat=\"median\")\n",
    "\n",
    "def binned_caafe(model):\n",
    "    arya.medianplot(model, \"MG_FE\", \"C_MG\", numbins=20, color=\"k\",\n",
    "                   stat=\"median\")\n",
    "    \n",
    "def binned_caafe_slice(model, w=0, c0=-0.1):\n",
    "    df = surp.filter_metallicity(model, c=-0.1, w=5)\n",
    "    arya.medianplot(model, \"MG_FE_true\", \"C_MG_true\", numbins=12, color=\"k\", \n",
    "        stat=\"median\")\n"
   ]
  },
  {
   "cell_type": "code",
   "execution_count": null,
   "id": "16",
   "metadata": {},
   "outputs": [],
   "source": [
    "def plot_gas_today(h, x=\"MG_H\", y=\"C_MG\"):\n",
    "    filt = h.time == np.max(h.time)\n",
    "    filt &= h.R < 15\n",
    "    df = h[filt]\n",
    "    plt.scatter(df[x], df[y])"
   ]
  },
  {
   "cell_type": "code",
   "execution_count": null,
   "id": "17",
   "metadata": {},
   "outputs": [],
   "source": [
    "def plot_gas_caafe(h, R0=8.0, x=\"MG_FE\", y=\"C_MG\"):\n",
    "    Rs = h.R.unique()\n",
    "    R0 = Rs[np.argmin(np.abs(R0 - Rs))]\n",
    "    print(\"using \", R0)\n",
    "\n",
    "    filt = h.R == R0\n",
    "    df = h[filt]\n",
    "    plt.scatter(df[x], df[y])\n"
   ]
  },
  {
   "cell_type": "code",
   "execution_count": null,
   "id": "18",
   "metadata": {},
   "outputs": [],
   "source": [
    "def compare_coofe_gas(gh, sfh=None, tau_star=2.1): \n",
    "    plot_gas_caafe(gh)\n",
    "    sz_caafe(sfh=sfh, color=\"k\", tau_star=tau_star)\n",
    "    plot_ssp_femg(0.016)\n",
    "    "
   ]
  },
  {
   "cell_type": "code",
   "execution_count": null,
   "id": "19",
   "metadata": {},
   "outputs": [],
   "source": [
    "def compare_cooh_gas(model):\n",
    "    plot_gas_today(model)\n",
    "    plot_eq_caah()\n",
    "    plt.xlabel(\"[Mg/H]\")\n",
    "    plt.ylabel(\"[C/Mg]\")"
   ]
  },
  {
   "cell_type": "code",
   "execution_count": null,
   "id": "20",
   "metadata": {},
   "outputs": [],
   "source": [
    "binned_caah(model)"
   ]
  },
  {
   "cell_type": "code",
   "execution_count": null,
   "id": "21",
   "metadata": {},
   "outputs": [],
   "source": [
    "binned_caafe(model)"
   ]
  },
  {
   "cell_type": "code",
   "execution_count": null,
   "id": "22",
   "metadata": {},
   "outputs": [],
   "source": [
    "binned_caafe_slice(model)"
   ]
  },
  {
   "cell_type": "markdown",
   "id": "23",
   "metadata": {},
   "source": [
    "### Eq predictions"
   ]
  },
  {
   "cell_type": "code",
   "execution_count": null,
   "id": "24",
   "metadata": {},
   "outputs": [],
   "source": [
    "eq_correction = 10**-0.00\n",
    "\n",
    "def calc_eq_caah(M_H, **kwargs):\n",
    "    Zs = gcem.MH_to_Z(M_H)\n",
    "    ys = calc_y(Zs)\n",
    "    ymg = calc_y(Zs, \"mg\")\n",
    "\n",
    "    co = gcem.abund_ratio_to_brak(ys / ymg*eq_correction, \"C\", \"MG\")\n",
    "    \n",
    "    return co\n",
    "\n",
    "def plot_eq_caah(M_H =np.linspace(-0.45, 0.45, 1000),  **kwargs):\n",
    "    co = calc_eq_caah(M_H)\n",
    "    \n",
    "    plt.plot(M_H, co, label=\"equilibrium\", color=\"k\", lw=2, **kwargs)\n",
    "    \n",
    "    \n",
    "def plot_eq_caafe(**kwargs):\n",
    "    M_H = np.linspace(-0.45, 0.45, 1000)\n",
    "    Zs = gcem.MH_to_Z(M_H)\n",
    "    yc = calc_y(Zs)\n",
    "    ymg = calc_y(Zs, \"mg\")\n",
    "    yfe = calc_y(Zs, \"fe\")\n",
    "\n",
    "    co = gcem.abund_ratio_to_brak(yc / ymg * 10**-0.05, \"C\", \"MG\")\n",
    "    ofe = gcem.abund_ratio_to_brak(ymg/yfe, \"mg\", \"fe\")\n",
    "    \n",
    "    plt.plot(ofe, co, label=\"equilibrium\", **kwargs)\n",
    "    \n",
    "def sz_caafe(eta=0.5, sfh=None, tau_star=3.2, **kwargs):\n",
    "    if sfh is None:\n",
    "        sfh = surp.simulation.sfh_models.insideout(tau_sfh=15)\n",
    "    sz, h = run_singlezone(eta=eta, sfh=sfh, tau_star=tau_star)\n",
    "    plt.plot(h.MG_FE, h.C_MG, **kwargs)\n",
    "    return sz"
   ]
  },
  {
   "cell_type": "code",
   "execution_count": null,
   "id": "25",
   "metadata": {},
   "outputs": [],
   "source": [
    "scatter_caah(surp.subgiants)\n",
    "plot_eq_caah()\n"
   ]
  },
  {
   "cell_type": "code",
   "execution_count": null,
   "id": "26",
   "metadata": {},
   "outputs": [],
   "source": [
    "def compare_caah(model):\n",
    "    #plot_data()\n",
    "    scatter_caah(model)\n",
    "    binned_caah(model)\n",
    "    plot_eq_caah()\n",
    "    \n",
    "    plt.xlim(-0.5, 0.5)\n",
    "    plt.ylim(-0.6, 0.1)\n",
    "    plt.xlabel(\"[Mg/H]\")\n",
    "    plt.ylabel(\"[C/Mg]\")"
   ]
  },
  {
   "cell_type": "code",
   "execution_count": null,
   "id": "27",
   "metadata": {},
   "outputs": [],
   "source": [
    "compare_caah(model)"
   ]
  },
  {
   "cell_type": "code",
   "execution_count": null,
   "id": "28",
   "metadata": {},
   "outputs": [],
   "source": [
    "def compare_caafe(model, sfh=insideout(tau_sfh=15), tau_star=2.2, **kwargs):\n",
    "    scatter_caafe(model)\n",
    "    binned_caafe_slice(model)\n",
    "    plot_eq_caafe(lw=2, color=\"k\")\n",
    "    sz_caafe(label=\"singlezone\", lw=2, color=arya.COLORS[2], sfh=sfh, tau_star=tau_star)\n",
    "\n",
    "    plt.xlabel(\"[Mg/Fe]\")\n",
    "    plt.ylabel(\"[C/Mg]\")"
   ]
  },
  {
   "cell_type": "code",
   "execution_count": null,
   "id": "29",
   "metadata": {},
   "outputs": [],
   "source": [
    "def plot_ssp_mgh(Z, **kwargs):\n",
    "    m_c, times = vice.single_stellar_population(\"c\", Z=Z, mstar=1)\n",
    "    m_mg, times = vice.single_stellar_population(\"mg\", Z=Z, mstar=1)\n",
    "\n",
    "    c_mg = gcem.abund_ratio_to_brak(np.array(m_c)/m_mg, \"C\", \"MG\")\n",
    "    fe_mg = gcem.abund_ratio_to_brak(np.array(m_mg), \"Fe\", \"MG\")\n",
    "    plt.plot(mg_h, c_mg, **kwargs)\n"
   ]
  },
  {
   "cell_type": "code",
   "execution_count": null,
   "id": "30",
   "metadata": {},
   "outputs": [],
   "source": [
    "def plot_ssp_femg(Z, x_shift = 0, color=arya.COLORS[2],  **kwargs):\n",
    "    m_c, times = vice.single_stellar_population(\"c\", Z=Z, mstar=1)\n",
    "    m_mg, times = vice.single_stellar_population(\"mg\", Z=Z, mstar=1)\n",
    "    m_fe, times = vice.single_stellar_population(\"fe\", Z=Z, mstar=1)\n",
    "\n",
    "    c_mg = gcem.abund_ratio_to_brak(np.array(m_c)/m_mg, \"C\", \"MG\")\n",
    "    mg_fe = gcem.abund_ratio_to_brak(np.array(m_mg)/m_fe, \"MG\", \"FE\")\n",
    "    plt.plot(mg_fe + x_shift, c_mg, color=color, **kwargs)\n"
   ]
  },
  {
   "cell_type": "code",
   "execution_count": null,
   "id": "31",
   "metadata": {},
   "outputs": [],
   "source": [
    "compare_caafe(model)"
   ]
  },
  {
   "cell_type": "code",
   "execution_count": null,
   "id": "32",
   "metadata": {},
   "outputs": [],
   "source": [
    "def compare_caafe_slice(model, c=-0.1, w=0.05, **kwargs):\n",
    "    df = surp.filter_metallicity(model, c=c, w=w)\n",
    "    scatter_caafe(df)\n",
    "    binned_caafe_slice(model, c0=c, w=w)\n",
    "    plot_eq_caafe(**kwargs)\n",
    "    sz_caafe(label=\"singlezone\", lw=2, color=\"k\")\n",
    "    plot_ssp_femg(Z=gcem.MH_to_Z(c))\n",
    "\n",
    "    plt.xlabel(\"[Mg/Fe]\")\n",
    "    plt.ylabel(\"[C/Mg]\")"
   ]
  },
  {
   "cell_type": "code",
   "execution_count": null,
   "id": "33",
   "metadata": {},
   "outputs": [],
   "source": [
    "compare_caafe_slice(model)"
   ]
  },
  {
   "cell_type": "code",
   "execution_count": null,
   "id": "34",
   "metadata": {},
   "outputs": [],
   "source": [
    "def compare(model, sfh=None, tau_star=2.1):\n",
    "    fig, axs = plt.subplots(1, 2, figsize=(7, 10/3), sharey=True, gridspec_kw={\"wspace\": 0}, dpi=250)\n",
    "\n",
    "    \n",
    "    plt.sca(axs[0])\n",
    "    compare_caah(model)\n",
    "    plt.xlim(-0.5, 0.5)\n",
    "    plt.ylim(-0.45, 0.15)\n",
    "    \n",
    "    \n",
    "    plt.sca(axs[1])\n",
    "    compare_caafe(model, sfh=sfh, tau_star=tau_star)\n",
    "    plt.xlim(-0.08, 0.45)\n"
   ]
  },
  {
   "cell_type": "code",
   "execution_count": null,
   "id": "35",
   "metadata": {},
   "outputs": [],
   "source": [
    "def compare_gas(model, sfh=None, tau_star=2.1):\n",
    "    fig, axs = plt.subplots(1, 2, figsize=(7, 10/3), sharey=True, gridspec_kw={\"wspace\": 0}, dpi=250)\n",
    "\n",
    "    \n",
    "    plt.sca(axs[0])\n",
    "    compare_cooh_gas(model)\n",
    "    plt.xlim(-0.5, 0.5)\n",
    "    plt.ylim(-0.45, 0.15)\n",
    "    \n",
    "    \n",
    "    plt.sca(axs[1])\n",
    "    compare_coofe_gas(model, sfh=sfh, tau_star=tau_star)\n",
    "    plt.xlim(-0.08, 0.45)\n"
   ]
  },
  {
   "cell_type": "code",
   "execution_count": null,
   "id": "36",
   "metadata": {},
   "outputs": [],
   "source": [
    "compare(model)\n",
    "\n",
    "plt.savefig(\"figures/subgiants_equilibrium_reproduced.pdf\")"
   ]
  },
  {
   "cell_type": "markdown",
   "id": "37",
   "metadata": {
    "tags": []
   },
   "source": [
    "# Actual comparisons"
   ]
  },
  {
   "cell_type": "code",
   "execution_count": null,
   "id": "38",
   "metadata": {},
   "outputs": [],
   "source": [
    "h = load_gas_model(\"fiducial/run\")\n",
    "\n",
    "compare_gas(h)"
   ]
  },
  {
   "cell_type": "code",
   "execution_count": null,
   "id": "39",
   "metadata": {},
   "outputs": [],
   "source": [
    "model = load_model(\"fruity/fz_0\")\n",
    "\n",
    "compare(model)"
   ]
  },
  {
   "cell_type": "code",
   "execution_count": null,
   "id": "40",
   "metadata": {},
   "outputs": [],
   "source": [
    "model = load_model(\"fiducial/eta2\")\n",
    "compare(model)"
   ]
  },
  {
   "cell_type": "code",
   "execution_count": null,
   "id": "41",
   "metadata": {},
   "outputs": [],
   "source": [
    "h = load_gas_model(\"fiducial/eta2\")\n",
    "\n",
    "compare_gas(h)"
   ]
  },
  {
   "cell_type": "markdown",
   "id": "42",
   "metadata": {},
   "source": [
    "## twoinfall"
   ]
  },
  {
   "cell_type": "code",
   "execution_count": null,
   "id": "43",
   "metadata": {},
   "outputs": [],
   "source": [
    "params = surp.MWParams.from_file(\"../models/fiducial/twoinfall_liam/params.toml\")"
   ]
  },
  {
   "cell_type": "code",
   "execution_count": null,
   "id": "44",
   "metadata": {},
   "outputs": [],
   "source": [
    "sfh = surp.simulation.star_formation_history.create_sfh_model(8, params)"
   ]
  },
  {
   "cell_type": "code",
   "execution_count": null,
   "id": "45",
   "metadata": {},
   "outputs": [],
   "source": [
    "tau_star = 2.1"
   ]
  },
  {
   "cell_type": "code",
   "execution_count": null,
   "id": "46",
   "metadata": {},
   "outputs": [],
   "source": [
    "model = load_model('fiducial/twoinfall_liam')\n",
    "compare(model, sfh=sfh, tau_star = tau_star)"
   ]
  },
  {
   "cell_type": "code",
   "execution_count": null,
   "id": "47",
   "metadata": {},
   "outputs": [],
   "source": [
    "h = load_gas_model(\"fiducial/twoinfall\")\n",
    "\n",
    "compare_gas(h, sfh=sfh, tau_star =tau_star)"
   ]
  },
  {
   "cell_type": "markdown",
   "id": "48",
   "metadata": {},
   "source": [
    "## Al"
   ]
  },
  {
   "cell_type": "code",
   "execution_count": null,
   "id": "49",
   "metadata": {},
   "outputs": [],
   "source": [
    "df = surp.filter_metallicity(model, c=-0.1, w=0.025)\n",
    "plt.scatter(df.MG_FE, df.C_MG, s=0.3, alpha=0.3, label=\"model stars\")\n",
    "arya.medianplot(df, \"MG_FE\", \"C_MG\", binsize=100, color=\"k\", label=\"median bins\")\n",
    "sz_caafe(color=arya.COLORS[2], lw=2, tau_star=2, tau_sfh=15, label=\"singlezone\")\n",
    "plt.xlabel(\"[Mg/Fe]\")\n",
    "plt.ylabel(\"[C/Mg]\")\n",
    "plt.title(\"fiducial metallicity filter\")\n",
    "\n",
    "plot_ssp_femg(gcem.MH_to_Z(-0.1), color=arya.COLORS[3], label=\"SSP (shifted by -0.05 dex in [Mg/Fe])\", x_shift=-0.05)\n",
    "\n",
    "plt.ylim(-0.4, 0)\n",
    "arya.Legend(-1)"
   ]
  },
  {
   "cell_type": "code",
   "execution_count": null,
   "id": "50",
   "metadata": {},
   "outputs": [],
   "source": [
    "df = model\n",
    "plt.scatter(df.MG_FE, df.C_MG, s=0.3, alpha=0.3, label=\"model stars\")\n",
    "arya.medianplot(df, \"MG_FE\", \"C_MG\", binsize=300, color=\"k\", label=\"median bins\")\n",
    "sz_caafe(color=arya.COLORS[2], lw=2, tau_star=2, tau_sfh=15, label=\"singlezone\")\n",
    "plt.xlabel(\"[Mg/Fe]\")\n",
    "plt.ylabel(\"[C/Mg]\")\n",
    "plt.title(\"no metallicity filter\")\n",
    "\n",
    "arya.Legend(-1)"
   ]
  },
  {
   "cell_type": "code",
   "execution_count": null,
   "id": "51",
   "metadata": {},
   "outputs": [],
   "source": [
    "model = load_model(\"../models/C11_f0.2_Quadratic/\")"
   ]
  },
  {
   "cell_type": "code",
   "execution_count": null,
   "id": "52",
   "metadata": {},
   "outputs": [],
   "source": [
    "for c in [-0.3, -0.1, 0.1, 0.2]:\n",
    "    df = surp.filter_metallicity(model, c=c, w=0.05)\n",
    "    plt.scatter(df.MG_FE, df.C_MG, s=0.3, alpha=0.3, label=\"model stars\")\n",
    "    arya.medianplot(df, \"MG_FE\", \"C_MG\", binsize=200, color=\"k\", label=\"median bins\")\n",
    "    sz_caafe(color=arya.COLORS[2], lw=2, tau_star=2, tau_sfh=15, label=\"singlezone\")\n",
    "    plt.xlabel(\"[Mg/Fe]\")\n",
    "    plt.ylabel(\"[C/Mg]\")\n",
    "    plt.title(\"fiducial metallicity filter\")\n",
    "    plot_ssp_femg(gcem.MH_to_Z(c), color=arya.COLORS[3], label=\"SSP (shifted by -0.05 dex in [Mg/Fe])\", x_shift=-0.05)\n",
    "    arya.Legend(-1)\n",
    "\n",
    "    plt.ylim(-0.5, 0)\n",
    "    plt.show()\n"
   ]
  },
  {
   "cell_type": "code",
   "execution_count": null,
   "id": "53",
   "metadata": {},
   "outputs": [],
   "source": [
    "df = model\n",
    "plt.scatter(df.MG_FE, df.C_MG, s=0.3, alpha=0.3, label=\"model stars\")\n",
    "arya.medianplot(df, \"MG_FE\", \"C_MG\", binsize=300, color=\"k\", label=\"median bins\")\n",
    "sz_caafe(color=arya.COLORS[2], lw=2, tau_star=2, tau_sfh=15, label=\"singlezone\")\n",
    "plt.xlabel(\"[Mg/Fe]\")\n",
    "plt.ylabel(\"[C/Mg]\")\n",
    "plt.title(\"no metallicity filter\")\n",
    "\n",
    "arya.Legend(-1)"
   ]
  },
  {
   "cell_type": "code",
   "execution_count": null,
   "id": "54",
   "metadata": {},
   "outputs": [],
   "source": [
    "compare_caafe(model)"
   ]
  },
  {
   "cell_type": "code",
   "execution_count": null,
   "id": "55",
   "metadata": {},
   "outputs": [],
   "source": [
    "compare(\"C11_piecelin\")"
   ]
  },
  {
   "cell_type": "code",
   "execution_count": null,
   "id": "56",
   "metadata": {},
   "outputs": [],
   "source": [
    "compare(\"C11_oob\")"
   ]
  },
  {
   "cell_type": "code",
   "execution_count": null,
   "id": "57",
   "metadata": {},
   "outputs": [],
   "source": [
    "compare(\"K16_oob\")"
   ]
  },
  {
   "cell_type": "code",
   "execution_count": null,
   "id": "58",
   "metadata": {},
   "outputs": [],
   "source": [
    "compare(\"V13_oob\")"
   ]
  },
  {
   "cell_type": "code",
   "execution_count": null,
   "id": "59",
   "metadata": {},
   "outputs": [],
   "source": [
    "compare(\"P16_oob\")"
   ]
  },
  {
   "cell_type": "code",
   "execution_count": null,
   "id": "60",
   "metadata": {},
   "outputs": [],
   "source": [
    "compare(\"A_f0.2_zeta_agb-0.02_t_d0.3_tau_agb0.3\")"
   ]
  },
  {
   "cell_type": "code",
   "execution_count": null,
   "id": "61",
   "metadata": {},
   "outputs": [],
   "source": [
    "fiducial = surp.ViceModel.from_saved(\"../models/C11_f0.2/model.json\")"
   ]
  },
  {
   "cell_type": "code",
   "execution_count": null,
   "id": "62",
   "metadata": {},
   "outputs": [],
   "source": [
    "hm = arya.figure.colorbar.HueMap((-0.3, 0.3))\n",
    "\n",
    "for c in np.linspace(-0.3, 0.3, 6):\n",
    "    df = surp.filter_metallicity(surp.subgiants,w=0.05,c=c)\n",
    "    arya.medianplot(df, \"MG_FE\", \"C_MG\", numbins=20, color=hm(c), errorbar=None)\n",
    "\n",
    "plt.colorbar(label=\"[Mg/H]\")\n",
    "plt.xlabel(\"[Mg/Fe]\")\n",
    "plt.ylabel(\"[C/Mg]\")\n",
    "plt.title(\"Binned APOGEE trends\")"
   ]
  },
  {
   "cell_type": "markdown",
   "id": "63",
   "metadata": {
    "jp-MarkdownHeadingCollapsed": true,
    "tags": []
   },
   "source": [
    "# Gas phase equilibrium"
   ]
  },
  {
   "cell_type": "code",
   "execution_count": null,
   "id": "64",
   "metadata": {},
   "outputs": [],
   "source": [
    "def plot_gas_eq(name):\n",
    "    model = surp.ViceModel.from_file(f\"../models/{name}/model.json\")\n",
    "    surp.set_yields(surp.YieldParams.from_file(f\"../models/{name}/yield_params.json\"))\n",
    "    \n",
    "    h = model.history\n",
    "    h = h[h.time == np.max(h.time)]\n",
    "    \n",
    "    plt.plot(h.R, h[\"C_MG\"], label=\"present day ISM\")\n",
    "    x = h.O_H\n",
    "    y = calc_eq_caah(x)\n",
    "    plt.plot(h.R, y, label=\"equilibrium\")\n",
    "    \n",
    "    plt.xlim(2, 14)\n",
    "    plt.ylim(-0.3, 0.1)\n",
    "    plt.xlabel(\"Radius / kpc\")\n",
    "    plt.ylabel(\"[C/Mg]\")\n",
    "\n",
    "    arya.Legend(-1)"
   ]
  },
  {
   "cell_type": "code",
   "execution_count": null,
   "id": "65",
   "metadata": {},
   "outputs": [],
   "source": [
    "plot_gas_eq(\"C11_f0.2\")"
   ]
  },
  {
   "cell_type": "code",
   "execution_count": null,
   "id": "66",
   "metadata": {},
   "outputs": [],
   "source": [
    "plot_gas_eq(\"C11_f0.2_Quadratic\")"
   ]
  },
  {
   "cell_type": "code",
   "execution_count": null,
   "id": "67",
   "metadata": {},
   "outputs": [],
   "source": [
    "plot_gas_eq(\"C11_f0.0\")"
   ]
  },
  {
   "cell_type": "markdown",
   "id": "68",
   "metadata": {
    "tags": []
   },
   "source": [
    "# SSP"
   ]
  },
  {
   "cell_type": "code",
   "execution_count": null,
   "id": "69",
   "metadata": {},
   "outputs": [],
   "source": [
    "def compare_ssp_caafe(name):\n",
    "    model = load_model(name)\n",
    "\n",
    "    MH=-0.1\n",
    "    df = surp.filter_metallicity(model, c=MH)\n",
    "    plt.scatter(df.MG_FE_true, df.C_MG_true, s=0.1, alpha=1, vmin=-0.5)\n",
    "    for dMH in [ -0.15, -0.1, -0.05, 0, 0.05]:\n",
    "        plot_ssp_femg(Z=gcem.MH_to_Z(MH - dMH), color=arya.COLORS[1], lw=1)\n",
    "\n",
    "    plt.xlabel(\"[Mg/Fe]\")\n",
    "    plt.ylabel(\"[C/Mg]\")"
   ]
  },
  {
   "cell_type": "code",
   "execution_count": null,
   "id": "70",
   "metadata": {},
   "outputs": [],
   "source": [
    "compare_ssp_caafe(\"C11_f0.2\")"
   ]
  },
  {
   "cell_type": "code",
   "execution_count": null,
   "id": "71",
   "metadata": {},
   "outputs": [],
   "source": [
    "compare_ssp_caafe(\"K16_f0.2\")"
   ]
  },
  {
   "cell_type": "code",
   "execution_count": null,
   "id": "72",
   "metadata": {},
   "outputs": [],
   "source": [
    "compare_ssp_caafe(\"V13_f0.2\")"
   ]
  },
  {
   "cell_type": "code",
   "execution_count": null,
   "id": "73",
   "metadata": {},
   "outputs": [],
   "source": [
    "compare_ssp_caafe(\"P16_f0.2\")"
   ]
  },
  {
   "cell_type": "code",
   "execution_count": null,
   "id": "74",
   "metadata": {},
   "outputs": [],
   "source": [
    "compare_ssp_caafe(\"A_f0.2_zeta_agb-0.02_t_d0.3_tau_agb0.3\")"
   ]
  },
  {
   "cell_type": "code",
   "execution_count": null,
   "id": "75",
   "metadata": {},
   "outputs": [],
   "source": [
    "compare_ssp_caafe(\"A_f0.2_zeta_agb0.0_t_d0.15_tau_agb0.3\")"
   ]
  },
  {
   "cell_type": "markdown",
   "id": "76",
   "metadata": {
    "tags": []
   },
   "source": [
    "# Singlezone"
   ]
  },
  {
   "cell_type": "code",
   "execution_count": null,
   "id": "77",
   "metadata": {},
   "outputs": [],
   "source": [
    "import astropy.units as u"
   ]
  },
  {
   "cell_type": "code",
   "execution_count": null,
   "id": "78",
   "metadata": {},
   "outputs": [],
   "source": [
    "sz, h = run_singlezone(dt=0.003)"
   ]
  },
  {
   "cell_type": "code",
   "execution_count": null,
   "id": "79",
   "metadata": {},
   "outputs": [],
   "source": [
    "ele = \"c\"\n",
    "\n",
    "y_c = vice.yields.ccsne.settings[ele]\n",
    "if isinstance(y_c, float):\n",
    "    y_cc = lambda x: y_c\n",
    "else:\n",
    "    y_cc = y_c\n",
    "Mc = h[f\"mass({ele})\"].values * u.Msun\n",
    "time = h.time.values * u.Gyr\n",
    "time = time.to(\"yr\")\n",
    "\n",
    "r =h[\"r_eff\"]\n",
    "eta = h[\"eta_0\"]\n",
    "r = 0.4\n",
    "denom =  (1 + eta - r).values\n",
    "sfr = h.sfr.values * u.Msun / u.year\n",
    "Zc = h[f\"z({ele})\"].values\n",
    "\n",
    "dM_dep = -sfr * Zc * denom \n",
    "y_cc_t = [y_cc(z) for z in h[\"z\"]]\n",
    "dM_cc = sfr * y_cc_t\n",
    "dM_c = np.gradient(Mc, time)\n",
    "\n",
    "\n",
    "dM_agb = dM_c - dM_cc - dM_dep\n",
    "\n",
    "f_agb = dM_agb / (dM_agb + dM_cc)\n"
   ]
  },
  {
   "cell_type": "code",
   "execution_count": null,
   "id": "80",
   "metadata": {},
   "outputs": [],
   "source": [
    "dt = np.gradient(time)\n",
    "M_agb = np.sum(dM_agb * dt)\n",
    "M_cc = np.sum(dM_cc * dt)"
   ]
  },
  {
   "cell_type": "code",
   "execution_count": null,
   "id": "81",
   "metadata": {},
   "outputs": [],
   "source": [
    "f_tot = M_agb / (M_agb + M_cc)"
   ]
  },
  {
   "cell_type": "code",
   "execution_count": null,
   "id": "82",
   "metadata": {},
   "outputs": [],
   "source": [
    "plt.plot(Mc, (np.cumsum(dM_c * np.gradient(time)) - Mc) / Mc)"
   ]
  },
  {
   "cell_type": "code",
   "execution_count": null,
   "id": "83",
   "metadata": {},
   "outputs": [],
   "source": [
    "plt.plot(time, dM_c, \"k-\", lw=2, label=\"total\")\n",
    "plt.plot(time, dM_cc, label=\"cc\")\n",
    "plt.plot(time, dM_dep, \"--\", label=\"depletion\")\n",
    "plt.plot(time, dM_agb, label=\"agb\")\n",
    "plt.xlabel(\"time [Gyr]\")\n",
    "plt.ylabel(r\"$\\dot{M}\\quad [\\rm M_\\odot / yr]$\")\n",
    "arya.Legend(-1)"
   ]
  },
  {
   "cell_type": "code",
   "execution_count": null,
   "id": "84",
   "metadata": {},
   "outputs": [],
   "source": [
    "tau_late = 3*u.Gyr\n",
    "a_fe = -h[\"[fe/o]\"]\n",
    "plt.plot(time/1e9, a_fe)\n",
    "idx = np.where(time > tau_late)[0][0]\n",
    "\n",
    "fe_half = a_fe[idx]\n",
    "plt.scatter(time[idx]/1e9, fe_half)\n",
    "print(fe_half)"
   ]
  },
  {
   "cell_type": "code",
   "execution_count": null,
   "id": "85",
   "metadata": {},
   "outputs": [],
   "source": [
    "plt.plot(time, f_agb)\n",
    "plt.axhline(f_tot)"
   ]
  },
  {
   "cell_type": "code",
   "execution_count": null,
   "id": "86",
   "metadata": {},
   "outputs": [],
   "source": [
    "plt.plot(time, Mc)"
   ]
  },
  {
   "cell_type": "code",
   "execution_count": null,
   "id": "87",
   "metadata": {},
   "outputs": [],
   "source": [
    "h = fiducial.history\n",
    "m_star = h[\"sfr\"]*1e9 # Msun/yr (default)\n",
    "denom = 1 + h[\"eta_0\"] - h[\"r_eff\"]\n",
    "Mc = h[\"mass(c)\"] # Msun\n",
    "\n",
    "Zc = Mc / h[\"mgas\"]\n",
    "dt = h.time.unique()[1] # Gyr\n",
    "\n",
    "smooth = 10\n",
    "Mc_dot = np.concatenate([np.zeros(smooth), \n",
    "                         Mc[smooth:] - np.array(Mc[:-smooth]),\n",
    "                        ]\n",
    "                       )/(smooth*dt)\n",
    "Z = h[\"z\"]\n",
    "\n",
    "y_cc = vice.yields.ccsne.settings[\"c\"]\n",
    "yc_cc = y_cc(Z)\n",
    "y_c = (Mc_dot + denom*Zc*m_star)/m_star\n",
    "y_c_agb = y_c - yc_cc\n",
    "f_agb = np.array(y_c_agb/y_c)\n",
    "\n",
    "X = np.reshape(f_agb, (200, -1))"
   ]
  },
  {
   "cell_type": "markdown",
   "id": "88",
   "metadata": {
    "tags": []
   },
   "source": [
    "## equilibrium corrections"
   ]
  },
  {
   "cell_type": "markdown",
   "id": "89",
   "metadata": {},
   "source": [
    "### CCSNe"
   ]
  },
  {
   "cell_type": "code",
   "execution_count": null,
   "id": "90",
   "metadata": {},
   "outputs": [],
   "source": [
    "vice.yields.ccsne.settings[\"fe\"] = 0.\n",
    "vice.yields.ccsne.settings[\"c\"] = 0.\n"
   ]
  },
  {
   "cell_type": "code",
   "execution_count": null,
   "id": "91",
   "metadata": {},
   "outputs": [],
   "source": [
    "sfh = surp.simulation.sfh_models.exp_sfh(tau_sfh=15)\n",
    "r = 0.4\n",
    "eta = 1.5"
   ]
  },
  {
   "cell_type": "code",
   "execution_count": null,
   "id": "92",
   "metadata": {},
   "outputs": [],
   "source": [
    "h = run_singlezone(sfh=sfh, eta=eta)[1]"
   ]
  },
  {
   "cell_type": "code",
   "execution_count": null,
   "id": "93",
   "metadata": {},
   "outputs": [],
   "source": [
    "plt.plot(h.time, h.sfr)\n",
    "plt.plot(h.time, sfh(h.time))"
   ]
  },
  {
   "cell_type": "code",
   "execution_count": null,
   "id": "94",
   "metadata": {},
   "outputs": [],
   "source": [
    "plt.plot(h.time, np.cumsum(h.sfr * np.gradient(h.time) * (1 - h.r_eff)) * 1e9, label=\"calculated\")\n",
    "plt.plot(h.time, h.mstar, label=\"onezone\", ls=\"dashed\")\n",
    "plt.xlabel(\"time / gyr\")\n",
    "plt.ylabel(r\"Mstar from SFR + $r_{\\rm eff}$\")\n",
    "plt.legend()"
   ]
  },
  {
   "cell_type": "code",
   "execution_count": null,
   "id": "95",
   "metadata": {},
   "outputs": [],
   "source": [
    "def calc_Mdot_cc_new(h, idx, ele=\"mg\"):\n",
    "    Mdotstar = h.sfr.iloc[idx] * 1e9\n",
    "    y = vice.yields.ccsne.settings[ele]\n",
    "    if not isinstance(y, float):\n",
    "        y = y(h.z.iloc[idx])\n",
    "\n",
    "    return Mdotstar * y"
   ]
  },
  {
   "cell_type": "code",
   "execution_count": null,
   "id": "96",
   "metadata": {},
   "outputs": [],
   "source": [
    "def calc_Mdot_cc_new_ana(time, ele=\"mg\"):\n",
    "    y = vice.yields.ccsne.settings[ele]\n",
    "    if not isinstance(y, (float, int)):\n",
    "        y = y(h.z.iloc[idx])\n",
    "\n",
    "    return sfr(time) * 1e9 * y\n",
    "    "
   ]
  },
  {
   "cell_type": "code",
   "execution_count": null,
   "id": "97",
   "metadata": {},
   "outputs": [],
   "source": [
    "def calc_Mdot_ele_out(h, idx, ele=\"mg\"):\n",
    "    Mmg = h[f\"mass({ele})\"].iloc[idx]\n",
    "    Mdotstar = h.sfr.iloc[idx] * 1e9\n",
    "    Mg = h.mgas.iloc[idx]\n",
    "    Zmg = Mmg / Mg\n",
    "\n",
    "    eta = h.eta_0.iloc[idx]\n",
    "    r = 0.4 # h.r_eff.iloc[idx]\n",
    "    return Mdotstar * Zmg * ( 1 + eta - r)"
   ]
  },
  {
   "cell_type": "code",
   "execution_count": null,
   "id": "98",
   "metadata": {},
   "outputs": [],
   "source": [
    "Mdot_Mg_real = np.gradient(h[\"mass(mg)\"], h.time, )"
   ]
  },
  {
   "cell_type": "code",
   "execution_count": null,
   "id": "99",
   "metadata": {},
   "outputs": [],
   "source": [
    "Mdot_mg_calc = [calc_Mdot_cc_new(h, i) - calc_Mdot_ele_out(h, i, \"mg\") for i in range(len(h))]"
   ]
  },
  {
   "cell_type": "code",
   "execution_count": null,
   "id": "100",
   "metadata": {},
   "outputs": [],
   "source": [
    "plt.plot(h.time, h.r_eff)"
   ]
  },
  {
   "cell_type": "code",
   "execution_count": null,
   "id": "101",
   "metadata": {},
   "outputs": [],
   "source": [
    "plt.plot(h.time, Mdot_Mg_real)\n",
    "plt.plot(h.time, Mdot_mg_calc)"
   ]
  },
  {
   "cell_type": "code",
   "execution_count": null,
   "id": "102",
   "metadata": {},
   "outputs": [],
   "source": [
    "plt.plot(h.time, h[\"z(mg)\"], label=\"vice\")\n",
    "plt.plot(h.time, np.cumsum(Mdot_mg_calc * np.gradient(h.time)) / h[\"mgas\"], label=\"calculated\")\n",
    "plt.xlabel(\"time / gyr\")\n",
    "plt.ylabel(\"Z(Mg)\")\n",
    "plt.legend()"
   ]
  },
  {
   "cell_type": "markdown",
   "id": "103",
   "metadata": {},
   "source": [
    "### the snefe correction"
   ]
  },
  {
   "cell_type": "code",
   "execution_count": null,
   "id": "104",
   "metadata": {},
   "outputs": [],
   "source": [
    "def R_ia_unnorm(t):\n",
    "    return np.where(t < 0.150, 0, t**-1.1)\n",
    "\n",
    "tprime = np.linspace(0.001, 15, 10000)\n",
    "\n",
    "denom = np.sum(R_ia_unnorm(tprime) * np.gradient(tprime))\n",
    "\n",
    "\n",
    "def R_ia(t):\n",
    "    return R_ia_unnorm(t) / denom\n"
   ]
  },
  {
   "cell_type": "code",
   "execution_count": null,
   "id": "105",
   "metadata": {},
   "outputs": [],
   "source": [
    "def calc_nu_fe(h, idx):\n",
    "    \"Returns the current rate of Fe injection at the given time for a singlezone-like history\"\n",
    "    if idx < 3:\n",
    "        return 0\n",
    "        \n",
    "    Mdotstar = h.sfr.values[:idx] * 1e9\n",
    "    tprime = h.time.values[:idx]\n",
    "    time = tprime[-1]\n",
    "\n",
    "    dt = np.gradient(tprime)\n",
    "\n",
    "    num = np.sum(Mdotstar * R_ia(time - tprime) * dt)\n",
    "\n",
    "    return num / Mdotstar[-1]"
   ]
  },
  {
   "cell_type": "code",
   "execution_count": null,
   "id": "106",
   "metadata": {},
   "outputs": [],
   "source": [
    "mdot_fe_real = np.gradient(h[\"mass(fe)\"], h.time)"
   ]
  },
  {
   "cell_type": "code",
   "execution_count": null,
   "id": "107",
   "metadata": {},
   "outputs": [],
   "source": [
    "nu_fe = np.array([calc_nu_fe(h, i) for i in range(len(h))])"
   ]
  },
  {
   "cell_type": "code",
   "execution_count": null,
   "id": "108",
   "metadata": {},
   "outputs": [],
   "source": [
    "y_fe = vice.yields.sneia.settings[\"fe\"]\n"
   ]
  },
  {
   "cell_type": "code",
   "execution_count": null,
   "id": "109",
   "metadata": {},
   "outputs": [],
   "source": [
    "mdot_fe = [(calc_Mdot_cc_new(h, i, \"fe\") + nu_fe * y_fe * h.sfr.values*1e9)[i] - calc_Mdot_ele_out(h, i, \"fe\") for i in range(len(h))]\n",
    "mdot_fe = np.array(mdot_fe)"
   ]
  },
  {
   "cell_type": "code",
   "execution_count": null,
   "id": "110",
   "metadata": {},
   "outputs": [],
   "source": [
    "mdot_fe[np.isnan(mdot_fe)] = 0"
   ]
  },
  {
   "cell_type": "code",
   "execution_count": null,
   "id": "111",
   "metadata": {},
   "outputs": [],
   "source": [
    "m_fe = np.cumsum(mdot_fe * np.gradient(h.time.values))"
   ]
  },
  {
   "cell_type": "code",
   "execution_count": null,
   "id": "112",
   "metadata": {},
   "outputs": [],
   "source": [
    "plt.plot(h.time, h[\"mass(fe)\"], label=\"simulation\")\n",
    "plt.plot(h.time, m_fe, label=\"calculated\")\n",
    "plt.xlabel(\"time / Gyr\")\n",
    "plt.ylabel(\"Mass(Fe)\")\n",
    "plt.legend()"
   ]
  },
  {
   "cell_type": "code",
   "execution_count": null,
   "id": "113",
   "metadata": {},
   "outputs": [],
   "source": [
    "plt.plot(h.time, nu_fe)\n",
    "plt.xlabel(\"time / Gyr\")\n",
    "plt.ylabel(r\"$\\nu_{\\rm fe}^{\\rm Ia}$\")"
   ]
  },
  {
   "cell_type": "code",
   "execution_count": null,
   "id": "114",
   "metadata": {},
   "outputs": [],
   "source": [
    "Rs = np.unique(gh.R)"
   ]
  },
  {
   "cell_type": "code",
   "execution_count": null,
   "id": "115",
   "metadata": {},
   "outputs": [],
   "source": [
    "hs = [gh[np.isclose(gh.R, R)] for R in Rs]"
   ]
  },
  {
   "cell_type": "code",
   "execution_count": null,
   "id": "116",
   "metadata": {},
   "outputs": [],
   "source": [
    "calc_nu_fe(hs[2], len(hs[0]))"
   ]
  },
  {
   "cell_type": "code",
   "execution_count": null,
   "id": "117",
   "metadata": {},
   "outputs": [],
   "source": [
    "nu_fes = [calc_nu_fe(h, len(hs[0])) for h in hs]"
   ]
  },
  {
   "cell_type": "markdown",
   "id": "118",
   "metadata": {},
   "source": [
    "### the agb correction"
   ]
  },
  {
   "cell_type": "code",
   "execution_count": null,
   "id": "119",
   "metadata": {},
   "outputs": [],
   "source": [
    "@np.vectorize\n",
    "def m_agb(t):\n",
    "    return vice.mlr.larson1974(t, which=\"age\")\n",
    "    \n",
    "@np.vectorize\n",
    "def m_dot_agb(t, h=0.01):\n",
    "    return (-m_agb(t) + m_agb(t+h)) / h \n",
    "\n",
    "\n",
    "@np.vectorize\n",
    "def imf(m):\n",
    "    return vice.imf.kroupa(m)\n",
    "\n"
   ]
  },
  {
   "cell_type": "code",
   "execution_count": null,
   "id": "120",
   "metadata": {},
   "outputs": [],
   "source": [
    "m = np.linspace(0.08, 100, 10000)\n",
    "dm = np.gradient(m)\n",
    "h_norm = np.sum(m * imf(m) * dm)\n",
    "\n",
    "def calc_hdot_agb(t):\n",
    "    return -m_agb(t) * m_dot_agb(t) * imf(m_agb(t)) / h_norm"
   ]
  },
  {
   "cell_type": "code",
   "execution_count": null,
   "id": "121",
   "metadata": {},
   "outputs": [],
   "source": [
    "def calc_mdot_agb(h, idx):\n",
    "    \"Returns the current rate of Fe injection at the given time for a singlezone-like history\"\n",
    "    if idx < 3:\n",
    "        return 0\n",
    "        \n",
    "    Mdotstar = h.sfr.values[:(idx-1)] * 1e9\n",
    "    tprime = h.time.values[:(idx-1)]\n",
    "    time = h.time.values[idx]\n",
    "\n",
    "    dt = np.gradient(tprime)\n",
    "\n",
    "    y = vice.yields.agb.settings[\"c\"]\n",
    "    Z = h.z.values[:idx-1]\n",
    "\n",
    "    m = m_agb(time-tprime)\n",
    "    yc = np.array([y(mm, ZZ) for mm, ZZ in zip(m, Z)])\n",
    "\n",
    "    hdot = calc_hdot_agb(time - tprime) \n",
    "\n",
    "    return np.sum( yc * Mdotstar * hdot * dt)\n",
    "\n"
   ]
  },
  {
   "cell_type": "code",
   "execution_count": null,
   "id": "122",
   "metadata": {},
   "outputs": [],
   "source": [
    "def calc_nu_c(h, idx):\n",
    "    y0 = surp.yields.calc_y(h.z.values[idx])\n",
    "\n",
    "    sfr = h.sfr.values[idx]*1e9\n",
    "\n",
    "    return  calc_mdot_agb(h, idx) / y0 / sfr"
   ]
  },
  {
   "cell_type": "code",
   "execution_count": null,
   "id": "123",
   "metadata": {},
   "outputs": [],
   "source": [
    "calc_mdot_agb(h, len(h) - 1)"
   ]
  },
  {
   "cell_type": "code",
   "execution_count": null,
   "id": "124",
   "metadata": {},
   "outputs": [],
   "source": [
    "idx_c_max = len(h)\n",
    "\n",
    "mdot_c_agb = [calc_mdot_agb(h, i) for i in range(0, idx_c_max)]"
   ]
  },
  {
   "cell_type": "code",
   "execution_count": null,
   "id": "125",
   "metadata": {},
   "outputs": [],
   "source": [
    "mdot_c = [calc_Mdot_cc_new(h, i, \"c\") + mdot_c_agb[i] - calc_Mdot_ele_out(h, i, \"c\") for i in range(0, idx_c_max)]\n"
   ]
  },
  {
   "cell_type": "code",
   "execution_count": null,
   "id": "126",
   "metadata": {},
   "outputs": [],
   "source": [
    "plt.plot(h.time, h[\"mass(c)\"], label=\"onezone\")\n",
    "plt.plot(h.time.iloc[:idx_c_max], np.cumsum(mdot_c * np.gradient(h.time.iloc[:idx_c_max])), label=\"calculated\")\n",
    "plt.xlabel(\"time / gyr\")\n",
    "plt.ylabel(\"Mdot(c)\")\n",
    "plt.legend()"
   ]
  },
  {
   "cell_type": "code",
   "execution_count": null,
   "id": "127",
   "metadata": {},
   "outputs": [],
   "source": [
    "plt.plot(h.time.iloc[:idx_c_max], mdot_c_agb / h.sfr.iloc[:idx_c_max] / 1e9 / [surp.yields.calc_y(z) for z in h.z.values[:idx_c_max]], label=\"calculated\")\n",
    "plt.xlabel(\"time / gyr\")\n",
    "plt.ylabel(r\"$\\nu_{\\rm C}^{\\rm AGB}$\")\n"
   ]
  },
  {
   "cell_type": "markdown",
   "id": "128",
   "metadata": {},
   "source": [
    "## As applied to full model"
   ]
  },
  {
   "cell_type": "code",
   "execution_count": null,
   "id": "129",
   "metadata": {},
   "outputs": [],
   "source": [
    "calc_nu_c(hs[0], len(hs[0])-1)"
   ]
  },
  {
   "cell_type": "code",
   "execution_count": null,
   "id": "130",
   "metadata": {},
   "outputs": [],
   "source": [
    "nu_cs = [calc_nu_c(h, len(hs[0])-1) for h in hs]"
   ]
  },
  {
   "cell_type": "code",
   "execution_count": null,
   "id": "131",
   "metadata": {},
   "outputs": [],
   "source": [
    "plt.plot(Rs, nu_fes, label=\"Fe\")\n",
    "plt.plot(Rs, nu_cs, label=\"C\")\n",
    "plt.xlabel(\"R gal / kpc\")\n",
    "plt.ylabel(\"equilibrium correction\")\n",
    "plt.ylim(1, 2)\n",
    "plt.legend()"
   ]
  },
  {
   "cell_type": "code",
   "execution_count": null,
   "id": "132",
   "metadata": {},
   "outputs": [],
   "source": [
    "h0 = gh[gh.time == np.max(gh.time)]"
   ]
  },
  {
   "cell_type": "code",
   "execution_count": null,
   "id": "133",
   "metadata": {},
   "outputs": [],
   "source": [
    "h1 = gh[gh.time == np.unique(gh.time)[-2]]"
   ]
  },
  {
   "cell_type": "code",
   "execution_count": null,
   "id": "134",
   "metadata": {},
   "outputs": [],
   "source": [
    "plt.scatter(h0.R, h0.mgas / h0.sfr / 1e9)"
   ]
  },
  {
   "cell_type": "code",
   "execution_count": null,
   "id": "135",
   "metadata": {},
   "outputs": [],
   "source": [
    "plt.scatter(h0.R, h0.eta_0)"
   ]
  },
  {
   "cell_type": "code",
   "execution_count": null,
   "id": "136",
   "metadata": {},
   "outputs": [],
   "source": [
    "tau_sfh = -1 / (\n",
    "    (h0.sfr.values - h1.sfr.values) / h0.sfr.values / (h0.time.values-h1.time.values))"
   ]
  },
  {
   "cell_type": "code",
   "execution_count": null,
   "id": "137",
   "metadata": {},
   "outputs": [],
   "source": [
    "plt.scatter(h0.R,tau_sfh)"
   ]
  },
  {
   "cell_type": "code",
   "execution_count": null,
   "id": "138",
   "metadata": {},
   "outputs": [],
   "source": [
    "tau_star=2\n",
    "plt.scatter(h0.R, h0.z, label=\"gas phase\")\n",
    "plt.scatter(h0.R, 0.016/(1 + h0.eta_0 - r - tau_star/tau_sfh), s=1, label=\"Z eq\")\n",
    "plt.ylim(0, 0.1)\n",
    "plt.xlim(0, 15.5)\n",
    "plt.xlabel(\"R / kpc\")\n",
    "plt.ylabel(\"Z\")\n",
    "plt.legend()"
   ]
  },
  {
   "cell_type": "code",
   "execution_count": null,
   "id": "139",
   "metadata": {},
   "outputs": [],
   "source": [
    "plt.scatter(h0.R, h0.r_eff)\n",
    "plt.ylim(0, 1)\n",
    "plt.axhline(r)\n",
    "plt.xlabel(\"R / kpc\")\n",
    "plt.ylabel(\"r_eff\")"
   ]
  }
 ],
 "metadata": {
  "kernelspec": {
   "display_name": "Python 3 (ipykernel)",
   "language": "python",
   "name": "python3"
  },
  "language_info": {
   "codemirror_mode": {
    "name": "ipython",
    "version": 3
   },
   "file_extension": ".py",
   "mimetype": "text/x-python",
   "name": "python",
   "nbconvert_exporter": "python",
   "pygments_lexer": "ipython3",
   "version": "3.11.9"
  }
 },
 "nbformat": 4,
 "nbformat_minor": 5
}
