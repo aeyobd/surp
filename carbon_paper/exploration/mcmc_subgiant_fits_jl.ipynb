{
 "cells": [
  {
   "cell_type": "code",
   "execution_count": null,
   "id": "0",
   "metadata": {},
   "outputs": [],
   "source": [
    "using CairoMakie\n",
    "using Turing\n",
    "using CSV, DataFrames"
   ]
  },
  {
   "cell_type": "code",
   "execution_count": null,
   "id": "1",
   "metadata": {},
   "outputs": [],
   "source": [
    "using PairPlots"
   ]
  },
  {
   "cell_type": "code",
   "execution_count": null,
   "id": "2",
   "metadata": {},
   "outputs": [],
   "source": [
    "subgiants = CSV.read(\"../data/subgiants.csv\", DataFrame)"
   ]
  },
  {
   "cell_type": "code",
   "execution_count": null,
   "id": "3",
   "metadata": {},
   "outputs": [],
   "source": [
    "using FillArrays"
   ]
  },
  {
   "cell_type": "code",
   "execution_count": null,
   "id": "4",
   "metadata": {},
   "outputs": [],
   "source": [
    "FillArrays.I"
   ]
  },
  {
   "cell_type": "code",
   "execution_count": null,
   "id": "5",
   "metadata": {},
   "outputs": [],
   "source": [
    "idx = subgiants.MG_H .> -1\n",
    "idx .&= .!subgiants.high_alpha\n",
    "\n",
    "x = subgiants.MG_H[idx]\n",
    "y = subgiants.C_MG[idx];\n",
    "x_e = subgiants.MG_H_ERR[idx];\n",
    "y_e = subgiants.C_MG_ERR[idx];"
   ]
  },
  {
   "cell_type": "code",
   "execution_count": null,
   "id": "6",
   "metadata": {},
   "outputs": [],
   "source": [
    "sum(idx), sum(.! idx)"
   ]
  },
  {
   "cell_type": "code",
   "execution_count": null,
   "id": "7",
   "metadata": {},
   "outputs": [],
   "source": [
    "scatter(x, y)"
   ]
  },
  {
   "cell_type": "markdown",
   "id": "8",
   "metadata": {},
   "source": [
    "# Linear Model"
   ]
  },
  {
   "cell_type": "code",
   "execution_count": null,
   "id": "9",
   "metadata": {},
   "outputs": [],
   "source": [
    "@model function linear_regression(x, y, x_e, y_e)\n",
    "    log_σ ~ Normal(-2, 0.8)\n",
    "    a ~ Normal(0, 0.4)\n",
    "    b ~ Normal(0, 0.5)\n",
    "\n",
    "    mu = a .+ x*b\n",
    "\n",
    "    s_int = exp(2log_σ)\n",
    "    s_x = b .* x_e\n",
    "    s_y = y_e\n",
    "\n",
    "    σ = @. sqrt(s_int^2 + s_x^2 + s_y^2)\n",
    "    return y ~ MvNormal(mu, σ)\n",
    "\n",
    "end"
   ]
  },
  {
   "cell_type": "code",
   "execution_count": null,
   "id": "10",
   "metadata": {},
   "outputs": [],
   "source": [
    "function plot_samples!(samples, x;\n",
    "        thin=10, color=:black, alpha=nothing, kwargs...)\n",
    "\n",
    "    alpha = 1/size(samples, 1)^(1/3)\n",
    "\n",
    "    for sample in eachrow(samples)[1:thin:end]\n",
    "        y = @. sample.a + sample.b * x\n",
    "        lines!(x, y, color=color, alpha=alpha)\n",
    "    end\n",
    "end"
   ]
  },
  {
   "cell_type": "code",
   "execution_count": null,
   "id": "11",
   "metadata": {},
   "outputs": [],
   "source": [
    "model = linear_regression(x, y, x_e, y_e)"
   ]
  },
  {
   "cell_type": "code",
   "execution_count": null,
   "id": "12",
   "metadata": {},
   "outputs": [],
   "source": [
    "chain = sample(model, NUTS(), 5_000)"
   ]
  },
  {
   "cell_type": "code",
   "execution_count": null,
   "id": "13",
   "metadata": {},
   "outputs": [],
   "source": [
    "samples = DataFrame(chain)"
   ]
  },
  {
   "cell_type": "code",
   "execution_count": null,
   "id": "14",
   "metadata": {},
   "outputs": [],
   "source": [
    "pairplot(chain)"
   ]
  },
  {
   "cell_type": "code",
   "execution_count": null,
   "id": "15",
   "metadata": {},
   "outputs": [],
   "source": [
    "fig = Figure()\n",
    "ax = Axis(fig[1, 1],\n",
    "    limits=(-0.5, 0.5, -0.6, 0.2)\n",
    ")\n",
    "scatter!(x, y, markersize=3, alpha=0.3)\n",
    "\n",
    "plot_samples!(samples, LinRange(-0.5, 0.5, 100))\n",
    "\n",
    "fig"
   ]
  },
  {
   "cell_type": "markdown",
   "id": "16",
   "metadata": {},
   "source": [
    "# Log - Lin models"
   ]
  },
  {
   "cell_type": "code",
   "execution_count": null,
   "id": "17",
   "metadata": {},
   "outputs": [],
   "source": [
    "\n",
    "x = 10 .^ subgiants.MG_H[idx]\n",
    "y = subgiants.C_MG[idx];\n",
    "x_e = x .* log(10) .* subgiants.MG_H_ERR[idx];\n",
    "y_e = subgiants.C_MG_ERR[idx];"
   ]
  },
  {
   "cell_type": "code",
   "execution_count": null,
   "id": "18",
   "metadata": {},
   "outputs": [],
   "source": [
    "function plot_data()\n",
    "    fig = Figure()\n",
    "    ax = Axis(fig[1, 1], xlabel=\"[Mg/H]\", ylabel=\"C/Mg\")\n",
    "\n",
    "    scatter!(x, y, markersize=3, alpha=0.3)\n",
    "\n",
    "    fig\n",
    "end"
   ]
  },
  {
   "cell_type": "code",
   "execution_count": null,
   "id": "19",
   "metadata": {},
   "outputs": [],
   "source": [
    "plot_data()"
   ]
  },
  {
   "cell_type": "markdown",
   "id": "20",
   "metadata": {},
   "source": [
    "## Linear model"
   ]
  },
  {
   "cell_type": "code",
   "execution_count": null,
   "id": "21",
   "metadata": {},
   "outputs": [],
   "source": [
    "@model function linear_regression(x, y, x_e, y_e)\n",
    "    log_σ ~ Normal(-2, 0.8)\n",
    "    a ~ Normal(0, 0.4)\n",
    "    b ~ Normal(0, 0.5)\n",
    "\n",
    "    mu = a .+ x*b\n",
    "\n",
    "    s_int = exp(2log_σ)\n",
    "    s_x = b .* x_e\n",
    "    s_y = y_e\n",
    "\n",
    "    σ = @. sqrt(s_int^2 + s_x^2 + s_y^2)\n",
    "    return y ~ MvNormal(mu, σ)\n",
    "\n",
    "end"
   ]
  },
  {
   "cell_type": "code",
   "execution_count": null,
   "id": "22",
   "metadata": {},
   "outputs": [],
   "source": [
    "model = linear_regression(x, y, x_e, y_e)"
   ]
  },
  {
   "cell_type": "code",
   "execution_count": null,
   "id": "23",
   "metadata": {},
   "outputs": [],
   "source": [
    "chain = sample(model, NUTS(), 5_000)"
   ]
  },
  {
   "cell_type": "code",
   "execution_count": null,
   "id": "24",
   "metadata": {},
   "outputs": [],
   "source": [
    "samples = DataFrame(chain);"
   ]
  },
  {
   "cell_type": "code",
   "execution_count": null,
   "id": "25",
   "metadata": {},
   "outputs": [],
   "source": [
    "pairplot(chain)"
   ]
  },
  {
   "cell_type": "code",
   "execution_count": null,
   "id": "26",
   "metadata": {},
   "outputs": [],
   "source": [
    "function plot_samples!(samples, x;\n",
    "        thin=10, color=:black, alpha=nothing, kwargs...)\n",
    "\n",
    "    alpha = 1/size(samples, 1)^(1/3)\n",
    "\n",
    "    for sample in eachrow(samples)[1:thin:end]\n",
    "        y = @. sample.a + sample.b * x\n",
    "        lines!(x, y, color=color, alpha=alpha)\n",
    "    end\n",
    "end"
   ]
  },
  {
   "cell_type": "code",
   "execution_count": null,
   "id": "27",
   "metadata": {},
   "outputs": [],
   "source": [
    "fig = plot_data()\n",
    "\n",
    "plot_samples!(samples, LinRange(0, 4, 100))\n",
    "\n",
    "fig"
   ]
  },
  {
   "cell_type": "markdown",
   "id": "28",
   "metadata": {},
   "source": [
    "## Exponential"
   ]
  },
  {
   "cell_type": "code",
   "execution_count": null,
   "id": "29",
   "metadata": {},
   "outputs": [],
   "source": [
    "@model function exp_regression(x, y, x_e, y_e)\n",
    "    log_σ ~ Normal(-2, 0.8)\n",
    "    a ~ Normal(0, 0.4)\n",
    "    b ~ Normal(0, 0.5)\n",
    "    tau ~ Exponential(6)\n",
    "\n",
    "    mu = @. a + b*exp(x/tau)\n",
    "    mu_p = @. b/tau * exp(x/tau)\n",
    "    \n",
    "    s_int = exp(2log_σ)\n",
    "    s_x = @. mu_p / mu * x_e\n",
    "    s_y = y_e\n",
    "\n",
    "    σ = @. sqrt(s_int^2 + s_x^2 + s_y^2)\n",
    "    return y ~ MvNormal(mu, σ)\n",
    "\n",
    "end"
   ]
  },
  {
   "cell_type": "code",
   "execution_count": null,
   "id": "30",
   "metadata": {},
   "outputs": [],
   "source": [
    "model = exp_regression(x[1:100], y[1:100], x_e[1:100], y_e[1:100])"
   ]
  },
  {
   "cell_type": "code",
   "execution_count": null,
   "id": "31",
   "metadata": {},
   "outputs": [],
   "source": [
    "chain = sample(model, NUTS(), 5_000)"
   ]
  },
  {
   "cell_type": "code",
   "execution_count": null,
   "id": "32",
   "metadata": {},
   "outputs": [],
   "source": [
    "samples = DataFrame(chain);"
   ]
  },
  {
   "cell_type": "code",
   "execution_count": null,
   "id": "33",
   "metadata": {},
   "outputs": [],
   "source": [
    "pairplot(chain)"
   ]
  },
  {
   "cell_type": "code",
   "execution_count": null,
   "id": "34",
   "metadata": {},
   "outputs": [],
   "source": [
    "function plot_samples!(samples, x;\n",
    "        thin=10, color=:black, alpha=nothing, kwargs...)\n",
    "\n",
    "    alpha = 1/size(samples, 1)^(1/3)\n",
    "\n",
    "    for sample in eachrow(samples)[1:thin:end]\n",
    "        y = @. sample.a + sample.b * exp(x / sample.tau)\n",
    "        lines!(x, y, color=color, alpha=alpha)\n",
    "    end\n",
    "end"
   ]
  },
  {
   "cell_type": "code",
   "execution_count": null,
   "id": "35",
   "metadata": {},
   "outputs": [],
   "source": [
    "fig = plot_data()\n",
    "\n",
    "plot_samples!(samples, LinRange(0, 4, 100))\n",
    "\n",
    "fig"
   ]
  },
  {
   "cell_type": "markdown",
   "id": "36",
   "metadata": {},
   "source": [
    "# Lin Lin Modelx"
   ]
  },
  {
   "cell_type": "code",
   "execution_count": null,
   "id": "37",
   "metadata": {},
   "outputs": [],
   "source": [
    "\n",
    "x = 10 .^ subgiants.MG_H[idx]\n",
    "y = 10 .^ subgiants.C_MG[idx];\n",
    "x_e = x .* log(10) .* subgiants.MG_H_ERR[idx];\n",
    "y_e = y .* log(10) .* subgiants.C_MG_ERR[idx];"
   ]
  },
  {
   "cell_type": "code",
   "execution_count": null,
   "id": "38",
   "metadata": {},
   "outputs": [],
   "source": [
    "function plot_data()\n",
    "    fig = Figure()\n",
    "    ax = Axis(fig[1, 1], xlabel=\"Mg\", ylabel=\"C/Mg\")\n",
    "\n",
    "    scatter!(x, y, markersize=3, alpha=0.3)\n",
    "\n",
    "    fig\n",
    "end"
   ]
  },
  {
   "cell_type": "code",
   "execution_count": null,
   "id": "39",
   "metadata": {},
   "outputs": [],
   "source": [
    "plot_data()"
   ]
  },
  {
   "cell_type": "markdown",
   "id": "40",
   "metadata": {
    "jp-MarkdownHeadingCollapsed": true
   },
   "source": [
    "## Linear"
   ]
  },
  {
   "cell_type": "code",
   "execution_count": null,
   "id": "41",
   "metadata": {},
   "outputs": [],
   "source": [
    "@model function linear_regression(x, y, x_e, y_e)\n",
    "    log_σ ~ Normal(-2, 0.8)\n",
    "    a ~ Normal(0, 0.4)\n",
    "    b ~ Normal(0, 0.5)\n",
    "\n",
    "    mu = a .+ x*b\n",
    "\n",
    "    s_int = exp(2log_σ)\n",
    "    s_x = b .* x_e\n",
    "    s_y = y_e\n",
    "\n",
    "    σ = @. sqrt(s_int^2 + s_x^2 + s_y^2)\n",
    "    return y ~ MvNormal(mu, σ)\n",
    "\n",
    "end"
   ]
  },
  {
   "cell_type": "code",
   "execution_count": null,
   "id": "42",
   "metadata": {},
   "outputs": [],
   "source": [
    "model = linear_regression(x, y, x_e, y_e)"
   ]
  },
  {
   "cell_type": "code",
   "execution_count": null,
   "id": "43",
   "metadata": {},
   "outputs": [],
   "source": [
    "chain = sample(model, NUTS(), 5_000)"
   ]
  },
  {
   "cell_type": "code",
   "execution_count": null,
   "id": "44",
   "metadata": {},
   "outputs": [],
   "source": [
    "samples = DataFrame(chain);"
   ]
  },
  {
   "cell_type": "code",
   "execution_count": null,
   "id": "45",
   "metadata": {},
   "outputs": [],
   "source": [
    "pairplot(chain)"
   ]
  },
  {
   "cell_type": "code",
   "execution_count": null,
   "id": "46",
   "metadata": {},
   "outputs": [],
   "source": [
    "function plot_samples!(samples, x;\n",
    "        thin=10, color=:black, alpha=nothing, kwargs...)\n",
    "\n",
    "    alpha = 1/size(samples, 1)^(1/3)\n",
    "\n",
    "    for sample in eachrow(samples)[1:thin:end]\n",
    "        y = @. sample.a + sample.b * x\n",
    "        lines!(x, y, color=color, alpha=alpha)\n",
    "    end\n",
    "end"
   ]
  },
  {
   "cell_type": "code",
   "execution_count": null,
   "id": "47",
   "metadata": {},
   "outputs": [],
   "source": [
    "fig = plot_data()\n",
    "\n",
    "plot_samples!(samples, LinRange(0, 4, 100))\n",
    "\n",
    "fig"
   ]
  },
  {
   "cell_type": "markdown",
   "id": "48",
   "metadata": {},
   "source": [
    "## Exponential"
   ]
  },
  {
   "cell_type": "code",
   "execution_count": null,
   "id": "49",
   "metadata": {},
   "outputs": [],
   "source": [
    "@model function exp_regression(x, y, x_e, y_e)\n",
    "    log_σ ~ Normal(-2, 0.8)\n",
    "    a ~ Normal(0, 0.4)\n",
    "    b ~ Normal(0, 0.5)\n",
    "    tau ~ Exponential(6)\n",
    "\n",
    "    mu = @. a + b*exp(x/tau)\n",
    "    mu_p = @. b/tau * exp(x/tau)\n",
    "    \n",
    "    s_int = exp(2log_σ)\n",
    "    s_x = @. mu_p / mu * x_e\n",
    "    s_y = y_e\n",
    "\n",
    "    σ = @. sqrt(s_int^2 + s_x^2 + s_y^2)\n",
    "    return y ~ MvNormal(mu, σ)\n",
    "\n",
    "end"
   ]
  },
  {
   "cell_type": "code",
   "execution_count": null,
   "id": "50",
   "metadata": {},
   "outputs": [],
   "source": [
    "model = exp_regression(x[1:100], y[1:100], x_e[1:100], y_e[1:100])"
   ]
  },
  {
   "cell_type": "code",
   "execution_count": null,
   "id": "51",
   "metadata": {},
   "outputs": [],
   "source": [
    "chain = sample(model, NUTS(), 5_000)"
   ]
  },
  {
   "cell_type": "code",
   "execution_count": null,
   "id": "52",
   "metadata": {},
   "outputs": [],
   "source": [
    "samples = DataFrame(chain);"
   ]
  },
  {
   "cell_type": "code",
   "execution_count": null,
   "id": "53",
   "metadata": {},
   "outputs": [],
   "source": [
    "pairplot(chain)"
   ]
  },
  {
   "cell_type": "code",
   "execution_count": null,
   "id": "54",
   "metadata": {},
   "outputs": [],
   "source": [
    "function plot_samples!(samples, x;\n",
    "        thin=10, color=:black, alpha=nothing, kwargs...)\n",
    "\n",
    "    alpha = 1/size(samples, 1)^(1/3)\n",
    "\n",
    "    for sample in eachrow(samples)[1:thin:end]\n",
    "        y = @. sample.a + sample.b * exp(x / sample.tau)\n",
    "        lines!(x, y, color=color, alpha=alpha)\n",
    "    end\n",
    "end"
   ]
  },
  {
   "cell_type": "code",
   "execution_count": null,
   "id": "55",
   "metadata": {},
   "outputs": [],
   "source": [
    "fig = plot_data()\n",
    "\n",
    "plot_samples!(samples, LinRange(0, 4, 100))\n",
    "\n",
    "fig"
   ]
  },
  {
   "cell_type": "markdown",
   "id": "56",
   "metadata": {},
   "source": [
    "## Quadratic"
   ]
  },
  {
   "cell_type": "code",
   "execution_count": null,
   "id": "57",
   "metadata": {},
   "outputs": [],
   "source": [
    "@model function exp_regression(x, y, x_e, y_e)\n",
    "    log_σ ~ Normal(-2, 0.8)\n",
    "    a ~ Normal(0, 0.4)\n",
    "    b ~ Normal(0, 0.5)\n",
    "    c ~ Normal(0, 0.3)\n",
    "\n",
    "    mu = @. a + b*x + c*x^2\n",
    "    mu_p = @. b + 2*c*x\n",
    "    \n",
    "    s_int = exp(2log_σ)\n",
    "    s_x = @. mu_p / mu * x_e\n",
    "    s_y = y_e\n",
    "\n",
    "    σ = @. sqrt(s_int^2 + s_x^2 + s_y^2)\n",
    "    return y ~ MvNormal(mu, σ)\n",
    "\n",
    "end"
   ]
  },
  {
   "cell_type": "code",
   "execution_count": null,
   "id": "58",
   "metadata": {},
   "outputs": [],
   "source": [
    "model = exp_regression(x, y, x_e, y_e)"
   ]
  },
  {
   "cell_type": "code",
   "execution_count": null,
   "id": "59",
   "metadata": {},
   "outputs": [],
   "source": [
    "chain = sample(model, NUTS(), 5_000)"
   ]
  },
  {
   "cell_type": "code",
   "execution_count": null,
   "id": "60",
   "metadata": {},
   "outputs": [],
   "source": [
    "samples = DataFrame(chain);"
   ]
  },
  {
   "cell_type": "code",
   "execution_count": null,
   "id": "61",
   "metadata": {},
   "outputs": [],
   "source": [
    "pairplot(chain)"
   ]
  },
  {
   "cell_type": "code",
   "execution_count": null,
   "id": "62",
   "metadata": {},
   "outputs": [],
   "source": [
    "function plot_samples!(samples, x;\n",
    "        thin=10, color=:black, alpha=nothing, kwargs...)\n",
    "\n",
    "    alpha = 1/size(samples, 1)^(1/3)\n",
    "\n",
    "    for sample in eachrow(samples)[1:thin:end]\n",
    "        y = @. sample.a + sample.b *x + sample.c * x^2\n",
    "        lines!(x, y, color=color, alpha=alpha)\n",
    "    end\n",
    "end"
   ]
  },
  {
   "cell_type": "code",
   "execution_count": null,
   "id": "63",
   "metadata": {},
   "outputs": [],
   "source": [
    "fig = plot_data()\n",
    "\n",
    "plot_samples!(samples, LinRange(0, 4, 100))\n",
    "\n",
    "fig"
   ]
  },
  {
   "cell_type": "code",
   "execution_count": null,
   "id": "64",
   "metadata": {},
   "outputs": [],
   "source": []
  }
 ],
 "metadata": {
  "kernelspec": {
   "display_name": "Julia 1.11.2",
   "language": "julia",
   "name": "julia-1.11"
  },
  "language_info": {
   "file_extension": ".jl",
   "mimetype": "application/julia",
   "name": "julia",
   "version": "1.11.2"
  }
 },
 "nbformat": 4,
 "nbformat_minor": 5
}
