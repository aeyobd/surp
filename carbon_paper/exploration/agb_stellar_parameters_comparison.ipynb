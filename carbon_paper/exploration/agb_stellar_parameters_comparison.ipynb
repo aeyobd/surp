{
 "cells": [
  {
   "cell_type": "code",
   "execution_count": null,
   "id": "0",
   "metadata": {},
   "outputs": [],
   "source": [
    "import pandas as pd\n",
    "import matplotlib.pyplot as plt\n",
    "import numpy as np\n",
    "from plotting import fig_saver"
   ]
  },
  {
   "cell_type": "code",
   "execution_count": null,
   "id": "1",
   "metadata": {},
   "outputs": [],
   "source": [
    "sf = fig_saver(\"./figures\")"
   ]
  },
  {
   "cell_type": "code",
   "execution_count": null,
   "id": "2",
   "metadata": {},
   "outputs": [],
   "source": [
    "c15 = pd.read_csv(\"cristallo15.csv\", sep=\"\\s+\")"
   ]
  },
  {
   "cell_type": "code",
   "execution_count": null,
   "id": "3",
   "metadata": {},
   "outputs": [],
   "source": [
    "v13 = pd.read_csv(\"ventura13_data.txt\", sep=\"\\s+\")"
   ]
  },
  {
   "cell_type": "code",
   "execution_count": null,
   "id": "4",
   "metadata": {},
   "outputs": [],
   "source": [
    "k10 = pd.read_csv(\"karakas10_data.csv\", sep=\"\\s+\", skiprows=68)"
   ]
  },
  {
   "cell_type": "code",
   "execution_count": null,
   "id": "5",
   "metadata": {},
   "outputs": [],
   "source": [
    "c15.MASS.unique()"
   ]
  },
  {
   "cell_type": "code",
   "execution_count": null,
   "id": "6",
   "metadata": {},
   "outputs": [],
   "source": [
    "v13.mass.unique()"
   ]
  },
  {
   "cell_type": "code",
   "execution_count": null,
   "id": "7",
   "metadata": {},
   "outputs": [],
   "source": [
    "k10.M0.unique()"
   ]
  },
  {
   "cell_type": "code",
   "execution_count": null,
   "id": "8",
   "metadata": {},
   "outputs": [],
   "source": [
    "c15.METALLICITY.unique()"
   ]
  },
  {
   "cell_type": "code",
   "execution_count": null,
   "id": "9",
   "metadata": {},
   "outputs": [],
   "source": [
    "v13.Z.unique()"
   ]
  },
  {
   "cell_type": "code",
   "execution_count": null,
   "id": "10",
   "metadata": {},
   "outputs": [],
   "source": [
    "pd.DataFrame.groupby?"
   ]
  },
  {
   "cell_type": "code",
   "execution_count": null,
   "id": "11",
   "metadata": {},
   "outputs": [],
   "source": [
    "k10.Z0.unique()"
   ]
  },
  {
   "cell_type": "code",
   "execution_count": null,
   "id": "12",
   "metadata": {},
   "outputs": [],
   "source": [
    "k10.columns"
   ]
  },
  {
   "cell_type": "code",
   "execution_count": null,
   "id": "13",
   "metadata": {},
   "outputs": [],
   "source": [
    "v13.columns"
   ]
  },
  {
   "cell_type": "code",
   "execution_count": null,
   "id": "14",
   "metadata": {},
   "outputs": [],
   "source": [
    "M = {}\n",
    "M[\"v13\"] = v13.mass\n",
    "M[\"k10\"] = k10.M0\n",
    "M[\"c15\"] = c15.MASS\n",
    "\n",
    "Z = {}\n",
    "Z[\"v13\"] = v13.Z\n",
    "Z[\"k10\"] = k10.Z0\n",
    "Z[\"c15\"] = c15.METALLICITY\n",
    "\n",
    "Np = {}\n",
    "Np[\"v13\"] = v13.Np\n",
    "Np[\"k10\"] = k10.groupby([\"M0\", \"Z0\"]).max(\"Pulse\")\n",
    "\n",
    "Tbce = {}\n",
    "Tbce[\"k10\"] = k10.groupby([\"M0\", \"Z0\"]).max(\"Tbce\")"
   ]
  },
  {
   "cell_type": "code",
   "execution_count": null,
   "id": "15",
   "metadata": {},
   "outputs": [],
   "source": [
    "c15"
   ]
  },
  {
   "cell_type": "code",
   "execution_count": null,
   "id": "16",
   "metadata": {},
   "outputs": [],
   "source": [
    "k10.groupby([\"M0\", \"Z0\"]).max(\"Tbce\")"
   ]
  },
  {
   "cell_type": "code",
   "execution_count": null,
   "id": "17",
   "metadata": {},
   "outputs": [],
   "source": [
    "filt = k10[k10.Z0 == 0.0001]\n",
    "df = filt.groupby([\"M0\"]).max(\"Tbce\")\n",
    "plt.plot(df.index, df.Tbce/10**6, label=\"K10\")\n",
    "plt.xlabel(\"M\")\n",
    "plt.ylabel(\"T_bcemax, MK\")\n",
    "\n",
    "df = v13[v13.Z == 0.0003]\n",
    "plt.plot(df.mass, df.T_bce/1e6, label=\"V13\")\n",
    "plt.xlabel(\"M\")\n",
    "plt.ylabel(\"T_bcemax, MK\")\n",
    "\n",
    "df = c15[c15.METALLICITY == 0.0001]\n",
    "plt.plot(df.MASS, df.TMAX_CS/1e6, label=\"C15\")\n",
    "\n",
    "plt.legend()"
   ]
  },
  {
   "cell_type": "code",
   "execution_count": null,
   "id": "18",
   "metadata": {},
   "outputs": [],
   "source": [
    "filt = k10[k10.Z0 == 0.008]\n",
    "df = filt.groupby([\"M0\"]).max(\"Tbce\")\n",
    "plt.plot(df.index, df.Tbce/10**6, label=\"K10\")\n",
    "plt.xlabel(\"M\")\n",
    "plt.ylabel(\"T_bcemax, MK\")\n",
    "\n",
    "df = v13[v13.Z == 0.008]\n",
    "plt.plot(df.mass, df.T_bce/1e6, label=\"V13\")\n",
    "plt.xlabel(\"M\")\n",
    "plt.ylabel(\"T_bcemax, MK\")\n",
    "\n",
    "df = c15[c15.METALLICITY == 0.008]\n",
    "plt.plot(df.MASS, df.TMAX_CS/1e6, label=\"C15\")\n",
    "\n",
    "plt.legend()"
   ]
  },
  {
   "cell_type": "code",
   "execution_count": null,
   "id": "19",
   "metadata": {},
   "outputs": [],
   "source": [
    "filt = k10[k10.Z0 == 0.0001]\n",
    "df = filt.groupby([\"M0\"]).max(\"Pulse\")\n",
    "plt.plot(df.index, df.Pulse, label=\"K10\")\n",
    "plt.xlabel(\"M\")\n",
    "plt.ylabel(\"N_p\")\n",
    "\n",
    "df = v13[v13.Z == 0.0003]\n",
    "plt.plot(df.mass, df.Np, label=\"V13\")\n",
    "\n",
    "df = c15[c15.METALLICITY == 0.0001]\n",
    "plt.plot(df.MASS, df.TP, label=\"C15\")\n",
    "\n",
    "plt.legend()\n",
    "sf(\"m_np\")"
   ]
  },
  {
   "cell_type": "code",
   "execution_count": null,
   "id": "20",
   "metadata": {},
   "outputs": [],
   "source": [
    "filt = k10[k10.Z0 == 0.008]\n",
    "df = filt.groupby([\"M0\"]).max(\"Pulse\")\n",
    "plt.plot(df.index, df.Pulse, label=\"K10\")\n",
    "plt.xlabel(\"M\")\n",
    "plt.ylabel(\"N_p\")\n",
    "\n",
    "df = v13[v13.Z == 0.008]\n",
    "plt.plot(df.mass, df.Np, label=\"V13\")\n",
    "\n",
    "df = c15[c15.METALLICITY == 0.008]\n",
    "plt.plot(df.MASS, df.TP, label=\"C15\")\n",
    "\n",
    "plt.legend()"
   ]
  },
  {
   "cell_type": "code",
   "execution_count": null,
   "id": "21",
   "metadata": {},
   "outputs": [],
   "source": [
    "filt = k10[k10.Z0 == 0.0001]\n",
    "df = filt.groupby([\"M0\"]).mean(\"iPulse\")\n",
    "plt.plot(df.index, df.iPulse/1e3, label=\"K10\")\n",
    "plt.xlabel(\"M\")\n",
    "plt.ylabel(\"T_ip/10^3 yr\")\n",
    "\n",
    "df = v13[v13.Z == 0.0003]\n",
    "plt.plot(df.mass, df.t_i/1e3, label=\"V13\")\n",
    "\n",
    "df = c15[c15.METALLICITY == 0.0001]\n",
    "plt.plot(df.MASS, df.DTIP/1e3, label=\"C15\")\n",
    "\n",
    "plt.legend()\n",
    "\n",
    "sf(\"m_tip\")"
   ]
  },
  {
   "cell_type": "code",
   "execution_count": null,
   "id": "22",
   "metadata": {},
   "outputs": [],
   "source": [
    "filt = k10[k10.Z0 == 0.008]\n",
    "df = filt.groupby([\"M0\"]).mean(\"iPulse\")\n",
    "plt.plot(df.index, df.iPulse, label=\"K10\")\n",
    "plt.xlabel(\"M\")\n",
    "plt.ylabel(\"T_ip\")\n",
    "\n",
    "df = v13[v13.Z == 0.008]\n",
    "plt.plot(df.mass, df.t_i, label=\"V13\")\n",
    "\n",
    "df = c15[c15.METALLICITY == 0.008]\n",
    "plt.plot(df.MASS, df.DTIP, label=\"C15\")\n",
    "\n",
    "plt.legend()\n",
    "\n",
    "sf(\"m_tip\")"
   ]
  },
  {
   "cell_type": "code",
   "execution_count": null,
   "id": "23",
   "metadata": {},
   "outputs": [],
   "source": []
  }
 ],
 "metadata": {
  "kernelspec": {
   "display_name": "Python 3",
   "language": "python",
   "name": "python3"
  },
  "language_info": {
   "codemirror_mode": {
    "name": "ipython",
    "version": 3
   },
   "file_extension": ".py",
   "mimetype": "text/x-python",
   "name": "python",
   "nbconvert_exporter": "python",
   "pygments_lexer": "ipython3",
   "version": "3.6.8"
  }
 },
 "nbformat": 4,
 "nbformat_minor": 5
}
