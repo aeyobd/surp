{
 "cells": [
  {
   "cell_type": "code",
   "execution_count": null,
   "id": "0",
   "metadata": {},
   "outputs": [],
   "source": [
    "%load_ext autoreload\n",
    "%autoreload 2"
   ]
  },
  {
   "cell_type": "code",
   "execution_count": null,
   "id": "1",
   "metadata": {},
   "outputs": [],
   "source": [
    "import vice\n",
    "from matplotlib import pyplot as plt\n",
    "import numpy as np\n",
    "import pandas as pd\n",
    "import seaborn as sns\n",
    "from surp._globals import AGB_MODELS\n",
    "import surp"
   ]
  },
  {
   "cell_type": "code",
   "execution_count": null,
   "id": "2",
   "metadata": {},
   "outputs": [],
   "source": [
    "import arya"
   ]
  },
  {
   "cell_type": "code",
   "execution_count": null,
   "id": "3",
   "metadata": {},
   "outputs": [],
   "source": [
    "tau_agb = 0.45\n",
    "t_D = 0.0\n",
    "gamma = 2\n",
    "m_low = 1.0\n",
    "m_high = 8\n",
    "\n",
    "a_agb = surp.yield_models.C_AGB_Model(t_D=t_D, tau_agb=tau_agb, gamma=gamma, m_low=m_low)"
   ]
  },
  {
   "cell_type": "code",
   "execution_count": null,
   "id": "4",
   "metadata": {},
   "outputs": [],
   "source": [
    "vice.mlr.larson1974(8)"
   ]
  },
  {
   "cell_type": "code",
   "execution_count": null,
   "id": "5",
   "metadata": {},
   "outputs": [],
   "source": [
    "def recalc_dtd(tau_agb, t_D, gamma, m_low, times=np.logspace(-2.5, 1), m_high=8):\n",
    "    t_high = vice.mlr.larson1974(m_low)\n",
    "    t_low = vice.mlr.larson1974(m_high)\n",
    "\n",
    "    tm = (times[1:] + times[:-1])/2\n",
    "    R = (times - t_D)**gamma * np.exp(-(times-t_D) / tau_agb) * (times > t_D)\n",
    "    R[times < t_low] = 0\n",
    "    R[times > t_high] = 0\n",
    "    y = np.cumsum(R[:-1]   * (times[1:] - times[:-1]))\n",
    "\n",
    "    return tm, y / y[-1]"
   ]
  },
  {
   "cell_type": "markdown",
   "id": "6",
   "metadata": {
    "jp-MarkdownHeadingCollapsed": true
   },
   "source": [
    "## Test analytic DTD"
   ]
  },
  {
   "cell_type": "code",
   "execution_count": null,
   "id": "7",
   "metadata": {},
   "outputs": [],
   "source": [
    "def compare_act_exp(dt=0.01, **kwargs):\n",
    "    a_agb = surp.yield_models.C_AGB_Model(**kwargs)\n",
    "    \n",
    "    vice.yields.agb.settings[\"c\"] = a_agb\n",
    "    vice.yields.ccsne.settings[\"c\"] = 0\n",
    "    vice.yields.sneia.settings[\"c\"] = 0\n",
    "    m_c, times = vice.single_stellar_population(\"c\", Z=0.014 * 10**0, dt=dt)\n",
    "    m_c = [c for c in m_c]\n",
    "    \n",
    "    plt.plot(times, np.array(m_c)/m_c[-1], lw=2, color=\"k\")\n",
    "    \n",
    "    \n",
    "    t, y = recalc_dtd(times=np.array(times), **kwargs)\n",
    "    plt.plot(t, y, lw=2, ls=\"--\", label=\"recalculated\", color=arya.COLORS[1])\n",
    "    plt.plot(t, y / np.array(m_c[1:]) * m_c[-1], ls=\":\", label=\"ratio\")\n",
    "    plt.xlabel(\"t/Gyr\")\n",
    "    plt.ylabel(r\"$M(t)/M_{\\rm tot}$\")\n",
    "    plt.xscale(\"log\")\n",
    "    plt.legend()\n",
    "    plt.ylim(-0.3, 1.1)\n",
    "    plt.xlim(0.03, 13.2)"
   ]
  },
  {
   "cell_type": "code",
   "execution_count": null,
   "id": "8",
   "metadata": {},
   "outputs": [],
   "source": [
    "compare_act_exp(dt=0.0003, \n",
    "                tau_agb = 0.45,\n",
    "    t_D = 0.1,\n",
    "    gamma = 2,\n",
    "    m_low = 0.08,\n",
    ")"
   ]
  },
  {
   "cell_type": "code",
   "execution_count": null,
   "id": "9",
   "metadata": {},
   "outputs": [],
   "source": [
    "compare_act_exp(dt=0.0001, \n",
    "                tau_agb = 0.45,\n",
    "    t_D = 0.1,\n",
    "    gamma = 2,\n",
    "    m_low = 0.08,\n",
    ")"
   ]
  },
  {
   "cell_type": "code",
   "execution_count": null,
   "id": "10",
   "metadata": {},
   "outputs": [],
   "source": [
    "compare_act_exp(tau_agb = 0.45,\n",
    "    t_D = 0.1,\n",
    "    gamma = 0,\n",
    "    m_low = 0.08,\n",
    ")"
   ]
  },
  {
   "cell_type": "code",
   "execution_count": null,
   "id": "11",
   "metadata": {},
   "outputs": [],
   "source": [
    "compare_act_exp(tau_agb = 0.45,\n",
    "    t_D = 0.1,\n",
    "    gamma = 1,\n",
    "    m_low = 0.08,\n",
    ")"
   ]
  },
  {
   "cell_type": "code",
   "execution_count": null,
   "id": "12",
   "metadata": {},
   "outputs": [],
   "source": [
    "compare_act_exp(tau_agb = 1,\n",
    "    t_D = 0.1,\n",
    "    gamma = 1,\n",
    "    m_low = 0.08,\n",
    ")"
   ]
  },
  {
   "cell_type": "code",
   "execution_count": null,
   "id": "13",
   "metadata": {},
   "outputs": [],
   "source": [
    "compare_act_exp(tau_agb = 1,\n",
    "    t_D = 0.5,\n",
    "    gamma = 1,\n",
    "    m_low = 0.08,\n",
    ")"
   ]
  },
  {
   "cell_type": "code",
   "execution_count": null,
   "id": "14",
   "metadata": {},
   "outputs": [],
   "source": [
    "compare_act_exp(tau_agb = 1,\n",
    "    t_D = 0.0,\n",
    "    gamma = 1,\n",
    "    m_low = 0.08,\n",
    ")"
   ]
  },
  {
   "cell_type": "code",
   "execution_count": null,
   "id": "15",
   "metadata": {},
   "outputs": [],
   "source": [
    "compare_act_exp(tau_agb = 2,\n",
    "    t_D = 0.0,\n",
    "    gamma = 1,\n",
    "    m_low = 0.5,\n",
    ")"
   ]
  },
  {
   "cell_type": "markdown",
   "id": "16",
   "metadata": {},
   "source": [
    "## Comparisons"
   ]
  },
  {
   "cell_type": "code",
   "execution_count": null,
   "id": "17",
   "metadata": {},
   "outputs": [],
   "source": [
    "tau_agb = 0.45\n",
    "t_D = 0.0\n",
    "gamma = 2\n",
    "m_low = 1.0\n",
    "m_high = 8\n",
    "\n",
    "a_agb = surp.yield_models.C_AGB_Model(t_D=t_D, tau_agb=tau_agb, gamma=gamma, m_low=m_low)"
   ]
  },
  {
   "cell_type": "code",
   "execution_count": null,
   "id": "18",
   "metadata": {},
   "outputs": [],
   "source": [
    "\n",
    "vice.yields.ccsne.settings[\"c\"] = 0\n",
    "vice.yields.sneia.settings[\"c\"] = 0\n",
    "vice.yields.ccsne.settings[\"fe\"] = 0\n",
    "\n",
    "for i in range(4):\n",
    "    model = AGB_MODELS[i]\n",
    "    vice.yields.agb.settings[\"c\"] = model\n",
    "    m_c, times = vice.single_stellar_population(\"c\", Z=0.014 * 10**0)\n",
    "    m_c = [c for c in m_c]\n",
    "    plt.plot(times, np.array(m_c)/m_c[-1])\n",
    "\n",
    "\n",
    "vice.yields.agb.settings[\"c\"] = a_agb\n",
    "\n",
    "m_c, times = vice.single_stellar_population(\"c\", Z=0.014 * 10**0)\n",
    "m_c = [c for c in m_c]\n",
    "\n",
    "plt.plot(times, np.array(m_c)/m_c[-1], lw=2, color=\"k\")\n",
    "\n",
    "\n",
    "\n",
    "plt.xlabel(\"t/Gyr\")\n",
    "plt.ylabel(r\"$M(t)/M_{\\rm tot}$\")\n",
    "plt.xscale(\"log\")\n",
    "plt.legend()\n",
    "plt.ylim(-0.3, 1.1)\n",
    "plt.xlim(0.03, 13.2)"
   ]
  },
  {
   "cell_type": "code",
   "execution_count": null,
   "id": "19",
   "metadata": {},
   "outputs": [],
   "source": [
    "for i in range(len(AGB_MODELS)):\n",
    "    model = AGB_MODELS[i]\n",
    "\n",
    "    vice.yields.agb.settings[\"c\"] = model\n",
    "    vice.yields.ccsne.settings[\"c\"] = 0\n",
    "    Zs = 0.014*10**np.linspace(-2, 1, 100)\n",
    "    \n",
    "    # plots importaint points\n",
    "    if type(model) == str:\n",
    "        y1, m1, z1 = vice.yields.agb.grid('c', study=model)\n",
    "        Zs = np.array(z1)\n",
    "    mass_yields = []\n",
    "    for Z in Zs:\n",
    "        m_c, times = vice.single_stellar_population(\"c\", Z=Z)\n",
    "        mass_yields.append(m_c[-1])\n",
    "        \n",
    "    y_c_agb = np.array(mass_yields)/1e6 \n",
    "    plt.scatter(np.log10(Zs/0.014), y_c_agb)\n",
    "\n",
    "   \n",
    "# pass\n",
    "\"\"\n",
    "vice.yields.agb.settings[\"c\"] = a_agb\n",
    "\n",
    "Zs = 0.014*10**np.linspace(-2, 0.5, 100)\n",
    "mass_yields = []\n",
    "for Z in Zs:\n",
    "    m_c, times = vice.single_stellar_population(\"c\", Z=Z)\n",
    "    mass_yields.append(m_c[-1])\n",
    "\n",
    "y_c_agb = np.array(mass_yields)/1e6 \n",
    "\n",
    "plt.plot(np.log10(Zs/0.014), y_c_agb)\n",
    "plt.xlabel(\"[Mg/H]\")\n",
    "plt.ylabel(\"$y_c$\")"
   ]
  },
  {
   "cell_type": "code",
   "execution_count": null,
   "id": "20",
   "metadata": {},
   "outputs": [],
   "source": []
  }
 ],
 "metadata": {
  "kernelspec": {
   "display_name": "Python 3 (ipykernel)",
   "language": "python",
   "name": "python3"
  },
  "language_info": {
   "codemirror_mode": {
    "name": "ipython",
    "version": 3
   },
   "file_extension": ".py",
   "mimetype": "text/x-python",
   "name": "python",
   "nbconvert_exporter": "python",
   "pygments_lexer": "ipython3",
   "version": "3.11.9"
  }
 },
 "nbformat": 4,
 "nbformat_minor": 5
}
