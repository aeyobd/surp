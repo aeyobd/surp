{
 "cells": [
  {
   "cell_type": "code",
   "execution_count": null,
   "id": "0",
   "metadata": {},
   "outputs": [],
   "source": [
    "using CairoMakie\n",
    "using Arya\n",
    "using DataFrames, CSV\n",
    "import Base: @kwdef\n",
    "\n",
    "using DataFrames"
   ]
  },
  {
   "cell_type": "code",
   "execution_count": null,
   "id": "1",
   "metadata": {
    "tags": []
   },
   "outputs": [],
   "source": [
    "using PythonCall\n",
    "surp = pyimport(\"surp\")\n",
    "vice = pyimport(\"vice\")\n",
    "gcem = surp.gce_math\n",
    "\n",
    "py2f(x) = pyconvert(Float64, x)\n",
    "py2vec(x) = pyconvert(Vector{Float64}, x)"
   ]
  },
  {
   "cell_type": "code",
   "execution_count": null,
   "id": "2",
   "metadata": {},
   "outputs": [],
   "source": [
    "using Printf"
   ]
  },
  {
   "cell_type": "code",
   "execution_count": null,
   "id": "3",
   "metadata": {},
   "outputs": [],
   "source": [
    "surp.yields.set_yields()"
   ]
  },
  {
   "cell_type": "code",
   "execution_count": null,
   "id": "4",
   "metadata": {},
   "outputs": [],
   "source": [
    "subgiants = surp.subgiants"
   ]
  },
  {
   "cell_type": "code",
   "execution_count": null,
   "id": "5",
   "metadata": {},
   "outputs": [],
   "source": [
    "χ(t, i) = t^i * exp(-t)\n",
    "ϵ(t) = χ(t, 0)\n",
    "ξ(t) = χ(t, 1)"
   ]
  },
  {
   "cell_type": "code",
   "execution_count": null,
   "id": "6",
   "metadata": {},
   "outputs": [],
   "source": [
    "calc_ϖ(params) =  (1 + params.η - params.r) / params.τ_star"
   ]
  },
  {
   "cell_type": "code",
   "execution_count": null,
   "id": "7",
   "metadata": {},
   "outputs": [],
   "source": [
    "using Revise # so we can change Params\n",
    "R = Float64"
   ]
  },
  {
   "cell_type": "code",
   "execution_count": null,
   "id": "8",
   "metadata": {},
   "outputs": [],
   "source": [
    "@kwdef struct Params\n",
    "    sfh::String = \"const\"\n",
    "    η::R = 0.5\n",
    "    r::R = 0.4\n",
    "    τ_star::R = 2\n",
    "        \n",
    "    t_d_agb::R = 0.1\n",
    "    τ_agb::R = 0.3\n",
    "        \n",
    "    y_c_agb::R = 0.000456\n",
    "    γ::R = 1\n",
    "\n",
    "    y_c_cc::R = 2.28e-03\n",
    "    ζ_c_agb::R = 0\n",
    "    ζ_c_cc::R = 0\n",
    "        \n",
    "    y_o::R = 7.13e-03\n",
    "    y_fe_cc::R = 4.73e-04\n",
    "    y_fe_ia::R = 7.70e-04\n",
    "        \n",
    "    τ_ia::R = 1.5\n",
    "    κ_ia::R = -1\n",
    "    t_d_ia::R = 0.15\n",
    "        \n",
    "    t_end::R = 13.2\n",
    "end"
   ]
  },
  {
   "cell_type": "code",
   "execution_count": null,
   "id": "9",
   "metadata": {},
   "outputs": [],
   "source": [
    "function Base.show(io::IO, params::Params)\n",
    "    @printf io \"%-12s %s\\n\" \"property\" \"value\"\n",
    "    @printf io \"%-12s %s\\n\" \"-\"^12 \"-\"^12\n",
    "    for key in propertynames(params)\n",
    "        @printf io \"%-12s %s\\n\" key getproperty(params, key)\n",
    "    end\n",
    "end"
   ]
  },
  {
   "cell_type": "code",
   "execution_count": null,
   "id": "10",
   "metadata": {},
   "outputs": [],
   "source": [
    "params = Params()"
   ]
  },
  {
   "cell_type": "code",
   "execution_count": null,
   "id": "11",
   "metadata": {},
   "outputs": [],
   "source": [
    "function cc_model_const(t, y, params = Params())\n",
    "    ϖ = calc_ϖ(params)\n",
    "    s = @. 1 - ϵ(ϖ * t)\n",
    "    return @. y / params.τ_star * s / ϖ\n",
    "end"
   ]
  },
  {
   "cell_type": "code",
   "execution_count": null,
   "id": "12",
   "metadata": {},
   "outputs": [],
   "source": [
    "function fe_ia_model_const(t, params = Params())\n",
    "    ϖ = calc_ϖ(params)\n",
    "    ι = 1 / params.τ_ia\n",
    "    \n",
    "    δt = @. t - params.t_d_ia\n",
    "    \n",
    "    s = @. 1 - ϖ/(ϖ - ι) * ϵ(ι * δt)\n",
    "    s .+= @. ι/(ϖ - ι) * ϵ(ϖ * δt)\n",
    "    s = ifelse.(δt .<= 0, 0, s)\n",
    "    \n",
    "    Zeq = params.y_fe_ia / params.τ_star  / ϖ\n",
    "    return Zeq .* s\n",
    "end\n",
    "\n",
    "\n",
    "\n",
    "function fe_model_const(t, params=Params())\n",
    "    Zcc = cc_model_const(t, params.y_fe_cc, params)\n",
    "    Zia = fe_ia_model_const(t, params)\n",
    "    return Zcc + Zia\n",
    "end\n"
   ]
  },
  {
   "cell_type": "code",
   "execution_count": null,
   "id": "13",
   "metadata": {},
   "outputs": [],
   "source": [
    "function c_agb_model_gamma1_const(t, params=Params())\n",
    "    α = 1/params.τ_agb\n",
    "    ϖ = calc_ϖ(params)\n",
    "    δt = t .- params.t_d_agb\n",
    "    \n",
    "    s = 1 / ϖ \n",
    "    s = @. s +  1/(α - ϖ) * ξ(α * δt)\n",
    "    s .+= @. (2*α- ϖ) / (α - ϖ)^2 * ϵ(α * δt)\n",
    "    s .+=  @. -(1/ϖ + (2*α- ϖ) / (α - ϖ)^2) * ϵ(ϖ * δt)\n",
    "    \n",
    "    s = ifelse.(δt .< 0, 0, s)\n",
    "\n",
    "    return @. params.y_c_agb * s / params.τ_star\n",
    "end\n",
    "\n",
    "function c_agb_model_gamma2_const(t, params=Params())\n",
    "    α = 1/params.τ_agb\n",
    "    ϖ = calc_ϖ(params)\n",
    "    δt = t .- params.t_d_agb\n",
    "    \n",
    "    s = ones(length(t))\n",
    "    s .+= @. ( 2ϖ^3/(α-ϖ)^3 + 2ϖ^2/(α*(α-ϖ)) + 2ϖ/(α-ϖ) ) * χ(α*δt, 0)\n",
    "    s .+= @. -( 1 + 2ϖ^3/(α-ϖ)^3 + 2ϖ^2/(α-ϖ)^2 + 2ϖ/(α-ϖ) ) * χ(ϖ*δt, 0)\n",
    "    s .+= @. ( 2ϖ^3 / (α*(α-ϖ)^2) + 2ϖ^2 / (α*(α-ϖ)) ) * χ(α*δt, 1)\n",
    "    s .+= @. ( ϖ^3/(α^2*(α-ϖ)) ) * χ(α*δt, 2)\n",
    "    s = ifelse.(δt .< 0, 0, s)\n",
    "\n",
    "    return @. params.y_c_agb * s / params.τ_star / ϖ\n",
    "end\n"
   ]
  },
  {
   "cell_type": "code",
   "execution_count": null,
   "id": "14",
   "metadata": {},
   "outputs": [],
   "source": [
    "\n",
    "function c_model(t, params=Params())\n",
    "    if params.sfh == \"const\"\n",
    "        return c_model_const(t, params)\n",
    "    end\n",
    "end\n",
    "\n",
    "\n",
    "function c_model_const(t, params=Params())\n",
    "    Zcc = cc_model_const(t, params.y_c_cc, params)\n",
    "    \n",
    "    if params.γ == 1\n",
    "        Zagb = c_agb_model_gamma1_const(t, params)\n",
    "    elseif params.γ == 2\n",
    "        Zagb = c_agb_model_gamma2_const(t, params)\n",
    "    else\n",
    "        error(\"gamma must be 1 or 2\")\n",
    "    end\n",
    "    \n",
    "    return Zcc .+ Zagb\n",
    "end\n",
    "\n",
    "\n",
    "function o_model(t, params=Params())\n",
    "    if params.sfh == \"const\"\n",
    "        Zcc = cc_model_const(t, params.y_o, params)\n",
    "    end\n",
    "    return Zcc \n",
    "end\n",
    "\n",
    "function fe_model(t, params=Params())\n",
    "    if params.sfh == \"const\"\n",
    "        Zfe = fe_model_const(t, params)\n",
    "    end\n",
    "    return Zfe \n",
    "end"
   ]
  },
  {
   "cell_type": "markdown",
   "id": "15",
   "metadata": {},
   "source": [
    "# Comparison with VICE models"
   ]
  },
  {
   "cell_type": "code",
   "execution_count": null,
   "id": "16",
   "metadata": {},
   "outputs": [],
   "source": [
    "sfh_const() = pyfunc(t -> 1 + 0*t)\n",
    "sfh_exp(tau) = pyfunc(t -> exp(-t / tau))\n",
    "\n",
    "function get_sfh(params::Params)\n",
    "    if params.sfh == \"const\"\n",
    "        return sfh_const()\n",
    "    elseif params.sfh == \"exp\"\n",
    "        return sfh_exp(params.τ_sfh)\n",
    "    else\n",
    "        throw(\"sfh not known\")\n",
    "    end\n",
    "\n",
    "end"
   ]
  },
  {
   "cell_type": "code",
   "execution_count": null,
   "id": "17",
   "metadata": {},
   "outputs": [],
   "source": [
    "get_sfh(params)"
   ]
  },
  {
   "cell_type": "code",
   "execution_count": null,
   "id": "18",
   "metadata": {},
   "outputs": [],
   "source": [
    "function set_yields(params; kwargs...)\n",
    "    surp.yields.set_yields(;\n",
    "        y_c_cc=\"Lin\",\n",
    "        zeta_c_cc=params.ζ_c_cc, \n",
    "        y0_c_cc=params.y_c_cc,\n",
    "        Y_c_agb=\"A\", \n",
    "        y_fe_ia=params.y_fe_ia,\n",
    "        y_fe_cc=params.y_fe_cc,\n",
    "        y_o_cc= params.y_o,\n",
    "\n",
    "        kwargs_c_agb=pydict(\n",
    "            tau_agb = params.τ_agb,\n",
    "            t_D = params.t_d_agb,\n",
    "            zeta = 0,\n",
    "            gamma = params.γ,\n",
    "        ),\n",
    "        kwargs...\n",
    "    )\n",
    "end\n",
    "        "
   ]
  },
  {
   "cell_type": "code",
   "execution_count": null,
   "id": "19",
   "metadata": {},
   "outputs": [],
   "source": [
    "set_yields(params, verbose=true)"
   ]
  },
  {
   "cell_type": "code",
   "execution_count": null,
   "id": "20",
   "metadata": {},
   "outputs": [],
   "source": [
    "function run_singlezone(params; dt=0.01, t_end=13.2, mode=\"sfr\", RIa=\"exp\", kwargs...)\n",
    "    set_yields(params; kwargs...)\n",
    "\n",
    "    sfh = get_sfh(params)\n",
    "    sz = vice.singlezone(elements=pylist([\"o\", \"mg\", \"c\", \"fe\"]), func=sfh, mode=mode, dt=dt, \n",
    "                         eta=params.η,  tau_star=params.τ_star, Mg0=1)\n",
    "    \n",
    "    sz.RIa = RIa\n",
    "    out = sz.run(pylist(0:dt:t_end), capture=true, overwrite=true)\n",
    "    \n",
    "    h = DataFrame(pyconvert(Dict{String, Vector{Float64}}, out.history.todict()))\n",
    "\n",
    "    add_abund_columns!(h)\n",
    "    return h\n",
    "end"
   ]
  },
  {
   "cell_type": "code",
   "execution_count": null,
   "id": "21",
   "metadata": {
    "tags": []
   },
   "outputs": [],
   "source": [
    "function add_abund_columns!(h)\n",
    "    zo = h[:, \"z(o)\"]\n",
    "    zfe = h[:, \"z(fe)\"]\n",
    "    zc = h[:, \"z(c)\"]\n",
    "    t = h[:, \"time\"]\n",
    "\n",
    "    \n",
    "    \n",
    "    o_h = gcem.abund_to_brak(pylist(zo), \"o\") |> py2vec\n",
    "    c_o = gcem.abund_ratio_to_brak(pylist(zc ./ zo), \"c\", \"o\") |> py2vec\n",
    "    o_fe = gcem.abund_ratio_to_brak(pylist(zo ./ zfe), \"o\", \"fe\") |> py2vec\n",
    "\n",
    "    h[:, \"MG_H\"] = o_h\n",
    "    h[:, \"C_MG\"] = c_o\n",
    "    h[:, \"MG_FE\"] = o_fe\n",
    "\n",
    "    return h\n",
    "end"
   ]
  },
  {
   "cell_type": "code",
   "execution_count": null,
   "id": "22",
   "metadata": {},
   "outputs": [],
   "source": [
    "function run_analytic(params, t=LinRange(0, 13.2, 10000))\n",
    "    df = DataFrame()\n",
    "    df[:, \"time\"] = t\n",
    "    df[:, \"z(c)\"] = c_model(t, params)\n",
    "    df[:, \"z(o)\"] = o_model(t, params)\n",
    "    df[:, \"z(fe)\"] = fe_model(t, params)\n",
    "\n",
    "    add_abund_columns!(df)\n",
    "\n",
    "    return df\n",
    "end"
   ]
  },
  {
   "cell_type": "code",
   "execution_count": null,
   "id": "23",
   "metadata": {},
   "outputs": [],
   "source": [
    "function compare_z_t(sz, ana)\n",
    "\n",
    "    fig = Figure()\n",
    "\n",
    "    for (i, ele) in enumerate([\"fe\", \"o\", \"c\"])\n",
    "       \n",
    "        ax = abund_axis!(fig[i, 1], \"Z_$ele\")\n",
    "        p = plot_abund_time!(ax, sz, ana, \"z($(lowercase(ele)))\")\n",
    "        if i < 3\n",
    "            hidexdecorations!(ax, grid=false)\n",
    "        end\n",
    "        \n",
    "        if i == 1\n",
    "            axislegend(ax, position=:lt)\n",
    "        end\n",
    "    end\n",
    "    local ax\n",
    "\n",
    "    for (i, ele) in enumerate([\"MG_H\", \"MG_FE\", \"C_MG\"])\n",
    "        ax = abund_axis!(fig[i, 2], ele)\n",
    "        p = plot_abund_time!(ax, sz, ana, ele)\n",
    "        if i < 3\n",
    "            hidexdecorations!(ax, grid=false)\n",
    "        end\n",
    "    end\n",
    "\n",
    "\n",
    "    fig\n",
    "end\n",
    "    "
   ]
  },
  {
   "cell_type": "code",
   "execution_count": null,
   "id": "24",
   "metadata": {},
   "outputs": [],
   "source": [
    "function abund_axis!(gs, abund)\n",
    "    ax = Axis(gs,\n",
    "        xlabel=\"time\",\n",
    "        ylabel=abund,\n",
    "        xscale=log10,\n",
    "        limits=(1e-3, 15, nothing, nothing),\n",
    "    )\n",
    "end"
   ]
  },
  {
   "cell_type": "code",
   "execution_count": null,
   "id": "25",
   "metadata": {},
   "outputs": [],
   "source": [
    "function plot_abund_time!(ax, sz, ana, abund)\n",
    "\n",
    "    lines!(ax, sz.time[2:end], sz[2:end, abund], label=\"VICE\")\n",
    "    lines!(ax, ana.time[2:end], ana[2:end, abund], label=\"analytic\")\n",
    "end"
   ]
  },
  {
   "cell_type": "code",
   "execution_count": null,
   "id": "26",
   "metadata": {},
   "outputs": [],
   "source": [
    "function plot_abund_time(sz, ana, abund)\n",
    "    fig = Figure()\n",
    "    ax = Axis(fig[1,1],\n",
    "        xlabel=\"time\",\n",
    "        ylabel=abund,\n",
    "        xscale=log10,\n",
    "        limits=(1e-3, 15, nothing, nothing),\n",
    "    )\n",
    "    lines!(sz.time[2:end], sz[2:end, abund], label=\"VICE\")\n",
    "    lines!(ana.time[2:end], ana[2:end, abund], label=\"analytic\")\n",
    "\n",
    "    Legend(fig[1,2], ax)\n",
    "    fig\n",
    "end"
   ]
  },
  {
   "cell_type": "code",
   "execution_count": null,
   "id": "27",
   "metadata": {},
   "outputs": [],
   "source": [
    "function compare_abund(sz, ana)\n",
    "\n",
    "    fig = Figure()\n",
    "    ax = Axis(fig[1,1],\n",
    "        xlabel=\"time\",\n",
    "        ylabel=\"MG_FE\",\n",
    "        xscale=log10,\n",
    "        limits=(1e-3, 13.2, nothing, nothing),\n",
    "    )\n",
    "    lines!(sz.time[2:end], sz.MG_FE[2:end], label=\"VICE\")\n",
    "    lines!(ana.time[2:end], ana.MG_FE[2:end], label=\"analytic\")\n",
    "\n",
    "    display(fig)\n",
    "\n",
    "\n",
    "    fig = Figure()\n",
    "    ax = Axis(fig[1,1],\n",
    "        xlabel=\"time\",\n",
    "        ylabel=\"C_MG\",\n",
    "        xscale=log10,\n",
    "        limits=(1e-3, 13.2, nothing, nothing),\n",
    "    )\n",
    "    lines!(sz.time[2:end], sz.MG_FE[2:end], label=\"VICE\")\n",
    "    lines!(ana.time[2:end], ana.MG_FE[2:end], label=\"analytic\")\n",
    "\n",
    "    display(fig)\n",
    "end\n",
    "\n",
    "    "
   ]
  },
  {
   "cell_type": "code",
   "execution_count": null,
   "id": "28",
   "metadata": {},
   "outputs": [],
   "source": [
    "params = Params()"
   ]
  },
  {
   "cell_type": "code",
   "execution_count": null,
   "id": "29",
   "metadata": {},
   "outputs": [],
   "source": [
    "sz = run_singlezone(params, mode=\"sfr\");"
   ]
  },
  {
   "cell_type": "code",
   "execution_count": null,
   "id": "30",
   "metadata": {},
   "outputs": [],
   "source": [
    "ana = run_analytic(params);"
   ]
  },
  {
   "cell_type": "code",
   "execution_count": null,
   "id": "31",
   "metadata": {},
   "outputs": [],
   "source": [
    "compare_z_t(sz, ana)"
   ]
  },
  {
   "cell_type": "code",
   "execution_count": null,
   "id": "32",
   "metadata": {},
   "outputs": [],
   "source": [
    "params = Params(\n",
    "    γ = 2,\n",
    "    )\n"
   ]
  },
  {
   "cell_type": "code",
   "execution_count": null,
   "id": "33",
   "metadata": {},
   "outputs": [],
   "source": [
    "sz = run_singlezone(params, mode=\"sfr\");"
   ]
  },
  {
   "cell_type": "code",
   "execution_count": null,
   "id": "34",
   "metadata": {},
   "outputs": [],
   "source": [
    "ana = run_analytic(params);"
   ]
  },
  {
   "cell_type": "code",
   "execution_count": null,
   "id": "35",
   "metadata": {},
   "outputs": [],
   "source": [
    "compare_z_t(sz, ana)"
   ]
  },
  {
   "cell_type": "markdown",
   "id": "36",
   "metadata": {
    "jp-MarkdownHeadingCollapsed": true
   },
   "source": [
    "# mcmc fit to caah"
   ]
  },
  {
   "cell_type": "code",
   "execution_count": null,
   "id": "37",
   "metadata": {},
   "outputs": [],
   "source": [
    "using Optim\n",
    "using Turing\n",
    "using Distributions\n"
   ]
  },
  {
   "cell_type": "code",
   "execution_count": null,
   "id": "38",
   "metadata": {},
   "outputs": [],
   "source": [
    "@model function linear_regression(x, y, σ_y)\n",
    "    # Priors\n",
    "    α ~ Normal(0, 1)\n",
    "    β ~ Normal(0, 0.5)\n",
    "    \n",
    "    # Likelihood\n",
    "    for i in 1:length(y)\n",
    "        y[i] ~ Normal(α + β * x[i], σ_y[i])\n",
    "    end\n",
    "end"
   ]
  },
  {
   "cell_type": "code",
   "execution_count": null,
   "id": "39",
   "metadata": {},
   "outputs": [],
   "source": [
    "vice.yields.ccsne.settings(\"mg\")"
   ]
  },
  {
   "cell_type": "code",
   "execution_count": null,
   "id": "40",
   "metadata": {},
   "outputs": [],
   "source": [
    "x = surp.gce_math.MH_to_Z(subgiants.MG_H) |> py2vec\n",
    "y = surp.gce_math.brak_to_abund_ratio(subgiants.C_MG, \"C\", \"mg\") * vice.yields.ccsne.settings(\"mg\") |> py2vec\n",
    "σ_y = @. py2vec(subgiants.C_MG_ERR.values)  * y / log(10) |> py2vec# TODO: double check this is correct error prop!\n",
    "\n",
    "filt = (!).(isnan.(x))\n",
    "filt .&= (!).(isnan.(y))\n",
    "filt .&= (!).(isnan.(σ_y))\n",
    "filt .&= (!).(py2vec(subgiants.high_alpha.values))\n",
    "\n",
    "x = x[filt]\n",
    "y = y[filt]\n",
    "σ_y = σ_y[filt];"
   ]
  },
  {
   "cell_type": "code",
   "execution_count": null,
   "id": "41",
   "metadata": {},
   "outputs": [],
   "source": [
    "model = linear_regression(x, y, σ_y)\n",
    "chain = sample(model, NUTS(0.65), 2000)"
   ]
  },
  {
   "cell_type": "code",
   "execution_count": null,
   "id": "42",
   "metadata": {},
   "outputs": [],
   "source": [
    "plot(chain)"
   ]
  },
  {
   "cell_type": "code",
   "execution_count": null,
   "id": "43",
   "metadata": {},
   "outputs": [],
   "source": [
    "p = plot()\n",
    "xs = LinRange(0, 2, 1000)\n",
    "\n",
    "for i in 1:10:length(chain)\n",
    "    α = chain[:α].data[i]\n",
    "    β = chain[:β].data[i]\n",
    "    \n",
    "    ys = @. α + xs * β\n",
    "    plot!(xs, ys, color=\"black\", alpha=0.05, lw=1, legend=false)\n",
    "end\n",
    "\n",
    "scatter!(x, y, ms=1, msw=0, alpha=0.5)\n",
    "\n",
    "xlims!(0, 0.05)\n",
    "ylims!(0, 1e-2)\n",
    "p"
   ]
  },
  {
   "cell_type": "markdown",
   "id": "44",
   "metadata": {
    "jp-MarkdownHeadingCollapsed": true
   },
   "source": [
    "# CAAFE Regression"
   ]
  },
  {
   "cell_type": "code",
   "execution_count": null,
   "id": "45",
   "metadata": {},
   "outputs": [],
   "source": [
    "const solar_z = Dict(key => vice.solar_z(key) for key in vice.solar_z.keys())"
   ]
  },
  {
   "cell_type": "code",
   "execution_count": null,
   "id": "46",
   "metadata": {},
   "outputs": [],
   "source": [
    "function abund_to_brak(abundances, ele, ele2=\"h\")\n",
    "    if ele2 == \"h\"\n",
    "        return @. log10(abundances / solar_z[ele])\n",
    "    else\n",
    "        return @. log10(abundances) - log10(solar_z[ele] / solar_z[ele2])\n",
    "    end\n",
    "end"
   ]
  },
  {
   "cell_type": "code",
   "execution_count": null,
   "id": "47",
   "metadata": {},
   "outputs": [],
   "source": [
    "function calc_model(params, t=vec(LinRange(0.01, 13, 1000)))\n",
    "    zo_a = o_model(t, params)\n",
    "    zfe_a = fe_model(t, params)\n",
    "    zc_a = c_model(t, params)\n",
    "\n",
    "    o_h_a = abund_to_brak(zo_a, \"o\")\n",
    "    c_o_a = abund_to_brak(zc_a ./ zo_a, \"c\", \"o\")\n",
    "    o_fe_a = abund_to_brak(zo_a ./ zfe_a, \"o\", \"fe\")\n",
    "    \n",
    "    return o_fe_a, c_o_a, ones(length(t))\n",
    "        \n",
    "end"
   ]
  },
  {
   "cell_type": "code",
   "execution_count": null,
   "id": "48",
   "metadata": {},
   "outputs": [],
   "source": [
    "function mvn_prob(x, y, xerr, yerr, xm, ym)\n",
    "    return exp(-1/2 * ((y - ym)^2/yerr^2 + (x-xm)^2/xerr^2))\n",
    "end"
   ]
  },
  {
   "cell_type": "code",
   "execution_count": null,
   "id": "49",
   "metadata": {},
   "outputs": [],
   "source": [
    "function log_L(x, y, δx::AbstractVector, δy::AbstractVector, x_pred, y_pred, w)    \n",
    "    Nd = length(x) \n",
    "    Σs = Vector(undef, Nd)\n",
    "    \n",
    "    for i in 1:Nd\n",
    "        s = @. w * mvn_prob(x[i], y[i], δx[i], δy[i], x_pred, y_pred)\n",
    "        Σs[i] = sum(s)\n",
    "    end\n",
    "        \n",
    "    ll = sum( log.(Σs) ) # product for each data point\n",
    "    return ll\n",
    "end\n",
    "\n",
    "function log_L(x, y, δx::Real, δy::Real, x_pred, y_pred, w)    \n",
    "    Nd = length(x) \n",
    "    Σs = Vector(undef, Nd)\n",
    "    \n",
    "    for i in 1:Nd\n",
    "        s = @. w * mvn_prob(x[i], y[i], δx, δy, x_pred, y_pred)\n",
    "        Σs[i] = sum(s)\n",
    "    end\n",
    "        \n",
    "    ll = sum( log.(Σs) ) # product for each data point\n",
    "    return ll\n",
    "end"
   ]
  },
  {
   "cell_type": "code",
   "execution_count": null,
   "id": "50",
   "metadata": {},
   "outputs": [],
   "source": [
    "@model function singlezone_regression(x, y)\n",
    "    # Priors\n",
    "    ζ_c = 0\n",
    "    \n",
    "    t_d_agb ~ LogNormal(log(0.1), 0.4)\n",
    "    f_agb ~ Beta(1, 1.5)\n",
    "    τ_agb ~ LogNormal(log(0.3), 0.1)\n",
    "    η ~ Exponential(1)\n",
    "    σ_x ~ LogNormal(log(0.2), 0.5)\n",
    "    σ_y ~ LogNormal(log(0.5), 0.5)\n",
    "\n",
    "    if DynamicPPL.leafcontext(__context__) !== Turing.PriorContext()\n",
    "        params = to_params(f_agb=f_agb, τ_agb=τ_agb, t_d_agb=t_d_agb, η=η)\n",
    "        x_pred, y_pred, w = calc_model(params)\n",
    "        Turing.@addlogprob! log_L(x, y, σ_x, σ_y, x_pred, y_pred, w)\n",
    "    end\n",
    "end\n",
    "\n",
    "\n",
    "model_params = [:f_agb, :τ_agb, :t_d_agb, :η]\n",
    "function to_params(; f_agb, kwargs...)\n",
    "    y_c_tot = 2.3e-3\n",
    "\n",
    "    y_c_cc = (1-f_agb) * y_c_tot\n",
    "    y_c_agb = f_agb * y_c_tot\n",
    "    return Params(y_c_cc=y_c_cc, y_c_agb=y_c_agb; kwargs...)\n",
    "end"
   ]
  },
  {
   "cell_type": "code",
   "execution_count": null,
   "id": "51",
   "metadata": {},
   "outputs": [],
   "source": [
    "function to_params(row::DataFrameRow)\n",
    "    model_kwargs = Dict()\n",
    "    for name in names(row)\n",
    "        name = Symbol(name)\n",
    "        if name ∈ model_params\n",
    "            model_kwargs[name] = row[name]\n",
    "        end\n",
    "\n",
    "    end\n",
    "\n",
    "    params = to_params(;model_kwargs...)\n",
    "end"
   ]
  },
  {
   "cell_type": "code",
   "execution_count": null,
   "id": "52",
   "metadata": {},
   "outputs": [],
   "source": [
    "function plot_chain(chain; color=\"black\", legend=false, alpha=0.1, kwargs...)\n",
    "    df = DataFrame(chain)\n",
    "    p = plot()\n",
    "    for i in 1:size(df, 1)\n",
    "        params = to_params(df[i, :])\n",
    "        x_pred, y_pred, _ = calc_model(params)\n",
    "        plot!(x_pred, y_pred; \n",
    "            color=color, label=\"model\", legend=false,  alpha=alpha,\n",
    "            kwargs...)\n",
    "    end\n",
    "    return p\n",
    "end"
   ]
  },
  {
   "cell_type": "markdown",
   "id": "53",
   "metadata": {},
   "source": [
    "## Sample the prior"
   ]
  },
  {
   "cell_type": "code",
   "execution_count": null,
   "id": "54",
   "metadata": {},
   "outputs": [],
   "source": [
    "chain = sample(singlezone_regression(missing, missing), Prior(), 1000)"
   ]
  },
  {
   "cell_type": "code",
   "execution_count": null,
   "id": "55",
   "metadata": {},
   "outputs": [],
   "source": [
    "plot(chain)"
   ]
  },
  {
   "cell_type": "code",
   "execution_count": null,
   "id": "56",
   "metadata": {},
   "outputs": [],
   "source": [
    "plot_chain(chain)"
   ]
  },
  {
   "cell_type": "code",
   "execution_count": null,
   "id": "57",
   "metadata": {},
   "outputs": [],
   "source": [
    "x = subgiants.MG_FE.values\n",
    "y = subgiants.C_MG.values\n",
    "σ_y = subgiants.C_MG_ERR.values \n",
    "σ_x = subgiants.MG_FE_ERR.values \n",
    "\n",
    "filt = @. !isnan(x)\n",
    "@. filt &= !isnan(y)\n",
    "@. filt &= !isnan(σ_y)\n",
    "@. filt &= !isnan(σ_x)\n",
    "\n",
    "filt .&= σ_x .< 0.05\n",
    "filt .&= σ_y .< 0.1\n",
    "\n",
    "x = x[filt]\n",
    "y = y[filt]\n",
    "σ_y = σ_y[filt];\n",
    "σ_x = σ_x[filt];"
   ]
  },
  {
   "cell_type": "code",
   "execution_count": null,
   "id": "58",
   "metadata": {},
   "outputs": [],
   "source": [
    "model = singlezone_regression(x, y)"
   ]
  },
  {
   "cell_type": "code",
   "execution_count": null,
   "id": "59",
   "metadata": {},
   "outputs": [],
   "source": [
    "map_estimate = optimize(model, MAP())"
   ]
  },
  {
   "cell_type": "code",
   "execution_count": null,
   "id": "60",
   "metadata": {},
   "outputs": [],
   "source": [
    "@profilehtml sample(model, NUTS(0.65), 20, initial_params=map_estimate.values)"
   ]
  },
  {
   "cell_type": "code",
   "execution_count": null,
   "id": "61",
   "metadata": {},
   "outputs": [],
   "source": [
    "chain = sample(model, HMC(0.1, 5), 100, initial_params=map_estimate.values, ϵ=0.2)"
   ]
  },
  {
   "cell_type": "code",
   "execution_count": null,
   "id": "62",
   "metadata": {},
   "outputs": [],
   "source": [
    "plot(chain)"
   ]
  },
  {
   "cell_type": "code",
   "execution_count": null,
   "id": "63",
   "metadata": {},
   "outputs": [],
   "source": [
    "plot_chain(chain)\n",
    "scatter!(x, y, ms=2, msw=0, alpha=0.1)\n",
    "xlims!(-0.1, 0.6)\n",
    "ylims!(-0.5, 0.2)"
   ]
  },
  {
   "cell_type": "code",
   "execution_count": null,
   "id": "64",
   "metadata": {},
   "outputs": [],
   "source": []
  }
 ],
 "metadata": {
  "kernelspec": {
   "display_name": "Julia 1.11.2",
   "language": "julia",
   "name": "julia-1.11"
  },
  "language_info": {
   "file_extension": ".jl",
   "mimetype": "application/julia",
   "name": "julia",
   "version": "1.11.2"
  }
 },
 "nbformat": 4,
 "nbformat_minor": 5
}
