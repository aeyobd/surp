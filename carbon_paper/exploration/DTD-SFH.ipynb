{
 "cells": [
  {
   "cell_type": "code",
   "execution_count": null,
   "id": "0",
   "metadata": {},
   "outputs": [],
   "source": [
    "%load_ext autoreload\n",
    "%autoreload 2"
   ]
  },
  {
   "cell_type": "code",
   "execution_count": null,
   "id": "1",
   "metadata": {},
   "outputs": [],
   "source": [
    "import numpy as np\n",
    "import vice\n",
    "import matplotlib.pyplot as plt\n",
    "import sys\n",
    "sys.path.append(\"../\")\n",
    "from vice_utils import calculate_z, sample_stars, filter_stars, show_stars, R_to_zone, zone_to_R, show_at_R_z, AGB_MODELS\n",
    "from yields import y_c_agb, y_c_agb2\n",
    "import yields\n",
    "import scipy\n",
    "from plotting_utils import fig_saver\n",
    "import pandas as pd\n",
    "import apogee_analysis as aah\n",
    "import matplotlib as mpl\n",
    "from cycler import cycler"
   ]
  },
  {
   "cell_type": "code",
   "execution_count": null,
   "id": "2",
   "metadata": {},
   "outputs": [],
   "source": [
    "sf = fig_saver(\"figures/\")"
   ]
  },
  {
   "cell_type": "code",
   "execution_count": null,
   "id": "3",
   "metadata": {},
   "outputs": [],
   "source": [
    "AGB_MODELS = [\"cristallo11\", \"karakas10\", \"ventura13\", \"karakas16\"]\n",
    "AGB_LABELS = [\"C11+C15\", \"K10\", \"V13\", \"KL16+K18\"]\n",
    "vice.yields.ccsne.settings[\"c\"] = 0\n",
    "vice.yields.sneia.settings[\"c\"] = 0\n",
    "vice.yields.ccsne.settings[\"fe\"] = 0\n",
    "\n",
    "for i in range(4):\n",
    "    model = AGB_MODELS[i]\n",
    "    vice.yields.agb.settings[\"c\"] = model\n",
    "    m_c, times = vice.single_stellar_population(\"c\", Z=0.00014)\n",
    "    m_c = [c for c in m_c]\n",
    "    plt.plot(times, np.array(m_c)/m_c[-1])\n",
    "\n",
    "m_fe, times = vice.single_stellar_population(\"fe\", Z=0.014)\n",
    "m_fe = [fe for fe in m_fe]\n",
    "plt.plot(times, np.array(m_fe)/m_fe[-1], label=r\"Fe; $R_{Ia} \\propto t^{-1.1}$\", linestyle=\"--\", color=\"k\")"
   ]
  },
  {
   "cell_type": "code",
   "execution_count": null,
   "id": "4",
   "metadata": {},
   "outputs": [],
   "source": [
    "tau_rise = 2\n",
    "tau_sfh = 15\n",
    "def sfh(t):\n",
    "    return (1-np.exp(-t/tau_rise)) * np.exp(-t/tau_sfh)\n",
    "\n",
    "A = 1.5\n",
    "s_burst = 1\n",
    "t_burst = 11.2\n",
    "def lateburst(t):\n",
    "    return sfh(t) * (1 + A * np.exp(-(t-t_burst)**2/(2*s_burst**2)))"
   ]
  },
  {
   "cell_type": "code",
   "execution_count": null,
   "id": "5",
   "metadata": {},
   "outputs": [],
   "source": [
    "def convolve(agb_model, f, elem=\"c\"):\n",
    "    vice.yields.agb.settings[\"c\"] = model\n",
    "    m_c, times = vice.single_stellar_population(elem, Z=0.014, time=13.2)\n",
    "    m_c = np.array([c for c in m_c])\n",
    "    times = np.array(times)[:-1]\n",
    "    \n",
    "    dtd = (m_c[1:] - m_c[:-1])/m_c[-1]\n",
    "    \n",
    "    conv = []\n",
    "    for t in times:\n",
    "        filt = times < t\n",
    "        conv.append(sum(f(times[filt][::-1]) * dtd[filt]))\n",
    "    \n",
    "    conv = np.array(conv)\n",
    "    return conv, times"
   ]
  },
  {
   "cell_type": "code",
   "execution_count": null,
   "id": "6",
   "metadata": {},
   "outputs": [],
   "source": [
    "for model in AGB_MODELS:\n",
    "    conv, times = convolve(model, sfh)\n",
    "    plt.plot(times, conv, label=model)\n",
    "conv, times = convolve(model, sfh, \"fe\")\n",
    "plt.plot(times, conv, label=\"fe\") \n",
    "    \n",
    "plt.ylabel(r\"$DTD \\ast \\dot{M}_\\star$\")\n",
    "plt.xlabel(\"t\")\n",
    "plt.legend()"
   ]
  },
  {
   "cell_type": "code",
   "execution_count": null,
   "id": "7",
   "metadata": {},
   "outputs": [],
   "source": [
    "for model in AGB_MODELS:\n",
    "    conv, times = convolve(model, lateburst)\n",
    "    plt.plot(times, conv, label=model)\n",
    "\n",
    "conv, times = convolve(model, lateburst, \"fe\")\n",
    "plt.plot(times, conv, label=\"fe\") \n",
    "    \n",
    "plt.ylabel(r\"$DTD \\ast \\dot{M}_\\star$\")\n",
    "plt.xlabel(\"t\")\n",
    "plt.legend()"
   ]
  },
  {
   "cell_type": "code",
   "execution_count": null,
   "id": "8",
   "metadata": {},
   "outputs": [],
   "source": [
    "conv, times = convolve(\"cristallo11\", sfh)\n",
    "plt.plot(times, conv)\n",
    "plt.ylabel(r\"$DTD \\ast \\dot{M}_\\star$\")"
   ]
  },
  {
   "cell_type": "code",
   "execution_count": null,
   "id": "9",
   "metadata": {},
   "outputs": [],
   "source": [
    "A = 1.5\n",
    "s_burst = 1\n",
    "t_burst = 11.2\n",
    "def run_model(eta_factor = 1, func=sfh, t_max=13.2):\n",
    "    if eta_factor != 1:\n",
    "        pass\n",
    "    for ele in [\"o\", \"fe\"]:\n",
    "        vice.yields.ccsne.settings[ele] *= eta_factor\n",
    "\n",
    "    model = vice.singlezone(func=func, mode=\"sfr\", dt=0.01, elements=(\"n\", \"o\", \"fe\", \"c\"), eta=2.17*eta_factor)\n",
    "    out = model.run(np.linspace(0, t_max, round(10*t_max + 1)), overwrite=True, capture=True)\n",
    "    return out\n"
   ]
  },
  {
   "cell_type": "code",
   "execution_count": null,
   "id": "10",
   "metadata": {},
   "outputs": [],
   "source": [
    "def show_agb(out, ax=None, fig=None):\n",
    "    if ax is None:\n",
    "        fig, ax = plt.subplots()\n",
    "    x = out.history[\"time\"][:-1]\n",
    "    y = calc_agb(out.history)\n",
    "    plt.plot(x, y)\n"
   ]
  },
  {
   "cell_type": "code",
   "execution_count": null,
   "id": "11",
   "metadata": {},
   "outputs": [],
   "source": [
    "vice.yields.ccsne.settings[\"c\"] = 0.005"
   ]
  },
  {
   "cell_type": "code",
   "execution_count": null,
   "id": "12",
   "metadata": {},
   "outputs": [],
   "source": [
    "vice.yields.ccsne.settings[\"fe\"] = 0.0012"
   ]
  },
  {
   "cell_type": "code",
   "execution_count": null,
   "id": "13",
   "metadata": {},
   "outputs": [],
   "source": [
    "def calc_agb(h):\n",
    "    def y_c_cc(z):\n",
    "        return 0.005\n",
    "    sfr = np.array(h[\"sfr\"][:-1])\n",
    "    z_o = np.array(h[\"z(o)\"][1:])\n",
    "    z_c = np.array(h[\"z(c)\"][1:])\n",
    "    z = 0.014*10**np.array(h[\"[m/h]\"][:-1])\n",
    "    eta = np.array(h[\"eta_0\"][1:])\n",
    "    r = np.array(h[\"r_eff\"][1:])\n",
    "    t = h[\"time\"][:-1]\n",
    "\n",
    "    dt = (t[1] - t[0])*10**9\n",
    "    m_dot_c = (h[\"mass(c)\"][1:] - np.array(h[\"mass(c)\"][:-1]))/dt\n",
    "\n",
    "    m_dot_c_out = - sfr * z_c*(1 + eta - r)\n",
    "    m_dot_c_cc = sfr*y_c_cc(z)\n",
    "    m_dot_c_agb = m_dot_c - m_dot_c_cc - m_dot_c_out\n",
    "    m_dot_c_total = m_dot_c_cc + m_dot_c_agb\n",
    "    return m_dot_c_agb\n",
    "\n",
    "def calc_ia(h):\n",
    "    dy_fe_ia = 0.015\n",
    "    sfr = np.array(h[\"sfr\"][:-1])\n",
    "    z_o = np.array(h[\"z(o)\"][1:])\n",
    "    z_fe = np.array(h[\"z(fe)\"][1:])\n",
    "    z = 0.014*10**np.array(h[\"[m/h]\"][:-1])\n",
    "    eta = np.array(h[\"eta_0\"][1:])\n",
    "    r = np.array(h[\"r_eff\"][1:])\n",
    "    t = h[\"time\"][:-1]\n",
    "\n",
    "    dt = (t[1] - t[0])*10**9\n",
    "    m_dot_fe = (h[\"mass(fe)\"][1:] - np.array(h[\"mass(fe)\"][:-1]))/dt\n",
    "\n",
    "    m_dot_fe_out = - sfr * z_fe*(1 + eta - r)\n",
    "    m_dot_fe_cc = sfr*vice.yields.ccsne.settings[\"fe\"]\n",
    "    m_dot_fe_ia = m_dot_fe - m_dot_fe_cc - m_dot_fe_out\n",
    "    return m_dot_fe_ia\n",
    "\n"
   ]
  },
  {
   "cell_type": "code",
   "execution_count": null,
   "id": "14",
   "metadata": {},
   "outputs": [],
   "source": [
    "for model in AGB_MODELS:\n",
    "    vice.yields.agb.settings[\"c\"] = model\n",
    "\n",
    "    out = run_model()\n",
    "    x = out.history[\"time\"][:-1]\n",
    "    y = calc_agb(out.history)\n",
    "    plt.plot(x, y, label=model)\n",
    "\n",
    "out = run_model()\n",
    "plt.plot(out.history[\"time\"][:-1], calc_ia(out.history)/2, label=\"fe\")\n",
    "plt.legend()\n"
   ]
  },
  {
   "cell_type": "code",
   "execution_count": null,
   "id": "15",
   "metadata": {},
   "outputs": [],
   "source": [
    "for model in AGB_MODELS:\n",
    "    vice.yields.agb.settings[\"c\"] = model\n",
    "\n",
    "    out = run_model(func=lateburst)\n",
    "    x = out.history[\"time\"][:-1]\n",
    "    y = calc_agb(out.history)\n",
    "    plt.plot(x, y, label=model)\n",
    "out = run_model(func=lateburst)\n",
    "plt.plot(out.history[\"time\"][:-1], calc_ia(out.history)/2, label=\"fe\")\n",
    "plt.legend()"
   ]
  },
  {
   "cell_type": "code",
   "execution_count": null,
   "id": "16",
   "metadata": {},
   "outputs": [],
   "source": [
    "for model in AGB_MODELS:\n",
    "    vice.yields.agb.settings[\"c\"] = model\n",
    "\n",
    "    out = run_model()\n",
    "    x = out.history[\"time\"][:-1]\n",
    "    sfr = np.array(out.history[\"sfr\"])[:-1]\n",
    "    y_o = sfr * 0.015\n",
    "    y = calc_agb(out.history)/y_o\n",
    "    plt.plot(x, y, label=model)\n",
    "\n",
    "out = run_model()\n",
    "plt.plot(out.history[\"time\"][:-1], calc_ia(out.history)/2/y_o, label=\"fe\")\n",
    "plt.legend()"
   ]
  },
  {
   "cell_type": "code",
   "execution_count": null,
   "id": "17",
   "metadata": {},
   "outputs": [],
   "source": [
    "for model in AGB_MODELS:\n",
    "    vice.yields.agb.settings[\"c\"] = model\n",
    "\n",
    "    out = run_model(func = lateburst)\n",
    "    x = out.history[\"time\"][:-1]\n",
    "    sfr = np.array(out.history[\"sfr\"])[:-1]\n",
    "    y_o = sfr * 0.015\n",
    "    y = calc_agb(out.history)/y_o\n",
    "    plt.plot(x, y, label=model)\n",
    "\n",
    "out = run_model(func = lateburst)\n",
    "plt.plot(out.history[\"time\"][:-1], calc_ia(out.history)/2/y_o, label=\"fe\")\n",
    "plt.legend()"
   ]
  },
  {
   "cell_type": "code",
   "execution_count": null,
   "id": "18",
   "metadata": {},
   "outputs": [],
   "source": [
    "for model in AGB_MODELS:\n",
    "    vice.yields.agb.settings[\"c\"] = model\n",
    "\n",
    "    out = run_model()\n",
    "    x = calc_ia(out.history)/y_o\n",
    "    sfr = np.array(out.history[\"sfr\"])[:-1]\n",
    "    y_o = sfr * 0.015\n",
    "    y = calc_agb(out.history)/y_o\n",
    "    plt.scatter(x, y, s=sfr, label=model)\n",
    "plt.xlim(0.05, 0.2)\n",
    "\n",
    "plt.legend()\n",
    "plt.xscale(\"log\")\n",
    "plt.yscale(\"log\")\n"
   ]
  },
  {
   "cell_type": "code",
   "execution_count": null,
   "id": "19",
   "metadata": {},
   "outputs": [],
   "source": [
    "for model in AGB_MODELS:\n",
    "    vice.yields.agb.settings[\"c\"] = model\n",
    "\n",
    "    out = run_model(func=lateburst)\n",
    "    x = calc_ia(out.history)/y_o\n",
    "    sfr = np.array(out.history[\"sfr\"])[:-1]\n",
    "    y_o = sfr * 0.015\n",
    "    y = calc_agb(out.history)/y_o\n",
    "    plt.scatter(x, y, s=sfr, label=model)\n",
    "plt.xlim(0.05, 0.2)\n",
    "plt.legend()\n",
    "\n"
   ]
  },
  {
   "cell_type": "code",
   "execution_count": null,
   "id": "20",
   "metadata": {},
   "outputs": [],
   "source": [
    "vice.solar_z(\"fe\")/vice.solar_z(\"o\")"
   ]
  },
  {
   "cell_type": "code",
   "execution_count": null,
   "id": "21",
   "metadata": {},
   "outputs": [],
   "source": [
    "vice.yields.agb.settings[\"c\"] = \"cristallo11\"\n",
    "\n",
    "out = run_model(func=lateburst)\n",
    "x = calc_ia(out.history)/y_o\n",
    "sfr = np.array(out.history[\"sfr\"])[:-1]\n",
    "y_o = sfr * 0.015\n",
    "y = calc_agb(out.history)/y_o\n",
    "plt.scatter(x, y, s=sfr, label=model, c=out.history[\"time\"][:-1])\n",
    "plt.colorbar()\n",
    "plt.ylim(0.015, 0.03)"
   ]
  },
  {
   "cell_type": "code",
   "execution_count": null,
   "id": "22",
   "metadata": {},
   "outputs": [],
   "source": []
  }
 ],
 "metadata": {
  "kernelspec": {
   "display_name": "Python 3",
   "language": "python",
   "name": "python3"
  },
  "language_info": {
   "codemirror_mode": {
    "name": "ipython",
    "version": 3
   },
   "file_extension": ".py",
   "mimetype": "text/x-python",
   "name": "python",
   "nbconvert_exporter": "python",
   "pygments_lexer": "ipython3",
   "version": "3.6.8"
  }
 },
 "nbformat": 4,
 "nbformat_minor": 5
}
