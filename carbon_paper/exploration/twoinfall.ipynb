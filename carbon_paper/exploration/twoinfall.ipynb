{
 "cells": [
  {
   "cell_type": "code",
   "execution_count": null,
   "id": "0",
   "metadata": {},
   "outputs": [],
   "source": [
    "import surp\n",
    "import arya\n",
    "import matplotlib.pyplot as plt\n",
    "import numpy as np\n",
    "import sys\n",
    "import vice"
   ]
  },
  {
   "cell_type": "code",
   "execution_count": null,
   "id": "1",
   "metadata": {},
   "outputs": [],
   "source": [
    "sys.path.append(\"..\")\n",
    "import singlezone"
   ]
  },
  {
   "cell_type": "code",
   "execution_count": null,
   "id": "2",
   "metadata": {},
   "outputs": [],
   "source": [
    "t1 = 4.1\n",
    "t_end = 13.2\n",
    "nu1 = 2\n",
    "nu2 = 1\n",
    "\n",
    "tau1=0.1\n",
    "tau2= 8\n",
    "A21 = 8\n",
    "\n",
    "Atot = A21 + 1\n",
    "\n",
    "Mstar = 6454249300.0\n",
    "A = Mstar / Atot / 1.41"
   ]
  },
  {
   "cell_type": "code",
   "execution_count": null,
   "id": "3",
   "metadata": {},
   "outputs": [],
   "source": [
    "zonewidth = 2 # kpc\n",
    "R0 = 8\n",
    "area = np.pi * ((R0 + zonewidth/2)**2 - (R0 - zonewidth/2)**2)\n"
   ]
  },
  {
   "cell_type": "code",
   "execution_count": null,
   "id": "4",
   "metadata": {},
   "outputs": [],
   "source": [
    "sfh = surp.simulation.sfh_models.twoexp(t1=t1, t2=t_end, tau1=tau1, tau2=tau2, A21=A21)\n",
    "tau_star = surp.simulation.properties.twoinfall_sf_law(area=area, t1=t1, nu1=nu1, nu2=nu2)\n",
    "\n",
    "def tau_star(t):\n",
    "    if t < t1:  \n",
    "        return 1/nu1\n",
    "    else:\n",
    "        return 1/nu2\n",
    "sfh.norm = A"
   ]
  },
  {
   "cell_type": "code",
   "execution_count": null,
   "id": "5",
   "metadata": {},
   "outputs": [],
   "source": [
    "t = np.linspace(0, 13.2, 1000)\n",
    "plt.plot(t, sfh(t))\n",
    "plt.xlabel(\"time / Gyr\")\n",
    "plt.ylabel(\"infall rate\")"
   ]
  },
  {
   "cell_type": "code",
   "execution_count": null,
   "id": "6",
   "metadata": {},
   "outputs": [],
   "source": [
    "plt.plot(t, [tau_star(x) for x in t])\n",
    "plt.xlabel(\"time\")\n",
    "plt.ylabel(\"tau star\")"
   ]
  },
  {
   "cell_type": "code",
   "execution_count": null,
   "id": "7",
   "metadata": {},
   "outputs": [],
   "source": [
    "surp.set_yields();"
   ]
  },
  {
   "cell_type": "code",
   "execution_count": null,
   "id": "8",
   "metadata": {},
   "outputs": [],
   "source": [
    "sz = vice.singlezone(func=sfh, mode=\"ifr\", eta=0.5, tau_star=tau_star, dt=0.01, Mg0=0, schmidt=True)\n",
    "\n",
    "sz"
   ]
  },
  {
   "cell_type": "code",
   "execution_count": null,
   "id": "9",
   "metadata": {},
   "outputs": [],
   "source": [
    "# vice.yields.ccsne.settings[\"mg\"] = 0.000652 * 0.9\n",
    "# vice.yields.sneia.settings[\"fe\"] = 0.00077 * 1.1\n",
    "# vice.yields.ccsne.settings[\"fe\"] = 0.000473 * 0.8"
   ]
  },
  {
   "cell_type": "code",
   "execution_count": null,
   "id": "10",
   "metadata": {},
   "outputs": [],
   "source": [
    "out = sz.run(t, capture=True, overwrite=True)"
   ]
  },
  {
   "cell_type": "code",
   "execution_count": null,
   "id": "11",
   "metadata": {},
   "outputs": [],
   "source": [
    "h = singlezone.extract_history(out)"
   ]
  },
  {
   "cell_type": "code",
   "execution_count": null,
   "id": "12",
   "metadata": {},
   "outputs": [],
   "source": [
    "plt.plot(h.time, h.ifr)"
   ]
  },
  {
   "cell_type": "code",
   "execution_count": null,
   "id": "13",
   "metadata": {},
   "outputs": [],
   "source": [
    "plt.plot(h.time, h.sfr)"
   ]
  },
  {
   "cell_type": "code",
   "execution_count": null,
   "id": "14",
   "metadata": {},
   "outputs": [],
   "source": [
    "plt.scatter(surp.subgiants.FE_H,  surp.subgiants.MG_FE, s=1, alpha=0.1)\n",
    "plt.scatter(h.FE_H, -h.FE_O, s=2*h.sfr, alpha=0.1)\n",
    "\n",
    "plt.xlabel(\"[Fe/H]\")\n",
    "plt.ylabel(\"[Mg/Fe]\")\n",
    "plt.xlim(-2, 0.5)\n",
    "plt.ylim(0, 0.6)"
   ]
  },
  {
   "cell_type": "code",
   "execution_count": null,
   "id": "15",
   "metadata": {},
   "outputs": [],
   "source": []
  },
  {
   "cell_type": "code",
   "execution_count": null,
   "id": "16",
   "metadata": {},
   "outputs": [],
   "source": []
  }
 ],
 "metadata": {
  "kernelspec": {
   "display_name": "Python (3.10)",
   "language": "python",
   "name": "python3"
  },
  "language_info": {
   "codemirror_mode": {
    "name": "ipython",
    "version": 3
   },
   "file_extension": ".py",
   "mimetype": "text/x-python",
   "name": "python",
   "nbconvert_exporter": "python",
   "pygments_lexer": "ipython3",
   "version": "3.10.10"
  }
 },
 "nbformat": 4,
 "nbformat_minor": 5
}
