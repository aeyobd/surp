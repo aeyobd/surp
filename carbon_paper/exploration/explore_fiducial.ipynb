{
 "cells": [
  {
   "cell_type": "code",
   "execution_count": null,
   "id": "0",
   "metadata": {},
   "outputs": [],
   "source": [
    "%load_ext autoreload\n",
    "%autoreload 2"
   ]
  },
  {
   "cell_type": "code",
   "execution_count": null,
   "id": "1",
   "metadata": {
    "tags": []
   },
   "outputs": [],
   "source": [
    "import random\n",
    "import numpy as np\n",
    "import pandas as pd\n",
    "from scipy.interpolate import interp1d\n",
    "from scipy.integrate import quad\n",
    "\n",
    "import matplotlib.pyplot as plt\n",
    "import matplotlib as mpl\n",
    "import matplotlib.patheffects\n",
    "\n",
    "import vice"
   ]
  },
  {
   "cell_type": "code",
   "execution_count": null,
   "id": "2",
   "metadata": {},
   "outputs": [],
   "source": [
    "from surp import ViceModel\n",
    "from surp import subgiants\n",
    "import seaborn as sns\n",
    "import arya\n",
    "import surp"
   ]
  },
  {
   "cell_type": "code",
   "execution_count": null,
   "id": "3",
   "metadata": {},
   "outputs": [],
   "source": [
    "fiducial = ViceModel.from_saved(\"../../models/C11_f0.2_RIaexp/model.json\")"
   ]
  },
  {
   "cell_type": "code",
   "execution_count": null,
   "id": "4",
   "metadata": {},
   "outputs": [],
   "source": [
    "tracks = pd.read_csv(\"../out/C11_f0.2_gaussian_dt0.05_gaussian_walks.dat\")"
   ]
  },
  {
   "cell_type": "code",
   "execution_count": null,
   "id": "5",
   "metadata": {},
   "outputs": [],
   "source": [
    "s = fiducial.stars_unsampled"
   ]
  },
  {
   "cell_type": "code",
   "execution_count": null,
   "id": "6",
   "metadata": {},
   "outputs": [],
   "source": [
    "filt = s.formation_time < 10\n",
    "s1 = s[filt]"
   ]
  },
  {
   "cell_type": "code",
   "execution_count": null,
   "id": "7",
   "metadata": {},
   "outputs": [],
   "source": [
    "dt = 13.2 - s1.formation_time\n",
    "dr = (s1.r_final - s1.r_origin)\n",
    "slope = dr / dt**0.5"
   ]
  },
  {
   "cell_type": "code",
   "execution_count": null,
   "id": "8",
   "metadata": {},
   "outputs": [],
   "source": [
    "gaus = "
   ]
  },
  {
   "cell_type": "code",
   "execution_count": null,
   "id": "9",
   "metadata": {},
   "outputs": [],
   "source": [
    "plt.hist(slope, 100, density=True, histtype=\"step\");\n",
    "x = np.linspace(-4, 4)\n",
    "sigma = 1.2\n",
    "y = 1/(2*np.pi*sigma)**0.5 * np.exp(-x**2/(2*sigma**2))\n",
    "plt.plot(x, y)"
   ]
  },
  {
   "cell_type": "code",
   "execution_count": null,
   "id": "10",
   "metadata": {},
   "outputs": [],
   "source": [
    "plt.scatter(df.formation_time, df.zone_final)"
   ]
  },
  {
   "cell_type": "code",
   "execution_count": null,
   "id": "11",
   "metadata": {},
   "outputs": [],
   "source": [
    "df = tracks[tracks.N == 15000]\n",
    "plt.scatter(df.t, df.R)"
   ]
  },
  {
   "cell_type": "code",
   "execution_count": null,
   "id": "12",
   "metadata": {},
   "outputs": [],
   "source": []
  },
  {
   "cell_type": "code",
   "execution_count": null,
   "id": "13",
   "metadata": {},
   "outputs": [],
   "source": [
    "surp.yields.set_yields()"
   ]
  },
  {
   "cell_type": "code",
   "execution_count": null,
   "id": "14",
   "metadata": {},
   "outputs": [],
   "source": [
    "vice.solar_z(\"o\")/vice.solar_z(\"mg\")"
   ]
  },
  {
   "cell_type": "code",
   "execution_count": null,
   "id": "15",
   "metadata": {},
   "outputs": [],
   "source": [
    "vice.yields.ccsne.settings[\"o\"]/vice.yields.ccsne.settings[\"mg\"]"
   ]
  },
  {
   "cell_type": "code",
   "execution_count": null,
   "id": "16",
   "metadata": {},
   "outputs": [],
   "source": [
    "plt.scatter(fiducial.stars.MG_H, fiducial.stars.O_MG)"
   ]
  },
  {
   "cell_type": "code",
   "execution_count": null,
   "id": "17",
   "metadata": {},
   "outputs": [],
   "source": [
    "fig, axs = plt.subplots(1, 2, sharey=True, gridspec_kw={\"wspace\": 0}, figsize=(7, 10/3), dpi=350)\n",
    "\n",
    "plt.sca(axs[0])\n",
    "h = fiducial.history\n",
    "\n",
    "coords = []\n",
    "\n",
    "for R in [4, 6, 8, 10, 12]:\n",
    "    df = h[np.isclose(h.R, R - 0.05)]\n",
    "    plt.plot(df[\"[o/h]\"], df[\"[c/o]\"], color=\"k\")\n",
    "    coords.append((\n",
    "            df[\"[o/h]\"][-1], \n",
    "            df[\"[c/o]\"][-1]\n",
    "        ))\n",
    "\n",
    "\n",
    "texts = [\n",
    "    \"4\",\n",
    "    \"6\",\n",
    "    \"8\",\n",
    "    \"10\",\n",
    "    r\"12\\,kpc\"\n",
    "]\n",
    "\n",
    "for i in range(len(coords)):\n",
    "    if i >= 2:\n",
    "        offset = (-6, 12)\n",
    "    else:\n",
    "        offset = (-3, 6)\n",
    "    text = plt.annotate(texts[i], xy=coords[i],  zorder=20, ha=\"center\", va=\"bottom\",  \n",
    "                        xycoords='data', textcoords='offset points', xytext=offset)\n",
    "\n",
    "sns.scatterplot(h[(h.R > 2) & (h.R < 15.5)], x=\"[o/h]\", y=\"[c/o]\", hue=\"time\", s=0.3, alpha=1, legend=False, edgecolor=\"none\", palette=\"arya_r\", rasterized=True)\n",
    "plt.xlim(-0.8, 0.6)\n",
    "plt.ylim(-0.4, 0.05)\n",
    "\n",
    "\n",
    "plt.xlabel(\"[Mg/H]\")\n",
    "plt.ylabel(\"[C/Mg]\")\n",
    "\n",
    "plt.sca(axs[1])\n",
    "\n",
    "\n",
    "\n",
    "filt = fiducial.history[\"[o/h]\"] > -0.15\n",
    "filt &= fiducial.history[\"[o/h]\"] < -0.05\n",
    "h = fiducial.history\n",
    "\n",
    "cax = axs[1].inset_axes([1.05, 0., 0.05, 1])\n",
    "\n",
    "cb = arya.Colorbar(clim=(0, 13.2), label=r\"time (Gyr)\", cmap=\"arya_r\", cax=cax)\n",
    "\n",
    "coords = []\n",
    "\n",
    "for R in np.sort(h.R.unique()[19:155]):\n",
    "    dfa = h[h.R == R]\n",
    "    s = 1# 0*(0.05 - np.abs(dfa[\"[o/h]\"] + 0.10))\n",
    "    plt.scatter(dfa[\"[o/fe]\"], dfa[\"[c/o]\"], c=cb(dfa.time), s=0.3, ec=\"none\", rasterized=True, zorder=1)\n",
    "    if any(np.isclose(R+0.05, [4, 6, 8, 10, 12])):\n",
    "        coords.append((\n",
    "            dfa[\"[o/fe]\"][-1], \n",
    "            dfa[\"[c/o]\"][-1]\n",
    "        ))\n",
    "\n",
    "        plt.plot(dfa[\"[o/fe]\"], dfa[\"[c/o]\"], color=\"k\", zorder=2, lw=1)\n",
    "    \n",
    "\n",
    "texts = [\n",
    "    \"4\\\\,kpc\",\n",
    "    \"6\",\n",
    "    \"8\",\n",
    "    \"10\",\n",
    "    r\"12\"\n",
    "]\n",
    "\n",
    "for i in range(len(coords)):\n",
    "    text = plt.annotate(texts[i], xy=coords[i],  zorder=20, ha=\"right\",  va=\"center\",\n",
    "                        xycoords='data', textcoords='offset points', xytext=(-3, 0))\n",
    "#     text.set_path_effects([mpl.patheffects.Stroke(linewidth=5, foreground='w'),\n",
    "#                    mpl.patheffects.Normal()])\n",
    "    \n",
    "# plt.xlim(-0.05, 0.3)\n",
    "# plt.ylim(-0.35, 0.05)\n",
    "plt.xlabel(\"[Mg/Fe]\")\n",
    "\n"
   ]
  },
  {
   "cell_type": "markdown",
   "id": "18",
   "metadata": {},
   "source": [
    "# F AGB\n",
    "Here, I want to make plots of the AGB Fraction across the galaxy."
   ]
  },
  {
   "cell_type": "code",
   "execution_count": null,
   "id": "19",
   "metadata": {},
   "outputs": [],
   "source": [
    "def y_cc(Z):\n",
    "    return surp.yields.C_CC_model(zeta=0.09, y0=0.004)(Z)"
   ]
  },
  {
   "cell_type": "code",
   "execution_count": null,
   "id": "20",
   "metadata": {},
   "outputs": [],
   "source": [
    "h = fiducial.history\n",
    "m_star = h[\"sfr\"]*1e9 # Msun/yr (default)\n",
    "denom = 1 + h[\"eta_0\"] - h[\"r_eff\"]\n",
    "Zc = h[\"z(c)\"]\n",
    "Mc = h[\"mass(c)\"] # Msun\n",
    "dt = h.time.unique()[1] # Gyr\n",
    "\n",
    "smooth = 10\n",
    "Mc_dot = np.concatenate([np.zeros(smooth), \n",
    "                         Mc[smooth:] - np.array(Mc[:-smooth]),\n",
    "                        ]\n",
    "                       )/(smooth*dt)\n",
    "Z = h[\"z\"]\n",
    "\n",
    "yc_cc = y_cc(Z)\n",
    "y_c = (Mc_dot + denom*Zc*m_star)/m_star\n",
    "y_c_agb = y_c - yc_cc\n",
    "f_agb = np.array(y_c_agb/y_c)\n",
    "\n",
    "X = np.reshape(f_agb, (200, -1))"
   ]
  },
  {
   "cell_type": "code",
   "execution_count": null,
   "id": "21",
   "metadata": {},
   "outputs": [],
   "source": [
    "max(f_agb[f_agb < 0.5])"
   ]
  },
  {
   "cell_type": "code",
   "execution_count": null,
   "id": "22",
   "metadata": {},
   "outputs": [],
   "source": [
    "plt.plot(np.transpose(X)[-1,:])\n",
    "plt.ylim(-1, 1)"
   ]
  },
  {
   "cell_type": "code",
   "execution_count": null,
   "id": "23",
   "metadata": {},
   "outputs": [],
   "source": [
    "plt.figure(figsize=(10/3, 10/3/np.sqrt(2)))\n",
    "plt.imshow(np.transpose(X)[::-1], clim=(0, 0.4), extent=(0, 20, 0, 13.2), aspect=\"auto\")\n",
    "plt.xlim(1, 15)\n",
    "plt.ylim(smooth*dt)\n",
    "\n",
    "plt.colorbar(label=r\"$f_{\\rm agb}(R, t)$\")\n",
    "plt.xlabel(\"radius (kpc)\")\n",
    "plt.ylabel(\"time (Gyr)\")\n",
    "\n",
    "plt.savefig(\"figures/f_agb_rt.pdf\")"
   ]
  },
  {
   "cell_type": "markdown",
   "id": "24",
   "metadata": {},
   "source": [
    "# Checking the MDFs"
   ]
  },
  {
   "cell_type": "code",
   "execution_count": null,
   "id": "25",
   "metadata": {},
   "outputs": [],
   "source": [
    "df = fiducial.stars\n",
    "\n",
    "plt.hist(df[\"[o/fe]\"], 100, histtype=\"step\", density=True, range=(-0.3, 0.7))\n",
    "plt.hist(subgiants[\"MG_FE\"], 100, histtype=\"step\", density=True, range=(-0.3, 0.7));\n",
    "plt.xlabel(\"[Mg/Fe]\")"
   ]
  },
  {
   "cell_type": "code",
   "execution_count": null,
   "id": "26",
   "metadata": {},
   "outputs": [],
   "source": [
    "plt.hist(df[\"age\"], 13)"
   ]
  },
  {
   "cell_type": "code",
   "execution_count": null,
   "id": "27",
   "metadata": {},
   "outputs": [],
   "source": [
    "df = fiducial.stars\n",
    "\n",
    "plt.hist(df[\"[c/o]\"] + np.random.normal(0, 0.07, len(df)), 100, histtype=\"step\", density=True, range=(-0.3, 0.3))\n",
    "plt.hist(subgiants[\"C_MG\"], 100, histtype=\"step\", density=True, range=(-0.3, 0.3));\n",
    "plt.xlabel(\"[C/Mg]\")"
   ]
  },
  {
   "cell_type": "code",
   "execution_count": null,
   "id": "28",
   "metadata": {},
   "outputs": [],
   "source": [
    "df = fiducial.stars\n",
    "\n",
    "plt.hist(df[\"[mg/h]\"] + np.random.normal(0, 0.0, len(df)), 100, histtype=\"step\", density=True, range=(-0.5, 0.7), label=\"model\")\n",
    "plt.hist(subgiants[\"MG_H\"], 100, histtype=\"step\", density=True, range=(-0.5, 0.7), label=\"subgiants\");\n",
    "plt.xlabel(\"[Mg/H]\")\n",
    "plt.ylabel(\"density\")\n",
    "plt.legend()\n",
    "plt.savefig(\"mdf.pdf\")"
   ]
  },
  {
   "cell_type": "code",
   "execution_count": null,
   "id": "29",
   "metadata": {},
   "outputs": [],
   "source": [
    "df = fiducial.stars\n",
    "\n",
    "plt.hist(df[\"[o/h]\"] + np.random.normal(0, 0.1, len(df)), 100, histtype=\"step\", density=True, range=(-0.5, 0.7))\n",
    "plt.hist(subgiants[\"O_H\"], 100, histtype=\"step\", density=True, range=(-0.5, 0.7));\n",
    "plt.xlabel(\"[O/H]\")"
   ]
  },
  {
   "cell_type": "code",
   "execution_count": null,
   "id": "30",
   "metadata": {},
   "outputs": [],
   "source": [
    "df = fiducial.stars\n",
    "\n",
    "plt.hist(df[\"[fe/h]\"] + np.random.normal(0, 0.2, len(df)), 100, histtype=\"step\", density=True, range=(-0.7, 0.7))\n",
    "plt.hist(subgiants[\"FE_H\"], 100, histtype=\"step\", density=True, range=(-0.7, 0.7));\n",
    "plt.xlabel(\"[Fe/H]\")"
   ]
  },
  {
   "cell_type": "code",
   "execution_count": null,
   "id": "31",
   "metadata": {},
   "outputs": [],
   "source": [
    "ino = surp.simulation.models.insideout.timescale\n",
    "\n",
    "h = fiducial.history[np.isclose(fiducial.history.R, 7.05)]\n",
    "tau_star = h.mgas / h.sfr / 1e9\n",
    "plt.plot(h.time, tau_star/[ino(r) for r in h.R])\n",
    "plt.ylim(0, 1)"
   ]
  },
  {
   "cell_type": "code",
   "execution_count": null,
   "id": "32",
   "metadata": {},
   "outputs": [],
   "source": [
    "hmap = arya.figure.colorbar.HueMap((0, 15.5), cmap=\"arya_r\")\n",
    "for R in (np.arange(3, 13, 1) + 0.05):\n",
    "    h = fiducial.history[np.isclose(fiducial.history.R, R)]\n",
    "    tau_star = h.sfr\n",
    "    plt.plot(h.time, tau_star, color=hmap(R))\n",
    "\n",
    "plt.xlabel(\"t\")\n",
    "plt.ylabel(\"sfr\")"
   ]
  },
  {
   "cell_type": "code",
   "execution_count": null,
   "id": "33",
   "metadata": {},
   "outputs": [],
   "source": [
    "h = fiducial.history[fiducial.history.time == 13]\n",
    "plt.xlim(0, 15)\n",
    "plt.plot(h.R, h[\"[mg/h]\"], label=\"model\")\n",
    "plt.ylim(-1, 1)\n",
    "\n",
    "x = h.R\n",
    "\n",
    "plt.plot(x, surp.simulation.multizone_sim.MH_grad(x), label=\"hayden, low alpha\")\n",
    "plt.xlabel(\"R (kpc)\")\n",
    "plt.ylabel(\"[M/H]\")\n",
    "\n",
    "# arya.medianplot(giants[~giants.high_alpha], \"R_gal\", \"MG_H\", binsize=500, stat=\"median\", errorbar='pi', label=\"giants, low alpha\")\n",
    "# arya.medianplot(fiducial.stars, \"r_final\", \"MG_H\", binsize=500, stat=\"median\", errorbar='pi')\n",
    "\n",
    "arya.Legend(color_only=True)\n",
    "plt.savefig(\"M_H.pdf\")"
   ]
  },
  {
   "cell_type": "code",
   "execution_count": null,
   "id": "34",
   "metadata": {},
   "outputs": [],
   "source": [
    "plt.plot(h.R, h.eta_0)\n",
    "eta = surp.simulation.multizone_sim.mass_loading(tau_s_sf=0)\n",
    "plt.plot(h.R, eta(h.R))\n",
    "plt.xlabel(\"R\")\n",
    "plt.ylabel(\"eta\")"
   ]
  },
  {
   "cell_type": "code",
   "execution_count": null,
   "id": "35",
   "metadata": {},
   "outputs": [],
   "source": [
    "df = fiducial.stars_unsampled\n",
    "\n",
    "num = 10_000\n",
    "idx = random.choices(np.arange(len(df)), weights=df[\"mass\"], k=num)\n",
    "\n",
    "result = {key: np.zeros(num) for key in df.keys()}\n",
    "\n",
    "\n",
    "for i in range(num):\n",
    "    for key in df.keys():\n",
    "        result[key][i] = df[key][idx[i]]\n",
    "        \n",
    "result = pd.DataFrame(result)"
   ]
  },
  {
   "cell_type": "code",
   "execution_count": null,
   "id": "36",
   "metadata": {},
   "outputs": [],
   "source": [
    "plt.scatter(result[\"[o/h]\"], result[\"[c/o]\"], s=1)"
   ]
  },
  {
   "cell_type": "code",
   "execution_count": null,
   "id": "37",
   "metadata": {},
   "outputs": [],
   "source": [
    "df = giants[~giants[\"high_alpha\"]]"
   ]
  },
  {
   "cell_type": "code",
   "execution_count": null,
   "id": "38",
   "metadata": {},
   "outputs": [],
   "source": [
    "result[\"[c/h]\"] = result[\"[c/o]\"] + result[\"[o/h]\"]\n",
    "result[\"[n/h]\"] = result[\"[n/o]\"] + result[\"[o/h]\"]\n",
    "\n",
    "result[\"[cn/h]\"] = np.log10(10**(result[\"[c/h]\"] + 8.39) + 10**(result[\"[n/h]\"] + 7.78)) - np.log10(10**8.39 + 10**7.78)\n",
    "result[\"[cn/o]\"] = result[\"[cn/h]\"] - result[\"[o/h]\"] + 0.075"
   ]
  },
  {
   "cell_type": "code",
   "execution_count": null,
   "id": "39",
   "metadata": {},
   "outputs": [],
   "source": [
    "arya.plotting.medianplot(result, x=\"[o/h]\", y=\"[cn/o]\",stat=\"median\", aes=\"line\", binsize=100, errorbar=None, label=\"model\")\n",
    "\n",
    "\n",
    "arya.plotting.medianplot(df, x=\"MG_H\", y=\"CN_MG\", binsize=200, stat=\"median\", label=\"APOGEE Giants\")\n",
    "plt.xlabel(\"[Mg/H]\")\n",
    "plt.ylabel(\"[C/Mg]\")\n",
    "\n",
    "plt.xlim(-0.65, 0.4)\n",
    "plt.ylim(-0.2, 0.15)\n",
    "\n",
    "arya.Legend(color_only=True)\n",
    "plt.savefig(\"cpn.pdf\")\n",
    "\n"
   ]
  },
  {
   "cell_type": "code",
   "execution_count": null,
   "id": "40",
   "metadata": {
    "tags": []
   },
   "outputs": [],
   "source": [
    "s = fiducial.stars\n",
    "N = len(s)\n",
    "dx = 0.025\n",
    "dy = 0.025\n",
    "aah.plot_contour(\"[mg/h]\", \"[c/mg]\", zorder=3, exclude_high_alpha=False)\n",
    "\n",
    "plt.scatter(s[\"[mg/h]\"] + np.random.normal(0, dx, N), s[\"[c/mg]\"] + np.random.normal(0, dy, N), \n",
    "             c = s[\"r_origin\"], s=0.2, zorder=2)\n",
    "plt.xlim(-0.6, 0.5)\n",
    "plt.ylim(-0.3, 0.1)\n",
    "plt.xlabel(\"[Mg/H]\")\n",
    "plt.ylabel(\"[C/Mg]\")\n",
    "\n",
    "plt.savefig(\"figures/fiducial_scatter.pdf\")"
   ]
  },
  {
   "cell_type": "code",
   "execution_count": null,
   "id": "41",
   "metadata": {
    "tags": []
   },
   "outputs": [],
   "source": [
    "s = fiducial.stars\n",
    "N = len(s)\n",
    "dx = 0.025\n",
    "dy = 0.025\n",
    "surp.plots.plot_contour(\"[fe/h]\", \"[mg/fe]\", zorder=3, exclude_high_alpha=False)\n",
    "\n",
    "plt.scatter(s[\"[fe/h]\"] + np.random.normal(0, dx, N), s[\"[mg/fe]\"] + np.random.normal(0, dy, N), \n",
    "             c = s[\"r_origin\"], s=0.03, zorder=2)\n",
    "\n",
    "\n",
    "plt.xlim(-1, 0.5)\n",
    "plt.ylim(-0.1, 0.5)\n",
    "plt.xlabel(\"[Fe/H]\")\n",
    "plt.ylabel(\"[Mg/Fe]\")\n"
   ]
  },
  {
   "cell_type": "code",
   "execution_count": null,
   "id": "42",
   "metadata": {
    "tags": []
   },
   "outputs": [],
   "source": [
    "s = fiducial.stars\n",
    "N = len(s)\n",
    "dx = 0.09\n",
    "dy = 0.05\n",
    "aah.plot_contour(\"[mg/h]\", \"[n/mg]\", zorder=3, exclude_high_alpha=False)\n",
    "\n",
    "plt.scatter(s[\"[mg/h]\"] + np.random.normal(0, dx, N), s[\"[n/mg]\"] + np.random.normal(0, dy, N), \n",
    "             c = s[\"r_origin\"], s=0.2, zorder=2)\n",
    "plt.xlim(-0.6, 0.5)\n",
    "plt.ylim(-0.5, 0.5)\n",
    "plt.xlabel(\"[Mg/H]\")\n",
    "plt.ylabel(\"[N/Mg]\")\n"
   ]
  },
  {
   "cell_type": "code",
   "execution_count": null,
   "id": "43",
   "metadata": {},
   "outputs": [],
   "source": [
    "plt.figure(figsize=(10/3, 10/3/2**0.5))\n",
    "\n",
    "cb = arya.Colorbar(clim=(-0.3, 0.3), label=\"[Mg/H]\")\n",
    "\n",
    "s = fiducial.stars\n",
    "for MH in (-0.3, -0.2,-0.1,0, 0.1, 0.2,0.3):\n",
    "    mh0 = MH - 0.05\n",
    "    mh1 = MH + 0.05\n",
    "    filt = s[\"[o/h]\"] > mh0\n",
    "    filt &= s[\"[o/h]\"] < mh1\n",
    "    df = s[filt]\n",
    "    \n",
    "    arya.medianplot(df, x=\"[o/fe]\", y=\"[c/o]\", binsize=100, color=cb(MH), aes=\"line\", errorbar=None)\n",
    "\n",
    "plt.gca().invert_xaxis()\n",
    "\n",
    "plt.xlabel(\"[Mg/Fe]\")\n",
    "plt.ylabel(\"[C/Mg]\")\n",
    "\n",
    "plt.tight_layout()\n",
    "plt.savefig(\"figures/fiducial_caafe_binned.pdf\")"
   ]
  },
  {
   "cell_type": "code",
   "execution_count": null,
   "id": "44",
   "metadata": {},
   "outputs": [],
   "source": [
    "plt.scatter(subgiants.age, subgiants.C_MG, c=subgiants.high_alpha, s=0.3, alpha=0.1)\n",
    "plt.gca().invert_xaxis()\n",
    "plt.ylim(-0.5, 0.5)\n",
    "\n",
    "plt.scatter(fiducial.stars.age/1.5 + 1.5, fiducial.stars[\"[c/mg]\"], c=fiducial.stars.high_alpha, s=0.1)"
   ]
  },
  {
   "cell_type": "code",
   "execution_count": null,
   "id": "45",
   "metadata": {},
   "outputs": [],
   "source": [
    "plt.scatter(subgiants.age, subgiants.MG_FE, s=0.3, alpha=0.1)\n",
    "plt.gca().invert_xaxis()\n",
    "plt.ylim(-0.5, 0.5)\n",
    "\n",
    "plt.scatter(fiducial.stars.age/1.5 + 1.5, fiducial.stars[\"[mg/fe]\"], s=0.1)\n",
    "plt.ylim()"
   ]
  },
  {
   "cell_type": "code",
   "execution_count": null,
   "id": "46",
   "metadata": {},
   "outputs": [],
   "source": []
  }
 ],
 "metadata": {
  "kernelspec": {
   "display_name": "Python 3.9 (Conda 2022.05) [python/3.9-2022.05]",
   "language": "python",
   "name": "python39_202205"
  },
  "language_info": {
   "codemirror_mode": {
    "name": "ipython",
    "version": 3
   },
   "file_extension": ".py",
   "mimetype": "text/x-python",
   "name": "python",
   "nbconvert_exporter": "python",
   "pygments_lexer": "ipython3",
   "version": "3.9.12"
  }
 },
 "nbformat": 4,
 "nbformat_minor": 5
}
