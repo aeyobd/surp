{
 "cells": [
  {
   "cell_type": "code",
   "execution_count": null,
   "id": "0",
   "metadata": {},
   "outputs": [],
   "source": [
    "import vice\n",
    "import surp\n",
    "import matplotlib.pyplot as plt\n",
    "import pandas as pd\n",
    "import numpy as np\n",
    "import arya"
   ]
  },
  {
   "cell_type": "code",
   "execution_count": null,
   "id": "1",
   "metadata": {},
   "outputs": [],
   "source": [
    "surp.yields.set_yields()\n",
    "\n",
    "def sfh(tau=3):\n",
    "    return lambda t: 5\n",
    "\n",
    "tau_star = surp.simulation.multizone_sim.conroy_tau_star\n",
    "\n",
    "def sz_model(eta=2, t_end=12,tau_star=tau_star, tau_sfh=1, dt=0.005):\n",
    "    sz = vice.singlezone(elements=[\"o\", \"mg\", \"c\", \"fe\"], dt=dt, eta=eta, \n",
    "                         func=sfh(tau=tau_sfh), mode=\"ifr\", schmidt=False, \n",
    "                         tau_star=tau_star, Mg0=0)\n",
    "    out = sz.run(np.arange(0, t_end, dt), capture=True, overwrite=True)\n",
    "    return out"
   ]
  },
  {
   "cell_type": "code",
   "execution_count": null,
   "id": "2",
   "metadata": {
    "tags": []
   },
   "outputs": [],
   "source": [
    "model_2 = sz_model()"
   ]
  },
  {
   "cell_type": "code",
   "execution_count": null,
   "id": "3",
   "metadata": {},
   "outputs": [],
   "source": [
    "plt.plot(model.history[\"[fe/h]\"], model.history[\"[o/fe]\"])"
   ]
  },
  {
   "cell_type": "code",
   "execution_count": null,
   "id": "4",
   "metadata": {},
   "outputs": [],
   "source": [
    "plt.plot(model.history[\"[fe/h]\"], np.array(model.history[\"sfr\"])/np.array(model.history[\"mgas\"])*1e9)\n",
    "plt.yscale(\"log\")"
   ]
  },
  {
   "cell_type": "code",
   "execution_count": null,
   "id": "5",
   "metadata": {},
   "outputs": [],
   "source": []
  },
  {
   "cell_type": "code",
   "execution_count": null,
   "id": "6",
   "metadata": {},
   "outputs": [],
   "source": [
    "8**2-7**2"
   ]
  },
  {
   "cell_type": "code",
   "execution_count": null,
   "id": "7",
   "metadata": {},
   "outputs": [],
   "source": [
    "surp.yields.set_yields()\n",
    "\n",
    "def sfh(tau=3):\n",
    "    return lambda t: 5\n",
    "\n",
    "tau_star = surp.simulation.multizone_sim.conroy_sf_law((3.14*15))\n",
    "\n",
    "def sz_model(eta=2, t_end=12,tau_star=tau_star, tau_sfh=1, dt=0.005):\n",
    "    sz = vice.singlezone(elements=[\"o\", \"mg\", \"c\", \"fe\"], dt=dt, eta=eta, \n",
    "                         func=sfh(tau=tau_sfh), mode=\"ifr\", schmidt=True, \n",
    "                         tau_star=tau_star, Mg0=0)\n",
    "    out = sz.run(np.arange(0, t_end, dt), capture=True, overwrite=True)\n",
    "    return out"
   ]
  },
  {
   "cell_type": "code",
   "execution_count": null,
   "id": "8",
   "metadata": {
    "tags": []
   },
   "outputs": [],
   "source": [
    "model = sz_model()"
   ]
  },
  {
   "cell_type": "code",
   "execution_count": null,
   "id": "9",
   "metadata": {},
   "outputs": [],
   "source": [
    "plt.plot(model.history[\"[fe/h]\"], model.history[\"[o/fe]\"])\n",
    "plt.plot(model_2.history[\"[fe/h]\"], model_2.history[\"[o/fe]\"])"
   ]
  },
  {
   "cell_type": "code",
   "execution_count": null,
   "id": "10",
   "metadata": {},
   "outputs": [],
   "source": [
    "plt.plot(model.history[\"[fe/h]\"], np.array(model.history[\"sfr\"])/np.array(model.history[\"mgas\"])*1e9)\n",
    "plt.yscale(\"log\")"
   ]
  },
  {
   "cell_type": "code",
   "execution_count": null,
   "id": "11",
   "metadata": {},
   "outputs": [],
   "source": []
  }
 ],
 "metadata": {
  "kernelspec": {
   "display_name": "Python 3.9 (Conda 2022.05) [python/3.9-2022.05]",
   "language": "python",
   "name": "python39_202205"
  },
  "language_info": {
   "codemirror_mode": {
    "name": "ipython",
    "version": 3
   },
   "file_extension": ".py",
   "mimetype": "text/x-python",
   "name": "python",
   "nbconvert_exporter": "python",
   "pygments_lexer": "ipython3",
   "version": "3.9.12"
  }
 },
 "nbformat": 4,
 "nbformat_minor": 5
}
