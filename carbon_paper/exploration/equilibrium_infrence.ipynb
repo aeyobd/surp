{
 "cells": [
  {
   "cell_type": "code",
   "execution_count": null,
   "id": "0",
   "metadata": {},
   "outputs": [],
   "source": [
    "import numpy as np\n",
    "import pandas as pd\n",
    "\n",
    "from matplotlib import pyplot as plt\n",
    "import matplotlib as mpl\n",
    "from scipy.optimize import curve_fit\n",
    "from scipy.stats import binned_statistic"
   ]
  },
  {
   "cell_type": "code",
   "execution_count": null,
   "id": "1",
   "metadata": {},
   "outputs": [],
   "source": [
    "import vice\n",
    "\n",
    "from surp import subgiants\n",
    "from surp import gce_math as gcem\n",
    "from surp.gce_math import MH_to_Z, Z_to_MH, Z_SUN\n",
    "import surp\n",
    "\n",
    "import arya"
   ]
  },
  {
   "cell_type": "code",
   "execution_count": null,
   "id": "2",
   "metadata": {},
   "outputs": [],
   "source": [
    "arya.style.set_size((4, 2*np.sqrt(2)))"
   ]
  },
  {
   "cell_type": "code",
   "execution_count": null,
   "id": "3",
   "metadata": {},
   "outputs": [],
   "source": [
    "surp.set_yields()"
   ]
  },
  {
   "cell_type": "code",
   "execution_count": null,
   "id": "4",
   "metadata": {},
   "outputs": [],
   "source": [
    "# all_abundances = pd.read_csv(\"data_analysis/all_data.csv\")\n",
    "# stars = pd.read_csv(\"../data/amarsi_19.tsv\", delimiter=\"\\t *\", comment=\"#\", skiprows=[62, 63], engine=\"python\")\n",
    "# stars[\"C_MG\"] =  stars[\"[C/H]3N\"] - stars[\"[O/H]3N\"]\n",
    "# stars[\"MG_H\"] =  stars[\"[O/H]3N\"]\n",
    "# stars[\"C_MG_ERR\"] = stars[\"e_[C/H]3N\"] + stars[\"e_[O/H]3N\"]\n",
    "\n",
    "# df_stars = stars[[\"C_MG\", \"MG_H\", \"C_MG_ERR\"]]\n",
    "\n",
    "# all_abundances[\"C_MG\"] = all_abundances[\"[c/o]\"]\n",
    "# all_abundances[\"MG_H\"] = all_abundances[\"[o/h]\"]\n",
    "# all_abundances[\"C_MG_ERR\"] = all_abundances[\"[c/o]_err\"]\n",
    "\n",
    "# stars_all = all_abundances[[\"C_MG\", \"MG_H\", \"C_MG_ERR\"]][(~np.isnan(all_abundances.C_MG)) & (all_abundances.type == \"star\")]\n",
    "# RL_all = all_abundances[[\"C_MG\", \"MG_H\", \"C_MG_ERR\"]][(~np.isnan(all_abundances.C_MG)) & (all_abundances.type == \"RL\")]\n",
    "# DLA_all = all_abundances[[\"C_MG\", \"MG_H\", \"C_MG_ERR\"]][(~np.isnan(all_abundances.C_MG)) & (all_abundances.type == \"DLA\")]\n",
    "# dwarf_all = all_abundances[[\"C_MG\", \"MG_H\", \"C_MG_ERR\"]][(~np.isnan(all_abundances.C_MG)) & (all_abundances.type == \"dwarf\")]"
   ]
  },
  {
   "cell_type": "code",
   "execution_count": null,
   "id": "5",
   "metadata": {},
   "outputs": [],
   "source": [
    "# stars_x_obs = stars.MG_H\n",
    "# stars_y_obs = stars.C_MG\n",
    "# all_x_obs = all_abundances.MG_H\n",
    "# all_y_obs = all_abundances.C_MG"
   ]
  },
  {
   "cell_type": "code",
   "execution_count": null,
   "id": "6",
   "metadata": {},
   "outputs": [],
   "source": [
    "\n",
    "filt = ~subgiants.high_alpha.values\n",
    "df = subgiants[filt]\n",
    "\n",
    "bins = np.quantile(df.MG_H, np.linspace(0, 1, 20))\n",
    "\n",
    "counts = binned_statistic(df.MG_H, df.C_MG, bins=bins, statistic='count')[0]\n",
    "\n",
    "ym = binned_statistic(df.MG_H, df.C_MG, bins=bins, statistic='median')[0]\n",
    "yl = binned_statistic(df.MG_H, df.C_MG, bins=bins, statistic=lambda x: np.percentile(x, 16))[0]\n",
    "yh = binned_statistic(df.MG_H, df.C_MG, bins=bins, statistic=lambda x: np.percentile(x, 84))[0]\n",
    "ym_err = binned_statistic(df.MG_H, df.C_MG_ERR, bins=bins, statistic='mean')[0]\n",
    "\n",
    "\n",
    "xm = binned_statistic(df.MG_H, df.MG_H, bins=bins, statistic='median')[0]\n",
    "xl = binned_statistic(df.MG_H, df.MG_H, bins=bins, statistic=lambda x: np.percentile(x, 16))[0]\n",
    "xh = binned_statistic(df.MG_H, df.MG_H, bins=bins, statistic=lambda x: np.percentile(x, 84))[0]\n",
    "xm_err = binned_statistic(df.MG_H, df.MG_H_ERR, bins=bins, statistic='mean')[0]"
   ]
  },
  {
   "cell_type": "code",
   "execution_count": null,
   "id": "7",
   "metadata": {},
   "outputs": [],
   "source": [
    "yym = gcem.brak_to_abund_ratio(ym, \"c\", \"mg\")\n",
    "yyl = gcem.brak_to_abund_ratio(yl - ym_err, \"c\", \"mg\")\n",
    "yyh = gcem.brak_to_abund_ratio(yh + ym_err, \"c\", \"mg\")\n",
    "yym_err = (yyh - yyl) / 2 / np.sqrt(counts)\n",
    "\n",
    "x_err = (xh - xl)/ 2 / np.sqrt(counts)"
   ]
  },
  {
   "cell_type": "code",
   "execution_count": null,
   "id": "8",
   "metadata": {},
   "outputs": [],
   "source": [
    "obs = (xm, yym, x_err, yym_err)"
   ]
  },
  {
   "cell_type": "code",
   "execution_count": null,
   "id": "9",
   "metadata": {},
   "outputs": [],
   "source": [
    "def plot_obs():\n",
    "    plt.errorbar(xm, yym, yerr=yym_err, xerr=x_err,  fmt=\".\", capsize=0)"
   ]
  },
  {
   "cell_type": "code",
   "execution_count": null,
   "id": "10",
   "metadata": {},
   "outputs": [],
   "source": [
    "plt.hist2d(df.MG_H, gcem.brak_to_abund_ratio(df.C_MG, \"c\", \"mg\"), 50, range=([-0.7, 0.7], [3, 6]), cmap=\"Greys\")\n",
    "plot_obs()\n"
   ]
  },
  {
   "cell_type": "code",
   "execution_count": null,
   "id": "11",
   "metadata": {},
   "outputs": [],
   "source": [
    "params = surp.YieldParams.from_file(\"../models/fruity/f_0/yield_params.toml\")\n",
    "surp.set_yields(params)\n",
    "y_c_lin = vice.yields.ccsne.settings[\"c\"]\n",
    "\n",
    "surp.set_yields(surp.YieldParams.from_file(\"../models/fiducial/yield_params.toml\"))\n",
    "y_c_quad = vice.yields.ccsne.settings[\"c\"]"
   ]
  },
  {
   "cell_type": "code",
   "execution_count": null,
   "id": "12",
   "metadata": {},
   "outputs": [],
   "source": [
    "params"
   ]
  },
  {
   "cell_type": "code",
   "execution_count": null,
   "id": "13",
   "metadata": {},
   "outputs": [],
   "source": [
    "ymg = vice.yields.ccsne.settings[\"mg\"]"
   ]
  },
  {
   "cell_type": "code",
   "execution_count": null,
   "id": "14",
   "metadata": {},
   "outputs": [],
   "source": [
    "alpha = params.alpha_c_agb"
   ]
  },
  {
   "cell_type": "code",
   "execution_count": null,
   "id": "15",
   "metadata": {},
   "outputs": [],
   "source": [
    "y_c_lin = np.vectorize(y_c_lin)\n",
    "y_c_quad = np.vectorize(y_c_quad)\n",
    "def y_c_agb(Z):\n",
    "    return y_agb_0 + zeta_agb * gcem.Z_to_MH(Z)"
   ]
  },
  {
   "cell_type": "code",
   "execution_count": null,
   "id": "16",
   "metadata": {},
   "outputs": [],
   "source": [
    "plot_obs()\n",
    "x = np.linspace(-0.45, 0.45, 1000)\n",
    "Z = gcem.MH_to_Z(x)\n",
    "# plt.plot(x, (y_c_lin(Z) + y_c_agb(Z)) / ymg, label=\"linear fit\")\n",
    "# plt.plot(x,(y_c_quad(Z) + y_c_agb(Z))/ymg, ls=\"--\", label=\"quadratic fit\")\n",
    "\n",
    "plt.legend()\n",
    "plt.xlabel(\"[Mg/H]\")\n",
    "plt.ylabel(r\"$y_{\\rm C} / y_{\\rm Mg}$\")\n",
    "plt.savefig(\"figures/equilibrium_yield.pdf\")"
   ]
  },
  {
   "cell_type": "markdown",
   "id": "17",
   "metadata": {},
   "source": [
    "# LS Fits"
   ]
  },
  {
   "cell_type": "code",
   "execution_count": null,
   "id": "18",
   "metadata": {},
   "outputs": [],
   "source": [
    "from scipy.optimize import curve_fit"
   ]
  },
  {
   "cell_type": "code",
   "execution_count": null,
   "id": "19",
   "metadata": {},
   "outputs": [],
   "source": [
    "def loglin(x, a, b):\n",
    "    return a + b*x"
   ]
  },
  {
   "cell_type": "code",
   "execution_count": null,
   "id": "20",
   "metadata": {},
   "outputs": [],
   "source": [
    "popt, covt = curve_fit(loglin, xm, yym, sigma=yym_err)"
   ]
  },
  {
   "cell_type": "code",
   "execution_count": null,
   "id": "21",
   "metadata": {},
   "outputs": [],
   "source": [
    "x_pred = np.linspace(-0.6, 0.6, 1000)\n",
    "y_pred = loglin(x_pred, *popt)\n",
    "plt.plot(x_pred, y_pred)\n",
    "plot_obs()"
   ]
  },
  {
   "cell_type": "code",
   "execution_count": null,
   "id": "22",
   "metadata": {},
   "outputs": [],
   "source": [
    "def lin(x, a, b):\n",
    "    Z = gcem.MH_to_Z(x)\n",
    "    return a + b*(Z - Z_SUN)"
   ]
  },
  {
   "cell_type": "code",
   "execution_count": null,
   "id": "23",
   "metadata": {},
   "outputs": [],
   "source": [
    "popt, covt = curve_fit(lin, xm, yym, sigma=yym_err)"
   ]
  },
  {
   "cell_type": "code",
   "execution_count": null,
   "id": "24",
   "metadata": {},
   "outputs": [],
   "source": [
    "popt"
   ]
  },
  {
   "cell_type": "code",
   "execution_count": null,
   "id": "25",
   "metadata": {},
   "outputs": [],
   "source": [
    "x_pred = np.linspace(-0.6, 0.5, 1000)\n",
    "y_pred = lin(x_pred, *popt)\n",
    "plt.plot(x_pred, y_pred)\n",
    "plot_obs()"
   ]
  },
  {
   "cell_type": "code",
   "execution_count": null,
   "id": "26",
   "metadata": {},
   "outputs": [],
   "source": [
    "def logquad(x, a, b, c):\n",
    "    return a + b*x + c*x**2"
   ]
  },
  {
   "cell_type": "code",
   "execution_count": null,
   "id": "27",
   "metadata": {},
   "outputs": [],
   "source": [
    "popt, covt = curve_fit(logquad, xm, yym, sigma=yym_err)"
   ]
  },
  {
   "cell_type": "code",
   "execution_count": null,
   "id": "28",
   "metadata": {},
   "outputs": [],
   "source": [
    "popt"
   ]
  },
  {
   "cell_type": "code",
   "execution_count": null,
   "id": "29",
   "metadata": {},
   "outputs": [],
   "source": [
    "x_pred = np.linspace(-0.6, 0.5, 1000)\n",
    "y_pred = logquad(x_pred, *popt)\n",
    "plt.plot(x_pred, y_pred)\n",
    "plot_obs()"
   ]
  },
  {
   "cell_type": "code",
   "execution_count": null,
   "id": "30",
   "metadata": {},
   "outputs": [],
   "source": [
    "def logexp(x, a, b, c):\n",
    "    return a + b*np.exp(x*c)"
   ]
  },
  {
   "cell_type": "code",
   "execution_count": null,
   "id": "31",
   "metadata": {},
   "outputs": [],
   "source": [
    "popt, covt = curve_fit(logexp, xm, yym, sigma=yym_err)"
   ]
  },
  {
   "cell_type": "code",
   "execution_count": null,
   "id": "32",
   "metadata": {},
   "outputs": [],
   "source": [
    "popt, np.sqrt(np.diag(covt))"
   ]
  },
  {
   "cell_type": "code",
   "execution_count": null,
   "id": "33",
   "metadata": {},
   "outputs": [],
   "source": [
    "x_pred = np.linspace(-0.6, 0.5, 1000)\n",
    "y_pred = logexp(x_pred, *popt)\n",
    "plt.plot(x_pred, y_pred)\n",
    "plot_obs()\n",
    "plt.xlabel(\"[M/H]\")\n",
    "plt.ylabel(r\"$y_{\\rm C}/y_{\\rm Mg}$\")"
   ]
  },
  {
   "cell_type": "code",
   "execution_count": null,
   "id": "34",
   "metadata": {},
   "outputs": [],
   "source": [
    "def logloglin(x, a, b, c):\n",
    "    return 10**(a + b*x + c*x**2)"
   ]
  },
  {
   "cell_type": "code",
   "execution_count": null,
   "id": "35",
   "metadata": {},
   "outputs": [],
   "source": [
    "popt, covt = curve_fit(logloglin, xm, yym, sigma=yym_err)\n",
    "print(popt)\n",
    "x_pred = np.linspace(-0.6, 0.5, 1000)\n",
    "y_pred = logloglin(x_pred, *popt)\n",
    "plt.plot(x_pred, y_pred)\n",
    "plot_obs()\n",
    "plt.yscale(\"log\")"
   ]
  },
  {
   "cell_type": "code",
   "execution_count": null,
   "id": "36",
   "metadata": {
    "tags": []
   },
   "outputs": [],
   "source": [
    "def piecewise(x, a, b, a0):\n",
    "    return np.maximum(a + b*x, a0)"
   ]
  },
  {
   "cell_type": "code",
   "execution_count": null,
   "id": "37",
   "metadata": {},
   "outputs": [],
   "source": [
    "y = surp.yield_models.BiLogLin_CC(y0=4, y1=4, zeta=2.5)"
   ]
  },
  {
   "cell_type": "code",
   "execution_count": null,
   "id": "38",
   "metadata": {},
   "outputs": [],
   "source": [
    "popt, covt = curve_fit(piecewise, xm, yym, sigma=yym_err, p0=(4.5, 0, 4.2))\n",
    "print(popt)\n",
    "x_pred = np.linspace(-0.6, 0.5, 1000)\n",
    "y_pred = piecewise(x_pred, *popt)\n",
    "plt.plot(x_pred, y_pred)\n",
    "plt.plot(x_pred, [y(Z) for Z in gcem.MH_to_Z(x_pred)])\n",
    "plot_obs()\n",
    "plt.yscale(\"log\")"
   ]
  },
  {
   "cell_type": "markdown",
   "id": "39",
   "metadata": {},
   "source": [
    "# MCMC fits"
   ]
  },
  {
   "cell_type": "code",
   "execution_count": null,
   "id": "40",
   "metadata": {},
   "outputs": [],
   "source": [
    "N =3_000"
   ]
  },
  {
   "cell_type": "code",
   "execution_count": null,
   "id": "41",
   "metadata": {},
   "outputs": [],
   "source": [
    "import mcmc_utils"
   ]
  },
  {
   "cell_type": "code",
   "execution_count": null,
   "id": "42",
   "metadata": {},
   "outputs": [],
   "source": [
    "def plot_res(model, samples):\n",
    "    theta_m = np.median(samples, axis=0)\n",
    "    y_pred = model(xm, theta_m)\n",
    "\n",
    "    #plt.scatter(x_obs, y_obs - y_pred, s=2, c=w, ec=\"none\", cmap=\"Greys\", alpha=0.4)\n",
    "    plt.scatter(xm, yym - y_pred, )\n",
    "    plt.ylim(-0.3, 0.3)\n",
    "    plt.xlim(-0.5)\n",
    "    plt.axhline(0, ls=\"--\")"
   ]
  },
  {
   "cell_type": "markdown",
   "id": "43",
   "metadata": {
    "jp-MarkdownHeadingCollapsed": true
   },
   "source": [
    "## Linear Model"
   ]
  },
  {
   "cell_type": "code",
   "execution_count": null,
   "id": "44",
   "metadata": {},
   "outputs": [],
   "source": [
    "model = mcmc_utils.Linear(beta0=[4, 0.5], beta1=[0, 1], log_sigma=[-15, 0.5])"
   ]
  },
  {
   "cell_type": "code",
   "execution_count": null,
   "id": "45",
   "metadata": {},
   "outputs": [],
   "source": [
    "mcmc_utils.plot_prior(model, N=1_000)"
   ]
  },
  {
   "cell_type": "code",
   "execution_count": null,
   "id": "46",
   "metadata": {},
   "outputs": [],
   "source": [
    "samples = mcmc_utils.run_mcmc(model, obs,N=N )"
   ]
  },
  {
   "cell_type": "code",
   "execution_count": null,
   "id": "47",
   "metadata": {},
   "outputs": [],
   "source": [
    "mcmc_utils.plot_posterior(model, obs, samples, N_lines=500)"
   ]
  },
  {
   "cell_type": "markdown",
   "id": "48",
   "metadata": {},
   "source": [
    "# Exponential model"
   ]
  },
  {
   "cell_type": "code",
   "execution_count": null,
   "id": "49",
   "metadata": {},
   "outputs": [],
   "source": [
    "model  = mcmc_utils.Exponential(beta0=[4, 0.5], beta1=[0.0, 0.4], log_sigma=[-120, 1], alpha=[0, 4])"
   ]
  },
  {
   "cell_type": "code",
   "execution_count": null,
   "id": "50",
   "metadata": {},
   "outputs": [],
   "source": [
    "mcmc_utils.plot_prior(model, xlims=(-0.5, 0.5))\n",
    "plt.ylim(3, 5)"
   ]
  },
  {
   "cell_type": "code",
   "execution_count": null,
   "id": "51",
   "metadata": {},
   "outputs": [],
   "source": [
    "samples = mcmc_utils.run_mcmc(model, obs, N=N)"
   ]
  },
  {
   "cell_type": "code",
   "execution_count": null,
   "id": "52",
   "metadata": {},
   "outputs": [],
   "source": [
    "mcmc_utils.plot_posterior(model, obs, samples)"
   ]
  },
  {
   "cell_type": "markdown",
   "id": "53",
   "metadata": {
    "jp-MarkdownHeadingCollapsed": true
   },
   "source": [
    "## Quadratic model"
   ]
  },
  {
   "cell_type": "code",
   "execution_count": null,
   "id": "54",
   "metadata": {},
   "outputs": [],
   "source": [
    "model  = mcmc_utils.Quadratic(beta0=[4, 0.5], beta1=[0, 1], log_sigma=[-15, 1])"
   ]
  },
  {
   "cell_type": "code",
   "execution_count": null,
   "id": "55",
   "metadata": {},
   "outputs": [],
   "source": [
    "mcmc_utils.plot_prior(model)"
   ]
  },
  {
   "cell_type": "code",
   "execution_count": null,
   "id": "56",
   "metadata": {},
   "outputs": [],
   "source": [
    "samples = mcmc_utils.run_mcmc(model, obs, N=N)"
   ]
  },
  {
   "cell_type": "code",
   "execution_count": null,
   "id": "57",
   "metadata": {},
   "outputs": [],
   "source": [
    "mcmc_utils.plot_posterior(model, obs, samples)"
   ]
  },
  {
   "cell_type": "code",
   "execution_count": null,
   "id": "58",
   "metadata": {},
   "outputs": [],
   "source": []
  }
 ],
 "metadata": {
  "kernelspec": {
   "display_name": "Python 3 (ipykernel)",
   "language": "python",
   "name": "python3"
  },
  "language_info": {
   "codemirror_mode": {
    "name": "ipython",
    "version": 3
   },
   "file_extension": ".py",
   "mimetype": "text/x-python",
   "name": "python",
   "nbconvert_exporter": "python",
   "pygments_lexer": "ipython3",
   "version": "3.11.9"
  }
 },
 "nbformat": 4,
 "nbformat_minor": 5
}
