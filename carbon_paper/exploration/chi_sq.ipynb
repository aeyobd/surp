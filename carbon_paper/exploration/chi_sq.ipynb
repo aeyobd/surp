{
 "cells": [
  {
   "cell_type": "code",
   "execution_count": null,
   "id": "0",
   "metadata": {},
   "outputs": [],
   "source": [
    "%load_ext autoreload\n",
    "%autoreload 2\n"
   ]
  },
  {
   "cell_type": "code",
   "execution_count": null,
   "id": "1",
   "metadata": {},
   "outputs": [],
   "source": [
    "import matplotlib.pyplot as plt\n",
    "import numpy as np\n",
    "import pandas as pd\n",
    "from dataclasses import dataclass\n",
    "\n",
    "import vice"
   ]
  },
  {
   "cell_type": "code",
   "execution_count": null,
   "id": "2",
   "metadata": {},
   "outputs": [],
   "source": [
    "import surp\n",
    "from surp.src.analysis.vice_model import vice_model\n",
    "from surp.src.analysis.apogee_analysis import subgiants\n",
    "from surp.src.analysis import plotting_utils as pluto\n",
    "import arya\n",
    "arya.save_at(\"./figures\")\n",
    "\n",
    "from scipy.stats import chi2"
   ]
  },
  {
   "cell_type": "code",
   "execution_count": null,
   "id": "3",
   "metadata": {},
   "outputs": [],
   "source": [
    "def p_value(χ2, df):\n",
    "    return 1-chi2.cdf(χ2*df, df=df)"
   ]
  },
  {
   "cell_type": "code",
   "execution_count": null,
   "id": "4",
   "metadata": {},
   "outputs": [],
   "source": [
    "@dataclass\n",
    "class model_id():\n",
    "    agb: str = None\n",
    "    eta: str = None\n",
    "    f_agb: str = None\n",
    "    beta: str = None\n",
    "    name: str = None\n",
    "    version: str = \"\"\n",
    "\n",
    "\n",
    "def find_model(id):\n",
    "    \"\"\"\n",
    "    Finds the pickled model with either the given name or the parameters \n",
    "    and returns the vice_model object\n",
    "    \"\"\"\n",
    "    if id.name is None:\n",
    "        name = id.agb + \"_f\" + id.f_agb + \"_Z\" + id.beta + \"_eta\" + id.eta + id.version\n",
    "    else:\n",
    "        name = id.name\n",
    "    file_name = \"../../output/\" + name + \".json\"\n",
    "    return vice_model(file_name)\n",
    "\n",
    "\n",
    "fiducial = find_model(model_id(agb=\"cristallo11\", f_agb=\"0.2\", eta=\"1.0\",\n",
    "    beta=\"0.4\", version=\"_v0.1.3\"))"
   ]
  },
  {
   "cell_type": "code",
   "execution_count": null,
   "id": "5",
   "metadata": {},
   "outputs": [],
   "source": [
    "from scipy.optimize import curve_fit"
   ]
  },
  {
   "cell_type": "code",
   "execution_count": null,
   "id": "6",
   "metadata": {
    "tags": []
   },
   "outputs": [],
   "source": [
    "subgiants[\"MG_H_ERR\"] = subgiants[\"MG_FE_ERR\"] + subgiants[\"FE_H_ERR\"]\n",
    "\n",
    "\n",
    "plt.hist2d(subgiants[\"MG_H\"], subgiants[\"MG_H_ERR\"], range=((-1, 1), (0, 0.1)), bins=100, cmin=1)\n",
    "\n",
    "filt = subgiants[\"FE_H_ERR\"] < 1\n",
    "filt &= (-3 < subgiants[\"MG_H\"]) & (subgiants[\"MG_H\"]< 3)\n",
    "\n",
    "x = subgiants[filt][\"MG_H\"]\n",
    "y = subgiants[filt][\"MG_H_ERR\"]\n",
    "\n",
    "def lin(x, a, b):\n",
    "    return a*x + b\n",
    "\n",
    "popt, covt = curve_fit(lin, x, y)\n",
    "a, b = popt\n",
    "a_err, b_err = np.diag(covt)**0.5\n",
    "\n",
    "x_m = np.linspace(-3, 1)\n",
    "y_m = a*x_m + b\n",
    "plt.plot(x_m, y_m, color=\"orange\")\n",
    "y_m = (a-a_err)*x_m + b - b_err\n",
    "plt.plot(x_m, y_m, color=\"orange\")\n",
    "\n",
    "\n",
    "print(f\"err = {a:0.4f}*MG_H + {b:0.4f}\")\n",
    "print(f\"uncertaintines: a = {a_err}, b = {b_err}\")\n",
    "plt.xlabel(\"MG/H\")\n",
    "plt.ylabel(\"MG/H error\")"
   ]
  },
  {
   "cell_type": "code",
   "execution_count": null,
   "id": "7",
   "metadata": {
    "jupyter": {
     "source_hidden": true
    },
    "tags": []
   },
   "outputs": [],
   "source": [
    "subgiants[\"C_MG_ERR\"] = subgiants[\"MG_FE_ERR\"] + subgiants[\"C_FE_ERR\"]\n",
    "\n",
    "plt.hist2d(subgiants[\"MG_H\"], subgiants[\"C_MG_ERR\"], range=((-1, 1), (0, 0.1)), bins=100, cmin=1)\n",
    "\n",
    "filt = subgiants[\"FE_H_ERR\"] < 1\n",
    "filt &= (-3 < subgiants[\"MG_H\"]) & (subgiants[\"MG_H\"]< 3)\n",
    "filt &= (-3 < subgiants[\"C_H\"]) & (subgiants[\"C_H\"]< 3)\n",
    "\n",
    "\n",
    "x = subgiants[filt][\"MG_H\"]\n",
    "y = subgiants[filt][\"C_MG_ERR\"]\n",
    "\n",
    "def lin(x, a, b):\n",
    "    return a*x + b\n",
    "\n",
    "popt, covt = curve_fit(lin, x, y)\n",
    "a, b = popt\n",
    "a_err, b_err = np.diag(covt)**0.5\n",
    "\n",
    "x_m = np.linspace(-3, 1)\n",
    "y_m = a*x_m + b\n",
    "plt.plot(x_m, y_m, color=\"orange\")\n",
    "y_m = (a-a_err)*x_m + b - b_err\n",
    "plt.plot(x_m, y_m, color=\"orange\")\n",
    "\n",
    "\n",
    "print(f\"err = {a:0.4f}*MG_H + {b:0.4f}\")\n",
    "print(f\"uncertaintines: a = {a_err}, b = {b_err}\")\n",
    "plt.xlabel(\"MG/H\")\n",
    "plt.ylabel(\"C/Mg error\")"
   ]
  },
  {
   "cell_type": "code",
   "execution_count": null,
   "id": "8",
   "metadata": {
    "jupyter": {
     "source_hidden": true
    },
    "tags": []
   },
   "outputs": [],
   "source": [
    "plt.hist2d(subgiants[\"MG_H\"], subgiants[\"MG_FE_ERR\"], range=((-1, 1), (0, 0.1)), bins=100, cmin=1)\n",
    "\n",
    "filt = subgiants[\"FE_H_ERR\"] < 1\n",
    "filt &= (-3 < subgiants[\"MG_H\"]) & (subgiants[\"MG_H\"]< 3)\n",
    "\n",
    "\n",
    "x = subgiants[filt][\"MG_H\"]\n",
    "y = subgiants[filt][\"MG_FE_ERR\"]\n",
    "\n",
    "def lin(x, a, b):\n",
    "    return a*x + b\n",
    "\n",
    "popt, covt = curve_fit(lin, x, y)\n",
    "a, b = popt\n",
    "a_err, b_err = np.diag(covt)**0.5\n",
    "\n",
    "x_m = np.linspace(-3, 1)\n",
    "y_m = a*x_m + b\n",
    "plt.plot(x_m, y_m, color=\"orange\")\n",
    "y_m = (a-a_err)*x_m + b - b_err\n",
    "plt.plot(x_m, y_m, color=\"orange\")\n",
    "\n",
    "\n",
    "print(f\"err = {a:0.4f}*MG_H + {b:0.4f}\")\n",
    "print(f\"uncertaintines: a = {a_err}, b = {b_err}\")\n",
    "plt.xlabel(\"MG/H\")\n",
    "plt.ylabel(\"MG/FE error\")"
   ]
  },
  {
   "cell_type": "markdown",
   "id": "9",
   "metadata": {},
   "source": [
    "So, let us define the errors of MG_H and C_MG as\n",
    "$$\n",
    "\\delta[MG/H] = \\min(0.015, -0.0293*[MG/H] + 0.0260)\\\\\n",
    "\\delta[C/Mg] = \\min(0.02, -0.1096*[MG/H] + 0.0439)\\\\\n",
    "\\delta[MG/Fe] = \\min(0.01, -0.0224*[MG/H] + 0.0166)\\\\\n",
    "$$\n"
   ]
  },
  {
   "cell_type": "code",
   "execution_count": null,
   "id": "10",
   "metadata": {},
   "outputs": [],
   "source": [
    "np.random.normal(scale=[1,2,3])"
   ]
  },
  {
   "cell_type": "code",
   "execution_count": null,
   "id": "11",
   "metadata": {},
   "outputs": [],
   "source": [
    "np.maximum(3, [2,1,6])"
   ]
  },
  {
   "cell_type": "code",
   "execution_count": null,
   "id": "12",
   "metadata": {},
   "outputs": [],
   "source": [
    "def mg_h_err(mg_h):\n",
    "    return np.maximum(0.015,\n",
    "                     -0.03*mg_h + 0.025)\n",
    "\n",
    "def c_mg_err(mg_h):\n",
    "    return np.maximum(0.02, \n",
    "                     -0.11*mg_h + 0.04)\n",
    "\n",
    "def mg_fe_err(mg_h):\n",
    "    return np.maximum(0.01,\n",
    "                     -0.0225*mg_h+0.02)"
   ]
  },
  {
   "cell_type": "code",
   "execution_count": null,
   "id": "13",
   "metadata": {},
   "outputs": [],
   "source": []
  },
  {
   "cell_type": "code",
   "execution_count": null,
   "id": "14",
   "metadata": {},
   "outputs": [],
   "source": [
    "def model_dist(model, scale=1):\n",
    "    dist = pd.DataFrame()\n",
    "    s = model.stars[\"solar\"]\n",
    "    \n",
    "    mg_h = s[\"[o/h]\"]\n",
    "    mg_fe = s[\"[o/fe]\"]\n",
    "    c_mg = s[\"[c/o]\"]\n",
    "        \n",
    "    dist[\"MG_H\"] = mg_h + np.random.normal(scale=scale*mg_h_err(mg_h))\n",
    "    dist[\"MG_FE\"] = mg_fe + np.random.normal(scale=scale*mg_fe_err(mg_h))\n",
    "    dist[\"C_MG\"] = c_mg + np.random.normal(scale=scale*c_mg_err(mg_h))\n",
    "    # add uncertainties\n",
    "    return dist\n",
    "    \n"
   ]
  },
  {
   "cell_type": "code",
   "execution_count": null,
   "id": "15",
   "metadata": {},
   "outputs": [],
   "source": [
    "def plot_model(model):\n",
    "    s = fiducial.stars[\"solar\"]\n",
    "    N = len(s)\n",
    "    dx = 0.03\n",
    "    dy = 0.03\n",
    "    sp = arya.Subplot()\n",
    "    #aah.plot_contour(\"[mg/h]\", \"[c/n]\", ax=sp.mpl_ax, zorder=3)\n",
    "\n",
    "    scat = arya.Scatter(s[\"[o/h]\"] + np.random.normal(0, dx, N), s[\"[c/n]\"] + np.random.normal(0, dy, N), \n",
    "                 c = s[\"r_origin\"], s=0.2, zorder=2, subplot=sp)\n",
    "    scat.clim = (0, 12)\n",
    "    cb = arya.Colorbar(subplot=sp, layer=scat, row=0, col=1)\n",
    "    cb.label = \"$R_0$ (kpc)\"\n",
    "\n",
    "\n",
    "    sp.x.label=r\"[$\\alpha$/H]\"\n",
    "    sp.y.label=r\"[C/N]\"\n",
    "    sp.x.lim=(-0.6, 0.6)\n",
    "    sp.y.lim=(-0.5, 0.4)\n"
   ]
  },
  {
   "cell_type": "code",
   "execution_count": null,
   "id": "16",
   "metadata": {},
   "outputs": [],
   "source": [
    "def plot_dev(model, xlim=(-1, 1), ylim=(-1, 1), bins=100):\n",
    "    r = (xlim, ylim)\n",
    "\n",
    "    df = model\n",
    "    m_counts,_,_,_ = plt.hist2d(df.MG_H, df.C_MG, range=r, bins=bins, cmin=1)\n",
    "    d_counts, _, _, _ = plt.hist2d(subgiants.MG_H, subgiants.C_MG, range=r, bins=bins, cmin=1)\n",
    "    plt.gca().clear()\n",
    "    \n",
    "    diff = np.transpose(m_counts - d_counts)[::-1]\n",
    "\n",
    "    m_scale = np.nansum(m_counts)\n",
    "    m_errs = np.sqrt(m_counts)/m_scale\n",
    "    m_frac = m_counts/m_scale\n",
    "\n",
    "    d_scale = np.nansum(d_counts)\n",
    "    d_errs = np.sqrt(d_counts)/d_scale\n",
    "    d_frac = d_counts/d_scale\n",
    "\n",
    "    dev = (m_frac - d_frac)/(m_errs + d_errs)\n",
    "    img = np.transpose(dev)[::-1]\n",
    "\n",
    "    plt.imshow(img, extent=r[0] + r[1], cmap = \"RdBu\")\n",
    "    plt.colorbar(label=\"model-data (scaled deviation)\")\n",
    "    plt.show()\n",
    "\n",
    "    N = np.nansum(m_frac + d_frac > 0)\n",
    "    sumsqr = np.nansum((m_counts/m_scale*d_scale - d_counts)**2/d_counts)\n",
    "\n",
    "    chi_sq = sumsqr/N\n",
    "    print(f\"χ2 = {chi_sq:0.3f}\")\n"
   ]
  },
  {
   "cell_type": "code",
   "execution_count": null,
   "id": "17",
   "metadata": {},
   "outputs": [],
   "source": [
    "plot_dev(model_dist(fiducial, 1.7), xlim=(-0.5, 0.5), ylim=(-0.4, 0.2))"
   ]
  },
  {
   "cell_type": "code",
   "execution_count": null,
   "id": "18",
   "metadata": {},
   "outputs": [],
   "source": [
    "pd.to_csv?"
   ]
  },
  {
   "cell_type": "code",
   "execution_count": null,
   "id": "19",
   "metadata": {},
   "outputs": [],
   "source": [
    "import gc"
   ]
  },
  {
   "cell_type": "code",
   "execution_count": null,
   "id": "20",
   "metadata": {},
   "outputs": [],
   "source": [
    "from os import path"
   ]
  },
  {
   "cell_type": "code",
   "execution_count": null,
   "id": "21",
   "metadata": {},
   "outputs": [],
   "source": [
    "path.filename?"
   ]
  },
  {
   "cell_type": "code",
   "execution_count": null,
   "id": "22",
   "metadata": {},
   "outputs": [],
   "source": [
    "path.base?"
   ]
  },
  {
   "cell_type": "code",
   "execution_count": null,
   "id": "23",
   "metadata": {},
   "outputs": [],
   "source": [
    "def save_result(model, filename, scale=1):\n",
    "    dist = pd.DataFrame()\n",
    "    s = model.stars[\"solar\"]\n",
    "    \n",
    "    mg_h = s[\"[o/h]\"]\n",
    "    mg_fe = s[\"[o/fe]\"]\n",
    "    c_mg = s[\"[c/o]\"]\n",
    "        \n",
    "    dist[\"MG_H\"] = mg_h\n",
    "    dist[\"MG_FE\"] = mg_fe \n",
    "    dist[\"C_MG\"] = c_mg \n",
    "    \n",
    "    dist.to_csv(filename)\n",
    "    \n",
    "    # add uncertainties\n",
    "    del [[dist]]\n",
    "    gc.collect()\n",
    "\n",
    "def filename(id):\n",
    "    \"\"\"\n",
    "    Finds the pickled model with either the given name or the parameters \n",
    "    and returns the vice_model object\n",
    "    \"\"\"\n",
    "    if id.name is None:\n",
    "        name = id.agb + \"_f\" + id.f_agb + \"_Z\" + id.beta + \"_eta\" + id.eta + id.version\n",
    "    else:\n",
    "        name = id.name\n",
    "    file_name = \"../../output/\" + name + \".json\"\n",
    "\n",
    "    return file_name\n",
    "\n",
    "m_id = model_id(agb=\"cristallo11\", f_agb=\"0.2\", eta=\"1.0\",beta=\"0.4\", version=\"_v0.1.3\")\n",
    "\n",
    "def get_result(m_id):\n",
    "    name = filename(m_id)\n",
    "    basename = path.splitext(path.basename(name))[0]\n",
    "    model = vice_model(name)\n",
    "    savename = path.join(\"../../results/\", basename + \".csv\")\n",
    "    save_result(model, savename)"
   ]
  },
  {
   "cell_type": "code",
   "execution_count": null,
   "id": "24",
   "metadata": {},
   "outputs": [],
   "source": [
    "def get_result(name):\n",
    "    basename = path.splitext(path.basename(name))[0]\n",
    "    print(\"loading\", name)\n",
    "    model = vice_model(name)\n",
    "    savename = path.join(\"../../results/\", basename + \".csv\")\n",
    "    print(\"saving\", savename)\n",
    "    save_result(model, savename)"
   ]
  },
  {
   "cell_type": "code",
   "execution_count": null,
   "id": "25",
   "metadata": {},
   "outputs": [],
   "source": [
    "from glob import glob"
   ]
  },
  {
   "cell_type": "code",
   "execution_count": null,
   "id": "26",
   "metadata": {},
   "outputs": [],
   "source": [
    "for file in glob(\"../../output/*.json\"):\n",
    "    get_result(file)"
   ]
  },
  {
   "cell_type": "code",
   "execution_count": null,
   "id": "27",
   "metadata": {},
   "outputs": [],
   "source": []
  }
 ],
 "metadata": {
  "kernelspec": {
   "display_name": "Python 3.9 (Conda 2022.05) [python/3.9-2022.05]",
   "language": "python",
   "name": "python39_202205"
  },
  "language_info": {
   "codemirror_mode": {
    "name": "ipython",
    "version": 3
   },
   "file_extension": ".py",
   "mimetype": "text/x-python",
   "name": "python",
   "nbconvert_exporter": "python",
   "pygments_lexer": "ipython3",
   "version": "3.9.12"
  }
 },
 "nbformat": 4,
 "nbformat_minor": 5
}
