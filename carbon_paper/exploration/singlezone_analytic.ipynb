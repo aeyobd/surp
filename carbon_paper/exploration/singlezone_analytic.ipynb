{
 "cells": [
  {
   "cell_type": "markdown",
   "id": "0",
   "metadata": {},
   "source": [
    "This notebook compares the VICE outputs to the single zone analytic equations"
   ]
  },
  {
   "cell_type": "code",
   "execution_count": null,
   "id": "1",
   "metadata": {},
   "outputs": [],
   "source": [
    "%load_ext autoreload\n",
    "%autoreload 2\n",
    "# %config Completer.use_jedi = False"
   ]
  },
  {
   "cell_type": "code",
   "execution_count": null,
   "id": "2",
   "metadata": {},
   "outputs": [],
   "source": [
    "import pandas as pd\n",
    "import matplotlib.pyplot as plt\n",
    "import numpy as np\n",
    "import vice\n",
    "from dataclasses import dataclass\n"
   ]
  },
  {
   "cell_type": "code",
   "execution_count": null,
   "id": "3",
   "metadata": {},
   "outputs": [],
   "source": [
    "from scipy.special import expi"
   ]
  },
  {
   "cell_type": "code",
   "execution_count": null,
   "id": "4",
   "metadata": {},
   "outputs": [],
   "source": [
    "import vice\n",
    "import surp\n",
    "from surp import gce_math as gcem"
   ]
  },
  {
   "cell_type": "code",
   "execution_count": null,
   "id": "5",
   "metadata": {},
   "outputs": [],
   "source": [
    "surp.yields.set_magg22_scale()\n",
    "surp.set_yields()"
   ]
  },
  {
   "cell_type": "markdown",
   "id": "6",
   "metadata": {},
   "source": [
    "# Analytic definitions"
   ]
  },
  {
   "cell_type": "code",
   "execution_count": null,
   "id": "7",
   "metadata": {},
   "outputs": [],
   "source": [
    "@dataclass\n",
    "class sz_params:\n",
    "    η: float = 0.5\n",
    "    r: float = 0.4\n",
    "    τ_star: float = 2\n",
    "    τ_sfh: float = 15\n",
    "        \n",
    "    t_d_agb: float = 0# 0.1\n",
    "    τ_agb: float = 0.1\n",
    "        \n",
    "    y_c_agb: float = 0.000566\n",
    "    y_c_cc: float = 0.00205\n",
    "    ζ_c_agb: float = 0# vice.yields.ccsne.settings[\"c\"].zeta\n",
    "    ζ_c_cc: float = 0#vice.yields.agb.settings[\"c\"].zeta\n",
    "        \n",
    "    y_o: float = vice.yields.ccsne.settings[\"o\"]\n",
    "    y_fe_cc: float = vice.yields.ccsne.settings[\"fe\"]\n",
    "    y_fe_ia: float = vice.yields.sneia.settings[\"fe\"]\n",
    "        \n",
    "    τ_ia: float = 1.5\n",
    "    κ_ia: float = -1.1\n",
    "    t_d_ia: float = 0.15\n",
    "        \n",
    "    t_end: float = 13.2\n",
    "\n",
    "    sfh: str = \"const\"\n",
    "    \n",
    "        \n",
    "    @property \n",
    "    def ϖ(self):\n",
    "        return 1 / self.τ_dep\n",
    "    \n",
    "    @property\n",
    "    def τ_dep(self):\n",
    "        return self.τ_star / (1 + self.η - self.r)# - self.τ_star / self.τ_sfh)"
   ]
  },
  {
   "cell_type": "code",
   "execution_count": null,
   "id": "8",
   "metadata": {},
   "outputs": [],
   "source": [
    "def ϵ(t):\n",
    "    return np.exp(-t)\n",
    "\n",
    "def ξ(t):\n",
    "    return t*np.exp(-t)\n",
    "\n",
    "def Γ(κ, t):\n",
    "    return -gammainc(κ, t)\n",
    "\n",
    "def harmon_diff(a, b):\n",
    "    return 1/(1/a - 1/b)"
   ]
  },
  {
   "cell_type": "code",
   "execution_count": null,
   "id": "9",
   "metadata": {},
   "outputs": [],
   "source": [
    "def Zeq_cc_const(t, y, params=sz_params()):\n",
    "    return y / (1 + params.η - params.r)\n",
    "\n",
    "def Zeq_agb_const(t, params=sz_params()):\n",
    "    return Zeq_cc_const(0, params.y_c_agb, params)\n",
    "\n",
    "def Zeq_ia_const(t, params=sz_params()):\n",
    "    return Zeq_cc_const(0, params.y_fe_ia, params)"
   ]
  },
  {
   "cell_type": "code",
   "execution_count": null,
   "id": "10",
   "metadata": {},
   "outputs": [],
   "source": [
    "def z_cc_const(t, y, params = sz_params()):\n",
    "    ϖ = params.ϖ\n",
    "    s = 1 - ϵ(ϖ * t)\n",
    "    return y / params.τ_star * s / ϖ\n",
    "\n",
    "\n",
    "def z_fe_ia_const(t, params = sz_params()):\n",
    "    ϖ = params.ϖ\n",
    "    ι = 1 / params.τ_ia\n",
    "    \n",
    "    δt = t - params.t_d_ia\n",
    "    \n",
    "    s = 1 \n",
    "    s += - ϖ/(ϖ - ι) * ϵ(ι * δt)\n",
    "    s += + ι/(ϖ - ι) * ϵ(ϖ * δt)\n",
    "    s = np.where(δt <= 0, 0, s)\n",
    "    \n",
    "    Zeq = params.y_fe_ia / params.τ_star  / ϖ\n",
    "    return Zeq * s\n",
    "\n",
    "def z_c_agb_const(t, params=sz_params()):\n",
    "    α = 1/params.τ_agb\n",
    "    ϖ = params.ϖ\n",
    "    δt = t - params.t_d_agb\n",
    "    \n",
    "    s = 1 / ϖ \n",
    "    s += 1/(α - ϖ) * ξ(α * δt)\n",
    "    s += (2*α- ϖ) / (α - ϖ)**2 * ϵ(α * δt)\n",
    "    s += -(1/ϖ + (2*α- ϖ) / (α - ϖ)**2) * ϵ(ϖ * δt)\n",
    "    \n",
    "    s = np.where(δt < 0, 0, s)\n",
    "\n",
    "    return params.y_c_agb * s / params.τ_star"
   ]
  },
  {
   "cell_type": "code",
   "execution_count": null,
   "id": "11",
   "metadata": {},
   "outputs": [],
   "source": [
    "def Zeq_cc_exp(y, params=sz_params()):\n",
    "    return y / (1 + params.η - params.r - params.τ_star / params.τ_sfh)\n",
    "\n",
    "def nu_fe_exp(t, params=sz_params()):\n",
    "    # from WAF\n",
    "    τ_ia = params.τ_ia\n",
    "    τ_sfh = params.τ_sfh\n",
    "    t_D = params.t_d_ia\n",
    "    \n",
    "    return harmon_diff(τ_ia, τ_sfh)/τ_ia * np.exp(t_D/τ_sfh) * ( 1  -  np.exp(-(t - t_D)/harmon_diff(τ_ia, τ_sfh)) )\n",
    "    \n",
    "def Zeq_ia_exp(params=sz_params()):\n",
    "    ϖ = params.ϖ\n",
    "    ϕ = 1 / params.τ_sfh\n",
    "    ι = 1 / params.τ_ia\n",
    "    t_d = params.t_d_ia\n",
    "    \n",
    "    return params.y_fe_ia / (params.τ_star * (ϖ - ϕ)) * ι / (ι - ϕ) * ϵ(-ϕ * t_d)"
   ]
  },
  {
   "cell_type": "code",
   "execution_count": null,
   "id": "12",
   "metadata": {},
   "outputs": [],
   "source": [
    "harmon_diff(1.5, 5)"
   ]
  },
  {
   "cell_type": "code",
   "execution_count": null,
   "id": "13",
   "metadata": {},
   "outputs": [],
   "source": [
    "params = sz_params()"
   ]
  },
  {
   "cell_type": "code",
   "execution_count": null,
   "id": "14",
   "metadata": {},
   "outputs": [],
   "source": [
    "Zeq_ia_exp(params)"
   ]
  },
  {
   "cell_type": "code",
   "execution_count": null,
   "id": "15",
   "metadata": {},
   "outputs": [],
   "source": [
    "nu_fe_exp(10000, params) * params.y_fe_ia / (params.τ_star * (params.ϖ - 1/params.τ_sfh))"
   ]
  },
  {
   "cell_type": "code",
   "execution_count": null,
   "id": "16",
   "metadata": {},
   "outputs": [],
   "source": [
    "def z_cc_exp(t, y, params = sz_params()):\n",
    "    ϖ = params.ϖ \n",
    "    ϕ = 1 / params.τ_sfh\n",
    "    s = 1 - ϵ((ϖ-ϕ) * t)\n",
    "    return Zeq_cc_exp(y, params) * s \n",
    "\n",
    "\n",
    "def z_fe_ia_exp(t, params = sz_params()):\n",
    "    ϖ = params.ϖ\n",
    "    ι = 1 / params.τ_ia\n",
    "    ϕ = 1 / params.τ_sfh\n",
    "    δ = 1 / params.τ_dep\n",
    "    \n",
    "    Δt = t - params.t_d_ia\n",
    "    \n",
    "    s = (\n",
    "        1 - ϵ((δ - ϕ) * Δt)\n",
    "        - (δ - ϕ) / (δ - ι) * ( ϵ((ι - ϕ) * Δt) - ϵ(Δt * (δ - ϕ)) )\n",
    "    )\n",
    "    \n",
    "    s = np.where(Δt <= 0, 0, s)\n",
    "    \n",
    "    Zeq = Zeq_ia_exp(params)\n",
    "    return Zeq * s\n",
    "\n",
    "\n",
    "def z_c_agb_exp(t, params=sz_params()):\n",
    "    return 0"
   ]
  },
  {
   "cell_type": "markdown",
   "id": "17",
   "metadata": {
    "jp-MarkdownHeadingCollapsed": true
   },
   "source": [
    "## extra"
   ]
  },
  {
   "cell_type": "code",
   "execution_count": null,
   "id": "18",
   "metadata": {},
   "outputs": [],
   "source": [
    "\n",
    "def R_int_ia(t, params=sz_params()):\n",
    "    κ = params.κ_ia\n",
    "    t_d = params.t_d_ia    \n",
    "    R0 = (κ + 1) / (params.t_end**(κ + 1) - t_d**(κ + 1))\n",
    "\n",
    "    r = t**(κ+1) - t_d**(κ+1)\n",
    "    return r * R0 / (κ + 1)\n",
    "\n",
    "# A SneFe model allowing for changes to the DTD exponent\n",
    "def fe_ia_model_plaw(t, params=sz_params()):\n",
    "    ϖ = params.ϖ\n",
    "    κ = params.κ_ia\n",
    "    t_d = params.t_d_ia\n",
    "    \n",
    "    t = np.array(t)\n",
    "    \n",
    "    Zeq = params.y_fe_ia / params.τ_star * 1 / ϖ\n",
    "    R0 = (κ + 1) / (0 - t_d**(κ + 1))\n",
    "    \n",
    "    Γ0 = Γ(κ+2, -ϖ*t_d)\n",
    "    coef = (-ϖ)**(-κ - 1)\n",
    "    c = np.array([\n",
    "        float(\n",
    "            (coef * (Γ(κ+2, -ϖ*x) - Γ0)\n",
    "            ).real) for x in t])\n",
    "    \n",
    "    i = np.array([\n",
    "        float(\n",
    "            (coef * (Γ(κ+2, -ϖ*x) - Γ0)\n",
    "            ).imag) for x in t])\n",
    "    \n",
    "    s =  -ϵ(ϖ*t) * c\n",
    "    s += -t_d**(κ + 1) * (1 - ϵ(ϖ*t - ϖ*t_d))\n",
    "    \n",
    "    s = np.where(t >= t_d, s, 0)\n",
    "\n",
    "    return s * Zeq  * R0 / (κ + 1)\n",
    "\n",
    "\n"
   ]
  },
  {
   "cell_type": "markdown",
   "id": "19",
   "metadata": {},
   "source": [
    "## Combined models"
   ]
  },
  {
   "cell_type": "code",
   "execution_count": null,
   "id": "20",
   "metadata": {},
   "outputs": [],
   "source": [
    "def c_model(t, params):\n",
    "    if params.sfh == \"const\":\n",
    "        return z_c_agb_const(t, params) + z_cc_const(t, params.y_c_cc, params)\n",
    "    elif params.sfh == \"exp\":\n",
    "        return z_cc_exp(t, params.y_c_cc, params)\n",
    "    else:\n",
    "        raise ValueError(\"sfh not recognized\")\n",
    "\n",
    "\n",
    "def fe_model(t, params):\n",
    "    if params.sfh == \"const\":\n",
    "        return z_fe_ia_const(t, params) + z_cc_const(t, params.y_fe_cc, params)\n",
    "    elif params.sfh == \"exp\":\n",
    "        return z_fe_ia_exp(t, params) + z_cc_exp(t, params.y_fe_cc, params)\n",
    "    else:\n",
    "        raise ValueError(\"sfh not recognized\")\n",
    "\n",
    "def o_model(t, params):\n",
    "    if params.sfh == \"const\":\n",
    "        return z_cc_const(t, params.y_o, params)\n",
    "    elif params.sfh == \"exp\":\n",
    "        return z_cc_exp(t, params.y_o, params)\n",
    "    else:\n",
    "        raise ValueError(\"sfh not recognized\")"
   ]
  },
  {
   "cell_type": "code",
   "execution_count": null,
   "id": "21",
   "metadata": {},
   "outputs": [],
   "source": [
    "def run_analytic(t=np.linspace(0, 13.2, 10000), params=sz_params()):\n",
    "    df = pd.DataFrame()\n",
    "    df[\"time\"] = t\n",
    "    df[\"z(c)\"] = c_model(t, params)\n",
    "    df[\"z(o)\"] = o_model(t, params)\n",
    "    df[\"z(fe)\"] = fe_model(t, params)\n",
    "\n",
    "    add_abund_columns(df)\n",
    "\n",
    "    return df"
   ]
  },
  {
   "cell_type": "markdown",
   "id": "22",
   "metadata": {},
   "source": [
    "# Singlezone run"
   ]
  },
  {
   "cell_type": "code",
   "execution_count": null,
   "id": "23",
   "metadata": {
    "tags": []
   },
   "outputs": [],
   "source": [
    "def sfh_const():\n",
    "    return lambda t: 1 + 0*t\n",
    "\n",
    "def sfh_exp(tau):\n",
    "    return lambda t: np.exp(-t/tau)\n",
    "\n",
    "def get_sfh(params):\n",
    "    if params.sfh == \"const\":\n",
    "        return sfh_const()\n",
    "    elif params.sfh == \"exp\":\n",
    "        return sfh_exp(params.τ_sfh)\n",
    "    else:\n",
    "        raise ValueError(\"sfh not known\")\n",
    "\n",
    "\n",
    "def set_yields(params = sz_params(), model=\"A\"):\n",
    "    if model == \"A\":\n",
    "        surp.yields.set_yields(\n",
    "            y_c_cc=\"Lin\",\n",
    "            zeta_c_cc=params.ζ_c_cc, \n",
    "            y0_c_cc=params.y_c_cc,\n",
    "            Y_c_agb=\"A\", \n",
    "            y_fe_ia=params.y_fe_ia,\n",
    "            y_fe_cc=params.y_fe_cc,\n",
    "            y_o_cc= params.y_o,\n",
    "\n",
    "            kwargs_c_agb=dict(\n",
    "                tau_agb = params.τ_agb,\n",
    "                t_D = params.t_d_agb,\n",
    "                zeta = 0,\n",
    "            \n",
    "        ))\n",
    "        \n",
    "    \n",
    "def sz_model( params=sz_params(), dt=0.01, t_end=13.2, mode=\"sfr\", RIa=\"exp\", **kwargs):\n",
    "    set_yields(params, **kwargs)\n",
    "\n",
    "    sfh = get_sfh(params)\n",
    "    sz = vice.singlezone(elements=[\"o\", \"mg\", \"c\", \"fe\"], func=sfh, mode=mode, dt=dt, \n",
    "                         eta=params.η,  tau_star=params.τ_star, Mg0=1)\n",
    "    \n",
    "    sz.RIa = RIa\n",
    "    out = sz.run(np.arange(0, t_end, dt), capture=True, overwrite=True)\n",
    "    h = out.history\n",
    "    \n",
    "    add_abund_columns(h)\n",
    "\n",
    "    return h\n",
    "\n",
    "\n",
    "def add_abund_columns(sz):\n",
    "    zo = np.array(sz[\"z(o)\"])\n",
    "    zfe = np.array(sz[\"z(fe)\"])\n",
    "    zc = np.array(sz[\"z(c)\"])\n",
    "    t = np.array(sz[\"time\"])\n",
    "    \n",
    "    \n",
    "    o_h = gcem.abund_to_brak(zo, \"o\")\n",
    "    c_o = gcem.abund_ratio_to_brak(zc/zo, \"c\", \"o\")\n",
    "    o_fe = gcem.abund_ratio_to_brak(zo/zfe, \"o\", \"fe\")\n",
    "\n",
    "    sz[\"O_H\"] = o_h\n",
    "    sz[\"C_O\"] = c_o\n",
    "    sz[\"O_Fe\"] = o_fe"
   ]
  },
  {
   "cell_type": "markdown",
   "id": "24",
   "metadata": {},
   "source": [
    "# Plots"
   ]
  },
  {
   "cell_type": "code",
   "execution_count": null,
   "id": "25",
   "metadata": {},
   "outputs": [],
   "source": [
    "def compare_z_t(sz, ana):\n",
    "\n",
    "    for ele in [\"fe\", \"o\", \"c\"]:\n",
    "        plt.plot(sz['time'], sz[f\"z({ele})\"], label=\"VICE\")\n",
    "        \n",
    "        plt.plot(ana.time, ana[f\"z({ele})\"], label=\"analytic\")\n",
    "        \n",
    "        plt.xscale('log')\n",
    "        plt.xlabel(\"time\")\n",
    "        plt.ylabel(f\"$Z_{{\\\\rm {ele.title()}}}$\")\n",
    "\n",
    "        if ele == \"o\":\n",
    "            Zeq = Zeq_cc_exp(params.y_o, params)\n",
    "            plt.axhline(Zeq)\n",
    "            \n",
    "        plt.legend()\n",
    "        plt.show()\n",
    "    "
   ]
  },
  {
   "cell_type": "code",
   "execution_count": null,
   "id": "26",
   "metadata": {},
   "outputs": [],
   "source": [
    "def compare_abund(sz, ana):\n",
    "    plt.plot(sz[\"O_H\"], sz[\"O_Fe\"], label=\"vice\")\n",
    "    plt.plot(ana[\"O_H\"], ana[\"O_Fe\"], label=\"analytic\")\n",
    "    \n",
    "    plt.xlabel(\"[Mg/H]\")\n",
    "    plt.ylabel(\"[Mg/Fe]\")\n",
    "    \n",
    "    plt.legend()\n",
    "    plt.show()\n",
    "\n",
    "    plt.plot(sz[\"O_H\"], sz[\"C_O\"], label=\"vice\")\n",
    "    plt.plot(ana[\"O_H\"], ana[\"C_O\"], label=\"analytic\")\n",
    "    \n",
    "    plt.xlabel(\"[Mg/H]\")\n",
    "    plt.ylabel(\"[C/Mg]\")\n",
    "    \n",
    "    plt.legend()\n",
    "    plt.show()\n",
    "    \n",
    "    plt.plot(sz[\"O_Fe\"], sz[\"C_O\"], label=\"vice\")\n",
    "    plt.plot(ana[\"O_Fe\"], ana[\"C_O\"], label=\"analytic\")\n",
    "    \n",
    "    plt.xlabel(\"[Mg/Fe]\")\n",
    "    plt.ylabel(\"[C/Mg]\")\n",
    "    \n",
    "    plt.legend()\n",
    "    plt.show()\n",
    "\n",
    "\n",
    "    "
   ]
  },
  {
   "cell_type": "markdown",
   "id": "27",
   "metadata": {},
   "source": [
    "## Constant"
   ]
  },
  {
   "cell_type": "code",
   "execution_count": null,
   "id": "28",
   "metadata": {},
   "outputs": [],
   "source": [
    "params = sz_params(y_fe_cc=0)\n",
    "params"
   ]
  },
  {
   "cell_type": "code",
   "execution_count": null,
   "id": "29",
   "metadata": {},
   "outputs": [],
   "source": [
    "params.ϖ"
   ]
  },
  {
   "cell_type": "code",
   "execution_count": null,
   "id": "30",
   "metadata": {},
   "outputs": [],
   "source": [
    "sz = sz_model(params)"
   ]
  },
  {
   "cell_type": "code",
   "execution_count": null,
   "id": "31",
   "metadata": {},
   "outputs": [],
   "source": [
    "vice.yields.ccsne.settings[\"c\"].y0"
   ]
  },
  {
   "cell_type": "code",
   "execution_count": null,
   "id": "32",
   "metadata": {},
   "outputs": [],
   "source": [
    "params.y_c_agb = surp.yields.calc_y( kind=\"agb\")\n",
    "ana = run_analytic(params=params)"
   ]
  },
  {
   "cell_type": "code",
   "execution_count": null,
   "id": "33",
   "metadata": {},
   "outputs": [],
   "source": [
    "compare_z_t(sz, ana)"
   ]
  },
  {
   "cell_type": "code",
   "execution_count": null,
   "id": "34",
   "metadata": {},
   "outputs": [],
   "source": [
    "compare_abund(sz, ana)"
   ]
  },
  {
   "cell_type": "markdown",
   "id": "35",
   "metadata": {},
   "source": [
    "## Exponential"
   ]
  },
  {
   "cell_type": "code",
   "execution_count": null,
   "id": "36",
   "metadata": {},
   "outputs": [],
   "source": [
    "params = sz_params(sfh=\"exp\", τ_sfh=5, y_fe_cc=0)"
   ]
  },
  {
   "cell_type": "code",
   "execution_count": null,
   "id": "37",
   "metadata": {},
   "outputs": [],
   "source": [
    "params"
   ]
  },
  {
   "cell_type": "code",
   "execution_count": null,
   "id": "38",
   "metadata": {},
   "outputs": [],
   "source": [
    "ana = run_analytic(np.linspace(0.001, 10, 1000), params=params)"
   ]
  },
  {
   "cell_type": "code",
   "execution_count": null,
   "id": "39",
   "metadata": {},
   "outputs": [],
   "source": [
    "sz = sz_model(params, t_end=10)"
   ]
  },
  {
   "cell_type": "code",
   "execution_count": null,
   "id": "40",
   "metadata": {},
   "outputs": [],
   "source": [
    "compare_z_t(sz, ana)"
   ]
  },
  {
   "cell_type": "code",
   "execution_count": null,
   "id": "41",
   "metadata": {},
   "outputs": [],
   "source": [
    "compare_abund(sz, ana)"
   ]
  },
  {
   "cell_type": "code",
   "execution_count": null,
   "id": "42",
   "metadata": {},
   "outputs": [],
   "source": [
    "Zeq_ia_exp(params) / Zeq_cc_exp(params.y_fe_ia, params)"
   ]
  },
  {
   "cell_type": "code",
   "execution_count": null,
   "id": "43",
   "metadata": {},
   "outputs": [],
   "source": [
    "nu_fe_exp(100, params)"
   ]
  },
  {
   "cell_type": "code",
   "execution_count": null,
   "id": "44",
   "metadata": {},
   "outputs": [],
   "source": [
    "sz[\"z(fe)\"][-1] / Zeq_cc_exp(params.y_fe_ia, params)"
   ]
  },
  {
   "cell_type": "code",
   "execution_count": null,
   "id": "45",
   "metadata": {},
   "outputs": [],
   "source": [
    "calc_nu_fe(sz)"
   ]
  },
  {
   "cell_type": "markdown",
   "id": "46",
   "metadata": {},
   "source": [
    "#"
   ]
  },
  {
   "cell_type": "code",
   "execution_count": null,
   "id": "47",
   "metadata": {},
   "outputs": [],
   "source": [
    "Rs = np.linspace(0, 15, 100)\n",
    "tau_sfh = [surp.simulation.star_formation_history.get_sfh_timescale(R) for R in Rs]\n",
    "\n",
    "nu = [nu_fe_exp(10, sz_params(sfh=\"exp\", τ_sfh=t)) for t in tau_sfh]"
   ]
  },
  {
   "cell_type": "code",
   "execution_count": null,
   "id": "48",
   "metadata": {},
   "outputs": [],
   "source": [
    "plt.plot(Rs, nu)\n",
    "plt.ylim(1, 2)"
   ]
  },
  {
   "cell_type": "code",
   "execution_count": null,
   "id": "49",
   "metadata": {},
   "outputs": [],
   "source": [
    "def calc_nu_fe(h, ):\n",
    "    \"Returns the current rate of Fe injection at the given time for a singlezone-like history\"\n",
    "        \n",
    "    Mdotstar = np.array(h[\"sfr\"]) * 1e9\n",
    "    tprime =np.array( h[\"time\"])\n",
    "    time = tprime[-1]\n",
    "\n",
    "    dt = np.gradient(tprime)\n",
    "\n",
    "    num = np.sum(Mdotstar * R_ia(time - tprime) * dt)\n",
    "\n",
    "    return num / Mdotstar[-1]"
   ]
  },
  {
   "cell_type": "code",
   "execution_count": null,
   "id": "50",
   "metadata": {},
   "outputs": [],
   "source": [
    "def R_ia_unnorm(t):\n",
    "    t_d = 0.15\n",
    "    tau_ia = 1.5\n",
    "    return np.where(t < 0.150, 0, np.exp(-(t-t_d) / tau_ia))\n",
    "\n",
    "tprime = np.linspace(0.001, 15, 10000)\n",
    "\n",
    "denom = np.sum(R_ia_unnorm(tprime) * np.gradient(tprime))\n",
    "\n",
    "\n",
    "def R_ia(t):\n",
    "    return R_ia_unnorm(t) / denom\n"
   ]
  },
  {
   "cell_type": "code",
   "execution_count": null,
   "id": "51",
   "metadata": {},
   "outputs": [],
   "source": []
  }
 ],
 "metadata": {
  "kernelspec": {
   "display_name": "Python 3 (ipykernel)",
   "language": "python",
   "name": "python3"
  },
  "language_info": {
   "codemirror_mode": {
    "name": "ipython",
    "version": 3
   },
   "file_extension": ".py",
   "mimetype": "text/x-python",
   "name": "python",
   "nbconvert_exporter": "python",
   "pygments_lexer": "ipython3",
   "version": "3.11.9"
  }
 },
 "nbformat": 4,
 "nbformat_minor": 5
}
