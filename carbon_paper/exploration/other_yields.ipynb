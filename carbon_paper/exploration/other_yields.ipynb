{
 "cells": [
  {
   "cell_type": "markdown",
   "id": "0",
   "metadata": {},
   "source": [
    "# Other Yields\n",
    "A short comparison of non-carbon AGB & not CCSNe yields"
   ]
  },
  {
   "cell_type": "code",
   "execution_count": 1,
   "id": "1",
   "metadata": {},
   "outputs": [
    {
     "name": "stderr",
     "output_type": "stream",
     "text": [
      "/astro/dboyea/.local/lib/python3.11/site-packages/vice-1.4.0.dev0-py3.11-linux-x86_64.egg/vice/__init__.py:141: UserWarning: Using un-released version of VICE\n",
      "  warnings.warn(\"Using un-released version of VICE\", UserWarning)\n"
     ]
    }
   ],
   "source": [
    "import vice\n",
    "import numpy as np"
   ]
  },
  {
   "cell_type": "code",
   "execution_count": 2,
   "id": "2",
   "metadata": {},
   "outputs": [
    {
     "data": {
      "text/plain": [
       "5.74e-06"
      ]
     },
     "execution_count": 2,
     "metadata": {},
     "output_type": "execute_result"
    }
   ],
   "source": [
    "vice.yields.sneia.settings[\"c\"]"
   ]
  },
  {
   "cell_type": "code",
   "execution_count": 3,
   "id": "3",
   "metadata": {},
   "outputs": [],
   "source": [
    "import matplotlib.pyplot as plt"
   ]
  },
  {
   "cell_type": "code",
   "execution_count": 4,
   "id": "4",
   "metadata": {},
   "outputs": [],
   "source": [
    "import surp"
   ]
  },
  {
   "cell_type": "code",
   "execution_count": 5,
   "id": "5",
   "metadata": {},
   "outputs": [],
   "source": [
    "surp.set_yields()"
   ]
  },
  {
   "cell_type": "code",
   "execution_count": 6,
   "id": "6",
   "metadata": {},
   "outputs": [
    {
     "data": {
      "text/plain": [
       "0.00275"
      ]
     },
     "execution_count": 6,
     "metadata": {},
     "output_type": "execute_result"
    }
   ],
   "source": [
    "y_c_0 = 2.75e-3\n",
    "y_c_0"
   ]
  },
  {
   "cell_type": "code",
   "execution_count": 7,
   "id": "7",
   "metadata": {},
   "outputs": [
    {
     "data": {
      "text/plain": [
       "\u001b[0;31mType:\u001b[0m        module\n",
       "\u001b[0;31mString form:\u001b[0m <module 'vice.yields.sneia' from '/astro/dboyea/.local/lib/python3.11/site-packages/vice-1.4.0.dev0-py3.11-linux-x86_64.egg/vice/yields/sneia/__init__.py'>\n",
       "\u001b[0;31mFile:\u001b[0m        ~/.local/lib/python3.11/site-packages/vice-1.4.0.dev0-py3.11-linux-x86_64.egg/vice/yields/sneia/__init__.py\n",
       "\u001b[0;31mDocstring:\u001b[0m  \n",
       "Type Ia Supernovae (SNe Ia) Nucleosynthetic Yield Tools\n",
       "\n",
       "Calculate IMF-averaged yields and modify yield settings for use in simulations.\n",
       "This package provides tables from the following nucleosynthetic yield studies:\n",
       "\n",
       "        - Seitenzahl et al. (2013) [1]_\n",
       "        - Iwamoto et al. (1999) [2]_\n",
       "        - Gronow et al. (2021a, b) [3]_ [4]_\n",
       "\n",
       "Contents\n",
       "--------\n",
       "fractional : <function>\n",
       "        Calculate an IMF-averaged yield for a given element.\n",
       "single : <function>\n",
       "        Look up the mass yield of a given element from a single type Ia supernova\n",
       "        from a specified study.\n",
       "settings : dataframe\n",
       "        Stores current settings for these yields.\n",
       "gronow21 : yield preset\n",
       "        Sets the yields according to one of the models published in the Gronow et\n",
       "        al. (2021a, b) studies.\n",
       "seitenzahl13 : yield preset\n",
       "        Sets the yields according to one of the models published in the Seitenzahl\n",
       "        et al. (2013) study.\n",
       "iwamoto99 : yield preset\n",
       "        Sets the yields according to one of the models published in the Iwamoto et\n",
       "        al. (1999) study.\n",
       "\n",
       ".. versionadded:: 1.3.0\n",
       "        The \"gronow21\" yield model was introduced in version 1.3.0.\n",
       "\n",
       "Notes\n",
       "-----\n",
       "The data stored in this module are reported for each corresponding study\n",
       "*as published*. The Seitenzahl et al. (2013) and Gronow et al. (2021a, b)\n",
       "models reported mass yields after complete decay of all radioactive nuclides\n",
       "with half-lives less than 2 Gyr, and the Iwamoto et al. (1999) study fully\n",
       "decayed *all* unstable isotopes; any additional treatment for radioactive\n",
       "isotopes is thus unnecessary.\n",
       "\n",
       ".. [1] Seitenzahl et al. (2013), MNRAS, 429, 1156\n",
       ".. [2] Iwamoto et al. (1999), ApJ, 124, 439\n",
       ".. [3] Gronow et al. (2021a), A&A, 649, 155\n",
       ".. [4] Gronow et al. (2021b), arxiv:2103.14050"
      ]
     },
     "metadata": {},
     "output_type": "display_data"
    }
   ],
   "source": [
    "?vice.yields.sneia"
   ]
  },
  {
   "cell_type": "code",
   "execution_count": 8,
   "id": "8",
   "metadata": {},
   "outputs": [
    {
     "data": {
      "text/plain": [
       "\u001b[0;31mSignature:\u001b[0m     \n",
       "\u001b[0mvice\u001b[0m\u001b[0;34m.\u001b[0m\u001b[0myields\u001b[0m\u001b[0;34m.\u001b[0m\u001b[0msneia\u001b[0m\u001b[0;34m.\u001b[0m\u001b[0mfractional\u001b[0m\u001b[0;34m(\u001b[0m\u001b[0;34m\u001b[0m\n",
       "\u001b[0;34m\u001b[0m    \u001b[0melement\u001b[0m\u001b[0;34m,\u001b[0m\u001b[0;34m\u001b[0m\n",
       "\u001b[0;34m\u001b[0m    \u001b[0mstudy\u001b[0m\u001b[0;34m=\u001b[0m\u001b[0;34m'seitenzahl13'\u001b[0m\u001b[0;34m,\u001b[0m\u001b[0;34m\u001b[0m\n",
       "\u001b[0;34m\u001b[0m    \u001b[0mmodel\u001b[0m\u001b[0;34m=\u001b[0m\u001b[0;34m'N1'\u001b[0m\u001b[0;34m,\u001b[0m\u001b[0;34m\u001b[0m\n",
       "\u001b[0;34m\u001b[0m    \u001b[0mn\u001b[0m\u001b[0;34m=\u001b[0m\u001b[0;36m0.0022\u001b[0m\u001b[0;34m,\u001b[0m\u001b[0;34m\u001b[0m\n",
       "\u001b[0;34m\u001b[0m\u001b[0;34m)\u001b[0m\u001b[0;34m\u001b[0m\u001b[0;34m\u001b[0m\u001b[0m\n",
       "\u001b[0;31mCall signature:\u001b[0m \u001b[0mvice\u001b[0m\u001b[0;34m.\u001b[0m\u001b[0myields\u001b[0m\u001b[0;34m.\u001b[0m\u001b[0msneia\u001b[0m\u001b[0;34m.\u001b[0m\u001b[0mfractional\u001b[0m\u001b[0;34m(\u001b[0m\u001b[0;34m*\u001b[0m\u001b[0margs\u001b[0m\u001b[0;34m,\u001b[0m \u001b[0;34m**\u001b[0m\u001b[0mkwargs\u001b[0m\u001b[0;34m)\u001b[0m\u001b[0;34m\u001b[0m\u001b[0;34m\u001b[0m\u001b[0m\n",
       "\u001b[0;31mType:\u001b[0m           cython_function_or_method\n",
       "\u001b[0;31mString form:\u001b[0m    <cyfunction integrated_yield at 0x7f802635ac20>\n",
       "\u001b[0;31mDocstring:\u001b[0m     \n",
       "Calculate a delay-time distribution integrated fractional nucleosynthetic\n",
       "yield of a given element from type Ia supernovae.\n",
       "\n",
       "**Signature**: vice.yields.sneia.fractional(element, study = \"seitenzahl13\",\n",
       "model = \"N1\", n = 2.2e-03)\n",
       "\n",
       "Parameters\n",
       "----------\n",
       "element : ``str`` [case-insensitive]\n",
       "        The symbol of the element to calculate the yield for.\n",
       "study : ``str`` [case-sensitive] [default : \"seitenzahl13\"]\n",
       "        A keyword denoting which study to adopt SN Ia mass yields from.\n",
       "\n",
       "        Keywords and their Associated Studies:\n",
       "\n",
       "                - \"seitenzahl13\" : Seitenzahl et al. (2013) [1]_\n",
       "                - \"iwamoto99\" : Iwamoto et al. (1999), [2]_\n",
       "                - \"gronow21\" : Gronow et al. (2021a, b) [3]_ [4]_\n",
       "\n",
       "model : ``str`` [case-insensitive] [default : \"N1\"]\n",
       "        The model from the associated study to adopt.\n",
       "\n",
       "        Keywords and their Associated Models:\n",
       "\n",
       "                -       \"seitenzahl13\" : N1, N3, N5, N10, N20, N40, N100H, N100,\n",
       "                                N100L, N150, N200, N300C, N1600, N1600C, N100_Z0.5,\n",
       "                                N100_Z0.1, N100_Z0.01\n",
       "                -       \"iwamoto99\" : W7, W70, WDD1, WDD2, WDD3, CDD1, CDD2\n",
       "                -       | \"gronow21\" : M08_03_001, M08_03_01, M08_03_1, M08_03_3,\n",
       "                        |       M08_05_001, M08_05_01, M08_05_1, M08_05_3,\n",
       "                        |       M08_10_001, M08_10_01, M08_10_1, M08_10_3,\n",
       "                        |       M09_03_001, M09_03_01, M09_03_1, M09_03_3,\n",
       "                        |       M09_05_001, M09_05_01, M09_05_1, M09_05_3,\n",
       "                        |       M09_10_001, M09_10_01, M09_10_1, M09_10_3,\n",
       "                        |       M10_02_001, M10_02_01, M10_02_1, M10_02_3,\n",
       "                        |       M10_03_001, M10_03_01, M10_03_1, M10_03_3,\n",
       "                        |       M10_05_001, M10_05_01, M10_05_1, M10_05_3,\n",
       "                        |       M10_10_001, M10_10_01, M10_10_1, M10_10_3,\n",
       "                        |       M11_05_001, M11_05_01, M11_05_1, M11_05_3\n",
       "\n",
       "n : real number [default : 2.2e-03]\n",
       "        The average number of type Ia supernovae produced per unit stellar\n",
       "        mass formed :math:`N_\\text{Ia}/M_\\star` in :math:`M_\\odot^{-1}`.\n",
       "\n",
       "        .. note:: The default value for this parameter is adopted from\n",
       "                Maoz & Mannucci (2012) [5]_.\n",
       "\n",
       "Returns\n",
       "-------\n",
       "y : real number\n",
       "        The delay-time distribution integrated yield. This quantity represents\n",
       "        the mass of some element produced over all SN Ia associated with a\n",
       "        given stellar population in units of that stellar population's mass.\n",
       "        This quantity is thus unitless (:math:`M_\\odot` per :math:`M_\\odot`).\n",
       "\n",
       ".. note:: Unlike vice.yields.ccsne.fractional, there is no associated\n",
       "        numerical error with this function, because the solution is analytic.\n",
       "\n",
       "Raises\n",
       "------\n",
       "* ValueError\n",
       "        -       The element is not built into VICE.\n",
       "        -       The study is not built into VICE.\n",
       "        -       n < 0\n",
       "* LookupError\n",
       "        -       The model is not recognized for the given study.\n",
       "* IOError [Occurs only if VICE's file structure has been modified]\n",
       "        -       The parameters passed to this function are allowed but the data\n",
       "                file is not found.\n",
       "\n",
       "Notes\n",
       "-----\n",
       "This function evaluates the solution to the following equation:\n",
       "\n",
       ".. math:: y_x^\\text{Ia} = \\left(\\frac{N_\\text{Ia}}{M_\\star}\\right)M_x\n",
       "\n",
       "where :math:`M_x` is the value returned by vice.yields.sneia.single, and\n",
       ":math:`N_\\text{Ia}/M_\\star` is specified by the parameter ``n``.\n",
       "\n",
       "The data stored in this module are reported for each corresponding study\n",
       "*as published*. The Seitenzahl et al. (2013) and Gronow et al. (2021a, b)\n",
       "models reported mass yields after complete decay of all radioactive\n",
       "nuclides with half-lives less than 2 Gyr, and the Iwamoto et al. (1999)\n",
       "study fully decayed *all* unstable isotopes; any additional treatment for\n",
       "radioactive isotopes is thus unnecessary.\n",
       "\n",
       "The Gronow et al. (2021a, b) models are named for the mass of the\n",
       "carbon-oxygen core, the mass of the helium shell, and the metallicity of\n",
       "the progenitor relative to solar, in that order.\n",
       "For example, the \"M09_05_01\" model refers to one with a 0.9 :math:`M_\\odot`\n",
       "carbon-oxygen core and a 0.05 :math:`M_\\odot` helium shell produced by a\n",
       "star that was initially at a metallicity of 0.1 :math:`Z_\\odot`.\n",
       "\n",
       "Example Code\n",
       "------------\n",
       ">>> import vice\n",
       ">>> vice.yields.sneia.fractional(\"fe\")\n",
       "0.0025825957080000002\n",
       ">>> vice.yields.sneia.fractional(\"fe\", study = \"iwamoto99\", model = \"W70\")\n",
       "0.001705352\n",
       ">>> vice.yields.sneia.fractional(\"fe\", study = \"iwamoto99\", model = \"CDD1\")\n",
       "0.0014255185999999997\n",
       ">>> vice.yields.sneia.fractional(\"ni\", model = \"n100l\")\n",
       "8.610998000011574e-05\n",
       ">>> vice.yields.sneia.fractional(\"ni\", model = \"N150\")\n",
       "0.00016497607368\n",
       ">>> vice.yields.sneia.fractional(\"co\", study = \"gronow21\",\n",
       "        model = \"M10_10_1\")\n",
       "2.3276e-06\n",
       ">>> vice.yields.sneia.fractional(\"co\", study = \"gronow21\",\n",
       "        model = \"M09_05_001\")\n",
       "3.4584000000000003e-07\n",
       "\n",
       ".. seealso::\n",
       "\n",
       "        - vice.yields.sneia.single\n",
       "        - vice.yields.sneia.gronow21\n",
       "        - vice.yields.sneia.iwamoto99\n",
       "        - vice.yields.sneia.seitenzahl13\n",
       "\n",
       ".. [1] Seitenzahl et al. (2013), MNRAS, 429, 1156\n",
       ".. [2] Iwamoto et al. (1999), ApJ, 124, 439\n",
       ".. [3] Gronow et al. (2021a), A&A, 649, 155\n",
       ".. [4] Gronow et al. (2021b), arxiv:2103.14050\n",
       ".. [5] Maoz & Mannucci (2012), PASA, 29, 447"
      ]
     },
     "metadata": {},
     "output_type": "display_data"
    }
   ],
   "source": [
    "?vice.yields.sneia.fractional"
   ]
  },
  {
   "cell_type": "code",
   "execution_count": 9,
   "id": "9",
   "metadata": {},
   "outputs": [
    {
     "data": {
      "text/plain": [
       "Text(0, 0.5, 'log y_ia / y_total')"
      ]
     },
     "execution_count": 9,
     "metadata": {},
     "output_type": "execute_result"
    },
    {
     "data": {
      "image/png": "[encoded data removed]",
      "text/plain": [
       "<Figure size 640x480 with 1 Axes>"
      ]
     },
     "metadata": {},
     "output_type": "display_data"
    }
   ],
   "source": [
    "\n",
    "ys = []\n",
    "labels = []\n",
    "for model in ['W7', 'W70', 'WDD1', 'WDD2', 'WDD3', 'CDD1', 'CDD2']:\n",
    "    y = vice.yields.sneia.fractional(\"c\", study=\"iwamoto99\", model=model)\n",
    "    ys.append(y)\n",
    "    labels.append(\"i99.\" +  model)\n",
    "    plt.scatter(0, np.log10(y / y_c_0))\n",
    "    \n",
    "    \n",
    "for model in ['M08_03_001', 'M08_03_01', 'M08_03_1', 'M08_03_3', 'M08_05_001', 'M08_05_01', 'M08_05_1', 'M08_05_3', 'M08_10_001', 'M08_10_01', 'M08_10_1', 'M08_10_3', 'M09_03_001', 'M09_03_01', 'M09_03_1', 'M09_03_3', 'M09_05_001', 'M09_05_01', 'M09_05_1', 'M09_05_3', 'M09_10_001', 'M09_10_01', 'M09_10_1', 'M09_10_3', 'M10_02_001', 'M10_02_01', 'M10_02_1', 'M10_02_3', 'M10_03_001', 'M10_03_01', 'M10_03_1', 'M10_03_3', 'M10_05_001', 'M10_05_01', 'M10_05_1', 'M10_05_3', 'M10_10_001', 'M10_10_01', 'M10_10_1', 'M10_10_3', 'M11_05_001', 'M11_05_01', 'M11_05_1', 'M11_05_3']:\n",
    "    y = vice.yields.sneia.fractional(\"c\", study=\"gronow21\", model=model)\n",
    "    plt.scatter(1, np.log10(y / y_c_0))\n",
    "    ys.append(y)\n",
    "    labels.append(\"g21.\" +  model)\n",
    "\n",
    "\n",
    "for model in ['N1', 'N3', 'N5', 'N10', 'N20', 'N40', 'N100H', 'N100', 'N100L', 'N150', 'N200', 'N300C', 'N1600', 'N1600C', 'N100_Z0.5', 'N100_Z0.1', 'N100_Z0.01']:\n",
    "    y = vice.yields.sneia.fractional(\"c\", study=\"seitenzahl13\", model=model)\n",
    "    plt.scatter(2, np.log10(y / y_c_0))\n",
    "    ys.append(y)\n",
    "    labels.append(\"s13.\" +model)\n",
    "\n",
    "\n",
    "\n",
    "plt.xticks([0, 1, 2], labels=[\"iwamoto99\", \"g21\", \"seitenzahl+13\"])\n",
    "\n",
    "plt.ylabel(\"log y_ia / y_total\")"
   ]
  },
  {
   "cell_type": "code",
   "execution_count": 10,
   "id": "10",
   "metadata": {},
   "outputs": [
    {
     "data": {
      "text/plain": [
       "np.float64(0.040640001248)"
      ]
     },
     "execution_count": 10,
     "metadata": {},
     "output_type": "execute_result"
    }
   ],
   "source": [
    "np.max(ys) / y_c_0"
   ]
  },
  {
   "cell_type": "code",
   "execution_count": 11,
   "id": "11",
   "metadata": {},
   "outputs": [
    {
     "data": {
      "text/plain": [
       "np.float64(1.1176000343199999)"
      ]
     },
     "execution_count": 11,
     "metadata": {},
     "output_type": "execute_result"
    }
   ],
   "source": [
    "np.max(ys) / 1e-4"
   ]
  },
  {
   "cell_type": "code",
   "execution_count": 12,
   "id": "12",
   "metadata": {},
   "outputs": [
    {
     "data": {
      "text/plain": [
       "'i99.W70'"
      ]
     },
     "execution_count": 12,
     "metadata": {},
     "output_type": "execute_result"
    }
   ],
   "source": [
    "labels[np.argmax(ys)]"
   ]
  },
  {
   "cell_type": "code",
   "execution_count": 13,
   "id": "13",
   "metadata": {},
   "outputs": [
    {
     "data": {
      "text/plain": [
       "array(['g21.M11_05_3', 'g21.M11_05_1', 'g21.M11_05_001', 'g21.M11_05_01',\n",
       "       'g21.M10_10_3', 'g21.M10_10_01', 'g21.M10_10_001', 'g21.M10_10_1',\n",
       "       'g21.M09_10_3', 'g21.M09_10_1', 'g21.M09_10_01', 'g21.M09_10_001',\n",
       "       'g21.M10_05_3', 'g21.M10_05_1', 'g21.M10_05_01', 'g21.M10_05_001',\n",
       "       'g21.M08_10_3', 'g21.M08_10_1', 'g21.M08_10_01', 'g21.M08_10_001',\n",
       "       'g21.M10_03_3', 'g21.M10_03_1', 'g21.M10_03_01', 'g21.M10_03_001',\n",
       "       's13.N1', 'g21.M09_05_3', 's13.N100', 'g21.M09_05_1',\n",
       "       'g21.M09_05_01', 's13.N100_Z0.5', 'g21.M09_05_001',\n",
       "       's13.N100_Z0.1', 's13.N100_Z0.01', 'g21.M10_02_3', 'g21.M10_02_1',\n",
       "       'g21.M10_02_01', 'g21.M10_02_001', 's13.N100L', 's13.N100H',\n",
       "       's13.N40', 's13.N10', 'i99.CDD2', 'i99.WDD1', 'g21.M09_03_3',\n",
       "       'g21.M09_03_1', 'g21.M09_03_01', 'g21.M09_03_001', 's13.N300C',\n",
       "       'i99.WDD2', 's13.N5', 's13.N20', 'g21.M08_05_3', 'g21.M08_05_1',\n",
       "       'g21.M08_05_01', 'g21.M08_05_001', 's13.N3', 'i99.CDD1',\n",
       "       's13.N1600', 's13.N200', 'g21.M08_03_3', 'g21.M08_03_1',\n",
       "       'g21.M08_03_01', 'g21.M08_03_001', 'i99.WDD3', 's13.N1600C',\n",
       "       's13.N150', 'i99.W7', 'i99.W70'], dtype='<U14')"
      ]
     },
     "execution_count": 13,
     "metadata": {},
     "output_type": "execute_result"
    }
   ],
   "source": [
    "np.array(labels)[np.argsort(ys)]"
   ]
  },
  {
   "cell_type": "code",
   "execution_count": 14,
   "id": "14",
   "metadata": {},
   "outputs": [
    {
     "data": {
      "text/plain": [
       "array([5.50465523e-06, 6.55272403e-06, 6.68081056e-06, 6.71280264e-06,\n",
       "       6.91492088e-06, 7.77937008e-06, 7.88338600e-06, 2.19230993e-05,\n",
       "       1.36001258e-04, 1.36881358e-04, 1.38561509e-04, 1.39361517e-04,\n",
       "       3.75760713e-04, 3.81120257e-04, 3.86000246e-04, 3.87680253e-04,\n",
       "       9.25600671e-04, 9.35200136e-04, 9.49600109e-04, 9.50400113e-04,\n",
       "       1.56400955e-03, 1.59280159e-03, 1.60640087e-03, 1.60880094e-03,\n",
       "       2.08801472e-03, 2.40722538e-03, 2.43201392e-03, 2.45040423e-03,\n",
       "       2.47680228e-03, 2.48000678e-03, 2.48560244e-03, 2.52000153e-03,\n",
       "       2.52800022e-03, 2.84007844e-03, 2.89602214e-03, 2.92801364e-03,\n",
       "       2.92801444e-03, 3.08001736e-03, 3.09601824e-03, 3.12001744e-03,\n",
       "       3.54402056e-03, 4.06433280e-03, 4.33640480e-03, 6.52827018e-03,\n",
       "       6.68008146e-03, 6.76005030e-03, 6.76805286e-03, 7.08803960e-03,\n",
       "       7.19226400e-03, 7.24004040e-03, 7.36003616e-03, 7.61634909e-03,\n",
       "       7.81609793e-03, 7.90405961e-03, 7.91206249e-03, 7.92004920e-03,\n",
       "       7.94467680e-03, 8.48004456e-03, 9.68005256e-03, 1.23447250e-02,\n",
       "       1.27042811e-02, 1.28241870e-02, 1.28241950e-02, 1.32802536e-02,\n",
       "       1.34400675e-02, 1.37600800e-02, 3.86411200e-02, 4.06400012e-02])"
      ]
     },
     "execution_count": 14,
     "metadata": {},
     "output_type": "execute_result"
    }
   ],
   "source": [
    "np.sort(ys) / y_c_0"
   ]
  },
  {
   "cell_type": "code",
   "execution_count": 15,
   "id": "15",
   "metadata": {},
   "outputs": [
    {
     "data": {
      "text/plain": [
       "array([1.51378019e-04, 1.80199911e-04, 1.83722290e-04, 1.84602073e-04,\n",
       "       1.90160324e-04, 2.13932677e-04, 2.16793115e-04, 6.02885230e-04,\n",
       "       3.74003459e-03, 3.76423733e-03, 3.81044149e-03, 3.83244171e-03,\n",
       "       1.03334196e-02, 1.04808071e-02, 1.06150068e-02, 1.06612070e-02,\n",
       "       2.54540184e-02, 2.57180037e-02, 2.61140030e-02, 2.61360031e-02,\n",
       "       4.30102627e-02, 4.38020438e-02, 4.41760240e-02, 4.42420257e-02,\n",
       "       5.74204048e-02, 6.61986978e-02, 6.68803828e-02, 6.73861164e-02,\n",
       "       6.81120628e-02, 6.82001863e-02, 6.83540670e-02, 6.93000420e-02,\n",
       "       6.95200060e-02, 7.81021570e-02, 7.96406089e-02, 8.05203751e-02,\n",
       "       8.05203971e-02, 8.47004774e-02, 8.51405016e-02, 8.58004796e-02,\n",
       "       9.74605654e-02, 1.11769152e-01, 1.19251132e-01, 1.79527430e-01,\n",
       "       1.83702240e-01, 1.85901383e-01, 1.86121454e-01, 1.94921089e-01,\n",
       "       1.97787260e-01, 1.99101111e-01, 2.02400994e-01, 2.09449600e-01,\n",
       "       2.14942693e-01, 2.17361639e-01, 2.17581719e-01, 2.17801353e-01,\n",
       "       2.18478612e-01, 2.33201225e-01, 2.66201445e-01, 3.39479936e-01,\n",
       "       3.49367731e-01, 3.52665144e-01, 3.52665364e-01, 3.65206974e-01,\n",
       "       3.69601857e-01, 3.78402200e-01, 1.06263080e+00, 1.11760003e+00])"
      ]
     },
     "execution_count": 15,
     "metadata": {},
     "output_type": "execute_result"
    }
   ],
   "source": [
    "np.sort(ys) / 1e-4"
   ]
  },
  {
   "cell_type": "code",
   "execution_count": 16,
   "id": "16",
   "metadata": {},
   "outputs": [
    {
     "data": {
      "text/plain": [
       "array([1.51378019e-08, 1.80199911e-08, 1.83722290e-08, 1.84602073e-08,\n",
       "       1.90160324e-08, 2.13932677e-08, 2.16793115e-08, 6.02885230e-08,\n",
       "       3.74003459e-07, 3.76423733e-07, 3.81044149e-07, 3.83244171e-07,\n",
       "       1.03334196e-06, 1.04808071e-06, 1.06150068e-06, 1.06612070e-06,\n",
       "       2.54540184e-06, 2.57180037e-06, 2.61140030e-06, 2.61360031e-06,\n",
       "       4.30102627e-06, 4.38020438e-06, 4.41760240e-06, 4.42420257e-06,\n",
       "       5.74204048e-06, 6.61986978e-06, 6.68803828e-06, 6.73861164e-06,\n",
       "       6.81120628e-06, 6.82001863e-06, 6.83540670e-06, 6.93000420e-06,\n",
       "       6.95200060e-06, 7.81021570e-06, 7.96406089e-06, 8.05203751e-06,\n",
       "       8.05203971e-06, 8.47004774e-06, 8.51405016e-06, 8.58004796e-06,\n",
       "       9.74605654e-06, 1.11769152e-05, 1.19251132e-05, 1.79527430e-05,\n",
       "       1.83702240e-05, 1.85901383e-05, 1.86121454e-05, 1.94921089e-05,\n",
       "       1.97787260e-05, 1.99101111e-05, 2.02400994e-05, 2.09449600e-05,\n",
       "       2.14942693e-05, 2.17361639e-05, 2.17581719e-05, 2.17801353e-05,\n",
       "       2.18478612e-05, 2.33201225e-05, 2.66201445e-05, 3.39479936e-05,\n",
       "       3.49367731e-05, 3.52665144e-05, 3.52665364e-05, 3.65206974e-05,\n",
       "       3.69601857e-05, 3.78402200e-05, 1.06263080e-04, 1.11760003e-04])"
      ]
     },
     "execution_count": 16,
     "metadata": {},
     "output_type": "execute_result"
    }
   ],
   "source": [
    "np.sort(ys)"
   ]
  },
  {
   "cell_type": "markdown",
   "id": "17",
   "metadata": {},
   "source": [
    "# Nitrogen AGB"
   ]
  },
  {
   "cell_type": "code",
   "execution_count": 17,
   "id": "18",
   "metadata": {},
   "outputs": [],
   "source": [
    "\n",
    "def plot_n_table(study = \"cristallo11\", ax=None, fig=None, factor=1e2, **kwargs):\n",
    "    if ax is None:\n",
    "        fig, ax = plt.subplots()\n",
    "\n",
    "    y1, m1, z1 = vice.yields.agb.grid('n', study=study)\n",
    "    N = len(z1)\n",
    "\n",
    "    for i in range(N):\n",
    "        y = np.array(y1)[:,i] * factor\n",
    "        z = z1[i] \n",
    "        c = hmap(np.log10(z/0.014))\n",
    "        f = ax.plot(m1, y, \"o\", label=f\"Z = {z}\", c=(c), **kwargs)\n",
    "        f = ax.plot(m1, y, label=f\"Z = {z}\", c=(c), **kwargs)\n",
    "        # ax.set_xticks(np.arange(1, 8))\n",
    "    \n",
    "    ax.axhline(0, color=\"k\", ls=\":\", zorder=-1)\n",
    "\n",
    "    return f"
   ]
  },
  {
   "cell_type": "code",
   "execution_count": 19,
   "id": "19",
   "metadata": {},
   "outputs": [
    {
     "ename": "NameError",
     "evalue": "name 'hmap' is not defined",
     "output_type": "error",
     "traceback": [
      "\u001b[0;31m---------------------------------------------------------------------------\u001b[0m",
      "\u001b[0;31mNameError\u001b[0m                                 Traceback (most recent call last)",
      "Cell \u001b[0;32mIn[19], line 1\u001b[0m\n\u001b[0;32m----> 1\u001b[0m \u001b[43mplot_n_table\u001b[49m\u001b[43m(\u001b[49m\u001b[38;5;124;43m\"\u001b[39;49m\u001b[38;5;124;43mpignatari16\u001b[39;49m\u001b[38;5;124;43m\"\u001b[39;49m\u001b[43m)\u001b[49m\n\u001b[1;32m      2\u001b[0m plt\u001b[38;5;241m.\u001b[39mxlabel(\u001b[38;5;124m\"\u001b[39m\u001b[38;5;124mM/Msun\u001b[39m\u001b[38;5;124m\"\u001b[39m)\n\u001b[1;32m      3\u001b[0m plt\u001b[38;5;241m.\u001b[39mylabel(\u001b[38;5;124mr\u001b[39m\u001b[38;5;124m\"\u001b[39m\u001b[38;5;124m$y_\u001b[39m\u001b[38;5;124m{\u001b[39m\u001b[38;5;124m\\\u001b[39m\u001b[38;5;124mrm N}$ --- R18\u001b[39m\u001b[38;5;124m\"\u001b[39m)\n",
      "Cell \u001b[0;32mIn[17], line 11\u001b[0m, in \u001b[0;36mplot_n_table\u001b[0;34m(study, ax, fig, factor, **kwargs)\u001b[0m\n\u001b[1;32m      9\u001b[0m y \u001b[38;5;241m=\u001b[39m np\u001b[38;5;241m.\u001b[39marray(y1)[:,i] \u001b[38;5;241m*\u001b[39m factor\n\u001b[1;32m     10\u001b[0m z \u001b[38;5;241m=\u001b[39m z1[i] \n\u001b[0;32m---> 11\u001b[0m c \u001b[38;5;241m=\u001b[39m \u001b[43mhmap\u001b[49m(np\u001b[38;5;241m.\u001b[39mlog10(z\u001b[38;5;241m/\u001b[39m\u001b[38;5;241m0.014\u001b[39m))\n\u001b[1;32m     12\u001b[0m f \u001b[38;5;241m=\u001b[39m ax\u001b[38;5;241m.\u001b[39mplot(m1, y, \u001b[38;5;124m\"\u001b[39m\u001b[38;5;124mo\u001b[39m\u001b[38;5;124m\"\u001b[39m, label\u001b[38;5;241m=\u001b[39m\u001b[38;5;124mf\u001b[39m\u001b[38;5;124m\"\u001b[39m\u001b[38;5;124mZ = \u001b[39m\u001b[38;5;132;01m{\u001b[39;00mz\u001b[38;5;132;01m}\u001b[39;00m\u001b[38;5;124m\"\u001b[39m, c\u001b[38;5;241m=\u001b[39m(c), \u001b[38;5;241m*\u001b[39m\u001b[38;5;241m*\u001b[39mkwargs)\n\u001b[1;32m     13\u001b[0m f \u001b[38;5;241m=\u001b[39m ax\u001b[38;5;241m.\u001b[39mplot(m1, y, label\u001b[38;5;241m=\u001b[39m\u001b[38;5;124mf\u001b[39m\u001b[38;5;124m\"\u001b[39m\u001b[38;5;124mZ = \u001b[39m\u001b[38;5;132;01m{\u001b[39;00mz\u001b[38;5;132;01m}\u001b[39;00m\u001b[38;5;124m\"\u001b[39m, c\u001b[38;5;241m=\u001b[39m(c), \u001b[38;5;241m*\u001b[39m\u001b[38;5;241m*\u001b[39mkwargs)\n",
      "\u001b[0;31mNameError\u001b[0m: name 'hmap' is not defined"
     ]
    },
    {
     "data": {
      "image/png": "[encoded data removed]",
      "text/plain": [
       "<Figure size 640x480 with 1 Axes>"
      ]
     },
     "metadata": {},
     "output_type": "display_data"
    }
   ],
   "source": [
    "plot_n_table(\"pignatari16\")\n",
    "plt.xlabel(\"M/Msun\")\n",
    "plt.ylabel(r\"$y_{\\rm N}$ --- R18\")"
   ]
  },
  {
   "cell_type": "code",
   "execution_count": null,
   "id": "20",
   "metadata": {},
   "outputs": [],
   "source": [
    "yields.set_yields()\n",
    "Z = MH_to_Z(np.linspace(-2, 1))\n",
    "\n",
    "plot_y_z(Z, ele=\"n\", label=\"linear\");\n",
    "\n",
    "y_agb[\"n\"] = \"pignatari16\"\n",
    "\n",
    "plot_y_z(Z, ele=\"n\", label=\"P16\");\n",
    "plt.xlabel(\"[M/H]\")\n",
    "plt.ylabel(\"y_N\")\n",
    "\n",
    "plt.legend()\n",
    "plt.savefig(\"figures/_y_n_z.pdf\")"
   ]
  },
  {
   "cell_type": "code",
   "execution_count": null,
   "id": "21",
   "metadata": {},
   "outputs": [],
   "source": [
    "plot_yield_table(\"pignatari16\", ele=\"n\", fmt=\"o-\")\n"
   ]
  },
  {
   "cell_type": "code",
   "execution_count": null,
   "id": "e4cd2155-1c70-4600-a5ae-500e9c39b124",
   "metadata": {},
   "outputs": [],
   "source": []
  },
  {
   "cell_type": "code",
   "execution_count": null,
   "id": "a01ec958-8241-43bd-af21-f758a3d423a2",
   "metadata": {},
   "outputs": [],
   "source": []
  }
 ],
 "metadata": {
  "kernelspec": {
   "display_name": "Python 3 (ipykernel)",
   "language": "python",
   "name": "python3"
  },
  "language_info": {
   "codemirror_mode": {
    "name": "ipython",
    "version": 3
   },
   "file_extension": ".py",
   "mimetype": "text/x-python",
   "name": "python",
   "nbconvert_exporter": "python",
   "pygments_lexer": "ipython3",
   "version": "3.11.9"
  }
 },
 "nbformat": 4,
 "nbformat_minor": 5
}
