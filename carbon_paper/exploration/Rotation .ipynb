{
 "cells": [
  {
   "cell_type": "code",
   "execution_count": null,
   "id": "0",
   "metadata": {},
   "outputs": [],
   "source": [
    "import pandas as pd\n",
    "import numpy as np\n",
    "import matplotlib.pyplot as plt\n",
    "from plotting import fig_saver"
   ]
  },
  {
   "cell_type": "code",
   "execution_count": null,
   "id": "1",
   "metadata": {},
   "outputs": [],
   "source": [
    "sf = fig_saver(\"figures\")"
   ]
  },
  {
   "cell_type": "code",
   "execution_count": null,
   "id": "2",
   "metadata": {},
   "outputs": [],
   "source": [
    "df = pd.read_csv(\"cristallo_c.csv\", sep=\"\\s+\")"
   ]
  },
  {
   "cell_type": "code",
   "execution_count": null,
   "id": "3",
   "metadata": {},
   "outputs": [],
   "source": [
    "df[\"C\"] = df.C12 + df.C13 + df.C14"
   ]
  },
  {
   "cell_type": "code",
   "execution_count": null,
   "id": "4",
   "metadata": {},
   "outputs": [],
   "source": [
    "MZ = df[df.IRV > 0][[\"Mass\", \"Metallicity\"]].drop_duplicates()"
   ]
  },
  {
   "cell_type": "code",
   "execution_count": null,
   "id": "5",
   "metadata": {},
   "outputs": [],
   "source": [
    "for _, row in MZ.iterrows():\n",
    "    M = row.Mass\n",
    "    Z = row.Metallicity\n",
    "    \n",
    "    "
   ]
  },
  {
   "cell_type": "code",
   "execution_count": null,
   "id": "6",
   "metadata": {},
   "outputs": [],
   "source": [
    "for M in MZ[\"Mass\"].unique():\n",
    "    Zs = MZ[MZ.Mass == M][\"Metallicity\"]\n",
    "    \n",
    "    for Z in Zs:\n",
    "        filt = (df.Metallicity == Z) & (df.Mass == M)\n",
    "        IRVs = df[filt].IRV.drop_duplicates()\n",
    "        ys = [df[filt][df[filt].IRV == IRV][\"C\"] for IRV in IRVs]\n",
    "        plt.scatter(IRVs, ys, label=\"Z=%s\" % Z)\n",
    "    plt.legend()\n",
    "    plt.title(\"M=%s\" % M)\n",
    "    plt.xlabel(\"Rotational Velocity km/s\")\n",
    "    \n",
    "    if M == 2.0:\n",
    "        sf(\"agb_rotation\")\n",
    "    plt.show()"
   ]
  },
  {
   "cell_type": "markdown",
   "id": "7",
   "metadata": {},
   "source": [
    "From the above plots, we can see that while there may be some impact of rotation on the AGB yields, the effect is negligible if present at all. So, for our work, we can neglect the effect of rotation on AGB yields altogether. "
   ]
  }
 ],
 "metadata": {
  "kernelspec": {
   "display_name": "Python 3",
   "language": "python",
   "name": "python3"
  },
  "language_info": {
   "codemirror_mode": {
    "name": "ipython",
    "version": 3
   },
   "file_extension": ".py",
   "mimetype": "text/x-python",
   "name": "python",
   "nbconvert_exporter": "python",
   "pygments_lexer": "ipython3",
   "version": "3.6.8"
  }
 },
 "nbformat": 4,
 "nbformat_minor": 5
}
