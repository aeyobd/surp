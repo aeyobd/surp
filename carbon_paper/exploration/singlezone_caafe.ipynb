{
 "cells": [
  {
   "cell_type": "code",
   "execution_count": null,
   "id": "0",
   "metadata": {},
   "outputs": [],
   "source": [
    "%load_ext autoreload\n",
    "%autoreload 2"
   ]
  },
  {
   "cell_type": "code",
   "execution_count": null,
   "id": "1",
   "metadata": {},
   "outputs": [],
   "source": [
    "import warnings\n",
    "warnings.filterwarnings(\"ignore\")"
   ]
  },
  {
   "cell_type": "code",
   "execution_count": null,
   "id": "2",
   "metadata": {},
   "outputs": [],
   "source": [
    "import numpy as np\n",
    "import pandas as pd\n",
    "import matplotlib.pyplot as plt\n",
    "from dataclasses import dataclass\n",
    "\n",
    "import emcee\n",
    "from scipy.optimize import minimize\n",
    "from scipy.stats import t, norm"
   ]
  },
  {
   "cell_type": "code",
   "execution_count": null,
   "id": "3",
   "metadata": {},
   "outputs": [],
   "source": [
    "from surp import subgiants\n",
    "import surp\n",
    "import vice\n",
    "from surp import gce_math as gcem\n",
    "import arya\n",
    "\n",
    "import sys\n",
    "sys.path.append(\"../..\")\n"
   ]
  },
  {
   "cell_type": "code",
   "execution_count": null,
   "id": "4",
   "metadata": {},
   "outputs": [],
   "source": [
    "from singlezone import run_singlezone"
   ]
  },
  {
   "cell_type": "code",
   "execution_count": null,
   "id": "5",
   "metadata": {},
   "outputs": [],
   "source": [
    "def calc_model(**params):\n",
    "    sz, h = run_singlezone(**params)\n",
    "    \n",
    "    return h.O_FE, h.C_O, h.sfr"
   ]
  },
  {
   "cell_type": "code",
   "execution_count": null,
   "id": "6",
   "metadata": {},
   "outputs": [],
   "source": [
    "def plot_sz(label=\"\", **kwargs,):\n",
    "    x, y, w = calc_model(**kwargs)\n",
    "    plt.scatter(x, y, s=w, label=label)\n",
    "    plt.xlabel(\"[Mg/Fe]\")\n",
    "    plt.ylabel(\"[C/Mg]\")\n",
    "    arya.Legend(loc=-1, color_only=True)"
   ]
  },
  {
   "cell_type": "markdown",
   "id": "7",
   "metadata": {},
   "source": [
    "# Simple modeling"
   ]
  },
  {
   "cell_type": "markdown",
   "id": "8",
   "metadata": {},
   "source": [
    "## AGB Yield properties"
   ]
  },
  {
   "cell_type": "code",
   "execution_count": null,
   "id": "9",
   "metadata": {},
   "outputs": [],
   "source": [
    "params = surp.YieldParams.from_file(\"../models/fiducial/yield_params.toml\")"
   ]
  },
  {
   "cell_type": "code",
   "execution_count": null,
   "id": "10",
   "metadata": {},
   "outputs": [],
   "source": [
    "for model in surp.AGB_MODELS:\n",
    "    surp.set_yields(params, Y_c_agb=model, alpha_c_agb=1, verbose=False)\n",
    "    plot_sz(label=model)"
   ]
  },
  {
   "cell_type": "code",
   "execution_count": null,
   "id": "11",
   "metadata": {},
   "outputs": [],
   "source": [
    "def set_ana_yields(**kwargs):\n",
    "    surp.set_yields(Y_c_agb=\"A\", kwargs_c_agb=kwargs, verbose=False)"
   ]
  },
  {
   "cell_type": "code",
   "execution_count": null,
   "id": "12",
   "metadata": {},
   "outputs": [],
   "source": [
    "def set_yields(**kwargs):\n",
    "    surp.set_yields(verbose=false, **kwargs)"
   ]
  },
  {
   "cell_type": "code",
   "execution_count": null,
   "id": "13",
   "metadata": {},
   "outputs": [],
   "source": [
    "set_yields()\n",
    "plot_sz(label=\"fiducial\")\n",
    "set_ana_yields(zeta=0, t_D=0.2)\n",
    "plot_sz(label=\"analytic\")"
   ]
  },
  {
   "cell_type": "code",
   "execution_count": null,
   "id": "14",
   "metadata": {},
   "outputs": [],
   "source": [
    "Y0 = 0.002"
   ]
  },
  {
   "cell_type": "code",
   "execution_count": null,
   "id": "15",
   "metadata": {},
   "outputs": [],
   "source": [
    "for model in [0, 0.1, 0.2, 0.3]:\n",
    "    set_ana_yields(zeta=0, y0 = Y0 * model)\n",
    "    plot_sz(label=f\"f_agb={model}\")"
   ]
  },
  {
   "cell_type": "code",
   "execution_count": null,
   "id": "16",
   "metadata": {},
   "outputs": [],
   "source": [
    "for model in [0, 0.2, 0.5, 1]:\n",
    "    set_ana_yields(zeta=0, t_D=model)\n",
    "    plot_sz(label=f\"t_D={model}\")"
   ]
  },
  {
   "cell_type": "code",
   "execution_count": null,
   "id": "17",
   "metadata": {},
   "outputs": [],
   "source": [
    "for model in [0.3, 0.5, 0.8, 2]:\n",
    "    set_ana_yields(zeta=0, tau_agb=model)\n",
    "    plot_sz(label=f\"tau_agb = {model}\")"
   ]
  },
  {
   "cell_type": "code",
   "execution_count": null,
   "id": "18",
   "metadata": {},
   "outputs": [],
   "source": [
    "for model in [-0.04, -0.02, 0, 0.02]:\n",
    "    set_ana_yields(zeta=model)\n",
    "    plot_sz(label=f\"zeta_agb = {model}\")\n",
    "    "
   ]
  },
  {
   "cell_type": "markdown",
   "id": "19",
   "metadata": {},
   "source": [
    "## CCSNe"
   ]
  },
  {
   "cell_type": "code",
   "execution_count": null,
   "id": "20",
   "metadata": {},
   "outputs": [],
   "source": [
    "for model in [-0.05, -0.02, 0, 0.001]:\n",
    "    make_yields(zeta_cc=model, agb_model=\"A\", zeta_agb=0)\n",
    "    plot_sz(label=f\"zeta_cc = {model}\")\n",
    "    "
   ]
  },
  {
   "cell_type": "code",
   "execution_count": null,
   "id": "21",
   "metadata": {},
   "outputs": [],
   "source": [
    "make_yield_params(y_c_cc=\"BiLogLin\")"
   ]
  },
  {
   "cell_type": "code",
   "execution_count": null,
   "id": "22",
   "metadata": {},
   "outputs": [],
   "source": [
    "for model in [\"Lin\", \"LogLin\",  \"BiLogLin\", \"Quadratic\"]:\n",
    "    make_yields(y_c_cc=model, verbose=True)\n",
    "    plot_sz(label=f\"cc model = {model}\")\n",
    "\n",
    "plt.ylim(-1)"
   ]
  },
  {
   "cell_type": "markdown",
   "id": "23",
   "metadata": {},
   "source": [
    "## Iron"
   ]
  },
  {
   "cell_type": "code",
   "execution_count": null,
   "id": "24",
   "metadata": {},
   "outputs": [],
   "source": [
    "for model in [0.8, 1, 1.2]:\n",
    "    make_yields(fe_ia_factor=model)\n",
    "    plot_sz(label=f\"fe_ia_enhancement = {model}\")\n",
    "    "
   ]
  },
  {
   "cell_type": "code",
   "execution_count": null,
   "id": "25",
   "metadata": {},
   "outputs": [],
   "source": [
    "def dtd_1(t):\n",
    "    return np.where(t > 0.15, t**(-1.1), 0)\n",
    "\n",
    "def dtd_2(t):\n",
    "    return np.where(t > 0.15, np.exp(-(t-0.15)), 0)\n",
    "\n",
    "t = np.logspace(-1.3, np.log10(13), 1000)\n",
    "dt = np.gradient(t)\n",
    "R1 = np.cumsum(dtd_1(t)*dt)\n",
    "R2 = np.cumsum(dtd_2(t)*dt)\n",
    "\n",
    "plt.plot(t, R1 / R1[-1], label=\"plaw\")\n",
    "plt.plot(t, R2 / R2[-1], label=\"exp\", ls=\"--\")\n",
    "\n",
    "plt.xscale(\"log\")\n",
    "plt.xlabel(\"time / Gyr\")\n",
    "plt.ylabel(\"R(t) / R(today) for SneIa \")\n",
    "plt.legend()"
   ]
  },
  {
   "cell_type": "code",
   "execution_count": null,
   "id": "26",
   "metadata": {},
   "outputs": [],
   "source": [
    "for model in [\"plaw\", \"exp\"]:\n",
    "    plot_sz(label=f\"fe_dtd = {model}\", RIa=model)\n",
    "    "
   ]
  },
  {
   "cell_type": "markdown",
   "id": "27",
   "metadata": {},
   "source": [
    "## GCE Parameters"
   ]
  },
  {
   "cell_type": "code",
   "execution_count": null,
   "id": "28",
   "metadata": {},
   "outputs": [],
   "source": [
    "for model in [1, 2, 4, 10, 20]:\n",
    "    plot_sz(label=f\"tau_star = {model}\", tau_star=model)\n",
    "    "
   ]
  },
  {
   "cell_type": "code",
   "execution_count": null,
   "id": "29",
   "metadata": {},
   "outputs": [],
   "source": [
    "for model in [1, 5, 14, 30]:\n",
    "    plot_sz(label=f\"tau_sfh = {model}\", tau_sfh=model)\n",
    "    "
   ]
  },
  {
   "cell_type": "code",
   "execution_count": null,
   "id": "30",
   "metadata": {},
   "outputs": [],
   "source": [
    "for model in [\"sfr\", \"ifr\", \"gas\"]:\n",
    "    plot_sz(label=f\"mode = {model}\", mode=model)\n",
    "    "
   ]
  },
  {
   "cell_type": "code",
   "execution_count": null,
   "id": "31",
   "metadata": {},
   "outputs": [],
   "source": [
    "plot_sz(label=f\"insideout\", sfh=surp.simulation.sfh_models.insideout(tau_sfh=14))\n",
    "plot_sz(label=f\"linex\", sfh=surp.simulation.sfh_models.linexp(tau_sfh=14))\n",
    "plot_sz(label=f\"const\", sfh=lambda x: 1)\n",
    "plot_sz(label=\"exp\")\n"
   ]
  },
  {
   "cell_type": "markdown",
   "id": "32",
   "metadata": {},
   "source": [
    "## Bimodality"
   ]
  },
  {
   "cell_type": "code",
   "execution_count": null,
   "id": "33",
   "metadata": {},
   "outputs": [],
   "source": [
    "t12 = 7"
   ]
  },
  {
   "cell_type": "code",
   "execution_count": null,
   "id": "34",
   "metadata": {
    "tags": []
   },
   "outputs": [],
   "source": [
    "kwargs = dict()\n",
    "sz1, h1 = run_singlezone(**kwargs)\n",
    "sz2, h2 = run_singlezone(tau_sfh=3, tau_star=0.7, eta=0, t_end=t12, RIa=\"exp\", **kwargs)\n",
    "\n",
    "filt = np.array(h1[\"time\"]) > t12 - 2\n",
    "h1 = h1[filt]"
   ]
  },
  {
   "cell_type": "code",
   "execution_count": null,
   "id": "35",
   "metadata": {},
   "outputs": [],
   "source": [
    "\n",
    "plt.plot(h1[\"[fe/h]\"], h1.MG_FE)\n",
    "\n",
    "plt.plot(h2[\"[fe/h]\"], h2.MG_FE)\n",
    "\n",
    "plt.hist2d(subgiants.FE_H, subgiants.MG_FE, 300, cmap=\"Greys\", norm=\"log\");\n",
    "plt.xlim(-1, 0.5)\n",
    "plt.ylim(-0.1, 0.5)\n",
    "plt.xlabel(\"[Fe/H]\")\n",
    "plt.ylabel(\"[Mg/Fe]\")\n",
    "plt.show()\n",
    "\n",
    "\n",
    "plt.plot(h1.MG_FE, h1.C_MG)\n",
    "plt.plot(h2.MG_FE, h2.C_MG)\n",
    "plt.hist2d(subgiants.MG_FE, subgiants.C_MG, 300, cmap=\"Greys\", norm=\"log\");\n",
    "plt.xlim(-0.2, 0.6)\n",
    "plt.ylim(-0.5, 0.1)"
   ]
  }
 ],
 "metadata": {
  "kernelspec": {
   "display_name": "Python 3 (ipykernel)",
   "language": "python",
   "name": "python3"
  },
  "language_info": {
   "codemirror_mode": {
    "name": "ipython",
    "version": 3
   },
   "file_extension": ".py",
   "mimetype": "text/x-python",
   "name": "python",
   "nbconvert_exporter": "python",
   "pygments_lexer": "ipython3",
   "version": "3.11.9"
  }
 },
 "nbformat": 4,
 "nbformat_minor": 5
}
