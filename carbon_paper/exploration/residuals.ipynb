{
 "cells": [
  {
   "cell_type": "code",
   "execution_count": null,
   "id": "0",
   "metadata": {},
   "outputs": [],
   "source": [
    "using CSV\n",
    "using Plots\n",
    "using DataFrames\n",
    "using StatsPlots, KernelDensity\n",
    "using PyCall\n",
    "\n",
    "theme(:dracula)"
   ]
  },
  {
   "cell_type": "code",
   "execution_count": null,
   "id": "1",
   "metadata": {},
   "outputs": [],
   "source": [
    "surp = pyimport(\"surp\")"
   ]
  },
  {
   "cell_type": "code",
   "execution_count": null,
   "id": "2",
   "metadata": {},
   "outputs": [],
   "source": [
    "subgiants = surp.src.analysis.apogee_analysis.subgiants\n",
    "\n",
    "function pd_to_df(df_pd)\n",
    "    df= DataFrame()\n",
    "    for col in df_pd.columns\n",
    "        df[!, col] = getproperty(df_pd, col).values\n",
    "    end\n",
    "    df\n",
    "end\n",
    "\n",
    "sg = pd_to_df(subgiants);"
   ]
  },
  {
   "cell_type": "code",
   "execution_count": null,
   "id": "3",
   "metadata": {},
   "outputs": [],
   "source": [
    "mg_h_err(mg_h) = max(0.015,-0.03*mg_h + 0.025) * randn()\n",
    "\n",
    "c_mg_err(mg_h) = max(0.02, -0.11*mg_h + 0.04) * randn()\n",
    "\n",
    "mg_fe_err(mg_h) = max(0.01, -0.0225*mg_h+0.02) * randn()"
   ]
  },
  {
   "cell_type": "code",
   "execution_count": null,
   "id": "4",
   "metadata": {},
   "outputs": [],
   "source": [
    "df = CSV.read(\"../../results/C11_f0.2_eta1_beta0.001_lateburst1.5.csv\", DataFrame);\n",
    "mg_h = df[:, \"MG_H\"]\n",
    "\n",
    "df[:, \"MG_H\"] .+= mg_h_err.(mg_h)\n",
    "df[:, \"MG_FE\"] .+= mg_fe_err.(mg_h)\n",
    "df[:, \"C_MG\"] .+= c_mg_err.(mg_h);"
   ]
  },
  {
   "cell_type": "code",
   "execution_count": null,
   "id": "5",
   "metadata": {},
   "outputs": [],
   "source": [
    "theme(:dracula, background_color=\"black\")"
   ]
  },
  {
   "cell_type": "code",
   "execution_count": null,
   "id": "6",
   "metadata": {},
   "outputs": [],
   "source": [
    "dz = 0.05\n",
    "\n",
    "anim = @animate for mg_h in -0.2:0.01:0.5\n",
    "    \n",
    "    filt = @. mg_h <= sg[:,\"MG_H\"] < mg_h + dz\n",
    "    filt .&= (sg[:,\"high_alpha\"] .!= 1)\n",
    "    filt .&= isfinite.(sg[:,\"C_MG\"])\n",
    "    dens = kde((sg[filt, \"MG_FE\"], sg[filt, \"C_MG\"]))\n",
    "    plot(dens, clim=(0, 200), legend=false,\n",
    "        background_color=\"black\",\n",
    "        background_color_subplot=\"black\",\n",
    "        background_color_inside=\"black\"\n",
    "        \n",
    "    )\n",
    "    \n",
    "    filt = @. mg_h-dz < df[:,\"MG_H\"] < mg_h + dz\n",
    "    if sum(filt) > 1\n",
    "        scatter!(df[filt, \"MG_FE\"], df[filt, \"C_MG\"], ms=1, alpha=0.2,\n",
    "            background_color_subplot=\"black\",\n",
    "            grid=:none\n",
    "        )\n",
    "    end\n",
    "\n",
    "    \n",
    "    \n",
    "    xlims!(-0.1, 0.3)\n",
    "    ylims!(-0.4, 0.1)\n",
    "    xlabel!(\"[α/Fe]\")\n",
    "    ylabel!(\"[C/α]\")\n",
    "end\n",
    "\n",
    "gif(anim, fps=10)"
   ]
  },
  {
   "cell_type": "code",
   "execution_count": null,
   "id": "7",
   "metadata": {},
   "outputs": [],
   "source": []
  }
 ],
 "metadata": {
  "kernelspec": {
   "display_name": "Julia 1.8.5",
   "language": "julia",
   "name": "julia-1.8"
  },
  "language_info": {
   "file_extension": ".jl",
   "mimetype": "application/julia",
   "name": "julia",
   "version": "1.8.5"
  }
 },
 "nbformat": 4,
 "nbformat_minor": 5
}
