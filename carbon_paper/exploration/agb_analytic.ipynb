{
 "cells": [
  {
   "cell_type": "code",
   "execution_count": null,
   "id": "0",
   "metadata": {},
   "outputs": [],
   "source": [
    "%load_ext autoreload\n",
    "%autoreload 2"
   ]
  },
  {
   "cell_type": "code",
   "execution_count": null,
   "id": "1",
   "metadata": {},
   "outputs": [],
   "source": [
    "import matplotlib.pyplot as plt\n",
    "import matplotlib as mpl\n",
    "import numpy as np\n",
    "import pandas as pd\n",
    "import vice\n",
    "\n",
    "from surp import subgiants, yields\n",
    "from surp import gce_math as gcem\n",
    "from surp._globals import AGB_MODELS\n",
    "\n",
    "import arya"
   ]
  },
  {
   "cell_type": "code",
   "execution_count": null,
   "id": "2",
   "metadata": {},
   "outputs": [],
   "source": [
    "import surp"
   ]
  },
  {
   "cell_type": "code",
   "execution_count": null,
   "id": "3",
   "metadata": {},
   "outputs": [],
   "source": [
    "from surp.yield_models import C_AGB_Model"
   ]
  },
  {
   "cell_type": "code",
   "execution_count": null,
   "id": "4",
   "metadata": {},
   "outputs": [],
   "source": [
    "A_agb = 0.0068371209\n",
    "τo = 11\n",
    "m_up = 3.411\n",
    "\n",
    "y_c_agb_0 = 0.0042\n",
    "\n",
    "def y_agb(m, z):\n",
    "    return y_c_agb_0*np.where(m > m_up, 0, \n",
    "        1/A_agb * (\n",
    "            m**-3.2\n",
    "            * (τo * m**-3.5 - t_d)\n",
    "            * np.exp(\n",
    "                -(τo * m**-3.5 - t_d) / τa\n",
    "            )\n",
    "        )\n",
    "    )"
   ]
  },
  {
   "cell_type": "code",
   "execution_count": null,
   "id": "5",
   "metadata": {},
   "outputs": [],
   "source": [
    "def plot_ssp(M_H_min = -2.5, M_H_max=0.5, **kwargs):\n",
    "    Zs = 0.014*10**np.linspace(M_H_min, M_H_max, 100)\n",
    "    mass_yields = []\n",
    "    \n",
    "    for Z in Zs:\n",
    "        m_c, times = vice.single_stellar_population(\"c\", Z=Z)\n",
    "        mass_yields.append(m_c[-1])\n",
    "\n",
    "    plt.plot(np.log10(Zs/0.014), (np.array(mass_yields)/1e6), **kwargs)\n",
    "    \n",
    "    plt.xlabel(r\"$\\log_{10} Z\\,/\\,Z_{\\odot}$\")\n",
    "    plt.ylabel(r\"$y_{\\rm C}^{\\rm AGB}$\")"
   ]
  },
  {
   "cell_type": "code",
   "execution_count": null,
   "id": "6",
   "metadata": {},
   "outputs": [],
   "source": [
    "ana_params = surp.YieldParams.from_file(\"../../models/analytic/yield_params.toml\")"
   ]
  },
  {
   "cell_type": "code",
   "execution_count": null,
   "id": "7",
   "metadata": {},
   "outputs": [],
   "source": [
    "ana_params.alpha_c_agb = 1"
   ]
  },
  {
   "cell_type": "code",
   "execution_count": null,
   "id": "8",
   "metadata": {},
   "outputs": [],
   "source": [
    "surp.set_yields(ana_params)"
   ]
  },
  {
   "cell_type": "code",
   "execution_count": null,
   "id": "9",
   "metadata": {},
   "outputs": [],
   "source": [
    "a_agb = surp.yields.agb.settings[\"c\"]"
   ]
  },
  {
   "cell_type": "code",
   "execution_count": null,
   "id": "10",
   "metadata": {},
   "outputs": [],
   "source": [
    "a_agb.y0"
   ]
  },
  {
   "cell_type": "code",
   "execution_count": null,
   "id": "11",
   "metadata": {},
   "outputs": [],
   "source": [
    "surp.yields.calc_y(kind=\"agb\")"
   ]
  },
  {
   "cell_type": "code",
   "execution_count": null,
   "id": "12",
   "metadata": {},
   "outputs": [],
   "source": [
    "plt.figure(figsize=(10/3, 10/3))\n",
    "\n",
    "vice.yields.ccsne.settings[\"c\"] = 0\n",
    "\n",
    "for model in AGB_MODELS:\n",
    "    vice.yields.agb.settings[\"c\"] = model\n",
    "    plot_ssp(label=model)\n",
    "\n",
    "\n",
    "vice.yields.agb.settings[\"c\"] = a_agb\n",
    "plot_ssp(label=\"analytic\", color=\"k\", lw=1.5)\n",
    "plt.ylim(-0.0005, 0.0025)\n",
    "\n",
    "arya.Legend(loc=-1)\n",
    "\n",
    "# plt.savefig(\"agb_ana_vs_z.pdf\")"
   ]
  },
  {
   "cell_type": "code",
   "execution_count": null,
   "id": "13",
   "metadata": {},
   "outputs": [],
   "source": [
    "def plot_dtd(ele=\"c\", Z=0.014, **kwargs):\n",
    "    m_c, times = vice.single_stellar_population(ele, Z=Z)\n",
    "    m_c = np.array(m_c)\n",
    "    y = m_c/m_c[-1]\n",
    "    plt.plot(times, y, **kwargs)\n",
    "    \n",
    "    plt.xlabel(r\"$t\\,/\\,{\\rm Gyr}$\")\n",
    "    plt.ylabel(r\"$M(t)\\,/\\,M_{\\rm tot}$\")"
   ]
  },
  {
   "cell_type": "code",
   "execution_count": null,
   "id": "14",
   "metadata": {},
   "outputs": [],
   "source": [
    "def plot_fe_dtd():\n",
    "    vice.yields.ccsne.settings[\"fe\"] = 0\n",
    "\n",
    "    m_fe, times = vice.single_stellar_population(\"fe\", Z=0.014)\n",
    "    m_fe = [fe for fe in m_fe]\n",
    "    plt.plot(times, np.array(m_fe)/m_fe[-1], label=\"SNe Ia Fe\",\n",
    "             linestyle=\"--\", color=\"k\")\n",
    "    \n"
   ]
  },
  {
   "cell_type": "code",
   "execution_count": null,
   "id": "15",
   "metadata": {},
   "outputs": [],
   "source": [
    "def plot_c_fe(Z = 0.014, f_agb=0.2, f_ia=0.5, **kwargs):\n",
    "    m_c, times = vice.single_stellar_population(\"c\", Z=Z, dt=0.005)\n",
    "    m_fe, times = vice.single_stellar_population(\"fe\", Z=Z, dt=0.005)\n",
    "\n",
    "    discard = 50\n",
    "    m_c = np.array(m_c)/m_c[-1]\n",
    "    m_fe = np.array(m_fe)/m_fe[-1]\n",
    "    f_c = m_c * f_agb + 1-f_agb\n",
    "    f_fe = m_fe * f_ia + 1-f_ia\n",
    "    x=np.log10(f_fe)\n",
    "    y = np.log10(f_c)\n",
    "    plt.plot(x, y, **kwargs)\n",
    "\n",
    "    plt.xlim(0.1, -0.5)\n",
    "    plt.ylim(-0.3, 0.1)\n",
    "    plt.xlabel(r\"$\\log {\\rm Fe}(t)$\")\n",
    "    plt.ylabel(r\"$\\log {\\rm C}(t)$\")"
   ]
  },
  {
   "cell_type": "code",
   "execution_count": null,
   "id": "16",
   "metadata": {},
   "outputs": [],
   "source": [
    "plt.figure(figsize=(10/3, 10/3))\n",
    "\n",
    "vice.yields.ccsne.settings[\"c\"] = 0\n",
    "vice.yields.sneia.settings[\"c\"] = 0\n",
    "\n",
    "\n",
    "for model in AGB_MODELS:\n",
    "    vice.yields.agb.settings[\"c\"] = model\n",
    "    plot_dtd()\n",
    "\n",
    "vice.yields.agb.settings[\"c\"] = a_agb\n",
    "plot_dtd(label=\"analytic\", color=\"k\", lw=1.5)\n",
    "\n",
    "plt.xscale(\"log\")\n",
    "plt.legend()\n",
    "plt.ylim(-0.3, 1.1)\n",
    "plt.xlim(0.03, 13.2)\n",
    "plt.xticks([0.1, 1, 10], labels=[0.1, 1, 10])\n",
    "\n",
    "# plt.savefig(\"agb_ana_dtd.pdf\")"
   ]
  },
  {
   "cell_type": "code",
   "execution_count": null,
   "id": "17",
   "metadata": {},
   "outputs": [],
   "source": [
    "def compare_dtd_to_ana(model, study=\"cristallo11\", Zs=[0.001, 0.003, 0.014, 0.03]):\n",
    "    vice.yields.ccsne.settings[\"c\"] = 0\n",
    "    vice.yields.sneia.settings[\"c\"] = 0\n",
    "    plt.figure(figsize=(10/3, 10/3))\n",
    "\n",
    "    hm = arya.HueMap(clim=(0, len(Zs)))\n",
    "    \n",
    "    for i, Z in enumerate(Zs):\n",
    "        vice.yields.agb.settings[\"c\"] = surp.agb_interpolator.interpolator(\"c\", study=study)\n",
    "        plot_dtd(color=hm(i), Z=Z)\n",
    "        \n",
    "        vice.yields.agb.settings[\"c\"] = model\n",
    "        plot_dtd(Z=Z, color=hm(i), ls=\":\")\n",
    "    \n",
    "    plt.xscale(\"log\")\n",
    "    plt.ylim(-0.3, 1.1)\n",
    "    plt.xlim(0.03, 13.2)\n",
    "    plt.xticks([0.1, 1, 10], labels=[0.1, 1, 10])"
   ]
  },
  {
   "cell_type": "code",
   "execution_count": null,
   "id": "18",
   "metadata": {},
   "outputs": [],
   "source": [
    "compare_dtd_to_ana(C_AGB_Model(tau_agb=0.3, m_low=0), study=\"cristallo11\")"
   ]
  },
  {
   "cell_type": "code",
   "execution_count": null,
   "id": "19",
   "metadata": {},
   "outputs": [],
   "source": [
    "compare_dtd_to_ana(C_AGB_Model(tau_agb=0.3, gamma=0, m_low=0), study=\"karakas16\")"
   ]
  },
  {
   "cell_type": "code",
   "execution_count": null,
   "id": "20",
   "metadata": {},
   "outputs": [],
   "source": [
    "compare_dtd_to_ana(C_AGB_Model(tau_agb=1.5, gamma=0, m_low=1), study=\"ventura13\")"
   ]
  },
  {
   "cell_type": "code",
   "execution_count": null,
   "id": "21",
   "metadata": {},
   "outputs": [],
   "source": [
    "compare_dtd_to_ana(C_AGB_Model(tau_agb=0.8, gamma=0, zeta_tau=-1.5, m_low=0), study=\"pignatari16\")"
   ]
  },
  {
   "cell_type": "code",
   "execution_count": null,
   "id": "22",
   "metadata": {},
   "outputs": [],
   "source": [
    "t_d = 0.15\n",
    "τa = 0.3\n",
    "τ = 2\n",
    "\n",
    "def Z_c_agb(t):\n",
    "    return np.where(t < t_d, 0, \n",
    "                    ((τ**3*np.exp(t/τ) - 2*τ**2*τa*np.exp(t/τ) + τ*τa**2*np.exp(t/τ) - τ**3*np.exp(t_d/τ)\n",
    "            )*np.exp(t/τa) \n",
    "            + ((t - t_d)*τ**2*np.exp(t/τ) \n",
    "               - τ*τa**2*np.exp(t/τ) \n",
    "               - ((t - t_d)*τ - 2*τ**2)*τa*np.exp(t/τ)\n",
    "              )*np.exp(t_d/τa))*np.exp(-t/τa)/(\n",
    "        (τ**2*np.exp(t/τ) - 2*τ*τa*np.exp(t/τ) + τa**2*np.exp(t/τ))*τs)\n",
    "                   )\n",
    "\n",
    "\n"
   ]
  },
  {
   "cell_type": "code",
   "execution_count": null,
   "id": "23",
   "metadata": {},
   "outputs": [],
   "source": [
    "τs=2.3"
   ]
  },
  {
   "cell_type": "code",
   "execution_count": null,
   "id": "24",
   "metadata": {},
   "outputs": [],
   "source": [
    "t = np.linspace(0, 13.2)"
   ]
  },
  {
   "cell_type": "code",
   "execution_count": null,
   "id": "25",
   "metadata": {},
   "outputs": [],
   "source": [
    "def sfh(tau=300):\n",
    "    return lambda t: 1\n",
    "\n",
    "def sz_model(eta=0, tau_star=3.1, t_end=13, tau_sfh=300, dt=0.005):\n",
    "    sz = vice.singlezone(elements=[\"o\", \"mg\", \"c\", \"fe\"], dt=dt, eta=eta, func=sfh(tau=tau_sfh), mode=\"ifr\", tau_star=tau_star, Mg0=0)\n",
    "    out = sz.run(np.arange(0, t_end, dt), capture=True, overwrite=True)\n",
    "    return out\n"
   ]
  },
  {
   "cell_type": "code",
   "execution_count": null,
   "id": "26",
   "metadata": {},
   "outputs": [],
   "source": [
    "vice.yields.ccsne.settings[\"c\"] = 0"
   ]
  },
  {
   "cell_type": "code",
   "execution_count": null,
   "id": "27",
   "metadata": {},
   "outputs": [],
   "source": [
    "η = 2\n",
    "τ = τs / (1+η - 0.4)"
   ]
  },
  {
   "cell_type": "code",
   "execution_count": null,
   "id": "28",
   "metadata": {},
   "outputs": [],
   "source": [
    "vice.yields.agb.settings[\"c\"] = \"cristallo11\"\n",
    "sz = sz_model(η, τs)"
   ]
  },
  {
   "cell_type": "code",
   "execution_count": null,
   "id": "29",
   "metadata": {},
   "outputs": [],
   "source": [
    "vice.yields.agb.settings[\"c\"] = y_agb\n",
    "sz_a = sz_model(η, τs)"
   ]
  },
  {
   "cell_type": "code",
   "execution_count": null,
   "id": "30",
   "metadata": {},
   "outputs": [],
   "source": [
    "plt.plot(t, Z_c_agb(t)/Z_c_agb(13.2))\n",
    "\n",
    "y =  sz.history[\"Z(c)\"]\n",
    "y = np.array(y)/y[-1]\n",
    "plt.plot(sz.history[\"time\"], y)\n",
    "\n",
    "y =  sz_a.history[\"Z(c)\"]\n",
    "y = np.array(y)/y[-1]\n",
    "plt.plot(sz_a.history[\"time\"], y)\n",
    "\n",
    "plt.xscale('log')\n",
    "plt.xlim(0.1)"
   ]
  },
  {
   "cell_type": "code",
   "execution_count": null,
   "id": "31",
   "metadata": {},
   "outputs": [],
   "source": [
    "def Z_o(t):\n",
    "    return y_o * τ/τs * (1 - np.exp(-t/τ))"
   ]
  },
  {
   "cell_type": "code",
   "execution_count": null,
   "id": "32",
   "metadata": {},
   "outputs": [],
   "source": [
    "y_o = 7.12e-3"
   ]
  },
  {
   "cell_type": "code",
   "execution_count": null,
   "id": "33",
   "metadata": {},
   "outputs": [],
   "source": [
    "vice.yields.ccsne.settings[\"o\"] = y_o"
   ]
  },
  {
   "cell_type": "code",
   "execution_count": null,
   "id": "34",
   "metadata": {},
   "outputs": [],
   "source": [
    "gcem.abund_to_brak"
   ]
  },
  {
   "cell_type": "code",
   "execution_count": null,
   "id": "35",
   "metadata": {},
   "outputs": [],
   "source": [
    "x = Z_o(t)\n",
    "y = y_c_agb_0*Z_c_agb(t)\n",
    "y = gcem.abund_to_brak(y/x, \"c\", \"o\")\n",
    "x = gcem.abund_to_brak(x, \"o\")\n",
    "plt.plot(x, y)\n",
    "\n",
    "y =  sz.history[\"[c/o]\"]\n",
    "y = np.array(y)\n",
    "x = sz.history[\"[o/h]\"]\n",
    "x = np.array(x)\n",
    "plt.plot(x, y)\n",
    "\n",
    "y =  sz_a.history[\"[c/o]\"]\n",
    "y = np.array(y)\n",
    "x = sz_a.history[\"[o/h]\"]\n",
    "x = np.array(x)\n",
    "plt.plot(x, y+1)\n",
    "plt.ylim(-5)"
   ]
  },
  {
   "cell_type": "code",
   "execution_count": null,
   "id": "36",
   "metadata": {},
   "outputs": [],
   "source": [
    "plt.figure(figsize=(10/3, 10/3))\n",
    "\n",
    "vice.yields.ccsne.settings[\"c\"] = 0\n",
    "vice.yields.sneia.settings[\"c\"] = 0\n",
    "\n",
    "model = \"cristallo11\"\n",
    "vice.yields.agb.settings[\"c\"] = \"cristallo11\"\n",
    "plot_dtd()\n",
    "τa = 0.3\n",
    "vice.yields.agb.settings[\"c\"] = y_agb\n",
    "plot_dtd(label=\"modified\")\n",
    "\n",
    "vice.yields.agb.settings[\"c\"] = a_agb\n",
    "plot_dtd(label=\"analytic\")\n",
    "\n",
    "\n",
    "plt.xscale(\"log\")\n",
    "plt.legend()\n",
    "plt.ylim(-0.3, 1.1)\n",
    "plt.xlim(0.03, 13.2)\n",
    "plt.xticks([0.1, 1, 10], labels=[0.1, 1, 10])\n",
    "\n",
    "# plt.savefig(\"agb_ana_dtd.pdf\")"
   ]
  },
  {
   "cell_type": "code",
   "execution_count": null,
   "id": "37",
   "metadata": {},
   "outputs": [],
   "source": [
    "plt.figure(figsize=(10/3, 10/3))\n",
    "\n",
    "vice.yields.ccsne.settings[\"c\"] = 0\n",
    "vice.yields.sneia.settings[\"c\"] = 0\n",
    "\n",
    "model = \"cristallo11\"\n",
    "vice.yields.agb.settings[\"c\"] = \"cristallo11\"\n",
    "plot_dtd()\n",
    "\n",
    "vice.yields.agb.settings[\"c\"] = vice.yields.agb.interpolator(\"c\", study=model, no_negative=True, mass_factor=1.5)\n",
    "plot_dtd(label=\"modified\")\n",
    "\n",
    "vice.yields.agb.settings[\"c\"] = vice.yields.agb.interpolator(\"c\", study=model, no_negative=True, mass_factor=0.6)\n",
    "plot_dtd(label=\"less\")\n",
    "\n",
    "plt.xscale(\"log\")\n",
    "plt.legend()\n",
    "plt.ylim(-0.3, 1.1)\n",
    "plt.xlim(0.03, 13.2)\n",
    "plt.xticks([0.1, 1, 10], labels=[0.1, 1, 10])\n",
    "\n",
    "# plt.savefig(\"agb_ana_dtd.pdf\")"
   ]
  },
  {
   "cell_type": "code",
   "execution_count": null,
   "id": "38",
   "metadata": {},
   "outputs": [],
   "source": [
    "plt.figure(figsize=(10/3, 10/3))\n",
    "\n",
    "vice.yields.ccsne.settings[\"c\"] = 0\n",
    "vice.yields.sneia.settings[\"c\"] = 0\n",
    "\n",
    "\n",
    "for model in AGB_MODELS:\n",
    "    vice.yields.agb.settings[\"c\"] = model\n",
    "    plot_c_fe(label=model)\n",
    "\n",
    "    \n",
    "arya.Legend(color_only=True)\n",
    "\n"
   ]
  },
  {
   "cell_type": "code",
   "execution_count": null,
   "id": "39",
   "metadata": {},
   "outputs": [],
   "source": [
    "plt.figure(figsize=(10/3, 10/3))\n",
    "\n",
    "vice.yields.ccsne.settings[\"c\"] = 0\n",
    "vice.yields.sneia.settings[\"c\"] = 0\n",
    "\n",
    "\n",
    "for model in AGB_MODELS:\n",
    "    vice.yields.agb.settings[\"c\"] = model\n",
    "    plot_c_fe(alpha=0.1, color=\"k\")\n",
    "\n",
    "for i in range(5):\n",
    "    m_low = [1, 1, 2, 3, 4][i]\n",
    "    m_high = [1.2, 2, 3, 4, 5][i]\n",
    "    \n",
    "    vice.yields.agb.settings[\"c\"] = yields.C_AGB_Model()\n",
    "\n",
    "    plot_c_fe(label=(m_low + m_high)/2, f_agb=0.3)\n",
    "    \n",
    "vice.yields.agb.settings[\"c\"] = yields.C_AGB_Model()\n",
    "\n",
    "plot_c_fe(label=\"fiducial\", color=\"k\")\n",
    "\n"
   ]
  },
  {
   "cell_type": "code",
   "execution_count": null,
   "id": "40",
   "metadata": {},
   "outputs": [],
   "source": [
    "def compare_to_studies(model):\n",
    "    nrows = 4\n",
    "    ncols = 2\n",
    "    \n",
    "    fig, axs = plt.subplots(nrows, ncols, figsize=(7, 6), sharex=True, sharey=True)\n",
    "    plt.subplots_adjust(hspace=0, wspace=0)\n",
    "\n",
    "    c1 = arya.style.COLORS[0:4]\n",
    "    c2 = \"k\"\n",
    "    \n",
    "    Zs = [0.0001, 0.0003, 0.001, 0.003, 0.006, 0.01, 0.014, 0.02]\n",
    "    Ms = np.linspace(1, 8, 100)\n",
    "\n",
    "    for i in range(nrows*ncols):\n",
    "        Z = Zs[i]\n",
    "        ax = axs[i // ncols][i % ncols]\n",
    "        plt.sca(ax)\n",
    "\n",
    "        for j in range(4):\n",
    "            f_y = vice.yields.agb.interpolator(\"c\", study=AGB_MODELS[j])\n",
    "            y = [f_y(a, Z) for a in Ms]\n",
    "            plt.plot(Ms, y, color=c1[j], alpha=0.3, ls=\"-\", zorder=2)\n",
    "\n",
    "        y = [model(a, Z) for a in Ms]\n",
    "        plt.plot(Ms, y, color=c2, zorder=1)\n",
    "\n",
    "        plt.text(0.6, 0.8, \"$Z=%0.4f$\" % Z, transform=ax.transAxes)\n",
    "\n",
    "\n",
    "    fig.supylabel(r'$y_{\\rm C}^{\\rm AGB}$')\n",
    "    fig.supxlabel(r'$M\\,/\\,M_{\\odot}$')\n",
    "\n"
   ]
  },
  {
   "cell_type": "code",
   "execution_count": null,
   "id": "41",
   "metadata": {},
   "outputs": [],
   "source": [
    "compare_to_studies(a_agb)"
   ]
  },
  {
   "cell_type": "code",
   "execution_count": null,
   "id": "42",
   "metadata": {},
   "outputs": [],
   "source": []
  }
 ],
 "metadata": {
  "kernelspec": {
   "display_name": "Python 3 (ipykernel)",
   "language": "python",
   "name": "python3"
  },
  "language_info": {
   "codemirror_mode": {
    "name": "ipython",
    "version": 3
   },
   "file_extension": ".py",
   "mimetype": "text/x-python",
   "name": "python",
   "nbconvert_exporter": "python",
   "pygments_lexer": "ipython3",
   "version": "3.11.9"
  }
 },
 "nbformat": 4,
 "nbformat_minor": 5
}
