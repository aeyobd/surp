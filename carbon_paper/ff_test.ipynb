{
 "cells": [
  {
   "cell_type": "code",
   "execution_count": 1,
   "id": "27912b90-c99f-4e19-bc8d-b0f95b097152",
   "metadata": {
    "tags": []
   },
   "outputs": [],
   "source": [
    "import rpy2.robjects as ro\n",
    "from rpy2.robjects import pandas2ri\n",
    "from rpy2.robjects.packages import importr"
   ]
  },
  {
   "cell_type": "code",
   "execution_count": 2,
   "id": "649cde6d-472b-403c-846b-8254fde25235",
   "metadata": {
    "tags": []
   },
   "outputs": [],
   "source": [
    "ff = importr(\"fasano.franceschini.test\")"
   ]
  },
  {
   "cell_type": "code",
   "execution_count": 4,
   "id": "3b1cdab1-f5a3-4127-ae2c-2cae2b36ae17",
   "metadata": {
    "tags": []
   },
   "outputs": [],
   "source": [
    "def ff_test(S1, S2, **kwargs):\n",
    "    with (ro.default_converter + pandas2ri.converter).context():\n",
    "        result = dict(ff.fasano_franceschini_test(S1, S2))\n",
    "                      \n",
    "    return result"
   ]
  },
  {
   "cell_type": "code",
   "execution_count": 5,
   "id": "2e428a24-b99b-4fb8-b388-6fcdfbc31072",
   "metadata": {
    "tags": []
   },
   "outputs": [],
   "source": [
    "import pandas as pd\n",
    "import numpy as np"
   ]
  },
  {
   "cell_type": "code",
   "execution_count": 9,
   "id": "609e2581-0f6b-41fd-a531-22691d36a4de",
   "metadata": {
    "tags": []
   },
   "outputs": [
    {
     "data": {
      "text/html": [
       "<div>\n",
       "<style scoped>\n",
       "    .dataframe tbody tr th:only-of-type {\n",
       "        vertical-align: middle;\n",
       "    }\n",
       "\n",
       "    .dataframe tbody tr th {\n",
       "        vertical-align: top;\n",
       "    }\n",
       "\n",
       "    .dataframe thead th {\n",
       "        text-align: right;\n",
       "    }\n",
       "</style>\n",
       "<table border=\"1\" class=\"dataframe\">\n",
       "  <thead>\n",
       "    <tr style=\"text-align: right;\">\n",
       "      <th></th>\n",
       "      <th>x</th>\n",
       "      <th>y</th>\n",
       "    </tr>\n",
       "  </thead>\n",
       "  <tbody>\n",
       "    <tr>\n",
       "      <th>0</th>\n",
       "      <td>0.034446</td>\n",
       "      <td>0.594139</td>\n",
       "    </tr>\n",
       "    <tr>\n",
       "      <th>1</th>\n",
       "      <td>0.010338</td>\n",
       "      <td>0.477651</td>\n",
       "    </tr>\n",
       "    <tr>\n",
       "      <th>2</th>\n",
       "      <td>0.870980</td>\n",
       "      <td>0.885841</td>\n",
       "    </tr>\n",
       "    <tr>\n",
       "      <th>3</th>\n",
       "      <td>0.870670</td>\n",
       "      <td>0.759116</td>\n",
       "    </tr>\n",
       "    <tr>\n",
       "      <th>4</th>\n",
       "      <td>0.040327</td>\n",
       "      <td>0.990113</td>\n",
       "    </tr>\n",
       "    <tr>\n",
       "      <th>...</th>\n",
       "      <td>...</td>\n",
       "      <td>...</td>\n",
       "    </tr>\n",
       "    <tr>\n",
       "      <th>95</th>\n",
       "      <td>0.720949</td>\n",
       "      <td>0.321973</td>\n",
       "    </tr>\n",
       "    <tr>\n",
       "      <th>96</th>\n",
       "      <td>0.172009</td>\n",
       "      <td>0.868328</td>\n",
       "    </tr>\n",
       "    <tr>\n",
       "      <th>97</th>\n",
       "      <td>0.964636</td>\n",
       "      <td>0.095140</td>\n",
       "    </tr>\n",
       "    <tr>\n",
       "      <th>98</th>\n",
       "      <td>0.874339</td>\n",
       "      <td>0.836100</td>\n",
       "    </tr>\n",
       "    <tr>\n",
       "      <th>99</th>\n",
       "      <td>0.579104</td>\n",
       "      <td>0.769592</td>\n",
       "    </tr>\n",
       "  </tbody>\n",
       "</table>\n",
       "<p>100 rows × 2 columns</p>\n",
       "</div>"
      ],
      "text/plain": [
       "           x         y\n",
       "0   0.034446  0.594139\n",
       "1   0.010338  0.477651\n",
       "2   0.870980  0.885841\n",
       "3   0.870670  0.759116\n",
       "4   0.040327  0.990113\n",
       "..       ...       ...\n",
       "95  0.720949  0.321973\n",
       "96  0.172009  0.868328\n",
       "97  0.964636  0.095140\n",
       "98  0.874339  0.836100\n",
       "99  0.579104  0.769592\n",
       "\n",
       "[100 rows x 2 columns]"
      ]
     },
     "execution_count": 9,
     "metadata": {},
     "output_type": "execute_result"
    }
   ],
   "source": [
    "s1 = pd.DataFrame({\n",
    "    \"x\": np.random.rand(100),\n",
    "    \"y\": np.random.rand(100)\n",
    "})\n",
    "\n",
    "s2 = pd.DataFrame({\n",
    "    \"x\": np.random.rand(100),\n",
    "    \"y\": np.random.rand(100)\n",
    "})\n",
    "s1"
   ]
  },
  {
   "cell_type": "code",
   "execution_count": 10,
   "id": "336fbfd7-4565-451c-bebc-86d4c1704ee2",
   "metadata": {
    "tags": []
   },
   "outputs": [
    {
     "name": "stderr",
     "output_type": "stream",
     "text": [
      "R[write to console]: 0%   10   20   30   40   50   60   70   80   90   100%\n",
      "\n",
      "R[write to console]: |----|----|----|----|----|----|----|----|----|----|\n",
      "\n",
      "R[write to console]: *\n",
      "R[write to console]: *\n",
      "R[write to console]: *\n",
      "R[write to console]: *\n",
      "R[write to console]: *\n",
      "R[write to console]: *\n",
      "R[write to console]: *\n",
      "R[write to console]: *\n",
      "R[write to console]: *\n",
      "R[write to console]: *\n",
      "R[write to console]: *\n",
      "R[write to console]: *\n",
      "R[write to console]: *\n",
      "R[write to console]: *\n",
      "R[write to console]: *\n",
      "R[write to console]: *\n",
      "R[write to console]: *\n",
      "R[write to console]: *\n",
      "R[write to console]: *\n",
      "R[write to console]: *\n",
      "R[write to console]: *\n",
      "R[write to console]: *\n",
      "R[write to console]: *\n",
      "R[write to console]: *\n",
      "R[write to console]: *\n",
      "R[write to console]: *\n",
      "R[write to console]: *\n",
      "R[write to console]: *\n",
      "R[write to console]: *\n",
      "R[write to console]: *\n",
      "R[write to console]: *\n",
      "R[write to console]: *\n",
      "R[write to console]: *\n",
      "R[write to console]: *\n",
      "R[write to console]: *\n",
      "R[write to console]: *\n",
      "R[write to console]: *\n",
      "R[write to console]: *\n",
      "R[write to console]: *\n",
      "R[write to console]: *\n",
      "R[write to console]: *\n",
      "R[write to console]: *\n",
      "R[write to console]: *\n",
      "R[write to console]: *\n",
      "R[write to console]: *\n",
      "R[write to console]: *\n",
      "R[write to console]: *\n",
      "R[write to console]: *\n",
      "R[write to console]: *\n",
      "R[write to console]: *\n",
      "R[write to console]: *\n"
     ]
    },
    {
     "data": {
      "text/plain": [
       "{'statistic': array([0.77781746]),\n",
       " 'p.value': array([0.89108911]),\n",
       " 'conf.int': array([0.8134799 , 0.94436278]),\n",
       " 'estimate': array([0.11, 0.11]),\n",
       " 'method': <rpy2.robjects.vectors.StrVector object at 0x7f6f6cbfa140> [RTYPES.STRSXP]\n",
       " R classes: ('character',)\n",
       " ['Fasano-Francheschini Test'],\n",
       " 'data.name': <rpy2.robjects.vectors.StrVector object at 0x7f6f6cebda40> [RTYPES.STRSXP]\n",
       " R classes: ('character',)\n",
       " ['structur..., '0.870669..., '0.475032..., '0.508539..., ..., '\"57\", \"5..., '\"68\", \"6..., '\"79\", \"8..., '\"90\", \"9...]}"
      ]
     },
     "execution_count": 10,
     "metadata": {},
     "output_type": "execute_result"
    }
   ],
   "source": [
    "ff_test(s1, s2)"
   ]
  },
  {
   "cell_type": "code",
   "execution_count": null,
   "id": "3da34371-b574-472f-afa5-5f10542dbfcb",
   "metadata": {},
   "outputs": [],
   "source": []
  }
 ],
 "metadata": {
  "kernelspec": {
   "display_name": "Python 3 (ipykernel)",
   "language": "python",
   "name": "python3"
  },
  "language_info": {
   "codemirror_mode": {
    "name": "ipython",
    "version": 3
   },
   "file_extension": ".py",
   "mimetype": "text/x-python",
   "name": "python",
   "nbconvert_exporter": "python",
   "pygments_lexer": "ipython3",
   "version": "3.10.10"
  }
 },
 "nbformat": 4,
 "nbformat_minor": 5
}
