{
 "cells": [
  {
   "cell_type": "code",
   "execution_count": 11,
   "id": "27912b90-c99f-4e19-bc8d-b0f95b097152",
   "metadata": {
    "tags": []
   },
   "outputs": [
    {
     "ename": "ValueError",
     "evalue": "r_home is None. Try python -m rpy2.situation",
     "output_type": "error",
     "traceback": [
      "\u001b[0;31m---------------------------------------------------------------------------\u001b[0m",
      "\u001b[0;31mValueError\u001b[0m                                Traceback (most recent call last)",
      "\u001b[0;32m<ipython-input-1-056a4979c8e5>\u001b[0m in \u001b[0;36m<module>\u001b[0;34m\u001b[0m\n\u001b[0;32m----> 1\u001b[0;31m \u001b[0;32mimport\u001b[0m \u001b[0mrpy2\u001b[0m\u001b[0;34m.\u001b[0m\u001b[0mrobjects\u001b[0m \u001b[0;32mas\u001b[0m \u001b[0mro\u001b[0m\u001b[0;34m\u001b[0m\u001b[0;34m\u001b[0m\u001b[0m\n\u001b[0m\u001b[1;32m      2\u001b[0m \u001b[0;32mfrom\u001b[0m \u001b[0mrpy2\u001b[0m\u001b[0;34m.\u001b[0m\u001b[0mrobjects\u001b[0m \u001b[0;32mimport\u001b[0m \u001b[0mpandas2ri\u001b[0m\u001b[0;34m\u001b[0m\u001b[0;34m\u001b[0m\u001b[0m\n\u001b[1;32m      3\u001b[0m \u001b[0;32mfrom\u001b[0m \u001b[0mrpy2\u001b[0m\u001b[0;34m.\u001b[0m\u001b[0mrobjects\u001b[0m\u001b[0;34m.\u001b[0m\u001b[0mpackages\u001b[0m \u001b[0;32mimport\u001b[0m \u001b[0mimportr\u001b[0m\u001b[0;34m\u001b[0m\u001b[0;34m\u001b[0m\u001b[0m\n",
      "\u001b[0;32m~/.local/lib/python3.6/site-packages/rpy2/robjects/__init__.py\u001b[0m in \u001b[0;36m<module>\u001b[0;34m\u001b[0m\n\u001b[1;32m     12\u001b[0m \u001b[0;32mimport\u001b[0m \u001b[0mtypes\u001b[0m\u001b[0;34m\u001b[0m\u001b[0;34m\u001b[0m\u001b[0m\n\u001b[1;32m     13\u001b[0m \u001b[0;32mimport\u001b[0m \u001b[0marray\u001b[0m\u001b[0;34m\u001b[0m\u001b[0;34m\u001b[0m\u001b[0m\n\u001b[0;32m---> 14\u001b[0;31m \u001b[0;32mimport\u001b[0m \u001b[0mrpy2\u001b[0m\u001b[0;34m.\u001b[0m\u001b[0mrinterface\u001b[0m \u001b[0;32mas\u001b[0m \u001b[0mrinterface\u001b[0m\u001b[0;34m\u001b[0m\u001b[0;34m\u001b[0m\u001b[0m\n\u001b[0m\u001b[1;32m     15\u001b[0m \u001b[0;32mimport\u001b[0m \u001b[0mrpy2\u001b[0m\u001b[0;34m.\u001b[0m\u001b[0mrlike\u001b[0m\u001b[0;34m.\u001b[0m\u001b[0mcontainer\u001b[0m \u001b[0;32mas\u001b[0m \u001b[0mrlc\u001b[0m\u001b[0;34m\u001b[0m\u001b[0;34m\u001b[0m\u001b[0m\n\u001b[1;32m     16\u001b[0m \u001b[0;34m\u001b[0m\u001b[0m\n",
      "\u001b[0;32m~/.local/lib/python3.6/site-packages/rpy2/rinterface.py\u001b[0m in \u001b[0;36m<module>\u001b[0;34m\u001b[0m\n\u001b[1;32m      4\u001b[0m \u001b[0;32mimport\u001b[0m \u001b[0mmath\u001b[0m\u001b[0;34m\u001b[0m\u001b[0;34m\u001b[0m\u001b[0m\n\u001b[1;32m      5\u001b[0m \u001b[0;32mimport\u001b[0m \u001b[0mtyping\u001b[0m\u001b[0;34m\u001b[0m\u001b[0;34m\u001b[0m\u001b[0m\n\u001b[0;32m----> 6\u001b[0;31m \u001b[0;32mfrom\u001b[0m \u001b[0mrpy2\u001b[0m\u001b[0;34m.\u001b[0m\u001b[0mrinterface_lib\u001b[0m \u001b[0;32mimport\u001b[0m \u001b[0mopenrlib\u001b[0m\u001b[0;34m\u001b[0m\u001b[0;34m\u001b[0m\u001b[0m\n\u001b[0m\u001b[1;32m      7\u001b[0m \u001b[0;32mimport\u001b[0m \u001b[0mrpy2\u001b[0m\u001b[0;34m.\u001b[0m\u001b[0mrinterface_lib\u001b[0m\u001b[0;34m.\u001b[0m\u001b[0m_rinterface_capi\u001b[0m \u001b[0;32mas\u001b[0m \u001b[0m_rinterface\u001b[0m\u001b[0;34m\u001b[0m\u001b[0;34m\u001b[0m\u001b[0m\n\u001b[1;32m      8\u001b[0m \u001b[0;32mimport\u001b[0m \u001b[0mrpy2\u001b[0m\u001b[0;34m.\u001b[0m\u001b[0mrinterface_lib\u001b[0m\u001b[0;34m.\u001b[0m\u001b[0membedded\u001b[0m \u001b[0;32mas\u001b[0m \u001b[0membedded\u001b[0m\u001b[0;34m\u001b[0m\u001b[0;34m\u001b[0m\u001b[0m\n",
      "\u001b[0;32m~/.local/lib/python3.6/site-packages/rpy2/rinterface_lib/openrlib.py\u001b[0m in \u001b[0;36m<module>\u001b[0;34m\u001b[0m\n\u001b[1;32m     21\u001b[0m \u001b[0;34m\u001b[0m\u001b[0m\n\u001b[1;32m     22\u001b[0m \u001b[0;34m\u001b[0m\u001b[0m\n\u001b[0;32m---> 23\u001b[0;31m \u001b[0mrlib\u001b[0m \u001b[0;34m=\u001b[0m \u001b[0m_dlopen_rlib\u001b[0m\u001b[0;34m(\u001b[0m\u001b[0mR_HOME\u001b[0m\u001b[0;34m)\u001b[0m\u001b[0;34m\u001b[0m\u001b[0;34m\u001b[0m\u001b[0m\n\u001b[0m\u001b[1;32m     24\u001b[0m \u001b[0;34m\u001b[0m\u001b[0m\n\u001b[1;32m     25\u001b[0m \u001b[0;34m\u001b[0m\u001b[0m\n",
      "\u001b[0;32m~/.local/lib/python3.6/site-packages/rpy2/rinterface_lib/openrlib.py\u001b[0m in \u001b[0;36m_dlopen_rlib\u001b[0;34m(r_home)\u001b[0m\n\u001b[1;32m     14\u001b[0m     \u001b[0;34m\"\"\"Open R's shared C library.\"\"\"\u001b[0m\u001b[0;34m\u001b[0m\u001b[0;34m\u001b[0m\u001b[0m\n\u001b[1;32m     15\u001b[0m     \u001b[0;32mif\u001b[0m \u001b[0mr_home\u001b[0m \u001b[0;32mis\u001b[0m \u001b[0;32mNone\u001b[0m\u001b[0;34m:\u001b[0m\u001b[0;34m\u001b[0m\u001b[0;34m\u001b[0m\u001b[0m\n\u001b[0;32m---> 16\u001b[0;31m         raise ValueError('r_home is None. '\n\u001b[0m\u001b[1;32m     17\u001b[0m                          'Try python -m rpy2.situation')\n\u001b[1;32m     18\u001b[0m     \u001b[0mlib_path\u001b[0m \u001b[0;34m=\u001b[0m \u001b[0mrpy2\u001b[0m\u001b[0;34m.\u001b[0m\u001b[0msituation\u001b[0m\u001b[0;34m.\u001b[0m\u001b[0mget_rlib_path\u001b[0m\u001b[0;34m(\u001b[0m\u001b[0mr_home\u001b[0m\u001b[0;34m,\u001b[0m \u001b[0mplatform\u001b[0m\u001b[0;34m.\u001b[0m\u001b[0msystem\u001b[0m\u001b[0;34m(\u001b[0m\u001b[0;34m)\u001b[0m\u001b[0;34m)\u001b[0m\u001b[0;34m\u001b[0m\u001b[0;34m\u001b[0m\u001b[0m\n",
      "\u001b[0;31mValueError\u001b[0m: r_home is None. Try python -m rpy2.situation"
     ]
    }
   ],
   "source": [
    "from "
   ]
  },
  {
   "cell_type": "code",
   "execution_count": 2,
   "id": "649cde6d-472b-403c-846b-8254fde25235",
   "metadata": {
    "tags": []
   },
   "outputs": [],
   "source": [
    "ff = importr(\"fasano.franceschini.test\")"
   ]
  },
  {
   "cell_type": "code",
   "execution_count": 4,
   "id": "3b1cdab1-f5a3-4127-ae2c-2cae2b36ae17",
   "metadata": {
    "tags": []
   },
   "outputs": [],
   "source": [
    "def ff_test(S1, S2, **kwargs):\n",
    "    with (ro.default_converter + pandas2ri.converter).context():\n",
    "        result = dict(ff.fasano_franceschini_test(S1, S2))\n",
    "                      \n",
    "    return result"
   ]
  },
  {
   "cell_type": "code",
   "execution_count": 29,
   "id": "2e428a24-b99b-4fb8-b388-6fcdfbc31072",
   "metadata": {
    "tags": []
   },
   "outputs": [],
   "source": [
    "import pandas as pd\n",
    "import numpy as np\n",
    "from dataclasses import dataclass\n",
    "\n",
    "from surp.src.analysis.vice_model import vice_model\n",
    "import surp.src.analysis.apogee_analysis as aah\n",
    "from surp.src.analysis.apogee_analysis import subgiants\n",
    "\n",
    "import arya\n",
    "import matplotlib.pyplot as plt"
   ]
  },
  {
   "cell_type": "code",
   "execution_count": 18,
   "id": "56eb511a-61b3-445e-a0d1-6958952c6e19",
   "metadata": {
    "tags": []
   },
   "outputs": [],
   "source": [
    "@dataclass\n",
    "class model_id():\n",
    "    agb: str = None\n",
    "    eta: str = None\n",
    "    f_agb: str = None\n",
    "    beta: str = None\n",
    "    name: str = None\n",
    "    version: str = \"\"\n",
    "\n",
    "\n",
    "def find_model(id):\n",
    "    \"\"\"\n",
    "    Finds the pickled model with either the given name or the parameters \n",
    "    and returns the vice_model object\n",
    "    \"\"\"\n",
    "    if id.name is None:\n",
    "        name = id.agb + \"_f\" + id.f_agb + \"_Z\" + id.beta + \"_eta\" + id.eta + id.version\n",
    "    else:\n",
    "        name = id.name\n",
    "    file_name = \"../output/\" + name + \".json\"\n",
    "    return vice_model(file_name)\n",
    "\n",
    "\n",
    "fiducial = find_model(model_id(agb=\"cristallo11\", f_agb=\"0.2\", eta=\"1.0\",\n",
    "    beta=\"0.4\", version=\"_v0.1.4\"))"
   ]
  },
  {
   "cell_type": "code",
   "execution_count": 23,
   "id": "84f1cd9d-50c5-47fb-b681-98ad1115a9c9",
   "metadata": {
    "tags": []
   },
   "outputs": [],
   "source": [
    "stars = fiducial.stars[\"apogee\"]"
   ]
  },
  {
   "cell_type": "code",
   "execution_count": 26,
   "id": "609e2581-0f6b-41fd-a531-22691d36a4de",
   "metadata": {
    "tags": []
   },
   "outputs": [
    {
     "data": {
      "text/html": [
       "<div>\n",
       "<style scoped>\n",
       "    .dataframe tbody tr th:only-of-type {\n",
       "        vertical-align: middle;\n",
       "    }\n",
       "\n",
       "    .dataframe tbody tr th {\n",
       "        vertical-align: top;\n",
       "    }\n",
       "\n",
       "    .dataframe thead th {\n",
       "        text-align: right;\n",
       "    }\n",
       "</style>\n",
       "<table border=\"1\" class=\"dataframe\">\n",
       "  <thead>\n",
       "    <tr style=\"text-align: right;\">\n",
       "      <th></th>\n",
       "      <th>x</th>\n",
       "      <th>y</th>\n",
       "    </tr>\n",
       "  </thead>\n",
       "  <tbody>\n",
       "    <tr>\n",
       "      <th>0</th>\n",
       "      <td>-0.176264</td>\n",
       "      <td>-0.181092</td>\n",
       "    </tr>\n",
       "    <tr>\n",
       "      <th>1</th>\n",
       "      <td>0.533275</td>\n",
       "      <td>-0.128050</td>\n",
       "    </tr>\n",
       "    <tr>\n",
       "      <th>2</th>\n",
       "      <td>0.301142</td>\n",
       "      <td>0.030329</td>\n",
       "    </tr>\n",
       "    <tr>\n",
       "      <th>3</th>\n",
       "      <td>0.154887</td>\n",
       "      <td>-0.087583</td>\n",
       "    </tr>\n",
       "    <tr>\n",
       "      <th>4</th>\n",
       "      <td>0.099637</td>\n",
       "      <td>-0.138952</td>\n",
       "    </tr>\n",
       "    <tr>\n",
       "      <th>...</th>\n",
       "      <td>...</td>\n",
       "      <td>...</td>\n",
       "    </tr>\n",
       "    <tr>\n",
       "      <th>16391</th>\n",
       "      <td>0.067715</td>\n",
       "      <td>-0.022974</td>\n",
       "    </tr>\n",
       "    <tr>\n",
       "      <th>16392</th>\n",
       "      <td>-0.480111</td>\n",
       "      <td>-0.110429</td>\n",
       "    </tr>\n",
       "    <tr>\n",
       "      <th>16393</th>\n",
       "      <td>0.193917</td>\n",
       "      <td>-0.096821</td>\n",
       "    </tr>\n",
       "    <tr>\n",
       "      <th>16394</th>\n",
       "      <td>0.127543</td>\n",
       "      <td>-0.148282</td>\n",
       "    </tr>\n",
       "    <tr>\n",
       "      <th>16395</th>\n",
       "      <td>-0.105177</td>\n",
       "      <td>-0.238929</td>\n",
       "    </tr>\n",
       "  </tbody>\n",
       "</table>\n",
       "<p>16396 rows × 2 columns</p>\n",
       "</div>"
      ],
      "text/plain": [
       "              x         y\n",
       "0     -0.176264 -0.181092\n",
       "1      0.533275 -0.128050\n",
       "2      0.301142  0.030329\n",
       "3      0.154887 -0.087583\n",
       "4      0.099637 -0.138952\n",
       "...         ...       ...\n",
       "16391  0.067715 -0.022974\n",
       "16392 -0.480111 -0.110429\n",
       "16393  0.193917 -0.096821\n",
       "16394  0.127543 -0.148282\n",
       "16395 -0.105177 -0.238929\n",
       "\n",
       "[16396 rows x 2 columns]"
      ]
     },
     "execution_count": 26,
     "metadata": {},
     "output_type": "execute_result"
    }
   ],
   "source": [
    "s1 = pd.DataFrame({\n",
    "    \"x\": subgiants[\"MG_H\"],\n",
    "    \"y\": subgiants[\"C_MG\"]\n",
    "})\n",
    "\n",
    "s2 = pd.DataFrame({\n",
    "    \"x\": stars[\"[o/h]\"],\n",
    "    \"y\": stars[\"[c/o]\"]\n",
    "})\n",
    "s1"
   ]
  },
  {
   "cell_type": "code",
   "execution_count": 27,
   "id": "336fbfd7-4565-451c-bebc-86d4c1704ee2",
   "metadata": {
    "tags": []
   },
   "outputs": [
    {
     "name": "stderr",
     "output_type": "stream",
     "text": [
      "R[write to console]: 0%   10   20   30   40   50   60   70   80   90   100%\n",
      "\n",
      "R[write to console]: |----|----|----|----|----|----|----|----|----|----|\n",
      "\n",
      "R[write to console]: *\n",
      "R[write to console]: *\n",
      "R[write to console]: *\n",
      "R[write to console]: *\n",
      "R[write to console]: *\n",
      "R[write to console]: *\n",
      "R[write to console]: *\n",
      "R[write to console]: *\n",
      "R[write to console]: *\n",
      "R[write to console]: *\n",
      "R[write to console]: *\n",
      "R[write to console]: *\n",
      "R[write to console]: *\n",
      "R[write to console]: *\n",
      "R[write to console]: *\n",
      "R[write to console]: *\n",
      "R[write to console]: *\n",
      "R[write to console]: *\n",
      "R[write to console]: *\n",
      "R[write to console]: *\n",
      "R[write to console]: *\n",
      "R[write to console]: *\n",
      "R[write to console]: *\n",
      "R[write to console]: *\n",
      "R[write to console]: *\n",
      "R[write to console]: *\n",
      "R[write to console]: *\n",
      "R[write to console]: *\n",
      "R[write to console]: *\n",
      "R[write to console]: *\n",
      "R[write to console]: *\n",
      "R[write to console]: *\n",
      "R[write to console]: *\n",
      "R[write to console]: *\n",
      "R[write to console]: *\n",
      "R[write to console]: *\n",
      "R[write to console]: *\n",
      "R[write to console]: *\n",
      "R[write to console]: *\n",
      "R[write to console]: *\n",
      "R[write to console]: *\n",
      "R[write to console]: *\n",
      "R[write to console]: *\n",
      "R[write to console]: *\n",
      "R[write to console]: *\n",
      "R[write to console]: *\n",
      "R[write to console]: *\n",
      "R[write to console]: *\n",
      "R[write to console]: *\n",
      "R[write to console]: *\n",
      "R[write to console]: *\n"
     ]
    },
    {
     "data": {
      "text/plain": [
       "{'statistic': array([67.05460796]),\n",
       " 'p.value': array([0.30693069]),\n",
       " 'conf.int': array([0.21897873, 0.40655677]),\n",
       " 'estimate': array([0.90249513, 0.89916162]),\n",
       " 'method': <rpy2.robjects.vectors.StrVector object at 0x7f6f2ee5da00> [RTYPES.STRSXP]\n",
       " R classes: ('character',)\n",
       " ['Fasano-Francheschini Test'],\n",
       " 'data.name': <rpy2.robjects.vectors.StrVector object at 0x7f6f2eed5ec0> [RTYPES.STRSXP]\n",
       " R classes: ('character',)\n",
       " ['structur..., '0.154886..., '-0.09526..., '-0.13389..., ..., '\"16371\",..., '\"16378\",..., '\"16385\",..., '\"16392\",...]}"
      ]
     },
     "execution_count": 27,
     "metadata": {},
     "output_type": "execute_result"
    }
   ],
   "source": [
    "ff_test(s1, s2)"
   ]
  },
  {
   "cell_type": "code",
   "execution_count": 87,
   "id": "3da34371-b574-472f-afa5-5f10542dbfcb",
   "metadata": {},
   "outputs": [
    {
     "data": {
      "image/png": "[encoded data removed]",
      "text/plain": [
       "<Figure size 472.4x472.4 with 1 Axes>"
      ]
     },
     "metadata": {},
     "output_type": "display_data"
    }
   ],
   "source": [
    "subgiants = subgiants[~subgiants[\"high_alpha\"]]\n",
    "\n",
    "counts, xbins, ybins, f = plt.hist2d(subgiants[\"MG_H\"], subgiants[\"C_FE\"], range=((-1, 1), (-1,1)), bins=100)"
   ]
  },
  {
   "cell_type": "code",
   "execution_count": 88,
   "id": "ae1e4f96-70b4-4f18-b0c6-a2ee267311a4",
   "metadata": {
    "tags": []
   },
   "outputs": [
    {
     "data": {
      "image/png": "[encoded data removed]",
      "text/plain": [
       "<Figure size 472.4x472.4 with 1 Axes>"
      ]
     },
     "metadata": {},
     "output_type": "display_data"
    }
   ],
   "source": [
    "counts2, xbins, ybins, f = plt.hist2d(stars[\"[o/h]\"]+np.random.normal(0, 0.03, len(stars)), stars[\"[c/fe]\"]+np.random.normal(0, 0.04, len(stars)), range=((-1, 1), (-1,1)), bins=100)"
   ]
  },
  {
   "cell_type": "code",
   "execution_count": 89,
   "id": "6c880433-783d-4009-b509-3de64f89fbdb",
   "metadata": {
    "tags": []
   },
   "outputs": [],
   "source": [
    "s1 = np.sum(counts)\n",
    "s2 = np.sum(counts2)"
   ]
  },
  {
   "cell_type": "code",
   "execution_count": 90,
   "id": "9f87a41d-3fd8-4aaa-bb54-9da1389535d4",
   "metadata": {
    "tags": []
   },
   "outputs": [],
   "source": [
    "d1 = counts/s1\n",
    "d2 = counts2/s2\n",
    "e1 = np.sqrt(counts)/s1\n",
    "e2 = np.sqrt(counts2)/s2\n",
    "e = np.sqrt(e1**2 + e2**2)"
   ]
  },
  {
   "cell_type": "code",
   "execution_count": 91,
   "id": "b4e20f38-1963-42c8-ae52-7eec32732c3c",
   "metadata": {
    "tags": []
   },
   "outputs": [
    {
     "name": "stderr",
     "output_type": "stream",
     "text": [
      "/tmp/ipykernel_20646/1319365134.py:1: RuntimeWarning: invalid value encountered in divide\n",
      "  np.sum(((d1-d2)**2/e**2)[e>0])/(np.sum((d1+d2+e)>0))\n"
     ]
    },
    {
     "data": {
      "text/plain": [
       "3.606076319271825"
      ]
     },
     "execution_count": 91,
     "metadata": {},
     "output_type": "execute_result"
    }
   ],
   "source": [
    "np.sum(((d1-d2)**2/e**2)[e>0])/(np.sum((d1+d2+e)>0))"
   ]
  },
  {
   "cell_type": "code",
   "execution_count": 92,
   "id": "b76cb904-f4a8-4243-80e4-4937cf2d2b33",
   "metadata": {
    "tags": []
   },
   "outputs": [
    {
     "name": "stderr",
     "output_type": "stream",
     "text": [
      "/tmp/ipykernel_20646/792191024.py:1: RuntimeWarning: invalid value encountered in divide\n",
      "  plt.imshow((((d1-d2)/e).transpose()), extent=(-1,1,1,-1), cmap=\"RdBu\")\n"
     ]
    },
    {
     "data": {
      "image/png": "[encoded data removed]",
      "text/plain": [
       "<Figure size 472.4x472.4 with 2 Axes>"
      ]
     },
     "metadata": {},
     "output_type": "display_data"
    }
   ],
   "source": [
    "plt.imshow((((d1-d2)/e).transpose()), extent=(-1,1,1,-1), cmap=\"RdBu\")\n",
    "plt.colorbar(label=\"data-model\")\n",
    "\n",
    "plt.gca().invert_yaxis()"
   ]
  },
  {
   "cell_type": "code",
   "execution_count": null,
   "id": "8c22c65e-75f4-459c-b73e-c35ff0a08271",
   "metadata": {},
   "outputs": [],
   "source": []
  },
  {
   "cell_type": "code",
   "execution_count": null,
   "id": "9d806f3e-f64f-49d6-af72-7cc225d86dae",
   "metadata": {},
   "outputs": [],
   "source": []
  }
 ],
 "metadata": {
  "kernelspec": {
   "display_name": "Python 3.9 (Conda 2022.05) [python/3.9-2022.05]",
   "language": "python",
   "name": "python39_202205"
  },
  "language_info": {
   "codemirror_mode": {
    "name": "ipython",
    "version": 3
   },
   "file_extension": ".py",
   "mimetype": "text/x-python",
   "name": "python",
   "nbconvert_exporter": "python",
   "pygments_lexer": "ipython3",
   "version": "3.9.12"
  }
 },
 "nbformat": 4,
 "nbformat_minor": 5
}
