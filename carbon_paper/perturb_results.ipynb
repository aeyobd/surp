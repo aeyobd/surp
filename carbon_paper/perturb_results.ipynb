{
 "cells": [
  {
   "cell_type": "code",
   "execution_count": null,
   "id": "0",
   "metadata": {},
   "outputs": [],
   "source": [
    "import vice"
   ]
  },
  {
   "cell_type": "code",
   "execution_count": null,
   "id": "1",
   "metadata": {},
   "outputs": [],
   "source": [
    "import numpy as np"
   ]
  },
  {
   "cell_type": "code",
   "execution_count": null,
   "id": "2",
   "metadata": {},
   "outputs": [],
   "source": [
    "import pandas as pd\n",
    "import matplotlib.pyplot as plt\n",
    "import surp\n",
    "from dataclasses import dataclass\n",
    "\n",
    "import surp.gce_math as gcem\n",
    "import arya"
   ]
  },
  {
   "cell_type": "code",
   "execution_count": null,
   "id": "3",
   "metadata": {},
   "outputs": [],
   "source": [
    "import toml"
   ]
  },
  {
   "cell_type": "code",
   "execution_count": null,
   "id": "4",
   "metadata": {},
   "outputs": [],
   "source": [
    "@dataclass\n",
    "class MCMCResult:\n",
    "    params: dict\n",
    "    labels: list\n",
    "    samples: pd.DataFrame\n",
    "    afe: pd.DataFrame\n",
    "    ah: pd.DataFrame\n",
    "\n",
    "\n",
    "    @classmethod\n",
    "    def from_file(cls, modelname):\n",
    "        modeldir = \"../models/perturbations/mc_analysis/\" + modelname + \"/\"\n",
    "    \n",
    "        with open(modeldir + \"params.toml\", \"r\") as f:\n",
    "            params = toml.load(f)\n",
    "    \n",
    "    \n",
    "        samples = pd.read_csv(modeldir + \"mcmc_samples.csv\")\n",
    "        afe = pd.read_csv(modeldir + \"mg_fe_binned.csv\")\n",
    "        ah = pd.read_csv(modeldir + \"mg_h_binned.csv\")\n",
    "        labels = list(params.keys())\n",
    "    \n",
    "    \n",
    "        return cls(params=params, labels=labels, afe=afe, ah=ah, samples=samples)\n",
    "    "
   ]
  },
  {
   "cell_type": "code",
   "execution_count": null,
   "id": "5",
   "metadata": {},
   "outputs": [],
   "source": [
    "result = MCMCResult.from_file(\"analytic_quad\")"
   ]
  },
  {
   "cell_type": "code",
   "execution_count": null,
   "id": "6",
   "metadata": {},
   "outputs": [],
   "source": [
    "from corner import corner"
   ]
  },
  {
   "cell_type": "code",
   "execution_count": null,
   "id": "7",
   "metadata": {},
   "outputs": [],
   "source": [
    "def plot_corner(result, **kwargs):\n",
    "\n",
    "    corner(result.samples[result.labels], labels=result.labels, **kwargs)\n",
    "    return "
   ]
  },
  {
   "cell_type": "code",
   "execution_count": null,
   "id": "8",
   "metadata": {},
   "outputs": [],
   "source": [
    "def plot_samples_caah(mcmc_result, alpha=None, skip=10):\n",
    "    ah = mcmc_result.ah\n",
    "    labels = mcmc_result.labels\n",
    "    samples = mcmc_result.samples[::skip]\n",
    "\n",
    "\n",
    "    if alpha is None:\n",
    "        alpha = 1 / len(samples)**(1/3) / 10\n",
    "\n",
    "    for l, sample in samples.iterrows():\n",
    "        y = np.sum([sample[label] * ah[label] for label in labels], axis=0)\n",
    "\n",
    "        plt.plot(ah._x, gcem.abund_to_brak(y, \"c\") - ah._x, color=\"black\", alpha=alpha)\n",
    "\n",
    "    plt.errorbar(ah._x, gcem.abund_to_brak(ah.obs, \"c\") - ah._x, yerr=ah.obs_err / ah.obs / np.log(10), fmt=\"o\", color=arya.COLORS[1])\n",
    "    \n",
    "    plt.xlabel(\"[Mg/H]\")\n",
    "    plt.ylabel(\"[C/Mg]\")"
   ]
  },
  {
   "cell_type": "code",
   "execution_count": null,
   "id": "9",
   "metadata": {},
   "outputs": [],
   "source": [
    "def plot_samples_caafe(mcmc_result, alpha=None, skip=10):\n",
    "    ah = mcmc_result.afe\n",
    "    labels = mcmc_result.labels\n",
    "    samples = mcmc_result.samples[::skip]\n",
    "\n",
    "\n",
    "    if alpha is None:\n",
    "        alpha = 1 / len(samples)**(1/3) / 10\n",
    "\n",
    "    for l, sample in samples.iterrows():\n",
    "        y = np.sum([sample[label] * ah[label] for label in labels], axis=0)\n",
    "\n",
    "        plt.plot(ah._x, gcem.abund_to_brak(y, \"c\"), color=\"black\", alpha=alpha)\n",
    "\n",
    "    plt.errorbar(ah._x, gcem.abund_to_brak(ah.obs, \"c\"), yerr=ah.obs_err / ah.obs / np.log(10), fmt=\"o\", color=arya.COLORS[1])\n",
    "    \n",
    "    "
   ]
  },
  {
   "cell_type": "code",
   "execution_count": null,
   "id": "10",
   "metadata": {},
   "outputs": [],
   "source": [
    "plot_corner(result)"
   ]
  },
  {
   "cell_type": "code",
   "execution_count": null,
   "id": "11",
   "metadata": {},
   "outputs": [],
   "source": [
    "plot_samples_caah(result)"
   ]
  },
  {
   "cell_type": "code",
   "execution_count": null,
   "id": "12",
   "metadata": {},
   "outputs": [],
   "source": [
    "plot_samples_caafe(result)"
   ]
  },
  {
   "cell_type": "code",
   "execution_count": null,
   "id": "13",
   "metadata": {},
   "outputs": [],
   "source": [
    "yc = surp.yield_models.BiLogLin_CC(y0=0.000, zeta=0.001, y1=-0.002)"
   ]
  },
  {
   "cell_type": "code",
   "execution_count": null,
   "id": "14",
   "metadata": {},
   "outputs": [],
   "source": [
    "x = np.linspace(-3, 2, 10000)\n",
    "\n",
    "plt.plot(x, [yc(0.016 * 10**xx) for xx in x])"
   ]
  },
  {
   "cell_type": "code",
   "execution_count": null,
   "id": "15",
   "metadata": {},
   "outputs": [],
   "source": []
  },
  {
   "cell_type": "code",
   "execution_count": null,
   "id": "16",
   "metadata": {},
   "outputs": [],
   "source": []
  }
 ],
 "metadata": {
  "kernelspec": {
   "display_name": "Python 3 (ipykernel)",
   "language": "python",
   "name": "python3"
  },
  "language_info": {
   "codemirror_mode": {
    "name": "ipython",
    "version": 3
   },
   "file_extension": ".py",
   "mimetype": "text/x-python",
   "name": "python",
   "nbconvert_exporter": "python",
   "pygments_lexer": "ipython3",
   "version": "3.11.9"
  }
 },
 "nbformat": 4,
 "nbformat_minor": 5
}
