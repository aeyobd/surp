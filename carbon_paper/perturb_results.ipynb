{
 "cells": [
  {
   "cell_type": "code",
   "execution_count": null,
   "id": "0",
   "metadata": {},
   "outputs": [],
   "source": [
    "import vice"
   ]
  },
  {
   "cell_type": "code",
   "execution_count": null,
   "id": "1",
   "metadata": {},
   "outputs": [],
   "source": [
    "import numpy as np"
   ]
  },
  {
   "cell_type": "code",
   "execution_count": null,
   "id": "2",
   "metadata": {},
   "outputs": [],
   "source": [
    "import pandas as pd\n",
    "import matplotlib.pyplot as plt\n",
    "import surp\n",
    "from dataclasses import dataclass\n",
    "\n",
    "import surp.gce_math as gcem\n",
    "import arya"
   ]
  },
  {
   "cell_type": "code",
   "execution_count": null,
   "id": "3",
   "metadata": {},
   "outputs": [],
   "source": [
    "import toml"
   ]
  },
  {
   "cell_type": "code",
   "execution_count": null,
   "id": "4",
   "metadata": {},
   "outputs": [],
   "source": [
    "surp.set_yields()"
   ]
  },
  {
   "cell_type": "code",
   "execution_count": null,
   "id": "5",
   "metadata": {},
   "outputs": [],
   "source": [
    "@dataclass\n",
    "class MCMCResult:\n",
    "    params: dict\n",
    "    labels: list\n",
    "    samples: pd.DataFrame\n",
    "    afe: pd.DataFrame\n",
    "    ah: pd.DataFrame\n",
    "\n",
    "\n",
    "    @classmethod\n",
    "    def from_file(cls, modelname):\n",
    "        modeldir = \"../models/perturbations/mc_analysis/\" + modelname + \"/\"\n",
    "    \n",
    "        with open(modeldir + \"params.toml\", \"r\") as f:\n",
    "            params = toml.load(f)\n",
    "    \n",
    "    \n",
    "        samples = pd.read_csv(modeldir + \"mcmc_samples.csv\")\n",
    "        afe = pd.read_csv(modeldir + \"mg_fe_binned.csv\")\n",
    "        ah = pd.read_csv(modeldir + \"mg_h_binned.csv\")\n",
    "        labels = list(params.keys())\n",
    "    \n",
    "    \n",
    "        return cls(params=params, labels=labels, afe=afe, ah=ah, samples=samples)\n",
    "    "
   ]
  },
  {
   "cell_type": "code",
   "execution_count": null,
   "id": "6",
   "metadata": {},
   "outputs": [],
   "source": [
    "from corner import corner"
   ]
  },
  {
   "cell_type": "code",
   "execution_count": null,
   "id": "7",
   "metadata": {},
   "outputs": [],
   "source": [
    "def plot_corner(result, **kwargs):\n",
    "\n",
    "    corner(result.samples[result.labels],  \n",
    "           show_titles=True, \n",
    "           quantiles=[0.16, 0.5, 0.84], \n",
    "           labels=result.labels,\n",
    "           **kwargs)\n",
    "    return "
   ]
  },
  {
   "cell_type": "code",
   "execution_count": null,
   "id": "8",
   "metadata": {},
   "outputs": [],
   "source": [
    "def plot_samples_caah(mcmc_result, alpha=None, skip=10):\n",
    "    ah = mcmc_result.ah\n",
    "    labels = mcmc_result.labels\n",
    "    samples = mcmc_result.samples[::skip]\n",
    "\n",
    "\n",
    "    if alpha is None:\n",
    "        alpha = 1 / len(samples)**(1/3) / 10\n",
    "\n",
    "    for l, sample in samples.iterrows():\n",
    "        y = np.sum([sample[label] * ah[label] for label in labels], axis=0)\n",
    "\n",
    "        plt.plot(ah._x, gcem.abund_to_brak(y, \"c\") - ah._x, color=\"black\", alpha=alpha)\n",
    "\n",
    "    plt.errorbar(ah._x, gcem.abund_to_brak(ah.obs, \"c\") - ah._x, yerr=ah.obs_err / ah.obs / np.log(10), fmt=\"o\", color=arya.COLORS[1])\n",
    "    \n",
    "    plt.xlabel(\"[Mg/H]\")\n",
    "    plt.ylabel(\"[C/Mg]\")"
   ]
  },
  {
   "cell_type": "code",
   "execution_count": null,
   "id": "9",
   "metadata": {},
   "outputs": [],
   "source": [
    "def plot_samples_caafe(mcmc_result, alpha=None, skip=10, mh0=-0.1):\n",
    "    ah = mcmc_result.afe\n",
    "    labels = mcmc_result.labels\n",
    "    samples = mcmc_result.samples[::skip]\n",
    "\n",
    "    \n",
    "\n",
    "    if alpha is None:\n",
    "        alpha = 1 / len(samples)**(1/3) / 10\n",
    "\n",
    "    for l, sample in samples.iterrows():\n",
    "        y = np.sum([sample[label] * ah[label] for label in labels], axis=0)\n",
    "\n",
    "        plt.plot(ah._x, gcem.abund_to_brak(y, \"c\") - mh0, color=\"black\", alpha=alpha)\n",
    "\n",
    "    plt.errorbar(ah._x, gcem.abund_to_brak(ah.obs, \"c\") - mh0, yerr=ah.obs_err / ah.obs / np.log(10), fmt=\"o\", color=arya.COLORS[1])\n",
    "    \n",
    "    plt.xlabel(\"[Mg/Fe]\")\n",
    "    plt.ylabel(\"[C/Mg]\")"
   ]
  },
  {
   "cell_type": "code",
   "execution_count": null,
   "id": "10",
   "metadata": {},
   "outputs": [],
   "source": [
    "def plot_fagb_hist(results, y0):\n",
    "    ya = results.samples[\"alpha\"] * y0\n",
    "    yt = ya + results.samples[\"y0_cc\"] * 1e-3\n",
    "    f = ya / yt\n",
    "    plt.hist(f)\n",
    "    plt.xlabel(r\"$f_{\\rm AGB}$\")\n",
    "    plt.ylabel(\"counts\")\n",
    "    l, m, h = np.quantile(f, [0.16, 0.5, 0.84])\n",
    "    plt.title(f\"${m:0.3f}_{{-{m-l:0.3f}}}^{{+{h-m:0.3f}}}$\")"
   ]
  },
  {
   "cell_type": "code",
   "execution_count": null,
   "id": "11",
   "metadata": {},
   "outputs": [],
   "source": [
    "plot_fagb_hist(results, 3e-4)"
   ]
  },
  {
   "cell_type": "code",
   "execution_count": null,
   "id": "12",
   "metadata": {},
   "outputs": [],
   "source": [
    "def find_model(name):\n",
    "    \"\"\"\n",
    "    Finds the pickled model with either the given name or the parameters \n",
    "    and returns the csv summary\n",
    "    \"\"\"\n",
    "    file_name = \"../models/\" + name + \"/yield_params.toml\"\n",
    "    ys = surp.YieldParams.from_file(file_name)\n",
    "    surp.set_yields(ys)\n",
    "    \n",
    "    file_name = \"../models/\" + name + \"/stars.csv\"\n",
    "    model =  pd.read_csv(file_name, index_col=0)\n",
    "    return model"
   ]
  },
  {
   "cell_type": "code",
   "execution_count": null,
   "id": "13",
   "metadata": {},
   "outputs": [],
   "source": [
    "def print_stats(result):\n",
    "    print(\"parameter\\t med\\t 16th\\t 84th\")\n",
    "    for name in result.labels:\n",
    "        col = result.samples[name]\n",
    "        m = np.median(col)\n",
    "        l, h = np.quantile(col, [0.16, 0.84])\n",
    "        print(f\"{name:8s}\\t{m:6.3f}\\t{l-m:6.3f}\\t+{h-m:5.3f}\")"
   ]
  },
  {
   "cell_type": "markdown",
   "id": "14",
   "metadata": {},
   "source": [
    "# Body"
   ]
  },
  {
   "cell_type": "code",
   "execution_count": null,
   "id": "15",
   "metadata": {},
   "outputs": [],
   "source": [
    "from scipy.stats import binned_statistic"
   ]
  },
  {
   "cell_type": "code",
   "execution_count": null,
   "id": "16",
   "metadata": {},
   "outputs": [],
   "source": [
    "def plot_yields(result):\n",
    "    for label in result.labels:\n",
    "        plt.scatter(result.ah._x, result.ah[label] / gcem.brak_to_abund(result.ah._x, \"mg\"), label=label)\n",
    "\n",
    "    plt.xlabel(\"[M/H]\")\n",
    "    plt.ylabel(\"yield\")\n",
    "    arya.Legend(-1)"
   ]
  },
  {
   "cell_type": "code",
   "execution_count": null,
   "id": "17",
   "metadata": {},
   "outputs": [],
   "source": [
    "def plot_all(filename, y0=None):\n",
    "    result = MCMCResult.from_file(filename)\n",
    "    print_stats(result)\n",
    "    plot_yields(result)\n",
    "    plt.show()\n",
    "    \n",
    "    fig = plt.figure(figsize=(6, 6))\n",
    "    plot_corner(result, fig=fig)\n",
    "    plt.show()\n",
    "\n",
    "    plot_samples_caah(result)\n",
    "    plt.show()\n",
    "\n",
    "    plot_samples_caafe(result)\n",
    "\n",
    "    plt.show()\n",
    "\n",
    "    if y0 is not None:\n",
    "        plot_fagb_hist(result, y0)\n",
    "        \n",
    "    return result"
   ]
  },
  {
   "cell_type": "code",
   "execution_count": null,
   "id": "18",
   "metadata": {},
   "outputs": [],
   "source": [
    "vice.yields.agb.settings[\"c\"] = surp.agb_interpolator.interpolator(\"c\", mass_factor=0.5)\n",
    "y0 = surp.yields.calc_y(kind=\"agb\")\n",
    "y0"
   ]
  },
  {
   "cell_type": "code",
   "execution_count": null,
   "id": "19",
   "metadata": {},
   "outputs": [],
   "source": [
    "for study in surp.AGB_MODELS:\n",
    "    vice.yields.agb.settings[\"c\"] = surp.agb_interpolator.interpolator(\"c\", study=study)\n",
    "    y0 = surp.yields.calc_y(kind=\"agb\")\n",
    "    print(f\"{study:8s}\\t{y0:6.3e}\")\n"
   ]
  },
  {
   "cell_type": "code",
   "execution_count": null,
   "id": "20",
   "metadata": {},
   "outputs": [],
   "source": [
    "result = plot_all(\"analytic_quad\", y0=1e-3)"
   ]
  },
  {
   "cell_type": "code",
   "execution_count": null,
   "id": "21",
   "metadata": {},
   "outputs": [],
   "source": [
    "plot_all(\"analytic_quad_m0.2\", y0=1e-3)"
   ]
  },
  {
   "cell_type": "code",
   "execution_count": null,
   "id": "22",
   "metadata": {},
   "outputs": [],
   "source": [
    "plot_all(\"fruity_quad\", y0=3.2e-4)"
   ]
  },
  {
   "cell_type": "code",
   "execution_count": null,
   "id": "23",
   "metadata": {},
   "outputs": [],
   "source": [
    "plot_all(\"fruity_mf0.5_quad\", y0=2.9e-4)"
   ]
  },
  {
   "cell_type": "code",
   "execution_count": null,
   "id": "24",
   "metadata": {},
   "outputs": [],
   "source": [
    "plot_all(\"aton_quad\", y0=1.8e-4)"
   ]
  },
  {
   "cell_type": "code",
   "execution_count": null,
   "id": "25",
   "metadata": {},
   "outputs": [],
   "source": [
    "plot_all(\"monash_quad\", y0=3.4e-4);"
   ]
  },
  {
   "cell_type": "code",
   "execution_count": null,
   "id": "26",
   "metadata": {},
   "outputs": [],
   "source": [
    "plot_all(\"nugrid_quad\", y0=1e-3);"
   ]
  },
  {
   "cell_type": "markdown",
   "id": "27",
   "metadata": {},
   "source": [
    "# Validation"
   ]
  },
  {
   "cell_type": "code",
   "execution_count": null,
   "id": "28",
   "metadata": {},
   "outputs": [],
   "source": [
    "result = MCMCResult.from_file(\"analytic_quad\")"
   ]
  },
  {
   "cell_type": "code",
   "execution_count": null,
   "id": "29",
   "metadata": {},
   "outputs": [],
   "source": [
    "np.median(result.samples, axis=0)"
   ]
  },
  {
   "cell_type": "code",
   "execution_count": null,
   "id": "30",
   "metadata": {},
   "outputs": [],
   "source": []
  },
  {
   "cell_type": "code",
   "execution_count": null,
   "id": "31",
   "metadata": {},
   "outputs": [],
   "source": [
    "\n",
    "df = mz_stars[~mz_stars.high_alpha]\n",
    "\n",
    "mg_h_bins = np.arange(-0.5, 0.31, 0.1)\n",
    "\n",
    "bin_mids = (mg_h_bins[1:] + mg_h_bins[:-1])/2\n",
    "ss = binned_statistic(df.MG_H, df.C_MG, bins=mg_h_bins, statistic=\"mean\").statistic\n",
    "se = binned_statistic(df.MG_H, df.C_MG, bins=mg_h_bins, statistic=\"std\").statistic"
   ]
  },
  {
   "cell_type": "code",
   "execution_count": null,
   "id": "32",
   "metadata": {},
   "outputs": [],
   "source": [
    "plot_samples_caah(result)\n",
    "\n",
    "plt.errorbar(bin_mids, ss, yerr=se, fmt=\"o\")"
   ]
  },
  {
   "cell_type": "code",
   "execution_count": null,
   "id": "33",
   "metadata": {},
   "outputs": [],
   "source": [
    "\n",
    "df = mz_stars[(mz_stars.MG_H > -0.15 ) & (mz_stars.MG_H < -0.05)]\n",
    "\n",
    "mg_h_bins = np.arange(0, 0.31, 0.05)\n",
    "\n",
    "bin_mids = (mg_h_bins[1:] + mg_h_bins[:-1])/2\n",
    "ss = binned_statistic(df.MG_FE, df.C_MG, bins=mg_h_bins, statistic=\"mean\").statistic\n",
    "se = binned_statistic(df.MG_FE, df.C_MG, bins=mg_h_bins, statistic=\"std\").statistic"
   ]
  },
  {
   "cell_type": "code",
   "execution_count": null,
   "id": "34",
   "metadata": {},
   "outputs": [],
   "source": [
    "plot_samples_caafe(result)\n",
    "\n",
    "plt.errorbar(bin_mids, ss, yerr=se, fmt=\"o\")"
   ]
  },
  {
   "cell_type": "code",
   "execution_count": null,
   "id": "35",
   "metadata": {},
   "outputs": [],
   "source": [
    "yc = surp.yield_models.BiLogLin_CC(y0=0.000, zeta=0.001, y1=-0.002)"
   ]
  },
  {
   "cell_type": "code",
   "execution_count": null,
   "id": "36",
   "metadata": {},
   "outputs": [],
   "source": [
    "mz_stars"
   ]
  },
  {
   "cell_type": "code",
   "execution_count": null,
   "id": "37",
   "metadata": {},
   "outputs": [],
   "source": [
    "mz_stars = find_model(\"analytic/mc_best\")"
   ]
  },
  {
   "cell_type": "code",
   "execution_count": null,
   "id": "38",
   "metadata": {},
   "outputs": [],
   "source": [
    "x = np.linspace(-3, 2, 10000)\n",
    "\n",
    "plt.plot(x, [yc(0.016 * 10**xx) for xx in x])"
   ]
  },
  {
   "cell_type": "code",
   "execution_count": null,
   "id": "39",
   "metadata": {},
   "outputs": [],
   "source": []
  },
  {
   "cell_type": "code",
   "execution_count": null,
   "id": "40",
   "metadata": {},
   "outputs": [],
   "source": []
  },
  {
   "cell_type": "code",
   "execution_count": null,
   "id": "41",
   "metadata": {},
   "outputs": [],
   "source": [
    "import sys\n",
    "sys.path.append(\"../models/perturbations/\")\n",
    "\n"
   ]
  },
  {
   "cell_type": "code",
   "execution_count": null,
   "id": "42",
   "metadata": {},
   "outputs": [],
   "source": [
    "y0_cc = 1e-3\n",
    "zeta = lambda z: surp.yield_models.BiLogLin_CC(y0=0.002, zeta=0.001, y1=0)(z) - 2e-3\n",
    "quad = surp.yield_models.Quadratic_CC(y0=0, zeta=0, A=0.001, Z1=0.0016)\n",
    "agb = surp.yield_models.C_AGB_Model(y0=0.001, zeta=-0.001, tau_agb=10)\n",
    "\n",
    "@np.vectorize\n",
    "def cc_tot(z):\n",
    "    return 1.57*y0_cc + 0.505 * zeta(z) + 5.75 * quad(z)"
   ]
  },
  {
   "cell_type": "code",
   "execution_count": null,
   "id": "43",
   "metadata": {},
   "outputs": [],
   "source": [
    "result.labels"
   ]
  },
  {
   "cell_type": "code",
   "execution_count": null,
   "id": "44",
   "metadata": {},
   "outputs": [],
   "source": [
    "zeta(0.014)"
   ]
  },
  {
   "cell_type": "code",
   "execution_count": null,
   "id": "45",
   "metadata": {},
   "outputs": [],
   "source": [
    "plot_yields(result)\n",
    "vice.yields.agb.settings[\"c\"] = agb\n",
    "mh = np.linspace(-0.4, 0.3, 100)\n",
    "\n",
    "ymg = vice.solar_z(\"mg\")\n",
    "\n",
    "z = gcem.MH_to_Z(mh)\n",
    "plt.plot(mh, surp.yields.calc_y(z, kind=\"agb\") / ymg)\n",
    "\n",
    "plt.axhline(y0_cc / ymg)\n",
    "\n",
    "plt.plot(mh, np.array([zeta(zz) for zz in z]) / ymg)\n",
    "plt.legend()"
   ]
  },
  {
   "cell_type": "code",
   "execution_count": null,
   "id": "46",
   "metadata": {},
   "outputs": [],
   "source": []
  },
  {
   "cell_type": "code",
   "execution_count": null,
   "id": "47",
   "metadata": {},
   "outputs": [],
   "source": [
    "vice.yields.agb.settings[\"c\"] = surp.yield_models.ZeroAGB()"
   ]
  },
  {
   "cell_type": "code",
   "execution_count": null,
   "id": "48",
   "metadata": {},
   "outputs": [],
   "source": [
    "x = np.linspace(-0.5, 0.5, 1000)\n",
    "z = gcem.MH_to_Z(x)\n",
    "\n",
    "plt.plot(x, cc_tot(z))\n",
    "plt.plot(x, surp.yields.calc_y(z))"
   ]
  },
  {
   "cell_type": "code",
   "execution_count": null,
   "id": "49",
   "metadata": {},
   "outputs": [],
   "source": [
    "def get_ytot(Z):\n",
    "    return surp.yields.calc_y("
   ]
  }
 ],
 "metadata": {
  "kernelspec": {
   "display_name": "Python 3 (ipykernel)",
   "language": "python",
   "name": "python3"
  },
  "language_info": {
   "codemirror_mode": {
    "name": "ipython",
    "version": 3
   },
   "file_extension": ".py",
   "mimetype": "text/x-python",
   "name": "python",
   "nbconvert_exporter": "python",
   "pygments_lexer": "ipython3",
   "version": "3.11.9"
  }
 },
 "nbformat": 4,
 "nbformat_minor": 5
}
