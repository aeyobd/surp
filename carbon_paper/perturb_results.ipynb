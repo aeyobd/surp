{
 "cells": [
  {
   "cell_type": "code",
   "execution_count": null,
   "id": "0",
   "metadata": {},
   "outputs": [],
   "source": [
    "import vice"
   ]
  },
  {
   "cell_type": "code",
   "execution_count": null,
   "id": "1",
   "metadata": {},
   "outputs": [],
   "source": [
    "import numpy as np"
   ]
  },
  {
   "cell_type": "code",
   "execution_count": null,
   "id": "2",
   "metadata": {},
   "outputs": [],
   "source": [
    "import pandas as pd\n",
    "import matplotlib.pyplot as plt\n",
    "import surp\n",
    "from dataclasses import dataclass\n",
    "\n",
    "import surp.gce_math as gcem\n",
    "import arya"
   ]
  },
  {
   "cell_type": "code",
   "execution_count": null,
   "id": "3",
   "metadata": {},
   "outputs": [],
   "source": [
    "import toml"
   ]
  },
  {
   "cell_type": "code",
   "execution_count": null,
   "id": "4",
   "metadata": {},
   "outputs": [],
   "source": [
    "surp.set_yields()"
   ]
  },
  {
   "cell_type": "code",
   "execution_count": null,
   "id": "5",
   "metadata": {},
   "outputs": [],
   "source": [
    "@dataclass\n",
    "class MCMCResult:\n",
    "    params: dict\n",
    "    labels: list\n",
    "    samples: pd.DataFrame\n",
    "    afe: pd.DataFrame\n",
    "    ah: pd.DataFrame\n",
    "\n",
    "\n",
    "    @classmethod\n",
    "    def from_file(cls, modelname, y0=None, y_a=None, zeta_a=None, burn=0):\n",
    "        modeldir = \"../models/perturbations/mc_analysis/\" + modelname + \"/\"\n",
    "    \n",
    "        with open(modeldir + \"params.toml\", \"r\") as f:\n",
    "            params = toml.load(f)\n",
    "    \n",
    "    \n",
    "        samples = pd.read_csv(modeldir + \"mcmc_samples.csv\")\n",
    "        filt = samples.iteration >= burn\n",
    "        samples = samples[filt]\n",
    "\n",
    "        print(\"length of samples = \", len(samples))\n",
    "        \n",
    "        if y0 is not None:\n",
    "            ya = samples[\"alpha\"] * y0\n",
    "            yt = ya + samples[\"y0_cc\"] * 1e-3\n",
    "            f = ya / yt\n",
    "            samples[\"f_agb\"] = f\n",
    "            samples[\"y_tot\"] = yt\n",
    "            \n",
    "        if y_a is not None:\n",
    "            ya = samples[\"alpha\"] * y_a\n",
    "            yt = ya + samples[\"y0_cc\"] * 1e-3\n",
    "            f = ya / yt\n",
    "            samples[\"f_agb_a\"] = f\n",
    "            samples[\"y_tot_a\"] = yt\n",
    "            samples[\"zeta1_a\"] = samples[\"zeta_cc\"] * 1e-3 + samples[\"alpha\"] * zeta_a\n",
    "        \n",
    "        afe = pd.read_csv(modeldir + \"mg_fe_binned.csv\")\n",
    "        ah = pd.read_csv(modeldir + \"mg_h_binned.csv\")\n",
    "        labels = [k for k, v in params.items() if type(v) == dict]\n",
    "    \n",
    "    \n",
    "        return cls(params=params, labels=labels, afe=afe, ah=ah, samples=samples)\n",
    "\n",
    "\n",
    "    @classmethod\n",
    "    def from_test_file(cls, modelname, y0=None, y_a=1e-3, zeta_a=-1e-3, burn=0):\n",
    "        modeldir = \"./mcmc_samples/\"\n",
    "    \n",
    "        samples = pd.read_csv(modeldir + f\"{modelname}.csv\")\n",
    "        print(\"length of samples = \", len(samples))\n",
    "        \n",
    "        if y0 is not None:\n",
    "            ya = samples[\"alpha\"] * y0\n",
    "            yt = ya + samples[\"zeta0\"] * 1e-3\n",
    "            f = ya / yt\n",
    "            samples[\"f_agb\"] = f\n",
    "            samples[\"y_tot\"] = yt\n",
    "            \n",
    "        if y_a is not None:\n",
    "            ya = samples[\"alpha\"] * y_a\n",
    "            yt = ya + samples[\"zeta0\"] * 1e-3\n",
    "            f = ya / yt\n",
    "            samples[\"f_agb_a\"] = f\n",
    "            samples[\"y_tot_a\"] = yt\n",
    "            samples[\"zeta1_a\"] = samples[\"zeta1\"] * 1e-3 + samples[\"alpha\"] * zeta_a\n",
    "\n",
    "        ah = pd.read_csv(modeldir + \"ah_binned.csv\")\n",
    "        ah[\"_x\"] = ah.x\n",
    "        afe = pd.read_csv(modeldir + \"afe_binned.csv\")\n",
    "        afe[\"_x\"] = afe.x\n",
    "        labels = [\"alpha\", \"zeta0\", \"zeta1\", \"zeta2\"]\n",
    "    \n",
    "    \n",
    "        return cls(params={}, labels=labels, afe=afe, ah=ah, samples=samples)"
   ]
  },
  {
   "cell_type": "code",
   "execution_count": null,
   "id": "6",
   "metadata": {},
   "outputs": [],
   "source": [
    "from corner import corner"
   ]
  },
  {
   "cell_type": "code",
   "execution_count": null,
   "id": "7",
   "metadata": {},
   "outputs": [],
   "source": [
    "def plot_corner(result, labels=None, **kwargs):\n",
    "\n",
    "    if labels is not None:\n",
    "        plot_labels = [labels[l] for l in result.labels]\n",
    "    else:\n",
    "        plot_labels = result.labels\n",
    "        \n",
    "    corner(result.samples[result.labels],  \n",
    "           show_titles=True, \n",
    "           quantiles=[0.16, 0.5, 0.84], \n",
    "           labels=plot_labels,\n",
    "           **kwargs)\n",
    "    return "
   ]
  },
  {
   "cell_type": "code",
   "execution_count": null,
   "id": "8",
   "metadata": {},
   "outputs": [],
   "source": [
    "def plot_samples_caah(mcmc_result, alpha=None, skip=10, color=\"black\"):\n",
    "    ah = mcmc_result.ah\n",
    "    labels = mcmc_result.labels\n",
    "    samples = mcmc_result.samples[::skip]\n",
    "\n",
    "\n",
    "    if alpha is None:\n",
    "        alpha = 1 / len(samples)**(1/3) / 10\n",
    "\n",
    "    for l, sample in samples.iterrows():\n",
    "        y = np.sum([sample[label] * ah[label] for label in labels], axis=0)\n",
    "\n",
    "        plt.plot(ah._x, gcem.abund_ratio_to_brak(y, \"c\", \"mg\") , color=color, alpha=alpha, rasterized=True)\n",
    "    \n",
    "    plt.xlabel(\"[Mg/H]\")\n",
    "    plt.ylabel(\"[C/Mg]\")"
   ]
  },
  {
   "cell_type": "code",
   "execution_count": null,
   "id": "9",
   "metadata": {},
   "outputs": [],
   "source": [
    "def plot_sample(sample, ah, labels, **kwargs):\n",
    "    y = np.sum([sample[label] * ah[label] for label in labels], axis=0)\n",
    "    plt.plot(ah._x, gcem.abund_ratio_to_brak(y, \"c\", \"mg\") , **kwargs )\n"
   ]
  },
  {
   "cell_type": "code",
   "execution_count": null,
   "id": "10",
   "metadata": {},
   "outputs": [],
   "source": [
    "def plot_samples_caah_mean(mcmc_result,plot_obs=True, **kwargs):\n",
    "    ah = mcmc_result.ah\n",
    "    labels = mcmc_result.labels\n",
    "\n",
    "    sample = np.mean(mcmc_result.samples, axis=0)\n",
    "    y = np.sum([sample[label] * ah[label] for label in labels], axis=0)\n",
    "\n",
    "    plt.plot(ah._x, gcem.abund_ratio_to_brak(y, \"c\", \"mg\") , **kwargs )\n",
    "\n",
    "    \n",
    "    plt.xlabel(\"[Mg/H]\")\n",
    "    plt.ylabel(\"[C/Mg]\")"
   ]
  },
  {
   "cell_type": "code",
   "execution_count": null,
   "id": "11",
   "metadata": {},
   "outputs": [],
   "source": [
    "def plot_obs_caah(mcmc_result, **kwargs):\n",
    "    ah = mcmc_result.ah\n",
    "\n",
    "    yerr = ah.obs_err / ah.obs / np.log(10) / np.sqrt(ah.obs_counts)\n",
    "    y = gcem.abund_ratio_to_brak(ah.obs, \"c\", \"mg\") \n",
    "    plt.errorbar(ah._x, y, yerr=yerr, fmt=\"o\", **kwargs)\n"
   ]
  },
  {
   "cell_type": "code",
   "execution_count": null,
   "id": "12",
   "metadata": {},
   "outputs": [],
   "source": [
    "def plot_samples_caafe(mcmc_result, alpha=None, skip=10, color=\"black\", **kwargs):\n",
    "    ah = mcmc_result.afe\n",
    "    labels = mcmc_result.labels\n",
    "    samples = mcmc_result.samples[::skip]\n",
    "    \n",
    "    if alpha is None:\n",
    "        alpha = 1 / len(samples)**(1/3) / 10\n",
    "\n",
    "    for l, sample in samples.iterrows():\n",
    "        y = np.sum([sample[label] * ah[label] for label in labels], axis=0)\n",
    "\n",
    "        plt.plot(ah._x, gcem.abund_ratio_to_brak(y, \"c\", \"mg\"), color=color, alpha=alpha, rasterized=True, **kwargs)\n",
    "    plt.xlabel(\"[Mg/Fe]\")\n",
    "    plt.ylabel(\"[C/Mg]\")"
   ]
  },
  {
   "cell_type": "code",
   "execution_count": null,
   "id": "13",
   "metadata": {},
   "outputs": [],
   "source": [
    "def plot_obs_caafe(mcmc_result, **kwargs):\n",
    "    ah = mcmc_result.afe\n",
    "\n",
    "    yerr = ah.obs_err / ah.obs / np.log(10) / np.sqrt(ah.obs_counts)\n",
    "    y = gcem.abund_ratio_to_brak(ah.obs, \"c\", \"mg\") \n",
    "    plt.errorbar(ah._x, y, yerr=yerr, fmt=\"o\", **kwargs)\n"
   ]
  },
  {
   "cell_type": "code",
   "execution_count": null,
   "id": "14",
   "metadata": {},
   "outputs": [],
   "source": [
    "def plot_samples_caafe_mean(mcmc_result, plot_obs=True, **kwargs):\n",
    "    ah = mcmc_result.afe\n",
    "    labels = mcmc_result.labels\n",
    "    \n",
    "    sample = np.mean(mcmc_result.samples, axis=0)\n",
    "\n",
    "    y = np.sum([sample[label] * ah[label] for label in labels], axis=0)\n",
    "\n",
    "    plt.plot(ah._x, gcem.abund_ratio_to_brak(y, \"c\", \"mg\"), **kwargs)\n",
    "\n",
    "    plt.xlabel(\"[Mg/Fe]\")\n",
    "    plt.ylabel(\"[C/Mg]\")"
   ]
  },
  {
   "cell_type": "code",
   "execution_count": null,
   "id": "15",
   "metadata": {},
   "outputs": [],
   "source": [
    "def plot_fagb_hist(results):\n",
    "    f = results.samples[\"f_agb\"]\n",
    "    plt.hist(f)\n",
    "    plt.xlabel(r\"$f_{\\rm AGB}$\")\n",
    "    plt.ylabel(\"counts\")\n",
    "    l, m, h = np.quantile(f, [0.16, 0.5, 0.84])\n",
    "    plt.title(f\"${m:0.3f}_{{-{m-l:0.3f}}}^{{+{h-m:0.3f}}}$\")"
   ]
  },
  {
   "cell_type": "code",
   "execution_count": null,
   "id": "16",
   "metadata": {},
   "outputs": [],
   "source": [
    "def find_model(name):\n",
    "    \"\"\"\n",
    "    Finds the pickled model with either the given name or the parameters \n",
    "    and returns the csv summary\n",
    "    \"\"\"\n",
    "    file_name = \"../models/\" + name + \"/yield_params.toml\"\n",
    "    ys = surp.YieldParams.from_file(file_name)\n",
    "    surp.set_yields(ys)\n",
    "    \n",
    "    file_name = \"../models/\" + name + \"/stars.csv\"\n",
    "    model =  pd.read_csv(file_name, index_col=0)\n",
    "    return model"
   ]
  },
  {
   "cell_type": "code",
   "execution_count": null,
   "id": "17",
   "metadata": {},
   "outputs": [],
   "source": [
    "def print_stats(result):\n",
    "    print(\"parameter\\t med\\t 16th\\t 84th\")\n",
    "    for name in result.labels:\n",
    "        col = result.samples[name]\n",
    "        m = np.median(col)\n",
    "        l, h = np.quantile(col, [0.16, 0.84])\n",
    "        print(f\"{name:8s}\\t{m:6.3f}\\t{l-m:6.3f}\\t+{h-m:5.3f}\")"
   ]
  },
  {
   "cell_type": "code",
   "execution_count": null,
   "id": "18",
   "metadata": {},
   "outputs": [],
   "source": [
    "from scipy.stats import binned_statistic"
   ]
  },
  {
   "cell_type": "code",
   "execution_count": null,
   "id": "19",
   "metadata": {},
   "outputs": [],
   "source": [
    "def plot_yields(result):\n",
    "    for label in result.labels:\n",
    "        plt.scatter(result.ah._x, result.ah[label], label=label)\n",
    "\n",
    "    plt.xlabel(\"[M/H]\")\n",
    "    plt.ylabel(\"yield\")\n",
    "    arya.Legend(-1)"
   ]
  },
  {
   "cell_type": "code",
   "execution_count": null,
   "id": "20",
   "metadata": {},
   "outputs": [],
   "source": [
    "def plot_all(filename, y0=None, y_a=None, zeta_a=None, test=False, burn=0, skip=10):\n",
    "    if test:\n",
    "        result = MCMCResult.from_test_file(filename, burn=burn)\n",
    "    else:\n",
    "        result = MCMCResult.from_file(filename, y0=y0, burn=burn, y_a=y_a, zeta_a=zeta_a)\n",
    "\n",
    "    print_stats(result)\n",
    "    plot_yields(result)\n",
    "    plt.show()\n",
    "    \n",
    "    fig = plt.figure(figsize=(6, 6))\n",
    "    plot_corner(result, fig=fig)\n",
    "    plt.show()\n",
    "\n",
    "    plot_samples_caah(result, skip=skip)\n",
    "    plot_obs_caah(result, color=arya.COLORS[1])\n",
    "    plt.show()\n",
    "\n",
    "    plot_samples_caafe(result, skip=skip)\n",
    "    plot_obs_caafe(result, color=arya.COLORS[1])\n",
    "    plt.show()\n",
    "\n",
    "    if y0 is not None:\n",
    "        plot_fagb_hist(result)\n",
    "        \n",
    "    return result"
   ]
  },
  {
   "cell_type": "code",
   "execution_count": null,
   "id": "21",
   "metadata": {},
   "outputs": [],
   "source": [
    "vice.yields.agb.settings[\"c\"] = surp.agb_interpolator.interpolator(\"c\", mass_factor=0.5)\n",
    "y0 = surp.yields.calc_y(kind=\"agb\")\n",
    "y0"
   ]
  },
  {
   "cell_type": "code",
   "execution_count": null,
   "id": "22",
   "metadata": {},
   "outputs": [],
   "source": [
    "for study in surp.AGB_MODELS:\n",
    "    vice.yields.agb.settings[\"c\"] = surp.agb_interpolator.interpolator(\"c\", study=study)\n",
    "    y0 = surp.yields.calc_y(Z=0.016, kind=\"agb\")\n",
    "    print(f\"{study:8s}\\t{y0/1e-4:6.3f}\")\n"
   ]
  },
  {
   "cell_type": "markdown",
   "id": "23",
   "metadata": {},
   "source": [
    "# Body"
   ]
  },
  {
   "cell_type": "markdown",
   "id": "24",
   "metadata": {
    "jp-MarkdownHeadingCollapsed": true
   },
   "source": [
    "## Main comparisons"
   ]
  },
  {
   "cell_type": "code",
   "execution_count": null,
   "id": "25",
   "metadata": {},
   "outputs": [],
   "source": [
    "results = {}"
   ]
  },
  {
   "cell_type": "code",
   "execution_count": null,
   "id": "26",
   "metadata": {},
   "outputs": [],
   "source": [
    "results[\"fiducial\"] = plot_all(\"fiducial\", y0=1e-3, y_a=1e-3, zeta_a=-1e-3)"
   ]
  },
  {
   "cell_type": "code",
   "execution_count": null,
   "id": "27",
   "metadata": {},
   "outputs": [],
   "source": [
    "results[\"analytic\"] = plot_all(\"analytic_quad\", y0=1e-3, y_a=1e-3, zeta_a=-1e-3)"
   ]
  },
  {
   "cell_type": "code",
   "execution_count": null,
   "id": "28",
   "metadata": {},
   "outputs": [],
   "source": [
    "ana = results[\"analytic\"]\n",
    "\n",
    "plot_sample({\"alpha\": 0.49, \"y0_cc\": 2.28, \"zeta_cc\": 1.50, \"A_cc\": 2.65}, ana.ah, ana.labels, label=\"mean\")\n",
    "plot_sample({\"alpha\": 0.49, \"y0_cc\": 2.28, \"zeta_cc\": 1.36, \"A_cc\": 2.65}, ana.ah, ana.labels, label=\"low z1\", linestyle=\"--\")\n",
    "plot_sample({\"alpha\": 0.49, \"y0_cc\": 2.28, \"zeta_cc\": 1.50, \"A_cc\": 2.25}, ana.ah, ana.labels, label=\"low z2\", linestyle=\"--\")\n",
    "plot_sample({\"alpha\": 0.49, \"y0_cc\": 2.28, \"zeta_cc\": 1.36, \"A_cc\": 2.25}, ana.ah, ana.labels, label=\"low z1 z2\")\n",
    "plot_sample({\"alpha\": 0.49, \"y0_cc\": 2.28, \"zeta_cc\": 1.60, \"A_cc\": 3.0}, ana.ah, ana.labels, label=\"high z1 z2\")\n",
    "plot_obs_caah(ana, color=\"black\")\n",
    "arya.Legend(-1, color_only=True)\n",
    "\n",
    "plt.xlabel(\"[Mg/H]\")\n",
    "plt.ylabel(\"[C/Mg]\")"
   ]
  },
  {
   "cell_type": "code",
   "execution_count": null,
   "id": "29",
   "metadata": {},
   "outputs": [],
   "source": [
    "ana = results[\"analytic\"]\n",
    "\n",
    "plot_sample({\"alpha\": 0.49, \"y0_cc\": 2.28, \"zeta_cc\": 1.50, \"A_cc\": 2.65}, ana.afe, ana.labels, label=\"mean\")\n",
    "plot_sample({\"alpha\": 0.49, \"y0_cc\": 2.28, \"zeta_cc\": 1.36, \"A_cc\": 2.25}, ana.afe, ana.labels, label=\"low z1 z2\")\n",
    "plot_sample({\"alpha\": 0.49, \"y0_cc\": 2.28, \"zeta_cc\": 1.60, \"A_cc\": 3.0}, ana.afe, ana.labels, label=\"high z1 z2\")\n",
    "plot_obs_caafe(ana, color=\"black\")\n",
    "arya.Legend(-1, color_only=True)\n",
    "\n",
    "plt.xlabel(\"[Mg/Fe]\")\n",
    "plt.ylabel(\"[C/Mg]\")"
   ]
  },
  {
   "cell_type": "markdown",
   "id": "30",
   "metadata": {},
   "source": [
    "The fiducial model should be exactly the same as the analytic model. The only difference is the fiducial model uses a single vice simulation instead of compositing several different in the case of the analytic. The analytic formulation makes it easier to add additional yield models, but the fiducial formulation makes exploring GCE uncertanties more efficient. In this notebook, all methods are read in and analyzed identically.."
   ]
  },
  {
   "cell_type": "markdown",
   "id": "31",
   "metadata": {},
   "source": [
    "what happens if we remove the \\[alpha/Fe\\] component of the likelihood?"
   ]
  },
  {
   "cell_type": "code",
   "execution_count": null,
   "id": "32",
   "metadata": {},
   "outputs": [],
   "source": [
    "res_bad = plot_all(\"fiducial_caah_only\", y0=1e-3, burn=1000, skip=100)"
   ]
  },
  {
   "cell_type": "code",
   "execution_count": null,
   "id": "33",
   "metadata": {},
   "outputs": [],
   "source": [
    "results[\"eta2\"] = plot_all(\"eta2\", y0=1e-3, y_a=1e-3, zeta_a=-1e-3)"
   ]
  },
  {
   "cell_type": "code",
   "execution_count": null,
   "id": "34",
   "metadata": {},
   "outputs": [],
   "source": [
    "results[\"lateburst\"] = plot_all(\"lateburst\", y0=1e-3, y_a=1e-3, zeta_a=-1e-3)"
   ]
  },
  {
   "cell_type": "code",
   "execution_count": null,
   "id": "35",
   "metadata": {},
   "outputs": [],
   "source": [
    "results[\"twoinfall\"] = plot_all(\"twoinfall\", y0=1e-3, y_a=1e-3, zeta_a=-1e-3)"
   ]
  },
  {
   "cell_type": "code",
   "execution_count": null,
   "id": "36",
   "metadata": {},
   "outputs": [],
   "source": [
    "plot_all(\"analytic_quad_m0.2\", y0=1e-3, y_a=1e-3, zeta_a=-1e-3)"
   ]
  },
  {
   "cell_type": "markdown",
   "id": "37",
   "metadata": {
    "jp-MarkdownHeadingCollapsed": true
   },
   "source": [
    "## Agb models"
   ]
  },
  {
   "cell_type": "code",
   "execution_count": null,
   "id": "38",
   "metadata": {},
   "outputs": [],
   "source": [
    "results[\"fruity\"] = plot_all(\"fruity_quad\", y0=3.229e-4, y_a=3.82e-4, zeta_a=-3.5e-4)"
   ]
  },
  {
   "cell_type": "code",
   "execution_count": null,
   "id": "39",
   "metadata": {},
   "outputs": [],
   "source": [
    "results[\"fruity_m0.5\"] = plot_all(\"fruity_mf0.5_quad\", y0=2.9e-4)"
   ]
  },
  {
   "cell_type": "code",
   "execution_count": null,
   "id": "40",
   "metadata": {},
   "outputs": [],
   "source": [
    "plt.hist(ana.samples.lp)"
   ]
  },
  {
   "cell_type": "code",
   "execution_count": null,
   "id": "41",
   "metadata": {},
   "outputs": [],
   "source": [
    "results[\"aton\"] = plot_all(\"aton_quad\", y0=0.285e-4, y_a=1.85e-4, zeta_a=-9.4e-5)"
   ]
  },
  {
   "cell_type": "code",
   "execution_count": null,
   "id": "42",
   "metadata": {},
   "outputs": [],
   "source": [
    "results[\"monash\"] = plot_all(\"monash_quad\", y0=3.444e-4, y_a=2.8e-4, zeta_a=-10.1e-4);"
   ]
  },
  {
   "cell_type": "code",
   "execution_count": null,
   "id": "43",
   "metadata": {},
   "outputs": [],
   "source": [
    "results[\"nugrid\"] = plot_all(\"nugrid_quad\", y0=10.95e-4, y_a=5.9e-4, zeta_a=-5.7e-4);"
   ]
  },
  {
   "cell_type": "markdown",
   "id": "44",
   "metadata": {},
   "source": [
    "## Surveys"
   ]
  },
  {
   "cell_type": "code",
   "execution_count": null,
   "id": "45",
   "metadata": {},
   "outputs": [],
   "source": [
    "results[\"v21\"] = plot_all(\"fiducial_vincenzo21\", y0=1e-3, y_a=1e-3, zeta_a=-1e-3)"
   ]
  },
  {
   "cell_type": "code",
   "execution_count": null,
   "id": "46",
   "metadata": {},
   "outputs": [],
   "source": [
    "results[\"gso\"] = plot_all(\"fiducial_gso\", y0=1e-3, y_a=1e-3, zeta_a=-1e-3)"
   ]
  },
  {
   "cell_type": "code",
   "execution_count": null,
   "id": "47",
   "metadata": {},
   "outputs": [],
   "source": [
    "results[\"galah\"] = plot_all(\"fiducial_galah\", y0=1e-3, y_a=1e-3, zeta_a=-1e-3)"
   ]
  },
  {
   "cell_type": "markdown",
   "id": "48",
   "metadata": {},
   "source": [
    "## Test Cases"
   ]
  },
  {
   "cell_type": "code",
   "execution_count": null,
   "id": "49",
   "metadata": {},
   "outputs": [],
   "source": [
    "test_results = {}"
   ]
  },
  {
   "cell_type": "code",
   "execution_count": null,
   "id": "50",
   "metadata": {},
   "outputs": [],
   "source": [
    "test_results[\"NUTS\"] = plot_all(\"NUTS\", test=True)"
   ]
  },
  {
   "cell_type": "code",
   "execution_count": null,
   "id": "51",
   "metadata": {},
   "outputs": [],
   "source": [
    "test_results[\"HMC\"] = plot_all(\"HMC\", test=True)"
   ]
  },
  {
   "cell_type": "code",
   "execution_count": null,
   "id": "52",
   "metadata": {},
   "outputs": [],
   "source": [
    "test_results[\"RWMH\"] = plot_all(\"RWMH\", test=True)"
   ]
  },
  {
   "cell_type": "code",
   "execution_count": null,
   "id": "53",
   "metadata": {},
   "outputs": [],
   "source": [
    "test_results[\"both_sigma\"] = plot_all(\"both_sigma\", test=True)"
   ]
  },
  {
   "cell_type": "code",
   "execution_count": null,
   "id": "54",
   "metadata": {},
   "outputs": [],
   "source": [
    "test_results[\"fine_bins\"] = plot_all(\"fine_bins\", test=True)"
   ]
  },
  {
   "cell_type": "code",
   "execution_count": null,
   "id": "55",
   "metadata": {},
   "outputs": [],
   "source": [
    "test_results[\"superfine_bins\"] = plot_all(\"superfine_bins\", test=True)"
   ]
  },
  {
   "cell_type": "code",
   "execution_count": null,
   "id": "56",
   "metadata": {},
   "outputs": [],
   "source": [
    "test_results[\"both_sigma\"] = plot_all(\"both_sigma\", test=True)"
   ]
  },
  {
   "cell_type": "code",
   "execution_count": null,
   "id": "57",
   "metadata": {},
   "outputs": [],
   "source": [
    "test_results[\"equal_num_bins\"] = plot_all(\"equal_num_bins\", test=True)"
   ]
  },
  {
   "cell_type": "code",
   "execution_count": null,
   "id": "58",
   "metadata": {},
   "outputs": [],
   "source": [
    "test_results[\"add_rand_scatter\"] = plot_all(\"add_rand_scatter\", test=True)"
   ]
  },
  {
   "cell_type": "code",
   "execution_count": null,
   "id": "59",
   "metadata": {},
   "outputs": [],
   "source": [
    "test_results[\"equalnum_fine\"] = plot_all(\"equalnum_fine\", test=True)"
   ]
  },
  {
   "cell_type": "code",
   "execution_count": null,
   "id": "60",
   "metadata": {},
   "outputs": [],
   "source": [
    "test_results[\"equal_num_bins\"] = plot_all(\"equal_num_bins\", test=True)"
   ]
  },
  {
   "cell_type": "code",
   "execution_count": null,
   "id": "61",
   "metadata": {},
   "outputs": [],
   "source": [
    "test_results[\"t_test\"] = plot_all(\"t_test\", test=True)"
   ]
  },
  {
   "cell_type": "code",
   "execution_count": null,
   "id": "62",
   "metadata": {},
   "outputs": [],
   "source": [
    "test_results[\"kstest_samples\"] = plot_all(\"ks_test\", test=True)"
   ]
  },
  {
   "cell_type": "code",
   "execution_count": null,
   "id": "63",
   "metadata": {},
   "outputs": [],
   "source": [
    "test_results[\"2s\"] = plot_all(\"both_sigma\", test=True)"
   ]
  },
  {
   "cell_type": "markdown",
   "id": "64",
   "metadata": {},
   "source": [
    "# Comparisons"
   ]
  },
  {
   "cell_type": "markdown",
   "id": "65",
   "metadata": {},
   "source": [
    "## Main comparions"
   ]
  },
  {
   "cell_type": "code",
   "execution_count": null,
   "id": "66",
   "metadata": {},
   "outputs": [],
   "source": [
    "fig = plt.figure(figsize=(3.3, 3.3))\n",
    "\n",
    "plot_corner(results[\"analytic\"], \n",
    "            fig = fig,\n",
    "            labels={\n",
    "    \"alpha\": r\"$\\alpha$\",\n",
    "    \"y0_cc\": r\"$\\zeta^{(0)}$\",\n",
    "    \"zeta_cc\": r\"$\\zeta^{(1)}$\",\n",
    "    \"A_cc\": r\"$\\zeta^{(2)}$\",},\n",
    "            labelpad=0.1,\n",
    "           )\n",
    "\n",
    "plt.savefig(\"figures/mcmc_corner.pdf\")"
   ]
  },
  {
   "cell_type": "code",
   "execution_count": null,
   "id": "67",
   "metadata": {},
   "outputs": [],
   "source": [
    "fig = plt.figure(figsize=(3.3, 3.3))\n",
    "\n",
    "plot_corner(res_bad, \n",
    "            fig = fig,\n",
    "            labels={\n",
    "    \"alpha\": r\"$\\alpha$\",\n",
    "    \"y0_cc\": r\"$\\zeta^{(0)}$\",\n",
    "    \"zeta_cc\": r\"$\\zeta^{(1)}$\",\n",
    "    \"A_cc\": r\"$\\zeta^{(2)}$\",},\n",
    "            labelpad=0.1,\n",
    "           )\n",
    "\n",
    "plt.savefig(\"figures/mcmc_corner_bad.pdf\")"
   ]
  },
  {
   "cell_type": "code",
   "execution_count": null,
   "id": "68",
   "metadata": {},
   "outputs": [],
   "source": [
    "agb_interpolator = surp.agb_interpolator.interpolator"
   ]
  },
  {
   "cell_type": "code",
   "execution_count": null,
   "id": "69",
   "metadata": {},
   "outputs": [],
   "source": [
    "y_z0 = lambda z: 1e-3\n",
    "y_z1 = np.vectorize(lambda z: -2*y_z0(z) + surp.yield_models.BiLogLin_CC(y0=0.002, zeta=0.001, y1=0)(z))\n",
    "y_z2 = np.vectorize(surp.yield_models.Quadratic_CC(y0=0, zeta=0, A=0.001, Z1=0.0016))\n",
    "\n",
    "Y_agbs = {\n",
    "    \"fruity\": agb_interpolator(\"c\"),\n",
    "    \"fruity_m0.5\": agb_interpolator(\"c\", mass_factor=0.5),\n",
    "    \"aton\": agb_interpolator(\"c\", study=\"ventura13\"),\n",
    "    \"monash\": agb_interpolator(\"c\", study=\"karakas16\"),\n",
    "    \"nugrid\": agb_interpolator(\"c\", study=\"pignatari16\"),\n",
    "    \"analytic\": surp.yield_models.C_AGB_Model(y0=1e-3, zeta=1e-3, tau_agb=1, t_D=0.15)\n",
    "}"
   ]
  },
  {
   "cell_type": "code",
   "execution_count": null,
   "id": "70",
   "metadata": {},
   "outputs": [],
   "source": [
    "results[\"fruity\"].samples"
   ]
  },
  {
   "cell_type": "code",
   "execution_count": null,
   "id": "71",
   "metadata": {},
   "outputs": [],
   "source": [
    "M_H=np.linspace(-0.5, 0.5, 1000)\n",
    "Z = gcem.MH_to_Z(M_H)\n",
    "surp.set_yields(verbose=False)\n",
    "ys_fiducial = surp.yields.calc_y(Z)\n",
    "\n",
    "Z = gcem.MH_to_Z(M_H)\n",
    "y_agbs = {}\n",
    "for key, Y_agb in Y_agbs.items():\n",
    "    print(Y_agb)\n",
    "    vice.yields.agb.settings[\"c\"] = Y_agb\n",
    "    ys_a = surp.yields.calc_y(Z, kind=\"agb\")\n",
    "    \n",
    "    y_agbs[key] = ys_a\n"
   ]
  },
  {
   "cell_type": "code",
   "execution_count": null,
   "id": "72",
   "metadata": {},
   "outputs": [],
   "source": [
    "def plot_y_tot_mean(result, ys_a, M_H=M_H, **kwargs):\n",
    "    samples = result.samples\n",
    "    Z = gcem.MH_to_Z(M_H)\n",
    "        \n",
    "    ys_z0 = y_z0(Z)\n",
    "    ys_z1 = y_z1(Z)\n",
    "    ys_z2 = y_z2(Z)\n",
    "    ymg = vice.yields.ccsne.settings[\"mg\"]\n",
    "\n",
    "    sample = samples.median()\n",
    "    yt = sample.y0_cc * ys_z0 + sample.zeta_cc * ys_z1 + sample.A_cc * ys_z2 + sample.alpha * ys_a\n",
    "    plt.plot(M_H, yt / ymg, **kwargs)\n"
   ]
  },
  {
   "cell_type": "code",
   "execution_count": null,
   "id": "73",
   "metadata": {},
   "outputs": [],
   "source": [
    "results[\"analytic\"].samples.median()"
   ]
  },
  {
   "cell_type": "code",
   "execution_count": null,
   "id": "74",
   "metadata": {},
   "outputs": [],
   "source": [
    "def plot_y_tot(result, ys_a, thin=10, M_H=M_H, color=\"black\", alpha=None):\n",
    "    samples = result.samples\n",
    "    Z = gcem.MH_to_Z(M_H)\n",
    "    if alpha is None:\n",
    "        alpha = 1 / len(samples)**(1/3) / 10\n",
    "        \n",
    "    ys_z0 = y_z0(Z)\n",
    "    ys_z1 = y_z1(Z)\n",
    "    ys_z2 = y_z2(Z)\n",
    "    ymg = vice.yields.ccsne.settings[\"mg\"]\n",
    "\n",
    "    for i, sample in samples[::thin].iterrows():\n",
    "        yt = sample.y0_cc * ys_z0 + sample.zeta_cc * ys_z1 + sample.A_cc * ys_z2 + sample.alpha * ys_a\n",
    "        plt.plot(M_H, yt / ymg, color=color, alpha=alpha, rasterized=True)\n",
    "    \n",
    "\n",
    "\n",
    "\n"
   ]
  },
  {
   "cell_type": "code",
   "execution_count": null,
   "id": "75",
   "metadata": {},
   "outputs": [],
   "source": [
    "plot_y_tot(results[\"monash\"], y_agbs[\"monash\"])"
   ]
  },
  {
   "cell_type": "code",
   "execution_count": null,
   "id": "76",
   "metadata": {},
   "outputs": [],
   "source": [
    "plot_labels = {\n",
    "    \"fruity\": r\"fruity\",\n",
    "    \"monash\": r\"monash\",\n",
    "    \"nugrid\": r\"nugrid\",\n",
    "    \"aton\": r\"aton\",\n",
    "    \"analytic\": r\"analytic\",\n",
    "    # \"eta2\": r\"$y\\rightarrow 2y$\",\n",
    "    # \"lateburst\": r\"lateburst\",\n",
    "    # \"twoinfall\": r\"twoinfall\",\n",
    "}"
   ]
  },
  {
   "cell_type": "code",
   "execution_count": null,
   "id": "77",
   "metadata": {},
   "outputs": [],
   "source": [
    "\n",
    "plt.figure()\n",
    "plot_y_tot(results[\"fruity\"], y_agbs[\"fruity\"], thin=30, alpha=0.01, color=arya.COLORS[0])\n",
    "\n",
    "for i, (key, label) in enumerate(plot_labels.items()): \n",
    "    result = results[key]\n",
    "    if key in y_agbs.keys():\n",
    "        y_agb = y_agbs[key]\n",
    "    else:\n",
    "        print(\"warning, no agb for \", key)\n",
    "        \n",
    "        y_agb = y_agbs[\"analytic\"]\n",
    "\n",
    "    \n",
    "    plot_y_tot_mean(result, y_agb, color=arya.COLORS[i], label=label, ls=[\"-\", \":\", \"--\", \"-.\"][i%4])\n",
    "    \n",
    "\n",
    "plt.xlabel(r\"$\\log Z / Z_\\odot$\")\n",
    "plt.ylabel(r\"$y_{\\rm C}$\")\n",
    "\n",
    "plt.legend()\n",
    "plt.savefig(\"figures/mcmc_y_tot.pdf\")"
   ]
  },
  {
   "cell_type": "code",
   "execution_count": null,
   "id": "78",
   "metadata": {},
   "outputs": [],
   "source": [
    "plot_labels = {\n",
    "\n",
    "    \"analytic\": r\"analytic\",\n",
    "    \"eta2\": r\"$y\\rightarrow 2y$\",\n",
    "    \"lateburst\": r\"lateburst\",\n",
    "    \"twoinfall\": r\"twoinfall\",\n",
    "}"
   ]
  },
  {
   "cell_type": "code",
   "execution_count": null,
   "id": "79",
   "metadata": {},
   "outputs": [],
   "source": [
    "\n",
    "plt.figure()\n",
    "plot_y_tot(results[\"analytic\"], y_agbs[\"analytic\"], thin=30, alpha=0.01, color=arya.COLORS[0])\n",
    "\n",
    "for i, (key, label) in enumerate(plot_labels.items()): \n",
    "    result = results[key]\n",
    "    if key in y_agbs.keys():\n",
    "        y_agb = y_agbs[key]\n",
    "    else:\n",
    "        print(\"warning, no agb for \", key)\n",
    "        \n",
    "        y_agb = y_agbs[\"analytic\"]\n",
    "\n",
    "    \n",
    "    plot_y_tot_mean(result, y_agb, color=arya.COLORS[i], label=label, ls=[\"-\", \":\", \"--\", \"-.\"][i%4])\n",
    "    \n",
    "\n",
    "plt.xlabel(r\"$\\log Z / Z_\\odot$\")\n",
    "plt.ylabel(r\"$y_{\\rm C}$\")\n",
    "\n",
    "plt.legend()\n"
   ]
  },
  {
   "cell_type": "code",
   "execution_count": null,
   "id": "80",
   "metadata": {},
   "outputs": [],
   "source": [
    "Nr = len(plot_labels)\n",
    "fig, axs = plt.subplots(Nr, 1, figsize=(3, 6), sharex=\"col\", sharey=True, gridspec_kw={\"hspace\": 0})\n",
    "\n",
    "for i, (key, label) in enumerate(plot_labels.items()): \n",
    "    result = results[key]\n",
    "    plt.sca(axs[i])\n",
    "    if key in y_agbs.keys():\n",
    "        y_agb = y_agbs[key]\n",
    "    else:\n",
    "        print(\"warning, no agb for \", key)\n",
    "        \n",
    "        y_agb = y_agbs[\"analytic\"]\n",
    "        \n",
    "    plot_y_tot(result, y_agb, thin=10, alpha=0.01)\n",
    "    \n",
    "    plt.ylabel(label)\n",
    "\n",
    "fig.supylabel(r\"$y_{\\rm C} / y_{\\rm Mg}$\")\n",
    "\n",
    "plt.xlabel(r\"$\\log Z / Z_\\odot$\")\n",
    "plt.ylim(3, 8)\n",
    "plt.tight_layout()\n",
    "plt.savefig(\"figures/mcmc_ytot.pdf\")"
   ]
  },
  {
   "cell_type": "code",
   "execution_count": null,
   "id": "81",
   "metadata": {},
   "outputs": [],
   "source": [
    "plot_labels = {\n",
    "    \"fruity\": r\"fruity\",\n",
    "    \"monash\": r\"monash\",\n",
    "    \"nugrid\": r\"nugrid\",\n",
    "    \"aton\": r\"aton\",\n",
    "    \"analytic\": r\"analytic\",\n",
    "    \"eta2\": r\"$y\\rightarrow 2y$\",\n",
    "    \"lateburst\": r\"lateburst\",\n",
    "    \"twoinfall\": r\"twoinfall\",\n",
    "}"
   ]
  },
  {
   "cell_type": "code",
   "execution_count": null,
   "id": "82",
   "metadata": {},
   "outputs": [],
   "source": [
    "def compare_param_hists(results, plot_labels, var):\n",
    "    Nr = len(plot_labels)\n",
    "    fig, axs = plt.subplots(Nr, 1, figsize=(3, 2), sharex=\"col\", gridspec_kw={\"hspace\": 0})\n",
    "    \n",
    "    for i, (key, label) in enumerate(plot_labels.items()):\n",
    "        if key == \"hline\":\n",
    "            ax = axs[i]\n",
    "            plt.sca(axs[i])\n",
    "            ax.spines[['bottom', 'top']].set_visible(False)\n",
    "            plt.axhline(0.5, color=label, linestyle=\":\")\n",
    "            ax.xaxis.set_visible(False)\n",
    "            ax.set_yticks([])\n",
    "            ax.set_yticks([], minor=True)\n",
    "            \n",
    "            continue\n",
    "    \n",
    "        color = arya.COLORS[i]\n",
    "        \n",
    "        result = results[key]\n",
    "        ax = axs[i]\n",
    "        plt.sca(axs[i])\n",
    "        ls = \"-\"\n",
    "        plt.hist(result.samples[var], histtype=\"step\", color=color, ls=ls)\n",
    "        plt.ylabel(label, rotation=0, ha=\"right\", va=\"center\")\n",
    "        \n",
    "        if Nr - 1 > i > 0:\n",
    "            ax.spines[['bottom', 'top']].set_visible(False)\n",
    "            ax.xaxis.set_visible(False)\n",
    "        elif i == 0:\n",
    "            ax.spines[['bottom']].set_visible(False)\n",
    "            ax.tick_params(axis='x',  bottom=False, which=\"both\")\n",
    "        elif i == Nr - 1:\n",
    "            ax.spines[['top']].set_visible(False)\n",
    "            ax.tick_params(axis='x',  top=False, which=\"both\")\n",
    "    \n",
    "    \n",
    "        ax.set_yticks([])\n",
    "        ax.set_yticks([], minor=True)\n",
    "    \n",
    "    \n",
    "    \n",
    "    plt.sca(axs[-1])\n",
    "    plt.xlabel(var)"
   ]
  },
  {
   "cell_type": "code",
   "execution_count": null,
   "id": "83",
   "metadata": {},
   "outputs": [],
   "source": [
    "Nr = len(plot_labels)\n",
    "fig, axs = plt.subplots(Nr, 1, figsize=(3, 2), sharex=\"col\", gridspec_kw={\"hspace\": 0})\n",
    "\n",
    "for i, (key, label) in enumerate(plot_labels.items()):\n",
    "    if key == \"hline\":\n",
    "        ax = axs[i]\n",
    "        plt.sca(axs[i])\n",
    "        ax.spines[['bottom', 'top']].set_visible(False)\n",
    "        plt.axhline(0.5, color=label, linestyle=\":\")\n",
    "        ax.xaxis.set_visible(False)\n",
    "        ax.set_yticks([])\n",
    "        ax.set_yticks([], minor=True)\n",
    "        \n",
    "        continue\n",
    "\n",
    "    if i < 4:\n",
    "        color = arya.COLORS[i]\n",
    "        ls = \"-\"\n",
    "    elif i == 4:\n",
    "        ls = \"-\"\n",
    "        color = \"k\"\n",
    "    else:\n",
    "        ls = \"--\"\n",
    "        color = \"k\"\n",
    "\n",
    "    result = results[key]\n",
    "    ax = axs[i]\n",
    "    plt.sca(axs[i])\n",
    "    plt.hist(result.samples.f_agb, histtype=\"step\", color=color, ls=ls)\n",
    "    plt.ylabel(label, rotation=0, ha=\"right\", va=\"center\")\n",
    "    \n",
    "    if Nr - 1 > i > 0:\n",
    "        ax.spines[['bottom', 'top']].set_visible(False)\n",
    "        ax.xaxis.set_visible(False)\n",
    "    elif i == 0:\n",
    "        ax.spines[['bottom']].set_visible(False)\n",
    "        ax.tick_params(axis='x',  bottom=False, which=\"both\")\n",
    "    elif i == Nr - 1:\n",
    "        ax.spines[['top']].set_visible(False)\n",
    "        ax.tick_params(axis='x',  top=False, which=\"both\")\n",
    "\n",
    "\n",
    "    ax.set_yticks([])\n",
    "    ax.set_yticks([], minor=True)\n",
    "\n",
    "\n",
    "\n",
    "plt.sca(axs[-1])\n",
    "plt.xlabel(\"f agb\")\n",
    "plt.xlim(0, 0.5)\n",
    "\n",
    "plt.tight_layout()\n",
    "plt.savefig(\"figures/mcmc_fagb.pdf\")"
   ]
  },
  {
   "cell_type": "code",
   "execution_count": null,
   "id": "84",
   "metadata": {},
   "outputs": [],
   "source": [
    "def plot_all_params(plot_labels):\n",
    "    for param in [\"f_agb\", \"y0_cc\", \"zeta_cc\", \"A_cc\"]:\n",
    "        compare_param_hists(results, plot_labels,  param)\n",
    "        plt.show()"
   ]
  },
  {
   "cell_type": "code",
   "execution_count": null,
   "id": "85",
   "metadata": {},
   "outputs": [],
   "source": [
    "plot_labels = {\n",
    "    \"fiducial\": \"subgiants\", \n",
    "    \"galah\": \"galah\",\n",
    "    \"v21\": \"v21\",\n",
    "    #\"gso\": \"gso\",\n",
    "}\n",
    "plot_all_params(plot_labels)"
   ]
  },
  {
   "cell_type": "code",
   "execution_count": null,
   "id": "86",
   "metadata": {},
   "outputs": [],
   "source": [
    "Nr = len(plot_labels)\n",
    "fig, axs = plt.subplots(Nr, 1, figsize=(3, 2), sharex=\"col\", gridspec_kw={\"hspace\": 0})\n",
    "\n",
    "for i, (key, label) in enumerate(plot_labels.items()):\n",
    "    if key == \"hline\":\n",
    "        ax = axs[i]\n",
    "        plt.sca(axs[i])\n",
    "        ax.spines[['bottom', 'top']].set_visible(False)\n",
    "        plt.axhline(0.5, color=label, linestyle=\":\")\n",
    "        ax.xaxis.set_visible(False)\n",
    "        ax.set_yticks([])\n",
    "        ax.set_yticks([], minor=True)\n",
    "        \n",
    "        continue\n",
    "\n",
    "    if i < 4:\n",
    "        color = arya.COLORS[i]\n",
    "        ls = \"-\"\n",
    "    elif i == 4:\n",
    "        ls = \"-\"\n",
    "        color = \"k\"\n",
    "    else:\n",
    "        ls = \"--\"\n",
    "        color = \"k\"\n",
    "\n",
    "    result = results[key]\n",
    "    ax = axs[i]\n",
    "    plt.sca(axs[i])\n",
    "    plt.hist(result.samples.f_agb_a, histtype=\"step\", color=color, ls=ls)\n",
    "    plt.ylabel(label, rotation=0, ha=\"right\", va=\"center\")\n",
    "    \n",
    "    if Nr - 1 > i > 0:\n",
    "        ax.spines[['bottom', 'top']].set_visible(False)\n",
    "        ax.xaxis.set_visible(False)\n",
    "    elif i == 0:\n",
    "        ax.spines[['bottom']].set_visible(False)\n",
    "        ax.tick_params(axis='x',  bottom=False, which=\"both\")\n",
    "    elif i == Nr - 1:\n",
    "        ax.spines[['top']].set_visible(False)\n",
    "        ax.tick_params(axis='x',  top=False, which=\"both\")\n",
    "\n",
    "\n",
    "    ax.set_yticks([])\n",
    "    ax.set_yticks([], minor=True)\n",
    "\n",
    "\n",
    "\n",
    "plt.sca(axs[-1])\n",
    "plt.xlabel(\"f agb\")\n",
    "plt.xlim(0, 0.5)\n",
    "\n",
    "plt.tight_layout()"
   ]
  },
  {
   "cell_type": "code",
   "execution_count": null,
   "id": "87",
   "metadata": {},
   "outputs": [],
   "source": [
    "results[\"analytic\"].samples"
   ]
  },
  {
   "cell_type": "code",
   "execution_count": null,
   "id": "88",
   "metadata": {},
   "outputs": [],
   "source": [
    "Nr = len(plot_labels)\n",
    "fig, axs = plt.subplots(Nr, 1, figsize=(3, 2), sharex=\"col\", gridspec_kw={\"hspace\": 0})\n",
    "\n",
    "for i, (key, label) in enumerate(plot_labels.items()):\n",
    "    if key == \"hline\":\n",
    "        ax = axs[i]\n",
    "        plt.sca(axs[i])\n",
    "        ax.spines[['bottom', 'top']].set_visible(False)\n",
    "        plt.axhline(0.5, color=label, linestyle=\":\")\n",
    "        ax.xaxis.set_visible(False)\n",
    "        ax.set_yticks([])\n",
    "        ax.set_yticks([], minor=True)\n",
    "        \n",
    "        continue\n",
    "\n",
    "    if i < 4:\n",
    "        color = arya.COLORS[i]\n",
    "        ls = \"-\"\n",
    "    elif i == 4:\n",
    "        ls = \"-\"\n",
    "        color = \"k\"\n",
    "    else:\n",
    "        ls = \"--\"\n",
    "        color = \"k\"\n",
    "\n",
    "    result = results[key]\n",
    "    ax = axs[i]\n",
    "    plt.sca(axs[i])\n",
    "    plt.hist(result.samples.zeta1_a, histtype=\"step\", color=color, ls=ls)\n",
    "    plt.ylabel(label, rotation=0, ha=\"right\", va=\"center\", color=color)\n",
    "    \n",
    "    if Nr - 1 > i > 0:\n",
    "        ax.spines[['bottom', 'top']].set_visible(False)\n",
    "        ax.xaxis.set_visible(False)\n",
    "    elif i == 0:\n",
    "        ax.spines[['bottom']].set_visible(False)\n",
    "        ax.tick_params(axis='x',  bottom=False, which=\"both\")\n",
    "    elif i == Nr - 1:\n",
    "        ax.spines[['top']].set_visible(False)\n",
    "        ax.tick_params(axis='x',  top=False, which=\"both\")\n",
    "\n",
    "\n",
    "    ax.set_yticks([])\n",
    "    ax.set_yticks([], minor=True)\n",
    "\n",
    "\n",
    "\n",
    "plt.sca(axs[-1])\n",
    "plt.xlabel(\"zeta1\")\n",
    "\n",
    "plt.tight_layout()"
   ]
  },
  {
   "cell_type": "code",
   "execution_count": null,
   "id": "89",
   "metadata": {},
   "outputs": [],
   "source": [
    "Nr = len(plot_labels)\n",
    "fig, axs = plt.subplots(Nr, 1, figsize=(3, 2), sharex=\"col\", gridspec_kw={\"hspace\": 0})\n",
    "\n",
    "for i, (key, label) in enumerate(plot_labels.items()):\n",
    "    if key == \"hline\":\n",
    "        ax = axs[i]\n",
    "        plt.sca(axs[i])\n",
    "        ax.spines[['bottom', 'top']].set_visible(False)\n",
    "        plt.axhline(0.5, color=label, linestyle=\":\")\n",
    "        ax.xaxis.set_visible(False)\n",
    "        ax.set_yticks([])\n",
    "        ax.set_yticks([], minor=True)\n",
    "        \n",
    "        continue\n",
    "\n",
    "    if i < 4:\n",
    "        color = arya.COLORS[i]\n",
    "        ls = \"-\"\n",
    "    elif i == 4:\n",
    "        ls = \"-\"\n",
    "        color = \"k\"\n",
    "    else:\n",
    "        ls = \"--\"\n",
    "        color = \"k\"\n",
    "\n",
    "    result = results[key]\n",
    "    ax = axs[i]\n",
    "    plt.sca(axs[i])\n",
    "    y_mg = vice.yields.ccsne.settings[\"mg\"]\n",
    "    plt.hist(result.samples.y_tot / y_mg, histtype=\"step\", color=color, ls=ls)\n",
    "    plt.ylabel(label, rotation=0, ha=\"right\", va=\"center\")\n",
    "    \n",
    "    if Nr - 1 > i > 0:\n",
    "        ax.spines[['bottom', 'top']].set_visible(False)\n",
    "        ax.xaxis.set_visible(False)\n",
    "    elif i == 0:\n",
    "        ax.spines[['bottom']].set_visible(False)\n",
    "        ax.tick_params(axis='x',  bottom=False, which=\"both\")\n",
    "    elif i == Nr - 1:\n",
    "        ax.spines[['top']].set_visible(False)\n",
    "        ax.tick_params(axis='x',  top=False, which=\"both\")\n",
    "\n",
    "\n",
    "    ax.set_yticks([])\n",
    "    ax.set_yticks([], minor=True)\n",
    "\n",
    "\n",
    "\n",
    "plt.sca(axs[-1])\n",
    "plt.xlabel(\"y0 / ymg\")\n",
    "\n",
    "plt.tight_layout()\n"
   ]
  },
  {
   "cell_type": "code",
   "execution_count": null,
   "id": "90",
   "metadata": {},
   "outputs": [],
   "source": [
    "Nr = len(plot_labels)\n",
    "fig, axs = plt.subplots(Nr, 1, figsize=(3, 2), sharex=\"col\", gridspec_kw={\"hspace\": 0})\n",
    "\n",
    "for i, (key, label) in enumerate(plot_labels.items()):\n",
    "    if key == \"hline\":\n",
    "        ax = axs[i]\n",
    "        plt.sca(axs[i])\n",
    "        ax.spines[['bottom', 'top']].set_visible(False)\n",
    "        plt.axhline(0.5, color=label, linestyle=\":\")\n",
    "        ax.xaxis.set_visible(False)\n",
    "        ax.set_yticks([])\n",
    "        ax.set_yticks([], minor=True)\n",
    "        \n",
    "        continue\n",
    "\n",
    "    if i < 4:\n",
    "        color = arya.COLORS[i]\n",
    "        ls = \"-\"\n",
    "    elif i == 4:\n",
    "        ls = \"-\"\n",
    "        color = \"k\"\n",
    "    else:\n",
    "        ls = \"--\"\n",
    "        color = \"k\"\n",
    "\n",
    "    result = results[key]\n",
    "    ax = axs[i]\n",
    "    plt.sca(axs[i])\n",
    "    y_mg = vice.yields.ccsne.settings[\"mg\"]\n",
    "    plt.hist(result.samples.y_tot_a / y_mg, histtype=\"step\", color=color, ls=ls)\n",
    "    plt.ylabel(label, rotation=0, ha=\"right\", va=\"center\")\n",
    "    \n",
    "    if Nr - 1 > i > 0:\n",
    "        ax.spines[['bottom', 'top']].set_visible(False)\n",
    "        ax.xaxis.set_visible(False)\n",
    "    elif i == 0:\n",
    "        ax.spines[['bottom']].set_visible(False)\n",
    "        ax.tick_params(axis='x',  bottom=False, which=\"both\")\n",
    "    elif i == Nr - 1:\n",
    "        ax.spines[['top']].set_visible(False)\n",
    "        ax.tick_params(axis='x',  top=False, which=\"both\")\n",
    "\n",
    "\n",
    "    ax.set_yticks([])\n",
    "    ax.set_yticks([], minor=True)\n",
    "\n",
    "\n",
    "\n",
    "plt.sca(axs[-1])\n",
    "plt.xlabel(\"y0 / ymg\")\n",
    "\n",
    "plt.tight_layout()"
   ]
  },
  {
   "cell_type": "code",
   "execution_count": null,
   "id": "91",
   "metadata": {},
   "outputs": [],
   "source": [
    "plot_labels = {\n",
    "    \"fruity\": r\"fruity\",\n",
    "    \"monash\": r\"monash\",\n",
    "    \"nugrid\": r\"nugrid\",\n",
    "    \"aton\": r\"aton\",\n",
    "    \"analytic\": r\"analytic\",\n",
    "}"
   ]
  },
  {
   "cell_type": "code",
   "execution_count": null,
   "id": "92",
   "metadata": {},
   "outputs": [],
   "source": [
    "\n",
    "fig, axs = plt.subplots(1, 2, figsize=(7, 3), sharex=\"col\", sharey=True,  gridspec_kw={\"wspace\": 0, \"hspace\": 0})\n",
    "\n",
    "plt.sca(axs[0])\n",
    "plot_samples_caah(results[\"fruity\"], color=arya.COLORS[0], alpha=0.01, skip=30)\n",
    "for i, (key, label) in enumerate(plot_labels.items()):\n",
    "    plot_samples_caah_mean(results[key], label=label, color=arya.COLORS[i])\n",
    "\n",
    "\n",
    "plot_obs_caah(results[\"analytic\"], color=\"black\")\n",
    "\n",
    "\n",
    "plt.sca(axs[1])\n",
    "plot_samples_caafe(results[\"fruity\"], color=arya.COLORS[0], alpha=0.01, skip=30)\n",
    "\n",
    "for key, label in plot_labels.items():\n",
    "    plot_samples_caafe_mean(results[key], label=label)\n",
    "plot_obs_caafe(results[\"analytic\"], color=\"k\")\n",
    "plt.ylabel(\"\")\n",
    "plt.legend()\n",
    "plt.savefig(\"figures/mcmc_caahfe_predicted.pdf\")"
   ]
  },
  {
   "cell_type": "code",
   "execution_count": null,
   "id": "93",
   "metadata": {},
   "outputs": [],
   "source": [
    "results[\"galah\"].afe"
   ]
  },
  {
   "cell_type": "code",
   "execution_count": null,
   "id": "94",
   "metadata": {},
   "outputs": [],
   "source": [
    "plot_labels = {\n",
    "    \"fiducial\": \"subgiants\", \n",
    "    \"galah\": \"galah\",\n",
    "    \"v21\": \"v21\",\n",
    "}\n",
    "\n",
    "\n",
    "fig, axs = plt.subplots(1, 2, figsize=(7, 3), sharex=\"col\", sharey=True,  gridspec_kw={\"wspace\": 0, \"hspace\": 0})\n",
    "\n",
    "plt.sca(axs[0])\n",
    "plot_samples_caah(results[\"fiducial\"], color=arya.COLORS[0], alpha=0.01, skip=30)\n",
    "for i, (key, label) in enumerate(plot_labels.items()):\n",
    "    plot_samples_caah_mean(results[key], label=label, color=arya.COLORS[i])\n",
    "\n",
    "\n",
    "\n",
    "\n",
    "plt.sca(axs[1])\n",
    "plot_samples_caafe(results[\"fiducial\"], color=arya.COLORS[0], alpha=0.01, skip=30)\n",
    "\n",
    "for key, label in plot_labels.items():\n",
    "    plot_samples_caafe_mean(results[key], label=label)\n",
    "#plot_obs_caafe(results[\"analytic\"], color=\"k\")\n",
    "plt.ylabel(\"\")\n",
    "plt.legend()\n"
   ]
  },
  {
   "cell_type": "code",
   "execution_count": null,
   "id": "95",
   "metadata": {},
   "outputs": [],
   "source": [
    "Nr = len(plot_labels)\n",
    "fig, axs = plt.subplots(Nr, 2, figsize=(6, 9), sharex=\"col\", sharey=True, gridspec_kw={\"hspace\": 0, \"wspace\": 0})\n",
    "\n",
    "for i, (key, label) in enumerate(plot_labels.items()):\n",
    "    ax = axs[i]\n",
    "    plt.sca(axs[i][0])\n",
    "    \n",
    "    if key == \"hline\":\n",
    "        continue\n",
    "\n",
    "    result = results[key]\n",
    "    \n",
    "    plot_samples_caah(result)\n",
    "    plt.ylabel(label, rotation=0, ha=\"right\", va=\"center\")\n",
    "\n",
    "\n",
    "    plt.sca(axs[i][1])\n",
    "    plot_samples_caafe(result)\n",
    "    plt.ylabel(\"\")\n",
    "\n",
    "    \n",
    "\n",
    "plt.yticks([-0.05, -0.10, -0.15, -0.20])\n",
    "plt.ylim(-0.2, 0)\n",
    "\n",
    "fig.supylabel(\"[C/Mg]\")\n",
    "plt.tight_layout()\n"
   ]
  },
  {
   "cell_type": "code",
   "execution_count": null,
   "id": "96",
   "metadata": {},
   "outputs": [],
   "source": [
    "results[\"analytic\"].labels"
   ]
  },
  {
   "cell_type": "markdown",
   "id": "97",
   "metadata": {
    "jp-MarkdownHeadingCollapsed": true
   },
   "source": [
    "## Tabulated properties"
   ]
  },
  {
   "cell_type": "code",
   "execution_count": null,
   "id": "98",
   "metadata": {},
   "outputs": [],
   "source": [
    "def calc_χ2(result, median=False, normalized=False):\n",
    "\n",
    "    if median:\n",
    "        samples = result.samples.median()\n",
    "    else:\n",
    "        samples = result.samples\n",
    "        \n",
    "    chi2_ah = calc_χ2_binned(result.ah, samples, result.labels)\n",
    "    chi2_afe = calc_χ2_binned(result.afe, samples, result.labels)\n",
    "\n",
    "    df = (len(result.ah) + len(result.afe)) - len(result.labels)\n",
    "    if normalized:\n",
    "        return (chi2_ah + chi2_afe) / df\n",
    "    else:\n",
    "        return (chi2_ah + chi2_afe) \n",
    "        "
   ]
  },
  {
   "cell_type": "code",
   "execution_count": null,
   "id": "99",
   "metadata": {},
   "outputs": [],
   "source": [
    "calc_χ2_binned(ana.ah, ana.samples, result.labels)"
   ]
  },
  {
   "cell_type": "code",
   "execution_count": null,
   "id": "100",
   "metadata": {},
   "outputs": [],
   "source": [
    "def calc_χ2_binned(binned_data, samples, labels):\n",
    "\n",
    "    y_exp = binned_data.obs\n",
    "    sigma2_exp = binned_data.obs_err**2 / (binned_data.obs_counts)\n",
    "\n",
    "    χ2 = 0\n",
    "    for i in range(len(y_exp)):\n",
    "        y_tot = np.sum([binned_data[label][i] * samples[label] for label in labels], axis=0)\n",
    "        sigma2_err = np.sum([binned_data[f\"{label}_err\"][i]**2 * samples[label] / binned_data[\"_counts\"][i] for label in labels], axis=0)\n",
    "        χ2 += (y_exp[i] - y_tot)**2  / (sigma2_exp[i] + sigma2_err)\n",
    "    \n",
    "    return  χ2\n",
    "    "
   ]
  },
  {
   "cell_type": "code",
   "execution_count": null,
   "id": "101",
   "metadata": {},
   "outputs": [],
   "source": [
    "calc_χ2(ana, median=True)"
   ]
  },
  {
   "cell_type": "code",
   "execution_count": null,
   "id": "102",
   "metadata": {},
   "outputs": [],
   "source": [
    "\n",
    "chi2s = []\n",
    "lps = []\n",
    "for label, result in results.items():\n",
    "    χ2 = -calc_χ2(result, median=True, normalized=False)/5 + 10\n",
    "    lp = np.quantile(result.samples.lp, 0.2)\n",
    "    chi2s.append(χ2)\n",
    "    lps.append(lp)\n",
    "\n",
    "plt.scatter(chi2s, np.array(lps))\n"
   ]
  },
  {
   "cell_type": "code",
   "execution_count": null,
   "id": "103",
   "metadata": {},
   "outputs": [],
   "source": [
    "\n",
    "for label, result in results.items():\n",
    "    χ2 = calc_χ2(result, median=False, normalized=True)\n",
    "    lp = np.quantile(result.samples.lp, 0.95)\n",
    "\n",
    "    m = np.median(χ2)\n",
    "    l, u= np.quantile(χ2, [0.16, 0.84])\n",
    "\n",
    "    χ2_median = calc_χ2(result, median=True, normalized=True)\n",
    "    \n",
    "    print(f\"{label:16}{χ2_median:8.2f} {m:8.2f} -{m-l:8.2f} +{u-m:8.2f}\")\n",
    "\n",
    "    plt.hist(χ2, label=label, histtype=\"step\")\n",
    "\n",
    "plt.xlabel(r\"$\\bar\\chi^2$\")\n",
    "arya.Legend(-1)"
   ]
  },
  {
   "cell_type": "code",
   "execution_count": null,
   "id": "104",
   "metadata": {},
   "outputs": [],
   "source": [
    "keys = ana.labels + [\"f_agb_a\", \"y_tot_a\", \"zeta1_a\"]\n",
    "latex_table = \"\"\n",
    "\n",
    "print(f\"{'model':16} & $\\\\chi2$  & $\\\\log p$ & \" + \" & \".join(keys) + r\"\\\\\")\n",
    "print(\"\\\\hline\\\\\\\\\")\n",
    "for label, result in results.items():\n",
    "    χ2 = calc_χ2(result, median=True, normalized=True)\n",
    "    lp = np.max(result.samples.lp)\n",
    "\n",
    "    \n",
    "    # Add the row for χ2 and lp\n",
    "    latex_table += f\"{label:16} & {χ2:8.1f} & {lp:8.2f} & \"\n",
    "\n",
    "    # Extract parameter values and uncertainties\n",
    "    parameter_lines = []\n",
    "    for key in keys:\n",
    "        if key in [\"y_tot_a\", \"zeta1_a\"]:\n",
    "            x = result.samples[key] /vice.yields.ccsne.settings[\"mg\"]\n",
    "        else:\n",
    "            x = result.samples[key]\n",
    "        median = np.median(x)\n",
    "        lower, upper = np.quantile(x, [0.16, 0.84])\n",
    "        uncertainty = (upper - median, median - lower)  # Asymmetric uncertainties\n",
    "        formatted_value = f\"${median:.2f}^{{+{uncertainty[0]:.2f}}}_{{-{uncertainty[1]:.2f}}}$\"\n",
    "        parameter_lines.append(f\"{formatted_value}\")\n",
    "        \n",
    "    latex_table += \"  &  \".join(parameter_lines)\n",
    "    latex_table += \"\\\\\\\\ \\n\"\n",
    "\n",
    "print(latex_table)"
   ]
  },
  {
   "cell_type": "markdown",
   "id": "105",
   "metadata": {},
   "source": [
    "## Test comparisons"
   ]
  },
  {
   "cell_type": "code",
   "execution_count": null,
   "id": "106",
   "metadata": {},
   "outputs": [],
   "source": [
    "def plot_all_params(plot_labels):\n",
    "    for param in [\"alpha\", \"zeta0\", \"zeta1\", \"zeta2\"]:\n",
    "        compare_param_hists(test_results, plot_labels,  param)\n",
    "        plt.show()"
   ]
  },
  {
   "cell_type": "code",
   "execution_count": null,
   "id": "107",
   "metadata": {},
   "outputs": [],
   "source": [
    "plot_labels = {\n",
    "    \"NUTS\": \"NUTS\", \n",
    "    \"HMC\": \"HMC\",\n",
    "    \"RWMH\": \"RWMH\",\n",
    "    \"add_rand_scatter\": \"syn scatter\",\n",
    "}"
   ]
  },
  {
   "cell_type": "code",
   "execution_count": null,
   "id": "108",
   "metadata": {},
   "outputs": [],
   "source": [
    "plot_all_params(plot_labels)"
   ]
  },
  {
   "cell_type": "code",
   "execution_count": null,
   "id": "109",
   "metadata": {},
   "outputs": [],
   "source": [
    "plot_labels = {\n",
    "    \"NUTS\": \"fiducial\", \n",
    "    \"fine_bins\": \"fine_bins\",\n",
    "    \"superfine_bins\": \"superfine_bins\",\n",
    "    \"equal_num_bins\": \"equal number\",\n",
    "    \"equalnum_fine\": \"equal number fine\",\n",
    "}"
   ]
  },
  {
   "cell_type": "code",
   "execution_count": null,
   "id": "110",
   "metadata": {},
   "outputs": [],
   "source": [
    "plot_all_params(plot_labels)"
   ]
  },
  {
   "cell_type": "code",
   "execution_count": null,
   "id": "111",
   "metadata": {},
   "outputs": [],
   "source": [
    "plot_labels = {\n",
    "    \"NUTS\": \"fiducial\", \n",
    "    \"t_test\": \"t test\",\n",
    "    \"2s\": \"both uncertanties\",\n",
    "}"
   ]
  },
  {
   "cell_type": "code",
   "execution_count": null,
   "id": "112",
   "metadata": {},
   "outputs": [],
   "source": [
    "plot_all_params(plot_labels)"
   ]
  },
  {
   "cell_type": "markdown",
   "id": "113",
   "metadata": {},
   "source": [
    "# Validation"
   ]
  },
  {
   "cell_type": "code",
   "execution_count": null,
   "id": "114",
   "metadata": {},
   "outputs": [],
   "source": [
    "result = MCMCResult.from_file(\"analytic_quad\")"
   ]
  },
  {
   "cell_type": "code",
   "execution_count": null,
   "id": "115",
   "metadata": {},
   "outputs": [],
   "source": [
    "np.median(result.samples, axis=0)"
   ]
  },
  {
   "cell_type": "code",
   "execution_count": null,
   "id": "116",
   "metadata": {},
   "outputs": [],
   "source": [
    "\n",
    "df = mz_stars[~mz_stars.high_alpha]\n",
    "\n",
    "mg_h_bins = np.arange(-0.5, 0.31, 0.1)\n",
    "\n",
    "bin_mids = (mg_h_bins[1:] + mg_h_bins[:-1])/2\n",
    "ss = binned_statistic(df.MG_H, df.C_MG, bins=mg_h_bins, statistic=\"mean\").statistic\n",
    "se = binned_statistic(df.MG_H, df.C_MG, bins=mg_h_bins, statistic=\"std\").statistic"
   ]
  },
  {
   "cell_type": "code",
   "execution_count": null,
   "id": "117",
   "metadata": {},
   "outputs": [],
   "source": [
    "plot_samples_caah(result)\n",
    "\n",
    "plt.errorbar(bin_mids, ss, yerr=se, fmt=\"o\")"
   ]
  },
  {
   "cell_type": "code",
   "execution_count": null,
   "id": "118",
   "metadata": {},
   "outputs": [],
   "source": [
    "\n",
    "df = mz_stars[(mz_stars.MG_H > -0.15 ) & (mz_stars.MG_H < -0.05)]\n",
    "\n",
    "mg_h_bins = np.arange(0, 0.31, 0.05)\n",
    "\n",
    "bin_mids = (mg_h_bins[1:] + mg_h_bins[:-1])/2\n",
    "ss = binned_statistic(df.MG_FE, df.C_MG, bins=mg_h_bins, statistic=\"mean\").statistic\n",
    "se = binned_statistic(df.MG_FE, df.C_MG, bins=mg_h_bins, statistic=\"std\").statistic"
   ]
  },
  {
   "cell_type": "code",
   "execution_count": null,
   "id": "119",
   "metadata": {},
   "outputs": [],
   "source": [
    "plot_samples_caafe(result)\n",
    "\n",
    "plt.errorbar(bin_mids, ss, yerr=se, fmt=\"o\")"
   ]
  }
 ],
 "metadata": {
  "kernelspec": {
   "display_name": "Python 3 (ipykernel)",
   "language": "python",
   "name": "python3"
  },
  "language_info": {
   "codemirror_mode": {
    "name": "ipython",
    "version": 3
   },
   "file_extension": ".py",
   "mimetype": "text/x-python",
   "name": "python",
   "nbconvert_exporter": "python",
   "pygments_lexer": "ipython3",
   "version": "3.11.9"
  }
 },
 "nbformat": 4,
 "nbformat_minor": 5
}
