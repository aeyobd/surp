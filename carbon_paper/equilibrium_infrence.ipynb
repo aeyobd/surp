{
 "cells": [
  {
   "cell_type": "code",
   "execution_count": 1,
   "id": "4cd6e46f",
   "metadata": {},
   "outputs": [],
   "source": [
    "%load_ext autoreload\n",
    "%autoreload 2"
   ]
  },
  {
   "cell_type": "code",
   "execution_count": 2,
   "id": "cabc1c7d",
   "metadata": {},
   "outputs": [],
   "source": [
    "import numpy as np\n",
    "import pandas as pd\n",
    "\n",
    "from matplotlib import pyplot as plt\n",
    "import matplotlib as mpl\n",
    "from scipy.optimize import curve_fit\n",
    "from scipy.stats import binned_statistic"
   ]
  },
  {
   "cell_type": "code",
   "execution_count": 3,
   "id": "6a7c5f86-f322-4a99-8a5e-ecf5c44f7dc3",
   "metadata": {},
   "outputs": [
    {
     "name": "stderr",
     "output_type": "stream",
     "text": [
      "/astro/dboyea/.local/lib/python3.11/site-packages/vice/__init__.py:141: UserWarning: Using un-released version of VICE\n",
      "  warnings.warn(\"Using un-released version of VICE\", UserWarning)\n"
     ]
    }
   ],
   "source": [
    "import vice\n",
    "\n",
    "from surp import subgiants\n",
    "from surp import gce_math as gcem\n",
    "from surp.gce_math import MH_to_Z, Z_to_MH, Z_SUN\n",
    "import surp\n",
    "\n",
    "import arya"
   ]
  },
  {
   "cell_type": "code",
   "execution_count": 4,
   "id": "bd9bb5ee-8a33-421d-b828-29ed774aca00",
   "metadata": {},
   "outputs": [],
   "source": [
    "from scipy.stats import t, norm\n"
   ]
  },
  {
   "cell_type": "code",
   "execution_count": 5,
   "id": "dfc2ecf9-2e22-4160-a3bf-72d95ef7b4b7",
   "metadata": {},
   "outputs": [],
   "source": [
    "arya.style.set_size((4, 2*np.sqrt(2)))"
   ]
  },
  {
   "cell_type": "code",
   "execution_count": 6,
   "id": "a33bb3c7-b9b2-445e-9868-f90bc672f6c8",
   "metadata": {},
   "outputs": [
    {
     "name": "stdout",
     "output_type": "stream",
     "text": [
      "yields set to Magg et al. 2022 abundances\n",
      "Yield settings\n",
      "X        Z_solar    CC                             agb                            SN Ia                          \n",
      "\n",
      "c        3.39e-03   3.69e-03 MH^2 + 1.96e-03 MH +  1.45 × cristallo11             0.00e+00                       \n",
      "                    2.20e-03                                                                                     \n",
      "\n",
      "n        1.04e-03   5.00e-04                       5.02e-04 M Z/Z0                0                              \n",
      "\n",
      "o        7.33e-03   7.13e-03                       0                              0                              \n",
      "\n",
      "mg       6.71e-04   6.52e-04                       0                              0                              \n",
      "\n",
      "fe       1.37e-03   4.73e-04                       0                              7.70e-04                       \n",
      "\n",
      "\n",
      "\n"
     ]
    }
   ],
   "source": [
    "surp.set_yields()"
   ]
  },
  {
   "cell_type": "code",
   "execution_count": 7,
   "id": "c9b9cf20-fe46-4a42-81ae-055b9ea1aa7b",
   "metadata": {},
   "outputs": [],
   "source": [
    "# all_abundances = pd.read_csv(\"data_analysis/all_data.csv\")\n",
    "# stars = pd.read_csv(\"../data/amarsi_19.tsv\", delimiter=\"\\t *\", comment=\"#\", skiprows=[62, 63], engine=\"python\")\n",
    "# stars[\"C_MG\"] =  stars[\"[C/H]3N\"] - stars[\"[O/H]3N\"]\n",
    "# stars[\"MG_H\"] =  stars[\"[O/H]3N\"]\n",
    "# stars[\"C_MG_ERR\"] = stars[\"e_[C/H]3N\"] + stars[\"e_[O/H]3N\"]\n",
    "\n",
    "# df_stars = stars[[\"C_MG\", \"MG_H\", \"C_MG_ERR\"]]\n",
    "\n",
    "# all_abundances[\"C_MG\"] = all_abundances[\"[c/o]\"]\n",
    "# all_abundances[\"MG_H\"] = all_abundances[\"[o/h]\"]\n",
    "# all_abundances[\"C_MG_ERR\"] = all_abundances[\"[c/o]_err\"]\n",
    "\n",
    "# stars_all = all_abundances[[\"C_MG\", \"MG_H\", \"C_MG_ERR\"]][(~np.isnan(all_abundances.C_MG)) & (all_abundances.type == \"star\")]\n",
    "# RL_all = all_abundances[[\"C_MG\", \"MG_H\", \"C_MG_ERR\"]][(~np.isnan(all_abundances.C_MG)) & (all_abundances.type == \"RL\")]\n",
    "# DLA_all = all_abundances[[\"C_MG\", \"MG_H\", \"C_MG_ERR\"]][(~np.isnan(all_abundances.C_MG)) & (all_abundances.type == \"DLA\")]\n",
    "# dwarf_all = all_abundances[[\"C_MG\", \"MG_H\", \"C_MG_ERR\"]][(~np.isnan(all_abundances.C_MG)) & (all_abundances.type == \"dwarf\")]"
   ]
  },
  {
   "cell_type": "code",
   "execution_count": 8,
   "id": "7f477f86-5498-4e79-9176-618120b842aa",
   "metadata": {},
   "outputs": [],
   "source": [
    "# stars_x_obs = stars.MG_H\n",
    "# stars_y_obs = stars.C_MG\n",
    "# all_x_obs = all_abundances.MG_H\n",
    "# all_y_obs = all_abundances.C_MG"
   ]
  },
  {
   "cell_type": "code",
   "execution_count": 9,
   "id": "e38e096e-2888-405a-b9e3-9d129c8e37e1",
   "metadata": {},
   "outputs": [],
   "source": [
    "\n",
    "filt = ~subgiants.high_alpha.values\n",
    "df = subgiants[filt]\n",
    "\n",
    "bins = np.quantile(df.MG_H, np.linspace(0, 1, 20))\n",
    "\n",
    "counts = binned_statistic(df.MG_H, df.C_MG, bins=bins, statistic='count')[0]\n",
    "\n",
    "ym = binned_statistic(df.MG_H, df.C_MG, bins=bins, statistic='median')[0]\n",
    "yl = binned_statistic(df.MG_H, df.C_MG, bins=bins, statistic=lambda x: np.percentile(x, 16))[0]\n",
    "yh = binned_statistic(df.MG_H, df.C_MG, bins=bins, statistic=lambda x: np.percentile(x, 84))[0]\n",
    "ym_err = binned_statistic(df.MG_H, df.C_MG_ERR, bins=bins, statistic='mean')[0]\n",
    "\n",
    "\n",
    "xm = binned_statistic(df.MG_H, df.MG_H, bins=bins, statistic='median')[0]\n",
    "xl = binned_statistic(df.MG_H, df.MG_H, bins=bins, statistic=lambda x: np.percentile(x, 16))[0]\n",
    "xh = binned_statistic(df.MG_H, df.MG_H, bins=bins, statistic=lambda x: np.percentile(x, 84))[0]\n",
    "xm_err = binned_statistic(df.MG_H, df.MG_H_ERR, bins=bins, statistic='mean')[0]"
   ]
  },
  {
   "cell_type": "code",
   "execution_count": 11,
   "id": "f382b403-7b30-46aa-aea2-4446bd172cc4",
   "metadata": {},
   "outputs": [],
   "source": [
    "yym = gcem.brak_to_abund_ratio(ym, \"c\", \"mg\")\n",
    "yyl = gcem.brak_to_abund_ratio(yl - ym_err, \"c\", \"mg\")\n",
    "yyh = gcem.brak_to_abund_ratio(yh + ym_err, \"c\", \"mg\")\n",
    "yym_err = (yyh - yyl) / 2 / np.sqrt(counts)\n",
    "\n",
    "x_err = (xh - xl)/ 2 / np.sqrt(counts)"
   ]
  },
  {
   "cell_type": "code",
   "execution_count": 12,
   "id": "a08439c4-36dc-4687-9d39-4a62cb6b1a7a",
   "metadata": {},
   "outputs": [],
   "source": [
    "obs = (xm, yym, x_err, yym_err)"
   ]
  },
  {
   "cell_type": "code",
   "execution_count": 13,
   "id": "ee444783-c7a9-4d9d-81d5-c9a393eee8d2",
   "metadata": {},
   "outputs": [],
   "source": [
    "def plot_obs():\n",
    "    plt.errorbar(xm, yym, yerr=yym_err, xerr=x_err,  fmt=\".\", capsize=0)"
   ]
  },
  {
   "cell_type": "code",
   "execution_count": 14,
   "id": "713f9baa-f427-4852-92c1-776ffcef46b6",
   "metadata": {},
   "outputs": [
    {
     "ename": "TypeError",
     "evalue": "brak_to_abund() takes 2 positional arguments but 3 were given",
     "output_type": "error",
     "traceback": [
      "\u001b[0;31m---------------------------------------------------------------------------\u001b[0m",
      "\u001b[0;31mTypeError\u001b[0m                                 Traceback (most recent call last)",
      "Cell \u001b[0;32mIn[14], line 1\u001b[0m\n\u001b[0;32m----> 1\u001b[0m plt\u001b[38;5;241m.\u001b[39mhist2d(df\u001b[38;5;241m.\u001b[39mMG_H, \u001b[43mgcem\u001b[49m\u001b[38;5;241;43m.\u001b[39;49m\u001b[43mbrak_to_abund\u001b[49m\u001b[43m(\u001b[49m\u001b[43mdf\u001b[49m\u001b[38;5;241;43m.\u001b[39;49m\u001b[43mC_MG\u001b[49m\u001b[43m,\u001b[49m\u001b[43m \u001b[49m\u001b[38;5;124;43m\"\u001b[39;49m\u001b[38;5;124;43mc\u001b[39;49m\u001b[38;5;124;43m\"\u001b[39;49m\u001b[43m,\u001b[49m\u001b[43m \u001b[49m\u001b[38;5;124;43m\"\u001b[39;49m\u001b[38;5;124;43mmg\u001b[39;49m\u001b[38;5;124;43m\"\u001b[39;49m\u001b[43m)\u001b[49m, \u001b[38;5;241m50\u001b[39m, \u001b[38;5;28mrange\u001b[39m\u001b[38;5;241m=\u001b[39m([\u001b[38;5;241m-\u001b[39m\u001b[38;5;241m0.7\u001b[39m, \u001b[38;5;241m0.7\u001b[39m], [\u001b[38;5;241m3\u001b[39m, \u001b[38;5;241m6\u001b[39m]), cmap\u001b[38;5;241m=\u001b[39m\u001b[38;5;124m\"\u001b[39m\u001b[38;5;124mGreys\u001b[39m\u001b[38;5;124m\"\u001b[39m)\n\u001b[1;32m      2\u001b[0m plot_obs()\n",
      "File \u001b[0;32m/arc7/home/dboyea/surp/surp/utils.py:107\u001b[0m, in \u001b[0;36marg_numpylike.<locals>.decorator.<locals>.wrapper\u001b[0;34m(*args, **kwargs)\u001b[0m\n\u001b[1;32m    104\u001b[0m \u001b[38;5;28;01mif\u001b[39;00m \u001b[38;5;28mlen\u001b[39m(args) \u001b[38;5;241m>\u001b[39m arg:\n\u001b[1;32m    105\u001b[0m     new_args[arg] \u001b[38;5;241m=\u001b[39m np\u001b[38;5;241m.\u001b[39marray(args[arg])\n\u001b[0;32m--> 107\u001b[0m \u001b[38;5;28;01mreturn\u001b[39;00m \u001b[43mfunc\u001b[49m\u001b[43m(\u001b[49m\u001b[38;5;241;43m*\u001b[39;49m\u001b[43mnew_args\u001b[49m\u001b[43m,\u001b[49m\u001b[43m \u001b[49m\u001b[38;5;241;43m*\u001b[39;49m\u001b[38;5;241;43m*\u001b[39;49m\u001b[43mkwargs\u001b[49m\u001b[43m)\u001b[49m\n",
      "\u001b[0;31mTypeError\u001b[0m: brak_to_abund() takes 2 positional arguments but 3 were given"
     ]
    }
   ],
   "source": [
    "plt.hist2d(df.MG_H, gcem.brak_to_abund(df.C_MG, \"c\", \"mg\"), 50, range=([-0.7, 0.7], [3, 6]), cmap=\"Greys\")\n",
    "plot_obs()\n"
   ]
  },
  {
   "cell_type": "code",
   "execution_count": 15,
   "id": "e6fccd47-3f09-4632-8813-d7226ac512f2",
   "metadata": {},
   "outputs": [
    {
     "ename": "FileNotFoundError",
     "evalue": "[Errno 2] No such file or directory: '../models/C11_f0.0/yield_params.json'",
     "output_type": "error",
     "traceback": [
      "\u001b[0;31m---------------------------------------------------------------------------\u001b[0m",
      "\u001b[0;31mFileNotFoundError\u001b[0m                         Traceback (most recent call last)",
      "Cell \u001b[0;32mIn[15], line 1\u001b[0m\n\u001b[0;32m----> 1\u001b[0m params \u001b[38;5;241m=\u001b[39m \u001b[43msurp\u001b[49m\u001b[38;5;241;43m.\u001b[39;49m\u001b[43mYieldParams\u001b[49m\u001b[38;5;241;43m.\u001b[39;49m\u001b[43mfrom_file\u001b[49m\u001b[43m(\u001b[49m\u001b[38;5;124;43m\"\u001b[39;49m\u001b[38;5;124;43m../models/C11_f0.0/yield_params.json\u001b[39;49m\u001b[38;5;124;43m\"\u001b[39;49m\u001b[43m)\u001b[49m\n\u001b[1;32m      2\u001b[0m surp\u001b[38;5;241m.\u001b[39mset_yields(params)\n\u001b[1;32m      3\u001b[0m y_c_lin \u001b[38;5;241m=\u001b[39m vice\u001b[38;5;241m.\u001b[39myields\u001b[38;5;241m.\u001b[39mccsne\u001b[38;5;241m.\u001b[39msettings[\u001b[38;5;124m\"\u001b[39m\u001b[38;5;124mc\u001b[39m\u001b[38;5;124m\"\u001b[39m]\n",
      "File \u001b[0;32m/arc7/home/dboyea/surp/surp/utils.py:32\u001b[0m, in \u001b[0;36mAbstractParams.from_file\u001b[0;34m(cls, filename, **kwargs)\u001b[0m\n\u001b[1;32m     30\u001b[0m \u001b[38;5;129m@classmethod\u001b[39m\n\u001b[1;32m     31\u001b[0m \u001b[38;5;28;01mdef\u001b[39;00m \u001b[38;5;21mfrom_file\u001b[39m(\u001b[38;5;28mcls\u001b[39m, filename, \u001b[38;5;241m*\u001b[39m\u001b[38;5;241m*\u001b[39mkwargs):\n\u001b[0;32m---> 32\u001b[0m     params \u001b[38;5;241m=\u001b[39m \u001b[43mload_toml\u001b[49m\u001b[43m(\u001b[49m\u001b[43mfilename\u001b[49m\u001b[43m)\u001b[49m\n\u001b[1;32m     33\u001b[0m     params \u001b[38;5;241m=\u001b[39m params \u001b[38;5;241m|\u001b[39m kwargs\n\u001b[1;32m     35\u001b[0m     \u001b[38;5;28;01mfor\u001b[39;00m k \u001b[38;5;129;01min\u001b[39;00m params\u001b[38;5;241m.\u001b[39mkeys():\n",
      "File \u001b[0;32m/arc7/home/dboyea/surp/surp/utils.py:51\u001b[0m, in \u001b[0;36mload_toml\u001b[0;34m(filename)\u001b[0m\n\u001b[1;32m     48\u001b[0m \u001b[38;5;28;01mdef\u001b[39;00m \u001b[38;5;21mload_toml\u001b[39m(filename):\n\u001b[1;32m     49\u001b[0m \u001b[38;5;250m    \u001b[39m\u001b[38;5;124;03m\"\"\" loads a toml file from the filename, recursavely if inherits in params\"\"\"\u001b[39;00m\n\u001b[0;32m---> 51\u001b[0m     \u001b[38;5;28;01mwith\u001b[39;00m \u001b[38;5;28;43mopen\u001b[39;49m\u001b[43m(\u001b[49m\u001b[43mfilename\u001b[49m\u001b[43m,\u001b[49m\u001b[43m \u001b[49m\u001b[38;5;124;43m\"\u001b[39;49m\u001b[38;5;124;43mr\u001b[39;49m\u001b[38;5;124;43m\"\u001b[39;49m\u001b[43m)\u001b[49m \u001b[38;5;28;01mas\u001b[39;00m f:\n\u001b[1;32m     52\u001b[0m         params \u001b[38;5;241m=\u001b[39m toml\u001b[38;5;241m.\u001b[39mload(f)\n\u001b[1;32m     54\u001b[0m     \u001b[38;5;28;01mif\u001b[39;00m \u001b[38;5;124m\"\u001b[39m\u001b[38;5;124minherits\u001b[39m\u001b[38;5;124m\"\u001b[39m \u001b[38;5;129;01min\u001b[39;00m params:\n",
      "\u001b[0;31mFileNotFoundError\u001b[0m: [Errno 2] No such file or directory: '../models/C11_f0.0/yield_params.json'"
     ]
    }
   ],
   "source": [
    "params = surp.YieldParams.from_file(\"../models/C11_f0.0/yield_params.json\")\n",
    "surp.set_yields(params)\n",
    "y_c_lin = vice.yields.ccsne.settings[\"c\"]\n",
    "\n",
    "surp.set_yields(surp.YieldParams.from_file(\"../models/C11_f0.2_Quadratic/yield_params.json\"))\n",
    "y_c_quad = vice.yields.ccsne.settings[\"c\"]"
   ]
  },
  {
   "cell_type": "code",
   "execution_count": null,
   "id": "dbfe056a-78d9-4c19-800c-d6a21ba890a3",
   "metadata": {},
   "outputs": [],
   "source": [
    "params"
   ]
  },
  {
   "cell_type": "code",
   "execution_count": null,
   "id": "3fae2037-ab49-4f4a-bb2d-38029ab9f449",
   "metadata": {},
   "outputs": [],
   "source": [
    "ymg = vice.yields.ccsne.settings[\"mg\"]"
   ]
  },
  {
   "cell_type": "code",
   "execution_count": null,
   "id": "5110ec89-dfc7-44fb-9f68-329dbd581954",
   "metadata": {},
   "outputs": [],
   "source": [
    "import sys\n",
    "sys.path.append(\"../models\")\n",
    "import make_yields"
   ]
  },
  {
   "cell_type": "code",
   "execution_count": null,
   "id": "86a015e2-1ddd-4592-8b73-c7245206943c",
   "metadata": {},
   "outputs": [],
   "source": [
    "alpha = params.alpha_c_agb"
   ]
  },
  {
   "cell_type": "code",
   "execution_count": null,
   "id": "0d557d9c-637e-4116-8b0a-b4aac0f32cda",
   "metadata": {},
   "outputs": [],
   "source": [
    "y_agb_0 = make_yields.Y_C_AGB[\"cristallo11\"] * alpha\n",
    "zeta_agb = make_yields.ZETA_C_AGB[\"cristallo11\"] * alpha"
   ]
  },
  {
   "cell_type": "code",
   "execution_count": null,
   "id": "4b31a6e9-0c0b-4fc1-9cf3-185753773cb3",
   "metadata": {},
   "outputs": [],
   "source": [
    "y_c_lin = np.vectorize(y_c_lin)\n",
    "y_c_quad = np.vectorize(y_c_quad)\n",
    "def y_c_agb(Z):\n",
    "    return y_agb_0 + zeta_agb * gcem.Z_to_MH(Z)"
   ]
  },
  {
   "cell_type": "code",
   "execution_count": null,
   "id": "5ddca18f-3bbb-4a51-b1b9-25f85094be6f",
   "metadata": {},
   "outputs": [],
   "source": [
    "plot_obs()\n",
    "x = np.linspace(-0.45, 0.45, 1000)\n",
    "Z = gcem.MH_to_Z(x)\n",
    "plt.plot(x, (y_c_lin(Z) + y_c_agb(Z)) / ymg, label=\"linear fit\")\n",
    "plt.plot(x,(y_c_quad(Z) + y_c_agb(Z))/ymg, ls=\"--\", label=\"quadratic fit\")\n",
    "\n",
    "plt.legend()\n",
    "plt.xlabel(\"[Mg/H]\")\n",
    "plt.ylabel(r\"$y_{\\rm C} / y_{\\rm Mg}$\")\n",
    "plt.savefig(\"figures/equilibrium_yield.pdf\")"
   ]
  },
  {
   "cell_type": "markdown",
   "id": "e0c82394-878e-49bf-a06f-1f1a8fd330a6",
   "metadata": {},
   "source": [
    "# LS Fits"
   ]
  },
  {
   "cell_type": "code",
   "execution_count": 22,
   "id": "d792e9ab-934a-444c-b7f5-2ecc1c52b7fa",
   "metadata": {},
   "outputs": [],
   "source": [
    "from scipy.optimize import curve_fit"
   ]
  },
  {
   "cell_type": "code",
   "execution_count": 23,
   "id": "782a80a0-e1e5-42f3-9bd1-867c2daf0f7c",
   "metadata": {},
   "outputs": [],
   "source": [
    "def loglin(x, a, b):\n",
    "    return a + b*x"
   ]
  },
  {
   "cell_type": "code",
   "execution_count": 24,
   "id": "b9979a65-415a-4310-a9d9-ef73b83fffa8",
   "metadata": {},
   "outputs": [],
   "source": [
    "popt, covt = curve_fit(loglin, xm, yym, sigma=yym_err)"
   ]
  },
  {
   "cell_type": "code",
   "execution_count": 25,
   "id": "3a7cf27a-860e-46c5-94f0-ee077b5b1834",
   "metadata": {},
   "outputs": [
    {
     "data": {
      "image/png": "[encoded data removed]",
      "text/plain": [
       "<Figure size 666.667x451.405 with 1 Axes>"
      ]
     },
     "metadata": {},
     "output_type": "display_data"
    }
   ],
   "source": [
    "x_pred = np.linspace(-0.6, 0.6, 1000)\n",
    "y_pred = loglin(x_pred, *popt)\n",
    "plt.plot(x_pred, y_pred)\n",
    "plot_obs()"
   ]
  },
  {
   "cell_type": "code",
   "execution_count": 26,
   "id": "639bb23f-1b8c-49e6-a37e-0b1dd68d7424",
   "metadata": {},
   "outputs": [],
   "source": [
    "def lin(x, a, b):\n",
    "    Z = gcem.MH_to_Z(x)\n",
    "    return a + b*(Z - Z_SUN)"
   ]
  },
  {
   "cell_type": "code",
   "execution_count": 27,
   "id": "9a76ded1-9e82-484c-a0c3-a81a9a74d4df",
   "metadata": {},
   "outputs": [],
   "source": [
    "popt, covt = curve_fit(lin, xm, yym, sigma=yym_err)"
   ]
  },
  {
   "cell_type": "code",
   "execution_count": 28,
   "id": "0d9aac24-1279-4c0b-a7b8-4f45654170b9",
   "metadata": {},
   "outputs": [
    {
     "data": {
      "text/plain": [
       "array([ 4.10777999, 37.9574294 ])"
      ]
     },
     "execution_count": 28,
     "metadata": {},
     "output_type": "execute_result"
    }
   ],
   "source": [
    "popt"
   ]
  },
  {
   "cell_type": "code",
   "execution_count": 29,
   "id": "0215299f-0d71-4875-baa5-365630248180",
   "metadata": {},
   "outputs": [
    {
     "data": {
      "image/png": "[encoded data removed]",
      "text/plain": [
       "<Figure size 666.667x451.405 with 1 Axes>"
      ]
     },
     "metadata": {},
     "output_type": "display_data"
    }
   ],
   "source": [
    "x_pred = np.linspace(-0.6, 0.5, 1000)\n",
    "y_pred = lin(x_pred, *popt)\n",
    "plt.plot(x_pred, y_pred)\n",
    "plot_obs()"
   ]
  },
  {
   "cell_type": "code",
   "execution_count": 30,
   "id": "42e3555b-d3b9-4201-88ec-bd4becfcde27",
   "metadata": {},
   "outputs": [],
   "source": [
    "def logquad(x, a, b, c):\n",
    "    return a + b*x + c*x**2"
   ]
  },
  {
   "cell_type": "code",
   "execution_count": 31,
   "id": "3a7752fb-c3e9-48a8-b4c4-6487d81a95fe",
   "metadata": {},
   "outputs": [],
   "source": [
    "popt, covt = curve_fit(logquad, xm, yym, sigma=yym_err)"
   ]
  },
  {
   "cell_type": "code",
   "execution_count": 32,
   "id": "3d13e8bc-80d4-4746-8211-abcf6388adba",
   "metadata": {},
   "outputs": [
    {
     "data": {
      "text/plain": [
       "array([4.06797597, 1.24113881, 3.29562922])"
      ]
     },
     "execution_count": 32,
     "metadata": {},
     "output_type": "execute_result"
    }
   ],
   "source": [
    "popt"
   ]
  },
  {
   "cell_type": "code",
   "execution_count": 33,
   "id": "baaee464-b690-4f29-8baf-41388fbf790e",
   "metadata": {},
   "outputs": [
    {
     "data": {
      "image/png": "[encoded data removed]",
      "text/plain": [
       "<Figure size 666.667x451.405 with 1 Axes>"
      ]
     },
     "metadata": {},
     "output_type": "display_data"
    }
   ],
   "source": [
    "x_pred = np.linspace(-0.6, 0.5, 1000)\n",
    "y_pred = logquad(x_pred, *popt)\n",
    "plt.plot(x_pred, y_pred)\n",
    "plot_obs()"
   ]
  },
  {
   "cell_type": "code",
   "execution_count": 40,
   "id": "48cfbfca-c602-4beb-bb09-9cf005e131f8",
   "metadata": {},
   "outputs": [],
   "source": [
    "def logexp(x, a, b, c):\n",
    "    return a + b*np.exp(-x/c)"
   ]
  },
  {
   "cell_type": "code",
   "execution_count": 41,
   "id": "e709223f-fd4b-4201-9c97-400a7d87e675",
   "metadata": {},
   "outputs": [],
   "source": [
    "popt, covt = curve_fit(logexp, xm, yym, sigma=yym_err)"
   ]
  },
  {
   "cell_type": "code",
   "execution_count": 42,
   "id": "eda81458-98cf-4e10-9c5d-58b25749b223",
   "metadata": {},
   "outputs": [
    {
     "data": {
      "text/plain": [
       "(array([ 3.71847774,  0.37891323, -0.31070116]),\n",
       " array([0.12489852, 0.1268406 , 0.06672409]))"
      ]
     },
     "execution_count": 42,
     "metadata": {},
     "output_type": "execute_result"
    }
   ],
   "source": [
    "popt, np.sqrt(np.diag(covt))"
   ]
  },
  {
   "cell_type": "code",
   "execution_count": 43,
   "id": "be907545-eeb8-4ccb-ad56-1331e5572ae0",
   "metadata": {},
   "outputs": [
    {
     "data": {
      "image/png": "[encoded data removed]",
      "text/plain": [
       "<Figure size 666.667x451.405 with 1 Axes>"
      ]
     },
     "metadata": {},
     "output_type": "display_data"
    }
   ],
   "source": [
    "x_pred = np.linspace(-0.6, 0.5, 1000)\n",
    "y_pred = logexp(x_pred, *popt)\n",
    "plt.plot(x_pred, y_pred)\n",
    "plot_obs()"
   ]
  },
  {
   "cell_type": "code",
   "execution_count": 34,
   "id": "e2dbf1ec-b76f-477d-b22f-fba5b6ae0547",
   "metadata": {},
   "outputs": [],
   "source": [
    "def logloglin(x, a, b, c):\n",
    "    return 10**(a + b*x + c*x**2)"
   ]
  },
  {
   "cell_type": "code",
   "execution_count": null,
   "id": "3161632a-354a-4183-8e83-9a20db440ef2",
   "metadata": {},
   "outputs": [],
   "source": []
  },
  {
   "cell_type": "code",
   "execution_count": null,
   "id": "cc9b48db-99b8-4d07-8edb-64513db403d2",
   "metadata": {},
   "outputs": [],
   "source": []
  },
  {
   "cell_type": "code",
   "execution_count": 35,
   "id": "af7e12fb-146e-48bc-aa6c-0001a45bbe8c",
   "metadata": {},
   "outputs": [
    {
     "name": "stdout",
     "output_type": "stream",
     "text": [
      "[0.61022173 0.12688241 0.29306899]\n"
     ]
    },
    {
     "data": {
      "image/png": "[encoded data removed]",
      "text/plain": [
       "<Figure size 666.667x451.405 with 1 Axes>"
      ]
     },
     "metadata": {},
     "output_type": "display_data"
    }
   ],
   "source": [
    "popt, covt = curve_fit(logloglin, xm, yym, sigma=yym_err)\n",
    "print(popt)\n",
    "x_pred = np.linspace(-0.6, 0.5, 1000)\n",
    "y_pred = logloglin(x_pred, *popt)\n",
    "plt.plot(x_pred, y_pred)\n",
    "plot_obs()\n",
    "plt.yscale(\"log\")"
   ]
  },
  {
   "cell_type": "code",
   "execution_count": 36,
   "id": "76a992d6-30ec-4b38-a25f-fd33d4671598",
   "metadata": {
    "tags": []
   },
   "outputs": [],
   "source": [
    "def piecewise(x, a, b, a0):\n",
    "    return np.maximum(a + b*x, a0)"
   ]
  },
  {
   "cell_type": "code",
   "execution_count": 45,
   "id": "380cfe36-dc6e-462a-b633-56e30b3b1635",
   "metadata": {},
   "outputs": [],
   "source": [
    "y = surp.yield_models.BiLogLin_CC(y0=4, y1=4, zeta=2.5)"
   ]
  },
  {
   "cell_type": "code",
   "execution_count": 48,
   "id": "c81a7f2f-5079-4ecf-8354-39955cbb36e4",
   "metadata": {},
   "outputs": [
    {
     "name": "stdout",
     "output_type": "stream",
     "text": [
      "[3.99900654 2.50993995 3.97847379]\n"
     ]
    },
    {
     "data": {
      "image/png": "[encoded data removed]",
      "text/plain": [
       "<Figure size 666.667x451.405 with 1 Axes>"
      ]
     },
     "metadata": {},
     "output_type": "display_data"
    }
   ],
   "source": [
    "popt, covt = curve_fit(piecewise, xm, yym, sigma=yym_err, p0=(4.5, 0, 4.2))\n",
    "print(popt)\n",
    "x_pred = np.linspace(-0.6, 0.5, 1000)\n",
    "y_pred = piecewise(x_pred, *popt)\n",
    "plt.plot(x_pred, y_pred)\n",
    "plt.plot(x_pred, [y(Z) for Z in gcem.MH_to_Z(x_pred)])\n",
    "plot_obs()\n",
    "plt.yscale(\"log\")"
   ]
  },
  {
   "cell_type": "code",
   "execution_count": 52,
   "id": "36b83122-635b-473f-ad92-155e93a6573c",
   "metadata": {},
   "outputs": [
    {
     "data": {
      "text/plain": [
       "0.00163"
      ]
     },
     "execution_count": 52,
     "metadata": {},
     "output_type": "execute_result"
    }
   ],
   "source": [
    "2.5 * ymg"
   ]
  },
  {
   "cell_type": "code",
   "execution_count": 42,
   "id": "63b5fe3c-2e2a-4b84-b556-25cc9d36c026",
   "metadata": {},
   "outputs": [
    {
     "data": {
      "text/plain": [
       "\u001b[0;31mInit signature:\u001b[0m \u001b[0msurp\u001b[0m\u001b[0;34m.\u001b[0m\u001b[0myield_models\u001b[0m\u001b[0;34m.\u001b[0m\u001b[0mBiLogLin_CC\u001b[0m\u001b[0;34m(\u001b[0m\u001b[0mself\u001b[0m\u001b[0;34m,\u001b[0m \u001b[0;34m/\u001b[0m\u001b[0;34m,\u001b[0m \u001b[0;34m*\u001b[0m\u001b[0margs\u001b[0m\u001b[0;34m,\u001b[0m \u001b[0;34m**\u001b[0m\u001b[0mkwargs\u001b[0m\u001b[0;34m)\u001b[0m\u001b[0;34m\u001b[0m\u001b[0;34m\u001b[0m\u001b[0m\n",
       "\u001b[0;31mDocstring:\u001b[0m     \n",
       "BiLogLin_CC(y0, zeta, Z1, y1)\n",
       "\n",
       "Constructs a bi-linear piecewise yield model for CCSNe\n",
       "    y = max(y1, y0 + zeta * [M/H])\n",
       "\n",
       "\n",
       "Parameters\n",
       "----------\n",
       "y0: the yield at solar\n",
       "zeta: the slope of the yield at solar\n",
       "y1: the yield at Z=0\n",
       "\u001b[0;31mFile:\u001b[0m           ~/surp/surp/yield_models.cpython-310-x86_64-linux-gnu.so\n",
       "\u001b[0;31mType:\u001b[0m           type\n",
       "\u001b[0;31mSubclasses:\u001b[0m     "
      ]
     },
     "metadata": {},
     "output_type": "display_data"
    }
   ],
   "source": [
    "surp.yield_models.BiLogLin_CC?"
   ]
  },
  {
   "cell_type": "markdown",
   "id": "220222a5-8a17-46cb-a08b-6cf23829ab61",
   "metadata": {},
   "source": [
    "# How do the stars work?"
   ]
  },
  {
   "cell_type": "code",
   "execution_count": null,
   "id": "c81b99be-451d-4bcc-80b4-040e56f9d05c",
   "metadata": {},
   "outputs": [],
   "source": [
    "ymg = vice.yields.ccsne.settings[\"mg\"]"
   ]
  },
  {
   "cell_type": "code",
   "execution_count": null,
   "id": "33afe5bf-a8a7-4577-8e50-032b5fa55e01",
   "metadata": {},
   "outputs": [],
   "source": [
    "def agb_model(m_h):\n",
    "    return (3.23e-04 + -4.79e-04*m_h - 0*6.43e-05*m_h**2) / ymg"
   ]
  },
  {
   "cell_type": "code",
   "execution_count": null,
   "id": "27533609-673a-43e5-8e6d-46d720d327da",
   "metadata": {},
   "outputs": [],
   "source": [
    "x_pred = np.linspace(-2, 0.6, 1000)\n",
    "y_pred = logquad(x_pred, *popt)"
   ]
  },
  {
   "cell_type": "code",
   "execution_count": null,
   "id": "3264ddd4-32e3-45e0-a06d-da4d29d8c2a5",
   "metadata": {},
   "outputs": [],
   "source": [
    "plt.scatter(stars_x_obs, gcem.brak_to_abund(stars_y_obs, \"c\", \"mg\"))\n",
    "plt.plot(x_pred, y_pred)\n",
    "plt.plot(x_pred, y_pred - agb_model(x_pred))\n",
    "plt.plot(x_pred, agb_model(x_pred))\n",
    "\n",
    "plt.xlim(-2.5, 0.6)"
   ]
  },
  {
   "cell_type": "markdown",
   "id": "13cc5953-9b18-4322-8533-cde10af75a22",
   "metadata": {},
   "source": [
    "# MCMC fits"
   ]
  },
  {
   "cell_type": "code",
   "execution_count": null,
   "id": "7a795d52-fa90-4e03-8913-a6bd78229c4d",
   "metadata": {},
   "outputs": [],
   "source": [
    "N = 3_000"
   ]
  },
  {
   "cell_type": "code",
   "execution_count": null,
   "id": "55c5191e-4d35-4cb2-b7ca-64e1ba672dae",
   "metadata": {},
   "outputs": [],
   "source": [
    "import mcmc_utils"
   ]
  },
  {
   "cell_type": "code",
   "execution_count": null,
   "id": "4ad1d1c3-28b2-489b-a08c-55bc008b63c3",
   "metadata": {},
   "outputs": [],
   "source": [
    "def plot_res(model, samples):\n",
    "    theta_m = np.median(samples, axis=0)\n",
    "    y_pred = model(xm, theta_m)\n",
    "\n",
    "    #plt.scatter(x_obs, y_obs - y_pred, s=2, c=w, ec=\"none\", cmap=\"Greys\", alpha=0.4)\n",
    "    plt.scatter(xm, yym - y_pred, )\n",
    "    plt.ylim(-0.3, 0.3)\n",
    "    plt.xlim(-0.5)\n",
    "    plt.axhline(0, ls=\"--\")"
   ]
  },
  {
   "cell_type": "code",
   "execution_count": null,
   "id": "f708f529-3058-4d8d-a8f3-99b78e80aa46",
   "metadata": {},
   "outputs": [],
   "source": [
    "model = mcmc_utils.Linear(beta0=[4, 0.5], beta1=[0, 1], log_sigma=[-15, 0.5])"
   ]
  },
  {
   "cell_type": "code",
   "execution_count": null,
   "id": "f893de76-99e6-4a0f-8f1a-8e595b371181",
   "metadata": {},
   "outputs": [],
   "source": [
    "mcmc_utils.plot_prior(model, N=1_000)"
   ]
  },
  {
   "cell_type": "code",
   "execution_count": null,
   "id": "3e571dcb-768a-4cbd-bad5-a606d218de3e",
   "metadata": {},
   "outputs": [],
   "source": [
    "samples = mcmc_utils.run_mcmc(model, obs,N=N )"
   ]
  },
  {
   "cell_type": "code",
   "execution_count": null,
   "id": "10ec3d74-5705-493f-a290-0b26e6e9ab0b",
   "metadata": {},
   "outputs": [],
   "source": [
    "mcmc_utils.plot_posterior(model, obs, samples, N_lines=500)"
   ]
  },
  {
   "cell_type": "markdown",
   "id": "861a7c62-7673-47d6-89de-ead591e8d2df",
   "metadata": {},
   "source": [
    "# Exponential model"
   ]
  },
  {
   "cell_type": "code",
   "execution_count": null,
   "id": "e34c28ae-419c-4c6f-a7d4-f8b250deab12",
   "metadata": {},
   "outputs": [],
   "source": [
    "model  = mcmc_utils.Exponential(beta0=[4, 0.5], beta1=[0, 1], log_sigma=[-15, 1])"
   ]
  },
  {
   "cell_type": "code",
   "execution_count": null,
   "id": "ef7877de-8f08-420e-8e9e-4ae869466092",
   "metadata": {},
   "outputs": [],
   "source": [
    "mcmc_utils.plot_prior(model)"
   ]
  },
  {
   "cell_type": "code",
   "execution_count": null,
   "id": "bcd77cf0-a0cd-4fec-8e9c-32bf24ed3bca",
   "metadata": {},
   "outputs": [],
   "source": [
    "samples = mcmc_utils.run_mcmc(model, obs, N=N)"
   ]
  },
  {
   "cell_type": "code",
   "execution_count": null,
   "id": "6af005db-c068-4ae4-a729-eccbebfdf538",
   "metadata": {},
   "outputs": [],
   "source": [
    "mcmc_utils.plot_posterior(model, obs, samples)"
   ]
  },
  {
   "cell_type": "markdown",
   "id": "52ca1e35-5a56-4576-949f-189130af67d8",
   "metadata": {},
   "source": [
    "## Quadratic model"
   ]
  },
  {
   "cell_type": "code",
   "execution_count": null,
   "id": "57f188f6-daba-4834-8575-727a027993a4",
   "metadata": {},
   "outputs": [],
   "source": [
    "model  = mcmc_utils.Quadratic(beta0=[4, 0.5], beta1=[0, 1], log_sigma=[-15, 1])"
   ]
  },
  {
   "cell_type": "code",
   "execution_count": null,
   "id": "9c73cffa-738b-4139-b67c-c0a07e6a5a52",
   "metadata": {},
   "outputs": [],
   "source": [
    "mcmc_utils.plot_prior(model)"
   ]
  },
  {
   "cell_type": "code",
   "execution_count": null,
   "id": "55616ff9-11a5-42d9-bce9-c1a6d72a47c0",
   "metadata": {},
   "outputs": [],
   "source": [
    "samples = mcmc_utils.run_mcmc(model, obs, N=N)"
   ]
  },
  {
   "cell_type": "code",
   "execution_count": null,
   "id": "15fe7709-ab97-4108-b41e-f70c50ef3c55",
   "metadata": {},
   "outputs": [],
   "source": [
    "mcmc_utils.plot_posterior(model, obs, samples)"
   ]
  },
  {
   "cell_type": "code",
   "execution_count": null,
   "id": "0e342fac-53cb-42d7-8251-88f1d1c0f8eb",
   "metadata": {},
   "outputs": [],
   "source": []
  }
 ],
 "metadata": {
  "kernelspec": {
   "display_name": "Python 3 (ipykernel)",
   "language": "python",
   "name": "python3"
  },
  "language_info": {
   "codemirror_mode": {
    "name": "ipython",
    "version": 3
   },
   "file_extension": ".py",
   "mimetype": "text/x-python",
   "name": "python",
   "nbconvert_exporter": "python",
   "pygments_lexer": "ipython3",
   "version": "3.11.9"
  }
 },
 "nbformat": 4,
 "nbformat_minor": 5
}
