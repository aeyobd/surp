{
 "cells": [
  {
   "cell_type": "markdown",
   "id": "0",
   "metadata": {
    "tags": []
   },
   "source": [
    "# Intro"
   ]
  },
  {
   "cell_type": "markdown",
   "id": "1",
   "metadata": {},
   "source": [
    "Some last things to verify real quick\n",
    "\n",
    "- Does my exclusion of z-migration matter?\n",
    "- Chabrier IMF and friends\n",
    "- complete analytic and alternate model fagb exploration\n",
    "- mass shift for other models\n",
    "- more extreme SFH\n",
    "- last "
   ]
  },
  {
   "cell_type": "code",
   "execution_count": null,
   "id": "2",
   "metadata": {
    "tags": []
   },
   "outputs": [],
   "source": [
    "import matplotlib.pyplot as plt\n",
    "import matplotlib\n",
    "import numpy as np\n",
    "\n",
    "import pandas as pd"
   ]
  },
  {
   "cell_type": "code",
   "execution_count": null,
   "id": "3",
   "metadata": {},
   "outputs": [],
   "source": [
    "import vice\n",
    "\n",
    "import surp\n",
    "from surp import subgiants\n",
    "from surp import gce_math as gcem\n",
    "\n",
    "import arya\n",
    "arya.style.set_size((10/3, 10/3))\n",
    "from arya import COLORS"
   ]
  },
  {
   "cell_type": "code",
   "execution_count": null,
   "id": "4",
   "metadata": {
    "tags": []
   },
   "outputs": [],
   "source": [
    "def find_model(name):\n",
    "    \"\"\"\n",
    "    Finds the pickled model with either the given name or the parameters \n",
    "    and returns the csv summary\n",
    "    \"\"\"\n",
    "    \n",
    "    file_name = \"../models/\" + name + \"/stars.csv\"\n",
    "    model =  pd.read_csv(file_name, index_col=0)\n",
    "    return model"
   ]
  },
  {
   "cell_type": "code",
   "execution_count": null,
   "id": "5",
   "metadata": {},
   "outputs": [],
   "source": [
    "def to_nice_name(apogee_name):\n",
    "    name = apogee_name.replace(\"_\", \"/\").title()\n",
    "    name = f\"[{name}]\"\n",
    "    return name"
   ]
  },
  {
   "cell_type": "code",
   "execution_count": null,
   "id": "6",
   "metadata": {
    "tags": []
   },
   "outputs": [],
   "source": [
    "data_kwargs = dict(\n",
    "    color=\"k\", \n",
    "    stat=\"median\",\n",
    "    err_kwargs=dict(facecolor=\"k\", alpha=0.3)\n",
    ")\n",
    "\n",
    "model_kwargs = dict(\n",
    "    stat=\"median\", errorbar=None,\n",
    "    aes=\"line\"\n",
    ")\n",
    "\n",
    "\n",
    "def zooh_models(models, labels,x=\"MG_H\", y=\"C_MG\", use_true=True, sequential=False, filt_ha=True, **kwargs):\n",
    "    kwargs = dict(numbins=20, **kwargs)\n",
    "    \n",
    "    N = len(models)\n",
    "    \n",
    "    if sequential:\n",
    "        hm = arya.HueMap(clim=(0, N))\n",
    "    else:\n",
    "        hm = lambda i: COLORS[i]\n",
    "    # end\n",
    "        \n",
    "    if use_true:\n",
    "        xm=x + \"_true\"\n",
    "        ym=y+ \"_true\"\n",
    "    else:\n",
    "        xm = x\n",
    "        ym = y\n",
    "    for i in range(N):\n",
    "        name = labels[i]\n",
    "        model = models[i]\n",
    "        if filt_ha:\n",
    "            df = surp.filter_high_alpha(model)\n",
    "        else:\n",
    "            df = model\n",
    "        color = hm(i)\n",
    "            \n",
    "        arya.medianplot(df, xm, ym, label=name, color=color, **model_kwargs, **kwargs)\n",
    "    # end\n",
    "\n",
    "    if filt_ha:\n",
    "        df = surp.filter_high_alpha(subgiants)\n",
    "    else:\n",
    "        df = subgiants\n",
    "        \n",
    "    arya.medianplot(df, x=x, y=y, zorder=-2, **data_kwargs, **kwargs)\n",
    "    plt.xlabel(to_nice_name(x))\n",
    "    plt.ylabel(to_nice_name(y))\n",
    "    \n",
    "\n",
    "# end\n",
    "\n",
    "\n",
    "    \n",
    "def zofeo_models(models, labels, x=\"MG_FE\", y=\"C_MG\", use_true=True, sequential=False, mg_0=-0.0, w=0.025, **kwargs):\n",
    "    kwargs = dict(numbins=12, x=x, y=y, **kwargs)\n",
    "    df = surp.filter_metallicity(subgiants, c=mg_0, w=w)\n",
    "\n",
    "    arya.medianplot(df, **data_kwargs, **kwargs)\n",
    "    \n",
    "    N = len(models)\n",
    "    if use_true:\n",
    "        kwargs[\"x\"] = x + \"_true\"\n",
    "        kwargs[\"y\"] = y+ \"_true\"\n",
    "\n",
    "    if sequential:\n",
    "        hm = arya.HueMap(clim=(0, N))\n",
    "    else:\n",
    "        hm = lambda i: COLORS[i]\n",
    "    # end    \n",
    "    \n",
    "    for i in range(N):\n",
    "        model = models[i]\n",
    "        df = surp.filter_metallicity(model, c=mg_0, w=w)\n",
    "        color = hm(i)\n",
    "\n",
    "        arya.medianplot(df, label=labels[i], color=color, **model_kwargs, **kwargs)\n",
    "    plt.xlabel(to_nice_name(x))\n",
    "    plt.ylabel(to_nice_name(y))\n",
    "    \n",
    "\n",
    "#"
   ]
  },
  {
   "cell_type": "code",
   "execution_count": null,
   "id": "7",
   "metadata": {},
   "outputs": [],
   "source": [
    "def names_to_models(names):\n",
    "    return [find_model(name) for name in names]"
   ]
  },
  {
   "cell_type": "code",
   "execution_count": null,
   "id": "8",
   "metadata": {},
   "outputs": [],
   "source": [
    "def compare_cooh(names, labels, ylim=None, legend=True, **kwargs):\n",
    "    models = names_to_models(names)\n",
    "    zooh_models(models, labels,legend=legend, **kwargs)\n",
    "    if legend:\n",
    "        arya.Legend(color_only=True)\n",
    "    \n",
    "    if ylim is not None:\n",
    "        plt.ylim(ylim)\n",
    "    else:\n",
    "        plt.ylim(-0.24, 0.04)\n",
    "        plt.yticks(np.arange(-0.2, 0.02, 0.05))\n",
    "    # end if\n",
    "    \n",
    "    plt.xlim(-0.45, 0.35)"
   ]
  },
  {
   "cell_type": "code",
   "execution_count": null,
   "id": "9",
   "metadata": {},
   "outputs": [],
   "source": [
    "def compare_coofe(names, labels, legend=True, ylim=None, **kwargs):\n",
    "    models = names_to_models(names)\n",
    "    zofeo_models(models, labels, legend=legend, **kwargs)\n",
    "    if legend:\n",
    "        arya.Legend(color_only=True)\n",
    "\n",
    "    plt.xlim(0, 0.3)\n"
   ]
  },
  {
   "cell_type": "code",
   "execution_count": null,
   "id": "10",
   "metadata": {},
   "outputs": [],
   "source": [
    "def compare(names, labels=None, axs=None, **kwargs):\n",
    "    if labels is None:\n",
    "        labels = names\n",
    "        \n",
    "    if axs is None:\n",
    "        fig, axs = plt.subplots(1, 2, figsize=(7, 3), sharex=\"col\", sharey=True,  gridspec_kw={\"wspace\": 0, \"hspace\": 0})\n",
    "    # end\n",
    "        \n",
    "    plt.sca(axs[0])\n",
    "    compare_cooh(names, labels, **kwargs, legend=False)\n",
    "    \n",
    "    plt.sca(axs[1])\n",
    "    compare_coofe(names, labels, legend=False, **kwargs)\n",
    "    plt.ylabel(\"\")\n",
    "    arya.Legend(color_only=True)\n",
    "\n",
    "# end\n"
   ]
  },
  {
   "cell_type": "markdown",
   "id": "11",
   "metadata": {
    "tags": []
   },
   "source": [
    "# Main figures"
   ]
  },
  {
   "cell_type": "code",
   "execution_count": null,
   "id": "12",
   "metadata": {},
   "outputs": [],
   "source": [
    "names = [    \n",
    "    \"fruity/oob\",\n",
    "    \"aton/oob\",\n",
    "    \"monash/oob\",\n",
    "    \"nugrid/oob\",\n",
    "    \"analytic/mc_best\",\n",
    "  ]\n",
    "\n",
    "labels = [\"FRUITY\", \"ATON\", \"Monash\",  \"NuGrid\", \"analytic\"]\n",
    "\n",
    "compare(names, labels)\n",
    "plt.ylim(-0.25, 0.05)\n",
    "plt.savefig(\"figures/sims_agb.pdf\")"
   ]
  },
  {
   "cell_type": "code",
   "execution_count": null,
   "id": "13",
   "metadata": {},
   "outputs": [],
   "source": [
    "fig, axs = plt.subplots(2, 2, figsize=(7, 5), sharex=\"col\", sharey=True, gridspec_kw={\"wspace\": 0, \"hspace\": 0})\n",
    "\n",
    "\n",
    "names = [\n",
    "    \"fruity/zeta_lower\",\n",
    "    \"fiducial/run\",\n",
    "    \"fruity/zeta_higher\",\n",
    "]\n",
    "labels = [\n",
    "    r\"$\\zeta^{\\rm cc} = $\", \n",
    "    r\"$\\zeta^{\\rm cc} = $\", \n",
    "    r\"$\\zeta^{\\rm cc} = $\"\n",
    "]\n",
    "\n",
    "compare(names, labels, axs = axs[0], sequential=True)\n",
    "\n",
    "\n",
    "\n",
    "\n",
    "names = [    \n",
    "    \"fruity/f_0\",\n",
    "    \"fiducial/run\",\n",
    "    \"fruity/f_0.5\",\n",
    "  ]\n",
    "\n",
    "labels = [r\"$f_{\\rm C}^{\\rm AGB}=0$\", r\"$f_{\\rm C}^{\\rm AGB}=0.2$\", r\"$f_{\\rm C}^{\\rm AGB}=0.5$\",]\n",
    "compare(names, labels, sequential=True, axs=axs[1])\n",
    "\n",
    "plt.ylim(-0.25)\n",
    "\n",
    "plt.savefig(\"figures/sims_zeta_f.pdf\")"
   ]
  },
  {
   "cell_type": "code",
   "execution_count": null,
   "id": "14",
   "metadata": {},
   "outputs": [],
   "source": [
    "names_fz = [   \n",
    "    \"fruity/fz_0\",\n",
    "    #\"fruity/fz_0.1\",\n",
    "    \"fiducial/run\",\n",
    "    \"fruity/fz_0.5\",\n",
    "    #\"fruity/fz_1\",\n",
    "  ]\n",
    "\n",
    "labels_fz = [r\"0, 1.5\", \"0.2, 2.0\", \"0.5, 2.7\"]\n",
    "\n",
    "\n",
    "names_agbm = [   \n",
    "    \"fruity/agb_mass_0.5\",\n",
    "    \"fruity/agb_mass_0.8\",\n",
    "    \"fiducial/run\",\n",
    "    \"fruity/agb_mass_1.5\",\n",
    "    \"fruity/agb_mass_2\",\n",
    "  ]\n",
    "\n",
    "labels_agbm = [\"0.5\", \"0.8\", \"1\", \"1.5\", \"2\"]\n",
    "\n",
    "\n",
    "names_sfh = [\n",
    "    \"fiducial/run\",\n",
    "    \"fiducial/twoinfall_liam/\",\n",
    "    \"fiducial/lateburst\",\n",
    "    \"fiducial/eta2\"\n",
    "]\n",
    "labels_sfh = [\n",
    "    r\"fiducial\",  \n",
    "    r\"twoinfall\",\n",
    "    \"lateburst\",\n",
    "    r\"$y\\rightarrow 2y$\",\n",
    "]\n"
   ]
  },
  {
   "cell_type": "code",
   "execution_count": null,
   "id": "15",
   "metadata": {},
   "outputs": [],
   "source": [
    "fig, axs = plt.subplots(1, 3, figsize=(7, 2.5), sharex=\"col\", sharey=True, gridspec_kw={\"wspace\": 0, \"hspace\": 0})\n",
    "\n",
    "plt.sca(axs[0])\n",
    "compare_coofe(names_fz, labels_fz, sequential=True, legend=False)\n",
    "arya.Legend(loc=1, color_only=True, title=r\"$f^{\\rm AGB}$, $10^3\\,\\zeta^{\\rm CC}$\", labelspacing=0.1)\n",
    "\n",
    "plt.sca(axs[1])\n",
    "compare_coofe(names_agbm, labels_agbm, sequential=True, legend=False)\n",
    "arya.Legend(loc=1, color_only=True, title=r\"mass shift\", labelspacing=0.1)\n",
    "plt.ylabel(\"\")\n",
    "\n",
    "plt.sca(axs[2])\n",
    "compare_coofe(names_sfh, labels_sfh)\n",
    "plt.ylabel(\"\")\n",
    "\n",
    "plt.ylim(-0.25, -0.0)\n",
    "plt.tight_layout()\n",
    "\n",
    "plt.savefig(\"figures/zeta_f_mass_sfh.pdf\")"
   ]
  },
  {
   "cell_type": "code",
   "execution_count": null,
   "id": "16",
   "metadata": {},
   "outputs": [],
   "source": [
    "names = [\"fiducial/run\"]\n",
    "labels = [\"fiducial\"]\n",
    "\n",
    "compare_cooh(names, labels, y=\"C_N\", ylim=(-0.3, 0.3), legend=False)\n",
    "plt.savefig(\"figures/nitrogen.pdf\")"
   ]
  },
  {
   "cell_type": "code",
   "execution_count": null,
   "id": "17",
   "metadata": {},
   "outputs": [],
   "source": [
    "names = [\n",
    "    \"fiducial/run\",\n",
    "    \"fruity/cc_BiLogLin\",\n",
    "]\n",
    "labels = names\n",
    "compare(names, labels, sequential=True)\n"
   ]
  },
  {
   "cell_type": "markdown",
   "id": "18",
   "metadata": {},
   "source": [
    "# Other models"
   ]
  },
  {
   "cell_type": "code",
   "execution_count": null,
   "id": "19",
   "metadata": {},
   "outputs": [],
   "source": [
    "compare_coofe(names, labels, y=\"C_N\", ylim=(-0.3, 0.3), legend=False)\n"
   ]
  },
  {
   "cell_type": "code",
   "execution_count": null,
   "id": "20",
   "metadata": {},
   "outputs": [],
   "source": [
    "fig, axs = plt.subplots(1, 3, figsize=(7, 2.5), sharex=\"col\", sharey=True, gridspec_kw={\"wspace\": 0, \"hspace\": 0})\n",
    "\n",
    "plt.sca(axs[0])\n",
    "compare_cooh(names_fz, labels_fz, sequential=True)\n",
    "\n",
    "plt.sca(axs[1])\n",
    "compare_cooh(names_agbm, labels_agbm, sequential=True)\n",
    "plt.ylabel(\"\")\n",
    "\n",
    "plt.sca(axs[2])\n",
    "compare_cooh(names_sfh, labels_sfh)\n",
    "plt.ylabel(\"\")\n",
    "\n",
    "plt.ylim(-0.25, -0.0)\n",
    "plt.tight_layout()\n"
   ]
  },
  {
   "cell_type": "code",
   "execution_count": null,
   "id": "21",
   "metadata": {},
   "outputs": [],
   "source": [
    "names = [\n",
    "    \"fiducial/run\",\n",
    "    \"fruity/f_0.3_ia1.2\",\n",
    "]\n",
    "labels = names\n",
    "compare(names, labels, sequential=True)\n"
   ]
  },
  {
   "cell_type": "markdown",
   "id": "22",
   "metadata": {
    "jp-MarkdownHeadingCollapsed": true
   },
   "source": [
    "# Extra fruity"
   ]
  },
  {
   "cell_type": "code",
   "execution_count": null,
   "id": "23",
   "metadata": {},
   "outputs": [],
   "source": [
    "names = [   \n",
    "    \"fruity/f_0\",\n",
    "    \"fruity/f_0.1\",\n",
    "    \"fiducial_run\",\n",
    "    \"fruity/f_0.5\",\n",
    "    \"fruity/f_1\",\n",
    "  ]\n",
    "\n",
    "labels = names\n",
    "compare(names, labels, sequential=True)"
   ]
  },
  {
   "cell_type": "code",
   "execution_count": null,
   "id": "24",
   "metadata": {},
   "outputs": [],
   "source": [
    "names = [   \n",
    "    \"fruity/agb_mass_0.5\",\n",
    "    \"fruity/agb_mass_0.8\",\n",
    "    \"fiducial_run\",\n",
    "    \"fruity/agb_mass_1.5\",\n",
    "    \"fruity/agb_mass_2\",\n",
    "  ]\n",
    "\n",
    "labels = names\n",
    "compare(names, labels, sequential=True)"
   ]
  },
  {
   "cell_type": "code",
   "execution_count": null,
   "id": "25",
   "metadata": {},
   "outputs": [],
   "source": [
    "names = [    \n",
    "    \"fruity/fz_0\",\n",
    "    \"fruity/fz_0.1\",\n",
    "    \"fiducial_run\",\n",
    "    #\"fruity/fz_0.3\",\n",
    "    \"fruity/fz_0.5\",\n",
    "    #\"fruity/f_0.8\",\n",
    "    \"fruity/fz_1\",\n",
    "  ]\n",
    "labels = names\n",
    "compare(names, labels, sequential=True)"
   ]
  },
  {
   "cell_type": "code",
   "execution_count": null,
   "id": "26",
   "metadata": {},
   "outputs": [],
   "source": [
    "names = [    \n",
    "    #\"fiducial/run\",\n",
    "    \"fruity/agb_lin_interp\",\n",
    "    #\"fruity/agb_log_interp\"\n",
    "    \"fruity/agb_spline_interp\"\n",
    "  ]\n",
    "\n",
    "labels = [\"C11\", \"lininterp\", \"splineint\"]\n",
    "\n",
    "compare(names, labels)\n"
   ]
  },
  {
   "cell_type": "markdown",
   "id": "27",
   "metadata": {
    "jp-MarkdownHeadingCollapsed": true,
    "tags": []
   },
   "source": [
    "# Aton, Monash & NuGrid"
   ]
  },
  {
   "cell_type": "code",
   "execution_count": null,
   "id": "28",
   "metadata": {},
   "outputs": [],
   "source": [
    "names = [    \n",
    "    \"fiducial/run\",\n",
    "    \"aton/f_0.2\",\n",
    "    \"monash/f_0.2\",\n",
    "    #\"nugrid/f_0.2\",\n",
    "    #\"C11_f0.0\"\n",
    "  ]\n",
    "\n",
    "labels = [\"FRUITY\", \"ATON\", \"Monash\",  \"NuGrid\", \"CC only\"]\n",
    "\n",
    "compare(names, labels)\n",
    "plt.ylim(-0.25, 0.05)\n"
   ]
  },
  {
   "cell_type": "code",
   "execution_count": null,
   "id": "29",
   "metadata": {},
   "outputs": [],
   "source": [
    "names = [\n",
    "    \"monash/oob\",\n",
    "    \"monash/f_0.2\",\n",
    "    \"monash/fz_0.1\"\n",
    "]\n",
    "labels = [\"f=0.1\", \".2\", \".3\"]\n",
    "compare(names, labels, sequential=True)"
   ]
  },
  {
   "cell_type": "code",
   "execution_count": null,
   "id": "30",
   "metadata": {},
   "outputs": [],
   "source": [
    "names = [\n",
    "    \"aton/oob\",\n",
    "    \"aton/f_0.1\",\n",
    "    \"aton/f_0.5\"\n",
    "]\n",
    "labels = [\"alpha=1\", \"2\", \"3\"]\n",
    "compare(names, labels, sequential=True)"
   ]
  },
  {
   "cell_type": "markdown",
   "id": "31",
   "metadata": {},
   "source": [
    "V13 predicts declining yields with metallicity with higher ratios. This is a combination of the steep metallicity dependence and the tendency of the yields to become negative after solar metallicity."
   ]
  },
  {
   "cell_type": "code",
   "execution_count": null,
   "id": "32",
   "metadata": {},
   "outputs": [],
   "source": [
    "names = [\n",
    "    \"nugrid/f_0.1\",\n",
    "    \"nugrid/f_0.2\",\n",
    "]\n",
    "labels = [\"f=0.1\", \".2\", \".3\", \".4\"]\n",
    "compare(names, labels, sequential=True)"
   ]
  },
  {
   "cell_type": "markdown",
   "id": "33",
   "metadata": {
    "jp-MarkdownHeadingCollapsed": true,
    "tags": []
   },
   "source": [
    "# Other CCSNe Models?"
   ]
  },
  {
   "cell_type": "code",
   "execution_count": null,
   "id": "34",
   "metadata": {},
   "outputs": [],
   "source": [
    "names = [    \n",
    "    #\"fiducial/run\",\n",
    "    \"fruity/cc_LogLin\",\n",
    "    \"fruity/cc_Lin\",\n",
    "    \"fruity/cc_BiLin\",\n",
    "    \"fruity/cc_BiLogLin\",\n",
    "  ]\n",
    "\n",
    "labels = [\"C11\", \"loglin \", \"linear\", \"bilin\", \"biloglin\"]\n",
    "\n",
    "compare(names, labels)"
   ]
  },
  {
   "cell_type": "code",
   "execution_count": null,
   "id": "35",
   "metadata": {},
   "outputs": [],
   "source": [
    "names = [\n",
    "    \"fruity/cc_A_0\",\n",
    "    \"fiducial/run\",\n",
    "    \"fruity/cc_A_0.5\",\n",
    "]\n",
    "labels = [\n",
    "    \"0\", \"0.5\", \"1\", \"1.5\"\n",
    "]\n",
    "\n",
    "compare(names, labels, sequential=True)\n"
   ]
  },
  {
   "cell_type": "code",
   "execution_count": null,
   "id": "36",
   "metadata": {},
   "outputs": [],
   "source": [
    "def plot_ycc_model(name, **kwargs):\n",
    "    m_h = np.linspace(-2, 0.8, 1000)\n",
    "    Z = gcem.MH_to_Z(m_h)\n",
    "    \n",
    "    surp.yields.set_yields(surp.YieldParams.from_file(f\"../models/{name}/yield_params.toml\"), verbose=False)\n",
    "\n",
    "    y_c_cc = vice.yields.ccsne.settings[\"c\"]\n",
    "    y_mg = vice.yields.ccsne.settings[\"mg\"]\n",
    "\n",
    "    y = [y_c_cc(z) for z in Z]\n",
    "    plt.plot(m_h, y, **kwargs)"
   ]
  },
  {
   "cell_type": "code",
   "execution_count": null,
   "id": "37",
   "metadata": {},
   "outputs": [],
   "source": [
    "surp.yields.set_yields(surp.YieldParams.from_file(f\"../models/fruity/yield_params.toml\"))"
   ]
  },
  {
   "cell_type": "code",
   "execution_count": null,
   "id": "38",
   "metadata": {},
   "outputs": [],
   "source": [
    "plot_ycc_model(\"fruity/cc_Lin\", label=\"linear\")\n",
    "plot_ycc_model(\"fruity/\", label=\"log quadratic\")\n",
    "plot_ycc_model(\"fruity/cc_LogLin\", label=\"log lin\")\n",
    "plot_ycc_model(\"fruity/cc_BiLogLin\", label=\"log lin with min (fiducial)\")\n",
    "\n",
    "plt.xlabel(r\"$\\log Z / Z_\\odot$\")\n",
    "plt.ylabel(r\"$y_{\\rm C}^{\\rm CC}$\")\n",
    "arya.Legend(-1)"
   ]
  },
  {
   "cell_type": "markdown",
   "id": "39",
   "metadata": {
    "tags": []
   },
   "source": [
    "# Analytic models"
   ]
  },
  {
   "cell_type": "code",
   "execution_count": null,
   "id": "40",
   "metadata": {},
   "outputs": [],
   "source": [
    "names = [\n",
    "    \"analytic/run\",\n",
    "    \"fiducial/run\"\n",
    "        ]\n",
    "labels = names\n",
    "compare(names, labels)"
   ]
  },
  {
   "cell_type": "code",
   "execution_count": null,
   "id": "41",
   "metadata": {},
   "outputs": [],
   "source": [
    "names = [\n",
    "    \"analytic/monash_like\",\n",
    "    \"monash/oob\"\n",
    "        ]\n",
    "labels = names\n",
    "compare(names, labels)"
   ]
  },
  {
   "cell_type": "code",
   "execution_count": null,
   "id": "42",
   "metadata": {},
   "outputs": [],
   "source": [
    "names = [\n",
    "    \"analytic/aton_like\",\n",
    "    \"aton/oob\"\n",
    "        ]\n",
    "labels = names\n",
    "compare(names, labels)"
   ]
  },
  {
   "cell_type": "code",
   "execution_count": null,
   "id": "43",
   "metadata": {},
   "outputs": [],
   "source": [
    "names = [\n",
    "    \"analytic/nugrid_like\",\n",
    "    \"nugrid/oob\"\n",
    "        ]\n",
    "labels = names\n",
    "compare(names, labels)"
   ]
  },
  {
   "cell_type": "markdown",
   "id": "44",
   "metadata": {},
   "source": [
    "### Properties of the analytic model\n",
    "\n",
    "I have the agb DTD\n",
    "the metallicity dependence\n",
    "and the minimum $t_D$ value"
   ]
  },
  {
   "cell_type": "code",
   "execution_count": null,
   "id": "45",
   "metadata": {},
   "outputs": [],
   "source": [
    "names = [\n",
    "    \"analytic/tau_agb0.1/\",\n",
    "    \"analytic/run\",\n",
    "    \"analytic/tau_agb1/\",\n",
    "    \"analytic/tau_agb2/\",\n",
    "\n",
    "]\n",
    "\n",
    "labels = [r\"$\\tau_{\\rm AGB} = 0.1$\", \"0.3\", \"1\", \"2 Gyr\"]\n",
    "compare(names, labels, sequential=True)"
   ]
  },
  {
   "cell_type": "code",
   "execution_count": null,
   "id": "46",
   "metadata": {},
   "outputs": [],
   "source": [
    "names = [\n",
    "    \"analytic/t_d_0/\",\n",
    "    \"analytic/default\",\n",
    "    \"analytic/t_d_0.3\",\n",
    "    \"analytic/t_d_1\",\n",
    "]\n",
    "\n",
    "labels = [r\"$t_D = 0.0$\", \"0.15\", \"0.3 Gyr\", \"1\"]\n",
    "compare(names, labels, sequential=True)"
   ]
  },
  {
   "cell_type": "code",
   "execution_count": null,
   "id": "47",
   "metadata": {},
   "outputs": [],
   "source": [
    "names = [\n",
    "    \"analytic/zeta_agb_0/\",\n",
    "    \"analytic/run\",\n",
    "    \"analytic/zeta_agb_-7e-4/\",\n",
    "]\n",
    "\n",
    "labels = [r\"zetaagb=0\", \"fiducial\", \"zetagb=2x\"]\n",
    "compare(names, labels, sequential=True)"
   ]
  },
  {
   "cell_type": "markdown",
   "id": "48",
   "metadata": {},
   "source": [
    "### Plots similar to above..."
   ]
  },
  {
   "cell_type": "code",
   "execution_count": null,
   "id": "49",
   "metadata": {},
   "outputs": [],
   "source": [
    "names = [\n",
    "    \"fruity/fz_0/\",\n",
    "    \"analytic/f_0.1/\",\n",
    "    \"analytic/run\",\n",
    "    \"analytic/f_0.3/\",\n",
    "    \"analytic/f_0.5/\",\n",
    "    \"analytic/f_1\",\n",
    "]\n",
    "\n",
    "labels = [r\"0.0\", r\"fz=0.1\", \"fz=0.2\", \"f=0.3\", \"f=0.5\", \"f=1\"]\n",
    "compare(names, labels, sequential=True)"
   ]
  },
  {
   "cell_type": "code",
   "execution_count": null,
   "id": "50",
   "metadata": {},
   "outputs": [],
   "source": [
    "names = [\n",
    "    \"analytic/fz_0.5/\",\n",
    "    \"analytic/run\",\n",
    "\n",
    "]\n",
    "\n",
    "labels = [r\"fz=0.5\", \"fz=0.2\"]\n",
    "compare(names, labels, sequential=True)"
   ]
  },
  {
   "cell_type": "markdown",
   "id": "51",
   "metadata": {},
   "source": [
    "TODO: models for different slopes, AGB fractions, and the combined problem."
   ]
  },
  {
   "cell_type": "markdown",
   "id": "52",
   "metadata": {},
   "source": [
    "# Other GCE Params"
   ]
  },
  {
   "cell_type": "markdown",
   "id": "53",
   "metadata": {
    "jp-MarkdownHeadingCollapsed": true
   },
   "source": [
    "## Yield scales"
   ]
  },
  {
   "cell_type": "code",
   "execution_count": null,
   "id": "54",
   "metadata": {},
   "outputs": [],
   "source": [
    "names = [\n",
    "    \"fruity/y0.8\",\n",
    "    \"fiducial/run\",\n",
    "]\n",
    "labels = [\n",
    "    r\"lower scale\",  \n",
    "    r\"fiducial\", \n",
    "    r\"higher scale\"\n",
    "]\n",
    "\n",
    "compare(names, labels, sequential=True)\n"
   ]
  },
  {
   "cell_type": "code",
   "execution_count": null,
   "id": "55",
   "metadata": {},
   "outputs": [],
   "source": [
    "names = [\n",
    "    \"fruity/yc0.6\",\n",
    "    \"fiducial/run\",\n",
    "    #\"C11_f0.2_yc1.5\",\n",
    "]\n",
    "labels = [\n",
    "    r\"lower scale\",  \n",
    "    r\"fiducial\", \n",
    "    r\"higher scale\"\n",
    "]\n",
    "\n",
    "compare(names, labels, sequential=True, ylim=(-0.5, 0.3))\n"
   ]
  },
  {
   "cell_type": "code",
   "execution_count": null,
   "id": "56",
   "metadata": {},
   "outputs": [],
   "source": [
    "names = [\"fiducial_run\",\n",
    "        \"fiducial/RIa_exp\"]\n",
    "labels = [\"fiducial\", \"exp\"]\n",
    "\n",
    "compare_cooh(names, labels, x=\"MG_FE\", filt_ha=False)\n",
    "plt.xlim(-0.05, 0.4)\n",
    "plt.ylabel(\"[Mg/Fe]\")"
   ]
  },
  {
   "cell_type": "code",
   "execution_count": null,
   "id": "57",
   "metadata": {},
   "outputs": [],
   "source": [
    "names = [\n",
    "    \"fiducial/run\",\n",
    "    \"fruity/snia_c\",\n",
    "]\n",
    "labels = [\n",
    "    r\"fiducial\", \n",
    "    r\"4 \\% SNe Ia C\",\n",
    "]\n",
    "\n",
    "compare(names, labels, sequential=True)\n"
   ]
  },
  {
   "cell_type": "markdown",
   "id": "58",
   "metadata": {},
   "source": [
    "## SFH models"
   ]
  },
  {
   "cell_type": "code",
   "execution_count": null,
   "id": "59",
   "metadata": {},
   "outputs": [],
   "source": [
    "names = [\n",
    "    \"fiducial/run\",\n",
    "    \"fiducial/twoinfall_liam\",\n",
    "    \"fiducial/conroy22\",\n",
    "    \"fiducial/lateburst\",\n",
    "]\n",
    "labels = [\n",
    "    r\"fiducial\", \n",
    "    r\"twoinfall\",\n",
    "    \"conroy+22\",\n",
    "    \"lateburst\"\n",
    "]\n",
    "\n",
    "compare(names, labels)\n"
   ]
  },
  {
   "cell_type": "code",
   "execution_count": null,
   "id": "60",
   "metadata": {},
   "outputs": [],
   "source": [
    "names = [\n",
    "    \"fiducial/twoinfall_t8\",\n",
    "    \"fiducial/twoinfall_t6\",\n",
    "    \"fiducial/twoinfall_liam\",\n",
    "    \"fiducial/twoinfall_t0\",\n",
    "]\n",
    "labels = [\n",
    "    r\"t=8\", \n",
    "    r\"t=6Gyr\",\n",
    "    \"t=4\",\n",
    "    \"t=0\",\n",
    "]\n",
    "\n",
    "compare(names, labels, sequential=True)\n"
   ]
  },
  {
   "cell_type": "code",
   "execution_count": null,
   "id": "61",
   "metadata": {},
   "outputs": [],
   "source": [
    "names = [\n",
    "    \"fiducial/run\",\n",
    "    \"fiducial/twoinfall_liam\",\n",
    "    \"fiducial/twoinfall\",\n",
    "    \"fiducial/twoinfall_0.5sanchez\",\n",
    "]\n",
    "labels = [\n",
    "    r\"fiducial\", \n",
    "    r\"twoinfall (liam)\",\n",
    "    \"twoinfall (spitoni)\",\n",
    "    \"steeper sfh\"\n",
    "]\n",
    "\n",
    "compare(names, labels)\n"
   ]
  },
  {
   "cell_type": "code",
   "execution_count": null,
   "id": "62",
   "metadata": {},
   "outputs": [],
   "source": [
    "names = [\n",
    "    \"fiducial/run\",\n",
    "    \"fiducial/twoinfall_liam\",\n",
    "    #\"fiducial/twoinfall_0.5sanchez\",\n",
    "    \"fiducial/twoinfall_A2\",\n",
    "]\n",
    "labels = [\n",
    "    r\"fiducial\", \n",
    "    r\"twoinfall\",\n",
    "    \"twoinfall (2x burst)\"\n",
    "]\n",
    "\n",
    "compare(names, labels)\n"
   ]
  },
  {
   "cell_type": "markdown",
   "id": "63",
   "metadata": {},
   "source": [
    "## Misc parameters"
   ]
  },
  {
   "cell_type": "code",
   "execution_count": null,
   "id": "64",
   "metadata": {},
   "outputs": [],
   "source": [
    "names = [\n",
    "    \"fiducial_run\",\n",
    "    \"fiducial/MWM\",\n",
    "]\n",
    "labels = [\n",
    "    r\"fiducial\", \n",
    "    r\"alt MWM\"\n",
    "]\n",
    "\n",
    "compare(names, labels, sequential=True)\n"
   ]
  },
  {
   "cell_type": "code",
   "execution_count": null,
   "id": "65",
   "metadata": {},
   "outputs": [],
   "source": [
    "names = [\n",
    "    \"fiducial/run\",\n",
    "    \"fiducial/imf_salpeter\",\n",
    "    \"fiducial/chabrier\",\n",
    "]\n",
    "labels = [\n",
    "    r\"kroupa\",  \n",
    "    r\"salpeter\", \n",
    "    \"chabrier\"\n",
    "]\n",
    "\n",
    "compare(names, labels, sequential=False)\n"
   ]
  },
  {
   "cell_type": "code",
   "execution_count": null,
   "id": "66",
   "metadata": {},
   "outputs": [],
   "source": [
    "names = [\n",
    "    \"fiducial/run\",\n",
    "    \"fiducial/mlr_mm1989\",\n",
    "]\n",
    "labels = [\n",
    "    r\"fiducial\",  \n",
    "    r\"vincenzo2016\", \n",
    "    r\"hpt2000\",\n",
    "    r\"pm\",\n",
    "    \"mm\"\n",
    "]\n",
    "\n",
    "compare(names, labels, sequential=False)\n"
   ]
  },
  {
   "cell_type": "code",
   "execution_count": null,
   "id": "67",
   "metadata": {},
   "outputs": [],
   "source": [
    "names = [\n",
    "    \"fiducial/migration_0.5\",\n",
    "    \"fiducial/run\",\n",
    "    \"fiducial/migration_2\",\n",
    "]\n",
    "labels = [\n",
    "    r\"weaker migration\",  \n",
    "    r\"fiducial\", \n",
    "    r\"stronger migration\"\n",
    "]\n",
    "\n",
    "compare(names, labels, sequential=True)\n"
   ]
  },
  {
   "cell_type": "code",
   "execution_count": null,
   "id": "68",
   "metadata": {},
   "outputs": [],
   "source": [
    "names = [\n",
    "    \"fiducial/dt0.05\",\n",
    "    \"fiducial/run\",\n",
    "    \"fiducial/dt0.01\",\n",
    "]\n",
    "labels = [\n",
    "    r\"larger timestep\",  \n",
    "    r\"fiducial\", \n",
    "    r\"smaller timestep\"\n",
    "]\n",
    "\n",
    "compare(names, labels, sequential=True)\n"
   ]
  },
  {
   "cell_type": "code",
   "execution_count": null,
   "id": "69",
   "metadata": {},
   "outputs": [],
   "source": [
    "names = [\n",
    "    \"fiducial/zone_width0.2\",\n",
    "    \"fiducial/run\",\n",
    "    \"fiducial/zone_width0.05\",\n",
    "]\n",
    "labels = [\n",
    "    r\"larger zonewidth\",  \n",
    "    r\"fiducial\", \n",
    "    r\"smaller zonewidth\"\n",
    "]\n",
    "\n",
    "compare(names, labels, sequential=True)\n"
   ]
  },
  {
   "cell_type": "code",
   "execution_count": null,
   "id": "70",
   "metadata": {},
   "outputs": [],
   "source": []
  },
  {
   "cell_type": "code",
   "execution_count": null,
   "id": "71",
   "metadata": {},
   "outputs": [],
   "source": [
    "names = [\n",
    "    \"fiducial/run\",\n",
    "    \"fiducial/hydrodisk\",\n",
    "]\n",
    "labels = [\n",
    "    r\"fiducial\",  \n",
    "    r\"hydrodisk\", \n",
    "]\n",
    "\n",
    "compare(names, labels, sequential=True)\n"
   ]
  },
  {
   "cell_type": "code",
   "execution_count": null,
   "id": "72",
   "metadata": {},
   "outputs": [],
   "source": [
    "names = [\n",
    "    \"fiducial/fastrun\",\n",
    "    \"fiducial/hydrodisk\",\n",
    "]\n",
    "labels = [\n",
    "    r\"fiducial\",  \n",
    "    r\"hydrodisk\", \n",
    "]\n",
    "\n",
    "compare(names, labels, sequential=True)\n"
   ]
  },
  {
   "cell_type": "code",
   "execution_count": null,
   "id": "73",
   "metadata": {},
   "outputs": [],
   "source": []
  }
 ],
 "metadata": {
  "kernelspec": {
   "display_name": "Python 3 (ipykernel)",
   "language": "python",
   "name": "python3"
  },
  "language_info": {
   "codemirror_mode": {
    "name": "ipython",
    "version": 3
   },
   "file_extension": ".py",
   "mimetype": "text/x-python",
   "name": "python",
   "nbconvert_exporter": "python",
   "pygments_lexer": "ipython3",
   "version": "3.11.9"
  }
 },
 "nbformat": 4,
 "nbformat_minor": 5
}
