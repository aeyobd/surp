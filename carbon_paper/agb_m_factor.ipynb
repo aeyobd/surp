{
 "cells": [
  {
   "cell_type": "markdown",
   "id": "0",
   "metadata": {},
   "source": [
    "# AGB Yields\n",
    "This notebook explores different representations and uncertanties with the \n",
    "AGB yield tables we have as applied to GCE Models.\n",
    "In particular, we consider the yield tables as 2D functions of mass and metallicity,\n",
    "1D functions of metallicity, and 1D functions of time."
   ]
  },
  {
   "cell_type": "code",
   "execution_count": null,
   "id": "1",
   "metadata": {},
   "outputs": [],
   "source": [
    "%load_ext autoreload\n",
    "%autoreload 2"
   ]
  },
  {
   "cell_type": "code",
   "execution_count": null,
   "id": "2",
   "metadata": {},
   "outputs": [],
   "source": [
    "import matplotlib.pyplot as plt\n",
    "import matplotlib as mpl\n",
    "import numpy as np\n",
    "import pandas as pd\n",
    "import scipy\n",
    "\n",
    "import vice\n",
    "\n",
    "import arya\n",
    "import surp\n",
    "from surp._globals import AGB_MODELS\n",
    "from surp import yields\n",
    "from surp.gce_math import Z_SUN, MH_to_Z, Z_to_MH\n",
    "from surp.yields import calc_y"
   ]
  },
  {
   "cell_type": "code",
   "execution_count": null,
   "id": "3",
   "metadata": {},
   "outputs": [],
   "source": [
    "from singlezone import run_singlezone"
   ]
  },
  {
   "cell_type": "code",
   "execution_count": null,
   "id": "4",
   "metadata": {},
   "outputs": [],
   "source": [
    "surp.set_yields()"
   ]
  },
  {
   "cell_type": "code",
   "execution_count": null,
   "id": "5",
   "metadata": {},
   "outputs": [],
   "source": [
    "m_factors = [0.25, 0.5, 0.8, 1, 1.2, 1.5, 2]\n",
    "\n",
    "for i in range(len(m_factors)):\n",
    "    label = m_factors[i]\n",
    "    vice.yields.agb.settings[\"c\"] = agb_interpolator(\"c\", mass_factor=m_factors[i], pinch_mass=1)\n",
    "    \n",
    "    plot_yields()\n",
    "    plt.title(f\"m factor = {label}\")\n",
    "    plt.show()"
   ]
  },
  {
   "cell_type": "code",
   "execution_count": null,
   "id": "6",
   "metadata": {},
   "outputs": [],
   "source": [
    "Z = MH_to_Z(-0.1)\n",
    "\n",
    "\n",
    "m_factors = [0.5, 0.8, 1, 1.2, 1.5]\n",
    "vice.yields.ccsne.settings[\"c\"] = 0\n",
    "\n",
    "for i in range(len(m_factors)):\n",
    "    label = m_factors[i]\n",
    "    vice.yields.agb.settings[\"c\"] = agb_interpolator(\"c\", mass_factor=m_factors[i])\n",
    "    plot_ssp_time(normalize=False, Z=Z, label=m_factors[i])\n",
    "\n",
    "\n",
    "vice.yields.ccsne.settings[\"fe\"] = 0\n",
    "plot_ssp_time(\"fe\", color=\"k\", normalize=False, ls=\"--\", Z=Z)\n",
    "\n",
    "arya.Legend(-1, title=\"mass factor\")\n",
    "\n",
    "\n",
    "plt.xlim(0.03, 13.2)\n",
    "plt.xticks([0.1, 1, 10], labels=[0.1, 1, 10])\n"
   ]
  },
  {
   "cell_type": "code",
   "execution_count": null,
   "id": "7",
   "metadata": {},
   "outputs": [],
   "source": [
    "Z = MH_to_Z(-0.1)\n",
    "\n",
    "\n",
    "m_factors = [0.5, 0.8, 1, 1.2, 1.5]\n",
    "\n",
    "for i in range(len(m_factors)):\n",
    "    label = m_factors[i]\n",
    "    vice.yields.agb.settings[\"c\"] = agb_interpolator(\"c\", mass_factor=m_factors[i])\n",
    "    plot_y_z(label=m_factors[i])\n",
    "\n",
    "\n",
    "\n",
    "arya.Legend(-1, title=\"mass factor\")\n",
    "\n"
   ]
  },
  {
   "cell_type": "code",
   "execution_count": null,
   "id": "8",
   "metadata": {},
   "outputs": [],
   "source": [
    "y_agb = vice.yields.agb.settings"
   ]
  },
  {
   "cell_type": "code",
   "execution_count": null,
   "id": "9",
   "metadata": {},
   "outputs": [],
   "source": [
    "agb_grid = vice.yields.agb.grid"
   ]
  },
  {
   "cell_type": "code",
   "execution_count": null,
   "id": "10",
   "metadata": {},
   "outputs": [],
   "source": [
    "agb_interpolator = surp.agb_interpolator.interpolator"
   ]
  },
  {
   "cell_type": "code",
   "execution_count": null,
   "id": "11",
   "metadata": {},
   "outputs": [],
   "source": [
    "AGB_LABELS = [\"FRUITY\", \"ATON\", \"Monash\",  \"NuGrid\"]"
   ]
  },
  {
   "cell_type": "code",
   "execution_count": null,
   "id": "12",
   "metadata": {},
   "outputs": [],
   "source": [
    "AGB_MODELS, AGB_LABELS"
   ]
  },
  {
   "cell_type": "code",
   "execution_count": null,
   "id": "13",
   "metadata": {},
   "outputs": [],
   "source": [
    "Z_max = 0.02\n",
    "Z_min = 0.0001\n",
    "\n",
    "hmap = arya.figure.colorbar.HueMap((Z_to_MH(Z_min),Z_to_MH(Z_max)))\n",
    "\n",
    "\n",
    "def plot_yield_table(study = \"cristallo11\", hmap=hmap, ele=\"c\", fmt=\"o\", \n",
    "                     ax=None, fig=None, factor=1, **kwargs):\n",
    "    \"\"\"\n",
    "    Plots the yield table in VICE (without modification) for each metallicity\n",
    "    \"\"\"\n",
    "    \n",
    "    if ax is None:\n",
    "        ax = plt.gca()\n",
    "        ylabel = r\"$Y_{\\rm C}^{\\rm AGB}$\"\n",
    "        if factor != 1:\n",
    "            ylabel += \"$\\quad [\\times 10^{-%i}]$\" % np.log10(factor)\n",
    "        ax.set(xlabel=r'Mass / ${\\rm M}_\\odot$', ylabel=ylabel )\n",
    "        \n",
    "    yields, masses, Zs = agb_grid(ele, study=study)\n",
    "    N = len(Zs)\n",
    "\n",
    "    for i in range(N):\n",
    "        y = np.array(yields)[:,i] * factor\n",
    "        Z = Zs[i]\n",
    "        c = hmap(Z_to_MH(Z))\n",
    "        f = ax.plot(masses, y, fmt, label=f\"Z = {Z}\", c=c, **kwargs)\n",
    "    \n",
    "    ax.axhline(0, color=\"k\", ls=\":\", zorder=-1)\n",
    "\n",
    "    return f"
   ]
  },
  {
   "cell_type": "code",
   "execution_count": null,
   "id": "14",
   "metadata": {},
   "outputs": [],
   "source": [
    "def plot_yields(study = \"cristallo11\", masses=np.linspace(0.08, 8.01, 1000), Zs=None, ele=\"c\", \n",
    "                ax=None, fig=None, hmap=hmap, factor=1, **kwargs):\n",
    "    \"\"\"\n",
    "    Plots the yields (assuming the current setting is a surp.agb_interpolator)\n",
    "    for each given mass and metallicity.\n",
    "    \n",
    "    \"\"\"\n",
    "    \n",
    "    if ax is None:\n",
    "        ax = plt.gca()\n",
    "        ylabel = r\"$Y_{\\rm C}^{\\rm AGB}$\"\n",
    "        if factor != 1:\n",
    "            ylabel += \"$\\quad [\\times 10^{-%i}]$\" % np.log10(factor)\n",
    "        ax.set(xlabel=r'Mass / ${\\rm M}_\\odot$', ylabel=ylabel )\n",
    "\n",
    "\n",
    "    if Zs is None:\n",
    "        _yields, _masses, Zs = agb_grid(ele, study=y_agb[ele].study)\n",
    "    \n",
    "    ya = y_agb[ele]\n",
    "    for i in range(len(Zs)):\n",
    "        Z = Zs[i] \n",
    "        c = hmap(Z_to_MH(Z))\n",
    "        y = [ya(m, Z)*factor for m in masses]\n",
    "        f = ax.plot(masses, y, label=f\"Z = {Z}\", c=c, **kwargs)\n",
    "\n",
    "    return f"
   ]
  },
  {
   "cell_type": "code",
   "execution_count": null,
   "id": "15",
   "metadata": {},
   "outputs": [],
   "source": [
    "def plot_y_z(Zs=MH_to_Z(np.linspace(-2.7, 0.6, 100)), ele=\"c\", kind=\"agb\", fmt=\"-\", factor = 1e4, **kwargs):\n",
    "    \"\"\"\n",
    "        plot_y_z(Zs, ele, kind, fmt, factor, kwargs)\n",
    "    \n",
    "    plots the metallicity dependence of the AGB yield over a given range of metallicities. \n",
    "    Uses the current yield setting\n",
    "    \"\"\"\n",
    "    \n",
    "    y_c_agb = calc_y(Zs, ele=ele, kind=kind) * factor\n",
    "    \n",
    "    plt.axhline(0, color=\"k\", ls=\":\")\n",
    "    plt.xlabel(r\"$\\log Z/Z_\\odot$\")\n",
    "    plt.ylabel(r\"$y_{\\rm C}^{\\rm AGB}\\quad[\\times 10^{-%i}]$\" % np.log10(factor))\n",
    "    \n",
    "    return plt.plot(Z_to_MH(Zs), y_c_agb, fmt, **kwargs), y_c_agb"
   ]
  },
  {
   "cell_type": "code",
   "execution_count": null,
   "id": "16",
   "metadata": {},
   "outputs": [],
   "source": [
    "tau_switch = 1\n",
    "def plot_ssp_time(ele=\"c\", Z=surp.Z_SUN, imf=\"kroupa\", normalize=True, dt=0.01, t_end=10, color=None, verbose=True, **kwargs):\n",
    "    \"\"\"\n",
    "        plot_ssp_time(ele, Z, normalize, **kwargs(\n",
    "        \n",
    "    plots the SSP yield over time for the current yield setting\n",
    "    \"\"\"\n",
    "    \n",
    "    m_c, times = vice.single_stellar_population(ele, Z=Z, dt=dt, time=t_end, mstar=1, IMF=imf)\n",
    "    \n",
    "    y = np.array(m_c)\n",
    "    if normalize:\n",
    "        y /= y[-1]\n",
    "    \n",
    "    plt.plot(times, y, color=color, **kwargs)\n",
    "    \n",
    "    \n",
    "    # plot 50% time\n",
    "    f = scipy.interpolate.interp1d(y, times)\n",
    "\n",
    "    y_1_2 = 0.5*y[-1]\n",
    "    plt.scatter(f(y_1_2), y_1_2, color=color)\n",
    "        \n",
    "    if verbose:\n",
    "        print(f\"model = {y_agb[ele]}\")\n",
    "        print(f\"t1/2 = {f(y_1_2):0.2f}\")\n",
    "\n",
    "        times = np.array(times)\n",
    "        idx = np.where(times >= tau_switch)[0][1]\n",
    "\n",
    "        y_late = y[-1] - y[idx]\n",
    "        print(f\"y(t>{times[idx]}) = {y_late:0.2f}\")\n",
    "        print(f\"y max = {np.max(y):0.2f}\")\n",
    "        print(f\"y min = {np.min(y):0.2f}\")\n",
    "   \n",
    "        print()\n",
    "    \n",
    "    plt.xlabel(r\"$t$ / Gyr\")\n",
    "    plt.xscale(\"log\")\n",
    "    \n",
    "    if normalize:\n",
    "        plt.ylabel(r\"$y_{\\rm C}^{\\rm AGB}(t)\\;/\\;y_{\\rm C}^{\\rm AGB}(t_{\\rm end})$\")\n",
    "    else:\n",
    "        plt.ylabel(r\"$y_{\\rm C}^{\\rm AGB}(t)$\")\n",
    "\n",
    "    \n",
    "    return times, y"
   ]
  },
  {
   "cell_type": "code",
   "execution_count": null,
   "id": "17",
   "metadata": {},
   "outputs": [],
   "source": [
    "plt.figure(figsize=(10/3, 10/3))\n",
    "\n",
    "vice.yields.ccsne.settings[\"c\"] = 0\n",
    "vice.yields.sneia.settings[\"c\"] = 0\n",
    "vice.yields.ccsne.settings[\"fe\"] = 0\n",
    "vice.yields.agb.settings[\"fe\"] = surp.yield_models.ZeroAGB()\n",
    "\n",
    "\n",
    "for i in range(4):\n",
    "    model = AGB_MODELS[i]\n",
    "    vice.yields.agb.settings[\"c\"] = agb_interpolator(\"c\", study=model)\n",
    "    times, y = plot_ssp_time(label=AGB_LABELS[i])\n",
    "  \n",
    "    \n",
    "plt.text(3, 0.7, \"SNe Ia Fe\", rotation=42, color=\"k\")\n",
    "plot_ssp_time(\"fe\", color=\"k\", ls=\"--\", zorder=-1)\n",
    "\n",
    "\n",
    "plt.ylim(-0.3, 1.2)\n",
    "plt.xlim(0.03, 13.2)\n",
    "plt.xticks([0.1, 1, 10], labels=[0.1, 1, 10])\n",
    "\n",
    "arya.Legend(color_only=True)\n",
    "\n",
    "plt.savefig(\"figures/y_agb_vs_t.pdf\")"
   ]
  },
  {
   "cell_type": "markdown",
   "id": "18",
   "metadata": {
    "tags": []
   },
   "source": [
    "# Extra"
   ]
  },
  {
   "cell_type": "markdown",
   "id": "19",
   "metadata": {},
   "source": [
    "# Lin Approx"
   ]
  },
  {
   "cell_type": "code",
   "execution_count": null,
   "id": "20",
   "metadata": {},
   "outputs": [],
   "source": [
    "import sys\n",
    "sys.path.append(\"../models/\")\n",
    "import make_yields"
   ]
  },
  {
   "cell_type": "code",
   "execution_count": null,
   "id": "21",
   "metadata": {},
   "outputs": [],
   "source": [
    "make_yields.Y_C_AGB"
   ]
  },
  {
   "cell_type": "code",
   "execution_count": null,
   "id": "22",
   "metadata": {},
   "outputs": [],
   "source": [
    "for model in AGB_MODELS:\n",
    "    print(model)\n",
    "    print(\"y = \", make_yields.Y_C_AGB[model])\n",
    "    print(\"zeta = \", make_yields.ZETA_C_AGB[model])\n",
    "    print(\"f(solar) = \", make_yields.Y_C_AGB[model] / make_yields.Y_C_0)"
   ]
  },
  {
   "cell_type": "code",
   "execution_count": null,
   "id": "23",
   "metadata": {},
   "outputs": [],
   "source": [
    "for model in AGB_MODELS:\n",
    "    vice.yields.agb.settings[\"c\"] = agb_interpolator(\"c\", study=model)\n",
    "    line = plot_y_z(label=model)\n",
    "    y0 = make_yields.Y_C_AGB[model]\n",
    "    zeta =  make_yields.ZETA_C_AGB[model]\n",
    "    MH = np.linspace(-1.5, 0.5, 1000)\n",
    "    print(y0)\n",
    "    print(zeta)\n",
    "    plt.plot(MH, 1e4 * (y0 + zeta*MH), ls=\"--\", color=line[0][0].get_color())\n",
    "    \n",
    "\n",
    "arya.Legend(-1)"
   ]
  },
  {
   "cell_type": "markdown",
   "id": "24",
   "metadata": {
    "tags": []
   },
   "source": [
    "## DTS"
   ]
  },
  {
   "cell_type": "code",
   "execution_count": null,
   "id": "25",
   "metadata": {},
   "outputs": [],
   "source": [
    "plt.figure(figsize=(10/3, 10/3))\n",
    "\n",
    "vice.yields.ccsne.settings[\"c\"] = 0\n",
    "vice.yields.sneia.settings[\"c\"] = 0\n",
    "vice.yields.ccsne.settings[\"fe\"] = 0\n",
    "\n",
    "for i in range(4):\n",
    "    model = AGB_MODELS[i]\n",
    "    vice.yields.agb.settings[\"c\"] = model\n",
    "    plot_ssp_time(label=model)\n",
    "    \n",
    "\n",
    "plt.text(3, 0.7, \"SNe Ia Fe\", rotation=42, color=\"k\")\n",
    "plot_ssp_time(\"fe\", color=\"k\", ls=\"--\")\n",
    "\n",
    "plt.ylim(-0.3, 1.2)\n",
    "plt.xlim(0.03, 13.2)\n",
    "plt.xticks([0.1, 1, 10], labels=[0.1, 1, 10])\n"
   ]
  },
  {
   "cell_type": "code",
   "execution_count": null,
   "id": "26",
   "metadata": {},
   "outputs": [],
   "source": [
    "plt.figure(figsize=(10/3, 10/3))\n",
    "\n",
    "vice.yields.ccsne.settings[\"c\"] = 0\n",
    "vice.yields.sneia.settings[\"c\"] = 0\n",
    "vice.yields.ccsne.settings[\"fe\"] = 0\n",
    "vice.yields.agb.settings[\"fe\"] = surp.yield_models.ZeroAGB()\n",
    "Z = MH_to_Z(-0.0)\n",
    "\n",
    "\n",
    "for i in range(4):\n",
    "    model = AGB_MODELS[i]\n",
    "    vice.yields.agb.settings[\"c\"] = agb_interpolator(\"c\", study=model)\n",
    "    plot_ssp_time(normalize=False, Z=Z, label=model, verbose=False)\n",
    "\n",
    "\n",
    "\n",
    "plt.xlim(0.03, 13.2)\n",
    "plt.xticks([0.1, 1, 10], labels=[0.1, 1, 10])\n",
    "arya.Legend(-1)\n"
   ]
  },
  {
   "cell_type": "markdown",
   "id": "27",
   "metadata": {},
   "source": [
    "same as figure just above but for VICE default settings"
   ]
  },
  {
   "cell_type": "code",
   "execution_count": null,
   "id": "28",
   "metadata": {},
   "outputs": [],
   "source": [
    "cmap = arya.style.get_cmap()\n",
    "\n",
    "\n",
    "\n",
    "model = \"cristallo11\"\n",
    "mpp = arya.figure.colorbar.HueMap([-4, 1])\n",
    "\n",
    "\n",
    "for model in [\"cristallo11\", \"karakas10\", \"ventura13\", \"karakas16\"]:\n",
    "    _, _, z1 = vice.yields.agb.grid(\"c\", model)\n",
    "    plt.title(model)\n",
    "\n",
    "    plt.xscale(\"log\")\n",
    "    cmap = arya.style.get_cmap()\n",
    "    y_agb[\"c\"] = agb_interpolator(\"c\", study=model)\n",
    "    for i in range(len(z1)):\n",
    "        z = z1[i]\n",
    "        plot_ssp_time(Z=z, color=hmap(Z_to_MH(z)), normalize=False, verbose=False)\n",
    "\n",
    "\n",
    "\n",
    "    arya.Colorbar(huemap=mpp, ax=plt.gca())\n",
    "    plt.show()"
   ]
  },
  {
   "cell_type": "code",
   "execution_count": null,
   "id": "29",
   "metadata": {},
   "outputs": [],
   "source": [
    "plt.figure(figsize=(10/3, 10/3))\n",
    "\n",
    "vice.yields.ccsne.settings[\"c\"] = 0\n",
    "vice.yields.sneia.settings[\"c\"] = 0\n",
    "vice.yields.ccsne.settings[\"fe\"] = 0\n",
    "\n",
    "for i in range(4):\n",
    "    model = AGB_MODELS[i]\n",
    "    vice.yields.agb.settings[\"c\"] = model\n",
    "    m_c, times = vice.single_stellar_population(\"c\", Z=0.014 * 10**0, dt=0.01)\n",
    "    y = np.array(m_c)/m_c[-1]\n",
    "    dt = times[1] - times[0]\n",
    "    plt.plot(times[:-1], (y[1:] - y[:-1])/dt)\n",
    "        \n",
    "\n",
    "m_fe, times = vice.single_stellar_population(\"fe\", Z=0.014)\n",
    "y = np.array(m_fe)/m_fe[-1]\n",
    "plt.plot(times[:-1], (y[1:] - y[:-1])/dt, \n",
    "         linestyle=\"--\", zorder=-1, color=\"k\")\n",
    "\n",
    "\n",
    "\n",
    "plt.xlabel(r\"$t$ (Gyr)\")\n",
    "plt.ylabel(r\"$y(t)\\;/\\;y(t_{\\rm end})$\")\n",
    "plt.xscale(\"log\")\n",
    "plt.xlim(0.03, 13.2)\n",
    "plt.ylim(0, 4)\n",
    "plt.xticks([0.1, 1, 10], labels=[0.1, 1, 10])\n",
    "x = np.array(times)\n",
    "\n",
    "\n",
    "vice.yields.agb.settings[\"c\"] = surp.yield_models.C_AGB_Model()\n",
    "m_c, times = vice.single_stellar_population(\"c\", Z=0.014 * 10**0, dt=0.01)\n",
    "y = np.array(m_c)/m_c[-1]\n",
    "dt = times[1] - times[0]\n",
    "plt.plot(times[:-1], (y[1:] - y[:-1])/dt)\n",
    "\n",
    "arya.Legend(-1)"
   ]
  },
  {
   "cell_type": "markdown",
   "id": "30",
   "metadata": {
    "tags": []
   },
   "source": [
    "## yields "
   ]
  },
  {
   "cell_type": "code",
   "execution_count": null,
   "id": "31",
   "metadata": {},
   "outputs": [],
   "source": [
    "Zs = MH_to_Z(np.arange(-2.5, 0.8, 0.2))\n",
    "for i in range(4):\n",
    "    study = AGB_MODELS[i]\n",
    "    label = AGB_LABELS[i]\n",
    "    y_agb[\"c\"] = agb_interpolator(\"c\", study=study)\n",
    "    plot_yields(study, Zs=Zs)\n",
    "    plt.xlabel(r'Mass / ${\\rm M}_\\odot$')\n",
    "    plt.ylabel(r\"AGB C yield ($\\times 10^{-2}$)\")\n",
    "    plt.title(label)\n",
    "    plt.show()"
   ]
  },
  {
   "cell_type": "markdown",
   "id": "32",
   "metadata": {
    "tags": []
   },
   "source": [
    "## Interpolation methods"
   ]
  },
  {
   "cell_type": "code",
   "execution_count": null,
   "id": "33",
   "metadata": {},
   "outputs": [],
   "source": [
    "y_c_lin = agb_interpolator(\"c\", interp_kind=\"linear\", low_z_flat=False)\n",
    "y_c_log = agb_interpolator(\"c\", interp_kind=\"log\", low_z_flat=True)\n",
    "y_c_spline = agb_interpolator(\"c\", interp_kind=\"spline\")\n",
    "\n",
    "y_cs = {\n",
    "    \"linear\": y_c_lin,\n",
    "    \"log\": y_c_log,\n",
    "    \"spline\": y_c_spline\n",
    "}"
   ]
  },
  {
   "cell_type": "code",
   "execution_count": null,
   "id": "34",
   "metadata": {
    "tags": []
   },
   "outputs": [],
   "source": [
    "# just making sure this works\n",
    "surp.set_yields(surp.YieldParams.from_file(\"../models/C11_f0.2_splineint/yield_params.json\"))\n",
    "plot_yields()"
   ]
  },
  {
   "cell_type": "code",
   "execution_count": null,
   "id": "35",
   "metadata": {},
   "outputs": [],
   "source": [
    "Z = MH_to_Z(np.linspace(-3, 1, 15))\n",
    "\n",
    "for label, model in y_cs.items():\n",
    "    vice.yields.agb.settings[\"c\"] = model\n",
    "\n",
    "    plot_yields()\n",
    "    plot_yield_table()\n",
    "    plt.title(label)\n",
    "    plt.show()\n",
    "\n"
   ]
  },
  {
   "cell_type": "code",
   "execution_count": null,
   "id": "36",
   "metadata": {},
   "outputs": [],
   "source": [
    "Zs = MH_to_Z(np.linspace(-3, 1, 15))\n",
    "\n",
    "for label, model in y_cs.items():\n",
    "    vice.yields.agb.settings[\"c\"] = model\n",
    "\n",
    "    plot_yields(Zs=Zs)\n",
    "    plt.title(label)\n",
    "    plt.show()\n",
    "\n"
   ]
  },
  {
   "cell_type": "code",
   "execution_count": null,
   "id": "37",
   "metadata": {},
   "outputs": [],
   "source": [
    "Z = 0.016\n",
    "vice.yields.ccsne.settings[\"c\"] = 0\n",
    "for label, model in y_cs.items():\n",
    "    vice.yields.agb.settings[\"c\"] = model\n",
    "\n",
    "    plot_ssp_time(normalize=False, Z=Z, label=label)\n",
    "\n",
    "arya.Legend(-1)\n"
   ]
  },
  {
   "cell_type": "code",
   "execution_count": null,
   "id": "38",
   "metadata": {},
   "outputs": [],
   "source": [
    "\n",
    "for label, model in y_cs.items():\n",
    "    vice.yields.agb.settings[\"c\"] = model\n",
    "    plot_y_z(label=label)\n",
    "\n",
    "arya.Legend(-1)\n"
   ]
  },
  {
   "cell_type": "markdown",
   "id": "39",
   "metadata": {},
   "source": [
    "Like DTD figures but for the derivative."
   ]
  },
  {
   "cell_type": "code",
   "execution_count": null,
   "id": "40",
   "metadata": {},
   "outputs": [],
   "source": [
    "params_lin = surp.YieldParams.from_file(\"../models/C11_f0.2_lininterp/yield_params.json\")\n",
    "params_fiducial = surp.YieldParams.from_file(\"../models/C11_f0.2/yield_params.json\")\n",
    "\n",
    "params_lin.c_agb_alpha = 1\n",
    "params_fiducial.c_agb_alpha = 1"
   ]
  },
  {
   "cell_type": "code",
   "execution_count": null,
   "id": "41",
   "metadata": {
    "tags": []
   },
   "outputs": [],
   "source": [
    "\n",
    "surp.yields.set_yields(params_fiducial, verbose=False)\n",
    "plot_y_z(Zs);\n",
    "\n",
    "surp.yields.set_yields(params_lin, verbose=False)\n",
    "plot_y_z(Zs);\n",
    "\n",
    "\n",
    "vice.yields.agb.settings[\"c\"] = \"cristallo11\"\n",
    "plot_y_z(Zs, ls=\"--\");\n",
    "\n",
    "plt.xlabel(\"[M/H]\")\n",
    "plt.ylabel(\"yield\")"
   ]
  },
  {
   "cell_type": "code",
   "execution_count": null,
   "id": "42",
   "metadata": {
    "tags": []
   },
   "outputs": [],
   "source": [
    "plt.figure(figsize=(10/3, 10/3))\n",
    "\n",
    "Z = MH_to_Z(0.5)\n",
    "\n",
    "\n",
    "for params in [params_fiducial, params_lin]:\n",
    "    surp.yields.set_yields(params, verbose=False)\n",
    "    vice.yields.ccsne.settings[\"c\"] = 0\n",
    "    vice.yields.sneia.settings[\"c\"] = 0\n",
    "    vice.yields.ccsne.settings[\"fe\"] = 0\n",
    "    vice.yields.agb.settings[\"fe\"] = surp.yield_models.ZeroAGB()\n",
    "    \n",
    "    times, y = plot_ssp_time(normalize=False, Z=Z)\n",
    "\n",
    "    print()\n",
    "\n",
    "vice.yields.agb.settings[\"c\"] = \"cristallo11\"\n",
    "times, y = plot_ssp_time(normalize=False, Z=Z, ls=\"--\")\n",
    "\n",
    "arya.Legend(-1)\n",
    "\n",
    "plt.xlabel(r\"$t$ / Gyr\")\n",
    "plt.ylabel(r\"$y_{\\rm C}^{\\rm AGB}(t)\\;/\\;y_{\\rm C}^{\\rm AGB}(t_{\\rm end})$\")\n",
    "plt.xscale(\"log\")"
   ]
  },
  {
   "cell_type": "markdown",
   "id": "43",
   "metadata": {},
   "source": [
    "## Lowest mass & negative yields"
   ]
  },
  {
   "cell_type": "code",
   "execution_count": null,
   "id": "44",
   "metadata": {},
   "outputs": [],
   "source": [
    "\n",
    "study = \"cristallo11\"\n",
    "\n",
    "y_cs = {\n",
    "    \"y_c_extrap\": agb_interpolator(\"c\", study=study, min_mass=0.08, pinch_mass=None),\n",
    "    \"y_c_no_neg\":  agb_interpolator(\"c\", study=study,min_mass=0.08, no_negative=True, no_negative_mass=1.5, pinch_mass=None),\n",
    "    \"y_c_pinch\":  agb_interpolator(\"c\", study=study,pinch_mass=0.5),\n",
    "    \"y_c_pinch_1\":  agb_interpolator(\"c\", study=study),\n",
    "\n",
    "    \"y_c_trunc\":  agb_interpolator(\"c\", study=study, min_mass=\"lowest\", pinch_mass=None),\n",
    "}"
   ]
  },
  {
   "cell_type": "code",
   "execution_count": null,
   "id": "45",
   "metadata": {},
   "outputs": [],
   "source": [
    "Zs = MH_to_Z(np.linspace(-3, 1, 15))\n",
    "\n",
    "for label, model in y_cs.items():\n",
    "    vice.yields.agb.settings[\"c\"] = model\n",
    "\n",
    "    plot_yields(Zs=Zs)\n",
    "    plt.title(label)\n",
    "    plt.xlim(0.08, 4)\n",
    "    plt.show()\n",
    "\n"
   ]
  },
  {
   "cell_type": "code",
   "execution_count": null,
   "id": "46",
   "metadata": {},
   "outputs": [],
   "source": [
    "for Z in [1e-4, 0.001, 0.016, 0.03]:\n",
    "    vice.yields.ccsne.settings[\"c\"] = 0\n",
    "    for label, model in y_cs.items():\n",
    "        vice.yields.agb.settings[\"c\"] = model\n",
    "\n",
    "        plot_ssp_time(normalize=False, Z=Z, label=label)\n",
    "\n",
    "    arya.Legend(-1)\n",
    "    plt.title(Z)\n",
    "    plt.xlim(0.3)\n",
    "\n",
    "    plt.show()\n"
   ]
  },
  {
   "cell_type": "code",
   "execution_count": null,
   "id": "47",
   "metadata": {},
   "outputs": [],
   "source": [
    "\n",
    "for label, model in y_cs.items():\n",
    "    vice.yields.agb.settings[\"c\"] = model\n",
    "    plot_y_z(label=label)\n",
    "\n",
    "arya.Legend(-1)\n"
   ]
  },
  {
   "cell_type": "markdown",
   "id": "48",
   "metadata": {
    "tags": []
   },
   "source": [
    "## Nitrogen"
   ]
  },
  {
   "cell_type": "code",
   "execution_count": null,
   "id": "49",
   "metadata": {},
   "outputs": [],
   "source": [
    "\n",
    "def plot_n_table(study = \"cristallo11\", ax=None, fig=None, factor=1e2, **kwargs):\n",
    "    if ax is None:\n",
    "        fig, ax = plt.subplots()\n",
    "\n",
    "    y1, m1, z1 = vice.yields.agb.grid('n', study=study)\n",
    "    N = len(z1)\n",
    "\n",
    "    for i in range(N):\n",
    "        y = np.array(y1)[:,i] * factor\n",
    "        z = z1[i] \n",
    "        c = hmap(np.log10(z/0.014))\n",
    "        f = ax.plot(m1, y, \"o\", label=f\"Z = {z}\", c=(c), **kwargs)\n",
    "        f = ax.plot(m1, y, label=f\"Z = {z}\", c=(c), **kwargs)\n",
    "        # ax.set_xticks(np.arange(1, 8))\n",
    "    \n",
    "    ax.axhline(0, color=\"k\", ls=\":\", zorder=-1)\n",
    "\n",
    "    return f"
   ]
  },
  {
   "cell_type": "code",
   "execution_count": null,
   "id": "50",
   "metadata": {},
   "outputs": [],
   "source": [
    "plot_n_table(\"pignatari16\")\n",
    "arya.Colorbar(huemap=hmap, ax=plt.gca(), label=r\"Metallicity ($\\log Z/Z_\\odot$)\")\n",
    "plt.xlabel(\"M/Msun\")\n",
    "plt.ylabel(r\"$y_{\\rm N}$ --- R18\")"
   ]
  },
  {
   "cell_type": "code",
   "execution_count": null,
   "id": "51",
   "metadata": {},
   "outputs": [],
   "source": [
    "yields.set_yields()\n",
    "Z = MH_to_Z(np.linspace(-2, 1))\n",
    "\n",
    "plot_y_z(Z, ele=\"n\", label=\"linear\");\n",
    "\n",
    "y_agb[\"n\"] = \"pignatari16\"\n",
    "\n",
    "plot_y_z(Z, ele=\"n\", label=\"P16\");\n",
    "plt.xlabel(\"[M/H]\")\n",
    "plt.ylabel(\"y_N\")\n",
    "\n",
    "plt.legend()\n",
    "plt.savefig(\"figures/_y_n_z.pdf\")"
   ]
  },
  {
   "cell_type": "code",
   "execution_count": null,
   "id": "52",
   "metadata": {},
   "outputs": [],
   "source": [
    "plot_yield_table(\"pignatari16\", ele=\"n\", fmt=\"o-\")\n"
   ]
  },
  {
   "cell_type": "markdown",
   "id": "53",
   "metadata": {
    "tags": []
   },
   "source": [
    "## Testing the oob settings"
   ]
  },
  {
   "cell_type": "code",
   "execution_count": null,
   "id": "54",
   "metadata": {},
   "outputs": [],
   "source": [
    "plt.figure(figsize=(10/3, 10/3))\n",
    "\n",
    "\n",
    "\n",
    "for i in range(4):\n",
    "    model = AGB_LABELS[i]\n",
    "    yname = f\"../models/{model}_oob/yield_params.json\"\n",
    "    surp.set_yields(surp.YieldParams.from_file(yname))\n",
    "    vice.yields.ccsne.settings[\"c\"] = 0\n",
    "    times, y = plot_ssp_time()\n",
    "    \n",
    "    vice.yields.agb.settings[\"c\"] = agb_interpolator(\"c\", study=AGB_MODELS[i])\n",
    "    times, y = plot_ssp_time()\n",
    "\n",
    "\n",
    "\n",
    "plt.xlabel(r\"$t$ / Gyr\")\n",
    "plt.ylabel(r\"$y_{\\rm C}^{\\rm AGB}(t)\\;/\\;y_{\\rm C}^{\\rm AGB}(t_{\\rm end})$\")\n",
    "plt.xscale(\"log\")\n",
    "\n",
    "plt.ylim(-0.3, 1.2)\n",
    "plt.xlim(0.03, 13.2)"
   ]
  },
  {
   "cell_type": "markdown",
   "id": "55",
   "metadata": {},
   "source": [
    "As expected, the surp yield settings exactly reproduce what the interpolator uses"
   ]
  },
  {
   "cell_type": "code",
   "execution_count": null,
   "id": "56",
   "metadata": {},
   "outputs": [],
   "source": [
    "x_min = -2.5\n",
    "x_max = 0.6\n",
    "N_points = 100\n",
    "scale = 1e4\n",
    "ele = \"c\"\n",
    "\n",
    "vice.yields.ccsne.settings[ele] = 0\n",
    "vice.yields.sneia.settings[ele] = 0\n",
    "\n",
    "plt.figure(figsize=(10/3, 10/3))\n",
    "\n",
    "MoverH_min = -2.5\n",
    "MoverH_max = 0.5\n",
    "Zs = MH_to_Z(np.linspace(MoverH_min, MoverH_max, N_points))\n",
    "\n",
    "\n",
    "for i in range(4):\n",
    "    model = AGB_MODELS[i]\n",
    "    vice.yields.agb.settings[ele] = agb_interpolator(ele, study=model)\n",
    "    plot_y_z(Zs, label=AGB_LABELS[i], fmt=\"-\")\n",
    "    \n",
    "    model = AGB_LABELS[i]\n",
    "    yname = f\"../models/{model}_oob/yield_params.json\"\n",
    "    surp.set_yields(surp.YieldParams.from_file(yname))\n",
    "    vice.yields.ccsne.settings[\"c\"] = 0\n",
    "    \n",
    "    plot_y_z(Zs, label=AGB_LABELS[i], fmt=\"-\")\n",
    "\n",
    "plt.axhline(0, color=\"k\", ls=\":\")\n",
    "plt.xlabel(r\"$\\log Z/Z_\\odot$\")\n",
    "plt.ylabel(r\"$y_{\\rm C}^{\\rm AGB}\\quad[\\times 10^{-4}]$\")\n",
    "\n",
    "\n",
    "arya.Legend(color_only=True, handlelength=0, ncols=2, columnspacing=1, loc=3, transpose=True)"
   ]
  },
  {
   "cell_type": "markdown",
   "id": "57",
   "metadata": {
    "tags": []
   },
   "source": [
    "## M factors"
   ]
  },
  {
   "cell_type": "markdown",
   "id": "58",
   "metadata": {
    "tags": []
   },
   "source": [
    "# IMF and MLR"
   ]
  },
  {
   "cell_type": "code",
   "execution_count": null,
   "id": "59",
   "metadata": {},
   "outputs": [],
   "source": [
    "plt.figure(figsize=(10/3, 10/3))\n",
    "\n",
    "vice.yields.ccsne.settings[\"c\"] = 0\n",
    "vice.yields.sneia.settings[\"c\"] = 0\n",
    "vice.yields.ccsne.settings[\"fe\"] = 0\n",
    "vice.yields.agb.settings[\"fe\"] = surp.yield_models.ZeroAGB()\n",
    "Z = MH_to_Z(-0.1)\n",
    "\n",
    "vice.yields.agb.settings[\"c\"] = agb_interpolator(\"c\", study=\"cristallo11\")\n",
    "mlrs = [\"powerlaw\", \"vincenzo2016\", \"hpt2000\", \"ka1997\", \"pm1993\", \"mm1989\", \"larson1974\"]\n",
    "\n",
    "for i in range(len(mlrs)):\n",
    "    label = mlrs[i]\n",
    "    print(label)\n",
    "    vice.mlr.setting = mlrs[i]\n",
    "    \n",
    "    times, y = plot_ssp_time(normalize=False, Z=Z, label=label)\n",
    "\n",
    "    print()\n",
    "\n",
    "\n",
    "arya.Legend(-1)\n",
    "\n",
    "plt.xlabel(r\"$t$ / Gyr\")\n",
    "plt.ylabel(r\"$y_{\\rm C}^{\\rm AGB}(t)\\;/\\;y_{\\rm C}^{\\rm AGB}(t_{\\rm end})$\")\n",
    "plt.xscale(\"log\")\n",
    "\n"
   ]
  },
  {
   "cell_type": "markdown",
   "id": "60",
   "metadata": {},
   "source": [
    "the MLR relation only results in small changes in the DTD."
   ]
  },
  {
   "cell_type": "code",
   "execution_count": null,
   "id": "61",
   "metadata": {},
   "outputs": [],
   "source": [
    "plt.figure(figsize=(10/3, 10/3))\n",
    "\n",
    "Z = MH_to_Z(-0.1)\n",
    "vice.yields.agb.settings[\"c\"] = agb_interpolator(\"c\", study=\"cristallo11\")\n",
    "\n",
    "times, y = plot_ssp_time(normalize=True, Z=Z, label=\"kroupa\")\n",
    "times, y = plot_ssp_time(normalize=True, Z=Z, label=\"salpeter\", imf=\"salpeter\")\n",
    "\n",
    "\n",
    "arya.Legend(-1)\n",
    "\n"
   ]
  },
  {
   "cell_type": "code",
   "execution_count": null,
   "id": "62",
   "metadata": {},
   "outputs": [],
   "source": []
  }
 ],
 "metadata": {
  "kernelspec": {
   "display_name": "Python 3 (ipykernel)",
   "language": "python",
   "name": "python3"
  },
  "language_info": {
   "codemirror_mode": {
    "name": "ipython",
    "version": 3
   },
   "file_extension": ".py",
   "mimetype": "text/x-python",
   "name": "python",
   "nbconvert_exporter": "python",
   "pygments_lexer": "ipython3",
   "version": "3.11.9"
  }
 },
 "nbformat": 4,
 "nbformat_minor": 5
}
