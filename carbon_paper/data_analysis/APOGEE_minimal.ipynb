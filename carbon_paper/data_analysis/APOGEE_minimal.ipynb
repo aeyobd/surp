{
 "cells": [
  {
   "cell_type": "code",
   "execution_count": 1,
   "id": "55f450fc-8fce-4a8f-abb9-37ef78fc3c1a",
   "metadata": {},
   "outputs": [
    {
     "name": "stderr",
     "output_type": "stream",
     "text": [
      "/users/PAS2232/aeyobd/VICE/vice/__init__.py:141: UserWarning: Using un-released version of VICE\n",
      "  warnings.warn(\"Using un-released version of VICE\", UserWarning)\n"
     ]
    }
   ],
   "source": [
    "from astropy.io import fits\n",
    "import pandas as pd\n",
    "import matplotlib.pyplot as plt\n",
    "import matplotlib as mpl\n",
    "import numpy as np\n",
    "import pandas as pd\n",
    "\n",
    "import vice\n",
    "\n",
    "from astropy.table import Table\n",
    "import astropy as ap\n",
    "import astropy.units as u\n",
    "\n",
    "import surp"
   ]
  },
  {
   "cell_type": "code",
   "execution_count": 2,
   "id": "f71a8b69-4230-437d-99bf-0e1d1e3c2b7a",
   "metadata": {
    "scrolled": true,
    "tags": []
   },
   "outputs": [],
   "source": [
    "filename = surp._globals.DATA_DIR + \"allStar-dr17-synspec_rev1.fits.1\"\n",
    "allStar = Table.read(filename, format=\"fits\", hdu=1, memmap=True)"
   ]
  },
  {
   "cell_type": "markdown",
   "id": "82af92a0-8315-4d45-a5ae-cc39f93155f3",
   "metadata": {},
   "source": [
    "remove stars with\n",
    "- STAR_BAD\n",
    "- NO_ASPCAP_RESULT\n",
    "selection effect"
   ]
  },
  {
   "cell_type": "code",
   "execution_count": 3,
   "id": "e40e34cd-3833-4319-adb9-77883ecba08a",
   "metadata": {},
   "outputs": [],
   "source": [
    "apogee_aspcapflag = 1<<23 # starbad\n",
    "apogee_aspcapflag ^= 1<<31 # no_aspcap_result"
   ]
  },
  {
   "cell_type": "code",
   "execution_count": 4,
   "id": "f4af5746-1a82-415a-a71f-6fedfd785ad3",
   "metadata": {},
   "outputs": [
    {
     "name": "stdout",
     "output_type": "stream",
     "text": [
      "691591\n"
     ]
    }
   ],
   "source": [
    "mask = (allStar[\"ASPCAPFLAG\"] & apogee_aspcapflag) == 0\n",
    "\n",
    "\n",
    "print(sum(mask))"
   ]
  },
  {
   "cell_type": "code",
   "execution_count": 5,
   "id": "82b4fba2-8bee-4cec-bb66-2a351a7149c4",
   "metadata": {},
   "outputs": [
    {
     "name": "stdout",
     "output_type": "stream",
     "text": [
      "42310\n",
      "42310\n"
     ]
    }
   ],
   "source": [
    "apogee_target2 = 1<<17 #APOGEE_MIRCLUSTER_STAR\n",
    "apogee_target2 ^= 1<<15 #APOGEE_EMISSION_STAR  emission line stars\n",
    "apogee_target2 ^= 1<<13 #APOGEE_EMBEDDEDCLUSTER_STAR embedded cluster\n",
    "\n",
    "apogee2_target3 = 1<<5 # young cluster (IN-SYNC)\n",
    "apogee2_target3 ^= 1<<18 #APOGEE2_W345\n",
    "apogee2_target3 ^= 1<<1 # EB planet\n",
    "\n",
    "mask_extra = (allStar[\"APOGEE2_TARGET3\"] & apogee2_target3) == 0\n",
    "print(sum(~mask))\n",
    "mask_extra &= (allStar[\"APOGEE_TARGET2\"] & apogee_target2) == 0\n",
    "print(sum(~mask))"
   ]
  },
  {
   "cell_type": "code",
   "execution_count": 6,
   "id": "fa4677cd-8cad-41a8-a60c-4a9275e365f1",
   "metadata": {},
   "outputs": [],
   "source": [
    "mask &= mask_extra"
   ]
  },
  {
   "cell_type": "code",
   "execution_count": 7,
   "id": "21b000ba-49ee-4ad7-87cc-c466e0c56e26",
   "metadata": {},
   "outputs": [
    {
     "name": "stdout",
     "output_type": "stream",
     "text": [
      "206689\n"
     ]
    }
   ],
   "source": [
    "mg_h = allStar[\"MG_FE\"] + allStar[\"FE_H\"]\n",
    "mask &= -0.75 <= mg_h\n",
    "mask &= mg_h <= 0.45\n",
    "mask &= allStar[\"SNR\"] >= 100\n",
    "mask &= (mg_h < -0.5)  | (allStar[\"SNR\"] >= 200)\n",
    "\n",
    "\n",
    "print(sum(mask))"
   ]
  },
  {
   "cell_type": "code",
   "execution_count": 8,
   "id": "8c922ef7-f4e1-435a-a087-a02286996489",
   "metadata": {},
   "outputs": [],
   "source": [
    "# get rid of multdim columns\n",
    "filtered = allStar[mask]\n",
    "names = [name for name in filtered.colnames if len(filtered[name].shape) <= 1]\n",
    "filtered = filtered[names].to_pandas()\n",
    "\n",
    "del allStar"
   ]
  },
  {
   "cell_type": "code",
   "execution_count": 9,
   "id": "b927bd6c-6170-431c-aed8-acc03af75bce",
   "metadata": {},
   "outputs": [],
   "source": [
    "df1 = filtered\n",
    "\n",
    "df1[\"MG_H\"] = df1[\"MG_FE\"] + df1[\"FE_H\"]\n",
    "df1[\"MG_H\"] = df1[\"MG_FE\"] + df1[\"FE_H\"]\n",
    "df1[\"C_H\"] = df1[\"C_FE\"] + df1[\"FE_H\"]\n",
    "df1[\"N_H\"] = df1[\"N_FE\"] + df1[\"FE_H\"]\n",
    "df1[\"C_MG\"] = df1[\"C_H\"] - df1[\"MG_H\"]\n",
    "df1[\"N_MG\"] = df1[\"N_H\"] - df1[\"MG_H\"]\n",
    "\n",
    "\n",
    "df1[\"high_alpha\"] = surp.gce_math.is_high_alpha(df1[\"MG_FE\"], df1[\"FE_H\"])\n",
    "\n",
    "df1.to_csv(\"../../data/apogee_most.csv\")"
   ]
  },
  {
   "cell_type": "code",
   "execution_count": null,
   "id": "82812a92-77c8-4cde-a9fe-96e8495a4f0e",
   "metadata": {},
   "outputs": [],
   "source": []
  }
 ],
 "metadata": {
  "kernelspec": {
   "display_name": "Python (3.10)",
   "language": "python",
   "name": "python3"
  },
  "language_info": {
   "codemirror_mode": {
    "name": "ipython",
    "version": 3
   },
   "file_extension": ".py",
   "mimetype": "text/x-python",
   "name": "python",
   "nbconvert_exporter": "python",
   "pygments_lexer": "ipython3",
   "version": "3.10.10"
  }
 },
 "nbformat": 4,
 "nbformat_minor": 5
}
