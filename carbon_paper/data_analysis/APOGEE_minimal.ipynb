{
 "cells": [
  {
   "cell_type": "code",
   "execution_count": null,
   "id": "0",
   "metadata": {},
   "outputs": [],
   "source": [
    "from astropy.io import fits\n",
    "import pandas as pd\n",
    "import matplotlib.pyplot as plt\n",
    "import matplotlib as mpl\n",
    "import numpy as np\n",
    "import pandas as pd\n",
    "\n",
    "import vice\n",
    "\n",
    "from astropy.table import Table\n",
    "import astropy as ap\n",
    "import astropy.units as u\n",
    "\n",
    "import surp"
   ]
  },
  {
   "cell_type": "code",
   "execution_count": null,
   "id": "1",
   "metadata": {
    "tags": []
   },
   "outputs": [],
   "source": [
    "filename = surp._globals.DATA_DIR + \"surveys/allStar-dr17-synspec_rev1.fits\"\n",
    "allStar = Table.read(filename, format=\"fits\", hdu=1, memmap=True)"
   ]
  },
  {
   "cell_type": "markdown",
   "id": "2",
   "metadata": {},
   "source": [
    "remove stars with\n",
    "- STAR_BAD\n",
    "- NO_ASPCAP_RESULT\n",
    "selection effect"
   ]
  },
  {
   "cell_type": "code",
   "execution_count": null,
   "id": "3",
   "metadata": {},
   "outputs": [],
   "source": [
    "apogee_aspcapflag = 1<<23 # starbad\n",
    "apogee_aspcapflag ^= 1<<31 # no_aspcap_result"
   ]
  },
  {
   "cell_type": "code",
   "execution_count": null,
   "id": "4",
   "metadata": {},
   "outputs": [],
   "source": [
    "mask = (allStar[\"ASPCAPFLAG\"] & apogee_aspcapflag) == 0\n",
    "\n",
    "\n",
    "print(sum(mask))"
   ]
  },
  {
   "cell_type": "code",
   "execution_count": null,
   "id": "5",
   "metadata": {},
   "outputs": [],
   "source": [
    "apogee_target2 = 1<<17 #APOGEE_MIRCLUSTER_STAR\n",
    "apogee_target2 ^= 1<<15 #APOGEE_EMISSION_STAR  emission line stars\n",
    "apogee_target2 ^= 1<<13 #APOGEE_EMBEDDEDCLUSTER_STAR embedded cluster\n",
    "\n",
    "apogee2_target3 = 1<<5 # young cluster (IN-SYNC)\n",
    "apogee2_target3 ^= 1<<18 #APOGEE2_W345\n",
    "apogee2_target3 ^= 1<<1 # EB planet\n",
    "\n",
    "mask_extra = (allStar[\"APOGEE2_TARGET3\"] & apogee2_target3) == 0\n",
    "print(sum(~mask))\n",
    "mask_extra &= (allStar[\"APOGEE_TARGET2\"] & apogee_target2) == 0\n",
    "print(sum(~mask))"
   ]
  },
  {
   "cell_type": "code",
   "execution_count": null,
   "id": "6",
   "metadata": {},
   "outputs": [],
   "source": [
    "mask &= mask_extra"
   ]
  },
  {
   "cell_type": "code",
   "execution_count": null,
   "id": "7",
   "metadata": {},
   "outputs": [],
   "source": [
    "mg_h = allStar[\"MG_FE\"] + allStar[\"FE_H\"]\n",
    "mask &= -0.75 <= mg_h\n",
    "mask &= mg_h <= 0.45\n",
    "mask &= allStar[\"SNR\"] >= 100\n",
    "mask &= (mg_h < -0.5)  | (allStar[\"SNR\"] >= 200)\n",
    "\n",
    "\n",
    "print(sum(mask))"
   ]
  },
  {
   "cell_type": "code",
   "execution_count": null,
   "id": "8",
   "metadata": {},
   "outputs": [],
   "source": [
    "# get rid of multdim columns\n",
    "filtered = allStar[mask]\n",
    "names = [name for name in filtered.colnames if len(filtered[name].shape) <= 1]\n",
    "filtered = filtered[names].to_pandas()\n",
    "\n",
    "del allStar"
   ]
  },
  {
   "cell_type": "code",
   "execution_count": null,
   "id": "9",
   "metadata": {},
   "outputs": [],
   "source": [
    "df1 = filtered\n",
    "\n",
    "df1[\"MG_H\"] = df1[\"MG_FE\"] + df1[\"FE_H\"]\n",
    "df1[\"MG_H\"] = df1[\"MG_FE\"] + df1[\"FE_H\"]\n",
    "df1[\"C_H\"] = df1[\"C_FE\"] + df1[\"FE_H\"]\n",
    "df1[\"N_H\"] = df1[\"N_FE\"] + df1[\"FE_H\"]\n",
    "df1[\"C_MG\"] = df1[\"C_H\"] - df1[\"MG_H\"]\n",
    "df1[\"N_MG\"] = df1[\"N_H\"] - df1[\"MG_H\"]\n",
    "\n",
    "\n",
    "df1[\"high_alpha\"] = surp.gce_math.is_high_alpha(df1[\"MG_FE\"], df1[\"FE_H\"])\n",
    "\n",
    "df1.to_csv(\"../../data/apogee_most.csv\")"
   ]
  }
 ],
 "metadata": {
  "kernelspec": {
   "display_name": "Python 3 (ipykernel)",
   "language": "python",
   "name": "python3"
  },
  "language_info": {
   "codemirror_mode": {
    "name": "ipython",
    "version": 3
   },
   "file_extension": ".py",
   "mimetype": "text/x-python",
   "name": "python",
   "nbconvert_exporter": "python",
   "pygments_lexer": "ipython3",
   "version": "3.11.9"
  }
 },
 "nbformat": 4,
 "nbformat_minor": 5
}
