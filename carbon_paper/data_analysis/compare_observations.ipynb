{
 "cells": [
  {
   "cell_type": "code",
   "execution_count": null,
   "id": "0",
   "metadata": {},
   "outputs": [],
   "source": [
    "import pandas as pd\n",
    "import numpy as np\n",
    "import matplotlib.pyplot as plt\n",
    "\n",
    "import surp\n",
    "import arya"
   ]
  },
  {
   "cell_type": "markdown",
   "id": "1",
   "metadata": {},
   "source": [
    "# Comparing observations\n",
    "Here, we compare observations from a variety of sources similar to the subgiant sample.\n",
    "We store each sample as a CSV (processed from the )"
   ]
  },
  {
   "cell_type": "code",
   "execution_count": null,
   "id": "2",
   "metadata": {},
   "outputs": [],
   "source": [
    "subgiants = surp.subgiants\n",
    "v21 = surp.vincenzo2021()"
   ]
  },
  {
   "cell_type": "code",
   "execution_count": null,
   "id": "3",
   "metadata": {},
   "outputs": [],
   "source": [
    "apogee = pd.read_csv(\"../../data/apogee_most.csv\")"
   ]
  },
  {
   "cell_type": "code",
   "execution_count": null,
   "id": "4",
   "metadata": {},
   "outputs": [],
   "source": [
    "v21[\"APOGEE_ID\"] = [f\"b'{i}'\" for i in v21.apogee_id]"
   ]
  },
  {
   "cell_type": "code",
   "execution_count": null,
   "id": "5",
   "metadata": {},
   "outputs": [],
   "source": [
    "gso = pd.read_csv(\"gso_dwarfs.csv\")"
   ]
  },
  {
   "cell_type": "code",
   "execution_count": null,
   "id": "6",
   "metadata": {},
   "outputs": [],
   "source": [
    "galah = pd.read_csv(\"galah_dwarfs.csv\")"
   ]
  },
  {
   "cell_type": "code",
   "execution_count": null,
   "id": "7",
   "metadata": {},
   "outputs": [],
   "source": [
    "lamost = pd.read_csv(\"lamost_dwarfs.csv\")"
   ]
  },
  {
   "cell_type": "code",
   "execution_count": null,
   "id": "8",
   "metadata": {},
   "outputs": [],
   "source": []
  },
  {
   "cell_type": "code",
   "execution_count": null,
   "id": "9",
   "metadata": {},
   "outputs": [],
   "source": [
    "v21[\"MG_H\"] = v21[\"[mg/h]\"]\n",
    "\n",
    "v21[\"MG_H\"] = v21[\"[mg/h]\"]\n",
    "v21[\"C_MG\"] = v21[\"[c/mg]\"]\n",
    "v21[\"C_MG_ERR\"] = 0.2\n",
    "\n",
    "v21[\"FE_H\"] = v21[\"[fe/h]\"]\n",
    "v21[\"MG_FE\"] = v21[\"[mg/fe]\"]"
   ]
  },
  {
   "cell_type": "code",
   "execution_count": null,
   "id": "10",
   "metadata": {},
   "outputs": [],
   "source": [
    "v21.to_csv(\"v21.csv\")"
   ]
  },
  {
   "cell_type": "code",
   "execution_count": null,
   "id": "11",
   "metadata": {},
   "outputs": [],
   "source": [
    "def c_scatter(df, **kwargs):\n",
    "    fig, axs = plt.subplots(1, 2, sharey=True, figsize=(6, 2.5), gridspec_kw={\"wspace\": 0})\n",
    "    \n",
    "    plt.sca(axs[0])\n",
    "    plt.scatter(df.MG_H, df.C_MG, **kwargs)\n",
    "    plt.ylabel(\"[C/Mg]\")\n",
    "    plt.xlabel(\"[Mg/H]\")\n",
    "    \n",
    "    plt.sca(axs[1])\n",
    "    plt.scatter(df.MG_FE, df.C_MG, **kwargs)\n",
    "    plt.xlabel(\"[Mg/Fe]\")"
   ]
  },
  {
   "cell_type": "code",
   "execution_count": null,
   "id": "12",
   "metadata": {},
   "outputs": [],
   "source": [
    "def fe_scatter(df, **kwargs):\n",
    "    fig, axs = plt.subplots(1, 2, figsize=(6, 2.5))\n",
    "    \n",
    "    plt.sca(axs[0])\n",
    "    plt.hist2d(df.MG_H, df.MG_FE, **kwargs)\n",
    "    plt.ylabel(\"[Mg/Fe]\")\n",
    "    plt.xlabel(\"[Mg/H]\")\n",
    "    \n",
    "    plt.sca(axs[1])\n",
    "    plt.hist(df.FE_H)\n",
    "    plt.xlabel(\"[Fe/H]\")"
   ]
  },
  {
   "cell_type": "code",
   "execution_count": null,
   "id": "13",
   "metadata": {},
   "outputs": [],
   "source": [
    "c_scatter(gso)"
   ]
  },
  {
   "cell_type": "code",
   "execution_count": null,
   "id": "14",
   "metadata": {},
   "outputs": [],
   "source": [
    "fe_scatter(gso, range=([-1.5, 1], [-0.5, 1.5]), bins=50)"
   ]
  },
  {
   "cell_type": "code",
   "execution_count": null,
   "id": "15",
   "metadata": {},
   "outputs": [],
   "source": [
    "c_scatter(galah, alpha=0.1, s=1)"
   ]
  },
  {
   "cell_type": "code",
   "execution_count": null,
   "id": "16",
   "metadata": {},
   "outputs": [],
   "source": [
    "fe_scatter(galah, range=([-1.5, 1], [-0.5, 0.5]), bins=50)"
   ]
  },
  {
   "cell_type": "code",
   "execution_count": null,
   "id": "17",
   "metadata": {},
   "outputs": [],
   "source": [
    "fe_scatter(subgiants, range=([-1.5, 1], [-0.5, 0.5]), bins=50)"
   ]
  },
  {
   "cell_type": "code",
   "execution_count": null,
   "id": "18",
   "metadata": {},
   "outputs": [],
   "source": [
    "fe_scatter(v21, range=([-1.5, 1], [-0.5, 0.5]), bins=50)"
   ]
  },
  {
   "cell_type": "code",
   "execution_count": null,
   "id": "19",
   "metadata": {},
   "outputs": [],
   "source": [
    "c_scatter(lamost)"
   ]
  },
  {
   "cell_type": "code",
   "execution_count": null,
   "id": "20",
   "metadata": {},
   "outputs": [],
   "source": [
    "gso = gso[np.isfinite(gso.C_MG)]"
   ]
  },
  {
   "cell_type": "code",
   "execution_count": null,
   "id": "21",
   "metadata": {},
   "outputs": [],
   "source": [
    "galah[\"high_alpha\"] = surp.gce_math.is_high_alpha(galah.MG_FE, galah.FE_H)\n",
    "gso[\"high_alpha\"] = surp.gce_math.is_high_alpha(gso.MG_FE, gso.FE_H)\n",
    "lamost[\"high_alpha\"] = surp.gce_math.is_high_alpha(lamost.MG_FE, lamost.FE_H)"
   ]
  },
  {
   "cell_type": "code",
   "execution_count": null,
   "id": "22",
   "metadata": {},
   "outputs": [],
   "source": [
    "gso.plot_kwargs = dict(\n",
    "    label = r\"{\\it Gaia}--ESO\",\n",
    "    aes=\"line\",\n",
    "    ms=5,\n",
    "    binsize=70,\n",
    "    color = arya.COLORS[3],\n",
    "    marker = \"*\"\n",
    ")"
   ]
  },
  {
   "cell_type": "code",
   "execution_count": null,
   "id": "23",
   "metadata": {},
   "outputs": [],
   "source": [
    "galah.plot_kwargs = dict(\n",
    "    label = \"GALAH\",\n",
    "    aes = \"scatter\",\n",
    "    binsize=2000, \n",
    "    color=arya.COLORS[2], s=2\n",
    ")"
   ]
  },
  {
   "cell_type": "code",
   "execution_count": null,
   "id": "24",
   "metadata": {},
   "outputs": [],
   "source": [
    "lamost.plot_kwargs = dict(\n",
    "    label = \"LAMOST\",\n",
    "    aes = \"scatter\",\n",
    "    binsize=2000,\n",
    "    color=arya.COLORS[4], \n",
    "    s=2 , \n",
    "    marker=\"^\"\n",
    ")"
   ]
  },
  {
   "cell_type": "code",
   "execution_count": null,
   "id": "25",
   "metadata": {},
   "outputs": [],
   "source": [
    "subgiants.plot_kwargs = dict(\n",
    "    binsize=300, \n",
    "    label=\"subgiants\",\n",
    "    color=arya.COLORS[0], \n",
    "    aes=\"line\"\n",
    ")"
   ]
  },
  {
   "cell_type": "code",
   "execution_count": null,
   "id": "26",
   "metadata": {},
   "outputs": [],
   "source": [
    "v21.plot_kwargs = dict(\n",
    "    binsize=300, \n",
    "    label=\"V21\",\n",
    "    color=arya.COLORS[1], \n",
    "    aes=\"line\", \n",
    "    marker=\"s\"\n",
    ")"
   ]
  },
  {
   "cell_type": "code",
   "execution_count": null,
   "id": "27",
   "metadata": {},
   "outputs": [],
   "source": [
    "surveys = [subgiants, v21, galah,  gso] # lamost"
   ]
  },
  {
   "cell_type": "code",
   "execution_count": null,
   "id": "28",
   "metadata": {},
   "outputs": [],
   "source": [
    "def plot_caah_survey(df):\n",
    "    arya.medianplot(df[~df.high_alpha], \"MG_H\", \"C_MG\",errorbar=None, **df.plot_kwargs)\n",
    "    plt.xlabel(\"[Mg/H]\")\n",
    "    plt.ylabel(\"[C/Mg]\")"
   ]
  },
  {
   "cell_type": "code",
   "execution_count": null,
   "id": "29",
   "metadata": {},
   "outputs": [],
   "source": [
    "for survey in surveys:\n",
    "    plot_caah_survey(survey)\n",
    "    \n",
    "arya.Legend(-1)"
   ]
  },
  {
   "cell_type": "code",
   "execution_count": null,
   "id": "30",
   "metadata": {},
   "outputs": [],
   "source": [
    "def plot_caafe_survey(df):\n",
    "    arya.medianplot(df, \"MG_FE\", \"C_MG\", errorbar=None, **df.plot_kwargs)"
   ]
  },
  {
   "cell_type": "code",
   "execution_count": null,
   "id": "31",
   "metadata": {},
   "outputs": [],
   "source": [
    "\n",
    "fig, axs = plt.subplots(1, 2, figsize=(7, 3), sharey=True, gridspec_kw={\"wspace\": 0}, dpi=250)\n",
    "\n",
    "\n",
    "plt.sca(axs[0])\n",
    "\n",
    "for survey in surveys:\n",
    "    plot_caah_survey(survey)\n",
    "    \n",
    "\n",
    "\n",
    "plt.sca(axs[1])\n",
    "for survey in surveys:\n",
    "    plot_caafe_survey(survey)\n",
    "    \n",
    "plt.legend(ncols=1, loc=3)\n",
    "\n",
    "plt.xlabel(\"[Mg/Fe]\")\n",
    "plt.savefig(\"cmg_other_surveys.pdf\")\n"
   ]
  },
  {
   "cell_type": "markdown",
   "id": "32",
   "metadata": {},
   "source": [
    "# XMatch"
   ]
  },
  {
   "cell_type": "code",
   "execution_count": null,
   "id": "33",
   "metadata": {},
   "outputs": [],
   "source": [
    "def plot_xmatch_all(xmatch, survey1, survey2):\n",
    "    plt.scatter(xmatch.FE_H, xmatch.FE_H_2 - xmatch.FE_H, s=1, alpha=0.3)\n",
    "    plt.xlabel(\"FE_H\")\n",
    "    plt.ylabel(f\"FE H {survey1} - FEH {survey2}\")\n",
    "    plt.axhline(0, color=\"k\")\n",
    "    plt.show()\n",
    "\n",
    "    plt.xlabel(\"MG_H\")\n",
    "    plt.ylabel(f\"MG_H  {survey1} - {survey2}\")\n",
    "\n",
    "    plt.scatter(xmatch.MG_H, xmatch.MG_H_2 - xmatch.MG_H, s=1, alpha=0.3)\n",
    "    plt.axhline(0, color=\"k\")\n",
    "\n",
    "    plt.show()\n",
    "\n",
    "    plt.xlabel(\"MG_FE\")\n",
    "    plt.ylabel(f\"MG_FE  {survey1} - {survey2}\")\n",
    "\n",
    "    plt.scatter(xmatch.MG_FE, xmatch.MG_FE_2 - xmatch.MG_FE, s=1, alpha=0.3)\n",
    "    plt.axhline(0, color=\"k\")\n",
    "\n",
    "    plt.show()\n",
    "\n",
    "\n",
    "    \n",
    "    plt.xlabel(\"C_MG\")\n",
    "    plt.ylabel(f\"C_MG  {survey1} - {survey2}\")\n",
    "\n",
    "    plt.scatter(xmatch.C_MG, xmatch.C_MG_2 - xmatch.C_MG, s=1, alpha=0.3)\n",
    "    plt.axhline(0, color=\"k\")\n",
    "\n",
    "    plt.show()\n",
    "\n",
    "    \n",
    "    plt.xlabel(\"TEFF\")\n",
    "    plt.ylabel(f\"TEFF  {survey1} - {survey2}\")\n",
    "\n",
    "    plt.scatter(xmatch.TEFF, xmatch.TEFF_2 - xmatch.TEFF, s=1, alpha=0.3)\n",
    "    plt.axhline(0, color=\"k\")\n",
    "\n",
    "    plt.show()\n",
    "\n",
    "    \n",
    "    plt.xlabel(\"LOGG\")\n",
    "    plt.ylabel(f\"LOGG  {survey1} - {survey2}\")\n",
    "\n",
    "    plt.scatter(xmatch.LOGG, xmatch.LOGG_2 - xmatch.LOGG, s=1, alpha=0.3)\n",
    "    plt.axhline(0, color=\"k\")\n",
    "\n",
    "    plt.show()\n",
    "    "
   ]
  },
  {
   "cell_type": "code",
   "execution_count": null,
   "id": "34",
   "metadata": {},
   "outputs": [],
   "source": [
    "xmatched = subgiants.join(galah.set_index(\"gaiadr3_source_id\"), how=\"inner\", on=\"GAIAEDR3_SOURCE_ID\", rsuffix=\"_2\")"
   ]
  },
  {
   "cell_type": "code",
   "execution_count": null,
   "id": "35",
   "metadata": {},
   "outputs": [],
   "source": [
    "plot_xmatch_all(xmatched, \"apogee\", \"galah\")"
   ]
  },
  {
   "cell_type": "markdown",
   "id": "36",
   "metadata": {
    "jp-MarkdownHeadingCollapsed": true
   },
   "source": [
    "### GSO does not match :/"
   ]
  },
  {
   "cell_type": "code",
   "execution_count": null,
   "id": "37",
   "metadata": {},
   "outputs": [],
   "source": [
    "import astropy.units as u\n",
    "from astropy.coordinates import SkyCoord"
   ]
  },
  {
   "cell_type": "code",
   "execution_count": null,
   "id": "38",
   "metadata": {},
   "outputs": [],
   "source": [
    "def get_crossmatch(ra1, dec1, ra2, dec2, max_sep=1*u.arcsec):\n",
    "    ra1 = np.array(ra1)\n",
    "    dec1 = np.array(dec1)\n",
    "    ra2 = np.array(ra2)\n",
    "    dec2 = np.array(dec2)\n",
    "    \n",
    "    # Convert catalogue positions into SkyCoord objects\n",
    "    coords1 = SkyCoord(ra=ra1 * u.degree, dec=dec1 * u.degree)\n",
    "    coords2 = SkyCoord(ra=ra2 * u.degree, dec=dec2 * u.degree)\n",
    "\n",
    "    # Perform crossmatch\n",
    "    idx, d2d, d3d = coords1.match_to_catalog_sky(coords2)\n",
    "\n",
    "    sep_constraint = d2d < max_sep\n",
    "\n",
    "    # Filter matches\n",
    "    matches = idx[sep_constraint]\n",
    "    matched_d2d = d2d[sep_constraint]\n",
    "\n",
    "\n",
    "    idx_l = np.where(sep_constraint)[0] #df indicies\n",
    "    idx_r = matches # apogee indicies\n",
    "\n",
    "    print(len(ra1))\n",
    "    print(len(ra2))\n",
    "    print(\"num matches\", len(idx_l))\n",
    "    \n",
    "    plt.scatter(ra2, dec2,  s=0.01, alpha=1, label=\"2\")\n",
    "\n",
    "    plt.scatter(ra1, dec1,  s=0.01, alpha=1, label=\"1\")\n",
    "    plt.xlabel(\"RA\")\n",
    "    plt.ylabel(\"DEC\")\n",
    "    plt.show()\n",
    "    \n",
    "    plt.scatter(ra2[idx_r], dec2[idx_r], \n",
    "                s=0.01, alpha=1, label=\"match\")\n",
    "    plt.scatter(ra1[idx_l], dec1[idx_l],\n",
    "                s=0.01, alpha=1, label=\"match\")\n",
    "    plt.xlabel(\"RA\")\n",
    "    plt.ylabel(\"DEC\")\n",
    "    \n",
    "    return idx_l, idx_r"
   ]
  },
  {
   "cell_type": "code",
   "execution_count": null,
   "id": "39",
   "metadata": {},
   "outputs": [],
   "source": [
    "get_crossmatch(gso.RA, gso.DECLINATION, subgiants.RA, subgiants.DEC)"
   ]
  },
  {
   "cell_type": "code",
   "execution_count": null,
   "id": "40",
   "metadata": {},
   "outputs": [],
   "source": [
    "get_crossmatch(gso.RA, gso.DECLINATION, galah.ra, galah.dec)"
   ]
  },
  {
   "cell_type": "markdown",
   "id": "41",
   "metadata": {
    "jp-MarkdownHeadingCollapsed": true
   },
   "source": [
    "### Lamost does not xmatch"
   ]
  },
  {
   "cell_type": "code",
   "execution_count": null,
   "id": "42",
   "metadata": {},
   "outputs": [],
   "source": [
    "lamost.columns.values"
   ]
  },
  {
   "cell_type": "code",
   "execution_count": null,
   "id": "43",
   "metadata": {},
   "outputs": [],
   "source": [
    "xmatched = subgiants.join(lamost.set_index(\"GAIA_SOURCE_ID\"), how=\"inner\", on=\"GAIAEDR3_SOURCE_ID\", rsuffix=\"_2\")"
   ]
  },
  {
   "cell_type": "code",
   "execution_count": null,
   "id": "44",
   "metadata": {},
   "outputs": [],
   "source": [
    "xmatched"
   ]
  },
  {
   "cell_type": "code",
   "execution_count": null,
   "id": "45",
   "metadata": {},
   "outputs": [],
   "source": [
    "xmatched = galah.join(lamost.set_index(\"GAIA_SOURCE_ID\"), how=\"inner\", on=\"gaiadr3_source_id\", rsuffix=\"_2\")\n",
    "xmatched"
   ]
  },
  {
   "cell_type": "code",
   "execution_count": null,
   "id": "46",
   "metadata": {},
   "outputs": [],
   "source": [
    "xmatched.ra, xmatched.dec"
   ]
  },
  {
   "cell_type": "code",
   "execution_count": null,
   "id": "47",
   "metadata": {},
   "outputs": [],
   "source": [
    "xmatched.RA, xmatched.DEC"
   ]
  },
  {
   "cell_type": "code",
   "execution_count": null,
   "id": "48",
   "metadata": {},
   "outputs": [],
   "source": []
  }
 ],
 "metadata": {
  "kernelspec": {
   "display_name": "Python 3 (ipykernel)",
   "language": "python",
   "name": "python3"
  },
  "language_info": {
   "codemirror_mode": {
    "name": "ipython",
    "version": 3
   },
   "file_extension": ".py",
   "mimetype": "text/x-python",
   "name": "python",
   "nbconvert_exporter": "python",
   "pygments_lexer": "ipython3",
   "version": "3.11.9"
  }
 },
 "nbformat": 4,
 "nbformat_minor": 5
}
