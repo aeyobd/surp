{
 "cells": [
  {
   "cell_type": "code",
   "execution_count": null,
   "id": "0",
   "metadata": {},
   "outputs": [],
   "source": [
    "%load_ext autoreload\n",
    "%autoreload 2"
   ]
  },
  {
   "cell_type": "code",
   "execution_count": null,
   "id": "1",
   "metadata": {},
   "outputs": [],
   "source": [
    "import matplotlib.pyplot as plt\n",
    "import apogee_analysis as aah"
   ]
  },
  {
   "cell_type": "code",
   "execution_count": null,
   "id": "2",
   "metadata": {},
   "outputs": [],
   "source": [
    "v21 = aah.vincenzo2021()"
   ]
  },
  {
   "cell_type": "code",
   "execution_count": null,
   "id": "3",
   "metadata": {},
   "outputs": [],
   "source": [
    "v21"
   ]
  },
  {
   "cell_type": "code",
   "execution_count": null,
   "id": "4",
   "metadata": {},
   "outputs": [],
   "source": [
    "\n",
    "oo = -0.2\n",
    "do = 0.05\n",
    "f = v21[\"[o/h]\"] > oo -do\n",
    "f &= v21[\"[o/h]\"] < oo + do\n",
    "\n",
    "df = v21[f]\n",
    "plt.scatter(df[\"[n/h]\"] - df[\"[o/h]\"], df[\"[c/o]\"], s=1)\n",
    "plt.xlabel(\"N/O\")\n",
    "plt.ylabel(\"C/O\")"
   ]
  },
  {
   "cell_type": "code",
   "execution_count": null,
   "id": "5",
   "metadata": {},
   "outputs": [],
   "source": [
    "aah.plot_v21(\"age\", \"[c/o]\")"
   ]
  },
  {
   "cell_type": "code",
   "execution_count": null,
   "id": "6",
   "metadata": {},
   "outputs": [],
   "source": [
    "aah.plot_v21(\"[o/h]\", \"[c/o]\")\n",
    "aah.plot_mean_v21(\"[o/h]\", \"[c/o]\")\n",
    "plt.xlim(-0.8)"
   ]
  },
  {
   "cell_type": "code",
   "execution_count": null,
   "id": "7",
   "metadata": {},
   "outputs": [],
   "source": [
    "c = -0.1\n",
    "w = 0.05\n",
    "\n",
    "filt = v21[\"[fe/h]\"] > c - w\n",
    "filt &= v21[\"[fe/h]\"] < c + w\n",
    "df=  v21[filt]\n",
    "plt.scatter(df[\"[o/fe]\"], df[\"[c/o]\"], s=3)\n",
    "plt.xlim(-0.3, 0.3)"
   ]
  },
  {
   "cell_type": "code",
   "execution_count": null,
   "id": "8",
   "metadata": {},
   "outputs": [],
   "source": [
    "plt.scatter(v21[\"[o/fe]\"], v21[\"[c/o]\"], s=1, c=v21[\"[fe/h]\"])"
   ]
  },
  {
   "cell_type": "code",
   "execution_count": null,
   "id": "9",
   "metadata": {},
   "outputs": [],
   "source": [
    "\n",
    "aah.plot_v21(\"[o/h]\", \"[c/o]\", exclude_high_alpha=False)\n",
    "aah.plot_mean_v21(\"[o/h]\", \"[c/o]\", exclude_high_alpha=False)\n",
    "plt.xlim(-0.8)"
   ]
  },
  {
   "cell_type": "code",
   "execution_count": null,
   "id": "10",
   "metadata": {},
   "outputs": [],
   "source": [
    "aah.calc_mean_v21(\"[o/h]\", \"[c/o]\")"
   ]
  },
  {
   "cell_type": "code",
   "execution_count": null,
   "id": "11",
   "metadata": {},
   "outputs": [],
   "source": [
    "aah.plot_mean_v21(\"[o/h]\", \"[c/o]\")"
   ]
  },
  {
   "cell_type": "code",
   "execution_count": null,
   "id": "12",
   "metadata": {},
   "outputs": [],
   "source": [
    "aah.plot_mean_v21(\"[o/h]\", \"[c/o]\");"
   ]
  },
  {
   "cell_type": "code",
   "execution_count": null,
   "id": "13",
   "metadata": {},
   "outputs": [],
   "source": [
    "import numpy as np"
   ]
  },
  {
   "cell_type": "code",
   "execution_count": null,
   "id": "14",
   "metadata": {},
   "outputs": [],
   "source": [
    "0.02*0.014**0.25"
   ]
  },
  {
   "cell_type": "code",
   "execution_count": null,
   "id": "15",
   "metadata": {},
   "outputs": [],
   "source": [
    "0.002/0.009"
   ]
  },
  {
   "cell_type": "code",
   "execution_count": null,
   "id": "16",
   "metadata": {},
   "outputs": [],
   "source": [
    "df = v21[v21[\"high_alpha\"]]\n",
    "bins, means_low_a, sds, counts = aah.calc_mean(df[\"[o/h]\"], df[\"[c/o]\"])\n",
    "plt.scatter(df[\"[o/h]\"], df[\"[c/o]\"], s=0.1, label=\"high a\")\n",
    "\n",
    "o_h = bins[:-1]\n",
    "\n",
    "plt.errorbar(bins[:-1], means_low_a, color=\"purple\", zorder=1, yerr=sds, fmt=\"o\")\n",
    "\n",
    "\n",
    "df = v21[~v21[\"high_alpha\"]]\n",
    "bins, means_high_a, sds, counts = aah.calc_mean(df[\"[o/h]\"], df[\"[c/o]\"])\n",
    "\n",
    "\n",
    "plt.scatter(df[\"[o/h]\"], df[\"[c/o]\"], s=0.1, label=\"low a\")\n",
    "plt.errorbar(bins[:-1], means_high_a, color=\"k\", zorder=1, yerr=sds, fmt=\"o\")\n",
    "\n",
    "plt.legend()\n",
    "plt.xlabel(\"[o/h]\")\n",
    "plt.ylabel(\"[c/o]\")\n",
    "plt.xlim(-0.5)"
   ]
  },
  {
   "cell_type": "code",
   "execution_count": null,
   "id": "17",
   "metadata": {},
   "outputs": [],
   "source": [
    "aah.plot_v21(\"[o/h]\", \"[c/o]\", exclude_high_alpha=False)"
   ]
  },
  {
   "cell_type": "code",
   "execution_count": null,
   "id": "18",
   "metadata": {},
   "outputs": [],
   "source": [
    "plt.scatter(v21[\"[fe/h]\"], v21[\"[o/fe]\"], c=v21[\"high_alpha\"], s=1)"
   ]
  },
  {
   "cell_type": "code",
   "execution_count": null,
   "id": "19",
   "metadata": {},
   "outputs": [],
   "source": [
    "plt.scatter(v21[\"[o/h]\"] - v21[\"[fe/h]\"], v21[\"[c/o]\"], c=v21[\"[c/h]\"], s=1)\n",
    "plt.colorbar(label=\"[O/H]\")\n",
    "plt.xlabel(\"alpha/fe\")\n",
    "plt.ylabel(\"[c/o]\")"
   ]
  },
  {
   "cell_type": "code",
   "execution_count": null,
   "id": "20",
   "metadata": {},
   "outputs": [],
   "source": []
  },
  {
   "cell_type": "code",
   "execution_count": null,
   "id": "21",
   "metadata": {},
   "outputs": [],
   "source": [
    "plt.scatter(v21[\"[mg/fe]\"], v21[\"[c/o]\"], s=1)\n",
    "plt.scatter(v21[\"[o/h]\"] - v21[\"[fe/h]\"], v21[\"[c/o]\"], s=1)\n",
    "\n",
    "\n",
    "plt.xlabel(\"alpha/fe\")\n",
    "plt.ylabel(\"[c/o]\")"
   ]
  },
  {
   "cell_type": "code",
   "execution_count": null,
   "id": "22",
   "metadata": {},
   "outputs": [],
   "source": [
    "plt.scatter(v21[\"[mg/fe]\"], v21[\"[c/o]\"], c=v21[\"[c/h]\"], s=1)\n",
    "plt.colorbar(label=\"[O/H]\")\n",
    "plt.xlabel(\"alpha/fe\")\n",
    "plt.ylabel(\"[c/o]\")"
   ]
  },
  {
   "cell_type": "code",
   "execution_count": null,
   "id": "23",
   "metadata": {},
   "outputs": [],
   "source": [
    "plt.scatter(v21[\"[o/h]\"] - v21[\"[fe/h]\"], v21[\"[mg/fe]\"] + v21[\"[fe/h]\"] - v21[\"[o/h]\"], c=v21[\"[c/h]\"], s=1)\n",
    "plt.colorbar(label=\"[O/H]\")\n",
    "plt.xlabel(\"alpha/fe\")\n",
    "plt.ylabel(\"[c/o]\")"
   ]
  },
  {
   "cell_type": "code",
   "execution_count": null,
   "id": "24",
   "metadata": {},
   "outputs": [],
   "source": []
  }
 ],
 "metadata": {
  "kernelspec": {
   "display_name": "Python 3 (ipykernel)",
   "language": "python",
   "name": "python3"
  },
  "language_info": {
   "codemirror_mode": {
    "name": "ipython",
    "version": 3
   },
   "file_extension": ".py",
   "mimetype": "text/x-python",
   "name": "python",
   "nbconvert_exporter": "python",
   "pygments_lexer": "ipython3",
   "version": "3.6.8"
  }
 },
 "nbformat": 4,
 "nbformat_minor": 5
}
