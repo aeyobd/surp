{
 "cells": [
  {
   "cell_type": "code",
   "execution_count": null,
   "id": "0",
   "metadata": {},
   "outputs": [],
   "source": [
    "%load_ext autoreload\n",
    "%autoreload 2"
   ]
  },
  {
   "cell_type": "code",
   "execution_count": null,
   "id": "1",
   "metadata": {
    "tags": []
   },
   "outputs": [],
   "source": [
    "import matplotlib.pyplot as plt\n",
    "import numpy as np\n",
    "import pandas as pd\n",
    "import vice\n",
    "import seaborn as sns\n",
    "\n",
    "from statsmodels.distributions import ECDF"
   ]
  },
  {
   "cell_type": "code",
   "execution_count": null,
   "id": "2",
   "metadata": {},
   "outputs": [],
   "source": [
    "import surp\n",
    "from surp import ViceModel\n",
    "\n",
    "import arya\n",
    "arya.style.set_size((10/3, 10/3))"
   ]
  },
  {
   "cell_type": "code",
   "execution_count": null,
   "id": "3",
   "metadata": {},
   "outputs": [],
   "source": [
    "giants = pd.read_csv(surp.DATA_DIR + \"apogee_cartography.csv\", index_col=0)"
   ]
  },
  {
   "cell_type": "code",
   "execution_count": null,
   "id": "4",
   "metadata": {},
   "outputs": [],
   "source": [
    "# Grab cdf\n",
    "cdf = ECDF(giants.R_gal)\n",
    "\n",
    "bins = np.arange(0, 20, 0.1)\n",
    "\n",
    "zones = np.arange(0, 200)\n",
    "Rs = (0.5 + zones)/10\n",
    "table = pd.DataFrame({\"zone\": zones, \"R\": Rs, \"cdf\": cdf(bins + 0.1)/cdf(bins + 0.1)[-1]})"
   ]
  },
  {
   "cell_type": "code",
   "execution_count": null,
   "id": "5",
   "metadata": {},
   "outputs": [],
   "source": [
    "fiducial = ViceModel.from_file(\"../../models/C11_f0.2/model.json\").stars_unsampled"
   ]
  },
  {
   "cell_type": "code",
   "execution_count": null,
   "id": "6",
   "metadata": {},
   "outputs": [],
   "source": [
    "fiducial.high_alpha"
   ]
  },
  {
   "cell_type": "markdown",
   "id": "7",
   "metadata": {},
   "source": [
    "# Create matching sample"
   ]
  },
  {
   "cell_type": "code",
   "execution_count": null,
   "id": "8",
   "metadata": {},
   "outputs": [],
   "source": [
    "bins"
   ]
  },
  {
   "cell_type": "code",
   "execution_count": null,
   "id": "9",
   "metadata": {},
   "outputs": [],
   "source": [
    "num = len(giants)\n",
    "num"
   ]
  },
  {
   "cell_type": "code",
   "execution_count": null,
   "id": "10",
   "metadata": {},
   "outputs": [],
   "source": [
    "\n",
    "sample = pd.DataFrame()\n",
    "for _ in range(num):\n",
    "    star = surp.vice_utils.rand_star(fiducial, table, width=0.1)\n",
    "    sample = pd.concat((sample, star), ignore_index=True)"
   ]
  },
  {
   "cell_type": "code",
   "execution_count": null,
   "id": "11",
   "metadata": {},
   "outputs": [],
   "source": [
    "sns.kdeplot(sample.r_final, label=\"model\")\n",
    "sns.kdeplot(giants.R_gal, label=\"data\")"
   ]
  },
  {
   "cell_type": "code",
   "execution_count": null,
   "id": "12",
   "metadata": {},
   "outputs": [],
   "source": [
    "sns.kdeplot(sample[~sample.high_alpha].r_final, label=\"model\")\n",
    "sns.kdeplot(giants[~giants.high_alpha].R_gal, label=\"data\")"
   ]
  },
  {
   "cell_type": "code",
   "execution_count": null,
   "id": "13",
   "metadata": {},
   "outputs": [],
   "source": [
    "sample.high_alpha = sample.high_alpha.convert_dtypes()"
   ]
  },
  {
   "cell_type": "code",
   "execution_count": null,
   "id": "14",
   "metadata": {},
   "outputs": [],
   "source": [
    "surp.yields.set_magg22_scale()"
   ]
  },
  {
   "cell_type": "code",
   "execution_count": null,
   "id": "15",
   "metadata": {},
   "outputs": [],
   "source": [
    "giants[\"CPN_MG\"] = giants[\"CPN_H\"] - giants.MG_H"
   ]
  },
  {
   "cell_type": "code",
   "execution_count": null,
   "id": "16",
   "metadata": {},
   "outputs": [],
   "source": [
    "sample[\"C_H\"] = sample.C_FE + sample.FE_H\n",
    "sample[\"N_H\"] = sample.N_FE + sample.FE_H\n",
    "sample[\"CPN_H\"] = surp.gce_math.cpn(sample.C_H, sample.N_H)\n",
    "sample[\"CPN_MG\"] = sample.CPN_H - sample.MG_H"
   ]
  },
  {
   "cell_type": "code",
   "execution_count": null,
   "id": "17",
   "metadata": {},
   "outputs": [],
   "source": []
  },
  {
   "cell_type": "code",
   "execution_count": null,
   "id": "18",
   "metadata": {},
   "outputs": [],
   "source": [
    "w22_x = [-0.6877142487549317, -0.5943260461807127, -0.49556949744518464, -0.403644654291443, -0.2991155164607723, -0.1990734751956536, -0.09569238729707008, 0.00743806998253671, 0.11101319448936031, 0.196316538386909, 0.3030043334842507, 0.40380635146497634]\n",
    "w22_y = [-0.1377369846524225, -0.07126090881733371, -0.06708396027685826, -0.07602768582606079, -0.06916039723141743, -0.05035811014143843, -0.025880228708997866, -0.0060186578393017776, 0.027469154378573557, 0.0502196810111345, 0.06622329220583811, 0.08085464941318088]"
   ]
  },
  {
   "cell_type": "code",
   "execution_count": null,
   "id": "19",
   "metadata": {},
   "outputs": [],
   "source": [
    "df = giants[giants[\"high_alpha\"]].copy()\n",
    "\n",
    "arya.medianplot(df, x=\"MG_H\", y=\"CPN_MG\", numbins=20, stat=\"median\", errorbar=\"pi\", label=\"APOGEE Giants\")\n",
    "\n",
    "\n",
    "df = giants[~giants[\"high_alpha\"]].copy()\n",
    "\n",
    "arya.medianplot(df, x=\"MG_H\", y=\"CPN_MG\", numbins=20, stat=\"median\", errorbar=\"pi\", label=\"APOGEE Giants\")\n"
   ]
  },
  {
   "cell_type": "code",
   "execution_count": null,
   "id": "20",
   "metadata": {},
   "outputs": [],
   "source": [
    "np.log10(vice.solar_z(\"c\")/12) + 12 # versus 8.39"
   ]
  },
  {
   "cell_type": "code",
   "execution_count": null,
   "id": "21",
   "metadata": {},
   "outputs": [],
   "source": [
    "np.log10(vice.solar_z(\"n\")/14) + 12 # versus 7.78"
   ]
  },
  {
   "cell_type": "code",
   "execution_count": null,
   "id": "22",
   "metadata": {},
   "outputs": [],
   "source": [
    "surp.gce_math.cpn(8.45 - 8.39, 7.78 - 7.87)"
   ]
  },
  {
   "cell_type": "code",
   "execution_count": null,
   "id": "23",
   "metadata": {},
   "outputs": [],
   "source": [
    "df = giants[~giants[\"high_alpha\"]].copy()\n",
    "\n",
    "arya.medianplot(df, x=\"MG_H\", y=\"CPN_MG\", numbins=20, stat=\"median\", errorbar=\"pi\", label=\"APOGEE Giants\")\n",
    "\n",
    "df = sample[~sample.high_alpha].copy()\n",
    "df[\"CPN_MG\"] += 0.08\n",
    "\n",
    "arya.medianplot(df, x=\"MG_H\", y=\"CPN_MG\", stat=\"median\", errorbar=None,\n",
    "    aes=\"line\", numbins=30, label=\"model\", color=arya.COLORS[1])\n",
    "\n",
    "                                        \n",
    "plt.xlabel(\"[Mg/H]\")\n",
    "plt.ylabel(\"[C+N/Mg]\")\n",
    "plt.xlim(-0.7)\n",
    "\n",
    "#plt.scatter(w22_x, np.array(w22_y) + 0.029, color=arya.COLORS[2])\n",
    "\n",
    "arya.Legend(color_only=True)\n",
    "\n",
    "plt.savefig(\"c+n.pdf\")"
   ]
  },
  {
   "cell_type": "markdown",
   "id": "24",
   "metadata": {},
   "source": [
    "# Subgiants"
   ]
  },
  {
   "cell_type": "code",
   "execution_count": null,
   "id": "25",
   "metadata": {},
   "outputs": [],
   "source": [
    "sample_sg = ViceModel.from_file(\"../../models/C11_f0.2/model.json\").stars"
   ]
  },
  {
   "cell_type": "code",
   "execution_count": null,
   "id": "26",
   "metadata": {},
   "outputs": [],
   "source": [
    "def add_cpn(df):\n",
    "    df[\"C_H\"] = df.C_FE + df.FE_H\n",
    "    df[\"N_H\"] = df.N_FE + df.FE_H\n",
    "    df[\"CPN_H\"] = surp.gce_math.cpn(df.C_H, df.N_H)\n",
    "    df[\"CPN_MG\"] = df.CPN_H - df.MG_H"
   ]
  },
  {
   "cell_type": "code",
   "execution_count": null,
   "id": "27",
   "metadata": {},
   "outputs": [],
   "source": [
    "add_cpn(sample_sg)"
   ]
  },
  {
   "cell_type": "code",
   "execution_count": null,
   "id": "28",
   "metadata": {},
   "outputs": [],
   "source": [
    "subgiants = surp.subgiants"
   ]
  },
  {
   "cell_type": "code",
   "execution_count": null,
   "id": "29",
   "metadata": {},
   "outputs": [],
   "source": [
    "add_cpn(subgiants)"
   ]
  },
  {
   "cell_type": "code",
   "execution_count": null,
   "id": "30",
   "metadata": {},
   "outputs": [],
   "source": [
    "df = subgiants[~subgiants[\"high_alpha\"]].copy()\n",
    "\n",
    "arya.medianplot(df, x=\"MG_H\", y=\"CPN_MG\", numbins=20, stat=\"median\", errorbar=\"pi\", label=\"APOGEE subgiants\")\n",
    "\n",
    "df = sample_sg[~sample_sg.high_alpha].copy()\n",
    "\n",
    "arya.medianplot(df, x=\"MG_H\", y=\"CPN_MG\", stat=\"median\", errorbar=None,\n",
    "    aes=\"line\", numbins=30, label=\"model\", color=arya.COLORS[1])\n",
    "\n",
    "                                        \n",
    "plt.xlabel(\"[Mg/H]\")\n",
    "plt.ylabel(\"[C+N/Mg]\")\n",
    "plt.xlim(-0.7)\n",
    "\n",
    "#plt.scatter(w22_x, np.array(w22_y) + 0.029, color=arya.COLORS[2])\n",
    "\n",
    "arya.Legend(color_only=True)\n"
   ]
  },
  {
   "cell_type": "code",
   "execution_count": null,
   "id": "31",
   "metadata": {},
   "outputs": [],
   "source": []
  }
 ],
 "metadata": {
  "kernelspec": {
   "display_name": "Python (3.10)",
   "language": "python",
   "name": "python3"
  },
  "language_info": {
   "codemirror_mode": {
    "name": "ipython",
    "version": 3
   },
   "file_extension": ".py",
   "mimetype": "text/x-python",
   "name": "python",
   "nbconvert_exporter": "python",
   "pygments_lexer": "ipython3",
   "version": "3.10.10"
  }
 },
 "nbformat": 4,
 "nbformat_minor": 5
}
