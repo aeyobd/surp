{
 "cells": [
  {
   "cell_type": "code",
   "execution_count": null,
   "id": "0",
   "metadata": {},
   "outputs": [],
   "source": [
    "import pandas as pd\n",
    "import matplotlib.pyplot as plt\n",
    "import matplotlib as mpl\n",
    "import numpy as np\n",
    "import pandas as pd\n",
    "\n",
    "from astropy.table import Table\n"
   ]
  },
  {
   "cell_type": "code",
   "execution_count": null,
   "id": "1",
   "metadata": {},
   "outputs": [],
   "source": [
    "import surp\n",
    "import arya"
   ]
  },
  {
   "cell_type": "code",
   "execution_count": null,
   "id": "2",
   "metadata": {},
   "outputs": [],
   "source": [
    "df = surp.subgiants\n",
    "len(df)"
   ]
  },
  {
   "cell_type": "code",
   "execution_count": null,
   "id": "3",
   "metadata": {},
   "outputs": [],
   "source": [
    "plt.hist2d(df.R_gal, df.z_gal, range=[(6, 9),(-1, 1)], bins=50)\n",
    "plt.xlabel(\"R gal (kpc)\")\n",
    "plt.ylabel(\"z (kpc)\")"
   ]
  },
  {
   "cell_type": "code",
   "execution_count": null,
   "id": "4",
   "metadata": {},
   "outputs": [],
   "source": [
    "filt = ~df[\"high_alpha\"]\n",
    "plt.hist2d(df[filt][\"MG_H\"], df[filt][\"C_MG\"], 200)\n",
    "plt.xlabel(\"[Mg/H]\")\n",
    "plt.ylabel(\"[C/Mg]\")"
   ]
  },
  {
   "cell_type": "code",
   "execution_count": null,
   "id": "5",
   "metadata": {},
   "outputs": [],
   "source": [
    "x = np.linspace(-2, 1, 100)\n",
    "y = surp.gce_math.mg_fe_cutoff(x)"
   ]
  },
  {
   "cell_type": "code",
   "execution_count": null,
   "id": "6",
   "metadata": {},
   "outputs": [],
   "source": [
    "plt.hist2d(df[\"FE_H\"], df[\"MG_FE\"], 200);\n",
    "plt.xlim(-0.8, 0.5)\n",
    "plt.ylim(-0.2, 0.5)\n",
    "plt.plot(x, y)\n",
    "plt.xlabel(\"[Fe/H]\")\n",
    "plt.ylabel(\"[Mg/Fe]\")"
   ]
  },
  {
   "cell_type": "markdown",
   "id": "7",
   "metadata": {},
   "source": [
    "Plot of the o/fe-fe/h bimodality in apogee data"
   ]
  },
  {
   "cell_type": "code",
   "execution_count": null,
   "id": "8",
   "metadata": {},
   "outputs": [],
   "source": [
    "plt.hist2d(df.MG_H, df.MG_H - df.O_H, range=[(-1, 0.5), (-0.5, 0.5)], bins=50);\n",
    "plt.axhline(0)\n",
    "plt.xlabel(\"[Mg/H]\")\n",
    "plt.ylabel(\"[MG/O]\")\n",
    "\n",
    "df[\"MG_O\"] = df.MG_H - df.O_H\n",
    "arya.medianplot(df, \"MG_H\", \"MG_O\", stat=\"median\", binsize=400, color=arya.style.COLORS[2])"
   ]
  },
  {
   "cell_type": "code",
   "execution_count": null,
   "id": "9",
   "metadata": {},
   "outputs": [],
   "source": [
    "plt.hist(df[\"O_FE_ERR\"], 100);\n",
    "plt.xlabel(\"[O/Fe] err\")"
   ]
  },
  {
   "cell_type": "code",
   "execution_count": null,
   "id": "10",
   "metadata": {},
   "outputs": [],
   "source": [
    "plt.scatter(df.FE_H, df.O_FE_ERR, alpha=0.1, s=1)\n",
    "plt.ylim(0, 0.1)"
   ]
  },
  {
   "cell_type": "code",
   "execution_count": null,
   "id": "11",
   "metadata": {},
   "outputs": [],
   "source": [
    "from scipy.optimize import curve_fit"
   ]
  },
  {
   "cell_type": "code",
   "execution_count": null,
   "id": "12",
   "metadata": {},
   "outputs": [],
   "source": [
    "def linear(x, a, b):\n",
    "    return a*x + b"
   ]
  },
  {
   "cell_type": "code",
   "execution_count": null,
   "id": "13",
   "metadata": {},
   "outputs": [],
   "source": [
    "%load_ext autoreload\n",
    "%autoreload 2"
   ]
  },
  {
   "cell_type": "code",
   "execution_count": null,
   "id": "14",
   "metadata": {},
   "outputs": [],
   "source": [
    "import sys\n",
    "sys.path.append(\"..\")\n",
    "import errors"
   ]
  },
  {
   "cell_type": "code",
   "execution_count": null,
   "id": "15",
   "metadata": {},
   "outputs": [],
   "source": [
    "plt.scatter(df.FE_H, df.FE_H_ERR, alpha=0.01, s=1)\n",
    "\n",
    "md = arya.medianplot(df, \"FE_H\", \"FE_H_ERR\", binsize=500)\n",
    "\n",
    "popt, covt = curve_fit(linear, md.x, md.y)\n",
    "print(popt)\n",
    "x = np.linspace(-1.5, 0.5, 100)\n",
    "y = errors.fe_h_err(x)\n",
    "plt.plot(x, y)\n",
    "plt.ylim(0, 0.02)"
   ]
  },
  {
   "cell_type": "code",
   "execution_count": null,
   "id": "16",
   "metadata": {},
   "outputs": [],
   "source": [
    "plt.scatter(df.FE_H, df.C_MG_ERR, alpha=0.01, s=1)\n",
    "\n",
    "md = arya.medianplot(df, \"FE_H\", \"C_MG_ERR\", binsize=500)\n",
    "\n",
    "popt, covt = curve_fit(linear, md.x, md.y)\n",
    "\n",
    "y = errors.c_mg_err(x)\n",
    "plt.plot(x, y)\n",
    "print(popt)\n",
    "plt.ylim(0, 0.1)"
   ]
  },
  {
   "cell_type": "code",
   "execution_count": null,
   "id": "17",
   "metadata": {},
   "outputs": [],
   "source": [
    "def quadratic(x, a, b, c):\n",
    "    return a*x**2 + b*x + c"
   ]
  },
  {
   "cell_type": "code",
   "execution_count": null,
   "id": "18",
   "metadata": {},
   "outputs": [],
   "source": [
    "plt.scatter(df.FE_H, df.MG_H_ERR, alpha=0.01, s=1)\n",
    "\n",
    "md = arya.medianplot(df, \"FE_H\", \"MG_H_ERR\", binsize=500)\n",
    "\n",
    "popt, covt = curve_fit(quadratic, md.x, md.y)\n",
    "\n",
    "x = np.linspace(-1.5, 0.5, 100)\n",
    "y = errors.mg_h_err(x)\n",
    "plt.plot(x, y)\n",
    "print(popt)\n",
    "plt.ylim(0, 0.1)"
   ]
  },
  {
   "cell_type": "code",
   "execution_count": null,
   "id": "19",
   "metadata": {},
   "outputs": [],
   "source": [
    "plt.scatter(df.FE_H, df.MG_FE_ERR, alpha=0.01, s=1)\n",
    "\n",
    "md = arya.medianplot(df, \"FE_H\", \"MG_FE_ERR\", binsize=500)\n",
    "\n",
    "popt, covt = curve_fit(quadratic, md.x, md.y)\n",
    "\n",
    "x = np.linspace(-1.5, 0.5, 100)\n",
    "y = errors.mg_fe_err(x)\n",
    "plt.plot(x, y)\n",
    "print(popt)\n",
    "plt.ylim(0, 0.05)"
   ]
  }
 ],
 "metadata": {
  "kernelspec": {
   "display_name": "Python 3 (ipykernel)",
   "language": "python",
   "name": "python3"
  },
  "language_info": {
   "codemirror_mode": {
    "name": "ipython",
    "version": 3
   },
   "file_extension": ".py",
   "mimetype": "text/x-python",
   "name": "python",
   "nbconvert_exporter": "python",
   "pygments_lexer": "ipython3",
   "version": "3.11.9"
  }
 },
 "nbformat": 4,
 "nbformat_minor": 5
}
