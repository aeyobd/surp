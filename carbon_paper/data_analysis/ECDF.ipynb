{
 "cells": [
  {
   "cell_type": "markdown",
   "id": "0",
   "metadata": {},
   "source": [
    "# Creates the CDF used to empirically sample subgiants"
   ]
  },
  {
   "cell_type": "code",
   "execution_count": null,
   "id": "1",
   "metadata": {},
   "outputs": [],
   "source": [
    "from surp import subgiants\n",
    "import scipy\n",
    "import numpy as np\n",
    "import matplotlib.pyplot as plt\n",
    "import arya\n",
    "from statsmodels.distributions import ECDF\n",
    "import pandas as pd"
   ]
  },
  {
   "cell_type": "code",
   "execution_count": null,
   "id": "2",
   "metadata": {},
   "outputs": [],
   "source": [
    "import surp"
   ]
  },
  {
   "cell_type": "code",
   "execution_count": null,
   "id": "3",
   "metadata": {},
   "outputs": [],
   "source": [
    "R = subgiants.R_gal[np.isfinite(subgiants.R_gal)]"
   ]
  },
  {
   "cell_type": "code",
   "execution_count": null,
   "id": "4",
   "metadata": {},
   "outputs": [],
   "source": [
    "bins = np.arange(0, 20, 0.05)\n",
    "counts, _, _ = plt.hist(R, bins=bins)\n",
    "\n",
    "R2 = subgiants.R_gal_gaia[np.isfinite(subgiants.R_gal_gaia)]\n",
    "plt.hist(R2, bins=bins, histtype=\"step\")\n",
    "plt.xlim(6, 10)\n",
    "plt.xlabel(r\"$R_{\\rm gal}$\")\n",
    "plt.ylabel(\"counts\")"
   ]
  },
  {
   "cell_type": "code",
   "execution_count": null,
   "id": "5",
   "metadata": {},
   "outputs": [],
   "source": [
    "cdf = ECDF(R)"
   ]
  },
  {
   "cell_type": "code",
   "execution_count": null,
   "id": "6",
   "metadata": {},
   "outputs": [],
   "source": [
    "max_R = 15.5\n",
    "R_sample = np.arange(0, max_R, 0.01)\n",
    "norm_cdf = cdf(R_sample)/cdf(max_R)\n",
    "table = pd.DataFrame({\"R\": R_sample, \"cdf\": norm_cdf})"
   ]
  },
  {
   "cell_type": "code",
   "execution_count": null,
   "id": "7",
   "metadata": {},
   "outputs": [],
   "source": [
    "table.to_csv(surp.DATA_DIR + \"/R_subgiants_cdf.csv\")"
   ]
  },
  {
   "cell_type": "code",
   "execution_count": null,
   "id": "8",
   "metadata": {},
   "outputs": [],
   "source": [
    "df = surp.vice_utils.load_cdf()"
   ]
  },
  {
   "cell_type": "code",
   "execution_count": null,
   "id": "9",
   "metadata": {},
   "outputs": [],
   "source": [
    "\n",
    "plt.plot(cdf.x, cdf.y, label=\"full\")\n",
    "plt.plot(df.R, df.cdf, label=\"sampled\")\n",
    "plt.xlabel(\"R / kpc\")\n",
    "plt.ylabel(\"CDF\")\n",
    "arya.Legend()"
   ]
  },
  {
   "cell_type": "code",
   "execution_count": null,
   "id": "10",
   "metadata": {},
   "outputs": [],
   "source": [
    "subgiants.R_gal - subgiants.R_gal_gaia"
   ]
  },
  {
   "cell_type": "code",
   "execution_count": null,
   "id": "11",
   "metadata": {},
   "outputs": [],
   "source": [
    "plt.hist((subgiants.R_gal - subgiants.R_gal_gaia), bins=np.linspace(-1, 1, 100))"
   ]
  },
  {
   "cell_type": "code",
   "execution_count": null,
   "id": "12",
   "metadata": {},
   "outputs": [],
   "source": [
    "plt.hist((subgiants.abs_z - np.abs(subgiants.z_gal_gaia)), bins=np.linspace(-1, 1, 100))"
   ]
  },
  {
   "cell_type": "code",
   "execution_count": null,
   "id": "13",
   "metadata": {},
   "outputs": [],
   "source": [
    "bins = np.arange(0, 20, 0.05)\n",
    "plt.xlim(6, 10)\n",
    "plt.xlabel(r\"$R_{\\rm gal}$\")\n",
    "plt.ylabel(\"counts\")"
   ]
  },
  {
   "cell_type": "code",
   "execution_count": null,
   "id": "14",
   "metadata": {},
   "outputs": [],
   "source": [
    "cdf = ECDF(R)"
   ]
  },
  {
   "cell_type": "code",
   "execution_count": null,
   "id": "15",
   "metadata": {},
   "outputs": [],
   "source": [
    "max_R = 15.5\n",
    "R_sample = np.arange(0, max_R, 0.01)\n",
    "norm_cdf = cdf(R_sample)/cdf(max_R)\n",
    "table = pd.DataFrame({\"R\": R_sample, \"cdf\": norm_cdf})"
   ]
  },
  {
   "cell_type": "code",
   "execution_count": null,
   "id": "16",
   "metadata": {},
   "outputs": [],
   "source": [
    "table.to_csv(surp.DATA_DIR + \"/R_subgiants_cdf.csv\")"
   ]
  },
  {
   "cell_type": "code",
   "execution_count": null,
   "id": "17",
   "metadata": {},
   "outputs": [],
   "source": [
    "df = surp.vice_utils.load_cdf()"
   ]
  },
  {
   "cell_type": "code",
   "execution_count": null,
   "id": "18",
   "metadata": {},
   "outputs": [],
   "source": [
    "\n",
    "plt.plot(cdf.x, cdf.y, label=\"full\")\n",
    "plt.plot(df.R, df.cdf, label=\"sampled\")\n",
    "x = np.sort(R)\n",
    "y = np.linspace(0, 1, len(R))\n",
    "plt.plot(x[::10], y[::10], label=\"my calculation\")\n",
    "plt.xlabel(\"R / kpc\")\n",
    "plt.ylabel(\"CDF\")\n",
    "arya.Legend()"
   ]
  },
  {
   "cell_type": "code",
   "execution_count": null,
   "id": "19",
   "metadata": {},
   "outputs": [],
   "source": []
  }
 ],
 "metadata": {
  "kernelspec": {
   "display_name": "Python 3 (ipykernel)",
   "language": "python",
   "name": "python3"
  },
  "language_info": {
   "codemirror_mode": {
    "name": "ipython",
    "version": 3
   },
   "file_extension": ".py",
   "mimetype": "text/x-python",
   "name": "python",
   "nbconvert_exporter": "python",
   "pygments_lexer": "ipython3",
   "version": "3.11.9"
  }
 },
 "nbformat": 4,
 "nbformat_minor": 5
}
