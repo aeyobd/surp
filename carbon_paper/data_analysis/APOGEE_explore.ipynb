{
 "cells": [
  {
   "cell_type": "markdown",
   "id": "0",
   "metadata": {},
   "source": [
    "# Apogee\n",
    "this notebook is a short exploration of the APOGEE sample"
   ]
  },
  {
   "cell_type": "code",
   "execution_count": null,
   "id": "1",
   "metadata": {},
   "outputs": [],
   "source": [
    "%load_ext autoreload\n",
    "%autoreload 2"
   ]
  },
  {
   "cell_type": "code",
   "execution_count": null,
   "id": "2",
   "metadata": {},
   "outputs": [],
   "source": [
    "import pandas as pd\n",
    "import matplotlib.pyplot as plt\n",
    "import numpy as np\n",
    "import pandas as pd\n",
    "\n",
    "from astropy.table import Table\n",
    "from astropy.io import fits\n",
    "import astropy.units as u\n",
    "\n",
    "import vice"
   ]
  },
  {
   "cell_type": "code",
   "execution_count": null,
   "id": "3",
   "metadata": {},
   "outputs": [],
   "source": [
    "import surp"
   ]
  },
  {
   "cell_type": "code",
   "execution_count": null,
   "id": "4",
   "metadata": {},
   "outputs": [],
   "source": [
    "file_name = surp.DATA_DIR + \"allStar-dr17-synspec_rev1.fits.1\""
   ]
  },
  {
   "cell_type": "code",
   "execution_count": null,
   "id": "5",
   "metadata": {
    "tags": []
   },
   "outputs": [],
   "source": [
    "ff = fits.open(file_name, mmap=True)\n",
    "da = ff[1].data\n",
    "ff.close()"
   ]
  },
  {
   "cell_type": "code",
   "execution_count": null,
   "id": "6",
   "metadata": {},
   "outputs": [],
   "source": [
    "# cuts in W+19\n",
    "mask = da[\"LOGG\"] > 1\n",
    "mask &= da[\"LOGG\"] < 2\n",
    "mask &= da[\"SNR\"] > 80\n",
    "filtered = da[mask]\n",
    "# del da"
   ]
  },
  {
   "cell_type": "code",
   "execution_count": null,
   "id": "7",
   "metadata": {},
   "outputs": [],
   "source": [
    "plotting.density_scatter(da[\"TEFF\"], da[\"LOGG\"], density=False)\n",
    "plt.gca().invert_yaxis()\n",
    "plt.gca().invert_xaxis()\n",
    "plt.xlabel(\"T_eff\")\n",
    "plt.ylabel(\"log g\")"
   ]
  },
  {
   "cell_type": "code",
   "execution_count": null,
   "id": "8",
   "metadata": {},
   "outputs": [],
   "source": [
    "df = pd.DataFrame(filtered.tolist(), columns = [c.name for c in filtered.columns])\n",
    "\n",
    "del filtered\n",
    "del da"
   ]
  },
  {
   "cell_type": "code",
   "execution_count": null,
   "id": "9",
   "metadata": {},
   "outputs": [],
   "source": [
    "plt.scatter(df[\"GLON\"], df[\"GAIAEDR3_R_MED_GEO\"])"
   ]
  },
  {
   "cell_type": "code",
   "execution_count": null,
   "id": "10",
   "metadata": {},
   "outputs": [],
   "source": [
    "# Calculate galactocentric coordinates\n",
    "import astropy.coordinates as coord\n",
    "c = coord.SkyCoord(ra = df[\"RA\"] * u.degree,\n",
    "                           dec = df[\"DEC\"] * u.degree,\n",
    "                           distance = df[\"GAIAEDR3_R_MED_GEO\"] * u.pc,\n",
    "                           frame=\"icrs\")\n",
    "gc_c = c.transform_to(coord.Galactocentric)\n"
   ]
  },
  {
   "cell_type": "code",
   "execution_count": null,
   "id": "11",
   "metadata": {},
   "outputs": [],
   "source": [
    "df[\"R_gal\"] = np.array(np.sqrt(gc_c.x**2 + gc_c.y**2) / 1e3)\n",
    "df[\"th_gal\"] = np.array(np.arctan2(gc_c.y, gc_c.x))\n",
    "df[\"abs_z\"] = np.array(np.abs(gc_c.z) / 1e3)\n",
    "df[\"z\"] = np.array(gc_c.z / 1e3)"
   ]
  },
  {
   "cell_type": "code",
   "execution_count": null,
   "id": "12",
   "metadata": {},
   "outputs": [],
   "source": [
    "import arya"
   ]
  },
  {
   "cell_type": "code",
   "execution_count": null,
   "id": "13",
   "metadata": {},
   "outputs": [],
   "source": [
    "plt.hist2d(df.R_gal, df.M_H, 50, range=([0, 16], [-1, 0.5]));\n",
    "plt.plot(x, y)"
   ]
  },
  {
   "cell_type": "code",
   "execution_count": null,
   "id": "14",
   "metadata": {},
   "outputs": [],
   "source": [
    "plt.scatter(df.R_gal, df.z, c=df.th_gal, s=0.1, alpha=0.1, cmap=\"hsv\")\n",
    "plt.colorbar(label=\"phi\")\n",
    "plt.xlabel(\"R_gal (kpc)\")\n",
    "plt.ylabel(\"z (kpc)\")\n",
    "plt.xlim(0, 20)\n",
    "plt.ylim(-10, 10)"
   ]
  },
  {
   "cell_type": "code",
   "execution_count": null,
   "id": "15",
   "metadata": {},
   "outputs": [],
   "source": [
    "fig = plt.figure()\n",
    "\n",
    "ax = fig.add_subplot(111, projection='3d')\n",
    "\n",
    "ax.scatter(gc_c.x, gc_c.y, gc_c.z, s=0.1, alpha=0.1, c=gc_c.z)"
   ]
  },
  {
   "cell_type": "code",
   "execution_count": null,
   "id": "16",
   "metadata": {},
   "outputs": [],
   "source": [
    "plt.scatter(df[\"GLON\"], df[\"GLAT\"], c=df.R_gal, s=0.1, alpha=0.1, vmax=20)\n",
    "plt.colorbar(label=\"R_gal (kpc)\")"
   ]
  },
  {
   "cell_type": "code",
   "execution_count": null,
   "id": "17",
   "metadata": {},
   "outputs": [],
   "source": [
    "plt.scatter(df[\"FE_H\"], df[\"O_FE\"], c=df.abs_z, s=0.1, alpha=0.5, vmax=20)\n",
    "plt.ylim(-1,1)\n",
    "plt.xlim(-3,2)\n",
    "plt.ylabel(\"[O/FE]\")\n",
    "plt.xlabel(\"[FE/H]\")\n",
    "plt.colorbar()"
   ]
  },
  {
   "cell_type": "code",
   "execution_count": null,
   "id": "18",
   "metadata": {},
   "outputs": [],
   "source": [
    "def plot_abundance_alpha(x=\"FE_H\", y=\"MG_FE\", df=df, fig=None, ax=None, s=0.001):\n",
    "    if fig is None or ax is None:\n",
    "        fig, ax = plt.subplots()\n",
    "        \n",
    "    x_vals = df[x] \n",
    "    y_vals = df[y]\n",
    "    ax.scatter(x_vals[df.high_alpha], y_vals[df.high_alpha], label=\"low SNIa\", alpha=1, s=s)\n",
    "    ax.scatter(x_vals[~df.high_alpha], y_vals[~df.high_alpha], label=\"high SNIa\", alpha=1, s=s)\n",
    "    ax.legend(markerscale=0.1/s)\n",
    "    ax.set_xlabel(x)\n",
    "    ax.set_ylabel(y)\n",
    "    "
   ]
  },
  {
   "cell_type": "code",
   "execution_count": null,
   "id": "19",
   "metadata": {},
   "outputs": [],
   "source": [
    "df[\"high_alpha\"] = surp.gce_math.is_high_alpha(df[\"MG_FE\"], df[\"FE_H\"])\n",
    "\n"
   ]
  },
  {
   "cell_type": "code",
   "execution_count": null,
   "id": "20",
   "metadata": {},
   "outputs": [],
   "source": [
    "plot_abundance_alpha(y=\"C_MG\")"
   ]
  },
  {
   "cell_type": "code",
   "execution_count": null,
   "id": "21",
   "metadata": {},
   "outputs": [],
   "source": [
    "plot_abundance_alpha()"
   ]
  },
  {
   "cell_type": "code",
   "execution_count": null,
   "id": "22",
   "metadata": {},
   "outputs": [],
   "source": [
    "def plot_in_gal_region(x=\"O_H\", y=\"C_O\", split = df, xlabel=None, ylabel=None):\n",
    "    fig, axs = plt.subplots(5, 3, sharex=True, sharey=True, figsize=(20,15))\n",
    "    for j in range(5):\n",
    "        R_min, R_max = [(1, 3), (3, 5), (5,7), (7,9), (9,11), (11,13)][j]\n",
    "    \n",
    "\n",
    "        for i in range(3):\n",
    "            z_min, z_max = [(0, 0.5), (0.5, 1), (1, 2)][i]\n",
    "            ax = axs[j][i]\n",
    "            mask = split.R_gal > R_min\n",
    "            mask &= split.R_gal < R_max\n",
    "            mask &= split.abs_z > z_min\n",
    "            mask &= split.abs_z < z_max\n",
    "            \n",
    "            # plotting.density_scatter(x[mask], y[mask], fig=fig, ax=ax)\n",
    "            plot_abundance_alpha(x, y, df = split[mask], fig=fig, ax=ax, s=0.01)\n",
    "            ax.set_xlabel(\"\")\n",
    "            ax.set_ylabel(\"\")\n",
    "            if j==0:\n",
    "                ax.set(title=\"z =  %1.1f - %1.1f\" % (z_min, z_max))\n",
    "            if i == 0:\n",
    "                ax.set_ylabel(\"R = %i - %i\" %(R_min, R_max))\n",
    "                \n",
    "\n",
    "                \n",
    "    fig.supxlabel(\"[%s/%s]\" % tuple(x.split(\"_\")))\n",
    "    fig.supylabel(\"[%s/%s]\" % tuple(y.split(\"_\")))\n",
    "            \n",
    "            \n"
   ]
  },
  {
   "cell_type": "code",
   "execution_count": null,
   "id": "23",
   "metadata": {},
   "outputs": [],
   "source": [
    "df[\"C_MG\"] = df[\"C_FE\"] - df[\"MG_FE\"]"
   ]
  },
  {
   "cell_type": "code",
   "execution_count": null,
   "id": "24",
   "metadata": {},
   "outputs": [],
   "source": [
    "plot_in_gal_region(x = \"FE_H\", y=\"C_MG\")"
   ]
  },
  {
   "cell_type": "code",
   "execution_count": null,
   "id": "25",
   "metadata": {},
   "outputs": [],
   "source": [
    "plot_in_gal_region(x = \"FE_H\", y=\"O_FE\")"
   ]
  }
 ],
 "metadata": {
  "kernelspec": {
   "display_name": "Python 3 (ipykernel)",
   "language": "python",
   "name": "python3"
  },
  "language_info": {
   "codemirror_mode": {
    "name": "ipython",
    "version": 3
   },
   "file_extension": ".py",
   "mimetype": "text/x-python",
   "name": "python",
   "nbconvert_exporter": "python",
   "pygments_lexer": "ipython3",
   "version": "3.11.9"
  }
 },
 "nbformat": 4,
 "nbformat_minor": 5
}
