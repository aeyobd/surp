{
 "cells": [
  {
   "cell_type": "code",
   "execution_count": null,
   "id": "0",
   "metadata": {},
   "outputs": [],
   "source": [
    "import surp"
   ]
  },
  {
   "cell_type": "code",
   "execution_count": null,
   "id": "1",
   "metadata": {},
   "outputs": [],
   "source": [
    "import matplotlib.pyplot as plt\n",
    "import numpy as np"
   ]
  },
  {
   "cell_type": "code",
   "execution_count": null,
   "id": "2",
   "metadata": {},
   "outputs": [],
   "source": [
    "from astropy.table import Table\n",
    "\n",
    "import arya"
   ]
  },
  {
   "cell_type": "code",
   "execution_count": null,
   "id": "3",
   "metadata": {},
   "outputs": [],
   "source": [
    "filename = \"../../data/allStar-dr17-synspec_rev1.fits\"\n",
    "\n",
    "allStar = Table.read(filename, format=\"fits\", hdu=1, memmap=True)"
   ]
  },
  {
   "cell_type": "code",
   "execution_count": null,
   "id": "4",
   "metadata": {},
   "outputs": [],
   "source": [
    "filt = np.full(len(allStar), True)\n",
    "\n",
    "apogee_aspcapflag = 1<<23 # starbad\n",
    "\n",
    "filt &= allStar[\"ASPCAPFLAG\"] & apogee_aspcapflag == 0\n",
    "filt &= allStar[\"EXTRATARG\"] == 0\n",
    "filt &= allStar[\"SNR\"] >= 80\n",
    "\n",
    "\n",
    "filt &= allStar[\"LOGG\"] >= 1\n",
    "filt &= allStar[\"LOGG\"] <= 3.8\n",
    "filt &= allStar[\"TEFF\"] >= 3400\n",
    "filt &= allStar[\"TEFF\"] <= 5500\n",
    "\n",
    "\n",
    "filt &= (allStar[\"LOGG\"] < 3 ) | (allStar[\"TEFF\"] > 4000)\n"
   ]
  },
  {
   "cell_type": "code",
   "execution_count": null,
   "id": "5",
   "metadata": {},
   "outputs": [],
   "source": [
    "valid_id = allStar[\"APOGEE_ID\"][filt]"
   ]
  },
  {
   "cell_type": "code",
   "execution_count": null,
   "id": "6",
   "metadata": {},
   "outputs": [],
   "source": [
    "filename = \"../../data/apogee_astroNN-DR17.fits\"\n",
    "astroNN = Table.read(filename, format=\"fits\", memmap=True)"
   ]
  },
  {
   "cell_type": "code",
   "execution_count": null,
   "id": "7",
   "metadata": {},
   "outputs": [],
   "source": [
    "np.sum(filt)"
   ]
  },
  {
   "cell_type": "code",
   "execution_count": null,
   "id": "8",
   "metadata": {},
   "outputs": [],
   "source": [
    "filt_ann = astroNN[\"LOGG\"] >= 0\n",
    "astroNN[\"tau\"] = astroNN[\"age_lowess_correct\"]\n",
    "filt_ann &= astroNN[\"tau\"] <= 10\n",
    "filt_ann &= astroNN[\"galr\"] <= 15\n",
    "#filt_ann &= astroNN[\"age_total_error\"] <= 3\n",
    "filt_ann &= np.abs(astroNN[\"galz\"]) <= 0.5"
   ]
  },
  {
   "cell_type": "code",
   "execution_count": null,
   "id": "9",
   "metadata": {},
   "outputs": [],
   "source": [
    "sum(filt_ann)"
   ]
  },
  {
   "cell_type": "code",
   "execution_count": null,
   "id": "10",
   "metadata": {},
   "outputs": [],
   "source": [
    "filt_ann &= np.isin(astroNN[\"APOGEE_ID\"], valid_id)"
   ]
  },
  {
   "cell_type": "code",
   "execution_count": null,
   "id": "11",
   "metadata": {},
   "outputs": [],
   "source": [
    "sum(filt_ann)"
   ]
  },
  {
   "cell_type": "code",
   "execution_count": null,
   "id": "12",
   "metadata": {},
   "outputs": [],
   "source": [
    "df = astroNN[filt_ann].to_pandas()"
   ]
  },
  {
   "cell_type": "code",
   "execution_count": null,
   "id": "13",
   "metadata": {},
   "outputs": [],
   "source": [
    "plt.hist2d(astroNN[\"TEFF\"], astroNN[\"LOGG\"], bins=100, range=((0, 10_000), (1, 5)))\n",
    "plt.gca().invert_xaxis()\n",
    "plt.gca().invert_yaxis()\n",
    "plt.xlabel(\"teff\")\n",
    "plt.ylabel(\"logg\")"
   ]
  },
  {
   "cell_type": "code",
   "execution_count": null,
   "id": "14",
   "metadata": {},
   "outputs": [],
   "source": [
    "plt.scatter(df.TEFF, df.LOGG, c=df.age, s=1)\n",
    "plt.gca().invert_xaxis()\n",
    "plt.gca().invert_yaxis()\n",
    "plt.xlabel(\"teff\")\n",
    "plt.ylabel(\"logg\")"
   ]
  },
  {
   "cell_type": "code",
   "execution_count": null,
   "id": "15",
   "metadata": {},
   "outputs": [],
   "source": [
    "plt.scatter(df.galr, df.age, s=1, c=df.age_total_error, vmax=3)"
   ]
  },
  {
   "cell_type": "code",
   "execution_count": null,
   "id": "16",
   "metadata": {},
   "outputs": [],
   "source": [
    "arya.medianplot(df, \"galr\", \"age\", binsize=1000)"
   ]
  },
  {
   "cell_type": "code",
   "execution_count": null,
   "id": "17",
   "metadata": {},
   "outputs": [],
   "source": [
    "arya.medianplot(df, \"galr\", \"O_H\", binsize=1000, stat=\"median\")"
   ]
  },
  {
   "cell_type": "code",
   "execution_count": null,
   "id": "18",
   "metadata": {},
   "outputs": [],
   "source": [
    "hm = arya.HueMap((0, 10))\n",
    "\n",
    "for low in range(10):\n",
    "    high = low + 1\n",
    "    filt = df.age >= low\n",
    "    filt &= df.age <= high\n",
    "    arya.medianplot(df[filt], \"galr\", \"O_H\", binsize=500, stat=\"median\", errorbar=None, color=hm(low), aes=\"line\")"
   ]
  },
  {
   "cell_type": "code",
   "execution_count": null,
   "id": "19",
   "metadata": {},
   "outputs": [],
   "source": [
    "hm = arya.HueMap((0, 10))\n",
    "\n",
    "for low in range(10):\n",
    "    high = low + 1\n",
    "    filt = df.age >= low\n",
    "    filt &= df.age <= high\n",
    "    arya.medianplot(df[filt], \"galr\", \"FE_H\", binsize=500, stat=\"median\", errorbar=None, color=hm(low), aes=\"line\")"
   ]
  },
  {
   "cell_type": "markdown",
   "id": "20",
   "metadata": {},
   "source": []
  }
 ],
 "metadata": {
  "kernelspec": {
   "display_name": "Python 3 (ipykernel)",
   "language": "python",
   "name": "python3"
  },
  "language_info": {
   "codemirror_mode": {
    "name": "ipython",
    "version": 3
   },
   "file_extension": ".py",
   "mimetype": "text/x-python",
   "name": "python",
   "nbconvert_exporter": "python",
   "pygments_lexer": "ipython3",
   "version": "3.11.9"
  }
 },
 "nbformat": 4,
 "nbformat_minor": 5
}
