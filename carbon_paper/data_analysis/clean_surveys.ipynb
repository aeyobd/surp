{
 "cells": [
  {
   "cell_type": "code",
   "execution_count": null,
   "id": "0",
   "metadata": {},
   "outputs": [],
   "source": [
    "import pandas as pd\n",
    "from astropy.io import fits\n",
    "from astropy.table import Table\n",
    "import matplotlib.pyplot as plt\n",
    "import matplotlib as mpl\n",
    "import numpy as np\n"
   ]
  },
  {
   "cell_type": "code",
   "execution_count": null,
   "id": "1",
   "metadata": {},
   "outputs": [],
   "source": [
    "import surp\n",
    "from surp import gce_math as gcem\n",
    "import arya\n",
    "\n",
    "from surp import subgiants"
   ]
  },
  {
   "cell_type": "code",
   "execution_count": null,
   "id": "2",
   "metadata": {},
   "outputs": [],
   "source": [
    "data_dir = surp._globals.DATA_DIR"
   ]
  },
  {
   "cell_type": "code",
   "execution_count": null,
   "id": "3",
   "metadata": {},
   "outputs": [],
   "source": [
    "def scotts_bin_width(x):\n",
    "    f = np.isfinite(x)\n",
    "    N = len(x)\n",
    "    return 3.49 * np.std(x[f]) / np.cbrt(N)\n",
    "\n",
    "def scotts_bins(x):\n",
    "    f = np.isfinite(x)\n",
    "    return np.arange(np.min(x[f]), np.nanmax(x[f]), scotts_bin_width(x))"
   ]
  },
  {
   "cell_type": "code",
   "execution_count": null,
   "id": "4",
   "metadata": {},
   "outputs": [],
   "source": [
    "def hist(x, **kwargs):\n",
    "    bins = scotts_bins(x)\n",
    "    plt.hist(x, bins=bins, **kwargs)"
   ]
  },
  {
   "cell_type": "code",
   "execution_count": null,
   "id": "5",
   "metadata": {
    "tags": []
   },
   "outputs": [],
   "source": [
    "def hist2d(x, y, bins=None, **kwargs):\n",
    "    if bins is None:\n",
    "        xbins = scotts_bins(x)\n",
    "        ybins = scotts_bins(y)\n",
    "        \n",
    "    plt.hist2d(x, y, norm=\"log\", bins=(xbins, ybins), **kwargs)"
   ]
  },
  {
   "cell_type": "code",
   "execution_count": null,
   "id": "6",
   "metadata": {},
   "outputs": [],
   "source": [
    "def keil_plot(teff, logg, bins=None, **kwargs):\n",
    "    if bins is None:\n",
    "        bins = 200\n",
    "        xbins = np.linspace(np.nanmin(teff), np.nanmax(teff), bins)\n",
    "        ybins = np.linspace(np.nanmin(logg), np.nanmax(logg), bins)\n",
    "        \n",
    "    plt.hist2d(teff, logg, norm=\"log\", bins=(xbins, ybins), **kwargs)\n",
    "    plt.colorbar(label=\"density\")\n",
    "    plt.gca().invert_xaxis()\n",
    "    plt.gca().invert_yaxis()\n",
    "    plt.xlabel(r\"$T_{\\rm eff}$ / K\")\n",
    "    plt.ylabel(r\"$\\log g$\")"
   ]
  },
  {
   "cell_type": "code",
   "execution_count": null,
   "id": "7",
   "metadata": {},
   "outputs": [],
   "source": [
    "def to_nice_name(apogee_name):\n",
    "    name = apogee_name.replace(\"_\", \"/\").title()\n",
    "    name = f\"[{name}]\"\n",
    "    return name"
   ]
  },
  {
   "cell_type": "code",
   "execution_count": null,
   "id": "8",
   "metadata": {},
   "outputs": [],
   "source": [
    "def plot_ab(df, x, y, **kwargs):\n",
    "    hist2d(df[x], df[y], **kwargs)\n",
    "    arya.medianplot(df, x, y, numbins=25, color=\"k\")\n",
    "    plt.xlabel(to_nice_name(x))\n",
    "    plt.ylabel(to_nice_name(y))"
   ]
  },
  {
   "cell_type": "markdown",
   "id": "9",
   "metadata": {
    "tags": []
   },
   "source": [
    "# GALAH DR3\n",
    "\n",
    "see https://www.galah-survey.org/dr3/using_the_data/."
   ]
  },
  {
   "cell_type": "code",
   "execution_count": null,
   "id": "10",
   "metadata": {},
   "outputs": [],
   "source": [
    "galah_all = Table.read(f\"{data_dir}/GALAH_DR3_main_allstar_v2.fits\", format=\"fits\", memmap=True)"
   ]
  },
  {
   "cell_type": "code",
   "execution_count": null,
   "id": "11",
   "metadata": {},
   "outputs": [],
   "source": [
    "# recommended cuts in documentation\n",
    "mask = galah_all[\"flag_sp\"] == 0\n",
    "mask &= galah_all[\"flag_fe_h\"] == 0\n",
    "mask &= galah_all[\"snr_c3_iraf\"] > 30\n",
    "print(np.sum(mask))\n",
    "\n",
    "mask &= ~np.isnan(galah_all[\"teff\"])\n",
    "mask &= ~np.isnan(galah_all[\"logg\"])\n",
    "print(np.sum(mask))\n",
    "\n",
    "mask &= galah_all[\"e_logg\"] < 0.5\n",
    "mask &= galah_all[\"e_teff\"] < 200\n",
    "print(np.sum(mask))\n",
    "\n",
    "\n",
    "df = galah_all[mask].to_pandas()\n",
    "\n",
    "df[\"MG_H\"] = df[\"Mg_fe\"] + df[\"fe_h\"]\n",
    "df[\"C_MG\"] = df[\"C_fe\"] - df[\"Mg_fe\"] \n",
    "df[\"C_O\"] = df[\"C_fe\"] - df[\"O_fe\"] \n",
    "\n",
    "df[\"O_H\"] = df[\"O_fe\"] + df[\"fe_h\"]\n",
    "df[\"MG_O\"] = df[\"O_fe\"] - df[\"Mg_fe\"]\n",
    "\n",
    "df[\"FE_H\"] = df[\"fe_h\"]\n",
    "df[\"MG_FE\"] = df[\"Mg_fe\"]\n",
    "\n",
    "\n",
    "df[\"LOGG\"] = df[\"logg\"]\n",
    "df[\"TEFF\"] = df[\"teff\"]\n",
    "\n",
    "galah = df"
   ]
  },
  {
   "cell_type": "code",
   "execution_count": null,
   "id": "12",
   "metadata": {},
   "outputs": [],
   "source": [
    "len(galah_all)"
   ]
  },
  {
   "cell_type": "code",
   "execution_count": null,
   "id": "13",
   "metadata": {},
   "outputs": [],
   "source": [
    "len(galah)"
   ]
  },
  {
   "cell_type": "code",
   "execution_count": null,
   "id": "14",
   "metadata": {},
   "outputs": [],
   "source": []
  },
  {
   "cell_type": "code",
   "execution_count": null,
   "id": "15",
   "metadata": {},
   "outputs": [],
   "source": [
    "# make sure these things exist\n",
    "\n",
    "abund_mask = galah[\"LOGG\"] >= 3.5\n",
    "abund_mask &= galah[\"TEFF\"] >= 4500\n",
    "abund_mask &= galah[\"TEFF\"] <= 6500\n",
    "\n",
    "abund_mask &= ~np.isnan(galah[\"C_MG\"])\n",
    "abund_mask &= ~np.isnan(galah[\"MG_FE\"])\n",
    "abund_mask &= ~np.isnan(galah[\"FE_H\"])\n",
    "abund_mask &= galah[\"flag_C_fe\"] == 0\n",
    "abund_mask &= (galah[\"flag_O_fe\"] == 0) | (galah[\"flag_Mg_fe\"] == 0)\n",
    "\n",
    "galah_good = galah[abund_mask]\n",
    "len(galah_good)"
   ]
  },
  {
   "cell_type": "code",
   "execution_count": null,
   "id": "16",
   "metadata": {},
   "outputs": [],
   "source": [
    "print(len(galah_good))"
   ]
  },
  {
   "cell_type": "code",
   "execution_count": null,
   "id": "17",
   "metadata": {},
   "outputs": [],
   "source": [
    "coords = [\n",
    "    (3.5, 4800),\n",
    "    (3.8, 4875),\n",
    "    (4.0, 5300),\n",
    "    (3.6, 5600),\n",
    "    (3.5, 5250),\n",
    "    (3.5, 4800)\n",
    "]\n",
    "y = [c[0] for c in coords]\n",
    "x = [c[1] for c in coords]"
   ]
  },
  {
   "cell_type": "code",
   "execution_count": null,
   "id": "18",
   "metadata": {},
   "outputs": [],
   "source": [
    "keil_plot(galah[\"TEFF\"], galah[\"LOGG\"])"
   ]
  },
  {
   "cell_type": "code",
   "execution_count": null,
   "id": "19",
   "metadata": {},
   "outputs": [],
   "source": []
  },
  {
   "cell_type": "markdown",
   "id": "20",
   "metadata": {
    "tags": []
   },
   "source": [
    "## error histograms"
   ]
  },
  {
   "cell_type": "code",
   "execution_count": null,
   "id": "21",
   "metadata": {},
   "outputs": [],
   "source": [
    "for key in [\"e_logg\", \"e_teff\", \"e_fe_h\", \"e_O_fe\", \"e_Mg_fe\", \"e_C_fe\",]:\n",
    "    hist(galah[key], log=True);\n",
    "    plt.xlabel(key)\n",
    "    plt.show()"
   ]
  },
  {
   "cell_type": "markdown",
   "id": "22",
   "metadata": {},
   "source": [
    "## abundance plots"
   ]
  },
  {
   "cell_type": "code",
   "execution_count": null,
   "id": "23",
   "metadata": {},
   "outputs": [],
   "source": [
    "\n",
    "Nb = 30\n",
    "bins = np.linspace(-1, 0.6, Nb)\n",
    "hist = np.digitize(df[\"FE_H\"], bins)\n",
    "\n",
    "Nc = np.zeros(Nb)\n",
    "\n",
    "h = np.zeros(Nb)\n",
    "for b in range(Nb):\n",
    "    filt = hist == b\n",
    "    \n",
    "    Nc[b] = np.sum(~np.isnan(df[\"C_fe\"][filt]))\n",
    "    h[b] = np.sum(filt)\n",
    "    \n"
   ]
  },
  {
   "cell_type": "code",
   "execution_count": null,
   "id": "24",
   "metadata": {},
   "outputs": [],
   "source": [
    "df[\"C_meas\"] = ~np.isnan(df[\"C_fe\"])"
   ]
  },
  {
   "cell_type": "code",
   "execution_count": null,
   "id": "25",
   "metadata": {},
   "outputs": [],
   "source": [
    "fig, ax = plt.subplots() \n",
    "ax_twin = ax.twinx() \n",
    "\n",
    "plt.sca(ax)\n",
    "#plt.plot(bins, Nc/h)\n",
    "plt.ylabel('fractional completion')\n",
    "plt.xlabel(\"[Fe/H]\")\n",
    "arya.medianplot(df, \"FE_H\", \"C_meas\", binsize=3000, stat=\"mean\",  errorbar=None, label=\"completion\")\n",
    "\n",
    "plt.sca(ax_twin)\n",
    "arya.medianplot(df, \"FE_H\", \"C_MG\", binsize=1000, errorbar=None, label=\"[C/Mg]\", color=arya.style.COLORS[1])\n",
    "plt.ylabel(\"[C/Mg]\")\n",
    "\n",
    "plt.sca(ax)\n",
    "plt.legend(loc=2, bbox_to_anchor=(1, 0))\n",
    "plt.sca(ax_twin)\n",
    "plt.legend(loc=2, bbox_to_anchor=(1, 1))"
   ]
  },
  {
   "cell_type": "code",
   "execution_count": null,
   "id": "26",
   "metadata": {},
   "outputs": [],
   "source": [
    "plot_ab(galah_good, \"fe_h\", \"Mg_fe\")"
   ]
  },
  {
   "cell_type": "code",
   "execution_count": null,
   "id": "27",
   "metadata": {},
   "outputs": [],
   "source": [
    "plot_ab(galah_good, \"fe_h\", \"MG_O\")"
   ]
  },
  {
   "cell_type": "code",
   "execution_count": null,
   "id": "28",
   "metadata": {},
   "outputs": [],
   "source": [
    "plot_ab(galah_good, \"fe_h\", \"MG_O\")"
   ]
  },
  {
   "cell_type": "code",
   "execution_count": null,
   "id": "29",
   "metadata": {},
   "outputs": [],
   "source": [
    "plot_ab(galah_good, \"MG_H\", \"C_MG\")"
   ]
  },
  {
   "cell_type": "code",
   "execution_count": null,
   "id": "30",
   "metadata": {},
   "outputs": [],
   "source": [
    "plot_ab(galah_good, \"O_H\", \"C_O\")"
   ]
  },
  {
   "cell_type": "code",
   "execution_count": null,
   "id": "31",
   "metadata": {},
   "outputs": [],
   "source": [
    "plot_ab(galah_good, \"MG_FE\", \"C_MG\")"
   ]
  },
  {
   "cell_type": "code",
   "execution_count": null,
   "id": "32",
   "metadata": {},
   "outputs": [],
   "source": [
    "plot_ab(galah_good, \"O_fe\", \"C_O\")"
   ]
  },
  {
   "cell_type": "code",
   "execution_count": null,
   "id": "33",
   "metadata": {},
   "outputs": [],
   "source": [
    "galah_good.to_csv(\"galah_dwarfs.csv\")"
   ]
  },
  {
   "cell_type": "markdown",
   "id": "34",
   "metadata": {
    "tags": []
   },
   "source": [
    "# GALAH DR4\n",
    "\n",
    "see https://www.galah-survey.org/dr4/using_the_data/"
   ]
  },
  {
   "cell_type": "code",
   "execution_count": null,
   "id": "35",
   "metadata": {},
   "outputs": [],
   "source": [
    "galah_all = Table.read(f\"{data_dir}/surveys/galah_dr4_allstar_240705.fits\", format=\"fits\", memmap=True)"
   ]
  },
  {
   "cell_type": "code",
   "execution_count": null,
   "id": "36",
   "metadata": {},
   "outputs": [],
   "source": [
    "galah_all.columns"
   ]
  },
  {
   "cell_type": "code",
   "execution_count": null,
   "id": "37",
   "metadata": {},
   "outputs": [],
   "source": [
    "# recommended cuts in documentation\n",
    "mask = galah_all[\"flag_sp\"] == 0\n",
    "mask &= galah_all[\"flag_fe_h\"] == 0\n",
    "mask &= galah_all[\"snr_px_ccd3\"] > 30\n",
    "print(np.sum(mask))\n",
    "\n",
    "mask &= ~np.isnan(galah_all[\"teff\"])\n",
    "mask &= ~np.isnan(galah_all[\"logg\"])\n",
    "print(np.sum(mask))\n",
    "\n",
    "mask &= galah_all[\"e_logg\"] < 0.5\n",
    "mask &= galah_all[\"e_teff\"] < 200\n",
    "print(np.sum(mask))\n",
    "\n",
    "\n",
    "df = galah_all[mask].to_pandas()\n",
    "\n",
    "df[\"MG_H\"] = df[\"mg_fe\"] + df[\"fe_h\"]\n",
    "df[\"MG_H_ERR\"] = df[\"e_mg_fe\"] + df[\"e_fe_h\"]\n",
    "df[\"C_MG\"] = df[\"c_fe\"] - df[\"mg_fe\"] \n",
    "df[\"C_MG_ERR\"] = df[\"e_c_fe\"] + df[\"e_mg_fe\"]\n",
    "\n",
    "df[\"C_O\"] = df[\"c_fe\"] - df[\"o_fe\"] \n",
    "\n",
    "df[\"O_H\"] = df[\"o_fe\"] + df[\"fe_h\"]\n",
    "df[\"MG_O\"] = df[\"o_fe\"] - df[\"mg_fe\"]\n",
    "\n",
    "df[\"FE_H\"] = df[\"fe_h\"]\n",
    "df[\"MG_FE\"] = df[\"mg_fe\"]\n",
    "df[\"MG_FE_ERR\"] = df[\"e_mg_fe\"]\n",
    "\n",
    "\n",
    "\n",
    "df[\"LOGG\"] = df[\"logg\"]\n",
    "df[\"TEFF\"] = df[\"teff\"]\n",
    "\n",
    "galah = df"
   ]
  },
  {
   "cell_type": "code",
   "execution_count": null,
   "id": "38",
   "metadata": {},
   "outputs": [],
   "source": [
    "len(galah_all)"
   ]
  },
  {
   "cell_type": "code",
   "execution_count": null,
   "id": "39",
   "metadata": {},
   "outputs": [],
   "source": [
    "len(galah)"
   ]
  },
  {
   "cell_type": "code",
   "execution_count": null,
   "id": "40",
   "metadata": {},
   "outputs": [],
   "source": [
    "# make sure these things exist\n",
    "\n",
    "abund_mask = galah[\"LOGG\"] >= 3.5\n",
    "abund_mask &= galah[\"TEFF\"] >= 4500\n",
    "abund_mask &= galah[\"TEFF\"] <= 6500\n",
    "\n",
    "abund_mask &= ~np.isnan(galah[\"C_MG\"])\n",
    "abund_mask &= ~np.isnan(galah[\"MG_FE\"])\n",
    "abund_mask &= ~np.isnan(galah[\"FE_H\"])\n",
    "abund_mask &= galah[\"flag_c_fe\"] == 0\n",
    "abund_mask &= (galah[\"flag_o_fe\"] == 0) | (galah[\"flag_mg_fe\"] == 0)\n",
    "\n",
    "galah_good = galah[abund_mask]\n",
    "len(galah_good)"
   ]
  },
  {
   "cell_type": "code",
   "execution_count": null,
   "id": "41",
   "metadata": {},
   "outputs": [],
   "source": [
    "print(len(galah_good))"
   ]
  },
  {
   "cell_type": "code",
   "execution_count": null,
   "id": "42",
   "metadata": {},
   "outputs": [],
   "source": [
    "coords = [\n",
    "    (3.5, 4800),\n",
    "    (3.8, 4875),\n",
    "    (4.0, 5300),\n",
    "    (3.6, 5600),\n",
    "    (3.5, 5250),\n",
    "    (3.5, 4800)\n",
    "]\n",
    "y = [c[0] for c in coords]\n",
    "x = [c[1] for c in coords]"
   ]
  },
  {
   "cell_type": "code",
   "execution_count": null,
   "id": "43",
   "metadata": {},
   "outputs": [],
   "source": [
    "keil_plot(galah[\"TEFF\"], galah[\"LOGG\"])"
   ]
  },
  {
   "cell_type": "code",
   "execution_count": null,
   "id": "44",
   "metadata": {},
   "outputs": [],
   "source": [
    "keil_plot(galah_good[\"TEFF\"], galah_good[\"LOGG\"])"
   ]
  },
  {
   "cell_type": "markdown",
   "id": "45",
   "metadata": {
    "jp-MarkdownHeadingCollapsed": true,
    "tags": []
   },
   "source": [
    "## error histograms"
   ]
  },
  {
   "cell_type": "code",
   "execution_count": null,
   "id": "46",
   "metadata": {},
   "outputs": [],
   "source": [
    "for key in [\"e_logg\", \"e_teff\", \"e_fe_h\", \"e_o_fe\", \"e_mg_fe\", \"e_c_fe\",]:\n",
    "    hist(galah[key], log=True);\n",
    "    plt.xlabel(key)\n",
    "    plt.show()"
   ]
  },
  {
   "cell_type": "markdown",
   "id": "47",
   "metadata": {},
   "source": [
    "## abundance plots"
   ]
  },
  {
   "cell_type": "code",
   "execution_count": null,
   "id": "48",
   "metadata": {},
   "outputs": [],
   "source": [
    "\n",
    "Nb = 30\n",
    "bins = np.linspace(-1, 0.6, Nb)\n",
    "hist = np.digitize(df[\"FE_H\"], bins)\n",
    "\n",
    "Nc = np.zeros(Nb)\n",
    "\n",
    "h = np.zeros(Nb)\n",
    "for b in range(Nb):\n",
    "    filt = hist == b\n",
    "    \n",
    "    Nc[b] = np.sum(~np.isnan(df[\"c_fe\"][filt]))\n",
    "    h[b] = np.sum(filt)\n",
    "    \n"
   ]
  },
  {
   "cell_type": "code",
   "execution_count": null,
   "id": "49",
   "metadata": {},
   "outputs": [],
   "source": [
    "df[\"C_meas\"] = ~np.isnan(df[\"c_fe\"])"
   ]
  },
  {
   "cell_type": "code",
   "execution_count": null,
   "id": "50",
   "metadata": {},
   "outputs": [],
   "source": [
    "fig, ax = plt.subplots() \n",
    "ax_twin = ax.twinx() \n",
    "\n",
    "plt.sca(ax)\n",
    "#plt.plot(bins, Nc/h)\n",
    "plt.ylabel('fractional completion')\n",
    "plt.xlabel(\"[Fe/H]\")\n",
    "arya.medianplot(df, \"FE_H\", \"C_meas\", binsize=3000, stat=\"mean\",  errorbar=None, label=\"completion\")\n",
    "\n",
    "plt.sca(ax_twin)\n",
    "arya.medianplot(df, \"FE_H\", \"C_MG\", binsize=1000, errorbar=None, label=\"[C/Mg]\", color=arya.style.COLORS[1])\n",
    "plt.ylabel(\"[C/Mg]\")\n",
    "\n",
    "plt.sca(ax)\n",
    "plt.legend(loc=2, bbox_to_anchor=(1, 0))\n",
    "plt.sca(ax_twin)\n",
    "plt.legend(loc=2, bbox_to_anchor=(1, 1))"
   ]
  },
  {
   "cell_type": "code",
   "execution_count": null,
   "id": "51",
   "metadata": {},
   "outputs": [],
   "source": [
    "galah_good[\"high_alpha\"] = np.where(galah_good.FE_H > 0, galah_good.MG_FE > 0.08 - 0.1*galah_good.FE_H, galah_good.MG_FE > 0.08 - 0.35*galah_good.FE_H)\n"
   ]
  },
  {
   "cell_type": "code",
   "execution_count": null,
   "id": "52",
   "metadata": {},
   "outputs": [],
   "source": [
    "plt.scatter(galah_good.FE_H, galah_good.MG_FE, c=galah_good.high_alpha, s=1, alpha=0.01)"
   ]
  },
  {
   "cell_type": "code",
   "execution_count": null,
   "id": "53",
   "metadata": {},
   "outputs": [],
   "source": [
    "plot_ab(galah_good, \"fe_h\", \"mg_fe\")"
   ]
  },
  {
   "cell_type": "code",
   "execution_count": null,
   "id": "54",
   "metadata": {},
   "outputs": [],
   "source": [
    "plot_ab(galah_good[galah_good.high_alpha], \"fe_h\", \"mg_fe\")"
   ]
  },
  {
   "cell_type": "code",
   "execution_count": null,
   "id": "55",
   "metadata": {},
   "outputs": [],
   "source": [
    "plot_ab(galah_good, \"fe_h\", \"MG_O\")"
   ]
  },
  {
   "cell_type": "code",
   "execution_count": null,
   "id": "56",
   "metadata": {},
   "outputs": [],
   "source": [
    "plot_ab(galah_good, \"fe_h\", \"MG_O\")"
   ]
  },
  {
   "cell_type": "code",
   "execution_count": null,
   "id": "57",
   "metadata": {},
   "outputs": [],
   "source": [
    "plot_ab(galah_good, \"MG_H\", \"C_MG\")"
   ]
  },
  {
   "cell_type": "code",
   "execution_count": null,
   "id": "58",
   "metadata": {},
   "outputs": [],
   "source": [
    "plot_ab(galah_good, \"O_H\", \"C_O\")"
   ]
  },
  {
   "cell_type": "code",
   "execution_count": null,
   "id": "59",
   "metadata": {},
   "outputs": [],
   "source": [
    "plot_ab(galah_good, \"MG_FE\", \"C_MG\")"
   ]
  },
  {
   "cell_type": "code",
   "execution_count": null,
   "id": "60",
   "metadata": {},
   "outputs": [],
   "source": [
    "plot_ab(galah_good, \"o_fe\", \"C_O\")"
   ]
  },
  {
   "cell_type": "code",
   "execution_count": null,
   "id": "61",
   "metadata": {},
   "outputs": [],
   "source": [
    "galah_good.to_csv(\"galah_dwarfs.csv\")"
   ]
  },
  {
   "cell_type": "markdown",
   "id": "62",
   "metadata": {
    "tags": []
   },
   "source": [
    "# GaiaESO\n"
   ]
  },
  {
   "cell_type": "markdown",
   "id": "63",
   "metadata": {},
   "source": [
    "- DR 5.1\n",
    "- WG 10 is the low resolution (GIRRAFFE), WG 11 is high res (UVES).\n",
    "- Datamodel https://www.eso.org/qi/catalog/show/411.\n",
    "- Description\n",
    "https://www.eso.org/rm/api/v1/public/releaseDescriptions/191"
   ]
  },
  {
   "cell_type": "code",
   "execution_count": null,
   "id": "64",
   "metadata": {},
   "outputs": [],
   "source": [
    "gaiaeso_all = Table.read(f\"{data_dir}/surveys/gaiaeso_dr5.1.fits\", format=\"fits\", memmap=True)"
   ]
  },
  {
   "cell_type": "code",
   "execution_count": null,
   "id": "65",
   "metadata": {},
   "outputs": [],
   "source": [
    "len(gaiaeso_all) == 114_916"
   ]
  },
  {
   "cell_type": "markdown",
   "id": "66",
   "metadata": {},
   "source": [
    "Quality cuts"
   ]
  },
  {
   "cell_type": "code",
   "execution_count": null,
   "id": "67",
   "metadata": {},
   "outputs": [],
   "source": [
    "gaiaeso_all.columns"
   ]
  },
  {
   "cell_type": "code",
   "execution_count": null,
   "id": "68",
   "metadata": {},
   "outputs": [],
   "source": [
    "sflags = pd.Series(gaiaeso_all[\"SFLAGS\"]).str.decode(\"utf-8\")\n",
    "\n",
    "quality_mask = ~sflags.str.contains(\"SNR\")\n",
    "quality_mask &= ~sflags.str.contains(\"SRP\")\n",
    "quality_mask &= ~sflags.str.contains(\"BIN\") # binary\n",
    "quality_mask &= ~sflags.str.contains(\"SSA\")\n",
    "quality_mask &= ~sflags.str.contains(\"IPA\")\n",
    "quality_mask &= ~sflags.str.contains(\"PSC\")\n",
    "quality_mask &= ~sflags.str.contains(\"EML\") # emission line\n",
    "\n",
    "print(np.sum(quality_mask))\n",
    "quality_mask &= gaiaeso_all[\"E_LOGG\"] < 0.5\n",
    "quality_mask &= gaiaeso_all[\"E_TEFF\"] < 200\n",
    "print(np.sum(quality_mask))\n",
    "\n",
    "\n",
    "gaiaeso = gaiaeso_all[quality_mask.values].to_pandas()"
   ]
  },
  {
   "cell_type": "markdown",
   "id": "69",
   "metadata": {},
   "source": [
    "while e.g. MgII, C II are in the dataframe, none of these are successfuly measured for these stars"
   ]
  },
  {
   "cell_type": "code",
   "execution_count": null,
   "id": "70",
   "metadata": {},
   "outputs": [],
   "source": [
    "gaiaeso[\"MG_H\"] = gcem.eps_to_brak(gaiaeso.MG1, \"Mg\")\n",
    "gaiaeso[\"MG_H_ERR\"] = gaiaeso.E_MG1\n",
    "\n",
    "gaiaeso[\"CI_H\"] = gcem.eps_to_brak(gaiaeso.C1, \"C\")\n",
    "gaiaeso[\"CI_H_ERR\"] = gaiaeso.E_C1\n",
    "gaiaeso[\"CC_H\"] = gcem.eps_to_brak(gaiaeso.C_C2, \"C\")\n",
    "gaiaeso[\"CC_H_ERR\"] = gaiaeso.E_C_C2\n",
    "\n",
    "gaiaeso[\"FE_H\"] = gaiaeso[\"FEH\"]\n",
    "gaiaeso[\"FE_H_ERR\"] = gaiaeso[\"E_FEH\"]\n",
    "\n",
    "\n",
    "gaiaeso[\"MG_FE\"] = gaiaeso.MG_H - gaiaeso.FE_H\n",
    "gaiaeso[\"MG_FE_ERR\"] = gaiaeso.MG_H_ERR + gaiaeso.FE_H_ERR\n",
    "gaiaeso[\"C_MG\"] = gaiaeso.CC_H - gaiaeso.MG_H\n",
    "gaiaeso[\"C_MG_ERR\"] = gaiaeso.MG_H_ERR + gaiaeso.CC_H_ERR\n",
    "\n",
    "gaiaeso[\"CI_MG\"] = gaiaeso.CI_H - gaiaeso.MG_H\n",
    "gaiaeso[\"CI_MG_ERR\"] = gaiaeso.MG_H_ERR + gaiaeso.CI_H_ERR\n"
   ]
  },
  {
   "cell_type": "code",
   "execution_count": null,
   "id": "71",
   "metadata": {},
   "outputs": [],
   "source": [
    "print(len(gaiaeso_all))\n",
    "print(len(gaiaeso))"
   ]
  },
  {
   "cell_type": "code",
   "execution_count": null,
   "id": "72",
   "metadata": {},
   "outputs": [],
   "source": [
    "setup = gaiaeso.SETUP.str.decode(\"utf-8\")"
   ]
  },
  {
   "cell_type": "code",
   "execution_count": null,
   "id": "73",
   "metadata": {},
   "outputs": [],
   "source": [
    "setup.unique()"
   ]
  },
  {
   "cell_type": "code",
   "execution_count": null,
   "id": "74",
   "metadata": {},
   "outputs": [],
   "source": [
    "logg = gaiaeso.LOGG\n",
    "teff = gaiaeso.TEFF\n",
    "\n",
    "mask = ~np.isnan(logg)\n",
    "mask &= ~np.isnan(teff)\n",
    "\n",
    "mask &= logg >= 3.5\n",
    "# mask &= logg <= 0.004*teff - 15.7\n",
    "# mask &= logg <= 0.000706*teff + 0.36\n",
    "# mask &= logg <= -0.0015 * teff + 12.05\n",
    "# mask &= logg >= 0.0012*teff - 2.8\n",
    "\n",
    "\n",
    "mask &= gaiaeso.E_MG1 > 0\n",
    "#mask &= gaiaeso.C_MG_ERR > 0\n",
    "\n",
    "subgiant_mask = np.copy(mask)\n",
    "\n",
    "\n",
    "gso_dwarf = gaiaeso[subgiant_mask]"
   ]
  },
  {
   "cell_type": "code",
   "execution_count": null,
   "id": "75",
   "metadata": {},
   "outputs": [],
   "source": [
    "uves_filt = setup.str.contains(\"U580\") | setup.str.contains(\"U520\")\n",
    "print(np.sum(uves_filt))\n",
    "uves_filt &= gso_dwarf.REC_WG == b\"WG11\" # cuts out a few weird stars...\n",
    "print(np.sum(uves_filt))\n",
    "\n",
    "giraffe_filt = gso_dwarf.REC_WG == b\"WG10\""
   ]
  },
  {
   "cell_type": "code",
   "execution_count": null,
   "id": "76",
   "metadata": {},
   "outputs": [],
   "source": [
    "gso_uv = gso_dwarf[uves_filt]\n",
    "gso_uv"
   ]
  },
  {
   "cell_type": "code",
   "execution_count": null,
   "id": "77",
   "metadata": {},
   "outputs": [],
   "source": [
    "gso_lr = gso_dwarf[giraffe_filt]\n",
    "gso_lr"
   ]
  },
  {
   "cell_type": "code",
   "execution_count": null,
   "id": "78",
   "metadata": {},
   "outputs": [],
   "source": [
    "gso_uv.REC_WG.value_counts()"
   ]
  },
  {
   "cell_type": "code",
   "execution_count": null,
   "id": "79",
   "metadata": {},
   "outputs": [],
   "source": [
    "gso_uv.ORIGIN_C_C2.value_counts()"
   ]
  },
  {
   "cell_type": "code",
   "execution_count": null,
   "id": "80",
   "metadata": {},
   "outputs": [],
   "source": [
    "gso_uv.NL_C_C2.value_counts()"
   ]
  },
  {
   "cell_type": "code",
   "execution_count": null,
   "id": "81",
   "metadata": {},
   "outputs": [],
   "source": [
    "gso_uv.NL_C1.value_counts()"
   ]
  },
  {
   "cell_type": "code",
   "execution_count": null,
   "id": "82",
   "metadata": {},
   "outputs": [],
   "source": [
    "136 + 78"
   ]
  },
  {
   "cell_type": "code",
   "execution_count": null,
   "id": "83",
   "metadata": {},
   "outputs": [],
   "source": [
    "gso_uv.NN_C1.value_counts()"
   ]
  },
  {
   "cell_type": "code",
   "execution_count": null,
   "id": "84",
   "metadata": {},
   "outputs": [],
   "source": [
    "gso_uv.NN_C_C2.value_counts()"
   ]
  },
  {
   "cell_type": "code",
   "execution_count": null,
   "id": "85",
   "metadata": {},
   "outputs": [],
   "source": [
    "gso_uv.NN_MG1.value_counts()"
   ]
  },
  {
   "cell_type": "code",
   "execution_count": null,
   "id": "86",
   "metadata": {},
   "outputs": [],
   "source": [
    "gso_lr.REC_WG.value_counts()"
   ]
  },
  {
   "cell_type": "code",
   "execution_count": null,
   "id": "87",
   "metadata": {},
   "outputs": [],
   "source": [
    "gso_lr.NN_C1.value_counts()"
   ]
  },
  {
   "cell_type": "code",
   "execution_count": null,
   "id": "88",
   "metadata": {},
   "outputs": [],
   "source": [
    "keil_plot(gso_uv[\"TEFF\"], gso_uv[\"LOGG\"])\n"
   ]
  },
  {
   "cell_type": "code",
   "execution_count": null,
   "id": "89",
   "metadata": {},
   "outputs": [],
   "source": [
    "keil_plot(gso_lr[\"TEFF\"], gso_lr[\"LOGG\"])\n"
   ]
  },
  {
   "cell_type": "code",
   "execution_count": null,
   "id": "90",
   "metadata": {},
   "outputs": [],
   "source": [
    "plt.errorbar(gso_uv.MG_H, gso_uv.C_MG, xerr=gso_uv.MG_H_ERR, yerr=gso_uv.C_MG_ERR, fmt=\"o\", capsize=0, alpha=0.1)\n",
    "\n",
    "plt.xlabel(\"[Mg/H]\")\n",
    "plt.ylabel(r\"[C$_2$/Mg]\")\n"
   ]
  },
  {
   "cell_type": "code",
   "execution_count": null,
   "id": "91",
   "metadata": {},
   "outputs": [],
   "source": [
    "plt.errorbar(gso_uv.MG_H, gso_uv.CI_MG, xerr=gso_uv.MG_H_ERR, yerr=gso_uv.CI_MG_ERR, fmt=\"o\", capsize=0, alpha=0.1)\n",
    "\n",
    "plt.xlabel(\"[Mg/H]\")\n",
    "plt.ylabel(r\"[C\\,I/Mg]\")\n"
   ]
  },
  {
   "cell_type": "code",
   "execution_count": null,
   "id": "92",
   "metadata": {},
   "outputs": [],
   "source": [
    "plt.scatter(gso_uv.FE_H, gso_uv.MG_FE);\n",
    "plt.xlabel(\"[FE/H]\")\n",
    "plt.ylabel(\"[Mg/Fe]\")"
   ]
  },
  {
   "cell_type": "markdown",
   "id": "93",
   "metadata": {},
   "source": [
    "Looks okay, no bimodality"
   ]
  },
  {
   "cell_type": "markdown",
   "id": "94",
   "metadata": {},
   "source": [
    "## low resolution survey"
   ]
  },
  {
   "cell_type": "code",
   "execution_count": null,
   "id": "95",
   "metadata": {},
   "outputs": [],
   "source": [
    "plt.errorbar(gso_lr.MG_H, gso_lr.CI_MG, xerr=gso_lr.MG_H_ERR, yerr=gso_lr.CI_MG_ERR, fmt=\"o\", capsize=0, alpha=0.1)\n",
    "\n",
    "plt.xlabel(\"[Mg/H]\")\n",
    "plt.ylabel(r\"[C\\,I/Mg]\")\n"
   ]
  },
  {
   "cell_type": "code",
   "execution_count": null,
   "id": "96",
   "metadata": {},
   "outputs": [],
   "source": [
    "plt.errorbar(gso_lr.MG_FE, gso_lr.CI_MG, xerr=gso_lr.MG_H_ERR, yerr=gso_lr.CI_MG_ERR, fmt=\"o\", capsize=0, alpha=0.1)\n",
    "\n",
    "plt.xlabel(\"[Mg/Fe]\")\n",
    "plt.ylabel(r\"[C\\,I/Mg]\")"
   ]
  },
  {
   "cell_type": "code",
   "execution_count": null,
   "id": "97",
   "metadata": {},
   "outputs": [],
   "source": [
    "hist2d(gso_lr.FE_H, gso_lr.MG_FE)\n",
    "plt.xlabel(\"[Fe/H]\")\n",
    "plt.ylabel(\"[Mg/Fe]\")"
   ]
  },
  {
   "cell_type": "code",
   "execution_count": null,
   "id": "98",
   "metadata": {},
   "outputs": [],
   "source": [
    "plt.scatter(gso_uv.MG_H, gso_uv.C_MG, alpha=0.1, label=\"UVES C2\")\n",
    "plt.scatter(gso_uv.MG_H, gso_uv.CI_MG, alpha=0.1, label=\"UVES CI\")\n",
    "plt.scatter(gso_lr.MG_H, gso_lr.CI_MG, alpha=0.1, label=\"GIRAFFE CI\")\n",
    "plt.legend()\n",
    "plt.xlabel(\"[Mg/H]\")\n",
    "plt.ylabel(\"[C/Mg]\")"
   ]
  },
  {
   "cell_type": "code",
   "execution_count": null,
   "id": "99",
   "metadata": {},
   "outputs": [],
   "source": [
    "filt = np.isnan(gso_dwarf[\"C_MG\"]) & ~np.isnan(gso_dwarf[\"CI_MG\"])\n",
    "\n",
    "gso_dwarf.loc[filt, \"C_MG\"] = gso_dwarf[\"CI_MG\"][filt]\n",
    "gso_dwarf.loc[filt, \"C_MG_ERR\"] = gso_dwarf[\"CI_MG_ERR\"][filt]"
   ]
  },
  {
   "cell_type": "code",
   "execution_count": null,
   "id": "100",
   "metadata": {},
   "outputs": [],
   "source": [
    "gso_dwarf[\"high_alpha\"] = np.where(gso_dwarf.FE_H > 0, gso_dwarf.MG_FE > 0.00 - 0.1*gso_dwarf.FE_H, gso_dwarf.MG_FE > 0.00 - 0.35*gso_dwarf.FE_H)\n"
   ]
  },
  {
   "cell_type": "code",
   "execution_count": null,
   "id": "101",
   "metadata": {},
   "outputs": [],
   "source": [
    "plt.scatter(gso_dwarf.FE_H, gso_dwarf.MG_FE, s=1, c=gso_dwarf.high_alpha, alpha=0.01)\n",
    "plt.xlim(-1, 0.5)\n",
    "plt.ylim(-0.4, 0.8)"
   ]
  },
  {
   "cell_type": "code",
   "execution_count": null,
   "id": "102",
   "metadata": {},
   "outputs": [],
   "source": [
    "gso_dwarf[gso_dwarf.C_MG_ERR > 0].to_csv(\"gso_dwarfs.csv\")"
   ]
  },
  {
   "cell_type": "code",
   "execution_count": null,
   "id": "103",
   "metadata": {},
   "outputs": [],
   "source": [
    "print(np.sum(gso_lr.CI_MG_ERR > 0) / len(gso_lr))"
   ]
  },
  {
   "cell_type": "code",
   "execution_count": null,
   "id": "104",
   "metadata": {},
   "outputs": [],
   "source": [
    "print(np.sum(gso_uv.CI_MG_ERR > 0 | (gso_uv.C_MG_ERR > 0)) / len(gso_uv))"
   ]
  },
  {
   "cell_type": "code",
   "execution_count": null,
   "id": "105",
   "metadata": {},
   "outputs": [],
   "source": [
    "len(gso_uv)"
   ]
  },
  {
   "cell_type": "code",
   "execution_count": null,
   "id": "106",
   "metadata": {},
   "outputs": [],
   "source": [
    "plt.errorbar(gso_uv.CI_H, gso_uv.CC_H - gso_uv.CI_H, xerr=gso_uv.CI_H_ERR, yerr=gso_uv.CC_H_ERR, fmt=\"o\", capsize=0, alpha=0.1)\n",
    "plt.xlabel(\"[C I / H]\")\n",
    "plt.ylabel(r\"[C$_2$ / C I]\")\n",
    "plt.axhline(0, color=\"k\")"
   ]
  },
  {
   "cell_type": "code",
   "execution_count": null,
   "id": "107",
   "metadata": {},
   "outputs": [],
   "source": [
    "len(gaiaeso_all[gaiaeso_all[\"REC_WG\"] == b\"WG11\"])"
   ]
  },
  {
   "cell_type": "markdown",
   "id": "108",
   "metadata": {
    "jp-MarkdownHeadingCollapsed": true,
    "tags": []
   },
   "source": [
    "# DESI MWM"
   ]
  },
  {
   "cell_type": "markdown",
   "id": "109",
   "metadata": {},
   "source": [
    "Description: MNRAS 533, 1012–1031 (2024) https://ui.adsabs.harvard.edu/abs/2024MNRAS.533.1012K/abstract. \n",
    "\n",
    "Data access:https://data.desi.lbl.gov/doc/access/\n",
    "Data Model: https://desi-mws-edr-datamodel.readthedocs.io/en/latest/\n",
    "\n",
    "see below, likely not reliable for this kind of work..."
   ]
  },
  {
   "cell_type": "markdown",
   "id": "110",
   "metadata": {},
   "source": [
    "\n",
    "> The carbon and magnesium abundances reported by the SP\n",
    "pipeline are unreliable. The reason carbon abundances are not\n",
    "trustworthy is because of an issue with the coating of the DESI blue\n",
    "collimators, which creates a throughput artefact in many spectra\n",
    "around 4300 Å (see e.g. fig. 26 in DESI Collaboration 2022).\n",
    "This is the region of the CH absorption band, which is the most\n",
    "important indicator of carbon abundance in late-type stars at the\n",
    "resolution of DESI. While the abundances of iron and calcium\n",
    "show a good correlation with the \\[Fe/H\\] and \\[α/Fe\\] parameters\n",
    "derived by the same pipeline, that is not the case for magnesium.\n",
    "We, therefore, recommend not using the abundance of carbon or\n",
    "magnesium included in the EDR MWS VAC.\n",
    "\n",
    "\n",
    "From https://academic.oup.com/mnras/article/533/1/1012/7724389.\n",
    "DESI EDR MWS VAC 1027\n",
    "MNRAS 533, 1012–1031 (2024)\n"
   ]
  },
  {
   "cell_type": "code",
   "execution_count": null,
   "id": "111",
   "metadata": {},
   "outputs": [],
   "source": [
    "f_desi = fits.open(f\"{data_dir}/surveys/mwsall-pix-fuji.fits\", memmap=True)"
   ]
  },
  {
   "cell_type": "code",
   "execution_count": null,
   "id": "112",
   "metadata": {},
   "outputs": [],
   "source": [
    "f_desi[2].header"
   ]
  },
  {
   "cell_type": "code",
   "execution_count": null,
   "id": "113",
   "metadata": {},
   "outputs": [],
   "source": []
  },
  {
   "cell_type": "code",
   "execution_count": null,
   "id": "114",
   "metadata": {},
   "outputs": [],
   "source": [
    "desi = Table.read(f\"{data_dir}/mwsall-pix-fuji.fits\", format=\"fits\", hdu=2, memmap=True)\n",
    "desi_rv = Table.read(f\"{data_dir}/mwsall-pix-fuji.fits\", format=\"fits\", hdu=1, memmap=True)\n",
    "\n",
    "desi[\"TEFF_ERR\"] = desi[\"COVAR\"][:, 2, 2]**0.5\n",
    "\n",
    "desi[\"FEH_ERR\"] = desi[\"COVAR\"][:, 0, 0]**0.5\n",
    "desi[\"ALPHAFE_ERR\"] = desi[\"COVAR\"][:, 1, 1]**0.5\n",
    "desi[\"LOGG_ERR\"] = desi[\"COVAR\"][:, 4, 4]**0.5\n",
    "desi[\"TEFF_ERR\"] = desi[\"COVAR\"][:, 3, 3]**0.5\n",
    "\n",
    "\n",
    "\n",
    "\n",
    "# this is not well documented, just guessing here\n",
    "desi[\"C_H\"] = desi[\"ELEM\"][:, 0]\n",
    "desi[\"MG_H\"] = desi[\"ELEM\"][:, 1]\n",
    "desi[\"CA_H\"] = desi[\"ELEM\"][:, 2]\n",
    "desi[\"FE_H\"] = desi[\"ELEM\"][:, 3]\n",
    "\n",
    "\n",
    "desi[\"C_H_ERR\"] = desi[\"ELEM_ERR\"][:, 0]\n",
    "desi[\"MG_H_ERR\"] = desi[\"ELEM_ERR\"][:, 1]\n",
    "desi[\"CA_H_ERR\"] = desi[\"ELEM_ERR\"][:, 3]\n",
    "desi[\"FE_H_ERR\"] = desi[\"ELEM_ERR\"][:, 2]\n",
    "\n",
    "desi[\"C_MG\"] = desi[\"C_H\"] - desi[\"MG_H\"]\n",
    "desi[\"MG_FE\"] = desi[\"MG_H\"] - desi[\"FE_H\"]\n",
    "\n",
    "\n",
    "# filter out the worst of it\n",
    "\n",
    "filt = desi[\"LOGG\"] > 1\n",
    "filt &= desi[\"LOGG\"] < 5\n",
    "filt &= desi[\"TEFF\"] > 2000\n",
    "filt &= desi[\"TEFF\"] < 10_000\n",
    "filt &= desi[\"FEH_ERR\"] < 0.1\n",
    "filt &= desi[\"TEFF_ERR\"] < 100\n",
    "filt &= desi[\"LOGG_ERR\"] < 0.3\n",
    "\n",
    "filt &= desi[\"SUCCESS\"] > 0\n",
    "\n",
    "print(len(desi))\n",
    "print(sum(filt))\n",
    "desi_rv = desi_rv[filt]\n",
    "desi = desi[filt]"
   ]
  },
  {
   "cell_type": "code",
   "execution_count": null,
   "id": "115",
   "metadata": {},
   "outputs": [],
   "source": [
    "keil_plot(desi[\"TEFF\"], desi[\"LOGG\"])"
   ]
  },
  {
   "cell_type": "code",
   "execution_count": null,
   "id": "116",
   "metadata": {},
   "outputs": [],
   "source": [
    "keil_plot(desi_rv[\"TEFF\"], desi_rv[\"LOGG\"])"
   ]
  },
  {
   "cell_type": "markdown",
   "id": "117",
   "metadata": {},
   "source": [
    "Keil diagram looks like nonsense, not a good sign..."
   ]
  },
  {
   "cell_type": "markdown",
   "id": "118",
   "metadata": {},
   "source": [
    "## Abundance validation"
   ]
  },
  {
   "cell_type": "code",
   "execution_count": null,
   "id": "119",
   "metadata": {},
   "outputs": [],
   "source": [
    "plt.hist2d(desi[\"FEH\"], desi[\"FEH\"] - desi_rv[\"FEH\"], 100, range=((-3, 1), (-0.5, 0.5)), );"
   ]
  },
  {
   "cell_type": "code",
   "execution_count": null,
   "id": "120",
   "metadata": {},
   "outputs": [],
   "source": [
    "plt.hist2d(desi[\"ALPHAFE\"], desi[\"ALPHAFE\"] - desi_rv[\"ALPHAFE\"], 100, range=((-1, 1), (-1, 1)), );"
   ]
  },
  {
   "cell_type": "code",
   "execution_count": null,
   "id": "121",
   "metadata": {},
   "outputs": [],
   "source": [
    "plt.hist(desi[\"ELEM_ERR\"][:, 3], 100, range=(0, 0.5));"
   ]
  },
  {
   "cell_type": "markdown",
   "id": "122",
   "metadata": {},
   "source": [
    "Fe errors (above) do not correspond with abundance versus stellar parameter errors."
   ]
  },
  {
   "cell_type": "code",
   "execution_count": null,
   "id": "123",
   "metadata": {},
   "outputs": [],
   "source": [
    "plt.hist2d(desi[\"FEH\"], desi[\"FEH\"] - desi[\"FE_H\"], 100, range=((-1, 1), (-1, 1)), );"
   ]
  },
  {
   "cell_type": "code",
   "execution_count": null,
   "id": "124",
   "metadata": {},
   "outputs": [],
   "source": [
    "plt.hist2d(desi[\"MG_FE\"], desi[\"ALPHAFE\"] - desi[\"MG_FE\"], 100, range=((-1, 1), (-1, 1)), );"
   ]
  },
  {
   "cell_type": "markdown",
   "id": "125",
   "metadata": {
    "tags": []
   },
   "source": [
    "## Plots"
   ]
  },
  {
   "cell_type": "code",
   "execution_count": null,
   "id": "126",
   "metadata": {},
   "outputs": [],
   "source": [
    "plt.hist2d(desi[\"FE_H\"], desi[\"MG_FE\"], 100, range=((-1, 1), (-1, 1)), );"
   ]
  },
  {
   "cell_type": "markdown",
   "id": "127",
   "metadata": {},
   "source": [
    "almost looks believable"
   ]
  },
  {
   "cell_type": "code",
   "execution_count": null,
   "id": "128",
   "metadata": {},
   "outputs": [],
   "source": [
    "plt.hist2d(desi[\"MG_H\"], desi[\"C_MG\"], 100, range=((-1, 1), (-1, 1)), );"
   ]
  },
  {
   "cell_type": "markdown",
   "id": "129",
   "metadata": {},
   "source": [
    "this one not so much"
   ]
  },
  {
   "cell_type": "markdown",
   "id": "130",
   "metadata": {
    "jp-MarkdownHeadingCollapsed": true,
    "tags": []
   },
   "source": [
    "# LAMOST (Cycle-StarNet)\n"
   ]
  },
  {
   "cell_type": "markdown",
   "id": "131",
   "metadata": {},
   "source": [
    "https://ui.adsabs.harvard.edu/abs/2023ApJS..266...40W/abstract\n",
    "On website uses the other version..."
   ]
  },
  {
   "cell_type": "code",
   "execution_count": null,
   "id": "132",
   "metadata": {},
   "outputs": [],
   "source": [
    "table = pd.read_csv(data_dir + \"surveys/lamost_dr8.csv\")"
   ]
  },
  {
   "cell_type": "code",
   "execution_count": null,
   "id": "133",
   "metadata": {},
   "outputs": [],
   "source": [
    "table.columns"
   ]
  },
  {
   "cell_type": "code",
   "execution_count": null,
   "id": "134",
   "metadata": {},
   "outputs": [],
   "source": [
    "qual_filt = table[\"Flag_quality\"] == 0\n",
    "qual_filt &= table[\"Flag_logg\"] == 0\n",
    "qual_filt &= table[\"Flag_Teff\"] == 0"
   ]
  },
  {
   "cell_type": "code",
   "execution_count": null,
   "id": "135",
   "metadata": {},
   "outputs": [],
   "source": [
    "keil_plot(table[\"Teff\"][qual_filt], table[\"logg\"][qual_filt])"
   ]
  },
  {
   "cell_type": "code",
   "execution_count": null,
   "id": "136",
   "metadata": {},
   "outputs": [],
   "source": [
    "filt = qual_filt.copy()\n",
    "filt &= table[\"logg\"] > 3.5\n",
    "filt &= table[\"logg\"] < 5\n",
    "filt &= table[\"Teff\"] < 7000\n",
    "filt &= table[\"Teff\"] > 4000\n",
    "filt &= table[\"Flag_FeH\"] == 0\n",
    "filt &= table[\"Flag_MgFe\"] == 0"
   ]
  },
  {
   "cell_type": "code",
   "execution_count": null,
   "id": "137",
   "metadata": {},
   "outputs": [],
   "source": [
    "lamost = table[qual_filt].copy()"
   ]
  },
  {
   "cell_type": "code",
   "execution_count": null,
   "id": "138",
   "metadata": {},
   "outputs": [],
   "source": [
    "def rename_lamost_columns(col):\n",
    "    new_name = col.rstrip('_').upper()\n",
    "    if new_name.endswith(\"FE\"):\n",
    "        new_name = new_name[:-2] + \"_FE\"\n",
    "    if new_name == \"FEH\":\n",
    "        new_name = \"FE_H\"\n",
    "        \n",
    "    if new_name.startswith('ERR_'):\n",
    "        new_name = new_name[4:] + '_ERR'\n",
    "        \n",
    "    if new_name.startswith('FLAG_'):\n",
    "        new_name = new_name[5:] + '_FLAG'    \n",
    "    new_name = new_name.lstrip(\"_\")\n",
    "\n",
    "    return new_name"
   ]
  },
  {
   "cell_type": "code",
   "execution_count": null,
   "id": "139",
   "metadata": {},
   "outputs": [],
   "source": [
    "lamost.columns = [rename_lamost_columns(col) for col in lamost.columns]"
   ]
  },
  {
   "cell_type": "code",
   "execution_count": null,
   "id": "140",
   "metadata": {},
   "outputs": [],
   "source": [
    "lamost.columns"
   ]
  },
  {
   "cell_type": "code",
   "execution_count": null,
   "id": "141",
   "metadata": {},
   "outputs": [],
   "source": [
    "lamost[\"MG_H\"] = lamost.FE_H + lamost.MG_FE\n",
    "\n",
    "lamost[\"C_MG\"] = lamost.C_FE - lamost.MG_FE"
   ]
  },
  {
   "cell_type": "code",
   "execution_count": null,
   "id": "142",
   "metadata": {},
   "outputs": [],
   "source": [
    "lamost_c = lamost[lamost.C_FE_FLAG == 0]"
   ]
  },
  {
   "cell_type": "code",
   "execution_count": null,
   "id": "143",
   "metadata": {},
   "outputs": [],
   "source": [
    "plot_ab(lamost, \"FE_H\", \"MG_FE\")"
   ]
  },
  {
   "cell_type": "code",
   "execution_count": null,
   "id": "144",
   "metadata": {},
   "outputs": [],
   "source": [
    "plot_ab(lamost_c, \"MG_H\", \"C_MG\")"
   ]
  },
  {
   "cell_type": "code",
   "execution_count": null,
   "id": "145",
   "metadata": {},
   "outputs": [],
   "source": [
    "len(lamost_c) / len(lamost)"
   ]
  },
  {
   "cell_type": "code",
   "execution_count": null,
   "id": "146",
   "metadata": {},
   "outputs": [],
   "source": [
    "plot_ab(lamost_c, \"MG_FE\", \"C_MG\")"
   ]
  },
  {
   "cell_type": "code",
   "execution_count": null,
   "id": "147",
   "metadata": {},
   "outputs": [],
   "source": [
    "lamost_c.to_csv(\"lamost_dwarfs.csv\")"
   ]
  },
  {
   "cell_type": "markdown",
   "id": "148",
   "metadata": {
    "jp-MarkdownHeadingCollapsed": true,
    "tags": []
   },
   "source": [
    "# Crossmathing"
   ]
  },
  {
   "cell_type": "code",
   "execution_count": null,
   "id": "149",
   "metadata": {},
   "outputs": [],
   "source": [
    "def crossmatch_test(df1, df2, col, s=1, alpha=0.1, **kwargs):\n",
    "    x1 = np.array(df1[col])\n",
    "    x2 = np.array(df2[col])\n",
    "    plt.scatter(x1, x2-x1, s=s, alpha=alpha, **kwargs)\n",
    "    plt.axhline(0, c=\"k\")\n",
    "    plt.xlabel(col.replace(\"_\", \"/\"))\n",
    "    plt.ylabel(\"delta \" + col.replace(\"_\", \"/\"))"
   ]
  },
  {
   "cell_type": "code",
   "execution_count": null,
   "id": "150",
   "metadata": {},
   "outputs": [],
   "source": [
    "def crossmatch_test_hist(df1, df2, col, range=None, **kwargs):\n",
    "    x1 = np.array(df1[col])\n",
    "    x2 = np.array(df2[col])\n",
    "\n",
    "    hist2d(x1, x2-x1, **kwargs)\n",
    "    plt.axhline(0, c=\"k\")\n",
    "    plt.xlabel(col.replace(\"_\", \"/\"))\n",
    "    plt.ylabel(\"delta \" + col.replace(\"_\", \"/\"))\n",
    "    plt.colorbar(label=\"count\")"
   ]
  },
  {
   "cell_type": "code",
   "execution_count": null,
   "id": "151",
   "metadata": {},
   "outputs": [],
   "source": [
    "from surp import subgiants\n",
    "from astropy.coordinates import SkyCoord\n",
    "from astropy import units as u\n"
   ]
  },
  {
   "cell_type": "code",
   "execution_count": null,
   "id": "152",
   "metadata": {},
   "outputs": [],
   "source": [
    "def get_crossmatch(ra1, dec1, ra2, dec2, max_sep=1*u.arcsec):\n",
    "    ra1 = np.array(ra1)\n",
    "    dec1 = np.array(dec1)\n",
    "    ra2 = np.array(ra2)\n",
    "    dec2 = np.array(dec2)\n",
    "    \n",
    "    # Convert catalogue positions into SkyCoord objects\n",
    "    coords1 = SkyCoord(ra=ra1 * u.degree, dec=dec1 * u.degree)\n",
    "    coords2 = SkyCoord(ra=ra2 * u.degree, dec=dec2 * u.degree)\n",
    "\n",
    "    # Perform crossmatch\n",
    "    idx, d2d, d3d = coords1.match_to_catalog_sky(coords2)\n",
    "\n",
    "    sep_constraint = d2d < max_sep\n",
    "\n",
    "    # Filter matches\n",
    "    matches = idx[sep_constraint]\n",
    "    matched_d2d = d2d[sep_constraint]\n",
    "\n",
    "\n",
    "    idx_l = np.where(sep_constraint)[0] #df indicies\n",
    "    idx_r = matches # apogee indicies\n",
    "\n",
    "    print(len(ra1))\n",
    "    print(len(ra2))\n",
    "    print(len(idx_l))\n",
    "    \n",
    "    plt.scatter(ra2, dec2,  s=0.01, alpha=1, label=\"2\")\n",
    "\n",
    "    plt.scatter(ra1, dec1,  s=0.01, alpha=1, label=\"1\")\n",
    "    plt.xlabel(\"RA\")\n",
    "    plt.ylabel(\"DEC\")\n",
    "    plt.show()\n",
    "    \n",
    "    plt.scatter(ra2[idx_r], dec2[idx_r], \n",
    "                s=0.01, alpha=1, label=\"match\")\n",
    "    plt.scatter(ra1[idx_l], dec1[idx_l],\n",
    "                s=0.01, alpha=1, label=\"match\")\n",
    "    plt.xlabel(\"RA\")\n",
    "    plt.ylabel(\"DEC\")\n",
    "    \n",
    "    return idx_l, idx_r"
   ]
  },
  {
   "cell_type": "code",
   "execution_count": null,
   "id": "153",
   "metadata": {},
   "outputs": [],
   "source": [
    "# comes from the notebook APOGEE_minimal.ipynb\n",
    "apogee = pd.read_csv(f\"{data_dir}/apogee_most.csv\")"
   ]
  },
  {
   "cell_type": "code",
   "execution_count": null,
   "id": "154",
   "metadata": {},
   "outputs": [],
   "source": [
    "# remove test star\n",
    "apogee = apogee[1:]\n",
    "apogee.reset_index()"
   ]
  },
  {
   "cell_type": "markdown",
   "id": "155",
   "metadata": {
    "tags": []
   },
   "source": [
    "## GALAH - APOGEE"
   ]
  },
  {
   "cell_type": "code",
   "execution_count": null,
   "id": "156",
   "metadata": {},
   "outputs": [],
   "source": [
    "idx_l, idx_r = get_crossmatch(galah.ra, galah.dec, apogee.RA, apogee.DEC)"
   ]
  },
  {
   "cell_type": "code",
   "execution_count": null,
   "id": "157",
   "metadata": {},
   "outputs": [],
   "source": [
    "for col in [\"LOGG\", \"TEFF\", \"FE_H\", \"MG_FE\", \"C_MG\"]:\n",
    "    crossmatch_test_hist(galah.iloc[idx_l], apogee.iloc[idx_r], col, alpha=1)\n",
    "    plt.show()"
   ]
  },
  {
   "cell_type": "markdown",
   "id": "158",
   "metadata": {
    "jp-MarkdownHeadingCollapsed": true,
    "tags": []
   },
   "source": [
    "## Crossmatch GaiaESO"
   ]
  },
  {
   "cell_type": "code",
   "execution_count": null,
   "id": "159",
   "metadata": {},
   "outputs": [],
   "source": [
    "idx_l, idx_r = get_crossmatch(gaiaeso.RA, gaiaeso.DECLINATION, apogee.RA, apogee.DEC, max_sep=10*u.arcsec)\n"
   ]
  },
  {
   "cell_type": "code",
   "execution_count": null,
   "id": "160",
   "metadata": {},
   "outputs": [],
   "source": [
    "for col in [\"LOGG\", \"TEFF\", \"FE_H\", \"MG_FE\", \"C_MG\"]:\n",
    "    crossmatch_test(gaiaeso.iloc[idx_l], apogee.iloc[idx_r], col, alpha=1)\n",
    "    plt.show()"
   ]
  },
  {
   "cell_type": "markdown",
   "id": "161",
   "metadata": {
    "jp-MarkdownHeadingCollapsed": true,
    "tags": []
   },
   "source": [
    "## galah - gaiaeso"
   ]
  },
  {
   "cell_type": "code",
   "execution_count": null,
   "id": "162",
   "metadata": {},
   "outputs": [],
   "source": [
    "idx_l, idx_r = get_crossmatch(gaiaeso.RA, gaiaeso.DECLINATION, galah.ra, galah.dec, max_sep=1*u.arcsec)\n"
   ]
  },
  {
   "cell_type": "code",
   "execution_count": null,
   "id": "163",
   "metadata": {},
   "outputs": [],
   "source": [
    "for col in [\"LOGG\", \"TEFF\", \"FE_H\", \"MG_FE\", \"C_MG\"]:\n",
    "    crossmatch_test(gaiaeso.iloc[idx_l], galah.iloc[idx_r], col, alpha=0.5)\n",
    "    plt.show()"
   ]
  },
  {
   "cell_type": "markdown",
   "id": "164",
   "metadata": {
    "jp-MarkdownHeadingCollapsed": true
   },
   "source": [
    "## LAMOST - APOGEE\n"
   ]
  },
  {
   "cell_type": "code",
   "execution_count": null,
   "id": "165",
   "metadata": {},
   "outputs": [],
   "source": [
    "filt = apogee.STARFLAG == 0\n",
    "filt &= apogee.ASPCAPFLAG == 0"
   ]
  },
  {
   "cell_type": "code",
   "execution_count": null,
   "id": "166",
   "metadata": {},
   "outputs": [],
   "source": [
    "idx_l, idx_r = get_crossmatch(lamost.RA, lamost.DEC, apogee[filt].RA, apogee[filt].DEC, max_sep=1*u.arcsec)\n"
   ]
  },
  {
   "cell_type": "code",
   "execution_count": null,
   "id": "167",
   "metadata": {},
   "outputs": [],
   "source": [
    "for col in [\"LOGG\", \"TEFF\", \"FE_H\", \"MG_FE\", \"C_FE\"]:\n",
    "    crossmatch_test_hist(lamost.iloc[idx_l], apogee[filt].iloc[idx_r], col)\n",
    "    plt.show()"
   ]
  },
  {
   "cell_type": "markdown",
   "id": "168",
   "metadata": {
    "jp-MarkdownHeadingCollapsed": true
   },
   "source": [
    "## Lamost - GALAH"
   ]
  },
  {
   "cell_type": "code",
   "execution_count": null,
   "id": "169",
   "metadata": {},
   "outputs": [],
   "source": [
    "idx_l, idx_r = get_crossmatch(lamost.RA, lamost.DEC, galah.ra, galah.dec, max_sep=1*u.arcsec)\n"
   ]
  },
  {
   "cell_type": "code",
   "execution_count": null,
   "id": "170",
   "metadata": {},
   "outputs": [],
   "source": [
    "for col in [\"LOGG\", \"TEFF\", \"FE_H\", \"MG_FE\", \"C_MG\"]:\n",
    "    crossmatch_test_hist(lamost.iloc[idx_l], galah.iloc[idx_r], col)\n",
    "    plt.show()"
   ]
  },
  {
   "cell_type": "code",
   "execution_count": null,
   "id": "171",
   "metadata": {},
   "outputs": [],
   "source": []
  }
 ],
 "metadata": {
  "kernelspec": {
   "display_name": "Python 3 (ipykernel)",
   "language": "python",
   "name": "python3"
  },
  "language_info": {
   "codemirror_mode": {
    "name": "ipython",
    "version": 3
   },
   "file_extension": ".py",
   "mimetype": "text/x-python",
   "name": "python",
   "nbconvert_exporter": "python",
   "pygments_lexer": "ipython3",
   "version": "3.11.9"
  }
 },
 "nbformat": 4,
 "nbformat_minor": 5
}
