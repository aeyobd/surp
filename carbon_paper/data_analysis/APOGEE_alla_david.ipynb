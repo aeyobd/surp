{
 "cells": [
  {
   "cell_type": "code",
   "execution_count": null,
   "id": "0",
   "metadata": {},
   "outputs": [],
   "source": [
    "from astropy.io import fits\n",
    "import pandas as pd\n",
    "import matplotlib.pyplot as plt\n",
    "import matplotlib as mpl\n",
    "import numpy as np\n",
    "import pandas as pd\n",
    "\n",
    "import vice\n",
    "\n",
    "from astropy.table import Table\n",
    "import astropy as ap\n",
    "import astropy.units as u\n",
    "\n",
    "import surp"
   ]
  },
  {
   "cell_type": "code",
   "execution_count": null,
   "id": "1",
   "metadata": {},
   "outputs": [],
   "source": [
    "surp.yields.set_magg22_scale()"
   ]
  },
  {
   "cell_type": "code",
   "execution_count": null,
   "id": "2",
   "metadata": {
    "tags": []
   },
   "outputs": [],
   "source": [
    "filename = \"../../data/allStar-dr17-synspec_rev1.fits\"\n",
    "\n"
   ]
  },
  {
   "cell_type": "code",
   "execution_count": null,
   "id": "3",
   "metadata": {},
   "outputs": [],
   "source": [
    "ff = fits.open(filename)"
   ]
  },
  {
   "cell_type": "code",
   "execution_count": null,
   "id": "4",
   "metadata": {},
   "outputs": [],
   "source": [
    "elem_props = Table.read(filename, format=\"fits\", hdu=3, memmap=True)"
   ]
  },
  {
   "cell_type": "code",
   "execution_count": null,
   "id": "5",
   "metadata": {},
   "outputs": [],
   "source": [
    "elem_props"
   ]
  },
  {
   "cell_type": "code",
   "execution_count": null,
   "id": "6",
   "metadata": {},
   "outputs": [],
   "source": [
    "for i in range(27):\n",
    "    print(elem_props[\"ELEM_SYMBOL\"][i], \"\\t\", elem_props[\"DWARF_SOLARNEIGH_ZERO\"][i], \" +- \", elem_props[\"DWARF_SOLARNEIGH_ZERO_ERR\"][i], \"\\t\", elem_props[\"SOLAR_ZERO\"][i])"
   ]
  },
  {
   "cell_type": "code",
   "execution_count": null,
   "id": "7",
   "metadata": {},
   "outputs": [],
   "source": [
    "for i in range(27):\n",
    "    print(elem_props[\"ELEM_SYMBOL\"][i], \"\\t\", elem_props[\"GIANT_SOLARNEIGH_ZERO\"][i], \" +- \", elem_props[\"GIANT_SOLARNEIGH_ZERO_ERR\"][i], \"\\t\", elem_props[\"SOLAR_ZERO\"][i])"
   ]
  },
  {
   "cell_type": "code",
   "execution_count": null,
   "id": "8",
   "metadata": {},
   "outputs": [],
   "source": [
    "allStar = Table.read(filename, format=\"fits\", hdu=1, memmap=True)"
   ]
  },
  {
   "cell_type": "code",
   "execution_count": null,
   "id": "9",
   "metadata": {},
   "outputs": [],
   "source": [
    "filename = \"../../data/apogee_astroNN-DR17.fits\"\n",
    "astroNN = Table.read(filename, format=\"fits\", memmap=True)"
   ]
  },
  {
   "cell_type": "code",
   "execution_count": null,
   "id": "10",
   "metadata": {},
   "outputs": [],
   "source": [
    "ann = astroNN.to_pandas()"
   ]
  },
  {
   "cell_type": "code",
   "execution_count": null,
   "id": "11",
   "metadata": {},
   "outputs": [],
   "source": [
    "ann.drop_duplicates(\"APOGEE_ID\", inplace=True)"
   ]
  },
  {
   "cell_type": "code",
   "execution_count": null,
   "id": "12",
   "metadata": {},
   "outputs": [],
   "source": [
    "ann.set_index(\"APOGEE_ID\", inplace=True)"
   ]
  },
  {
   "cell_type": "markdown",
   "id": "13",
   "metadata": {},
   "source": [
    "remove stars with\n",
    "- STAR_BAD\n",
    "- NO_ASPCAP_RESULT\n",
    "- EXTRATARG=0\n",
    "\n",
    "- R=3-13kpc\n",
    "- |Z| < 2kpc\n",
    "- -0.75 < Mg/H < 0.45\n",
    "- S/N > 200 and Mg/H > -0.5\n",
    "- SN ? 100 otherwise\n",
    "- log g = 1-2.5\n",
    "- Teff = 4000-4600"
   ]
  },
  {
   "cell_type": "code",
   "execution_count": null,
   "id": "14",
   "metadata": {},
   "outputs": [],
   "source": [
    "apogee_aspcapflag = 1<<23 # starbad\n",
    "apogee_aspcapflag |= 1<<31 # no_aspcap_result"
   ]
  },
  {
   "cell_type": "code",
   "execution_count": null,
   "id": "15",
   "metadata": {},
   "outputs": [],
   "source": [
    "extratarg = 1<<0"
   ]
  },
  {
   "cell_type": "code",
   "execution_count": null,
   "id": "16",
   "metadata": {},
   "outputs": [],
   "source": [
    "extratarg"
   ]
  },
  {
   "cell_type": "code",
   "execution_count": null,
   "id": "17",
   "metadata": {},
   "outputs": [],
   "source": [
    "mask_extratarg_weak = (allStar[\"EXTRATARG\"] & extratarg)  == 0\n"
   ]
  },
  {
   "cell_type": "code",
   "execution_count": null,
   "id": "18",
   "metadata": {},
   "outputs": [],
   "source": [
    "apogee_aspcapflag"
   ]
  },
  {
   "cell_type": "code",
   "execution_count": null,
   "id": "19",
   "metadata": {},
   "outputs": [],
   "source": [
    "np.unique(allStar[\"ASPCAPFLAG\"] & apogee_aspcapflag)"
   ]
  },
  {
   "cell_type": "code",
   "execution_count": null,
   "id": "20",
   "metadata": {},
   "outputs": [],
   "source": [
    "mask_aspcap = (allStar[\"ASPCAPFLAG\"] & apogee_aspcapflag) == 0\n",
    "mask_extratarg = allStar[\"EXTRATARG\"]  == 0\n",
    "\n",
    "\n",
    "mask_fe_mg = allStar[\"FE_H_FLAG\"] == 0\n",
    "mask_fe_mg &= allStar[\"MG_FE_FLAG\"] == 0\n",
    "\n",
    "mask_fe_mg_2 = ~np.isnan(allStar[\"FE_H\"])\n",
    "mask_fe_mg_2 = ~np.isnan(allStar[\"MG_FE\"])\n"
   ]
  },
  {
   "cell_type": "code",
   "execution_count": null,
   "id": "21",
   "metadata": {},
   "outputs": [],
   "source": [
    "np.sum(mask_fe_mg), np.sum(mask_fe_mg_2), np.sum(mask_fe_mg_2 & mask_fe_mg)"
   ]
  },
  {
   "cell_type": "code",
   "execution_count": null,
   "id": "22",
   "metadata": {},
   "outputs": [],
   "source": [
    "np.sum(mask_fe_mg_2 & mask_fe_mg)"
   ]
  },
  {
   "cell_type": "code",
   "execution_count": null,
   "id": "23",
   "metadata": {},
   "outputs": [],
   "source": [
    "ann_filt = np.isin(allStar[\"APOGEE_ID\"], astroNN[\"APOGEE_ID\"])"
   ]
  },
  {
   "cell_type": "code",
   "execution_count": null,
   "id": "24",
   "metadata": {},
   "outputs": [],
   "source": [
    "ann_match = ann.loc[allStar[\"APOGEE_ID\"][ann_filt].value]"
   ]
  },
  {
   "cell_type": "code",
   "execution_count": null,
   "id": "25",
   "metadata": {},
   "outputs": [],
   "source": [
    "ann_match"
   ]
  },
  {
   "cell_type": "code",
   "execution_count": null,
   "id": "26",
   "metadata": {},
   "outputs": [],
   "source": [
    "r = np.full(len(allStar), np.NaN)\n",
    "r[ann_filt] = ann_match.galr\n",
    "\n",
    "\n",
    "z = np.full(len(allStar), np.NaN)\n",
    "z[ann_filt] = ann_match.galz"
   ]
  },
  {
   "cell_type": "code",
   "execution_count": null,
   "id": "27",
   "metadata": {},
   "outputs": [],
   "source": [
    "allStar[\"R_gal\"] = r\n",
    "allStar[\"z_gal\"] = z"
   ]
  },
  {
   "cell_type": "code",
   "execution_count": null,
   "id": "28",
   "metadata": {},
   "outputs": [],
   "source": [
    "plt.hist(allStar[\"R_gal\"], range=(0, 10))"
   ]
  },
  {
   "cell_type": "code",
   "execution_count": null,
   "id": "29",
   "metadata": {},
   "outputs": [],
   "source": [
    "plt.hist(allStar[\"z_gal\"], range=(-5, 5))"
   ]
  },
  {
   "cell_type": "code",
   "execution_count": null,
   "id": "30",
   "metadata": {},
   "outputs": [],
   "source": [
    "mask_zr = np.abs(allStar[\"z_gal\"]) <= 2\n",
    "mask_zr &= allStar[\"R_gal\"] >= 3\n",
    "mask_zr &= allStar[\"R_gal\"] <= 13\n",
    "mask_zr |= np.isnan(allStar[\"R_gal\"])\n",
    "mask_zr |= np.isnan(allStar[\"z_gal\"])\n",
    "\n",
    "print(np.sum(mask_zr))\n"
   ]
  },
  {
   "cell_type": "code",
   "execution_count": null,
   "id": "31",
   "metadata": {},
   "outputs": [],
   "source": [
    "print(np.sum(mask_zr &  mask_extratarg))\n",
    "print(np.sum(mask_zr & mask_extratarg_weak) )\n",
    "print(np.sum(mask_zr  & mask_fe_mg & mask_aspcap & mask_fe_mg_2 ))"
   ]
  },
  {
   "cell_type": "code",
   "execution_count": null,
   "id": "32",
   "metadata": {},
   "outputs": [],
   "source": [
    "mask = mask_zr  & mask_fe_mg & mask_aspcap & mask_fe_mg_2 & mask_extratarg\n",
    "print(np.sum(mask))"
   ]
  },
  {
   "cell_type": "code",
   "execution_count": null,
   "id": "33",
   "metadata": {},
   "outputs": [],
   "source": [
    "mg_h = allStar[\"MG_FE\"] + allStar[\"FE_H\"]\n",
    "\n",
    "mask_mh = -0.75 <= mg_h\n",
    "mask_mh &= mg_h <= 0.45\n",
    "\n",
    "np.sum(mask_mh)\n",
    "mask &= mask_mh\n",
    "np.sum(mask)"
   ]
  },
  {
   "cell_type": "code",
   "execution_count": null,
   "id": "34",
   "metadata": {},
   "outputs": [],
   "source": [
    "mask_snr = allStar[\"SNR\"] >= 100\n",
    "mask_snr &= (mg_h < -0.5)  | (allStar[\"SNR\"] >= 200)\n",
    "\n",
    "mask &= mask_snr\n",
    "np.sum(mask)"
   ]
  },
  {
   "cell_type": "code",
   "execution_count": null,
   "id": "35",
   "metadata": {},
   "outputs": [],
   "source": [
    "mask_logg = allStar[\"LOGG\"] >= 1\n",
    "mask_logg &= allStar[\"LOGG\"] <= 2.5\n",
    "np.sum(mask_logg)\n",
    "\n",
    "mask &= mask_logg\n",
    "np.sum(mask)"
   ]
  },
  {
   "cell_type": "code",
   "execution_count": null,
   "id": "36",
   "metadata": {},
   "outputs": [],
   "source": [
    "mask_teff = allStar[\"TEFF\"] <= 4600\n",
    "mask_teff &= allStar[\"TEFF\"] >= 4000\n",
    "\n",
    "mask &= mask_teff\n",
    "np.sum(mask)"
   ]
  },
  {
   "cell_type": "code",
   "execution_count": null,
   "id": "37",
   "metadata": {},
   "outputs": [],
   "source": [
    "filtered = allStar[mask]"
   ]
  },
  {
   "cell_type": "code",
   "execution_count": null,
   "id": "38",
   "metadata": {},
   "outputs": [],
   "source": [
    "len(filtered)"
   ]
  },
  {
   "cell_type": "markdown",
   "id": "39",
   "metadata": {},
   "source": [
    "APOGEE CORRECTIONS\n",
    "$$\n",
    "{[{\\rm{X}}/{\\rm{H}}]}_{\\mathrm{corr}}={[{\\rm{X}}/{\\rm{H}}]}_{\\mathrm{APO}}+\\mathrm{Offset}+{\\alpha }_{T}({T}_{\\mathrm{eff}}-4300)/100.\n",
    "$$"
   ]
  },
  {
   "cell_type": "markdown",
   "id": "40",
   "metadata": {},
   "source": [
    "Table 1 \n",
    "Zero-point Offsets and T _eff Trend Slopes\n",
    "\n",
    "\n",
    "| Elem.  |   Offset  |   10^3alpha_T  |\n",
    "| -----  |    -----  |    ---------   |\n",
    "| Mg     | 0.000     | 0.94           |\n",
    "| O      | -0.016    |  2.28          |\n",
    "| Si     | 0.038     | -3.22          |\n",
    "| S      | 0.008     | 5.29           |\n",
    "| Ca     | 0.071     | -6.01          |\n",
    "| C+N    | 0.022     | 4.12           |\n",
    "| Na     | 0.043     | 8.89           |\n",
    "| Al     | 0.050     | -12.3          |\n",
    "| K      | 0.002     | 1.68           |\n",
    "| Cr     | 0.048     | 4.35           |\n",
    "| Fe     | 0.053     | 0.76           |\n",
    "| Ni     | 0.030     | 1.33           |\n",
    "| V      | 0.222     | 14.9           |\n",
    "| Mn     | 0.002     | 16.3           |\n",
    "| Co     | -0.032    |  8.86          |\n",
    "| Ce     | 0.125     | -2.64          |\n"
   ]
  },
  {
   "cell_type": "code",
   "execution_count": null,
   "id": "41",
   "metadata": {},
   "outputs": [],
   "source": [
    "def correct(df, col, offset, alpha3):\n",
    "    new = df[col] + offset + alpha3*1e-3*(df[\"TEFF\"] - 3400)/100\n",
    "    \n",
    "    print(np.mean(new - df[col]))\n",
    "    df[col] = new"
   ]
  },
  {
   "cell_type": "code",
   "execution_count": null,
   "id": "42",
   "metadata": {},
   "outputs": [],
   "source": [
    "names = [name for name in filtered.colnames if len(filtered[name].shape) <= 1]\n",
    "\n",
    "\n",
    "df1 = filtered[names].to_pandas()\n",
    "\n",
    "df1[\"C_H\"] = df1[\"C_FE\"] + df1[\"FE_H\"]\n",
    "df1[\"N_H\"] = df1[\"N_FE\"] + df1[\"FE_H\"]\n",
    "df1[\"MG_H\"] = df1[\"MG_FE\"] + df1[\"FE_H\"]\n",
    "\n",
    "df1[\"CPN_H\"] =  surp.gce_math.cpn(df1.C_H, df1.N_H)\n",
    "\n",
    "correct(df1, \"MG_H\", 0, 0.94)\n",
    "correct(df1, \"FE_H\", 0.053, 0.76)\n",
    "correct(df1, \"CPN_H\", 0.022, 4.12)"
   ]
  },
  {
   "cell_type": "code",
   "execution_count": null,
   "id": "43",
   "metadata": {},
   "outputs": [],
   "source": [
    "\n",
    "\n",
    "df1[\"MG_FE\"] = df1.MG_H - df1.FE_H\n",
    "df1[\"C_MG\"] = df1[\"C_H\"] - df1[\"MG_H\"]\n",
    "df1[\"N_MG\"] = df1[\"N_H\"] - df1[\"MG_H\"]\n",
    "\n",
    "\n",
    "df1[\"high_alpha\"] = surp.gce_math.is_high_alpha(df1[\"MG_FE\"], df1[\"FE_H\"])\n",
    "\n",
    "df1.to_csv(\"../../data/apogee_cartography.csv\")"
   ]
  },
  {
   "cell_type": "code",
   "execution_count": null,
   "id": "44",
   "metadata": {},
   "outputs": [],
   "source": [
    "df_lm = df1[(~df1.high_alpha) & (df1.MG_H < -0.3)]"
   ]
  },
  {
   "cell_type": "code",
   "execution_count": null,
   "id": "45",
   "metadata": {},
   "outputs": [],
   "source": [
    "plt.hist2d(df1.FE_H, df1.MG_FE, 100);\n",
    "plt.scatter(df_lm.FE_H, df_lm.MG_FE, s=0.3, alpha=0.1);"
   ]
  },
  {
   "cell_type": "code",
   "execution_count": null,
   "id": "46",
   "metadata": {},
   "outputs": [],
   "source": [
    "plt.hist2d(df_lm.R_gal, df_lm.vt_gal,bins=100);\n",
    "plt.axhline(220)"
   ]
  },
  {
   "cell_type": "code",
   "execution_count": null,
   "id": "47",
   "metadata": {},
   "outputs": [],
   "source": [
    "plt.hist2d(df1.R_gal, df1.vt_gal,bins=100);\n",
    "plt.axhline(220)"
   ]
  },
  {
   "cell_type": "code",
   "execution_count": null,
   "id": "48",
   "metadata": {},
   "outputs": [],
   "source": [
    "plt.hist2d(df_lm.age, df_lm.vt_gal, bins=(np.linspace(0, 13, 100), 100));\n",
    "plt.axhline(220)"
   ]
  },
  {
   "cell_type": "code",
   "execution_count": null,
   "id": "49",
   "metadata": {},
   "outputs": [],
   "source": [
    "plt.hist2d(df1.age, df1.vt_gal, bins=(np.linspace(0, 13, 100), 100));\n",
    "plt.axhline(220)"
   ]
  },
  {
   "cell_type": "code",
   "execution_count": null,
   "id": "50",
   "metadata": {},
   "outputs": [],
   "source": [
    "len(df1)"
   ]
  },
  {
   "cell_type": "code",
   "execution_count": null,
   "id": "51",
   "metadata": {},
   "outputs": [],
   "source": []
  }
 ],
 "metadata": {
  "kernelspec": {
   "display_name": "Python 3 (ipykernel)",
   "language": "python",
   "name": "python3"
  },
  "language_info": {
   "codemirror_mode": {
    "name": "ipython",
    "version": 3
   },
   "file_extension": ".py",
   "mimetype": "text/x-python",
   "name": "python",
   "nbconvert_exporter": "python",
   "pygments_lexer": "ipython3",
   "version": "3.11.9"
  }
 },
 "nbformat": 4,
 "nbformat_minor": 5
}
