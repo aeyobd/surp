{
 "cells": [
  {
   "cell_type": "code",
   "execution_count": 1,
   "id": "55f450fc-8fce-4a8f-abb9-37ef78fc3c1a",
   "metadata": {},
   "outputs": [
    {
     "name": "stderr",
     "output_type": "stream",
     "text": [
      "/astro/dboyea/.local/lib/python3.11/site-packages/vice/__init__.py:141: UserWarning: Using un-released version of VICE\n",
      "  warnings.warn(\"Using un-released version of VICE\", UserWarning)\n"
     ]
    }
   ],
   "source": [
    "from astropy.io import fits\n",
    "import pandas as pd\n",
    "import matplotlib.pyplot as plt\n",
    "import matplotlib as mpl\n",
    "import numpy as np\n",
    "import pandas as pd\n",
    "\n",
    "import vice\n",
    "\n",
    "from astropy.table import Table\n",
    "import astropy as ap\n",
    "import astropy.units as u\n",
    "\n",
    "import surp"
   ]
  },
  {
   "cell_type": "code",
   "execution_count": 2,
   "id": "5762a764-9114-4e29-aa0b-1087e97cf880",
   "metadata": {},
   "outputs": [
    {
     "name": "stdout",
     "output_type": "stream",
     "text": [
      "yields set to Magg et al. 2022 abundances\n"
     ]
    }
   ],
   "source": [
    "surp.yields.set_magg22_scale()"
   ]
  },
  {
   "cell_type": "code",
   "execution_count": 3,
   "id": "7a51c562-bf3f-475b-a84a-dd9638c14038",
   "metadata": {
    "scrolled": true,
    "tags": []
   },
   "outputs": [],
   "source": [
    "filename = \"../../data/allStar-dr17-synspec_rev1.fits\"\n",
    "\n"
   ]
  },
  {
   "cell_type": "code",
   "execution_count": 24,
   "id": "126a7ea5-7b80-4dad-ab16-bc617dca860d",
   "metadata": {},
   "outputs": [],
   "source": [
    "ff = fits.open(filename)"
   ]
  },
  {
   "cell_type": "code",
   "execution_count": 23,
   "id": "d43dc92f-00b8-48e1-b66d-47dfc0138bd4",
   "metadata": {},
   "outputs": [],
   "source": [
    "elem_props = Table.read(filename, format=\"fits\", hdu=3, memmap=True)"
   ]
  },
  {
   "cell_type": "code",
   "execution_count": 21,
   "id": "7649945c-c25e-47fd-99ee-a8ffbc71990a",
   "metadata": {},
   "outputs": [
    {
     "data": {
      "text/html": [
       "<div><i>Table length=1</i>\n",
       "<table id=\"table140309860505296\" class=\"table-striped table-bordered table-condensed\">\n",
       "<thead><tr><th>WAVE</th><th>PARAM_SYMBOL</th><th>ELEM_SYMBOL</th><th>ELEMTOH</th><th>ELEM_VALUE</th><th>GRIDS</th></tr></thead>\n",
       "<thead><tr><th>float32[7514]</th><th>bytes64[9]</th><th>bytes20[27]</th><th>int32[27]</th><th>bytes48[27]</th><th>bytes20[21]</th></tr></thead>\n",
       "<tr><td>15152.211 .. 16943.533</td><td>TEFF .. PARAM_O</td><td>C .. C13</td><td>0 .. 0</td><td>C_FE .. C13_FE</td><td>BA .. Fd_d</td></tr>\n",
       "</table></div>"
      ],
      "text/plain": [
       "<Table length=1>\n",
       "         WAVE            PARAM_SYMBOL  ...   ELEM_VALUE      GRIDS   \n",
       "    float32[7514]         bytes64[9]   ...  bytes48[27]   bytes20[21]\n",
       "---------------------- --------------- ... -------------- -----------\n",
       "15152.211 .. 16943.533 TEFF .. PARAM_O ... C_FE .. C13_FE  BA .. Fd_d"
      ]
     },
     "execution_count": 21,
     "metadata": {},
     "output_type": "execute_result"
    }
   ],
   "source": [
    "elem_props"
   ]
  },
  {
   "cell_type": "code",
   "execution_count": 5,
   "id": "84d51467-e5b8-4d1e-ba1a-2c8059d49122",
   "metadata": {},
   "outputs": [
    {
     "ename": "KeyError",
     "evalue": "'DWARF_SOLARNEIGH_ZERO'",
     "output_type": "error",
     "traceback": [
      "\u001b[0;31m---------------------------------------------------------------------------\u001b[0m",
      "\u001b[0;31mKeyError\u001b[0m                                  Traceback (most recent call last)",
      "File \u001b[0;32m~/.local/lib/python3.11/site-packages/astropy/table/row.py:54\u001b[0m, in \u001b[0;36mRow.__getitem__\u001b[0;34m(self, item)\u001b[0m\n\u001b[1;32m     50\u001b[0m \u001b[38;5;28;01mtry\u001b[39;00m:\n\u001b[1;32m     51\u001b[0m     \u001b[38;5;66;03m# Try the most common use case of accessing a single column in the Row.\u001b[39;00m\n\u001b[1;32m     52\u001b[0m     \u001b[38;5;66;03m# Bypass the TableColumns __getitem__ since that does more testing\u001b[39;00m\n\u001b[1;32m     53\u001b[0m     \u001b[38;5;66;03m# and allows a list of tuple or str, which is not the right thing here.\u001b[39;00m\n\u001b[0;32m---> 54\u001b[0m     out \u001b[38;5;241m=\u001b[39m \u001b[43mOrderedDict\u001b[49m\u001b[38;5;241;43m.\u001b[39;49m\u001b[38;5;21;43m__getitem__\u001b[39;49m\u001b[43m(\u001b[49m\u001b[38;5;28;43mself\u001b[39;49m\u001b[38;5;241;43m.\u001b[39;49m\u001b[43m_table\u001b[49m\u001b[38;5;241;43m.\u001b[39;49m\u001b[43mcolumns\u001b[49m\u001b[43m,\u001b[49m\u001b[43m \u001b[49m\u001b[43mitem\u001b[49m\u001b[43m)\u001b[49m[\u001b[38;5;28mself\u001b[39m\u001b[38;5;241m.\u001b[39m_index]\n\u001b[1;32m     55\u001b[0m \u001b[38;5;28;01mexcept\u001b[39;00m (\u001b[38;5;167;01mKeyError\u001b[39;00m, \u001b[38;5;167;01mTypeError\u001b[39;00m):\n",
      "\u001b[0;31mKeyError\u001b[0m: 'DWARF_SOLARNEIGH_ZERO'",
      "\nDuring handling of the above exception, another exception occurred:\n",
      "\u001b[0;31mKeyError\u001b[0m                                  Traceback (most recent call last)",
      "Cell \u001b[0;32mIn[5], line 2\u001b[0m\n\u001b[1;32m      1\u001b[0m \u001b[38;5;28;01mfor\u001b[39;00m i \u001b[38;5;129;01min\u001b[39;00m \u001b[38;5;28mrange\u001b[39m(\u001b[38;5;241m27\u001b[39m):\n\u001b[0;32m----> 2\u001b[0m     \u001b[38;5;28mprint\u001b[39m(elem_props[\u001b[38;5;124m\"\u001b[39m\u001b[38;5;124mELEM_SYMBOL\u001b[39m\u001b[38;5;124m\"\u001b[39m][i], \u001b[38;5;124m\"\u001b[39m\u001b[38;5;130;01m\\t\u001b[39;00m\u001b[38;5;124m\"\u001b[39m, \u001b[43melem_props\u001b[49m\u001b[43m[\u001b[49m\u001b[38;5;124;43m\"\u001b[39;49m\u001b[38;5;124;43mDWARF_SOLARNEIGH_ZERO\u001b[39;49m\u001b[38;5;124;43m\"\u001b[39;49m\u001b[43m]\u001b[49m[i], \u001b[38;5;124m\"\u001b[39m\u001b[38;5;124m +- \u001b[39m\u001b[38;5;124m\"\u001b[39m, elem_props[\u001b[38;5;124m\"\u001b[39m\u001b[38;5;124mDWARF_SOLARNEIGH_ZERO_ERR\u001b[39m\u001b[38;5;124m\"\u001b[39m][i], \u001b[38;5;124m\"\u001b[39m\u001b[38;5;130;01m\\t\u001b[39;00m\u001b[38;5;124m\"\u001b[39m, elem_props[\u001b[38;5;124m\"\u001b[39m\u001b[38;5;124mSOLAR_ZERO\u001b[39m\u001b[38;5;124m\"\u001b[39m][i])\n",
      "File \u001b[0;32m~/.local/lib/python3.11/site-packages/astropy/table/row.py:64\u001b[0m, in \u001b[0;36mRow.__getitem__\u001b[0;34m(self, item)\u001b[0m\n\u001b[1;32m     61\u001b[0m         out \u001b[38;5;241m=\u001b[39m \u001b[38;5;28mtuple\u001b[39m(\u001b[38;5;28mself\u001b[39m\u001b[38;5;241m.\u001b[39mvalues())[item]\n\u001b[1;32m     62\u001b[0m     \u001b[38;5;28;01melse\u001b[39;00m:\n\u001b[1;32m     63\u001b[0m         \u001b[38;5;66;03m# This is only to raise an exception\u001b[39;00m\n\u001b[0;32m---> 64\u001b[0m         out \u001b[38;5;241m=\u001b[39m \u001b[38;5;28;43mself\u001b[39;49m\u001b[38;5;241;43m.\u001b[39;49m\u001b[43m_table\u001b[49m\u001b[38;5;241;43m.\u001b[39;49m\u001b[43mcolumns\u001b[49m\u001b[43m[\u001b[49m\u001b[43mitem\u001b[49m\u001b[43m]\u001b[49m[\u001b[38;5;28mself\u001b[39m\u001b[38;5;241m.\u001b[39m_index]\n\u001b[1;32m     65\u001b[0m \u001b[38;5;28;01mreturn\u001b[39;00m out\n",
      "File \u001b[0;32m~/.local/lib/python3.11/site-packages/astropy/table/table.py:267\u001b[0m, in \u001b[0;36mTableColumns.__getitem__\u001b[0;34m(self, item)\u001b[0m\n\u001b[1;32m    256\u001b[0m \u001b[38;5;250m\u001b[39m\u001b[38;5;124;03m\"\"\"Get items from a TableColumns object.\u001b[39;00m\n\u001b[1;32m    257\u001b[0m \n\u001b[1;32m    258\u001b[0m \u001b[38;5;124;03m::\u001b[39;00m\n\u001b[0;32m   (...)\u001b[0m\n\u001b[1;32m    264\u001b[0m \u001b[38;5;124;03m  tc[1:3] # <TableColumns names=('b', 'c')>\u001b[39;00m\n\u001b[1;32m    265\u001b[0m \u001b[38;5;124;03m\"\"\"\u001b[39;00m\n\u001b[1;32m    266\u001b[0m \u001b[38;5;28;01mif\u001b[39;00m \u001b[38;5;28misinstance\u001b[39m(item, \u001b[38;5;28mstr\u001b[39m):\n\u001b[0;32m--> 267\u001b[0m     \u001b[38;5;28;01mreturn\u001b[39;00m \u001b[43mOrderedDict\u001b[49m\u001b[38;5;241;43m.\u001b[39;49m\u001b[38;5;21;43m__getitem__\u001b[39;49m\u001b[43m(\u001b[49m\u001b[38;5;28;43mself\u001b[39;49m\u001b[43m,\u001b[49m\u001b[43m \u001b[49m\u001b[43mitem\u001b[49m\u001b[43m)\u001b[49m\n\u001b[1;32m    268\u001b[0m \u001b[38;5;28;01melif\u001b[39;00m \u001b[38;5;28misinstance\u001b[39m(item, (\u001b[38;5;28mint\u001b[39m, np\u001b[38;5;241m.\u001b[39minteger)):\n\u001b[1;32m    269\u001b[0m     \u001b[38;5;28;01mreturn\u001b[39;00m \u001b[38;5;28mlist\u001b[39m(\u001b[38;5;28mself\u001b[39m\u001b[38;5;241m.\u001b[39mvalues())[item]\n",
      "\u001b[0;31mKeyError\u001b[0m: 'DWARF_SOLARNEIGH_ZERO'"
     ]
    }
   ],
   "source": [
    "for i in range(27):\n",
    "    print(elem_props[\"ELEM_SYMBOL\"][i], \"\\t\", elem_props[\"DWARF_SOLARNEIGH_ZERO\"][i], \" +- \", elem_props[\"DWARF_SOLARNEIGH_ZERO_ERR\"][i], \"\\t\", elem_props[\"SOLAR_ZERO\"][i])"
   ]
  },
  {
   "cell_type": "code",
   "execution_count": 7,
   "id": "180a9c99-6250-4d32-9870-4ce1f0a0445f",
   "metadata": {},
   "outputs": [
    {
     "ename": "KeyError",
     "evalue": "'GIANT_SOLARNEIGH_ZERO'",
     "output_type": "error",
     "traceback": [
      "\u001b[0;31m---------------------------------------------------------------------------\u001b[0m",
      "\u001b[0;31mKeyError\u001b[0m                                  Traceback (most recent call last)",
      "File \u001b[0;32m~/.local/lib/python3.10/site-packages/astropy/table/row.py:52\u001b[0m, in \u001b[0;36mRow.__getitem__\u001b[0;34m(self, item)\u001b[0m\n\u001b[1;32m     48\u001b[0m \u001b[38;5;28;01mtry\u001b[39;00m:\n\u001b[1;32m     49\u001b[0m     \u001b[38;5;66;03m# Try the most common use case of accessing a single column in the Row.\u001b[39;00m\n\u001b[1;32m     50\u001b[0m     \u001b[38;5;66;03m# Bypass the TableColumns __getitem__ since that does more testing\u001b[39;00m\n\u001b[1;32m     51\u001b[0m     \u001b[38;5;66;03m# and allows a list of tuple or str, which is not the right thing here.\u001b[39;00m\n\u001b[0;32m---> 52\u001b[0m     out \u001b[38;5;241m=\u001b[39m \u001b[43mOrderedDict\u001b[49m\u001b[38;5;241;43m.\u001b[39;49m\u001b[38;5;21;43m__getitem__\u001b[39;49m\u001b[43m(\u001b[49m\u001b[38;5;28;43mself\u001b[39;49m\u001b[38;5;241;43m.\u001b[39;49m\u001b[43m_table\u001b[49m\u001b[38;5;241;43m.\u001b[39;49m\u001b[43mcolumns\u001b[49m\u001b[43m,\u001b[49m\u001b[43m \u001b[49m\u001b[43mitem\u001b[49m\u001b[43m)\u001b[49m[\u001b[38;5;28mself\u001b[39m\u001b[38;5;241m.\u001b[39m_index]\n\u001b[1;32m     53\u001b[0m \u001b[38;5;28;01mexcept\u001b[39;00m (\u001b[38;5;167;01mKeyError\u001b[39;00m, \u001b[38;5;167;01mTypeError\u001b[39;00m):\n",
      "\u001b[0;31mKeyError\u001b[0m: 'GIANT_SOLARNEIGH_ZERO'",
      "\nDuring handling of the above exception, another exception occurred:\n",
      "\u001b[0;31mKeyError\u001b[0m                                  Traceback (most recent call last)",
      "Cell \u001b[0;32mIn[7], line 2\u001b[0m\n\u001b[1;32m      1\u001b[0m \u001b[38;5;28;01mfor\u001b[39;00m i \u001b[38;5;129;01min\u001b[39;00m \u001b[38;5;28mrange\u001b[39m(\u001b[38;5;241m27\u001b[39m):\n\u001b[0;32m----> 2\u001b[0m     \u001b[38;5;28mprint\u001b[39m(elem_props[\u001b[38;5;124m\"\u001b[39m\u001b[38;5;124mELEM_SYMBOL\u001b[39m\u001b[38;5;124m\"\u001b[39m][i], \u001b[38;5;124m\"\u001b[39m\u001b[38;5;130;01m\\t\u001b[39;00m\u001b[38;5;124m\"\u001b[39m, \u001b[43melem_props\u001b[49m\u001b[43m[\u001b[49m\u001b[38;5;124;43m\"\u001b[39;49m\u001b[38;5;124;43mGIANT_SOLARNEIGH_ZERO\u001b[39;49m\u001b[38;5;124;43m\"\u001b[39;49m\u001b[43m]\u001b[49m[i], \u001b[38;5;124m\"\u001b[39m\u001b[38;5;124m +- \u001b[39m\u001b[38;5;124m\"\u001b[39m, elem_props[\u001b[38;5;124m\"\u001b[39m\u001b[38;5;124mGIANT_SOLARNEIGH_ZERO_ERR\u001b[39m\u001b[38;5;124m\"\u001b[39m][i], \u001b[38;5;124m\"\u001b[39m\u001b[38;5;130;01m\\t\u001b[39;00m\u001b[38;5;124m\"\u001b[39m, elem_props[\u001b[38;5;124m\"\u001b[39m\u001b[38;5;124mSOLAR_ZERO\u001b[39m\u001b[38;5;124m\"\u001b[39m][i])\n",
      "File \u001b[0;32m~/.local/lib/python3.10/site-packages/astropy/table/row.py:59\u001b[0m, in \u001b[0;36mRow.__getitem__\u001b[0;34m(self, item)\u001b[0m\n\u001b[1;32m     56\u001b[0m         out \u001b[38;5;241m=\u001b[39m \u001b[38;5;28mself\u001b[39m\u001b[38;5;241m.\u001b[39m_table\u001b[38;5;241m.\u001b[39m\u001b[38;5;18m__class__\u001b[39m(cols, copy\u001b[38;5;241m=\u001b[39m\u001b[38;5;28;01mFalse\u001b[39;00m)[\u001b[38;5;28mself\u001b[39m\u001b[38;5;241m.\u001b[39m_index]\n\u001b[1;32m     57\u001b[0m     \u001b[38;5;28;01melse\u001b[39;00m:\n\u001b[1;32m     58\u001b[0m         \u001b[38;5;66;03m# This is only to raise an exception\u001b[39;00m\n\u001b[0;32m---> 59\u001b[0m         out \u001b[38;5;241m=\u001b[39m \u001b[38;5;28;43mself\u001b[39;49m\u001b[38;5;241;43m.\u001b[39;49m\u001b[43m_table\u001b[49m\u001b[38;5;241;43m.\u001b[39;49m\u001b[43mcolumns\u001b[49m\u001b[43m[\u001b[49m\u001b[43mitem\u001b[49m\u001b[43m]\u001b[49m[\u001b[38;5;28mself\u001b[39m\u001b[38;5;241m.\u001b[39m_index]\n\u001b[1;32m     60\u001b[0m \u001b[38;5;28;01mreturn\u001b[39;00m out\n",
      "File \u001b[0;32m~/.local/lib/python3.10/site-packages/astropy/table/table.py:264\u001b[0m, in \u001b[0;36mTableColumns.__getitem__\u001b[0;34m(self, item)\u001b[0m\n\u001b[1;32m    253\u001b[0m \u001b[38;5;250m\u001b[39m\u001b[38;5;124;03m\"\"\"Get items from a TableColumns object.\u001b[39;00m\n\u001b[1;32m    254\u001b[0m \n\u001b[1;32m    255\u001b[0m \u001b[38;5;124;03m::\u001b[39;00m\n\u001b[0;32m   (...)\u001b[0m\n\u001b[1;32m    261\u001b[0m \u001b[38;5;124;03m  tc[1:3] # <TableColumns names=('b', 'c')>\u001b[39;00m\n\u001b[1;32m    262\u001b[0m \u001b[38;5;124;03m\"\"\"\u001b[39;00m\n\u001b[1;32m    263\u001b[0m \u001b[38;5;28;01mif\u001b[39;00m \u001b[38;5;28misinstance\u001b[39m(item, \u001b[38;5;28mstr\u001b[39m):\n\u001b[0;32m--> 264\u001b[0m     \u001b[38;5;28;01mreturn\u001b[39;00m \u001b[43mOrderedDict\u001b[49m\u001b[38;5;241;43m.\u001b[39;49m\u001b[38;5;21;43m__getitem__\u001b[39;49m\u001b[43m(\u001b[49m\u001b[38;5;28;43mself\u001b[39;49m\u001b[43m,\u001b[49m\u001b[43m \u001b[49m\u001b[43mitem\u001b[49m\u001b[43m)\u001b[49m\n\u001b[1;32m    265\u001b[0m \u001b[38;5;28;01melif\u001b[39;00m \u001b[38;5;28misinstance\u001b[39m(item, (\u001b[38;5;28mint\u001b[39m, np\u001b[38;5;241m.\u001b[39minteger)):\n\u001b[1;32m    266\u001b[0m     \u001b[38;5;28;01mreturn\u001b[39;00m \u001b[38;5;28mlist\u001b[39m(\u001b[38;5;28mself\u001b[39m\u001b[38;5;241m.\u001b[39mvalues())[item]\n",
      "\u001b[0;31mKeyError\u001b[0m: 'GIANT_SOLARNEIGH_ZERO'"
     ]
    }
   ],
   "source": [
    "for i in range(27):\n",
    "    print(elem_props[\"ELEM_SYMBOL\"][i], \"\\t\", elem_props[\"GIANT_SOLARNEIGH_ZERO\"][i], \" +- \", elem_props[\"GIANT_SOLARNEIGH_ZERO_ERR\"][i], \"\\t\", elem_props[\"SOLAR_ZERO\"][i])"
   ]
  },
  {
   "cell_type": "code",
   "execution_count": 9,
   "id": "fe971e9f-2d23-48a5-b141-6fdfc433214f",
   "metadata": {},
   "outputs": [],
   "source": [
    "allStar = Table.read(filename, format=\"fits\", hdu=1, memmap=True)"
   ]
  },
  {
   "cell_type": "code",
   "execution_count": 10,
   "id": "6d0ac7f1-c773-4cd0-a075-ca980d4449f9",
   "metadata": {},
   "outputs": [],
   "source": [
    "filename = \"../../data/apogee_astroNN-DR17.fits\"\n",
    "astroNN = Table.read(filename, format=\"fits\", memmap=True)"
   ]
  },
  {
   "cell_type": "code",
   "execution_count": 11,
   "id": "f9d6aeb2-fd96-4f2c-85ec-1d13c45f8bda",
   "metadata": {},
   "outputs": [],
   "source": [
    "ann = astroNN.to_pandas()"
   ]
  },
  {
   "cell_type": "code",
   "execution_count": 12,
   "id": "ef3f739b-263d-48b3-bcc3-442d69aec24f",
   "metadata": {},
   "outputs": [],
   "source": [
    "ann.drop_duplicates(\"APOGEE_ID\", inplace=True)"
   ]
  },
  {
   "cell_type": "code",
   "execution_count": 13,
   "id": "38cd2169-a97c-4fb2-9554-f12dd0e77934",
   "metadata": {},
   "outputs": [],
   "source": [
    "ann.set_index(\"APOGEE_ID\", inplace=True)"
   ]
  },
  {
   "cell_type": "markdown",
   "id": "82af92a0-8315-4d45-a5ae-cc39f93155f3",
   "metadata": {},
   "source": [
    "remove stars with\n",
    "- STAR_BAD\n",
    "- NO_ASPCAP_RESULT\n",
    "- EXTRATARG=0\n",
    "\n",
    "- R=3-13kpc\n",
    "- |Z| < 2kpc\n",
    "- -0.75 < Mg/H < 0.45\n",
    "- S/N > 200 and Mg/H > -0.5\n",
    "- SN ? 100 otherwise\n",
    "- log g = 1-2.5\n",
    "- Teff = 4000-4600"
   ]
  },
  {
   "cell_type": "code",
   "execution_count": 14,
   "id": "e40e34cd-3833-4319-adb9-77883ecba08a",
   "metadata": {},
   "outputs": [],
   "source": [
    "apogee_aspcapflag = 1<<23 # starbad\n",
    "apogee_aspcapflag |= 1<<31 # no_aspcap_result"
   ]
  },
  {
   "cell_type": "code",
   "execution_count": 15,
   "id": "f0e3e236-aca8-4ca8-b5ac-98530999b36f",
   "metadata": {},
   "outputs": [],
   "source": [
    "extratarg = 1<<0"
   ]
  },
  {
   "cell_type": "code",
   "execution_count": 16,
   "id": "b66cc256-3942-4091-a189-6dd7c6084406",
   "metadata": {},
   "outputs": [
    {
     "data": {
      "text/plain": [
       "1"
      ]
     },
     "execution_count": 16,
     "metadata": {},
     "output_type": "execute_result"
    }
   ],
   "source": [
    "extratarg"
   ]
  },
  {
   "cell_type": "code",
   "execution_count": 17,
   "id": "5270edbf-d20b-49e9-b85a-6b47792c0003",
   "metadata": {},
   "outputs": [],
   "source": [
    "mask_extratarg_weak = (allStar[\"EXTRATARG\"] & extratarg)  == 0\n"
   ]
  },
  {
   "cell_type": "code",
   "execution_count": 18,
   "id": "1138ad7e-7301-478a-90d9-17648760b429",
   "metadata": {},
   "outputs": [
    {
     "data": {
      "text/plain": [
       "2155872256"
      ]
     },
     "execution_count": 18,
     "metadata": {},
     "output_type": "execute_result"
    }
   ],
   "source": [
    "apogee_aspcapflag"
   ]
  },
  {
   "cell_type": "code",
   "execution_count": 19,
   "id": "954430e1-b995-4911-abff-2eb8e6837d37",
   "metadata": {},
   "outputs": [
    {
     "data": {
      "text/html": [
       "&lt;Column name=&apos;ASPCAPFLAG&apos; dtype=&apos;int64&apos; length=3&gt;\n",
       "<table>\n",
       "<tr><td>0</td></tr>\n",
       "<tr><td>8388608</td></tr>\n",
       "<tr><td>2155872256</td></tr>\n",
       "</table>"
      ],
      "text/plain": [
       "<Column name='ASPCAPFLAG' dtype='int64' length=3>\n",
       "         0\n",
       "   8388608\n",
       "2155872256"
      ]
     },
     "execution_count": 19,
     "metadata": {},
     "output_type": "execute_result"
    }
   ],
   "source": [
    "np.unique(allStar[\"ASPCAPFLAG\"] & apogee_aspcapflag)"
   ]
  },
  {
   "cell_type": "code",
   "execution_count": 20,
   "id": "f4af5746-1a82-415a-a71f-6fedfd785ad3",
   "metadata": {},
   "outputs": [],
   "source": [
    "mask_aspcap = (allStar[\"ASPCAPFLAG\"] & apogee_aspcapflag) == 0\n",
    "mask_extratarg = allStar[\"EXTRATARG\"]  == 0\n",
    "\n",
    "\n",
    "mask_fe_mg = allStar[\"FE_H_FLAG\"] == 0\n",
    "mask_fe_mg &= allStar[\"MG_FE_FLAG\"] == 0\n",
    "\n",
    "mask_fe_mg_2 = ~np.isnan(allStar[\"FE_H\"])\n",
    "mask_fe_mg_2 = ~np.isnan(allStar[\"MG_FE\"])\n"
   ]
  },
  {
   "cell_type": "code",
   "execution_count": 21,
   "id": "5d7580ae-dd09-4d19-b3bc-ce23e196b34e",
   "metadata": {},
   "outputs": [
    {
     "data": {
      "text/plain": [
       "(666956, 646291, 633362)"
      ]
     },
     "execution_count": 21,
     "metadata": {},
     "output_type": "execute_result"
    }
   ],
   "source": [
    "np.sum(mask_fe_mg), np.sum(mask_fe_mg_2), np.sum(mask_fe_mg_2 & mask_fe_mg)"
   ]
  },
  {
   "cell_type": "code",
   "execution_count": 22,
   "id": "f088e56c-dba4-4672-a62f-30f77a024f9c",
   "metadata": {},
   "outputs": [
    {
     "data": {
      "text/plain": [
       "633362"
      ]
     },
     "execution_count": 22,
     "metadata": {},
     "output_type": "execute_result"
    }
   ],
   "source": [
    "np.sum(mask_fe_mg_2 & mask_fe_mg)"
   ]
  },
  {
   "cell_type": "code",
   "execution_count": 23,
   "id": "77f7b2f6-fe6d-4361-bc70-e95c49103cb3",
   "metadata": {},
   "outputs": [],
   "source": [
    "ann_filt = np.isin(allStar[\"APOGEE_ID\"], astroNN[\"APOGEE_ID\"])"
   ]
  },
  {
   "cell_type": "code",
   "execution_count": 24,
   "id": "ec7848e5-e791-4c05-9b33-86ad7718bf74",
   "metadata": {},
   "outputs": [],
   "source": [
    "ann_match = ann.loc[allStar[\"APOGEE_ID\"][ann_filt].value]"
   ]
  },
  {
   "cell_type": "code",
   "execution_count": 25,
   "id": "9b36da05-9350-4223-a87f-40d8c4cbdd08",
   "metadata": {},
   "outputs": [
    {
     "data": {
      "text/html": [
       "<div>\n",
       "<style scoped>\n",
       "    .dataframe tbody tr th:only-of-type {\n",
       "        vertical-align: middle;\n",
       "    }\n",
       "\n",
       "    .dataframe tbody tr th {\n",
       "        vertical-align: top;\n",
       "    }\n",
       "\n",
       "    .dataframe thead th {\n",
       "        text-align: right;\n",
       "    }\n",
       "</style>\n",
       "<table border=\"1\" class=\"dataframe\">\n",
       "  <thead>\n",
       "    <tr style=\"text-align: right;\">\n",
       "      <th></th>\n",
       "      <th>LOCATION_ID</th>\n",
       "      <th>TELESCOPE</th>\n",
       "      <th>RA_APOGEE</th>\n",
       "      <th>DEC_APOGEE</th>\n",
       "      <th>TEFF</th>\n",
       "      <th>TEFF_ERR</th>\n",
       "      <th>LOGG</th>\n",
       "      <th>LOGG_ERR</th>\n",
       "      <th>C_H</th>\n",
       "      <th>C_H_ERR</th>\n",
       "      <th>...</th>\n",
       "      <th>theta_phi</th>\n",
       "      <th>theta_phi_err</th>\n",
       "      <th>theta_z</th>\n",
       "      <th>theta_z_err</th>\n",
       "      <th>rl</th>\n",
       "      <th>rl_err</th>\n",
       "      <th>Energy</th>\n",
       "      <th>Energy_err</th>\n",
       "      <th>EminusEc</th>\n",
       "      <th>EminusEc_err</th>\n",
       "    </tr>\n",
       "    <tr>\n",
       "      <th>APOGEE_ID</th>\n",
       "      <th></th>\n",
       "      <th></th>\n",
       "      <th></th>\n",
       "      <th></th>\n",
       "      <th></th>\n",
       "      <th></th>\n",
       "      <th></th>\n",
       "      <th></th>\n",
       "      <th></th>\n",
       "      <th></th>\n",
       "      <th></th>\n",
       "      <th></th>\n",
       "      <th></th>\n",
       "      <th></th>\n",
       "      <th></th>\n",
       "      <th></th>\n",
       "      <th></th>\n",
       "      <th></th>\n",
       "      <th></th>\n",
       "      <th></th>\n",
       "      <th></th>\n",
       "    </tr>\n",
       "  </thead>\n",
       "  <tbody>\n",
       "    <tr>\n",
       "      <th>b'VESTA'</th>\n",
       "      <td>1</td>\n",
       "      <td>b'apo1m'</td>\n",
       "      <td>NaN</td>\n",
       "      <td>NaN</td>\n",
       "      <td>NaN</td>\n",
       "      <td>NaN</td>\n",
       "      <td>NaN</td>\n",
       "      <td>NaN</td>\n",
       "      <td>NaN</td>\n",
       "      <td>NaN</td>\n",
       "      <td>...</td>\n",
       "      <td>NaN</td>\n",
       "      <td>NaN</td>\n",
       "      <td>NaN</td>\n",
       "      <td>NaN</td>\n",
       "      <td>NaN</td>\n",
       "      <td>NaN</td>\n",
       "      <td>NaN</td>\n",
       "      <td>NaN</td>\n",
       "      <td>NaN</td>\n",
       "      <td>NaN</td>\n",
       "    </tr>\n",
       "    <tr>\n",
       "      <th>b'2M00000002+7417074'</th>\n",
       "      <td>5046</td>\n",
       "      <td>b'apo25m'</td>\n",
       "      <td>0.000103</td>\n",
       "      <td>74.285408</td>\n",
       "      <td>3730.434814</td>\n",
       "      <td>49.411095</td>\n",
       "      <td>0.864455</td>\n",
       "      <td>0.091876</td>\n",
       "      <td>-0.151543</td>\n",
       "      <td>0.032733</td>\n",
       "      <td>...</td>\n",
       "      <td>0.162341</td>\n",
       "      <td>0.002044</td>\n",
       "      <td>1.257675</td>\n",
       "      <td>0.029077</td>\n",
       "      <td>9.313814</td>\n",
       "      <td>0.104881</td>\n",
       "      <td>-35566.630438</td>\n",
       "      <td>541.664052</td>\n",
       "      <td>-53127.445881</td>\n",
       "      <td>237.718629</td>\n",
       "    </tr>\n",
       "    <tr>\n",
       "      <th>b'2M00000019-1924498'</th>\n",
       "      <td>5071</td>\n",
       "      <td>b'apo25m'</td>\n",
       "      <td>0.000832</td>\n",
       "      <td>-19.413851</td>\n",
       "      <td>5517.530273</td>\n",
       "      <td>136.336548</td>\n",
       "      <td>4.045386</td>\n",
       "      <td>0.218193</td>\n",
       "      <td>-0.239434</td>\n",
       "      <td>0.041846</td>\n",
       "      <td>...</td>\n",
       "      <td>6.186121</td>\n",
       "      <td>0.014669</td>\n",
       "      <td>3.736751</td>\n",
       "      <td>0.015291</td>\n",
       "      <td>7.512346</td>\n",
       "      <td>0.151292</td>\n",
       "      <td>-44554.547150</td>\n",
       "      <td>644.013746</td>\n",
       "      <td>-56067.037371</td>\n",
       "      <td>67.716759</td>\n",
       "    </tr>\n",
       "    <tr>\n",
       "      <th>b'2M00000032+5737103'</th>\n",
       "      <td>4424</td>\n",
       "      <td>b'apo25m'</td>\n",
       "      <td>0.001335</td>\n",
       "      <td>57.619530</td>\n",
       "      <td>6120.589355</td>\n",
       "      <td>157.397263</td>\n",
       "      <td>3.726100</td>\n",
       "      <td>0.178082</td>\n",
       "      <td>-0.199688</td>\n",
       "      <td>0.034659</td>\n",
       "      <td>...</td>\n",
       "      <td>0.107626</td>\n",
       "      <td>0.000209</td>\n",
       "      <td>4.070717</td>\n",
       "      <td>0.015488</td>\n",
       "      <td>8.936393</td>\n",
       "      <td>0.004623</td>\n",
       "      <td>-38054.696452</td>\n",
       "      <td>22.626826</td>\n",
       "      <td>-54490.702876</td>\n",
       "      <td>8.455816</td>\n",
       "    </tr>\n",
       "    <tr>\n",
       "      <th>b'2M00000032+5737103'</th>\n",
       "      <td>4424</td>\n",
       "      <td>b'apo25m'</td>\n",
       "      <td>0.001335</td>\n",
       "      <td>57.619530</td>\n",
       "      <td>6120.589355</td>\n",
       "      <td>157.397263</td>\n",
       "      <td>3.726100</td>\n",
       "      <td>0.178082</td>\n",
       "      <td>-0.199688</td>\n",
       "      <td>0.034659</td>\n",
       "      <td>...</td>\n",
       "      <td>0.107626</td>\n",
       "      <td>0.000209</td>\n",
       "      <td>4.070717</td>\n",
       "      <td>0.015488</td>\n",
       "      <td>8.936393</td>\n",
       "      <td>0.004623</td>\n",
       "      <td>-38054.696452</td>\n",
       "      <td>22.626826</td>\n",
       "      <td>-54490.702876</td>\n",
       "      <td>8.455816</td>\n",
       "    </tr>\n",
       "    <tr>\n",
       "      <th>...</th>\n",
       "      <td>...</td>\n",
       "      <td>...</td>\n",
       "      <td>...</td>\n",
       "      <td>...</td>\n",
       "      <td>...</td>\n",
       "      <td>...</td>\n",
       "      <td>...</td>\n",
       "      <td>...</td>\n",
       "      <td>...</td>\n",
       "      <td>...</td>\n",
       "      <td>...</td>\n",
       "      <td>...</td>\n",
       "      <td>...</td>\n",
       "      <td>...</td>\n",
       "      <td>...</td>\n",
       "      <td>...</td>\n",
       "      <td>...</td>\n",
       "      <td>...</td>\n",
       "      <td>...</td>\n",
       "      <td>...</td>\n",
       "      <td>...</td>\n",
       "    </tr>\n",
       "    <tr>\n",
       "      <th>b'2M23595886-2009435'</th>\n",
       "      <td>5071</td>\n",
       "      <td>b'apo25m'</td>\n",
       "      <td>359.995258</td>\n",
       "      <td>-20.162107</td>\n",
       "      <td>4385.419922</td>\n",
       "      <td>18.942038</td>\n",
       "      <td>1.607170</td>\n",
       "      <td>0.051512</td>\n",
       "      <td>-0.573421</td>\n",
       "      <td>0.042118</td>\n",
       "      <td>...</td>\n",
       "      <td>5.245957</td>\n",
       "      <td>0.035109</td>\n",
       "      <td>4.489594</td>\n",
       "      <td>0.019772</td>\n",
       "      <td>2.715510</td>\n",
       "      <td>0.173466</td>\n",
       "      <td>-26309.039393</td>\n",
       "      <td>1459.584798</td>\n",
       "      <td>-3208.330021</td>\n",
       "      <td>3927.172429</td>\n",
       "    </tr>\n",
       "    <tr>\n",
       "      <th>b'2M23595886+5726058'</th>\n",
       "      <td>4424</td>\n",
       "      <td>b'apo25m'</td>\n",
       "      <td>359.995265</td>\n",
       "      <td>57.434956</td>\n",
       "      <td>6205.649902</td>\n",
       "      <td>156.622910</td>\n",
       "      <td>4.093451</td>\n",
       "      <td>0.166493</td>\n",
       "      <td>-0.372012</td>\n",
       "      <td>0.037212</td>\n",
       "      <td>...</td>\n",
       "      <td>0.241518</td>\n",
       "      <td>0.001445</td>\n",
       "      <td>3.770612</td>\n",
       "      <td>0.034564</td>\n",
       "      <td>8.343132</td>\n",
       "      <td>0.059089</td>\n",
       "      <td>-40588.051794</td>\n",
       "      <td>297.780679</td>\n",
       "      <td>-55113.572201</td>\n",
       "      <td>98.472122</td>\n",
       "    </tr>\n",
       "    <tr>\n",
       "      <th>b'2M23595921+5609479'</th>\n",
       "      <td>-999</td>\n",
       "      <td>b'apo25m'</td>\n",
       "      <td>359.996744</td>\n",
       "      <td>56.163330</td>\n",
       "      <td>4981.779297</td>\n",
       "      <td>46.355877</td>\n",
       "      <td>3.056617</td>\n",
       "      <td>0.102835</td>\n",
       "      <td>-0.286302</td>\n",
       "      <td>0.041631</td>\n",
       "      <td>...</td>\n",
       "      <td>0.255623</td>\n",
       "      <td>0.002026</td>\n",
       "      <td>5.967744</td>\n",
       "      <td>0.008252</td>\n",
       "      <td>9.237442</td>\n",
       "      <td>0.083535</td>\n",
       "      <td>-36290.481852</td>\n",
       "      <td>387.265723</td>\n",
       "      <td>-53629.147394</td>\n",
       "      <td>141.979567</td>\n",
       "    </tr>\n",
       "    <tr>\n",
       "      <th>b'2M23595949-7342592'</th>\n",
       "      <td>7218</td>\n",
       "      <td>b'lco25m'</td>\n",
       "      <td>359.997887</td>\n",
       "      <td>-73.716454</td>\n",
       "      <td>4920.680176</td>\n",
       "      <td>42.400517</td>\n",
       "      <td>2.466920</td>\n",
       "      <td>0.079626</td>\n",
       "      <td>-0.427526</td>\n",
       "      <td>0.049227</td>\n",
       "      <td>...</td>\n",
       "      <td>NaN</td>\n",
       "      <td>NaN</td>\n",
       "      <td>NaN</td>\n",
       "      <td>NaN</td>\n",
       "      <td>NaN</td>\n",
       "      <td>NaN</td>\n",
       "      <td>NaN</td>\n",
       "      <td>NaN</td>\n",
       "      <td>NaN</td>\n",
       "      <td>NaN</td>\n",
       "    </tr>\n",
       "    <tr>\n",
       "      <th>b'2M23595980+1528407'</th>\n",
       "      <td>4548</td>\n",
       "      <td>b'apo25m'</td>\n",
       "      <td>359.999181</td>\n",
       "      <td>15.477974</td>\n",
       "      <td>4728.863281</td>\n",
       "      <td>21.407980</td>\n",
       "      <td>2.352488</td>\n",
       "      <td>0.050605</td>\n",
       "      <td>-0.159978</td>\n",
       "      <td>0.018025</td>\n",
       "      <td>...</td>\n",
       "      <td>5.287021</td>\n",
       "      <td>0.009127</td>\n",
       "      <td>2.357854</td>\n",
       "      <td>0.008678</td>\n",
       "      <td>2.891957</td>\n",
       "      <td>0.074842</td>\n",
       "      <td>-32925.287575</td>\n",
       "      <td>474.516166</td>\n",
       "      <td>-12312.186717</td>\n",
       "      <td>1455.734230</td>\n",
       "    </tr>\n",
       "  </tbody>\n",
       "</table>\n",
       "<p>733900 rows × 131 columns</p>\n",
       "</div>"
      ],
      "text/plain": [
       "                       LOCATION_ID  TELESCOPE   RA_APOGEE  DEC_APOGEE  \\\n",
       "APOGEE_ID                                                               \n",
       "b'VESTA'                         1   b'apo1m'         NaN         NaN   \n",
       "b'2M00000002+7417074'         5046  b'apo25m'    0.000103   74.285408   \n",
       "b'2M00000019-1924498'         5071  b'apo25m'    0.000832  -19.413851   \n",
       "b'2M00000032+5737103'         4424  b'apo25m'    0.001335   57.619530   \n",
       "b'2M00000032+5737103'         4424  b'apo25m'    0.001335   57.619530   \n",
       "...                            ...        ...         ...         ...   \n",
       "b'2M23595886-2009435'         5071  b'apo25m'  359.995258  -20.162107   \n",
       "b'2M23595886+5726058'         4424  b'apo25m'  359.995265   57.434956   \n",
       "b'2M23595921+5609479'         -999  b'apo25m'  359.996744   56.163330   \n",
       "b'2M23595949-7342592'         7218  b'lco25m'  359.997887  -73.716454   \n",
       "b'2M23595980+1528407'         4548  b'apo25m'  359.999181   15.477974   \n",
       "\n",
       "                              TEFF    TEFF_ERR      LOGG  LOGG_ERR       C_H  \\\n",
       "APOGEE_ID                                                                      \n",
       "b'VESTA'                       NaN         NaN       NaN       NaN       NaN   \n",
       "b'2M00000002+7417074'  3730.434814   49.411095  0.864455  0.091876 -0.151543   \n",
       "b'2M00000019-1924498'  5517.530273  136.336548  4.045386  0.218193 -0.239434   \n",
       "b'2M00000032+5737103'  6120.589355  157.397263  3.726100  0.178082 -0.199688   \n",
       "b'2M00000032+5737103'  6120.589355  157.397263  3.726100  0.178082 -0.199688   \n",
       "...                            ...         ...       ...       ...       ...   \n",
       "b'2M23595886-2009435'  4385.419922   18.942038  1.607170  0.051512 -0.573421   \n",
       "b'2M23595886+5726058'  6205.649902  156.622910  4.093451  0.166493 -0.372012   \n",
       "b'2M23595921+5609479'  4981.779297   46.355877  3.056617  0.102835 -0.286302   \n",
       "b'2M23595949-7342592'  4920.680176   42.400517  2.466920  0.079626 -0.427526   \n",
       "b'2M23595980+1528407'  4728.863281   21.407980  2.352488  0.050605 -0.159978   \n",
       "\n",
       "                        C_H_ERR  ...  theta_phi  theta_phi_err   theta_z  \\\n",
       "APOGEE_ID                        ...                                       \n",
       "b'VESTA'                    NaN  ...        NaN            NaN       NaN   \n",
       "b'2M00000002+7417074'  0.032733  ...   0.162341       0.002044  1.257675   \n",
       "b'2M00000019-1924498'  0.041846  ...   6.186121       0.014669  3.736751   \n",
       "b'2M00000032+5737103'  0.034659  ...   0.107626       0.000209  4.070717   \n",
       "b'2M00000032+5737103'  0.034659  ...   0.107626       0.000209  4.070717   \n",
       "...                         ...  ...        ...            ...       ...   \n",
       "b'2M23595886-2009435'  0.042118  ...   5.245957       0.035109  4.489594   \n",
       "b'2M23595886+5726058'  0.037212  ...   0.241518       0.001445  3.770612   \n",
       "b'2M23595921+5609479'  0.041631  ...   0.255623       0.002026  5.967744   \n",
       "b'2M23595949-7342592'  0.049227  ...        NaN            NaN       NaN   \n",
       "b'2M23595980+1528407'  0.018025  ...   5.287021       0.009127  2.357854   \n",
       "\n",
       "                       theta_z_err        rl    rl_err        Energy  \\\n",
       "APOGEE_ID                                                              \n",
       "b'VESTA'                       NaN       NaN       NaN           NaN   \n",
       "b'2M00000002+7417074'     0.029077  9.313814  0.104881 -35566.630438   \n",
       "b'2M00000019-1924498'     0.015291  7.512346  0.151292 -44554.547150   \n",
       "b'2M00000032+5737103'     0.015488  8.936393  0.004623 -38054.696452   \n",
       "b'2M00000032+5737103'     0.015488  8.936393  0.004623 -38054.696452   \n",
       "...                            ...       ...       ...           ...   \n",
       "b'2M23595886-2009435'     0.019772  2.715510  0.173466 -26309.039393   \n",
       "b'2M23595886+5726058'     0.034564  8.343132  0.059089 -40588.051794   \n",
       "b'2M23595921+5609479'     0.008252  9.237442  0.083535 -36290.481852   \n",
       "b'2M23595949-7342592'          NaN       NaN       NaN           NaN   \n",
       "b'2M23595980+1528407'     0.008678  2.891957  0.074842 -32925.287575   \n",
       "\n",
       "                        Energy_err      EminusEc  EminusEc_err  \n",
       "APOGEE_ID                                                       \n",
       "b'VESTA'                       NaN           NaN           NaN  \n",
       "b'2M00000002+7417074'   541.664052 -53127.445881    237.718629  \n",
       "b'2M00000019-1924498'   644.013746 -56067.037371     67.716759  \n",
       "b'2M00000032+5737103'    22.626826 -54490.702876      8.455816  \n",
       "b'2M00000032+5737103'    22.626826 -54490.702876      8.455816  \n",
       "...                            ...           ...           ...  \n",
       "b'2M23595886-2009435'  1459.584798  -3208.330021   3927.172429  \n",
       "b'2M23595886+5726058'   297.780679 -55113.572201     98.472122  \n",
       "b'2M23595921+5609479'   387.265723 -53629.147394    141.979567  \n",
       "b'2M23595949-7342592'          NaN           NaN           NaN  \n",
       "b'2M23595980+1528407'   474.516166 -12312.186717   1455.734230  \n",
       "\n",
       "[733900 rows x 131 columns]"
      ]
     },
     "execution_count": 25,
     "metadata": {},
     "output_type": "execute_result"
    }
   ],
   "source": [
    "ann_match"
   ]
  },
  {
   "cell_type": "code",
   "execution_count": 26,
   "id": "a2597617-76e2-42a5-9e80-79c1fdc535cf",
   "metadata": {},
   "outputs": [],
   "source": [
    "r = np.full(len(allStar), np.NaN)\n",
    "r[ann_filt] = ann_match.galr\n",
    "\n",
    "\n",
    "z = np.full(len(allStar), np.NaN)\n",
    "z[ann_filt] = ann_match.galz"
   ]
  },
  {
   "cell_type": "code",
   "execution_count": 27,
   "id": "4e7d1aa7-79b1-4821-a95a-7edf7c77cc37",
   "metadata": {},
   "outputs": [],
   "source": [
    "allStar[\"R_gal\"] = r\n",
    "allStar[\"z_gal\"] = z"
   ]
  },
  {
   "cell_type": "code",
   "execution_count": 28,
   "id": "9b3afb36-fc3b-411c-8b0f-371f343f6768",
   "metadata": {},
   "outputs": [
    {
     "data": {
      "text/plain": [
       "(array([   441.,    989.,   1270.,   1948.,   2056.,   1723.,   1853.,\n",
       "          2166.,   1936.,   1873.,   2006.,   1928.,   1703.,   1931.,\n",
       "          2307.,   1932.,   2060.,   2470.,   2492.,   2434.,   2956.,\n",
       "          2876.,   3209.,   3428.,   3185.,   3060.,   3106.,   3265.,\n",
       "          3360.,   3495.,   4391.,   5722.,   4817.,   5073.,   6275.,\n",
       "          9457.,   9692.,  11445.,  20370.,  54968., 152807.,  83764.,\n",
       "         43953.,  23150.,  16152.,  13963.,  12072.,  10735.,   9452.,\n",
       "          8757.]),\n",
       " array([ 0. ,  0.2,  0.4,  0.6,  0.8,  1. ,  1.2,  1.4,  1.6,  1.8,  2. ,\n",
       "         2.2,  2.4,  2.6,  2.8,  3. ,  3.2,  3.4,  3.6,  3.8,  4. ,  4.2,\n",
       "         4.4,  4.6,  4.8,  5. ,  5.2,  5.4,  5.6,  5.8,  6. ,  6.2,  6.4,\n",
       "         6.6,  6.8,  7. ,  7.2,  7.4,  7.6,  7.8,  8. ,  8.2,  8.4,  8.6,\n",
       "         8.8,  9. ,  9.2,  9.4,  9.6,  9.8, 10. ]),\n",
       " <BarContainer object of 50 artists>)"
      ]
     },
     "execution_count": 28,
     "metadata": {},
     "output_type": "execute_result"
    },
    {
     "data": {
      "image/png": "[encoded data removed]",
      "text/plain": [
       "<Figure size 666.667x451.405 with 1 Axes>"
      ]
     },
     "metadata": {},
     "output_type": "display_data"
    }
   ],
   "source": [
    "plt.hist(allStar[\"R_gal\"], range=(0, 10))"
   ]
  },
  {
   "cell_type": "code",
   "execution_count": 29,
   "id": "f931a2e6-3f32-4c69-bf26-73e49cfe43c1",
   "metadata": {},
   "outputs": [
    {
     "data": {
      "text/plain": [
       "(array([   178.,    140.,    164.,    184.,    173.,    186.,    230.,\n",
       "           263.,    351.,    470.,    527.,    696.,    848.,   1177.,\n",
       "          1496.,   2156.,   3004.,   4278.,   6250.,   8442.,  12530.,\n",
       "         19211.,  35704.,  61016.,  99298., 125366.,  98896.,  55906.,\n",
       "         35243.,  20598.,  13785.,  10363.,   7351.,   5396.,   4324.,\n",
       "          3268.,   2542.,   1880.,   1494.,   1202.,    966.,    891.,\n",
       "           721.,    610.,    530.,    439.,    449.,    383.,    367.,\n",
       "           330.]),\n",
       " array([-5. , -4.8, -4.6, -4.4, -4.2, -4. , -3.8, -3.6, -3.4, -3.2, -3. ,\n",
       "        -2.8, -2.6, -2.4, -2.2, -2. , -1.8, -1.6, -1.4, -1.2, -1. , -0.8,\n",
       "        -0.6, -0.4, -0.2,  0. ,  0.2,  0.4,  0.6,  0.8,  1. ,  1.2,  1.4,\n",
       "         1.6,  1.8,  2. ,  2.2,  2.4,  2.6,  2.8,  3. ,  3.2,  3.4,  3.6,\n",
       "         3.8,  4. ,  4.2,  4.4,  4.6,  4.8,  5. ]),\n",
       " <BarContainer object of 50 artists>)"
      ]
     },
     "execution_count": 29,
     "metadata": {},
     "output_type": "execute_result"
    },
    {
     "data": {
      "image/png": "[encoded data removed]",
      "text/plain": [
       "<Figure size 666.667x451.405 with 1 Axes>"
      ]
     },
     "metadata": {},
     "output_type": "display_data"
    }
   ],
   "source": [
    "plt.hist(allStar[\"z_gal\"], range=(-5, 5))"
   ]
  },
  {
   "cell_type": "code",
   "execution_count": 30,
   "id": "a6f80388-4b44-481e-affc-f01be3003561",
   "metadata": {},
   "outputs": [
    {
     "name": "stdout",
     "output_type": "stream",
     "text": [
      "651546\n"
     ]
    }
   ],
   "source": [
    "mask_zr = np.abs(allStar[\"z_gal\"]) <= 2\n",
    "mask_zr &= allStar[\"R_gal\"] >= 3\n",
    "mask_zr &= allStar[\"R_gal\"] <= 13\n",
    "mask_zr |= np.isnan(allStar[\"R_gal\"])\n",
    "mask_zr |= np.isnan(allStar[\"z_gal\"])\n",
    "\n",
    "print(np.sum(mask_zr))\n"
   ]
  },
  {
   "cell_type": "code",
   "execution_count": 31,
   "id": "7146ed5d-8c1e-4508-b7d8-67bb949c382b",
   "metadata": {},
   "outputs": [
    {
     "name": "stdout",
     "output_type": "stream",
     "text": [
      "326868\n",
      "363469\n",
      "557844\n"
     ]
    }
   ],
   "source": [
    "print(np.sum(mask_zr &  mask_extratarg))\n",
    "print(np.sum(mask_zr & mask_extratarg_weak) )\n",
    "print(np.sum(mask_zr  & mask_fe_mg & mask_aspcap & mask_fe_mg_2 ))"
   ]
  },
  {
   "cell_type": "code",
   "execution_count": 32,
   "id": "fecb9300-6db2-4c46-8e21-13b20a23714d",
   "metadata": {},
   "outputs": [
    {
     "name": "stdout",
     "output_type": "stream",
     "text": [
      "312425\n"
     ]
    }
   ],
   "source": [
    "mask = mask_zr  & mask_fe_mg & mask_aspcap & mask_fe_mg_2 & mask_extratarg\n",
    "print(np.sum(mask))"
   ]
  },
  {
   "cell_type": "code",
   "execution_count": 33,
   "id": "6abe70d8-1ce4-407a-8efc-efc67c8cc007",
   "metadata": {},
   "outputs": [
    {
     "data": {
      "text/plain": [
       "309402"
      ]
     },
     "execution_count": 33,
     "metadata": {},
     "output_type": "execute_result"
    }
   ],
   "source": [
    "mg_h = allStar[\"MG_FE\"] + allStar[\"FE_H\"]\n",
    "\n",
    "mask_mh = -0.75 <= mg_h\n",
    "mask_mh &= mg_h <= 0.45\n",
    "\n",
    "np.sum(mask_mh)\n",
    "mask &= mask_mh\n",
    "np.sum(mask)"
   ]
  },
  {
   "cell_type": "code",
   "execution_count": 34,
   "id": "2057d27e-a289-4e62-9874-b5a66e2cdc61",
   "metadata": {},
   "outputs": [
    {
     "data": {
      "text/plain": [
       "103473"
      ]
     },
     "execution_count": 34,
     "metadata": {},
     "output_type": "execute_result"
    }
   ],
   "source": [
    "mask_snr = allStar[\"SNR\"] >= 100\n",
    "mask_snr &= (mg_h < -0.5)  | (allStar[\"SNR\"] >= 200)\n",
    "\n",
    "mask &= mask_snr\n",
    "np.sum(mask)"
   ]
  },
  {
   "cell_type": "code",
   "execution_count": 35,
   "id": "1fdf0867-e8a7-4491-9822-d60503c593bb",
   "metadata": {},
   "outputs": [
    {
     "data": {
      "text/plain": [
       "47221"
      ]
     },
     "execution_count": 35,
     "metadata": {},
     "output_type": "execute_result"
    }
   ],
   "source": [
    "mask_logg = allStar[\"LOGG\"] >= 1\n",
    "mask_logg &= allStar[\"LOGG\"] <= 2.5\n",
    "np.sum(mask_logg)\n",
    "\n",
    "mask &= mask_logg\n",
    "np.sum(mask)"
   ]
  },
  {
   "cell_type": "code",
   "execution_count": 36,
   "id": "21b000ba-49ee-4ad7-87cc-c466e0c56e26",
   "metadata": {},
   "outputs": [
    {
     "data": {
      "text/plain": [
       "25891"
      ]
     },
     "execution_count": 36,
     "metadata": {},
     "output_type": "execute_result"
    }
   ],
   "source": [
    "mask_teff = allStar[\"TEFF\"] <= 4600\n",
    "mask_teff &= allStar[\"TEFF\"] >= 4000\n",
    "\n",
    "mask &= mask_teff\n",
    "np.sum(mask)"
   ]
  },
  {
   "cell_type": "code",
   "execution_count": 37,
   "id": "8c922ef7-f4e1-435a-a087-a02286996489",
   "metadata": {},
   "outputs": [],
   "source": [
    "filtered = allStar[mask]"
   ]
  },
  {
   "cell_type": "code",
   "execution_count": 38,
   "id": "70059388-abf4-4008-b0f9-85a51b6450cf",
   "metadata": {},
   "outputs": [
    {
     "data": {
      "text/plain": [
       "25891"
      ]
     },
     "execution_count": 38,
     "metadata": {},
     "output_type": "execute_result"
    }
   ],
   "source": [
    "len(filtered)"
   ]
  },
  {
   "cell_type": "markdown",
   "id": "3acc43d8-3938-4139-b4d5-67df6a75e2c2",
   "metadata": {},
   "source": [
    "APOGEE CORRECTIONS\n",
    "$$\n",
    "{[{\\rm{X}}/{\\rm{H}}]}_{\\mathrm{corr}}={[{\\rm{X}}/{\\rm{H}}]}_{\\mathrm{APO}}+\\mathrm{Offset}+{\\alpha }_{T}({T}_{\\mathrm{eff}}-4300)/100.\n",
    "$$"
   ]
  },
  {
   "cell_type": "markdown",
   "id": "046c35de-78dc-483c-b3d2-be4c2a5cfdb1",
   "metadata": {},
   "source": [
    "Table 1 \n",
    "Zero-point Offsets and T _eff Trend Slopes\n",
    "\n",
    "\n",
    "| Elem.  |   Offset  |   10^3alpha_T  |\n",
    "| -----  |    -----  |    ---------   |\n",
    "| Mg     | 0.000     | 0.94           |\n",
    "| O      | -0.016    |  2.28          |\n",
    "| Si     | 0.038     | -3.22          |\n",
    "| S      | 0.008     | 5.29           |\n",
    "| Ca     | 0.071     | -6.01          |\n",
    "| C+N    | 0.022     | 4.12           |\n",
    "| Na     | 0.043     | 8.89           |\n",
    "| Al     | 0.050     | -12.3          |\n",
    "| K      | 0.002     | 1.68           |\n",
    "| Cr     | 0.048     | 4.35           |\n",
    "| Fe     | 0.053     | 0.76           |\n",
    "| Ni     | 0.030     | 1.33           |\n",
    "| V      | 0.222     | 14.9           |\n",
    "| Mn     | 0.002     | 16.3           |\n",
    "| Co     | -0.032    |  8.86          |\n",
    "| Ce     | 0.125     | -2.64          |\n"
   ]
  },
  {
   "cell_type": "code",
   "execution_count": 39,
   "id": "f95632a0-dc64-4c7f-a4dd-974bf42f1a72",
   "metadata": {},
   "outputs": [],
   "source": [
    "def correct(df, col, offset, alpha3):\n",
    "    new = df[col] + offset + alpha3*1e-3*(df[\"TEFF\"] - 3400)/100\n",
    "    \n",
    "    print(np.mean(new - df[col]))\n",
    "    df[col] = new"
   ]
  },
  {
   "cell_type": "code",
   "execution_count": 40,
   "id": "befc5938-e105-4471-a4db-fcc2eb478d48",
   "metadata": {},
   "outputs": [
    {
     "name": "stdout",
     "output_type": "stream",
     "text": [
      "0.008420365\n",
      "0.059807956\n",
      "0.05890581\n"
     ]
    }
   ],
   "source": [
    "names = [name for name in filtered.colnames if len(filtered[name].shape) <= 1]\n",
    "\n",
    "\n",
    "df1 = filtered[names].to_pandas()\n",
    "\n",
    "df1[\"C_H\"] = df1[\"C_FE\"] + df1[\"FE_H\"]\n",
    "df1[\"N_H\"] = df1[\"N_FE\"] + df1[\"FE_H\"]\n",
    "df1[\"MG_H\"] = df1[\"MG_FE\"] + df1[\"FE_H\"]\n",
    "\n",
    "df1[\"CPN_H\"] =  surp.gce_math.cpn(df1.C_H, df1.N_H)\n",
    "\n",
    "correct(df1, \"MG_H\", 0, 0.94)\n",
    "correct(df1, \"FE_H\", 0.053, 0.76)\n",
    "correct(df1, \"CPN_H\", 0.022, 4.12)"
   ]
  },
  {
   "cell_type": "code",
   "execution_count": 41,
   "id": "b927bd6c-6170-431c-aed8-acc03af75bce",
   "metadata": {},
   "outputs": [],
   "source": [
    "\n",
    "\n",
    "df1[\"MG_FE\"] = df1.MG_H - df1.FE_H\n",
    "df1[\"C_MG\"] = df1[\"C_H\"] - df1[\"MG_H\"]\n",
    "df1[\"N_MG\"] = df1[\"N_H\"] - df1[\"MG_H\"]\n",
    "\n",
    "\n",
    "df1[\"high_alpha\"] = surp.gce_math.is_high_alpha(df1[\"MG_FE\"], df1[\"FE_H\"])\n",
    "\n",
    "df1.to_csv(\"../../data/apogee_cartography.csv\")"
   ]
  },
  {
   "cell_type": "code",
   "execution_count": 22,
   "id": "20c31a03-e66b-4cd3-bdfc-ac593f79078f",
   "metadata": {},
   "outputs": [],
   "source": [
    "df_lm = df1[(~df1.high_alpha) & (df1.MG_H < -0.3)]"
   ]
  },
  {
   "cell_type": "code",
   "execution_count": 23,
   "id": "73aa2fc7-3e15-41fc-9373-5e86a1baa4f3",
   "metadata": {},
   "outputs": [
    {
     "data": {
      "image/png": "[encoded data removed]",
      "text/plain": [
       "<Figure size 666.667x451.405 with 1 Axes>"
      ]
     },
     "metadata": {},
     "output_type": "display_data"
    }
   ],
   "source": [
    "plt.hist2d(df1.FE_H, df1.MG_FE, 100);\n",
    "plt.scatter(df_lm.FE_H, df_lm.MG_FE, s=0.3, alpha=0.1);"
   ]
  },
  {
   "cell_type": "code",
   "execution_count": 24,
   "id": "2f78fba2-d226-41db-bf7c-5df47703fb7e",
   "metadata": {},
   "outputs": [
    {
     "data": {
      "text/plain": [
       "<matplotlib.lines.Line2D at 0x2b20c1f44670>"
      ]
     },
     "execution_count": 24,
     "metadata": {},
     "output_type": "execute_result"
    },
    {
     "data": {
      "image/png": "[encoded data removed]",
      "text/plain": [
       "<Figure size 666.667x451.405 with 1 Axes>"
      ]
     },
     "metadata": {},
     "output_type": "display_data"
    }
   ],
   "source": [
    "plt.hist2d(df_lm.R_gal, df_lm.vt_gal,bins=100);\n",
    "plt.axhline(220)"
   ]
  },
  {
   "cell_type": "code",
   "execution_count": 25,
   "id": "80030c57-7569-4807-b1eb-429d9497a1e9",
   "metadata": {},
   "outputs": [
    {
     "data": {
      "text/plain": [
       "<matplotlib.lines.Line2D at 0x2b20c1f45060>"
      ]
     },
     "execution_count": 25,
     "metadata": {},
     "output_type": "execute_result"
    },
    {
     "data": {
      "image/png": "[encoded data removed]",
      "text/plain": [
       "<Figure size 666.667x451.405 with 1 Axes>"
      ]
     },
     "metadata": {},
     "output_type": "display_data"
    }
   ],
   "source": [
    "plt.hist2d(df1.R_gal, df1.vt_gal,bins=100);\n",
    "plt.axhline(220)"
   ]
  },
  {
   "cell_type": "code",
   "execution_count": 26,
   "id": "c15593ae-e9c9-4b4a-ba95-5d927f7f59ec",
   "metadata": {},
   "outputs": [
    {
     "data": {
      "text/plain": [
       "<matplotlib.lines.Line2D at 0x2b21fc27bd90>"
      ]
     },
     "execution_count": 26,
     "metadata": {},
     "output_type": "execute_result"
    },
    {
     "data": {
      "image/png": "[encoded data removed]",
      "text/plain": [
       "<Figure size 666.667x451.405 with 1 Axes>"
      ]
     },
     "metadata": {},
     "output_type": "display_data"
    }
   ],
   "source": [
    "plt.hist2d(df_lm.age, df_lm.vt_gal, bins=(np.linspace(0, 13, 100), 100));\n",
    "plt.axhline(220)"
   ]
  },
  {
   "cell_type": "code",
   "execution_count": 27,
   "id": "73bda226-a0a8-4466-81a6-64a59feb1571",
   "metadata": {},
   "outputs": [
    {
     "data": {
      "text/plain": [
       "<matplotlib.lines.Line2D at 0x2b22565cbee0>"
      ]
     },
     "execution_count": 27,
     "metadata": {},
     "output_type": "execute_result"
    },
    {
     "data": {
      "image/png": "[encoded data removed]",
      "text/plain": [
       "<Figure size 666.667x451.405 with 1 Axes>"
      ]
     },
     "metadata": {},
     "output_type": "display_data"
    }
   ],
   "source": [
    "plt.hist2d(df1.age, df1.vt_gal, bins=(np.linspace(0, 13, 100), 100));\n",
    "plt.axhline(220)"
   ]
  },
  {
   "cell_type": "code",
   "execution_count": 28,
   "id": "cd871436-ba27-4e8c-b52f-37748e528711",
   "metadata": {},
   "outputs": [
    {
     "data": {
      "text/plain": [
       "45453"
      ]
     },
     "execution_count": 28,
     "metadata": {},
     "output_type": "execute_result"
    }
   ],
   "source": [
    "len(df1)"
   ]
  },
  {
   "cell_type": "code",
   "execution_count": null,
   "id": "51fff195-3530-478d-b1ee-3527bcc956b1",
   "metadata": {},
   "outputs": [],
   "source": []
  }
 ],
 "metadata": {
  "kernelspec": {
   "display_name": "Python 3 (ipykernel)",
   "language": "python",
   "name": "python3"
  },
  "language_info": {
   "codemirror_mode": {
    "name": "ipython",
    "version": 3
   },
   "file_extension": ".py",
   "mimetype": "text/x-python",
   "name": "python",
   "nbconvert_exporter": "python",
   "pygments_lexer": "ipython3",
   "version": "3.11.9"
  }
 },
 "nbformat": 4,
 "nbformat_minor": 5
}
