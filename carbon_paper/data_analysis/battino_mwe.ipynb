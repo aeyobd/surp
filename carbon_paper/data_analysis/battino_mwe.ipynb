{
 "cells": [
  {
   "cell_type": "code",
   "execution_count": null,
   "id": "0",
   "metadata": {},
   "outputs": [],
   "source": [
    "import pandas as pd\n",
    "import numpy as np\n",
    "import matplotlib.pyplot as plt"
   ]
  },
  {
   "cell_type": "code",
   "execution_count": null,
   "id": "1",
   "metadata": {},
   "outputs": [],
   "source": [
    "# import arya"
   ]
  },
  {
   "cell_type": "markdown",
   "id": "2",
   "metadata": {},
   "source": [
    "- P16: 10.26093/cds/vizier.22250024. Table 12. \n",
    "- R18 is available at DOI: 10.11570/18.0002"
   ]
  },
  {
   "cell_type": "code",
   "execution_count": null,
   "id": "3",
   "metadata": {},
   "outputs": [],
   "source": [
    "path = \"/astro/dboyea/source/VICE/vice/yields/agb/pignatari16/raw/\"\n",
    "datadir = \"../../data/\""
   ]
  },
  {
   "cell_type": "code",
   "execution_count": null,
   "id": "4",
   "metadata": {},
   "outputs": [],
   "source": [
    "molmass = pd.read_csv(datadir + \"nugrid/mesa_atomic_weights.txt\", sep=\"\\t\", comment = \"#\")\n",
    "molmass.element = molmass.element.str.title()\n",
    "molmass[\"atomic_number\"] = np.int64(np.arange(1, len(molmass)+1))\n",
    "\n",
    "molmass.set_index(\"element\", inplace=True)"
   ]
  },
  {
   "cell_type": "code",
   "execution_count": null,
   "id": "5",
   "metadata": {},
   "outputs": [],
   "source": [
    "solar_Z = pd.read_csv(datadir + \"nugrid/grevesse_noels_1993.txt\", comment=\"!\", sep=\"\\t\")\n",
    "solar_Z.element = solar_Z.element.str.strip()\n",
    "\n",
    "solar_Z.set_index(\"element\", inplace=True)"
   ]
  },
  {
   "cell_type": "code",
   "execution_count": null,
   "id": "6",
   "metadata": {},
   "outputs": [],
   "source": [
    "solar_Z[\"atomic_weight\"] = [molmass.atomic_weight[ele] for ele, r in solar_Z.iterrows()]"
   ]
  },
  {
   "cell_type": "code",
   "execution_count": null,
   "id": "7",
   "metadata": {},
   "outputs": [],
   "source": [
    "Ysun = 0.2485\n",
    "Zsun = 0.0179\n",
    "\n",
    "Y_H = 1 - (Zsun + Ysun) / molmass.atomic_weight[\"H\"]\n",
    "print(Y_H)\n",
    "Y_i = Y_H * 10**(solar_Z.A - 12)\n",
    "solar_Z[\"Z\"] = Y_i * solar_Z.atomic_weight\n",
    "\n",
    "print(sum(solar_Z.Z[2:]) - Zsun)\n",
    "solar_Z"
   ]
  },
  {
   "cell_type": "code",
   "execution_count": null,
   "id": "8",
   "metadata": {},
   "outputs": [],
   "source": [
    "solar_Z.Z / np.sum(solar_Z.Z)"
   ]
  },
  {
   "cell_type": "code",
   "execution_count": null,
   "id": "9",
   "metadata": {},
   "outputs": [],
   "source": [
    "b19_raw = pd.read_csv(path + \"/B19_2.txt\", sep=\"\\s+\", skiprows=2)"
   ]
  },
  {
   "cell_type": "code",
   "execution_count": null,
   "id": "10",
   "metadata": {},
   "outputs": [],
   "source": [
    "b19_raw[\"element\"] = b19_raw.Isotope.str.extract(r\"(\\w+)-\")"
   ]
  },
  {
   "cell_type": "code",
   "execution_count": null,
   "id": "11",
   "metadata": {},
   "outputs": [],
   "source": [
    "b19_ele = b19_raw.groupby(\"element\").sum()\n",
    "b19_ele[\"element\"] = b19_ele.index"
   ]
  },
  {
   "cell_type": "code",
   "execution_count": null,
   "id": "12",
   "metadata": {},
   "outputs": [],
   "source": [
    "b19_ele.loc[\"C\"]"
   ]
  },
  {
   "cell_type": "code",
   "execution_count": null,
   "id": "13",
   "metadata": {},
   "outputs": [],
   "source": [
    "np.sum(b19_raw[b19_raw.element == \"C\"], axis=0)"
   ]
  },
  {
   "cell_type": "code",
   "execution_count": null,
   "id": "14",
   "metadata": {},
   "outputs": [],
   "source": [
    "b19_raw[b19_raw.element == \"C\"]"
   ]
  },
  {
   "cell_type": "code",
   "execution_count": null,
   "id": "15",
   "metadata": {},
   "outputs": [],
   "source": [
    "b19_raw.element.unique()"
   ]
  },
  {
   "cell_type": "code",
   "execution_count": null,
   "id": "16",
   "metadata": {},
   "outputs": [],
   "source": [
    "B19 = b19_ele.melt(id_vars=[\"element\"],  var_name=\"model\", value_name=\"mass_yield\")\n",
    "\n",
    "B19[\"Z\"] = 0.\n",
    "B19[\"M\"] = 0.\n",
    "B19\n",
    "\n",
    "B19.loc[B19.model == \"m2z1m2\", \"M\"] = 2.\n",
    "B19.loc[B19.model == \"m2z1m2\", \"Z\"] = 0.01\n",
    "B19.loc[B19.model == \"m2z1m2\", \"Mrem\"] = 0.632\n",
    "\n",
    "B19.loc[B19.model == \"m3z1m2\", \"M\"] = 3.\n",
    "B19.loc[B19.model == \"m3z1m2\", \"Z\"] = 0.01\n",
    "B19.loc[B19.model == \"m3z1m2\", \"Mrem\"] = 0.661\n",
    "\n",
    "\n",
    "B19.loc[B19.model == \"m2z2m2\", \"M\"] = 2.\n",
    "B19.loc[B19.model == \"m2z2m2\", \"Z\"] = 0.02\n",
    "B19.loc[B19.model == \"m2z2m2\", \"Mrem\"] = 0.646\n",
    "\n",
    "\n",
    "B19.loc[B19.model == \"m3z2m2\", \"M\"] = 3.\n",
    "B19.loc[B19.model == \"m3z2m2\", \"Z\"] = 0.02\n",
    "B19.loc[B19.model == \"m3z2m2\", \"Mrem\"] = 0.656\t\n",
    "\n",
    "B19.loc[B19.model == \"m2z3m2\", \"M\"] = 2.\n",
    "B19.loc[B19.model == \"m2z3m2\", \"Z\"] = 0.03\n",
    "B19.loc[B19.model == \"m2z3m2\", \"Mrem\"] = 0.643\n",
    "\n",
    "\n",
    "B19.loc[B19.model == \"m3z3m2\", \"M\"] = 3.\n",
    "B19.loc[B19.model == \"m3z3m2\", \"Z\"] = 0.03\n",
    "B19.loc[B19.model == \"m3z3m2\", \"Mrem\"] = 0.650\n",
    "\n",
    "B19[B19.element == \"K\"]"
   ]
  },
  {
   "cell_type": "code",
   "execution_count": null,
   "id": "17",
   "metadata": {},
   "outputs": [],
   "source": [
    "elements = \"H, He, Li, B, C, N, O, F, Ne, Na, Mg, Al, Si, P, Pb, S, Cl, Ar, K, Ca, Sc, Ti, V, Cr, Mn, Fe, Co, Ni, Cu, Zn, Ga, Ge, As, Se, Br, Kr, Rb, Sr, Y, Zr, Nb, Mo, Ru, Rh, Pd, Ag, Cd, In, Sn, Sb, Te, I, Xe, Cs, Ba, La, Ce, Pr, Nd, Sm, Eu, Gd, Tb, Dy, Ho, Er, Tm, Yb, Lu, Hf, Ta, W, Re, Os, Ir, Pt, Au, Hg, Tl, Bi\".split(\", \")"
   ]
  },
  {
   "cell_type": "code",
   "execution_count": null,
   "id": "18",
   "metadata": {},
   "outputs": [],
   "source": [
    "B19 = B19[np.isin(B19.element, elements)]\n",
    "B19 = B19[B19.M > 0]\n",
    "\n",
    "\n",
    "B19[\"Zini\"] = [solar_Z.Z[r.element] * r.Z / Zsun for (i, r) in B19.iterrows()]\n",
    "\n",
    "B19[\"OP\"] = B19.mass_yield / ((B19.M - B19.Mrem) * B19.Zini)\n",
    "B19_indexed = B19.set_index([\"M\", \"Z\", \"element\"])\n",
    "\n",
    "\n",
    "B19[B19.element == \"K\"]\n"
   ]
  },
  {
   "cell_type": "markdown",
   "id": "19",
   "metadata": {},
   "source": [
    "# Comparisons"
   ]
  },
  {
   "cell_type": "code",
   "execution_count": null,
   "id": "20",
   "metadata": {},
   "outputs": [],
   "source": [
    "def print_properties(M, Z):\n",
    "    print(\"B19\")\n",
    "    print(\"Z=\", Z)\n",
    "    print(\"M=\", M)\n",
    "    print(\"Mrem\", B19_indexed.Mrem[M, Z, \"H\"])\n",
    "    print(\"model \", B19_indexed.model[M, Z, \"H\"])\n",
    "    df = B19_indexed.Zini[M, Z, :]\n",
    "    Z1 = np.sum(df[~np.isin(df.index, [\"H\", \"He\"])])\n",
    "    print(f\"Z = {Z1:0.4f}\")"
   ]
  },
  {
   "cell_type": "code",
   "execution_count": null,
   "id": "21",
   "metadata": {},
   "outputs": [],
   "source": [
    "for M in [2., 3.]:\n",
    "    plt.figure(figsize=(6, 3))\n",
    "    for i, Z in enumerate([0.01, 0.02, 0.03]):    \n",
    "        x  = molmass.loc[B19_indexed.loc[M, Z, :].index.values].atomic_number\n",
    "        y = B19_indexed.loc[M, Z, :].OP\n",
    "        model = B19_indexed.model[M, Z, \"C\"]\n",
    "\n",
    "        plt.scatter(x, y, \n",
    "                    label=f\"{model}\", s=1, color=[\"red\", \"green\", \"blue\"][i],\n",
    "                    marker = [\"s\", \"^\", \"o\"][i],\n",
    "        )       \n",
    "        print_properties(M, Z)\n",
    "        plt.xlabel(\"atomic number\")\n",
    "        plt.ylabel(\"overproduction factor\")\n",
    "        plt.axhline(1, color=\"black\", )\n",
    "        \n",
    "        plt.legend()\n",
    "        plt.title(f\"M={M}\")\n",
    "        plt.yscale(\"log\")\n",
    "        plt.ylim(0.3)\n",
    "        \n",
    "    plt.show()"
   ]
  },
  {
   "cell_type": "code",
   "execution_count": null,
   "id": "22",
   "metadata": {},
   "outputs": [],
   "source": []
  }
 ],
 "metadata": {
  "kernelspec": {
   "display_name": "Python 3 (ipykernel)",
   "language": "python",
   "name": "python3"
  },
  "language_info": {
   "codemirror_mode": {
    "name": "ipython",
    "version": 3
   },
   "file_extension": ".py",
   "mimetype": "text/x-python",
   "name": "python",
   "nbconvert_exporter": "python",
   "pygments_lexer": "ipython3",
   "version": "3.11.9"
  }
 },
 "nbformat": 4,
 "nbformat_minor": 5
}
