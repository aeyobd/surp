{
 "cells": [
  {
   "cell_type": "code",
   "execution_count": null,
   "id": "0",
   "metadata": {},
   "outputs": [],
   "source": [
    "import pandas as pd\n",
    "import numpy as np\n",
    "import matplotlib.pyplot as plt"
   ]
  },
  {
   "cell_type": "code",
   "execution_count": null,
   "id": "1",
   "metadata": {},
   "outputs": [],
   "source": [
    "import surp\n",
    "from surp import gce_math as gcem"
   ]
  },
  {
   "cell_type": "code",
   "execution_count": null,
   "id": "2",
   "metadata": {},
   "outputs": [],
   "source": [
    "import vice"
   ]
  },
  {
   "cell_type": "markdown",
   "id": "3",
   "metadata": {},
   "source": [
    "- P16: 10.26093/cds/vizier.22250024. Table 12. \n",
    "- R18 is available at DOI: 10.11570/18.0002"
   ]
  },
  {
   "cell_type": "code",
   "execution_count": null,
   "id": "4",
   "metadata": {},
   "outputs": [],
   "source": [
    "path = \"/astro/dboyea/source/VICE/vice/yields/agb/pignatari16/raw/\"\n",
    "datadir = \"../../data/\""
   ]
  },
  {
   "cell_type": "markdown",
   "id": "5",
   "metadata": {},
   "source": [
    "## P16"
   ]
  },
  {
   "cell_type": "markdown",
   "id": "6",
   "metadata": {},
   "source": [
    "Pignatari et al. (2016) reports yields in terms of over production factors (OP), defined as\n",
    "$$\n",
    "{\\rm OP} = \\frac{M_{\\rm ej, i}}{M_{\\rm ej} Z_{i}^0}\n",
    "$$\n",
    " i.e. the ratio between the mean ejected abundance composition and the initial composition of the star. \n",
    " Since we are interested in net fractional yields, we can calculate these from the overproduction factor as follows\n",
    " $$\n",
    " Y_{X} = Z_{\\rm ini} ({\\rm OP} - 1) \\frac{M_{\\rm ej}}{M_{\\rm ini}} = (Z_{\\rm ej} - Z_{\\rm ini}) \\frac{M_{\\rm ej}}{M_{\\rm ini}}\n",
    " $$.\n",
    "\n",
    "Or \n",
    "$$\n",
    "OP = 1 + \\frac{Y_X}{Z_{\\rm ini}} \\frac{M_{\\rm ini}}{M_{\\rm ej}}\n",
    "$$\n",
    " \n",
    "Thus from each nu-grid model, we need the OP factor, the initial and ejected mass, and the birth composition."
   ]
  },
  {
   "cell_type": "code",
   "execution_count": null,
   "id": "7",
   "metadata": {},
   "outputs": [],
   "source": [
    "Zsun = pd.read_csv(datadir + \"grevese_noels_93.txt\", comment=\"#\", names=[\"element\", \"epsilon\"])\n",
    "\n",
    "Zsun[\"Z\"] = gcem.eps_to_abundance(Zsun[\"epsilon\"], Zsun[\"element\"].values)\n",
    "print(sum(Zsun.Z))\n",
    "Zsun[\"Z\"] /= sum(Zsun.Z)\n",
    "Zsun.set_index(\"element\", inplace=True)\n",
    "Zsun"
   ]
  },
  {
   "cell_type": "code",
   "execution_count": null,
   "id": "8",
   "metadata": {},
   "outputs": [],
   "source": [
    "P16_stars = pd.read_csv(datadir + \"pignatari16_stars.tsv\", sep=\"\\s+\", comment=\"#\")\n",
    "P16_stars"
   ]
  },
  {
   "cell_type": "code",
   "execution_count": null,
   "id": "9",
   "metadata": {},
   "outputs": [],
   "source": [
    "P16_stars.set_index([\"mass\", \"Z\"], inplace=True)\n",
    "P16_stars"
   ]
  },
  {
   "cell_type": "code",
   "execution_count": null,
   "id": "10",
   "metadata": {},
   "outputs": [],
   "source": [
    "P16_ops_raw = pd.read_csv(datadir + \"pignatari16_table12.tsv\", sep=\"\\t\", comment=\"#\", skiprows=[42, 43])\n",
    "P16_ops_raw"
   ]
  },
  {
   "cell_type": "markdown",
   "id": "11",
   "metadata": {},
   "source": [
    "For P16, note that set 1.1 has Z=0.01, set 1.2 has Z=0.02."
   ]
  },
  {
   "cell_type": "code",
   "execution_count": null,
   "id": "12",
   "metadata": {},
   "outputs": [],
   "source": [
    "P16_ops_raw[\"Z\"] = np.where(P16_ops_raw.Set == 1.2, 0.02, 0.01)"
   ]
  },
  {
   "cell_type": "code",
   "execution_count": null,
   "id": "13",
   "metadata": {},
   "outputs": [],
   "source": [
    "P16_ops = P16_ops_raw.melt(id_vars=[\"Sp\", \"Z\"], value_vars=[\"OP1.65\", \"OP2\", \"OP3\", \"OP4\", \"OP5\",], var_name=\"model\", value_name=\"OP\")\n",
    "P16_ops"
   ]
  },
  {
   "cell_type": "code",
   "execution_count": null,
   "id": "14",
   "metadata": {},
   "outputs": [],
   "source": [
    "P16_ops[\"M\"] = P16_ops.model.str.extract(r\"(\\d?\\.?\\d+)\")\n",
    "P16_ops[\"M\"] = pd.to_numeric(P16_ops.M)\n",
    "P16_ops"
   ]
  },
  {
   "cell_type": "code",
   "execution_count": null,
   "id": "15",
   "metadata": {},
   "outputs": [],
   "source": [
    "P16 = P16_ops"
   ]
  },
  {
   "cell_type": "code",
   "execution_count": null,
   "id": "16",
   "metadata": {},
   "outputs": [],
   "source": [
    "m_rem = [P16_stars.loc[r.M, r.Z][0] for i, r in P16.iterrows()]"
   ]
  },
  {
   "cell_type": "code",
   "execution_count": null,
   "id": "17",
   "metadata": {},
   "outputs": [],
   "source": [
    "P16[\"Mrem\"] = m_rem"
   ]
  },
  {
   "cell_type": "code",
   "execution_count": null,
   "id": "18",
   "metadata": {},
   "outputs": [],
   "source": [
    "P16[\"element\"] = P16.Sp.str.strip()"
   ]
  },
  {
   "cell_type": "code",
   "execution_count": null,
   "id": "19",
   "metadata": {},
   "outputs": [],
   "source": [
    "Z0 = [Zsun.loc[r.element].Z for i, r in P16.iterrows()]"
   ]
  },
  {
   "cell_type": "code",
   "execution_count": null,
   "id": "20",
   "metadata": {},
   "outputs": [],
   "source": [
    "P16[\"Zini\"] = Z0 * P16.Z / 0.0179"
   ]
  },
  {
   "cell_type": "code",
   "execution_count": null,
   "id": "21",
   "metadata": {},
   "outputs": [],
   "source": [
    "P16"
   ]
  },
  {
   "cell_type": "code",
   "execution_count": null,
   "id": "22",
   "metadata": {},
   "outputs": [],
   "source": [
    "P16[\"mass_yield\"] = P16.Zini * (P16.OP - 1) * (1 - P16.Mrem/P16.M)"
   ]
  },
  {
   "cell_type": "code",
   "execution_count": null,
   "id": "23",
   "metadata": {},
   "outputs": [],
   "source": [
    "plt.scatter(P16.M, P16.Mrem)\n",
    "plt.xlabel(\"M ini / msun\")\n",
    "plt.ylabel(\"reminant mass / msun\")"
   ]
  },
  {
   "cell_type": "markdown",
   "id": "24",
   "metadata": {},
   "source": [
    "## R 18"
   ]
  },
  {
   "cell_type": "code",
   "execution_count": null,
   "id": "25",
   "metadata": {},
   "outputs": [],
   "source": [
    "elements = \"H, He, Li, B, C, N, O, F, Ne, Na, Mg, Al, Si, P, Pb, S, Cl, Ar, K, Ca, Sc, Ti, V, Cr, Mn, Fe, Co, Ni, Cu, Zn, Ga, Ge, As, Se, Br, Kr, Rb, Sr, Y, Zr, Nb, Mo, Ru, Rh, Pd, Ag, Cd, In, Sn, Sb, Te, I, Xe, Cs, Ba, La, Ce, Pr, Nd, Sm, Eu, Gd, Tb, Dy, Ho, Er, Tm, Yb, Lu, Hf, Ta, W, Re, Os, Ir, Pt, Au, Hg, Tl, Bi\".split(\", \")"
   ]
  },
  {
   "cell_type": "code",
   "execution_count": null,
   "id": "26",
   "metadata": {},
   "outputs": [],
   "source": [
    "R18_raw = pd.DataFrame()\n",
    "\n",
    "\n",
    "with open(path + \"/element_yield_table_MESAonly_fryer12_delay_total.txt\") as file:\n",
    "    skip = 6\n",
    "    M = None\n",
    "    M_ej = None\n",
    "    for line in file:\n",
    "        if skip > 0:\n",
    "            skip -= 1\n",
    "            continue\n",
    "            \n",
    "        if line[:7] == \"H Table\":\n",
    "            s1, s2 = line[10:].split(\",\")\n",
    "            M = float(s1[2:])\n",
    "            Z = float(s2[2:-2])\n",
    "            skip = 1\n",
    "            continue\n",
    "            \n",
    "        if line[:8] == \"H Mfinal\":\n",
    "            M_rem = float(line[10:])\n",
    "            M_ej = M - M_rem\n",
    "            skip = 1\n",
    "            continue\n",
    "            \n",
    "        if M_ej is None:\n",
    "            continue\n",
    "        \n",
    "        _, ele, y, x0, _ = line.split(\"&\")\n",
    "\n",
    "        y = float(y)\n",
    "        x0 = float(x0)\n",
    "\n",
    "        row = pd.DataFrame({\"M\":M, \"Z\":Z, \"element\":ele.strip(), \"Mrem\":M_rem, \"mass_yield\":y, \"Zini\": x0}, index=[0])\n",
    "        R18_raw = pd.concat([R18_raw, row], ignore_index=True)\n",
    "        \n"
   ]
  },
  {
   "cell_type": "code",
   "execution_count": null,
   "id": "27",
   "metadata": {},
   "outputs": [],
   "source": [
    "R18 = R18_raw\n",
    "R18[\"OP\"] = R18.mass_yield / ((R18.M -R18.Mrem) * R18.Zini)\n"
   ]
  },
  {
   "cell_type": "code",
   "execution_count": null,
   "id": "28",
   "metadata": {},
   "outputs": [],
   "source": [
    "R18.M"
   ]
  },
  {
   "cell_type": "code",
   "execution_count": null,
   "id": "29",
   "metadata": {},
   "outputs": [],
   "source": [
    "R18_indexed = R18_raw.set_index([\"M\", \"Z\", \"element\"])"
   ]
  },
  {
   "cell_type": "code",
   "execution_count": null,
   "id": "30",
   "metadata": {},
   "outputs": [],
   "source": [
    "R18_indexed.sort_index(inplace=True)"
   ]
  },
  {
   "cell_type": "code",
   "execution_count": null,
   "id": "31",
   "metadata": {},
   "outputs": [],
   "source": [
    "R18_indexed.index"
   ]
  },
  {
   "cell_type": "markdown",
   "id": "32",
   "metadata": {},
   "source": [
    "## B19/21"
   ]
  },
  {
   "cell_type": "code",
   "execution_count": null,
   "id": "33",
   "metadata": {},
   "outputs": [],
   "source": [
    "b19_raw2 = pd.read_csv(path + \"/B19.txt\", sep=\"\\s+\", skiprows=0, index_col=0)\n",
    "b21_raw2 = pd.read_csv(path + \"/B21.txt\", sep=\"\\s+\", skiprows=2, index_col=0)"
   ]
  },
  {
   "cell_type": "code",
   "execution_count": null,
   "id": "34",
   "metadata": {},
   "outputs": [],
   "source": [
    "b19_raw = pd.read_csv(path + \"/B19_2.txt\", sep=\"\\s+\", skiprows=2, index_col=0)\n",
    "b21_raw = pd.read_csv(path + \"/B21_2.txt\", sep=\"\\s+\", skiprows=2, index_col=0)"
   ]
  },
  {
   "cell_type": "code",
   "execution_count": null,
   "id": "35",
   "metadata": {},
   "outputs": [],
   "source": [
    "np.sum(b19_raw[b19_raw.index.str.startswith(\"K-\")], axis=0).iloc[0]"
   ]
  },
  {
   "cell_type": "code",
   "execution_count": null,
   "id": "36",
   "metadata": {},
   "outputs": [],
   "source": [
    "R18_indexed.loc[2., 0.01, \"K\"].Zini.values"
   ]
  },
  {
   "cell_type": "code",
   "execution_count": null,
   "id": "37",
   "metadata": {},
   "outputs": [],
   "source": [
    "B19_indexed.loc[2., 0.01, \"K\"].mass_yield.values"
   ]
  },
  {
   "cell_type": "code",
   "execution_count": null,
   "id": "38",
   "metadata": {},
   "outputs": [],
   "source": [
    "Zsun"
   ]
  },
  {
   "cell_type": "code",
   "execution_count": null,
   "id": "39",
   "metadata": {},
   "outputs": [],
   "source": []
  },
  {
   "cell_type": "code",
   "execution_count": null,
   "id": "40",
   "metadata": {},
   "outputs": [],
   "source": [
    "for ele in elements[4:]:\n",
    "    Zr = R18_indexed.loc[1., 0.01, ele].Zini.values[0] * Z0 / 0.01\n",
    "    Zgn = Zsun.Z[ele]\n",
    "    print(f\"{ele}\\t{vice.solar_z(ele):10.3e}\\t{Zr:10.3e}\\t{Zgn:10.3e}\")\n",
    "    "
   ]
  },
  {
   "cell_type": "code",
   "execution_count": null,
   "id": "41",
   "metadata": {},
   "outputs": [],
   "source": [
    "np.std(b19_raw2 / b19_raw), np.mean(b19_raw / b19_raw2)"
   ]
  },
  {
   "cell_type": "code",
   "execution_count": null,
   "id": "42",
   "metadata": {},
   "outputs": [],
   "source": [
    "np.std(b21_raw2 / b21_raw)"
   ]
  },
  {
   "cell_type": "code",
   "execution_count": null,
   "id": "43",
   "metadata": {},
   "outputs": [],
   "source": [
    "b19_ele = pd.DataFrame()\n",
    "for idx, row in b19_raw.iterrows():\n",
    "    ele, _ = idx.split(\"-\")\n",
    "    if ele in b19_ele.index:\n",
    "        b19_ele.loc[ele] += row\n",
    "    else:\n",
    "        b19_ele = pd.concat([b19_ele, pd.DataFrame(row.to_dict(), index=[ele])])"
   ]
  },
  {
   "cell_type": "code",
   "execution_count": null,
   "id": "44",
   "metadata": {},
   "outputs": [],
   "source": [
    "b21_ele = pd.DataFrame()\n",
    "for idx, row in b21_raw.iterrows():\n",
    "    ele, _ = idx.split(\"-\")\n",
    "    if ele in b21_ele.index:\n",
    "        b21_ele.loc[ele] += row\n",
    "    else:\n",
    "        b21_ele = pd.concat([b21_ele, pd.DataFrame(row.to_dict(), index=[ele])])"
   ]
  },
  {
   "cell_type": "code",
   "execution_count": null,
   "id": "45",
   "metadata": {},
   "outputs": [],
   "source": [
    "b21_ele[\"element\"] = b21_ele.index\n",
    "b19_ele[\"element\"] = b19_ele.index\n",
    "\n",
    "b21_ele"
   ]
  },
  {
   "cell_type": "code",
   "execution_count": null,
   "id": "46",
   "metadata": {},
   "outputs": [],
   "source": [
    "B19 = b19_ele.melt(id_vars=[\"element\"],  var_name=\"model\", value_name=\"mass_yield\")\n",
    "\n",
    "B19[\"Z\"] = 0.\n",
    "B19[\"M\"] = 0.\n",
    "B19\n",
    "\n",
    "B19.loc[B19.model == \"m2z1m2\", \"M\"] = 2.\n",
    "B19.loc[B19.model == \"m2z1m2\", \"Z\"] = 0.01\n",
    "B19.loc[B19.model == \"m2z1m2\", \"Mrem\"] = 0.632\n",
    "\n",
    "B19.loc[B19.model == \"m3z1m2\", \"M\"] = 3.\n",
    "B19.loc[B19.model == \"m3z1m2\", \"Z\"] = 0.01\n",
    "B19.loc[B19.model == \"m3z1m2\", \"Mrem\"] = 0.661\n",
    "\n",
    "\n",
    "B19.loc[B19.model == \"m2z2m2\", \"M\"] = 2.\n",
    "B19.loc[B19.model == \"m2z2m2\", \"Z\"] = 0.02\n",
    "B19.loc[B19.model == \"m2z2m2\", \"Mrem\"] = 0.646\n",
    "\n",
    "\n",
    "B19.loc[B19.model == \"m3z2m2\", \"M\"] = 3.\n",
    "B19.loc[B19.model == \"m3z2m2\", \"Z\"] = 0.02\n",
    "B19.loc[B19.model == \"m3z2m2\", \"Mrem\"] = 0.656\t\n",
    "\n",
    "\n",
    "B19[B19.element == \"K\"]"
   ]
  },
  {
   "cell_type": "code",
   "execution_count": null,
   "id": "47",
   "metadata": {},
   "outputs": [],
   "source": [
    "\n",
    "\n",
    "\n",
    "B19 = B19[np.isin(B19.element, elements)]\n",
    "B19 = B19[B19.M > 0]\n",
    "\n",
    "\n",
    "B19[\"Zini\"] = [Zsun.Z[r.element] * r.Z / Z0 for (i, r) in B19.iterrows()]\n",
    "\n",
    "B19[\"OP\"] = B19.mass_yield / ((B19.M - B19.Mrem) * B19.Zini)\n",
    "B19_indexed = B19.set_index([\"M\", \"Z\", \"element\"])\n",
    "\n",
    "\n",
    "B19[B19.element == \"K\"]\n"
   ]
  },
  {
   "cell_type": "code",
   "execution_count": null,
   "id": "48",
   "metadata": {},
   "outputs": [],
   "source": [
    "B19.Mrem.unique()"
   ]
  },
  {
   "cell_type": "code",
   "execution_count": null,
   "id": "49",
   "metadata": {},
   "outputs": [],
   "source": [
    "B21 = b21_ele.melt(id_vars=[\"element\"],  var_name=\"model\", value_name=\"mass_yield\")\n",
    "\n",
    "B21[\"M\"] = 0.\n",
    "B21[\"Z\"] = 0.\n",
    "\n",
    "B21.loc[B21.model == \"m3z1m3-bigpoc\", \"M\"] = 3.\n",
    "B21.loc[B21.model == \"m3z1m3-bigpoc\", \"Z\"] = 0.001\n",
    "\n",
    "# B21.loc[B21.model == \"m2z2m3-bigpoc\", \"M\"] = 2.\n",
    "# B21.loc[B21.model == \"m2z2m3-bigpoc\", \"Z\"] = 0.002\n",
    "\n",
    "B21.loc[B21.model == \"m2z1m3-bigpoc\", \"M\"] = 2.\n",
    "B21.loc[B21.model == \"m2z1m3-bigpoc\", \"Z\"] = 0.001\n",
    "\n",
    "\n",
    "B21 = B21[B21.M > 0]\n",
    "B21 = B21[np.isin(B21.element, elements)]\n",
    "\n",
    "#TODO technically incorrect\n",
    "B21[\"Mrem\"] = [R18_indexed.loc[r.M, r.Z, r.element].Mrem.values[0] for (i, r) in B21.iterrows()]\n",
    "B21[\"Zini\"] = [R18_indexed.loc[r.M, r.Z, r.element].Zini.values[0] for (i, r) in B21.iterrows()]\n",
    "B21[\"OP\"] = B21.mass_yield / ((B21.M - B21.Mrem) * B21.Zini)\n",
    "\n",
    "\n",
    "\n",
    "\n",
    "B21"
   ]
  },
  {
   "cell_type": "code",
   "execution_count": null,
   "id": "50",
   "metadata": {},
   "outputs": [],
   "source": [
    "R18_indexed.loc[1.0, 0.01, \"C\"].Mrem.values[0]"
   ]
  },
  {
   "cell_type": "code",
   "execution_count": null,
   "id": "51",
   "metadata": {},
   "outputs": [],
   "source": [
    "B21_indexed = B21.set_index([\"M\", \"Z\", \"element\"])"
   ]
  },
  {
   "cell_type": "code",
   "execution_count": null,
   "id": "52",
   "metadata": {},
   "outputs": [],
   "source": [
    "R18_indexed.Mrem[2., 0.01, \"H\"].values[0]"
   ]
  },
  {
   "cell_type": "code",
   "execution_count": null,
   "id": "53",
   "metadata": {},
   "outputs": [],
   "source": [
    "B19_indexed.Mrem[2., 0.01, \"C\"]"
   ]
  },
  {
   "cell_type": "code",
   "execution_count": null,
   "id": "54",
   "metadata": {},
   "outputs": [],
   "source": [
    "P16"
   ]
  },
  {
   "cell_type": "code",
   "execution_count": null,
   "id": "55",
   "metadata": {},
   "outputs": [],
   "source": [
    "R18"
   ]
  },
  {
   "cell_type": "markdown",
   "id": "56",
   "metadata": {},
   "source": [
    "# Comparisons"
   ]
  },
  {
   "cell_type": "code",
   "execution_count": null,
   "id": "57",
   "metadata": {},
   "outputs": [],
   "source": [
    "def mrem(m):\n",
    "    return 0.394 + 0.109 * m"
   ]
  },
  {
   "cell_type": "code",
   "execution_count": null,
   "id": "58",
   "metadata": {},
   "outputs": [],
   "source": [
    "Z0 = np.sum(Zsun.Z[2:])"
   ]
  },
  {
   "cell_type": "code",
   "execution_count": null,
   "id": "59",
   "metadata": {},
   "outputs": [],
   "source": [
    "Z0"
   ]
  },
  {
   "cell_type": "code",
   "execution_count": null,
   "id": "60",
   "metadata": {},
   "outputs": [],
   "source": [
    "Zsun"
   ]
  },
  {
   "cell_type": "code",
   "execution_count": null,
   "id": "61",
   "metadata": {},
   "outputs": [],
   "source": [
    "def vice_yield_to_mass_yield_gn(M, z, ele, study=\"cristallo11\"):\n",
    "    y, ms, zs = vice.yields.agb.grid(ele, study=study)\n",
    "\n",
    "    i = np.where(M == np.array(ms))[0][0]\n",
    "    j = np.where(z == np.array(zs))[0][0]\n",
    "\n",
    "    Mrem = R18_indexed.loc[M, z, ele].Mrem.values[0]\n",
    "    Zini = R18_indexed.loc[M, z, ele].Zini.values[0]\n",
    "    \n",
    "    Mej = M - Mrem\n",
    "    nfy = y[i][j]\n",
    "    net_yield = M * nfy\n",
    "    yld  = net_yield +   Mej* Zini\n",
    "    return float(yld)\n",
    "                             "
   ]
  },
  {
   "cell_type": "code",
   "execution_count": null,
   "id": "62",
   "metadata": {},
   "outputs": [],
   "source": [
    "def vice_yield(M, z, ele, study):\n",
    "    y, ms, zs = vice.yields.agb.grid(ele, study=study)\n",
    "\n",
    "    i = np.where(M == np.array(ms))[0][0]\n",
    "    j = np.where(z == np.array(zs))[0][0]\n",
    "\n",
    "    return y[i][j]"
   ]
  },
  {
   "cell_type": "code",
   "execution_count": null,
   "id": "63",
   "metadata": {},
   "outputs": [],
   "source": [
    "def vice_yield_to_mass_yield(M, z, ele, study=\"cristallo11\"):\n",
    "    y, ms, zs = vice.yields.agb.grid(ele, study=study)\n",
    "\n",
    "    i = np.where(M == np.array(ms))[0][0]\n",
    "    j = np.where(z == np.array(zs))[0][0]\n",
    "\n",
    "    Mej = M - mrem(M)\n",
    "    nfy = y[i][j]\n",
    "    net_yield = M * nfy\n",
    "    Zini = vice.solar_z(ele) * z / 0.016\n",
    "    yld  = net_yield + Mej * Zini\n",
    "    return float(yld)\n",
    "                             "
   ]
  },
  {
   "cell_type": "code",
   "execution_count": null,
   "id": "64",
   "metadata": {},
   "outputs": [],
   "source": [
    "P16_indexed = P16.set_index([\"M\", \"Z\", \"element\"])"
   ]
  },
  {
   "cell_type": "code",
   "execution_count": null,
   "id": "65",
   "metadata": {},
   "outputs": [],
   "source": [
    "print(\"ele\\tP+16\\t\\tR+18\\t\\tB+19\\t\\tBPR\\t\\tC11\\t\\tK10\")\n",
    "for ele in [\"C\", \"N\", \"O\", \"F\", \"Ne\", \"Mg\", \"Al\", \"P\", \"Pb\"]:\n",
    "    M = 2.0\n",
    "    Z = 0.02\n",
    "    print(f\"{ele}\", end=\"\\t\")\n",
    "\n",
    "    y = P16_indexed.loc[M, Z, ele].mass_yield\n",
    "    y = y\n",
    "    print(f\"{y:6.2e}\", end=\"\\t\")\n",
    "\n",
    "    \n",
    "    y = R18_indexed.loc[M, Z, ele].mass_yield\n",
    "    y = y.values[0]\n",
    "    print(f\"{y:6.2e}\", end=\"\\t\")\n",
    "    \n",
    "    y = B19_indexed.loc[M, Z, ele].mass_yield\n",
    "    print(f\"{y:6.2e}\", end=\"\\t\")\n",
    "\n",
    "\n",
    "\n",
    "    for study in [\"pignatari16\", \"cristallo11\", \"karakas10\"]:\n",
    "        try:\n",
    "            y = vice_yield_to_mass_yield(M, Z, ele, study)\n",
    "        except LookupError:\n",
    "            y = np.nan\n",
    "        print(f\"{y:6.2e}\", end=\"\\t\")\n",
    "\n",
    "\n",
    "    print()"
   ]
  },
  {
   "cell_type": "code",
   "execution_count": null,
   "id": "66",
   "metadata": {},
   "outputs": [],
   "source": [
    "print(\"ele\\tP+16\\t\\tR+18\\t\\tB+19\\t\\tBPR\\t\\tC11\\t\\tK10\")\n",
    "for ele in [\"C\", \"N\", \"O\", \"F\", \"Ne\", \"Mg\", \"Al\", \"P\", \"Pb\"]:\n",
    "    M = 3.0\n",
    "    Z = 0.01\n",
    "    print(f\"{ele}\", end=\"\\t\")\n",
    "\n",
    "    y = P16_indexed.loc[M, Z, ele].mass_yield\n",
    "    y = y\n",
    "    print(f\"{y:6.2e}\", end=\"\\t\")\n",
    "\n",
    "    \n",
    "    y = R18_indexed.loc[M, Z, ele].mass_yield\n",
    "    y = y.values[0]\n",
    "    print(f\"{y:6.2e}\", end=\"\\t\")\n",
    "    \n",
    "    y = B19_indexed.loc[M, Z, ele].mass_yield\n",
    "    print(f\"{y:6.2e}\", end=\"\\t\")\n",
    "\n",
    "\n",
    "\n",
    "    for study in [\"pignatari16\", \"cristallo11\", \"karakas10\"]:\n",
    "        try:\n",
    "            y = vice_yield_to_mass_yield_gn(M, Z, ele, study)\n",
    "        except LookupError:\n",
    "            y = np.nan\n",
    "        print(f\"{y:6.2e}\", end=\"\\t\")\n",
    "\n",
    "\n",
    "    print()"
   ]
  },
  {
   "cell_type": "code",
   "execution_count": null,
   "id": "67",
   "metadata": {},
   "outputs": [],
   "source": [
    "P16.Z.unique()"
   ]
  },
  {
   "cell_type": "code",
   "execution_count": null,
   "id": "68",
   "metadata": {},
   "outputs": [],
   "source": [
    "print(\"ele\\tP+16\\t\\tR+18\\t\\tBPR\\t\\t\\C11\\t\\tK10\")\n",
    "for ele in [\"C\", \"N\", \"O\", \"F\", \"Ne\", \"Mg\", \"Al\", \"P\", \"Pb\"]:\n",
    "    M = 5.0\n",
    "    Z = 0.02\n",
    "    print(f\"{ele}\", end=\"\\t\")\n",
    "\n",
    "    y = P16_indexed.loc[M, Z, ele].mass_yield\n",
    "    y = y\n",
    "    print(f\"{y:6.2e}\", end=\"\\t\")\n",
    "\n",
    "    \n",
    "    y = R18_indexed.loc[M, Z, ele].mass_yield\n",
    "    y = y.values[0]\n",
    "    print(f\"{y:6.2e}\", end=\"\\t\")\n",
    "\n",
    "\n",
    "    for study in [\"pignatari16\", \"cristallo11\", \"karakas10\"]:\n",
    "        try:\n",
    "            y = vice_yield_to_mass_yield_gn(M, Z, ele, study)\n",
    "        except LookupError:\n",
    "            y = np.nan\n",
    "        print(f\"{y:6.2e}\", end=\"\\t\")\n",
    "\n",
    "\n",
    "    print()"
   ]
  },
  {
   "cell_type": "code",
   "execution_count": null,
   "id": "69",
   "metadata": {},
   "outputs": [],
   "source": [
    "import molmass"
   ]
  },
  {
   "cell_type": "code",
   "execution_count": null,
   "id": "70",
   "metadata": {},
   "outputs": [],
   "source": [
    "@np.vectorize\n",
    "def atomic_numer(ele):\n",
    "    return molmass.ELEMENTS[ele].number"
   ]
  },
  {
   "cell_type": "code",
   "execution_count": null,
   "id": "71",
   "metadata": {},
   "outputs": [],
   "source": [
    "R18.M.unique()"
   ]
  },
  {
   "cell_type": "code",
   "execution_count": null,
   "id": "72",
   "metadata": {},
   "outputs": [],
   "source": [
    "for M in [2., 3.]:\n",
    "    for Z in [0.01, 0.02]:\n",
    "\n",
    "        y = np.array([vice_yield(M, Z, ele, \"pignatari16\") for ele in elements[4:]])\n",
    "        Z0 = R18_indexed.loc[M, Z, elements[4:]].Zini\n",
    "        Mej = M - B19_indexed.loc[M, Z, \"H\"].Mrem\n",
    "\n",
    "        op = 1 + y / Z0 * M / Mej \n",
    "\n",
    "        \n",
    "\n",
    "        plt.scatter(atomic_numer(elements[4:]), op)\n",
    "        plt.xlabel(\"atomic number\")\n",
    "        plt.ylabel(\"overproduction factor\")\n",
    "        plt.axhline(1, color=\"black\", )\n",
    "        \n",
    "        plt.legend()\n",
    "        plt.title(f\"M={M}, Z={Z}\")\n",
    "        plt.yscale(\"log\")\n",
    "    plt.show()"
   ]
  },
  {
   "cell_type": "code",
   "execution_count": null,
   "id": "73",
   "metadata": {},
   "outputs": [],
   "source": [
    "for Z in [0.01, 0.02]:\n",
    "\n",
    "    for M in [1.65, 2., 3., 5.]:\n",
    "    \n",
    "        x  = atomic_numer(P16_indexed.loc[M, Z, :].index.values)\n",
    "        y = P16_indexed.loc[M, Z, :].OP\n",
    "        plt.scatter(x, y, label=\"P+16\")\n",
    "        \n",
    "        x  = atomic_numer(R18_indexed.loc[M, Z, :].index.values)\n",
    "        y = R18_indexed.loc[M, Z, :].OP\n",
    "        plt.scatter(x, y, label=\"R+18\", s=3)\n",
    "    \n",
    "        if M in [2., 3.]:\n",
    "            print(\"B19\")\n",
    "            print(\"Z=\", Z)\n",
    "            print(\"M=\", M)\n",
    "            print(\"Mrem\", B19_indexed.Mrem[M, Z, \"H\"])\n",
    "            print(\"model \", B19_indexed.model[M, Z, \"H\"])\n",
    "            df = B19_indexed.Zini[M, Z, :]\n",
    "            Z1 = np.sum(df[~np.isin(df.index, [\"H\", \"He\"])])\n",
    "            print(f\"Z = {Z1:0.4f}\")\n",
    "            \n",
    "            x  = atomic_numer(B19_indexed.loc[M, Z, :].index.values)\n",
    "            y = B19_indexed.loc[M, Z, :].OP\n",
    "            plt.scatter(x, y, label=\"B+19\", s=1)       \n",
    "        \n",
    "        plt.xlabel(\"atomic number\")\n",
    "        plt.ylabel(\"overproduction factor\")\n",
    "        plt.axhline(1, color=\"black\", )\n",
    "        \n",
    "        plt.legend()\n",
    "        plt.title(f\"M={M}, Z={Z}\")\n",
    "        plt.yscale(\"log\")\n",
    "        plt.show()"
   ]
  },
  {
   "cell_type": "code",
   "execution_count": null,
   "id": "74",
   "metadata": {},
   "outputs": [],
   "source": [
    "for Z in [0.01, 0.02]:\n",
    "\n",
    "    for M in [1.65, 2., 3., 5.]:\n",
    "    \n",
    "        x  = atomic_numer(P16_indexed.loc[M, Z, :].index.values)\n",
    "        y = P16_indexed.loc[M, Z, :].OP\n",
    "        plt.scatter(x, y, label=\"P+16\")\n",
    "        \n",
    "        x  = atomic_numer(R18_indexed.loc[M, Z, :].index.values)\n",
    "        y = R18_indexed.loc[M, Z, :].OP\n",
    "        plt.scatter(x, y, label=\"R+18\", s=3)\n",
    "    \n",
    "        if M in [2., 3.]:\n",
    "            print(\"B19\")\n",
    "            print(\"Z=\", Z)\n",
    "            print(\"M=\", M)\n",
    "            print(\"Mrem\", B19_indexed.Mrem[M, Z, \"H\"])\n",
    "            print(\"model \", B19_indexed.model[M, Z, \"H\"])\n",
    "            df = B19_indexed.Zini[M, Z, :]\n",
    "            Z1 = np.sum(df[~np.isin(df.index, [\"H\", \"He\"])])\n",
    "            print(f\"Z = {Z1:0.4f}\")\n",
    "            \n",
    "            x  = atomic_numer(B19_indexed.loc[M, Z, :].index.values)\n",
    "            y = B19_indexed.loc[M, Z, :].OP\n",
    "            plt.scatter(x, y, label=\"B+19\", s=1)       \n",
    "        \n",
    "        plt.xlabel(\"atomic number\")\n",
    "        plt.ylabel(\"overproduction factor\")\n",
    "        plt.axhline(1, color=\"black\", )\n",
    "        \n",
    "        plt.legend()\n",
    "        plt.title(f\"M={M}, Z={Z}\")\n",
    "        plt.yscale(\"log\")\n",
    "        plt.show()"
   ]
  },
  {
   "cell_type": "code",
   "execution_count": null,
   "id": "75",
   "metadata": {},
   "outputs": [],
   "source": [
    "R18.Z.unique()"
   ]
  },
  {
   "cell_type": "code",
   "execution_count": null,
   "id": "76",
   "metadata": {},
   "outputs": [],
   "source": [
    "for Z in [0.0001, 0.006, 0.01, 0.02]:\n",
    "    plt.figure(figsize=(4, 2))\n",
    "\n",
    "    for M in [1., 1.65, 2., 3., 4., 5., 7.]:\n",
    "        x  = atomic_numer(R18_indexed.loc[M, Z, :].index.values)\n",
    "        y = R18_indexed.loc[M, Z, :].OP\n",
    "\n",
    "        idx = np.argsort(x)\n",
    "        plt.plot(x[idx], y[idx], label=M, marker=\"o\", markersize=1)\n",
    "      \n",
    "        \n",
    "        plt.xlabel(\"atomic number\")\n",
    "        plt.ylabel(\"overproduction factor\")\n",
    "        plt.axhline(1, color=\"black\", )\n",
    "\n",
    "        if np.max(y) > 10:\n",
    "            plt.yscale(\"log\")\n",
    "\n",
    "        plt.legend()\n",
    "        plt.title(f\"Z={Z}\")\n",
    "        if M in [3., 7.]:\n",
    "            plt.show()\n",
    "            plt.figure(figsize=(4, 2))\n",
    "\n",
    "            "
   ]
  },
  {
   "cell_type": "code",
   "execution_count": null,
   "id": "77",
   "metadata": {},
   "outputs": [],
   "source": [
    "for Z in [0.001]:\n",
    "\n",
    "    for M in [1.65, 2., 3., 5.]:\n",
    "\n",
    "        x  = atomic_numer(R18_indexed.loc[M, Z, :].index.values)\n",
    "        y = R18_indexed.loc[M, Z, :].OP\n",
    "        plt.scatter(x, y, label=\"R+18\", s=3)\n",
    "    \n",
    "        if (M, Z) in [(2., 0.001), (3., 0.001), (2., 0.002)]:\n",
    "            x  = atomic_numer(B21_indexed.loc[M, Z, :].index.values)\n",
    "            y = B21_indexed.loc[M, Z, :].OP\n",
    "            plt.scatter(x, y, label=\"B+19\", s=1)       \n",
    "        \n",
    "        plt.xlabel(\"atomic number\")\n",
    "        plt.ylabel(\"overproduction factor\")\n",
    "        plt.axhline(1, color=\"black\", )\n",
    "\n",
    "        plt.yscale(\"log\")\n",
    "        plt.legend()\n",
    "        plt.title(f\"M={M}, Z={Z}\")\n",
    "        plt.show()"
   ]
  },
  {
   "cell_type": "code",
   "execution_count": null,
   "id": "78",
   "metadata": {},
   "outputs": [],
   "source": []
  },
  {
   "cell_type": "code",
   "execution_count": null,
   "id": "79",
   "metadata": {},
   "outputs": [],
   "source": []
  }
 ],
 "metadata": {
  "kernelspec": {
   "display_name": "Python 3 (ipykernel)",
   "language": "python",
   "name": "python3"
  },
  "language_info": {
   "codemirror_mode": {
    "name": "ipython",
    "version": 3
   },
   "file_extension": ".py",
   "mimetype": "text/x-python",
   "name": "python",
   "nbconvert_exporter": "python",
   "pygments_lexer": "ipython3",
   "version": "3.11.9"
  }
 },
 "nbformat": 4,
 "nbformat_minor": 5
}
