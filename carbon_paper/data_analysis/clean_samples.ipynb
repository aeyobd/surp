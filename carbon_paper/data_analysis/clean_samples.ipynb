{
 "cells": [
  {
   "cell_type": "markdown",
   "id": "0",
   "metadata": {},
   "source": [
    "# Introduction\n",
    "\n",
    "This notebook contains the data cleaning and amalgamation for the final plot of the main body of my paper. \n",
    "The notebook also explores some other samples that we do not include, and includes brief descriptions of the methodology, limitations and attributes of each study."
   ]
  },
  {
   "cell_type": "markdown",
   "id": "1",
   "metadata": {
    "tags": []
   },
   "source": [
    "# TODO pay attention to RL, CEL corrections and dwarf galaxy catagorizations"
   ]
  },
  {
   "cell_type": "markdown",
   "id": "2",
   "metadata": {},
   "source": [
    "# Setup"
   ]
  },
  {
   "cell_type": "code",
   "execution_count": null,
   "id": "3",
   "metadata": {},
   "outputs": [],
   "source": [
    "import pandas as pd\n",
    "import matplotlib.pyplot as plt\n",
    "import numpy as np\n",
    "import vice\n",
    "from scipy.optimize import curve_fit\n",
    "from astropy.io import fits\n",
    "import json\n",
    "import matplotlib as mpl\n",
    "import os\n",
    "import toml"
   ]
  },
  {
   "cell_type": "code",
   "execution_count": null,
   "id": "4",
   "metadata": {},
   "outputs": [],
   "source": [
    "from surp import ViceModel, yields, subgiants, DATA_DIR\n",
    "from surp import gce_math as gcem\n",
    "\n",
    "import surp\n",
    "import arya\n",
    "from arya import COLORS"
   ]
  },
  {
   "cell_type": "code",
   "execution_count": null,
   "id": "5",
   "metadata": {},
   "outputs": [],
   "source": [
    "surp.set_yields()"
   ]
  },
  {
   "cell_type": "code",
   "execution_count": null,
   "id": "6",
   "metadata": {},
   "outputs": [],
   "source": [
    "import sys; sys.path.append(\"..\")"
   ]
  },
  {
   "cell_type": "code",
   "execution_count": null,
   "id": "7",
   "metadata": {},
   "outputs": [],
   "source": [
    "from singlezone import run_singlezone, exp_sfh"
   ]
  },
  {
   "cell_type": "code",
   "execution_count": null,
   "id": "8",
   "metadata": {},
   "outputs": [],
   "source": [
    "def to_nice(apogee_name):\n",
    "    return \"[\" + apogee_name.title().replace(\"_\", \"/\") + \"]\""
   ]
  },
  {
   "cell_type": "code",
   "execution_count": null,
   "id": "9",
   "metadata": {},
   "outputs": [],
   "source": [
    "def plot_abund_errs(df, x=\"O_H\", y=\"C_O\", fmt=\"o\", **kwargs):\n",
    "    xs = df[x].values\n",
    "    ys =  df[y].values\n",
    "    xerr = df[f\"{x}_err\"].values\n",
    "    yerr = df[f\"{y}_err\"].values\n",
    "    filt = ~np.isnan(xerr) \n",
    "    filt &= ~np.isnan(yerr)\n",
    "    filt &= xerr > 0\n",
    "    filt &= yerr > 0\n",
    "    \n",
    "    plt.errorbar(xs[filt], ys[filt], xerr=xerr[filt], yerr=yerr[filt], fmt=fmt, capsize=0, **kwargs)\n",
    "    plt.xlabel(to_nice(x))\n",
    "    plt.ylabel(to_nice(y))"
   ]
  },
  {
   "cell_type": "code",
   "execution_count": null,
   "id": "10",
   "metadata": {},
   "outputs": [],
   "source": [
    "def plot_sample(df, **kwargs):    \n",
    "    plot_abund_errs(df, x=\"FE_H\", y=\"O_FE\", **kwargs)\n",
    "    plt.show()\n",
    "    \n",
    "    plot_abund_errs(df, **kwargs)\n",
    "    plt.show()\n",
    "    \n",
    "    plot_abund_errs(df, x=\"O_FE\", **kwargs)\n",
    "    plt.show()\n",
    "    \n",
    "    if \"MG_FE\" in df.columns:\n",
    "        plot_abund_errs(df, x=\"O_H\", y=\"O_MG\", **kwargs)\n",
    "        plot_abund_errs(df, x=\"MG_H\", y=\"C_MG\", **kwargs)\n",
    "        plot_abund_errs(df, x=\"MG_FE\", y=\"C_MG\", **kwargs)\n",
    "        plt.show()\n",
    "                    "
   ]
  },
  {
   "cell_type": "code",
   "execution_count": null,
   "id": "11",
   "metadata": {},
   "outputs": [],
   "source": [
    "def calc_errs(df, idx=None):\n",
    "    series = pd.Series()\n",
    "    series[\"O_H_err\"] = np.nanmean(df[\"O_H_err\"])\n",
    "    series[\"C_O_err\"] = np.nanmean(df[\"C_O_err\"])\n",
    "    \n",
    "    if idx is None:\n",
    "        O_H = np.mean(df.O_H)\n",
    "        C_O = np.mean(df.C_O)\n",
    "        \n",
    "        idx = np.argmin((df.O_H - O_H)**2 )#+ (df.C_O - C_O)**2)\n",
    "        series[\"O_H\"] = df.O_H.iloc[idx]\n",
    "        series[\"C_O\"] = df.C_O.iloc[idx]\n",
    "    \n",
    "    return series.to_frame().T"
   ]
  },
  {
   "cell_type": "code",
   "execution_count": null,
   "id": "12",
   "metadata": {},
   "outputs": [],
   "source": [
    "def plot_sample_err(df, df_err, color=COLORS[0], marker=\"*\", label=\"\", **kwargs):\n",
    "    plt.scatter(df[\"O_H\"], df[\"C_O\"], marker=marker, color=color, label=label, **kwargs)\n",
    "    \n",
    "\n",
    "    plt.errorbar(df_err[\"O_H\"], df_err[\"C_O\"],  xerr=df_err.O_H_err, yerr=df_err.C_O_err,\n",
    "             marker=\"none\", ls=\"none\", color=color, capsize=0, **kwargs)\n",
    "    \n",
    "    plt.xlabel(\"[O/H]\")\n",
    "    plt.ylabel(\"[C/O]\")"
   ]
  },
  {
   "cell_type": "code",
   "execution_count": null,
   "id": "13",
   "metadata": {},
   "outputs": [],
   "source": [
    "c_o_correction = np.log10(12.01/15.99) - np.log10(vice.solar_z(\"c\") / vice.solar_z(\"o\"))\n",
    "eps_o_correction =  - 12 + np.log10(15.99) - np.log10(vice.solar_z(\"o\"))"
   ]
  },
  {
   "cell_type": "code",
   "execution_count": null,
   "id": "14",
   "metadata": {},
   "outputs": [],
   "source": [
    "import toml"
   ]
  },
  {
   "cell_type": "code",
   "execution_count": null,
   "id": "15",
   "metadata": {},
   "outputs": [],
   "source": [
    "def contains_min_cols(d, cols):\n",
    "    for col in cols:\n",
    "        if col not in d.keys():\n",
    "            print(\"missing\", col)\n",
    "            return False\n",
    "    return True"
   ]
  },
  {
   "cell_type": "code",
   "execution_count": null,
   "id": "16",
   "metadata": {},
   "outputs": [],
   "source": [
    "def toml_to_df(y):\n",
    "    df = pd.DataFrame()\n",
    "\n",
    "    for row in y:\n",
    "        row_df = pd.DataFrame(row)\n",
    "        df = pd.concat([df, row_df], ignore_index=True)\n",
    "        \n",
    "    return df"
   ]
  },
  {
   "cell_type": "code",
   "execution_count": null,
   "id": "17",
   "metadata": {},
   "outputs": [],
   "source": [
    "def parsetoml(filename):\n",
    "    df = {}\n",
    "    with open(filename, \"r\") as f:\n",
    "        df = toml.load(f)\n",
    "    return df"
   ]
  },
  {
   "cell_type": "markdown",
   "id": "18",
   "metadata": {
    "tags": []
   },
   "source": [
    "# Stars\n",
    "Samples of MW stars.\n",
    "See also `catalogues` and `clean_surveys` notebooks."
   ]
  },
  {
   "cell_type": "markdown",
   "id": "19",
   "metadata": {
    "jp-MarkdownHeadingCollapsed": true,
    "tags": []
   },
   "source": [
    "## Amarsi et al. (2019)\n",
    "3D NLTE corrected sample\n",
    "\n",
    "Builds on: \n",
    "- Nissen et al. (2014)\n",
    "- Amarsi et al. (2019a) which therein builds on  Nissen et al. (2007). which contains most of what Fabbian et al. (2009) presents."
   ]
  },
  {
   "cell_type": "code",
   "execution_count": null,
   "id": "20",
   "metadata": {},
   "outputs": [],
   "source": [
    "amarsi19 = pd.read_csv(surp.DATA_DIR + \"amarsi_19.tsv\", delimiter=\"\\t *\", comment=\"#\", skiprows=[62, 63],)\n",
    "\n",
    "amarsi19[\"FE_H\"] = amarsi19[\"[Fe/H]3L\"]\n",
    "amarsi19[\"FE_H_err\"] = amarsi19[\"e_[Fe/H]3L\"]\n",
    "\n",
    "amarsi19[\"O_H\"] = amarsi19[\"[O/H]3N\"]\n",
    "amarsi19[\"O_H_err\"] = amarsi19[\"e_[O/H]3N\"]\n",
    "\n",
    "amarsi19[\"C_H\"] = amarsi19[\"[C/H]3N\"]\n",
    "amarsi19[\"C_H_err\"] = amarsi19[\"e_[C/H]3N\"]\n",
    "\n",
    "amarsi19[\"C_O\"] = amarsi19[\"C_H\"] - amarsi19[\"O_H\"] \n",
    "amarsi19[\"C_O_err\"] = amarsi19[\"O_H_err\"] + amarsi19[\"C_H_err\"] \n",
    "\n",
    "amarsi19[\"O_FE\"] = amarsi19[\"O_H\"] - amarsi19[\"[Fe/H]3L\"]\n",
    "amarsi19[\"O_FE_err\"] = amarsi19[\"e_[Fe/H]3L\"] + amarsi19[\"O_H_err\"]\n",
    "\n",
    "amarsi19_sun = amarsi19.iloc[151]\n",
    "amarsi19.drop(index=151, inplace=True)"
   ]
  },
  {
   "cell_type": "code",
   "execution_count": null,
   "id": "21",
   "metadata": {},
   "outputs": [],
   "source": [
    "plot_sample(amarsi19)"
   ]
  },
  {
   "cell_type": "code",
   "execution_count": null,
   "id": "22",
   "metadata": {},
   "outputs": [],
   "source": [
    "for pop in amarsi19.Pop.unique():\n",
    "    filt = amarsi19.Pop == pop\n",
    "    plot_abund_errs(amarsi19[filt], label=pop)\n",
    "\n",
    "arya.Legend(-1)\n"
   ]
  },
  {
   "cell_type": "code",
   "execution_count": null,
   "id": "23",
   "metadata": {},
   "outputs": [],
   "source": [
    "for pop in amarsi19.Pop.unique():\n",
    "    filt = amarsi19.Pop == pop\n",
    "    plt.scatter(amarsi19[filt].O_FE, amarsi19[filt][\"C_O\"], label=pop)\n",
    "\n",
    "arya.Legend(-1)\n",
    "plt.xlabel(\"[O/Fe]\")\n",
    "plt.ylabel(\"C_O\")"
   ]
  },
  {
   "cell_type": "markdown",
   "id": "24",
   "metadata": {
    "tags": []
   },
   "source": [
    "### NLTE vs LTE"
   ]
  },
  {
   "cell_type": "markdown",
   "id": "25",
   "metadata": {},
   "source": [
    "while e.g. Fe is stable, C requires up to -0.2 dex corrections at low metallicities."
   ]
  },
  {
   "cell_type": "code",
   "execution_count": null,
   "id": "26",
   "metadata": {},
   "outputs": [],
   "source": [
    "plt.errorbar(amarsi19.FE_H, amarsi19[\"[Fe/H]1L\"] - amarsi19[\"[Fe/H]3L\"], yerr=amarsi19[\"e_[Fe/H]3L\"], fmt=\"o\", capsize=0)\n",
    "plt.xlabel(\"[Fe/H]\")\n",
    "plt.ylabel(\"3D LTE - 1D LTE\")"
   ]
  },
  {
   "cell_type": "code",
   "execution_count": null,
   "id": "27",
   "metadata": {},
   "outputs": [],
   "source": [
    "plt.errorbar(amarsi19.C_H, amarsi19[\"[C/H]1L\"] - amarsi19[\"[C/H]3N\"], yerr=amarsi19[\"e_[C/H]3N\"], fmt=\"o\", capsize=0)\n",
    "plt.xlabel(\"[C/H]\")\n",
    "plt.ylabel(\"1D LTE - 3D NLTE\")"
   ]
  },
  {
   "cell_type": "code",
   "execution_count": null,
   "id": "28",
   "metadata": {},
   "outputs": [],
   "source": [
    "plt.errorbar(amarsi19.O_H, amarsi19[\"[O/H]1L\"] - amarsi19[\"[O/H]3N\"], yerr=amarsi19[\"e_[O/H]3N\"], fmt=\"o\", capsize=0)\n",
    "plt.xlabel(\"[O/H]\")\n",
    "plt.ylabel(\"1D LTE - 3D NLTE\")"
   ]
  },
  {
   "cell_type": "code",
   "execution_count": null,
   "id": "29",
   "metadata": {},
   "outputs": [],
   "source": [
    "amarsi19.to_csv(\"amarsi19_cleaned.csv\")"
   ]
  },
  {
   "cell_type": "markdown",
   "id": "30",
   "metadata": {
    "jp-MarkdownHeadingCollapsed": true,
    "tags": []
   },
   "source": [
    "## Zhao et al. 2016\n",
    "https://ui.adsabs.harvard.edu/abs/2016ApJ...833..225Z/abstract\n",
    "\n",
    "\n",
    "NLTE 1D abundances. MW thin, thick, and halo stars.\n",
    "- 51 nearby stars -\n",
    "- lick on 3m with R~60k from 3700-9300Å, S/N > 100 for most.\n",
    "- about 10 C lines, most are around 9000Å.\n",
    "- NonLTE - LTE for C is ~0 at 5052Å, but are  ~ -0.1dex  at 9111Å. not correlated with Fe.\n",
    "- Also includes CH and C2 bands\n"
   ]
  },
  {
   "cell_type": "code",
   "execution_count": null,
   "id": "31",
   "metadata": {},
   "outputs": [],
   "source": [
    "z16_long = pd.read_csv(DATA_DIR + \"zhao+2016.tsv\", delimiter=\"\\t[ ]*\", comment=\"#\")"
   ]
  },
  {
   "cell_type": "code",
   "execution_count": null,
   "id": "32",
   "metadata": {},
   "outputs": [],
   "source": [
    "z16_long"
   ]
  },
  {
   "cell_type": "code",
   "execution_count": null,
   "id": "33",
   "metadata": {},
   "outputs": [],
   "source": [
    "z16 = z16_long.pivot_table(index='Name', columns='Species', \n",
    "    values=['[X/H]LTE', 'e_[X/H]LTE', '[X/Fe]LTE', '[X/H]NLTE', 'e_[X/H]NLTE','[X/Fe]NLTE'], aggfunc='first')\n"
   ]
  },
  {
   "cell_type": "code",
   "execution_count": null,
   "id": "34",
   "metadata": {},
   "outputs": [],
   "source": [
    "z16.columns = [a.replace(\"X\", b.strip()).replace(\"NLTE\", \"\") for a, b in z16.columns.values]"
   ]
  },
  {
   "cell_type": "code",
   "execution_count": null,
   "id": "35",
   "metadata": {},
   "outputs": [],
   "source": [
    "z16 = pd.merge(z16_long[[\"Name\", \"Teff\", \"logg\", \"[Fe/H]\", \"xi\"]].drop_duplicates(), z16, on='Name')"
   ]
  },
  {
   "cell_type": "code",
   "execution_count": null,
   "id": "36",
   "metadata": {},
   "outputs": [],
   "source": [
    "z16.columns.values"
   ]
  },
  {
   "cell_type": "code",
   "execution_count": null,
   "id": "37",
   "metadata": {},
   "outputs": [],
   "source": [
    "plt.scatter(z16.Teff, z16.logg)\n",
    "plt.xlabel(\"Teff\")\n",
    "plt.ylabel(\"logg\")"
   ]
  },
  {
   "cell_type": "code",
   "execution_count": null,
   "id": "38",
   "metadata": {},
   "outputs": [],
   "source": [
    "z16[\"C_H\"] = z16[\"[C I/H]\"] \n",
    "z16[\"C_H_err\"] = z16[\"e_[C I/H]\"] \n",
    "\n",
    "\n",
    "z16[\"C_O\"] = z16[\"[C I/H]\"] - z16[\"[O I/H]\"]\n",
    "z16[\"C_O_err\"] = z16[\"e_[C I/H]\"] - z16[\"e_[O I/H]\"]\n",
    "\n",
    "z16[\"O_H\"] = z16[\"[O I/H]\"]\n",
    "z16[\"O_H_err\"] = z16[\"e_[O I/H]\"]\n",
    "\n",
    "z16[\"FE_H\"] = z16[\"[Fe I/H]\"]\n",
    "z16[\"FE_H_err\"] = z16[\"e_[Fe I/H]\"]\n",
    "\n",
    "z16[\"O_FE\"] = z16[\"[O I/Fe]\"]\n",
    "z16[\"O_FE_err\"] = z16[\"e_[O I/H]\"] + z16[\"e_[Fe I/H]\"]"
   ]
  },
  {
   "cell_type": "code",
   "execution_count": null,
   "id": "39",
   "metadata": {},
   "outputs": [],
   "source": [
    "plt.errorbar(z16.C_H, z16[\"[C I/H]LTE\"] - z16.C_H, yerr=z16.C_H_err, fmt=\"o\", capsize=0)\n",
    "plt.xlabel(\"[C/H]\")\n",
    "plt.ylabel(\"1D LTE - 3D NLTE\")"
   ]
  },
  {
   "cell_type": "code",
   "execution_count": null,
   "id": "40",
   "metadata": {},
   "outputs": [],
   "source": [
    "plot_sample(z16)"
   ]
  },
  {
   "cell_type": "code",
   "execution_count": null,
   "id": "41",
   "metadata": {},
   "outputs": [],
   "source": [
    "plt.errorbar(z16.C_H, z16[\"[C I/H]LTE\"] - z16.C_H, yerr=z16.C_H_err, fmt=\"o\", capsize=0)\n",
    "plt.xlabel(\"[C/H]\")\n",
    "plt.ylabel(\" LTE - NLTE\")"
   ]
  },
  {
   "cell_type": "code",
   "execution_count": null,
   "id": "42",
   "metadata": {},
   "outputs": [],
   "source": [
    "plt.errorbar(z16.C_H, z16[\"[CH/Fe]LTE\"] - z16.C_H + z16.FE_H, yerr=z16.C_H_err, fmt=\"o\", capsize=0)\n",
    "plt.xlabel(\"[C/H]\")\n",
    "plt.ylabel(\"CH - C I\")"
   ]
  },
  {
   "cell_type": "code",
   "execution_count": null,
   "id": "43",
   "metadata": {},
   "outputs": [],
   "source": [
    "plt.errorbar(z16.O_H, z16[\"[O I/H]LTE\"] - z16.O_H, yerr=z16.O_H_err, fmt=\"o\", capsize=0)\n",
    "plt.xlabel(\"[O/H]\")\n",
    "plt.ylabel(\"1D LTE - 3D NLTE\")"
   ]
  },
  {
   "cell_type": "code",
   "execution_count": null,
   "id": "44",
   "metadata": {},
   "outputs": [],
   "source": [
    "z16.to_csv(\"zhao+16_cleaned.csv\")"
   ]
  },
  {
   "cell_type": "markdown",
   "id": "45",
   "metadata": {},
   "source": [
    "## Combined"
   ]
  },
  {
   "cell_type": "code",
   "execution_count": null,
   "id": "46",
   "metadata": {},
   "outputs": [],
   "source": [
    "plot_abund_errs(z16)\n",
    "plot_abund_errs(amarsi19)"
   ]
  },
  {
   "cell_type": "markdown",
   "id": "47",
   "metadata": {
    "jp-MarkdownHeadingCollapsed": true
   },
   "source": [
    "## Extra"
   ]
  },
  {
   "cell_type": "markdown",
   "id": "48",
   "metadata": {
    "jp-MarkdownHeadingCollapsed": true,
    "tags": []
   },
   "source": [
    "### bedell 18\n",
    "solar twins sample. https://ui.adsabs.harvard.edu/abs/2018ApJ...865...68B/abstract.\n",
    "Doesn't help with global trends since all stars almost same\n"
   ]
  },
  {
   "cell_type": "code",
   "execution_count": null,
   "id": "49",
   "metadata": {},
   "outputs": [],
   "source": [
    "b18 = pd.read_csv(DATA_DIR + \"bedell18.dat\", delimiter=\" +\", comment=\"#\")"
   ]
  },
  {
   "cell_type": "code",
   "execution_count": null,
   "id": "50",
   "metadata": {},
   "outputs": [],
   "source": [
    "plt.scatter(b18[\"[OI/H]\"], b18[\"[CI/H]\"] - b18[\"[OI/H]\"])\n",
    "plt.xlabel(\"[O/H]\")\n",
    "plt.ylabel(\"[C/O]\")"
   ]
  },
  {
   "cell_type": "markdown",
   "id": "51",
   "metadata": {
    "jp-MarkdownHeadingCollapsed": true,
    "tags": []
   },
   "source": [
    "### Bensby et al. (2019, 2021)\n",
    "The galactic bulge sample"
   ]
  },
  {
   "cell_type": "code",
   "execution_count": null,
   "id": "52",
   "metadata": {},
   "outputs": [],
   "source": [
    "bensby21 = pd.read_csv(DATA_DIR + \"bensby21.tsv\", delimiter=\"\\t *\", comment=\"#\",engine='python')\n",
    "bensby19 = pd.read_csv(DATA_DIR + \"bensby19.tsv\", delimiter=\"\\t *\", comment=\"#\",engine='python')\n",
    "\n",
    "bensby = bensby21.set_index(\"Name\").join(bensby19.set_index(\"Name\"),rsuffix=\"_b19\", how=\"left\")\n",
    "\n",
    "bensby[\"C_O\"] = bensby[\"[C/H]\"] - bensby[\"[O/H]\"]\n",
    "bensby[\"C_O_err\"] = bensby[\"e_[C/O]\"]\n",
    "\n",
    "bensby[\"O_FE\"] = bensby[\"[O/H]\"] - bensby[\"[Fe/H]\"]\n",
    "bensby[\"O_FE_err\"] = bensby[\"e_[O/H]\"] + bensby[\"e_[Fe/H]\"]\n",
    "\n",
    "bensby[\"O_H\"] = bensby[\"[O/H]\"]\n",
    "bensby[\"O_H_err\"] = bensby[\"e_[O/H]\"]\n",
    "\n",
    "bensby[\"FE_H\"] = bensby[\"[Fe/H]\"]\n",
    "bensby[\"FE_H_err\"] = bensby[\"e_[Fe/H]\"]\n"
   ]
  },
  {
   "cell_type": "code",
   "execution_count": null,
   "id": "53",
   "metadata": {},
   "outputs": [],
   "source": [
    "plot_sample(bensby, alpha=0.2)"
   ]
  },
  {
   "cell_type": "markdown",
   "id": "54",
   "metadata": {
    "jp-MarkdownHeadingCollapsed": true
   },
   "source": [
    "### Fabbian et al. 2009\n",
    "Rehashed in Amarsi"
   ]
  },
  {
   "cell_type": "code",
   "execution_count": null,
   "id": "55",
   "metadata": {},
   "outputs": [],
   "source": [
    "F09 = pd.read_csv(DATA_DIR + \"Fabbian09.csv\", sep=\"\\s+\")"
   ]
  },
  {
   "cell_type": "markdown",
   "id": "56",
   "metadata": {
    "tags": []
   },
   "source": [
    "# RL"
   ]
  },
  {
   "cell_type": "markdown",
   "id": "57",
   "metadata": {},
   "source": [
    "work from\n",
    "- Esteban et al . (2002, 2009, 2014)\n",
    "- García-Rojas et al. (2007)\n",
    "- López-Sánchez et al. (2007)\n",
    "- Mendez-Delgado et al. 2022\n",
    "- Skillman et al. (2020)\n",
    "- Toribio San Cipriano et al. 2016, 2017.\n",
    "- Peimbert et al. 2005\n",
    "\n",
    "\n",
    "Other\n",
    "- Peimberg 2003 does 30 Dor in LMC (like TSC)\n",
    "- García-Rojas 2003, 2004, 2006 (galactic regions)\n",
    "- Tsamis et al. 2003. (galactic and LMC, covered by more modern studies)\n",
    "\n"
   ]
  },
  {
   "cell_type": "markdown",
   "id": "58",
   "metadata": {},
   "source": [
    "## Esteban + 09"
   ]
  },
  {
   "cell_type": "code",
   "execution_count": null,
   "id": "59",
   "metadata": {},
   "outputs": [],
   "source": [
    "E09 = pd.read_csv(DATA_DIR +  \"nearby_RL/esteban+09.tsv\", comment=\"#\", sep=r\"\\t\")\n",
    "E09[\"O_H\"] = gcem.eps_to_brak(E09.eps_o, \"O\")\n",
    "E09[\"O_H_err\"] = E09.o_err\n",
    "E09[\"C_H\"] = gcem.eps_to_brak(E09.eps_c, \"C\")\n",
    "E09[\"C_H_err\"] =E09.c_err\n",
    "E09[\"C_O\"] = E09.C_H - E09.O_H\n",
    "E09[\"C_O_err\"] = E09.C_H_err + E09.O_H_err\n",
    "E09[\"study\"] = \"esteban+09\"\n",
    "E09"
   ]
  },
  {
   "cell_type": "code",
   "execution_count": null,
   "id": "60",
   "metadata": {},
   "outputs": [],
   "source": [
    "E09.sort_values(\"eps_o\")"
   ]
  },
  {
   "cell_type": "markdown",
   "id": "61",
   "metadata": {},
   "source": [
    "VS-24 and VS-38 have large abundance discrepancies from Garnett measurements, so I believe this is why they are excluded?"
   ]
  },
  {
   "cell_type": "code",
   "execution_count": null,
   "id": "62",
   "metadata": {},
   "outputs": [],
   "source": [
    "plot_abund_errs(E09.loc[~np.isin(E09.region, [\"VS-24\", \"VS-38\"])])"
   ]
  },
  {
   "cell_type": "markdown",
   "id": "63",
   "metadata": {},
   "source": [
    "Reproduced except for NGC 5447 which I believe they take the average of t^2 > 0 and t^2 = 0 values for oxygen whereas I just use t^2 > 0."
   ]
  },
  {
   "cell_type": "markdown",
   "id": "64",
   "metadata": {},
   "source": [
    "## Esteban + 2014"
   ]
  },
  {
   "cell_type": "code",
   "execution_count": null,
   "id": "65",
   "metadata": {},
   "outputs": [],
   "source": [
    "E14 = pd.read_csv(DATA_DIR +  \"nearby_RL/esteban+14.tsv\", comment=\"#\", sep=r\"\\t\")\n",
    "E14[\"O_H\"] = gcem.eps_to_brak(E14.eps_o, \"O\")\n",
    "E14[\"O_H_err\"] = E14.o_err\n",
    "E14[\"C_H\"] = gcem.eps_to_brak(E14.eps_c, \"C\")\n",
    "E14[\"C_H_err\"] =E14.c_err\n",
    "E14[\"C_O\"] = E14.C_H - E14.O_H\n",
    "E14[\"C_O_err\"] = E14.C_H_err + E14.O_H_err\n",
    "E14[\"study\"] = \"esteban+14\"\n",
    "E14"
   ]
  },
  {
   "cell_type": "code",
   "execution_count": null,
   "id": "66",
   "metadata": {},
   "outputs": [],
   "source": [
    "plot_abund_errs(E14)\n",
    "plt.scatter(E14.O_H, E14.C_O)"
   ]
  },
  {
   "cell_type": "markdown",
   "id": "67",
   "metadata": {},
   "source": [
    "Verified. Note that only the ones with errors match. I believe they also take the average of t^2=0 and t^2>0 values, but all of these detections are very weak and the oxygen abundance is low, so it is reasonable to exclude these objects."
   ]
  },
  {
   "cell_type": "markdown",
   "id": "68",
   "metadata": {
    "tags": []
   },
   "source": [
    "## Mendez-Delgado et al. 2022\n",
    "MW HII regions"
   ]
  },
  {
   "cell_type": "code",
   "execution_count": null,
   "id": "69",
   "metadata": {},
   "outputs": [],
   "source": [
    "def read_md22():\n",
    "    df = pd.read_csv(DATA_DIR +  \"nearby_RL/mendez-delgado+22.csv\", comment=\"#\")\n",
    "    df1 = pd.DataFrame()\n",
    "    df1[\"O_H\"] = gcem.eps_to_brak(df[\"O_H\"], \"o\")\n",
    "    df1[\"[c/h]\"] = gcem.eps_to_brak(df[\"C_H\"], \"c\")\n",
    "    df1[\"[n/h]\"] = gcem.eps_to_brak(df[\"N_H\"], \"n\")\n",
    "\n",
    "    df1[\"[c/n]\"] = df1[\"[c/h]\"] - df1[\"[n/h]\"]\n",
    "    df1[\"C_O\"] = df1[\"[c/h]\"] - df1[\"O_H\"]\n",
    "    df1[\"[n/o]\"] = df1[\"[n/h]\"] - df1[\"O_H\"]\n",
    "\n",
    "    df1[\"O_H_err\"] = df[\"O_H_err\"]\n",
    "    df1[\"C_O_err\"] = df[\"C_H_err\"] + df[\"O_H_err\"]\n",
    "    df1[\"[n/o]_err\"] = df[\"N_H_err\"] + df[\"O_H_err\"]\n",
    "    df1[\"[c/n]_err\"] = df[\"C_H_err\"] + df[\"N_H_err\"]\n",
    "    df1[\"region\"] = df.Region\n",
    "    df1[\"R_g\"] = df.R_g\n",
    "\n",
    "    df1.name = \"Milkyway\"\n",
    "    return df1\n",
    "md22 = read_md22()\n",
    "md22a = pd.read_csv(DATA_DIR + \"nearby_RL/mendez-delgado+22.csv\", comment=\"#\")\n",
    "md22[\"study\"] = \"mendez-delgado+22\"\n",
    "md22[\"galaxy\"] = \"MW\""
   ]
  },
  {
   "cell_type": "code",
   "execution_count": null,
   "id": "70",
   "metadata": {},
   "outputs": [],
   "source": [
    "md22"
   ]
  },
  {
   "cell_type": "code",
   "execution_count": null,
   "id": "71",
   "metadata": {},
   "outputs": [],
   "source": [
    "plt.errorbar(md22a.R_g, md22a.C_H, yerr=md22a.C_H_err, fmt=\"o\")\n",
    "plt.xlabel(\"R\")\n",
    "plt.ylabel(\"eps C\")"
   ]
  },
  {
   "cell_type": "code",
   "execution_count": null,
   "id": "72",
   "metadata": {},
   "outputs": [],
   "source": [
    "plt.errorbar(md22a.R_g, md22a.O_H, yerr=md22a.O_H_err, fmt=\"o\")\n",
    "plt.xlabel(\"R\")\n",
    "plt.ylabel(\"eps(O)\")"
   ]
  },
  {
   "cell_type": "markdown",
   "id": "73",
   "metadata": {},
   "source": [
    "Verified!"
   ]
  },
  {
   "cell_type": "code",
   "execution_count": null,
   "id": "74",
   "metadata": {},
   "outputs": [],
   "source": [
    "plot_abund_errs(md22)"
   ]
  },
  {
   "cell_type": "markdown",
   "id": "75",
   "metadata": {},
   "source": []
  },
  {
   "cell_type": "markdown",
   "id": "76",
   "metadata": {
    "tags": []
   },
   "source": [
    "## Skillman et al. 2020\n",
    "M101 data from CHAOS\n",
    "Recombination lines\n",
    "\n",
    "LBT\n",
    "CII λ4267 with ionization corrections"
   ]
  },
  {
   "cell_type": "code",
   "execution_count": null,
   "id": "77",
   "metadata": {},
   "outputs": [],
   "source": [
    "def read_skillman20():\n",
    "    df = pd.read_csv(DATA_DIR + \"nearby_RL/skillman+20.tsv\", sep=\"\\t\")\n",
    "    df1 = pd.DataFrame()\n",
    "    df1[\"O_H\"] = gcem.eps_to_brak(df[\"O_H\"], \"o\")\n",
    "    df1[\"C_O\"] = gcem.log_to_brak(df[\"C_O\"], \"c\", \"o\")\n",
    "    df1[\"[c/n]\"] = gcem.log_to_brak(df[\"C_N\"], \"c\", \"n\")\n",
    "    df1[\"[n/o]\"] = df1[\"C_O\"] - df1[\"[c/n]\"]\n",
    "\n",
    "    df1[\"O_H_err\"] = df[\"O_H_err\"]\n",
    "    df1[\"C_O_err\"] = df[\"C_O_err\"] \n",
    "    df1[\"[c/n]_err\"] = df[\"C_N_err\"] * 12/14\n",
    "    df1[\"[n/o]_err\"] = df[\"C_O_err\"] + df[\"C_N_err\"]\n",
    "\n",
    "    df1[\"galaxy\"] =\"M101\"\n",
    "    df1[\"region\"] = df.region\n",
    "    df1[\"study\"] = \"skillman+20\"\n",
    "    return df1\n",
    "\n",
    "skillman20 = read_skillman20()"
   ]
  },
  {
   "cell_type": "code",
   "execution_count": null,
   "id": "78",
   "metadata": {},
   "outputs": [],
   "source": [
    "plot_abund_errs(skillman20)"
   ]
  },
  {
   "cell_type": "markdown",
   "id": "79",
   "metadata": {},
   "source": [
    "Verified"
   ]
  },
  {
   "cell_type": "markdown",
   "id": "80",
   "metadata": {
    "tags": []
   },
   "source": [
    "##  Toribio San Cipriano et al. (2016)\n",
    "NGC 300 and M33 abundances using RL on UVES"
   ]
  },
  {
   "cell_type": "code",
   "execution_count": null,
   "id": "81",
   "metadata": {},
   "outputs": [],
   "source": [
    "tsc16 = pd.read_csv(f\"{DATA_DIR}/nearby_RL/TSC16.tsv\", sep=\"\\t\", comment=\"#\")"
   ]
  },
  {
   "cell_type": "code",
   "execution_count": null,
   "id": "82",
   "metadata": {},
   "outputs": [],
   "source": [
    "tsc16.columns"
   ]
  },
  {
   "cell_type": "code",
   "execution_count": null,
   "id": "83",
   "metadata": {},
   "outputs": [],
   "source": [
    "tsc16[\"O_H\"] = gcem.eps_to_brak(tsc16.eps_o, \"o\")\n",
    "tsc16[\"O_H_err\"] = tsc16.eps_o_err\n",
    "tsc16[\"C_O\"] = gcem.log_to_brak(tsc16.log_c_o, \"c\", \"o\")\n",
    "tsc16[\"C_O_err\"] = tsc16.log_c_o_err\n",
    "tsc16[\"study\"] = \"toribo-san-cipriano+16\""
   ]
  },
  {
   "cell_type": "code",
   "execution_count": null,
   "id": "84",
   "metadata": {},
   "outputs": [],
   "source": [
    "tsc16"
   ]
  },
  {
   "cell_type": "code",
   "execution_count": null,
   "id": "85",
   "metadata": {},
   "outputs": [],
   "source": [
    "plot_abund_errs(tsc16)"
   ]
  },
  {
   "cell_type": "markdown",
   "id": "86",
   "metadata": {},
   "source": [
    "Verified!"
   ]
  },
  {
   "cell_type": "markdown",
   "id": "87",
   "metadata": {
    "tags": []
   },
   "source": [
    "##  Toribio San Cipriano et al. (2017)\n",
    "LMC and SMC abundances using RL, 5 and 4 HII regions respectively.\n",
    "Compares to CEL lines\n",
    "- C II 4267.15\n",
    "- ~ 7 \\[O II\\] lines"
   ]
  },
  {
   "cell_type": "code",
   "execution_count": null,
   "id": "88",
   "metadata": {},
   "outputs": [],
   "source": [
    "tsc17 = pd.read_csv(f\"{DATA_DIR}/nearby_RL/TSC17.tsv\", sep=\"\\t\", comment=\"#\")"
   ]
  },
  {
   "cell_type": "code",
   "execution_count": null,
   "id": "89",
   "metadata": {},
   "outputs": [],
   "source": [
    "tsc17[\"O_H\"] = gcem.eps_to_brak(tsc17.eps_o, \"o\")\n",
    "tsc17[\"O_H_err\"] = tsc17.eps_o_err\n",
    "tsc17[\"C_O\"] = gcem.log_to_brak(tsc17.log_c_o, \"c\", \"o\")\n",
    "tsc17[\"C_O_err\"] = tsc17.log_c_o_err\n",
    "\n",
    "tsc17[\"C_O_2\"] = gcem.log_to_brak(tsc17.log_c_o_cel, \"c\", \"o\")\n",
    "tsc17[\"C_O_2_err\"] = tsc17.log_c_o_err\n",
    "tsc17[\"study\"] = \"toribo-san-cipriano+17\""
   ]
  },
  {
   "cell_type": "code",
   "execution_count": null,
   "id": "90",
   "metadata": {},
   "outputs": [],
   "source": [
    "tsc17"
   ]
  },
  {
   "cell_type": "code",
   "execution_count": null,
   "id": "91",
   "metadata": {},
   "outputs": [],
   "source": [
    "gcem.log_to_brak(-0.5, \"c\", \"o\")"
   ]
  },
  {
   "cell_type": "code",
   "execution_count": null,
   "id": "92",
   "metadata": {},
   "outputs": [],
   "source": [
    "gcem.log_to_abundance(-3.2, \"o\")\n"
   ]
  },
  {
   "cell_type": "code",
   "execution_count": null,
   "id": "93",
   "metadata": {},
   "outputs": [],
   "source": [
    "gcem.eps_to_brak(8.2, \"o\")"
   ]
  },
  {
   "cell_type": "code",
   "execution_count": null,
   "id": "94",
   "metadata": {},
   "outputs": [],
   "source": [
    "plot_abund_errs(tsc17)"
   ]
  },
  {
   "cell_type": "markdown",
   "id": "95",
   "metadata": {},
   "source": [
    "Verified!"
   ]
  },
  {
   "cell_type": "code",
   "execution_count": null,
   "id": "96",
   "metadata": {},
   "outputs": [],
   "source": [
    "plt.scatter(tsc17.O_H, tsc17.C_O - tsc17.C_O_2)\n",
    "plt.xlabel(\"[O/H]\")\n",
    "plt.ylabel(\"change in [C/O] from RL-CEL\")"
   ]
  },
  {
   "cell_type": "markdown",
   "id": "97",
   "metadata": {
    "tags": []
   },
   "source": [
    "## Misc"
   ]
  },
  {
   "cell_type": "code",
   "execution_count": null,
   "id": "98",
   "metadata": {},
   "outputs": [],
   "source": [
    "rl_raw = {}\n",
    "\n",
    "dirname = \"../../data/nearby_RL/\"\n",
    "for filename in os.listdir(dirname):\n",
    "    if filename.startswith(\"_\"):\n",
    "        continue\n",
    "    if filename.endswith(\".toml\"):\n",
    "        print(filename)\n",
    "        with open(dirname + filename, \"r\") as f:\n",
    "            name = os.path.splitext(filename)[0]\n",
    "            rl_raw[name] = toml.load(f)\n"
   ]
  },
  {
   "cell_type": "code",
   "execution_count": null,
   "id": "99",
   "metadata": {},
   "outputs": [],
   "source": [
    "rl_raw"
   ]
  },
  {
   "cell_type": "code",
   "execution_count": null,
   "id": "100",
   "metadata": {},
   "outputs": [],
   "source": [
    "cols = [\"galaxy\", \"redshift\", \"log_HI\", \"log_HI_err\", \"log_CII\", \"log_CII_err\", \"log_OI\", \"log_OI_err\"]\n",
    "\n",
    "rl = pd.DataFrame()\n",
    "\n",
    "\n",
    "for study, attrs in rl_raw.items():\n",
    "    print(study)\n",
    "    series = pd.DataFrame(attrs[\"regions\"])\n",
    "    series[\"study\"] = study\n",
    "    rl = pd.concat([rl, series], ignore_index=True, axis=0)\n"
   ]
  },
  {
   "cell_type": "code",
   "execution_count": null,
   "id": "101",
   "metadata": {},
   "outputs": [],
   "source": [
    "rl"
   ]
  },
  {
   "cell_type": "code",
   "execution_count": null,
   "id": "102",
   "metadata": {},
   "outputs": [],
   "source": [
    "rl[\"C_O\"] = gcem.log_to_brak(rl.eps_C - rl.eps_O, \"c\", \"o\")\n",
    "rl[\"C_O_err\"] = rl.eps_C_err + rl.eps_O_err\n",
    "rl[\"O_H\"] = gcem.eps_to_brak(rl.eps_O, \"o\")\n",
    "rl[\"O_H_err\"] = rl.eps_O_err"
   ]
  },
  {
   "cell_type": "code",
   "execution_count": null,
   "id": "103",
   "metadata": {},
   "outputs": [],
   "source": [
    "df = rl.loc[rl.study == \"esteban+02\"]\n",
    "plt.scatter(df.O_H, df.C_O)\n",
    "plot_abund_errs(df)\n"
   ]
  },
  {
   "cell_type": "markdown",
   "id": "104",
   "metadata": {},
   "source": [
    "verified"
   ]
  },
  {
   "cell_type": "code",
   "execution_count": null,
   "id": "105",
   "metadata": {},
   "outputs": [],
   "source": [
    "for label in rl.study.unique():\n",
    "    df = rl.loc[rl.study == label]\n",
    "\n",
    "    plot_abund_errs(df, label=label)\n",
    "    \n",
    "arya.Legend(loc=-1)"
   ]
  },
  {
   "cell_type": "markdown",
   "id": "106",
   "metadata": {
    "tags": []
   },
   "source": [
    "## All"
   ]
  },
  {
   "cell_type": "code",
   "execution_count": null,
   "id": "107",
   "metadata": {},
   "outputs": [],
   "source": [
    "tsc17[\"class\"] = \"magellanic\"\n",
    "tsc16[\"class\"] = \"spiral\"\n",
    "\n",
    "md22[\"class\"] = \"MW\"\n",
    "skillman20[\"class\"] = \"spiral\""
   ]
  },
  {
   "cell_type": "code",
   "execution_count": null,
   "id": "108",
   "metadata": {},
   "outputs": [],
   "source": [
    "RLs = pd.concat([rl, md22, skillman20, tsc16, tsc17, E14, E09])\n",
    "RL_err = calc_errs(RLs)"
   ]
  },
  {
   "cell_type": "code",
   "execution_count": null,
   "id": "109",
   "metadata": {},
   "outputs": [],
   "source": [
    "skillman20"
   ]
  },
  {
   "cell_type": "code",
   "execution_count": null,
   "id": "110",
   "metadata": {},
   "outputs": [],
   "source": [
    "RL_clean = RLs[~np.isnan(RLs.C_O_err)]"
   ]
  },
  {
   "cell_type": "code",
   "execution_count": null,
   "id": "111",
   "metadata": {},
   "outputs": [],
   "source": [
    "for index, group in RL_clean.groupby([\"galaxy\", \"region\"]):\n",
    "    if len(group) > 1:\n",
    "        plot_abund_errs(group, label=index, fmt=\".-\")\n",
    "        plt.scatter(group.O_H, group.C_O, s=1+ 3*np.arange(len(group)))\n",
    "        print(index)\n",
    "        print(group.study)\n",
    "\n",
    "arya.Legend(-1)"
   ]
  },
  {
   "cell_type": "code",
   "execution_count": null,
   "id": "112",
   "metadata": {},
   "outputs": [],
   "source": [
    "for galaxy in RL_clean.galaxy.unique():\n",
    "    df = RL_clean.loc[RL_clean.galaxy == galaxy].sort_values(\"O_H\")\n",
    "\n",
    "    if ((df[\"class\"].iloc[0]) in [\"magellanic\", \"spiral\", \"MW\"]):\n",
    "        fmt = \"o-\"\n",
    "        label=galaxy\n",
    "    else:\n",
    "        fmt = \"k^-\"\n",
    "        label=\"\"\n",
    "        print(df[\"class\"].iloc[0], df[\"galaxy\"].iloc[0], df[\"C_O_err\"].iloc[-1])\n",
    "    plot_abund_errs(df, fmt=fmt, label=label)\n",
    "arya.Legend(-1)"
   ]
  },
  {
   "cell_type": "code",
   "execution_count": null,
   "id": "113",
   "metadata": {},
   "outputs": [],
   "source": [
    "for study in RL_clean.study.unique():\n",
    "    df = RL_clean.loc[RL_clean.study == study]\n",
    "\n",
    "  \n",
    "    plot_abund_errs(df,label=study)\n",
    "arya.Legend(-1)"
   ]
  },
  {
   "cell_type": "markdown",
   "id": "114",
   "metadata": {
    "jp-MarkdownHeadingCollapsed": true,
    "tags": []
   },
   "source": [
    "## All"
   ]
  },
  {
   "cell_type": "code",
   "execution_count": null,
   "id": "115",
   "metadata": {},
   "outputs": [],
   "source": [
    "RLs = pd.concat([RLs, skillman20, md22, tsc16, tsc17], ignore_index=True)\n"
   ]
  },
  {
   "cell_type": "code",
   "execution_count": null,
   "id": "116",
   "metadata": {},
   "outputs": [],
   "source": [
    "plot_sample_err(RLs, RL_err)"
   ]
  },
  {
   "cell_type": "code",
   "execution_count": null,
   "id": "117",
   "metadata": {},
   "outputs": [],
   "source": [
    "RLs.to_csv(\"RL_combined.csv\")"
   ]
  },
  {
   "cell_type": "markdown",
   "id": "118",
   "metadata": {
    "tags": []
   },
   "source": [
    "# CELs/"
   ]
  },
  {
   "cell_type": "markdown",
   "id": "119",
   "metadata": {},
   "source": [
    "\n",
    "- berg 2016, 2019\n",
    "- Peña-Guerrero et al. 2017 (DUST CORRECTIONS?! also look at GCE discussion)\n",
    "- Leitherer ? "
   ]
  },
  {
   "cell_type": "markdown",
   "id": "120",
   "metadata": {
    "jp-MarkdownHeadingCollapsed": true
   },
   "source": [
    "## Pena-guerreno+17"
   ]
  },
  {
   "cell_type": "markdown",
   "id": "121",
   "metadata": {},
   "source": [
    "Notes"
   ]
  },
  {
   "cell_type": "code",
   "execution_count": null,
   "id": "122",
   "metadata": {},
   "outputs": [],
   "source": [
    "pg17 = pd.read_csv(DATA_DIR + \"nearby_CEL/pena-guerreno+17.csv\", sep=\"\\\\s+\", comment=\"#\")"
   ]
  },
  {
   "cell_type": "code",
   "execution_count": null,
   "id": "123",
   "metadata": {},
   "outputs": [],
   "source": [
    "pg17[\"O_H\"] = gcem.eps_to_brak(pg17.eps_o, \"O\")\n",
    "pg17[\"O_H_err\"] = pg17.eps_o_err\n",
    "pg17[\"C_H\"] = gcem.eps_to_brak(pg17.eps_c, \"C\")\n",
    "pg17[\"C_H_err\"] =pg17.eps_c_err\n",
    "pg17[\"C_O\"] = pg17.C_H - pg17.O_H\n",
    "pg17[\"C_O_err\"] = pg17.C_H_err + pg17.O_H_err\n",
    "pg17[\"study\"] = \"pena-guerreno+17\""
   ]
  },
  {
   "cell_type": "code",
   "execution_count": null,
   "id": "124",
   "metadata": {},
   "outputs": [],
   "source": [
    "pg17"
   ]
  },
  {
   "cell_type": "code",
   "execution_count": null,
   "id": "125",
   "metadata": {},
   "outputs": [],
   "source": [
    "plot_abund_errs(pg17)"
   ]
  },
  {
   "cell_type": "markdown",
   "id": "126",
   "metadata": {},
   "source": [
    "verified"
   ]
  },
  {
   "cell_type": "code",
   "execution_count": null,
   "id": "127",
   "metadata": {},
   "outputs": [],
   "source": [
    "cel_raw = {}\n",
    "\n",
    "dirname = \"../../data/nearby_CEL/\"\n",
    "for filename in os.listdir(dirname):\n",
    "    if filename.startswith(\"_\"):\n",
    "        continue\n",
    "    if filename.endswith(\".toml\"):\n",
    "        print(filename)\n",
    "        with open(dirname + filename, \"r\") as f:\n",
    "            name = os.path.splitext(filename)[0]\n",
    "            cel_raw[name] = toml.load(f)\n"
   ]
  },
  {
   "cell_type": "code",
   "execution_count": null,
   "id": "128",
   "metadata": {},
   "outputs": [],
   "source": [
    "CEL = pd.DataFrame()\n",
    "\n",
    "\n",
    "for study, attrs in cel_raw.items():\n",
    "    print(study)\n",
    "    series = pd.DataFrame(attrs[\"regions\"])\n",
    "    series[\"study\"] = study\n",
    "    CEL = pd.concat([CEL, series], ignore_index=True, axis=0)\n"
   ]
  },
  {
   "cell_type": "code",
   "execution_count": null,
   "id": "129",
   "metadata": {},
   "outputs": [],
   "source": [
    "CEL.loc[~np.isnan(CEL.log_O_H), \"eps_O\"] = 12 + CEL.log_O_H\n",
    "CEL.loc[~np.isnan(CEL.log_O_H), \"eps_O_err\"] = CEL.log_O_H_err\n",
    "CEL"
   ]
  },
  {
   "cell_type": "code",
   "execution_count": null,
   "id": "130",
   "metadata": {},
   "outputs": [],
   "source": [
    "CEL[\"C_O\"] = gcem.log_to_brak(CEL.log_C_O, \"c\", \"o\")\n",
    "CEL[\"C_O_err\"] = CEL.log_C_O_err\n",
    "CEL[\"O_H\"] = gcem.eps_to_brak(CEL.eps_O, \"o\")\n",
    "CEL[\"O_H_err\"] = CEL.eps_O_err"
   ]
  },
  {
   "cell_type": "code",
   "execution_count": null,
   "id": "131",
   "metadata": {},
   "outputs": [],
   "source": [
    "CEL"
   ]
  },
  {
   "cell_type": "code",
   "execution_count": null,
   "id": "132",
   "metadata": {},
   "outputs": [],
   "source": [
    "for label in CEL.study.unique():\n",
    "    df = CEL.loc[CEL.study == label]\n",
    "\n",
    "    plot_abund_errs(df, label=label)\n",
    "    \n",
    "arya.Legend(loc=-1)"
   ]
  },
  {
   "cell_type": "code",
   "execution_count": null,
   "id": "133",
   "metadata": {},
   "outputs": [],
   "source": [
    "for label in CEL.study.unique():\n",
    "    df = CEL.loc[CEL.study == label]\n",
    "\n",
    "    plot_abund_errs(df, label=label)\n",
    "    plt.title(label)\n",
    "    plt.show()\n"
   ]
  },
  {
   "cell_type": "markdown",
   "id": "134",
   "metadata": {},
   "source": [
    "Verified\n",
    "- garnett 1999\n",
    "- garnett 1995\n",
    "- izotov+thuan\n",
    "- no plot for senchyna"
   ]
  },
  {
   "cell_type": "code",
   "execution_count": null,
   "id": "135",
   "metadata": {},
   "outputs": [],
   "source": [
    "cols = [\"galaxy\", \"log_C_O\", \"log_C_O_err\", \"eps_O\", \"eps_O_err\"]\n",
    "min_cols = cols"
   ]
  },
  {
   "cell_type": "code",
   "execution_count": null,
   "id": "136",
   "metadata": {},
   "outputs": [],
   "source": [
    "dwarfs_misc = pd.DataFrame()\n",
    "\n",
    "\n",
    "for study, attrs in local_dwarfs_raw.items():\n",
    "    \n",
    "    if type(attrs) is dict and contains_min_cols(attrs, min_cols):\n",
    "        series = toml_to_df(attrs, cols)\n",
    "        series[\"study\"] = study\n",
    "        dwarfs_misc = pd.concat([dwarfs_misc, series], ignore_index=True, axis=0)\n",
    "    else:\n",
    "        print(\"warning, incomplete data for\", study)"
   ]
  },
  {
   "cell_type": "code",
   "execution_count": null,
   "id": "137",
   "metadata": {},
   "outputs": [],
   "source": [
    "dwarfs_misc[\"C_O\"] = gcem.log_to_brak(dwarfs_misc.log_C_O, \"c\", \"o\")\n",
    "dwarfs_misc[\"O_H\"] = gcem.eps_to_brak(dwarfs_misc.eps_O, \"o\")\n",
    "dwarfs_misc[\"C_O_err\"] = dwarfs_misc.log_C_O_err\n",
    "dwarfs_misc[\"O_H_err\"] = dwarfs_misc.eps_O_err"
   ]
  },
  {
   "cell_type": "code",
   "execution_count": null,
   "id": "138",
   "metadata": {},
   "outputs": [],
   "source": [
    "plot_abund_errs(dwarfs_misc)"
   ]
  },
  {
   "cell_type": "markdown",
   "id": "139",
   "metadata": {
    "jp-MarkdownHeadingCollapsed": true,
    "tags": []
   },
   "source": [
    "## Berg et al. 2019\n",
    "\n",
    "CEL using UV spectroscopy from HST\n"
   ]
  },
  {
   "cell_type": "code",
   "execution_count": null,
   "id": "140",
   "metadata": {},
   "outputs": [],
   "source": [
    "berg19_oh = [7.738564437848462, 7.6632886767478245, 7.747268460952228, 7.750820263928443, 7.713715855761903, 7.589795836508764, 7.6974589868035785, 7.645978901768882, 7.6295676065942, 7.544970117524367, 7.612033211664193, 7.583534555372829, 7.72890577995267, 7.697318599334163, 7.712185632345273, 7.868184188359874, 7.91372588343829, 7.910117925474309, 8.026962416268903]\n",
    "berg19_co = [-0.3746933819064967, -0.48816029143898, -0.5211171827565271, -0.5504310868245295, -0.5995992714025501, -0.6620036429872496, -0.7178384942319369, -0.7848573163327262, -0.8006435944140862, -0.8836429872495446, -0.9455737704918032, -1.038554948391014, -1.0339647844565878, -0.7561748633879781, -0.7804857316332725, -0.655397692774742, -0.5993321190042502, -0.7889981785063751, -0.8897632058287797]"
   ]
  },
  {
   "cell_type": "code",
   "execution_count": null,
   "id": "141",
   "metadata": {},
   "outputs": [],
   "source": [
    "surp.set_yields()"
   ]
  },
  {
   "cell_type": "code",
   "execution_count": null,
   "id": "142",
   "metadata": {},
   "outputs": [],
   "source": [
    "berg19 = pd.read_csv(DATA_DIR + \"nearby_CEL/berg19.csv\")\n",
    "berg19 = berg19.iloc[:-1]\n",
    "berg19[\"C_O\"] = gcem.log_to_brak(berg19.log_c_o, \"c\", \"o\")\n",
    "berg19[\"O_H\"] = gcem.eps_to_brak(berg19.eps_o, \"o\")\n",
    "berg19[\"C_O_err\"] = berg19.log_c_o_err\n",
    "berg19[\"O_H_err\"] = berg19.eps_o_err"
   ]
  },
  {
   "cell_type": "code",
   "execution_count": null,
   "id": "143",
   "metadata": {},
   "outputs": [],
   "source": [
    "plt.scatter(berg19_oh + eps_o_correction - 0.15, berg19_co + c_o_correction, color=COLORS[1], zorder=3)\n",
    "plot_abund_errs(berg19)"
   ]
  },
  {
   "cell_type": "markdown",
   "id": "144",
   "metadata": {
    "jp-MarkdownHeadingCollapsed": true,
    "tags": []
   },
   "source": [
    "## Berg 2016\n",
    "\n",
    "Carbon lines\n",
    "- C IV 1548.19 (3)\n",
    "- C IV 1550.77 (3)\n",
    "- C III] 1906.68 (all - 1)\n",
    "- C III 1908.73 (all)\n",
    "about 8 O lines, and 4 H lines. No Fe."
   ]
  },
  {
   "cell_type": "code",
   "execution_count": null,
   "id": "145",
   "metadata": {},
   "outputs": [],
   "source": [
    "berg16 = pd.read_csv(DATA_DIR + \"nearby_CEL/berg16.csv\")\n",
    "berg16[\"C_O\"] = gcem.log_to_brak(berg16.log_c_o, \"c\", \"o\")\n",
    "berg16[\"O_H\"] = gcem.eps_to_brak(berg16.eps_o, \"o\")\n",
    "berg16[\"C_O_err\"] = berg16.log_c_o_err\n",
    "berg16[\"O_H_err\"] = berg16.eps_o_err"
   ]
  },
  {
   "cell_type": "code",
   "execution_count": null,
   "id": "146",
   "metadata": {},
   "outputs": [],
   "source": [
    "berg16_eps_o = [7.45492559464121, 7.45492559464121, 7.446516385223216, 7.738760980305644, 7.812141510569171, 7.844879868436886, 7.91093217279692]\n",
    "berg16_co = [-0.44879174256223436, -0.5934790528233151, -0.6725804493017608, -0.8203400121432909, -0.6636915604128719, -0.6061323618700668, -0.6431086824529447]"
   ]
  },
  {
   "cell_type": "code",
   "execution_count": null,
   "id": "147",
   "metadata": {},
   "outputs": [],
   "source": [
    "berg16_eps_o = [7.3688668986515875, 7.451109177903437, 7.4524684645498045, 7.732209656372336, 7.901859504132231, 7.808971291866029, 7.841028708133972]\n",
    "berg16_co = [-0.2890780583536705, -0.45288545792930646, -0.7084163112195758, -0.8311306476258066, -0.7682472897913665, -0.6335624126469162, -0.5935121552042524]"
   ]
  },
  {
   "cell_type": "code",
   "execution_count": null,
   "id": "148",
   "metadata": {},
   "outputs": [],
   "source": [
    "plot_abund_errs(berg16)\n",
    "plt.scatter(berg16_eps_o + eps_o_correction - 0.14, berg16_co + c_o_correction, color=COLORS[1], zorder=3)\n"
   ]
  },
  {
   "cell_type": "markdown",
   "id": "149",
   "metadata": {
    "tags": []
   },
   "source": [
    "## All"
   ]
  },
  {
   "cell_type": "code",
   "execution_count": null,
   "id": "150",
   "metadata": {},
   "outputs": [],
   "source": [
    "berg16[\"study\"] = \"berg+16\"\n",
    "berg19[\"study\"] = \"berg+19\""
   ]
  },
  {
   "cell_type": "code",
   "execution_count": null,
   "id": "151",
   "metadata": {},
   "outputs": [],
   "source": [
    "dwarfs = pd.concat([CEL, berg16, berg19, pg17, dwarfs_misc], ignore_index=True)\n",
    "dwarf_err = calc_errs(dwarfs)"
   ]
  },
  {
   "cell_type": "code",
   "execution_count": null,
   "id": "152",
   "metadata": {},
   "outputs": [],
   "source": [
    "dwarfs[\"region\"]"
   ]
  },
  {
   "cell_type": "code",
   "execution_count": null,
   "id": "153",
   "metadata": {},
   "outputs": [],
   "source": [
    "dwarfs.study.unique()"
   ]
  },
  {
   "cell_type": "code",
   "execution_count": null,
   "id": "154",
   "metadata": {},
   "outputs": [],
   "source": [
    "filt = pd.isna(dwarfs.galaxy)\n",
    "dwarfs.loc[filt, \"galaxy\"] = dwarfs.loc[filt, \"region\"]\n",
    "filt = pd.isna(dwarfs.galaxy)\n",
    "dwarfs.loc[filt, \"galaxy\"] = dwarfs.loc[filt, \"name\"]\n"
   ]
  },
  {
   "cell_type": "code",
   "execution_count": null,
   "id": "155",
   "metadata": {},
   "outputs": [],
   "source": [
    "dwarfs.loc[dwarfs.galaxy.duplicated(keep=False), [\"region\", \"galaxy\", \"study\", \"C_O\", \"O_H\"]]"
   ]
  },
  {
   "cell_type": "markdown",
   "id": "156",
   "metadata": {},
   "source": [
    "the only true duplicates are two regions in garnett+1995 covered by izotov+thuan 1999"
   ]
  },
  {
   "cell_type": "code",
   "execution_count": null,
   "id": "157",
   "metadata": {},
   "outputs": [],
   "source": [
    "dwarfs_cleaned = dwarfs.drop([3, 5])"
   ]
  },
  {
   "cell_type": "markdown",
   "id": "158",
   "metadata": {},
   "source": [
    "WARNING:\n",
    "make sure the above is correct since easier to manualy drop rows"
   ]
  },
  {
   "cell_type": "code",
   "execution_count": null,
   "id": "159",
   "metadata": {},
   "outputs": [],
   "source": [
    "dwarfs_cleaned[dwarfs_cleaned.galaxy.duplicated(keep=False)].study"
   ]
  },
  {
   "cell_type": "code",
   "execution_count": null,
   "id": "160",
   "metadata": {},
   "outputs": [],
   "source": [
    "np.sum(np.isnan(dwarfs_cleaned.C_O_err))"
   ]
  },
  {
   "cell_type": "code",
   "execution_count": null,
   "id": "161",
   "metadata": {},
   "outputs": [],
   "source": [
    "for study in dwarfs_cleaned.study.unique():\n",
    "    df = dwarfs_cleaned[dwarfs_cleaned.study == study]\n",
    "    plot_abund_errs(df, label=study)\n",
    "\n",
    "arya.Legend(-1)"
   ]
  },
  {
   "cell_type": "code",
   "execution_count": null,
   "id": "162",
   "metadata": {},
   "outputs": [],
   "source": [
    "dwarfs_cleaned"
   ]
  },
  {
   "cell_type": "code",
   "execution_count": null,
   "id": "163",
   "metadata": {},
   "outputs": [],
   "source": [
    "RL_clean"
   ]
  },
  {
   "cell_type": "code",
   "execution_count": null,
   "id": "164",
   "metadata": {},
   "outputs": [],
   "source": [
    "plot_sample_err(dwarfs_cleaned, dwarf_err)\n",
    "plot_sample_err(RL_clean, RL_err, color=arya.COLORS[1])"
   ]
  },
  {
   "cell_type": "markdown",
   "id": "165",
   "metadata": {},
   "source": [
    "# TODO: galaxy-by-galaxy comparison with CEL / RL"
   ]
  },
  {
   "cell_type": "code",
   "execution_count": null,
   "id": "166",
   "metadata": {},
   "outputs": [],
   "source": [
    "dwarfs.to_csv(\"dwarfs_combined.csv\")"
   ]
  },
  {
   "cell_type": "markdown",
   "id": "167",
   "metadata": {
    "jp-MarkdownHeadingCollapsed": true,
    "tags": []
   },
   "source": [
    "# DLA\n",
    "- Mostly as compiled in Cook et al. 2017."
   ]
  },
  {
   "cell_type": "code",
   "execution_count": null,
   "id": "168",
   "metadata": {},
   "outputs": [],
   "source": [
    "import os"
   ]
  },
  {
   "cell_type": "code",
   "execution_count": null,
   "id": "169",
   "metadata": {},
   "outputs": [],
   "source": [
    "dla_raw = {}\n",
    "\n",
    "dirname = \"../../data/DLA/\"\n",
    "for filename in os.listdir(dirname):\n",
    "    if filename.startswith(\"_\"):\n",
    "        continue\n",
    "    if filename.endswith(\".toml\"):\n",
    "        print(filename)\n",
    "        with open(dirname + filename, \"r\") as f:\n",
    "            name = os.path.splitext(filename)[0]\n",
    "            dla_raw[name] = toml.load(f)\n"
   ]
  },
  {
   "cell_type": "code",
   "execution_count": null,
   "id": "170",
   "metadata": {},
   "outputs": [],
   "source": [
    "cols = [\"galaxy\", \"redshift\", \"log_HI\", \"log_HI_err\", \"log_CII\", \"log_CII_err\", \"log_OI\", \"log_OI_err\"]\n",
    "\n",
    "dla = pd.DataFrame()\n",
    "\n",
    "\n",
    "for study, attrs in dla_raw.items():\n",
    "    print(study)\n",
    "    series = pd.DataFrame(attrs[\"galaxies\"])\n",
    "    series[\"study\"] = study\n",
    "    dla = pd.concat([dla, series], ignore_index=True, axis=0)\n"
   ]
  },
  {
   "cell_type": "code",
   "execution_count": null,
   "id": "171",
   "metadata": {},
   "outputs": [],
   "source": [
    "dla.columns"
   ]
  },
  {
   "cell_type": "code",
   "execution_count": null,
   "id": "172",
   "metadata": {},
   "outputs": [],
   "source": [
    "dla[\"C_O\"] = gcem.log_to_brak(dla.log_CII - dla.log_OI, \"c\", \"o\")\n",
    "dla[\"C_O_err\"] = np.sqrt(dla.log_OI_err**2 + dla.log_CII_err**2)\n",
    "\n",
    "dla[\"O_H\"] = gcem.eps_to_brak(12 + dla.log_OI - dla.log_HI, \"o\")\n",
    "dla[\"O_H_err\"] = np.sqrt(dla.log_OI_err**2 + dla.log_HI_err**2)"
   ]
  },
  {
   "cell_type": "markdown",
   "id": "173",
   "metadata": {},
   "source": [
    "flagged \n",
    "- HS 0105 (C/O); okay?\n",
    "- Q0913+072\t (C/O + err; good)\n",
    "- Q1202+3235\t(C/o; IC only)"
   ]
  },
  {
   "cell_type": "code",
   "execution_count": null,
   "id": "174",
   "metadata": {},
   "outputs": [],
   "source": [
    "c_o_correction"
   ]
  },
  {
   "cell_type": "code",
   "execution_count": null,
   "id": "175",
   "metadata": {},
   "outputs": [],
   "source": [
    "cooke17_rep= dla[np.isin(dla.study, [\"omera+01\", \"ellison+10\", \"cooke+11\", \"cooke+14\", \"cooke+15\", \"cooke+17\", \"dutta+14\",\n",
    "                                     \"dessauges-zavadsky+03\", \"pettini+08\", \"srianand+10\", \"morrison+16\"])]\n",
    "idx = np.argsort((np.int64(cooke17_rep.galaxy.str.extract(\"(\\\\d+)\")))[:, 0])\n",
    "idx = idx[~np.isin(cooke17_rep.galaxy.iloc[idx], [\"Q2059-360\", \"Q1101-264\"])]\n",
    "idx = idx[1:] # remove duplicate first galaxy\n",
    "cooke17_rep = cooke17_rep.iloc[idx][[\"galaxy\", \"redshift\", \"C_O\", \"C_O_err\", \"O_H\", \"O_H_err\", \"study\", \"log_CII\"]]\n",
    "\n",
    "cooke17_rep"
   ]
  },
  {
   "cell_type": "code",
   "execution_count": null,
   "id": "176",
   "metadata": {},
   "outputs": [],
   "source": [
    "\n",
    "dla.galaxy[dla.galaxy.duplicated()]"
   ]
  },
  {
   "cell_type": "code",
   "execution_count": null,
   "id": "177",
   "metadata": {},
   "outputs": [],
   "source": [
    "# remove duplicates\n",
    "\n",
    "filt = ~((dla.galaxy == \"J0035-0918\") & (dla.study != \"welsh+20\"))\n",
    "dla = dla[filt]"
   ]
  },
  {
   "cell_type": "code",
   "execution_count": null,
   "id": "178",
   "metadata": {},
   "outputs": [],
   "source": [
    "np.sum(dla.galaxy.duplicated())"
   ]
  },
  {
   "cell_type": "code",
   "execution_count": null,
   "id": "179",
   "metadata": {},
   "outputs": [],
   "source": [
    "np.sort(dla.galaxy)"
   ]
  },
  {
   "cell_type": "code",
   "execution_count": null,
   "id": "180",
   "metadata": {},
   "outputs": [],
   "source": [
    "dla[[\"galaxy\", \"study\", \"C_O\", \"O_H\"]]"
   ]
  },
  {
   "cell_type": "markdown",
   "id": "181",
   "metadata": {},
   "source": [
    "The table is verified. The main difference is cooke does apply the ionization correction to morrison+16; and cooke does not include the first two galaxies in "
   ]
  },
  {
   "cell_type": "code",
   "execution_count": null,
   "id": "182",
   "metadata": {},
   "outputs": [],
   "source": [
    "def format_with_errors(value, error, precision):\n",
    "    \"\"\"\n",
    "    Format a value and its error with LaTeX formatting and rounding precision.\n",
    "\n",
    "    Parameters:\n",
    "    - value (float): The value to format.\n",
    "    - error (float): The corresponding error.\n",
    "    - precision (int): The number of decimal places to round to.\n",
    "\n",
    "    Returns:\n",
    "    - str: A string formatted with LaTeX math mode including $\\pm$.\n",
    "    \"\"\"\n",
    "    return f\"${value:.{precision}f} \\pm {error:.{precision}f}$\""
   ]
  },
  {
   "cell_type": "code",
   "execution_count": null,
   "id": "183",
   "metadata": {},
   "outputs": [],
   "source": [
    "def dataframe_to_latex_with_errors(df, precisions, caption='', label='', index=False):\n",
    "    \"\"\"\n",
    "    Convert a pandas DataFrame to a LaTeX table, handling columns with errors.\n",
    "\n",
    "    Parameters:\n",
    "    - df (pd.DataFrame): The DataFrame to convert.\n",
    "    - precisions (dict): A dictionary specifying the rounding precision for each column.\n",
    "    - caption (str): Caption for the table.\n",
    "    - label (str): Label for referencing the table in LaTeX.\n",
    "    - index (bool): Whether to include the DataFrame's index in the table.\n",
    "\n",
    "    Returns:\n",
    "    - str: A LaTeX tabular environment as a string.\n",
    "    \"\"\"\n",
    "    # Create a copy of the DataFrame to modify\n",
    "    df_copy = df.copy()\n",
    "\n",
    "    # Iterate over the columns and format those with companion `_err` columns\n",
    "    for col in df.columns:\n",
    "        if col.endswith('_err'):\n",
    "            main_col = col[:-4]  # Get the corresponding main column name\n",
    "            if main_col in df.columns:\n",
    "                precision = precisions.get(main_col, 2)  # Default precision to 2 if not specified\n",
    "                df_copy[main_col] = df.apply(lambda row: format_with_errors(row[main_col], row[col], precision), axis=1)\n",
    "                df_copy.drop(columns=[col], inplace=True)  # Drop the `_err` column after formatting\n",
    "\n",
    "    # Convert the DataFrame to LaTeX\n",
    "    latex_table = df_copy.to_latex(index=index, escape=False)\n",
    "\n",
    "    table_env = f\"\\\\begin{{table}}[H]\\n\\\\centering\\n{latex_table}\"\n",
    "    \n",
    "    if caption:\n",
    "        table_env += f\"\\\\caption{{{caption}}}\\n\"\n",
    "    if label:\n",
    "        table_env += f\"\\\\label{{{label}}}\\n\"\n",
    "    \n",
    "    table_env += \"\\\\end{table}\"\n",
    "    \n",
    "    return table_env"
   ]
  },
  {
   "cell_type": "code",
   "execution_count": null,
   "id": "184",
   "metadata": {},
   "outputs": [],
   "source": [
    "lt = dataframe_to_latex_with_errors(dla[[\"galaxy\", \"redshift\", \"C_O_err\", \"C_O\", \"O_H_err\", \"O_H\", \"study\"]], precisions={})\n",
    "\n",
    "print(lt)"
   ]
  },
  {
   "cell_type": "code",
   "execution_count": null,
   "id": "185",
   "metadata": {},
   "outputs": [],
   "source": [
    "dla[[\"galaxy\", \"redshift\", \"C_O\", \"C_O_err\", \"O_H\", \"O_H_err\", \"study\"]]"
   ]
  },
  {
   "cell_type": "code",
   "execution_count": null,
   "id": "186",
   "metadata": {},
   "outputs": [],
   "source": [
    "ra = cooke17_rep.galaxy.str.extract(\"(\\\\d+)\")"
   ]
  },
  {
   "cell_type": "code",
   "execution_count": null,
   "id": "187",
   "metadata": {},
   "outputs": [],
   "source": [
    "ra"
   ]
  },
  {
   "cell_type": "code",
   "execution_count": null,
   "id": "188",
   "metadata": {},
   "outputs": [],
   "source": [
    "idx"
   ]
  },
  {
   "cell_type": "code",
   "execution_count": null,
   "id": "189",
   "metadata": {},
   "outputs": [],
   "source": []
  },
  {
   "cell_type": "markdown",
   "id": "190",
   "metadata": {},
   "source": [
    "Verified!!!"
   ]
  },
  {
   "cell_type": "code",
   "execution_count": null,
   "id": "191",
   "metadata": {},
   "outputs": [],
   "source": [
    "plot_abund_errs(cooke17_rep)"
   ]
  },
  {
   "cell_type": "markdown",
   "id": "192",
   "metadata": {},
   "source": [
    "1: Cooke et al. (2015); 2: Dutta et al. (2014); 3: Cooke et al. (2014); 4: Ellison et al. (2010); 5: Cooke et al. (2011b); 6: This work; 7: Pettini et al. (2008); 8: Morrison et al. (2016); 9: Srianand et al. (2010); 10: Cooke et al. (2012); 11: Dessauges-Zavadsky et al. (2003)."
   ]
  },
  {
   "cell_type": "code",
   "execution_count": null,
   "id": "193",
   "metadata": {},
   "outputs": [],
   "source": [
    "dla.to_csv(\"DLA_combined.csv\")"
   ]
  },
  {
   "cell_type": "code",
   "execution_count": null,
   "id": "194",
   "metadata": {},
   "outputs": [],
   "source": [
    "dla.study.unique()"
   ]
  },
  {
   "cell_type": "markdown",
   "id": "195",
   "metadata": {
    "jp-MarkdownHeadingCollapsed": true,
    "tags": []
   },
   "source": [
    "# High Z galaxies (TODO)\n",
    "High z CEL mentioned in berg and jones"
   ]
  },
  {
   "cell_type": "code",
   "execution_count": null,
   "id": "196",
   "metadata": {},
   "outputs": [],
   "source": [
    "datadir = surp.DATA_DIR + \"/high_redshift/\""
   ]
  },
  {
   "cell_type": "code",
   "execution_count": null,
   "id": "197",
   "metadata": {},
   "outputs": [],
   "source": [
    "toml.load("
   ]
  },
  {
   "cell_type": "markdown",
   "id": "198",
   "metadata": {},
   "source": [
    "#### Amorin+2017\n",
    "Verified"
   ]
  },
  {
   "cell_type": "code",
   "execution_count": null,
   "id": "199",
   "metadata": {},
   "outputs": [],
   "source": [
    "amorin2017_raw = parsetoml(datadir + \"amorin+2017\")"
   ]
  },
  {
   "cell_type": "code",
   "execution_count": null,
   "id": "200",
   "metadata": {},
   "outputs": [],
   "source": [
    "amorin2017 = toml_to_df(amorin2017_raw)"
   ]
  },
  {
   "cell_type": "code",
   "execution_count": null,
   "id": "201",
   "metadata": {},
   "outputs": [],
   "source": [
    "amorin2017"
   ]
  },
  {
   "cell_type": "code",
   "execution_count": null,
   "id": "202",
   "metadata": {},
   "outputs": [],
   "source": [
    "plt.errorbar(np.log10(amorin2017.stellar_mass), amorin2017.eps_o, yerr=amorin2017.eps_o_err, fmt=\"o\", xerr=amorin2017.stellar_mass_err / amorin2017.stellar_mass)\n",
    "plt.xlabel(\"log stellar mass / msun\")\n",
    "plt.ylabel(\"12 + log (O/H)\")"
   ]
  },
  {
   "cell_type": "code",
   "execution_count": null,
   "id": "203",
   "metadata": {},
   "outputs": [],
   "source": [
    "plt.errorbar(amorin2017.eps_o, amorin2017.log_c_o, xerr=amorin2017.eps_o_err, fmt=\"o\", yerr=amorin2017.log_c_o_err)\n",
    "plt.ylabel(\"log C/O\")\n",
    "plt.xlabel(\"12 + log (O/H)\")"
   ]
  },
  {
   "cell_type": "markdown",
   "id": "204",
   "metadata": {},
   "source": [
    "### Summary"
   ]
  },
  {
   "cell_type": "code",
   "execution_count": null,
   "id": "205",
   "metadata": {},
   "outputs": [],
   "source": [
    "high_z[\"O_H\"] = gcem.eps_to_brak(high_z.eps_o, \"o\")\n",
    "high_z[\"C_O\"] = gcem.log_to_brak(high_z.log_c_o, \"c\", \"o\")\n",
    "high_z[\"O_H_err\"] = high_z.eps_o_err\n",
    "high_z[\"C_O_err\"] = high_z.log_c_o_err"
   ]
  },
  {
   "cell_type": "code",
   "execution_count": null,
   "id": "206",
   "metadata": {},
   "outputs": [],
   "source": [
    "plot_abund_errs(high_z)\n",
    "plot_abund_errs(berg19)"
   ]
  },
  {
   "cell_type": "code",
   "execution_count": null,
   "id": "207",
   "metadata": {},
   "outputs": [],
   "source": [
    "high_z.to_csv(\"high_z_cleaned.csv\")"
   ]
  },
  {
   "cell_type": "markdown",
   "id": "208",
   "metadata": {
    "jp-MarkdownHeadingCollapsed": true
   },
   "source": [
    "# MISC"
   ]
  },
  {
   "cell_type": "markdown",
   "id": "209",
   "metadata": {},
   "source": [
    "## FLF"
   ]
  },
  {
   "cell_type": "markdown",
   "id": "210",
   "metadata": {},
   "source": [
    "full spectrum fitting to early type galaxies"
   ]
  },
  {
   "cell_type": "code",
   "execution_count": null,
   "id": "211",
   "metadata": {},
   "outputs": [],
   "source": [
    "flf = pd.read_csv(DATA_DIR + \"FLF21.csv\", comment=\"#\", sep=r\"\\s+\")"
   ]
  },
  {
   "cell_type": "code",
   "execution_count": null,
   "id": "212",
   "metadata": {},
   "outputs": [],
   "source": [
    "flf[\"O_H\"] = flf[\"[O/Fe]\"] + flf[\"[Fe/H]\"]\n",
    "flf[\"O_H_err\"] = flf[\"[O/Fe]_err\"] + flf[\"[Fe/H]_err\"]\n",
    "flf[\"C_O\"] = flf[\"[C/Fe]\"] - flf[\"[O/Fe]\"]\n",
    "flf[\"C_O_err\"] = flf[\"[C/Fe]_err\"] + flf[\"[O/Fe]_err\"]\n"
   ]
  },
  {
   "cell_type": "code",
   "execution_count": null,
   "id": "213",
   "metadata": {},
   "outputs": [],
   "source": [
    "flf.name.unique()\n"
   ]
  },
  {
   "cell_type": "code",
   "execution_count": null,
   "id": "214",
   "metadata": {},
   "outputs": [],
   "source": [
    "for name in flf.name.unique():\n",
    "    df = flf.loc[flf.name == name]\n",
    "    plot_abund_errs(df, label=name)\n",
    "\n",
    "arya.Legend(-1)"
   ]
  },
  {
   "cell_type": "code",
   "execution_count": null,
   "id": "215",
   "metadata": {},
   "outputs": [],
   "source": []
  }
 ],
 "metadata": {
  "kernelspec": {
   "display_name": "Python 3 (ipykernel)",
   "language": "python",
   "name": "python3"
  },
  "language_info": {
   "codemirror_mode": {
    "name": "ipython",
    "version": 3
   },
   "file_extension": ".py",
   "mimetype": "text/x-python",
   "name": "python",
   "nbconvert_exporter": "python",
   "pygments_lexer": "ipython3",
   "version": "3.11.9"
  }
 },
 "nbformat": 4,
 "nbformat_minor": 5
}
