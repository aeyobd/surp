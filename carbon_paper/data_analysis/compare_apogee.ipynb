{
 "cells": [
  {
   "cell_type": "code",
   "execution_count": null,
   "id": "0",
   "metadata": {},
   "outputs": [],
   "source": [
    "import pandas as pd\n",
    "import matplotlib.pyplot as plt\n",
    "import matplotlib as mpl\n",
    "import numpy as np\n",
    "import pandas as pd\n",
    "\n",
    "from astropy.table import Table\n",
    "import astropy.units as u\n",
    "\n",
    "import arya\n",
    "import surp\n",
    "from surp import subgiants\n",
    "from surp.gce_math import is_high_alpha\n",
    "from surp._globals import DATA_DIR"
   ]
  },
  {
   "cell_type": "code",
   "execution_count": null,
   "id": "1",
   "metadata": {},
   "outputs": [],
   "source": [
    "np.sum(~subgiants.high_alpha)"
   ]
  },
  {
   "cell_type": "code",
   "execution_count": null,
   "id": "2",
   "metadata": {
    "tags": []
   },
   "outputs": [],
   "source": [
    "filename = surp.DATA_DIR + \"allStar-dr17-synspec_rev1.fits\"\n",
    "allStar = Table.read(filename, format=\"fits\", hdu=1, memmap=True)"
   ]
  },
  {
   "cell_type": "code",
   "execution_count": null,
   "id": "3",
   "metadata": {},
   "outputs": [],
   "source": []
  },
  {
   "cell_type": "code",
   "execution_count": null,
   "id": "4",
   "metadata": {},
   "outputs": [],
   "source": [
    "def bracket(df, ele, ele2=\"H\"):\n",
    "    \"\"\"\n",
    "    Helper function for subgiants()\n",
    "    creates the abundance ratio [A/B]\n",
    "    from the  APOGEE dataframe\n",
    "    \"\"\"\n",
    "    if ele2 == \"H\":\n",
    "        if ele == \"FE\":\n",
    "            return df[\"FE_H\"]\n",
    "        else:\n",
    "            return df[\"%s_FE\" % ele] + df[\"FE_H\"]\n",
    "    else:\n",
    "        if ele2 == \"FE\":\n",
    "            return df[\"%s_FE\" % ele]\n",
    "        else:\n",
    "            return df[\"%s_FE\" % ele] - df[\"%s_FE\" % ele2]\n"
   ]
  },
  {
   "cell_type": "code",
   "execution_count": null,
   "id": "5",
   "metadata": {},
   "outputs": [],
   "source": [
    "df = allStar\n",
    "\n",
    "# Add useful abundance ratios\n",
    "df[\"O_H\"] = bracket(df, \"O\")\n",
    "df[\"MG_H\"] = bracket(df, \"MG\")\n",
    "df[\"C_O\"] = bracket(df, \"C\", \"O\")\n",
    "df[\"C_MG\"] = bracket(df, \"C\", \"MG\")\n",
    "df[\"C_H\"] = bracket(df, \"C\", \"H\")\n",
    "\n",
    "df[\"C_N\"] = bracket(df, \"C\", \"N\")\n",
    "df[\"N_H\"] = bracket(df, \"N\", \"H\")\n",
    "df[\"N_O\"] = bracket(df, \"N\", \"O\")\n",
    "df[\"N_MG\"] = bracket(df, \"N\", \"MG\")\n",
    "\n",
    "df[\"FE_O\"] = -df[\"O_FE\"]\n",
    "df[\"FE_MG\"] = -df[\"MG_FE\"]\n",
    "\n",
    "df[\"C_MG_ERR\"] = df[\"C_FE_ERR\"] + df[\"MG_FE_ERR\"]\n",
    "df[\"N_MG_ERR\"] = df[\"N_FE_ERR\"] + df[\"MG_FE_ERR\"]\n",
    "df[\"C_N_ERR\"] = df[\"N_FE_ERR\"] + df[\"C_FE_ERR\"]\n",
    "df[\"MG_H_ERR\"] = df[\"MG_FE_ERR\"] + df[\"FE_H_ERR\"]\n",
    "df[\"C_H_ERR\"] = df[\"C_FE_ERR\"] + df[\"FE_H_ERR\"]\n",
    "\n",
    "# add high/low alpha column\n",
    "df[\"high_alpha\"] = is_high_alpha(df[\"MG_FE\"], df[\"FE_H\"])\n",
    "\n",
    "allStar = df\n",
    "\n",
    "del df"
   ]
  },
  {
   "cell_type": "markdown",
   "id": "6",
   "metadata": {},
   "source": [
    "See bitmasks in https://www.sdss4.org/dr17/irspec/apogee-bitmasks/#APOGEE_PARAMFLAG\n",
    "\n",
    "'ancillary young embedded cluster member', 'ancillary emission line star', 'MIR-detected candidate cluster member (ancillary)', \n",
    "\n",
    "APOGEE2_Target3: 'Selected as part of the EB program', 'Selected as part of the young cluster study (IN-SYNC)', 'Ancillary W3/4/5 star forming complex'\n",
    "\n",
    "              \n",
    "\n",
    "Finally, I restrict to the given Log(g)-Teff domain:\n",
    "log(g) ≥ 3.5\n",
    "log(g) ≤ 0.004 ∗ (𝑇eff ) − 15.7\n",
    "log(g) ≤ 0.00070588 ∗ (𝑇eff ) + 0.358836\n",
    "log(g) ≤ −0.0015 ∗ (𝑇eff ) + 12.05\n",
    "log(g) ≥ 0.0012 ∗ (𝑇eff ) − 2.8"
   ]
  },
  {
   "cell_type": "code",
   "execution_count": null,
   "id": "7",
   "metadata": {},
   "outputs": [],
   "source": [
    "apogee_aspcapflag = 0\n",
    "\n",
    "#apogee_aspcapflag ^= 1<<23 # STAR_BAD (TEFF, LOGG, CHI2, COLORTE, ROTATION, SN, GRIDEDGE_BAD)\n",
    "# apogee_aspcapflag ^= 1<<31 # NO_ASPCAP_RESULT\n",
    "\n",
    "\n",
    "# none of these actually change the sample\n",
    "# apogee_aspcapflag ^= 1<<32 # MISSING_APSTAR\n",
    "# apogee_aspcapflag ^= 1<<33 # NO_GRID\n",
    "# apogee_aspcapflag ^= 1<<34 # BAD_FRAC_LOWSNR\n",
    "# apogee_aspcapflag ^= 1<<35 # BAD_FRAC_BADPIX\n",
    "# apogee_aspcapflag ^= 1<<36 # FERRE_FAIL\n",
    "# apogee_aspcapflag ^= 1<<40 # PROBLEM_TARGET\n",
    "# apogee_aspcapflag ^= 1<<41 # MULTIPLE_SUSPECT\n"
   ]
  },
  {
   "cell_type": "code",
   "execution_count": null,
   "id": "8",
   "metadata": {},
   "outputs": [],
   "source": [
    "# starflag is a bitwise and for each visit\n",
    "\n",
    "apogee_starflag = 0\n",
    "\n",
    "# these don't help\n",
    "# apogee_starflag ^= 1<<18 # bad_rv_companion\n",
    "# apogee_starflag ^= 1<<22 # RV_FAIL"
   ]
  },
  {
   "cell_type": "code",
   "execution_count": null,
   "id": "9",
   "metadata": {},
   "outputs": [],
   "source": [
    "apogee_target2 = 0\n",
    "\n",
    "apogee_target2 ^= 1<<17 # APOGEE_MIRCLUSTER_STAR\n",
    "apogee_target2 ^= 1<<15 # APOGEE_EMISSION_STAR  emission line stars\n",
    "apogee_target2 ^= 1<<13 # APOGEE_EMBEDDEDCLUSTER_STAR embedded cluster"
   ]
  },
  {
   "cell_type": "code",
   "execution_count": null,
   "id": "10",
   "metadata": {},
   "outputs": [],
   "source": [
    "apogee2_target3 = 0\n",
    "\n",
    "apogee2_target3 ^= 1<<1 # APOGEE2_EB eclipsing binary program\n",
    "apogee2_target3 ^= 1<<5 # APOGEE2_YOUNG_CLUSTER # young cluster (IN-SYNC)\n",
    "apogee2_target3 ^= 1<<18 # APOGEE2_W345 W3/4/5 star forming complex\n"
   ]
  },
  {
   "cell_type": "code",
   "execution_count": null,
   "id": "11",
   "metadata": {},
   "outputs": [],
   "source": [
    "extratarg = 1<<4 # DUPLICATE (keeps highest S/N observation)"
   ]
  },
  {
   "cell_type": "code",
   "execution_count": null,
   "id": "12",
   "metadata": {},
   "outputs": [],
   "source": [
    "elem_flag = 0\n",
    "# elem_flag ^= 1<<0 # GRIDEDGE_BAD\t0\tParameter within 1/8 grid spacing of grid edge : true value may be off grid\n",
    "# elem_flag ^= 1<<1 # CALRANGE_BAD\t1\tParameter outside valid range of calibration determination\n",
    "# elem_flag ^= 1<<2 # OTHER_BAD\t2\tOther error condition\n",
    "# elem_flag ^= 1<<3 # FERRE_FAIL\t3\tFailed solution in FERRE\n",
    "# elem_flag ^= 1<<4\n"
   ]
  },
  {
   "cell_type": "code",
   "execution_count": null,
   "id": "13",
   "metadata": {},
   "outputs": [],
   "source": [
    "print(bin(apogee2_target3))\n",
    "print(bin(apogee_target2))\n",
    "print(bin(apogee_starflag))\n",
    "print(bin(apogee_aspcapflag))\n",
    "print(bin(extratarg))\n",
    "print(bin(elem_flag))"
   ]
  },
  {
   "cell_type": "code",
   "execution_count": null,
   "id": "14",
   "metadata": {},
   "outputs": [],
   "source": [
    "mask = np.full(len(allStar), True)\n",
    "print(sum(~mask))\n",
    "\n",
    "mask &= (allStar[\"ASPCAPFLAG\"] & apogee_aspcapflag) == 0\n",
    "print(sum(~mask))\n",
    "\n",
    "mask &= (allStar[\"STARFLAG\"] & apogee_starflag) == 0\n",
    "print(sum(~mask))\n",
    "\n",
    "mask &= (allStar[\"APOGEE2_TARGET3\"] & apogee2_target3) == 0\n",
    "print(sum(~mask))\n",
    "\n",
    "mask &= (allStar[\"APOGEE_TARGET2\"] & apogee_target2) == 0\n",
    "print(sum(~mask))\n",
    "\n",
    "\n",
    "mask &= (allStar[\"EXTRATARG\"] & extratarg) == 0\n",
    "\n",
    "\n",
    "mask &= (allStar[\"FE_H_FLAG\"] & elem_flag) == 0\n",
    "print(sum(~mask))\n",
    "\n",
    "mask &= (allStar[\"MG_FE_FLAG\"] & elem_flag) == 0\n",
    "print(sum(~mask))\n",
    "\n",
    "mask &= (allStar[\"C_FE_FLAG\"] & elem_flag) == 0\n",
    "print(sum(~mask))\n",
    "\n",
    "\n",
    "print(sum(~mask))\n",
    "print(\"remaining \", sum(mask))"
   ]
  },
  {
   "cell_type": "code",
   "execution_count": null,
   "id": "15",
   "metadata": {},
   "outputs": [],
   "source": [
    "np.sum(~np.isfinite(allStar[mask][\"FE_H\"]))"
   ]
  },
  {
   "cell_type": "code",
   "execution_count": null,
   "id": "16",
   "metadata": {},
   "outputs": [],
   "source": [
    "for col in [\"FE_H\", \"MG_FE\", \"C_FE\", \"LOGG\", \"TEFF\"]:\n",
    "    print(col)\n",
    "    mask &= np.isfinite(allStar[col])\n",
    "    mask &= np.isfinite(allStar[col + \"_ERR\"])\n",
    "    print(sum(~mask))\n",
    "    print()"
   ]
  },
  {
   "cell_type": "code",
   "execution_count": null,
   "id": "17",
   "metadata": {},
   "outputs": [],
   "source": [
    "print(sum(mask))"
   ]
  },
  {
   "cell_type": "code",
   "execution_count": null,
   "id": "18",
   "metadata": {},
   "outputs": [],
   "source": [
    "allStarClean = allStar[mask]\n",
    "names = [name for name in allStarClean.colnames if len(allStarClean[name].shape) <= 1]\n",
    "allStarClean = allStarClean[names]"
   ]
  },
  {
   "cell_type": "markdown",
   "id": "19",
   "metadata": {},
   "source": [
    "# Comparisons"
   ]
  },
  {
   "cell_type": "code",
   "execution_count": null,
   "id": "20",
   "metadata": {},
   "outputs": [],
   "source": [
    "df = subgiants_pann"
   ]
  },
  {
   "cell_type": "code",
   "execution_count": null,
   "id": "21",
   "metadata": {},
   "outputs": [],
   "source": [
    "df[\"C_MG_ANN\"] = df.C_H_ANN - df.MG_H_ANN\n",
    "df[\"MG_FE_ANN\"] = df.MG_H_ANN - df.FE_H_ANN"
   ]
  },
  {
   "cell_type": "code",
   "execution_count": null,
   "id": "22",
   "metadata": {},
   "outputs": [],
   "source": [
    "for ele in [\"MG_H\", \"MG_H_ERR\", \"C_MG\", \"MG_FE\", \"LOGG\", \"TEFF\"]:\n",
    "    y = df[ele+\"_ANN\"] - df[ele]\n",
    "    \n",
    "    arya.hist2d(df[ele], y)\n",
    "    plt.xlabel(ele)\n",
    "    plt.ylabel(\"ANN - ASPCAP\")\n",
    "    plt.axhline(0)\n",
    "    \n",
    "    plt.xlim(np.percentile(df[ele], 0.1), np.percentile(df[ele], 99.9))\n",
    "    plt.ylim(np.percentile(y[np.isfinite(y)], 0.1), np.percentile(y[np.isfinite(y)], 99.9))\n",
    "\n",
    "    plt.show()"
   ]
  },
  {
   "cell_type": "code",
   "execution_count": null,
   "id": "23",
   "metadata": {},
   "outputs": [],
   "source": [
    "df[\"CI_C\"] = df.CI_FE - df.C_FE"
   ]
  },
  {
   "cell_type": "code",
   "execution_count": null,
   "id": "24",
   "metadata": {},
   "outputs": [],
   "source": [
    "arya.hist2d(df.C_FE, df.CI_FE - df.C_FE);\n",
    "arya.medianplot(df, \"C_FE\", \"CI_C\", binsize=1000, color=arya.COLORS[0])\n",
    "plt.axhline(0)\n",
    "plt.xlabel(\"[C/Fe]\")\n",
    "plt.xlim(-0.5, 0.5)\n",
    "plt.ylim(-0.3, 0.3)\n",
    "plt.ylabel(\"C abundance - C I abundance\")"
   ]
  },
  {
   "cell_type": "code",
   "execution_count": null,
   "id": "25",
   "metadata": {},
   "outputs": [],
   "source": [
    "plt.hist2d(df.MG_H, df.C_MG, 50, range=([-0.4, 0.5], [-0.3, 0.1]));\n",
    "plt.xlabel(\"[Mg/H]\")\n",
    "plt.ylabel(\"[C/Mg]\")\n",
    "plt.title(\"ASPCAP\")\n",
    "\n",
    "plt.show()\n",
    "\n",
    "plt.hist2d(df.MG_H, df.CI_FE - df.MG_FE, 50, range=([-0.4, 0.5], [-0.3, 0.1]));\n",
    "plt.xlabel(\"[Mg/H]\")\n",
    "plt.ylabel(\"[C/Mg]\")\n",
    "plt.show()\n",
    "plt.title(\"ASPCAP, C i\")\n",
    "\n",
    "\n",
    "plt.hist2d(df.MG_H_ANN, df.C_MG_ANN, 50, range=([-0.4, 0.5], [-0.3, 0.1]));\n",
    "plt.xlabel(\"[Mg/H]\")\n",
    "plt.ylabel(\"[C/Mg]\")\n",
    "\n",
    "plt.title(\"AstroNN\")\n"
   ]
  },
  {
   "cell_type": "code",
   "execution_count": null,
   "id": "26",
   "metadata": {},
   "outputs": [],
   "source": [
    "plt.hist2d(df.MG_FE, df.C_MG, 50, range=([-0.4, 0.5], [-0.3, 0.1]));\n",
    "plt.xlabel(\"[Mg/FE]\")\n",
    "plt.ylabel(\"[C/Mg]\")\n",
    "plt.title(\"ASPCAP\")\n",
    "\n",
    "plt.show()\n",
    "\n",
    "plt.hist2d(df.MG_FE, df.CI_FE - df.MG_FE, 50, range=([-0.4, 0.5], [-0.3, 0.1]));\n",
    "plt.xlabel(\"[Mg/FE]\")\n",
    "plt.ylabel(\"[C/Mg]\")\n",
    "plt.show()\n",
    "plt.title(\"ASPCAP, C i\")\n",
    "\n",
    "\n",
    "plt.hist2d(df.MG_FE_ANN, df.C_MG_ANN, 50, range=([-0.4, 0.5], [-0.3, 0.1]));\n",
    "plt.xlabel(\"[Mg/FE]\")\n",
    "plt.ylabel(\"[C/Mg]\")\n",
    "\n",
    "plt.title(\"AstroNN\")\n"
   ]
  },
  {
   "cell_type": "markdown",
   "id": "27",
   "metadata": {
    "jp-MarkdownHeadingCollapsed": true,
    "tags": []
   },
   "source": [
    "## Reproducing jacks numbers"
   ]
  },
  {
   "cell_type": "code",
   "execution_count": null,
   "id": "28",
   "metadata": {},
   "outputs": [],
   "source": [
    "import numpy as np\n",
    "from astropy.table import Table\n",
    "\n",
    "filename =  DATA_DIR + \"allStarLite-dr17-synspec.fits\"\n",
    "\n",
    "allStar = Table.read(filename, format=\"fits\", hdu=1, memmap=True)\n",
    "\n",
    "\n",
    "# apogee flags\n",
    "apogee_target2 = 0\n",
    "apogee_target2 ^= 1<<17 # APOGEE_MIRCLUSTER_STAR\n",
    "apogee_target2 ^= 1<<15 # APOGEE_EMISSION_STAR  emission line stars\n",
    "apogee_target2 ^= 1<<13 # APOGEE_EMBEDDEDCLUSTER_STAR embedded cluster\n",
    "\n",
    "apogee2_target3 = 0\n",
    "apogee2_target3 ^= 1<<1 # APOGEE2_EB eclipsing binary program\n",
    "apogee2_target3 ^= 1<<5 # APOGEE2_YOUNG_CLUSTER # young cluster (IN-SYNC)\n",
    "apogee2_target3 ^= 1<<18 # APOGEE2_W345 W3/4/5 star forming complex\n",
    "\n",
    "extratarg = 1<<4 # DUPLICATE (keeps highest S/N observation)\n",
    "\n",
    "mask = np.full(len(allStar), True)\n",
    "mask &= (allStar[\"APOGEE2_TARGET3\"] & apogee2_target3) == 0\n",
    "mask &= (allStar[\"APOGEE_TARGET2\"] & apogee_target2) == 0\n",
    "mask &= (allStar[\"EXTRATARG\"] & extratarg) == 0\n",
    "\n",
    "\n",
    "# make sure no nans\n",
    "for col in [\"FE_H\", \"MG_FE\", \"C_FE\", \"LOGG\", \"TEFF\", \"N_FE\"]:\n",
    "    mask &= np.isfinite(allStar[col])\n",
    "    mask &= np.isfinite(allStar[col + \"_ERR\"])\n",
    "\n",
    "    \n",
    "# logg - teff cut\n",
    "    \n",
    "logg = allStar[\"LOGG\"]\n",
    "teff = allStar[\"TEFF\"]\n",
    "\n",
    "mask &= logg >= 3.5\n",
    "mask &= logg <= 0.004*teff - 15.7\n",
    "mask &= logg <= 0.0007*teff + 0.36\n",
    "mask &= logg <= -0.0015 * teff + 12.05\n",
    "mask &= logg >= 0.0012*teff - 2.8\n",
    "\n",
    "\n",
    "filtered = allStar[mask]\n",
    "print(\"total\", np.sum(mask))\n",
    "\n",
    "\n",
    "# High alpha\n",
    "fe_h = filtered[\"FE_H\"]\n",
    "filt_ha = (filtered[\"MG_FE\"] >= 0.02 + 0.16 - 0.13 * (fe_h < 0) * fe_h) \n",
    "filt_ha &= fe_h >= -1.15\n",
    "filt_ha &= fe_h <= 0.2\n",
    "\n",
    "print(\"high alpha \", np.sum(filt_ha))\n",
    "\n",
    "\n",
    "# low alpha\n",
    "\n",
    "filt_la = (filtered[\"MG_FE\"] <= -0.02 + 0.16 - 0.13 * (fe_h < 0) * fe_h) \n",
    "filt_la &= fe_h >= -0.75\n",
    "filt_la &= fe_h <= 0.5\n",
    "\n",
    "print(\"low alpha \", np.sum(filt_la))\n"
   ]
  },
  {
   "cell_type": "markdown",
   "id": "29",
   "metadata": {},
   "source": [
    "## Dwarfs"
   ]
  },
  {
   "cell_type": "code",
   "execution_count": null,
   "id": "30",
   "metadata": {},
   "outputs": [],
   "source": [
    "mask = np.full(len(allStarClean), True)\n",
    "\n",
    "logg = allStarClean[\"LOGG\"]\n",
    "teff = allStarClean[\"TEFF\"]\n",
    "mask &= logg >= 4.2\n",
    "mask &= teff >= 3000\n",
    "mask &= teff <= 8000\n",
    "\n",
    "np.sum(mask)"
   ]
  },
  {
   "cell_type": "code",
   "execution_count": null,
   "id": "31",
   "metadata": {},
   "outputs": [],
   "source": [
    "dwarfs = allStarClean[mask].to_pandas()"
   ]
  },
  {
   "cell_type": "code",
   "execution_count": null,
   "id": "32",
   "metadata": {},
   "outputs": [],
   "source": [
    "dwarfs_pann = dwarfs.set_index(\"APOGEE_ID\").join(astroNN).copy()\n"
   ]
  },
  {
   "cell_type": "code",
   "execution_count": null,
   "id": "33",
   "metadata": {},
   "outputs": [],
   "source": [
    "plt.hist(dwarfs_pann.galr_ANN,  density=True, histtype=\"step\");\n",
    "plt.hist(subgiants_pann.galr_ANN, density=True, histtype=\"step\");"
   ]
  },
  {
   "cell_type": "code",
   "execution_count": null,
   "id": "34",
   "metadata": {},
   "outputs": [],
   "source": [
    "subgiants[\"CI_MG\"] = subgiants[\"CI_FE\"] - subgiants.MG_FE"
   ]
  },
  {
   "cell_type": "code",
   "execution_count": null,
   "id": "35",
   "metadata": {},
   "outputs": [],
   "source": [
    "plt.scatter(dwarfs.MG_H, dwarfs.C_MG, s=0.3, alpha=0.1, c=dwarfs.high_alpha)\n",
    "plt.xlim(-0.8, 0.4)\n",
    "plt.ylim(-0.6, 0.3)\n",
    "\n",
    "\n",
    "plt.legend()\n",
    "plt.xlabel(\"[Mg/H]\")\n",
    "plt.ylabel(\"[C/Mg]\")"
   ]
  },
  {
   "cell_type": "code",
   "execution_count": null,
   "id": "36",
   "metadata": {},
   "outputs": [],
   "source": [
    "subgiants[\"C_MG_ANN\"] = subgiants.C_H_ANN - subgiants.MG_H_ANN"
   ]
  },
  {
   "cell_type": "code",
   "execution_count": null,
   "id": "37",
   "metadata": {},
   "outputs": [],
   "source": [
    "kwargs = dict(x=\"MG_H\", y=\"C_MG\", binsize=1_000, aes=\"line\", errorbar=None)\n",
    "\n",
    "arya.medianplot(dwarfs[~dwarfs.high_alpha], label=\"dwarfs\", **kwargs)\n",
    "arya.medianplot(subgiants[~subgiants.high_alpha], label=\"subgiants\", color=arya.COLORS[1], **kwargs)\n",
    "kwargs[\"y\"] = \"CI_MG\"\n",
    "arya.medianplot(subgiants[~subgiants.high_alpha], label=\"subgiants, C I\", color=arya.COLORS[2], **kwargs)\n",
    "\n",
    "kwargs[\"y\"] = \"C_MG_ANN\"\n",
    "kwargs[\"x\"] = \"MG_H_ANN\"\n",
    "\n",
    "arya.medianplot(subgiants[~subgiants.high_alpha], label=\"ANN\", color=arya.COLORS[3], **kwargs)\n",
    "\n",
    "arya.Legend(-1)\n",
    "plt.xlabel(\"[Mg/H]\")\n",
    "plt.ylabel(\"[C/Mg]\")"
   ]
  },
  {
   "cell_type": "code",
   "execution_count": null,
   "id": "38",
   "metadata": {},
   "outputs": [],
   "source": [
    "subgiants[\"MG_FE_ANN\"] = subgiants[\"MG_H_ANN\"] - subgiants[\"FE_H_ANN\"]"
   ]
  },
  {
   "cell_type": "code",
   "execution_count": null,
   "id": "39",
   "metadata": {},
   "outputs": [],
   "source": [
    "kwargs = dict(x=\"MG_FE\", y=\"C_MG\", binsize=1_000, aes=\"line\", errorbar=None)\n",
    "\n",
    "\n",
    "df = surp.plots.filter_metallicity(dwarfs)\n",
    "arya.medianplot(df, label=\"dwarfs\", **kwargs)\n",
    "\n",
    "df = surp.plots.filter_metallicity(subgiants)\n",
    "\n",
    "arya.medianplot(df, label=\"subgiants\", color=arya.COLORS[1], **kwargs)\n",
    "\n",
    "kwargs[\"y\"] = \"CI_MG\"\n",
    "arya.medianplot(df, label=\"subgiants, C I\", color=arya.COLORS[2], **kwargs)\n",
    "\n",
    "kwargs[\"y\"] = \"C_MG_ANN\"\n",
    "kwargs[\"x\"] = \"MG_FE_ANN\"\n",
    "\n",
    "arya.medianplot(df, label=\"ANN\", color=arya.COLORS[3], **kwargs)\n",
    "\n",
    "arya.Legend(-1)\n",
    "plt.xlabel(\"[Mg/Fe]\")\n",
    "plt.ylabel(\"[C/Mg]\")"
   ]
  },
  {
   "cell_type": "code",
   "execution_count": null,
   "id": "40",
   "metadata": {},
   "outputs": [],
   "source": [
    "plt.scatter(dwarfs.MG_FE, dwarfs.C_MG, s=0.3, alpha=0.1, c=dwarfs.high_alpha)\n",
    "plt.xlim(-0.2, 0.4)\n",
    "plt.ylim(-0.6, 0.3)\n",
    "\n",
    "plt.legend()\n",
    "plt.xlabel(\"[Mg/Fe]\")\n",
    "plt.ylabel(\"[C/Mg]\")"
   ]
  },
  {
   "cell_type": "code",
   "execution_count": null,
   "id": "41",
   "metadata": {},
   "outputs": [],
   "source": [
    "arya.hist2d(dwarfs.TEFF, dwarfs.LOGG)\n",
    "plt.gca().invert_yaxis()\n",
    "plt.gca().invert_xaxis()\n",
    "plt.xlabel(\"$T_{\\\\rm eff}$ (K)\")\n",
    "plt.ylabel(\"$\\\\log$ g\")"
   ]
  },
  {
   "cell_type": "code",
   "execution_count": null,
   "id": "42",
   "metadata": {},
   "outputs": [],
   "source": [
    "plt.scatter(dwarfs.FE_H, dwarfs.MG_FE, s=0.3, alpha=0.1, c=dwarfs.high_alpha)\n",
    "\n",
    "plt.xlim(-1, 0.5)\n",
    "plt.ylim(-0.4, 0.5)\n"
   ]
  },
  {
   "cell_type": "code",
   "execution_count": null,
   "id": "43",
   "metadata": {},
   "outputs": [],
   "source": [
    "plt.scatter(subgiants.FE_H, subgiants.MG_FE, s=0.3, alpha=0.1, c=subgiants.high_alpha)\n",
    "\n",
    "plt.xlim(-1, 0.5)\n",
    "plt.ylim(-0.4, 0.5)\n"
   ]
  },
  {
   "cell_type": "code",
   "execution_count": null,
   "id": "44",
   "metadata": {},
   "outputs": [],
   "source": [
    "plt.hist(dwarfs.C_MG_ERR, range=(0, 0.2));"
   ]
  },
  {
   "cell_type": "code",
   "execution_count": null,
   "id": "45",
   "metadata": {},
   "outputs": [],
   "source": [
    "plt.hist(subgiants.C_MG_ERR, range=(0, 0.2));"
   ]
  }
 ],
 "metadata": {
  "kernelspec": {
   "display_name": "Python (3.10)",
   "language": "python",
   "name": "python3"
  },
  "language_info": {
   "codemirror_mode": {
    "name": "ipython",
    "version": 3
   },
   "file_extension": ".py",
   "mimetype": "text/x-python",
   "name": "python",
   "nbconvert_exporter": "python",
   "pygments_lexer": "ipython3",
   "version": "3.10.10"
  }
 },
 "nbformat": 4,
 "nbformat_minor": 5
}
