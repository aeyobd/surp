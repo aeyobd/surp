{
 "cells": [
  {
   "cell_type": "code",
   "execution_count": null,
   "id": "0",
   "metadata": {},
   "outputs": [],
   "source": [
    "import pandas as pd\n",
    "import matplotlib.pyplot as plt\n",
    "import matplotlib as mpl\n",
    "import numpy as np\n",
    "import pandas as pd\n",
    "\n",
    "from astropy.table import Table\n",
    "import astropy.units as u\n"
   ]
  },
  {
   "cell_type": "code",
   "execution_count": null,
   "id": "1",
   "metadata": {},
   "outputs": [],
   "source": [
    "import arya\n",
    "import surp\n",
    "from surp.gce_math import is_high_alpha\n",
    "from surp._globals import DATA_DIR\n"
   ]
  },
  {
   "cell_type": "markdown",
   "id": "2",
   "metadata": {},
   "source": [
    "Apogee can be downloaded from https://data.sdss.org/sas/dr17/apogee/spectro/aspcap/dr17/synspec_rev1/allStar-dr17-synspec_rev1.fits, and astroNN from https://data.sdss.org/sas/dr17/env/APOGEE_ASTRO_NN/apogee_astroNN-DR17.fits."
   ]
  },
  {
   "cell_type": "code",
   "execution_count": null,
   "id": "3",
   "metadata": {},
   "outputs": [],
   "source": [
    "plt.rcParams[\"text.usetex\"] = False"
   ]
  },
  {
   "cell_type": "markdown",
   "id": "4",
   "metadata": {},
   "source": [
    "# Basic cleaning"
   ]
  },
  {
   "cell_type": "code",
   "execution_count": null,
   "id": "5",
   "metadata": {
    "tags": []
   },
   "outputs": [],
   "source": [
    "filename = surp.DATA_DIR + \"/surveys/allStar-dr17-synspec_rev1.fits\""
   ]
  },
  {
   "cell_type": "code",
   "execution_count": null,
   "id": "6",
   "metadata": {},
   "outputs": [],
   "source": [
    "filename_ann = surp.DATA_DIR + \"/surveys/apogee_astroNN-DR17.fits\"\n"
   ]
  },
  {
   "cell_type": "markdown",
   "id": "7",
   "metadata": {
    "jp-MarkdownHeadingCollapsed": true
   },
   "source": [
    "## Double check sha (optional)"
   ]
  },
  {
   "cell_type": "code",
   "execution_count": null,
   "id": "8",
   "metadata": {},
   "outputs": [],
   "source": [
    "check_sha = True"
   ]
  },
  {
   "cell_type": "code",
   "execution_count": null,
   "id": "9",
   "metadata": {},
   "outputs": [],
   "source": [
    "if check_sha:\n",
    "    import subprocess\n",
    "    result = subprocess.run([\"sha1sum\", filename], stdout=subprocess.PIPE)\n",
    "    \n",
    "    sha = result.stdout.decode().split(\" \")[0]\n",
    "    \n",
    "    print(\"apogee matches \", sha == \"7aa2f381de0e8e246f9833cc7da540ef45096702\") # shasum from file\n",
    "\n",
    "\n",
    "    result = subprocess.run([\"sha1sum\", filename_ann], stdout=subprocess.PIPE)\n",
    "    sha = result.stdout.decode().split(\" \")[0]\n",
    "    print(\"ANN matches \", sha == \"c422b9adba840b3415af2fe6dec6500219f1b68f\") # shasum from file"
   ]
  },
  {
   "cell_type": "markdown",
   "id": "10",
   "metadata": {},
   "source": [
    "## Loading and basic cleaning"
   ]
  },
  {
   "cell_type": "code",
   "execution_count": null,
   "id": "11",
   "metadata": {},
   "outputs": [],
   "source": [
    "allStar = Table.read(filename, format=\"fits\", hdu=1, memmap=True)"
   ]
  },
  {
   "cell_type": "code",
   "execution_count": null,
   "id": "12",
   "metadata": {},
   "outputs": [],
   "source": [
    "def bracket(df, ele, ele2=\"H\"):\n",
    "    \"\"\"\n",
    "    Helper function for subgiants()\n",
    "    creates the abundance ratio [A/B]\n",
    "    from the  APOGEE dataframe\n",
    "    \"\"\"\n",
    "    if ele2 == \"H\":\n",
    "        if ele == \"FE\":\n",
    "            return df[\"FE_H\"]\n",
    "        else:\n",
    "            return df[\"%s_FE\" % ele] + df[\"FE_H\"]\n",
    "    else:\n",
    "        if ele2 == \"FE\":\n",
    "            return df[\"%s_FE\" % ele]\n",
    "        else:\n",
    "            return df[\"%s_FE\" % ele] - df[\"%s_FE\" % ele2]\n"
   ]
  },
  {
   "cell_type": "code",
   "execution_count": null,
   "id": "13",
   "metadata": {},
   "outputs": [],
   "source": [
    "df = allStar\n",
    "\n",
    "# Add useful abundance ratios\n",
    "df[\"O_H\"] = bracket(df, \"O\")\n",
    "df[\"MG_H\"] = bracket(df, \"MG\")\n",
    "df[\"C_O\"] = bracket(df, \"C\", \"O\")\n",
    "df[\"C_MG\"] = bracket(df, \"C\", \"MG\")\n",
    "df[\"C_H\"] = bracket(df, \"C\", \"H\")\n",
    "\n",
    "df[\"C_N\"] = bracket(df, \"C\", \"N\")\n",
    "df[\"N_H\"] = bracket(df, \"N\", \"H\")\n",
    "df[\"N_O\"] = bracket(df, \"N\", \"O\")\n",
    "df[\"N_MG\"] = bracket(df, \"N\", \"MG\")\n",
    "\n",
    "df[\"FE_O\"] = -df[\"O_FE\"]\n",
    "df[\"FE_MG\"] = -df[\"MG_FE\"]\n",
    "\n",
    "df[\"C_MG_ERR\"] = df[\"C_FE_ERR\"] + df[\"MG_FE_ERR\"]\n",
    "df[\"N_MG_ERR\"] = df[\"N_FE_ERR\"] + df[\"MG_FE_ERR\"]\n",
    "df[\"C_N_ERR\"] = df[\"N_FE_ERR\"] + df[\"C_FE_ERR\"]\n",
    "df[\"MG_H_ERR\"] = df[\"MG_FE_ERR\"] + df[\"FE_H_ERR\"]\n",
    "df[\"C_H_ERR\"] = df[\"C_FE_ERR\"] + df[\"FE_H_ERR\"]\n",
    "\n",
    "# add high/low alpha column\n",
    "df[\"high_alpha\"] = is_high_alpha(df[\"MG_FE\"], df[\"FE_H\"])\n",
    "\n",
    "allStar = df\n",
    "\n",
    "del df"
   ]
  },
  {
   "cell_type": "markdown",
   "id": "14",
   "metadata": {},
   "source": [
    "### Bitmasks"
   ]
  },
  {
   "cell_type": "markdown",
   "id": "15",
   "metadata": {},
   "source": [
    "See bitmasks in https://www.sdss4.org/dr17/irspec/apogee-bitmasks/#APOGEE_PARAMFLAG\n",
    "\n",
    "'ancillary young embedded cluster member', 'ancillary emission line star', 'MIR-detected candidate cluster member (ancillary)', \n",
    "\n",
    "APOGEE2_Target3: 'Selected as part of the EB program', 'Selected as part of the young cluster study (IN-SYNC)', 'Ancillary W3/4/5 star forming complex'\n",
    "\n",
    "              \n",
    "\n",
    "Finally, I restrict to the given Log(g)-Teff domain:\n",
    "log(g) ≥ 3.5\n",
    "log(g) ≤ 0.004 ∗ (𝑇eff ) − 15.7\n",
    "log(g) ≤ 0.00070588 ∗ (𝑇eff ) + 0.358836\n",
    "log(g) ≤ −0.0015 ∗ (𝑇eff ) + 12.05\n",
    "log(g) ≥ 0.0012 ∗ (𝑇eff ) − 2.8"
   ]
  },
  {
   "cell_type": "code",
   "execution_count": null,
   "id": "16",
   "metadata": {},
   "outputs": [],
   "source": [
    "apogee_aspcapflag = 0\n",
    "\n",
    "# apogee_aspcapflag ^= 1<<23 # STAR_BAD (TEFF, LOGG, CHI2, COLORTE, ROTATION, SN, GRIDEDGE_BAD)\n"
   ]
  },
  {
   "cell_type": "code",
   "execution_count": null,
   "id": "17",
   "metadata": {},
   "outputs": [],
   "source": [
    "# starflag is a bitwise and for each visit\n",
    "\n",
    "apogee_starflag = 0\n",
    "\n",
    "# these don't help\n",
    "# apogee_starflag ^= 1<<18 # bad_rv_companion\n",
    "# apogee_starflag ^= 1<<22 # RV_FAIL"
   ]
  },
  {
   "cell_type": "code",
   "execution_count": null,
   "id": "18",
   "metadata": {},
   "outputs": [],
   "source": [
    "apogee_target2 = 0\n",
    "\n",
    "apogee_target2 ^= 1<<17 # APOGEE_MIRCLUSTER_STAR\n",
    "apogee_target2 ^= 1<<15 # APOGEE_EMISSION_STAR  emission line stars\n",
    "apogee_target2 ^= 1<<13 # APOGEE_EMBEDDEDCLUSTER_STAR embedded cluster"
   ]
  },
  {
   "cell_type": "code",
   "execution_count": null,
   "id": "19",
   "metadata": {},
   "outputs": [],
   "source": [
    "apogee2_target3 = 0\n",
    "\n",
    "apogee2_target3 ^= 1<<1 # APOGEE2_EB eclipsing binary program\n",
    "apogee2_target3 ^= 1<<5 # APOGEE2_YOUNG_CLUSTER # young cluster (IN-SYNC)\n",
    "apogee2_target3 ^= 1<<18 # APOGEE2_W345 W3/4/5 star forming complex\n"
   ]
  },
  {
   "cell_type": "code",
   "execution_count": null,
   "id": "20",
   "metadata": {},
   "outputs": [],
   "source": [
    "extratarg = 1<<4 # DUPLICATE (keeps highest S/N observation)"
   ]
  },
  {
   "cell_type": "code",
   "execution_count": null,
   "id": "21",
   "metadata": {},
   "outputs": [],
   "source": [
    "elem_flag = 0\n",
    "# elem_flag ^= 1<<0 # GRIDEDGE_BAD\t0\tParameter within 1/8 grid spacing of grid edge : true value may be off grid\n",
    "# elem_flag ^= 1<<1 # CALRANGE_BAD\t1\tParameter outside valid range of calibration determination\n",
    "# elem_flag ^= 1<<2 # OTHER_BAD\t2\tOther error condition\n",
    "# elem_flag ^= 1<<3 # FERRE_FAIL\t3\tFailed solution in FERRE\n",
    "# elem_flag ^= 1<<4\n"
   ]
  },
  {
   "cell_type": "code",
   "execution_count": null,
   "id": "22",
   "metadata": {},
   "outputs": [],
   "source": [
    "print(bin(apogee2_target3))\n",
    "print(bin(apogee_target2))\n",
    "print(bin(apogee_starflag))\n",
    "print(bin(apogee_aspcapflag))\n",
    "print(bin(extratarg))\n",
    "print(bin(elem_flag))"
   ]
  },
  {
   "cell_type": "code",
   "execution_count": null,
   "id": "23",
   "metadata": {},
   "outputs": [],
   "source": [
    "mask = np.full(len(allStar), True)\n",
    "print(sum(~mask))\n",
    "\n",
    "mask &= (allStar[\"ASPCAPFLAG\"] & apogee_aspcapflag) == 0\n",
    "print(sum(~mask))\n",
    "\n",
    "mask &= (allStar[\"STARFLAG\"] & apogee_starflag) == 0\n",
    "print(sum(~mask))\n",
    "\n",
    "mask &= (allStar[\"APOGEE2_TARGET3\"] & apogee2_target3) == 0\n",
    "print(sum(~mask))\n",
    "\n",
    "mask &= (allStar[\"APOGEE_TARGET2\"] & apogee_target2) == 0\n",
    "print(sum(~mask))\n",
    "\n",
    "\n",
    "mask &= (allStar[\"EXTRATARG\"] & extratarg) == 0\n",
    "\n",
    "\n",
    "mask &= (allStar[\"FE_H_FLAG\"] & elem_flag) == 0\n",
    "print(sum(~mask))\n",
    "\n",
    "mask &= (allStar[\"MG_FE_FLAG\"] & elem_flag) == 0\n",
    "print(sum(~mask))\n",
    "\n",
    "mask &= (allStar[\"C_FE_FLAG\"] & elem_flag) == 0\n",
    "print(sum(~mask))\n",
    "\n",
    "\n",
    "print(sum(~mask))\n",
    "print(\"remaining \", sum(mask))"
   ]
  },
  {
   "cell_type": "code",
   "execution_count": null,
   "id": "24",
   "metadata": {},
   "outputs": [],
   "source": [
    "np.sum(~np.isfinite(allStar[mask][\"FE_H\"]))"
   ]
  },
  {
   "cell_type": "code",
   "execution_count": null,
   "id": "25",
   "metadata": {},
   "outputs": [],
   "source": [
    "for col in [\"FE_H\", \"MG_FE\", \"C_FE\", \"LOGG\", \"TEFF\"]:\n",
    "    print(col)\n",
    "    mask &= np.isfinite(allStar[col])\n",
    "    mask &= np.isfinite(allStar[col + \"_ERR\"])\n",
    "    print(sum(~mask))\n",
    "    print()"
   ]
  },
  {
   "cell_type": "code",
   "execution_count": null,
   "id": "26",
   "metadata": {},
   "outputs": [],
   "source": [
    "print(sum(mask))"
   ]
  },
  {
   "cell_type": "code",
   "execution_count": null,
   "id": "27",
   "metadata": {},
   "outputs": [],
   "source": [
    "allStarClean = allStar[mask]\n",
    "names = [name for name in allStarClean.colnames if len(allStarClean[name].shape) <= 1]\n",
    "allStarClean = allStarClean[names]"
   ]
  },
  {
   "cell_type": "code",
   "execution_count": null,
   "id": "28",
   "metadata": {},
   "outputs": [],
   "source": [
    "len(allStarClean)"
   ]
  },
  {
   "cell_type": "markdown",
   "id": "29",
   "metadata": {},
   "source": [
    "## Reading in astroNN"
   ]
  },
  {
   "cell_type": "code",
   "execution_count": null,
   "id": "30",
   "metadata": {},
   "outputs": [],
   "source": [
    "astroNN = Table.read(filename_ann, format=\"fits\", hdu=1, memmap=True)\n",
    "\n",
    "names = [name for name in astroNN.colnames if len(astroNN[name].shape) <= 1]\n",
    "astroNN = astroNN[names].to_pandas()"
   ]
  },
  {
   "cell_type": "code",
   "execution_count": null,
   "id": "31",
   "metadata": {},
   "outputs": [],
   "source": [
    "astroNN = astroNN[~astroNN[\"APOGEE_ID\"].duplicated(keep=\"last\")].copy()"
   ]
  },
  {
   "cell_type": "code",
   "execution_count": null,
   "id": "32",
   "metadata": {},
   "outputs": [],
   "source": [
    "astroNN.set_index(\"APOGEE_ID\", inplace=True)\n",
    "astroNN.columns = astroNN.columns.map(lambda x: str(x) + '_ANN')"
   ]
  },
  {
   "cell_type": "code",
   "execution_count": null,
   "id": "33",
   "metadata": {},
   "outputs": [],
   "source": [
    "astroNN"
   ]
  },
  {
   "cell_type": "code",
   "execution_count": null,
   "id": "34",
   "metadata": {},
   "outputs": [],
   "source": [
    "len(astroNN) == len(astroNN.index.unique())"
   ]
  },
  {
   "cell_type": "code",
   "execution_count": null,
   "id": "35",
   "metadata": {},
   "outputs": [],
   "source": [
    "plt.hist2d(astroNN[\"TEFF_ANN\"], astroNN[\"LOGG_ANN\"], range=((3000, 7000), (-0.5, 5)), bins=100, norm=\"log\", cmin=3, cmap=arya.style.get_cmap(to_white=True, reverse=True));\n",
    "\n",
    "plt.gca().invert_yaxis()\n",
    "plt.gca().invert_xaxis()\n",
    "plt.xlabel(\"logg\")\n",
    "plt.ylabel(\"teff\")"
   ]
  },
  {
   "cell_type": "markdown",
   "id": "36",
   "metadata": {
    "tags": []
   },
   "source": [
    "# APOGEE alla jack"
   ]
  },
  {
   "cell_type": "markdown",
   "id": "37",
   "metadata": {},
   "source": [
    "Jack's coordinates are\n",
    "\n",
    "- (3.5, 4800)\n",
    "- (3.8, 4875)\n",
    "- (4.1, 5300)\n",
    "- (3.8, 5500)\n",
    "- (3.5, 5250)\n"
   ]
  },
  {
   "cell_type": "code",
   "execution_count": null,
   "id": "38",
   "metadata": {},
   "outputs": [],
   "source": [
    "logg = allStarClean[\"LOGG\"]\n",
    "teff = allStarClean[\"TEFF\"]\n",
    "\n",
    "mask = logg >= 3.5\n",
    "mask &= logg <= 0.004*teff - 15.7\n",
    "mask &= logg <= 0.0007*teff + 0.36\n",
    "mask &= logg <= -0.0015 * teff + 12.05\n",
    "mask &= logg >= 0.0012*teff - 2.8"
   ]
  },
  {
   "cell_type": "code",
   "execution_count": null,
   "id": "39",
   "metadata": {},
   "outputs": [],
   "source": [
    "np.sum(mask)"
   ]
  },
  {
   "cell_type": "code",
   "execution_count": null,
   "id": "40",
   "metadata": {},
   "outputs": [],
   "source": [
    "subgiants = allStarClean[mask].to_pandas()"
   ]
  },
  {
   "cell_type": "code",
   "execution_count": null,
   "id": "41",
   "metadata": {},
   "outputs": [],
   "source": [
    "np.sum(subgiants.APOGEE_ID.duplicated())"
   ]
  },
  {
   "cell_type": "code",
   "execution_count": null,
   "id": "42",
   "metadata": {},
   "outputs": [],
   "source": [
    "coords = [\n",
    "    (3.5, 4800),\n",
    "    (3.8, 4875),\n",
    "    (4.1, 5300),\n",
    "    (3.8, 5500),\n",
    "    (3.5, 5250),\n",
    "    (3.5, 4800)\n",
    "]\n",
    "y = [c[0] for c in coords]\n",
    "x = [c[1] for c in coords]"
   ]
  },
  {
   "cell_type": "code",
   "execution_count": null,
   "id": "43",
   "metadata": {},
   "outputs": [],
   "source": [
    "plt.figure(figsize=(10/3, 10/3), rasterized=True, dpi=350)\n",
    "_, _, _, img = plt.hist2d(allStar[\"TEFF\"], allStar[\"LOGG\"], range=((3000, 7000), (-0.5, 5)), bins=100, norm=\"log\", cmin=3, cmap=arya.style.get_cmap(to_white=True, reverse=True))\n",
    "img.set_edgecolor(\"none\")\n",
    "\n",
    "\n",
    "plt.plot(x, y, lw=2, color=\"k\")\n",
    "\n",
    "plt.gca().invert_yaxis()\n",
    "plt.gca().invert_xaxis()\n",
    "plt.xlabel(\"$T_{\\\\rm eff}$ (K)\")\n",
    "plt.ylabel(\"$\\\\log$ g\")\n",
    "plt.savefig(\"logg_jack.pdf\")"
   ]
  },
  {
   "cell_type": "code",
   "execution_count": null,
   "id": "44",
   "metadata": {},
   "outputs": [],
   "source": [
    "plt.plot(x, y, lw=2, color=\"k\")\n",
    "plt.scatter(subgiants.TEFF, subgiants.LOGG)\n",
    "plt.gca().invert_yaxis()\n",
    "plt.gca().invert_xaxis()\n",
    "plt.xlabel(\"$T_{\\\\rm eff}$ (K)\")\n",
    "plt.ylabel(\"$\\\\log$ g\")"
   ]
  },
  {
   "cell_type": "code",
   "execution_count": null,
   "id": "45",
   "metadata": {},
   "outputs": [],
   "source": [
    "subgiants_pann = subgiants.set_index(\"APOGEE_ID\").join(astroNN).copy()\n"
   ]
  },
  {
   "cell_type": "code",
   "execution_count": null,
   "id": "46",
   "metadata": {},
   "outputs": [],
   "source": [
    "\n",
    "subgiants_pann[\"R_gal\"] = subgiants_pann.galr_ANN\n",
    "subgiants_pann[\"z_gal\"] = subgiants_pann.galz_ANN\n",
    "\n",
    "subgiants_pann[\"abs_z\"] = np.abs(subgiants_pann.z_gal)"
   ]
  },
  {
   "cell_type": "code",
   "execution_count": null,
   "id": "47",
   "metadata": {},
   "outputs": [],
   "source": [
    "import astropy.coordinates as ac\n",
    "import astropy.units as u"
   ]
  },
  {
   "cell_type": "code",
   "execution_count": null,
   "id": "48",
   "metadata": {},
   "outputs": [],
   "source": [
    "d =  1 * u.kpc/subgiants_pann.GAIAEDR3_PARALLAX.values"
   ]
  },
  {
   "cell_type": "code",
   "execution_count": null,
   "id": "49",
   "metadata": {},
   "outputs": [],
   "source": [
    "d[d<0] = np.nan"
   ]
  },
  {
   "cell_type": "code",
   "execution_count": null,
   "id": "50",
   "metadata": {},
   "outputs": [],
   "source": [
    "sc = ac.SkyCoord(ra=subgiants_pann.RA.values * u.deg, dec=subgiants_pann.DEC.values * u.deg, distance =d)\n",
    "\n",
    "gc = sc.transform_to(ac.Galactocentric())"
   ]
  },
  {
   "cell_type": "code",
   "execution_count": null,
   "id": "51",
   "metadata": {},
   "outputs": [],
   "source": [
    "R = (np.sqrt(gc.x**2 + gc.y**2) / u.kpc).decompose().value"
   ]
  },
  {
   "cell_type": "code",
   "execution_count": null,
   "id": "52",
   "metadata": {},
   "outputs": [],
   "source": [
    "z = (gc.z / u.kpc).decompose().value"
   ]
  },
  {
   "cell_type": "code",
   "execution_count": null,
   "id": "53",
   "metadata": {},
   "outputs": [],
   "source": [
    "subgiants_pann[\"R_gal_gaia\"] = R\n",
    "subgiants_pann[\"z_gal_gaia\"] = z"
   ]
  },
  {
   "cell_type": "code",
   "execution_count": null,
   "id": "54",
   "metadata": {},
   "outputs": [],
   "source": [
    "len(subgiants_pann)"
   ]
  },
  {
   "cell_type": "code",
   "execution_count": null,
   "id": "55",
   "metadata": {},
   "outputs": [],
   "source": [
    "subgiants_pann.to_csv(DATA_DIR + \"subgiants.csv\")"
   ]
  },
  {
   "cell_type": "code",
   "execution_count": null,
   "id": "56",
   "metadata": {},
   "outputs": [],
   "source": [
    "plt.hist2d(subgiants.FE_H, subgiants.MG_FE, cmin=1, bins=80, range=((-1, 0.5),(-0.15, 0.45)) );\n"
   ]
  },
  {
   "cell_type": "code",
   "execution_count": null,
   "id": "57",
   "metadata": {},
   "outputs": [],
   "source": [
    "import seaborn as sns"
   ]
  },
  {
   "cell_type": "code",
   "execution_count": null,
   "id": "58",
   "metadata": {},
   "outputs": [],
   "source": [
    "plt.hist(subgiants_pann.R_gal, histtype=\"step\", bins=60, density=True)\n",
    "sns.kdeplot(subgiants_pann.R_gal)\n"
   ]
  },
  {
   "cell_type": "markdown",
   "id": "59",
   "metadata": {},
   "source": [
    "# Validation"
   ]
  },
  {
   "cell_type": "code",
   "execution_count": null,
   "id": "60",
   "metadata": {},
   "outputs": [],
   "source": [
    "import surp\n",
    "import matplotlib.pyplot as plt\n",
    "import seaborn as sns\n",
    "import arya"
   ]
  },
  {
   "cell_type": "code",
   "execution_count": null,
   "id": "61",
   "metadata": {},
   "outputs": [],
   "source": [
    "subgiants = surp.subgiants"
   ]
  },
  {
   "cell_type": "code",
   "execution_count": null,
   "id": "62",
   "metadata": {},
   "outputs": [],
   "source": [
    "subgiants"
   ]
  },
  {
   "cell_type": "code",
   "execution_count": null,
   "id": "63",
   "metadata": {},
   "outputs": [],
   "source": [
    "subgiants[~np.isclose(subgiants_pann.R_gal, subgiants.R_gal.values)]"
   ]
  },
  {
   "cell_type": "code",
   "execution_count": null,
   "id": "64",
   "metadata": {},
   "outputs": [],
   "source": [
    "sns.kdeplot(subgiants.R_gal)\n",
    "sns.kdeplot(subgiants_pann.R_gal, ls=\":\")\n",
    "\n",
    "plt.xlabel(\"R ga\")\n"
   ]
  },
  {
   "cell_type": "code",
   "execution_count": null,
   "id": "65",
   "metadata": {},
   "outputs": [],
   "source": [
    "plt.scatter(R, subgiants.R_gal, s=1, alpha=0.3)\n",
    "plt.xlim(0, 13)\n",
    "plt.ylim(0, 13)\n",
    "plt.plot([0,13],[0,13], \"k-\")"
   ]
  },
  {
   "cell_type": "code",
   "execution_count": null,
   "id": "66",
   "metadata": {},
   "outputs": [],
   "source": [
    "sns.kdeplot(R, clip=(0, 15), label=\"Gaia\")\n",
    "sns.kdeplot(subgiants_pann.R_gal, label=\"ANN\")\n",
    "plt.xlim(0, 15)\n",
    "plt.xlabel(\"R ga\")\n",
    "plt.legend()"
   ]
  },
  {
   "cell_type": "code",
   "execution_count": null,
   "id": "67",
   "metadata": {},
   "outputs": [],
   "source": [
    "sum(subgiants_pann.abs_z > 3) / len(subgiants_pann)"
   ]
  },
  {
   "cell_type": "code",
   "execution_count": null,
   "id": "68",
   "metadata": {},
   "outputs": [],
   "source": [
    "sns.kdeplot(np.abs(z), label=\"gaia\", clip=(0, 10))\n",
    "\n",
    "sns.kdeplot(subgiants_pann.abs_z, label=\"ANN\")\n",
    "plt.xlim(0, 15)\n",
    "plt.xlabel(\"R ga\")\n",
    "plt.legend()"
   ]
  },
  {
   "cell_type": "code",
   "execution_count": null,
   "id": "69",
   "metadata": {},
   "outputs": [],
   "source": []
  },
  {
   "cell_type": "code",
   "execution_count": null,
   "id": "70",
   "metadata": {},
   "outputs": [],
   "source": []
  }
 ],
 "metadata": {
  "kernelspec": {
   "display_name": "Python 3 (ipykernel)",
   "language": "python",
   "name": "python3"
  },
  "language_info": {
   "codemirror_mode": {
    "name": "ipython",
    "version": 3
   },
   "file_extension": ".py",
   "mimetype": "text/x-python",
   "name": "python",
   "nbconvert_exporter": "python",
   "pygments_lexer": "ipython3",
   "version": "3.11.9"
  }
 },
 "nbformat": 4,
 "nbformat_minor": 5
}
