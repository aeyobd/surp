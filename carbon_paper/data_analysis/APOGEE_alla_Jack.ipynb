{
 "cells": [
  {
   "cell_type": "code",
   "execution_count": 1,
   "id": "55f450fc-8fce-4a8f-abb9-37ef78fc3c1a",
   "metadata": {},
   "outputs": [],
   "source": [
    "import pandas as pd\n",
    "import matplotlib.pyplot as plt\n",
    "import matplotlib as mpl\n",
    "import numpy as np\n",
    "import pandas as pd\n",
    "\n",
    "from astropy.table import Table\n",
    "import astropy.units as u\n"
   ]
  },
  {
   "cell_type": "code",
   "execution_count": 2,
   "id": "da8a65f6-d942-4864-8d47-3c5fad6f1613",
   "metadata": {},
   "outputs": [
    {
     "name": "stderr",
     "output_type": "stream",
     "text": [
      "/users/PAS2232/aeyobd/VICE/vice/__init__.py:141: UserWarning: Using un-released version of VICE\n",
      "  warnings.warn(\"Using un-released version of VICE\", UserWarning)\n"
     ]
    }
   ],
   "source": [
    "import arya\n",
    "import surp\n",
    "from surp.gce_math import is_high_alpha\n",
    "from surp._globals import DATA_DIR\n"
   ]
  },
  {
   "cell_type": "markdown",
   "id": "3dc2fd32-d077-4625-bf44-128176875761",
   "metadata": {},
   "source": [
    "Apogee can be downloaded from https://data.sdss.org/sas/dr17/apogee/spectro/aspcap/dr17/synspec_rev1/allStar-dr17-synspec_rev1.fits, and astroNN from https://data.sdss.org/sas/dr17/env/APOGEE_ASTRO_NN/apogee_astroNN-DR17.fits."
   ]
  },
  {
   "cell_type": "markdown",
   "id": "3302d96f-6d3d-4f7f-9074-2aa13d0f50ba",
   "metadata": {},
   "source": [
    "# Basic cleaning"
   ]
  },
  {
   "cell_type": "code",
   "execution_count": 3,
   "id": "f71a8b69-4230-437d-99bf-0e1d1e3c2b7a",
   "metadata": {
    "scrolled": true,
    "tags": []
   },
   "outputs": [],
   "source": [
    "filename = surp.DATA_DIR + \"allStar-dr17-synspec_rev1.fits\""
   ]
  },
  {
   "cell_type": "code",
   "execution_count": 4,
   "id": "70bf404b-6dee-4d82-8703-c6b4d6491b15",
   "metadata": {},
   "outputs": [
    {
     "data": {
      "text/plain": [
       "True"
      ]
     },
     "execution_count": 4,
     "metadata": {},
     "output_type": "execute_result"
    }
   ],
   "source": [
    "import subprocess\n",
    "result = subprocess.run([\"sha1sum\", filename], stdout=subprocess.PIPE)\n",
    "\n",
    "sha = result.stdout.decode().split(\" \")[0]\n",
    "\n",
    "sha == \"7aa2f381de0e8e246f9833cc7da540ef45096702\" # shasum from file"
   ]
  },
  {
   "cell_type": "code",
   "execution_count": 5,
   "id": "065bd7ac-fdf4-4afb-9fd0-aa9eaaa80b02",
   "metadata": {},
   "outputs": [],
   "source": [
    "allStar = Table.read(filename, format=\"fits\", hdu=1, memmap=True)"
   ]
  },
  {
   "cell_type": "code",
   "execution_count": 6,
   "id": "5b022b37-d9fe-41ce-8053-7116cfefb3fc",
   "metadata": {},
   "outputs": [],
   "source": [
    "def bracket(df, ele, ele2=\"H\"):\n",
    "    \"\"\"\n",
    "    Helper function for subgiants()\n",
    "    creates the abundance ratio [A/B]\n",
    "    from the  APOGEE dataframe\n",
    "    \"\"\"\n",
    "    if ele2 == \"H\":\n",
    "        if ele == \"FE\":\n",
    "            return df[\"FE_H\"]\n",
    "        else:\n",
    "            return df[\"%s_FE\" % ele] + df[\"FE_H\"]\n",
    "    else:\n",
    "        if ele2 == \"FE\":\n",
    "            return df[\"%s_FE\" % ele]\n",
    "        else:\n",
    "            return df[\"%s_FE\" % ele] - df[\"%s_FE\" % ele2]\n"
   ]
  },
  {
   "cell_type": "code",
   "execution_count": 7,
   "id": "9f1b6bc5-7aa2-4e68-a423-eee1b5c58cf4",
   "metadata": {},
   "outputs": [],
   "source": [
    "df = allStar\n",
    "\n",
    "# Add useful abundance ratios\n",
    "df[\"O_H\"] = bracket(df, \"O\")\n",
    "df[\"MG_H\"] = bracket(df, \"MG\")\n",
    "df[\"C_O\"] = bracket(df, \"C\", \"O\")\n",
    "df[\"C_MG\"] = bracket(df, \"C\", \"MG\")\n",
    "df[\"C_H\"] = bracket(df, \"C\", \"H\")\n",
    "\n",
    "df[\"C_N\"] = bracket(df, \"C\", \"N\")\n",
    "df[\"N_H\"] = bracket(df, \"N\", \"H\")\n",
    "df[\"N_O\"] = bracket(df, \"N\", \"O\")\n",
    "df[\"N_MG\"] = bracket(df, \"N\", \"MG\")\n",
    "\n",
    "df[\"FE_O\"] = -df[\"O_FE\"]\n",
    "df[\"FE_MG\"] = -df[\"MG_FE\"]\n",
    "\n",
    "df[\"C_MG_ERR\"] = df[\"C_FE_ERR\"] + df[\"MG_FE_ERR\"]\n",
    "df[\"N_MG_ERR\"] = df[\"N_FE_ERR\"] + df[\"MG_FE_ERR\"]\n",
    "df[\"C_N_ERR\"] = df[\"N_FE_ERR\"] + df[\"C_FE_ERR\"]\n",
    "df[\"MG_H_ERR\"] = df[\"MG_FE_ERR\"] + df[\"FE_H_ERR\"]\n",
    "df[\"C_H_ERR\"] = df[\"C_FE_ERR\"] + df[\"FE_H_ERR\"]\n",
    "\n",
    "# add high/low alpha column\n",
    "df[\"high_alpha\"] = is_high_alpha(df[\"MG_FE\"], df[\"FE_H\"])\n",
    "\n",
    "allStar = df\n",
    "\n",
    "del df"
   ]
  },
  {
   "cell_type": "markdown",
   "id": "82af92a0-8315-4d45-a5ae-cc39f93155f3",
   "metadata": {},
   "source": [
    "See bitmasks in https://www.sdss4.org/dr17/irspec/apogee-bitmasks/#APOGEE_PARAMFLAG\n",
    "\n",
    "'ancillary young embedded cluster member', 'ancillary emission line star', 'MIR-detected candidate cluster member (ancillary)', \n",
    "\n",
    "APOGEE2_Target3: 'Selected as part of the EB program', 'Selected as part of the young cluster study (IN-SYNC)', 'Ancillary W3/4/5 star forming complex'\n",
    "\n",
    "              \n",
    "\n",
    "Finally, I restrict to the given Log(g)-Teff domain:\n",
    "log(g) ≥ 3.5\n",
    "log(g) ≤ 0.004 ∗ (𝑇eff ) − 15.7\n",
    "log(g) ≤ 0.00070588 ∗ (𝑇eff ) + 0.358836\n",
    "log(g) ≤ −0.0015 ∗ (𝑇eff ) + 12.05\n",
    "log(g) ≥ 0.0012 ∗ (𝑇eff ) − 2.8"
   ]
  },
  {
   "cell_type": "code",
   "execution_count": 8,
   "id": "853d163a-f81f-4ad0-bb05-21d279ffa685",
   "metadata": {},
   "outputs": [],
   "source": [
    "apogee_aspcapflag = 0\n",
    "\n",
    "# apogee_aspcapflag ^= 1<<23 # STAR_BAD (TEFF, LOGG, CHI2, COLORTE, ROTATION, SN, GRIDEDGE_BAD)\n"
   ]
  },
  {
   "cell_type": "code",
   "execution_count": 9,
   "id": "9a2a0b23-6ae2-4ca9-8607-4cac0e09d6a6",
   "metadata": {},
   "outputs": [],
   "source": [
    "# starflag is a bitwise and for each visit\n",
    "\n",
    "apogee_starflag = 0\n",
    "\n",
    "# these don't help\n",
    "# apogee_starflag ^= 1<<18 # bad_rv_companion\n",
    "# apogee_starflag ^= 1<<22 # RV_FAIL"
   ]
  },
  {
   "cell_type": "code",
   "execution_count": 10,
   "id": "2ffd3be4-5bbf-4c77-b39d-ff3476d780e2",
   "metadata": {},
   "outputs": [],
   "source": [
    "apogee_target2 = 0\n",
    "\n",
    "apogee_target2 ^= 1<<17 # APOGEE_MIRCLUSTER_STAR\n",
    "apogee_target2 ^= 1<<15 # APOGEE_EMISSION_STAR  emission line stars\n",
    "apogee_target2 ^= 1<<13 # APOGEE_EMBEDDEDCLUSTER_STAR embedded cluster"
   ]
  },
  {
   "cell_type": "code",
   "execution_count": 11,
   "id": "e40e34cd-3833-4319-adb9-77883ecba08a",
   "metadata": {},
   "outputs": [],
   "source": [
    "apogee2_target3 = 0\n",
    "\n",
    "apogee2_target3 ^= 1<<1 # APOGEE2_EB eclipsing binary program\n",
    "apogee2_target3 ^= 1<<5 # APOGEE2_YOUNG_CLUSTER # young cluster (IN-SYNC)\n",
    "apogee2_target3 ^= 1<<18 # APOGEE2_W345 W3/4/5 star forming complex\n"
   ]
  },
  {
   "cell_type": "code",
   "execution_count": 12,
   "id": "391fb73a-15ae-4588-b685-1211448b8d7a",
   "metadata": {},
   "outputs": [],
   "source": [
    "extratarg = 1<<4 # DUPLICATE (keeps highest S/N observation)"
   ]
  },
  {
   "cell_type": "code",
   "execution_count": 13,
   "id": "f31423b2-342b-4b10-98be-0dac41558563",
   "metadata": {},
   "outputs": [],
   "source": [
    "elem_flag = 0\n",
    "# elem_flag ^= 1<<0 # GRIDEDGE_BAD\t0\tParameter within 1/8 grid spacing of grid edge : true value may be off grid\n",
    "# elem_flag ^= 1<<1 # CALRANGE_BAD\t1\tParameter outside valid range of calibration determination\n",
    "# elem_flag ^= 1<<2 # OTHER_BAD\t2\tOther error condition\n",
    "# elem_flag ^= 1<<3 # FERRE_FAIL\t3\tFailed solution in FERRE\n",
    "# elem_flag ^= 1<<4\n"
   ]
  },
  {
   "cell_type": "code",
   "execution_count": 14,
   "id": "e3382360-c3be-4318-b67e-83ce4e070a70",
   "metadata": {},
   "outputs": [
    {
     "name": "stdout",
     "output_type": "stream",
     "text": [
      "0b1000000000000100010\n",
      "0b101010000000000000\n",
      "0b0\n",
      "0b0\n",
      "0b10000\n",
      "0b0\n"
     ]
    }
   ],
   "source": [
    "print(bin(apogee2_target3))\n",
    "print(bin(apogee_target2))\n",
    "print(bin(apogee_starflag))\n",
    "print(bin(apogee_aspcapflag))\n",
    "print(bin(extratarg))\n",
    "print(bin(elem_flag))"
   ]
  },
  {
   "cell_type": "code",
   "execution_count": 15,
   "id": "f4af5746-1a82-415a-a71f-6fedfd785ad3",
   "metadata": {},
   "outputs": [
    {
     "name": "stdout",
     "output_type": "stream",
     "text": [
      "0\n",
      "0\n",
      "0\n",
      "12470\n",
      "16219\n",
      "90425\n",
      "90425\n",
      "90425\n",
      "90425\n",
      "remaining  643476\n"
     ]
    }
   ],
   "source": [
    "mask = np.full(len(allStar), True)\n",
    "print(sum(~mask))\n",
    "\n",
    "mask &= (allStar[\"ASPCAPFLAG\"] & apogee_aspcapflag) == 0\n",
    "print(sum(~mask))\n",
    "\n",
    "mask &= (allStar[\"STARFLAG\"] & apogee_starflag) == 0\n",
    "print(sum(~mask))\n",
    "\n",
    "mask &= (allStar[\"APOGEE2_TARGET3\"] & apogee2_target3) == 0\n",
    "print(sum(~mask))\n",
    "\n",
    "mask &= (allStar[\"APOGEE_TARGET2\"] & apogee_target2) == 0\n",
    "print(sum(~mask))\n",
    "\n",
    "\n",
    "mask &= (allStar[\"EXTRATARG\"] & extratarg) == 0\n",
    "\n",
    "\n",
    "mask &= (allStar[\"FE_H_FLAG\"] & elem_flag) == 0\n",
    "print(sum(~mask))\n",
    "\n",
    "mask &= (allStar[\"MG_FE_FLAG\"] & elem_flag) == 0\n",
    "print(sum(~mask))\n",
    "\n",
    "mask &= (allStar[\"C_FE_FLAG\"] & elem_flag) == 0\n",
    "print(sum(~mask))\n",
    "\n",
    "\n",
    "print(sum(~mask))\n",
    "print(\"remaining \", sum(mask))"
   ]
  },
  {
   "cell_type": "code",
   "execution_count": 16,
   "id": "e2835b9d-f30c-4493-b7a1-97fd984fa8dd",
   "metadata": {},
   "outputs": [
    {
     "data": {
      "text/plain": [
       "66735"
      ]
     },
     "execution_count": 16,
     "metadata": {},
     "output_type": "execute_result"
    }
   ],
   "source": [
    "np.sum(~np.isfinite(allStar[mask][\"FE_H\"]))"
   ]
  },
  {
   "cell_type": "code",
   "execution_count": 17,
   "id": "ffcbf706-9e62-4ad4-9143-64916e92df67",
   "metadata": {},
   "outputs": [
    {
     "name": "stdout",
     "output_type": "stream",
     "text": [
      "FE_H\n",
      "157160\n",
      "\n",
      "MG_FE\n",
      "157778\n",
      "\n",
      "C_FE\n",
      "160196\n",
      "\n",
      "LOGG\n",
      "160196\n",
      "\n",
      "TEFF\n",
      "160196\n",
      "\n"
     ]
    }
   ],
   "source": [
    "for col in [\"FE_H\", \"MG_FE\", \"C_FE\", \"LOGG\", \"TEFF\"]:\n",
    "    print(col)\n",
    "    mask &= np.isfinite(allStar[col])\n",
    "    mask &= np.isfinite(allStar[col + \"_ERR\"])\n",
    "    print(sum(~mask))\n",
    "    print()"
   ]
  },
  {
   "cell_type": "code",
   "execution_count": 18,
   "id": "22a09713-fdcb-43ab-b858-3b5268209701",
   "metadata": {},
   "outputs": [
    {
     "name": "stdout",
     "output_type": "stream",
     "text": [
      "573705\n"
     ]
    }
   ],
   "source": [
    "print(sum(mask))"
   ]
  },
  {
   "cell_type": "code",
   "execution_count": 19,
   "id": "a9eb61e1-9bdb-4c86-a616-4bc7bf704b8d",
   "metadata": {},
   "outputs": [],
   "source": [
    "allStarClean = allStar[mask]\n",
    "names = [name for name in allStarClean.colnames if len(allStarClean[name].shape) <= 1]\n",
    "allStarClean = allStarClean[names]"
   ]
  },
  {
   "cell_type": "code",
   "execution_count": 20,
   "id": "c03f68fb-c372-44f8-94df-6efa89fc3d5a",
   "metadata": {},
   "outputs": [
    {
     "data": {
      "text/plain": [
       "573705"
      ]
     },
     "execution_count": 20,
     "metadata": {},
     "output_type": "execute_result"
    }
   ],
   "source": [
    "len(allStarClean)"
   ]
  },
  {
   "cell_type": "code",
   "execution_count": 21,
   "id": "d72c69c8-9843-42e5-8dc2-d751879d0dd8",
   "metadata": {},
   "outputs": [],
   "source": [
    "astroNN = Table.read(surp._globals.DATA_DIR + \"apogee_astroNN-DR17.fits\", format=\"fits\", hdu=1, memmap=True)\n",
    "\n",
    "names = [name for name in astroNN.colnames if len(astroNN[name].shape) <= 1]\n",
    "astroNN = astroNN[names].to_pandas()"
   ]
  },
  {
   "cell_type": "code",
   "execution_count": 22,
   "id": "6acfb9cf-6886-4533-be04-6cf6d3e43804",
   "metadata": {},
   "outputs": [],
   "source": [
    "astroNN = astroNN[~astroNN[\"APOGEE_ID\"].duplicated(keep=\"last\")].copy()"
   ]
  },
  {
   "cell_type": "code",
   "execution_count": 23,
   "id": "2bcebe12-8388-4085-aa1d-0b9630e77a36",
   "metadata": {},
   "outputs": [],
   "source": [
    "astroNN.set_index(\"APOGEE_ID\", inplace=True)\n",
    "astroNN.columns = astroNN.columns.map(lambda x: str(x) + '_ANN')"
   ]
  },
  {
   "cell_type": "code",
   "execution_count": 24,
   "id": "075a191c-90cb-4531-aa2f-3b8b983bc080",
   "metadata": {},
   "outputs": [
    {
     "data": {
      "text/html": [
       "<div>\n",
       "<style scoped>\n",
       "    .dataframe tbody tr th:only-of-type {\n",
       "        vertical-align: middle;\n",
       "    }\n",
       "\n",
       "    .dataframe tbody tr th {\n",
       "        vertical-align: top;\n",
       "    }\n",
       "\n",
       "    .dataframe thead th {\n",
       "        text-align: right;\n",
       "    }\n",
       "</style>\n",
       "<table border=\"1\" class=\"dataframe\">\n",
       "  <thead>\n",
       "    <tr style=\"text-align: right;\">\n",
       "      <th></th>\n",
       "      <th>LOCATION_ID_ANN</th>\n",
       "      <th>TELESCOPE_ANN</th>\n",
       "      <th>RA_APOGEE_ANN</th>\n",
       "      <th>DEC_APOGEE_ANN</th>\n",
       "      <th>TEFF_ANN</th>\n",
       "      <th>TEFF_ERR_ANN</th>\n",
       "      <th>LOGG_ANN</th>\n",
       "      <th>LOGG_ERR_ANN</th>\n",
       "      <th>C_H_ANN</th>\n",
       "      <th>C_H_ERR_ANN</th>\n",
       "      <th>...</th>\n",
       "      <th>theta_phi_ANN</th>\n",
       "      <th>theta_phi_err_ANN</th>\n",
       "      <th>theta_z_ANN</th>\n",
       "      <th>theta_z_err_ANN</th>\n",
       "      <th>rl_ANN</th>\n",
       "      <th>rl_err_ANN</th>\n",
       "      <th>Energy_ANN</th>\n",
       "      <th>Energy_err_ANN</th>\n",
       "      <th>EminusEc_ANN</th>\n",
       "      <th>EminusEc_err_ANN</th>\n",
       "    </tr>\n",
       "    <tr>\n",
       "      <th>APOGEE_ID</th>\n",
       "      <th></th>\n",
       "      <th></th>\n",
       "      <th></th>\n",
       "      <th></th>\n",
       "      <th></th>\n",
       "      <th></th>\n",
       "      <th></th>\n",
       "      <th></th>\n",
       "      <th></th>\n",
       "      <th></th>\n",
       "      <th></th>\n",
       "      <th></th>\n",
       "      <th></th>\n",
       "      <th></th>\n",
       "      <th></th>\n",
       "      <th></th>\n",
       "      <th></th>\n",
       "      <th></th>\n",
       "      <th></th>\n",
       "      <th></th>\n",
       "      <th></th>\n",
       "    </tr>\n",
       "  </thead>\n",
       "  <tbody>\n",
       "    <tr>\n",
       "      <th>b'VESTA'</th>\n",
       "      <td>1</td>\n",
       "      <td>b'apo1m'</td>\n",
       "      <td>NaN</td>\n",
       "      <td>NaN</td>\n",
       "      <td>NaN</td>\n",
       "      <td>NaN</td>\n",
       "      <td>NaN</td>\n",
       "      <td>NaN</td>\n",
       "      <td>NaN</td>\n",
       "      <td>NaN</td>\n",
       "      <td>...</td>\n",
       "      <td>NaN</td>\n",
       "      <td>NaN</td>\n",
       "      <td>NaN</td>\n",
       "      <td>NaN</td>\n",
       "      <td>NaN</td>\n",
       "      <td>NaN</td>\n",
       "      <td>NaN</td>\n",
       "      <td>NaN</td>\n",
       "      <td>NaN</td>\n",
       "      <td>NaN</td>\n",
       "    </tr>\n",
       "    <tr>\n",
       "      <th>b'2M00000002+7417074'</th>\n",
       "      <td>5046</td>\n",
       "      <td>b'apo25m'</td>\n",
       "      <td>0.000103</td>\n",
       "      <td>74.285408</td>\n",
       "      <td>3730.434814</td>\n",
       "      <td>49.411095</td>\n",
       "      <td>0.864455</td>\n",
       "      <td>0.091876</td>\n",
       "      <td>-0.151543</td>\n",
       "      <td>0.032733</td>\n",
       "      <td>...</td>\n",
       "      <td>0.162341</td>\n",
       "      <td>0.002044</td>\n",
       "      <td>1.257675</td>\n",
       "      <td>0.029077</td>\n",
       "      <td>9.313814</td>\n",
       "      <td>0.104881</td>\n",
       "      <td>-35566.630438</td>\n",
       "      <td>541.664052</td>\n",
       "      <td>-53127.445881</td>\n",
       "      <td>237.718629</td>\n",
       "    </tr>\n",
       "    <tr>\n",
       "      <th>b'2M00000019-1924498'</th>\n",
       "      <td>5071</td>\n",
       "      <td>b'apo25m'</td>\n",
       "      <td>0.000832</td>\n",
       "      <td>-19.413851</td>\n",
       "      <td>5517.530273</td>\n",
       "      <td>136.336548</td>\n",
       "      <td>4.045386</td>\n",
       "      <td>0.218193</td>\n",
       "      <td>-0.239434</td>\n",
       "      <td>0.041846</td>\n",
       "      <td>...</td>\n",
       "      <td>6.186121</td>\n",
       "      <td>0.014669</td>\n",
       "      <td>3.736751</td>\n",
       "      <td>0.015291</td>\n",
       "      <td>7.512346</td>\n",
       "      <td>0.151292</td>\n",
       "      <td>-44554.547150</td>\n",
       "      <td>644.013746</td>\n",
       "      <td>-56067.037371</td>\n",
       "      <td>67.716759</td>\n",
       "    </tr>\n",
       "    <tr>\n",
       "      <th>b'2M00000032+5737103'</th>\n",
       "      <td>4264</td>\n",
       "      <td>b'apo25m'</td>\n",
       "      <td>0.001335</td>\n",
       "      <td>57.619530</td>\n",
       "      <td>6184.383301</td>\n",
       "      <td>159.639954</td>\n",
       "      <td>3.765513</td>\n",
       "      <td>0.169739</td>\n",
       "      <td>-0.189551</td>\n",
       "      <td>0.034528</td>\n",
       "      <td>...</td>\n",
       "      <td>0.107335</td>\n",
       "      <td>0.000205</td>\n",
       "      <td>4.069535</td>\n",
       "      <td>0.015443</td>\n",
       "      <td>8.940202</td>\n",
       "      <td>0.004568</td>\n",
       "      <td>-38034.879007</td>\n",
       "      <td>22.339314</td>\n",
       "      <td>-54482.585262</td>\n",
       "      <td>8.342593</td>\n",
       "    </tr>\n",
       "    <tr>\n",
       "      <th>b'2M00000035-7323394'</th>\n",
       "      <td>7218</td>\n",
       "      <td>b'lco25m'</td>\n",
       "      <td>0.001467</td>\n",
       "      <td>-73.394287</td>\n",
       "      <td>4473.471191</td>\n",
       "      <td>151.328293</td>\n",
       "      <td>1.654428</td>\n",
       "      <td>0.448441</td>\n",
       "      <td>-1.750013</td>\n",
       "      <td>0.298410</td>\n",
       "      <td>...</td>\n",
       "      <td>14.588887</td>\n",
       "      <td>316.082670</td>\n",
       "      <td>14.995901</td>\n",
       "      <td>316.069555</td>\n",
       "      <td>6.411104</td>\n",
       "      <td>2.007341</td>\n",
       "      <td>-4029.752908</td>\n",
       "      <td>16425.789087</td>\n",
       "      <td>-7247.884378</td>\n",
       "      <td>21167.997105</td>\n",
       "    </tr>\n",
       "    <tr>\n",
       "      <th>...</th>\n",
       "      <td>...</td>\n",
       "      <td>...</td>\n",
       "      <td>...</td>\n",
       "      <td>...</td>\n",
       "      <td>...</td>\n",
       "      <td>...</td>\n",
       "      <td>...</td>\n",
       "      <td>...</td>\n",
       "      <td>...</td>\n",
       "      <td>...</td>\n",
       "      <td>...</td>\n",
       "      <td>...</td>\n",
       "      <td>...</td>\n",
       "      <td>...</td>\n",
       "      <td>...</td>\n",
       "      <td>...</td>\n",
       "      <td>...</td>\n",
       "      <td>...</td>\n",
       "      <td>...</td>\n",
       "      <td>...</td>\n",
       "      <td>...</td>\n",
       "    </tr>\n",
       "    <tr>\n",
       "      <th>b'2M23595886-2009435'</th>\n",
       "      <td>5071</td>\n",
       "      <td>b'apo25m'</td>\n",
       "      <td>359.995258</td>\n",
       "      <td>-20.162107</td>\n",
       "      <td>4385.419922</td>\n",
       "      <td>18.942038</td>\n",
       "      <td>1.607170</td>\n",
       "      <td>0.051512</td>\n",
       "      <td>-0.573421</td>\n",
       "      <td>0.042118</td>\n",
       "      <td>...</td>\n",
       "      <td>5.245957</td>\n",
       "      <td>0.035109</td>\n",
       "      <td>4.489594</td>\n",
       "      <td>0.019772</td>\n",
       "      <td>2.715510</td>\n",
       "      <td>0.173466</td>\n",
       "      <td>-26309.039393</td>\n",
       "      <td>1459.584798</td>\n",
       "      <td>-3208.330021</td>\n",
       "      <td>3927.172429</td>\n",
       "    </tr>\n",
       "    <tr>\n",
       "      <th>b'2M23595886+5726058'</th>\n",
       "      <td>4424</td>\n",
       "      <td>b'apo25m'</td>\n",
       "      <td>359.995265</td>\n",
       "      <td>57.434956</td>\n",
       "      <td>6205.649902</td>\n",
       "      <td>156.622910</td>\n",
       "      <td>4.093451</td>\n",
       "      <td>0.166493</td>\n",
       "      <td>-0.372012</td>\n",
       "      <td>0.037212</td>\n",
       "      <td>...</td>\n",
       "      <td>0.241518</td>\n",
       "      <td>0.001445</td>\n",
       "      <td>3.770612</td>\n",
       "      <td>0.034564</td>\n",
       "      <td>8.343132</td>\n",
       "      <td>0.059089</td>\n",
       "      <td>-40588.051794</td>\n",
       "      <td>297.780679</td>\n",
       "      <td>-55113.572201</td>\n",
       "      <td>98.472122</td>\n",
       "    </tr>\n",
       "    <tr>\n",
       "      <th>b'2M23595921+5609479'</th>\n",
       "      <td>-999</td>\n",
       "      <td>b'apo25m'</td>\n",
       "      <td>359.996744</td>\n",
       "      <td>56.163330</td>\n",
       "      <td>4981.779297</td>\n",
       "      <td>46.355877</td>\n",
       "      <td>3.056617</td>\n",
       "      <td>0.102835</td>\n",
       "      <td>-0.286302</td>\n",
       "      <td>0.041631</td>\n",
       "      <td>...</td>\n",
       "      <td>0.255623</td>\n",
       "      <td>0.002026</td>\n",
       "      <td>5.967744</td>\n",
       "      <td>0.008252</td>\n",
       "      <td>9.237442</td>\n",
       "      <td>0.083535</td>\n",
       "      <td>-36290.481852</td>\n",
       "      <td>387.265723</td>\n",
       "      <td>-53629.147394</td>\n",
       "      <td>141.979567</td>\n",
       "    </tr>\n",
       "    <tr>\n",
       "      <th>b'2M23595949-7342592'</th>\n",
       "      <td>7218</td>\n",
       "      <td>b'lco25m'</td>\n",
       "      <td>359.997887</td>\n",
       "      <td>-73.716454</td>\n",
       "      <td>4920.680176</td>\n",
       "      <td>42.400517</td>\n",
       "      <td>2.466920</td>\n",
       "      <td>0.079626</td>\n",
       "      <td>-0.427526</td>\n",
       "      <td>0.049227</td>\n",
       "      <td>...</td>\n",
       "      <td>NaN</td>\n",
       "      <td>NaN</td>\n",
       "      <td>NaN</td>\n",
       "      <td>NaN</td>\n",
       "      <td>NaN</td>\n",
       "      <td>NaN</td>\n",
       "      <td>NaN</td>\n",
       "      <td>NaN</td>\n",
       "      <td>NaN</td>\n",
       "      <td>NaN</td>\n",
       "    </tr>\n",
       "    <tr>\n",
       "      <th>b'2M23595980+1528407'</th>\n",
       "      <td>4548</td>\n",
       "      <td>b'apo25m'</td>\n",
       "      <td>359.999181</td>\n",
       "      <td>15.477974</td>\n",
       "      <td>4728.863281</td>\n",
       "      <td>21.407980</td>\n",
       "      <td>2.352488</td>\n",
       "      <td>0.050605</td>\n",
       "      <td>-0.159978</td>\n",
       "      <td>0.018025</td>\n",
       "      <td>...</td>\n",
       "      <td>5.287021</td>\n",
       "      <td>0.009127</td>\n",
       "      <td>2.357854</td>\n",
       "      <td>0.008678</td>\n",
       "      <td>2.891957</td>\n",
       "      <td>0.074842</td>\n",
       "      <td>-32925.287575</td>\n",
       "      <td>474.516166</td>\n",
       "      <td>-12312.186717</td>\n",
       "      <td>1455.734230</td>\n",
       "    </tr>\n",
       "  </tbody>\n",
       "</table>\n",
       "<p>657135 rows × 131 columns</p>\n",
       "</div>"
      ],
      "text/plain": [
       "                       LOCATION_ID_ANN TELESCOPE_ANN  RA_APOGEE_ANN  \\\n",
       "APOGEE_ID                                                             \n",
       "b'VESTA'                             1      b'apo1m'            NaN   \n",
       "b'2M00000002+7417074'             5046     b'apo25m'       0.000103   \n",
       "b'2M00000019-1924498'             5071     b'apo25m'       0.000832   \n",
       "b'2M00000032+5737103'             4264     b'apo25m'       0.001335   \n",
       "b'2M00000035-7323394'             7218     b'lco25m'       0.001467   \n",
       "...                                ...           ...            ...   \n",
       "b'2M23595886-2009435'             5071     b'apo25m'     359.995258   \n",
       "b'2M23595886+5726058'             4424     b'apo25m'     359.995265   \n",
       "b'2M23595921+5609479'             -999     b'apo25m'     359.996744   \n",
       "b'2M23595949-7342592'             7218     b'lco25m'     359.997887   \n",
       "b'2M23595980+1528407'             4548     b'apo25m'     359.999181   \n",
       "\n",
       "                       DEC_APOGEE_ANN     TEFF_ANN  TEFF_ERR_ANN  LOGG_ANN  \\\n",
       "APOGEE_ID                                                                    \n",
       "b'VESTA'                          NaN          NaN           NaN       NaN   \n",
       "b'2M00000002+7417074'       74.285408  3730.434814     49.411095  0.864455   \n",
       "b'2M00000019-1924498'      -19.413851  5517.530273    136.336548  4.045386   \n",
       "b'2M00000032+5737103'       57.619530  6184.383301    159.639954  3.765513   \n",
       "b'2M00000035-7323394'      -73.394287  4473.471191    151.328293  1.654428   \n",
       "...                               ...          ...           ...       ...   \n",
       "b'2M23595886-2009435'      -20.162107  4385.419922     18.942038  1.607170   \n",
       "b'2M23595886+5726058'       57.434956  6205.649902    156.622910  4.093451   \n",
       "b'2M23595921+5609479'       56.163330  4981.779297     46.355877  3.056617   \n",
       "b'2M23595949-7342592'      -73.716454  4920.680176     42.400517  2.466920   \n",
       "b'2M23595980+1528407'       15.477974  4728.863281     21.407980  2.352488   \n",
       "\n",
       "                       LOGG_ERR_ANN   C_H_ANN  C_H_ERR_ANN  ...  \\\n",
       "APOGEE_ID                                                   ...   \n",
       "b'VESTA'                        NaN       NaN          NaN  ...   \n",
       "b'2M00000002+7417074'      0.091876 -0.151543     0.032733  ...   \n",
       "b'2M00000019-1924498'      0.218193 -0.239434     0.041846  ...   \n",
       "b'2M00000032+5737103'      0.169739 -0.189551     0.034528  ...   \n",
       "b'2M00000035-7323394'      0.448441 -1.750013     0.298410  ...   \n",
       "...                             ...       ...          ...  ...   \n",
       "b'2M23595886-2009435'      0.051512 -0.573421     0.042118  ...   \n",
       "b'2M23595886+5726058'      0.166493 -0.372012     0.037212  ...   \n",
       "b'2M23595921+5609479'      0.102835 -0.286302     0.041631  ...   \n",
       "b'2M23595949-7342592'      0.079626 -0.427526     0.049227  ...   \n",
       "b'2M23595980+1528407'      0.050605 -0.159978     0.018025  ...   \n",
       "\n",
       "                       theta_phi_ANN  theta_phi_err_ANN  theta_z_ANN  \\\n",
       "APOGEE_ID                                                              \n",
       "b'VESTA'                         NaN                NaN          NaN   \n",
       "b'2M00000002+7417074'       0.162341           0.002044     1.257675   \n",
       "b'2M00000019-1924498'       6.186121           0.014669     3.736751   \n",
       "b'2M00000032+5737103'       0.107335           0.000205     4.069535   \n",
       "b'2M00000035-7323394'      14.588887         316.082670    14.995901   \n",
       "...                              ...                ...          ...   \n",
       "b'2M23595886-2009435'       5.245957           0.035109     4.489594   \n",
       "b'2M23595886+5726058'       0.241518           0.001445     3.770612   \n",
       "b'2M23595921+5609479'       0.255623           0.002026     5.967744   \n",
       "b'2M23595949-7342592'            NaN                NaN          NaN   \n",
       "b'2M23595980+1528407'       5.287021           0.009127     2.357854   \n",
       "\n",
       "                       theta_z_err_ANN    rl_ANN  rl_err_ANN    Energy_ANN  \\\n",
       "APOGEE_ID                                                                    \n",
       "b'VESTA'                           NaN       NaN         NaN           NaN   \n",
       "b'2M00000002+7417074'         0.029077  9.313814    0.104881 -35566.630438   \n",
       "b'2M00000019-1924498'         0.015291  7.512346    0.151292 -44554.547150   \n",
       "b'2M00000032+5737103'         0.015443  8.940202    0.004568 -38034.879007   \n",
       "b'2M00000035-7323394'       316.069555  6.411104    2.007341  -4029.752908   \n",
       "...                                ...       ...         ...           ...   \n",
       "b'2M23595886-2009435'         0.019772  2.715510    0.173466 -26309.039393   \n",
       "b'2M23595886+5726058'         0.034564  8.343132    0.059089 -40588.051794   \n",
       "b'2M23595921+5609479'         0.008252  9.237442    0.083535 -36290.481852   \n",
       "b'2M23595949-7342592'              NaN       NaN         NaN           NaN   \n",
       "b'2M23595980+1528407'         0.008678  2.891957    0.074842 -32925.287575   \n",
       "\n",
       "                       Energy_err_ANN  EminusEc_ANN  EminusEc_err_ANN  \n",
       "APOGEE_ID                                                              \n",
       "b'VESTA'                          NaN           NaN               NaN  \n",
       "b'2M00000002+7417074'      541.664052 -53127.445881        237.718629  \n",
       "b'2M00000019-1924498'      644.013746 -56067.037371         67.716759  \n",
       "b'2M00000032+5737103'       22.339314 -54482.585262          8.342593  \n",
       "b'2M00000035-7323394'    16425.789087  -7247.884378      21167.997105  \n",
       "...                               ...           ...               ...  \n",
       "b'2M23595886-2009435'     1459.584798  -3208.330021       3927.172429  \n",
       "b'2M23595886+5726058'      297.780679 -55113.572201         98.472122  \n",
       "b'2M23595921+5609479'      387.265723 -53629.147394        141.979567  \n",
       "b'2M23595949-7342592'             NaN           NaN               NaN  \n",
       "b'2M23595980+1528407'      474.516166 -12312.186717       1455.734230  \n",
       "\n",
       "[657135 rows x 131 columns]"
      ]
     },
     "execution_count": 24,
     "metadata": {},
     "output_type": "execute_result"
    }
   ],
   "source": [
    "astroNN"
   ]
  },
  {
   "cell_type": "code",
   "execution_count": 25,
   "id": "dd72bb3e-5270-46a2-a31f-99caebf5e219",
   "metadata": {},
   "outputs": [
    {
     "data": {
      "text/plain": [
       "True"
      ]
     },
     "execution_count": 25,
     "metadata": {},
     "output_type": "execute_result"
    }
   ],
   "source": [
    "len(astroNN) == len(astroNN.index.unique())"
   ]
  },
  {
   "cell_type": "code",
   "execution_count": 26,
   "id": "8ff4e31c-b886-4058-afce-b0010241ab60",
   "metadata": {},
   "outputs": [
    {
     "data": {
      "text/plain": [
       "Text(0, 0.5, 'teff')"
      ]
     },
     "execution_count": 26,
     "metadata": {},
     "output_type": "execute_result"
    },
    {
     "data": {
      "image/png": "[encoded data removed]",
      "text/plain": [
       "<Figure size 666.667x451.405 with 1 Axes>"
      ]
     },
     "metadata": {},
     "output_type": "display_data"
    }
   ],
   "source": [
    "plt.hist2d(astroNN[\"TEFF_ANN\"], astroNN[\"LOGG_ANN\"], range=((3000, 7000), (-0.5, 5)), bins=100, norm=\"log\", cmin=3, cmap=arya.style.get_cmap(to_white=True, reverse=True));\n",
    "\n",
    "plt.gca().invert_yaxis()\n",
    "plt.gca().invert_xaxis()\n",
    "plt.xlabel(\"logg\")\n",
    "plt.ylabel(\"teff\")"
   ]
  },
  {
   "cell_type": "markdown",
   "id": "c7a33e44-5012-40aa-b182-326b86404c66",
   "metadata": {
    "tags": []
   },
   "source": [
    "# APOGEE alla jack"
   ]
  },
  {
   "cell_type": "markdown",
   "id": "b9a7017f-f7a0-41c2-b7fe-2396de29101a",
   "metadata": {},
   "source": [
    "Jack's coordinates are\n",
    "\n",
    "- (3.5, 4800)\n",
    "- (3.8, 4875)\n",
    "- (4.1, 5300)\n",
    "- (3.8, 5500)\n",
    "- (3.5, 5250)\n"
   ]
  },
  {
   "cell_type": "code",
   "execution_count": 27,
   "id": "398c8059-d4c2-45f1-85b1-311b3c40d59e",
   "metadata": {},
   "outputs": [],
   "source": [
    "logg = allStarClean[\"LOGG\"]\n",
    "teff = allStarClean[\"TEFF\"]\n",
    "\n",
    "mask = logg >= 3.5\n",
    "mask &= logg <= 0.004*teff - 15.7\n",
    "mask &= logg <= 0.0007*teff + 0.36\n",
    "mask &= logg <= -0.0015 * teff + 12.05\n",
    "mask &= logg >= 0.0012*teff - 2.8"
   ]
  },
  {
   "cell_type": "code",
   "execution_count": 28,
   "id": "809e81bb-be2f-4821-8854-fe221ca8991b",
   "metadata": {},
   "outputs": [
    {
     "data": {
      "text/plain": [
       "14069"
      ]
     },
     "execution_count": 28,
     "metadata": {},
     "output_type": "execute_result"
    }
   ],
   "source": [
    "np.sum(mask)"
   ]
  },
  {
   "cell_type": "code",
   "execution_count": 29,
   "id": "b130ba01-9bb5-4ca0-8e3e-c4af82efa2a6",
   "metadata": {},
   "outputs": [],
   "source": [
    "subgiants = allStarClean[mask].to_pandas()"
   ]
  },
  {
   "cell_type": "code",
   "execution_count": 30,
   "id": "37cb9b21-c96f-43f1-8211-b7889eeaeada",
   "metadata": {},
   "outputs": [
    {
     "data": {
      "text/plain": [
       "0"
      ]
     },
     "execution_count": 30,
     "metadata": {},
     "output_type": "execute_result"
    }
   ],
   "source": [
    "np.sum(subgiants.APOGEE_ID.duplicated())"
   ]
  },
  {
   "cell_type": "code",
   "execution_count": 31,
   "id": "ac79e9a4-d08f-44d8-9ff3-06a3141b6dfc",
   "metadata": {},
   "outputs": [],
   "source": [
    "coords = [\n",
    "    (3.5, 4800),\n",
    "    (3.8, 4875),\n",
    "    (4.1, 5300),\n",
    "    (3.8, 5500),\n",
    "    (3.5, 5250),\n",
    "    (3.5, 4800)\n",
    "]\n",
    "y = [c[0] for c in coords]\n",
    "x = [c[1] for c in coords]"
   ]
  },
  {
   "cell_type": "code",
   "execution_count": 32,
   "id": "0ca747ce-0a13-498b-b84a-0546bba70f43",
   "metadata": {},
   "outputs": [
    {
     "data": {
      "image/png": "[encoded data removed]",
      "text/plain": [
       "<Figure size 1166.67x1166.67 with 1 Axes>"
      ]
     },
     "metadata": {},
     "output_type": "display_data"
    }
   ],
   "source": [
    "plt.figure(figsize=(10/3, 10/3), rasterized=True, dpi=350)\n",
    "_, _, _, img = plt.hist2d(allStar[\"TEFF\"], allStar[\"LOGG\"], range=((3000, 7000), (-0.5, 5)), bins=100, norm=\"log\", cmin=3, cmap=arya.style.get_cmap(to_white=True, reverse=True))\n",
    "img.set_edgecolor(\"none\")\n",
    "\n",
    "\n",
    "plt.plot(x, y, lw=2, color=\"k\")\n",
    "\n",
    "plt.gca().invert_yaxis()\n",
    "plt.gca().invert_xaxis()\n",
    "plt.xlabel(\"$T_{\\\\rm eff}$ (K)\")\n",
    "plt.ylabel(\"$\\\\log$ g\")\n",
    "plt.savefig(\"logg_jack.pdf\")"
   ]
  },
  {
   "cell_type": "code",
   "execution_count": 33,
   "id": "4f8c52ee-5c99-4437-a7f6-a81694551b63",
   "metadata": {},
   "outputs": [
    {
     "data": {
      "text/plain": [
       "Text(0, 0.5, '$\\\\log$ g')"
      ]
     },
     "execution_count": 33,
     "metadata": {},
     "output_type": "execute_result"
    },
    {
     "data": {
      "image/png": "[encoded data removed]",
      "text/plain": [
       "<Figure size 666.667x451.405 with 1 Axes>"
      ]
     },
     "metadata": {},
     "output_type": "display_data"
    }
   ],
   "source": [
    "plt.plot(x, y, lw=2, color=\"k\")\n",
    "plt.scatter(subgiants.TEFF, subgiants.LOGG)\n",
    "plt.gca().invert_yaxis()\n",
    "plt.gca().invert_xaxis()\n",
    "plt.xlabel(\"$T_{\\\\rm eff}$ (K)\")\n",
    "plt.ylabel(\"$\\\\log$ g\")"
   ]
  },
  {
   "cell_type": "code",
   "execution_count": 34,
   "id": "bb60de81-92e5-4b62-a70d-06d5b2f60d1b",
   "metadata": {},
   "outputs": [],
   "source": [
    "subgiants_pann = subgiants.set_index(\"APOGEE_ID\").join(astroNN).copy()\n"
   ]
  },
  {
   "cell_type": "code",
   "execution_count": 35,
   "id": "07789b6d-4f75-4cbb-85e4-63eeed42f825",
   "metadata": {},
   "outputs": [],
   "source": [
    "\n",
    "subgiants_pann[\"R_gal\"] = subgiants_pann.galr_ANN\n",
    "subgiants_pann[\"z_gal\"] = subgiants_pann.galz_ANN\n",
    "\n",
    "subgiants_pann[\"abs_z\"] = np.abs(subgiants_pann.z_gal)"
   ]
  },
  {
   "cell_type": "code",
   "execution_count": 36,
   "id": "41c6939a-96d3-406b-8d62-76fda80d814b",
   "metadata": {},
   "outputs": [
    {
     "data": {
      "text/plain": [
       "14069"
      ]
     },
     "execution_count": 36,
     "metadata": {},
     "output_type": "execute_result"
    }
   ],
   "source": [
    "len(subgiants_pann)"
   ]
  },
  {
   "cell_type": "code",
   "execution_count": 37,
   "id": "4cf6970f-b316-4ac9-a504-4c8473d8f39a",
   "metadata": {},
   "outputs": [],
   "source": [
    "subgiants_pann.to_csv(DATA_DIR + \"subgiants.csv\")"
   ]
  },
  {
   "cell_type": "code",
   "execution_count": 38,
   "id": "4c38c4db-f52f-47a4-8fa5-bd754c380161",
   "metadata": {},
   "outputs": [
    {
     "data": {
      "image/png": "[encoded data removed]",
      "text/plain": [
       "<Figure size 666.667x451.405 with 1 Axes>"
      ]
     },
     "metadata": {},
     "output_type": "display_data"
    }
   ],
   "source": [
    "plt.hist2d(subgiants.FE_H, subgiants.MG_FE, cmin=1, bins=80, range=((-1, 0.5),(-0.15, 0.45)) );\n"
   ]
  },
  {
   "cell_type": "code",
   "execution_count": 39,
   "id": "2b807f88-f718-4aa6-b297-1961e5f90df9",
   "metadata": {},
   "outputs": [],
   "source": [
    "import seaborn as sns"
   ]
  },
  {
   "cell_type": "code",
   "execution_count": null,
   "id": "590f063b-45f1-481c-9ab6-fe9fe9865cc6",
   "metadata": {},
   "outputs": [],
   "source": []
  },
  {
   "cell_type": "code",
   "execution_count": 40,
   "id": "471a81b6-1d2d-4f38-9253-9699df3108d3",
   "metadata": {},
   "outputs": [
    {
     "data": {
      "text/plain": [
       "<Axes: xlabel='R_gal', ylabel='Density'>"
      ]
     },
     "execution_count": 40,
     "metadata": {},
     "output_type": "execute_result"
    },
    {
     "data": {
      "image/png": "[encoded data removed]",
      "text/plain": [
       "<Figure size 666.667x451.405 with 1 Axes>"
      ]
     },
     "metadata": {},
     "output_type": "display_data"
    }
   ],
   "source": [
    "arya.hist(subgiants_pann.R_gal, histtype=\"step\", density=True)\n",
    "sns.kdeplot(subgiants_pann.R_gal)\n"
   ]
  },
  {
   "cell_type": "code",
   "execution_count": 41,
   "id": "2c9cac68-3c06-4b0c-ad67-b573cced9f72",
   "metadata": {},
   "outputs": [],
   "source": [
    "subgiants = surp.subgiants"
   ]
  },
  {
   "cell_type": "code",
   "execution_count": 42,
   "id": "0fd94b99-29cf-4032-9926-f8d7f01c16a0",
   "metadata": {},
   "outputs": [
    {
     "data": {
      "text/html": [
       "<div>\n",
       "<style scoped>\n",
       "    .dataframe tbody tr th:only-of-type {\n",
       "        vertical-align: middle;\n",
       "    }\n",
       "\n",
       "    .dataframe tbody tr th {\n",
       "        vertical-align: top;\n",
       "    }\n",
       "\n",
       "    .dataframe thead th {\n",
       "        text-align: right;\n",
       "    }\n",
       "</style>\n",
       "<table border=\"1\" class=\"dataframe\">\n",
       "  <thead>\n",
       "    <tr style=\"text-align: right;\">\n",
       "      <th></th>\n",
       "      <th>FILE</th>\n",
       "      <th>TARGET_ID</th>\n",
       "      <th>APSTAR_ID</th>\n",
       "      <th>ASPCAP_ID</th>\n",
       "      <th>TELESCOPE</th>\n",
       "      <th>LOCATION_ID</th>\n",
       "      <th>FIELD</th>\n",
       "      <th>ALT_ID</th>\n",
       "      <th>RA</th>\n",
       "      <th>DEC</th>\n",
       "      <th>...</th>\n",
       "      <th>theta_z_err_ANN</th>\n",
       "      <th>rl_ANN</th>\n",
       "      <th>rl_err_ANN</th>\n",
       "      <th>Energy_ANN</th>\n",
       "      <th>Energy_err_ANN</th>\n",
       "      <th>EminusEc_ANN</th>\n",
       "      <th>EminusEc_err_ANN</th>\n",
       "      <th>R_gal</th>\n",
       "      <th>z_gal</th>\n",
       "      <th>abs_z</th>\n",
       "    </tr>\n",
       "    <tr>\n",
       "      <th>APOGEE_ID</th>\n",
       "      <th></th>\n",
       "      <th></th>\n",
       "      <th></th>\n",
       "      <th></th>\n",
       "      <th></th>\n",
       "      <th></th>\n",
       "      <th></th>\n",
       "      <th></th>\n",
       "      <th></th>\n",
       "      <th></th>\n",
       "      <th></th>\n",
       "      <th></th>\n",
       "      <th></th>\n",
       "      <th></th>\n",
       "      <th></th>\n",
       "      <th></th>\n",
       "      <th></th>\n",
       "      <th></th>\n",
       "      <th></th>\n",
       "      <th></th>\n",
       "      <th></th>\n",
       "    </tr>\n",
       "  </thead>\n",
       "  <tbody>\n",
       "    <tr>\n",
       "      <th>b'2M00002185+1459100'</th>\n",
       "      <td>b'apStar-dr17-2M00002185+1459100.fits'</td>\n",
       "      <td>b'apo25m.107-46_MGA.2M00002185+1459100'</td>\n",
       "      <td>b'apogee.apo25m.stars.107-46_MGA.2M00002185+14...</td>\n",
       "      <td>b'apogee.apo25m.synspec_fix.107-46_MGA.2M00002...</td>\n",
       "      <td>b'apo25m'</td>\n",
       "      <td>2897</td>\n",
       "      <td>b'107-46_MGA'</td>\n",
       "      <td>b'none'</td>\n",
       "      <td>0.091079</td>\n",
       "      <td>14.986116</td>\n",
       "      <td>...</td>\n",
       "      <td>0.007676</td>\n",
       "      <td>6.702875</td>\n",
       "      <td>0.035219</td>\n",
       "      <td>-47210.444135</td>\n",
       "      <td>96.223671</td>\n",
       "      <td>-55340.484688</td>\n",
       "      <td>63.233078</td>\n",
       "      <td>8.313700</td>\n",
       "      <td>-0.638698</td>\n",
       "      <td>0.638698</td>\n",
       "    </tr>\n",
       "    <tr>\n",
       "      <th>b'2M00004159+6505249'</th>\n",
       "      <td>b'apStar-dr17-2M00004159+6505249.fits'</td>\n",
       "      <td>b'apo25m.117+01.2M00004159+6505249'</td>\n",
       "      <td>b'apogee.apo25m.stars.117+01.2M00004159+6505249'</td>\n",
       "      <td>b'apogee.apo25m.synspec_fix.117+01.2M00004159+...</td>\n",
       "      <td>b'apo25m'</td>\n",
       "      <td>4591</td>\n",
       "      <td>b'117+01'</td>\n",
       "      <td>b'none'</td>\n",
       "      <td>0.173321</td>\n",
       "      <td>65.090256</td>\n",
       "      <td>...</td>\n",
       "      <td>0.003903</td>\n",
       "      <td>8.075501</td>\n",
       "      <td>0.015208</td>\n",
       "      <td>-40762.718004</td>\n",
       "      <td>29.143575</td>\n",
       "      <td>-54366.378175</td>\n",
       "      <td>79.540889</td>\n",
       "      <td>8.645126</td>\n",
       "      <td>0.070882</td>\n",
       "      <td>0.070882</td>\n",
       "    </tr>\n",
       "    <tr>\n",
       "      <th>b'2M00004251+5643075'</th>\n",
       "      <td>b'apStar-dr17-2M00004251+5643075.fits'</td>\n",
       "      <td>b'apo25m.NGC7789_btx.2M00004251+5643075'</td>\n",
       "      <td>b'apogee.apo25m.stars.NGC7789_btx.2M00004251+5...</td>\n",
       "      <td>b'apogee.apo25m.synspec_fix.NGC7789_btx.2M0000...</td>\n",
       "      <td>b'apo25m'</td>\n",
       "      <td>5922</td>\n",
       "      <td>b'NGC7789_btx'</td>\n",
       "      <td>b'none'</td>\n",
       "      <td>0.177160</td>\n",
       "      <td>56.718761</td>\n",
       "      <td>...</td>\n",
       "      <td>0.037539</td>\n",
       "      <td>8.492589</td>\n",
       "      <td>0.062530</td>\n",
       "      <td>-38776.933977</td>\n",
       "      <td>324.414275</td>\n",
       "      <td>-53800.447966</td>\n",
       "      <td>118.707815</td>\n",
       "      <td>8.796458</td>\n",
       "      <td>-0.106140</td>\n",
       "      <td>0.106140</td>\n",
       "    </tr>\n",
       "    <tr>\n",
       "      <th>b'2M00005728+6958488'</th>\n",
       "      <td>b'apStar-dr17-2M00005728+6958488.fits'</td>\n",
       "      <td>b'apo25m.120+08.2M00005728+6958488'</td>\n",
       "      <td>b'apogee.apo25m.stars.120+08.2M00005728+6958488'</td>\n",
       "      <td>b'apogee.apo25m.synspec_fix.120+08.2M00005728+...</td>\n",
       "      <td>b'apo25m'</td>\n",
       "      <td>4120</td>\n",
       "      <td>b'120+08'</td>\n",
       "      <td>b'none'</td>\n",
       "      <td>0.238695</td>\n",
       "      <td>69.980232</td>\n",
       "      <td>...</td>\n",
       "      <td>0.000890</td>\n",
       "      <td>10.484267</td>\n",
       "      <td>0.012830</td>\n",
       "      <td>-29016.840979</td>\n",
       "      <td>71.242377</td>\n",
       "      <td>-49710.396879</td>\n",
       "      <td>39.627993</td>\n",
       "      <td>8.509211</td>\n",
       "      <td>0.120878</td>\n",
       "      <td>0.120878</td>\n",
       "    </tr>\n",
       "    <tr>\n",
       "      <th>b'2M00012854+7021553'</th>\n",
       "      <td>b'apStar-dr17-2M00012854+7021553.fits'</td>\n",
       "      <td>b'apo25m.120+08.2M00012854+7021553'</td>\n",
       "      <td>b'apogee.apo25m.stars.120+08.2M00012854+7021553'</td>\n",
       "      <td>b'apogee.apo25m.synspec_fix.120+08.2M00012854+...</td>\n",
       "      <td>b'apo25m'</td>\n",
       "      <td>4120</td>\n",
       "      <td>b'120+08'</td>\n",
       "      <td>b'none'</td>\n",
       "      <td>0.368950</td>\n",
       "      <td>70.365379</td>\n",
       "      <td>...</td>\n",
       "      <td>0.019339</td>\n",
       "      <td>6.871129</td>\n",
       "      <td>0.013222</td>\n",
       "      <td>-46751.884530</td>\n",
       "      <td>61.656360</td>\n",
       "      <td>-55630.271001</td>\n",
       "      <td>111.281571</td>\n",
       "      <td>8.983689</td>\n",
       "      <td>0.240327</td>\n",
       "      <td>0.240327</td>\n",
       "    </tr>\n",
       "    <tr>\n",
       "      <th>...</th>\n",
       "      <td>...</td>\n",
       "      <td>...</td>\n",
       "      <td>...</td>\n",
       "      <td>...</td>\n",
       "      <td>...</td>\n",
       "      <td>...</td>\n",
       "      <td>...</td>\n",
       "      <td>...</td>\n",
       "      <td>...</td>\n",
       "      <td>...</td>\n",
       "      <td>...</td>\n",
       "      <td>...</td>\n",
       "      <td>...</td>\n",
       "      <td>...</td>\n",
       "      <td>...</td>\n",
       "      <td>...</td>\n",
       "      <td>...</td>\n",
       "      <td>...</td>\n",
       "      <td>...</td>\n",
       "      <td>...</td>\n",
       "      <td>...</td>\n",
       "    </tr>\n",
       "    <tr>\n",
       "      <th>b'2M23582628+5524124'</th>\n",
       "      <td>b'apStar-dr17-2M23582628+5524124.fits'</td>\n",
       "      <td>b'apo25m.N7789.2M23582628+5524124'</td>\n",
       "      <td>b'apogee.apo25m.stars.N7789.2M23582628+5524124'</td>\n",
       "      <td>b'apogee.apo25m.synspec_fix.N7789.2M23582628+5...</td>\n",
       "      <td>b'apo25m'</td>\n",
       "      <td>4264</td>\n",
       "      <td>b'N7789'</td>\n",
       "      <td>b'none'</td>\n",
       "      <td>359.609541</td>\n",
       "      <td>55.403469</td>\n",
       "      <td>...</td>\n",
       "      <td>0.033297</td>\n",
       "      <td>7.944538</td>\n",
       "      <td>0.020413</td>\n",
       "      <td>-42174.780917</td>\n",
       "      <td>102.357025</td>\n",
       "      <td>-55311.675705</td>\n",
       "      <td>28.850850</td>\n",
       "      <td>8.673670</td>\n",
       "      <td>-0.111265</td>\n",
       "      <td>0.111265</td>\n",
       "    </tr>\n",
       "    <tr>\n",
       "      <th>b'2M23582727+5606296'</th>\n",
       "      <td>b'apStar-dr17-2M23582727+5606296.fits'</td>\n",
       "      <td>b'apo25m.N7789.2M23582727+5606296'</td>\n",
       "      <td>b'apogee.apo25m.stars.N7789.2M23582727+5606296'</td>\n",
       "      <td>b'apogee.apo25m.synspec_fix.N7789.2M23582727+5...</td>\n",
       "      <td>b'apo25m'</td>\n",
       "      <td>4264</td>\n",
       "      <td>b'N7789'</td>\n",
       "      <td>b'none'</td>\n",
       "      <td>359.613632</td>\n",
       "      <td>56.108227</td>\n",
       "      <td>...</td>\n",
       "      <td>0.023310</td>\n",
       "      <td>9.986815</td>\n",
       "      <td>0.007530</td>\n",
       "      <td>-32153.287018</td>\n",
       "      <td>42.057458</td>\n",
       "      <td>-51578.496096</td>\n",
       "      <td>22.353280</td>\n",
       "      <td>8.390348</td>\n",
       "      <td>-0.039268</td>\n",
       "      <td>0.039268</td>\n",
       "    </tr>\n",
       "    <tr>\n",
       "      <th>b'2M23590547+1514580'</th>\n",
       "      <td>b'apStar-dr17-2M23590547+1514580.fits'</td>\n",
       "      <td>b'apo25m.107-46_MGA.2M23590547+1514580'</td>\n",
       "      <td>b'apogee.apo25m.stars.107-46_MGA.2M23590547+15...</td>\n",
       "      <td>b'apogee.apo25m.synspec_fix.107-46_MGA.2M23590...</td>\n",
       "      <td>b'apo25m'</td>\n",
       "      <td>2897</td>\n",
       "      <td>b'107-46_MGA'</td>\n",
       "      <td>b'none'</td>\n",
       "      <td>359.772796</td>\n",
       "      <td>15.249450</td>\n",
       "      <td>...</td>\n",
       "      <td>0.007630</td>\n",
       "      <td>8.371702</td>\n",
       "      <td>0.003401</td>\n",
       "      <td>-40383.569866</td>\n",
       "      <td>12.284173</td>\n",
       "      <td>-55006.179535</td>\n",
       "      <td>3.209306</td>\n",
       "      <td>8.257049</td>\n",
       "      <td>-0.458691</td>\n",
       "      <td>0.458691</td>\n",
       "    </tr>\n",
       "    <tr>\n",
       "      <th>b'2M23594577-7351233'</th>\n",
       "      <td>b'asStar-dr17-2M23594577-7351233.fits'</td>\n",
       "      <td>b'lco25m.SMC12.2M23594577-7351233'</td>\n",
       "      <td>b'apogee.lco25m.stars.SMC12.2M23594577-7351233'</td>\n",
       "      <td>b'apogee.lco25m.synspec_fix.SMC12.2M23594577-7...</td>\n",
       "      <td>b'lco25m'</td>\n",
       "      <td>7218</td>\n",
       "      <td>b'SMC12'</td>\n",
       "      <td>b'none'</td>\n",
       "      <td>359.940730</td>\n",
       "      <td>-73.856476</td>\n",
       "      <td>...</td>\n",
       "      <td>705.417679</td>\n",
       "      <td>8.446436</td>\n",
       "      <td>2.023079</td>\n",
       "      <td>13934.370148</td>\n",
       "      <td>11914.926850</td>\n",
       "      <td>339.591786</td>\n",
       "      <td>7159.535159</td>\n",
       "      <td>23.141908</td>\n",
       "      <td>-25.227181</td>\n",
       "      <td>25.227181</td>\n",
       "    </tr>\n",
       "    <tr>\n",
       "      <th>b'2M23594945+1445256'</th>\n",
       "      <td>b'apStar-dr17-2M23594945+1445256.fits'</td>\n",
       "      <td>b'apo25m.105-45.2M23594945+1445256'</td>\n",
       "      <td>b'apogee.apo25m.stars.105-45.2M23594945+1445256'</td>\n",
       "      <td>b'apogee.apo25m.synspec_fix.105-45.2M23594945+...</td>\n",
       "      <td>b'apo25m'</td>\n",
       "      <td>4548</td>\n",
       "      <td>b'105-45'</td>\n",
       "      <td>b'none'</td>\n",
       "      <td>359.956045</td>\n",
       "      <td>14.757119</td>\n",
       "      <td>...</td>\n",
       "      <td>0.045511</td>\n",
       "      <td>3.649103</td>\n",
       "      <td>0.097126</td>\n",
       "      <td>-52913.575788</td>\n",
       "      <td>122.209276</td>\n",
       "      <td>-40884.285525</td>\n",
       "      <td>1076.668042</td>\n",
       "      <td>8.474812</td>\n",
       "      <td>-1.129466</td>\n",
       "      <td>1.129466</td>\n",
       "    </tr>\n",
       "  </tbody>\n",
       "</table>\n",
       "<p>14069 rows × 365 columns</p>\n",
       "</div>"
      ],
      "text/plain": [
       "                                                         FILE  \\\n",
       "APOGEE_ID                                                       \n",
       "b'2M00002185+1459100'  b'apStar-dr17-2M00002185+1459100.fits'   \n",
       "b'2M00004159+6505249'  b'apStar-dr17-2M00004159+6505249.fits'   \n",
       "b'2M00004251+5643075'  b'apStar-dr17-2M00004251+5643075.fits'   \n",
       "b'2M00005728+6958488'  b'apStar-dr17-2M00005728+6958488.fits'   \n",
       "b'2M00012854+7021553'  b'apStar-dr17-2M00012854+7021553.fits'   \n",
       "...                                                       ...   \n",
       "b'2M23582628+5524124'  b'apStar-dr17-2M23582628+5524124.fits'   \n",
       "b'2M23582727+5606296'  b'apStar-dr17-2M23582727+5606296.fits'   \n",
       "b'2M23590547+1514580'  b'apStar-dr17-2M23590547+1514580.fits'   \n",
       "b'2M23594577-7351233'  b'asStar-dr17-2M23594577-7351233.fits'   \n",
       "b'2M23594945+1445256'  b'apStar-dr17-2M23594945+1445256.fits'   \n",
       "\n",
       "                                                      TARGET_ID  \\\n",
       "APOGEE_ID                                                         \n",
       "b'2M00002185+1459100'   b'apo25m.107-46_MGA.2M00002185+1459100'   \n",
       "b'2M00004159+6505249'       b'apo25m.117+01.2M00004159+6505249'   \n",
       "b'2M00004251+5643075'  b'apo25m.NGC7789_btx.2M00004251+5643075'   \n",
       "b'2M00005728+6958488'       b'apo25m.120+08.2M00005728+6958488'   \n",
       "b'2M00012854+7021553'       b'apo25m.120+08.2M00012854+7021553'   \n",
       "...                                                         ...   \n",
       "b'2M23582628+5524124'        b'apo25m.N7789.2M23582628+5524124'   \n",
       "b'2M23582727+5606296'        b'apo25m.N7789.2M23582727+5606296'   \n",
       "b'2M23590547+1514580'   b'apo25m.107-46_MGA.2M23590547+1514580'   \n",
       "b'2M23594577-7351233'        b'lco25m.SMC12.2M23594577-7351233'   \n",
       "b'2M23594945+1445256'       b'apo25m.105-45.2M23594945+1445256'   \n",
       "\n",
       "                                                               APSTAR_ID  \\\n",
       "APOGEE_ID                                                                  \n",
       "b'2M00002185+1459100'  b'apogee.apo25m.stars.107-46_MGA.2M00002185+14...   \n",
       "b'2M00004159+6505249'   b'apogee.apo25m.stars.117+01.2M00004159+6505249'   \n",
       "b'2M00004251+5643075'  b'apogee.apo25m.stars.NGC7789_btx.2M00004251+5...   \n",
       "b'2M00005728+6958488'   b'apogee.apo25m.stars.120+08.2M00005728+6958488'   \n",
       "b'2M00012854+7021553'   b'apogee.apo25m.stars.120+08.2M00012854+7021553'   \n",
       "...                                                                  ...   \n",
       "b'2M23582628+5524124'    b'apogee.apo25m.stars.N7789.2M23582628+5524124'   \n",
       "b'2M23582727+5606296'    b'apogee.apo25m.stars.N7789.2M23582727+5606296'   \n",
       "b'2M23590547+1514580'  b'apogee.apo25m.stars.107-46_MGA.2M23590547+15...   \n",
       "b'2M23594577-7351233'    b'apogee.lco25m.stars.SMC12.2M23594577-7351233'   \n",
       "b'2M23594945+1445256'   b'apogee.apo25m.stars.105-45.2M23594945+1445256'   \n",
       "\n",
       "                                                               ASPCAP_ID  \\\n",
       "APOGEE_ID                                                                  \n",
       "b'2M00002185+1459100'  b'apogee.apo25m.synspec_fix.107-46_MGA.2M00002...   \n",
       "b'2M00004159+6505249'  b'apogee.apo25m.synspec_fix.117+01.2M00004159+...   \n",
       "b'2M00004251+5643075'  b'apogee.apo25m.synspec_fix.NGC7789_btx.2M0000...   \n",
       "b'2M00005728+6958488'  b'apogee.apo25m.synspec_fix.120+08.2M00005728+...   \n",
       "b'2M00012854+7021553'  b'apogee.apo25m.synspec_fix.120+08.2M00012854+...   \n",
       "...                                                                  ...   \n",
       "b'2M23582628+5524124'  b'apogee.apo25m.synspec_fix.N7789.2M23582628+5...   \n",
       "b'2M23582727+5606296'  b'apogee.apo25m.synspec_fix.N7789.2M23582727+5...   \n",
       "b'2M23590547+1514580'  b'apogee.apo25m.synspec_fix.107-46_MGA.2M23590...   \n",
       "b'2M23594577-7351233'  b'apogee.lco25m.synspec_fix.SMC12.2M23594577-7...   \n",
       "b'2M23594945+1445256'  b'apogee.apo25m.synspec_fix.105-45.2M23594945+...   \n",
       "\n",
       "                       TELESCOPE  LOCATION_ID           FIELD   ALT_ID  \\\n",
       "APOGEE_ID                                                                \n",
       "b'2M00002185+1459100'  b'apo25m'         2897   b'107-46_MGA'  b'none'   \n",
       "b'2M00004159+6505249'  b'apo25m'         4591       b'117+01'  b'none'   \n",
       "b'2M00004251+5643075'  b'apo25m'         5922  b'NGC7789_btx'  b'none'   \n",
       "b'2M00005728+6958488'  b'apo25m'         4120       b'120+08'  b'none'   \n",
       "b'2M00012854+7021553'  b'apo25m'         4120       b'120+08'  b'none'   \n",
       "...                          ...          ...             ...      ...   \n",
       "b'2M23582628+5524124'  b'apo25m'         4264        b'N7789'  b'none'   \n",
       "b'2M23582727+5606296'  b'apo25m'         4264        b'N7789'  b'none'   \n",
       "b'2M23590547+1514580'  b'apo25m'         2897   b'107-46_MGA'  b'none'   \n",
       "b'2M23594577-7351233'  b'lco25m'         7218        b'SMC12'  b'none'   \n",
       "b'2M23594945+1445256'  b'apo25m'         4548       b'105-45'  b'none'   \n",
       "\n",
       "                               RA        DEC  ...  theta_z_err_ANN     rl_ANN  \\\n",
       "APOGEE_ID                                     ...                               \n",
       "b'2M00002185+1459100'    0.091079  14.986116  ...         0.007676   6.702875   \n",
       "b'2M00004159+6505249'    0.173321  65.090256  ...         0.003903   8.075501   \n",
       "b'2M00004251+5643075'    0.177160  56.718761  ...         0.037539   8.492589   \n",
       "b'2M00005728+6958488'    0.238695  69.980232  ...         0.000890  10.484267   \n",
       "b'2M00012854+7021553'    0.368950  70.365379  ...         0.019339   6.871129   \n",
       "...                           ...        ...  ...              ...        ...   \n",
       "b'2M23582628+5524124'  359.609541  55.403469  ...         0.033297   7.944538   \n",
       "b'2M23582727+5606296'  359.613632  56.108227  ...         0.023310   9.986815   \n",
       "b'2M23590547+1514580'  359.772796  15.249450  ...         0.007630   8.371702   \n",
       "b'2M23594577-7351233'  359.940730 -73.856476  ...       705.417679   8.446436   \n",
       "b'2M23594945+1445256'  359.956045  14.757119  ...         0.045511   3.649103   \n",
       "\n",
       "                       rl_err_ANN    Energy_ANN  Energy_err_ANN  EminusEc_ANN  \\\n",
       "APOGEE_ID                                                                       \n",
       "b'2M00002185+1459100'    0.035219 -47210.444135       96.223671 -55340.484688   \n",
       "b'2M00004159+6505249'    0.015208 -40762.718004       29.143575 -54366.378175   \n",
       "b'2M00004251+5643075'    0.062530 -38776.933977      324.414275 -53800.447966   \n",
       "b'2M00005728+6958488'    0.012830 -29016.840979       71.242377 -49710.396879   \n",
       "b'2M00012854+7021553'    0.013222 -46751.884530       61.656360 -55630.271001   \n",
       "...                           ...           ...             ...           ...   \n",
       "b'2M23582628+5524124'    0.020413 -42174.780917      102.357025 -55311.675705   \n",
       "b'2M23582727+5606296'    0.007530 -32153.287018       42.057458 -51578.496096   \n",
       "b'2M23590547+1514580'    0.003401 -40383.569866       12.284173 -55006.179535   \n",
       "b'2M23594577-7351233'    2.023079  13934.370148    11914.926850    339.591786   \n",
       "b'2M23594945+1445256'    0.097126 -52913.575788      122.209276 -40884.285525   \n",
       "\n",
       "                       EminusEc_err_ANN      R_gal      z_gal      abs_z  \n",
       "APOGEE_ID                                                                 \n",
       "b'2M00002185+1459100'         63.233078   8.313700  -0.638698   0.638698  \n",
       "b'2M00004159+6505249'         79.540889   8.645126   0.070882   0.070882  \n",
       "b'2M00004251+5643075'        118.707815   8.796458  -0.106140   0.106140  \n",
       "b'2M00005728+6958488'         39.627993   8.509211   0.120878   0.120878  \n",
       "b'2M00012854+7021553'        111.281571   8.983689   0.240327   0.240327  \n",
       "...                                 ...        ...        ...        ...  \n",
       "b'2M23582628+5524124'         28.850850   8.673670  -0.111265   0.111265  \n",
       "b'2M23582727+5606296'         22.353280   8.390348  -0.039268   0.039268  \n",
       "b'2M23590547+1514580'          3.209306   8.257049  -0.458691   0.458691  \n",
       "b'2M23594577-7351233'       7159.535159  23.141908 -25.227181  25.227181  \n",
       "b'2M23594945+1445256'       1076.668042   8.474812  -1.129466   1.129466  \n",
       "\n",
       "[14069 rows x 365 columns]"
      ]
     },
     "execution_count": 42,
     "metadata": {},
     "output_type": "execute_result"
    }
   ],
   "source": [
    "subgiants"
   ]
  },
  {
   "cell_type": "code",
   "execution_count": 43,
   "id": "c3b2f415-dfa7-452c-9a9e-25e1b80d7262",
   "metadata": {},
   "outputs": [
    {
     "data": {
      "text/plain": [
       "Text(0.5, 0, 'R ga')"
      ]
     },
     "execution_count": 43,
     "metadata": {},
     "output_type": "execute_result"
    },
    {
     "data": {
      "image/png": "[encoded data removed]",
      "text/plain": [
       "<Figure size 666.667x451.405 with 1 Axes>"
      ]
     },
     "metadata": {},
     "output_type": "display_data"
    }
   ],
   "source": [
    "sns.kdeplot(subgiants.R_gal)\n",
    "plt.xlabel(\"R ga\")\n"
   ]
  },
  {
   "cell_type": "code",
   "execution_count": null,
   "id": "bf4aa886-efab-46ba-8fad-fc4a2672214d",
   "metadata": {},
   "outputs": [],
   "source": []
  }
 ],
 "metadata": {
  "kernelspec": {
   "display_name": "Python (3.10)",
   "language": "python",
   "name": "python3"
  },
  "language_info": {
   "codemirror_mode": {
    "name": "ipython",
    "version": 3
   },
   "file_extension": ".py",
   "mimetype": "text/x-python",
   "name": "python",
   "nbconvert_exporter": "python",
   "pygments_lexer": "ipython3",
   "version": "3.10.10"
  }
 },
 "nbformat": 4,
 "nbformat_minor": 5
}
