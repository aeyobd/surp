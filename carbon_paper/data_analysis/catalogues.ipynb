{
 "cells": [
  {
   "cell_type": "code",
   "execution_count": null,
   "id": "0",
   "metadata": {},
   "outputs": [],
   "source": [
    "import pandas as pd\n",
    "from astropy.io import fits\n",
    "from astropy.table import Table\n",
    "import matplotlib.pyplot as plt\n",
    "import matplotlib as mpl\n",
    "import numpy as np\n"
   ]
  },
  {
   "cell_type": "code",
   "execution_count": null,
   "id": "1",
   "metadata": {},
   "outputs": [],
   "source": [
    "import surp\n",
    "from surp import gce_math as gcem\n",
    "import arya\n",
    "\n",
    "from surp import subgiants"
   ]
  },
  {
   "cell_type": "code",
   "execution_count": null,
   "id": "2",
   "metadata": {},
   "outputs": [],
   "source": [
    "data_dir = surp._globals.DATA_DIR"
   ]
  },
  {
   "cell_type": "code",
   "execution_count": null,
   "id": "3",
   "metadata": {},
   "outputs": [],
   "source": [
    "def keil_plot(teff, logg, bins=None, **kwargs):\n",
    "    if bins is None:\n",
    "        bins = 200\n",
    "        xbins = np.linspace(np.nanmin(teff), np.nanmax(teff), bins)\n",
    "        ybins = np.linspace(np.nanmin(logg), np.nanmax(logg), bins)\n",
    "        \n",
    "    plt.scatter(teff, logg, **kwargs)\n",
    "\n",
    "    ax = plt.gca()\n",
    "    if not ax.xaxis_inverted():\n",
    "        plt.gca().invert_xaxis()\n",
    "        plt.gca().invert_yaxis()\n",
    "    plt.xlabel(r\"$T_{\\rm eff}$ / K\")\n",
    "    plt.ylabel(r\"$\\log g$\")"
   ]
  },
  {
   "cell_type": "code",
   "execution_count": null,
   "id": "4",
   "metadata": {},
   "outputs": [],
   "source": [
    "def plot_ab(df, x, y, **kwargs):\n",
    "    plt.scatter(df[x], df[y], **kwargs)\n",
    "    #arya.plotting.medianplot(df, x, y, numbins=25, color=\"k\")\n",
    "    plt.xlabel(to_nice_name(x))\n",
    "    plt.ylabel(to_nice_name(y))"
   ]
  },
  {
   "cell_type": "code",
   "execution_count": null,
   "id": "5",
   "metadata": {},
   "outputs": [],
   "source": [
    "def to_nice_name(apogee_name):\n",
    "    name = apogee_name.replace(\"_\", \"/\").title()\n",
    "    name = f\"[{name}]\"\n",
    "    return name"
   ]
  },
  {
   "cell_type": "code",
   "execution_count": null,
   "id": "6",
   "metadata": {},
   "outputs": [],
   "source": [
    "import stelllab"
   ]
  },
  {
   "cell_type": "markdown",
   "id": "7",
   "metadata": {},
   "source": [
    "# Stellab"
   ]
  },
  {
   "cell_type": "markdown",
   "id": "8",
   "metadata": {
    "jp-MarkdownHeadingCollapsed": true
   },
   "source": [
    "# Hypatia"
   ]
  },
  {
   "cell_type": "code",
   "execution_count": null,
   "id": "9",
   "metadata": {},
   "outputs": [],
   "source": [
    "hypatia = Table.read(data_dir + \"hypatia.fits\", format=\"fits\")\n",
    "\n",
    "hypatia_new = pd.read_csv(data_dir + \"hypatia-20052024.csv\")"
   ]
  },
  {
   "cell_type": "code",
   "execution_count": null,
   "id": "10",
   "metadata": {},
   "outputs": [],
   "source": [
    "hypatia_new"
   ]
  },
  {
   "cell_type": "code",
   "execution_count": null,
   "id": "11",
   "metadata": {},
   "outputs": [],
   "source": [
    "filt = hypatia_new.f_logg >= 3.5\n",
    "filt &= ~np.isnan(hypatia_new.C)\n",
    "filt &= ~np.isnan(hypatia_new.Mg)\n",
    "\n",
    "hypatia_clean = hypatia_new[filt].copy()"
   ]
  },
  {
   "cell_type": "code",
   "execution_count": null,
   "id": "12",
   "metadata": {},
   "outputs": [],
   "source": [
    "hypatia_clean[\"C_MG\"] = hypatia_clean.C - hypatia_clean.Mg\n",
    "hypatia_clean[\"C_O\"] = hypatia_clean.C - hypatia_clean.O\n",
    "\n",
    "hypatia_clean[\"MG_H\"] = hypatia_clean.Mg\n",
    "hypatia_clean[\"O_H\"] = hypatia_clean.O\n",
    "\n",
    "hypatia_clean[\"MG_FE\"] = hypatia_clean.Mg - hypatia_clean.Fe\n",
    "\n",
    "hypatia_clean[\"FE_H\"] = hypatia_clean.Fe\n",
    "hypatia_clean[\"O_MG\"] = hypatia_clean.O - hypatia_clean.Mg\n",
    "hypatia_clean[\"O_FE\"] = hypatia_clean.O - hypatia_clean.Fe"
   ]
  },
  {
   "cell_type": "code",
   "execution_count": null,
   "id": "13",
   "metadata": {},
   "outputs": [],
   "source": [
    "keil_plot(hypatia_new.f_teff, hypatia_new.f_logg,alpha=0.1)\n",
    "keil_plot(hypatia_clean.f_teff, hypatia_clean.f_logg,alpha=0.1)\n"
   ]
  },
  {
   "cell_type": "code",
   "execution_count": null,
   "id": "14",
   "metadata": {},
   "outputs": [],
   "source": [
    "for ele1, ele2 in [(\"MG_H\", \"C_MG\"), (\"MG_FE\", \"C_MG\"), (\"FE_H\", \"MG_FE\"), ( \"MG_H\", \"O_MG\",)]:\n",
    "    plot_ab(hypatia_clean, ele1, ele2, alpha=0.05, s=1)\n",
    "    arya.medianplot(hypatia_clean, ele1, ele2, color=\"k\", binsize=300)\n",
    "    plt.xlim(-1, 0.5)\n",
    "    plt.ylim(-0.5, 0.5)\n",
    "    plt.show()"
   ]
  },
  {
   "cell_type": "markdown",
   "id": "15",
   "metadata": {},
   "source": [
    "# Luck 2018"
   ]
  },
  {
   "cell_type": "code",
   "execution_count": null,
   "id": "16",
   "metadata": {},
   "outputs": [],
   "source": [
    "luck18 = Table.read(data_dir + \"luck2018.fits\", format=\"fits\")\n",
    "luck18 = luck18.to_pandas()"
   ]
  },
  {
   "cell_type": "markdown",
   "id": "17",
   "metadata": {},
   "source": [
    "Some important columns\n",
    "- C538.2: Log carbon abundance from C I 538.2 nm line\n",
    "- C2: Log carbon abundance from C2 Swan lines (primary indicator at 513.5 nm)\n",
    "- O615.5:  Log oxygen abundance from O I 615.5 nm triplet\n",
    "- O630.0:  Log oxygen abundance from [O I] 630.0 nm line\n",
    "\n",
    "use Cmean and Omean for 12 + log abund"
   ]
  },
  {
   "cell_type": "code",
   "execution_count": null,
   "id": "18",
   "metadata": {},
   "outputs": [],
   "source": [
    "plt.scatter(luck18[\"C505_2\"], luck18.C538_2 - luck18.C505_2)\n",
    "plt.axhline(0)"
   ]
  },
  {
   "cell_type": "code",
   "execution_count": null,
   "id": "19",
   "metadata": {},
   "outputs": [],
   "source": [
    "plt.scatter(luck18[\"O615_5\"], luck18.O630_0 - luck18.O615_5)\n",
    "plt.axhline(0)"
   ]
  },
  {
   "cell_type": "code",
   "execution_count": null,
   "id": "20",
   "metadata": {},
   "outputs": [],
   "source": [
    "luck18[\"C_H\"] = gcem.eps_to_brak(luck18[\"Cmean\"], \"C\")\n",
    "luck18[\"O_H\"] = gcem.eps_to_brak(luck18[\"Omean\"], \"o\")\n",
    "\n",
    "luck18[\"C_O\"] = luck18.C_H - luck18.O_H\n",
    "\n",
    "luck18[\"FE_H\"] = luck18[\"__Fe_H_\"]\n",
    "luck18[\"O_FE\"] = luck18.O_H - luck18.FE_H\n"
   ]
  },
  {
   "cell_type": "code",
   "execution_count": null,
   "id": "21",
   "metadata": {},
   "outputs": [],
   "source": [
    "plt.scatter(luck18.C_H, luck18.C_H - luck18[\"__C_H_mean\"])"
   ]
  },
  {
   "cell_type": "code",
   "execution_count": null,
   "id": "22",
   "metadata": {},
   "outputs": [],
   "source": [
    "plt.scatter(luck18.O_H, luck18.O_H - luck18[\"__O_H_mean\"])"
   ]
  },
  {
   "cell_type": "code",
   "execution_count": null,
   "id": "23",
   "metadata": {},
   "outputs": [],
   "source": [
    "keil_plot(luck18.Teff, luck18.logg)"
   ]
  },
  {
   "cell_type": "code",
   "execution_count": null,
   "id": "24",
   "metadata": {},
   "outputs": [],
   "source": [
    "for ele1, ele2 in [(\"O_H\", \"C_O\"), (\"O_FE\", \"C_O\"), (\"FE_H\", \"O_FE\")]:\n",
    "    plot_ab(luck18, ele1, ele2, alpha=0.05, s=1)\n",
    "    arya.medianplot(luck18, ele1, ele2, color=\"k\", binsize=300)\n",
    "    plt.xlim(-1, 0.5)\n",
    "    plt.ylim(-0.5, 0.5)\n",
    "    plt.show()"
   ]
  },
  {
   "cell_type": "markdown",
   "id": "25",
   "metadata": {
    "jp-MarkdownHeadingCollapsed": true,
    "tags": []
   },
   "source": [
    "# HARPS GTO"
   ]
  },
  {
   "cell_type": "markdown",
   "id": "26",
   "metadata": {},
   "source": [
    "delgado mena et al. (2021), https://ui.adsabs.harvard.edu/abs/2021A%26A...655A..99D/abstract \n",
    "\n",
    "\n",
    "Uses the high resolution HARPS-GTO spectrograph (R ~ 115 000).\n",
    "Determines C from two atomic lines using LTE EW analysis.\n",
    "\n",
    "- Wavelength range: 3770–6900\n",
    "- SNR > 100 or > 300 \n",
    "- C from 5052 Å and 5380\n",
    "\n",
    "Oxygen was derived in Bertran de Lis et al. (2015, https://ui.adsabs.harvard.edu/abs/2015A%26A...576A..89B/abstract) from [O I] at 6158 and OI at 6300, which are labeled at O1 and O2 respectively."
   ]
  },
  {
   "cell_type": "code",
   "execution_count": null,
   "id": "27",
   "metadata": {},
   "outputs": [],
   "source": [
    "harps = pd.read_csv(surp.DATA_DIR + \"dm21.csv\", delimiter=\"\\t *\", comment=\"#\", engine=\"python\")"
   ]
  },
  {
   "cell_type": "code",
   "execution_count": null,
   "id": "28",
   "metadata": {},
   "outputs": [],
   "source": [
    "keil_plot(harps.Teff, harps.logg)"
   ]
  },
  {
   "cell_type": "code",
   "execution_count": null,
   "id": "29",
   "metadata": {},
   "outputs": [],
   "source": [
    "plt.scatter(harps.__O1_Fe_, harps.__O2_Fe_ - harps.__O1_Fe_)"
   ]
  },
  {
   "cell_type": "code",
   "execution_count": null,
   "id": "30",
   "metadata": {},
   "outputs": [],
   "source": [
    "harps[\"FE_H\"] = harps.__Fe_H_\n",
    "harps[\"O_FE\"] = np.nanmean([harps.__O1_Fe_, harps.__O2_Fe_], axis=0)\n",
    "harps[\"O_H\"] = harps.O_FE + harps.FE_H\n",
    "\n",
    "harps[\"C_O\"] = harps[\"__C_Fe_\"] - harps.O_FE"
   ]
  },
  {
   "cell_type": "code",
   "execution_count": null,
   "id": "31",
   "metadata": {},
   "outputs": [],
   "source": [
    "for ele1, ele2 in [(\"O_H\", \"C_O\"), (\"O_FE\", \"C_O\"), (\"FE_H\", \"O_FE\")]:\n",
    "    plot_ab(harps, ele1, ele2, alpha=0.1, s=3)\n",
    "    arya.medianplot(harps, ele1, ele2, color=\"k\", binsize=300)\n",
    "    plt.xlim(-1, 0.5)\n",
    "    plt.ylim(-0.5, 0.5)\n",
    "    plt.show()"
   ]
  },
  {
   "cell_type": "markdown",
   "id": "32",
   "metadata": {
    "jp-MarkdownHeadingCollapsed": true,
    "tags": []
   },
   "source": [
    "# HARPS CH\n",
    "Also there is another study using HARPS GTO but with CH\n",
    "https://ui.adsabs.harvard.edu/abs/2017A%26A...599A..96S/abstract\n",
    "TODO: Need to combine with other data..."
   ]
  },
  {
   "cell_type": "code",
   "execution_count": null,
   "id": "33",
   "metadata": {},
   "outputs": [],
   "source": [
    "harps_ch = Table.read(data_dir + \"harps_ch.fits\", format=\"fits\")\n"
   ]
  },
  {
   "cell_type": "code",
   "execution_count": null,
   "id": "34",
   "metadata": {},
   "outputs": [],
   "source": [
    "\n",
    "harps_ch"
   ]
  },
  {
   "cell_type": "markdown",
   "id": "35",
   "metadata": {
    "jp-MarkdownHeadingCollapsed": true,
    "tags": []
   },
   "source": [
    "# Brewer + 2016"
   ]
  },
  {
   "cell_type": "markdown",
   "id": "36",
   "metadata": {},
   "source": [
    "using HIRIS (R≈70,000).\n",
    "LTE assumed. Our line list contains 63 atomic carbon lines; typically, these are shallow or blended"
   ]
  },
  {
   "cell_type": "code",
   "execution_count": null,
   "id": "37",
   "metadata": {},
   "outputs": [],
   "source": [
    "brewer16 = Table.read(data_dir + \"brewer+2016.fits\", format=\"fits\")\n",
    "brewer16 = brewer16.to_pandas()"
   ]
  },
  {
   "cell_type": "code",
   "execution_count": null,
   "id": "38",
   "metadata": {},
   "outputs": [],
   "source": [
    "brewer16.columns.to_list()"
   ]
  },
  {
   "cell_type": "code",
   "execution_count": null,
   "id": "39",
   "metadata": {},
   "outputs": [],
   "source": [
    "brewer16[\"C_H\"] = brewer16.__C_H_\n",
    "brewer16[\"O_H\"] = brewer16.__O_H_\n",
    "brewer16[\"FE_H\"] = brewer16.__Fe_H_\n",
    "brewer16[\"MG_H\"] = brewer16.__Mg_H_\n",
    "\n",
    "\n",
    "brewer16[\"C_MG\"] = brewer16.C_H - brewer16.MG_H\n",
    "brewer16[\"MG_FE\"] = brewer16.MG_H - brewer16.FE_H\n",
    "brewer16[\"O_MG\"] = brewer16.O_H - brewer16.MG_H\n",
    "\n",
    "brewer16[\"C_O\"] = brewer16.C_H - brewer16.O_H\n",
    "brewer16[\"O_FE\"] = brewer16.O_H - brewer16.FE_H\n"
   ]
  },
  {
   "cell_type": "code",
   "execution_count": null,
   "id": "40",
   "metadata": {},
   "outputs": [],
   "source": [
    "filt = brewer16.logg > 3.5\n",
    "\n",
    "brewer16_clean = brewer16[filt].copy()"
   ]
  },
  {
   "cell_type": "code",
   "execution_count": null,
   "id": "41",
   "metadata": {},
   "outputs": [],
   "source": [
    "keil_plot(brewer16.Teff, brewer16.logg, alpha=0.2)\n",
    "keil_plot(brewer16_clean.Teff, brewer16_clean.logg, alpha=0.2)"
   ]
  },
  {
   "cell_type": "code",
   "execution_count": null,
   "id": "42",
   "metadata": {},
   "outputs": [],
   "source": [
    "for ele1, ele2 in [(\"MG_H\", \"C_MG\"), (\"MG_FE\", \"C_MG\"), (\"FE_H\", \"MG_FE\"), ( \"MG_H\", \"O_MG\",)]:\n",
    "    plot_ab(brewer16_clean, ele1, ele2, alpha=0.05, s=1)\n",
    "    arya.medianplot(brewer16_clean, ele1, ele2, color=\"k\", binsize=300)\n",
    "    plt.xlim(-1, 0.5)\n",
    "    plt.ylim(-0.5, 0.5)\n",
    "    plt.show()"
   ]
  },
  {
   "cell_type": "markdown",
   "id": "43",
   "metadata": {},
   "source": [
    "# ALL"
   ]
  },
  {
   "cell_type": "code",
   "execution_count": null,
   "id": "44",
   "metadata": {},
   "outputs": [],
   "source": [
    "hypatia_clean.plot_kwargs = dict(\n",
    "    color=arya.COLORS[1],\n",
    "    binsize=300,\n",
    "    label=\"hypatia\",\n",
    "    marker=\"s\"\n",
    ")"
   ]
  },
  {
   "cell_type": "code",
   "execution_count": null,
   "id": "45",
   "metadata": {},
   "outputs": [],
   "source": [
    "brewer16_clean.plot_kwargs = dict(\n",
    "    color=arya.COLORS[2],\n",
    "    binsize=100,\n",
    "    label=\"brewer\"\n",
    ")"
   ]
  },
  {
   "cell_type": "code",
   "execution_count": null,
   "id": "46",
   "metadata": {},
   "outputs": [],
   "source": [
    "harps.plot_kwargs = dict(\n",
    "    color=arya.COLORS[3],\n",
    "    binsize=100,\n",
    "    label=\"harps\",\n",
    "    marker=\"o\"\n",
    ")"
   ]
  },
  {
   "cell_type": "code",
   "execution_count": null,
   "id": "47",
   "metadata": {},
   "outputs": [],
   "source": [
    "luck18.plot_kwargs = dict(\n",
    "    color=arya.COLORS[4],\n",
    "    binsize=100,\n",
    "    label=\"luck\",\n",
    "    marker=\"*\"\n",
    ")"
   ]
  },
  {
   "cell_type": "code",
   "execution_count": null,
   "id": "48",
   "metadata": {},
   "outputs": [],
   "source": [
    "studies = {\n",
    "    \"hypatia\": hypatia_clean,\n",
    "    \"brewer+16\": brewer16_clean,\n",
    "    \"harps-GTO\": harps,\n",
    "    \"luck18\": luck18\n",
    "}"
   ]
  },
  {
   "cell_type": "code",
   "execution_count": null,
   "id": "49",
   "metadata": {},
   "outputs": [],
   "source": [
    "\n",
    "fig, axs = plt.subplots(1, 2, figsize=(7, 3), sharey=True, gridspec_kw={\"wspace\": 0}, dpi=250)\n",
    "\n",
    "plt.sca(axs[0])\n",
    "x = \"O_H\"\n",
    "y = \"C_O\"\n",
    "\n",
    "i = 0\n",
    "\n",
    "for key, study in studies.items():\n",
    "    study = studies[key]\n",
    "    arya.medianplot(study, x, y, aes=\"line\", errorbar=None, **study.plot_kwargs)\n",
    "\n",
    "\n",
    "plt.ylim(-0.25)\n",
    "\n",
    "plt.xlabel(\"[O/H]\")\n",
    "plt.ylabel(\"[C/O]\")\n",
    "\n",
    "plt.sca(axs[1])\n",
    "\n",
    "x = \"O_FE\"\n",
    "y = \"C_O\"\n",
    "\n",
    "i = 0\n",
    "\n",
    "for key, study in studies.items():\n",
    "    study = studies[key]\n",
    "    arya.medianplot(study, x, y, aes=\"line\", errorbar=None, **study.plot_kwargs)\n",
    "\n",
    "\n",
    "plt.ylim(-0.3, 0.2)\n",
    "\n",
    "arya.Legend()\n",
    "plt.xlabel(\"[O/Fe]\")\n",
    "\n",
    "plt.savefig(\"caah_catalogues.pdf\")"
   ]
  },
  {
   "cell_type": "code",
   "execution_count": null,
   "id": "50",
   "metadata": {},
   "outputs": [],
   "source": []
  }
 ],
 "metadata": {
  "kernelspec": {
   "display_name": "Python 3 (ipykernel)",
   "language": "python",
   "name": "python3"
  },
  "language_info": {
   "codemirror_mode": {
    "name": "ipython",
    "version": 3
   },
   "file_extension": ".py",
   "mimetype": "text/x-python",
   "name": "python",
   "nbconvert_exporter": "python",
   "pygments_lexer": "ipython3",
   "version": "3.11.9"
  }
 },
 "nbformat": 4,
 "nbformat_minor": 5
}
