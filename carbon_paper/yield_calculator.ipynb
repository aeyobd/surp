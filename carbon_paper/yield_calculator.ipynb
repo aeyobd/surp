{
 "cells": [
  {
   "cell_type": "markdown",
   "id": "25212d80-481d-4f56-af6a-8240b7e334ce",
   "metadata": {},
   "source": [
    "# Yield calculator\n",
    "\n",
    "This notebook is used to estimate the CCSNe yields consistent with the present-day APOGEE trend in \\[C/Mg\\]-\\[Mg/H\\].\n",
    "\n",
    "uses the results from the MCMC fits to AGB integrated yields with "
   ]
  },
  {
   "cell_type": "code",
   "execution_count": 13,
   "id": "441a2e96-fce4-4145-bf6a-bc9c39cf5ded",
   "metadata": {},
   "outputs": [],
   "source": [
    "import toml\n",
    "import surp\n",
    "import vice\n",
    "\n",
    "import vice.yields.ccsne.settings as y_cc\n",
    "import vice.yields.agb.settings as Y_agb\n",
    "import vice.yields.sneia.settings as y_ia"
   ]
  },
  {
   "cell_type": "code",
   "execution_count": 14,
   "id": "5fe8cf3a-d4eb-4680-810c-bb34a2ddadae",
   "metadata": {},
   "outputs": [],
   "source": [
    "surp.set_yields(verbose=False)"
   ]
  },
  {
   "cell_type": "markdown",
   "id": "c77da279-daf4-4289-a8ad-35da41b8bed3",
   "metadata": {},
   "source": [
    "# yield params calculator"
   ]
  },
  {
   "cell_type": "markdown",
   "id": "660e8003-312a-446f-bf68-19a556ad6f02",
   "metadata": {},
   "source": [
    "Given the desired f_agb or alpha, what are the required y0cc and alpha_agb values"
   ]
  },
  {
   "cell_type": "markdown",
   "id": "80db1810-0def-4ed1-b226-72d4a09ffa2a",
   "metadata": {
    "jp-MarkdownHeadingCollapsed": true
   },
   "source": [
    "## inputs from mcmc fits"
   ]
  },
  {
   "cell_type": "code",
   "execution_count": 3,
   "id": "9289e003-888f-47bc-bd6f-beacc1fccc88",
   "metadata": {},
   "outputs": [],
   "source": [
    "Y_C_AGB = {\n",
    "    \"cristallo11\": 3.8e-4,\n",
    "    \"ventura13\": 1.85e-4,\n",
    "    \"karakas16\": 2.8e-4,\n",
    "    \"pignatari16\": 5.9e-4\n",
    "}"
   ]
  },
  {
   "cell_type": "code",
   "execution_count": 4,
   "id": "c59c5fef-304b-4f86-9407-aa46fb449dc9",
   "metadata": {},
   "outputs": [],
   "source": [
    "ZETA_C_AGB = {\n",
    "    \"cristallo11\": -3.5e-4,\n",
    "    \"ventura13\": -9.4e-4,\n",
    "    \"karakas16\": -10.1e-4,\n",
    "    \"pignatari16\": -5.7e-4\n",
    "}"
   ]
  },
  {
   "cell_type": "code",
   "execution_count": 5,
   "id": "86159be2-c0a4-4b85-ae0f-866cff75e9b5",
   "metadata": {},
   "outputs": [],
   "source": [
    "y_mg = y_cc[\"mg\"]\n",
    "noneq_factor = 1.025\n",
    "noneq_zeta = 1.8\n",
    "noneq_A = 1.8\n",
    "\n",
    "Y_C_0 = 4.12 * y_mg * noneq_factor\n",
    "ZETA_C_0 = 1.21 * y_mg * noneq_factor * noneq_zeta\n",
    "A_C_0 = 3.07 * y_mg * noneq_factor * noneq_A"
   ]
  },
  {
   "cell_type": "code",
   "execution_count": 6,
   "id": "b2b635a1-5d50-4ad7-be62-65e5be48f836",
   "metadata": {},
   "outputs": [
    {
     "data": {
      "text/plain": [
       "0.0005506792000000001"
      ]
     },
     "execution_count": 6,
     "metadata": {},
     "output_type": "execute_result"
    }
   ],
   "source": [
    "Y_C_0 * 0.2"
   ]
  },
  {
   "cell_type": "markdown",
   "id": "61ab5469-2038-4951-b922-268ae82eb76e",
   "metadata": {},
   "source": [
    "## Utils"
   ]
  },
  {
   "cell_type": "code",
   "execution_count": 7,
   "id": "04a3fe80-b497-4ec3-b7f2-5d6e2ab7163b",
   "metadata": {},
   "outputs": [],
   "source": [
    "def f_agb_to_alpha(y0_agb, f_agb):\n",
    "    y_agb = Y_C_0 * f_agb\n",
    "    return y_agb / y0_agb"
   ]
  },
  {
   "cell_type": "code",
   "execution_count": 8,
   "id": "c6f2cb9c-831c-4dac-8a82-cd3c59f12a26",
   "metadata": {},
   "outputs": [],
   "source": [
    "def f_agb_to_settings(study, y0=None, f_agb=0.2):\n",
    "    if y0 is None:\n",
    "        y0 = Y_C_AGB[study]\n",
    "        \n",
    "    alpha = f_agb_to_alpha(y0, f_agb)\n",
    "    y0_cc = (1-f_agb) * Y_C_0\n",
    "    settings = dict(alpha_c_agb = alpha, y0_c_cc = y0_cc)\n",
    "    \n",
    "    print(toml.dumps(settings))"
   ]
  },
  {
   "cell_type": "code",
   "execution_count": 9,
   "id": "6a2639f5-f473-49f5-b930-fce5761042e1",
   "metadata": {},
   "outputs": [],
   "source": [
    "def f_agb_zeta_to_settings(study, *, y0_agb=None, zeta_agb=None, f_agb=0.2):\n",
    "    if y0_agb is None:\n",
    "        y0_agb = Y_C_AGB[study]\n",
    "    if zeta_agb is None:\n",
    "        zeta_agb = ZETA_C_AGB[study]\n",
    "        \n",
    "    alpha = f_agb_to_alpha(y0_agb, f_agb)\n",
    "    y0_cc = (1-f_agb) * Y_C_0\n",
    "    \n",
    "    zeta_cc = ZETA_C_0 - zeta_agb * alpha\n",
    "    \n",
    "    settings = dict(alpha_c_agb = alpha, y0_c_cc = y0_cc, zeta_c_cc=zeta_cc)\n",
    "    \n",
    "    print(toml.dumps(settings))"
   ]
  },
  {
   "cell_type": "code",
   "execution_count": 10,
   "id": "0c942431-0bdb-497c-8daf-f73b0910afa5",
   "metadata": {},
   "outputs": [],
   "source": [
    "def alpha_to_settings(study, alpha):\n",
    "    f_agb =  alpha * Y_C_AGB[study] / Y_C_0\n",
    "    y0_cc = (1-f_agb) * Y_C_0\n",
    "    settings = dict(alpha_c_agb = alpha, y0_c_cc = y0_cc)\n",
    "    \n",
    "    print(toml.dumps(settings))"
   ]
  },
  {
   "cell_type": "code",
   "execution_count": 11,
   "id": "1333cc07-a44a-49f9-89c3-c0732a4d077c",
   "metadata": {},
   "outputs": [],
   "source": [
    "def enhance_fe_ia(factor):\n",
    "    \"\"\"if factor != 1, then enhances sne ia fe yield by factor but maintains same total fe yield, applied to params\"\"\"\n",
    "    if factor == 1:\n",
    "        return\n",
    "    y_fe = y_ia[\"fe\"] + y_cc[\"fe\"]\n",
    "    y_fe_ia = y_ia[\"fe\"] * factor\n",
    "    y_fe_cc = y_fe - y_fe_ia\n",
    "    \n",
    "    print(f\"y_fe_ia = {y_fe_ia:0.8f}\")\n",
    "    print(f\"y_fe_cc = {y_fe_cc:0.8f}\")\n",
    "    return y_fe_ia, y_fe_cc\n"
   ]
  },
  {
   "cell_type": "code",
   "execution_count": 12,
   "id": "d7811a10-2a2e-4f64-85e0-614550a90a0a",
   "metadata": {},
   "outputs": [],
   "source": [
    "def m_factor_to_settings(Y_c_agb=\"cristallo11\"):\n",
    "    surp.set_yields(y_c_cc=0, Y_c_agb=Y_c_agb, kwargs_c_agb = dict(mass_factor=m), verbose=False)\n",
    "    y_agb = surp.yields.calc_y(surp.Z_SUN)\n",
    "    \n",
    "    print(y_cc_0 - surp.yields.calc_y(surp.Z_SUN) + y_agb_0)"
   ]
  },
  {
   "cell_type": "markdown",
   "id": "92fbfe2a-0d85-4d85-96a5-ed938c21b93e",
   "metadata": {},
   "source": [
    "## Fruity"
   ]
  },
  {
   "cell_type": "code",
   "execution_count": 34,
   "id": "f72a3256-a725-459b-b588-91b6e1d73774",
   "metadata": {},
   "outputs": [
    {
     "name": "stdout",
     "output_type": "stream",
     "text": [
      "alpha_c_agb = 1.449\n",
      "y0_c_cc = 0.002202776\n",
      "\n"
     ]
    }
   ],
   "source": [
    "alpha_to_settings(\"cristallo11\", alpha=1.449)"
   ]
  },
  {
   "cell_type": "code",
   "execution_count": 16,
   "id": "946f0534-b478-4bb1-b325-41cad97422ea",
   "metadata": {},
   "outputs": [
    {
     "name": "stdout",
     "output_type": "stream",
     "text": [
      "y_fe_ia = 0.00092400\n",
      "y_fe_cc = 0.00031900\n"
     ]
    },
    {
     "data": {
      "text/plain": [
       "(0.0009239999999999999, 0.00031900000000000006)"
      ]
     },
     "execution_count": 16,
     "metadata": {},
     "output_type": "execute_result"
    }
   ],
   "source": [
    "enhance_fe_ia(1.2)"
   ]
  },
  {
   "cell_type": "code",
   "execution_count": 15,
   "id": "4826942a-5720-4871-b11e-3057f139c354",
   "metadata": {},
   "outputs": [
    {
     "name": "stdout",
     "output_type": "stream",
     "text": [
      "f_agb =  0\n",
      "alpha_c_agb = 0.0\n",
      "y0_c_cc = 0.002753396\n",
      "zeta_c_cc = 0.0014555574\n",
      "\n",
      "\n",
      "f_agb =  0.1\n",
      "alpha_c_agb = 0.7245778947368421\n",
      "y0_c_cc = 0.0024780564\n",
      "zeta_c_cc = 0.0017091596631578947\n",
      "\n",
      "\n",
      "f_agb =  0.2\n",
      "alpha_c_agb = 1.4491557894736842\n",
      "y0_c_cc = 0.0022027168000000002\n",
      "zeta_c_cc = 0.0019627619263157896\n",
      "\n",
      "\n",
      "f_agb =  0.3\n",
      "alpha_c_agb = 2.173733684210526\n",
      "y0_c_cc = 0.0019273772\n",
      "zeta_c_cc = 0.0022163641894736843\n",
      "\n",
      "\n",
      "f_agb =  0.4\n",
      "alpha_c_agb = 2.8983115789473683\n",
      "y0_c_cc = 0.0016520375999999999\n",
      "zeta_c_cc = 0.002469966452631579\n",
      "\n",
      "\n",
      "f_agb =  0.5\n",
      "alpha_c_agb = 3.6228894736842103\n",
      "y0_c_cc = 0.001376698\n",
      "zeta_c_cc = 0.0027235687157894737\n",
      "\n",
      "\n",
      "f_agb =  0.8\n",
      "alpha_c_agb = 5.796623157894737\n",
      "y0_c_cc = 0.0005506791999999998\n",
      "zeta_c_cc = 0.003484375505263158\n",
      "\n",
      "\n",
      "f_agb =  1\n",
      "alpha_c_agb = 7.245778947368421\n",
      "y0_c_cc = 0.0\n",
      "zeta_c_cc = 0.003991580031578948\n",
      "\n",
      "\n"
     ]
    }
   ],
   "source": [
    "for f in [0, 0.1, 0.2, 0.3, 0.4, 0.5, 0.8, 1]:\n",
    "    print(\"f_agb = \", f)\n",
    "    f_agb_zeta_to_settings(\"cristallo11\", f_agb=f)\n",
    "    print()"
   ]
  },
  {
   "cell_type": "markdown",
   "id": "0cdef121-5aa6-4069-90a5-3cf3b3f1858d",
   "metadata": {},
   "source": [
    "## ATON"
   ]
  },
  {
   "cell_type": "code",
   "execution_count": 29,
   "id": "737c08b6-f4c2-4092-9d5c-d19d6bfe2b95",
   "metadata": {},
   "outputs": [
    {
     "name": "stdout",
     "output_type": "stream",
     "text": [
      "alpha_c_agb = 2.9766443243243246\n",
      "y0_c_cc = 0.0022027168000000002\n",
      "zeta_c_cc = 0.004253603064864865\n",
      "\n"
     ]
    }
   ],
   "source": [
    "f_agb_zeta_to_settings(\"ventura13\", f_agb=0.2)\n"
   ]
  },
  {
   "cell_type": "code",
   "execution_count": 36,
   "id": "96290224-61ab-4d98-88e0-913b2814093b",
   "metadata": {},
   "outputs": [
    {
     "name": "stdout",
     "output_type": "stream",
     "text": [
      "alpha_c_agb = 2\n",
      "y0_c_cc = 0.002383396\n",
      "\n",
      "\n",
      "alpha_c_agb = 3\n",
      "y0_c_cc = 0.002198396\n",
      "\n"
     ]
    }
   ],
   "source": [
    "alpha_to_settings(\"ventura13\", alpha=2)\n",
    "print()\n",
    "alpha_to_settings(\"ventura13\", alpha=3)"
   ]
  },
  {
   "cell_type": "markdown",
   "id": "0ff27479-dfd2-4ec4-81cd-3572598be690",
   "metadata": {},
   "source": [
    "## Monash"
   ]
  },
  {
   "cell_type": "code",
   "execution_count": 37,
   "id": "a2025cdb-2af6-4c53-9d33-db2fc601f56d",
   "metadata": {},
   "outputs": [
    {
     "name": "stdout",
     "output_type": "stream",
     "text": [
      "alpha_c_agb = 1.9667114285714289\n",
      "y0_c_cc = 0.0022027168000000002\n",
      "zeta_c_cc = 0.003441935942857143\n",
      "\n"
     ]
    }
   ],
   "source": [
    "f_agb_zeta_to_settings(\"karakas16\", f_agb=0.2)\n"
   ]
  },
  {
   "cell_type": "code",
   "execution_count": 15,
   "id": "5e2790ad-aaea-4888-9cee-3851f5cc0bd2",
   "metadata": {},
   "outputs": [
    {
     "name": "stdout",
     "output_type": "stream",
     "text": [
      "0\n",
      "alpha_c_agb = 0.0\n",
      "y0_c_cc = 0.002753396\n",
      "zeta_c_cc = 0.0014555574\n",
      "\n",
      "0.1\n",
      "alpha_c_agb = 0.9833557142857144\n",
      "y0_c_cc = 0.0024780564\n",
      "zeta_c_cc = 0.0024487466714285715\n",
      "\n",
      "0.3\n",
      "alpha_c_agb = 2.9500671428571428\n",
      "y0_c_cc = 0.0019273772\n",
      "zeta_c_cc = 0.004435125214285714\n",
      "\n",
      "0.4\n",
      "alpha_c_agb = 3.9334228571428578\n",
      "y0_c_cc = 0.0016520375999999999\n",
      "zeta_c_cc = 0.0054283144857142866\n",
      "\n",
      "0.5\n",
      "alpha_c_agb = 4.916778571428572\n",
      "y0_c_cc = 0.001376698\n",
      "zeta_c_cc = 0.006421503757142857\n",
      "\n",
      "1\n",
      "alpha_c_agb = 9.833557142857144\n",
      "y0_c_cc = 0.0\n",
      "zeta_c_cc = 0.011387450114285715\n",
      "\n"
     ]
    }
   ],
   "source": [
    "for f in [0, 0.1, 0.3, 0.4, 0.5, 1]:\n",
    "    print(f)\n",
    "    f_agb_zeta_to_settings(\"karakas16\", f_agb=f)"
   ]
  },
  {
   "cell_type": "markdown",
   "id": "3f05780b-fcca-4c84-881a-e203a2ab77d9",
   "metadata": {},
   "source": [
    "## NuGrid"
   ]
  },
  {
   "cell_type": "code",
   "execution_count": 31,
   "id": "7531d848-4f0b-4f90-82f1-3a7abb3380f0",
   "metadata": {},
   "outputs": [
    {
     "name": "stdout",
     "output_type": "stream",
     "text": [
      "alpha_c_agb = 0.9333545762711865\n",
      "y0_c_cc = 0.0022027168000000002\n",
      "zeta_c_cc = 0.0019875695084745765\n",
      "\n"
     ]
    }
   ],
   "source": [
    "f_agb_zeta_to_settings(\"pignatari16\", f_agb=0.2)"
   ]
  },
  {
   "cell_type": "code",
   "execution_count": 14,
   "id": "68d5c57e-1924-446b-af47-1a9445cbaa94",
   "metadata": {},
   "outputs": [
    {
     "name": "stdout",
     "output_type": "stream",
     "text": [
      "alpha_c_agb = 0.0\n",
      "y0_c_cc = 0.002753396\n",
      "zeta_c_cc = 0.0014555574\n",
      "\n",
      "alpha_c_agb = 0.4666772881355932\n",
      "y0_c_cc = 0.0024780564\n",
      "zeta_c_cc = 0.0017215634542372881\n",
      "\n",
      "alpha_c_agb = 1.4000318644067795\n",
      "y0_c_cc = 0.0019273772\n",
      "zeta_c_cc = 0.0022535755627118644\n",
      "\n",
      "alpha_c_agb = 2.333386440677966\n",
      "y0_c_cc = 0.001376698\n",
      "zeta_c_cc = 0.0027855876711864406\n",
      "\n",
      "alpha_c_agb = 4.666772881355932\n",
      "y0_c_cc = 0.0\n",
      "zeta_c_cc = 0.004115617942372881\n",
      "\n"
     ]
    }
   ],
   "source": [
    "for f in [0, 0.1, 0.3, 0.5, 1]:\n",
    "    f_agb_zeta_to_settings(\"pignatari16\", f_agb=f)"
   ]
  },
  {
   "cell_type": "markdown",
   "id": "d4258f9e-71af-40b8-929f-c6744a7b29a4",
   "metadata": {},
   "source": [
    "### Mass factor"
   ]
  },
  {
   "cell_type": "code",
   "execution_count": 72,
   "id": "7ed12460-ec3c-429f-bd1a-f5bab56a2331",
   "metadata": {},
   "outputs": [
    {
     "name": "stdout",
     "output_type": "stream",
     "text": [
      "0.5\n",
      "0.000420468442011002\n",
      "0.0022502165963843614\n",
      "0.8\n",
      "0.0005204255132192604\n",
      "0.002150259525176103\n",
      "1\n",
      "0.00046798503839536314\n",
      "0.0022027\n",
      "1.5\n",
      "0.00047631938906597107\n",
      "0.002194365649329392\n",
      "2\n",
      "8.347695469561248e-05\n",
      "0.002587208083699751\n"
     ]
    }
   ],
   "source": [
    "for m in [0.5, 0.8, 1, 1.5, 2]:\n",
    "    surp.set_yields(y_c_cc=0, kwargs_c_agb = dict(mass_factor=m), verbose=False)\n",
    "    print(m)\n",
    "    print(surp.yields.calc_y(surp.Z_SUN))\n",
    "    print(y_cc_0 - surp.yields.calc_y(surp.Z_SUN) + y_agb_0)"
   ]
  },
  {
   "cell_type": "code",
   "execution_count": 71,
   "id": "57169929-3d47-4b44-93ef-c0d7cb594776",
   "metadata": {},
   "outputs": [],
   "source": [
    "y_agb_0 = 0.00046798503839536314\n",
    "y_cc_0 = 0.0022027"
   ]
  },
  {
   "cell_type": "code",
   "execution_count": 72,
   "id": "3fb52bca-f4e9-481c-9581-936236fb8ea7",
   "metadata": {},
   "outputs": [
    {
     "name": "stdout",
     "output_type": "stream",
     "text": [
      "0.5\n",
      "0.000420468442011002\n",
      "0.0022502165963843614\n",
      "0.8\n",
      "0.0005204255132192604\n",
      "0.002150259525176103\n",
      "1\n",
      "0.00046798503839536314\n",
      "0.0022027\n",
      "1.5\n",
      "0.00047631938906597107\n",
      "0.002194365649329392\n",
      "2\n",
      "8.347695469561248e-05\n",
      "0.002587208083699751\n"
     ]
    }
   ],
   "source": [
    "for m in [0.5, 0.8, 1, 1.5, 2]:\n",
    "   "
   ]
  },
  {
   "cell_type": "markdown",
   "id": "86299f17-74c7-449a-9f50-65314387338e",
   "metadata": {
    "jp-MarkdownHeadingCollapsed": true
   },
   "source": [
    "## Analytic"
   ]
  },
  {
   "cell_type": "code",
   "execution_count": 8,
   "id": "8cdca684-0b3b-4279-b51c-659e2ec02ac1",
   "metadata": {},
   "outputs": [
    {
     "data": {
      "text/plain": [
       "0.00038"
      ]
     },
     "execution_count": 8,
     "metadata": {},
     "output_type": "execute_result"
    }
   ],
   "source": [
    "y0_agb_a = Y_C_AGB[\"cristallo11\"]\n",
    "y0_agb_a"
   ]
  },
  {
   "cell_type": "code",
   "execution_count": 9,
   "id": "0cd8d69b-e85b-49ee-b550-c1c8c82f63e2",
   "metadata": {},
   "outputs": [
    {
     "data": {
      "text/plain": [
       "-0.00035"
      ]
     },
     "execution_count": 9,
     "metadata": {},
     "output_type": "execute_result"
    }
   ],
   "source": [
    "zeta_agb_a = ZETA_C_AGB[\"cristallo11\"]\n",
    "zeta_agb_a"
   ]
  },
  {
   "cell_type": "code",
   "execution_count": 10,
   "id": "31af1ac1-6727-4b91-9f7f-945603b7d45a",
   "metadata": {},
   "outputs": [],
   "source": [
    "def get_alpha(f_agb=0.2, y0_agb=y0_agb_a):\n",
    "    return Y_C_0 / y0_agb * f_agb"
   ]
  },
  {
   "cell_type": "code",
   "execution_count": 11,
   "id": "de650276-704c-4930-b73d-ad1e02b7cce8",
   "metadata": {},
   "outputs": [],
   "source": [
    "def get_zeta_cc(alpha, zeta=zeta_agb_a):\n",
    "    return ZETA_C_0 - alpha*zeta"
   ]
  },
  {
   "cell_type": "code",
   "execution_count": 12,
   "id": "c10f5468-e31c-47f1-9bba-b0f7cb8b639c",
   "metadata": {},
   "outputs": [],
   "source": [
    "def get_ana_settings(f, zeta=zeta_agb_a):\n",
    "    alpha = get_alpha(f)\n",
    "    print(\"alpha_c_agb = \", alpha)\n",
    "    print(\"y0_c_cc = \", Y_C_0 - alpha * y0_agb_a)\n",
    "    print(\"zeta_c_cc = \", get_zeta_cc(alpha, zeta))"
   ]
  },
  {
   "cell_type": "code",
   "execution_count": 13,
   "id": "ca3ad837-6669-4d29-88a1-fc74ced09c10",
   "metadata": {},
   "outputs": [
    {
     "name": "stdout",
     "output_type": "stream",
     "text": [
      "alpha_c_agb =  1.4491557894736842\n",
      "y0_c_cc =  0.0022027168\n",
      "zeta_c_cc =  0.0019627619263157896\n"
     ]
    }
   ],
   "source": [
    "get_ana_settings(0.2)"
   ]
  },
  {
   "cell_type": "code",
   "execution_count": 14,
   "id": "91e8c2af-d52c-4e27-9cc5-ae8ae4629ba7",
   "metadata": {},
   "outputs": [
    {
     "name": "stdout",
     "output_type": "stream",
     "text": [
      "alpha_c_agb =  1.4491557894736842\n",
      "y0_c_cc =  0.0022027168\n",
      "zeta_c_cc =  0.0014555574\n"
     ]
    }
   ],
   "source": [
    "get_ana_settings(0.2, 0)"
   ]
  },
  {
   "cell_type": "code",
   "execution_count": 15,
   "id": "d030cc89-4d39-4ee0-8b25-0b954baa10a3",
   "metadata": {},
   "outputs": [
    {
     "name": "stdout",
     "output_type": "stream",
     "text": [
      "alpha_c_agb =  1.4491557894736842\n",
      "y0_c_cc =  0.0022027168\n",
      "zeta_c_cc =  0.002469966452631579\n"
     ]
    }
   ],
   "source": [
    "get_ana_settings(0.2, -0.0007)"
   ]
  },
  {
   "cell_type": "code",
   "execution_count": 16,
   "id": "8ee42b72-4db0-4934-9171-8d48a69e8d98",
   "metadata": {},
   "outputs": [
    {
     "name": "stdout",
     "output_type": "stream",
     "text": [
      "0\n",
      "alpha_c_agb =  0.0\n",
      "y0_c_cc =  0.002753396\n",
      "zeta_c_cc =  0.0014555574\n",
      "\n",
      "0.1\n",
      "alpha_c_agb =  0.7245778947368421\n",
      "y0_c_cc =  0.0024780564\n",
      "zeta_c_cc =  0.0017091596631578947\n",
      "\n",
      "0.3\n",
      "alpha_c_agb =  2.173733684210526\n",
      "y0_c_cc =  0.0019273772000000002\n",
      "zeta_c_cc =  0.0022163641894736843\n",
      "\n",
      "0.5\n",
      "alpha_c_agb =  3.6228894736842103\n",
      "y0_c_cc =  0.001376698\n",
      "zeta_c_cc =  0.0027235687157894737\n",
      "\n",
      "1\n",
      "alpha_c_agb =  7.245778947368421\n",
      "y0_c_cc =  0.0\n",
      "zeta_c_cc =  0.003991580031578948\n",
      "\n"
     ]
    }
   ],
   "source": [
    "for f in [0, 0.1, 0.3, 0.5, 1]:\n",
    "    print(f)\n",
    "    get_ana_settings(f)\n",
    "    print()"
   ]
  },
  {
   "cell_type": "code",
   "execution_count": 17,
   "id": "38a8f095-000c-4ca0-9d2f-578baa485692",
   "metadata": {},
   "outputs": [],
   "source": [
    "y = surp.yield_models.C_AGB_Model()"
   ]
  },
  {
   "cell_type": "code",
   "execution_count": 18,
   "id": "d3232146-5208-479e-ad84-3bf09dba3aac",
   "metadata": {},
   "outputs": [
    {
     "name": "stdout",
     "output_type": "stream",
     "text": [
      "(4.00e-04 + -2.00e-04(Z-Zo)), t_D=0.15, tau=0.30\n"
     ]
    }
   ],
   "source": [
    "print(y)"
   ]
  },
  {
   "cell_type": "code",
   "execution_count": 19,
   "id": "45886aad-c5f9-4531-9189-79bcb86f2e7b",
   "metadata": {},
   "outputs": [
    {
     "name": "stdout",
     "output_type": "stream",
     "text": [
      "(8.00e-04 + -4.00e-04(Z-Zo)), t_D=0.15, tau=0.30\n"
     ]
    }
   ],
   "source": [
    "print(2*y)"
   ]
  },
  {
   "cell_type": "code",
   "execution_count": 37,
   "id": "6b9e0a6c-ed09-4a9a-abb9-9d6dd0fab65d",
   "metadata": {},
   "outputs": [
    {
     "name": "stdout",
     "output_type": "stream",
     "text": [
      "(6.00e-05 + -3.00e-05(Z-Zo)), t_D=0.15, tau=0.30\n"
     ]
    }
   ],
   "source": [
    "print(0.15 * y)"
   ]
  },
  {
   "cell_type": "code",
   "execution_count": null,
   "id": "28612142-c461-4211-b61e-526ff9bc3fe4",
   "metadata": {},
   "outputs": [],
   "source": []
  }
 ],
 "metadata": {
  "kernelspec": {
   "display_name": "Python 3 (ipykernel)",
   "language": "python",
   "name": "python3"
  },
  "language_info": {
   "codemirror_mode": {
    "name": "ipython",
    "version": 3
   },
   "file_extension": ".py",
   "mimetype": "text/x-python",
   "name": "python",
   "nbconvert_exporter": "python",
   "pygments_lexer": "ipython3",
   "version": "3.11.9"
  }
 },
 "nbformat": 4,
 "nbformat_minor": 5
}
