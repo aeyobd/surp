{
 "cells": [
  {
   "cell_type": "markdown",
   "id": "0",
   "metadata": {},
   "source": [
    "# Yield calculator\n",
    "\n",
    "This notebook is used to estimate the CCSNe yields consistent with the present-day APOGEE trend in \\[C/Mg\\]-\\[Mg/H\\].\n",
    "\n",
    "uses the results from the MCMC fits to AGB integrated yields with "
   ]
  },
  {
   "cell_type": "code",
   "execution_count": null,
   "id": "1",
   "metadata": {},
   "outputs": [],
   "source": [
    "import toml\n",
    "import surp\n",
    "import vice\n",
    "\n",
    "import vice.yields.ccsne.settings as y_cc\n",
    "import vice.yields.agb.settings as Y_agb\n",
    "import vice.yields.sneia.settings as y_ia"
   ]
  },
  {
   "cell_type": "code",
   "execution_count": null,
   "id": "2",
   "metadata": {},
   "outputs": [],
   "source": [
    "surp.set_yields(verbose=False)"
   ]
  },
  {
   "cell_type": "markdown",
   "id": "3",
   "metadata": {},
   "source": [
    "# yield params calculator"
   ]
  },
  {
   "cell_type": "markdown",
   "id": "4",
   "metadata": {},
   "source": [
    "Given the desired f_agb or alpha, what are the required y0cc and alpha_agb values"
   ]
  },
  {
   "cell_type": "markdown",
   "id": "5",
   "metadata": {},
   "source": [
    "## inputs from mcmc fits"
   ]
  },
  {
   "cell_type": "code",
   "execution_count": null,
   "id": "6",
   "metadata": {},
   "outputs": [],
   "source": [
    "Y_C_AGB = {\n",
    "    \"cristallo11\": 3.8e-4,\n",
    "    \"ventura13\": 1.4e-4,\n",
    "    \"karakas16\": 2.8e-4,\n",
    "    \"pignatari16\": 8.3e-4\n",
    "}"
   ]
  },
  {
   "cell_type": "code",
   "execution_count": null,
   "id": "7",
   "metadata": {},
   "outputs": [],
   "source": [
    "for label, yagb in Y_C_AGB.items():\n",
    "    print(label, \"\\t\", yagb / Y_C_0)"
   ]
  },
  {
   "cell_type": "code",
   "execution_count": null,
   "id": "8",
   "metadata": {},
   "outputs": [],
   "source": [
    "ZETA_C_AGB = {\n",
    "    \"cristallo11\": -3.5e-4,\n",
    "    \"ventura13\": -9.4e-4,\n",
    "    \"karakas16\": -10.1e-4,\n",
    "    \"pignatari16\": -5.7e-4\n",
    "}"
   ]
  },
  {
   "cell_type": "code",
   "execution_count": null,
   "id": "9",
   "metadata": {},
   "outputs": [],
   "source": []
  },
  {
   "cell_type": "code",
   "execution_count": null,
   "id": "10",
   "metadata": {},
   "outputs": [],
   "source": [
    "# tuned to fruity\n",
    "y_mg = y_cc[\"mg\"]\n",
    "Y_C_0 = 2.75e-3 # pm 0.16\n",
    "ZETA_C_0 = 1.52e-3 # pm 0.32 (for fruity)\n",
    "A_C_0 = 2.73 # pm 0.5"
   ]
  },
  {
   "cell_type": "markdown",
   "id": "11",
   "metadata": {},
   "source": [
    "## Utils"
   ]
  },
  {
   "cell_type": "code",
   "execution_count": null,
   "id": "12",
   "metadata": {},
   "outputs": [],
   "source": [
    "def f_agb_to_alpha(y0_agb, f_agb):\n",
    "    y_agb = Y_C_0 * f_agb\n",
    "    return y_agb / y0_agb"
   ]
  },
  {
   "cell_type": "code",
   "execution_count": null,
   "id": "13",
   "metadata": {},
   "outputs": [],
   "source": [
    "def f_agb_to_settings(study, y0=None, f_agb=0.2):\n",
    "    if y0 is None:\n",
    "        y0 = Y_C_AGB[study]\n",
    "        \n",
    "    alpha = f_agb_to_alpha(y0, f_agb)\n",
    "    y0_cc = (1-f_agb) * Y_C_0\n",
    "    settings = dict(alpha_c_agb = alpha, y0_c_cc = y0_cc)\n",
    "    \n",
    "    print(toml.dumps(settings))"
   ]
  },
  {
   "cell_type": "code",
   "execution_count": null,
   "id": "14",
   "metadata": {},
   "outputs": [],
   "source": [
    "def f_agb_zeta_to_settings(study, *, y0_agb=None, zeta_agb=None, f_agb=0.2):\n",
    "    if y0_agb is None:\n",
    "        y0_agb = Y_C_AGB[study]\n",
    "    if zeta_agb is None:\n",
    "        zeta_agb = ZETA_C_AGB[study]\n",
    "        \n",
    "    alpha = f_agb_to_alpha(y0_agb, f_agb)\n",
    "    y0_cc = (1-f_agb) * Y_C_0\n",
    "    \n",
    "    zeta_cc = ZETA_C_0 - zeta_agb * alpha\n",
    "    \n",
    "    settings = dict(alpha_c_agb = alpha, y0_c_cc = y0_cc, zeta_c_cc=zeta_cc)\n",
    "    \n",
    "    print(toml.dumps(settings))"
   ]
  },
  {
   "cell_type": "code",
   "execution_count": null,
   "id": "15",
   "metadata": {},
   "outputs": [],
   "source": [
    "def alpha_to_settings(study, alpha):\n",
    "    f_agb =  alpha * Y_C_AGB[study] / Y_C_0\n",
    "    y0_cc = (1-f_agb) * Y_C_0\n",
    "    settings = dict(alpha_c_agb = alpha, y0_c_cc = y0_cc)\n",
    "    \n",
    "    print(toml.dumps(settings))"
   ]
  },
  {
   "cell_type": "code",
   "execution_count": null,
   "id": "16",
   "metadata": {},
   "outputs": [],
   "source": [
    "def enhance_fe_ia(factor):\n",
    "    \"\"\"if factor != 1, then enhances sne ia fe yield by factor but maintains same total fe yield, applied to params\"\"\"\n",
    "    if factor == 1:\n",
    "        return\n",
    "    y_fe = y_ia[\"fe\"] + y_cc[\"fe\"]\n",
    "    y_fe_ia = y_ia[\"fe\"] * factor\n",
    "    y_fe_cc = y_fe - y_fe_ia\n",
    "    \n",
    "    print(f\"y_fe_ia = {y_fe_ia:0.8f}\")\n",
    "    print(f\"y_fe_cc = {y_fe_cc:0.8f}\")\n",
    "    return y_fe_ia, y_fe_cc\n"
   ]
  },
  {
   "cell_type": "code",
   "execution_count": null,
   "id": "17",
   "metadata": {},
   "outputs": [],
   "source": [
    "def m_factor_to_settings(Y_c_agb=\"cristallo11\"):\n",
    "    surp.set_yields(y_c_cc=0, Y_c_agb=Y_c_agb, kwargs_c_agb = dict(mass_factor=m), verbose=False)\n",
    "    y_agb = surp.yields.calc_y(surp.Z_SUN)\n",
    "    \n",
    "    print(y_cc_0 - surp.yields.calc_y(surp.Z_SUN) + y_agb_0)"
   ]
  },
  {
   "cell_type": "markdown",
   "id": "18",
   "metadata": {},
   "source": [
    "## Fruity"
   ]
  },
  {
   "cell_type": "code",
   "execution_count": null,
   "id": "19",
   "metadata": {},
   "outputs": [],
   "source": [
    "alpha_to_settings(\"cristallo11\", alpha=1.449)"
   ]
  },
  {
   "cell_type": "code",
   "execution_count": null,
   "id": "20",
   "metadata": {},
   "outputs": [],
   "source": [
    "enhance_fe_ia(1.2)"
   ]
  },
  {
   "cell_type": "code",
   "execution_count": null,
   "id": "21",
   "metadata": {},
   "outputs": [],
   "source": [
    "for f in [0, 0.1, 0.2, 0.3, 0.4, 0.5, 0.8, 1]:\n",
    "    print(\"f_agb = \", f)\n",
    "    f_agb_zeta_to_settings(\"cristallo11\", f_agb=f)\n",
    "    print()"
   ]
  },
  {
   "cell_type": "markdown",
   "id": "22",
   "metadata": {},
   "source": [
    "## ATON"
   ]
  },
  {
   "cell_type": "code",
   "execution_count": null,
   "id": "23",
   "metadata": {},
   "outputs": [],
   "source": [
    "f_agb_zeta_to_settings(\"ventura13\", f_agb=0.2)\n"
   ]
  },
  {
   "cell_type": "code",
   "execution_count": null,
   "id": "24",
   "metadata": {},
   "outputs": [],
   "source": [
    "alpha_to_settings(\"ventura13\", alpha=2)\n",
    "print()\n",
    "alpha_to_settings(\"ventura13\", alpha=3)"
   ]
  },
  {
   "cell_type": "markdown",
   "id": "25",
   "metadata": {},
   "source": [
    "## Monash"
   ]
  },
  {
   "cell_type": "code",
   "execution_count": null,
   "id": "26",
   "metadata": {},
   "outputs": [],
   "source": [
    "f_agb_zeta_to_settings(\"karakas16\", f_agb=0.2)\n"
   ]
  },
  {
   "cell_type": "code",
   "execution_count": null,
   "id": "27",
   "metadata": {},
   "outputs": [],
   "source": [
    "for f in [0, 0.1, 0.3, 0.4, 0.5, 1]:\n",
    "    print(f)\n",
    "    f_agb_zeta_to_settings(\"karakas16\", f_agb=f)"
   ]
  },
  {
   "cell_type": "markdown",
   "id": "28",
   "metadata": {},
   "source": [
    "## NuGrid"
   ]
  },
  {
   "cell_type": "code",
   "execution_count": null,
   "id": "29",
   "metadata": {},
   "outputs": [],
   "source": [
    "f_agb_zeta_to_settings(\"pignatari16\", f_agb=0.2)"
   ]
  },
  {
   "cell_type": "code",
   "execution_count": null,
   "id": "30",
   "metadata": {},
   "outputs": [],
   "source": [
    "for f in [0, 0.1, 0.3, 0.5, 1]:\n",
    "    f_agb_zeta_to_settings(\"pignatari16\", f_agb=f)"
   ]
  },
  {
   "cell_type": "markdown",
   "id": "31",
   "metadata": {},
   "source": [
    "### Mass factor"
   ]
  },
  {
   "cell_type": "code",
   "execution_count": null,
   "id": "32",
   "metadata": {},
   "outputs": [],
   "source": [
    "for m in [0.5, 0.8, 1, 1.5, 2]:\n",
    "    surp.set_yields(y_c_cc=0, kwargs_c_agb = dict(mass_factor=m), verbose=False)\n",
    "    print(m)\n",
    "    print(surp.yields.calc_y(surp.Z_SUN))\n",
    "    print(y_cc_0 - surp.yields.calc_y(surp.Z_SUN) + y_agb_0)"
   ]
  },
  {
   "cell_type": "code",
   "execution_count": null,
   "id": "33",
   "metadata": {},
   "outputs": [],
   "source": [
    "y_agb_0 = 0.00046798503839536314\n",
    "y_cc_0 = 0.0022027"
   ]
  },
  {
   "cell_type": "code",
   "execution_count": null,
   "id": "34",
   "metadata": {},
   "outputs": [],
   "source": [
    "for m in [0.5, 0.8, 1, 1.5, 2]:\n",
    "   "
   ]
  },
  {
   "cell_type": "markdown",
   "id": "35",
   "metadata": {
    "jp-MarkdownHeadingCollapsed": true
   },
   "source": [
    "## Analytic"
   ]
  },
  {
   "cell_type": "code",
   "execution_count": null,
   "id": "36",
   "metadata": {},
   "outputs": [],
   "source": [
    "y0_agb_a = Y_C_AGB[\"cristallo11\"]\n",
    "y0_agb_a"
   ]
  },
  {
   "cell_type": "code",
   "execution_count": null,
   "id": "37",
   "metadata": {},
   "outputs": [],
   "source": [
    "zeta_agb_a = ZETA_C_AGB[\"cristallo11\"]\n",
    "zeta_agb_a"
   ]
  },
  {
   "cell_type": "code",
   "execution_count": null,
   "id": "38",
   "metadata": {},
   "outputs": [],
   "source": [
    "def get_alpha(f_agb=0.2, y0_agb=y0_agb_a):\n",
    "    return Y_C_0 / y0_agb * f_agb"
   ]
  },
  {
   "cell_type": "code",
   "execution_count": null,
   "id": "39",
   "metadata": {},
   "outputs": [],
   "source": [
    "def get_zeta_cc(alpha, zeta=zeta_agb_a):\n",
    "    return ZETA_C_0 - alpha*zeta"
   ]
  },
  {
   "cell_type": "code",
   "execution_count": null,
   "id": "40",
   "metadata": {},
   "outputs": [],
   "source": [
    "def get_ana_settings(f, zeta=zeta_agb_a):\n",
    "    alpha = get_alpha(f)\n",
    "    print(\"alpha_c_agb = \", alpha)\n",
    "    print(\"y0_c_cc = \", Y_C_0 - alpha * y0_agb_a)\n",
    "    print(\"zeta_c_cc = \", get_zeta_cc(alpha, zeta))"
   ]
  },
  {
   "cell_type": "code",
   "execution_count": null,
   "id": "41",
   "metadata": {},
   "outputs": [],
   "source": [
    "get_ana_settings(0.2)"
   ]
  },
  {
   "cell_type": "code",
   "execution_count": null,
   "id": "42",
   "metadata": {},
   "outputs": [],
   "source": [
    "get_ana_settings(0.2, 0)"
   ]
  },
  {
   "cell_type": "code",
   "execution_count": null,
   "id": "43",
   "metadata": {},
   "outputs": [],
   "source": [
    "get_ana_settings(0.2, -0.0007)"
   ]
  },
  {
   "cell_type": "code",
   "execution_count": null,
   "id": "44",
   "metadata": {},
   "outputs": [],
   "source": [
    "for f in [0, 0.1, 0.3, 0.5, 1]:\n",
    "    print(f)\n",
    "    get_ana_settings(f)\n",
    "    print()"
   ]
  },
  {
   "cell_type": "code",
   "execution_count": null,
   "id": "45",
   "metadata": {},
   "outputs": [],
   "source": [
    "y = surp.yield_models.C_AGB_Model()"
   ]
  },
  {
   "cell_type": "code",
   "execution_count": null,
   "id": "46",
   "metadata": {},
   "outputs": [],
   "source": [
    "print(y)"
   ]
  },
  {
   "cell_type": "code",
   "execution_count": null,
   "id": "47",
   "metadata": {},
   "outputs": [],
   "source": [
    "print(2*y)"
   ]
  },
  {
   "cell_type": "code",
   "execution_count": null,
   "id": "48",
   "metadata": {},
   "outputs": [],
   "source": [
    "print(0.15 * y)"
   ]
  },
  {
   "cell_type": "code",
   "execution_count": null,
   "id": "49",
   "metadata": {},
   "outputs": [],
   "source": []
  }
 ],
 "metadata": {
  "kernelspec": {
   "display_name": "Python 3 (ipykernel)",
   "language": "python",
   "name": "python3"
  },
  "language_info": {
   "codemirror_mode": {
    "name": "ipython",
    "version": 3
   },
   "file_extension": ".py",
   "mimetype": "text/x-python",
   "name": "python",
   "nbconvert_exporter": "python",
   "pygments_lexer": "ipython3",
   "version": "3.11.9"
  }
 },
 "nbformat": 4,
 "nbformat_minor": 5
}
