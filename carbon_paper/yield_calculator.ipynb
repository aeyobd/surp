{
 "cells": [
  {
   "cell_type": "markdown",
   "id": "0",
   "metadata": {},
   "source": [
    "# Yield calculator\n",
    "\n",
    "This notebook is used to estimate the CCSNe yields consistent with the present-day APOGEE trend in \\[C/Mg\\]-\\[Mg/H\\].\n",
    "\n",
    "uses the results from the MCMC fits to AGB integrated yields with "
   ]
  },
  {
   "cell_type": "code",
   "execution_count": 1,
   "id": "1",
   "metadata": {},
   "outputs": [
    {
     "name": "stderr",
     "output_type": "stream",
     "text": [
      "/astro/dboyea/.local/lib/python3.11/site-packages/vice-1.4.0.dev0-py3.11-linux-x86_64.egg/vice/__init__.py:141: UserWarning: Using un-released version of VICE\n",
      "  warnings.warn(\"Using un-released version of VICE\", UserWarning)\n"
     ]
    }
   ],
   "source": [
    "import toml\n",
    "import surp\n",
    "import vice\n",
    "\n",
    "import vice.yields.ccsne.settings as y_cc\n",
    "import vice.yields.agb.settings as Y_agb\n",
    "import vice.yields.sneia.settings as y_ia"
   ]
  },
  {
   "cell_type": "code",
   "execution_count": 2,
   "id": "2",
   "metadata": {},
   "outputs": [],
   "source": [
    "surp.set_yields(verbose=False)"
   ]
  },
  {
   "cell_type": "markdown",
   "id": "3",
   "metadata": {},
   "source": [
    "# yield params calculator"
   ]
  },
  {
   "cell_type": "markdown",
   "id": "4",
   "metadata": {},
   "source": [
    "Given the desired f_agb or alpha, what are the required y0cc and alpha_agb values"
   ]
  },
  {
   "cell_type": "markdown",
   "id": "5",
   "metadata": {},
   "source": [
    "## inputs from mcmc fits"
   ]
  },
  {
   "cell_type": "code",
   "execution_count": 3,
   "id": "2e436d39-8734-4f6d-938f-b61b8bded910",
   "metadata": {},
   "outputs": [],
   "source": [
    "import pandas as pd"
   ]
  },
  {
   "cell_type": "code",
   "execution_count": 4,
   "id": "5d9df6e4-4347-47b1-8cf6-3dbf550b2f69",
   "metadata": {},
   "outputs": [
    {
     "data": {
      "text/html": [
       "<div>\n",
       "<style scoped>\n",
       "    .dataframe tbody tr th:only-of-type {\n",
       "        vertical-align: middle;\n",
       "    }\n",
       "\n",
       "    .dataframe tbody tr th {\n",
       "        vertical-align: top;\n",
       "    }\n",
       "\n",
       "    .dataframe thead th {\n",
       "        text-align: right;\n",
       "    }\n",
       "</style>\n",
       "<table border=\"1\" class=\"dataframe\">\n",
       "  <thead>\n",
       "    <tr style=\"text-align: right;\">\n",
       "      <th></th>\n",
       "      <th>y0</th>\n",
       "      <th>zeta0</th>\n",
       "      <th>zeta0_err</th>\n",
       "      <th>zeta1</th>\n",
       "      <th>zeta1_err</th>\n",
       "    </tr>\n",
       "    <tr>\n",
       "      <th>model</th>\n",
       "      <th></th>\n",
       "      <th></th>\n",
       "      <th></th>\n",
       "      <th></th>\n",
       "      <th></th>\n",
       "    </tr>\n",
       "  </thead>\n",
       "  <tbody>\n",
       "    <tr>\n",
       "      <th>fruity</th>\n",
       "      <td>3.110000e-04</td>\n",
       "      <td>0.00037</td>\n",
       "      <td>0.00003</td>\n",
       "      <td>-0.00035</td>\n",
       "      <td>0.00003</td>\n",
       "    </tr>\n",
       "    <tr>\n",
       "      <th>aton</th>\n",
       "      <td>-9.000000e-07</td>\n",
       "      <td>0.00010</td>\n",
       "      <td>0.00019</td>\n",
       "      <td>-0.00100</td>\n",
       "      <td>0.00030</td>\n",
       "    </tr>\n",
       "    <tr>\n",
       "      <th>monash</th>\n",
       "      <td>2.960000e-04</td>\n",
       "      <td>0.00023</td>\n",
       "      <td>0.00005</td>\n",
       "      <td>-0.00110</td>\n",
       "      <td>0.00010</td>\n",
       "    </tr>\n",
       "    <tr>\n",
       "      <th>nugrid</th>\n",
       "      <td>9.250000e-04</td>\n",
       "      <td>0.00081</td>\n",
       "      <td>0.00019</td>\n",
       "      <td>-0.00046</td>\n",
       "      <td>0.00017</td>\n",
       "    </tr>\n",
       "    <tr>\n",
       "      <th>fruity_mf0.5</th>\n",
       "      <td>2.830000e-04</td>\n",
       "      <td>0.00033</td>\n",
       "      <td>0.00002</td>\n",
       "      <td>-0.00018</td>\n",
       "      <td>0.00002</td>\n",
       "    </tr>\n",
       "    <tr>\n",
       "      <th>fruity_mf0.7</th>\n",
       "      <td>3.600000e-04</td>\n",
       "      <td>0.00042</td>\n",
       "      <td>0.00003</td>\n",
       "      <td>-0.00031</td>\n",
       "      <td>0.00003</td>\n",
       "    </tr>\n",
       "    <tr>\n",
       "      <th>fruity_mf1.5</th>\n",
       "      <td>3.110000e-04</td>\n",
       "      <td>0.00034</td>\n",
       "      <td>0.00002</td>\n",
       "      <td>-0.00030</td>\n",
       "      <td>0.00002</td>\n",
       "    </tr>\n",
       "  </tbody>\n",
       "</table>\n",
       "</div>"
      ],
      "text/plain": [
       "                        y0    zeta0  zeta0_err    zeta1  zeta1_err\n",
       "model                                                             \n",
       "fruity        3.110000e-04  0.00037    0.00003 -0.00035    0.00003\n",
       "aton         -9.000000e-07  0.00010    0.00019 -0.00100    0.00030\n",
       "monash        2.960000e-04  0.00023    0.00005 -0.00110    0.00010\n",
       "nugrid        9.250000e-04  0.00081    0.00019 -0.00046    0.00017\n",
       "fruity_mf0.5  2.830000e-04  0.00033    0.00002 -0.00018    0.00002\n",
       "fruity_mf0.7  3.600000e-04  0.00042    0.00003 -0.00031    0.00003\n",
       "fruity_mf1.5  3.110000e-04  0.00034    0.00002 -0.00030    0.00002"
      ]
     },
     "execution_count": 4,
     "metadata": {},
     "output_type": "execute_result"
    }
   ],
   "source": [
    "df = pd.read_csv(\"yield_fits.tsv\", sep=r\"\\s+\", comment=\"#\")\n",
    "df.set_index(\"model\", inplace=True)\n",
    "df = df * 1e-4\n",
    "df"
   ]
  },
  {
   "cell_type": "code",
   "execution_count": 5,
   "id": "10",
   "metadata": {},
   "outputs": [],
   "source": [
    "# tuned to fruity\n",
    "y_mg = y_cc[\"mg\"]\n",
    "Y_C_0 = 2.79e-3 # pm 0.16\n",
    "ZETA_C_0 = 1.43e-3 # pm 0.32 (for fruity)\n",
    "A_C_0 = 2.58 # pm 0.5"
   ]
  },
  {
   "cell_type": "code",
   "execution_count": 6,
   "id": "6",
   "metadata": {},
   "outputs": [],
   "source": [
    "Y_C_AGB = {\n",
    "    \"cristallo11\": df.loc[\"fruity\", \"y0\"],\n",
    "    \"ventura13\":  df.loc[\"aton\", \"y0\"],\n",
    "    \"karakas16\":  df.loc[\"monash\", \"y0\"],\n",
    "    \"pignatari16\":  df.loc[\"nugrid\", \"y0\"],\n",
    "    \"cristallo11_mf0.5\": df.loc[\"fruity_mf0.5\", \"y0\"],\n",
    "    \"cristallo11_mf0.7\": df.loc[\"fruity_mf0.7\", \"y0\"],\n",
    "    \"cristallo11_mf1.5\": df.loc[\"fruity_mf1.5\", \"y0\"],\n",
    "\n",
    "}"
   ]
  },
  {
   "cell_type": "code",
   "execution_count": 7,
   "id": "7",
   "metadata": {},
   "outputs": [
    {
     "name": "stdout",
     "output_type": "stream",
     "text": [
      "cristallo11 \t 0.11146953405017922\n",
      "ventura13 \t -0.0003225806451612903\n",
      "karakas16 \t 0.1060931899641577\n",
      "pignatari16 \t 0.33154121863799285\n",
      "cristallo11_mf0.5 \t 0.1014336917562724\n",
      "cristallo11_mf0.7 \t 0.12903225806451615\n",
      "cristallo11_mf1.5 \t 0.11146953405017922\n"
     ]
    }
   ],
   "source": [
    "for label, yagb in Y_C_AGB.items():\n",
    "    print(label, \"\\t\", yagb / Y_C_0)"
   ]
  },
  {
   "cell_type": "code",
   "execution_count": 8,
   "id": "8",
   "metadata": {},
   "outputs": [],
   "source": [
    "ZETA_C_AGB = {\n",
    "    \"cristallo11\":  df.loc[\"fruity\", \"zeta1\"],\n",
    "    \"ventura13\":df.loc[\"aton\", \"zeta1\"],\n",
    "    \"karakas16\": df.loc[\"monash\", \"zeta1\"],\n",
    "    \"pignatari16\": df.loc[\"nugrid\", \"zeta1\"],\n",
    "    \"cristallo11_mf0.5\": df.loc[\"fruity_mf0.5\", \"zeta1\"],\n",
    "    \"cristallo11_mf0.7\": df.loc[\"fruity_mf0.7\", \"zeta1\"],\n",
    "    \"cristallo11_mf1.5\": df.loc[\"fruity_mf1.5\", \"zeta1\"],\n",
    "}"
   ]
  },
  {
   "cell_type": "code",
   "execution_count": null,
   "id": "9",
   "metadata": {},
   "outputs": [],
   "source": []
  },
  {
   "cell_type": "markdown",
   "id": "11",
   "metadata": {},
   "source": [
    "## Utils"
   ]
  },
  {
   "cell_type": "code",
   "execution_count": 9,
   "id": "12",
   "metadata": {},
   "outputs": [],
   "source": [
    "def f_agb_to_alpha(y0_agb, f_agb):\n",
    "    y_agb = Y_C_0 * f_agb\n",
    "    return y_agb / y0_agb"
   ]
  },
  {
   "cell_type": "code",
   "execution_count": 10,
   "id": "13",
   "metadata": {},
   "outputs": [],
   "source": [
    "def f_agb_to_settings(study, y0=None, f_agb=0.2):\n",
    "    if y0 is None:\n",
    "        y0 = Y_C_AGB[study]\n",
    "        \n",
    "    alpha = f_agb_to_alpha(y0, f_agb)\n",
    "    y0_cc = (1-f_agb) * Y_C_0\n",
    "    settings = dict(alpha_c_agb = float(alpha), y0_c_cc = float(y0_cc))\n",
    "    \n",
    "    print(toml.dumps(settings))"
   ]
  },
  {
   "cell_type": "code",
   "execution_count": 11,
   "id": "14",
   "metadata": {},
   "outputs": [],
   "source": [
    "def f_agb_zeta_to_settings(study, *, y0_agb=None, zeta_agb=None, f_agb=0.2):\n",
    "    if y0_agb is None:\n",
    "        y0_agb = Y_C_AGB[study]\n",
    "    if zeta_agb is None:\n",
    "        zeta_agb = ZETA_C_AGB[study]\n",
    "        \n",
    "    alpha = f_agb_to_alpha(y0_agb, f_agb)\n",
    "    y0_cc = (1-f_agb) * Y_C_0\n",
    "    \n",
    "    zeta_cc = ZETA_C_0 - zeta_agb * alpha\n",
    "    \n",
    "    settings = dict(alpha_c_agb = float(alpha), y0_c_cc = float(y0_cc), zeta_c_cc=float(zeta_cc))\n",
    "    \n",
    "    print(toml.dumps(settings))"
   ]
  },
  {
   "cell_type": "code",
   "execution_count": 12,
   "id": "15",
   "metadata": {},
   "outputs": [],
   "source": [
    "def alpha_to_settings(study, alpha):\n",
    "    f_agb =  alpha * Y_C_AGB[study] / Y_C_0\n",
    "    y0_cc = (1-f_agb) * Y_C_0\n",
    "    settings = dict(alpha_c_agb = alpha, y0_c_cc = y0_cc)\n",
    "    \n",
    "    print(toml.dumps(settings))"
   ]
  },
  {
   "cell_type": "code",
   "execution_count": 13,
   "id": "16",
   "metadata": {},
   "outputs": [],
   "source": [
    "def enhance_fe_ia(factor):\n",
    "    \"\"\"if factor != 1, then enhances sne ia fe yield by factor but maintains same total fe yield, applied to params\"\"\"\n",
    "    if factor == 1:\n",
    "        return\n",
    "    y_fe = y_ia[\"fe\"] + y_cc[\"fe\"]\n",
    "    y_fe_ia = y_ia[\"fe\"] * factor\n",
    "    y_fe_cc = y_fe - y_fe_ia\n",
    "    \n",
    "    print(f\"y_fe_ia = {y_fe_ia:0.8f}\")\n",
    "    print(f\"y_fe_cc = {y_fe_cc:0.8f}\")\n",
    "    return y_fe_ia, y_fe_cc\n"
   ]
  },
  {
   "cell_type": "code",
   "execution_count": 14,
   "id": "17",
   "metadata": {},
   "outputs": [],
   "source": [
    "def m_factor_to_settings(Y_c_agb=\"cristallo11\"):\n",
    "    surp.set_yields(y_c_cc=0, Y_c_agb=Y_c_agb, kwargs_c_agb = dict(mass_factor=m), verbose=False)\n",
    "    y_agb = surp.yields.calc_y(surp.Z_SUN)\n",
    "    \n",
    "    print(y_cc_0 - surp.yields.calc_y(surp.Z_SUN) + y_agb_0)"
   ]
  },
  {
   "cell_type": "markdown",
   "id": "18",
   "metadata": {},
   "source": [
    "## Fruity"
   ]
  },
  {
   "cell_type": "code",
   "execution_count": 15,
   "id": "19",
   "metadata": {},
   "outputs": [
    {
     "name": "stdout",
     "output_type": "stream",
     "text": [
      "alpha_c_agb = 1.449\n",
      "y0_c_cc = \"np.float64(0.002339361)\"\n",
      "\n"
     ]
    }
   ],
   "source": [
    "alpha_to_settings(\"cristallo11\", alpha=1.449)"
   ]
  },
  {
   "cell_type": "code",
   "execution_count": 16,
   "id": "20",
   "metadata": {},
   "outputs": [
    {
     "name": "stdout",
     "output_type": "stream",
     "text": [
      "y_fe_ia = 0.00092400\n",
      "y_fe_cc = 0.00031900\n"
     ]
    },
    {
     "data": {
      "text/plain": [
       "(0.0009239999999999999, 0.00031900000000000006)"
      ]
     },
     "execution_count": 16,
     "metadata": {},
     "output_type": "execute_result"
    }
   ],
   "source": [
    "enhance_fe_ia(1.2)"
   ]
  },
  {
   "cell_type": "code",
   "execution_count": 17,
   "id": "21",
   "metadata": {},
   "outputs": [
    {
     "name": "stdout",
     "output_type": "stream",
     "text": [
      "f_agb =  0\n",
      "alpha_c_agb = 0.0\n",
      "y0_c_cc = 0.00279\n",
      "zeta_c_cc = 0.00143\n",
      "\n",
      "\n",
      "f_agb =  0.1\n",
      "alpha_c_agb = 0.8971061093247588\n",
      "y0_c_cc = 0.002511\n",
      "zeta_c_cc = 0.0017439871382636655\n",
      "\n",
      "\n",
      "f_agb =  0.2\n",
      "alpha_c_agb = 1.7942122186495175\n",
      "y0_c_cc = 0.002232\n",
      "zeta_c_cc = 0.002057974276527331\n",
      "\n",
      "\n",
      "f_agb =  0.3\n",
      "alpha_c_agb = 2.691318327974276\n",
      "y0_c_cc = 0.0019529999999999999\n",
      "zeta_c_cc = 0.002371961414790997\n",
      "\n",
      "\n",
      "f_agb =  0.4\n",
      "alpha_c_agb = 3.588424437299035\n",
      "y0_c_cc = 0.001674\n",
      "zeta_c_cc = 0.0026859485530546625\n",
      "\n",
      "\n",
      "f_agb =  0.5\n",
      "alpha_c_agb = 4.485530546623794\n",
      "y0_c_cc = 0.001395\n",
      "zeta_c_cc = 0.0029999356913183277\n",
      "\n",
      "\n",
      "f_agb =  0.8\n",
      "alpha_c_agb = 7.17684887459807\n",
      "y0_c_cc = 0.0005579999999999999\n",
      "zeta_c_cc = 0.003941897106109324\n",
      "\n",
      "\n",
      "f_agb =  1\n",
      "alpha_c_agb = 8.971061093247588\n",
      "y0_c_cc = 0.0\n",
      "zeta_c_cc = 0.0045698713826366555\n",
      "\n",
      "\n"
     ]
    }
   ],
   "source": [
    "for f in [0, 0.1, 0.2, 0.3, 0.4, 0.5, 0.8, 1]:\n",
    "    print(\"f_agb = \", f)\n",
    "    f_agb_zeta_to_settings(\"cristallo11\", f_agb=f)\n",
    "    print()"
   ]
  },
  {
   "cell_type": "code",
   "execution_count": 19,
   "id": "b239ba11-a1e1-4164-a47d-b4f6b63cf433",
   "metadata": {},
   "outputs": [
    {
     "name": "stdout",
     "output_type": "stream",
     "text": [
      "mf =  0.5\n",
      "alpha_c_agb = 3.1251943462897525\n",
      "y0_c_cc = 0.00190557\n",
      "zeta_c_cc = 0.0019925349823321555\n",
      "\n",
      "\n",
      "mf =  0.7\n",
      "alpha_c_agb = 2.4567499999999995\n",
      "y0_c_cc = 0.00190557\n",
      "zeta_c_cc = 0.0021915924999999998\n",
      "\n",
      "\n",
      "mf =  1.5\n",
      "alpha_c_agb = 2.8438263665594854\n",
      "y0_c_cc = 0.00190557\n",
      "zeta_c_cc = 0.002283147909967846\n",
      "\n",
      "\n"
     ]
    }
   ],
   "source": [
    "for mf in [0.5, 0.7, 1.5]:\n",
    "    print(\"mf = \", mf)\n",
    "    f_agb_zeta_to_settings(f\"cristallo11_mf{mf}\", f_agb=0.317)\n",
    "    print()"
   ]
  },
  {
   "cell_type": "markdown",
   "id": "22",
   "metadata": {},
   "source": [
    "## ATON"
   ]
  },
  {
   "cell_type": "code",
   "execution_count": 18,
   "id": "23",
   "metadata": {},
   "outputs": [
    {
     "name": "stdout",
     "output_type": "stream",
     "text": [
      "alpha_c_agb = \"np.float64(5.58)\"\n",
      "y0_c_cc = 0.002232\n",
      "zeta_c_cc = \"np.float64(0.00701)\"\n",
      "\n"
     ]
    }
   ],
   "source": [
    "f_agb_zeta_to_settings(\"ventura13\", f_agb=0.2)\n"
   ]
  },
  {
   "cell_type": "code",
   "execution_count": 19,
   "id": "24",
   "metadata": {},
   "outputs": [
    {
     "name": "stdout",
     "output_type": "stream",
     "text": [
      "alpha_c_agb = 2\n",
      "y0_c_cc = \"np.float64(0.00259)\"\n",
      "\n",
      "\n",
      "alpha_c_agb = 3\n",
      "y0_c_cc = \"np.float64(0.00249)\"\n",
      "\n"
     ]
    }
   ],
   "source": [
    "alpha_to_settings(\"ventura13\", alpha=2)\n",
    "print()\n",
    "alpha_to_settings(\"ventura13\", alpha=3)"
   ]
  },
  {
   "cell_type": "markdown",
   "id": "25",
   "metadata": {},
   "source": [
    "## Monash"
   ]
  },
  {
   "cell_type": "code",
   "execution_count": 20,
   "id": "26",
   "metadata": {},
   "outputs": [
    {
     "name": "stdout",
     "output_type": "stream",
     "text": [
      "alpha_c_agb = \"np.float64(2.4260869565217393)\"\n",
      "y0_c_cc = 0.002232\n",
      "zeta_c_cc = \"np.float64(0.004098695652173913)\"\n",
      "\n"
     ]
    }
   ],
   "source": [
    "f_agb_zeta_to_settings(\"karakas16\", f_agb=0.2)\n"
   ]
  },
  {
   "cell_type": "code",
   "execution_count": 21,
   "id": "27",
   "metadata": {},
   "outputs": [
    {
     "name": "stdout",
     "output_type": "stream",
     "text": [
      "0\n",
      "alpha_c_agb = \"np.float64(0.0)\"\n",
      "y0_c_cc = 0.00279\n",
      "zeta_c_cc = \"np.float64(0.00143)\"\n",
      "\n",
      "0.1\n",
      "alpha_c_agb = \"np.float64(1.2130434782608697)\"\n",
      "y0_c_cc = 0.002511\n",
      "zeta_c_cc = \"np.float64(0.002764347826086957)\"\n",
      "\n",
      "0.3\n",
      "alpha_c_agb = \"np.float64(3.639130434782609)\"\n",
      "y0_c_cc = 0.0019529999999999999\n",
      "zeta_c_cc = \"np.float64(0.0054330434782608695)\"\n",
      "\n",
      "0.4\n",
      "alpha_c_agb = \"np.float64(4.852173913043479)\"\n",
      "y0_c_cc = 0.001674\n",
      "zeta_c_cc = \"np.float64(0.006767391304347827)\"\n",
      "\n",
      "0.5\n",
      "alpha_c_agb = \"np.float64(6.065217391304349)\"\n",
      "y0_c_cc = 0.001395\n",
      "zeta_c_cc = \"np.float64(0.008101739130434785)\"\n",
      "\n",
      "1\n",
      "alpha_c_agb = \"np.float64(12.130434782608697)\"\n",
      "y0_c_cc = 0.0\n",
      "zeta_c_cc = \"np.float64(0.014773478260869569)\"\n",
      "\n"
     ]
    }
   ],
   "source": [
    "for f in [0, 0.1, 0.3, 0.4, 0.5, 1]:\n",
    "    print(f)\n",
    "    f_agb_zeta_to_settings(\"karakas16\", f_agb=f)"
   ]
  },
  {
   "cell_type": "markdown",
   "id": "28",
   "metadata": {},
   "source": [
    "## NuGrid"
   ]
  },
  {
   "cell_type": "code",
   "execution_count": 22,
   "id": "29",
   "metadata": {},
   "outputs": [
    {
     "name": "stdout",
     "output_type": "stream",
     "text": [
      "alpha_c_agb = \"np.float64(0.6888888888888889)\"\n",
      "y0_c_cc = 0.002232\n",
      "zeta_c_cc = \"np.float64(0.001746888888888889)\"\n",
      "\n"
     ]
    }
   ],
   "source": [
    "f_agb_zeta_to_settings(\"pignatari16\", f_agb=0.2)"
   ]
  },
  {
   "cell_type": "code",
   "execution_count": 23,
   "id": "30",
   "metadata": {},
   "outputs": [
    {
     "name": "stdout",
     "output_type": "stream",
     "text": [
      "alpha_c_agb = \"np.float64(0.0)\"\n",
      "y0_c_cc = 0.00279\n",
      "zeta_c_cc = \"np.float64(0.00143)\"\n",
      "\n",
      "alpha_c_agb = \"np.float64(0.34444444444444444)\"\n",
      "y0_c_cc = 0.002511\n",
      "zeta_c_cc = \"np.float64(0.0015884444444444444)\"\n",
      "\n",
      "alpha_c_agb = \"np.float64(1.0333333333333334)\"\n",
      "y0_c_cc = 0.0019529999999999999\n",
      "zeta_c_cc = \"np.float64(0.0019053333333333335)\"\n",
      "\n",
      "alpha_c_agb = \"np.float64(1.7222222222222223)\"\n",
      "y0_c_cc = 0.001395\n",
      "zeta_c_cc = \"np.float64(0.0022222222222222222)\"\n",
      "\n",
      "alpha_c_agb = \"np.float64(3.4444444444444446)\"\n",
      "y0_c_cc = 0.0\n",
      "zeta_c_cc = \"np.float64(0.0030144444444444446)\"\n",
      "\n"
     ]
    }
   ],
   "source": [
    "for f in [0, 0.1, 0.3, 0.5, 1]:\n",
    "    f_agb_zeta_to_settings(\"pignatari16\", f_agb=f)"
   ]
  },
  {
   "cell_type": "markdown",
   "id": "35",
   "metadata": {
    "jp-MarkdownHeadingCollapsed": true
   },
   "source": [
    "## Analytic"
   ]
  },
  {
   "cell_type": "code",
   "execution_count": null,
   "id": "36",
   "metadata": {},
   "outputs": [],
   "source": [
    "y0_agb_a = Y_C_AGB[\"cristallo11\"]\n",
    "y0_agb_a"
   ]
  },
  {
   "cell_type": "code",
   "execution_count": null,
   "id": "37",
   "metadata": {},
   "outputs": [],
   "source": [
    "zeta_agb_a = ZETA_C_AGB[\"cristallo11\"]\n",
    "zeta_agb_a"
   ]
  },
  {
   "cell_type": "code",
   "execution_count": null,
   "id": "38",
   "metadata": {},
   "outputs": [],
   "source": [
    "def get_alpha(f_agb=0.2, y0_agb=y0_agb_a):\n",
    "    return Y_C_0 / y0_agb * f_agb"
   ]
  },
  {
   "cell_type": "code",
   "execution_count": null,
   "id": "39",
   "metadata": {},
   "outputs": [],
   "source": [
    "def get_zeta_cc(alpha, zeta=zeta_agb_a):\n",
    "    return ZETA_C_0 - alpha*zeta"
   ]
  },
  {
   "cell_type": "code",
   "execution_count": null,
   "id": "40",
   "metadata": {},
   "outputs": [],
   "source": [
    "def get_ana_settings(f, zeta=zeta_agb_a):\n",
    "    alpha = get_alpha(f)\n",
    "    print(\"alpha_c_agb = \", alpha)\n",
    "    print(\"y0_c_cc = \", Y_C_0 - alpha * y0_agb_a)\n",
    "    print(\"zeta_c_cc = \", get_zeta_cc(alpha, zeta))"
   ]
  },
  {
   "cell_type": "code",
   "execution_count": null,
   "id": "41",
   "metadata": {},
   "outputs": [],
   "source": [
    "get_ana_settings(0.2)"
   ]
  },
  {
   "cell_type": "code",
   "execution_count": null,
   "id": "42",
   "metadata": {},
   "outputs": [],
   "source": [
    "get_ana_settings(0.2, 0)"
   ]
  },
  {
   "cell_type": "code",
   "execution_count": null,
   "id": "43",
   "metadata": {},
   "outputs": [],
   "source": [
    "get_ana_settings(0.2, -0.0007)"
   ]
  },
  {
   "cell_type": "code",
   "execution_count": null,
   "id": "44",
   "metadata": {},
   "outputs": [],
   "source": [
    "for f in [0, 0.1, 0.3, 0.5, 1]:\n",
    "    print(f)\n",
    "    get_ana_settings(f)\n",
    "    print()"
   ]
  },
  {
   "cell_type": "code",
   "execution_count": null,
   "id": "45",
   "metadata": {},
   "outputs": [],
   "source": [
    "y = surp.yield_models.C_AGB_Model()"
   ]
  },
  {
   "cell_type": "code",
   "execution_count": null,
   "id": "46",
   "metadata": {},
   "outputs": [],
   "source": [
    "print(y)"
   ]
  },
  {
   "cell_type": "code",
   "execution_count": null,
   "id": "47",
   "metadata": {},
   "outputs": [],
   "source": [
    "print(2*y)"
   ]
  },
  {
   "cell_type": "code",
   "execution_count": null,
   "id": "48",
   "metadata": {},
   "outputs": [],
   "source": [
    "print(0.15 * y)"
   ]
  },
  {
   "cell_type": "code",
   "execution_count": null,
   "id": "49",
   "metadata": {},
   "outputs": [],
   "source": []
  }
 ],
 "metadata": {
  "kernelspec": {
   "display_name": "Python 3 (ipykernel)",
   "language": "python",
   "name": "python3"
  },
  "language_info": {
   "codemirror_mode": {
    "name": "ipython",
    "version": 3
   },
   "file_extension": ".py",
   "mimetype": "text/x-python",
   "name": "python",
   "nbconvert_exporter": "python",
   "pygments_lexer": "ipython3",
   "version": "3.11.9"
  }
 },
 "nbformat": 4,
 "nbformat_minor": 5
}
