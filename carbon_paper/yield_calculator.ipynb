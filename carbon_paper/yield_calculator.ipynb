{
 "cells": [
  {
   "cell_type": "code",
   "execution_count": 1,
   "id": "441a2e96-fce4-4145-bf6a-bc9c39cf5ded",
   "metadata": {},
   "outputs": [
    {
     "name": "stderr",
     "output_type": "stream",
     "text": [
      "/users/PAS2232/aeyobd/VICE/vice/__init__.py:141: UserWarning: Using un-released version of VICE\n",
      "  warnings.warn(\"Using un-released version of VICE\", UserWarning)\n"
     ]
    }
   ],
   "source": [
    "import surp\n",
    "import vice\n",
    "from vice.yields import ccsne, agb, sneia"
   ]
  },
  {
   "cell_type": "code",
   "execution_count": 2,
   "id": "5fe8cf3a-d4eb-4680-810c-bb34a2ddadae",
   "metadata": {},
   "outputs": [
    {
     "name": "stdout",
     "output_type": "stream",
     "text": [
      "yields set to Magg et al. 2022 abundances\n",
      "Yield settings\n",
      "X        Z_solar    CC                             agb                            SN Ia                          \n",
      "\n",
      "c        3.39e-03   2.28e-03 + 0.00e+00 (Z - Z0)   1.00 × cristallo11             0                              \n",
      "\n",
      "n        1.04e-03   5.00e-04                       5.02e-04 M Z/Z0                0                              \n",
      "\n",
      "o        7.33e-03   7.13e-03                       0                              0                              \n",
      "\n",
      "mg       6.71e-04   6.52e-04                       0                              0                              \n",
      "\n",
      "fe       1.37e-03   4.73e-04                       0                              7.70e-04                       \n",
      "\n",
      "\n",
      "\n"
     ]
    }
   ],
   "source": [
    "surp.set_yields()"
   ]
  },
  {
   "cell_type": "markdown",
   "id": "28818248-7c4c-4c28-adbe-d78489533ff6",
   "metadata": {},
   "source": [
    "# inputs from mcmc fits"
   ]
  },
  {
   "cell_type": "code",
   "execution_count": 3,
   "id": "9289e003-888f-47bc-bd6f-beacc1fccc88",
   "metadata": {},
   "outputs": [],
   "source": [
    "Y_C_AGB = {\n",
    "    \"cristallo11\": 3.8e-4,\n",
    "    \"ventura13\": 1.85e-4,\n",
    "    \"karakas16\": 2.8e-4,\n",
    "    \"pignatari16\": 5.9e-4\n",
    "}"
   ]
  },
  {
   "cell_type": "code",
   "execution_count": 4,
   "id": "c59c5fef-304b-4f86-9407-aa46fb449dc9",
   "metadata": {},
   "outputs": [],
   "source": [
    "ZETA_C_AGB = {\n",
    "    \"cristallo11\": -3.5e-4,\n",
    "    \"ventura13\": -9.4e-4,\n",
    "    \"karakas16\": -10.1e-4,\n",
    "    \"pignatari16\": -5.7e-4\n",
    "}"
   ]
  },
  {
   "cell_type": "markdown",
   "id": "6f00c8cc-58b3-408a-8945-d049e8982e21",
   "metadata": {},
   "source": [
    "# inputs from equilibrium fits"
   ]
  },
  {
   "cell_type": "code",
   "execution_count": 5,
   "id": "86159be2-c0a4-4b85-ae0f-866cff75e9b5",
   "metadata": {},
   "outputs": [],
   "source": [
    "y_mg = vice.yields.ccsne.settings[\"mg\"]\n",
    "noneq_factor = 1.025\n",
    "noneq_zeta = 1.8\n",
    "noneq_A = 1.8\n",
    "\n",
    "Y_C_0 = 4.12 * y_mg * noneq_factor\n",
    "ZETA_C_0 = 1.21 * y_mg * noneq_factor * noneq_zeta\n",
    "A_C_0 = 3.07 * y_mg * noneq_factor * noneq_A"
   ]
  },
  {
   "cell_type": "markdown",
   "id": "c77da279-daf4-4289-a8ad-35da41b8bed3",
   "metadata": {},
   "source": [
    "# yield params calculator"
   ]
  },
  {
   "cell_type": "markdown",
   "id": "660e8003-312a-446f-bf68-19a556ad6f02",
   "metadata": {},
   "source": [
    "Given the desired f_agb or alpha, what are the required y0cc and alpha_agb values"
   ]
  },
  {
   "cell_type": "code",
   "execution_count": 11,
   "id": "04a3fe80-b497-4ec3-b7f2-5d6e2ab7163b",
   "metadata": {},
   "outputs": [],
   "source": [
    "def f_agb_to_alpha(study, f_agb):\n",
    "    y_agb0 = Y_C_AGB[study]\n",
    "    y_agb = Y_C_0 * f_agb\n",
    "    return y_agb / y_agb0"
   ]
  },
  {
   "cell_type": "code",
   "execution_count": 17,
   "id": "91a00b14-f54c-4878-a73b-adbee123d474",
   "metadata": {},
   "outputs": [],
   "source": [
    "import json"
   ]
  },
  {
   "cell_type": "code",
   "execution_count": 37,
   "id": "c6f2cb9c-831c-4dac-8a82-cd3c59f12a26",
   "metadata": {},
   "outputs": [],
   "source": [
    "def f_agb_to_settings(study, f_agb):\n",
    "    alpha = f_agb_to_alpha(study, f_agb)\n",
    "    y0_cc = (1-f_agb) * Y_C_0\n",
    "    settings = dict(alpha_c_agb = alpha, y0_c_cc = y0_cc)\n",
    "    \n",
    "    print(json.dumps(settings, indent=4))"
   ]
  },
  {
   "cell_type": "code",
   "execution_count": 36,
   "id": "0c942431-0bdb-497c-8daf-f73b0910afa5",
   "metadata": {},
   "outputs": [],
   "source": [
    "def alpha_to_settings(study, alpha):\n",
    "    y0_cc = (1-f_agb) * Y_C_0\n",
    "    settings = dict(alpha_c_agb = alpha, y0_c_cc = y0_cc)\n",
    "    \n",
    "    print(json.dumps(settings, indent=4))"
   ]
  },
  {
   "cell_type": "code",
   "execution_count": 38,
   "id": "ac07a8bc-a510-4eae-bfcb-2c356bfad5a9",
   "metadata": {},
   "outputs": [
    {
     "data": {
      "text/plain": [
       "0.0020915300000000003"
      ]
     },
     "execution_count": 38,
     "metadata": {},
     "output_type": "execute_result"
    }
   ],
   "source": [
    "0.0022027 - 0.00011117"
   ]
  },
  {
   "cell_type": "code",
   "execution_count": 35,
   "id": "0a7262a5-c5db-4f73-96b8-47b0287c45e1",
   "metadata": {},
   "outputs": [
    {
     "name": "stdout",
     "output_type": "stream",
     "text": [
      "{\n",
      "    \"alpha_c_agb\": 7.245778947368421,\n",
      "    \"y0_c_cc\": 0.0\n",
      "}\n"
     ]
    }
   ],
   "source": [
    "f_agb_to_settings(\"cristallo11\", 1)"
   ]
  },
  {
   "cell_type": "code",
   "execution_count": 6,
   "id": "b64fc442-e8c4-45a8-a5a8-3c11971d6853",
   "metadata": {},
   "outputs": [],
   "source": [
    "\n",
    "def print_yc_tot():\n",
    "    \"\"\"prints out the current total c yield in an (almost nice) table\"\"\"\n",
    "\n",
    "    print('total c yield')\n",
    "\n",
    "    ycc = ccsne.settings[\"c\"]\n",
    "    yagb = agb.settings[\"c\"]\n",
    "\n",
    "    y0_cc = ycc.y0\n",
    "    zeta_cc = ycc.zeta\n",
    "\n",
    "    if isinstance(yagb, agb.interpolator):\n",
    "        model = yagb.study\n",
    "        alpha = yagb.prefactor\n",
    "        y0_agb = alpha * Y_C_AGB[model]\n",
    "        zeta_agb = alpha * ZETA_C_AGB[model]\n",
    "        print(\"y0_agb \", Y_C_AGB[model])\n",
    "        print(\"z0_agb \", ZETA_C_AGB[model])\n",
    "    elif isinstance(yagb, C_AGB_Model):\n",
    "        model = \"A\"\n",
    "        y0_agb = yagb.y0\n",
    "        zeta_agb = yagb.zeta\n",
    "        print(\"Y agb\", y0_agb)\n",
    "        print(\"zeta agb\", zeta_agb)\n",
    "\n",
    "    print(\"agb_model: \", model)\n",
    "\n",
    "    z_tot = zeta_cc + zeta_agb\n",
    "    y_tot =  y0_agb + y0_cc\n",
    "    f = y0_agb/y_tot\n",
    "\n",
    "    print(f\"{y_tot:0.6f} + {z_tot:0.6f} (Z-Zo)\")\n",
    "    print(f\"f_agb = {f:0.4f}\")\n",
    "    print()\n",
    "    print()"
   ]
  },
  {
   "cell_type": "code",
   "execution_count": 7,
   "id": "f7aebd91-3386-4830-a987-ef1fc7a9bcaa",
   "metadata": {},
   "outputs": [],
   "source": [
    "def set_c_cc(params, y0, zeta, y_c_cc=\"Lin\", y1=1e-4, Z1=0):\n",
    "    params.y0_c_cc = y0\n",
    "    params.zeta_c_cc = zeta\n",
    "    params.y_c_cc= y_c_cc\n",
    "    if y_c_cc == \"BiLin\":\n",
    "        params.kwargs_c_cc = dict(y1=y1, Z1=Z1)\n",
    "    elif y_c_cc == \"BiLogLin\":\n",
    "        params.kwargs_c_cc = dict(y1=y1)\n",
    "    elif y_c_cc == \"Quadratic\":\n",
    "        params.kwargs_c_cc = dict(A=A_C_0)\n"
   ]
  },
  {
   "cell_type": "code",
   "execution_count": 8,
   "id": "493a3574-d9e1-4d54-88d3-f8acc1adf90b",
   "metadata": {},
   "outputs": [],
   "source": [
    "def set_c_agb(params, agb_model=\"cristallo11\", f_agb=0.2, alpha_agb=None, zeta_agb=None, \n",
    "            mass_factor=1, no_negative=False, interp_kind=\"linear\", t_D=0.1, tau_agb=0.3, low_z_flat=False):\n",
    "\n",
    "    y0 = f_agb * Y_C_0\n",
    "    params.Y_c_agb = agb_model\n",
    "\n",
    "    if agb_model == \"A\":\n",
    "        if zeta_agb is None:\n",
    "            raise ValueError(\"for analytic AGB model, zeta_agb must be specified\")\n",
    "\n",
    "        params.kwargs_c_agb = dict(t_D=t_D, tau_agb=tau_agb, y0=y0, zeta=zeta_agb)\n",
    "        params.alpha_c_agb = 1\n",
    "    else:\n",
    "        params.kwargs_c_agb = dict(mass_factor=mass_factor, no_negative=no_negative, interp_kind=interp_kind, low_z_flat=low_z_flat)\n",
    "\n",
    "        y_c_agb = Y_C_AGB[agb_model]\n",
    "        if alpha_agb is None:\n",
    "            alpha_agb = y0 / y_c_agb\n",
    "\n",
    "        y0 = alpha_agb * y_c_agb\n",
    "\n",
    "        zeta_agb = ZETA_C_AGB[agb_model] * alpha_agb\n",
    "        params.alpha_c_agb = alpha_agb\n",
    "\n",
    "\n",
    "    return y0, zeta_agb\n"
   ]
  },
  {
   "cell_type": "code",
   "execution_count": 9,
   "id": "1333cc07-a44a-49f9-89c3-c0732a4d077c",
   "metadata": {},
   "outputs": [],
   "source": [
    "def enhance_fe_ia(params, factor):\n",
    "    \"\"\"if factor != 1, then enhances sne ia fe yield by factor but maintains same total fe yield, applied to params\"\"\"\n",
    "    if factor == 1:\n",
    "        return\n",
    "    y_fe = params.y_fe_cc + params.y_fe_ia\n",
    "    params.y_fe_ia *= factor\n",
    "    params.y_fe_cc = y_fe - params.y_fe_ia\n",
    "    return params\n"
   ]
  },
  {
   "cell_type": "code",
   "execution_count": 10,
   "id": "8a770ef2-1555-428f-9cb3-764f96f11a1b",
   "metadata": {},
   "outputs": [
    {
     "name": "stdout",
     "output_type": "stream",
     "text": [
      "total c yield\n"
     ]
    },
    {
     "ename": "NameError",
     "evalue": "name 'C_AGB_Model' is not defined",
     "output_type": "error",
     "traceback": [
      "\u001b[0;31m---------------------------------------------------------------------------\u001b[0m",
      "\u001b[0;31mNameError\u001b[0m                                 Traceback (most recent call last)",
      "Cell \u001b[0;32mIn[10], line 1\u001b[0m\n\u001b[0;32m----> 1\u001b[0m \u001b[43mprint_yc_tot\u001b[49m\u001b[43m(\u001b[49m\u001b[43m)\u001b[49m\n",
      "Cell \u001b[0;32mIn[6], line 19\u001b[0m, in \u001b[0;36mprint_yc_tot\u001b[0;34m()\u001b[0m\n\u001b[1;32m     17\u001b[0m     \u001b[38;5;28mprint\u001b[39m(\u001b[38;5;124m\"\u001b[39m\u001b[38;5;124my0_agb \u001b[39m\u001b[38;5;124m\"\u001b[39m, Y_C_AGB[model])\n\u001b[1;32m     18\u001b[0m     \u001b[38;5;28mprint\u001b[39m(\u001b[38;5;124m\"\u001b[39m\u001b[38;5;124mz0_agb \u001b[39m\u001b[38;5;124m\"\u001b[39m, ZETA_C_AGB[model])\n\u001b[0;32m---> 19\u001b[0m \u001b[38;5;28;01melif\u001b[39;00m \u001b[38;5;28misinstance\u001b[39m(yagb, \u001b[43mC_AGB_Model\u001b[49m):\n\u001b[1;32m     20\u001b[0m     model \u001b[38;5;241m=\u001b[39m \u001b[38;5;124m\"\u001b[39m\u001b[38;5;124mA\u001b[39m\u001b[38;5;124m\"\u001b[39m\n\u001b[1;32m     21\u001b[0m     y0_agb \u001b[38;5;241m=\u001b[39m yagb\u001b[38;5;241m.\u001b[39my0\n",
      "\u001b[0;31mNameError\u001b[0m: name 'C_AGB_Model' is not defined"
     ]
    }
   ],
   "source": [
    "print_yc_tot()"
   ]
  },
  {
   "cell_type": "code",
   "execution_count": null,
   "id": "73f4100c-c2d1-443c-8045-99ef4afc5adb",
   "metadata": {},
   "outputs": [],
   "source": []
  }
 ],
 "metadata": {
  "kernelspec": {
   "display_name": "Python (3.10)",
   "language": "python",
   "name": "python3"
  },
  "language_info": {
   "codemirror_mode": {
    "name": "ipython",
    "version": 3
   },
   "file_extension": ".py",
   "mimetype": "text/x-python",
   "name": "python",
   "nbconvert_exporter": "python",
   "pygments_lexer": "ipython3",
   "version": "3.10.10"
  }
 },
 "nbformat": 4,
 "nbformat_minor": 5
}
