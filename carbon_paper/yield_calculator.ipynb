{
 "cells": [
  {
   "cell_type": "code",
   "execution_count": 1,
   "id": "441a2e96-fce4-4145-bf6a-bc9c39cf5ded",
   "metadata": {},
   "outputs": [
    {
     "name": "stderr",
     "output_type": "stream",
     "text": [
      "/users/PAS2232/aeyobd/VICE/vice/__init__.py:141: UserWarning: Using un-released version of VICE\n",
      "  warnings.warn(\"Using un-released version of VICE\", UserWarning)\n"
     ]
    }
   ],
   "source": [
    "import surp\n",
    "import vice\n"
   ]
  },
  {
   "cell_type": "code",
   "execution_count": 2,
   "id": "bae35bae-41e8-4b97-aa15-6d279fc277c5",
   "metadata": {},
   "outputs": [],
   "source": [
    "import vice.yields.ccsne.settings as y_cc\n",
    "import vice.yields.agb.settings as Y_agb\n",
    "import vice.yields.sneia.settings as y_ia"
   ]
  },
  {
   "cell_type": "code",
   "execution_count": 3,
   "id": "5fe8cf3a-d4eb-4680-810c-bb34a2ddadae",
   "metadata": {},
   "outputs": [
    {
     "name": "stdout",
     "output_type": "stream",
     "text": [
      "yields set to Magg et al. 2022 abundances\n",
      "Yield settings\n",
      "X        Z_solar    CC                             agb                            SN Ia                          \n",
      "\n",
      "c        3.39e-03   3.69e-03 MH^2 + 1.96e-03 MH +  1.45 × cristallo11             0.00e+00                       \n",
      "                    2.20e-03                                                                                     \n",
      "\n",
      "n        1.04e-03   5.00e-04                       5.02e-04 M Z/Z0                0                              \n",
      "\n",
      "o        7.33e-03   7.13e-03                       0                              0                              \n",
      "\n",
      "mg       6.71e-04   6.52e-04                       0                              0                              \n",
      "\n",
      "fe       1.37e-03   4.73e-04                       0                              7.70e-04                       \n",
      "\n",
      "\n",
      "\n"
     ]
    }
   ],
   "source": [
    "surp.set_yields()"
   ]
  },
  {
   "cell_type": "markdown",
   "id": "28818248-7c4c-4c28-adbe-d78489533ff6",
   "metadata": {},
   "source": [
    "# inputs from mcmc fits"
   ]
  },
  {
   "cell_type": "code",
   "execution_count": 4,
   "id": "9289e003-888f-47bc-bd6f-beacc1fccc88",
   "metadata": {},
   "outputs": [],
   "source": [
    "Y_C_AGB = {\n",
    "    \"cristallo11\": 3.8e-4,\n",
    "    \"ventura13\": 1.85e-4,\n",
    "    \"karakas16\": 2.8e-4,\n",
    "    \"pignatari16\": 5.9e-4\n",
    "}"
   ]
  },
  {
   "cell_type": "code",
   "execution_count": 5,
   "id": "c59c5fef-304b-4f86-9407-aa46fb449dc9",
   "metadata": {},
   "outputs": [],
   "source": [
    "ZETA_C_AGB = {\n",
    "    \"cristallo11\": -3.5e-4,\n",
    "    \"ventura13\": -9.4e-4,\n",
    "    \"karakas16\": -10.1e-4,\n",
    "    \"pignatari16\": -5.7e-4\n",
    "}"
   ]
  },
  {
   "cell_type": "code",
   "execution_count": 6,
   "id": "86159be2-c0a4-4b85-ae0f-866cff75e9b5",
   "metadata": {},
   "outputs": [],
   "source": [
    "y_mg = y_cc[\"mg\"]\n",
    "noneq_factor = 1.025\n",
    "noneq_zeta = 1.8\n",
    "noneq_A = 1.8\n",
    "\n",
    "Y_C_0 = 4.12 * y_mg * noneq_factor\n",
    "ZETA_C_0 = 1.21 * y_mg * noneq_factor * noneq_zeta\n",
    "A_C_0 = 3.07 * y_mg * noneq_factor * noneq_A"
   ]
  },
  {
   "cell_type": "code",
   "execution_count": 16,
   "id": "b2b635a1-5d50-4ad7-be62-65e5be48f836",
   "metadata": {},
   "outputs": [
    {
     "data": {
      "text/plain": [
       "0.0005506792000000001"
      ]
     },
     "execution_count": 16,
     "metadata": {},
     "output_type": "execute_result"
    }
   ],
   "source": [
    "Y_C_0 * 0.2"
   ]
  },
  {
   "cell_type": "markdown",
   "id": "c77da279-daf4-4289-a8ad-35da41b8bed3",
   "metadata": {},
   "source": [
    "# yield params calculator"
   ]
  },
  {
   "cell_type": "markdown",
   "id": "660e8003-312a-446f-bf68-19a556ad6f02",
   "metadata": {},
   "source": [
    "Given the desired f_agb or alpha, what are the required y0cc and alpha_agb values"
   ]
  },
  {
   "cell_type": "code",
   "execution_count": 7,
   "id": "04a3fe80-b497-4ec3-b7f2-5d6e2ab7163b",
   "metadata": {},
   "outputs": [],
   "source": [
    "def f_agb_to_alpha(y0_agb, f_agb):\n",
    "    y_agb = Y_C_0 * f_agb\n",
    "    return y_agb / y0_agb"
   ]
  },
  {
   "cell_type": "code",
   "execution_count": 8,
   "id": "91a00b14-f54c-4878-a73b-adbee123d474",
   "metadata": {},
   "outputs": [],
   "source": [
    "import toml"
   ]
  },
  {
   "cell_type": "code",
   "execution_count": 9,
   "id": "c6f2cb9c-831c-4dac-8a82-cd3c59f12a26",
   "metadata": {},
   "outputs": [],
   "source": [
    "def f_agb_to_settings(study, y0=None, f_agb=0.2):\n",
    "    if y0 is None:\n",
    "        y0 = Y_C_AGB[study]\n",
    "        \n",
    "    alpha = f_agb_to_alpha(y0, f_agb)\n",
    "    y0_cc = (1-f_agb) * Y_C_0\n",
    "    settings = dict(alpha_c_agb = alpha, y0_c_cc = y0_cc)\n",
    "    \n",
    "    print(toml.dumps(settings))"
   ]
  },
  {
   "cell_type": "code",
   "execution_count": 10,
   "id": "6a2639f5-f473-49f5-b930-fce5761042e1",
   "metadata": {},
   "outputs": [],
   "source": [
    "def f_agb_zeta_to_settings(study, *, y0_agb=None, zeta_agb=None, f_agb=0.2):\n",
    "    if y0_agb is None:\n",
    "        y0_agb = Y_C_AGB[study]\n",
    "    if zeta_agb is None:\n",
    "        zeta_agb = ZETA_C_AGB[study]\n",
    "        \n",
    "    alpha = f_agb_to_alpha(y0_agb, f_agb)\n",
    "    y0_cc = (1-f_agb) * Y_C_0\n",
    "    \n",
    "    zeta_cc = ZETA_C_0 - zeta_agb * alpha\n",
    "    \n",
    "    settings = dict(alpha_c_agb = alpha, y0_c_cc = y0_cc, zeta_c_cc=zeta_cc)\n",
    "    \n",
    "    print(toml.dumps(settings))"
   ]
  },
  {
   "cell_type": "code",
   "execution_count": 11,
   "id": "0c942431-0bdb-497c-8daf-f73b0910afa5",
   "metadata": {},
   "outputs": [],
   "source": [
    "def alpha_to_settings(study, alpha):\n",
    "    y0_cc = (1-f_agb) * Y_C_0\n",
    "    settings = dict(alpha_c_agb = alpha, y0_c_cc = y0_cc)\n",
    "    \n",
    "    print(json.dumps(settings, indent=4))"
   ]
  },
  {
   "cell_type": "code",
   "execution_count": 13,
   "id": "0a7262a5-c5db-4f73-96b8-47b0287c45e1",
   "metadata": {},
   "outputs": [
    {
     "name": "stdout",
     "output_type": "stream",
     "text": [
      "f_agb =  0\n",
      "alpha_c_agb = 0.0\n",
      "y0_c_cc = 0.002753396\n",
      "\n",
      "\n",
      "f_agb =  0.1\n",
      "alpha_c_agb = 0.7245778947368421\n",
      "y0_c_cc = 0.0024780564\n",
      "\n",
      "\n",
      "f_agb =  0.2\n",
      "alpha_c_agb = 1.4491557894736842\n",
      "y0_c_cc = 0.0022027168000000002\n",
      "\n",
      "\n",
      "f_agb =  0.3\n",
      "alpha_c_agb = 2.173733684210526\n",
      "y0_c_cc = 0.0019273772\n",
      "\n",
      "\n",
      "f_agb =  0.4\n",
      "alpha_c_agb = 2.8983115789473683\n",
      "y0_c_cc = 0.0016520375999999999\n",
      "\n",
      "\n",
      "f_agb =  0.5\n",
      "alpha_c_agb = 3.6228894736842103\n",
      "y0_c_cc = 0.001376698\n",
      "\n",
      "\n",
      "f_agb =  0.8\n",
      "alpha_c_agb = 5.796623157894737\n",
      "y0_c_cc = 0.0005506791999999998\n",
      "\n",
      "\n",
      "f_agb =  1\n",
      "alpha_c_agb = 7.245778947368421\n",
      "y0_c_cc = 0.0\n",
      "\n",
      "\n"
     ]
    }
   ],
   "source": [
    "for f in [0, 0.1, 0.2, 0.3, 0.4, 0.5, 0.8, 1]:\n",
    "    print(\"f_agb = \", f)\n",
    "    f_agb_to_settings(\"cristallo11\", f_agb=f)\n",
    "    print()"
   ]
  },
  {
   "cell_type": "code",
   "execution_count": 34,
   "id": "4826942a-5720-4871-b11e-3057f139c354",
   "metadata": {},
   "outputs": [
    {
     "name": "stdout",
     "output_type": "stream",
     "text": [
      "f_agb =  0\n",
      "alpha_c_agb = 0.0\n",
      "y0_c_cc = 0.002753396\n",
      "zeta_c_cc = 0.0014555574\n",
      "\n",
      "\n",
      "f_agb =  0.1\n",
      "alpha_c_agb = 0.7245778947368421\n",
      "y0_c_cc = 0.0024780564\n",
      "zeta_c_cc = 0.0017091596631578947\n",
      "\n",
      "\n",
      "f_agb =  0.2\n",
      "alpha_c_agb = 1.4491557894736842\n",
      "y0_c_cc = 0.0022027168000000002\n",
      "zeta_c_cc = 0.0019627619263157896\n",
      "\n",
      "\n",
      "f_agb =  0.3\n",
      "alpha_c_agb = 2.173733684210526\n",
      "y0_c_cc = 0.0019273772\n",
      "zeta_c_cc = 0.0022163641894736843\n",
      "\n",
      "\n",
      "f_agb =  0.4\n",
      "alpha_c_agb = 2.8983115789473683\n",
      "y0_c_cc = 0.0016520375999999999\n",
      "zeta_c_cc = 0.002469966452631579\n",
      "\n",
      "\n",
      "f_agb =  0.5\n",
      "alpha_c_agb = 3.6228894736842103\n",
      "y0_c_cc = 0.001376698\n",
      "zeta_c_cc = 0.0027235687157894737\n",
      "\n",
      "\n",
      "f_agb =  1\n",
      "alpha_c_agb = 7.245778947368421\n",
      "y0_c_cc = 0.0\n",
      "zeta_c_cc = 0.003991580031578948\n",
      "\n",
      "\n"
     ]
    }
   ],
   "source": [
    "for f in [0, 0.1, 0.2, 0.3, 0.4, 0.5, 1]:\n",
    "    print(\"f_agb = \", f)\n",
    "    f_agb_zeta_to_settings(\"cristallo11\", f_agb=f)\n",
    "    print()"
   ]
  },
  {
   "cell_type": "code",
   "execution_count": 21,
   "id": "b64fc442-e8c4-45a8-a5a8-3c11971d6853",
   "metadata": {},
   "outputs": [],
   "source": [
    "def print_yc_tot():\n",
    "    \"\"\"prints out the current total c yield in an (almost nice) table\"\"\"\n",
    "\n",
    "    print('total c yield')\n",
    "\n",
    "    ycc = ccsne.settings[\"c\"]\n",
    "    yagb = agb.settings[\"c\"]\n",
    "\n",
    "    y0_cc = ycc.y0\n",
    "    zeta_cc = ycc.zeta\n",
    "\n",
    "    if isinstance(yagb, agb.interpolator):\n",
    "        model = yagb.study\n",
    "        alpha = yagb.prefactor\n",
    "        y0_agb = alpha * Y_C_AGB[model]\n",
    "        zeta_agb = alpha * ZETA_C_AGB[model]\n",
    "        print(\"y0_agb \", Y_C_AGB[model])\n",
    "        print(\"z0_agb \", ZETA_C_AGB[model])\n",
    "    elif isinstance(yagb, C_AGB_Model):\n",
    "        model = \"A\"\n",
    "        y0_agb = yagb.y0\n",
    "        zeta_agb = yagb.zeta\n",
    "        print(\"Y agb\", y0_agb)\n",
    "        print(\"zeta agb\", zeta_agb)\n",
    "\n",
    "    print(\"agb_model: \", model)\n",
    "\n",
    "    z_tot = zeta_cc + zeta_agb\n",
    "    y_tot =  y0_agb + y0_cc\n",
    "    f = y0_agb/y_tot\n",
    "\n",
    "    print(f\"{y_tot:0.6f} + {z_tot:0.6f} (Z-Zo)\")\n",
    "    print(f\"f_agb = {f:0.4f}\")\n",
    "    print()\n",
    "    print()"
   ]
  },
  {
   "cell_type": "code",
   "execution_count": 41,
   "id": "1333cc07-a44a-49f9-89c3-c0732a4d077c",
   "metadata": {},
   "outputs": [],
   "source": [
    "def enhance_fe_ia(factor):\n",
    "    \"\"\"if factor != 1, then enhances sne ia fe yield by factor but maintains same total fe yield, applied to params\"\"\"\n",
    "    if factor == 1:\n",
    "        return\n",
    "    y_fe = y_ia[\"fe\"] + y_cc[\"fe\"]\n",
    "    y_fe_ia = y_ia[\"fe\"] * factor\n",
    "    y_fe_cc = y_fe - y_fe_ia\n",
    "    \n",
    "    print(f\"y_fe_ia = {y_fe_ia:0.8f}\")\n",
    "    print(f\"y_fe_cc = {y_fe_cc:0.8f}\")\n",
    "    return y_fe_ia, y_fe_cc\n"
   ]
  },
  {
   "cell_type": "code",
   "execution_count": 42,
   "id": "9e28b472-44da-4c09-9cc3-dc4211d1c840",
   "metadata": {},
   "outputs": [
    {
     "name": "stdout",
     "output_type": "stream",
     "text": [
      "y_fe_ia = 0.00092400\n",
      "y_fe_cc = 0.00031900\n"
     ]
    },
    {
     "data": {
      "text/plain": [
       "(0.0009239999999999999, 0.00031900000000000006)"
      ]
     },
     "execution_count": 42,
     "metadata": {},
     "output_type": "execute_result"
    }
   ],
   "source": [
    "enhance_fe_ia(1.2)"
   ]
  },
  {
   "cell_type": "code",
   "execution_count": null,
   "id": "73f4100c-c2d1-443c-8045-99ef4afc5adb",
   "metadata": {},
   "outputs": [],
   "source": []
  }
 ],
 "metadata": {
  "kernelspec": {
   "display_name": "Python (3.10)",
   "language": "python",
   "name": "python3"
  },
  "language_info": {
   "codemirror_mode": {
    "name": "ipython",
    "version": 3
   },
   "file_extension": ".py",
   "mimetype": "text/x-python",
   "name": "python",
   "nbconvert_exporter": "python",
   "pygments_lexer": "ipython3",
   "version": "3.10.10"
  }
 },
 "nbformat": 4,
 "nbformat_minor": 5
}
