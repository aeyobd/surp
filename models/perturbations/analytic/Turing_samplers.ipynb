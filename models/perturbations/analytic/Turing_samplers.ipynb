{
 "cells": [
  {
   "cell_type": "code",
   "execution_count": null,
   "id": "0",
   "metadata": {},
   "outputs": [],
   "source": [
    "using Turing\n",
    "using StatsBase\n",
    "using LinearAlgebra: diagm\n",
    "using CairoMakie\n",
    "using Arya"
   ]
  },
  {
   "cell_type": "code",
   "execution_count": null,
   "id": "1",
   "metadata": {},
   "outputs": [],
   "source": [
    "using DataFrames, PairPlots"
   ]
  },
  {
   "cell_type": "code",
   "execution_count": null,
   "id": "2",
   "metadata": {},
   "outputs": [],
   "source": [
    "using FillArrays\n"
   ]
  },
  {
   "cell_type": "code",
   "execution_count": null,
   "id": "3",
   "metadata": {},
   "outputs": [],
   "source": [
    "import FillArrays: I"
   ]
  },
  {
   "cell_type": "code",
   "execution_count": null,
   "id": "4",
   "metadata": {},
   "outputs": [],
   "source": [
    "function make_observations(N=1000, z1=0.25, z2=0.4, z3=-0.3, sx=0.05, sy=0.5, s_int_x=1, x0=0)\n",
    "\n",
    "    x = x0 .+ randn(N) * s_int_x\n",
    "    y = @. z1 + z2*x + z3*x^2\n",
    "\n",
    "    xo = x .+ sx .* randn(N)\n",
    "    yo = y .+ sy .* randn(N)\n",
    "\n",
    "    return xo, yo\n",
    "    \n",
    "end"
   ]
  },
  {
   "cell_type": "code",
   "execution_count": null,
   "id": "5",
   "metadata": {},
   "outputs": [],
   "source": [
    "function plot_mcmc_results(chain::Chains; bins::Int = 30)\n",
    "    # Extract parameter names\n",
    "    params = chain.name_map.parameters\n",
    "    nparams = length(params)\n",
    "    \n",
    "    # Determine grid layout\n",
    "    nrows = ceil(Int, nparams)\n",
    "    \n",
    "    # Initialize the figure\n",
    "    fig = Figure(size = (600, 200 * nrows), \n",
    "                backgroundcolor = :white)\n",
    "    \n",
    "    # Determine number of chains\n",
    "    nchains = size(chain, 3)\n",
    "        \n",
    "    # Iterate over each parameter\n",
    "    for (i, param) in enumerate(params)\n",
    "\n",
    "        # Trace Plot\n",
    "        ax_trace = Axis(fig[i, 1],\n",
    "            xlabel = \"Iteration\",\n",
    "            ylabel = \"$param\",\n",
    "            xgridvisible=false,\n",
    "            ygridvisible=false\n",
    "            )\n",
    "        \n",
    "        # Plot each chain's trace\n",
    "        for c in 1:nchains\n",
    "            samples = chain[:, i, c]\n",
    "            println(typeof(samples))\n",
    "            lines!(ax_trace, collect(1:length(samples)), samples, color = c, colorrange=(0, nchains), label = \"Chain $c\")\n",
    "        end\n",
    "        \n",
    "        # Add legend only once\n",
    "        if i == 1 && nchains > 1\n",
    "            axislegend(ax_trace, position = :rt)\n",
    "        end\n",
    "        \n",
    "        # Histogram Plot\n",
    "        ax_hist = Axis(fig[i, 2],\n",
    "            limits=(0, nothing, nothing, nothing),\n",
    "            xgridvisible=false,\n",
    "            ygridvisible=false\n",
    "        )\n",
    "        hidedecorations!(ax_hist)\n",
    "        linkyaxes!(ax_trace, ax_hist)\n",
    "\n",
    "        \n",
    "        # Combine samples from all chains for histogram\n",
    "        combined_samples = vec(chain[:, i, :])\n",
    "        hist!(ax_hist, direction=:x, combined_samples, bins = bins)\n",
    "        \n",
    "        if i < nparams\n",
    "            hidexdecorations!(ax_trace, ticks=false)\n",
    "        end\n",
    "    end\n",
    "\n",
    "    colgap!(fig.layout, 1, 0)\n",
    "    rowgap!(fig.layout, 0)\n",
    "\n",
    "    colsize!(fig.layout, 2, Relative(0.25))\n",
    "\n",
    "    return fig\n",
    "end"
   ]
  },
  {
   "cell_type": "code",
   "execution_count": null,
   "id": "6",
   "metadata": {},
   "outputs": [],
   "source": [
    "obs_x, obs_y = make_observations()"
   ]
  },
  {
   "cell_type": "code",
   "execution_count": null,
   "id": "7",
   "metadata": {},
   "outputs": [],
   "source": [
    "scatter(obs_x, obs_y)"
   ]
  },
  {
   "cell_type": "code",
   "execution_count": null,
   "id": "8",
   "metadata": {},
   "outputs": [],
   "source": [
    "@model function analytic_model(obs_x, obs_y)\n",
    "    z1 ~ Normal(0, 1)\n",
    "    z2 ~ Normal(0, 1)\n",
    "    z3 ~ Normal(0, 1)\n",
    "\n",
    "    sigma2 ~ truncated(Normal(0, 1); lower=0)\n",
    "    \n",
    "    y_pred =  z1 .+ z2 * obs_x  .+ z3 * obs_x .^2\n",
    "\n",
    "    obs_y ~ MvNormal(y_pred, sigma2 * I )\n",
    "\n",
    "    return\n",
    "end"
   ]
  },
  {
   "cell_type": "markdown",
   "id": "9",
   "metadata": {
    "jp-MarkdownHeadingCollapsed": true
   },
   "source": [
    "## MH"
   ]
  },
  {
   "cell_type": "code",
   "execution_count": null,
   "id": "10",
   "metadata": {},
   "outputs": [],
   "source": [
    "model = analytic_model(obs_x, obs_y)"
   ]
  },
  {
   "cell_type": "code",
   "execution_count": null,
   "id": "11",
   "metadata": {},
   "outputs": [],
   "source": [
    "chain = sample(model, MH(), 100_000)"
   ]
  },
  {
   "cell_type": "code",
   "execution_count": null,
   "id": "12",
   "metadata": {},
   "outputs": [],
   "source": [
    "samples = DataFrame(chain)"
   ]
  },
  {
   "cell_type": "code",
   "execution_count": null,
   "id": "13",
   "metadata": {},
   "outputs": [],
   "source": [
    "pairplot(chain)"
   ]
  },
  {
   "cell_type": "markdown",
   "id": "14",
   "metadata": {
    "jp-MarkdownHeadingCollapsed": true
   },
   "source": [
    "## IS()"
   ]
  },
  {
   "cell_type": "code",
   "execution_count": null,
   "id": "15",
   "metadata": {},
   "outputs": [],
   "source": [
    "model = analytic_model(obs_x, obs_y)"
   ]
  },
  {
   "cell_type": "code",
   "execution_count": null,
   "id": "16",
   "metadata": {},
   "outputs": [],
   "source": [
    "chain = sample(model, IS(), 10_000)"
   ]
  },
  {
   "cell_type": "code",
   "execution_count": null,
   "id": "17",
   "metadata": {},
   "outputs": [],
   "source": [
    "samples = DataFrame(chain)"
   ]
  },
  {
   "cell_type": "code",
   "execution_count": null,
   "id": "18",
   "metadata": {},
   "outputs": [],
   "source": [
    "pairplot(chain)"
   ]
  },
  {
   "cell_type": "markdown",
   "id": "19",
   "metadata": {
    "jp-MarkdownHeadingCollapsed": true
   },
   "source": [
    "## PG"
   ]
  },
  {
   "cell_type": "code",
   "execution_count": null,
   "id": "20",
   "metadata": {},
   "outputs": [],
   "source": [
    "model = analytic_model(obs_x, obs_y)"
   ]
  },
  {
   "cell_type": "code",
   "execution_count": null,
   "id": "21",
   "metadata": {},
   "outputs": [],
   "source": [
    "chain = sample(model, PG(30), MCMCThreads(), 100, 8)"
   ]
  },
  {
   "cell_type": "code",
   "execution_count": null,
   "id": "22",
   "metadata": {},
   "outputs": [],
   "source": [
    "DataFrame(chain)"
   ]
  },
  {
   "cell_type": "code",
   "execution_count": null,
   "id": "23",
   "metadata": {},
   "outputs": [],
   "source": [
    "pairplot(chain)"
   ]
  },
  {
   "cell_type": "markdown",
   "id": "24",
   "metadata": {
    "jp-MarkdownHeadingCollapsed": true
   },
   "source": [
    "## SMC"
   ]
  },
  {
   "cell_type": "code",
   "execution_count": null,
   "id": "25",
   "metadata": {},
   "outputs": [],
   "source": [
    "model = analytic_model(obs_x, obs_y)"
   ]
  },
  {
   "cell_type": "code",
   "execution_count": null,
   "id": "26",
   "metadata": {},
   "outputs": [],
   "source": [
    "chain = sample(model, SMC(), MCMCThreads(), 100, 8)"
   ]
  },
  {
   "cell_type": "code",
   "execution_count": null,
   "id": "27",
   "metadata": {},
   "outputs": [],
   "source": [
    "samples = DataFrame(chain)"
   ]
  },
  {
   "cell_type": "code",
   "execution_count": null,
   "id": "28",
   "metadata": {},
   "outputs": [],
   "source": [
    "pairplot(chain)"
   ]
  },
  {
   "cell_type": "markdown",
   "id": "29",
   "metadata": {
    "jp-MarkdownHeadingCollapsed": true
   },
   "source": [
    "## HMC"
   ]
  },
  {
   "cell_type": "code",
   "execution_count": null,
   "id": "30",
   "metadata": {},
   "outputs": [],
   "source": [
    "model = analytic_model(obs_x, obs_y)"
   ]
  },
  {
   "cell_type": "code",
   "execution_count": null,
   "id": "31",
   "metadata": {},
   "outputs": [],
   "source": [
    "chain = sample(model, HMC(0.001, 3), 10_000)"
   ]
  },
  {
   "cell_type": "code",
   "execution_count": null,
   "id": "32",
   "metadata": {},
   "outputs": [],
   "source": [
    "samples = DataFrame(chain)"
   ]
  },
  {
   "cell_type": "code",
   "execution_count": null,
   "id": "33",
   "metadata": {},
   "outputs": [],
   "source": [
    "pairplot(chain)"
   ]
  },
  {
   "cell_type": "markdown",
   "id": "34",
   "metadata": {
    "jp-MarkdownHeadingCollapsed": true
   },
   "source": [
    "## NUTS"
   ]
  },
  {
   "cell_type": "code",
   "execution_count": null,
   "id": "35",
   "metadata": {},
   "outputs": [],
   "source": [
    "model = analytic_model(obs_x, obs_y)"
   ]
  },
  {
   "cell_type": "code",
   "execution_count": null,
   "id": "36",
   "metadata": {},
   "outputs": [],
   "source": [
    "chain = sample(model, NUTS(0.65), 10_000)"
   ]
  },
  {
   "cell_type": "code",
   "execution_count": null,
   "id": "37",
   "metadata": {},
   "outputs": [],
   "source": [
    "pairplot(chain)"
   ]
  },
  {
   "cell_type": "markdown",
   "id": "38",
   "metadata": {},
   "source": [
    "## RMH"
   ]
  },
  {
   "cell_type": "code",
   "execution_count": null,
   "id": "39",
   "metadata": {},
   "outputs": [],
   "source": [
    "using AdvancedMH: RWMH\n",
    "using AdvancedMH"
   ]
  },
  {
   "cell_type": "code",
   "execution_count": null,
   "id": "40",
   "metadata": {},
   "outputs": [],
   "source": [
    "s_walk = 1e-3\n",
    "rw_prop = RandomWalkProposal(MvNormal([0,0,0,0], s_walk * I))\n"
   ]
  },
  {
   "cell_type": "code",
   "execution_count": null,
   "id": "41",
   "metadata": {},
   "outputs": [],
   "source": [
    "chain = sample(model, MH(rw_prop), 30_000, num_warmup=1000)"
   ]
  },
  {
   "cell_type": "code",
   "execution_count": null,
   "id": "42",
   "metadata": {},
   "outputs": [],
   "source": [
    "pairplot(chain)"
   ]
  },
  {
   "cell_type": "code",
   "execution_count": null,
   "id": "43",
   "metadata": {},
   "outputs": [],
   "source": [
    "plot_mcmc_results(chain)"
   ]
  },
  {
   "cell_type": "code",
   "execution_count": null,
   "id": "44",
   "metadata": {},
   "outputs": [],
   "source": []
  },
  {
   "cell_type": "code",
   "execution_count": null,
   "id": "45",
   "metadata": {},
   "outputs": [],
   "source": []
  }
 ],
 "metadata": {
  "kernelspec": {
   "display_name": "Julia 1.11.1",
   "language": "julia",
   "name": "julia-1.11"
  },
  "language_info": {
   "file_extension": ".jl",
   "mimetype": "application/julia",
   "name": "julia",
   "version": "1.11.1"
  }
 },
 "nbformat": 4,
 "nbformat_minor": 5
}
