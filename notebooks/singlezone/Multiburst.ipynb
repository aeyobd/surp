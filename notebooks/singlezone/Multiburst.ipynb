{
 "cells": [
  {
   "cell_type": "code",
   "execution_count": 1,
   "id": "a0f7bd70-72fa-43ad-9d06-e3d6e91a51a8",
   "metadata": {},
   "outputs": [],
   "source": [
    "%load_ext autoreload\n",
    "%autoreload 2\n",
    "%config Completer.use_jedi = False"
   ]
  },
  {
   "cell_type": "code",
   "execution_count": 2,
   "id": "ade5d0a8-307a-4807-b8f5-7a4f45ba4731",
   "metadata": {},
   "outputs": [],
   "source": [
    "import matplotlib.pyplot as plt\n",
    "import numpy as np\n",
    "import vice\n",
    "from imp import reload\n",
    "import warnings\n",
    "import scipy\n",
    "import pandas as pd\n",
    "\n",
    "import sys\n",
    "sys.path.append(\"../..\")\n"
   ]
  },
  {
   "cell_type": "code",
   "execution_count": 3,
   "id": "cf757515-9081-4a07-bc4d-f42abd0894a6",
   "metadata": {},
   "outputs": [],
   "source": [
    "import src.yields\n",
    "import src.analysis.vice_utils\n",
    "import src.analysis.plotting_utils as pluto\n",
    "import src.analysis.apogee_analysis as aah\n",
    "from src.yields import amplified_yields\n",
    "import src.analysis.gas_phase_data as gap"
   ]
  },
  {
   "cell_type": "code",
   "execution_count": 4,
   "id": "60b00dea-d161-4218-9542-20dc3d785dff",
   "metadata": {},
   "outputs": [],
   "source": [
    "sf = pluto.fig_saver(\"../../figures\")"
   ]
  },
  {
   "cell_type": "code",
   "execution_count": 5,
   "id": "5a84c369-99b0-4dbb-a263-7213fdf166b9",
   "metadata": {},
   "outputs": [],
   "source": [
    "def plot_data():\n",
    "    gap.plot_gas()"
   ]
  },
  {
   "cell_type": "markdown",
   "id": "b467ab84-ba48-40d6-bf79-f65eed8681bc",
   "metadata": {},
   "source": [
    "Stellar yields"
   ]
  },
  {
   "cell_type": "code",
   "execution_count": null,
   "id": "842008c8-3f77-408e-874c-7b0a5fa6bf46",
   "metadata": {},
   "outputs": [],
   "source": []
  },
  {
   "cell_type": "code",
   "execution_count": null,
   "id": "3cf70552-93a8-4bfe-9fe7-ce74099b1dba",
   "metadata": {},
   "outputs": [],
   "source": []
  },
  {
   "cell_type": "code",
   "execution_count": 6,
   "id": "c5c4dfa3-0548-4777-8ed2-0e426c0f2a07",
   "metadata": {},
   "outputs": [],
   "source": [
    "h07 = pd.DataFrame({\n",
    "    \"M\": [9, 40, 60, 85],\n",
    "    \"m_C\": [0.082, 1.79, 3.58, 7.89]\n",
    "})"
   ]
  },
  {
   "cell_type": "code",
   "execution_count": 7,
   "id": "8b1ae093-0f65-47db-9a56-c6122bef311e",
   "metadata": {},
   "outputs": [],
   "source": [
    "from vice.toolkit.interpolation import interp_scheme_1d"
   ]
  },
  {
   "cell_type": "code",
   "execution_count": 8,
   "id": "c84b3b4c-2ddd-4fd0-aedc-380981b1246f",
   "metadata": {},
   "outputs": [],
   "source": [
    "h07_m = interp_scheme_1d(h07.M.to_list(), h07.m_C.to_list())"
   ]
  },
  {
   "cell_type": "code",
   "execution_count": 9,
   "id": "7028a8a2-c877-4a53-8b16-ad6ce87aaf6e",
   "metadata": {},
   "outputs": [],
   "source": [
    "from scipy.integrate import quad\n",
    "imf = vice.imf.salpeter\n",
    "\n",
    "m_min = 9\n",
    "m_max = 100\n",
    "m_minmin = 0.08\n",
    "norm = quad(imf, m_minmin, m_max)[0]"
   ]
  },
  {
   "cell_type": "code",
   "execution_count": 10,
   "id": "22fa3fa2-4084-4cd7-b511-89436af38ffb",
   "metadata": {},
   "outputs": [],
   "source": [
    "int_yield = quad(lambda m: h07_m(m)*imf(m)/norm, m_min, 100)[0]"
   ]
  },
  {
   "cell_type": "code",
   "execution_count": 11,
   "id": "6cda6504-b7d4-42ad-a67e-73dd2ef4fae1",
   "metadata": {},
   "outputs": [
    {
     "data": {
      "text/plain": [
       "0.001372864247282318"
      ]
     },
     "execution_count": 11,
     "metadata": {},
     "output_type": "execute_result"
    }
   ],
   "source": [
    "int_yield"
   ]
  },
  {
   "cell_type": "code",
   "execution_count": 12,
   "id": "c906810c-70f8-4888-b530-607f50fb2b32",
   "metadata": {},
   "outputs": [],
   "source": [
    "# (mass, rot, metallicity) from mm02 + h07 for low\n",
    "z = [1e-8, 1e-5, 0.004, 0.02]\n",
    "y = [int_yield, 4.9e-4, 3.3e-4, 4.4e-4]"
   ]
  },
  {
   "cell_type": "code",
   "execution_count": 30,
   "id": "4e835531-8d95-46b0-996d-f957c4577a59",
   "metadata": {},
   "outputs": [],
   "source": [
    "vice.yields.ccsne.settings[\"c\"] = interp_scheme_1d(z, y)"
   ]
  },
  {
   "cell_type": "code",
   "execution_count": 14,
   "id": "ae062195-4bb8-4d69-a17d-285b5211b172",
   "metadata": {},
   "outputs": [],
   "source": [
    "tau_rise = 2\n",
    "tau_sfh = 30\n",
    "def insideout(t):\n",
    "    return 3*(1-np.exp(-t/tau_rise)) * np.exp(-t/tau_sfh)\n",
    "\n",
    "t_max = 13.2\n",
    "M_T = 0.1 # solar mases\n",
    "tau_scale = 5 # Gyr\n",
    "def ifr(t):\n",
    "    return M_T * (tau_scale *(1-np.exp(-t_max/tau_scale)))**(-1) *np.exp(-t/tau_scale)\n",
    "\n",
    "A = 1.5\n",
    "s_burst = 1\n",
    "t_burst = 11.2\n",
    "def lateburst(t):\n",
    "    return sfh(t) * (1 + A * np.exp(-(t-t_burst)**2/(2*s_burst**2)))"
   ]
  },
  {
   "cell_type": "code",
   "execution_count": 15,
   "id": "7624f6d3-5f4e-4bbb-b954-1118d15400a5",
   "metadata": {},
   "outputs": [],
   "source": [
    "sfr_0 = 10**-5\n",
    "tau_star = 50\n",
    "tau_star_q = 10**5  # Gyr\n",
    "\n",
    "def burst(t, t0, dt):\n",
    "    return (-tau_star_q + tau_star) * ((t < t0 + dt) & (t > t0))\n",
    "\n",
    "def sfr(t):\n",
    "    return 0.5*(t<9) +  (burst(t, 9, 1) + burst(t, 12.5, 1))"
   ]
  },
  {
   "cell_type": "code",
   "execution_count": 16,
   "id": "c75e5915-df65-4b84-b4fa-0e6637ec14b3",
   "metadata": {},
   "outputs": [
    {
     "data": {
      "text/plain": [
       "[<matplotlib.lines.Line2D at 0x2af1f84740b8>]"
      ]
     },
     "execution_count": 16,
     "metadata": {},
     "output_type": "execute_result"
    },
    {
     "data": {
      "image/png": "[encoded data removed]",
      "text/plain": [
       "<Figure size 360x360 with 1 Axes>"
      ]
     },
     "metadata": {},
     "output_type": "display_data"
    }
   ],
   "source": [
    "t = np.linspace(0, 13.)\n",
    "plt.plot(t, ifr(t))"
   ]
  },
  {
   "cell_type": "code",
   "execution_count": 169,
   "id": "ca62cc26-c94c-4d03-8946-a5ae908cb629",
   "metadata": {},
   "outputs": [],
   "source": [
    "\n",
    "def sfr(t):\n",
    "    return tau_star_q + (burst(t, 7, 0.15) + burst(t, 11, 0.15)\n",
    " + burst(t, 9, 0.15) + burst(t, 12.5, 0.15)) \n"
   ]
  },
  {
   "cell_type": "code",
   "execution_count": 170,
   "id": "21b7ffea-55d6-4128-9017-a5c1a7b74e2c",
   "metadata": {},
   "outputs": [],
   "source": [
    "vice.yields.agb.settings[\"c\"]  = \"karakas16\"\n",
    "vice.yields.agb.settings[\"o\"] = lambda m, z: 0\n",
    "vice.yields.sneia.settings[\"o\"] = 0\n",
    "vice.yields.ccsne.settings[\"o\"] = 4e-3"
   ]
  },
  {
   "cell_type": "code",
   "execution_count": 171,
   "id": "82fc12fa-234f-4872-b030-fffb6d542066",
   "metadata": {},
   "outputs": [],
   "source": [
    "def show_line(out, x, y, ax=None, fig=None, **kwargs):\n",
    "    if ax is None:\n",
    "        fig, ax = plt.subplots()\n",
    "    f = ax.plot(out.history[x], out.history[y], **kwargs)\n",
    "    ax.set_xlabel(x)\n",
    "    ax.set_ylabel(y)"
   ]
  },
  {
   "cell_type": "code",
   "execution_count": 172,
   "id": "0452c876-730b-4d83-809c-84905c3e0fbd",
   "metadata": {},
   "outputs": [],
   "source": [
    "def show(out, x, y, ax=None, fig=None):\n",
    "    if ax is None:\n",
    "        fig, ax = plt.subplots()\n",
    "    f = ax.scatter(out.history[x], out.history[y], c=out.history[\"time\"], cmap=\"cool\")\n",
    "    fig.colorbar(f, ax=ax, label=\"t/Gyr\")\n",
    "    ax.set_xlabel(x)\n",
    "    ax.set_ylabel(y)\n"
   ]
  },
  {
   "cell_type": "code",
   "execution_count": 173,
   "id": "f7f84ab8-17ae-4e54-9b32-5848c4e6de12",
   "metadata": {},
   "outputs": [],
   "source": [
    "tau_star = 2.5"
   ]
  },
  {
   "cell_type": "code",
   "execution_count": 195,
   "id": "d45af9cc-27f7-4f2e-976d-8250b389246c",
   "metadata": {},
   "outputs": [],
   "source": [
    "vice.yields.ccsne.settings[\"o\"] = 3*4e-3 \n",
    "vice.yields.ccsne.settings[\"c\"] = lambda x: 3*interp_scheme_1d(z, y)(x)\n",
    "M_T = 0.01"
   ]
  },
  {
   "cell_type": "code",
   "execution_count": 196,
   "id": "f74a64c6-96e9-42d1-9603-9a43650ef438",
   "metadata": {},
   "outputs": [],
   "source": [
    "model = vice.singlezone(func=ifr, mode=\"ifr\", tau_star = sfr, dt=0.01, \n",
    "                        elements=(\"n\", \"o\", \"fe\", \"c\"), schmidt=True,\n",
    "                       eta=0.5, enhancement=2)\n"
   ]
  },
  {
   "cell_type": "code",
   "execution_count": 197,
   "id": "d4d21173-acc3-4d46-9e91-2bae235ba0bb",
   "metadata": {
    "scrolled": true,
    "tags": []
   },
   "outputs": [],
   "source": [
    "t_max = 13.2\n",
    "out = model.run(np.linspace(0, t_max, round(100*t_max + 1)), \n",
    "                overwrite=True, capture=True)\n"
   ]
  },
  {
   "cell_type": "code",
   "execution_count": 199,
   "id": "2f8bd9b7-8515-4e59-a962-7b60d076b528",
   "metadata": {},
   "outputs": [
    {
     "data": {
      "text/plain": [
       "(-2.0, -0.0644093956103382)"
      ]
     },
     "execution_count": 199,
     "metadata": {},
     "output_type": "execute_result"
    },
    {
     "data": {
      "image/png": "[encoded data removed]",
      "text/plain": [
       "<Figure size 360x360 with 2 Axes>"
      ]
     },
     "metadata": {},
     "output_type": "display_data"
    }
   ],
   "source": [
    "show(out, \"[o/h]\", \"[c/o]\")\n",
    "plt.xlim(-2)"
   ]
  },
  {
   "cell_type": "code",
   "execution_count": 204,
   "id": "552cfc9f-e344-45be-b59a-a5ea6b74e76e",
   "metadata": {},
   "outputs": [],
   "source": [
    "\n",
    "def y_c(z):\n",
    "    return 0.004*(0.3 + 0.7*(z/0.014)**0.4)\n",
    "vice.yields.ccsne.settings[\"c\"] = y_c\n",
    "vice.yields.agb.settings[\"c\"]  = \"cristallo11\"\n",
    "vice.yields.agb.settings[\"o\"] = lambda m, z: 0\n",
    "vice.yields.sneia.settings[\"o\"] = 0\n",
    "# vice.yields.ccsne.settings[\"o\"] = 0.015\n",
    "\n",
    "def tau_star2(t):\n",
    "    return 10*(t < 3)\n",
    "model2 = vice.singlezone(func=ifr, mode=\"ifr\", dt=0.01, elements=(\"n\", \"o\", \"fe\", \"c\"), schmidt=True, tau_star=tau_star2)\n"
   ]
  },
  {
   "cell_type": "code",
   "execution_count": 205,
   "id": "157995a7-66e5-4d66-b94b-59a22abfc25e",
   "metadata": {
    "scrolled": true,
    "tags": []
   },
   "outputs": [
    {
     "name": "stderr",
     "output_type": "stream",
     "text": [
      "/users/PAS2232/aeyobd/.local/lib/python3.6/site-packages/vice/core/callback.py:119: ScienceWarning: Function <function callback1_nan_inf.__call__ at 0x2af0ea4c0d08> evaluated to NaN at (y_c, nan). Suppressing ArithmeticError by returning 0. Checking simulation output for numerical consistency is advised.\n",
      "  str(function), str(args)), ScienceWarning)\n"
     ]
    }
   ],
   "source": [
    "out2 = model2.run(np.linspace(0, t_max, round(100*t_max + 1)), overwrite=True, capture=True)"
   ]
  },
  {
   "cell_type": "code",
   "execution_count": 206,
   "id": "a99d3680-ac79-4d2d-8e94-7bc28573797c",
   "metadata": {},
   "outputs": [
    {
     "data": {
      "image/png": "[encoded data removed]",
      "text/plain": [
       "<Figure size 360x360 with 2 Axes>"
      ]
     },
     "metadata": {},
     "output_type": "display_data"
    }
   ],
   "source": [
    "show(out2, \"[o/h]\", \"[c/o]\")"
   ]
  },
  {
   "cell_type": "code",
   "execution_count": 207,
   "id": "c0a1d651-2330-41a2-a916-ee91be2b0fcf",
   "metadata": {},
   "outputs": [
    {
     "data": {
      "text/plain": [
       "(-3.0, 0.6244537574555031)"
      ]
     },
     "execution_count": 207,
     "metadata": {},
     "output_type": "execute_result"
    },
    {
     "data": {
      "image/png": "[encoded data removed]",
      "text/plain": [
       "<Figure size 360x360 with 1 Axes>"
      ]
     },
     "metadata": {},
     "output_type": "display_data"
    }
   ],
   "source": [
    "fig, ax = plt.subplots()\n",
    "show_line(out, \"[o/h]\", \"[c/o]\", ax=ax)\n",
    "show_line(out2, \"[o/h]\", \"[c/o]\", ax=ax)\n",
    "plot_data()\n",
    "plt.xlim(-3)"
   ]
  },
  {
   "cell_type": "code",
   "execution_count": null,
   "id": "1f2ca48e-cc88-418a-804a-520e24340b34",
   "metadata": {},
   "outputs": [],
   "source": []
  }
 ],
 "metadata": {
  "kernelspec": {
   "display_name": "Python 3 (ipykernel)",
   "language": "python",
   "name": "python3"
  },
  "language_info": {
   "codemirror_mode": {
    "name": "ipython",
    "version": 3
   },
   "file_extension": ".py",
   "mimetype": "text/x-python",
   "name": "python",
   "nbconvert_exporter": "python",
   "pygments_lexer": "ipython3",
   "version": "3.6.8"
  }
 },
 "nbformat": 4,
 "nbformat_minor": 5
}
