{
 "cells": [
  {
   "cell_type": "code",
   "execution_count": 1,
   "id": "55f450fc-8fce-4a8f-abb9-37ef78fc3c1a",
   "metadata": {},
   "outputs": [],
   "source": [
    "from astropy.io import fits\n",
    "import pandas as pd\n",
    "import matplotlib.pyplot as plt\n",
    "import matplotlib as mpl\n",
    "import numpy as np\n",
    "import pandas as pd\n",
    "\n",
    "import vice\n",
    "\n",
    "from astropy.table import Table\n",
    "import astropy as ap\n",
    "import astropy.units as u\n",
    "\n",
    "import surp"
   ]
  },
  {
   "cell_type": "code",
   "execution_count": 2,
   "id": "f71a8b69-4230-437d-99bf-0e1d1e3c2b7a",
   "metadata": {
    "scrolled": true,
    "tags": []
   },
   "outputs": [],
   "source": [
    "file_name = \"../../data/allStar-dr17-synspec_rev1.fits.1\"\n",
    "\n",
    "ff = fits.open(file_name, mmap=True)\n",
    "allStar = ff[1].data\n",
    "ff.close()"
   ]
  },
  {
   "cell_type": "code",
   "execution_count": 3,
   "id": "6d0ac7f1-c773-4cd0-a075-ca980d4449f9",
   "metadata": {},
   "outputs": [],
   "source": [
    "filename = \"../../data/apogee_astroNN-DR17.fits\"\n",
    "\n",
    "ff = fits.open(filename, mmap=True)\n",
    "astroNN = ff[1].data"
   ]
  },
  {
   "cell_type": "markdown",
   "id": "82af92a0-8315-4d45-a5ae-cc39f93155f3",
   "metadata": {},
   "source": [
    "remove stars with\n",
    "- STAR_BAD\n",
    "- NO_ASPCAP_RESULT\n",
    "- EXTRATARG=0\n",
    "\n",
    "- R=3-13kpc\n",
    "- |Z| < 2kpc\n",
    "- -0.75 < Mg/H < 0.45\n",
    "- S/N > 200 and Mg/H > -0.5\n",
    "- SN ? 100 otherwise\n",
    "- log g = 1-2.5\n",
    "- Teff = 4000-4600"
   ]
  },
  {
   "cell_type": "code",
   "execution_count": 4,
   "id": "e40e34cd-3833-4319-adb9-77883ecba08a",
   "metadata": {},
   "outputs": [],
   "source": [
    "apogee_aspcapflag = 1<<23 # starbad\n",
    "apogee_aspcapflag ^= 1<<31 # no_aspcap_result"
   ]
  },
  {
   "cell_type": "code",
   "execution_count": 5,
   "id": "f4af5746-1a82-415a-a71f-6fedfd785ad3",
   "metadata": {},
   "outputs": [
    {
     "name": "stdout",
     "output_type": "stream",
     "text": [
      "364344\n"
     ]
    }
   ],
   "source": [
    "mask = (allStar[\"ASPCAPFLAG\"] & apogee_aspcapflag) == 0\n",
    "mask &= allStar[\"EXTRATARG\"] == 0\n",
    "\n",
    "print(sum(mask))"
   ]
  },
  {
   "cell_type": "code",
   "execution_count": 6,
   "id": "21b000ba-49ee-4ad7-87cc-c466e0c56e26",
   "metadata": {},
   "outputs": [
    {
     "name": "stdout",
     "output_type": "stream",
     "text": [
      "29321\n"
     ]
    }
   ],
   "source": [
    "mg_h = allStar[\"MG_FE\"] + allStar[\"FE_H\"]\n",
    "mask &= -0.75 <= mg_h\n",
    "mask &= mg_h <= 0.45\n",
    "mask &= allStar[\"SNR\"] >= 100\n",
    "mask &= (mg_h < -0.5)  | (allStar[\"SNR\"] >= 200)\n",
    "\n",
    "mask &= allStar[\"LOGG\"] >= 1\n",
    "mask &= allStar[\"LOGG\"] <= 2.5\n",
    "mask &= allStar[\"TEFF\"] <= 4600\n",
    "mask &= allStar[\"TEFF\"] >= 4000\n",
    "\n",
    "print(sum(mask))"
   ]
  },
  {
   "cell_type": "code",
   "execution_count": 7,
   "id": "8c922ef7-f4e1-435a-a087-a02286996489",
   "metadata": {},
   "outputs": [],
   "source": [
    "filtered = allStar[mask]"
   ]
  },
  {
   "cell_type": "code",
   "execution_count": 9,
   "id": "93bf35b0-cf54-4251-a574-3e523d14e671",
   "metadata": {},
   "outputs": [],
   "source": [
    "df = pd.DataFrame(filtered.tolist(), columns = [c.name for c in filtered.columns])"
   ]
  },
  {
   "cell_type": "code",
   "execution_count": 10,
   "id": "b052941b-f4b9-40ad-b9da-aa736f5ac426",
   "metadata": {},
   "outputs": [],
   "source": [
    "df_aNN = pd.DataFrame(dict(\n",
    "    R_gal = astroNN[\"galr\"].byteswap().newbyteorder(),\n",
    "    z_gal = astroNN[\"galz\"].byteswap().newbyteorder()),\n",
    "    index = astroNN[\"APOGEE_ID\"].byteswap().newbyteorder())\n",
    "    \n",
    "\n"
   ]
  },
  {
   "cell_type": "code",
   "execution_count": 11,
   "id": "e98729d2-1cbf-4976-aef4-e41b6275d0cc",
   "metadata": {},
   "outputs": [],
   "source": [
    "joined = df.join(df_aNN, on=\"APOGEE_ID\", how=\"left\")"
   ]
  },
  {
   "cell_type": "code",
   "execution_count": 12,
   "id": "24571100-e191-497a-b345-fa588d8e519a",
   "metadata": {},
   "outputs": [
    {
     "data": {
      "text/plain": [
       "31763"
      ]
     },
     "execution_count": 12,
     "metadata": {},
     "output_type": "execute_result"
    }
   ],
   "source": [
    "len(joined)"
   ]
  },
  {
   "cell_type": "code",
   "execution_count": 13,
   "id": "59dd434c-7740-4306-94d0-9bd1a1ec5abc",
   "metadata": {},
   "outputs": [
    {
     "data": {
      "text/plain": [
       "29321"
      ]
     },
     "execution_count": 13,
     "metadata": {},
     "output_type": "execute_result"
    }
   ],
   "source": [
    "len(df)"
   ]
  },
  {
   "cell_type": "code",
   "execution_count": 14,
   "id": "70059388-abf4-4008-b0f9-85a51b6450cf",
   "metadata": {},
   "outputs": [],
   "source": [
    "mask = np.abs(joined[\"z_gal\"]) <= 2\n",
    "mask &= joined[\"R_gal\"] >= 3\n",
    "mask &= joined[\"R_gal\"] <= 13"
   ]
  },
  {
   "cell_type": "code",
   "execution_count": 16,
   "id": "b927bd6c-6170-431c-aed8-acc03af75bce",
   "metadata": {},
   "outputs": [],
   "source": [
    "df1 = joined[mask].copy()\n",
    "\n",
    "df1[\"MG_H\"] = df1[\"MG_FE\"] + df1[\"FE_H\"]\n",
    "df1[\"MG_H\"] = df1[\"MG_FE\"] + df1[\"FE_H\"]\n",
    "df1[\"C_H\"] = df1[\"C_FE\"] + df1[\"FE_H\"]\n",
    "df1[\"N_H\"] = df1[\"N_FE\"] + df1[\"FE_H\"]\n",
    "df1[\"C_MG\"] = df1[\"C_H\"] - df1[\"MG_H\"]\n",
    "df1[\"N_MG\"] = df1[\"N_H\"] - df1[\"MG_H\"]\n",
    "df1[\"CN_H\"] = surp.analysis.cpn(df1[\"C_H\"], df1[\"N_H\"])\n",
    "df1[\"CN_MG\"] = df1.CN_H - df1.MG_H\n",
    "\n",
    "\n",
    "df1[\"high_alpha\"] = surp.analysis.is_high_alpha(df1[\"MG_FE\"], df1[\"FE_H\"])\n",
    "\n",
    "df1.to_csv(\"../../data/apogee_cartography.csv\")"
   ]
  },
  {
   "cell_type": "code",
   "execution_count": 17,
   "id": "cd871436-ba27-4e8c-b52f-37748e528711",
   "metadata": {},
   "outputs": [
    {
     "data": {
      "text/plain": [
       "27784"
      ]
     },
     "execution_count": 17,
     "metadata": {},
     "output_type": "execute_result"
    }
   ],
   "source": [
    "len(df1)"
   ]
  },
  {
   "cell_type": "code",
   "execution_count": null,
   "id": "51fff195-3530-478d-b1ee-3527bcc956b1",
   "metadata": {},
   "outputs": [],
   "source": []
  }
 ],
 "metadata": {
  "kernelspec": {
   "display_name": "Python 3.9 (Conda 2022.05) [python/3.9-2022.05]",
   "language": "python",
   "name": "python39_202205"
  },
  "language_info": {
   "codemirror_mode": {
    "name": "ipython",
    "version": 3
   },
   "file_extension": ".py",
   "mimetype": "text/x-python",
   "name": "python",
   "nbconvert_exporter": "python",
   "pygments_lexer": "ipython3",
   "version": "3.9.12"
  }
 },
 "nbformat": 4,
 "nbformat_minor": 5
}
