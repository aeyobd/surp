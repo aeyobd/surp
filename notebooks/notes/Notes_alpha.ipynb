{
 "cells": [
  {
   "cell_type": "markdown",
   "id": "83d709b8-e199-47fe-a06b-ef15c324701e",
   "metadata": {},
   "source": [
    "# Modifying the AGB Fraction\n",
    "\n",
    "In this notebook, we explore models where we change the relative fractions of AGB and CCSNe production."
   ]
  },
  {
   "cell_type": "markdown",
   "id": "99466419-9052-407b-a21e-d55bd0c6cc4e",
   "metadata": {},
   "source": [
    "# Cristallo11\n",
    "This AGB model is the only one which has a close qualitative fit to the data. f_agb=0.4 qualitatively fits the data well, \n",
    "$$\n",
    "f_{agb} = 0.4\\\\\n",
    "\\alpha_{agb} = 6.4\\\\\n",
    "\\alpha_{cc} = 0.87\n",
    "$$\n",
    "\n",
    "So this requires a substantial AGB increase from the models predicted yields. \n"
   ]
  },
  {
   "cell_type": "markdown",
   "id": "8216fa0b-1c48-4ea0-bd92-b2caf744ec2b",
   "metadata": {},
   "source": [
    "# Karakas\n",
    "Karaks yields present a challenge: at higher metallicities, they show a \"U\" shaped CO-O/Fe relationship, because the models predict that low mass stars at high metallicity are carbon destroying. "
   ]
  },
  {
   "cell_type": "markdown",
   "id": "a8ab74cc-d4de-4bf5-be6a-604c22ee4aee",
   "metadata": {},
   "source": [
    "# Ventura\n",
    "these models are almost always carbon destroying and thus never reach the expected slope. "
   ]
  },
  {
   "cell_type": "code",
   "execution_count": null,
   "id": "c13b008c-11ae-4743-816b-ec71c0afd560",
   "metadata": {},
   "outputs": [],
   "source": []
  }
 ],
 "metadata": {
  "kernelspec": {
   "display_name": "Python 3",
   "language": "python",
   "name": "python3"
  },
  "language_info": {
   "codemirror_mode": {
    "name": "ipython",
    "version": 3
   },
   "file_extension": ".py",
   "mimetype": "text/x-python",
   "name": "python",
   "nbconvert_exporter": "python",
   "pygments_lexer": "ipython3",
   "version": "3.6.8"
  }
 },
 "nbformat": 4,
 "nbformat_minor": 5
}
