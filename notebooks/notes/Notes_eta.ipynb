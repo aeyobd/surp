{
 "cells": [
  {
   "cell_type": "markdown",
   "id": "57fb9192-ec1d-4fc3-9ce9-9631b70a001c",
   "metadata": {},
   "source": [
    "# Exploration of changing outflows"
   ]
  },
  {
   "cell_type": "markdown",
   "id": "5933f9e7-9e5b-4413-8e2e-6c672fb655b4",
   "metadata": {},
   "source": [
    "We explore what happens if outflows are reduced. \n",
    "\n",
    "Initially we run models with the outflows reduced and CCSNe yields increased by some constant factor, between 2 and 3. We later explore models which reduce outflows to correct such that the effective contribution to the ISM of pure CCSNe elements is unchanged. \n",
    "\n",
    "By reducing outflows and CCSNe yields by the same amount, these models in effect increase the relative yields of AGB and SNeIa. Lower outflows also results in a longer gas depletion time so the evolution to equilibrium is slower, mildly affecting evolutionary tracks. "
   ]
  },
  {
   "cell_type": "markdown",
   "id": "28af7c9f-6614-4b82-b9b5-2c55e6e87cbc",
   "metadata": {},
   "source": [
    "![](figures/ofefeh_stars_eta.jpeg)\n",
    "This plot shows [O/Fe]-[Fe/h]"
   ]
  },
  {
   "cell_type": "markdown",
   "id": "037cfa75-d2b3-4958-909c-0765fd0e78e9",
   "metadata": {},
   "source": [
    "![](figures/coofe_stars_eta.jpeg)"
   ]
  },
  {
   "cell_type": "markdown",
   "id": "94ee5880-65a1-421e-8ec7-a8179447d561",
   "metadata": {},
   "source": [
    "![](figures/tau_dep.jpeg)\n",
    "\n",
    "This plot shows "
   ]
  },
  {
   "cell_type": "code",
   "execution_count": null,
   "id": "a2b593d9-a841-4e67-83fa-03f47f0f1a6c",
   "metadata": {},
   "outputs": [],
   "source": []
  }
 ],
 "metadata": {
  "kernelspec": {
   "display_name": "Python 3",
   "language": "python",
   "name": "python3"
  },
  "language_info": {
   "codemirror_mode": {
    "name": "ipython",
    "version": 3
   },
   "file_extension": ".py",
   "mimetype": "text/x-python",
   "name": "python",
   "nbconvert_exporter": "python",
   "pygments_lexer": "ipython3",
   "version": "3.6.8"
  }
 },
 "nbformat": 4,
 "nbformat_minor": 5
}
