{
 "cells": [
  {
   "cell_type": "code",
   "execution_count": 1,
   "id": "bc569f55-7055-4591-8d17-cf3095dcd2e9",
   "metadata": {},
   "outputs": [],
   "source": [
    "from surp.src.analysis.vice_model import vice_model\n",
    "\n",
    "import numpy as np\n",
    "import pandas as pd\n",
    "from matplotlib import pyplot as plt"
   ]
  },
  {
   "cell_type": "code",
   "execution_count": 2,
   "id": "85aa248d-bbd7-4c62-a4f6-a23fa62e4926",
   "metadata": {},
   "outputs": [],
   "source": [
    "model = vice_model(\"../../output/C11_f0.2_eta1_beta0.001_twoexp0.3_dt0.2.json\")"
   ]
  },
  {
   "cell_type": "code",
   "execution_count": 3,
   "id": "3a9afe40-87c5-4075-9c57-30862617a7dd",
   "metadata": {},
   "outputs": [
    {
     "data": {
      "text/html": [
       "<div>\n",
       "<style scoped>\n",
       "    .dataframe tbody tr th:only-of-type {\n",
       "        vertical-align: middle;\n",
       "    }\n",
       "\n",
       "    .dataframe tbody tr th {\n",
       "        vertical-align: top;\n",
       "    }\n",
       "\n",
       "    .dataframe thead th {\n",
       "        text-align: right;\n",
       "    }\n",
       "</style>\n",
       "<table border=\"1\" class=\"dataframe\">\n",
       "  <thead>\n",
       "    <tr style=\"text-align: right;\">\n",
       "      <th></th>\n",
       "      <th>time</th>\n",
       "      <th>mgas</th>\n",
       "      <th>mstar</th>\n",
       "      <th>sfr</th>\n",
       "      <th>ifr</th>\n",
       "      <th>ofr</th>\n",
       "      <th>eta_0</th>\n",
       "      <th>r_eff</th>\n",
       "      <th>z_in(fe)</th>\n",
       "      <th>z_in(o)</th>\n",
       "      <th>...</th>\n",
       "      <th>[o/fe]</th>\n",
       "      <th>[n/fe]</th>\n",
       "      <th>[n/o]</th>\n",
       "      <th>[c/fe]</th>\n",
       "      <th>[c/o]</th>\n",
       "      <th>[c/n]</th>\n",
       "      <th>z</th>\n",
       "      <th>[m/h]</th>\n",
       "      <th>lookback</th>\n",
       "      <th>R</th>\n",
       "    </tr>\n",
       "  </thead>\n",
       "  <tbody>\n",
       "    <tr>\n",
       "      <th>5360</th>\n",
       "      <td>0.0</td>\n",
       "      <td>1.000000e-12</td>\n",
       "      <td>0.0</td>\n",
       "      <td>0.000000</td>\n",
       "      <td>NaN</td>\n",
       "      <td>3.486923e-318</td>\n",
       "      <td>2.171375</td>\n",
       "      <td>NaN</td>\n",
       "      <td>0.0</td>\n",
       "      <td>0.0</td>\n",
       "      <td>...</td>\n",
       "      <td>NaN</td>\n",
       "      <td>NaN</td>\n",
       "      <td>NaN</td>\n",
       "      <td>NaN</td>\n",
       "      <td>NaN</td>\n",
       "      <td>NaN</td>\n",
       "      <td>0.000000</td>\n",
       "      <td>-inf</td>\n",
       "      <td>13.2</td>\n",
       "      <td>8.0</td>\n",
       "    </tr>\n",
       "    <tr>\n",
       "      <th>5361</th>\n",
       "      <td>0.2</td>\n",
       "      <td>4.014314e+07</td>\n",
       "      <td>803291.2</td>\n",
       "      <td>0.005486</td>\n",
       "      <td>0.218114</td>\n",
       "      <td>1.191256e-02</td>\n",
       "      <td>2.171375</td>\n",
       "      <td>0.267896</td>\n",
       "      <td>0.0</td>\n",
       "      <td>0.0</td>\n",
       "      <td>...</td>\n",
       "      <td>0.450104</td>\n",
       "      <td>-0.257841</td>\n",
       "      <td>-0.707945</td>\n",
       "      <td>0.127931</td>\n",
       "      <td>-0.322173</td>\n",
       "      <td>0.385772</td>\n",
       "      <td>0.000679</td>\n",
       "      <td>-1.314473</td>\n",
       "      <td>13.0</td>\n",
       "      <td>8.0</td>\n",
       "    </tr>\n",
       "    <tr>\n",
       "      <th>5362</th>\n",
       "      <td>0.4</td>\n",
       "      <td>4.867552e+07</td>\n",
       "      <td>2136653.0</td>\n",
       "      <td>0.010314</td>\n",
       "      <td>0.073900</td>\n",
       "      <td>2.239462e-02</td>\n",
       "      <td>2.171375</td>\n",
       "      <td>0.282285</td>\n",
       "      <td>0.0</td>\n",
       "      <td>0.0</td>\n",
       "      <td>...</td>\n",
       "      <td>0.450104</td>\n",
       "      <td>-0.257841</td>\n",
       "      <td>-0.707945</td>\n",
       "      <td>0.132945</td>\n",
       "      <td>-0.317158</td>\n",
       "      <td>0.390787</td>\n",
       "      <td>0.001493</td>\n",
       "      <td>-0.971975</td>\n",
       "      <td>12.8</td>\n",
       "      <td>8.0</td>\n",
       "    </tr>\n",
       "    <tr>\n",
       "      <th>5363</th>\n",
       "      <td>0.6</td>\n",
       "      <td>5.439566e+07</td>\n",
       "      <td>4192902.0</td>\n",
       "      <td>0.014554</td>\n",
       "      <td>0.071844</td>\n",
       "      <td>3.160128e-02</td>\n",
       "      <td>2.171375</td>\n",
       "      <td>0.297554</td>\n",
       "      <td>0.0</td>\n",
       "      <td>0.0</td>\n",
       "      <td>...</td>\n",
       "      <td>0.415411</td>\n",
       "      <td>-0.277269</td>\n",
       "      <td>-0.692680</td>\n",
       "      <td>0.110218</td>\n",
       "      <td>-0.305194</td>\n",
       "      <td>0.387486</td>\n",
       "      <td>0.002374</td>\n",
       "      <td>-0.770685</td>\n",
       "      <td>12.6</td>\n",
       "      <td>8.0</td>\n",
       "    </tr>\n",
       "    <tr>\n",
       "      <th>5364</th>\n",
       "      <td>0.8</td>\n",
       "      <td>5.875393e+07</td>\n",
       "      <td>6259048.0</td>\n",
       "      <td>0.018270</td>\n",
       "      <td>0.075402</td>\n",
       "      <td>3.967101e-02</td>\n",
       "      <td>2.171375</td>\n",
       "      <td>0.302169</td>\n",
       "      <td>0.0</td>\n",
       "      <td>0.0</td>\n",
       "      <td>...</td>\n",
       "      <td>0.368047</td>\n",
       "      <td>-0.299191</td>\n",
       "      <td>-0.667238</td>\n",
       "      <td>0.076726</td>\n",
       "      <td>-0.291321</td>\n",
       "      <td>0.375917</td>\n",
       "      <td>0.003246</td>\n",
       "      <td>-0.634844</td>\n",
       "      <td>12.4</td>\n",
       "      <td>8.0</td>\n",
       "    </tr>\n",
       "    <tr>\n",
       "      <th>...</th>\n",
       "      <td>...</td>\n",
       "      <td>...</td>\n",
       "      <td>...</td>\n",
       "      <td>...</td>\n",
       "      <td>...</td>\n",
       "      <td>...</td>\n",
       "      <td>...</td>\n",
       "      <td>...</td>\n",
       "      <td>...</td>\n",
       "      <td>...</td>\n",
       "      <td>...</td>\n",
       "      <td>...</td>\n",
       "      <td>...</td>\n",
       "      <td>...</td>\n",
       "      <td>...</td>\n",
       "      <td>...</td>\n",
       "      <td>...</td>\n",
       "      <td>...</td>\n",
       "      <td>...</td>\n",
       "      <td>...</td>\n",
       "      <td>...</td>\n",
       "    </tr>\n",
       "    <tr>\n",
       "      <th>5422</th>\n",
       "      <td>12.4</td>\n",
       "      <td>8.391274e+07</td>\n",
       "      <td>205624900.0</td>\n",
       "      <td>0.025807</td>\n",
       "      <td>0.069133</td>\n",
       "      <td>5.603640e-02</td>\n",
       "      <td>2.171375</td>\n",
       "      <td>0.438745</td>\n",
       "      <td>0.0</td>\n",
       "      <td>0.0</td>\n",
       "      <td>...</td>\n",
       "      <td>-0.098693</td>\n",
       "      <td>-0.242209</td>\n",
       "      <td>-0.143517</td>\n",
       "      <td>-0.166292</td>\n",
       "      <td>-0.067600</td>\n",
       "      <td>0.075917</td>\n",
       "      <td>0.011379</td>\n",
       "      <td>-0.090006</td>\n",
       "      <td>0.8</td>\n",
       "      <td>8.0</td>\n",
       "    </tr>\n",
       "    <tr>\n",
       "      <th>5423</th>\n",
       "      <td>12.6</td>\n",
       "      <td>8.377291e+07</td>\n",
       "      <td>225358800.0</td>\n",
       "      <td>0.025467</td>\n",
       "      <td>0.068744</td>\n",
       "      <td>5.529879e-02</td>\n",
       "      <td>2.171375</td>\n",
       "      <td>0.445833</td>\n",
       "      <td>0.0</td>\n",
       "      <td>0.0</td>\n",
       "      <td>...</td>\n",
       "      <td>-0.089836</td>\n",
       "      <td>-0.245392</td>\n",
       "      <td>-0.155556</td>\n",
       "      <td>-0.163351</td>\n",
       "      <td>-0.073515</td>\n",
       "      <td>0.082042</td>\n",
       "      <td>0.011297</td>\n",
       "      <td>-0.093169</td>\n",
       "      <td>0.6</td>\n",
       "      <td>8.0</td>\n",
       "    </tr>\n",
       "    <tr>\n",
       "      <th>5424</th>\n",
       "      <td>12.8</td>\n",
       "      <td>8.363156e+07</td>\n",
       "      <td>243806200.0</td>\n",
       "      <td>0.025133</td>\n",
       "      <td>0.067644</td>\n",
       "      <td>5.457243e-02</td>\n",
       "      <td>2.171375</td>\n",
       "      <td>0.488457</td>\n",
       "      <td>0.0</td>\n",
       "      <td>0.0</td>\n",
       "      <td>...</td>\n",
       "      <td>-0.084253</td>\n",
       "      <td>-0.249071</td>\n",
       "      <td>-0.164818</td>\n",
       "      <td>-0.164016</td>\n",
       "      <td>-0.079763</td>\n",
       "      <td>0.085055</td>\n",
       "      <td>0.011234</td>\n",
       "      <td>-0.095574</td>\n",
       "      <td>0.4</td>\n",
       "      <td>8.0</td>\n",
       "    </tr>\n",
       "    <tr>\n",
       "      <th>5425</th>\n",
       "      <td>13.0</td>\n",
       "      <td>8.348863e+07</td>\n",
       "      <td>246375000.0</td>\n",
       "      <td>0.024803</td>\n",
       "      <td>0.065669</td>\n",
       "      <td>5.385680e-02</td>\n",
       "      <td>2.171375</td>\n",
       "      <td>0.482166</td>\n",
       "      <td>0.0</td>\n",
       "      <td>0.0</td>\n",
       "      <td>...</td>\n",
       "      <td>-0.091614</td>\n",
       "      <td>-0.249217</td>\n",
       "      <td>-0.157603</td>\n",
       "      <td>-0.174731</td>\n",
       "      <td>-0.083117</td>\n",
       "      <td>0.074486</td>\n",
       "      <td>0.011294</td>\n",
       "      <td>-0.093278</td>\n",
       "      <td>0.2</td>\n",
       "      <td>8.0</td>\n",
       "    </tr>\n",
       "    <tr>\n",
       "      <th>5426</th>\n",
       "      <td>13.2</td>\n",
       "      <td>8.334408e+07</td>\n",
       "      <td>248918900.0</td>\n",
       "      <td>0.024478</td>\n",
       "      <td>0.064948</td>\n",
       "      <td>5.315147e-02</td>\n",
       "      <td>2.171375</td>\n",
       "      <td>0.480362</td>\n",
       "      <td>0.0</td>\n",
       "      <td>0.0</td>\n",
       "      <td>...</td>\n",
       "      <td>-0.094770</td>\n",
       "      <td>-0.250975</td>\n",
       "      <td>-0.156205</td>\n",
       "      <td>-0.178143</td>\n",
       "      <td>-0.083373</td>\n",
       "      <td>0.072832</td>\n",
       "      <td>0.011338</td>\n",
       "      <td>-0.091609</td>\n",
       "      <td>0.0</td>\n",
       "      <td>8.0</td>\n",
       "    </tr>\n",
       "  </tbody>\n",
       "</table>\n",
       "<p>67 rows × 38 columns</p>\n",
       "</div>"
      ],
      "text/plain": [
       "      time          mgas        mstar       sfr       ifr            ofr  \\\n",
       "5360   0.0  1.000000e-12          0.0  0.000000       NaN  3.486923e-318   \n",
       "5361   0.2  4.014314e+07     803291.2  0.005486  0.218114   1.191256e-02   \n",
       "5362   0.4  4.867552e+07    2136653.0  0.010314  0.073900   2.239462e-02   \n",
       "5363   0.6  5.439566e+07    4192902.0  0.014554  0.071844   3.160128e-02   \n",
       "5364   0.8  5.875393e+07    6259048.0  0.018270  0.075402   3.967101e-02   \n",
       "...    ...           ...          ...       ...       ...            ...   \n",
       "5422  12.4  8.391274e+07  205624900.0  0.025807  0.069133   5.603640e-02   \n",
       "5423  12.6  8.377291e+07  225358800.0  0.025467  0.068744   5.529879e-02   \n",
       "5424  12.8  8.363156e+07  243806200.0  0.025133  0.067644   5.457243e-02   \n",
       "5425  13.0  8.348863e+07  246375000.0  0.024803  0.065669   5.385680e-02   \n",
       "5426  13.2  8.334408e+07  248918900.0  0.024478  0.064948   5.315147e-02   \n",
       "\n",
       "         eta_0     r_eff  z_in(fe)  z_in(o)  ...    [o/fe]    [n/fe]  \\\n",
       "5360  2.171375       NaN       0.0      0.0  ...       NaN       NaN   \n",
       "5361  2.171375  0.267896       0.0      0.0  ...  0.450104 -0.257841   \n",
       "5362  2.171375  0.282285       0.0      0.0  ...  0.450104 -0.257841   \n",
       "5363  2.171375  0.297554       0.0      0.0  ...  0.415411 -0.277269   \n",
       "5364  2.171375  0.302169       0.0      0.0  ...  0.368047 -0.299191   \n",
       "...        ...       ...       ...      ...  ...       ...       ...   \n",
       "5422  2.171375  0.438745       0.0      0.0  ... -0.098693 -0.242209   \n",
       "5423  2.171375  0.445833       0.0      0.0  ... -0.089836 -0.245392   \n",
       "5424  2.171375  0.488457       0.0      0.0  ... -0.084253 -0.249071   \n",
       "5425  2.171375  0.482166       0.0      0.0  ... -0.091614 -0.249217   \n",
       "5426  2.171375  0.480362       0.0      0.0  ... -0.094770 -0.250975   \n",
       "\n",
       "         [n/o]    [c/fe]     [c/o]     [c/n]         z     [m/h]  lookback  \\\n",
       "5360       NaN       NaN       NaN       NaN  0.000000      -inf      13.2   \n",
       "5361 -0.707945  0.127931 -0.322173  0.385772  0.000679 -1.314473      13.0   \n",
       "5362 -0.707945  0.132945 -0.317158  0.390787  0.001493 -0.971975      12.8   \n",
       "5363 -0.692680  0.110218 -0.305194  0.387486  0.002374 -0.770685      12.6   \n",
       "5364 -0.667238  0.076726 -0.291321  0.375917  0.003246 -0.634844      12.4   \n",
       "...        ...       ...       ...       ...       ...       ...       ...   \n",
       "5422 -0.143517 -0.166292 -0.067600  0.075917  0.011379 -0.090006       0.8   \n",
       "5423 -0.155556 -0.163351 -0.073515  0.082042  0.011297 -0.093169       0.6   \n",
       "5424 -0.164818 -0.164016 -0.079763  0.085055  0.011234 -0.095574       0.4   \n",
       "5425 -0.157603 -0.174731 -0.083117  0.074486  0.011294 -0.093278       0.2   \n",
       "5426 -0.156205 -0.178143 -0.083373  0.072832  0.011338 -0.091609       0.0   \n",
       "\n",
       "        R  \n",
       "5360  8.0  \n",
       "5361  8.0  \n",
       "5362  8.0  \n",
       "5363  8.0  \n",
       "5364  8.0  \n",
       "...   ...  \n",
       "5422  8.0  \n",
       "5423  8.0  \n",
       "5424  8.0  \n",
       "5425  8.0  \n",
       "5426  8.0  \n",
       "\n",
       "[67 rows x 38 columns]"
      ]
     },
     "execution_count": 3,
     "metadata": {},
     "output_type": "execute_result"
    }
   ],
   "source": [
    "R = 8.0\n",
    "\n",
    "df = model.history[model.history.R == R]\n",
    "df"
   ]
  },
  {
   "cell_type": "code",
   "execution_count": 4,
   "id": "5ab71cbd-c8c3-4659-910f-d1db947950fd",
   "metadata": {},
   "outputs": [
    {
     "data": {
      "text/plain": [
       "Text(0, 0.5, 'SFR')"
      ]
     },
     "execution_count": 4,
     "metadata": {},
     "output_type": "execute_result"
    },
    {
     "data": {
      "image/png": "[encoded data removed]",
      "text/plain": [
       "<Figure size 432x288 with 1 Axes>"
      ]
     },
     "metadata": {
      "needs_background": "light"
     },
     "output_type": "display_data"
    }
   ],
   "source": [
    "plt.scatter(df.time, df.sfr)\n",
    "plt.xlabel(\"t (Gyr)\")\n",
    "plt.ylabel(\"SFR\")"
   ]
  },
  {
   "cell_type": "code",
   "execution_count": 11,
   "id": "4ae218cc-4c26-4c1c-bdf6-e67cad48b9c6",
   "metadata": {},
   "outputs": [
    {
     "data": {
      "image/png": "[encoded data removed]",
      "text/plain": [
       "<Figure size 432x288 with 2 Axes>"
      ]
     },
     "metadata": {
      "needs_background": "light"
     },
     "output_type": "display_data"
    }
   ],
   "source": [
    "model.plot_coofe(o_h_0=0.2)\n"
   ]
  },
  {
   "cell_type": "code",
   "execution_count": 39,
   "id": "a1cb2251-8dcd-4b84-abd0-dafe432855d8",
   "metadata": {},
   "outputs": [],
   "source": [
    "vice.yields.agb.settings[\"o\"] = \"ventura13\""
   ]
  },
  {
   "cell_type": "code",
   "execution_count": 49,
   "id": "6cc18e5b-7626-4cf5-b7d5-bfb74e64db37",
   "metadata": {},
   "outputs": [
    {
     "data": {
      "text/plain": [
       "1.2161076543805807e-05"
      ]
     },
     "execution_count": 49,
     "metadata": {},
     "output_type": "execute_result"
    }
   ],
   "source": [
    "vice.single_stellar_population(\"mg\", Z=0.1)[0][-1]/1e6 - vice.yields.ccsne.settings[\"mg\"]"
   ]
  },
  {
   "cell_type": "code",
   "execution_count": 47,
   "id": "f3e6279e-be69-4cac-9d66-b7befe9ebff1",
   "metadata": {},
   "outputs": [
    {
     "data": {
      "text/plain": [
       "0.7209631728045326"
      ]
     },
     "execution_count": 47,
     "metadata": {},
     "output_type": "execute_result"
    }
   ],
   "source": [
    "0.000509/vice.solar_z(\"mg\")"
   ]
  },
  {
   "cell_type": "code",
   "execution_count": 48,
   "id": "dce9fba9-cabc-4d34-a2bc-5966730bbd50",
   "metadata": {},
   "outputs": [
    {
     "data": {
      "text/plain": [
       "0.000497"
      ]
     },
     "execution_count": 48,
     "metadata": {},
     "output_type": "execute_result"
    }
   ],
   "source": [
    "vice.yields.ccsne.settings[\"mg\"]"
   ]
  },
  {
   "cell_type": "code",
   "execution_count": 51,
   "id": "d603b0bb-3ae5-4187-9e45-62d72162cdd4",
   "metadata": {},
   "outputs": [
    {
     "data": {
      "text/plain": [
       "0.12342657342657343"
      ]
     },
     "execution_count": 51,
     "metadata": {},
     "output_type": "execute_result"
    }
   ],
   "source": [
    "vice.solar_z(\"mg\")/vice.solar_z(\"o\")"
   ]
  },
  {
   "cell_type": "code",
   "execution_count": 52,
   "id": "9f225440-cf40-4407-86fc-8a80c964b03f",
   "metadata": {},
   "outputs": [
    {
     "data": {
      "text/plain": [
       "0.015"
      ]
     },
     "execution_count": 52,
     "metadata": {},
     "output_type": "execute_result"
    }
   ],
   "source": [
    "vice.yields.ccsne.settings[\"o\"]"
   ]
  },
  {
   "cell_type": "code",
   "execution_count": 12,
   "id": "267ba438-731b-4a96-ae65-d3a14082c9af",
   "metadata": {},
   "outputs": [
    {
     "data": {
      "text/plain": [
       "0.0018509999999999998"
      ]
     },
     "execution_count": 12,
     "metadata": {},
     "output_type": "execute_result"
    }
   ],
   "source": [
    "0.015*0.1234"
   ]
  },
  {
   "cell_type": "code",
   "execution_count": null,
   "id": "fd63579b-cbdd-4198-a9e9-de41b7f1ae82",
   "metadata": {},
   "outputs": [],
   "source": []
  }
 ],
 "metadata": {
  "kernelspec": {
   "display_name": "Python 3.9 (Conda 2022.05) [python/3.9-2022.05]",
   "language": "python",
   "name": "python39_202205"
  },
  "language_info": {
   "codemirror_mode": {
    "name": "ipython",
    "version": 3
   },
   "file_extension": ".py",
   "mimetype": "text/x-python",
   "name": "python",
   "nbconvert_exporter": "python",
   "pygments_lexer": "ipython3",
   "version": "3.9.12"
  }
 },
 "nbformat": 4,
 "nbformat_minor": 5
}
