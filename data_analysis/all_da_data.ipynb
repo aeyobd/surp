{
 "cells": [
  {
   "cell_type": "code",
   "execution_count": 23,
   "id": "76142246-c44d-4eeb-8edc-d5db2c7913d1",
   "metadata": {},
   "outputs": [
    {
     "name": "stdout",
     "output_type": "stream",
     "text": [
      "The autoreload extension is already loaded. To reload it, use:\n",
      "  %reload_ext autoreload\n"
     ]
    }
   ],
   "source": [
    "%load_ext autoreload\n",
    "%autoreload 2\n",
    "%config Completer.use_jedi = False"
   ]
  },
  {
   "cell_type": "code",
   "execution_count": 24,
   "id": "8adda81f-b6bb-4bfb-a1a2-2c41120f6fb8",
   "metadata": {},
   "outputs": [],
   "source": [
    "import pandas as pd\n",
    "import matplotlib.pyplot as plt\n",
    "import numpy as np\n",
    "import vice\n",
    "\n",
    "import sys\n",
    "sys.path.append(\"../..\")"
   ]
  },
  {
   "cell_type": "code",
   "execution_count": 25,
   "id": "ecf799f3-2599-4877-986c-bfd3e74bf79f",
   "metadata": {},
   "outputs": [],
   "source": [
    "import surp.analysis_scripts.rc_params\n",
    "import surp.analysis_scripts.gas_phase_data as gap\n",
    "import surp.analysis_scripts.plotting_utils as pluto\n",
    "import surp.analysis_scripts.apogee_analysis as aah\n",
    "from surp .analysis_scripts.vice_model import vice_model"
   ]
  },
  {
   "cell_type": "code",
   "execution_count": 26,
   "id": "98105d9d-28bb-452b-9bcb-e15dffeedc35",
   "metadata": {},
   "outputs": [],
   "source": [
    "berg19 = pd.read_csv(\"../data/berg19.csv\")"
   ]
  },
  {
   "cell_type": "code",
   "execution_count": 27,
   "id": "0765a893-53ca-4071-8508-b653286f8c2c",
   "metadata": {},
   "outputs": [],
   "source": [
    "berg19 = berg19.iloc[:-1]"
   ]
  },
  {
   "cell_type": "code",
   "execution_count": 28,
   "id": "da2b67e0-6d9b-4e07-a7d4-dcba0593639e",
   "metadata": {},
   "outputs": [],
   "source": [
    "cooke17 = pd.read_csv(\"../data/cooke17.csv\")"
   ]
  },
  {
   "cell_type": "code",
   "execution_count": 56,
   "id": "a8498749",
   "metadata": {},
   "outputs": [
    {
     "name": "stderr",
     "output_type": "stream",
     "text": [
      "/apps/project/ondemand/app_jupyter/3.0.17/lib64/python3.6/site-packages/ipykernel_launcher.py:1: ParserWarning: Falling back to the 'python' engine because the 'c' engine does not support regex separators (separators > 1 char and different from '\\s+' are interpreted as regex); you can avoid this warning by specifying engine='python'.\n",
      "  \"\"\"Entry point for launching an IPython kernel.\n"
     ]
    }
   ],
   "source": [
    "RL = pd.read_csv(\"../data/extragalactic_RL.csv\", sep=\"\\t+\")"
   ]
  },
  {
   "cell_type": "code",
   "execution_count": 57,
   "id": "16f6242d-5460-492a-9e5d-15d51be7e36a",
   "metadata": {},
   "outputs": [
    {
     "data": {
      "text/html": [
       "<div>\n",
       "<style scoped>\n",
       "    .dataframe tbody tr th:only-of-type {\n",
       "        vertical-align: middle;\n",
       "    }\n",
       "\n",
       "    .dataframe tbody tr th {\n",
       "        vertical-align: top;\n",
       "    }\n",
       "\n",
       "    .dataframe thead th {\n",
       "        text-align: right;\n",
       "    }\n",
       "</style>\n",
       "<table border=\"1\" class=\"dataframe\">\n",
       "  <thead>\n",
       "    <tr style=\"text-align: right;\">\n",
       "      <th></th>\n",
       "      <th>source</th>\n",
       "      <th>galaxy</th>\n",
       "      <th>class</th>\n",
       "      <th>object</th>\n",
       "      <th>eps_c</th>\n",
       "      <th>c_err</th>\n",
       "      <th>eps_n</th>\n",
       "      <th>n_err</th>\n",
       "      <th>eps_o</th>\n",
       "      <th>o_err</th>\n",
       "      <th>eps_fe</th>\n",
       "      <th>fe_err</th>\n",
       "    </tr>\n",
       "  </thead>\n",
       "  <tbody>\n",
       "    <tr>\n",
       "      <th>0</th>\n",
       "      <td>E02</td>\n",
       "      <td>NGC 5471</td>\n",
       "      <td>?</td>\n",
       "      <td>?</td>\n",
       "      <td>NaN</td>\n",
       "      <td>NaN</td>\n",
       "      <td>6.51</td>\n",
       "      <td>0.15</td>\n",
       "      <td>8.03</td>\n",
       "      <td>0.05</td>\n",
       "      <td>NaN</td>\n",
       "      <td>NaN</td>\n",
       "    </tr>\n",
       "    <tr>\n",
       "      <th>1</th>\n",
       "      <td>E09</td>\n",
       "      <td>M31</td>\n",
       "      <td>S</td>\n",
       "      <td>K932</td>\n",
       "      <td>8.46</td>\n",
       "      <td>0.13</td>\n",
       "      <td>7.63</td>\n",
       "      <td>0.06</td>\n",
       "      <td>8.62</td>\n",
       "      <td>0.03</td>\n",
       "      <td>5.90</td>\n",
       "      <td>0.09</td>\n",
       "    </tr>\n",
       "    <tr>\n",
       "      <th>2</th>\n",
       "      <td>E09</td>\n",
       "      <td>M33</td>\n",
       "      <td>Sc</td>\n",
       "      <td>NGC 595</td>\n",
       "      <td>8.53</td>\n",
       "      <td>0.12</td>\n",
       "      <td>7.53</td>\n",
       "      <td>0.10</td>\n",
       "      <td>8.69</td>\n",
       "      <td>0.05</td>\n",
       "      <td>5.55</td>\n",
       "      <td>0.21</td>\n",
       "    </tr>\n",
       "    <tr>\n",
       "      <th>3</th>\n",
       "      <td>E09</td>\n",
       "      <td>M33</td>\n",
       "      <td>Sc</td>\n",
       "      <td>NGC 604</td>\n",
       "      <td>8.40</td>\n",
       "      <td>0.11</td>\n",
       "      <td>7.49</td>\n",
       "      <td>0.07</td>\n",
       "      <td>8.60</td>\n",
       "      <td>0.03</td>\n",
       "      <td>5.94</td>\n",
       "      <td>0.11</td>\n",
       "    </tr>\n",
       "    <tr>\n",
       "      <th>4</th>\n",
       "      <td>E09</td>\n",
       "      <td>NGC 2366</td>\n",
       "      <td>Ir</td>\n",
       "      <td>NGC 2363</td>\n",
       "      <td>7.75</td>\n",
       "      <td>0.09</td>\n",
       "      <td>6.70</td>\n",
       "      <td>0.10</td>\n",
       "      <td>8.04</td>\n",
       "      <td>0.05</td>\n",
       "      <td>5.71</td>\n",
       "      <td>0.23</td>\n",
       "    </tr>\n",
       "    <tr>\n",
       "      <th>5</th>\n",
       "      <td>E09</td>\n",
       "      <td>NGC 2403</td>\n",
       "      <td>Sc</td>\n",
       "      <td>VS 24</td>\n",
       "      <td>8.46</td>\n",
       "      <td>0.24</td>\n",
       "      <td>7.35</td>\n",
       "      <td>0.07</td>\n",
       "      <td>8.37</td>\n",
       "      <td>0.04</td>\n",
       "      <td>5.71</td>\n",
       "      <td>0.19</td>\n",
       "    </tr>\n",
       "    <tr>\n",
       "      <th>6</th>\n",
       "      <td>E09</td>\n",
       "      <td>NGC 2403</td>\n",
       "      <td>Sc</td>\n",
       "      <td>VS 38</td>\n",
       "      <td>8.50</td>\n",
       "      <td>0.15</td>\n",
       "      <td>7.23</td>\n",
       "      <td>0.11</td>\n",
       "      <td>8.29</td>\n",
       "      <td>0.05</td>\n",
       "      <td>5.58</td>\n",
       "      <td>0.35</td>\n",
       "    </tr>\n",
       "    <tr>\n",
       "      <th>7</th>\n",
       "      <td>E09</td>\n",
       "      <td>NGC 2403</td>\n",
       "      <td>Sc</td>\n",
       "      <td>VS 44</td>\n",
       "      <td>8.32</td>\n",
       "      <td>0.18</td>\n",
       "      <td>7.52</td>\n",
       "      <td>0.08</td>\n",
       "      <td>8.61</td>\n",
       "      <td>0.04</td>\n",
       "      <td>6.13</td>\n",
       "      <td>0.12</td>\n",
       "    </tr>\n",
       "    <tr>\n",
       "      <th>8</th>\n",
       "      <td>E09</td>\n",
       "      <td>M101</td>\n",
       "      <td>Sc</td>\n",
       "      <td>H1013</td>\n",
       "      <td>8.67</td>\n",
       "      <td>0.12</td>\n",
       "      <td>7.82</td>\n",
       "      <td>0.19</td>\n",
       "      <td>8.73</td>\n",
       "      <td>0.09</td>\n",
       "      <td>5.98</td>\n",
       "      <td>0.26</td>\n",
       "    </tr>\n",
       "    <tr>\n",
       "      <th>9</th>\n",
       "      <td>E09</td>\n",
       "      <td>M101</td>\n",
       "      <td>Sc</td>\n",
       "      <td>NGC 5461</td>\n",
       "      <td>8.30</td>\n",
       "      <td>0.20</td>\n",
       "      <td>7.54</td>\n",
       "      <td>0.11</td>\n",
       "      <td>8.49</td>\n",
       "      <td>0.06</td>\n",
       "      <td>6.15</td>\n",
       "      <td>0.21</td>\n",
       "    </tr>\n",
       "    <tr>\n",
       "      <th>10</th>\n",
       "      <td>E09</td>\n",
       "      <td>M101</td>\n",
       "      <td>Sc</td>\n",
       "      <td>NGC 5447</td>\n",
       "      <td>8.20</td>\n",
       "      <td>0.12</td>\n",
       "      <td>7.39</td>\n",
       "      <td>0.13</td>\n",
       "      <td>8.52</td>\n",
       "      <td>0.06</td>\n",
       "      <td>6.23</td>\n",
       "      <td>0.35</td>\n",
       "    </tr>\n",
       "    <tr>\n",
       "      <th>11</th>\n",
       "      <td>E09</td>\n",
       "      <td>NGC 1741</td>\n",
       "      <td>Im D</td>\n",
       "      <td>Zone C</td>\n",
       "      <td>NaN</td>\n",
       "      <td>NaN</td>\n",
       "      <td>7.36</td>\n",
       "      <td>0.18</td>\n",
       "      <td>8.41</td>\n",
       "      <td>0.06</td>\n",
       "      <td>5.95</td>\n",
       "      <td>0.25</td>\n",
       "    </tr>\n",
       "    <tr>\n",
       "      <th>12</th>\n",
       "      <td>E09</td>\n",
       "      <td>NGC 4395</td>\n",
       "      <td>SA(s)m</td>\n",
       "      <td>Reg 70</td>\n",
       "      <td>NaN</td>\n",
       "      <td>NaN</td>\n",
       "      <td>6.56</td>\n",
       "      <td>0.28</td>\n",
       "      <td>8.09</td>\n",
       "      <td>0.15</td>\n",
       "      <td>5.97</td>\n",
       "      <td>0.42</td>\n",
       "    </tr>\n",
       "    <tr>\n",
       "      <th>13</th>\n",
       "      <td>E09</td>\n",
       "      <td>NGC 4861</td>\n",
       "      <td>Im/BCD</td>\n",
       "      <td>Brightest</td>\n",
       "      <td>NaN</td>\n",
       "      <td>NaN</td>\n",
       "      <td>6.56</td>\n",
       "      <td>0.28</td>\n",
       "      <td>8.05</td>\n",
       "      <td>0.04</td>\n",
       "      <td>5.45</td>\n",
       "      <td>0.33</td>\n",
       "    </tr>\n",
       "    <tr>\n",
       "      <th>14</th>\n",
       "      <td>E09</td>\n",
       "      <td>M83</td>\n",
       "      <td>SABc</td>\n",
       "      <td>Nucleus</td>\n",
       "      <td>NaN</td>\n",
       "      <td>NaN</td>\n",
       "      <td>8.51</td>\n",
       "      <td>0.15</td>\n",
       "      <td>8.97</td>\n",
       "      <td>0.08</td>\n",
       "      <td>NaN</td>\n",
       "      <td>NaN</td>\n",
       "    </tr>\n",
       "    <tr>\n",
       "      <th>15</th>\n",
       "      <td>E14</td>\n",
       "      <td>NGC 6822</td>\n",
       "      <td>D/Ir</td>\n",
       "      <td>?</td>\n",
       "      <td>7.83</td>\n",
       "      <td>0.10</td>\n",
       "      <td>6.94</td>\n",
       "      <td>0.09</td>\n",
       "      <td>8.35</td>\n",
       "      <td>0.05</td>\n",
       "      <td>6.05</td>\n",
       "      <td>0.17</td>\n",
       "    </tr>\n",
       "    <tr>\n",
       "      <th>16</th>\n",
       "      <td>E14</td>\n",
       "      <td>NGC 5408</td>\n",
       "      <td>?</td>\n",
       "      <td>?</td>\n",
       "      <td>7.59</td>\n",
       "      <td>0.15</td>\n",
       "      <td>6.72</td>\n",
       "      <td>0.08</td>\n",
       "      <td>8.21</td>\n",
       "      <td>0.04</td>\n",
       "      <td>6.03</td>\n",
       "      <td>0.10</td>\n",
       "    </tr>\n",
       "    <tr>\n",
       "      <th>17</th>\n",
       "      <td>E14</td>\n",
       "      <td>Tol 1924-416</td>\n",
       "      <td>?</td>\n",
       "      <td>?</td>\n",
       "      <td>NaN</td>\n",
       "      <td>NaN</td>\n",
       "      <td>6.59</td>\n",
       "      <td>0.06</td>\n",
       "      <td>7.99</td>\n",
       "      <td>0.02</td>\n",
       "      <td>6.05</td>\n",
       "      <td>0.10</td>\n",
       "    </tr>\n",
       "    <tr>\n",
       "      <th>18</th>\n",
       "      <td>E14</td>\n",
       "      <td>NGC 3125</td>\n",
       "      <td>?</td>\n",
       "      <td>?</td>\n",
       "      <td>8.18</td>\n",
       "      <td>NaN</td>\n",
       "      <td>7.48</td>\n",
       "      <td>0.12</td>\n",
       "      <td>8.69</td>\n",
       "      <td>0.08</td>\n",
       "      <td>6.94</td>\n",
       "      <td>0.22</td>\n",
       "    </tr>\n",
       "    <tr>\n",
       "      <th>19</th>\n",
       "      <td>E14</td>\n",
       "      <td>Mrk 1271</td>\n",
       "      <td>?</td>\n",
       "      <td>?</td>\n",
       "      <td>8.27</td>\n",
       "      <td>NaN</td>\n",
       "      <td>7.17</td>\n",
       "      <td>0.30</td>\n",
       "      <td>8.71</td>\n",
       "      <td>0.13</td>\n",
       "      <td>6.22</td>\n",
       "      <td>0.36</td>\n",
       "    </tr>\n",
       "    <tr>\n",
       "      <th>20</th>\n",
       "      <td>E14</td>\n",
       "      <td>POX 4</td>\n",
       "      <td>?</td>\n",
       "      <td>?</td>\n",
       "      <td>8.11</td>\n",
       "      <td>NaN</td>\n",
       "      <td>6.63</td>\n",
       "      <td>0.07</td>\n",
       "      <td>8.09</td>\n",
       "      <td>0.02</td>\n",
       "      <td>5.98</td>\n",
       "      <td>0.13</td>\n",
       "    </tr>\n",
       "    <tr>\n",
       "      <th>21</th>\n",
       "      <td>E14</td>\n",
       "      <td>SDSS J1253-0312</td>\n",
       "      <td>?</td>\n",
       "      <td>?</td>\n",
       "      <td>7.70</td>\n",
       "      <td>NaN</td>\n",
       "      <td>7.14</td>\n",
       "      <td>0.08</td>\n",
       "      <td>7.99</td>\n",
       "      <td>0.02</td>\n",
       "      <td>6.28</td>\n",
       "      <td>0.11</td>\n",
       "    </tr>\n",
       "    <tr>\n",
       "      <th>22</th>\n",
       "      <td>E14</td>\n",
       "      <td>Tol 1457-0312</td>\n",
       "      <td>?</td>\n",
       "      <td>?</td>\n",
       "      <td>NaN</td>\n",
       "      <td>NaN</td>\n",
       "      <td>6.78</td>\n",
       "      <td>0.06</td>\n",
       "      <td>8.21</td>\n",
       "      <td>0.02</td>\n",
       "      <td>6.28</td>\n",
       "      <td>0.12</td>\n",
       "    </tr>\n",
       "    <tr>\n",
       "      <th>23</th>\n",
       "      <td>E14</td>\n",
       "      <td>He 2-10</td>\n",
       "      <td>?</td>\n",
       "      <td>?</td>\n",
       "      <td>NaN</td>\n",
       "      <td>NaN</td>\n",
       "      <td>7.67</td>\n",
       "      <td>0.14</td>\n",
       "      <td>8.55</td>\n",
       "      <td>0.02</td>\n",
       "      <td>6.34</td>\n",
       "      <td>0.16</td>\n",
       "    </tr>\n",
       "    <tr>\n",
       "      <th>24</th>\n",
       "      <td>LS07</td>\n",
       "      <td>NGC 5253</td>\n",
       "      <td>Im pec</td>\n",
       "      <td>A</td>\n",
       "      <td>7.92</td>\n",
       "      <td>0.15</td>\n",
       "      <td>7.47</td>\n",
       "      <td>0.17</td>\n",
       "      <td>8.45</td>\n",
       "      <td>0.12</td>\n",
       "      <td>6.43</td>\n",
       "      <td>0.23</td>\n",
       "    </tr>\n",
       "    <tr>\n",
       "      <th>25</th>\n",
       "      <td>LS07</td>\n",
       "      <td>NGC 5253</td>\n",
       "      <td>Im pec</td>\n",
       "      <td>B</td>\n",
       "      <td>NaN</td>\n",
       "      <td>NaN</td>\n",
       "      <td>7.33</td>\n",
       "      <td>0.18</td>\n",
       "      <td>8.37</td>\n",
       "      <td>0.13</td>\n",
       "      <td>6.23</td>\n",
       "      <td>0.27</td>\n",
       "    </tr>\n",
       "    <tr>\n",
       "      <th>26</th>\n",
       "      <td>LS07</td>\n",
       "      <td>NGC 5253</td>\n",
       "      <td>Im pec</td>\n",
       "      <td>C</td>\n",
       "      <td>7.92</td>\n",
       "      <td>0.16</td>\n",
       "      <td>7.01</td>\n",
       "      <td>0.17</td>\n",
       "      <td>8.54</td>\n",
       "      <td>0.11</td>\n",
       "      <td>6.17</td>\n",
       "      <td>0.25</td>\n",
       "    </tr>\n",
       "    <tr>\n",
       "      <th>27</th>\n",
       "      <td>LS07</td>\n",
       "      <td>NGC 5253</td>\n",
       "      <td>Im pec</td>\n",
       "      <td>D</td>\n",
       "      <td>NaN</td>\n",
       "      <td>NaN</td>\n",
       "      <td>6.82</td>\n",
       "      <td>0.07</td>\n",
       "      <td>8.31</td>\n",
       "      <td>0.07</td>\n",
       "      <td>6.06</td>\n",
       "      <td>0.15</td>\n",
       "    </tr>\n",
       "  </tbody>\n",
       "</table>\n",
       "</div>"
      ],
      "text/plain": [
       "   source           galaxy   class     object  eps_c  c_err  eps_n  n_err  \\\n",
       "0     E02         NGC 5471       ?          ?    NaN    NaN   6.51   0.15   \n",
       "1     E09              M31       S       K932   8.46   0.13   7.63   0.06   \n",
       "2     E09              M33      Sc    NGC 595   8.53   0.12   7.53   0.10   \n",
       "3     E09              M33      Sc    NGC 604   8.40   0.11   7.49   0.07   \n",
       "4     E09         NGC 2366      Ir   NGC 2363   7.75   0.09   6.70   0.10   \n",
       "5     E09         NGC 2403      Sc      VS 24   8.46   0.24   7.35   0.07   \n",
       "6     E09         NGC 2403      Sc      VS 38   8.50   0.15   7.23   0.11   \n",
       "7     E09         NGC 2403      Sc      VS 44   8.32   0.18   7.52   0.08   \n",
       "8     E09             M101      Sc      H1013   8.67   0.12   7.82   0.19   \n",
       "9     E09             M101      Sc   NGC 5461   8.30   0.20   7.54   0.11   \n",
       "10    E09             M101      Sc   NGC 5447   8.20   0.12   7.39   0.13   \n",
       "11    E09         NGC 1741    Im D     Zone C    NaN    NaN   7.36   0.18   \n",
       "12    E09         NGC 4395  SA(s)m     Reg 70    NaN    NaN   6.56   0.28   \n",
       "13    E09         NGC 4861  Im/BCD  Brightest    NaN    NaN   6.56   0.28   \n",
       "14    E09              M83    SABc    Nucleus    NaN    NaN   8.51   0.15   \n",
       "15    E14         NGC 6822    D/Ir          ?   7.83   0.10   6.94   0.09   \n",
       "16    E14         NGC 5408       ?          ?   7.59   0.15   6.72   0.08   \n",
       "17    E14    Tol 1924-416        ?          ?    NaN    NaN   6.59   0.06   \n",
       "18    E14        NGC 3125        ?          ?   8.18    NaN   7.48   0.12   \n",
       "19    E14        Mrk 1271        ?          ?   8.27    NaN   7.17   0.30   \n",
       "20    E14           POX 4        ?          ?   8.11    NaN   6.63   0.07   \n",
       "21    E14  SDSS J1253-0312       ?          ?   7.70    NaN   7.14   0.08   \n",
       "22    E14   Tol 1457-0312        ?          ?    NaN    NaN   6.78   0.06   \n",
       "23    E14         He 2-10        ?          ?    NaN    NaN   7.67   0.14   \n",
       "24   LS07         NGC 5253  Im pec          A   7.92   0.15   7.47   0.17   \n",
       "25   LS07         NGC 5253  Im pec          B    NaN    NaN   7.33   0.18   \n",
       "26   LS07         NGC 5253  Im pec          C   7.92   0.16   7.01   0.17   \n",
       "27   LS07         NGC 5253  Im pec          D    NaN    NaN   6.82   0.07   \n",
       "\n",
       "    eps_o  o_err  eps_fe  fe_err  \n",
       "0    8.03   0.05     NaN     NaN  \n",
       "1    8.62   0.03    5.90    0.09  \n",
       "2    8.69   0.05    5.55    0.21  \n",
       "3    8.60   0.03    5.94    0.11  \n",
       "4    8.04   0.05    5.71    0.23  \n",
       "5    8.37   0.04    5.71    0.19  \n",
       "6    8.29   0.05    5.58    0.35  \n",
       "7    8.61   0.04    6.13    0.12  \n",
       "8    8.73   0.09    5.98    0.26  \n",
       "9    8.49   0.06    6.15    0.21  \n",
       "10   8.52   0.06    6.23    0.35  \n",
       "11   8.41   0.06    5.95    0.25  \n",
       "12   8.09   0.15    5.97    0.42  \n",
       "13   8.05   0.04    5.45    0.33  \n",
       "14   8.97   0.08     NaN     NaN  \n",
       "15   8.35   0.05    6.05    0.17  \n",
       "16   8.21   0.04    6.03    0.10  \n",
       "17   7.99   0.02    6.05    0.10  \n",
       "18   8.69   0.08    6.94    0.22  \n",
       "19   8.71   0.13    6.22    0.36  \n",
       "20   8.09   0.02    5.98    0.13  \n",
       "21   7.99   0.02    6.28    0.11  \n",
       "22   8.21   0.02    6.28    0.12  \n",
       "23   8.55   0.02    6.34    0.16  \n",
       "24   8.45   0.12    6.43    0.23  \n",
       "25   8.37   0.13    6.23    0.27  \n",
       "26   8.54   0.11    6.17    0.25  \n",
       "27   8.31   0.07    6.06    0.15  "
      ]
     },
     "execution_count": 57,
     "metadata": {},
     "output_type": "execute_result"
    }
   ],
   "source": [
    "RL.convert_dtypes()"
   ]
  },
  {
   "cell_type": "code",
   "execution_count": 60,
   "id": "f9fd3b2f",
   "metadata": {},
   "outputs": [],
   "source": [
    "RL[\"[c/o]\"] = aah.log_to_bracket(RL.eps_c - RL.eps_o,\n",
    "                                       \"c\", \"o\")\n",
    "RL[\"[o/h]\"] = aah.log_to_bracket(RL.eps_o, \"o\") - 12\n",
    "RL[\"[c/o]_err\"] = RL.c_err + RL.o_err\n",
    "RL[\"[o/h]_err\"] = RL.o_err "
   ]
  },
  {
   "cell_type": "code",
   "execution_count": 65,
   "id": "841f5a7c",
   "metadata": {},
   "outputs": [
    {
     "data": {
      "text/plain": [
       "<ErrorbarContainer object of 3 artists>"
      ]
     },
     "execution_count": 65,
     "metadata": {},
     "output_type": "execute_result"
    },
    {
     "data": {
      "image/png": "[encoded data removed]",
      "text/plain": [
       "<Figure size 360x360 with 1 Axes>"
      ]
     },
     "metadata": {},
     "output_type": "display_data"
    }
   ],
   "source": [
    "plt.errorbar(RL.eps_o, RL.eps_c - RL.eps_o,\n",
    "            xerr=RL.o_err, yerr=RL.o_err + RL.c_err,\n",
    "            fmt=\"o\")"
   ]
  },
  {
   "cell_type": "code",
   "execution_count": 32,
   "id": "fef6f011-7778-45a4-877e-b89273eebe6b",
   "metadata": {},
   "outputs": [
    {
     "data": {
      "text/plain": [
       "Text(0, 0.5, 'log C/O')"
      ]
     },
     "execution_count": 32,
     "metadata": {},
     "output_type": "execute_result"
    },
    {
     "data": {
      "image/png": "[encoded data removed]",
      "text/plain": [
       "<Figure size 360x360 with 1 Axes>"
      ]
     },
     "metadata": {},
     "output_type": "display_data"
    }
   ],
   "source": [
    "plt.errorbar(berg19.eps_o, berg19.log_c_o, xerr=berg19.eps_o_err, yerr=berg19.log_c_o_err, fmt=\"o\")\n",
    "plt.xlabel(\"12 + log O/H\")\n",
    "plt.ylabel(\"log C/O\")"
   ]
  },
  {
   "cell_type": "code",
   "execution_count": 33,
   "id": "89e4f310-0aa8-4303-b788-dafe9bf5e88a",
   "metadata": {},
   "outputs": [
    {
     "data": {
      "text/plain": [
       "<ErrorbarContainer object of 3 artists>"
      ]
     },
     "execution_count": 33,
     "metadata": {},
     "output_type": "execute_result"
    },
    {
     "data": {
      "image/png": "[encoded data removed]",
      "text/plain": [
       "<Figure size 360x360 with 1 Axes>"
      ]
     },
     "metadata": {},
     "output_type": "display_data"
    }
   ],
   "source": [
    "plt.errorbar(cooke17.o_h, cooke17.c_o, xerr=cooke17.o_h_err, yerr=cooke17.c_o_err, fmt=\"o\")"
   ]
  },
  {
   "cell_type": "code",
   "execution_count": 34,
   "id": "8025843d-4b07-4a2f-9dae-7c111df8d125",
   "metadata": {},
   "outputs": [],
   "source": [
    "berg19[\"[c/o]\"] = berg19.log_c_o + np.log10(12/16) - np.log10(vice.solar_z(\"c\")/vice.solar_z(\"o\"))\n",
    "berg19[\"[o/h]\"] = berg19.eps_o + np.log10(16) - np.log10(vice.solar_z(\"o\")) - 12"
   ]
  },
  {
   "cell_type": "code",
   "execution_count": 36,
   "id": "e1d936d1-7100-48cc-a71d-6b92c36ae3ac",
   "metadata": {},
   "outputs": [],
   "source": [
    "fiducial = vice_model(\"../output/cristallo11_f0.2_Z0.4_eta1.0_v0.1.4_lateburst.json\")"
   ]
  },
  {
   "cell_type": "code",
   "execution_count": 67,
   "id": "1250da9a-63d9-4ecf-b72d-2ac39b1ffe7c",
   "metadata": {},
   "outputs": [],
   "source": [
    "from astropy.io import fits"
   ]
  },
  {
   "cell_type": "code",
   "execution_count": 69,
   "id": "e2041941-3307-46a7-b7c4-d041da69b669",
   "metadata": {},
   "outputs": [
    {
     "data": {
      "text/plain": [
       "[<astropy.io.fits.hdu.image.PrimaryHDU object at 0x2ac18bbd9ac8>, <astropy.io.fits.hdu.table.TableHDU object at 0x2ac18bd02b38>]"
      ]
     },
     "execution_count": 69,
     "metadata": {},
     "output_type": "execute_result"
    }
   ],
   "source": [
    "table = fits.open(\"../data/J_A+A_568_A25_table5.dat.fits\")[1]"
   ]
  },
  {
   "cell_type": "code",
   "execution_count": 95,
   "id": "383f33d8-0191-486d-9dcb-1b03f86999b0",
   "metadata": {},
   "outputs": [],
   "source": [
    "N14 = table.data"
   ]
  },
  {
   "cell_type": "code",
   "execution_count": 98,
   "id": "5852fd75-d640-4fde-9fb7-89ed86c99de2",
   "metadata": {},
   "outputs": [
    {
     "data": {
      "text/plain": [
       "<matplotlib.collections.PathCollection at 0x2ac18cfe6828>"
      ]
     },
     "execution_count": 98,
     "metadata": {},
     "output_type": "execute_result"
    },
    {
     "data": {
      "image/png": "[encoded data removed]",
      "text/plain": [
       "<Figure size 360x360 with 1 Axes>"
      ]
     },
     "metadata": {},
     "output_type": "display_data"
    }
   ],
   "source": [
    "plt.scatter(N14[\"[O/H]3n\"], N14[\"[C/H]n\"]-N14[\"[O/H]3n\"])"
   ]
  },
  {
   "cell_type": "code",
   "execution_count": 102,
   "id": "be9aa192-ebc4-432b-908d-3de381d3b7bf",
   "metadata": {},
   "outputs": [],
   "source": [
    "F09 = pd.read_csv(\"../data/Fabbian09.csv\", sep=\"\\s+\")"
   ]
  },
  {
   "cell_type": "code",
   "execution_count": 105,
   "id": "e436faf4-6ea1-4537-9c3e-8114d0831b73",
   "metadata": {},
   "outputs": [
    {
     "data": {
      "text/plain": [
       "<matplotlib.collections.PathCollection at 0x2ac18bdd4080>"
      ]
     },
     "execution_count": 105,
     "metadata": {},
     "output_type": "execute_result"
    },
    {
     "data": {
      "image/png": "[encoded data removed]",
      "text/plain": [
       "<Figure size 360x360 with 1 Axes>"
      ]
     },
     "metadata": {},
     "output_type": "display_data"
    }
   ],
   "source": []
  },
  {
   "cell_type": "code",
   "execution_count": 109,
   "id": "8ea00f1e-b882-46e6-b97d-81cea431d29a",
   "metadata": {},
   "outputs": [
    {
     "data": {
      "image/png": "[encoded data removed]",
      "text/plain": [
       "<Figure size 504x360 with 1 Axes>"
      ]
     },
     "metadata": {},
     "output_type": "display_data"
    }
   ],
   "source": [
    "plt.figure(figsize=(7,5))\n",
    "pluto.err_scatter(berg19[\"[o/h]\"], berg19[\"[c/o]\"], xerr=berg19.eps_o_err, yerr=berg19.log_c_o_err,\n",
    "                  label=\"Berg19 (Dwarfs)\")\n",
    "\n",
    "# fiducial.plot_gas(\"[o/h]\", \"[c/o]\", label=\"Model\")\n",
    "gap.plot_all(\"[o/h]\", \"[c/o]\")\n",
    "\n",
    "pluto.err_scatter(cooke17.o_h, cooke17.c_o, xerr=cooke17.o_h_err, yerr=cooke17.c_o_err, \n",
    "                  label=\"C+17 (DLA)\")\n",
    "pluto.err_scatter(RL[\"[o/h]\"], RL[\"[c/o]\"], xerr=RL[\"[o/h]_err\"], yerr=RL[\"[c/o]_err\"],\n",
    "                  label=\"RL\")\n",
    "\n",
    "df = aah.vincenzo2021()\n",
    "pluto.plot_mean_track(df[\"[mg/h]\"], df[\"[c/mg]\"], xlim=(-0.4, 0.6), label=\"V+21 (Giants)\", shade_width=True, err_mean=True)\n",
    "\n",
    "subgiants = aah.subgiants\n",
    "filt = ~np.isnan(subgiants[\"C_MG\"])\n",
    "filt &+ ~np.isnan(subgiants[\"MG_H\"])\n",
    "df = subgiants[filt]\n",
    "pluto.plot_mean_track(df[\"MG_H\"], df[\"C_MG\"], xlim=(-1, 0.6), label=\"R+22 (Subgiants)\", shade_width=True, err_mean=True)\n",
    "plt.scatter(F09.oh, F09.co, label=\"F+09\", marker=\"*\")\n",
    "\n",
    "plt.xlabel(r\"[$\\alpha$/H]\")\n",
    "plt.ylabel(r\"[C/$\\alpha$]\")\n",
    "plt.scatter(N14[\"[O/H]3n\"], N14[\"[C/H]n\"]-N14[\"[O/H]3n\"], marker=\"*\", label=\"Halo\")\n",
    "\n",
    "pluto.legend_outside()"
   ]
  },
  {
   "cell_type": "markdown",
   "id": "773176f7",
   "metadata": {},
   "source": [
    "Redshift: (Pettini et al. 2000;\n",
    "Fosbury & Villar-Martín et al. 2003; Erb et al. 2010; Christensen\n",
    "et al. 2012; Bayliss et al. 2014; James et al. 2014; Stark et al.\n",
    "2014; Steidel et al. 2016; Vanzella et al. 2016; Amorín et al.\n",
    "2017; Berg et al. 2018; Rigby et al. 2018)"
   ]
  },
  {
   "cell_type": "markdown",
   "id": "711b42cf",
   "metadata": {},
   "source": [
    "RL: (teal squares: Esteban et al. 2002, 2009,\n",
    "2014; Pilyugin & Thuan 2005; García-Rojas & Esteban 2007;\n",
    "López-Sánchez et al. 2007)."
   ]
  },
  {
   "cell_type": "markdown",
   "id": "f37130f4",
   "metadata": {},
   "source": [
    "CL: Senchyna et al. (2017) and Peña-Guerrero et al. (2017)"
   ]
  },
  {
   "cell_type": "markdown",
   "id": "c5f879c6",
   "metadata": {},
   "source": [
    "MW stars: Gustafsson et al. (1999), Akerman\n",
    "et al. (2004), Fabbian et al. (2009), and Nissen et al. (2014)"
   ]
  },
  {
   "cell_type": "code",
   "execution_count": null,
   "id": "b878b74b",
   "metadata": {},
   "outputs": [],
   "source": []
  }
 ],
 "metadata": {
  "kernelspec": {
   "display_name": "Python 3 (ipykernel)",
   "language": "python",
   "name": "python3"
  },
  "language_info": {
   "codemirror_mode": {
    "name": "ipython",
    "version": 3
   },
   "file_extension": ".py",
   "mimetype": "text/x-python",
   "name": "python",
   "nbconvert_exporter": "python",
   "pygments_lexer": "ipython3",
   "version": "3.6.8"
  }
 },
 "nbformat": 4,
 "nbformat_minor": 5
}
