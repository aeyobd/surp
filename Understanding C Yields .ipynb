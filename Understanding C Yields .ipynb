{
 "cells": [
  {
   "cell_type": "markdown",
   "id": "317048b9-4990-41bf-8b65-64f63f24df88",
   "metadata": {},
   "source": [
    "# CCSNe"
   ]
  },
  {
   "cell_type": "markdown",
   "id": "61cb3941-0358-44af-9a5a-9da33020eafd",
   "metadata": {},
   "source": [
    "There is disagreement in the different yields of C due to CCSN. We choose to adopt a fiducial value of $y_C^{ccsn}=0.002$ which is roughly consistant with the values for non-rotating stars. Note that some studies predict a large net loss of carbon in CCSN especially at high Z (e.g. CL04).\n",
    "\n",
    "![ccns_yields](./figures/CCSN_C_yields_to_Z.jpeg)"
   ]
  },
  {
   "cell_type": "markdown",
   "id": "aa9b1b93",
   "metadata": {},
   "source": [
    "# AGB \n",
    "\n",
    "## Overview of AGB Evolution\n",
    "An Asymptotic Giant Branch (AGB) star is a type of low mass star (about 0.8-8$M_\\odot$) towards the end of its lifetime. \n",
    "Low and intermediate mass stars (less than 8-10 $M_\\odot$), begin on the main sequence fusing hydrogen into helium in their cores. An inert helium core builds up, and the stars begin to ascend the red giant branch (RGB) as they shift to shell hydrogen burning. During the RGB phase, the convective envelope may reach into the core bringing up H burning products during the first dredge up. Lower stars will ignite helium burning in a degenerate core, with core mass roughly independent of initial mass, but larger stars will ignite helium in the center. These stars procede to the core Helium burning phase (with the high intermediate mass stars $8<M<10$ also proceeding to burn C) until they build up an inert core.\n",
    "\n",
    "The AGB phase happens after core helium burning ends. The star expands again and the surface cools. Inside the star, there is a inert C/O core of Helium burning products, a Helium burning shell outside the core, a H burning shell, and a convective envelope.\n",
    "\n",
    "Because an AGB star consists of two thin nuclear-burning shells, it is thermally unstable, leading to thermal pulsations (TP) during the TP-AGB phase. During a TP, the star contracts too much initiation a helium flash which forces the star to expand (about once every 1000 years or so). The TP eventually drive away the outer layers of the envalope, polluting the interstellar medium (ISM) with nuclear fusion products, leaving behind the core which now becomes a white dwarf. \n",
    "\n",
    "TDU may happen during pusations of a TPAGB star, the convective layer does not contract as quickly as the rest of the layer and reaches into the C/O core of the star, bringing up C to the outer convective layers. Because convection is still poorly understood, models disagree in the frequency and size of TDU.\n",
    "\n",
    "In between each pulse, there may also be Hot Bottom Burning (HBB) where the temperature of the convective envelope exceedes about 50MK, causing the CNO cycle to initiate. Since the slowest reaction in the CNO cycle is the ____________, the first order effect of the CNO cycle is to convert Carbon into Nitrogen.\n",
    "\n",
    "The presence and amount of HBB and TDU are critical for determining the production of Carbon and Nitrogen since these are the main processes which either add or remove Carbon. TDU primarily increases the total amount of CNO in the star, whereas HBB changes the ratios of CNO but without significantly changing to total abundance."
   ]
  },
  {
   "cell_type": "markdown",
   "id": "5df87922",
   "metadata": {},
   "source": [
    "## Model Comparison\n",
    "\n",
    "We consider four different models, (CITE)\n",
    "\n",
    "### Cristallo 11\n",
    "Treatment of low T C opacities crucial -> cooler envalope and higher mass loss -> reduced number of TPs due to shorter AGB phase\n",
    "\n",
    "Lower Z -> reduced CNO effeciency and H burning shell power -> deeper TDU\n",
    "\n",
    "for M>= 3, shell is more compresed so He shell is hotter, causing shorter interpulse periods and reduced TDU effeciency. \n",
    "\n",
    "Surface carbon enhancement through TDU leads to increased opacity as C/O grows larger than 1. \n",
    "\n",
    "Rotation induces extra mixing especially after FDU and SDU which allows more CNO burning to take place reducing C concentrations, mimicing HBB. \n",
    "\n",
    "### Karakas 10\n",
    "Arbitrary choice of $\\eta_R$, the mass loss rate because low metalicity mass loss is poorly understood, chose so number of TP is approximately constant across metalicity. \n",
    "Primarily differes from Cristallo 11 in treatment of opacity and convective borders, reducing number of TP and dredge up material mass.\n",
    "\n",
    "### Ventura 13\n",
    "Their use of blocker's mass-loss recipie results in a comparatively higher mass loss treatment reducing the time in the AGB phase and also reducing the effects of HBB on surface abundances. \n",
    "\n",
    "More thermal pulsations of larger mass models leads to an increase of y_C for lower mass stars (before HBB takes effect around around 3$M_\\odot$, other--- why??)\n",
    "(why?)\n",
    "\n",
    "Low metalicity -> improved mixing -> higher C\n",
    "adding extra mixing -> deeper convective penetration during TP -> more efficient TDU\n",
    "\n",
    "at higher mass lower metalicity -> higher HBB but also more TP resulting in net positive C\n",
    "\n",
    "HBB is more effective due to higher convective effeciency of model??? -> more negative C yields\n",
    "K10 has much cooler T at base of convective zone -> different luminosity, and more TP\n",
    "\n",
    "HBB causes reduced TP\n",
    "\n",
    "reduced mass loss -> more effective HBB\n",
    "\n",
    "\n",
    "### Karakas 16\n",
    "\n",
    "Higher mass stars -> less TP because of thinner He-intershel region.\n",
    "lower mass stars increase in total M_dredge because of increased number of TPs.\n",
    "Notably #TPs is monotonically increasing with mass in this study, compared to others.\n",
    "\n",
    "In comparison to Cristallo11/15, used different mass loss prescriptions and significant differences in convective treatment.\n",
    "Also dredge up more material because of higher effeciency and more depp TDU. But Cristallo has higher C abundances in the intershell due to higher 3-$\\alpha$ reaction rates. \n",
    "\n",
    "At lower mass, dredge ups about the same amount of material. \n",
    "Karakas model has higher HBB in intermediate mass range (6Msun). Cristallo looses much more mass and has far less TPs and thus lower C for HBB. Cristallo11 has lower T_BCE than other models reducing HBB. K16 pulsation period is much lower redycubg nassloss ????, \n",
    "\n",
    "####K18\n",
    "\n",
    "core mass strongly affects HBB, which depends on mass loss rate. \n",
    "stronger mass loss rate increases effect of HBB on yields."
   ]
  },
  {
   "cell_type": "markdown",
   "id": "3d9b5f8c",
   "metadata": {},
   "source": [
    "![cristallo11](./figures/yields_C_agb_to_mass_cristallo11.jpeg)\n",
    "![cristallo11](./figures/yields_C_agb_to_mass_karakas10.jpeg)\n",
    "\n",
    "![cristallo11](./figures/yields_C_agb_to_mass_ventura13.jpeg)\n",
    "![cristallo11](./figures/yields_C_agb_to_mass_karakas16.jpeg)"
   ]
  },
  {
   "cell_type": "markdown",
   "id": "ca4da2e9-6d1a-421e-a4be-ba93d37341aa",
   "metadata": {},
   "source": [
    "Weighting by the IMF, most of the the models have the same general shape:\n",
    "\n",
    "![weighted_agb_yields](./figures/weighted_yields_C_agb_to_mass_logZ-2.jpeg)"
   ]
  },
  {
   "cell_type": "markdown",
   "id": "dd0598ae-b7a4-4a3d-99e8-75735c1a169d",
   "metadata": {},
   "source": [
    "Using VICE's single stellar population funcion, we can model how the net yield of carbon changes with metallicity and over time for a group of stars born at the same time. \n",
    "\n",
    "For the net mass yield over time, each model has the same qualitative shape, where the initial plateu is definied by what fraction CCSNE provide of the total carbon yield, since different models vary most remarkably on the amount of carbon they produce for each star. Next, the most massive AGB stars eject their envalopes, and all the models predict a negative net yield from 7$M_\\odot$ to about 4-5$M_\\odot$. Next, the lower mass AGB stars which produce most of the carbon yield die causing the increase in carbon yield which slows down as very low mass AGB stars produce less net carbon yield.\n",
    "\n",
    "The final $y_C^{agb}$ against $Z$ demonstrates the differences in metalicity dependence for each model, with Cristallo11 with the softest $Z$ dependence, dropping off closer to $\\log Z \\approx 0$ compared with Karakas10 with the steepest $Z$ dependence dropping at the much lower $\\log Z \\approx -1$. Otherwise, each model again agrees qualitatively.\n",
    "\n",
    "![agb_time_yields](./figures/y_C_agb_to_t.jpeg)\n",
    "![agb_Z_yields](./figures/y_C_AGB_to_Z.jpeg)"
   ]
  },
  {
   "cell_type": "markdown",
   "id": "48a14a3c-314a-4252-83b4-7e6b8a0b1886",
   "metadata": {},
   "source": [
    "An approximate parameterization of $y_C^{agb}$, the net fractional yield of C from AGB stars is:\n",
    "$$\n",
    "y_C^{agb}(M, Z) \\approx m_C^{agb} (1 - \\alpha Z) \\left(\\frac{e k}{\\gamma}\\right)^\\gamma \\left(M + \\frac{\\gamma}{k} - M_0 - \\alpha Z\\right)^\\gamma e^{-\\left(M + \\frac{\\gamma}{k} - M_0 - \\alpha Z\\right)}\\\\\n",
    "\\sim M^\\gamma e^{-M}\n",
    "$$\n",
    "\n",
    "where $\\alpha$ is the metalicity dependence and $M_0$ is the center of the gaussian of the AGB yields for $Z=0$.\n",
    "\n",
    "If we use the mass-lifetime relationship $t_{to} = 10\\text{Gyr} \\left({M}/{M_\\odot}\\right)^{-2.5}$, we can find an equation for the net fractional yield over time:\n",
    "$$\n",
    "y_C^{agb}(t, Z) \\approx m_C^{agb} (1 - \\alpha Z) e^{-( (t/10\\text{Gyr})^{-2.5} - M_0 - \\alpha Z)^2}\n",
    "$$"
   ]
  },
  {
   "cell_type": "code",
   "execution_count": null,
   "id": "7d76dac2",
   "metadata": {},
   "outputs": [],
   "source": []
  }
 ],
 "metadata": {
  "kernelspec": {
   "display_name": "Python 3",
   "language": "python",
   "name": "python3"
  },
  "language_info": {
   "codemirror_mode": {
    "name": "ipython",
    "version": 3
   },
   "file_extension": ".py",
   "mimetype": "text/x-python",
   "name": "python",
   "nbconvert_exporter": "python",
   "pygments_lexer": "ipython3",
   "version": "3.8.10"
  }
 },
 "nbformat": 4,
 "nbformat_minor": 5
}
