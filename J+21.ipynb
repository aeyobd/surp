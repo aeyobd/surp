{
 "cells": [
  {
   "cell_type": "code",
   "execution_count": 2,
   "id": "a13bcce9",
   "metadata": {},
   "outputs": [],
   "source": [
    "import vice\n",
    "import matplotlib.pyplot as plt\n",
    "import numpy as np"
   ]
  },
  {
   "cell_type": "code",
   "execution_count": 7,
   "id": "28c815a7",
   "metadata": {},
   "outputs": [
    {
     "name": "stdout",
     "output_type": "stream",
     "text": [
      "VICE supplementary data required, downloading now.\n",
      "You will not need to repeat this process.\n",
      "Downloading subsample: 30 of 30\n",
      "vice.milkyway{\n",
      "    name -----------> example\n",
      "    n_zones --------> 20\n",
      "    n_stars --------> 1\n",
      "    verbose --------> False\n",
      "    simple ---------> False\n",
      "    annuli ---------> [0, 1, 2, ... , 18, 19, 20]\n",
      "    evolution ------> <function milkyway.default_evolution at 0x7fa286328d30>\n",
      "    mode -----------> ifr\n",
      "    elements -------> ('fe', 'sr', 'o')\n",
      "    IMF ------------> kroupa\n",
      "    mass_loading ---> <function milkyway.default_mass_loading at 0x7fa28632e280>\n",
      "    dt -------------> 0.01\n",
      "    bins -----------> [-3, -2.95, -2.9, ... , 0.9, 0.95, 1]\n",
      "    delay ----------> 0.15\n",
      "    RIa ------------> plaw\n",
      "    smoothing ------> 0.0\n",
      "    tau_ia ---------> 1.5\n",
      "    m_upper --------> 100.0\n",
      "    m_lower --------> 0.08\n",
      "    postMS ---------> 0.1\n",
      "    Z_solar --------> 0.014\n",
      "}\n"
     ]
    }
   ],
   "source": [
    "mw = vice.milkyway(name = \"example\", N = 2e5, zone_width = 1.0) \n",
    "print(mw) "
   ]
  },
  {
   "cell_type": "code",
   "execution_count": null,
   "id": "fd30d0b6",
   "metadata": {},
   "outputs": [],
   "source": [
    "mw.dt = 0.05 \n",
    "out = mw.run(np.linspace(0, 10, 1001), capture = True)"
   ]
  }
 ],
 "metadata": {
  "kernelspec": {
   "display_name": "Python 3",
   "language": "python",
   "name": "python3"
  },
  "language_info": {
   "codemirror_mode": {
    "name": "ipython",
    "version": 3
   },
   "file_extension": ".py",
   "mimetype": "text/x-python",
   "name": "python",
   "nbconvert_exporter": "python",
   "pygments_lexer": "ipython3",
   "version": "3.8.10"
  }
 },
 "nbformat": 4,
 "nbformat_minor": 5
}
