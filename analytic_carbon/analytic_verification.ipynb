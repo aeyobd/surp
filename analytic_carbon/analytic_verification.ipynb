{
 "cells": [
  {
   "cell_type": "code",
   "execution_count": null,
   "id": "0",
   "metadata": {},
   "outputs": [],
   "source": [
    "var(\"α ω\")"
   ]
  },
  {
   "cell_type": "code",
   "execution_count": null,
   "id": "1",
   "metadata": {},
   "outputs": [],
   "source": [
    "ξ(i, x) = x^i * exp(-x)"
   ]
  },
  {
   "cell_type": "code",
   "execution_count": null,
   "id": "2",
   "metadata": {},
   "outputs": [],
   "source": [
    "ξ(0,0)"
   ]
  },
  {
   "cell_type": "markdown",
   "id": "3",
   "metadata": {},
   "source": [
    "### Identities"
   ]
  },
  {
   "cell_type": "code",
   "execution_count": null,
   "id": "4",
   "metadata": {},
   "outputs": [],
   "source": [
    "a = ξ(2, α*x) * ξ(0, ω*x) \n",
    "b = ξ(2, (α+ω) * x) * (α^2) / (α+ω)^2"
   ]
  },
  {
   "cell_type": "code",
   "execution_count": null,
   "id": "5",
   "metadata": {},
   "outputs": [],
   "source": [
    "plot((a/b)(α=2.5, ω=0.8) )\n"
   ]
  },
  {
   "cell_type": "markdown",
   "id": "6",
   "metadata": {},
   "source": []
  },
  {
   "cell_type": "code",
   "execution_count": null,
   "id": "7",
   "metadata": {},
   "outputs": [],
   "source": [
    "a = integral(ξ(2, α*x), x)\n",
    "b = - 1/ α * (ξ(2, α*x) + 2*ξ(1, α*x) + 2*ξ(0, α*x))"
   ]
  },
  {
   "cell_type": "code",
   "execution_count": null,
   "id": "8",
   "metadata": {},
   "outputs": [],
   "source": [
    "plot((a/b)(α=2.5, ω=0.8) )\n"
   ]
  },
  {
   "cell_type": "markdown",
   "id": "9",
   "metadata": {},
   "source": [
    "### Gamma == 2"
   ]
  },
  {
   "cell_type": "code",
   "execution_count": null,
   "id": "10",
   "metadata": {},
   "outputs": [],
   "source": [
    "var(\"t td\")"
   ]
  },
  {
   "cell_type": "code",
   "execution_count": null,
   "id": "11",
   "metadata": {},
   "outputs": [],
   "source": [
    "heaviside(-0.5)"
   ]
  },
  {
   "cell_type": "code",
   "execution_count": null,
   "id": "12",
   "metadata": {},
   "outputs": [],
   "source": [
    "R(t) = ξ(2, α*(t - td)) * heaviside(t - td)"
   ]
  },
  {
   "cell_type": "code",
   "execution_count": null,
   "id": "13",
   "metadata": {},
   "outputs": [],
   "source": [
    "assume(t > 0)\n",
    "assume(t > td)\n",
    "assume(α > 0)"
   ]
  },
  {
   "cell_type": "code",
   "execution_count": null,
   "id": "14",
   "metadata": {},
   "outputs": [],
   "source": [
    "mdot = integrate(R(t - x), x, 0, t - td)"
   ]
  },
  {
   "cell_type": "code",
   "execution_count": null,
   "id": "15",
   "metadata": {},
   "outputs": [],
   "source": [
    "simplify(mdot)"
   ]
  },
  {
   "cell_type": "code",
   "execution_count": null,
   "id": "16",
   "metadata": {},
   "outputs": [],
   "source": [
    "mdotme = (1/α * (2 - ξ(2, α * (t - td)) - 2*ξ(1, α*(t-td)) - 2 * ξ(0, α*(t-td)) ) )* heaviside(t - td)"
   ]
  },
  {
   "cell_type": "code",
   "execution_count": null,
   "id": "17",
   "metadata": {},
   "outputs": [],
   "source": [
    "n((mdot)(α=1.5, td=0.05)(t=0.1))"
   ]
  },
  {
   "cell_type": "code",
   "execution_count": null,
   "id": "18",
   "metadata": {},
   "outputs": [],
   "source": [
    "n((mdotme)(α=1.5, td=0.05)(t=0.1))"
   ]
  },
  {
   "cell_type": "code",
   "execution_count": null,
   "id": "19",
   "metadata": {},
   "outputs": [],
   "source": [
    "plot((mdot / mdotme)(α=1.5, td=0.05))"
   ]
  },
  {
   "cell_type": "code",
   "execution_count": null,
   "id": "20",
   "metadata": {},
   "outputs": [],
   "source": [
    "Zc = ξ(0, ω*t) * integrate(ξ(0, -ω*x - ω*td) * (\n",
    "    2 - ξ(2, α*x) - 2*ξ(1, α*x) - 2*ξ(0, α*x) ) / α, x, 0, t-td)"
   ]
  },
  {
   "cell_type": "code",
   "execution_count": null,
   "id": "21",
   "metadata": {},
   "outputs": [],
   "source": [
    "k = α / (α - ω)\n",
    "h = ω / (α - ω)\n",
    "dt = t - td"
   ]
  },
  {
   "cell_type": "code",
   "execution_count": null,
   "id": "22",
   "metadata": {},
   "outputs": [],
   "source": [
    "h = k - 1"
   ]
  },
  {
   "cell_type": "code",
   "execution_count": null,
   "id": "23",
   "metadata": {},
   "outputs": [],
   "source": [
    "Zc_me = 1/(α*ω) * (2 - 2*ξ(0, ω*dt)\n",
    "    + 2*h*(k^2 + k + 1) * (ξ(0, α*dt) - ξ(0, ω*dt))\n",
    "    + 2*h*(k+1) * ξ(1, α*dt) + h*ξ(2, α*dt)\n",
    "                  )"
   ]
  },
  {
   "cell_type": "code",
   "execution_count": null,
   "id": "24",
   "metadata": {},
   "outputs": [],
   "source": [
    "Zc_me(α=1.5, td=0.05, ω=2.5)(t=0.1)"
   ]
  },
  {
   "cell_type": "code",
   "execution_count": null,
   "id": "25",
   "metadata": {},
   "outputs": [],
   "source": [
    "Zc(α=1.5, td=0.05, ω=2.5)(t=0.1)"
   ]
  },
  {
   "cell_type": "code",
   "execution_count": null,
   "id": "26",
   "metadata": {},
   "outputs": [],
   "source": [
    "plot((Zc / Zc_me)(α=1.5, td=0.05, ω=2.5))"
   ]
  },
  {
   "cell_type": "code",
   "execution_count": null,
   "id": "27",
   "metadata": {},
   "outputs": [],
   "source": [
    "p1 = plot((Zc)(α=1.5, td=0.05, ω=2.5), xmin=0, xmax=15)\n",
    "p2 = plot((Zc_me)(α=1.5, td=0.05, ω=2.5), xmin=0, xmax=15, color=\"red\")\n",
    "\n",
    "(p1+p2)"
   ]
  },
  {
   "cell_type": "code",
   "execution_count": null,
   "id": "28",
   "metadata": {},
   "outputs": [],
   "source": [
    "var(\"m\")"
   ]
  },
  {
   "cell_type": "code",
   "execution_count": null,
   "id": "29",
   "metadata": {},
   "outputs": [],
   "source": [
    "sum(x**i /factorial(i), i, 0, m).full_simplify()"
   ]
  },
  {
   "cell_type": "code",
   "execution_count": null,
   "id": "30",
   "metadata": {},
   "outputs": [],
   "source": [
    "integral(Ei(-x) * x^2, x)"
   ]
  },
  {
   "cell_type": "markdown",
   "id": "31",
   "metadata": {},
   "source": [
    "# General solutions"
   ]
  },
  {
   "cell_type": "code",
   "execution_count": null,
   "id": "32",
   "metadata": {
    "tags": []
   },
   "outputs": [],
   "source": [
    "ϕn = [1.5, 15, 0.2, 3.5]\n",
    "Sn = [3, 3.25, 2.14, -0.5]\n",
    "τs = 2.05\n",
    "N = len(ϕn)\n",
    "i_n = [3,4,0, 2]"
   ]
  },
  {
   "cell_type": "code",
   "execution_count": null,
   "id": "33",
   "metadata": {
    "tags": []
   },
   "outputs": [],
   "source": [
    "var(\"nn\")\n",
    "assume(\"nn\", \"integer\")"
   ]
  },
  {
   "cell_type": "code",
   "execution_count": null,
   "id": "34",
   "metadata": {
    "tags": []
   },
   "outputs": [],
   "source": [
    "\n",
    "sum(vector(Sn)[nn] for nn in range(N))"
   ]
  },
  {
   "cell_type": "code",
   "execution_count": null,
   "id": "35",
   "metadata": {
    "tags": []
   },
   "outputs": [],
   "source": [
    "Mdotstar = sum(Sn[nn]*ξ(i_n[nn], ϕn[nn]*t) for nn in range(N))\n",
    "Mdotstar"
   ]
  },
  {
   "cell_type": "code",
   "execution_count": null,
   "id": "36",
   "metadata": {
    "tags": []
   },
   "outputs": [],
   "source": [
    "Mg = Mdotstar * τs"
   ]
  },
  {
   "cell_type": "code",
   "execution_count": null,
   "id": "37",
   "metadata": {
    "tags": []
   },
   "outputs": [],
   "source": [
    "Za = ξ(0, ω*t) / (Mg) * integral(ξ(0, -ω*t) * Mdotstar, t, 0, t)"
   ]
  },
  {
   "cell_type": "code",
   "execution_count": null,
   "id": "38",
   "metadata": {
    "tags": []
   },
   "outputs": [],
   "source": [
    "kn = [ϕn[nn]/(ϕn[nn]-ω) for nn in range(N)]"
   ]
  },
  {
   "cell_type": "code",
   "execution_count": null,
   "id": "39",
   "metadata": {
    "tags": []
   },
   "outputs": [],
   "source": [
    "Za_me = 1/Mg * sum(\n",
    "    factorial(i_n[nn]) / (ω - ϕn[nn]) * Sn[nn] * kn[nn]^i_n[nn] * (\n",
    "        -ξ(0, ω*t) + \n",
    "        sum(kn[nn]^-j/factorial(j)  * ξ(j, ϕn[nn]*t) for j in range(i_n[nn]+1))\n",
    "    )\n",
    "    \n",
    "    for nn in range(N)\n",
    ")"
   ]
  },
  {
   "cell_type": "code",
   "execution_count": null,
   "id": "40",
   "metadata": {
    "tags": []
   },
   "outputs": [],
   "source": [
    "plot(Mdotstar, xmin=0, xmax=15)"
   ]
  },
  {
   "cell_type": "code",
   "execution_count": null,
   "id": "41",
   "metadata": {
    "tags": []
   },
   "outputs": [],
   "source": [
    "p1 = plot((Za)(ω=2.12), xmin=0, xmax=15)\n",
    "p2 = plot((Za_me)(ω=2.12), xmin=0, xmax=15, color=\"red\", linestyle=\":\")\n",
    "\n",
    "(p1 + p2)"
   ]
  },
  {
   "cell_type": "code",
   "execution_count": null,
   "id": "42",
   "metadata": {},
   "outputs": [],
   "source": []
  }
 ],
 "metadata": {
  "kernelspec": {
   "display_name": "SageMath 10.5",
   "language": "sage",
   "name": "sagemath-10.5"
  },
  "language_info": {
   "codemirror_mode": {
    "name": "ipython",
    "version": 3
   },
   "file_extension": ".py",
   "mimetype": "text/x-python",
   "name": "python",
   "nbconvert_exporter": "python",
   "pygments_lexer": "ipython3",
   "version": "3.12.5"
  }
 },
 "nbformat": 4,
 "nbformat_minor": 5
}
