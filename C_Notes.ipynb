{
 "cells": [
  {
   "cell_type": "markdown",
   "id": "317048b9-4990-41bf-8b65-64f63f24df88",
   "metadata": {},
   "source": [
    "# Carbon Yield Models\n",
    "\n",
    "## Sources of Carbon\n",
    "\n",
    "There are two main sources of cabon production (and destruction): AGB stars and Core Collapse Supernova (CCSN). \n",
    "\n",
    "$y_C^{agb}$"
   ]
  },
  {
   "cell_type": "markdown",
   "id": "61cb3941-0358-44af-9a5a-9da33020eafd",
   "metadata": {},
   "source": [
    "There is also wide disagreement in the different yields of C due to CCSN. We choose to adopt a fiducial value of $y_C^{ccsn}=0.002$ which is roughly consistant with the values for non-rotating stars. Also not that some studies predict a large net loss of carbon in CCSN especially at high Z (e.g. CL04).\n",
    "\n",
    "![ccns_yields](./figures/CCSN_C_yields_to_Z.jpeg)"
   ]
  },
  {
   "cell_type": "markdown",
   "id": "6e06e988-7fff-49b2-b02e-79692d12bbfd",
   "metadata": {},
   "source": [
    "In AGB stars, there are two processes which change carbon yields, third dredge up (TDU) and hot bottom burning (HBB).\n",
    "\n",
    "TDU happens when during a pusation of a TPAGB star, the convective layer does not contract as quickly as the rest of the layer and reaches into the C/O core of the star, bringing up C to the outer convective layers. We do not have a good understanding of when TDU happens which leads to some of the between-model disagreement in AGB yields.\n",
    "\n",
    "![cristallo11](./figures/yields_C_agb_to_mass_cristallo11.jpeg)\n",
    "\n",
    "![cristallo11](./figures/yields_C_agb_to_mass_karakas10.jpeg)\n",
    "\n",
    "![cristallo11](./figures/yields_C_agb_to_mass_ventura13.jpeg)\n",
    "\n",
    "![cristallo11](./figures/yields_C_agb_to_mass_karakas16.jpeg)\n"
   ]
  },
  {
   "cell_type": "markdown",
   "id": "ca4da2e9-6d1a-421e-a4be-ba93d37341aa",
   "metadata": {},
   "source": [
    "Weighting by the IMF, most of the \n",
    "\n",
    "![weighted_agb_yields](./figures/weighted_yields_C_agb_to_mass_logZ-2.jpeg)"
   ]
  },
  {
   "cell_type": "markdown",
   "id": "dd0598ae-b7a4-4a3d-99e8-75735c1a169d",
   "metadata": {},
   "source": [
    "Using VICE's single stellar population funcion, we can model how the net yield of carbon changes with metallicity and over time for a group of stars born at the same time. \n",
    "\n",
    "For the net mass yield over time, each model has the same qualitative shape, where the initial plateu is definied by what fraction CCSNE provide of the total carbon yield, since different models vary most remarkably on the amount of carbon they produce for each star. Next, the most massive AGB stars eject their envalopes, and all the models predict a negative net yield from 7$M_\\odot$ to about 4-5$M_\\odot$. Next, the lower mass AGB stars which produce most of the carbon yield die causing the increase in carbon yield which slows down as very low mass AGB stars produce less net carbon yield.\n",
    "\n",
    "The final $y_C^{agb}$ against $Z$ demonstrates the differences in metalicity dependence for each model, with Cristallo11 with the softest $Z$ dependence, dropping off closer to $\\log Z \\approx 0$ compared with Karakas10 with the steepest $Z$ dependence dropping at the much lower $\\log Z \\approx -1$. Otherwise, each model again agrees qualitatively.\n",
    "\n",
    "![agb_time_yields](./figures/y_C_agb_to_t.jpeg)\n",
    "![agb_Z_yields](./figures/y_C_AGB_to_Z.jpeg)"
   ]
  },
  {
   "cell_type": "markdown",
   "id": "48a14a3c-314a-4252-83b4-7e6b8a0b1886",
   "metadata": {},
   "source": [
    "An approximate parameterization of $y_C^{agb}$, the net fractional yield of C from AGB stars is:\n",
    "$$\n",
    "y_C^{agb}(M, Z) \\approx m_C^{agb} (1 - \\alpha Z) e^{-( M - M_0 - \\alpha Z)^2}\n",
    "$$\n",
    "where $\\alpha$ is the metalicity dependence and $M_0$ is the center of the gaussian of the AGB yields for $Z=0$.\n",
    "\n",
    "If we use the mass-lifetime relationship $t_{to} = 10\\text{Gyr} \\left({M}/{M_\\odot}\\right)^{-2.5}$, we can find an equation for the net fractional yield over time:\n",
    "$$\n",
    "y_C^{agb}(t, Z) \\approx m_C^{agb} (1 - \\alpha Z) e^{-( (t/10\\text{Gyr})^{-2.5} - M_0 - \\alpha Z)^2}\n",
    "$$"
   ]
  },
  {
   "cell_type": "code",
   "execution_count": null,
   "id": "5203533e-b074-482b-83ce-3893d364899f",
   "metadata": {},
   "outputs": [],
   "source": []
  }
 ],
 "metadata": {
  "kernelspec": {
   "display_name": "Python 3",
   "language": "python",
   "name": "python3"
  },
  "language_info": {
   "codemirror_mode": {
    "name": "ipython",
    "version": 3
   },
   "file_extension": ".py",
   "mimetype": "text/x-python",
   "name": "python",
   "nbconvert_exporter": "python",
   "pygments_lexer": "ipython3",
   "version": "3.6.8"
  }
 },
 "nbformat": 4,
 "nbformat_minor": 5
}
